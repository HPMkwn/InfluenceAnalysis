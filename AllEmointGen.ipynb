{
  "nbformat": 4,
  "nbformat_minor": 0,
  "metadata": {
    "colab": {
      "name": "AllEmointGen.ipynb",
      "provenance": [],
      "collapsed_sections": [],
      "include_colab_link": true
    },
    "kernelspec": {
      "name": "python3",
      "display_name": "Python 3"
    },
    "accelerator": "GPU"
  },
  "cells": [
    {
      "cell_type": "markdown",
      "metadata": {
        "id": "view-in-github",
        "colab_type": "text"
      },
      "source": [
        "<a href=\"https://colab.research.google.com/github/harrymkwn/InfluenceAnalysis/blob/master/AllEmointGen.ipynb\" target=\"_parent\"><img src=\"https://colab.research.google.com/assets/colab-badge.svg\" alt=\"Open In Colab\"/></a>"
      ]
    },
    {
      "cell_type": "code",
      "metadata": {
        "id": "YkuKKcIUmM27",
        "colab": {
          "base_uri": "https://localhost:8080/"
        },
        "outputId": "9f00f945-ecc6-41be-e2a3-57af20132dbc"
      },
      "source": [
        "import pandas as pd\n",
        "import numpy as np\n",
        "import tensorflow as tf\n",
        "from gensim.models import Word2Vec\n",
        "import matplotlib.pyplot as plt\n",
        "from sklearn.linear_model import LogisticRegression\n",
        "from sklearn.multiclass import OneVsRestClassifier\n",
        "from gensim.models import KeyedVectors\n",
        "from sklearn.model_selection import train_test_split\n",
        "from google.colab import  drive\n",
        "drive.mount('/content/drive')\n",
        "import nltk\n",
        "from nltk.corpus import stopwords\n",
        "nltk.download('stopwords')\n",
        "device_name = tf.test.gpu_device_name()\n",
        "print(device_name)\n",
        "df = pd.read_csv('/content/drive/MyDrive/InfluenceAnalysis/Data/Tweets_clean_data.csv')\n",
        "df = df.sample(frac=1)"
      ],
      "execution_count": 1,
      "outputs": [
        {
          "output_type": "stream",
          "text": [
            "Drive already mounted at /content/drive; to attempt to forcibly remount, call drive.mount(\"/content/drive\", force_remount=True).\n",
            "[nltk_data] Downloading package stopwords to /root/nltk_data...\n",
            "[nltk_data]   Package stopwords is already up-to-date!\n",
            "/device:GPU:0\n"
          ],
          "name": "stdout"
        }
      ]
    },
    {
      "cell_type": "code",
      "metadata": {
        "id": "7yV6_xYSnZHt"
      },
      "source": [
        "category_dict = {\"anger\":[1,0,0,0],\"sadness\":[0,1,0,0],\"fear\":[0,0,1,0],\"joy\":[0,0,0,1]}\n",
        "data_tweet = [x.lower().split() for x in df['Tweet']]\n",
        "data_cat = np.array([category_dict[x] for x in df['Emotion']])"
      ],
      "execution_count": 2,
      "outputs": []
    },
    {
      "cell_type": "code",
      "metadata": {
        "id": "4PmA3_Ihp-Ao",
        "colab": {
          "base_uri": "https://localhost:8080/"
        },
        "outputId": "1e6382d5-06aa-466e-b15d-2029143ec64e"
      },
      "source": [
        "print(data_tweet[:5])\n",
        "print(data_cat[:5])"
      ],
      "execution_count": 3,
      "outputs": [
        {
          "output_type": "stream",
          "text": [
            "[['everything', 'is', 'far', 'away', 'because', 'time', 'is', 'short', 'no', 'rest', 'for', 'the', 'weary'], ['please', 'stop', 'your', 'merriment', 'it', 'is', 'very', 'annoying'], ['nwe', 'cannot', 'forget', 'd', 'past', 'but', 'while', 'we', 'apprehend', 'and', 'punish', 'd', 'culprits', 'of', 'the', 'pastare', 'we', 'going', 'to', 'allow', 'd', 'present', 'to', 'slip', 'away'], ['katie', 'i', 'love', 'how', 'you', 'describe', 'yourself', 'as', 'normal', 'really', 'you', 'are', 'anything', 'but', 'neverchange'], ['i', 'understand', 'your', 'concerns', 'but', 'lok', 'at', 'her', 'foundation', 'contributions']]\n",
            "[[0 1 0 0]\n",
            " [0 0 0 1]\n",
            " [0 0 1 0]\n",
            " [0 0 0 1]\n",
            " [0 0 1 0]]\n"
          ],
          "name": "stdout"
        }
      ]
    },
    {
      "cell_type": "code",
      "metadata": {
        "id": "5mIV-pI5C44j"
      },
      "source": [
        "# Parameters\n",
        "Min_count = 0\n",
        "Embedding_size = 100\n",
        "Window_size = 5\n",
        "Negative_sampling = 00"
      ],
      "execution_count": 4,
      "outputs": []
    },
    {
      "cell_type": "code",
      "metadata": {
        "id": "uUSBfiE0nTVv",
        "colab": {
          "base_uri": "https://localhost:8080/"
        },
        "outputId": "eb00166c-f2a8-4430-e1ec-812729400f01"
      },
      "source": [
        "w2v_sg = Word2Vec(min_count=Min_count,\n",
        "                     window=Window_size,\n",
        "                     size=Embedding_size,\n",
        "                     negative=Negative_sampling,sg=1)\n",
        "w2v_sg.build_vocab(data_tweet)\n",
        "w2v_sg.train(data_tweet, total_examples=w2v_sg.corpus_count, epochs=5)\n",
        "w2v_cbow = Word2Vec(min_count=Min_count,\n",
        "                     window=Window_size,\n",
        "                     size=Embedding_size,\n",
        "                     negative=Negative_sampling,sg=0)\n",
        "w2v_cbow.build_vocab(data_tweet)\n",
        "w2v_cbow.train(data_tweet, total_examples=w2v_cbow.corpus_count, epochs=5)"
      ],
      "execution_count": 5,
      "outputs": [
        {
          "output_type": "execute_result",
          "data": {
            "text/plain": [
              "(475034, 595345)"
            ]
          },
          "metadata": {
            "tags": []
          },
          "execution_count": 5
        }
      ]
    },
    {
      "cell_type": "code",
      "metadata": {
        "id": "gVzquoxb6FQJ"
      },
      "source": [
        "vocab_sg = w2v_sg.wv.vocab\n",
        "vocab_sg = [x for x in vocab_sg]\n",
        "vocab_cbow = w2v_cbow.wv.vocab\n",
        "vocab_cbow = [x for x in vocab_cbow] \n",
        "vocab_glove = {}\n",
        "with open(\"/content/drive/My Drive/InfluenceAnalysis/glove/glove.twitter.27B.100d.txt\", 'r', encoding=\"utf-8\") as f:\n",
        "  for line in f:\n",
        "      values = line.split()\n",
        "      word = values[0]\n",
        "      vector = np.asarray(values[1:], \"float32\")\n",
        "      vocab_glove[word] = vector"
      ],
      "execution_count": 6,
      "outputs": []
    },
    {
      "cell_type": "code",
      "metadata": {
        "id": "rdgSI9FSmw60"
      },
      "source": [
        "batch_size = 100\r\n",
        "Max_input_size = max([len(x) for x in data_tweet])\r\n"
      ],
      "execution_count": 7,
      "outputs": []
    },
    {
      "cell_type": "code",
      "metadata": {
        "id": "ArwAlW-wmZxv"
      },
      "source": [
        "def vec_gen(w2v,vocab,data_tweet,data_cat,batch_size,Max_input_size,Embedding_size):\r\n",
        "  while True:\r\n",
        "    for k in range(int(len(data_tweet)/batch_size)):\r\n",
        "      temp = np.array([np.array([w2v.wv.get_vector(i) for i in x if i in vocab]) for x in data_tweet[k*(batch_size):(k+1)*(batch_size)]])\r\n",
        "      temp = np.array([np.pad(x.flatten(),(0,Max_input_size*Embedding_size-len(x.flatten()))).reshape(Max_input_size,Embedding_size) for x in temp])\r\n",
        "      tempres = data_cat[k*(batch_size):(k+1)*(batch_size)]\r\n",
        "      yield (temp,tempres)\r\n",
        "\r\n",
        "def glove_gen(vocab,data_tweet,data_cat,batch_size,Max_input_size,Embedding_size=100):\r\n",
        "  while True:\r\n",
        "    for k in range(int(len(data_tweet)/batch_size)):\r\n",
        "      temp = np.array([np.array([vocab[i] for i in x if i in vocab.keys()]) for x in data_tweet[k*(batch_size):(k+1)*(batch_size)]])\r\n",
        "      temp = np.array([np.pad(x.flatten(),(0,Max_input_size*Embedding_size-len(x.flatten()))).reshape(Max_input_size,Embedding_size) for x in temp])\r\n",
        "      tempres = data_cat[k*(batch_size):(k+1)*(batch_size)]\r\n",
        "      yield (temp,tempres)\r\n"
      ],
      "execution_count": 8,
      "outputs": []
    },
    {
      "cell_type": "code",
      "metadata": {
        "id": "-Fue2npdFINi"
      },
      "source": [
        "X_train, X_test, y_train, y_test = train_test_split(data_tweet, data_cat, test_size=0.30, random_state=42)\n",
        "result_table = []"
      ],
      "execution_count": 9,
      "outputs": []
    },
    {
      "cell_type": "code",
      "metadata": {
        "id": "0leTuTOb3naL"
      },
      "source": [
        "epochs = 20"
      ],
      "execution_count": 10,
      "outputs": []
    },
    {
      "cell_type": "code",
      "metadata": {
        "id": "1GfgXfAFlD1J",
        "colab": {
          "base_uri": "https://localhost:8080/"
        },
        "outputId": "d8ffe354-8aaa-4fab-c933-b6ff84e0144a"
      },
      "source": [
        "model_sg = tf.keras.Sequential()\n",
        "model_sg.add(tf.keras.Input(shape=(Max_input_size,Embedding_size)))\n",
        "model_sg.add(tf.keras.layers.LSTM(50))\n",
        "model_sg.add(tf.keras.layers.Dense(4, activation='softmax'))\n",
        "model_sg.compile(loss='categorical_crossentropy',optimizer='adam', \n",
        "                           metrics=['accuracy'])\n",
        "history = model_sg.fit_generator(generator = vec_gen(w2v_sg,vocab_sg,X_train,y_train,batch_size,Max_input_size,Embedding_size),steps_per_epoch=int(len(X_train)/batch_size),epochs=epochs)\n",
        "history = model_sg.evaluate(x = vec_gen(w2v_sg,vocab_sg,X_test,y_test,batch_size,Max_input_size,Embedding_size),steps=int(len(y_test)/batch_size))\n",
        "print(history)\n",
        "\n",
        "result_table+=[history[1]]\n",
        "print(\"SG_LSTM\")\n"
      ],
      "execution_count": 11,
      "outputs": [
        {
          "output_type": "stream",
          "text": [
            "WARNING:tensorflow:From <ipython-input-11-7d1045bb60da>:7: Model.fit_generator (from tensorflow.python.keras.engine.training) is deprecated and will be removed in a future version.\n",
            "Instructions for updating:\n",
            "Please use Model.fit, which supports generators.\n",
            "Epoch 1/20\n",
            "49/49 [==============================] - 3s 54ms/step - loss: 1.3783 - accuracy: 0.3147\n",
            "Epoch 2/20\n",
            "49/49 [==============================] - 3s 56ms/step - loss: 1.3747 - accuracy: 0.3182\n",
            "Epoch 3/20\n",
            "49/49 [==============================] - 3s 56ms/step - loss: 1.3746 - accuracy: 0.3182\n",
            "Epoch 4/20\n",
            "49/49 [==============================] - 3s 56ms/step - loss: 1.3745 - accuracy: 0.3182\n",
            "Epoch 5/20\n",
            "49/49 [==============================] - 3s 55ms/step - loss: 1.3745 - accuracy: 0.3182\n",
            "Epoch 6/20\n",
            "49/49 [==============================] - 3s 56ms/step - loss: 1.3745 - accuracy: 0.3182\n",
            "Epoch 7/20\n",
            "49/49 [==============================] - 3s 56ms/step - loss: 1.3745 - accuracy: 0.3182\n",
            "Epoch 8/20\n",
            "49/49 [==============================] - 3s 56ms/step - loss: 1.3745 - accuracy: 0.3182\n",
            "Epoch 9/20\n",
            "49/49 [==============================] - 3s 55ms/step - loss: 1.3744 - accuracy: 0.3182\n",
            "Epoch 10/20\n",
            "49/49 [==============================] - 3s 56ms/step - loss: 1.3744 - accuracy: 0.3182\n",
            "Epoch 11/20\n",
            "49/49 [==============================] - 3s 55ms/step - loss: 1.3744 - accuracy: 0.3182\n",
            "Epoch 12/20\n",
            "49/49 [==============================] - 3s 56ms/step - loss: 1.3744 - accuracy: 0.3182\n",
            "Epoch 13/20\n",
            "49/49 [==============================] - 3s 55ms/step - loss: 1.3744 - accuracy: 0.3182\n",
            "Epoch 14/20\n",
            "49/49 [==============================] - 3s 54ms/step - loss: 1.3744 - accuracy: 0.3182\n",
            "Epoch 15/20\n",
            "49/49 [==============================] - 3s 55ms/step - loss: 1.3744 - accuracy: 0.3182\n",
            "Epoch 16/20\n",
            "49/49 [==============================] - 3s 56ms/step - loss: 1.3744 - accuracy: 0.3182\n",
            "Epoch 17/20\n",
            "49/49 [==============================] - 3s 56ms/step - loss: 1.3744 - accuracy: 0.3182\n",
            "Epoch 18/20\n",
            "49/49 [==============================] - 3s 56ms/step - loss: 1.3743 - accuracy: 0.3182\n",
            "Epoch 19/20\n",
            "49/49 [==============================] - 3s 56ms/step - loss: 1.3743 - accuracy: 0.3182\n",
            "Epoch 20/20\n",
            "49/49 [==============================] - 3s 56ms/step - loss: 1.3743 - accuracy: 0.3182\n",
            "21/21 [==============================] - 1s 54ms/step - loss: 1.3738 - accuracy: 0.3186\n",
            "[1.3737930059432983, 0.31857141852378845]\n",
            "SG_LSTM\n"
          ],
          "name": "stdout"
        }
      ]
    },
    {
      "cell_type": "code",
      "metadata": {
        "colab": {
          "base_uri": "https://localhost:8080/"
        },
        "id": "eJHtKjzc1SA8",
        "outputId": "6c116aa8-ad6c-4acd-ddde-1682f291d806"
      },
      "source": [
        "model_sg_bi = tf.keras.Sequential()\r\n",
        "model_sg_bi.add(tf.keras.Input(shape=(Max_input_size,Embedding_size)))\r\n",
        "model_sg_bi.add(tf.keras.layers.Bidirectional(tf.keras.layers.LSTM(50),merge_mode='concat'))\r\n",
        "model_sg_bi.add(tf.keras.layers.Dense(4, activation='softmax'))\r\n",
        "model_sg_bi.compile(loss='categorical_crossentropy',optimizer='adam', \r\n",
        "                           metrics=['accuracy'])\r\n",
        "history = model_sg_bi.fit_generator(generator = vec_gen(w2v_sg,vocab_sg,X_train,y_train,batch_size,Max_input_size,Embedding_size),steps_per_epoch=int(len(X_train)/batch_size),epochs=epochs)\r\n",
        "history = model_sg_bi.evaluate(x = vec_gen(w2v_sg,vocab_sg,X_test,y_test,batch_size,Max_input_size,Embedding_size),steps=int(len(y_test)/batch_size))\r\n",
        "print(history)\r\n",
        "\r\n",
        "result_table+=[history[1]]\r\n",
        "print(\"SG_BI\")"
      ],
      "execution_count": 12,
      "outputs": [
        {
          "output_type": "stream",
          "text": [
            "Epoch 1/20\n",
            "49/49 [==============================] - 3s 56ms/step - loss: 1.3772 - accuracy: 0.3171\n",
            "Epoch 2/20\n",
            "49/49 [==============================] - 3s 57ms/step - loss: 1.3744 - accuracy: 0.3182\n",
            "Epoch 3/20\n",
            "49/49 [==============================] - 3s 57ms/step - loss: 1.3741 - accuracy: 0.3182\n",
            "Epoch 4/20\n",
            "49/49 [==============================] - 3s 59ms/step - loss: 1.3739 - accuracy: 0.3182\n",
            "Epoch 5/20\n",
            "49/49 [==============================] - 3s 58ms/step - loss: 1.3736 - accuracy: 0.3182\n",
            "Epoch 6/20\n",
            "49/49 [==============================] - 3s 58ms/step - loss: 1.3732 - accuracy: 0.3182\n",
            "Epoch 7/20\n",
            "49/49 [==============================] - 3s 58ms/step - loss: 1.3724 - accuracy: 0.3182\n",
            "Epoch 8/20\n",
            "49/49 [==============================] - 3s 57ms/step - loss: 1.3717 - accuracy: 0.3190\n",
            "Epoch 9/20\n",
            "49/49 [==============================] - 3s 58ms/step - loss: 1.3720 - accuracy: 0.3233\n",
            "Epoch 10/20\n",
            "49/49 [==============================] - 3s 58ms/step - loss: 1.3708 - accuracy: 0.3202\n",
            "Epoch 11/20\n",
            "49/49 [==============================] - 3s 57ms/step - loss: 1.3686 - accuracy: 0.3182\n",
            "Epoch 12/20\n",
            "49/49 [==============================] - 3s 56ms/step - loss: 1.3660 - accuracy: 0.3208\n",
            "Epoch 13/20\n",
            "49/49 [==============================] - 3s 57ms/step - loss: 1.3770 - accuracy: 0.3239\n",
            "Epoch 14/20\n",
            "49/49 [==============================] - 3s 58ms/step - loss: 1.3665 - accuracy: 0.3239\n",
            "Epoch 15/20\n",
            "49/49 [==============================] - 3s 56ms/step - loss: 1.3646 - accuracy: 0.3231\n",
            "Epoch 16/20\n",
            "49/49 [==============================] - 3s 57ms/step - loss: 1.3628 - accuracy: 0.3243\n",
            "Epoch 17/20\n",
            "49/49 [==============================] - 3s 57ms/step - loss: 1.3602 - accuracy: 0.3288\n",
            "Epoch 18/20\n",
            "49/49 [==============================] - 3s 59ms/step - loss: 1.3558 - accuracy: 0.3333\n",
            "Epoch 19/20\n",
            "49/49 [==============================] - 3s 57ms/step - loss: 1.3490 - accuracy: 0.3408\n",
            "Epoch 20/20\n",
            "49/49 [==============================] - 3s 56ms/step - loss: 1.3449 - accuracy: 0.3504\n",
            " 1/21 [>.............................] - ETA: 0s - loss: 1.3664 - accuracy: 0.3000WARNING:tensorflow:Callbacks method `on_test_batch_end` is slow compared to the batch time (batch time: 0.0170s vs `on_test_batch_end` time: 0.0270s). Check your callbacks.\n",
            "21/21 [==============================] - 1s 51ms/step - loss: 1.3608 - accuracy: 0.3267\n",
            "[1.3608349561691284, 0.3266666531562805]\n",
            "SG_BI\n"
          ],
          "name": "stdout"
        }
      ]
    },
    {
      "cell_type": "code",
      "metadata": {
        "colab": {
          "base_uri": "https://localhost:8080/"
        },
        "id": "opfhhYPH1VoL",
        "outputId": "941634c8-3f19-425c-f3e7-8b67edfae14e"
      },
      "source": [
        "model_sg_rnn = tf.keras.Sequential()\r\n",
        "model_sg_rnn.add(tf.keras.Input(shape=(Max_input_size,Embedding_size)))\r\n",
        "model_sg_rnn.add(tf.keras.layers.SimpleRNN(50))\r\n",
        "model_sg_rnn.add(tf.keras.layers.Dense(4, activation='softmax'))\r\n",
        "model_sg_rnn.compile(loss='categorical_crossentropy',optimizer='adam', \r\n",
        "                           metrics=['accuracy'])\r\n",
        "history = model_sg_rnn.fit_generator(generator = vec_gen(w2v_sg,vocab_sg,X_train,y_train,batch_size,Max_input_size,Embedding_size),steps_per_epoch=int(len(X_train)/batch_size),epochs=epochs)\r\n",
        "history = model_sg_rnn.evaluate(x = vec_gen(w2v_sg,vocab_sg,X_test,y_test,batch_size,Max_input_size,Embedding_size),steps=int(len(y_test)/batch_size))\r\n",
        "print(history)\r\n",
        "\r\n",
        "result_table+=[history[1]]\r\n",
        "print(\"SG_RNN\")"
      ],
      "execution_count": 13,
      "outputs": [
        {
          "output_type": "stream",
          "text": [
            "Epoch 1/20\n",
            "49/49 [==============================] - 4s 78ms/step - loss: 1.3781 - accuracy: 0.3061\n",
            "Epoch 2/20\n",
            "49/49 [==============================] - 4s 79ms/step - loss: 1.3705 - accuracy: 0.3165\n",
            "Epoch 3/20\n",
            "49/49 [==============================] - 4s 79ms/step - loss: 1.3691 - accuracy: 0.3235\n",
            "Epoch 4/20\n",
            "49/49 [==============================] - 4s 78ms/step - loss: 1.3728 - accuracy: 0.3139\n",
            "Epoch 5/20\n",
            "49/49 [==============================] - 4s 78ms/step - loss: 1.3621 - accuracy: 0.3282\n",
            "Epoch 6/20\n",
            "49/49 [==============================] - 4s 78ms/step - loss: 1.3610 - accuracy: 0.3310\n",
            "Epoch 7/20\n",
            "49/49 [==============================] - 4s 79ms/step - loss: 1.3612 - accuracy: 0.3261\n",
            "Epoch 8/20\n",
            "49/49 [==============================] - 4s 80ms/step - loss: 1.3566 - accuracy: 0.3363\n",
            "Epoch 9/20\n",
            "49/49 [==============================] - 4s 79ms/step - loss: 1.3470 - accuracy: 0.3439\n",
            "Epoch 10/20\n",
            "49/49 [==============================] - 4s 81ms/step - loss: 1.3497 - accuracy: 0.3388\n",
            "Epoch 11/20\n",
            "49/49 [==============================] - 4s 79ms/step - loss: 1.3553 - accuracy: 0.3367\n",
            "Epoch 12/20\n",
            "49/49 [==============================] - 4s 79ms/step - loss: 1.3442 - accuracy: 0.3429\n",
            "Epoch 13/20\n",
            "49/49 [==============================] - 4s 78ms/step - loss: 1.3402 - accuracy: 0.3480\n",
            "Epoch 14/20\n",
            "49/49 [==============================] - 4s 78ms/step - loss: 1.3499 - accuracy: 0.3498\n",
            "Epoch 15/20\n",
            "49/49 [==============================] - 4s 79ms/step - loss: 1.3412 - accuracy: 0.3602\n",
            "Epoch 16/20\n",
            "49/49 [==============================] - 4s 79ms/step - loss: 1.3369 - accuracy: 0.3639\n",
            "Epoch 17/20\n",
            "49/49 [==============================] - 4s 80ms/step - loss: 1.3318 - accuracy: 0.3653\n",
            "Epoch 18/20\n",
            "49/49 [==============================] - 4s 77ms/step - loss: 1.3485 - accuracy: 0.3463\n",
            "Epoch 19/20\n",
            "49/49 [==============================] - 4s 78ms/step - loss: 1.3424 - accuracy: 0.3535\n",
            "Epoch 20/20\n",
            "49/49 [==============================] - 4s 79ms/step - loss: 1.3332 - accuracy: 0.3661\n",
            " 2/21 [=>............................] - ETA: 0s - loss: 1.3987 - accuracy: 0.3050WARNING:tensorflow:Callbacks method `on_test_batch_end` is slow compared to the batch time (batch time: 0.0158s vs `on_test_batch_end` time: 0.0463s). Check your callbacks.\n",
            "21/21 [==============================] - 1s 56ms/step - loss: 1.3946 - accuracy: 0.3176\n",
            "[1.394570231437683, 0.31761905550956726]\n",
            "SG_RNN\n"
          ],
          "name": "stdout"
        }
      ]
    },
    {
      "cell_type": "code",
      "metadata": {
        "colab": {
          "base_uri": "https://localhost:8080/"
        },
        "id": "YumD1M9Y1Xxr",
        "outputId": "f8f47998-0232-4bf8-90fe-86b853dcfcd0"
      },
      "source": [
        "model_cbow = tf.keras.Sequential()\r\n",
        "model_cbow.add(tf.keras.Input(shape=(Max_input_size,Embedding_size)))\r\n",
        "model_cbow.add(tf.keras.layers.LSTM(50))\r\n",
        "model_cbow.add(tf.keras.layers.Dense(4, activation='softmax'))\r\n",
        "model_cbow.compile(loss='categorical_crossentropy',optimizer='adam', \r\n",
        "                           metrics=['accuracy'])\r\n",
        "history = model_cbow.fit_generator(generator = vec_gen(w2v_cbow,vocab_cbow,X_train,y_train,batch_size,Max_input_size,Embedding_size),steps_per_epoch=int(len(X_train)/batch_size),epochs=epochs)\r\n",
        "history = model_cbow.evaluate(x = vec_gen(w2v_cbow,vocab_cbow,X_test,y_test,batch_size,Max_input_size,Embedding_size),steps=int(len(y_test)/batch_size))\r\n",
        "print(history)\r\n",
        "\r\n",
        "result_table+=[history[1]]\r\n",
        "print(\"CBOW_LSTM\")"
      ],
      "execution_count": 14,
      "outputs": [
        {
          "output_type": "stream",
          "text": [
            "Epoch 1/20\n",
            "49/49 [==============================] - 3s 55ms/step - loss: 1.3775 - accuracy: 0.3149\n",
            "Epoch 2/20\n",
            "49/49 [==============================] - 3s 54ms/step - loss: 1.3747 - accuracy: 0.3182\n",
            "Epoch 3/20\n",
            "49/49 [==============================] - 3s 56ms/step - loss: 1.3746 - accuracy: 0.3182\n",
            "Epoch 4/20\n",
            "49/49 [==============================] - 3s 56ms/step - loss: 1.3746 - accuracy: 0.3182\n",
            "Epoch 5/20\n",
            "49/49 [==============================] - 3s 55ms/step - loss: 1.3745 - accuracy: 0.3182\n",
            "Epoch 6/20\n",
            "49/49 [==============================] - 3s 61ms/step - loss: 1.3745 - accuracy: 0.3182\n",
            "Epoch 7/20\n",
            "49/49 [==============================] - 3s 60ms/step - loss: 1.3745 - accuracy: 0.3182\n",
            "Epoch 8/20\n",
            "49/49 [==============================] - 3s 62ms/step - loss: 1.3745 - accuracy: 0.3182\n",
            "Epoch 9/20\n",
            "49/49 [==============================] - 3s 58ms/step - loss: 1.3744 - accuracy: 0.3182\n",
            "Epoch 10/20\n",
            "49/49 [==============================] - 3s 56ms/step - loss: 1.3744 - accuracy: 0.3182\n",
            "Epoch 11/20\n",
            "49/49 [==============================] - 3s 56ms/step - loss: 1.3744 - accuracy: 0.3182\n",
            "Epoch 12/20\n",
            "49/49 [==============================] - 3s 57ms/step - loss: 1.3744 - accuracy: 0.3182\n",
            "Epoch 13/20\n",
            "49/49 [==============================] - 3s 57ms/step - loss: 1.3744 - accuracy: 0.3182\n",
            "Epoch 14/20\n",
            "49/49 [==============================] - 3s 57ms/step - loss: 1.3744 - accuracy: 0.3182\n",
            "Epoch 15/20\n",
            "49/49 [==============================] - 3s 57ms/step - loss: 1.3744 - accuracy: 0.3182\n",
            "Epoch 16/20\n",
            "49/49 [==============================] - 3s 57ms/step - loss: 1.3744 - accuracy: 0.3182\n",
            "Epoch 17/20\n",
            "49/49 [==============================] - 3s 56ms/step - loss: 1.3744 - accuracy: 0.3182\n",
            "Epoch 18/20\n",
            "49/49 [==============================] - 3s 55ms/step - loss: 1.3743 - accuracy: 0.3182\n",
            "Epoch 19/20\n",
            "49/49 [==============================] - 3s 55ms/step - loss: 1.3743 - accuracy: 0.3182\n",
            "Epoch 20/20\n",
            "49/49 [==============================] - 3s 56ms/step - loss: 1.3743 - accuracy: 0.3182\n",
            "21/21 [==============================] - 1s 54ms/step - loss: 1.3738 - accuracy: 0.3186\n",
            "[1.3737937211990356, 0.31857141852378845]\n",
            "CBOW_LSTM\n"
          ],
          "name": "stdout"
        }
      ]
    },
    {
      "cell_type": "code",
      "metadata": {
        "colab": {
          "base_uri": "https://localhost:8080/"
        },
        "id": "01yVMiF41ZtT",
        "outputId": "c2a0f82d-af11-48e1-f9c9-97ff21cde6f2"
      },
      "source": [
        "model_cbow_bi = tf.keras.Sequential()\r\n",
        "model_cbow_bi.add(tf.keras.Input(shape=(Max_input_size,Embedding_size)))\r\n",
        "model_cbow_bi.add(tf.keras.layers.Bidirectional(tf.keras.layers.LSTM(50),merge_mode='concat'))\r\n",
        "model_cbow_bi.add(tf.keras.layers.Dense(4, activation='softmax'))\r\n",
        "model_cbow_bi.compile(loss='categorical_crossentropy',optimizer='adam', \r\n",
        "                           metrics=['accuracy'])\r\n",
        "history = model_cbow_bi.fit_generator(generator = vec_gen(w2v_cbow,vocab_cbow,X_train,y_train,batch_size,Max_input_size,Embedding_size),steps_per_epoch=int(len(X_train)/batch_size),epochs=epochs)\r\n",
        "history = model_cbow_bi.evaluate(x = vec_gen(w2v_cbow,vocab_cbow,X_test,y_test,batch_size,Max_input_size,Embedding_size),steps=int(len(y_test)/batch_size))\r\n",
        "print(history)\r\n",
        "\r\n",
        "result_table+=[history[1]]\r\n",
        "print(\"CBOW_BI\")"
      ],
      "execution_count": 15,
      "outputs": [
        {
          "output_type": "stream",
          "text": [
            "Epoch 1/20\n",
            "49/49 [==============================] - 3s 58ms/step - loss: 1.3770 - accuracy: 0.3167\n",
            "Epoch 2/20\n",
            "49/49 [==============================] - 3s 58ms/step - loss: 1.3745 - accuracy: 0.3182\n",
            "Epoch 3/20\n",
            "49/49 [==============================] - 3s 56ms/step - loss: 1.3742 - accuracy: 0.3182\n",
            "Epoch 4/20\n",
            "49/49 [==============================] - 3s 57ms/step - loss: 1.3740 - accuracy: 0.3182\n",
            "Epoch 5/20\n",
            "49/49 [==============================] - 3s 56ms/step - loss: 1.3737 - accuracy: 0.3182\n",
            "Epoch 6/20\n",
            "49/49 [==============================] - 3s 56ms/step - loss: 1.3734 - accuracy: 0.3182\n",
            "Epoch 7/20\n",
            "49/49 [==============================] - 3s 56ms/step - loss: 1.3730 - accuracy: 0.3182\n",
            "Epoch 8/20\n",
            "49/49 [==============================] - 3s 57ms/step - loss: 1.3725 - accuracy: 0.3182\n",
            "Epoch 9/20\n",
            "49/49 [==============================] - 3s 57ms/step - loss: 1.3718 - accuracy: 0.3182\n",
            "Epoch 10/20\n",
            "49/49 [==============================] - 3s 56ms/step - loss: 1.3696 - accuracy: 0.3192\n",
            "Epoch 11/20\n",
            "49/49 [==============================] - 3s 57ms/step - loss: 1.3727 - accuracy: 0.3206\n",
            "Epoch 12/20\n",
            "49/49 [==============================] - 3s 56ms/step - loss: 1.3684 - accuracy: 0.3182\n",
            "Epoch 13/20\n",
            "49/49 [==============================] - 3s 57ms/step - loss: 1.3664 - accuracy: 0.3182\n",
            "Epoch 14/20\n",
            "49/49 [==============================] - 3s 58ms/step - loss: 1.3629 - accuracy: 0.3214\n",
            "Epoch 15/20\n",
            "49/49 [==============================] - 3s 57ms/step - loss: 1.3618 - accuracy: 0.3343\n",
            "Epoch 16/20\n",
            "49/49 [==============================] - 3s 56ms/step - loss: 1.3570 - accuracy: 0.3273\n",
            "Epoch 17/20\n",
            "49/49 [==============================] - 3s 57ms/step - loss: 1.3951 - accuracy: 0.2818\n",
            "Epoch 18/20\n",
            "49/49 [==============================] - 3s 57ms/step - loss: 1.3655 - accuracy: 0.3229\n",
            "Epoch 19/20\n",
            "49/49 [==============================] - 3s 58ms/step - loss: 1.3636 - accuracy: 0.3220\n",
            "Epoch 20/20\n",
            "49/49 [==============================] - 3s 58ms/step - loss: 1.3625 - accuracy: 0.3241\n",
            " 1/21 [>.............................] - ETA: 0s - loss: 1.3715 - accuracy: 0.3000WARNING:tensorflow:Callbacks method `on_test_batch_end` is slow compared to the batch time (batch time: 0.0163s vs `on_test_batch_end` time: 0.0283s). Check your callbacks.\n",
            "21/21 [==============================] - 1s 54ms/step - loss: 1.3667 - accuracy: 0.3262\n",
            "[1.3666623830795288, 0.3261904716491699]\n",
            "CBOW_BI\n"
          ],
          "name": "stdout"
        }
      ]
    },
    {
      "cell_type": "code",
      "metadata": {
        "colab": {
          "base_uri": "https://localhost:8080/"
        },
        "id": "N_G3Ff5r1bSD",
        "outputId": "aac7d9b6-31a3-4aac-9d03-480de2f787f2"
      },
      "source": [
        "model_cbow_rnn = tf.keras.Sequential()\r\n",
        "model_cbow_rnn.add(tf.keras.Input(shape=(Max_input_size,Embedding_size)))\r\n",
        "model_cbow_rnn.add(tf.keras.layers.SimpleRNN(50))\r\n",
        "model_cbow_rnn.add(tf.keras.layers.Dense(4, activation='softmax'))\r\n",
        "model_cbow_rnn.compile(loss='categorical_crossentropy',optimizer='adam', \r\n",
        "                           metrics=['accuracy'])\r\n",
        "history = model_cbow_rnn.fit_generator(generator = vec_gen(w2v_cbow,vocab_cbow,X_train,y_train,batch_size,Max_input_size,Embedding_size),steps_per_epoch=int(len(X_train)/batch_size),epochs=epochs)\r\n",
        "history = model_cbow_rnn.evaluate(x = vec_gen(w2v_cbow,vocab_cbow,X_test,y_test,batch_size,Max_input_size,Embedding_size),steps=int(len(y_test)/batch_size))\r\n",
        "print(history)\r\n",
        "\r\n",
        "result_table+=[history[1]]\r\n",
        "print(\"CBOW_RNN\")"
      ],
      "execution_count": 16,
      "outputs": [
        {
          "output_type": "stream",
          "text": [
            "Epoch 1/20\n",
            "49/49 [==============================] - 4s 80ms/step - loss: 1.3778 - accuracy: 0.3076\n",
            "Epoch 2/20\n",
            "49/49 [==============================] - 4s 80ms/step - loss: 1.3743 - accuracy: 0.3178\n",
            "Epoch 3/20\n",
            "49/49 [==============================] - 4s 78ms/step - loss: 1.3717 - accuracy: 0.3135\n",
            "Epoch 4/20\n",
            "49/49 [==============================] - 4s 77ms/step - loss: 1.3695 - accuracy: 0.3208\n",
            "Epoch 5/20\n",
            "49/49 [==============================] - 4s 78ms/step - loss: 1.3615 - accuracy: 0.3320\n",
            "Epoch 6/20\n",
            "49/49 [==============================] - 4s 77ms/step - loss: 1.3633 - accuracy: 0.3276\n",
            "Epoch 7/20\n",
            "49/49 [==============================] - 4s 79ms/step - loss: 1.3624 - accuracy: 0.3306\n",
            "Epoch 8/20\n",
            "49/49 [==============================] - 4s 78ms/step - loss: 1.3622 - accuracy: 0.3331\n",
            "Epoch 9/20\n",
            "49/49 [==============================] - 4s 78ms/step - loss: 1.3554 - accuracy: 0.3324\n",
            "Epoch 10/20\n",
            "49/49 [==============================] - 4s 77ms/step - loss: 1.3595 - accuracy: 0.3290\n",
            "Epoch 11/20\n",
            "49/49 [==============================] - 4s 80ms/step - loss: 1.3599 - accuracy: 0.3322\n",
            "Epoch 12/20\n",
            "49/49 [==============================] - 4s 80ms/step - loss: 1.3551 - accuracy: 0.3420\n",
            "Epoch 13/20\n",
            "49/49 [==============================] - 4s 78ms/step - loss: 1.3499 - accuracy: 0.3435\n",
            "Epoch 14/20\n",
            "49/49 [==============================] - 4s 77ms/step - loss: 1.3405 - accuracy: 0.3588\n",
            "Epoch 15/20\n",
            "49/49 [==============================] - 4s 77ms/step - loss: 1.3383 - accuracy: 0.3651\n",
            "Epoch 16/20\n",
            "49/49 [==============================] - 4s 79ms/step - loss: 1.3377 - accuracy: 0.3629\n",
            "Epoch 17/20\n",
            "49/49 [==============================] - 4s 78ms/step - loss: 1.3337 - accuracy: 0.3688\n",
            "Epoch 18/20\n",
            "49/49 [==============================] - 4s 78ms/step - loss: 1.3467 - accuracy: 0.3416\n",
            "Epoch 19/20\n",
            "49/49 [==============================] - 4s 79ms/step - loss: 1.3452 - accuracy: 0.3396\n",
            "Epoch 20/20\n",
            "49/49 [==============================] - 4s 80ms/step - loss: 1.3287 - accuracy: 0.3653\n",
            "21/21 [==============================] - 1s 56ms/step - loss: 1.3940 - accuracy: 0.3062\n",
            "[1.393985390663147, 0.30619049072265625]\n",
            "CBOW_RNN\n"
          ],
          "name": "stdout"
        }
      ]
    },
    {
      "cell_type": "code",
      "metadata": {
        "colab": {
          "base_uri": "https://localhost:8080/"
        },
        "id": "czoFmEwK1dWT",
        "outputId": "6a521c58-e369-4e4b-c0b0-07fdcead765c"
      },
      "source": [
        "model_glove = tf.keras.Sequential()\r\n",
        "model_glove.add(tf.keras.Input(shape=(Max_input_size,100)))\r\n",
        "model_glove.add(tf.keras.layers.LSTM(50))\r\n",
        "model_glove.add(tf.keras.layers.Dense(4, activation='softmax'))\r\n",
        "model_glove.compile(loss='categorical_crossentropy',optimizer='adam', \r\n",
        "                           metrics=['accuracy'])\r\n",
        "history = model_glove.fit_generator(generator = glove_gen(vocab_glove,X_train,y_train,batch_size,Max_input_size,Embedding_size=100),steps_per_epoch=int(len(X_train)/batch_size),epochs=epochs)\r\n",
        "history = model_glove.evaluate(x = glove_gen(vocab_glove,X_test,y_test,batch_size,Max_input_size,Embedding_size=100),steps=int(len(y_test)/batch_size))\r\n",
        "print(history)\r\n",
        "\r\n",
        "result_table+=[history[1]]\r\n",
        "print(\"GLOVE_LSTM\")\r\n"
      ],
      "execution_count": 17,
      "outputs": [
        {
          "output_type": "stream",
          "text": [
            "Epoch 1/20\n",
            "49/49 [==============================] - 0s 10ms/step - loss: 1.3770 - accuracy: 0.3143\n",
            "Epoch 2/20\n",
            "49/49 [==============================] - 0s 10ms/step - loss: 1.2938 - accuracy: 0.3845\n",
            "Epoch 3/20\n",
            "49/49 [==============================] - 0s 10ms/step - loss: 1.2132 - accuracy: 0.4380\n",
            "Epoch 4/20\n",
            "49/49 [==============================] - 0s 10ms/step - loss: 1.1619 - accuracy: 0.4561\n",
            "Epoch 5/20\n",
            "49/49 [==============================] - 0s 10ms/step - loss: 1.1139 - accuracy: 0.4782\n",
            "Epoch 6/20\n",
            "49/49 [==============================] - 0s 10ms/step - loss: 1.0609 - accuracy: 0.5145\n",
            "Epoch 7/20\n",
            "49/49 [==============================] - 0s 10ms/step - loss: 1.0115 - accuracy: 0.5476\n",
            "Epoch 8/20\n",
            "49/49 [==============================] - 0s 10ms/step - loss: 0.9671 - accuracy: 0.5804\n",
            "Epoch 9/20\n",
            "49/49 [==============================] - 0s 10ms/step - loss: 0.9466 - accuracy: 0.5912\n",
            "Epoch 10/20\n",
            "49/49 [==============================] - 0s 9ms/step - loss: 0.9082 - accuracy: 0.6137\n",
            "Epoch 11/20\n",
            "49/49 [==============================] - 0s 10ms/step - loss: 0.8363 - accuracy: 0.6504\n",
            "Epoch 12/20\n",
            "49/49 [==============================] - 0s 10ms/step - loss: 0.7926 - accuracy: 0.6727\n",
            "Epoch 13/20\n",
            "49/49 [==============================] - 0s 10ms/step - loss: 0.7358 - accuracy: 0.7076\n",
            "Epoch 14/20\n",
            "49/49 [==============================] - 0s 9ms/step - loss: 0.6880 - accuracy: 0.7329\n",
            "Epoch 15/20\n",
            "49/49 [==============================] - 0s 10ms/step - loss: 0.6793 - accuracy: 0.7280\n",
            "Epoch 16/20\n",
            "49/49 [==============================] - 0s 10ms/step - loss: 0.6925 - accuracy: 0.7233\n",
            "Epoch 17/20\n",
            "49/49 [==============================] - 0s 10ms/step - loss: 0.6365 - accuracy: 0.7588\n",
            "Epoch 18/20\n",
            "49/49 [==============================] - 0s 9ms/step - loss: 0.6264 - accuracy: 0.7629\n",
            "Epoch 19/20\n",
            "49/49 [==============================] - 0s 10ms/step - loss: 0.6339 - accuracy: 0.7631\n",
            "Epoch 20/20\n",
            "49/49 [==============================] - 0s 10ms/step - loss: 0.6320 - accuracy: 0.7606\n",
            "21/21 [==============================] - 0s 9ms/step - loss: 0.9694 - accuracy: 0.6481\n",
            "[0.969368577003479, 0.6480952501296997]\n",
            "GLOVE_LSTM\n"
          ],
          "name": "stdout"
        }
      ]
    },
    {
      "cell_type": "code",
      "metadata": {
        "colab": {
          "base_uri": "https://localhost:8080/"
        },
        "id": "fKM9PEwm1fkb",
        "outputId": "25761813-3dd4-421e-b4ef-3f66eed8fd86"
      },
      "source": [
        "model_glove_bi = tf.keras.Sequential()\r\n",
        "model_glove_bi.add(tf.keras.Input(shape=(Max_input_size,100)))\r\n",
        "model_glove_bi.add(tf.keras.layers.Bidirectional(tf.keras.layers.LSTM(50),merge_mode='concat'))\r\n",
        "model_glove_bi.add(tf.keras.layers.Dense(4, activation='softmax'))\r\n",
        "model_glove_bi.compile(loss='categorical_crossentropy',optimizer='adam', \r\n",
        "                           metrics=['accuracy'])\r\n",
        "history = model_glove_bi.fit_generator(generator = glove_gen(vocab_glove,X_train,y_train,batch_size,Max_input_size,Embedding_size),steps_per_epoch=int(len(X_train)/batch_size),epochs=epochs)\r\n",
        "history = model_glove_bi.evaluate(x = glove_gen(vocab_glove,X_test,y_test,batch_size,Max_input_size,Embedding_size),steps=int(len(y_test)/batch_size))\r\n",
        "print(history)\r\n",
        "\r\n",
        "result_table+=[history[1]]\r\n",
        "print(\"GLOVE_BI\")"
      ],
      "execution_count": 18,
      "outputs": [
        {
          "output_type": "stream",
          "text": [
            "Epoch 1/20\n",
            "49/49 [==============================] - 1s 11ms/step - loss: 1.3530 - accuracy: 0.3404\n",
            "Epoch 2/20\n",
            "49/49 [==============================] - 1s 11ms/step - loss: 1.2053 - accuracy: 0.4639\n",
            "Epoch 3/20\n",
            "49/49 [==============================] - 1s 11ms/step - loss: 1.0716 - accuracy: 0.5539\n",
            "Epoch 4/20\n",
            "49/49 [==============================] - 1s 11ms/step - loss: 0.9544 - accuracy: 0.6171\n",
            "Epoch 5/20\n",
            "49/49 [==============================] - 1s 11ms/step - loss: 0.8529 - accuracy: 0.6686\n",
            "Epoch 6/20\n",
            "49/49 [==============================] - 1s 11ms/step - loss: 0.7682 - accuracy: 0.7106\n",
            "Epoch 7/20\n",
            "49/49 [==============================] - 1s 11ms/step - loss: 0.6925 - accuracy: 0.7457\n",
            "Epoch 8/20\n",
            "49/49 [==============================] - 1s 11ms/step - loss: 0.6229 - accuracy: 0.7720\n",
            "Epoch 9/20\n",
            "49/49 [==============================] - 1s 12ms/step - loss: 0.5609 - accuracy: 0.7971\n",
            "Epoch 10/20\n",
            "49/49 [==============================] - 1s 12ms/step - loss: 0.5105 - accuracy: 0.8180\n",
            "Epoch 11/20\n",
            "49/49 [==============================] - 1s 11ms/step - loss: 0.4648 - accuracy: 0.8380\n",
            "Epoch 12/20\n",
            "49/49 [==============================] - 1s 12ms/step - loss: 0.4239 - accuracy: 0.8547\n",
            "Epoch 13/20\n",
            "49/49 [==============================] - 1s 11ms/step - loss: 0.3840 - accuracy: 0.8694\n",
            "Epoch 14/20\n",
            "49/49 [==============================] - 1s 12ms/step - loss: 0.3711 - accuracy: 0.8688\n",
            "Epoch 15/20\n",
            "49/49 [==============================] - 1s 11ms/step - loss: 0.3766 - accuracy: 0.8631\n",
            "Epoch 16/20\n",
            "49/49 [==============================] - 1s 11ms/step - loss: 0.3292 - accuracy: 0.8857\n",
            "Epoch 17/20\n",
            "49/49 [==============================] - 1s 11ms/step - loss: 0.2874 - accuracy: 0.9029\n",
            "Epoch 18/20\n",
            "49/49 [==============================] - 1s 12ms/step - loss: 0.2676 - accuracy: 0.9069\n",
            "Epoch 19/20\n",
            "49/49 [==============================] - 1s 11ms/step - loss: 0.2564 - accuracy: 0.9108\n",
            "Epoch 20/20\n",
            "49/49 [==============================] - 1s 11ms/step - loss: 0.2551 - accuracy: 0.9108\n",
            "21/21 [==============================] - 0s 9ms/step - loss: 0.9490 - accuracy: 0.7176\n",
            "[0.9489750266075134, 0.7176190614700317]\n",
            "GLOVE_BI\n"
          ],
          "name": "stdout"
        }
      ]
    },
    {
      "cell_type": "code",
      "metadata": {
        "colab": {
          "base_uri": "https://localhost:8080/"
        },
        "id": "RQBa5s4s1hNU",
        "outputId": "ea984827-9863-45e9-de31-d4c6ee0f6469"
      },
      "source": [
        "model_glove_rnn = tf.keras.Sequential()\r\n",
        "model_glove_rnn.add(tf.keras.Input(shape=(Max_input_size,100)))\r\n",
        "model_glove_rnn.add(tf.keras.layers.SimpleRNN(50))\r\n",
        "model_glove_rnn.add(tf.keras.layers.Dense(4, activation='softmax'))\r\n",
        "model_glove_rnn.compile(loss='categorical_crossentropy',optimizer='adam', \r\n",
        "                           metrics=['accuracy'])\r\n",
        "history = model_glove_rnn.fit_generator(generator = glove_gen(vocab_glove,X_train,y_train,batch_size,Max_input_size,Embedding_size),steps_per_epoch=int(len(X_train)/batch_size),epochs=epochs)\r\n",
        "history = model_glove_rnn.evaluate(x = glove_gen(vocab_glove,X_test,y_test,batch_size,Max_input_size,Embedding_size),steps=int(len(y_test)/batch_size))\r\n",
        "print(history)\r\n",
        "\r\n",
        "result_table+=[history[1]]\r\n",
        "print(\"GLOVE_RNN\")"
      ],
      "execution_count": 23,
      "outputs": [
        {
          "output_type": "stream",
          "text": [
            "Epoch 1/20\n",
            "49/49 [==============================] - 2s 40ms/step - loss: 1.3808 - accuracy: 0.3110\n",
            "Epoch 2/20\n",
            "49/49 [==============================] - 2s 41ms/step - loss: 1.3685 - accuracy: 0.3273\n",
            "Epoch 3/20\n",
            "49/49 [==============================] - 2s 40ms/step - loss: 1.3191 - accuracy: 0.3822\n",
            "Epoch 4/20\n",
            "49/49 [==============================] - 2s 40ms/step - loss: 1.2803 - accuracy: 0.4098\n",
            "Epoch 5/20\n",
            "49/49 [==============================] - 2s 40ms/step - loss: 1.2355 - accuracy: 0.4396\n",
            "Epoch 6/20\n",
            "49/49 [==============================] - 2s 40ms/step - loss: 1.2103 - accuracy: 0.4551\n",
            "Epoch 7/20\n",
            "49/49 [==============================] - 2s 40ms/step - loss: 1.1914 - accuracy: 0.4671\n",
            "Epoch 8/20\n",
            "49/49 [==============================] - 2s 39ms/step - loss: 1.2035 - accuracy: 0.4529\n",
            "Epoch 9/20\n",
            "49/49 [==============================] - 2s 40ms/step - loss: 1.1786 - accuracy: 0.4641\n",
            "Epoch 10/20\n",
            "49/49 [==============================] - 2s 38ms/step - loss: 1.1322 - accuracy: 0.4924\n",
            "Epoch 11/20\n",
            "49/49 [==============================] - 2s 40ms/step - loss: 1.1076 - accuracy: 0.5063\n",
            "Epoch 12/20\n",
            "49/49 [==============================] - 2s 40ms/step - loss: 1.0889 - accuracy: 0.5249\n",
            "Epoch 13/20\n",
            "49/49 [==============================] - 2s 41ms/step - loss: 1.0902 - accuracy: 0.5227\n",
            "Epoch 14/20\n",
            "49/49 [==============================] - 2s 41ms/step - loss: 1.0869 - accuracy: 0.5167\n",
            "Epoch 15/20\n",
            "49/49 [==============================] - 2s 40ms/step - loss: 1.0355 - accuracy: 0.5473\n",
            "Epoch 16/20\n",
            "49/49 [==============================] - 2s 39ms/step - loss: 1.0085 - accuracy: 0.5616\n",
            "Epoch 17/20\n",
            "49/49 [==============================] - 2s 41ms/step - loss: 1.0159 - accuracy: 0.5629\n",
            "Epoch 18/20\n",
            "49/49 [==============================] - 2s 41ms/step - loss: 1.0601 - accuracy: 0.5280\n",
            "Epoch 19/20\n",
            "49/49 [==============================] - 2s 41ms/step - loss: 1.0508 - accuracy: 0.5355\n",
            "Epoch 20/20\n",
            "49/49 [==============================] - 2s 40ms/step - loss: 1.0447 - accuracy: 0.5404\n",
            "21/21 [==============================] - 0s 10ms/step - loss: 1.3980 - accuracy: 0.3686\n",
            "[1.397983431816101, 0.3685714304447174]\n",
            "GLOVE_RNN\n"
          ],
          "name": "stdout"
        }
      ]
    },
    {
      "cell_type": "code",
      "metadata": {
        "colab": {
          "base_uri": "https://localhost:8080/"
        },
        "id": "WZqN_SaM3hs9",
        "outputId": "5fc9d0de-887e-47f4-a854-28a6d03c79c3"
      },
      "source": [
        "print(\"\\tLstm\\t\\t\\tBiLstm\\t\\t\\tRnn\")\r\n",
        "print(\"sg\",result_table[:3])\r\n",
        "print(\"cbow\",result_table[3:6])\r\n",
        "print(\"glove\",result_table[6:9])"
      ],
      "execution_count": 24,
      "outputs": [
        {
          "output_type": "stream",
          "text": [
            "\tLstm\t\t\tBiLstm\t\t\tRnn\n",
            "sg [0.31857141852378845, 0.3266666531562805, 0.31761905550956726]\n",
            "cbow [0.31857141852378845, 0.3261904716491699, 0.30619049072265625]\n",
            "glove [0.6480952501296997, 0.7176190614700317, [0.3685714304447174]]\n"
          ],
          "name": "stdout"
        }
      ]
    }
  ]
}