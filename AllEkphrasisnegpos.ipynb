{
  "nbformat": 4,
  "nbformat_minor": 0,
  "metadata": {
    "colab": {
      "name": "AllEkphrasisnegpos.ipynb",
      "provenance": [],
      "collapsed_sections": [],
      "include_colab_link": true
    },
    "kernelspec": {
      "name": "python3",
      "display_name": "Python 3"
    },
    "accelerator": "GPU"
  },
  "cells": [
    {
      "cell_type": "markdown",
      "metadata": {
        "id": "view-in-github",
        "colab_type": "text"
      },
      "source": [
        "<a href=\"https://colab.research.google.com/github/harrymkwn/InfluenceAnalysis/blob/master/AllEkphrasisnegpos.ipynb\" target=\"_parent\"><img src=\"https://colab.research.google.com/assets/colab-badge.svg\" alt=\"Open In Colab\"/></a>"
      ]
    },
    {
      "cell_type": "code",
      "metadata": {
        "id": "YkuKKcIUmM27",
        "colab": {
          "base_uri": "https://localhost:8080/"
        },
        "outputId": "ab9251e8-376b-4ff9-9750-b8f298b2da6b"
      },
      "source": [
        "import pandas as pd\n",
        "import numpy as np\n",
        "import tensorflow as tf\n",
        "from gensim.models import Word2Vec\n",
        "import matplotlib.pyplot as plt\n",
        "from sklearn.linear_model import LogisticRegression\n",
        "from sklearn.multiclass import OneVsRestClassifier\n",
        "from gensim.models import KeyedVectors\n",
        "from sklearn.model_selection import train_test_split\n",
        "from google.colab import  drive\n",
        "drive.mount('/content/drive')\n",
        "import nltk\n",
        "from nltk.corpus import stopwords\n",
        "nltk.download('all')\n",
        "device_name = tf.test.gpu_device_name()\n",
        "print(device_name)\n",
        "df_train = pd.read_csv('/content/drive/MyDrive/InfluenceAnalysis/Newdata/train_clean.csv',names=['Tweet','Emotion'])\n",
        "df_test = pd.read_csv('/content/drive/MyDrive/InfluenceAnalysis/Newdata/test_clean.csv',names=['Tweet','Emotion'])\n",
        "df_train = df_train.sample(frac=1)\n",
        "df_test = df_train.sample(frac=1)"
      ],
      "execution_count": 1,
      "outputs": [
        {
          "output_type": "stream",
          "text": [
            "Mounted at /content/drive\n",
            "[nltk_data] Downloading collection 'all'\n",
            "[nltk_data]    | \n",
            "[nltk_data]    | Downloading package abc to /root/nltk_data...\n",
            "[nltk_data]    |   Unzipping corpora/abc.zip.\n",
            "[nltk_data]    | Downloading package alpino to /root/nltk_data...\n",
            "[nltk_data]    |   Unzipping corpora/alpino.zip.\n",
            "[nltk_data]    | Downloading package biocreative_ppi to\n",
            "[nltk_data]    |     /root/nltk_data...\n",
            "[nltk_data]    |   Unzipping corpora/biocreative_ppi.zip.\n",
            "[nltk_data]    | Downloading package brown to /root/nltk_data...\n",
            "[nltk_data]    |   Unzipping corpora/brown.zip.\n",
            "[nltk_data]    | Downloading package brown_tei to /root/nltk_data...\n",
            "[nltk_data]    |   Unzipping corpora/brown_tei.zip.\n",
            "[nltk_data]    | Downloading package cess_cat to /root/nltk_data...\n",
            "[nltk_data]    |   Unzipping corpora/cess_cat.zip.\n",
            "[nltk_data]    | Downloading package cess_esp to /root/nltk_data...\n",
            "[nltk_data]    |   Unzipping corpora/cess_esp.zip.\n",
            "[nltk_data]    | Downloading package chat80 to /root/nltk_data...\n",
            "[nltk_data]    |   Unzipping corpora/chat80.zip.\n",
            "[nltk_data]    | Downloading package city_database to\n",
            "[nltk_data]    |     /root/nltk_data...\n",
            "[nltk_data]    |   Unzipping corpora/city_database.zip.\n",
            "[nltk_data]    | Downloading package cmudict to /root/nltk_data...\n",
            "[nltk_data]    |   Unzipping corpora/cmudict.zip.\n",
            "[nltk_data]    | Downloading package comparative_sentences to\n",
            "[nltk_data]    |     /root/nltk_data...\n",
            "[nltk_data]    |   Unzipping corpora/comparative_sentences.zip.\n",
            "[nltk_data]    | Downloading package comtrans to /root/nltk_data...\n",
            "[nltk_data]    | Downloading package conll2000 to /root/nltk_data...\n",
            "[nltk_data]    |   Unzipping corpora/conll2000.zip.\n",
            "[nltk_data]    | Downloading package conll2002 to /root/nltk_data...\n",
            "[nltk_data]    |   Unzipping corpora/conll2002.zip.\n",
            "[nltk_data]    | Downloading package conll2007 to /root/nltk_data...\n",
            "[nltk_data]    | Downloading package crubadan to /root/nltk_data...\n",
            "[nltk_data]    |   Unzipping corpora/crubadan.zip.\n",
            "[nltk_data]    | Downloading package dependency_treebank to\n",
            "[nltk_data]    |     /root/nltk_data...\n",
            "[nltk_data]    |   Unzipping corpora/dependency_treebank.zip.\n",
            "[nltk_data]    | Downloading package dolch to /root/nltk_data...\n",
            "[nltk_data]    |   Unzipping corpora/dolch.zip.\n",
            "[nltk_data]    | Downloading package europarl_raw to\n",
            "[nltk_data]    |     /root/nltk_data...\n",
            "[nltk_data]    |   Unzipping corpora/europarl_raw.zip.\n",
            "[nltk_data]    | Downloading package floresta to /root/nltk_data...\n",
            "[nltk_data]    |   Unzipping corpora/floresta.zip.\n",
            "[nltk_data]    | Downloading package framenet_v15 to\n",
            "[nltk_data]    |     /root/nltk_data...\n",
            "[nltk_data]    |   Unzipping corpora/framenet_v15.zip.\n",
            "[nltk_data]    | Downloading package framenet_v17 to\n",
            "[nltk_data]    |     /root/nltk_data...\n",
            "[nltk_data]    |   Unzipping corpora/framenet_v17.zip.\n",
            "[nltk_data]    | Downloading package gazetteers to /root/nltk_data...\n",
            "[nltk_data]    |   Unzipping corpora/gazetteers.zip.\n",
            "[nltk_data]    | Downloading package genesis to /root/nltk_data...\n",
            "[nltk_data]    |   Unzipping corpora/genesis.zip.\n",
            "[nltk_data]    | Downloading package gutenberg to /root/nltk_data...\n",
            "[nltk_data]    |   Unzipping corpora/gutenberg.zip.\n",
            "[nltk_data]    | Downloading package ieer to /root/nltk_data...\n",
            "[nltk_data]    |   Unzipping corpora/ieer.zip.\n",
            "[nltk_data]    | Downloading package inaugural to /root/nltk_data...\n",
            "[nltk_data]    |   Unzipping corpora/inaugural.zip.\n",
            "[nltk_data]    | Downloading package indian to /root/nltk_data...\n",
            "[nltk_data]    |   Unzipping corpora/indian.zip.\n",
            "[nltk_data]    | Downloading package jeita to /root/nltk_data...\n",
            "[nltk_data]    | Downloading package kimmo to /root/nltk_data...\n",
            "[nltk_data]    |   Unzipping corpora/kimmo.zip.\n",
            "[nltk_data]    | Downloading package knbc to /root/nltk_data...\n",
            "[nltk_data]    | Downloading package lin_thesaurus to\n",
            "[nltk_data]    |     /root/nltk_data...\n",
            "[nltk_data]    |   Unzipping corpora/lin_thesaurus.zip.\n",
            "[nltk_data]    | Downloading package mac_morpho to /root/nltk_data...\n",
            "[nltk_data]    |   Unzipping corpora/mac_morpho.zip.\n",
            "[nltk_data]    | Downloading package machado to /root/nltk_data...\n",
            "[nltk_data]    | Downloading package masc_tagged to /root/nltk_data...\n",
            "[nltk_data]    | Downloading package moses_sample to\n",
            "[nltk_data]    |     /root/nltk_data...\n",
            "[nltk_data]    |   Unzipping models/moses_sample.zip.\n",
            "[nltk_data]    | Downloading package movie_reviews to\n",
            "[nltk_data]    |     /root/nltk_data...\n",
            "[nltk_data]    |   Unzipping corpora/movie_reviews.zip.\n",
            "[nltk_data]    | Downloading package names to /root/nltk_data...\n",
            "[nltk_data]    |   Unzipping corpora/names.zip.\n",
            "[nltk_data]    | Downloading package nombank.1.0 to /root/nltk_data...\n",
            "[nltk_data]    | Downloading package nps_chat to /root/nltk_data...\n",
            "[nltk_data]    |   Unzipping corpora/nps_chat.zip.\n",
            "[nltk_data]    | Downloading package omw to /root/nltk_data...\n",
            "[nltk_data]    |   Unzipping corpora/omw.zip.\n",
            "[nltk_data]    | Downloading package opinion_lexicon to\n",
            "[nltk_data]    |     /root/nltk_data...\n",
            "[nltk_data]    |   Unzipping corpora/opinion_lexicon.zip.\n",
            "[nltk_data]    | Downloading package paradigms to /root/nltk_data...\n",
            "[nltk_data]    |   Unzipping corpora/paradigms.zip.\n",
            "[nltk_data]    | Downloading package pil to /root/nltk_data...\n",
            "[nltk_data]    |   Unzipping corpora/pil.zip.\n",
            "[nltk_data]    | Downloading package pl196x to /root/nltk_data...\n",
            "[nltk_data]    |   Unzipping corpora/pl196x.zip.\n",
            "[nltk_data]    | Downloading package ppattach to /root/nltk_data...\n",
            "[nltk_data]    |   Unzipping corpora/ppattach.zip.\n",
            "[nltk_data]    | Downloading package problem_reports to\n",
            "[nltk_data]    |     /root/nltk_data...\n",
            "[nltk_data]    |   Unzipping corpora/problem_reports.zip.\n",
            "[nltk_data]    | Downloading package propbank to /root/nltk_data...\n",
            "[nltk_data]    | Downloading package ptb to /root/nltk_data...\n",
            "[nltk_data]    |   Unzipping corpora/ptb.zip.\n",
            "[nltk_data]    | Downloading package product_reviews_1 to\n",
            "[nltk_data]    |     /root/nltk_data...\n",
            "[nltk_data]    |   Unzipping corpora/product_reviews_1.zip.\n",
            "[nltk_data]    | Downloading package product_reviews_2 to\n",
            "[nltk_data]    |     /root/nltk_data...\n",
            "[nltk_data]    |   Unzipping corpora/product_reviews_2.zip.\n",
            "[nltk_data]    | Downloading package pros_cons to /root/nltk_data...\n",
            "[nltk_data]    |   Unzipping corpora/pros_cons.zip.\n",
            "[nltk_data]    | Downloading package qc to /root/nltk_data...\n",
            "[nltk_data]    |   Unzipping corpora/qc.zip.\n",
            "[nltk_data]    | Downloading package reuters to /root/nltk_data...\n",
            "[nltk_data]    | Downloading package rte to /root/nltk_data...\n",
            "[nltk_data]    |   Unzipping corpora/rte.zip.\n",
            "[nltk_data]    | Downloading package semcor to /root/nltk_data...\n",
            "[nltk_data]    | Downloading package senseval to /root/nltk_data...\n",
            "[nltk_data]    |   Unzipping corpora/senseval.zip.\n",
            "[nltk_data]    | Downloading package sentiwordnet to\n",
            "[nltk_data]    |     /root/nltk_data...\n",
            "[nltk_data]    |   Unzipping corpora/sentiwordnet.zip.\n",
            "[nltk_data]    | Downloading package sentence_polarity to\n",
            "[nltk_data]    |     /root/nltk_data...\n",
            "[nltk_data]    |   Unzipping corpora/sentence_polarity.zip.\n",
            "[nltk_data]    | Downloading package shakespeare to /root/nltk_data...\n",
            "[nltk_data]    |   Unzipping corpora/shakespeare.zip.\n",
            "[nltk_data]    | Downloading package sinica_treebank to\n",
            "[nltk_data]    |     /root/nltk_data...\n",
            "[nltk_data]    |   Unzipping corpora/sinica_treebank.zip.\n",
            "[nltk_data]    | Downloading package smultron to /root/nltk_data...\n",
            "[nltk_data]    |   Unzipping corpora/smultron.zip.\n",
            "[nltk_data]    | Downloading package state_union to /root/nltk_data...\n",
            "[nltk_data]    |   Unzipping corpora/state_union.zip.\n",
            "[nltk_data]    | Downloading package stopwords to /root/nltk_data...\n",
            "[nltk_data]    |   Unzipping corpora/stopwords.zip.\n",
            "[nltk_data]    | Downloading package subjectivity to\n",
            "[nltk_data]    |     /root/nltk_data...\n",
            "[nltk_data]    |   Unzipping corpora/subjectivity.zip.\n",
            "[nltk_data]    | Downloading package swadesh to /root/nltk_data...\n",
            "[nltk_data]    |   Unzipping corpora/swadesh.zip.\n",
            "[nltk_data]    | Downloading package switchboard to /root/nltk_data...\n",
            "[nltk_data]    |   Unzipping corpora/switchboard.zip.\n",
            "[nltk_data]    | Downloading package timit to /root/nltk_data...\n",
            "[nltk_data]    |   Unzipping corpora/timit.zip.\n",
            "[nltk_data]    | Downloading package toolbox to /root/nltk_data...\n",
            "[nltk_data]    |   Unzipping corpora/toolbox.zip.\n",
            "[nltk_data]    | Downloading package treebank to /root/nltk_data...\n",
            "[nltk_data]    |   Unzipping corpora/treebank.zip.\n",
            "[nltk_data]    | Downloading package twitter_samples to\n",
            "[nltk_data]    |     /root/nltk_data...\n",
            "[nltk_data]    |   Unzipping corpora/twitter_samples.zip.\n",
            "[nltk_data]    | Downloading package udhr to /root/nltk_data...\n",
            "[nltk_data]    |   Unzipping corpora/udhr.zip.\n",
            "[nltk_data]    | Downloading package udhr2 to /root/nltk_data...\n",
            "[nltk_data]    |   Unzipping corpora/udhr2.zip.\n",
            "[nltk_data]    | Downloading package unicode_samples to\n",
            "[nltk_data]    |     /root/nltk_data...\n",
            "[nltk_data]    |   Unzipping corpora/unicode_samples.zip.\n",
            "[nltk_data]    | Downloading package universal_treebanks_v20 to\n",
            "[nltk_data]    |     /root/nltk_data...\n",
            "[nltk_data]    | Downloading package verbnet to /root/nltk_data...\n",
            "[nltk_data]    |   Unzipping corpora/verbnet.zip.\n",
            "[nltk_data]    | Downloading package verbnet3 to /root/nltk_data...\n",
            "[nltk_data]    |   Unzipping corpora/verbnet3.zip.\n",
            "[nltk_data]    | Downloading package webtext to /root/nltk_data...\n",
            "[nltk_data]    |   Unzipping corpora/webtext.zip.\n",
            "[nltk_data]    | Downloading package wordnet to /root/nltk_data...\n",
            "[nltk_data]    |   Unzipping corpora/wordnet.zip.\n",
            "[nltk_data]    | Downloading package wordnet_ic to /root/nltk_data...\n",
            "[nltk_data]    |   Unzipping corpora/wordnet_ic.zip.\n",
            "[nltk_data]    | Downloading package words to /root/nltk_data...\n",
            "[nltk_data]    |   Unzipping corpora/words.zip.\n",
            "[nltk_data]    | Downloading package ycoe to /root/nltk_data...\n",
            "[nltk_data]    |   Unzipping corpora/ycoe.zip.\n",
            "[nltk_data]    | Downloading package rslp to /root/nltk_data...\n",
            "[nltk_data]    |   Unzipping stemmers/rslp.zip.\n",
            "[nltk_data]    | Downloading package maxent_treebank_pos_tagger to\n",
            "[nltk_data]    |     /root/nltk_data...\n",
            "[nltk_data]    |   Unzipping taggers/maxent_treebank_pos_tagger.zip.\n",
            "[nltk_data]    | Downloading package universal_tagset to\n",
            "[nltk_data]    |     /root/nltk_data...\n",
            "[nltk_data]    |   Unzipping taggers/universal_tagset.zip.\n",
            "[nltk_data]    | Downloading package maxent_ne_chunker to\n",
            "[nltk_data]    |     /root/nltk_data...\n",
            "[nltk_data]    |   Unzipping chunkers/maxent_ne_chunker.zip.\n",
            "[nltk_data]    | Downloading package punkt to /root/nltk_data...\n",
            "[nltk_data]    |   Unzipping tokenizers/punkt.zip.\n",
            "[nltk_data]    | Downloading package book_grammars to\n",
            "[nltk_data]    |     /root/nltk_data...\n",
            "[nltk_data]    |   Unzipping grammars/book_grammars.zip.\n",
            "[nltk_data]    | Downloading package sample_grammars to\n",
            "[nltk_data]    |     /root/nltk_data...\n",
            "[nltk_data]    |   Unzipping grammars/sample_grammars.zip.\n",
            "[nltk_data]    | Downloading package spanish_grammars to\n",
            "[nltk_data]    |     /root/nltk_data...\n",
            "[nltk_data]    |   Unzipping grammars/spanish_grammars.zip.\n",
            "[nltk_data]    | Downloading package basque_grammars to\n",
            "[nltk_data]    |     /root/nltk_data...\n",
            "[nltk_data]    |   Unzipping grammars/basque_grammars.zip.\n",
            "[nltk_data]    | Downloading package large_grammars to\n",
            "[nltk_data]    |     /root/nltk_data...\n",
            "[nltk_data]    |   Unzipping grammars/large_grammars.zip.\n",
            "[nltk_data]    | Downloading package tagsets to /root/nltk_data...\n",
            "[nltk_data]    |   Unzipping help/tagsets.zip.\n",
            "[nltk_data]    | Downloading package snowball_data to\n",
            "[nltk_data]    |     /root/nltk_data...\n",
            "[nltk_data]    | Downloading package bllip_wsj_no_aux to\n",
            "[nltk_data]    |     /root/nltk_data...\n",
            "[nltk_data]    |   Unzipping models/bllip_wsj_no_aux.zip.\n",
            "[nltk_data]    | Downloading package word2vec_sample to\n",
            "[nltk_data]    |     /root/nltk_data...\n",
            "[nltk_data]    |   Unzipping models/word2vec_sample.zip.\n",
            "[nltk_data]    | Downloading package panlex_swadesh to\n",
            "[nltk_data]    |     /root/nltk_data...\n",
            "[nltk_data]    | Downloading package mte_teip5 to /root/nltk_data...\n",
            "[nltk_data]    |   Unzipping corpora/mte_teip5.zip.\n",
            "[nltk_data]    | Downloading package averaged_perceptron_tagger to\n",
            "[nltk_data]    |     /root/nltk_data...\n",
            "[nltk_data]    |   Unzipping taggers/averaged_perceptron_tagger.zip.\n",
            "[nltk_data]    | Downloading package averaged_perceptron_tagger_ru to\n",
            "[nltk_data]    |     /root/nltk_data...\n",
            "[nltk_data]    |   Unzipping\n",
            "[nltk_data]    |       taggers/averaged_perceptron_tagger_ru.zip.\n",
            "[nltk_data]    | Downloading package perluniprops to\n",
            "[nltk_data]    |     /root/nltk_data...\n",
            "[nltk_data]    |   Unzipping misc/perluniprops.zip.\n",
            "[nltk_data]    | Downloading package nonbreaking_prefixes to\n",
            "[nltk_data]    |     /root/nltk_data...\n",
            "[nltk_data]    |   Unzipping corpora/nonbreaking_prefixes.zip.\n",
            "[nltk_data]    | Downloading package vader_lexicon to\n",
            "[nltk_data]    |     /root/nltk_data...\n",
            "[nltk_data]    | Downloading package porter_test to /root/nltk_data...\n",
            "[nltk_data]    |   Unzipping stemmers/porter_test.zip.\n",
            "[nltk_data]    | Downloading package wmt15_eval to /root/nltk_data...\n",
            "[nltk_data]    |   Unzipping models/wmt15_eval.zip.\n",
            "[nltk_data]    | Downloading package mwa_ppdb to /root/nltk_data...\n",
            "[nltk_data]    |   Unzipping misc/mwa_ppdb.zip.\n",
            "[nltk_data]    | \n",
            "[nltk_data]  Done downloading collection all\n",
            "/device:GPU:0\n"
          ],
          "name": "stdout"
        }
      ]
    },
    {
      "cell_type": "code",
      "metadata": {
        "id": "P0zrtpGceAiE",
        "colab": {
          "base_uri": "https://localhost:8080/",
          "height": 402
        },
        "outputId": "c11afdcd-8f4b-4855-ab5b-bc141d98523c"
      },
      "source": [
        "df_train.head(1000)"
      ],
      "execution_count": 2,
      "outputs": [
        {
          "output_type": "execute_result",
          "data": {
            "text/html": [
              "<div>\n",
              "<style scoped>\n",
              "    .dataframe tbody tr th:only-of-type {\n",
              "        vertical-align: middle;\n",
              "    }\n",
              "\n",
              "    .dataframe tbody tr th {\n",
              "        vertical-align: top;\n",
              "    }\n",
              "\n",
              "    .dataframe thead th {\n",
              "        text-align: right;\n",
              "    }\n",
              "</style>\n",
              "<table border=\"1\" class=\"dataframe\">\n",
              "  <thead>\n",
              "    <tr style=\"text-align: right;\">\n",
              "      <th></th>\n",
              "      <th>Tweet</th>\n",
              "      <th>Emotion</th>\n",
              "    </tr>\n",
              "  </thead>\n",
              "  <tbody>\n",
              "    <tr>\n",
              "      <th>3667</th>\n",
              "      <td>o job interview today I am realli go to mess t...</td>\n",
              "      <td>2</td>\n",
              "    </tr>\n",
              "    <tr>\n",
              "      <th>11298</th>\n",
              "      <td>agesthegreat ii do not have ani either</td>\n",
              "      <td>2</td>\n",
              "    </tr>\n",
              "    <tr>\n",
              "      <th>10975</th>\n",
              "      <td>so freak tire i want my sleep pattern to be no...</td>\n",
              "      <td>2</td>\n",
              "    </tr>\n",
              "    <tr>\n",
              "      <th>10794</th>\n",
              "      <td>elliott claim steak and shake ha been do thi f...</td>\n",
              "      <td>2</td>\n",
              "    </tr>\n",
              "    <tr>\n",
              "      <th>3361</th>\n",
              "      <td>one of these day I am go to delet someth reall...</td>\n",
              "      <td>2</td>\n",
              "    </tr>\n",
              "    <tr>\n",
              "      <th>...</th>\n",
              "      <td>...</td>\n",
              "      <td>...</td>\n",
              "    </tr>\n",
              "    <tr>\n",
              "      <th>9247</th>\n",
              "      <td>say goodmorn</td>\n",
              "      <td>1</td>\n",
              "    </tr>\n",
              "    <tr>\n",
              "      <th>9434</th>\n",
              "      <td>i should be in nyc right now with some of my f...</td>\n",
              "      <td>2</td>\n",
              "    </tr>\n",
              "    <tr>\n",
              "      <th>8439</th>\n",
              "      <td>hate the everyth about seafood just so happen ...</td>\n",
              "      <td>2</td>\n",
              "    </tr>\n",
              "    <tr>\n",
              "      <th>1944</th>\n",
              "      <td>whi telstra whi do you are biggest teleco have...</td>\n",
              "      <td>2</td>\n",
              "    </tr>\n",
              "    <tr>\n",
              "      <th>9184</th>\n",
              "      <td>victoryhawk darn no bacon</td>\n",
              "      <td>2</td>\n",
              "    </tr>\n",
              "  </tbody>\n",
              "</table>\n",
              "<p>1000 rows × 2 columns</p>\n",
              "</div>"
            ],
            "text/plain": [
              "                                                   Tweet Emotion\n",
              "3667   o job interview today I am realli go to mess t...       2\n",
              "11298             agesthegreat ii do not have ani either       2\n",
              "10975  so freak tire i want my sleep pattern to be no...       2\n",
              "10794  elliott claim steak and shake ha been do thi f...       2\n",
              "3361   one of these day I am go to delet someth reall...       2\n",
              "...                                                  ...     ...\n",
              "9247                                        say goodmorn       1\n",
              "9434   i should be in nyc right now with some of my f...       2\n",
              "8439   hate the everyth about seafood just so happen ...       2\n",
              "1944   whi telstra whi do you are biggest teleco have...       2\n",
              "9184                           victoryhawk darn no bacon       2\n",
              "\n",
              "[1000 rows x 2 columns]"
            ]
          },
          "metadata": {
            "tags": []
          },
          "execution_count": 2
        }
      ]
    },
    {
      "cell_type": "code",
      "metadata": {
        "id": "K68sxL_LfLy7",
        "colab": {
          "base_uri": "https://localhost:8080/"
        },
        "outputId": "68f9678d-7280-4485-e355-2ac24101d525"
      },
      "source": [
        "df_test.Emotion.unique()"
      ],
      "execution_count": 3,
      "outputs": [
        {
          "output_type": "execute_result",
          "data": {
            "text/plain": [
              "array(['0', '2', '1', '3', 'emotion'], dtype=object)"
            ]
          },
          "metadata": {
            "tags": []
          },
          "execution_count": 3
        }
      ]
    },
    {
      "cell_type": "code",
      "metadata": {
        "id": "Y9KFGTW2iP8J",
        "colab": {
          "base_uri": "https://localhost:8080/"
        },
        "outputId": "286f4d2d-189f-42ab-f1a4-39f7431d6762"
      },
      "source": [
        "df_train.nunique()"
      ],
      "execution_count": 4,
      "outputs": [
        {
          "output_type": "execute_result",
          "data": {
            "text/plain": [
              "Tweet      12370\n",
              "Emotion        5\n",
              "dtype: int64"
            ]
          },
          "metadata": {
            "tags": []
          },
          "execution_count": 4
        }
      ]
    },
    {
      "cell_type": "code",
      "metadata": {
        "id": "7yV6_xYSnZHt"
      },
      "source": [
        "category_dict = {'0':[1,0,0,0],'1':[0,1,0,0],'2':[0,0,1,0],'3':[0,0,0,1],'emotion':[1,0,0,0]}\n",
        "train_data_tweet = [x.lower().split() for x in df_train['Tweet']]\n",
        "train_data_cat = np.array([category_dict[x] for x in df_train['Emotion']])\n",
        "test_data_tweet = [x.lower().split() for x in df_test['Tweet']]\n",
        "test_data_cat = np.array([category_dict[x] for x in df_test['Emotion']])\n",
        "\n",
        "data_tweet = train_data_tweet + test_data_tweet"
      ],
      "execution_count": 5,
      "outputs": []
    },
    {
      "cell_type": "code",
      "metadata": {
        "id": "5mIV-pI5C44j"
      },
      "source": [
        "# Parameters\n",
        "Min_count = 0\n",
        "Embedding_size = 100\n",
        "Window_size = 5\n",
        "Negative_sampling = 00"
      ],
      "execution_count": 6,
      "outputs": []
    },
    {
      "cell_type": "code",
      "metadata": {
        "id": "uUSBfiE0nTVv",
        "colab": {
          "base_uri": "https://localhost:8080/"
        },
        "outputId": "68702826-3546-4727-95b7-f67732451fb9"
      },
      "source": [
        "w2v_sg = Word2Vec(min_count=Min_count,\n",
        "                     window=Window_size,\n",
        "                     size=Embedding_size,\n",
        "                     negative=Negative_sampling,sg=1)\n",
        "w2v_sg.build_vocab(data_tweet)\n",
        "w2v_sg.train(data_tweet, total_examples=w2v_sg.corpus_count, epochs=5)\n",
        "w2v_cbow = Word2Vec(min_count=Min_count,\n",
        "                     window=Window_size,\n",
        "                     size=Embedding_size,\n",
        "                     negative=Negative_sampling,sg=0)\n",
        "w2v_cbow.build_vocab(data_tweet)\n",
        "w2v_cbow.train(data_tweet, total_examples=w2v_cbow.corpus_count, epochs=5)"
      ],
      "execution_count": 7,
      "outputs": [
        {
          "output_type": "execute_result",
          "data": {
            "text/plain": [
              "(1303215, 1724630)"
            ]
          },
          "metadata": {
            "tags": []
          },
          "execution_count": 7
        }
      ]
    },
    {
      "cell_type": "code",
      "metadata": {
        "id": "gVzquoxb6FQJ"
      },
      "source": [
        "vocab_sg = w2v_sg.wv.vocab\n",
        "vocab_sg = [x for x in vocab_sg]\n",
        "vocab_cbow = w2v_cbow.wv.vocab\n",
        "vocab_cbow = [x for x in vocab_cbow] \n",
        "vocab_glove = {}\n",
        "with open(\"/content/drive/My Drive/InfluenceAnalysis/glove/glove.twitter.27B.100d.txt\", 'r', encoding=\"utf-8\") as f:\n",
        "  for line in f:\n",
        "      values = line.split()\n",
        "      word = values[0]\n",
        "      vector = np.asarray(values[1:], \"float32\")\n",
        "      vocab_glove[word] = vector"
      ],
      "execution_count": 8,
      "outputs": []
    },
    {
      "cell_type": "code",
      "metadata": {
        "id": "rdgSI9FSmw60"
      },
      "source": [
        "batch_size = 500\r\n",
        "Max_input_size = max([len(x) for x in data_tweet])\r\n",
        "mul_factor=1.5"
      ],
      "execution_count": 9,
      "outputs": []
    },
    {
      "cell_type": "code",
      "metadata": {
        "id": "z65iXVhlpeDX"
      },
      "source": [
        "positive = pd.read_csv('/content/drive/My Drive/InfluenceAnalysis/CodeMix/positive-words.csv')\r\n",
        "positive = list(positive['0'][1:])\r\n",
        "negative = pd.read_csv('/content/drive/My Drive/InfluenceAnalysis/CodeMix/negative-words.csv')\r\n",
        "negative = list(negative['0'][2:])\r\n",
        "pn_dict = {}\r\n",
        "for i in range(len(positive)):\r\n",
        "  pn_dict[positive[i]] = 1\r\n",
        "\r\n",
        "for i in range(len(negative)):\r\n",
        "  pn_dict[negative[i]] = -1"
      ],
      "execution_count": 10,
      "outputs": []
    },
    {
      "cell_type": "code",
      "metadata": {
        "id": "Bqvzy05D2iim"
      },
      "source": [
        "X_train = train_data_tweet\r\n",
        "X_test = test_data_tweet\r\n",
        "y_train = train_data_cat\r\n",
        "y_test = test_data_cat \r\n",
        "X_train = [nltk.pos_tag(x) for x in X_train]\r\n",
        "X_test = [nltk.pos_tag(x) for x in X_test]\r\n",
        "X_train = [[(i[0],i[1],pn_dict.get(i[0],1)) for i in x] for x in X_train]\r\n",
        "X_test = [[(i[0],i[1],pn_dict.get(i[0],1)) for i in x] for x in X_test]\r\n",
        "result_table = [0,0,0,0,0,0,0,0,0]"
      ],
      "execution_count": 11,
      "outputs": []
    },
    {
      "cell_type": "code",
      "metadata": {
        "colab": {
          "base_uri": "https://localhost:8080/"
        },
        "id": "oIGpYOBRx-kf",
        "outputId": "6b434d8d-6d74-42f2-a344-292f39db1e96"
      },
      "source": [
        "print(X_train[0][0])"
      ],
      "execution_count": 12,
      "outputs": [
        {
          "output_type": "stream",
          "text": [
            "('o', 'JJ', 1)\n"
          ],
          "name": "stdout"
        }
      ]
    },
    {
      "cell_type": "code",
      "metadata": {
        "id": "ArwAlW-wmZxv"
      },
      "source": [
        "def vec_gen(w2v,vocab,data_tweet,data_cat,batch_size,Max_input_size,Embedding_size,mul_factor):\r\n",
        "  while True:\r\n",
        "    for k in range(int(len(data_tweet)/batch_size)):\r\n",
        "      res=[]\r\n",
        "      for x in data_tweet[k*(batch_size):(k+1)*(batch_size)]:\r\n",
        "        tweet = [(w2v.wv.get_vector(i[0]),i[1],i[2]) for i in x if i[0] in vocab]\r\n",
        "        l=len(tweet)\r\n",
        "        for i in range(l):\r\n",
        "          tweet[i]=((tweet[i][0]*tweet[i][2]*mul_factor),tweet[i][1],tweet[i][2])\r\n",
        "        res+=[np.array([x[0] for x in tweet])]\r\n",
        "      temp = np.array([np.pad(z.flatten(),(0,Max_input_size*Embedding_size-len(z.flatten()))).reshape(Max_input_size,Embedding_size) for z in res])\r\n",
        "      tempres = data_cat[k*(batch_size):(k+1)*(batch_size)]\r\n",
        "      yield (temp,tempres)          \r\n",
        "      \r\n",
        "def glove_gen(vocab,data_tweet,data_cat,batch_size,Max_input_size,Embedding_size,mul_factor):\r\n",
        "  while True:\r\n",
        "    for k in range(int(len(data_tweet)/batch_size)):\r\n",
        "      res=[]\r\n",
        "      for x in data_tweet[k*(batch_size):(k+1)*(batch_size)]:\r\n",
        "        tweet = [(vocab[i[0]],i[1],i[2]) for i in x if i[0] in vocab.keys()]\r\n",
        "        l=len(tweet)\r\n",
        "        for i in range(l):\r\n",
        "          tweet[i]=((tweet[i][0]*tweet[i][2]*mul_factor),tweet[i][1],tweet[i][2])\r\n",
        "        res+=[np.array([x[0] for x in tweet])]\r\n",
        "      temp = np.array([np.pad(z.flatten(),(0,Max_input_size*Embedding_size-len(z.flatten()))).reshape(Max_input_size,Embedding_size) for z in res])\r\n",
        "      tempres = data_cat[k*(batch_size):(k+1)*(batch_size)]\r\n",
        "      yield (temp,tempres)"
      ],
      "execution_count": 13,
      "outputs": []
    },
    {
      "cell_type": "code",
      "metadata": {
        "id": "0leTuTOb3naL"
      },
      "source": [
        "epochs = 20"
      ],
      "execution_count": 14,
      "outputs": []
    },
    {
      "cell_type": "code",
      "metadata": {
        "id": "1GfgXfAFlD1J",
        "colab": {
          "base_uri": "https://localhost:8080/"
        },
        "outputId": "f15266b4-78b2-4398-e019-d448ae73663c"
      },
      "source": [
        "model_sg = tf.keras.Sequential()\n",
        "model_sg.add(tf.keras.Input(shape=(Max_input_size,Embedding_size)))\n",
        "model_sg.add(tf.keras.layers.LSTM(50))\n",
        "model_sg.add(tf.keras.layers.Dense(4, activation='softmax'))\n",
        "model_sg.compile(loss='categorical_crossentropy',optimizer='adam', \n",
        "                           metrics=['accuracy'])\n",
        "history = model_sg.fit_generator(generator = vec_gen(w2v_sg,vocab_sg,X_train,y_train,batch_size,Max_input_size,Embedding_size,mul_factor),steps_per_epoch=int(len(X_train)/batch_size),epochs=epochs)\n",
        "history = model_sg.evaluate(x = vec_gen(w2v_sg,vocab_sg,X_test,y_test,batch_size,Max_input_size,Embedding_size,mul_factor),steps=int(len(y_test)/batch_size))\n",
        "print(history)\n",
        "\n",
        "result_table[0]=history[1]\n",
        "print(\"SG_LSTM\")\n"
      ],
      "execution_count": 15,
      "outputs": [
        {
          "output_type": "stream",
          "text": [
            "WARNING:tensorflow:From <ipython-input-15-bddb9a303a31>:7: Model.fit_generator (from tensorflow.python.keras.engine.training) is deprecated and will be removed in a future version.\n",
            "Instructions for updating:\n",
            "Please use Model.fit, which supports generators.\n",
            "Epoch 1/20\n",
            "24/24 [==============================] - 5s 225ms/step - loss: 1.2638 - accuracy: 0.5713\n",
            "Epoch 2/20\n",
            "24/24 [==============================] - 6s 235ms/step - loss: 1.0361 - accuracy: 0.5863\n",
            "Epoch 3/20\n",
            "24/24 [==============================] - 6s 233ms/step - loss: 0.9872 - accuracy: 0.5863\n",
            "Epoch 4/20\n",
            "24/24 [==============================] - 6s 236ms/step - loss: 0.9838 - accuracy: 0.5863\n",
            "Epoch 5/20\n",
            "24/24 [==============================] - 6s 236ms/step - loss: 0.9838 - accuracy: 0.5863\n",
            "Epoch 6/20\n",
            "24/24 [==============================] - 6s 240ms/step - loss: 0.9838 - accuracy: 0.5863\n",
            "Epoch 7/20\n",
            "24/24 [==============================] - 6s 241ms/step - loss: 0.9838 - accuracy: 0.5863\n",
            "Epoch 8/20\n",
            "24/24 [==============================] - 6s 235ms/step - loss: 0.9838 - accuracy: 0.5863\n",
            "Epoch 9/20\n",
            "24/24 [==============================] - 6s 233ms/step - loss: 0.9838 - accuracy: 0.5863\n",
            "Epoch 10/20\n",
            "24/24 [==============================] - 6s 231ms/step - loss: 0.9837 - accuracy: 0.5863\n",
            "Epoch 11/20\n",
            "24/24 [==============================] - 6s 232ms/step - loss: 0.9837 - accuracy: 0.5863\n",
            "Epoch 12/20\n",
            "24/24 [==============================] - 6s 233ms/step - loss: 0.9837 - accuracy: 0.5863\n",
            "Epoch 13/20\n",
            "24/24 [==============================] - 6s 230ms/step - loss: 0.9836 - accuracy: 0.5863\n",
            "Epoch 14/20\n",
            "24/24 [==============================] - 6s 233ms/step - loss: 0.9836 - accuracy: 0.5863\n",
            "Epoch 15/20\n",
            "24/24 [==============================] - 6s 232ms/step - loss: 0.9835 - accuracy: 0.5863\n",
            "Epoch 16/20\n",
            "24/24 [==============================] - 6s 233ms/step - loss: 0.9834 - accuracy: 0.5863\n",
            "Epoch 17/20\n",
            "24/24 [==============================] - 6s 233ms/step - loss: 0.9831 - accuracy: 0.5863\n",
            "Epoch 18/20\n",
            "24/24 [==============================] - 6s 232ms/step - loss: 0.9827 - accuracy: 0.5863\n",
            "Epoch 19/20\n",
            "24/24 [==============================] - 6s 231ms/step - loss: 0.9814 - accuracy: 0.5863\n",
            "Epoch 20/20\n",
            "24/24 [==============================] - 6s 234ms/step - loss: 0.9809 - accuracy: 0.5863\n",
            "24/24 [==============================] - 6s 238ms/step - loss: 0.9791 - accuracy: 0.5845\n",
            "[0.9790765643119812, 0.5845000147819519]\n",
            "SG_LSTM\n"
          ],
          "name": "stdout"
        }
      ]
    },
    {
      "cell_type": "code",
      "metadata": {
        "id": "eJHtKjzc1SA8",
        "colab": {
          "base_uri": "https://localhost:8080/"
        },
        "outputId": "5dbd8472-b828-4a84-dc44-82002a583392"
      },
      "source": [
        "model_sg_bi = tf.keras.Sequential()\r\n",
        "model_sg_bi.add(tf.keras.Input(shape=(Max_input_size,Embedding_size)))\r\n",
        "model_sg_bi.add(tf.keras.layers.Bidirectional(tf.keras.layers.LSTM(50),merge_mode='concat'))\r\n",
        "model_sg_bi.add(tf.keras.layers.Dense(4, activation='softmax'))\r\n",
        "model_sg_bi.compile(loss='categorical_crossentropy',optimizer='adam', \r\n",
        "                           metrics=['accuracy'])\r\n",
        "history = model_sg_bi.fit_generator(generator = vec_gen(w2v_sg,vocab_sg,X_train,y_train,batch_size,Max_input_size,Embedding_size,mul_factor),steps_per_epoch=int(len(X_train)/batch_size),epochs=epochs)\r\n",
        "history = model_sg_bi.evaluate(x = vec_gen(w2v_sg,vocab_sg,X_test,y_test,batch_size,Max_input_size,Embedding_size,mul_factor),steps=int(len(y_test)/batch_size))\r\n",
        "print(history)\r\n",
        "\r\n",
        "result_table[1]=history[1]\r\n",
        "print(\"SG_BI\")"
      ],
      "execution_count": 16,
      "outputs": [
        {
          "output_type": "stream",
          "text": [
            "Epoch 1/20\n",
            " 2/24 [=>............................] - ETA: 1s - loss: 1.3835 - accuracy: 0.3910WARNING:tensorflow:Callbacks method `on_train_batch_end` is slow compared to the batch time (batch time: 0.0449s vs `on_train_batch_end` time: 0.1143s). Check your callbacks.\n",
            "24/24 [==============================] - 6s 231ms/step - loss: 1.2183 - accuracy: 0.5708\n",
            "Epoch 2/20\n",
            "24/24 [==============================] - 6s 247ms/step - loss: 1.0012 - accuracy: 0.5863\n",
            "Epoch 3/20\n",
            "24/24 [==============================] - 6s 240ms/step - loss: 0.9842 - accuracy: 0.5863\n",
            "Epoch 4/20\n",
            "24/24 [==============================] - 6s 239ms/step - loss: 0.9835 - accuracy: 0.5863\n",
            "Epoch 5/20\n",
            "24/24 [==============================] - 6s 234ms/step - loss: 0.9832 - accuracy: 0.5863\n",
            "Epoch 6/20\n",
            "24/24 [==============================] - 5s 228ms/step - loss: 0.9831 - accuracy: 0.5863\n",
            "Epoch 7/20\n",
            "24/24 [==============================] - 5s 228ms/step - loss: 0.9829 - accuracy: 0.5863\n",
            "Epoch 8/20\n",
            "24/24 [==============================] - 6s 230ms/step - loss: 0.9828 - accuracy: 0.5863\n",
            "Epoch 9/20\n",
            "24/24 [==============================] - 6s 231ms/step - loss: 0.9826 - accuracy: 0.5863\n",
            "Epoch 10/20\n",
            "24/24 [==============================] - 6s 232ms/step - loss: 0.9824 - accuracy: 0.5863\n",
            "Epoch 11/20\n",
            "24/24 [==============================] - 6s 230ms/step - loss: 0.9821 - accuracy: 0.5863\n",
            "Epoch 12/20\n",
            "24/24 [==============================] - 6s 233ms/step - loss: 0.9818 - accuracy: 0.5863\n",
            "Epoch 13/20\n",
            "24/24 [==============================] - 6s 235ms/step - loss: 0.9815 - accuracy: 0.5863\n",
            "Epoch 14/20\n",
            "24/24 [==============================] - 6s 235ms/step - loss: 0.9812 - accuracy: 0.5863\n",
            "Epoch 15/20\n",
            "24/24 [==============================] - 6s 234ms/step - loss: 0.9808 - accuracy: 0.5863\n",
            "Epoch 16/20\n",
            "24/24 [==============================] - 6s 234ms/step - loss: 0.9803 - accuracy: 0.5863\n",
            "Epoch 17/20\n",
            "24/24 [==============================] - 6s 231ms/step - loss: 0.9795 - accuracy: 0.5863\n",
            "Epoch 18/20\n",
            "24/24 [==============================] - 6s 230ms/step - loss: 0.9785 - accuracy: 0.5863\n",
            "Epoch 19/20\n",
            "24/24 [==============================] - 6s 234ms/step - loss: 0.9771 - accuracy: 0.5863\n",
            "Epoch 20/20\n",
            "24/24 [==============================] - 6s 232ms/step - loss: 0.9745 - accuracy: 0.5863\n",
            " 2/24 [=>............................] - ETA: 3s - loss: 0.9637 - accuracy: 0.6000WARNING:tensorflow:Callbacks method `on_test_batch_end` is slow compared to the batch time (batch time: 0.0717s vs `on_test_batch_end` time: 0.1781s). Check your callbacks.\n",
            "24/24 [==============================] - 6s 234ms/step - loss: 0.9741 - accuracy: 0.5845\n",
            "[0.9740743637084961, 0.5845000147819519]\n",
            "SG_BI\n"
          ],
          "name": "stdout"
        }
      ]
    },
    {
      "cell_type": "code",
      "metadata": {
        "id": "opfhhYPH1VoL",
        "colab": {
          "base_uri": "https://localhost:8080/"
        },
        "outputId": "5dea535c-029c-487b-e1dc-fcf33ed59607"
      },
      "source": [
        "model_sg_rnn = tf.keras.Sequential()\r\n",
        "model_sg_rnn.add(tf.keras.Input(shape=(Max_input_size,Embedding_size)))\r\n",
        "model_sg_rnn.add(tf.keras.layers.SimpleRNN(50))\r\n",
        "model_sg_rnn.add(tf.keras.layers.Dense(4, activation='softmax'))\r\n",
        "model_sg_rnn.compile(loss='categorical_crossentropy',optimizer='adam', \r\n",
        "                           metrics=['accuracy'])\r\n",
        "history = model_sg_rnn.fit_generator(generator = vec_gen(w2v_sg,vocab_sg,X_train,y_train,batch_size,Max_input_size,Embedding_size,mul_factor),steps_per_epoch=int(len(X_train)/batch_size),epochs=epochs)\r\n",
        "history = model_sg_rnn.evaluate(x = vec_gen(w2v_sg,vocab_sg,X_test,y_test,batch_size,Max_input_size,Embedding_size,mul_factor),steps=int(len(y_test)/batch_size))\r\n",
        "print(history)\r\n",
        "\r\n",
        "result_table[2]=history[1]\r\n",
        "print(\"SG_RNN\")"
      ],
      "execution_count": 17,
      "outputs": [
        {
          "output_type": "stream",
          "text": [
            "Epoch 1/20\n",
            "24/24 [==============================] - 6s 248ms/step - loss: 1.1229 - accuracy: 0.5687\n",
            "Epoch 2/20\n",
            "24/24 [==============================] - 6s 253ms/step - loss: 0.9871 - accuracy: 0.5863\n",
            "Epoch 3/20\n",
            "24/24 [==============================] - 6s 254ms/step - loss: 0.9840 - accuracy: 0.5863\n",
            "Epoch 4/20\n",
            "24/24 [==============================] - 6s 249ms/step - loss: 0.9838 - accuracy: 0.5863\n",
            "Epoch 5/20\n",
            "24/24 [==============================] - 6s 253ms/step - loss: 0.9837 - accuracy: 0.5863\n",
            "Epoch 6/20\n",
            "24/24 [==============================] - 6s 261ms/step - loss: 0.9837 - accuracy: 0.5863\n",
            "Epoch 7/20\n",
            "24/24 [==============================] - 6s 253ms/step - loss: 0.9836 - accuracy: 0.5863\n",
            "Epoch 8/20\n",
            "24/24 [==============================] - 6s 247ms/step - loss: 0.9836 - accuracy: 0.5863\n",
            "Epoch 9/20\n",
            "24/24 [==============================] - 6s 250ms/step - loss: 0.9836 - accuracy: 0.5863\n",
            "Epoch 10/20\n",
            "24/24 [==============================] - 6s 255ms/step - loss: 0.9836 - accuracy: 0.5863\n",
            "Epoch 11/20\n",
            "24/24 [==============================] - 6s 252ms/step - loss: 0.9836 - accuracy: 0.5863\n",
            "Epoch 12/20\n",
            "24/24 [==============================] - 6s 256ms/step - loss: 0.9836 - accuracy: 0.5863\n",
            "Epoch 13/20\n",
            "24/24 [==============================] - 6s 257ms/step - loss: 0.9836 - accuracy: 0.5863\n",
            "Epoch 14/20\n",
            "24/24 [==============================] - 6s 256ms/step - loss: 0.9836 - accuracy: 0.5863\n",
            "Epoch 15/20\n",
            "24/24 [==============================] - 6s 249ms/step - loss: 0.9836 - accuracy: 0.5863\n",
            "Epoch 16/20\n",
            "24/24 [==============================] - 6s 259ms/step - loss: 0.9836 - accuracy: 0.5863\n",
            "Epoch 17/20\n",
            "24/24 [==============================] - 6s 252ms/step - loss: 0.9836 - accuracy: 0.5863\n",
            "Epoch 18/20\n",
            "24/24 [==============================] - 6s 259ms/step - loss: 0.9836 - accuracy: 0.5863\n",
            "Epoch 19/20\n",
            "24/24 [==============================] - 6s 259ms/step - loss: 0.9836 - accuracy: 0.5863\n",
            "Epoch 20/20\n",
            "24/24 [==============================] - 6s 253ms/step - loss: 0.9836 - accuracy: 0.5863\n",
            " 2/24 [=>............................] - ETA: 3s - loss: 0.9745 - accuracy: 0.6000WARNING:tensorflow:Callbacks method `on_test_batch_end` is slow compared to the batch time (batch time: 0.0676s vs `on_test_batch_end` time: 0.1058s). Check your callbacks.\n",
            "24/24 [==============================] - 6s 232ms/step - loss: 0.9864 - accuracy: 0.5845\n",
            "[0.9863730669021606, 0.5845000147819519]\n",
            "SG_RNN\n"
          ],
          "name": "stdout"
        }
      ]
    },
    {
      "cell_type": "code",
      "metadata": {
        "id": "YumD1M9Y1Xxr",
        "colab": {
          "base_uri": "https://localhost:8080/"
        },
        "outputId": "2bddff22-9db0-49fc-bf02-7c091beb4491"
      },
      "source": [
        "model_cbow = tf.keras.Sequential()\r\n",
        "model_cbow.add(tf.keras.Input(shape=(Max_input_size,Embedding_size)))\r\n",
        "model_cbow.add(tf.keras.layers.LSTM(50))\r\n",
        "model_cbow.add(tf.keras.layers.Dense(4, activation='softmax'))\r\n",
        "model_cbow.compile(loss='categorical_crossentropy',optimizer='adam', \r\n",
        "                           metrics=['accuracy'])\r\n",
        "history = model_cbow.fit_generator(generator = vec_gen(w2v_cbow,vocab_cbow,X_train,y_train,batch_size,Max_input_size,Embedding_size,mul_factor),steps_per_epoch=int(len(X_train)/batch_size),epochs=epochs)\r\n",
        "history = model_cbow.evaluate(x = vec_gen(w2v_cbow,vocab_cbow,X_test,y_test,batch_size,Max_input_size,Embedding_size,mul_factor),steps=int(len(y_test)/batch_size))\r\n",
        "print(history)\r\n",
        "\r\n",
        "result_table[3]=history[1]\r\n",
        "print(\"CBOW_LSTM\")"
      ],
      "execution_count": 18,
      "outputs": [
        {
          "output_type": "stream",
          "text": [
            "Epoch 1/20\n",
            "24/24 [==============================] - 6s 234ms/step - loss: 1.2409 - accuracy: 0.5728\n",
            "Epoch 2/20\n",
            "24/24 [==============================] - 6s 233ms/step - loss: 1.0075 - accuracy: 0.5863\n",
            "Epoch 3/20\n",
            "24/24 [==============================] - 6s 233ms/step - loss: 0.9838 - accuracy: 0.5863\n",
            "Epoch 4/20\n",
            "24/24 [==============================] - 6s 235ms/step - loss: 0.9836 - accuracy: 0.5863\n",
            "Epoch 5/20\n",
            "24/24 [==============================] - 6s 236ms/step - loss: 0.9836 - accuracy: 0.5863\n",
            "Epoch 6/20\n",
            "24/24 [==============================] - 6s 233ms/step - loss: 0.9836 - accuracy: 0.5863\n",
            "Epoch 7/20\n",
            "24/24 [==============================] - 6s 234ms/step - loss: 0.9836 - accuracy: 0.5863\n",
            "Epoch 8/20\n",
            "24/24 [==============================] - 6s 235ms/step - loss: 0.9835 - accuracy: 0.5863\n",
            "Epoch 9/20\n",
            "24/24 [==============================] - 6s 237ms/step - loss: 0.9835 - accuracy: 0.5863\n",
            "Epoch 10/20\n",
            "24/24 [==============================] - 6s 240ms/step - loss: 0.9835 - accuracy: 0.5863\n",
            "Epoch 11/20\n",
            "24/24 [==============================] - 6s 249ms/step - loss: 0.9834 - accuracy: 0.5863\n",
            "Epoch 12/20\n",
            "24/24 [==============================] - 6s 252ms/step - loss: 0.9834 - accuracy: 0.5863\n",
            "Epoch 13/20\n",
            "24/24 [==============================] - 6s 247ms/step - loss: 0.9833 - accuracy: 0.5863\n",
            "Epoch 14/20\n",
            "24/24 [==============================] - 6s 230ms/step - loss: 0.9832 - accuracy: 0.5863\n",
            "Epoch 15/20\n",
            "24/24 [==============================] - 6s 233ms/step - loss: 0.9830 - accuracy: 0.5863\n",
            "Epoch 16/20\n",
            "24/24 [==============================] - 6s 234ms/step - loss: 0.9827 - accuracy: 0.5863\n",
            "Epoch 17/20\n",
            "24/24 [==============================] - 6s 235ms/step - loss: 0.9822 - accuracy: 0.5863\n",
            "Epoch 18/20\n",
            "24/24 [==============================] - 6s 237ms/step - loss: 0.9812 - accuracy: 0.5863\n",
            "Epoch 19/20\n",
            "24/24 [==============================] - 6s 235ms/step - loss: 0.9791 - accuracy: 0.5863\n",
            "Epoch 20/20\n",
            "24/24 [==============================] - 6s 237ms/step - loss: 0.9774 - accuracy: 0.5863\n",
            " 2/24 [=>............................] - ETA: 2s - loss: 0.9725 - accuracy: 0.6000WARNING:tensorflow:Callbacks method `on_test_batch_end` is slow compared to the batch time (batch time: 0.0799s vs `on_test_batch_end` time: 0.2025s). Check your callbacks.\n",
            "24/24 [==============================] - 6s 231ms/step - loss: 0.9777 - accuracy: 0.5845\n",
            "[0.9777190089225769, 0.5845000147819519]\n",
            "CBOW_LSTM\n"
          ],
          "name": "stdout"
        }
      ]
    },
    {
      "cell_type": "code",
      "metadata": {
        "id": "01yVMiF41ZtT",
        "colab": {
          "base_uri": "https://localhost:8080/"
        },
        "outputId": "56a46a09-d2b3-42aa-e976-65cee288f4c8"
      },
      "source": [
        "model_cbow_bi = tf.keras.Sequential()\r\n",
        "model_cbow_bi.add(tf.keras.Input(shape=(Max_input_size,Embedding_size)))\r\n",
        "model_cbow_bi.add(tf.keras.layers.Bidirectional(tf.keras.layers.LSTM(50),merge_mode='concat'))\r\n",
        "model_cbow_bi.add(tf.keras.layers.Dense(4, activation='softmax'))\r\n",
        "model_cbow_bi.compile(loss='categorical_crossentropy',optimizer='adam', \r\n",
        "                           metrics=['accuracy'])\r\n",
        "history = model_cbow_bi.fit_generator(generator = vec_gen(w2v_cbow,vocab_cbow,X_train,y_train,batch_size,Max_input_size,Embedding_size,mul_factor),steps_per_epoch=int(len(X_train)/batch_size),epochs=epochs)\r\n",
        "history = model_cbow_bi.evaluate(x = vec_gen(w2v_cbow,vocab_cbow,X_test,y_test,batch_size,Max_input_size,Embedding_size,mul_factor),steps=int(len(y_test)/batch_size))\r\n",
        "print(history)\r\n",
        "\r\n",
        "result_table[4]=history[1]\r\n",
        "print(\"CBOW_BI\")"
      ],
      "execution_count": 19,
      "outputs": [
        {
          "output_type": "stream",
          "text": [
            "Epoch 1/20\n",
            "24/24 [==============================] - 6s 232ms/step - loss: 1.2166 - accuracy: 0.5710\n",
            "Epoch 2/20\n",
            "24/24 [==============================] - 6s 236ms/step - loss: 1.0030 - accuracy: 0.5863\n",
            "Epoch 3/20\n",
            "24/24 [==============================] - 6s 239ms/step - loss: 0.9836 - accuracy: 0.5863\n",
            "Epoch 4/20\n",
            "24/24 [==============================] - 6s 239ms/step - loss: 0.9834 - accuracy: 0.5863\n",
            "Epoch 5/20\n",
            "24/24 [==============================] - 6s 233ms/step - loss: 0.9832 - accuracy: 0.5863\n",
            "Epoch 6/20\n",
            "24/24 [==============================] - 6s 236ms/step - loss: 0.9831 - accuracy: 0.5863\n",
            "Epoch 7/20\n",
            "24/24 [==============================] - 6s 232ms/step - loss: 0.9829 - accuracy: 0.5863\n",
            "Epoch 8/20\n",
            "24/24 [==============================] - 6s 234ms/step - loss: 0.9827 - accuracy: 0.5863\n",
            "Epoch 9/20\n",
            "24/24 [==============================] - 6s 235ms/step - loss: 0.9826 - accuracy: 0.5863\n",
            "Epoch 10/20\n",
            "24/24 [==============================] - 6s 236ms/step - loss: 0.9823 - accuracy: 0.5863\n",
            "Epoch 11/20\n",
            "24/24 [==============================] - 6s 236ms/step - loss: 0.9821 - accuracy: 0.5863\n",
            "Epoch 12/20\n",
            "24/24 [==============================] - 6s 232ms/step - loss: 0.9818 - accuracy: 0.5863\n",
            "Epoch 13/20\n",
            "24/24 [==============================] - 6s 236ms/step - loss: 0.9815 - accuracy: 0.5863\n",
            "Epoch 14/20\n",
            "24/24 [==============================] - 6s 233ms/step - loss: 0.9810 - accuracy: 0.5863\n",
            "Epoch 15/20\n",
            "24/24 [==============================] - 6s 235ms/step - loss: 0.9800 - accuracy: 0.5863\n",
            "Epoch 16/20\n",
            "24/24 [==============================] - 6s 239ms/step - loss: 0.9778 - accuracy: 0.5863\n",
            "Epoch 17/20\n",
            "24/24 [==============================] - 6s 242ms/step - loss: 0.9770 - accuracy: 0.5863\n",
            "Epoch 18/20\n",
            "24/24 [==============================] - 6s 236ms/step - loss: 0.9759 - accuracy: 0.5863\n",
            "Epoch 19/20\n",
            "24/24 [==============================] - 6s 234ms/step - loss: 0.9730 - accuracy: 0.5863\n",
            "Epoch 20/20\n",
            "24/24 [==============================] - 6s 233ms/step - loss: 0.9718 - accuracy: 0.5863\n",
            " 2/24 [=>............................] - ETA: 2s - loss: 0.9650 - accuracy: 0.6000WARNING:tensorflow:Callbacks method `on_test_batch_end` is slow compared to the batch time (batch time: 0.0365s vs `on_test_batch_end` time: 0.2102s). Check your callbacks.\n",
            "24/24 [==============================] - 6s 234ms/step - loss: 0.9716 - accuracy: 0.5845\n",
            "[0.9716456532478333, 0.5845000147819519]\n",
            "CBOW_BI\n"
          ],
          "name": "stdout"
        }
      ]
    },
    {
      "cell_type": "code",
      "metadata": {
        "id": "N_G3Ff5r1bSD",
        "colab": {
          "base_uri": "https://localhost:8080/"
        },
        "outputId": "bfc092c6-8c65-4f82-d0bf-db748cdfc649"
      },
      "source": [
        "model_cbow_rnn = tf.keras.Sequential()\r\n",
        "model_cbow_rnn.add(tf.keras.Input(shape=(Max_input_size,Embedding_size)))\r\n",
        "model_cbow_rnn.add(tf.keras.layers.SimpleRNN(50))\r\n",
        "model_cbow_rnn.add(tf.keras.layers.Dense(4, activation='softmax'))\r\n",
        "model_cbow_rnn.compile(loss='categorical_crossentropy',optimizer='adam', \r\n",
        "                           metrics=['accuracy'])\r\n",
        "history = model_cbow_rnn.fit_generator(generator = vec_gen(w2v_cbow,vocab_cbow,X_train,y_train,batch_size,Max_input_size,Embedding_size,mul_factor),steps_per_epoch=int(len(X_train)/batch_size),epochs=epochs)\r\n",
        "history = model_cbow_rnn.evaluate(x = vec_gen(w2v_cbow,vocab_cbow,X_test,y_test,batch_size,Max_input_size,Embedding_size,mul_factor),steps=int(len(y_test)/batch_size))\r\n",
        "print(history)\r\n",
        "\r\n",
        "result_table[5]=history[1]\r\n",
        "print(\"CBOW_RNN\")"
      ],
      "execution_count": 20,
      "outputs": [
        {
          "output_type": "stream",
          "text": [
            "Epoch 1/20\n",
            "24/24 [==============================] - 6s 247ms/step - loss: 1.1128 - accuracy: 0.5674\n",
            "Epoch 2/20\n",
            "24/24 [==============================] - 6s 245ms/step - loss: 0.9859 - accuracy: 0.5863\n",
            "Epoch 3/20\n",
            "24/24 [==============================] - 6s 245ms/step - loss: 0.9842 - accuracy: 0.5863\n",
            "Epoch 4/20\n",
            "24/24 [==============================] - 6s 247ms/step - loss: 0.9840 - accuracy: 0.5863\n",
            "Epoch 5/20\n",
            "24/24 [==============================] - 6s 245ms/step - loss: 0.9840 - accuracy: 0.5863\n",
            "Epoch 6/20\n",
            "24/24 [==============================] - 6s 242ms/step - loss: 0.9840 - accuracy: 0.5863\n",
            "Epoch 7/20\n",
            "24/24 [==============================] - 6s 245ms/step - loss: 0.9840 - accuracy: 0.5863\n",
            "Epoch 8/20\n",
            "24/24 [==============================] - 6s 243ms/step - loss: 0.9840 - accuracy: 0.5863\n",
            "Epoch 9/20\n",
            "24/24 [==============================] - 6s 246ms/step - loss: 0.9840 - accuracy: 0.5863\n",
            "Epoch 10/20\n",
            "24/24 [==============================] - 6s 249ms/step - loss: 0.9840 - accuracy: 0.5863\n",
            "Epoch 11/20\n",
            "24/24 [==============================] - 6s 247ms/step - loss: 0.9840 - accuracy: 0.5863\n",
            "Epoch 12/20\n",
            "24/24 [==============================] - 6s 240ms/step - loss: 0.9840 - accuracy: 0.5863\n",
            "Epoch 13/20\n",
            "24/24 [==============================] - 6s 243ms/step - loss: 0.9839 - accuracy: 0.5863\n",
            "Epoch 14/20\n",
            "24/24 [==============================] - 6s 245ms/step - loss: 0.9839 - accuracy: 0.5863\n",
            "Epoch 15/20\n",
            "24/24 [==============================] - 6s 245ms/step - loss: 0.9839 - accuracy: 0.5863\n",
            "Epoch 16/20\n",
            "24/24 [==============================] - 6s 241ms/step - loss: 0.9839 - accuracy: 0.5863\n",
            "Epoch 17/20\n",
            "24/24 [==============================] - 6s 243ms/step - loss: 0.9839 - accuracy: 0.5863\n",
            "Epoch 18/20\n",
            "24/24 [==============================] - 6s 243ms/step - loss: 0.9839 - accuracy: 0.5863\n",
            "Epoch 19/20\n",
            "24/24 [==============================] - 6s 241ms/step - loss: 0.9839 - accuracy: 0.5863\n",
            "Epoch 20/20\n",
            "24/24 [==============================] - 6s 243ms/step - loss: 0.9839 - accuracy: 0.5863\n",
            "24/24 [==============================] - 6s 235ms/step - loss: 0.9865 - accuracy: 0.5845\n",
            "[0.9864805340766907, 0.5845000147819519]\n",
            "CBOW_RNN\n"
          ],
          "name": "stdout"
        }
      ]
    },
    {
      "cell_type": "code",
      "metadata": {
        "id": "aEglKIfExKKI"
      },
      "source": [
        "epochs=40\r\n",
        "Embedding_size=100"
      ],
      "execution_count": 21,
      "outputs": []
    },
    {
      "cell_type": "code",
      "metadata": {
        "id": "czoFmEwK1dWT",
        "colab": {
          "base_uri": "https://localhost:8080/"
        },
        "outputId": "66df6fdc-b549-4e50-cd88-f646d7441507"
      },
      "source": [
        "model_glove = tf.keras.Sequential()\r\n",
        "model_glove.add(tf.keras.Input(shape=(Max_input_size,100)))\r\n",
        "model_glove.add(tf.keras.layers.LSTM(50))\r\n",
        "model_glove.add(tf.keras.layers.Dense(4, activation='softmax'))\r\n",
        "model_glove.compile(loss='categorical_crossentropy',optimizer='adam', \r\n",
        "                           metrics=['accuracy'])\r\n",
        "history = model_glove.fit_generator(generator = glove_gen(vocab_glove,X_train,y_train,batch_size,Max_input_size,Embedding_size,mul_factor),steps_per_epoch=int(len(X_train)/batch_size),epochs=epochs)\r\n",
        "history = model_glove.evaluate(x = glove_gen(vocab_glove,X_test,y_test,batch_size,Max_input_size,Embedding_size,mul_factor),steps=int(len(y_test)/batch_size))\r\n",
        "print(history)\r\n",
        "\r\n",
        "result_table[6]=history[1]\r\n",
        "print(\"GLOVE_LSTM\")\r\n"
      ],
      "execution_count": 22,
      "outputs": [
        {
          "output_type": "stream",
          "text": [
            "Epoch 1/40\n",
            "24/24 [==============================] - 1s 51ms/step - loss: 1.2059 - accuracy: 0.5411\n",
            "Epoch 2/40\n",
            "24/24 [==============================] - 1s 52ms/step - loss: 0.9851 - accuracy: 0.5863\n",
            "Epoch 3/40\n",
            "24/24 [==============================] - 1s 53ms/step - loss: 0.9749 - accuracy: 0.5864\n",
            "Epoch 4/40\n",
            "24/24 [==============================] - 1s 52ms/step - loss: 0.9724 - accuracy: 0.5864\n",
            "Epoch 5/40\n",
            "24/24 [==============================] - 1s 51ms/step - loss: 0.9706 - accuracy: 0.5864\n",
            "Epoch 6/40\n",
            "24/24 [==============================] - 1s 50ms/step - loss: 0.9678 - accuracy: 0.5864\n",
            "Epoch 7/40\n",
            "24/24 [==============================] - 1s 53ms/step - loss: 0.9620 - accuracy: 0.5864\n",
            "Epoch 8/40\n",
            "24/24 [==============================] - 1s 50ms/step - loss: 0.9541 - accuracy: 0.5867\n",
            "Epoch 9/40\n",
            "24/24 [==============================] - 1s 50ms/step - loss: 0.9459 - accuracy: 0.5885\n",
            "Epoch 10/40\n",
            "24/24 [==============================] - 1s 51ms/step - loss: 0.9378 - accuracy: 0.5925\n",
            "Epoch 11/40\n",
            "24/24 [==============================] - 1s 51ms/step - loss: 0.9267 - accuracy: 0.5968\n",
            "Epoch 12/40\n",
            "24/24 [==============================] - 1s 48ms/step - loss: 0.9027 - accuracy: 0.6091\n",
            "Epoch 13/40\n",
            "24/24 [==============================] - 1s 49ms/step - loss: 0.8861 - accuracy: 0.6140\n",
            "Epoch 14/40\n",
            "24/24 [==============================] - 1s 49ms/step - loss: 0.8680 - accuracy: 0.6259\n",
            "Epoch 15/40\n",
            "24/24 [==============================] - 1s 49ms/step - loss: 0.8525 - accuracy: 0.6361\n",
            "Epoch 16/40\n",
            "24/24 [==============================] - 1s 49ms/step - loss: 0.8400 - accuracy: 0.6429\n",
            "Epoch 17/40\n",
            "24/24 [==============================] - 1s 49ms/step - loss: 0.8271 - accuracy: 0.6538\n",
            "Epoch 18/40\n",
            "24/24 [==============================] - 1s 49ms/step - loss: 0.8135 - accuracy: 0.6668\n",
            "Epoch 19/40\n",
            "24/24 [==============================] - 1s 48ms/step - loss: 0.7989 - accuracy: 0.6786\n",
            "Epoch 20/40\n",
            "24/24 [==============================] - 1s 49ms/step - loss: 0.7835 - accuracy: 0.6883\n",
            "Epoch 21/40\n",
            "24/24 [==============================] - 1s 49ms/step - loss: 0.7712 - accuracy: 0.6941\n",
            "Epoch 22/40\n",
            "24/24 [==============================] - 1s 49ms/step - loss: 0.7889 - accuracy: 0.6789\n",
            "Epoch 23/40\n",
            "24/24 [==============================] - 1s 49ms/step - loss: 0.7664 - accuracy: 0.6948\n",
            "Epoch 24/40\n",
            "24/24 [==============================] - 1s 50ms/step - loss: 0.7485 - accuracy: 0.7080\n",
            "Epoch 25/40\n",
            "24/24 [==============================] - 1s 50ms/step - loss: 0.7294 - accuracy: 0.7219\n",
            "Epoch 26/40\n",
            "24/24 [==============================] - 1s 49ms/step - loss: 0.7153 - accuracy: 0.7356\n",
            "Epoch 27/40\n",
            "24/24 [==============================] - 1s 49ms/step - loss: 0.7062 - accuracy: 0.7382\n",
            "Epoch 28/40\n",
            "24/24 [==============================] - 1s 49ms/step - loss: 0.7263 - accuracy: 0.7218\n",
            "Epoch 29/40\n",
            "24/24 [==============================] - 1s 49ms/step - loss: 0.7500 - accuracy: 0.7020\n",
            "Epoch 30/40\n",
            "24/24 [==============================] - 1s 48ms/step - loss: 0.7351 - accuracy: 0.7126\n",
            "Epoch 31/40\n",
            "24/24 [==============================] - 1s 49ms/step - loss: 0.6918 - accuracy: 0.7446\n",
            "Epoch 32/40\n",
            "24/24 [==============================] - 1s 50ms/step - loss: 0.6694 - accuracy: 0.7616\n",
            "Epoch 33/40\n",
            "24/24 [==============================] - 1s 49ms/step - loss: 0.6590 - accuracy: 0.7687\n",
            "Epoch 34/40\n",
            "24/24 [==============================] - 1s 50ms/step - loss: 0.6658 - accuracy: 0.7602\n",
            "Epoch 35/40\n",
            "24/24 [==============================] - 1s 49ms/step - loss: 0.6763 - accuracy: 0.7515\n",
            "Epoch 36/40\n",
            "24/24 [==============================] - 1s 49ms/step - loss: 0.6967 - accuracy: 0.7433\n",
            "Epoch 37/40\n",
            "24/24 [==============================] - 1s 48ms/step - loss: 0.6619 - accuracy: 0.7597\n",
            "Epoch 38/40\n",
            "24/24 [==============================] - 1s 49ms/step - loss: 0.6507 - accuracy: 0.7684\n",
            "Epoch 39/40\n",
            "24/24 [==============================] - 1s 49ms/step - loss: 0.6644 - accuracy: 0.7576\n",
            "Epoch 40/40\n",
            "24/24 [==============================] - 1s 49ms/step - loss: 0.7013 - accuracy: 0.7308\n",
            "24/24 [==============================] - 1s 50ms/step - loss: 0.6696 - accuracy: 0.7503\n",
            "[0.6696233749389648, 0.750333309173584]\n",
            "GLOVE_LSTM\n"
          ],
          "name": "stdout"
        }
      ]
    },
    {
      "cell_type": "code",
      "metadata": {
        "id": "fKM9PEwm1fkb",
        "colab": {
          "base_uri": "https://localhost:8080/"
        },
        "outputId": "1fbbf498-e712-4d9f-9d3a-e0be69058800"
      },
      "source": [
        "model_glove_bi = tf.keras.Sequential()\r\n",
        "model_glove_bi.add(tf.keras.Input(shape=(Max_input_size,100)))\r\n",
        "model_glove_bi.add(tf.keras.layers.Bidirectional(tf.keras.layers.LSTM(50),merge_mode='concat'))\r\n",
        "model_glove_bi.add(tf.keras.layers.Dense(4, activation='softmax'))\r\n",
        "model_glove_bi.compile(loss='categorical_crossentropy',optimizer='adam', \r\n",
        "                           metrics=['accuracy'])\r\n",
        "history = model_glove_bi.fit_generator(generator = glove_gen(vocab_glove,X_train,y_train,batch_size,Max_input_size,Embedding_size,mul_factor),steps_per_epoch=int(len(X_train)/batch_size),epochs=epochs)\r\n",
        "history = model_glove_bi.evaluate(x = glove_gen(vocab_glove,X_test,y_test,batch_size,Max_input_size,Embedding_size,mul_factor),steps=int(len(y_test)/batch_size))\r\n",
        "print(history)\r\n",
        "\r\n",
        "result_table[7]=history[1]\r\n",
        "print(\"GLOVE_BI\")"
      ],
      "execution_count": 23,
      "outputs": [
        {
          "output_type": "stream",
          "text": [
            "Epoch 1/40\n",
            "24/24 [==============================] - 1s 53ms/step - loss: 1.0794 - accuracy: 0.5713\n",
            "Epoch 2/40\n",
            "24/24 [==============================] - 1s 54ms/step - loss: 0.9637 - accuracy: 0.5867\n",
            "Epoch 3/40\n",
            "24/24 [==============================] - 1s 54ms/step - loss: 0.9443 - accuracy: 0.5891\n",
            "Epoch 4/40\n",
            "24/24 [==============================] - 1s 53ms/step - loss: 0.9285 - accuracy: 0.5914\n",
            "Epoch 5/40\n",
            "24/24 [==============================] - 1s 53ms/step - loss: 0.9111 - accuracy: 0.5993\n",
            "Epoch 6/40\n",
            "24/24 [==============================] - 1s 53ms/step - loss: 0.8953 - accuracy: 0.6063\n",
            "Epoch 7/40\n",
            "24/24 [==============================] - 1s 53ms/step - loss: 0.8823 - accuracy: 0.6146\n",
            "Epoch 8/40\n",
            "24/24 [==============================] - 1s 54ms/step - loss: 0.8713 - accuracy: 0.6212\n",
            "Epoch 9/40\n",
            "24/24 [==============================] - 1s 54ms/step - loss: 0.8599 - accuracy: 0.6258\n",
            "Epoch 10/40\n",
            "24/24 [==============================] - 1s 53ms/step - loss: 0.8483 - accuracy: 0.6332\n",
            "Epoch 11/40\n",
            "24/24 [==============================] - 1s 54ms/step - loss: 0.8355 - accuracy: 0.6398\n",
            "Epoch 12/40\n",
            "24/24 [==============================] - 1s 54ms/step - loss: 0.8213 - accuracy: 0.6467\n",
            "Epoch 13/40\n",
            "24/24 [==============================] - 1s 55ms/step - loss: 0.8084 - accuracy: 0.6538\n",
            "Epoch 14/40\n",
            "24/24 [==============================] - 1s 54ms/step - loss: 0.7972 - accuracy: 0.6620\n",
            "Epoch 15/40\n",
            "24/24 [==============================] - 1s 54ms/step - loss: 0.7910 - accuracy: 0.6612\n",
            "Epoch 16/40\n",
            "24/24 [==============================] - 1s 54ms/step - loss: 0.7716 - accuracy: 0.6714\n",
            "Epoch 17/40\n",
            "24/24 [==============================] - 1s 53ms/step - loss: 0.7549 - accuracy: 0.6815\n",
            "Epoch 18/40\n",
            "24/24 [==============================] - 1s 54ms/step - loss: 0.7346 - accuracy: 0.6953\n",
            "Epoch 19/40\n",
            "24/24 [==============================] - 1s 55ms/step - loss: 0.7173 - accuracy: 0.7015\n",
            "Epoch 20/40\n",
            "24/24 [==============================] - 1s 54ms/step - loss: 0.7066 - accuracy: 0.7101\n",
            "Epoch 21/40\n",
            "24/24 [==============================] - 1s 55ms/step - loss: 0.6901 - accuracy: 0.7182\n",
            "Epoch 22/40\n",
            "24/24 [==============================] - 1s 55ms/step - loss: 0.6799 - accuracy: 0.7253\n",
            "Epoch 23/40\n",
            "24/24 [==============================] - 1s 55ms/step - loss: 0.6762 - accuracy: 0.7264\n",
            "Epoch 24/40\n",
            "24/24 [==============================] - 1s 54ms/step - loss: 0.6479 - accuracy: 0.7434\n",
            "Epoch 25/40\n",
            "24/24 [==============================] - 1s 54ms/step - loss: 0.6156 - accuracy: 0.7620\n",
            "Epoch 26/40\n",
            "24/24 [==============================] - 1s 54ms/step - loss: 0.6024 - accuracy: 0.7678\n",
            "Epoch 27/40\n",
            "24/24 [==============================] - 1s 56ms/step - loss: 0.6097 - accuracy: 0.7588\n",
            "Epoch 28/40\n",
            "24/24 [==============================] - 1s 54ms/step - loss: 0.6321 - accuracy: 0.7434\n",
            "Epoch 29/40\n",
            "24/24 [==============================] - 1s 56ms/step - loss: 0.6218 - accuracy: 0.7501\n",
            "Epoch 30/40\n",
            "24/24 [==============================] - 1s 55ms/step - loss: 0.6648 - accuracy: 0.7333\n",
            "Epoch 31/40\n",
            "24/24 [==============================] - 1s 54ms/step - loss: 0.5802 - accuracy: 0.7797\n",
            "Epoch 32/40\n",
            "24/24 [==============================] - 1s 55ms/step - loss: 0.5675 - accuracy: 0.7805\n",
            "Epoch 33/40\n",
            "24/24 [==============================] - 1s 56ms/step - loss: 0.5265 - accuracy: 0.8038\n",
            "Epoch 34/40\n",
            "24/24 [==============================] - 1s 53ms/step - loss: 0.4973 - accuracy: 0.8168\n",
            "Epoch 35/40\n",
            "24/24 [==============================] - 1s 54ms/step - loss: 0.4768 - accuracy: 0.8261\n",
            "Epoch 36/40\n",
            "24/24 [==============================] - 1s 56ms/step - loss: 0.4577 - accuracy: 0.8328\n",
            "Epoch 37/40\n",
            "24/24 [==============================] - 1s 54ms/step - loss: 0.4458 - accuracy: 0.8382\n",
            "Epoch 38/40\n",
            "24/24 [==============================] - 1s 54ms/step - loss: 0.4435 - accuracy: 0.8397\n",
            "Epoch 39/40\n",
            "24/24 [==============================] - 1s 54ms/step - loss: 0.4757 - accuracy: 0.8166\n",
            "Epoch 40/40\n",
            "24/24 [==============================] - 1s 55ms/step - loss: 0.5304 - accuracy: 0.7953\n",
            "24/24 [==============================] - 1s 50ms/step - loss: 0.5268 - accuracy: 0.7973\n",
            "[0.5268434882164001, 0.7973333597183228]\n",
            "GLOVE_BI\n"
          ],
          "name": "stdout"
        }
      ]
    },
    {
      "cell_type": "code",
      "metadata": {
        "id": "RQBa5s4s1hNU",
        "colab": {
          "base_uri": "https://localhost:8080/"
        },
        "outputId": "c0a58b76-807b-49dd-9f5c-406d4537356e"
      },
      "source": [
        "model_glove_rnn = tf.keras.Sequential()\r\n",
        "model_glove_rnn.add(tf.keras.Input(shape=(Max_input_size,100)))\r\n",
        "model_glove_rnn.add(tf.keras.layers.SimpleRNN(50))\r\n",
        "model_glove_rnn.add(tf.keras.layers.Dense(4, activation='softmax'))\r\n",
        "model_glove_rnn.compile(loss='categorical_crossentropy',optimizer='adam', \r\n",
        "                           metrics=['accuracy'])\r\n",
        "history = model_glove_rnn.fit_generator(generator = glove_gen(vocab_glove,X_train,y_train,batch_size,Max_input_size,Embedding_size,mul_factor),steps_per_epoch=int(len(X_train)/batch_size),epochs=epochs)\r\n",
        "history = model_glove_rnn.evaluate(x = glove_gen(vocab_glove,X_test,y_test,batch_size,Max_input_size,Embedding_size,mul_factor),steps=int(len(y_test)/batch_size))\r\n",
        "print(history)\r\n",
        "\r\n",
        "result_table[8]=history[1]\r\n",
        "print(\"GLOVE_RNN\")"
      ],
      "execution_count": 24,
      "outputs": [
        {
          "output_type": "stream",
          "text": [
            "Epoch 1/40\n",
            "24/24 [==============================] - 2s 67ms/step - loss: 1.1080 - accuracy: 0.5210\n",
            "Epoch 2/40\n",
            "24/24 [==============================] - 2s 66ms/step - loss: 0.9901 - accuracy: 0.5853\n",
            "Epoch 3/40\n",
            "24/24 [==============================] - 2s 65ms/step - loss: 0.9878 - accuracy: 0.5857\n",
            "Epoch 4/40\n",
            "24/24 [==============================] - 2s 66ms/step - loss: 0.9876 - accuracy: 0.5857\n",
            "Epoch 5/40\n",
            "24/24 [==============================] - 2s 65ms/step - loss: 0.9875 - accuracy: 0.5857\n",
            "Epoch 6/40\n",
            "24/24 [==============================] - 2s 64ms/step - loss: 0.9867 - accuracy: 0.5858\n",
            "Epoch 7/40\n",
            "24/24 [==============================] - 2s 65ms/step - loss: 0.9860 - accuracy: 0.5860\n",
            "Epoch 8/40\n",
            "24/24 [==============================] - 2s 65ms/step - loss: 0.9857 - accuracy: 0.5859\n",
            "Epoch 9/40\n",
            "24/24 [==============================] - 2s 65ms/step - loss: 0.9844 - accuracy: 0.5860\n",
            "Epoch 10/40\n",
            "24/24 [==============================] - 2s 67ms/step - loss: 0.9816 - accuracy: 0.5862\n",
            "Epoch 11/40\n",
            "24/24 [==============================] - 2s 67ms/step - loss: 0.9768 - accuracy: 0.5861\n",
            "Epoch 12/40\n",
            "24/24 [==============================] - 2s 68ms/step - loss: 0.9750 - accuracy: 0.5863\n",
            "Epoch 13/40\n",
            "24/24 [==============================] - 2s 67ms/step - loss: 0.9726 - accuracy: 0.5863\n",
            "Epoch 14/40\n",
            "24/24 [==============================] - 2s 66ms/step - loss: 0.9676 - accuracy: 0.5863\n",
            "Epoch 15/40\n",
            "24/24 [==============================] - 2s 66ms/step - loss: 0.9656 - accuracy: 0.5864\n",
            "Epoch 16/40\n",
            "24/24 [==============================] - 2s 65ms/step - loss: 0.9602 - accuracy: 0.5865\n",
            "Epoch 17/40\n",
            "24/24 [==============================] - 2s 65ms/step - loss: 0.9576 - accuracy: 0.5872\n",
            "Epoch 18/40\n",
            "24/24 [==============================] - 2s 66ms/step - loss: 0.9544 - accuracy: 0.5872\n",
            "Epoch 19/40\n",
            "24/24 [==============================] - 2s 65ms/step - loss: 0.9471 - accuracy: 0.5903\n",
            "Epoch 20/40\n",
            "24/24 [==============================] - 2s 66ms/step - loss: 0.9446 - accuracy: 0.5941\n",
            "Epoch 21/40\n",
            "24/24 [==============================] - 2s 68ms/step - loss: 0.9422 - accuracy: 0.5947\n",
            "Epoch 22/40\n",
            "24/24 [==============================] - 2s 65ms/step - loss: 0.9311 - accuracy: 0.5980\n",
            "Epoch 23/40\n",
            "24/24 [==============================] - 2s 66ms/step - loss: 0.9262 - accuracy: 0.6002\n",
            "Epoch 24/40\n",
            "24/24 [==============================] - 2s 67ms/step - loss: 0.9216 - accuracy: 0.6033\n",
            "Epoch 25/40\n",
            "24/24 [==============================] - 2s 65ms/step - loss: 0.9209 - accuracy: 0.6008\n",
            "Epoch 26/40\n",
            "24/24 [==============================] - 2s 68ms/step - loss: 0.9093 - accuracy: 0.6097\n",
            "Epoch 27/40\n",
            "24/24 [==============================] - 2s 69ms/step - loss: 0.9044 - accuracy: 0.6120\n",
            "Epoch 28/40\n",
            "24/24 [==============================] - 2s 69ms/step - loss: 0.8975 - accuracy: 0.6175\n",
            "Epoch 29/40\n",
            "24/24 [==============================] - 2s 67ms/step - loss: 0.8914 - accuracy: 0.6225\n",
            "Epoch 30/40\n",
            "24/24 [==============================] - 2s 69ms/step - loss: 0.8961 - accuracy: 0.6190\n",
            "Epoch 31/40\n",
            "24/24 [==============================] - 2s 68ms/step - loss: 0.8948 - accuracy: 0.6176\n",
            "Epoch 32/40\n",
            "24/24 [==============================] - 2s 68ms/step - loss: 0.8750 - accuracy: 0.6317\n",
            "Epoch 33/40\n",
            "24/24 [==============================] - 2s 69ms/step - loss: 0.8647 - accuracy: 0.6370\n",
            "Epoch 34/40\n",
            "24/24 [==============================] - 2s 70ms/step - loss: 0.8573 - accuracy: 0.6437\n",
            "Epoch 35/40\n",
            "24/24 [==============================] - 2s 67ms/step - loss: 0.8499 - accuracy: 0.6476\n",
            "Epoch 36/40\n",
            "24/24 [==============================] - 2s 68ms/step - loss: 0.8441 - accuracy: 0.6517\n",
            "Epoch 37/40\n",
            "24/24 [==============================] - 2s 70ms/step - loss: 0.8471 - accuracy: 0.6478\n",
            "Epoch 38/40\n",
            "24/24 [==============================] - 2s 69ms/step - loss: 0.8615 - accuracy: 0.6348\n",
            "Epoch 39/40\n",
            "24/24 [==============================] - 2s 66ms/step - loss: 0.8493 - accuracy: 0.6450\n",
            "Epoch 40/40\n",
            "24/24 [==============================] - 2s 68ms/step - loss: 0.8388 - accuracy: 0.6510\n",
            "24/24 [==============================] - 1s 52ms/step - loss: 0.8520 - accuracy: 0.6434\n",
            "[0.8520349264144897, 0.6434166431427002]\n",
            "GLOVE_RNN\n"
          ],
          "name": "stdout"
        }
      ]
    },
    {
      "cell_type": "code",
      "metadata": {
        "id": "IdPYKennH7PF",
        "colab": {
          "base_uri": "https://localhost:8080/"
        },
        "outputId": "4bb764af-ff86-46d7-ae90-c7da0a4a07a3"
      },
      "source": [
        "model_sg1 = tf.keras.Sequential()\r\n",
        "model_sg1.add(tf.keras.Input(shape=(Max_input_size,100)))\r\n",
        "model_sg1.add(tf.keras.layers.LSTM(64))\r\n",
        "model_sg1.add(tf.keras.layers.Dropout(0.2))\r\n",
        "model_sg1.add(tf.keras.layers.Dense(64,activation='relu'))\r\n",
        "model_sg1.add(tf.keras.layers.Dropout(0.2))\r\n",
        "model_sg1.add(tf.keras.layers.Dense(4, activation='softmax'))\r\n",
        "model_sg1.compile(loss='categorical_crossentropy',optimizer='adam', \r\n",
        "                           metrics=['accuracy'])\r\n",
        "history = model_sg1.fit_generator(generator = vec_gen(w2v_sg,vocab_sg,X_train,y_train,batch_size,Max_input_size,Embedding_size,mul_factor),steps_per_epoch=int(len(X_train)/batch_size),epochs=epochs)\r\n",
        "history = model_sg1.evaluate(x = vec_gen(w2v_sg,vocab_sg,X_test,y_test,batch_size,Max_input_size,Embedding_size,mul_factor),steps=int(len(y_test)/batch_size))\r\n",
        "print(history)\r\n",
        "\r\n",
        "result_table+=[history[1]]\r\n",
        "print(\"SG_LSTM\")"
      ],
      "execution_count": 25,
      "outputs": [
        {
          "output_type": "stream",
          "text": [
            "Epoch 1/40\n",
            "24/24 [==============================] - 6s 230ms/step - loss: 1.2186 - accuracy: 0.5771\n",
            "Epoch 2/40\n",
            "24/24 [==============================] - 6s 241ms/step - loss: 1.0215 - accuracy: 0.5858\n",
            "Epoch 3/40\n",
            "24/24 [==============================] - 6s 238ms/step - loss: 1.0042 - accuracy: 0.5857\n",
            "Epoch 4/40\n",
            "24/24 [==============================] - 6s 235ms/step - loss: 0.9958 - accuracy: 0.5863\n",
            "Epoch 5/40\n",
            "24/24 [==============================] - 6s 235ms/step - loss: 0.9933 - accuracy: 0.5863\n",
            "Epoch 6/40\n",
            "24/24 [==============================] - 6s 236ms/step - loss: 0.9941 - accuracy: 0.5863\n",
            "Epoch 7/40\n",
            "24/24 [==============================] - 6s 236ms/step - loss: 0.9916 - accuracy: 0.5863\n",
            "Epoch 8/40\n",
            "24/24 [==============================] - 6s 235ms/step - loss: 0.9918 - accuracy: 0.5863\n",
            "Epoch 9/40\n",
            "24/24 [==============================] - 6s 233ms/step - loss: 0.9917 - accuracy: 0.5863\n",
            "Epoch 10/40\n",
            "24/24 [==============================] - 6s 235ms/step - loss: 0.9907 - accuracy: 0.5863\n",
            "Epoch 11/40\n",
            "24/24 [==============================] - 6s 235ms/step - loss: 0.9898 - accuracy: 0.5863\n",
            "Epoch 12/40\n",
            "24/24 [==============================] - 6s 239ms/step - loss: 0.9897 - accuracy: 0.5863\n",
            "Epoch 13/40\n",
            "24/24 [==============================] - 6s 238ms/step - loss: 0.9874 - accuracy: 0.5863\n",
            "Epoch 14/40\n",
            "24/24 [==============================] - 6s 233ms/step - loss: 0.9892 - accuracy: 0.5863\n",
            "Epoch 15/40\n",
            "24/24 [==============================] - 6s 234ms/step - loss: 0.9866 - accuracy: 0.5863\n",
            "Epoch 16/40\n",
            "24/24 [==============================] - 6s 233ms/step - loss: 0.9868 - accuracy: 0.5863\n",
            "Epoch 17/40\n",
            "24/24 [==============================] - 6s 231ms/step - loss: 0.9848 - accuracy: 0.5863\n",
            "Epoch 18/40\n",
            "24/24 [==============================] - 6s 237ms/step - loss: 0.9813 - accuracy: 0.5863\n",
            "Epoch 19/40\n",
            "24/24 [==============================] - 6s 237ms/step - loss: 0.9842 - accuracy: 0.5863\n",
            "Epoch 20/40\n",
            "24/24 [==============================] - 6s 236ms/step - loss: 0.9821 - accuracy: 0.5863\n",
            "Epoch 21/40\n",
            "24/24 [==============================] - 6s 234ms/step - loss: 0.9780 - accuracy: 0.5863\n",
            "Epoch 22/40\n",
            "24/24 [==============================] - 6s 240ms/step - loss: 0.9783 - accuracy: 0.5863\n",
            "Epoch 23/40\n",
            "24/24 [==============================] - 6s 253ms/step - loss: 0.9776 - accuracy: 0.5863\n",
            "Epoch 24/40\n",
            "24/24 [==============================] - 6s 245ms/step - loss: 0.9763 - accuracy: 0.5863\n",
            "Epoch 25/40\n",
            "24/24 [==============================] - 6s 235ms/step - loss: 0.9742 - accuracy: 0.5863\n",
            "Epoch 26/40\n",
            "24/24 [==============================] - 6s 237ms/step - loss: 0.9762 - accuracy: 0.5863\n",
            "Epoch 27/40\n",
            "24/24 [==============================] - 6s 240ms/step - loss: 0.9733 - accuracy: 0.5863\n",
            "Epoch 28/40\n",
            "24/24 [==============================] - 6s 233ms/step - loss: 0.9732 - accuracy: 0.5863\n",
            "Epoch 29/40\n",
            "24/24 [==============================] - 6s 236ms/step - loss: 0.9750 - accuracy: 0.5863\n",
            "Epoch 30/40\n",
            "24/24 [==============================] - 6s 233ms/step - loss: 0.9734 - accuracy: 0.5863\n",
            "Epoch 31/40\n",
            "24/24 [==============================] - 6s 233ms/step - loss: 0.9727 - accuracy: 0.5863\n",
            "Epoch 32/40\n",
            "24/24 [==============================] - 6s 232ms/step - loss: 0.9722 - accuracy: 0.5863\n",
            "Epoch 33/40\n",
            "24/24 [==============================] - 6s 232ms/step - loss: 0.9739 - accuracy: 0.5863\n",
            "Epoch 34/40\n",
            "24/24 [==============================] - 6s 234ms/step - loss: 0.9728 - accuracy: 0.5863\n",
            "Epoch 35/40\n",
            "24/24 [==============================] - 6s 234ms/step - loss: 0.9724 - accuracy: 0.5863\n",
            "Epoch 36/40\n",
            "24/24 [==============================] - 6s 235ms/step - loss: 0.9727 - accuracy: 0.5863\n",
            "Epoch 37/40\n",
            "24/24 [==============================] - 6s 233ms/step - loss: 0.9704 - accuracy: 0.5863\n",
            "Epoch 38/40\n",
            "24/24 [==============================] - 6s 234ms/step - loss: 0.9708 - accuracy: 0.5863\n",
            "Epoch 39/40\n",
            "24/24 [==============================] - 6s 232ms/step - loss: 0.9722 - accuracy: 0.5863\n",
            "Epoch 40/40\n",
            "24/24 [==============================] - 6s 236ms/step - loss: 0.9729 - accuracy: 0.5863\n",
            "24/24 [==============================] - 6s 241ms/step - loss: 0.9681 - accuracy: 0.5845\n",
            "[0.9681422710418701, 0.5845000147819519]\n",
            "SG_LSTM\n"
          ],
          "name": "stdout"
        }
      ]
    },
    {
      "cell_type": "code",
      "metadata": {
        "id": "WZqN_SaM3hs9",
        "colab": {
          "base_uri": "https://localhost:8080/"
        },
        "outputId": "0def70df-7104-4f52-ebca-5cf8bed0277a"
      },
      "source": [
        "print(\"\\tLstm\\t\\t\\tBiLstm\\t\\t\\tRnn\")\r\n",
        "print(\"sg\",result_table[:3])\r\n",
        "print(\"cbow\",result_table[3:6])\r\n",
        "print(\"glove\",result_table[6:9])"
      ],
      "execution_count": 26,
      "outputs": [
        {
          "output_type": "stream",
          "text": [
            "\tLstm\t\t\tBiLstm\t\t\tRnn\n",
            "sg [0.5845000147819519, 0.5845000147819519, 0.5845000147819519]\n",
            "cbow [0.5845000147819519, 0.5845000147819519, 0.5845000147819519]\n",
            "glove [0.750333309173584, 0.7973333597183228, 0.6434166431427002]\n"
          ],
          "name": "stdout"
        }
      ]
    },
    {
      "cell_type": "code",
      "metadata": {
        "id": "cRLVUTMaIFdi",
        "colab": {
          "base_uri": "https://localhost:8080/"
        },
        "outputId": "30505746-e74e-4531-9825-c82c148a26f7"
      },
      "source": [
        "print(result_table[9])"
      ],
      "execution_count": 27,
      "outputs": [
        {
          "output_type": "stream",
          "text": [
            "0.5845000147819519\n"
          ],
          "name": "stdout"
        }
      ]
    }
  ]
}