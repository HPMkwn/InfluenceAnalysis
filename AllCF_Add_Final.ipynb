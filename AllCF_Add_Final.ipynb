{
  "nbformat": 4,
  "nbformat_minor": 0,
  "metadata": {
    "colab": {
      "name": "AllCF_Add_Final.ipynb",
      "provenance": [],
      "collapsed_sections": [],
      "include_colab_link": true
    },
    "kernelspec": {
      "name": "python3",
      "display_name": "Python 3"
    }
  },
  "cells": [
    {
      "cell_type": "markdown",
      "metadata": {
        "id": "view-in-github",
        "colab_type": "text"
      },
      "source": [
        "<a href=\"https://colab.research.google.com/github/harrymkwn/InfluenceAnalysis/blob/master/AllCF_Add_Final.ipynb\" target=\"_parent\"><img src=\"https://colab.research.google.com/assets/colab-badge.svg\" alt=\"Open In Colab\"/></a>"
      ]
    },
    {
      "cell_type": "code",
      "metadata": {
        "colab": {
          "base_uri": "https://localhost:8080/"
        },
        "id": "f07YBO0HutGC",
        "outputId": "a433769c-41f8-40d7-d4c4-21a24520147d"
      },
      "source": [
        "from google.colab import  drive\n",
        "drive.mount('/content/drive')"
      ],
      "execution_count": 1,
      "outputs": [
        {
          "output_type": "stream",
          "text": [
            "Mounted at /content/drive\n"
          ],
          "name": "stdout"
        }
      ]
    },
    {
      "cell_type": "code",
      "metadata": {
        "id": "D_ZbOn58n2x4",
        "colab": {
          "base_uri": "https://localhost:8080/"
        },
        "outputId": "e694d587-b332-4267-9aeb-865e313465a0"
      },
      "source": [
        "import pandas as pd\r\n",
        "import numpy as np\r\n",
        "import tensorflow as tf\r\n",
        "from gensim.models import Word2Vec\r\n",
        "import matplotlib.pyplot as plt\r\n",
        "from sklearn.linear_model import LogisticRegression\r\n",
        "from sklearn.multiclass import OneVsRestClassifier\r\n",
        "from gensim.models import KeyedVectors\r\n",
        "from sklearn.model_selection import train_test_split\r\n",
        "import nltk\r\n",
        "from nltk.corpus import stopwords\r\n",
        "nltk.download('all')\r\n",
        "from nltk.corpus import sentiwordnet as swn\r\n",
        "device_name = tf.test.gpu_device_name()\r\n",
        "print(device_name)\r\n",
        "df = pd.read_csv('/content/drive/MyDrive/InfluenceAnalysis/crowdFlower/cF_clean_our_combined.csv')\r\n",
        "df = df.sample(frac=1,random_state=32)"
      ],
      "execution_count": 2,
      "outputs": [
        {
          "output_type": "stream",
          "text": [
            "[nltk_data] Downloading collection 'all'\n",
            "[nltk_data]    | \n",
            "[nltk_data]    | Downloading package abc to /root/nltk_data...\n",
            "[nltk_data]    |   Unzipping corpora/abc.zip.\n",
            "[nltk_data]    | Downloading package alpino to /root/nltk_data...\n",
            "[nltk_data]    |   Unzipping corpora/alpino.zip.\n",
            "[nltk_data]    | Downloading package biocreative_ppi to\n",
            "[nltk_data]    |     /root/nltk_data...\n",
            "[nltk_data]    |   Unzipping corpora/biocreative_ppi.zip.\n",
            "[nltk_data]    | Downloading package brown to /root/nltk_data...\n",
            "[nltk_data]    |   Unzipping corpora/brown.zip.\n",
            "[nltk_data]    | Downloading package brown_tei to /root/nltk_data...\n",
            "[nltk_data]    |   Unzipping corpora/brown_tei.zip.\n",
            "[nltk_data]    | Downloading package cess_cat to /root/nltk_data...\n",
            "[nltk_data]    |   Unzipping corpora/cess_cat.zip.\n",
            "[nltk_data]    | Downloading package cess_esp to /root/nltk_data...\n",
            "[nltk_data]    |   Unzipping corpora/cess_esp.zip.\n",
            "[nltk_data]    | Downloading package chat80 to /root/nltk_data...\n",
            "[nltk_data]    |   Unzipping corpora/chat80.zip.\n",
            "[nltk_data]    | Downloading package city_database to\n",
            "[nltk_data]    |     /root/nltk_data...\n",
            "[nltk_data]    |   Unzipping corpora/city_database.zip.\n",
            "[nltk_data]    | Downloading package cmudict to /root/nltk_data...\n",
            "[nltk_data]    |   Unzipping corpora/cmudict.zip.\n",
            "[nltk_data]    | Downloading package comparative_sentences to\n",
            "[nltk_data]    |     /root/nltk_data...\n",
            "[nltk_data]    |   Unzipping corpora/comparative_sentences.zip.\n",
            "[nltk_data]    | Downloading package comtrans to /root/nltk_data...\n",
            "[nltk_data]    | Downloading package conll2000 to /root/nltk_data...\n",
            "[nltk_data]    |   Unzipping corpora/conll2000.zip.\n",
            "[nltk_data]    | Downloading package conll2002 to /root/nltk_data...\n",
            "[nltk_data]    |   Unzipping corpora/conll2002.zip.\n",
            "[nltk_data]    | Downloading package conll2007 to /root/nltk_data...\n",
            "[nltk_data]    | Downloading package crubadan to /root/nltk_data...\n",
            "[nltk_data]    |   Unzipping corpora/crubadan.zip.\n",
            "[nltk_data]    | Downloading package dependency_treebank to\n",
            "[nltk_data]    |     /root/nltk_data...\n",
            "[nltk_data]    |   Unzipping corpora/dependency_treebank.zip.\n",
            "[nltk_data]    | Downloading package dolch to /root/nltk_data...\n",
            "[nltk_data]    |   Unzipping corpora/dolch.zip.\n",
            "[nltk_data]    | Downloading package europarl_raw to\n",
            "[nltk_data]    |     /root/nltk_data...\n",
            "[nltk_data]    |   Unzipping corpora/europarl_raw.zip.\n",
            "[nltk_data]    | Downloading package floresta to /root/nltk_data...\n",
            "[nltk_data]    |   Unzipping corpora/floresta.zip.\n",
            "[nltk_data]    | Downloading package framenet_v15 to\n",
            "[nltk_data]    |     /root/nltk_data...\n",
            "[nltk_data]    |   Unzipping corpora/framenet_v15.zip.\n",
            "[nltk_data]    | Downloading package framenet_v17 to\n",
            "[nltk_data]    |     /root/nltk_data...\n",
            "[nltk_data]    |   Unzipping corpora/framenet_v17.zip.\n",
            "[nltk_data]    | Downloading package gazetteers to /root/nltk_data...\n",
            "[nltk_data]    |   Unzipping corpora/gazetteers.zip.\n",
            "[nltk_data]    | Downloading package genesis to /root/nltk_data...\n",
            "[nltk_data]    |   Unzipping corpora/genesis.zip.\n",
            "[nltk_data]    | Downloading package gutenberg to /root/nltk_data...\n",
            "[nltk_data]    |   Unzipping corpora/gutenberg.zip.\n",
            "[nltk_data]    | Downloading package ieer to /root/nltk_data...\n",
            "[nltk_data]    |   Unzipping corpora/ieer.zip.\n",
            "[nltk_data]    | Downloading package inaugural to /root/nltk_data...\n",
            "[nltk_data]    |   Unzipping corpora/inaugural.zip.\n",
            "[nltk_data]    | Downloading package indian to /root/nltk_data...\n",
            "[nltk_data]    |   Unzipping corpora/indian.zip.\n",
            "[nltk_data]    | Downloading package jeita to /root/nltk_data...\n",
            "[nltk_data]    | Downloading package kimmo to /root/nltk_data...\n",
            "[nltk_data]    |   Unzipping corpora/kimmo.zip.\n",
            "[nltk_data]    | Downloading package knbc to /root/nltk_data...\n",
            "[nltk_data]    | Downloading package lin_thesaurus to\n",
            "[nltk_data]    |     /root/nltk_data...\n",
            "[nltk_data]    |   Unzipping corpora/lin_thesaurus.zip.\n",
            "[nltk_data]    | Downloading package mac_morpho to /root/nltk_data...\n",
            "[nltk_data]    |   Unzipping corpora/mac_morpho.zip.\n",
            "[nltk_data]    | Downloading package machado to /root/nltk_data...\n",
            "[nltk_data]    | Downloading package masc_tagged to /root/nltk_data...\n",
            "[nltk_data]    | Downloading package moses_sample to\n",
            "[nltk_data]    |     /root/nltk_data...\n",
            "[nltk_data]    |   Unzipping models/moses_sample.zip.\n",
            "[nltk_data]    | Downloading package movie_reviews to\n",
            "[nltk_data]    |     /root/nltk_data...\n",
            "[nltk_data]    |   Unzipping corpora/movie_reviews.zip.\n",
            "[nltk_data]    | Downloading package names to /root/nltk_data...\n",
            "[nltk_data]    |   Unzipping corpora/names.zip.\n",
            "[nltk_data]    | Downloading package nombank.1.0 to /root/nltk_data...\n",
            "[nltk_data]    | Downloading package nps_chat to /root/nltk_data...\n",
            "[nltk_data]    |   Unzipping corpora/nps_chat.zip.\n",
            "[nltk_data]    | Downloading package omw to /root/nltk_data...\n",
            "[nltk_data]    |   Unzipping corpora/omw.zip.\n",
            "[nltk_data]    | Downloading package opinion_lexicon to\n",
            "[nltk_data]    |     /root/nltk_data...\n",
            "[nltk_data]    |   Unzipping corpora/opinion_lexicon.zip.\n",
            "[nltk_data]    | Downloading package paradigms to /root/nltk_data...\n",
            "[nltk_data]    |   Unzipping corpora/paradigms.zip.\n",
            "[nltk_data]    | Downloading package pil to /root/nltk_data...\n",
            "[nltk_data]    |   Unzipping corpora/pil.zip.\n",
            "[nltk_data]    | Downloading package pl196x to /root/nltk_data...\n",
            "[nltk_data]    |   Unzipping corpora/pl196x.zip.\n",
            "[nltk_data]    | Downloading package ppattach to /root/nltk_data...\n",
            "[nltk_data]    |   Unzipping corpora/ppattach.zip.\n",
            "[nltk_data]    | Downloading package problem_reports to\n",
            "[nltk_data]    |     /root/nltk_data...\n",
            "[nltk_data]    |   Unzipping corpora/problem_reports.zip.\n",
            "[nltk_data]    | Downloading package propbank to /root/nltk_data...\n",
            "[nltk_data]    | Downloading package ptb to /root/nltk_data...\n",
            "[nltk_data]    |   Unzipping corpora/ptb.zip.\n",
            "[nltk_data]    | Downloading package product_reviews_1 to\n",
            "[nltk_data]    |     /root/nltk_data...\n",
            "[nltk_data]    |   Unzipping corpora/product_reviews_1.zip.\n",
            "[nltk_data]    | Downloading package product_reviews_2 to\n",
            "[nltk_data]    |     /root/nltk_data...\n",
            "[nltk_data]    |   Unzipping corpora/product_reviews_2.zip.\n",
            "[nltk_data]    | Downloading package pros_cons to /root/nltk_data...\n",
            "[nltk_data]    |   Unzipping corpora/pros_cons.zip.\n",
            "[nltk_data]    | Downloading package qc to /root/nltk_data...\n",
            "[nltk_data]    |   Unzipping corpora/qc.zip.\n",
            "[nltk_data]    | Downloading package reuters to /root/nltk_data...\n",
            "[nltk_data]    | Downloading package rte to /root/nltk_data...\n",
            "[nltk_data]    |   Unzipping corpora/rte.zip.\n",
            "[nltk_data]    | Downloading package semcor to /root/nltk_data...\n",
            "[nltk_data]    | Downloading package senseval to /root/nltk_data...\n",
            "[nltk_data]    |   Unzipping corpora/senseval.zip.\n",
            "[nltk_data]    | Downloading package sentiwordnet to\n",
            "[nltk_data]    |     /root/nltk_data...\n",
            "[nltk_data]    |   Unzipping corpora/sentiwordnet.zip.\n",
            "[nltk_data]    | Downloading package sentence_polarity to\n",
            "[nltk_data]    |     /root/nltk_data...\n",
            "[nltk_data]    |   Unzipping corpora/sentence_polarity.zip.\n",
            "[nltk_data]    | Downloading package shakespeare to /root/nltk_data...\n",
            "[nltk_data]    |   Unzipping corpora/shakespeare.zip.\n",
            "[nltk_data]    | Downloading package sinica_treebank to\n",
            "[nltk_data]    |     /root/nltk_data...\n",
            "[nltk_data]    |   Unzipping corpora/sinica_treebank.zip.\n",
            "[nltk_data]    | Downloading package smultron to /root/nltk_data...\n",
            "[nltk_data]    |   Unzipping corpora/smultron.zip.\n",
            "[nltk_data]    | Downloading package state_union to /root/nltk_data...\n",
            "[nltk_data]    |   Unzipping corpora/state_union.zip.\n",
            "[nltk_data]    | Downloading package stopwords to /root/nltk_data...\n",
            "[nltk_data]    |   Unzipping corpora/stopwords.zip.\n",
            "[nltk_data]    | Downloading package subjectivity to\n",
            "[nltk_data]    |     /root/nltk_data...\n",
            "[nltk_data]    |   Unzipping corpora/subjectivity.zip.\n",
            "[nltk_data]    | Downloading package swadesh to /root/nltk_data...\n",
            "[nltk_data]    |   Unzipping corpora/swadesh.zip.\n",
            "[nltk_data]    | Downloading package switchboard to /root/nltk_data...\n",
            "[nltk_data]    |   Unzipping corpora/switchboard.zip.\n",
            "[nltk_data]    | Downloading package timit to /root/nltk_data...\n",
            "[nltk_data]    |   Unzipping corpora/timit.zip.\n",
            "[nltk_data]    | Downloading package toolbox to /root/nltk_data...\n",
            "[nltk_data]    |   Unzipping corpora/toolbox.zip.\n",
            "[nltk_data]    | Downloading package treebank to /root/nltk_data...\n",
            "[nltk_data]    |   Unzipping corpora/treebank.zip.\n",
            "[nltk_data]    | Downloading package twitter_samples to\n",
            "[nltk_data]    |     /root/nltk_data...\n",
            "[nltk_data]    |   Unzipping corpora/twitter_samples.zip.\n",
            "[nltk_data]    | Downloading package udhr to /root/nltk_data...\n",
            "[nltk_data]    |   Unzipping corpora/udhr.zip.\n",
            "[nltk_data]    | Downloading package udhr2 to /root/nltk_data...\n",
            "[nltk_data]    |   Unzipping corpora/udhr2.zip.\n",
            "[nltk_data]    | Downloading package unicode_samples to\n",
            "[nltk_data]    |     /root/nltk_data...\n",
            "[nltk_data]    |   Unzipping corpora/unicode_samples.zip.\n",
            "[nltk_data]    | Downloading package universal_treebanks_v20 to\n",
            "[nltk_data]    |     /root/nltk_data...\n",
            "[nltk_data]    | Downloading package verbnet to /root/nltk_data...\n",
            "[nltk_data]    |   Unzipping corpora/verbnet.zip.\n",
            "[nltk_data]    | Downloading package verbnet3 to /root/nltk_data...\n",
            "[nltk_data]    |   Unzipping corpora/verbnet3.zip.\n",
            "[nltk_data]    | Downloading package webtext to /root/nltk_data...\n",
            "[nltk_data]    |   Unzipping corpora/webtext.zip.\n",
            "[nltk_data]    | Downloading package wordnet to /root/nltk_data...\n",
            "[nltk_data]    |   Unzipping corpora/wordnet.zip.\n",
            "[nltk_data]    | Downloading package wordnet_ic to /root/nltk_data...\n",
            "[nltk_data]    |   Unzipping corpora/wordnet_ic.zip.\n",
            "[nltk_data]    | Downloading package words to /root/nltk_data...\n",
            "[nltk_data]    |   Unzipping corpora/words.zip.\n",
            "[nltk_data]    | Downloading package ycoe to /root/nltk_data...\n",
            "[nltk_data]    |   Unzipping corpora/ycoe.zip.\n",
            "[nltk_data]    | Downloading package rslp to /root/nltk_data...\n",
            "[nltk_data]    |   Unzipping stemmers/rslp.zip.\n",
            "[nltk_data]    | Downloading package maxent_treebank_pos_tagger to\n",
            "[nltk_data]    |     /root/nltk_data...\n",
            "[nltk_data]    |   Unzipping taggers/maxent_treebank_pos_tagger.zip.\n",
            "[nltk_data]    | Downloading package universal_tagset to\n",
            "[nltk_data]    |     /root/nltk_data...\n",
            "[nltk_data]    |   Unzipping taggers/universal_tagset.zip.\n",
            "[nltk_data]    | Downloading package maxent_ne_chunker to\n",
            "[nltk_data]    |     /root/nltk_data...\n",
            "[nltk_data]    |   Unzipping chunkers/maxent_ne_chunker.zip.\n",
            "[nltk_data]    | Downloading package punkt to /root/nltk_data...\n",
            "[nltk_data]    |   Unzipping tokenizers/punkt.zip.\n",
            "[nltk_data]    | Downloading package book_grammars to\n",
            "[nltk_data]    |     /root/nltk_data...\n",
            "[nltk_data]    |   Unzipping grammars/book_grammars.zip.\n",
            "[nltk_data]    | Downloading package sample_grammars to\n",
            "[nltk_data]    |     /root/nltk_data...\n",
            "[nltk_data]    |   Unzipping grammars/sample_grammars.zip.\n",
            "[nltk_data]    | Downloading package spanish_grammars to\n",
            "[nltk_data]    |     /root/nltk_data...\n",
            "[nltk_data]    |   Unzipping grammars/spanish_grammars.zip.\n",
            "[nltk_data]    | Downloading package basque_grammars to\n",
            "[nltk_data]    |     /root/nltk_data...\n",
            "[nltk_data]    |   Unzipping grammars/basque_grammars.zip.\n",
            "[nltk_data]    | Downloading package large_grammars to\n",
            "[nltk_data]    |     /root/nltk_data...\n",
            "[nltk_data]    |   Unzipping grammars/large_grammars.zip.\n",
            "[nltk_data]    | Downloading package tagsets to /root/nltk_data...\n",
            "[nltk_data]    |   Unzipping help/tagsets.zip.\n",
            "[nltk_data]    | Downloading package snowball_data to\n",
            "[nltk_data]    |     /root/nltk_data...\n",
            "[nltk_data]    | Downloading package bllip_wsj_no_aux to\n",
            "[nltk_data]    |     /root/nltk_data...\n",
            "[nltk_data]    |   Unzipping models/bllip_wsj_no_aux.zip.\n",
            "[nltk_data]    | Downloading package word2vec_sample to\n",
            "[nltk_data]    |     /root/nltk_data...\n",
            "[nltk_data]    |   Unzipping models/word2vec_sample.zip.\n",
            "[nltk_data]    | Downloading package panlex_swadesh to\n",
            "[nltk_data]    |     /root/nltk_data...\n",
            "[nltk_data]    | Downloading package mte_teip5 to /root/nltk_data...\n",
            "[nltk_data]    |   Unzipping corpora/mte_teip5.zip.\n",
            "[nltk_data]    | Downloading package averaged_perceptron_tagger to\n",
            "[nltk_data]    |     /root/nltk_data...\n",
            "[nltk_data]    |   Unzipping taggers/averaged_perceptron_tagger.zip.\n",
            "[nltk_data]    | Downloading package averaged_perceptron_tagger_ru to\n",
            "[nltk_data]    |     /root/nltk_data...\n",
            "[nltk_data]    |   Unzipping\n",
            "[nltk_data]    |       taggers/averaged_perceptron_tagger_ru.zip.\n",
            "[nltk_data]    | Downloading package perluniprops to\n",
            "[nltk_data]    |     /root/nltk_data...\n",
            "[nltk_data]    |   Unzipping misc/perluniprops.zip.\n",
            "[nltk_data]    | Downloading package nonbreaking_prefixes to\n",
            "[nltk_data]    |     /root/nltk_data...\n",
            "[nltk_data]    |   Unzipping corpora/nonbreaking_prefixes.zip.\n",
            "[nltk_data]    | Downloading package vader_lexicon to\n",
            "[nltk_data]    |     /root/nltk_data...\n",
            "[nltk_data]    | Downloading package porter_test to /root/nltk_data...\n",
            "[nltk_data]    |   Unzipping stemmers/porter_test.zip.\n",
            "[nltk_data]    | Downloading package wmt15_eval to /root/nltk_data...\n",
            "[nltk_data]    |   Unzipping models/wmt15_eval.zip.\n",
            "[nltk_data]    | Downloading package mwa_ppdb to /root/nltk_data...\n",
            "[nltk_data]    |   Unzipping misc/mwa_ppdb.zip.\n",
            "[nltk_data]    | \n",
            "[nltk_data]  Done downloading collection all\n",
            "\n"
          ],
          "name": "stdout"
        }
      ]
    },
    {
      "cell_type": "code",
      "metadata": {
        "colab": {
          "base_uri": "https://localhost:8080/",
          "height": 204
        },
        "id": "2kcOfvgzvPwr",
        "outputId": "c418515b-f682-41ba-f5b4-07233fef566d"
      },
      "source": [
        "df.head()"
      ],
      "execution_count": 3,
      "outputs": [
        {
          "output_type": "execute_result",
          "data": {
            "text/html": [
              "<div>\n",
              "<style scoped>\n",
              "    .dataframe tbody tr th:only-of-type {\n",
              "        vertical-align: middle;\n",
              "    }\n",
              "\n",
              "    .dataframe tbody tr th {\n",
              "        vertical-align: top;\n",
              "    }\n",
              "\n",
              "    .dataframe thead th {\n",
              "        text-align: right;\n",
              "    }\n",
              "</style>\n",
              "<table border=\"1\" class=\"dataframe\">\n",
              "  <thead>\n",
              "    <tr style=\"text-align: right;\">\n",
              "      <th></th>\n",
              "      <th>emotion</th>\n",
              "      <th>tweets</th>\n",
              "    </tr>\n",
              "  </thead>\n",
              "  <tbody>\n",
              "    <tr>\n",
              "      <th>35975</th>\n",
              "      <td>1</td>\n",
              "      <td>Praying for love in a lap dance and paying in...</td>\n",
              "    </tr>\n",
              "    <tr>\n",
              "      <th>17590</th>\n",
              "      <td>2</td>\n",
              "      <td>trying to fix my internet connection      gues...</td>\n",
              "    </tr>\n",
              "    <tr>\n",
              "      <th>38071</th>\n",
              "      <td>0</td>\n",
              "      <td>starting an account here on twitter</td>\n",
              "    </tr>\n",
              "    <tr>\n",
              "      <th>23304</th>\n",
              "      <td>2</td>\n",
              "      <td>hmmm wrong link ignore my tweet</td>\n",
              "    </tr>\n",
              "    <tr>\n",
              "      <th>26990</th>\n",
              "      <td>0</td>\n",
              "      <td>thanks   before the major chop</td>\n",
              "    </tr>\n",
              "  </tbody>\n",
              "</table>\n",
              "</div>"
            ],
            "text/plain": [
              "       emotion                                             tweets\n",
              "35975        1   Praying for love in a lap dance and paying in...\n",
              "17590        2  trying to fix my internet connection      gues...\n",
              "38071        0                starting an account here on twitter\n",
              "23304        2                    hmmm wrong link ignore my tweet\n",
              "26990        0                   thanks   before the major chop  "
            ]
          },
          "metadata": {
            "tags": []
          },
          "execution_count": 3
        }
      ]
    },
    {
      "cell_type": "code",
      "metadata": {
        "colab": {
          "base_uri": "https://localhost:8080/"
        },
        "id": "VFWkf_bDvSb_",
        "outputId": "77f3d3ea-a268-4040-c275-c6a0aabb1bf7"
      },
      "source": [
        "df.emotion.unique()"
      ],
      "execution_count": 27,
      "outputs": [
        {
          "output_type": "execute_result",
          "data": {
            "text/plain": [
              "array([1, 2, 0, 3])"
            ]
          },
          "metadata": {
            "tags": []
          },
          "execution_count": 27
        }
      ]
    },
    {
      "cell_type": "code",
      "metadata": {
        "id": "6qZgGMFSoMEj",
        "colab": {
          "base_uri": "https://localhost:8080/"
        },
        "outputId": "7b45b3bf-df63-42eb-ae3f-d5745d8e86fa"
      },
      "source": [
        "no_labels=4\r\n",
        "category_dict = {}\r\n",
        "for i in range(no_labels):\r\n",
        "  category_dict[i]=[0 for j in range(no_labels)]\r\n",
        "  category_dict[i][i]=1\r\n",
        "data_tweet = [str(x).lower().split() for x in df['tweets']]\r\n",
        "data_cat = np.array([np.array(category_dict[x]) for x in df['emotion']])\r\n",
        "print(data_cat[:5])"
      ],
      "execution_count": 28,
      "outputs": [
        {
          "output_type": "stream",
          "text": [
            "[[0 1 0 0]\n",
            " [0 0 1 0]\n",
            " [1 0 0 0]\n",
            " [0 0 1 0]\n",
            " [1 0 0 0]]\n"
          ],
          "name": "stdout"
        }
      ]
    },
    {
      "cell_type": "code",
      "metadata": {
        "id": "OQ0TOnAwoMBn",
        "colab": {
          "base_uri": "https://localhost:8080/"
        },
        "outputId": "a9e48237-58d4-4ebe-fda1-a1db3652d670"
      },
      "source": [
        "print(data_tweet[:5])\r\n",
        "print(data_cat[:5])"
      ],
      "execution_count": 29,
      "outputs": [
        {
          "output_type": "stream",
          "text": [
            "[['praying', 'for', 'love', 'in', 'a', 'lap', 'dance', 'and', 'paying', 'in', 'naivety', 'less', 'than', 'one', 'of', 'my', 'fav', 'songs'], ['trying', 'to', 'fix', 'my', 'internet', 'connection', 'guess', 'my', 'prayers', 'have', 'been', 'answered', 'and', 'i', 'wont', 'have', 'any', 'study', 'distractions', 'ugh'], ['starting', 'an', 'account', 'here', 'on', 'twitter'], ['hmmm', 'wrong', 'link', 'ignore', 'my', 'tweet'], ['thanks', 'before', 'the', 'major', 'chop']]\n",
            "[[0 1 0 0]\n",
            " [0 0 1 0]\n",
            " [1 0 0 0]\n",
            " [0 0 1 0]\n",
            " [1 0 0 0]]\n"
          ],
          "name": "stdout"
        }
      ]
    },
    {
      "cell_type": "code",
      "metadata": {
        "id": "zXMVH-X2oL_N"
      },
      "source": [
        "# Parameters\r\n",
        "Min_count = 0\r\n",
        "Embedding_size = 200\r\n",
        "Window_size = 5\r\n",
        "Negative_sampling = 00"
      ],
      "execution_count": 30,
      "outputs": []
    },
    {
      "cell_type": "code",
      "metadata": {
        "id": "EVu-FHPnoL84"
      },
      "source": [
        "w2v_sg = Word2Vec(min_count=Min_count,\r\n",
        "                     window=Window_size,\r\n",
        "                     size=Embedding_size,\r\n",
        "                     negative=Negative_sampling,sg=1)\r\n",
        "w2v_sg.build_vocab(data_tweet)\r\n",
        "w2v_sg.train(data_tweet, total_examples=w2v_sg.corpus_count, epochs=5)\r\n",
        "w2v_cbow = Word2Vec(min_count=Min_count,\r\n",
        "                     window=Window_size,\r\n",
        "                     size=Embedding_size,\r\n",
        "                     negative=Negative_sampling,sg=0)\r\n",
        "w2v_cbow.build_vocab(data_tweet)\r\n",
        "w2v_cbow.train(data_tweet, total_examples=w2v_cbow.corpus_count, epochs=5)\r\n",
        "w2v_sg.wv.init_sims(True)\r\n",
        "w2v_cbow.wv.init_sims(True)"
      ],
      "execution_count": 31,
      "outputs": []
    },
    {
      "cell_type": "code",
      "metadata": {
        "id": "ydjh-41loL6F"
      },
      "source": [
        "vocab_sg = w2v_sg.wv.vocab\r\n",
        "vocab_sg = [x for x in vocab_sg]\r\n",
        "vocab_cbow = w2v_cbow.wv.vocab\r\n",
        "vocab_cbow = [x for x in vocab_cbow] \r\n",
        "vocab_glove = {}\r\n",
        "with open(\"/content/drive/My Drive/InfluenceAnalysis/glove/glove.twitter.27B.200d.txt\", 'r', encoding=\"utf-8\") as f:\r\n",
        "  for line in f:\r\n",
        "      values = line.split()\r\n",
        "      word = values[0]\r\n",
        "      vector = np.asarray(values[1:], \"float32\")\r\n",
        "      vocab_glove[word] = vector"
      ],
      "execution_count": 32,
      "outputs": []
    },
    {
      "cell_type": "code",
      "metadata": {
        "id": "sNpmWgnWoL3U"
      },
      "source": [
        "batch_size = 500\r\n",
        "Max_input_size = max([len(x) for x in data_tweet])\r\n",
        "data_tweet = [nltk.pos_tag(x) for x in data_tweet]\r\n",
        "def getsent(word,tag):\r\n",
        "  res=0\r\n",
        "  try:\r\n",
        "    x = swn.senti_synset(word+'.'+tag[0].lower()+'.01')\r\n",
        "    res =  (x.pos_score()-x.neg_score())\r\n",
        "  finally:\r\n",
        "    return res \r\n",
        "data_tweet = [[(i[0],i[1],getsent(i[0],i[1])) for i in x] for x in data_tweet]"
      ],
      "execution_count": 33,
      "outputs": []
    },
    {
      "cell_type": "code",
      "metadata": {
        "id": "wO3sLvcdoL01"
      },
      "source": [
        "def vec_gen(w2v,vocab,data_tweet,data_cat,batch_size,Max_input_size,Embedding_size,mul_factor=2):\r\n",
        "  while True:\r\n",
        "    for k in range(int(len(data_tweet)/batch_size)):\r\n",
        "      res=[]\r\n",
        "      for x in data_tweet[k*(batch_size):(k+1)*(batch_size)]:\r\n",
        "        tweet = [(w2v.wv.word_vec(i[0]),i[1],i[2]) for i in x if i[0] in vocab]\r\n",
        "        l=len(tweet)\r\n",
        "        for i in range(l):\r\n",
        "          if tweet[i][1][:2]=='JJ':\r\n",
        "            for z in range(max(i-1,0),min(i+2,l)):\r\n",
        "              if tweet[z][1][:2]=='NN':\r\n",
        "                tweet[z]=((tweet[z][0]+tweet[i][0])/2,tweet[z][1])\r\n",
        "          if tweet[i][1][:2]=='RB':\r\n",
        "            for z in range(max(i-1,0),min(i+2,l)):\r\n",
        "              if tweet[z][1][:2]=='VB':\r\n",
        "                tweet[z]=((tweet[z][0]+tweet[i][0])/2,tweet[z][1])\r\n",
        "        res+=[np.array([x[0] for x in tweet])]\r\n",
        "      temp = np.array([np.pad(z.flatten(),(0,Max_input_size*Embedding_size-len(z.flatten()))).reshape(Max_input_size,Embedding_size) for z in res])\r\n",
        "      tempres = np.array(data_cat[k*(batch_size):(k+1)*(batch_size)])\r\n",
        "      yield (temp,tempres)          \r\n",
        "      \r\n",
        "def glove_gen(vocab,data_tweet,data_cat,batch_size,Max_input_size,Embedding_size,mul_factor=2):\r\n",
        "  while True:\r\n",
        "    for k in range(int(len(data_tweet)/batch_size)):\r\n",
        "      res=[]\r\n",
        "      for x in data_tweet[k*(batch_size):(k+1)*(batch_size)]:\r\n",
        "        tweet = [(vocab[i[0]],i[1],i[2]) for i in x if i[0] in vocab.keys()]\r\n",
        "        l=len(tweet)\r\n",
        "        for i in range(l):\r\n",
        "          if tweet[i][1][:2]=='JJ':\r\n",
        "            for z in range(max(i-1,0),min(i+2,l)):\r\n",
        "              if tweet[z][1][:2]=='NN':\r\n",
        "                tweet[z]=((tweet[z][0]+tweet[i][0])/2,tweet[z][1])\r\n",
        "          if tweet[i][1][:2]=='RB':\r\n",
        "            for z in range(max(i-1,0),min(i+2,l)):\r\n",
        "              if tweet[z][1][:2]=='VB':\r\n",
        "                tweet[z]=((tweet[z][0]+tweet[i][0])/2,tweet[z][1])\r\n",
        "        res+=[np.array([x[0] for x in tweet])]\r\n",
        "      temp = np.array([np.pad(z.flatten(),(0,Max_input_size*Embedding_size-len(z.flatten()))).reshape(Max_input_size,Embedding_size) for z in res])\r\n",
        "      tempres = np.array(data_cat[k*(batch_size):(k+1)*(batch_size)])\r\n",
        "      yield (temp,tempres)"
      ],
      "execution_count": 40,
      "outputs": []
    },
    {
      "cell_type": "code",
      "metadata": {
        "id": "6BZKZFX7oLyC",
        "colab": {
          "base_uri": "https://localhost:8080/"
        },
        "outputId": "1ea38747-806e-4791-c4f6-10a2009ad0a2"
      },
      "source": [
        "from sklearn.model_selection import StratifiedShuffleSplit\r\n",
        "sss = StratifiedShuffleSplit(n_splits=1, test_size=0.2, random_state=0)\r\n",
        "sss.get_n_splits(data_tweet, data_cat)\r\n",
        "X_train=[]\r\n",
        "X_test=[]\r\n",
        "y_train=[]\r\n",
        "y_test=[]\r\n",
        "counter=0\r\n",
        "for train_index, test_index in sss.split(data_tweet, data_cat):\r\n",
        "  print(\"TRAIN:\", train_index, \"TEST:\", test_index)\r\n",
        "  for i in train_index:\r\n",
        "    X_train+=[data_tweet[i]]\r\n",
        "    y_train+=[data_cat[i]]\r\n",
        "\r\n",
        "  for j in test_index:\r\n",
        "    X_test+=[data_tweet[j]]\r\n",
        "    y_test+=[data_cat[j]]\r\n",
        "\r\n",
        " # X_train, X_test = data_tweet[train_index], data_tweet[test_index]\r\n",
        " # y_train, y_test = data_cat[train_index], data_cat[test_index]\r\n",
        "print(X_train[:5])\r\n",
        "print(y_train[:5])\r\n",
        "sss = StratifiedShuffleSplit(n_splits=1, test_size=0.2, random_state=0)\r\n",
        "sss.get_n_splits(X_train, y_train)\r\n",
        "x_train=[]\r\n",
        "X_val=[]\r\n",
        "Y_train=[]\r\n",
        "y_val=[]\r\n",
        "for train_index1, test_index1 in sss.split(X_train, y_train):\r\n",
        "  print(\"TRAIN:\", train_index1, \"TEST:\", test_index1)\r\n",
        "  for i in train_index1:\r\n",
        "    x_train+=[X_train[i]]\r\n",
        "    Y_train+=[y_train[i]]\r\n",
        "\r\n",
        "  for j in test_index1:\r\n",
        "    X_val+=[X_train[j]]\r\n",
        "    y_val+=[y_train[j]]\r\n",
        "X_train=x_train\r\n",
        "y_train=Y_train\r\n",
        "print(len(X_train))\r\n",
        "print(len(y_train))\r\n",
        "print(len(X_test))\r\n",
        "print(len(y_test))\r\n",
        "print(len(X_val))\r\n",
        "print(len(y_val))\r\n",
        "print(X_train[:5])\r\n",
        "print(y_train[:5])\r\n",
        "result_table = [0,0,0]"
      ],
      "execution_count": 41,
      "outputs": [
        {
          "output_type": "stream",
          "text": [
            "TRAIN: [10470  6321 13813 ... 24250 39308  6334] TEST: [22946 37404 11668 ...  6796  7895 14585]\n",
            "[[('the', 'DT', 0), ('goonies', 'NNS', 0), ('projected', 'VBN', 0), ('on', 'IN', 0), ('a', 'DT', 0), ('garage', 'NN', 0.0), ('door', 'NN', 0.0), ('with', 'IN', 0), ('my', 'PRP$', 0), ('friends', 'NNS', 0), ('amazing', 'VBG', 0)], [('17', 'CD', 0), ('again', 'RB', 0.0), ('tonight', 'NN', 0.0)], [('we', 'PRP', 0), ('finally', 'RB', 0.0), ('hit', 'VBD', 0.0), ('1000', 'CD', 0), ('friends', 'NNS', 0), ('thanks', 'NNS', 0.125)], [('lolzz', 'JJ', 0), ('public', 'JJ', 0), ('script', 'NN', 0.0), ('wait', 'NN', 0.0), ('n', 'NN', 0.0), ('watch', 'NN', 0.0)], [('night', 'NN', 0.0)]]\n",
            "[array([0, 1, 0, 0]), array([1, 0, 0, 0]), array([0, 1, 0, 0]), array([0, 1, 0, 0]), array([1, 0, 0, 0])]\n",
            "TRAIN: [28318 14444 15946 ... 11043 21820 15291] TEST: [23742   966  6886 ... 25081 24593 26654]\n",
            "25600\n",
            "25600\n",
            "8000\n",
            "8000\n",
            "6400\n",
            "6400\n",
            "[[('geez', 'JJ', 0), ('15', 'CD', 0), ('years', 'NNS', 0.0), ('you', 'PRP', 0), ('d', 'VBP', 0), ('think', 'VBP', 0.0), ('they', 'PRP', 0), ('would', 'MD', 0), ('have', 'VB', 0.25), ('had', 'VBN', 0), ('that', 'IN', 0), ('checked', 'VBN', 0), ('out', 'RP', 0.0), ('years', 'NNS', 0.0), ('ago', 'RB', 0.0)], [('oh', 'NN', 0.0), ('that', 'WDT', 0), ('is', 'VBZ', 0), ('bad', 'JJ', 0), ('i', 'NN', 0.0), ('made', 'VBD', 0), ('that', 'IN', 0), ('mistake', 'NN', -0.625), ('once', 'RB', 0.0), ('before', 'RB', 0.0), ('but', 'CC', 0), ('still', 'RB', -0.125), ('managed', 'VBD', 0), ('to', 'TO', 0), ('pass', 'VB', 0.0), ('though', 'IN', 0), ('so', 'RB', 0.0), ('maybe', 'RB', 0.0), ('it', 'PRP', 0), ('is', 'VBZ', 0), ('not', 'RB', -0.625), ('as', 'RB', -0.125), ('bad', 'JJ', 0), ('as', 'IN', 0), ('he', 'PRP', 0), ('thinks', 'VBZ', 0)], [('leather', 'NN', 0.0), ('shoes', 'NNS', 0.0), ('and', 'CC', 0), ('bags', 'NNS', 0), ('are', 'VBP', 0), ('so', 'RB', 0.0), ('hard', 'JJ', 0), ('to', 'TO', 0), ('resist', 'VB', 0.0)], [('haha', 'NN', 0), ('my', 'PRP$', 0), ('rooommate', 'NN', 0), ('are', 'VBP', 0), ('watching', 'VBG', 0), ('that', 'IN', 0), ('i', 'NN', 0.0), ('have', 'VBP', 0.25), ('a', 'DT', 0), ('huge', 'JJ', 0), ('crush', 'NN', 0.0), ('on', 'IN', 0), ('landon', 'NN', 0)], [('i', 'NN', 0.0), ('should', 'MD', 0), ('post', 'VB', 0.0), ('some', 'DT', 0), ('photos', 'NN', 0), ('of', 'IN', 0), ('my', 'PRP$', 0), ('robots', 'NNS', 0), ('ok', 'VBP', 0), ('offline', 'NN', 0), ('for', 'IN', 0), ('4', 'CD', 0), ('hours', 'NNS', 0.0), ('now', 'RB', 0.0), ('ttfn', 'VBP', 0), ('oh', 'UH', 0), ('so', 'RB', 0.0), ('im', 'JJ', 0), ('confusion', 'NN', -0.375)]]\n",
            "[array([1, 0, 0, 0]), array([0, 0, 1, 0]), array([0, 1, 0, 0]), array([1, 0, 0, 0]), array([1, 0, 0, 0])]\n"
          ],
          "name": "stdout"
        }
      ]
    },
    {
      "cell_type": "code",
      "metadata": {
        "id": "EIj49u6QoLuq"
      },
      "source": [
        "epochs = 30"
      ],
      "execution_count": 42,
      "outputs": []
    },
    {
      "cell_type": "code",
      "metadata": {
        "id": "EwSXhu_lz5eC"
      },
      "source": [
        "from keras import backend as K\r\n",
        "def recall(y_true, y_pred):\r\n",
        "        \"\"\"Recall metric.\r\n",
        "\r\n",
        "        Only computes a batch-wise average of recall.\r\n",
        "\r\n",
        "        Computes the recall, a metric for multi-label classification of\r\n",
        "        how many relevant items are selected.\r\n",
        "        \"\"\"\r\n",
        "        true_positives = K.sum(K.round(K.clip(y_true * y_pred, 0, 1)))\r\n",
        "        possible_positives = K.sum(K.round(K.clip(y_true, 0, 1)))\r\n",
        "        recalls = true_positives / (possible_positives + K.epsilon())\r\n",
        "        return recalls\r\n",
        "def precision(y_true, y_pred):\r\n",
        "        \"\"\"Precision metric.\r\n",
        "\r\n",
        "        Only computes a batch-wise average of precision.\r\n",
        "\r\n",
        "        Computes the precision, a metric for multi-label classification of\r\n",
        "        how many selected items are relevant.\r\n",
        "        \"\"\"\r\n",
        "        true_positives = K.sum(K.round(K.clip(y_true * y_pred, 0, 1)))\r\n",
        "        predicted_positives = K.sum(K.round(K.clip(y_pred, 0, 1)))\r\n",
        "        precisions = true_positives / (predicted_positives + K.epsilon())\r\n",
        "        return precisions\r\n",
        "def f1(y_true, y_pred):\r\n",
        "    precisions = precision(y_true, y_pred)\r\n",
        "    recalls = recall(y_true, y_pred)\r\n",
        "    return 2*((precisions*recalls)/(precisions+recalls+K.epsilon()))"
      ],
      "execution_count": 43,
      "outputs": []
    },
    {
      "cell_type": "code",
      "metadata": {
        "id": "q9VFILTsoLpE",
        "colab": {
          "base_uri": "https://localhost:8080/"
        },
        "outputId": "52d8d8ec-77ad-4d81-fb53-0823b487720f"
      },
      "source": [
        "model_sg_bi = tf.keras.Sequential()\r\n",
        "model_sg_bi.add(tf.keras.Input(shape=(Max_input_size,Embedding_size)))\r\n",
        "model_sg_bi.add(tf.keras.layers.Bidirectional(tf.keras.layers.LSTM(64),merge_mode='concat'))\r\n",
        "model_sg_bi.add(tf.keras.layers.Dropout(0.2))\r\n",
        "model_sg_bi.add(tf.keras.layers.Dense(64,activation='relu'))\r\n",
        "model_sg_bi.add(tf.keras.layers.Dropout(0.2))\r\n",
        "model_sg_bi.add(tf.keras.layers.Dense(4, activation='softmax'))\r\n",
        "model_sg_bi.compile(loss='categorical_crossentropy',optimizer='adam', \r\n",
        "                           metrics=['accuracy',f1,precision,recall])\r\n",
        "sg_train_gen=vec_gen(w2v_sg,vocab_sg,X_train,y_train,batch_size,Max_input_size,Embedding_size)\r\n",
        "sg_val_gen=vec_gen(w2v_sg,vocab_sg,X_val,y_val,batch_size,Max_input_size,Embedding_size)\r\n",
        "history_sg_bi = model_sg_bi.fit_generator(sg_train_gen,validation_data=sg_val_gen,validation_steps=int((len(X_val)/batch_size)+1),steps_per_epoch=int((len(X_train)/batch_size)+1),epochs=epochs)\r\n",
        "history = model_sg_bi.evaluate(x = vec_gen(w2v_sg,vocab_sg,X_test,y_test,batch_size,Max_input_size,Embedding_size),steps=int(len(y_test)/batch_size))\r\n",
        "print(history)\r\n",
        "result_table[1]=history[1]\r\n",
        "print(\"SG_BI\")"
      ],
      "execution_count": 46,
      "outputs": [
        {
          "output_type": "stream",
          "text": [
            "/usr/local/lib/python3.7/dist-packages/tensorflow/python/keras/engine/training.py:1844: UserWarning: `Model.fit_generator` is deprecated and will be removed in a future version. Please use `Model.fit`, which supports generators.\n",
            "  warnings.warn('`Model.fit_generator` is deprecated and '\n"
          ],
          "name": "stderr"
        },
        {
          "output_type": "stream",
          "text": [
            "Epoch 1/30\n",
            "52/52 [==============================] - 72s 1s/step - loss: 1.2878 - accuracy: 0.3708 - f1: 0.0169 - precision: 0.1388 - recall: 0.0105 - val_loss: 1.1782 - val_accuracy: 0.4254 - val_f1: 0.0256 - val_precision: 0.6631 - val_recall: 0.0131\n",
            "Epoch 2/30\n",
            "52/52 [==============================] - 68s 1s/step - loss: 1.1715 - accuracy: 0.4287 - f1: 0.1266 - precision: 0.5984 - recall: 0.0732 - val_loss: 1.1434 - val_accuracy: 0.4602 - val_f1: 0.2439 - val_precision: 0.6023 - val_recall: 0.1531\n",
            "Epoch 3/30\n",
            "52/52 [==============================] - 68s 1s/step - loss: 1.1363 - accuracy: 0.4693 - f1: 0.2445 - precision: 0.6025 - recall: 0.1551 - val_loss: 1.1319 - val_accuracy: 0.4748 - val_f1: 0.3168 - val_precision: 0.5852 - val_recall: 0.2174\n",
            "Epoch 4/30\n",
            "52/52 [==============================] - 67s 1s/step - loss: 1.1156 - accuracy: 0.4829 - f1: 0.2999 - precision: 0.6116 - recall: 0.1995 - val_loss: 1.1214 - val_accuracy: 0.4848 - val_f1: 0.3435 - val_precision: 0.5742 - val_recall: 0.2452\n",
            "Epoch 5/30\n",
            "52/52 [==============================] - 67s 1s/step - loss: 1.1015 - accuracy: 0.4890 - f1: 0.3271 - precision: 0.6164 - recall: 0.2235 - val_loss: 1.1148 - val_accuracy: 0.4888 - val_f1: 0.3527 - val_precision: 0.5766 - val_recall: 0.2543\n",
            "Epoch 6/30\n",
            "52/52 [==============================] - 66s 1s/step - loss: 1.0952 - accuracy: 0.4966 - f1: 0.3385 - precision: 0.6216 - recall: 0.2330 - val_loss: 1.1152 - val_accuracy: 0.4902 - val_f1: 0.3516 - val_precision: 0.5809 - val_recall: 0.2523\n",
            "Epoch 7/30\n",
            "52/52 [==============================] - 66s 1s/step - loss: 1.0881 - accuracy: 0.5027 - f1: 0.3479 - precision: 0.6282 - recall: 0.2412 - val_loss: 1.1112 - val_accuracy: 0.4917 - val_f1: 0.3502 - val_precision: 0.5860 - val_recall: 0.2500\n",
            "Epoch 8/30\n",
            "52/52 [==============================] - 68s 1s/step - loss: 1.0776 - accuracy: 0.5073 - f1: 0.3632 - precision: 0.6293 - recall: 0.2556 - val_loss: 1.1076 - val_accuracy: 0.4948 - val_f1: 0.3666 - val_precision: 0.5946 - val_recall: 0.2654\n",
            "Epoch 9/30\n",
            "52/52 [==============================] - 67s 1s/step - loss: 1.0697 - accuracy: 0.5121 - f1: 0.3745 - precision: 0.6320 - recall: 0.2664 - val_loss: 1.1102 - val_accuracy: 0.4978 - val_f1: 0.3621 - val_precision: 0.5930 - val_recall: 0.2609\n",
            "Epoch 10/30\n",
            "52/52 [==============================] - 67s 1s/step - loss: 1.0638 - accuracy: 0.5138 - f1: 0.3768 - precision: 0.6364 - recall: 0.2679 - val_loss: 1.1018 - val_accuracy: 0.5003 - val_f1: 0.3717 - val_precision: 0.5960 - val_recall: 0.2703\n",
            "Epoch 11/30\n",
            "52/52 [==============================] - 67s 1s/step - loss: 1.0603 - accuracy: 0.5198 - f1: 0.3903 - precision: 0.6447 - recall: 0.2803 - val_loss: 1.1009 - val_accuracy: 0.4985 - val_f1: 0.3775 - val_precision: 0.5964 - val_recall: 0.2765\n",
            "Epoch 12/30\n",
            "52/52 [==============================] - 68s 1s/step - loss: 1.0543 - accuracy: 0.5254 - f1: 0.3955 - precision: 0.6471 - recall: 0.2851 - val_loss: 1.1059 - val_accuracy: 0.4958 - val_f1: 0.3755 - val_precision: 0.5965 - val_recall: 0.2743\n",
            "Epoch 13/30\n",
            "52/52 [==============================] - 68s 1s/step - loss: 1.0460 - accuracy: 0.5300 - f1: 0.4022 - precision: 0.6502 - recall: 0.2915 - val_loss: 1.1032 - val_accuracy: 0.4938 - val_f1: 0.3778 - val_precision: 0.6005 - val_recall: 0.2758\n",
            "Epoch 14/30\n",
            "52/52 [==============================] - 66s 1s/step - loss: 1.0381 - accuracy: 0.5342 - f1: 0.4122 - precision: 0.6603 - recall: 0.3000 - val_loss: 1.1011 - val_accuracy: 0.4966 - val_f1: 0.3749 - val_precision: 0.6050 - val_recall: 0.2718\n",
            "Epoch 15/30\n",
            "52/52 [==============================] - 64s 1s/step - loss: 1.0298 - accuracy: 0.5386 - f1: 0.4191 - precision: 0.6624 - recall: 0.3068 - val_loss: 1.1049 - val_accuracy: 0.4972 - val_f1: 0.3704 - val_precision: 0.6021 - val_recall: 0.2677\n",
            "Epoch 16/30\n",
            "52/52 [==============================] - 65s 1s/step - loss: 1.0190 - accuracy: 0.5447 - f1: 0.4292 - precision: 0.6681 - recall: 0.3166 - val_loss: 1.1015 - val_accuracy: 0.5023 - val_f1: 0.3838 - val_precision: 0.6020 - val_recall: 0.2818\n",
            "Epoch 17/30\n",
            "52/52 [==============================] - 67s 1s/step - loss: 1.0145 - accuracy: 0.5501 - f1: 0.4388 - precision: 0.6675 - recall: 0.3271 - val_loss: 1.1011 - val_accuracy: 0.4991 - val_f1: 0.3990 - val_precision: 0.5986 - val_recall: 0.2994\n",
            "Epoch 18/30\n",
            "52/52 [==============================] - 65s 1s/step - loss: 1.0088 - accuracy: 0.5529 - f1: 0.4477 - precision: 0.6670 - recall: 0.3372 - val_loss: 1.1069 - val_accuracy: 0.4971 - val_f1: 0.3912 - val_precision: 0.5996 - val_recall: 0.2905\n",
            "Epoch 19/30\n",
            "52/52 [==============================] - 65s 1s/step - loss: 0.9960 - accuracy: 0.5631 - f1: 0.4587 - precision: 0.6763 - recall: 0.3474 - val_loss: 1.1080 - val_accuracy: 0.4991 - val_f1: 0.4005 - val_precision: 0.6016 - val_recall: 0.3003\n",
            "Epoch 20/30\n",
            "52/52 [==============================] - 65s 1s/step - loss: 0.9868 - accuracy: 0.5665 - f1: 0.4738 - precision: 0.6786 - recall: 0.3642 - val_loss: 1.1093 - val_accuracy: 0.4985 - val_f1: 0.4061 - val_precision: 0.5920 - val_recall: 0.3092\n",
            "Epoch 21/30\n",
            "52/52 [==============================] - 64s 1s/step - loss: 0.9821 - accuracy: 0.5662 - f1: 0.4745 - precision: 0.6749 - recall: 0.3662 - val_loss: 1.1194 - val_accuracy: 0.5011 - val_f1: 0.4081 - val_precision: 0.5917 - val_recall: 0.3117\n",
            "Epoch 22/30\n",
            "52/52 [==============================] - 66s 1s/step - loss: 0.9723 - accuracy: 0.5726 - f1: 0.4843 - precision: 0.6811 - recall: 0.3760 - val_loss: 1.1173 - val_accuracy: 0.4963 - val_f1: 0.4199 - val_precision: 0.5801 - val_recall: 0.3291\n",
            "Epoch 23/30\n",
            "52/52 [==============================] - 65s 1s/step - loss: 0.9628 - accuracy: 0.5771 - f1: 0.4948 - precision: 0.6803 - recall: 0.3891 - val_loss: 1.1177 - val_accuracy: 0.5015 - val_f1: 0.4186 - val_precision: 0.5885 - val_recall: 0.3251\n",
            "Epoch 24/30\n",
            "52/52 [==============================] - 64s 1s/step - loss: 0.9612 - accuracy: 0.5805 - f1: 0.4974 - precision: 0.6852 - recall: 0.3908 - val_loss: 1.1344 - val_accuracy: 0.5006 - val_f1: 0.4260 - val_precision: 0.5778 - val_recall: 0.3375\n",
            "Epoch 25/30\n",
            "52/52 [==============================] - 66s 1s/step - loss: 0.9490 - accuracy: 0.5898 - f1: 0.5132 - precision: 0.6889 - recall: 0.4092 - val_loss: 1.1356 - val_accuracy: 0.5022 - val_f1: 0.4202 - val_precision: 0.5727 - val_recall: 0.3320\n",
            "Epoch 26/30\n",
            "52/52 [==============================] - 66s 1s/step - loss: 0.9342 - accuracy: 0.5981 - f1: 0.5261 - precision: 0.6936 - recall: 0.4242 - val_loss: 1.1528 - val_accuracy: 0.4998 - val_f1: 0.4330 - val_precision: 0.5669 - val_recall: 0.3505\n",
            "Epoch 27/30\n",
            "52/52 [==============================] - 66s 1s/step - loss: 0.9257 - accuracy: 0.5984 - f1: 0.5350 - precision: 0.6963 - recall: 0.4348 - val_loss: 1.1609 - val_accuracy: 0.5003 - val_f1: 0.4288 - val_precision: 0.5649 - val_recall: 0.3458\n",
            "Epoch 28/30\n",
            "52/52 [==============================] - 63s 1s/step - loss: 0.9138 - accuracy: 0.6083 - f1: 0.5455 - precision: 0.6996 - recall: 0.4475 - val_loss: 1.1600 - val_accuracy: 0.4992 - val_f1: 0.4399 - val_precision: 0.5681 - val_recall: 0.3591\n",
            "Epoch 29/30\n",
            "52/52 [==============================] - 63s 1s/step - loss: 0.9046 - accuracy: 0.6115 - f1: 0.5539 - precision: 0.7048 - recall: 0.4566 - val_loss: 1.1614 - val_accuracy: 0.4985 - val_f1: 0.4371 - val_precision: 0.5672 - val_recall: 0.3557\n",
            "Epoch 30/30\n",
            "52/52 [==============================] - 64s 1s/step - loss: 0.9040 - accuracy: 0.6129 - f1: 0.5590 - precision: 0.7092 - recall: 0.4618 - val_loss: 1.2030 - val_accuracy: 0.4918 - val_f1: 0.4455 - val_precision: 0.5544 - val_recall: 0.3725\n",
            "16/16 [==============================] - 11s 744ms/step - loss: 1.1817 - accuracy: 0.5026 - f1: 0.4468 - precision: 0.5568 - recall: 0.3732\n",
            "[1.181727409362793, 0.5026249885559082, 0.4468236267566681, 0.5568251609802246, 0.37324997782707214]\n",
            "SG_BI\n"
          ],
          "name": "stdout"
        }
      ]
    },
    {
      "cell_type": "code",
      "metadata": {
        "id": "vn15zb6NomYU",
        "colab": {
          "base_uri": "https://localhost:8080/"
        },
        "outputId": "0dbd2149-f80b-4a36-8fbf-60f4f34e03d8"
      },
      "source": [
        "model_cbow_bi = tf.keras.Sequential()\r\n",
        "model_cbow_bi.add(tf.keras.Input(shape=(Max_input_size,Embedding_size)))\r\n",
        "model_cbow_bi.add(tf.keras.layers.Bidirectional(tf.keras.layers.LSTM(64),merge_mode='concat'))\r\n",
        "model_cbow_bi.add(tf.keras.layers.Dropout(0.2))\r\n",
        "model_cbow_bi.add(tf.keras.layers.Dense(64,activation='relu'))\r\n",
        "model_cbow_bi.add(tf.keras.layers.Dropout(0.2))\r\n",
        "model_cbow_bi.add(tf.keras.layers.Dense(4, activation='softmax'))\r\n",
        "model_cbow_bi.compile(loss='categorical_crossentropy',optimizer='adam', \r\n",
        "                           metrics=['accuracy',f1,precision,recall])\r\n",
        "cbow_train_gen=vec_gen(w2v_cbow,vocab_cbow,X_train,y_train,batch_size,Max_input_size,Embedding_size)\r\n",
        "cbow_val_gen=vec_gen(w2v_cbow,vocab_cbow,X_val,y_val,batch_size,Max_input_size,Embedding_size)\r\n",
        "history_cbow_bi = model_cbow_bi.fit_generator(cbow_train_gen,validation_data=cbow_val_gen,validation_steps=int((len(X_val)/batch_size)+1),steps_per_epoch=int((len(X_train)/batch_size)+1),epochs=epochs)\r\n",
        "history = model_cbow_bi.evaluate(x = vec_gen(w2v_cbow,vocab_cbow,X_test,y_test,batch_size,Max_input_size,Embedding_size),steps=int(len(y_test)/batch_size))\r\n",
        "print(history)\r\n",
        "\r\n",
        "result_table[2]=history[1]\r\n",
        "print(\"CBOW_BI\")"
      ],
      "execution_count": 48,
      "outputs": [
        {
          "output_type": "stream",
          "text": [
            "/usr/local/lib/python3.7/dist-packages/tensorflow/python/keras/engine/training.py:1844: UserWarning: `Model.fit_generator` is deprecated and will be removed in a future version. Please use `Model.fit`, which supports generators.\n",
            "  warnings.warn('`Model.fit_generator` is deprecated and '\n"
          ],
          "name": "stderr"
        },
        {
          "output_type": "stream",
          "text": [
            "Epoch 1/30\n",
            "52/52 [==============================] - 71s 1s/step - loss: 1.2851 - accuracy: 0.3618 - f1: 0.0146 - precision: 0.1490 - recall: 0.0085 - val_loss: 1.1795 - val_accuracy: 0.4237 - val_f1: 0.0161 - val_precision: 0.9121 - val_recall: 0.0082\n",
            "Epoch 2/30\n",
            "52/52 [==============================] - 64s 1s/step - loss: 1.1729 - accuracy: 0.4257 - f1: 0.0959 - precision: 0.6214 - recall: 0.0547 - val_loss: 1.1485 - val_accuracy: 0.4506 - val_f1: 0.2002 - val_precision: 0.6110 - val_recall: 0.1198\n",
            "Epoch 3/30\n",
            "52/52 [==============================] - 64s 1s/step - loss: 1.1382 - accuracy: 0.4691 - f1: 0.2327 - precision: 0.6076 - recall: 0.1453 - val_loss: 1.1315 - val_accuracy: 0.4737 - val_f1: 0.3198 - val_precision: 0.5792 - val_recall: 0.2211\n",
            "Epoch 4/30\n",
            "52/52 [==============================] - 66s 1s/step - loss: 1.1170 - accuracy: 0.4825 - f1: 0.3029 - precision: 0.6117 - recall: 0.2022 - val_loss: 1.1199 - val_accuracy: 0.4903 - val_f1: 0.3462 - val_precision: 0.5838 - val_recall: 0.2463\n",
            "Epoch 5/30\n",
            "52/52 [==============================] - 65s 1s/step - loss: 1.1055 - accuracy: 0.4899 - f1: 0.3247 - precision: 0.6173 - recall: 0.2211 - val_loss: 1.1188 - val_accuracy: 0.4871 - val_f1: 0.3496 - val_precision: 0.5848 - val_recall: 0.2495\n",
            "Epoch 6/30\n",
            "52/52 [==============================] - 64s 1s/step - loss: 1.0963 - accuracy: 0.4956 - f1: 0.3386 - precision: 0.6191 - recall: 0.2336 - val_loss: 1.1214 - val_accuracy: 0.4814 - val_f1: 0.3618 - val_precision: 0.5695 - val_recall: 0.2654\n",
            "Epoch 7/30\n",
            "52/52 [==============================] - 64s 1s/step - loss: 1.0889 - accuracy: 0.5020 - f1: 0.3554 - precision: 0.6229 - recall: 0.2493 - val_loss: 1.1171 - val_accuracy: 0.4808 - val_f1: 0.3513 - val_precision: 0.5806 - val_recall: 0.2522\n",
            "Epoch 8/30\n",
            "52/52 [==============================] - 65s 1s/step - loss: 1.0835 - accuracy: 0.5024 - f1: 0.3598 - precision: 0.6246 - recall: 0.2531 - val_loss: 1.1108 - val_accuracy: 0.4852 - val_f1: 0.3562 - val_precision: 0.5887 - val_recall: 0.2557\n",
            "Epoch 9/30\n",
            "52/52 [==============================] - 66s 1s/step - loss: 1.0713 - accuracy: 0.5130 - f1: 0.3711 - precision: 0.6343 - recall: 0.2627 - val_loss: 1.1143 - val_accuracy: 0.4877 - val_f1: 0.3474 - val_precision: 0.5893 - val_recall: 0.2465\n",
            "Epoch 10/30\n",
            "52/52 [==============================] - 65s 1s/step - loss: 1.0649 - accuracy: 0.5192 - f1: 0.3822 - precision: 0.6376 - recall: 0.2732 - val_loss: 1.1084 - val_accuracy: 0.4903 - val_f1: 0.3489 - val_precision: 0.5922 - val_recall: 0.2475\n",
            "Epoch 11/30\n",
            "52/52 [==============================] - 65s 1s/step - loss: 1.0608 - accuracy: 0.5242 - f1: 0.3885 - precision: 0.6395 - recall: 0.2796 - val_loss: 1.1112 - val_accuracy: 0.4852 - val_f1: 0.3561 - val_precision: 0.5915 - val_recall: 0.2549\n",
            "Epoch 12/30\n",
            "52/52 [==============================] - 65s 1s/step - loss: 1.0538 - accuracy: 0.5265 - f1: 0.3989 - precision: 0.6434 - recall: 0.2893 - val_loss: 1.1122 - val_accuracy: 0.4882 - val_f1: 0.3651 - val_precision: 0.5844 - val_recall: 0.2657\n",
            "Epoch 13/30\n",
            "52/52 [==============================] - 64s 1s/step - loss: 1.0479 - accuracy: 0.5282 - f1: 0.4058 - precision: 0.6496 - recall: 0.2953 - val_loss: 1.1130 - val_accuracy: 0.4877 - val_f1: 0.3792 - val_precision: 0.5747 - val_recall: 0.2831\n",
            "Epoch 14/30\n",
            "52/52 [==============================] - 66s 1s/step - loss: 1.0441 - accuracy: 0.5326 - f1: 0.4154 - precision: 0.6509 - recall: 0.3053 - val_loss: 1.1132 - val_accuracy: 0.4895 - val_f1: 0.3837 - val_precision: 0.5809 - val_recall: 0.2866\n",
            "Epoch 15/30\n",
            "52/52 [==============================] - 65s 1s/step - loss: 1.0306 - accuracy: 0.5421 - f1: 0.4256 - precision: 0.6539 - recall: 0.3158 - val_loss: 1.1255 - val_accuracy: 0.4897 - val_f1: 0.3899 - val_precision: 0.5700 - val_recall: 0.2965\n",
            "Epoch 16/30\n",
            "52/52 [==============================] - 64s 1s/step - loss: 1.0211 - accuracy: 0.5463 - f1: 0.4369 - precision: 0.6581 - recall: 0.3273 - val_loss: 1.1161 - val_accuracy: 0.4925 - val_f1: 0.3938 - val_precision: 0.5779 - val_recall: 0.2988\n",
            "Epoch 17/30\n",
            "52/52 [==============================] - 63s 1s/step - loss: 1.0135 - accuracy: 0.5523 - f1: 0.4458 - precision: 0.6622 - recall: 0.3363 - val_loss: 1.1185 - val_accuracy: 0.4912 - val_f1: 0.4074 - val_precision: 0.5767 - val_recall: 0.3151\n",
            "Epoch 18/30\n",
            "52/52 [==============================] - 64s 1s/step - loss: 1.0125 - accuracy: 0.5553 - f1: 0.4505 - precision: 0.6627 - recall: 0.3416 - val_loss: 1.1141 - val_accuracy: 0.4918 - val_f1: 0.4082 - val_precision: 0.5815 - val_recall: 0.3146\n",
            "Epoch 19/30\n",
            "52/52 [==============================] - 62s 1s/step - loss: 0.9979 - accuracy: 0.5589 - f1: 0.4640 - precision: 0.6707 - recall: 0.3550 - val_loss: 1.1216 - val_accuracy: 0.4951 - val_f1: 0.4211 - val_precision: 0.5750 - val_recall: 0.3323\n",
            "Epoch 20/30\n",
            "52/52 [==============================] - 63s 1s/step - loss: 0.9922 - accuracy: 0.5629 - f1: 0.4733 - precision: 0.6748 - recall: 0.3649 - val_loss: 1.1290 - val_accuracy: 0.5003 - val_f1: 0.4289 - val_precision: 0.5726 - val_recall: 0.3431\n",
            "Epoch 21/30\n",
            "52/52 [==============================] - 62s 1s/step - loss: 0.9904 - accuracy: 0.5659 - f1: 0.4721 - precision: 0.6750 - recall: 0.3635 - val_loss: 1.1418 - val_accuracy: 0.5082 - val_f1: 0.4321 - val_precision: 0.5721 - val_recall: 0.3474\n",
            "Epoch 22/30\n",
            "52/52 [==============================] - 62s 1s/step - loss: 0.9766 - accuracy: 0.5726 - f1: 0.4929 - precision: 0.6801 - recall: 0.3873 - val_loss: 1.1319 - val_accuracy: 0.5094 - val_f1: 0.4295 - val_precision: 0.5764 - val_recall: 0.3425\n",
            "Epoch 23/30\n",
            "52/52 [==============================] - 63s 1s/step - loss: 0.9663 - accuracy: 0.5790 - f1: 0.5000 - precision: 0.6881 - recall: 0.3930 - val_loss: 1.1453 - val_accuracy: 0.5058 - val_f1: 0.4332 - val_precision: 0.5697 - val_recall: 0.3497\n",
            "Epoch 24/30\n",
            "52/52 [==============================] - 63s 1s/step - loss: 0.9660 - accuracy: 0.5825 - f1: 0.5000 - precision: 0.6809 - recall: 0.3955 - val_loss: 1.1460 - val_accuracy: 0.5054 - val_f1: 0.4373 - val_precision: 0.5758 - val_recall: 0.3528\n",
            "Epoch 25/30\n",
            "52/52 [==============================] - 63s 1s/step - loss: 0.9551 - accuracy: 0.5907 - f1: 0.5164 - precision: 0.6890 - recall: 0.4133 - val_loss: 1.1280 - val_accuracy: 0.5035 - val_f1: 0.4363 - val_precision: 0.5800 - val_recall: 0.3498\n",
            "Epoch 26/30\n",
            "52/52 [==============================] - 63s 1s/step - loss: 0.9420 - accuracy: 0.5960 - f1: 0.5250 - precision: 0.6969 - recall: 0.4215 - val_loss: 1.1397 - val_accuracy: 0.5102 - val_f1: 0.4327 - val_precision: 0.5798 - val_recall: 0.3454\n",
            "Epoch 27/30\n",
            "52/52 [==============================] - 65s 1s/step - loss: 0.9319 - accuracy: 0.6001 - f1: 0.5308 - precision: 0.6941 - recall: 0.4300 - val_loss: 1.1467 - val_accuracy: 0.4972 - val_f1: 0.4278 - val_precision: 0.5644 - val_recall: 0.3446\n",
            "Epoch 28/30\n",
            "52/52 [==============================] - 65s 1s/step - loss: 0.9164 - accuracy: 0.6099 - f1: 0.5509 - precision: 0.7074 - recall: 0.4514 - val_loss: 1.1564 - val_accuracy: 0.5011 - val_f1: 0.4267 - val_precision: 0.5635 - val_recall: 0.3435\n",
            "Epoch 29/30\n",
            "52/52 [==============================] - 64s 1s/step - loss: 0.9068 - accuracy: 0.6157 - f1: 0.5552 - precision: 0.7068 - recall: 0.4573 - val_loss: 1.1685 - val_accuracy: 0.5032 - val_f1: 0.4465 - val_precision: 0.5570 - val_recall: 0.3728\n",
            "Epoch 30/30\n",
            "52/52 [==============================] - 64s 1s/step - loss: 0.8981 - accuracy: 0.6176 - f1: 0.5608 - precision: 0.7089 - recall: 0.4642 - val_loss: 1.2011 - val_accuracy: 0.5005 - val_f1: 0.4465 - val_precision: 0.5515 - val_recall: 0.3752\n",
            "16/16 [==============================] - 11s 745ms/step - loss: 1.1638 - accuracy: 0.5165 - f1: 0.4607 - precision: 0.5653 - recall: 0.3890\n",
            "[1.1638116836547852, 0.5164999961853027, 0.4607464671134949, 0.5652891397476196, 0.3890000283718109]\n",
            "CBOW_BI\n"
          ],
          "name": "stdout"
        }
      ]
    },
    {
      "cell_type": "code",
      "metadata": {
        "colab": {
          "base_uri": "https://localhost:8080/",
          "height": 1000
        },
        "id": "gPXr5_utxIvm",
        "outputId": "ded768e9-72e8-48c5-d18f-4b9585f6e3d3"
      },
      "source": [
        "model_glove_bi = tf.keras.Sequential()\n",
        "model_glove_bi.add(tf.keras.Input(shape=(Max_input_size,Embedding_size)))\n",
        "model_glove_bi.add(tf.keras.layers.Bidirectional(tf.keras.layers.LSTM(64),merge_mode='concat'))\n",
        "model_glove_bi.add(tf.keras.layers.Dropout(0.2))\n",
        "model_glove_bi.add(tf.keras.layers.Dense(64,activation='relu'))\n",
        "model_glove_bi.add(tf.keras.layers.Dropout(0.2))\n",
        "model_glove_bi.add(tf.keras.layers.Dense(4, activation='softmax'))\n",
        "model_glove_bi.compile(loss='categorical_crossentropy',optimizer='adam', \n",
        "                           metrics=['accuracy',f1,precision,recall])\n",
        "glove_train_gen=glove_gen(vocab_glove,X_train,y_train,batch_size,Max_input_size,Embedding_size)\n",
        "glove_val_gen=glove_gen(vocab_glove,X_val,y_val,batch_size,Max_input_size,Embedding_size)\n",
        "history_glove_bi = model_glove_bi.fit_generator(glove_train_gen,validation_data=glove_val_gen,validation_steps=int((len(X_val)/batch_size)+1),steps_per_epoch=int((len(X_train)/batch_size)+1),epochs=epochs)\n",
        "history = model_glove_bi.evaluate(x = glove_gen(vocab_glove,X_test,y_test,batch_size,Max_input_size,Embedding_size),steps=int(len(y_test)/batch_size))\n",
        "print(history)\n",
        "\n",
        "result_table[0]=history[1]\n",
        "print(\"GLOVE_BI\")"
      ],
      "execution_count": 49,
      "outputs": [
        {
          "output_type": "stream",
          "text": [
            "/usr/local/lib/python3.7/dist-packages/tensorflow/python/keras/engine/training.py:1844: UserWarning: `Model.fit_generator` is deprecated and will be removed in a future version. Please use `Model.fit`, which supports generators.\n",
            "  warnings.warn('`Model.fit_generator` is deprecated and '\n"
          ],
          "name": "stderr"
        },
        {
          "output_type": "stream",
          "text": [
            "Epoch 1/30\n",
            "52/52 [==============================] - 34s 595ms/step - loss: 1.2386 - accuracy: 0.3981 - f1: 0.0869 - precision: 0.3625 - recall: 0.0559 - val_loss: 1.0829 - val_accuracy: 0.5186 - val_f1: 0.3853 - val_precision: 0.6212 - val_recall: 0.2794\n",
            "Epoch 2/30\n",
            "52/52 [==============================] - 30s 575ms/step - loss: 1.0595 - accuracy: 0.5337 - f1: 0.4244 - precision: 0.6375 - recall: 0.3196 - val_loss: 1.0279 - val_accuracy: 0.5531 - val_f1: 0.4739 - val_precision: 0.6413 - val_recall: 0.3760\n",
            "Epoch 3/30\n",
            "52/52 [==============================] - 30s 575ms/step - loss: 1.0160 - accuracy: 0.5614 - f1: 0.4771 - precision: 0.6553 - recall: 0.3760 - val_loss: 1.0194 - val_accuracy: 0.5545 - val_f1: 0.4806 - val_precision: 0.6501 - val_recall: 0.3814\n",
            "Epoch 4/30\n",
            "52/52 [==============================] - 30s 574ms/step - loss: 0.9870 - accuracy: 0.5785 - f1: 0.5029 - precision: 0.6721 - recall: 0.4021 - val_loss: 1.0013 - val_accuracy: 0.5649 - val_f1: 0.4704 - val_precision: 0.6783 - val_recall: 0.3605\n",
            "Epoch 5/30\n",
            "52/52 [==============================] - 30s 580ms/step - loss: 0.9737 - accuracy: 0.5879 - f1: 0.5085 - precision: 0.6828 - recall: 0.4059 - val_loss: 0.9987 - val_accuracy: 0.5632 - val_f1: 0.4877 - val_precision: 0.6627 - val_recall: 0.3862\n",
            "Epoch 6/30\n",
            "52/52 [==============================] - 30s 576ms/step - loss: 0.9619 - accuracy: 0.5894 - f1: 0.5206 - precision: 0.6794 - recall: 0.4224 - val_loss: 1.0013 - val_accuracy: 0.5665 - val_f1: 0.5042 - val_precision: 0.6599 - val_recall: 0.4082\n",
            "Epoch 7/30\n",
            "52/52 [==============================] - 30s 578ms/step - loss: 0.9499 - accuracy: 0.5964 - f1: 0.5325 - precision: 0.6877 - recall: 0.4350 - val_loss: 1.0007 - val_accuracy: 0.5574 - val_f1: 0.5044 - val_precision: 0.6545 - val_recall: 0.4106\n",
            "Epoch 8/30\n",
            "52/52 [==============================] - 30s 569ms/step - loss: 0.9328 - accuracy: 0.6052 - f1: 0.5441 - precision: 0.6938 - recall: 0.4483 - val_loss: 0.9922 - val_accuracy: 0.5631 - val_f1: 0.5088 - val_precision: 0.6552 - val_recall: 0.4160\n",
            "Epoch 9/30\n",
            "52/52 [==============================] - 30s 572ms/step - loss: 0.9179 - accuracy: 0.6118 - f1: 0.5557 - precision: 0.6990 - recall: 0.4618 - val_loss: 1.0005 - val_accuracy: 0.5594 - val_f1: 0.5097 - val_precision: 0.6485 - val_recall: 0.4200\n",
            "Epoch 10/30\n",
            "52/52 [==============================] - 30s 575ms/step - loss: 0.9066 - accuracy: 0.6161 - f1: 0.5640 - precision: 0.6977 - recall: 0.4738 - val_loss: 0.9953 - val_accuracy: 0.5603 - val_f1: 0.5054 - val_precision: 0.6596 - val_recall: 0.4098\n",
            "Epoch 11/30\n",
            "52/52 [==============================] - 30s 569ms/step - loss: 0.8933 - accuracy: 0.6242 - f1: 0.5722 - precision: 0.7049 - recall: 0.4823 - val_loss: 0.9986 - val_accuracy: 0.5594 - val_f1: 0.5067 - val_precision: 0.6515 - val_recall: 0.4148\n",
            "Epoch 12/30\n",
            "52/52 [==============================] - 30s 573ms/step - loss: 0.8784 - accuracy: 0.6302 - f1: 0.5855 - precision: 0.7102 - recall: 0.4988 - val_loss: 1.0094 - val_accuracy: 0.5588 - val_f1: 0.5078 - val_precision: 0.6423 - val_recall: 0.4202\n",
            "Epoch 13/30\n",
            "52/52 [==============================] - 30s 572ms/step - loss: 0.8597 - accuracy: 0.6443 - f1: 0.5989 - precision: 0.7124 - recall: 0.5173 - val_loss: 1.0175 - val_accuracy: 0.5620 - val_f1: 0.5125 - val_precision: 0.6346 - val_recall: 0.4300\n",
            "Epoch 14/30\n",
            "52/52 [==============================] - 29s 568ms/step - loss: 0.8433 - accuracy: 0.6496 - f1: 0.6092 - precision: 0.7185 - recall: 0.5294 - val_loss: 1.0237 - val_accuracy: 0.5643 - val_f1: 0.5214 - val_precision: 0.6260 - val_recall: 0.4469\n",
            "Epoch 15/30\n",
            "52/52 [==============================] - 30s 569ms/step - loss: 0.8256 - accuracy: 0.6601 - f1: 0.6279 - precision: 0.7301 - recall: 0.5513 - val_loss: 1.0435 - val_accuracy: 0.5618 - val_f1: 0.5225 - val_precision: 0.6181 - val_recall: 0.4526\n",
            "Epoch 16/30\n",
            "52/52 [==============================] - 30s 582ms/step - loss: 0.8097 - accuracy: 0.6647 - f1: 0.6325 - precision: 0.7264 - recall: 0.5606 - val_loss: 1.0623 - val_accuracy: 0.5520 - val_f1: 0.5195 - val_precision: 0.6017 - val_recall: 0.4571\n",
            "Epoch 17/30\n",
            "52/52 [==============================] - 30s 574ms/step - loss: 0.8036 - accuracy: 0.6716 - f1: 0.6447 - precision: 0.7353 - recall: 0.5745 - val_loss: 1.0600 - val_accuracy: 0.5535 - val_f1: 0.5242 - val_precision: 0.6037 - val_recall: 0.4632\n",
            "Epoch 18/30\n",
            "52/52 [==============================] - 30s 576ms/step - loss: 0.7851 - accuracy: 0.6786 - f1: 0.6512 - precision: 0.7374 - recall: 0.5837 - val_loss: 1.0821 - val_accuracy: 0.5503 - val_f1: 0.5254 - val_precision: 0.6023 - val_recall: 0.4660\n",
            "Epoch 19/30\n",
            "52/52 [==============================] - 30s 577ms/step - loss: 0.7655 - accuracy: 0.6903 - f1: 0.6700 - precision: 0.7515 - recall: 0.6053 - val_loss: 1.0935 - val_accuracy: 0.5455 - val_f1: 0.5154 - val_precision: 0.5925 - val_recall: 0.4562\n",
            "Epoch 20/30\n",
            "52/52 [==============================] - 30s 577ms/step - loss: 0.7479 - accuracy: 0.7043 - f1: 0.6783 - precision: 0.7559 - recall: 0.6159 - val_loss: 1.0951 - val_accuracy: 0.5478 - val_f1: 0.5184 - val_precision: 0.5914 - val_recall: 0.4615\n",
            "Epoch 21/30\n",
            "52/52 [==============================] - 30s 572ms/step - loss: 0.7251 - accuracy: 0.7100 - f1: 0.6940 - precision: 0.7671 - recall: 0.6342 - val_loss: 1.1067 - val_accuracy: 0.5429 - val_f1: 0.5159 - val_precision: 0.5934 - val_recall: 0.4563\n",
            "Epoch 22/30\n",
            "52/52 [==============================] - 30s 573ms/step - loss: 0.7196 - accuracy: 0.7126 - f1: 0.6902 - precision: 0.7617 - recall: 0.6317 - val_loss: 1.1256 - val_accuracy: 0.5405 - val_f1: 0.5195 - val_precision: 0.5845 - val_recall: 0.4675\n",
            "Epoch 23/30\n",
            "52/52 [==============================] - 30s 573ms/step - loss: 0.7024 - accuracy: 0.7210 - f1: 0.7054 - precision: 0.7760 - recall: 0.6471 - val_loss: 1.1399 - val_accuracy: 0.5422 - val_f1: 0.5203 - val_precision: 0.5854 - val_recall: 0.4683\n",
            "Epoch 24/30\n",
            "52/52 [==============================] - 30s 572ms/step - loss: 0.6928 - accuracy: 0.7278 - f1: 0.7101 - precision: 0.7765 - recall: 0.6548 - val_loss: 1.1688 - val_accuracy: 0.5354 - val_f1: 0.5106 - val_precision: 0.5781 - val_recall: 0.4574\n",
            "Epoch 25/30\n",
            "52/52 [==============================] - 30s 572ms/step - loss: 0.6769 - accuracy: 0.7316 - f1: 0.7169 - precision: 0.7807 - recall: 0.6633 - val_loss: 1.2140 - val_accuracy: 0.5206 - val_f1: 0.4966 - val_precision: 0.5604 - val_recall: 0.4460\n",
            "Epoch 26/30\n",
            "52/52 [==============================] - 30s 584ms/step - loss: 0.6684 - accuracy: 0.7390 - f1: 0.7232 - precision: 0.7842 - recall: 0.6714 - val_loss: 1.2504 - val_accuracy: 0.5275 - val_f1: 0.5091 - val_precision: 0.5580 - val_recall: 0.4682\n",
            "Epoch 27/30\n",
            "52/52 [==============================] - 30s 575ms/step - loss: 0.6575 - accuracy: 0.7396 - f1: 0.7283 - precision: 0.7869 - recall: 0.6782 - val_loss: 1.2818 - val_accuracy: 0.5238 - val_f1: 0.5083 - val_precision: 0.5497 - val_recall: 0.4728\n",
            "Epoch 28/30\n",
            "52/52 [==============================] - 30s 575ms/step - loss: 0.6509 - accuracy: 0.7412 - f1: 0.7317 - precision: 0.7880 - recall: 0.6833 - val_loss: 1.2695 - val_accuracy: 0.5314 - val_f1: 0.5167 - val_precision: 0.5586 - val_recall: 0.4808\n",
            "Epoch 29/30\n",
            "52/52 [==============================] - 30s 577ms/step - loss: 0.6276 - accuracy: 0.7508 - f1: 0.7439 - precision: 0.7974 - recall: 0.6975 - val_loss: 1.2860 - val_accuracy: 0.5262 - val_f1: 0.5167 - val_precision: 0.5594 - val_recall: 0.4802\n",
            "Epoch 30/30\n",
            "52/52 [==============================] - 30s 574ms/step - loss: 0.6062 - accuracy: 0.7638 - f1: 0.7564 - precision: 0.8063 - recall: 0.7126 - val_loss: 1.3352 - val_accuracy: 0.5271 - val_f1: 0.5112 - val_precision: 0.5508 - val_recall: 0.4769\n",
            "16/16 [==============================] - 4s 247ms/step - loss: 1.2789 - accuracy: 0.5411 - f1: 0.5248 - precision: 0.5680 - recall: 0.4878\n",
            "[1.278857946395874, 0.5411249995231628, 0.5248113870620728, 0.5680419206619263, 0.48775002360343933]\n"
          ],
          "name": "stdout"
        },
        {
          "output_type": "error",
          "ename": "IndexError",
          "evalue": "ignored",
          "traceback": [
            "\u001b[0;31m---------------------------------------------------------------------------\u001b[0m",
            "\u001b[0;31mIndexError\u001b[0m                                Traceback (most recent call last)",
            "\u001b[0;32m<ipython-input-49-229643d6b878>\u001b[0m in \u001b[0;36m<module>\u001b[0;34m()\u001b[0m\n\u001b[1;32m     14\u001b[0m \u001b[0mprint\u001b[0m\u001b[0;34m(\u001b[0m\u001b[0mhistory\u001b[0m\u001b[0;34m)\u001b[0m\u001b[0;34m\u001b[0m\u001b[0;34m\u001b[0m\u001b[0m\n\u001b[1;32m     15\u001b[0m \u001b[0;34m\u001b[0m\u001b[0m\n\u001b[0;32m---> 16\u001b[0;31m \u001b[0mresult_table\u001b[0m\u001b[0;34m[\u001b[0m\u001b[0;36m3\u001b[0m\u001b[0;34m]\u001b[0m\u001b[0;34m=\u001b[0m\u001b[0mhistory\u001b[0m\u001b[0;34m[\u001b[0m\u001b[0;36m1\u001b[0m\u001b[0;34m]\u001b[0m\u001b[0;34m\u001b[0m\u001b[0;34m\u001b[0m\u001b[0m\n\u001b[0m\u001b[1;32m     17\u001b[0m \u001b[0mprint\u001b[0m\u001b[0;34m(\u001b[0m\u001b[0;34m\"GLOVE_BI\"\u001b[0m\u001b[0;34m)\u001b[0m\u001b[0;34m\u001b[0m\u001b[0;34m\u001b[0m\u001b[0m\n",
            "\u001b[0;31mIndexError\u001b[0m: list assignment index out of range"
          ]
        }
      ]
    },
    {
      "cell_type": "code",
      "metadata": {
        "colab": {
          "base_uri": "https://localhost:8080/"
        },
        "id": "zPxvRXUCOvg_",
        "outputId": "ad599d70-f948-4a7d-971b-bea9d22bb17d"
      },
      "source": [
        "result_table[0]=history[1]\r\n",
        "print(\"GLOVE_BI\")"
      ],
      "execution_count": 50,
      "outputs": [
        {
          "output_type": "stream",
          "text": [
            "GLOVE_BI\n"
          ],
          "name": "stdout"
        }
      ]
    },
    {
      "cell_type": "code",
      "metadata": {
        "id": "1pTYtBY-omOB",
        "colab": {
          "base_uri": "https://localhost:8080/"
        },
        "outputId": "7a9b9c72-7fee-4f70-f1b9-5bca763c500e"
      },
      "source": [
        "#print(\"\\tLstm\\t\\t\\tBiLstm\\t\\t\\tRnn\")\r\n",
        "print(\"glove\",result_table[:1])\r\n",
        "print(\"sg\",result_table[1:2])\r\n",
        "print(\"cbow\",result_table[2:3])\r\n",
        "# print(history_sg_bi.history)\r\n",
        "# plt.title(\"Skip-Gram + Bi-LSTM accuracy, loss vs epochs Graph\")\r\n",
        "# plt.plot(history_sg_bi.history['loss'],c='b',label='loss')\r\n",
        "# plt.plot(history_sg_bi.history['accuracy'],c='r',label='accuracy')\r\n",
        "# plt.xlabel('epochs')\r\n",
        "# plt.legend()\r\n",
        "# # plt.yticks()\r\n",
        "# plt.show()\r\n",
        "# plt.title(\"GloVe + Bi-LSTM accuracy, loss vs epochs Graph\")\r\n",
        "# plt.plot(history_glove_bi.history['loss'],c='b',label='loss')\r\n",
        "# plt.plot(history_glove_bi.history['accuracy'],c='r',label='accuracy')\r\n",
        "# plt.xlabel('epochs')\r\n",
        "# plt.legend()\r\n",
        "# # plt.yticks()\r\n",
        "# plt.show()"
      ],
      "execution_count": 51,
      "outputs": [
        {
          "output_type": "stream",
          "text": [
            "glove [0.5411249995231628]\n",
            "sg [0.5026249885559082]\n",
            "cbow [0.5164999961853027]\n"
          ],
          "name": "stdout"
        }
      ]
    },
    {
      "cell_type": "code",
      "metadata": {
        "id": "vSSVKhXQomLY"
      },
      "source": [
        ""
      ],
      "execution_count": null,
      "outputs": []
    }
  ]
}