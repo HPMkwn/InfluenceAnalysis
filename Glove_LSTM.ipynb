{
  "nbformat": 4,
  "nbformat_minor": 0,
  "metadata": {
    "colab": {
      "name": "Glove_LSTM.ipynb",
      "provenance": [],
      "collapsed_sections": [],
      "toc_visible": true,
      "include_colab_link": true
    },
    "kernelspec": {
      "name": "python3",
      "display_name": "Python 3"
    }
  },
  "cells": [
    {
      "cell_type": "markdown",
      "metadata": {
        "id": "view-in-github",
        "colab_type": "text"
      },
      "source": [
        "<a href=\"https://colab.research.google.com/github/harrymkwn/InfluenceAnalysis/blob/master/Glove_LSTM.ipynb\" target=\"_parent\"><img src=\"https://colab.research.google.com/assets/colab-badge.svg\" alt=\"Open In Colab\"/></a>"
      ]
    },
    {
      "cell_type": "markdown",
      "metadata": {
        "id": "ymXBon2l40Pi"
      },
      "source": [
        "#Initialization"
      ]
    },
    {
      "cell_type": "code",
      "metadata": {
        "id": "FmLm8GPg3rLP"
      },
      "source": [
        "import numpy as np\n",
        "import pandas as pd\n",
        "import tensorflow as tf\n",
        "import re\n",
        "import string\n",
        "from scipy import spatial\n",
        "from sklearn.utils import shuffle \n",
        "from sklearn.model_selection import KFold"
      ],
      "execution_count": 1,
      "outputs": []
    },
    {
      "cell_type": "code",
      "metadata": {
        "id": "_Tp2c6mA44FG",
        "outputId": "956d223a-5abe-4352-f0f2-a16d9448d627",
        "colab": {
          "base_uri": "https://localhost:8080/",
          "height": 34
        }
      },
      "source": [
        "from google.colab import  drive\n",
        "\n",
        "drive.mount('/content/drive')"
      ],
      "execution_count": 2,
      "outputs": [
        {
          "output_type": "stream",
          "text": [
            "Drive already mounted at /content/drive; to attempt to forcibly remount, call drive.mount(\"/content/drive\", force_remount=True).\n"
          ],
          "name": "stdout"
        }
      ]
    },
    {
      "cell_type": "markdown",
      "metadata": {
        "id": "9QKSvM-R5qhL"
      },
      "source": [
        "#Data Import"
      ]
    },
    {
      "cell_type": "code",
      "metadata": {
        "id": "iI4Irne55s9i",
        "outputId": "75a53266-8abb-402c-e907-8f76f181c2fc",
        "colab": {
          "base_uri": "https://localhost:8080/",
          "height": 204
        }
      },
      "source": [
        "df_train = pd.read_csv('/content/drive/My Drive/InfluenceAnalysis/Data/Train/clean_all_train.csv')\n",
        "\n",
        "df_train.head()"
      ],
      "execution_count": 3,
      "outputs": [
        {
          "output_type": "execute_result",
          "data": {
            "text/html": [
              "<div>\n",
              "<style scoped>\n",
              "    .dataframe tbody tr th:only-of-type {\n",
              "        vertical-align: middle;\n",
              "    }\n",
              "\n",
              "    .dataframe tbody tr th {\n",
              "        vertical-align: top;\n",
              "    }\n",
              "\n",
              "    .dataframe thead th {\n",
              "        text-align: right;\n",
              "    }\n",
              "</style>\n",
              "<table border=\"1\" class=\"dataframe\">\n",
              "  <thead>\n",
              "    <tr style=\"text-align: right;\">\n",
              "      <th></th>\n",
              "      <th>Unnamed: 0</th>\n",
              "      <th>Tweets</th>\n",
              "      <th>Labels</th>\n",
              "      <th>Category</th>\n",
              "    </tr>\n",
              "  </thead>\n",
              "  <tbody>\n",
              "    <tr>\n",
              "      <th>0</th>\n",
              "      <td>0</td>\n",
              "      <td>How the fuck   Who the heck   moved my fridge ...</td>\n",
              "      <td>0.938</td>\n",
              "      <td>anger</td>\n",
              "    </tr>\n",
              "    <tr>\n",
              "      <th>1</th>\n",
              "      <td>1</td>\n",
              "      <td>So my Indian Uber driver just called someone t...</td>\n",
              "      <td>0.896</td>\n",
              "      <td>anger</td>\n",
              "    </tr>\n",
              "    <tr>\n",
              "      <th>2</th>\n",
              "      <td>2</td>\n",
              "      <td>UK I asked for my parcel to be delivered to a...</td>\n",
              "      <td>0.896</td>\n",
              "      <td>anger</td>\n",
              "    </tr>\n",
              "    <tr>\n",
              "      <th>3</th>\n",
              "      <td>3</td>\n",
              "      <td>so ef whichever butt wipe pulled the fire alar...</td>\n",
              "      <td>0.896</td>\n",
              "      <td>anger</td>\n",
              "    </tr>\n",
              "    <tr>\n",
              "      <th>4</th>\n",
              "      <td>4</td>\n",
              "      <td>do not join  they put the phone down on you ta...</td>\n",
              "      <td>0.896</td>\n",
              "      <td>anger</td>\n",
              "    </tr>\n",
              "  </tbody>\n",
              "</table>\n",
              "</div>"
            ],
            "text/plain": [
              "   Unnamed: 0  ... Category\n",
              "0           0  ...    anger\n",
              "1           1  ...    anger\n",
              "2           2  ...    anger\n",
              "3           3  ...    anger\n",
              "4           4  ...    anger\n",
              "\n",
              "[5 rows x 4 columns]"
            ]
          },
          "metadata": {
            "tags": []
          },
          "execution_count": 3
        }
      ]
    },
    {
      "cell_type": "code",
      "metadata": {
        "id": "FV0bJ4G99nxG"
      },
      "source": [
        "def find_length(tweet):\n",
        "\n",
        "  return len(tweet.split())"
      ],
      "execution_count": 4,
      "outputs": []
    },
    {
      "cell_type": "code",
      "metadata": {
        "id": "f3fPALtrRf7B"
      },
      "source": [
        "def remove_numbers(tweet):\n",
        "  tweet = re.sub('[0-9]+','',tweet)\n",
        "  return tweet"
      ],
      "execution_count": 5,
      "outputs": []
    },
    {
      "cell_type": "code",
      "metadata": {
        "id": "qUgoehwXmK9l"
      },
      "source": [
        "hash={\"anger\":[1,0,0,0],\"sadness\":[0,1,0,0],\"joy\":[0,0,1,0],\"fear\":[0,0,0,1]}\n",
        "def number_category(category):\n",
        "  return hash[category]"
      ],
      "execution_count": 6,
      "outputs": []
    },
    {
      "cell_type": "code",
      "metadata": {
        "id": "2JIwJaKt9jul"
      },
      "source": [
        "df_train['Encoding'] = df_train['Category'].apply(lambda category : number_category(category))\n",
        "df_train['Length'] = df_train['Tweets'].apply(lambda tweet : find_length(tweet))\n",
        "df_train['Tweets'] = df_train['Tweets'].apply(lambda tweet : remove_numbers(tweet))\n",
        "\n",
        "maxLengthOfTweet = df_train['Length'].max()\n"
      ],
      "execution_count": 7,
      "outputs": []
    },
    {
      "cell_type": "markdown",
      "metadata": {
        "id": "vATHFTnC6RsX"
      },
      "source": [
        "#shuffal data"
      ]
    },
    {
      "cell_type": "code",
      "metadata": {
        "id": "5Y4is0IK6UXf"
      },
      "source": [
        "def shuffle_efficiently(df_train):\n",
        "  df_train = shuffle(df_train)\n",
        "  df_train = shuffle(df_train)\n",
        "  df_train = shuffle(df_train)\n",
        "  df_train = shuffle(df_train)\n",
        "  df_train = shuffle(df_train)\n",
        "  df_train = shuffle(df_train)\n",
        "  df_train = shuffle(df_train)\n",
        "  df_train = shuffle(df_train)\n",
        "  df_train = shuffle(df_train)\n",
        "  df_train = shuffle(df_train)\n",
        "  df_train = shuffle(df_train)\n",
        "  df_train.reset_index(drop=True, inplace=True)\n",
        "\n",
        "  df_train.head(1000)\n",
        "\n",
        "  return df_train"
      ],
      "execution_count": 8,
      "outputs": []
    },
    {
      "cell_type": "code",
      "metadata": {
        "id": "G33Ho9bO6VU5",
        "outputId": "cb4c7e36-bd94-42d7-8f6f-d6581a8f080b",
        "colab": {
          "base_uri": "https://localhost:8080/",
          "height": 204
        }
      },
      "source": [
        "df_train = shuffle_efficiently(df_train)\n",
        "\n",
        "df_train.head()"
      ],
      "execution_count": 9,
      "outputs": [
        {
          "output_type": "execute_result",
          "data": {
            "text/html": [
              "<div>\n",
              "<style scoped>\n",
              "    .dataframe tbody tr th:only-of-type {\n",
              "        vertical-align: middle;\n",
              "    }\n",
              "\n",
              "    .dataframe tbody tr th {\n",
              "        vertical-align: top;\n",
              "    }\n",
              "\n",
              "    .dataframe thead th {\n",
              "        text-align: right;\n",
              "    }\n",
              "</style>\n",
              "<table border=\"1\" class=\"dataframe\">\n",
              "  <thead>\n",
              "    <tr style=\"text-align: right;\">\n",
              "      <th></th>\n",
              "      <th>Unnamed: 0</th>\n",
              "      <th>Tweets</th>\n",
              "      <th>Labels</th>\n",
              "      <th>Category</th>\n",
              "      <th>Encoding</th>\n",
              "      <th>Length</th>\n",
              "    </tr>\n",
              "  </thead>\n",
              "  <tbody>\n",
              "    <tr>\n",
              "      <th>0</th>\n",
              "      <td>3221</td>\n",
              "      <td>et     But the end of all things is at hanTong...</td>\n",
              "      <td>0.479</td>\n",
              "      <td>sadness</td>\n",
              "      <td>[0, 1, 0, 0]</td>\n",
              "      <td>28</td>\n",
              "    </tr>\n",
              "    <tr>\n",
              "      <th>1</th>\n",
              "      <td>2216</td>\n",
              "      <td>The neighbor dancing in the Clayton Homes comm...</td>\n",
              "      <td>0.640</td>\n",
              "      <td>joy</td>\n",
              "      <td>[0, 0, 1, 0]</td>\n",
              "      <td>11</td>\n",
              "    </tr>\n",
              "    <tr>\n",
              "      <th>2</th>\n",
              "      <td>189</td>\n",
              "      <td>All hell is breaking loose in Charlotte   Char...</td>\n",
              "      <td>0.625</td>\n",
              "      <td>anger</td>\n",
              "      <td>[1, 0, 0, 0]</td>\n",
              "      <td>10</td>\n",
              "    </tr>\n",
              "    <tr>\n",
              "      <th>3</th>\n",
              "      <td>2526</td>\n",
              "      <td>Day  of harvest    listening to the sound of t...</td>\n",
              "      <td>0.417</td>\n",
              "      <td>joy</td>\n",
              "      <td>[0, 0, 1, 0]</td>\n",
              "      <td>22</td>\n",
              "    </tr>\n",
              "    <tr>\n",
              "      <th>4</th>\n",
              "      <td>777</td>\n",
              "      <td>ðŸ˜³The intensity that  play at is extraordina...</td>\n",
              "      <td>0.292</td>\n",
              "      <td>anger</td>\n",
              "      <td>[1, 0, 0, 0]</td>\n",
              "      <td>14</td>\n",
              "    </tr>\n",
              "  </tbody>\n",
              "</table>\n",
              "</div>"
            ],
            "text/plain": [
              "   Unnamed: 0  ... Length\n",
              "0        3221  ...     28\n",
              "1        2216  ...     11\n",
              "2         189  ...     10\n",
              "3        2526  ...     22\n",
              "4         777  ...     14\n",
              "\n",
              "[5 rows x 6 columns]"
            ]
          },
          "metadata": {
            "tags": []
          },
          "execution_count": 9
        }
      ]
    },
    {
      "cell_type": "markdown",
      "metadata": {
        "id": "9HaQXF5c5jSF"
      },
      "source": [
        "#using glove word embadding"
      ]
    },
    {
      "cell_type": "code",
      "metadata": {
        "id": "b_EB4us86m-Q"
      },
      "source": [
        "embeddings_dict = {}\n",
        "with open(\"/content/drive/My Drive/InfluenceAnalysis/glove/glove.twitter.27B.25d.txt\", 'r', encoding=\"utf-8\") as f:\n",
        "  for line in f:\n",
        "      values = line.split()\n",
        "      word = values[0]\n",
        "      vector = np.asarray(values[1:], \"float32\")\n",
        "      embeddings_dict[word] = vector"
      ],
      "execution_count": 10,
      "outputs": []
    },
    {
      "cell_type": "code",
      "metadata": {
        "id": "X50nCoDMNgqc"
      },
      "source": [
        "def find_closest_embeddings(embedding):\n",
        "    return sorted(embeddings_dict.keys(), key=lambda word: spatial.distance.euclidean(embeddings_dict[word], embedding))\n"
      ],
      "execution_count": 11,
      "outputs": []
    },
    {
      "cell_type": "markdown",
      "metadata": {
        "id": "Knz3tyB1NKs2"
      },
      "source": [
        "#Preprocess Data"
      ]
    },
    {
      "cell_type": "code",
      "metadata": {
        "id": "dIcGUQt5ENq3"
      },
      "source": [
        "def tockanizer(tweet):\n",
        "  tweet = df_train['Tweets'][ind].split()\n",
        "  return tweet,len(tweet)"
      ],
      "execution_count": 12,
      "outputs": []
    },
    {
      "cell_type": "code",
      "metadata": {
        "id": "pK37ZpLHATUn"
      },
      "source": [
        "tweetslist = []\n",
        "for ind in df_train.index:\n",
        "  tweet,length = tockanizer(df_train['Tweets'][ind])\n",
        "  tweet.extend('x'*(maxLengthOfTweet - length))\n",
        "  tweetslist.append(tweet)\n",
        "\n",
        "\n",
        "\n",
        "print(tweetslist)\n"
      ],
      "execution_count": null,
      "outputs": []
    },
    {
      "cell_type": "code",
      "metadata": {
        "id": "SlQ0aqL1KFEa"
      },
      "source": [
        "tweetseq= [];\n",
        "\n",
        "for tweet in tweetslist:\n",
        "  temp = []\n",
        "  for word in tweet:\n",
        "    if word != \"x\" and isinstance(word , str):\n",
        "      try:\n",
        "        temp.append(embeddings_dict[word.lower()])\n",
        "      except KeyError:\n",
        "        temp.append([0]*25)\n",
        "    else:\n",
        "      temp.append([0]*25)\n",
        "    \n",
        "  tweetseq.append(temp)"
      ],
      "execution_count": 14,
      "outputs": []
    },
    {
      "cell_type": "code",
      "metadata": {
        "id": "En22wDzicJ0F"
      },
      "source": [
        "tens=tf.Variable(tweetseq)\n",
        "print(tens)"
      ],
      "execution_count": null,
      "outputs": []
    },
    {
      "cell_type": "code",
      "metadata": {
        "id": "vOrusL5XrAGx"
      },
      "source": [
        "labels = list(df_train['Encoding'])\n",
        "labels=tf.convert_to_tensor(labels)\n",
        "print(labels)"
      ],
      "execution_count": null,
      "outputs": []
    },
    {
      "cell_type": "code",
      "metadata": {
        "id": "2Ah8fKpFkEiS"
      },
      "source": [
        "model = tf.keras.Sequential()\n",
        "model.add(tf.keras.layers.LSTM(50,dropout=0.1,recurrent_dropout=0.1))\n",
        "model.add(tf.keras.layers.Dropout(0.2))\n",
        "model.add(tf.keras.layers.Dense(4, activation='softmax'))\n",
        "\n",
        "model.compile(loss='categorical_crossentropy',optimizer='adam', \n",
        "                           metrics=['accuracy'])\n",
        "model.build((None,maxLengthOfTweet,25))\n",
        "\n"
      ],
      "execution_count": 17,
      "outputs": []
    },
    {
      "cell_type": "code",
      "metadata": {
        "id": "6lp6Rv-iks49",
        "outputId": "22cce617-4d4a-4f9f-8e21-5c7fd4d2688c",
        "colab": {
          "base_uri": "https://localhost:8080/",
          "height": 255
        }
      },
      "source": [
        "model.summary()"
      ],
      "execution_count": 20,
      "outputs": [
        {
          "output_type": "stream",
          "text": [
            "Model: \"sequential\"\n",
            "_________________________________________________________________\n",
            "Layer (type)                 Output Shape              Param #   \n",
            "=================================================================\n",
            "lstm (LSTM)                  (None, 50)                15200     \n",
            "_________________________________________________________________\n",
            "dropout (Dropout)            (None, 50)                0         \n",
            "_________________________________________________________________\n",
            "dense (Dense)                (None, 4)                 204       \n",
            "=================================================================\n",
            "Total params: 15,404\n",
            "Trainable params: 15,404\n",
            "Non-trainable params: 0\n",
            "_________________________________________________________________\n"
          ],
          "name": "stdout"
        }
      ]
    },
    {
      "cell_type": "code",
      "metadata": {
        "id": "knNwE6v6kyCC"
      },
      "source": [
        "history = model.fit(tweetseq,labels,\n",
        "                  validation_split=0.2, epochs=100)"
      ],
      "execution_count": null,
      "outputs": []
    }
  ]
}