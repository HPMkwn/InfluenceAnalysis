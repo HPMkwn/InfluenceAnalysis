{
  "nbformat": 4,
  "nbformat_minor": 0,
  "metadata": {
    "colab": {
      "name": "TEC_Sent_Our.ipynb",
      "provenance": [],
      "collapsed_sections": [],
      "include_colab_link": true
    },
    "kernelspec": {
      "display_name": "Python 3",
      "name": "python3"
    }
  },
  "cells": [
    {
      "cell_type": "markdown",
      "metadata": {
        "id": "view-in-github",
        "colab_type": "text"
      },
      "source": [
        "<a href=\"https://colab.research.google.com/github/harrymkwn/InfluenceAnalysis/blob/master/TEC_Sent_Our.ipynb\" target=\"_parent\"><img src=\"https://colab.research.google.com/assets/colab-badge.svg\" alt=\"Open In Colab\"/></a>"
      ]
    },
    {
      "cell_type": "code",
      "metadata": {
        "colab": {
          "base_uri": "https://localhost:8080/"
        },
        "id": "Rx-B1Nnp1Xm5",
        "outputId": "84fa717e-ef81-4a0b-a147-bd8c12e75fcc"
      },
      "source": [
        "from google.colab import  drive\n",
        "drive.mount('/content/drive')"
      ],
      "execution_count": 1,
      "outputs": [
        {
          "output_type": "stream",
          "text": [
            "Mounted at /content/drive\n"
          ],
          "name": "stdout"
        }
      ]
    },
    {
      "cell_type": "code",
      "metadata": {
        "colab": {
          "base_uri": "https://localhost:8080/"
        },
        "id": "F7xUQbhdpm55",
        "outputId": "5d77cc4f-db8c-4f23-8e01-2e1e90a9747d"
      },
      "source": [
        "import pandas as pd\r\n",
        "import numpy as np\r\n",
        "import tensorflow as tf\r\n",
        "from gensim.models import Word2Vec\r\n",
        "import matplotlib.pyplot as plt\r\n",
        "from sklearn.linear_model import LogisticRegression\r\n",
        "from sklearn.multiclass import OneVsRestClassifier\r\n",
        "from gensim.models import KeyedVectors\r\n",
        "from sklearn.model_selection import train_test_split\r\n",
        "import nltk\r\n",
        "from nltk.corpus import stopwords\r\n",
        "nltk.download('all')\r\n",
        "from nltk.corpus import sentiwordnet as swn\r\n",
        "device_name = tf.test.gpu_device_name()\r\n",
        "print(device_name)\r\n",
        "df = pd.read_csv('/content/drive/MyDrive/InfluenceAnalysis/TEC/TECOur.csv')\r\n",
        "df = df.sample(frac=1,random_state=32)"
      ],
      "execution_count": 2,
      "outputs": [
        {
          "output_type": "stream",
          "text": [
            "[nltk_data] Downloading collection 'all'\n",
            "[nltk_data]    | \n",
            "[nltk_data]    | Downloading package abc to /root/nltk_data...\n",
            "[nltk_data]    |   Unzipping corpora/abc.zip.\n",
            "[nltk_data]    | Downloading package alpino to /root/nltk_data...\n",
            "[nltk_data]    |   Unzipping corpora/alpino.zip.\n",
            "[nltk_data]    | Downloading package biocreative_ppi to\n",
            "[nltk_data]    |     /root/nltk_data...\n",
            "[nltk_data]    |   Unzipping corpora/biocreative_ppi.zip.\n",
            "[nltk_data]    | Downloading package brown to /root/nltk_data...\n",
            "[nltk_data]    |   Unzipping corpora/brown.zip.\n",
            "[nltk_data]    | Downloading package brown_tei to /root/nltk_data...\n",
            "[nltk_data]    |   Unzipping corpora/brown_tei.zip.\n",
            "[nltk_data]    | Downloading package cess_cat to /root/nltk_data...\n",
            "[nltk_data]    |   Unzipping corpora/cess_cat.zip.\n",
            "[nltk_data]    | Downloading package cess_esp to /root/nltk_data...\n",
            "[nltk_data]    |   Unzipping corpora/cess_esp.zip.\n",
            "[nltk_data]    | Downloading package chat80 to /root/nltk_data...\n",
            "[nltk_data]    |   Unzipping corpora/chat80.zip.\n",
            "[nltk_data]    | Downloading package city_database to\n",
            "[nltk_data]    |     /root/nltk_data...\n",
            "[nltk_data]    |   Unzipping corpora/city_database.zip.\n",
            "[nltk_data]    | Downloading package cmudict to /root/nltk_data...\n",
            "[nltk_data]    |   Unzipping corpora/cmudict.zip.\n",
            "[nltk_data]    | Downloading package comparative_sentences to\n",
            "[nltk_data]    |     /root/nltk_data...\n",
            "[nltk_data]    |   Unzipping corpora/comparative_sentences.zip.\n",
            "[nltk_data]    | Downloading package comtrans to /root/nltk_data...\n",
            "[nltk_data]    | Downloading package conll2000 to /root/nltk_data...\n",
            "[nltk_data]    |   Unzipping corpora/conll2000.zip.\n",
            "[nltk_data]    | Downloading package conll2002 to /root/nltk_data...\n",
            "[nltk_data]    |   Unzipping corpora/conll2002.zip.\n",
            "[nltk_data]    | Downloading package conll2007 to /root/nltk_data...\n",
            "[nltk_data]    | Downloading package crubadan to /root/nltk_data...\n",
            "[nltk_data]    |   Unzipping corpora/crubadan.zip.\n",
            "[nltk_data]    | Downloading package dependency_treebank to\n",
            "[nltk_data]    |     /root/nltk_data...\n",
            "[nltk_data]    |   Unzipping corpora/dependency_treebank.zip.\n",
            "[nltk_data]    | Downloading package dolch to /root/nltk_data...\n",
            "[nltk_data]    |   Unzipping corpora/dolch.zip.\n",
            "[nltk_data]    | Downloading package europarl_raw to\n",
            "[nltk_data]    |     /root/nltk_data...\n",
            "[nltk_data]    |   Unzipping corpora/europarl_raw.zip.\n",
            "[nltk_data]    | Downloading package floresta to /root/nltk_data...\n",
            "[nltk_data]    |   Unzipping corpora/floresta.zip.\n",
            "[nltk_data]    | Downloading package framenet_v15 to\n",
            "[nltk_data]    |     /root/nltk_data...\n",
            "[nltk_data]    |   Unzipping corpora/framenet_v15.zip.\n",
            "[nltk_data]    | Downloading package framenet_v17 to\n",
            "[nltk_data]    |     /root/nltk_data...\n",
            "[nltk_data]    |   Unzipping corpora/framenet_v17.zip.\n",
            "[nltk_data]    | Downloading package gazetteers to /root/nltk_data...\n",
            "[nltk_data]    |   Unzipping corpora/gazetteers.zip.\n",
            "[nltk_data]    | Downloading package genesis to /root/nltk_data...\n",
            "[nltk_data]    |   Unzipping corpora/genesis.zip.\n",
            "[nltk_data]    | Downloading package gutenberg to /root/nltk_data...\n",
            "[nltk_data]    |   Unzipping corpora/gutenberg.zip.\n",
            "[nltk_data]    | Downloading package ieer to /root/nltk_data...\n",
            "[nltk_data]    |   Unzipping corpora/ieer.zip.\n",
            "[nltk_data]    | Downloading package inaugural to /root/nltk_data...\n",
            "[nltk_data]    |   Unzipping corpora/inaugural.zip.\n",
            "[nltk_data]    | Downloading package indian to /root/nltk_data...\n",
            "[nltk_data]    |   Unzipping corpora/indian.zip.\n",
            "[nltk_data]    | Downloading package jeita to /root/nltk_data...\n",
            "[nltk_data]    | Downloading package kimmo to /root/nltk_data...\n",
            "[nltk_data]    |   Unzipping corpora/kimmo.zip.\n",
            "[nltk_data]    | Downloading package knbc to /root/nltk_data...\n",
            "[nltk_data]    | Downloading package lin_thesaurus to\n",
            "[nltk_data]    |     /root/nltk_data...\n",
            "[nltk_data]    |   Unzipping corpora/lin_thesaurus.zip.\n",
            "[nltk_data]    | Downloading package mac_morpho to /root/nltk_data...\n",
            "[nltk_data]    |   Unzipping corpora/mac_morpho.zip.\n",
            "[nltk_data]    | Downloading package machado to /root/nltk_data...\n",
            "[nltk_data]    | Downloading package masc_tagged to /root/nltk_data...\n",
            "[nltk_data]    | Downloading package moses_sample to\n",
            "[nltk_data]    |     /root/nltk_data...\n",
            "[nltk_data]    |   Unzipping models/moses_sample.zip.\n",
            "[nltk_data]    | Downloading package movie_reviews to\n",
            "[nltk_data]    |     /root/nltk_data...\n",
            "[nltk_data]    |   Unzipping corpora/movie_reviews.zip.\n",
            "[nltk_data]    | Downloading package names to /root/nltk_data...\n",
            "[nltk_data]    |   Unzipping corpora/names.zip.\n",
            "[nltk_data]    | Downloading package nombank.1.0 to /root/nltk_data...\n",
            "[nltk_data]    | Downloading package nps_chat to /root/nltk_data...\n",
            "[nltk_data]    |   Unzipping corpora/nps_chat.zip.\n",
            "[nltk_data]    | Downloading package omw to /root/nltk_data...\n",
            "[nltk_data]    |   Unzipping corpora/omw.zip.\n",
            "[nltk_data]    | Downloading package opinion_lexicon to\n",
            "[nltk_data]    |     /root/nltk_data...\n",
            "[nltk_data]    |   Unzipping corpora/opinion_lexicon.zip.\n",
            "[nltk_data]    | Downloading package paradigms to /root/nltk_data...\n",
            "[nltk_data]    |   Unzipping corpora/paradigms.zip.\n",
            "[nltk_data]    | Downloading package pil to /root/nltk_data...\n",
            "[nltk_data]    |   Unzipping corpora/pil.zip.\n",
            "[nltk_data]    | Downloading package pl196x to /root/nltk_data...\n",
            "[nltk_data]    |   Unzipping corpora/pl196x.zip.\n",
            "[nltk_data]    | Downloading package ppattach to /root/nltk_data...\n",
            "[nltk_data]    |   Unzipping corpora/ppattach.zip.\n",
            "[nltk_data]    | Downloading package problem_reports to\n",
            "[nltk_data]    |     /root/nltk_data...\n",
            "[nltk_data]    |   Unzipping corpora/problem_reports.zip.\n",
            "[nltk_data]    | Downloading package propbank to /root/nltk_data...\n",
            "[nltk_data]    | Downloading package ptb to /root/nltk_data...\n",
            "[nltk_data]    |   Unzipping corpora/ptb.zip.\n",
            "[nltk_data]    | Downloading package product_reviews_1 to\n",
            "[nltk_data]    |     /root/nltk_data...\n",
            "[nltk_data]    |   Unzipping corpora/product_reviews_1.zip.\n",
            "[nltk_data]    | Downloading package product_reviews_2 to\n",
            "[nltk_data]    |     /root/nltk_data...\n",
            "[nltk_data]    |   Unzipping corpora/product_reviews_2.zip.\n",
            "[nltk_data]    | Downloading package pros_cons to /root/nltk_data...\n",
            "[nltk_data]    |   Unzipping corpora/pros_cons.zip.\n",
            "[nltk_data]    | Downloading package qc to /root/nltk_data...\n",
            "[nltk_data]    |   Unzipping corpora/qc.zip.\n",
            "[nltk_data]    | Downloading package reuters to /root/nltk_data...\n",
            "[nltk_data]    | Downloading package rte to /root/nltk_data...\n",
            "[nltk_data]    |   Unzipping corpora/rte.zip.\n",
            "[nltk_data]    | Downloading package semcor to /root/nltk_data...\n",
            "[nltk_data]    | Downloading package senseval to /root/nltk_data...\n",
            "[nltk_data]    |   Unzipping corpora/senseval.zip.\n",
            "[nltk_data]    | Downloading package sentiwordnet to\n",
            "[nltk_data]    |     /root/nltk_data...\n",
            "[nltk_data]    |   Unzipping corpora/sentiwordnet.zip.\n",
            "[nltk_data]    | Downloading package sentence_polarity to\n",
            "[nltk_data]    |     /root/nltk_data...\n",
            "[nltk_data]    |   Unzipping corpora/sentence_polarity.zip.\n",
            "[nltk_data]    | Downloading package shakespeare to /root/nltk_data...\n",
            "[nltk_data]    |   Unzipping corpora/shakespeare.zip.\n",
            "[nltk_data]    | Downloading package sinica_treebank to\n",
            "[nltk_data]    |     /root/nltk_data...\n",
            "[nltk_data]    |   Unzipping corpora/sinica_treebank.zip.\n",
            "[nltk_data]    | Downloading package smultron to /root/nltk_data...\n",
            "[nltk_data]    |   Unzipping corpora/smultron.zip.\n",
            "[nltk_data]    | Downloading package state_union to /root/nltk_data...\n",
            "[nltk_data]    |   Unzipping corpora/state_union.zip.\n",
            "[nltk_data]    | Downloading package stopwords to /root/nltk_data...\n",
            "[nltk_data]    |   Unzipping corpora/stopwords.zip.\n",
            "[nltk_data]    | Downloading package subjectivity to\n",
            "[nltk_data]    |     /root/nltk_data...\n",
            "[nltk_data]    |   Unzipping corpora/subjectivity.zip.\n",
            "[nltk_data]    | Downloading package swadesh to /root/nltk_data...\n",
            "[nltk_data]    |   Unzipping corpora/swadesh.zip.\n",
            "[nltk_data]    | Downloading package switchboard to /root/nltk_data...\n",
            "[nltk_data]    |   Unzipping corpora/switchboard.zip.\n",
            "[nltk_data]    | Downloading package timit to /root/nltk_data...\n",
            "[nltk_data]    |   Unzipping corpora/timit.zip.\n",
            "[nltk_data]    | Downloading package toolbox to /root/nltk_data...\n",
            "[nltk_data]    |   Unzipping corpora/toolbox.zip.\n",
            "[nltk_data]    | Downloading package treebank to /root/nltk_data...\n",
            "[nltk_data]    |   Unzipping corpora/treebank.zip.\n",
            "[nltk_data]    | Downloading package twitter_samples to\n",
            "[nltk_data]    |     /root/nltk_data...\n",
            "[nltk_data]    |   Unzipping corpora/twitter_samples.zip.\n",
            "[nltk_data]    | Downloading package udhr to /root/nltk_data...\n",
            "[nltk_data]    |   Unzipping corpora/udhr.zip.\n",
            "[nltk_data]    | Downloading package udhr2 to /root/nltk_data...\n",
            "[nltk_data]    |   Unzipping corpora/udhr2.zip.\n",
            "[nltk_data]    | Downloading package unicode_samples to\n",
            "[nltk_data]    |     /root/nltk_data...\n",
            "[nltk_data]    |   Unzipping corpora/unicode_samples.zip.\n",
            "[nltk_data]    | Downloading package universal_treebanks_v20 to\n",
            "[nltk_data]    |     /root/nltk_data...\n",
            "[nltk_data]    | Downloading package verbnet to /root/nltk_data...\n",
            "[nltk_data]    |   Unzipping corpora/verbnet.zip.\n",
            "[nltk_data]    | Downloading package verbnet3 to /root/nltk_data...\n",
            "[nltk_data]    |   Unzipping corpora/verbnet3.zip.\n",
            "[nltk_data]    | Downloading package webtext to /root/nltk_data...\n",
            "[nltk_data]    |   Unzipping corpora/webtext.zip.\n",
            "[nltk_data]    | Downloading package wordnet to /root/nltk_data...\n",
            "[nltk_data]    |   Unzipping corpora/wordnet.zip.\n",
            "[nltk_data]    | Downloading package wordnet_ic to /root/nltk_data...\n",
            "[nltk_data]    |   Unzipping corpora/wordnet_ic.zip.\n",
            "[nltk_data]    | Downloading package words to /root/nltk_data...\n",
            "[nltk_data]    |   Unzipping corpora/words.zip.\n",
            "[nltk_data]    | Downloading package ycoe to /root/nltk_data...\n",
            "[nltk_data]    |   Unzipping corpora/ycoe.zip.\n",
            "[nltk_data]    | Downloading package rslp to /root/nltk_data...\n",
            "[nltk_data]    |   Unzipping stemmers/rslp.zip.\n",
            "[nltk_data]    | Downloading package maxent_treebank_pos_tagger to\n",
            "[nltk_data]    |     /root/nltk_data...\n",
            "[nltk_data]    |   Unzipping taggers/maxent_treebank_pos_tagger.zip.\n",
            "[nltk_data]    | Downloading package universal_tagset to\n",
            "[nltk_data]    |     /root/nltk_data...\n",
            "[nltk_data]    |   Unzipping taggers/universal_tagset.zip.\n",
            "[nltk_data]    | Downloading package maxent_ne_chunker to\n",
            "[nltk_data]    |     /root/nltk_data...\n",
            "[nltk_data]    |   Unzipping chunkers/maxent_ne_chunker.zip.\n",
            "[nltk_data]    | Downloading package punkt to /root/nltk_data...\n",
            "[nltk_data]    |   Unzipping tokenizers/punkt.zip.\n",
            "[nltk_data]    | Downloading package book_grammars to\n",
            "[nltk_data]    |     /root/nltk_data...\n",
            "[nltk_data]    |   Unzipping grammars/book_grammars.zip.\n",
            "[nltk_data]    | Downloading package sample_grammars to\n",
            "[nltk_data]    |     /root/nltk_data...\n",
            "[nltk_data]    |   Unzipping grammars/sample_grammars.zip.\n",
            "[nltk_data]    | Downloading package spanish_grammars to\n",
            "[nltk_data]    |     /root/nltk_data...\n",
            "[nltk_data]    |   Unzipping grammars/spanish_grammars.zip.\n",
            "[nltk_data]    | Downloading package basque_grammars to\n",
            "[nltk_data]    |     /root/nltk_data...\n",
            "[nltk_data]    |   Unzipping grammars/basque_grammars.zip.\n",
            "[nltk_data]    | Downloading package large_grammars to\n",
            "[nltk_data]    |     /root/nltk_data...\n",
            "[nltk_data]    |   Unzipping grammars/large_grammars.zip.\n",
            "[nltk_data]    | Downloading package tagsets to /root/nltk_data...\n",
            "[nltk_data]    |   Unzipping help/tagsets.zip.\n",
            "[nltk_data]    | Downloading package snowball_data to\n",
            "[nltk_data]    |     /root/nltk_data...\n",
            "[nltk_data]    | Downloading package bllip_wsj_no_aux to\n",
            "[nltk_data]    |     /root/nltk_data...\n",
            "[nltk_data]    |   Unzipping models/bllip_wsj_no_aux.zip.\n",
            "[nltk_data]    | Downloading package word2vec_sample to\n",
            "[nltk_data]    |     /root/nltk_data...\n",
            "[nltk_data]    |   Unzipping models/word2vec_sample.zip.\n",
            "[nltk_data]    | Downloading package panlex_swadesh to\n",
            "[nltk_data]    |     /root/nltk_data...\n",
            "[nltk_data]    | Downloading package mte_teip5 to /root/nltk_data...\n",
            "[nltk_data]    |   Unzipping corpora/mte_teip5.zip.\n",
            "[nltk_data]    | Downloading package averaged_perceptron_tagger to\n",
            "[nltk_data]    |     /root/nltk_data...\n",
            "[nltk_data]    |   Unzipping taggers/averaged_perceptron_tagger.zip.\n",
            "[nltk_data]    | Downloading package averaged_perceptron_tagger_ru to\n",
            "[nltk_data]    |     /root/nltk_data...\n",
            "[nltk_data]    |   Unzipping\n",
            "[nltk_data]    |       taggers/averaged_perceptron_tagger_ru.zip.\n",
            "[nltk_data]    | Downloading package perluniprops to\n",
            "[nltk_data]    |     /root/nltk_data...\n",
            "[nltk_data]    |   Unzipping misc/perluniprops.zip.\n",
            "[nltk_data]    | Downloading package nonbreaking_prefixes to\n",
            "[nltk_data]    |     /root/nltk_data...\n",
            "[nltk_data]    |   Unzipping corpora/nonbreaking_prefixes.zip.\n",
            "[nltk_data]    | Downloading package vader_lexicon to\n",
            "[nltk_data]    |     /root/nltk_data...\n",
            "[nltk_data]    | Downloading package porter_test to /root/nltk_data...\n",
            "[nltk_data]    |   Unzipping stemmers/porter_test.zip.\n",
            "[nltk_data]    | Downloading package wmt15_eval to /root/nltk_data...\n",
            "[nltk_data]    |   Unzipping models/wmt15_eval.zip.\n",
            "[nltk_data]    | Downloading package mwa_ppdb to /root/nltk_data...\n",
            "[nltk_data]    |   Unzipping misc/mwa_ppdb.zip.\n",
            "[nltk_data]    | \n",
            "[nltk_data]  Done downloading collection all\n",
            "\n"
          ],
          "name": "stdout"
        }
      ]
    },
    {
      "cell_type": "code",
      "metadata": {
        "colab": {
          "base_uri": "https://localhost:8080/",
          "height": 204
        },
        "id": "v-3YRgz91vOB",
        "outputId": "3111289e-8373-40ea-b67d-238d4b974ae2"
      },
      "source": [
        "df.head()"
      ],
      "execution_count": 3,
      "outputs": [
        {
          "output_type": "execute_result",
          "data": {
            "text/html": [
              "<div>\n",
              "<style scoped>\n",
              "    .dataframe tbody tr th:only-of-type {\n",
              "        vertical-align: middle;\n",
              "    }\n",
              "\n",
              "    .dataframe tbody tr th {\n",
              "        vertical-align: top;\n",
              "    }\n",
              "\n",
              "    .dataframe thead th {\n",
              "        text-align: right;\n",
              "    }\n",
              "</style>\n",
              "<table border=\"1\" class=\"dataframe\">\n",
              "  <thead>\n",
              "    <tr style=\"text-align: right;\">\n",
              "      <th></th>\n",
              "      <th>tweets</th>\n",
              "      <th>emotion</th>\n",
              "    </tr>\n",
              "  </thead>\n",
              "  <tbody>\n",
              "    <tr>\n",
              "      <th>19554</th>\n",
              "      <td>smoothies are the best at any time any temper...</td>\n",
              "      <td>2</td>\n",
              "    </tr>\n",
              "    <tr>\n",
              "      <th>9801</th>\n",
              "      <td>Rain tomorrow      that means curly hair</td>\n",
              "      <td>0</td>\n",
              "    </tr>\n",
              "    <tr>\n",
              "      <th>13413</th>\n",
              "      <td>Bout to lay it down im tired      Tmrws gonna ...</td>\n",
              "      <td>0</td>\n",
              "    </tr>\n",
              "    <tr>\n",
              "      <th>3398</th>\n",
              "      <td>hahaha run a marathon  hopin to go abroad to ...</td>\n",
              "      <td>0</td>\n",
              "    </tr>\n",
              "    <tr>\n",
              "      <th>9536</th>\n",
              "      <td>Christmas shopping in tkmax with Deck The Hall...</td>\n",
              "      <td>0</td>\n",
              "    </tr>\n",
              "  </tbody>\n",
              "</table>\n",
              "</div>"
            ],
            "text/plain": [
              "                                                  tweets  emotion\n",
              "19554   smoothies are the best at any time any temper...        2\n",
              "9801           Rain tomorrow      that means curly hair         0\n",
              "13413  Bout to lay it down im tired      Tmrws gonna ...        0\n",
              "3398    hahaha run a marathon  hopin to go abroad to ...        0\n",
              "9536   Christmas shopping in tkmax with Deck The Hall...        0"
            ]
          },
          "metadata": {
            "tags": []
          },
          "execution_count": 3
        }
      ]
    },
    {
      "cell_type": "code",
      "metadata": {
        "colab": {
          "base_uri": "https://localhost:8080/"
        },
        "id": "9Z18Mari1xuy",
        "outputId": "1764a999-855e-4c47-8695-07ee54b85110"
      },
      "source": [
        "df.emotion.unique()"
      ],
      "execution_count": 4,
      "outputs": [
        {
          "output_type": "execute_result",
          "data": {
            "text/plain": [
              "array([2, 0, 1, 3, 4, 5])"
            ]
          },
          "metadata": {
            "tags": []
          },
          "execution_count": 4
        }
      ]
    },
    {
      "cell_type": "code",
      "metadata": {
        "id": "9NsmUUgQp1il",
        "colab": {
          "base_uri": "https://localhost:8080/"
        },
        "outputId": "7c2eb8f4-c438-4ec4-e44f-6d89708a2312"
      },
      "source": [
        "no_labels=6\r\n",
        "category_dict = {}\r\n",
        "for i in range(no_labels):\r\n",
        "  category_dict[i]=[0 for j in range(no_labels)]\r\n",
        "  category_dict[i][i]=1\r\n",
        "data_tweet = [str(x).lower().split() for x in df['tweets']]\r\n",
        "data_cat = np.array([np.array(category_dict[x]) for x in df['emotion']])\r\n",
        "print(data_cat[:5])"
      ],
      "execution_count": 5,
      "outputs": [
        {
          "output_type": "stream",
          "text": [
            "[[0 0 1 0 0 0]\n",
            " [1 0 0 0 0 0]\n",
            " [1 0 0 0 0 0]\n",
            " [1 0 0 0 0 0]\n",
            " [1 0 0 0 0 0]]\n"
          ],
          "name": "stdout"
        }
      ]
    },
    {
      "cell_type": "code",
      "metadata": {
        "colab": {
          "base_uri": "https://localhost:8080/"
        },
        "id": "gMNiDUVVp5UK",
        "outputId": "d52bd36d-af2a-47cb-a93b-0d9e51bf6f85"
      },
      "source": [
        "print(data_tweet[:5])\r\n",
        "print(data_cat[:5])"
      ],
      "execution_count": 6,
      "outputs": [
        {
          "output_type": "stream",
          "text": [
            "[['smoothies', 'are', 'the', 'best', 'at', 'any', 'time', 'any', 'temperature', 'we', 'have', 'no', 'smoothie', 'availability', 'at', 'lehigh'], ['rain', 'tomorrow', 'that', 'means', 'curly', 'hair'], ['bout', 'to', 'lay', 'it', 'down', 'im', 'tired', 'tmrws', 'gonna', 'feel', 'so', 'long', 'considering', 'i', 'have', 'not', 'had', 'school', 'for', 'a', 'week'], ['hahaha', 'run', 'a', 'marathon', 'hopin', 'to', 'go', 'abroad', 'to', 'do', 'some'], ['christmas', 'shopping', 'in', 'tkmax', 'with', 'deck', 'the', 'halls', 'playing', 'in', 'the', 'background']]\n",
            "[[0 0 1 0 0 0]\n",
            " [1 0 0 0 0 0]\n",
            " [1 0 0 0 0 0]\n",
            " [1 0 0 0 0 0]\n",
            " [1 0 0 0 0 0]]\n"
          ],
          "name": "stdout"
        }
      ]
    },
    {
      "cell_type": "code",
      "metadata": {
        "id": "Q37vZ3dKp5SB"
      },
      "source": [
        "# Parameters\r\n",
        "Min_count = 0\r\n",
        "Embedding_size = 200\r\n",
        "Window_size = 5\r\n",
        "Negative_sampling = 00"
      ],
      "execution_count": 7,
      "outputs": []
    },
    {
      "cell_type": "code",
      "metadata": {
        "id": "7K-8Bji5p5OU"
      },
      "source": [
        "w2v_sg = Word2Vec(min_count=Min_count,\r\n",
        "                     window=Window_size,\r\n",
        "                     size=Embedding_size,\r\n",
        "                     negative=Negative_sampling,sg=1)\r\n",
        "w2v_sg.build_vocab(data_tweet)\r\n",
        "w2v_sg.train(data_tweet, total_examples=w2v_sg.corpus_count, epochs=5)\r\n",
        "w2v_cbow = Word2Vec(min_count=Min_count,\r\n",
        "                     window=Window_size,\r\n",
        "                     size=Embedding_size,\r\n",
        "                     negative=Negative_sampling,sg=0)\r\n",
        "w2v_cbow.build_vocab(data_tweet)\r\n",
        "w2v_cbow.train(data_tweet, total_examples=w2v_cbow.corpus_count, epochs=5)\r\n",
        "w2v_sg.wv.init_sims(True)\r\n",
        "w2v_cbow.wv.init_sims(True)"
      ],
      "execution_count": 8,
      "outputs": []
    },
    {
      "cell_type": "code",
      "metadata": {
        "id": "Cs8MuQvjp5K6"
      },
      "source": [
        "vocab_sg = w2v_sg.wv.vocab\r\n",
        "vocab_sg = [x for x in vocab_sg]\r\n",
        "vocab_cbow = w2v_cbow.wv.vocab\r\n",
        "vocab_cbow = [x for x in vocab_cbow] \r\n",
        "vocab_glove = {}\r\n",
        "with open(\"/content/drive/My Drive/InfluenceAnalysis/glove/glove.twitter.27B.200d.txt\", 'r', encoding=\"utf-8\") as f:\r\n",
        "  for line in f:\r\n",
        "      values = line.split()\r\n",
        "      word = values[0]\r\n",
        "      vector = np.asarray(values[1:], \"float32\")\r\n",
        "      vocab_glove[word] = vector"
      ],
      "execution_count": 9,
      "outputs": []
    },
    {
      "cell_type": "code",
      "metadata": {
        "id": "XaxTpKUQp1g0"
      },
      "source": [
        "batch_size = 500\r\n",
        "Max_input_size = max([len(x) for x in data_tweet])\r\n",
        "data_tweet = [nltk.pos_tag(x) for x in data_tweet]\r\n",
        "def getsent(word,tag):\r\n",
        "  res=0\r\n",
        "  try:\r\n",
        "    x = swn.senti_synset(word+'.'+tag[0].lower()+'.01')\r\n",
        "    res =  (x.pos_score()-x.neg_score())\r\n",
        "  finally:\r\n",
        "    return res \r\n",
        "data_tweet = [[(i[0],i[1],getsent(i[0],i[1])) for i in x] for x in data_tweet]"
      ],
      "execution_count": 10,
      "outputs": []
    },
    {
      "cell_type": "code",
      "metadata": {
        "id": "jo55tJBvp1eG"
      },
      "source": [
        "def vec_gen(w2v,vocab,data_tweet,data_cat,batch_size,Max_input_size,Embedding_size,mul_factor=2):\r\n",
        "  while True:\r\n",
        "    for k in range(int(len(data_tweet)/batch_size)):\r\n",
        "      res=[]\r\n",
        "      for x in data_tweet[k*(batch_size):(k+1)*(batch_size)]:\r\n",
        "        tweet = [(w2v.wv.word_vec(i[0]),i[1],i[2]) for i in x if i[0] in vocab]\r\n",
        "        l=len(tweet)\r\n",
        "        for i in range(l):\r\n",
        "          if tweet[i][2]<0:\r\n",
        "            tweet[i]=((tweet[i][0]*(-1)),tweet[i][1],tweet[i][2])\r\n",
        "        res+=[np.array([x[0] for x in tweet])]\r\n",
        "      temp = np.array([np.pad(z.flatten(),(0,Max_input_size*Embedding_size-len(z.flatten()))).reshape(Max_input_size,Embedding_size) for z in res])\r\n",
        "      tempres = np.array(data_cat[k*(batch_size):(k+1)*(batch_size)])\r\n",
        "      yield (temp,tempres)          \r\n",
        "      \r\n",
        "def glove_gen(vocab,data_tweet,data_cat,batch_size,Max_input_size,Embedding_size,mul_factor=2):\r\n",
        "  while True:\r\n",
        "    for k in range(int(len(data_tweet)/batch_size)):\r\n",
        "      res=[]\r\n",
        "      for x in data_tweet[k*(batch_size):(k+1)*(batch_size)]:\r\n",
        "        tweet = [(vocab[i[0]],i[1],i[2]) for i in x if i[0] in vocab.keys()]\r\n",
        "        l=len(tweet)\r\n",
        "        for i in range(l):\r\n",
        "          if tweet[i][2]<0:\r\n",
        "            tweet[i]=((tweet[i][0]*(-1)),tweet[i][1],tweet[i][2])\r\n",
        "        res+=[np.array([x[0] for x in tweet])]\r\n",
        "      temp = np.array([np.pad(z.flatten(),(0,Max_input_size*Embedding_size-len(z.flatten()))).reshape(Max_input_size,Embedding_size) for z in res])\r\n",
        "      tempres = np.array(data_cat[k*(batch_size):(k+1)*(batch_size)])\r\n",
        "      yield (temp,tempres)"
      ],
      "execution_count": 11,
      "outputs": []
    },
    {
      "cell_type": "code",
      "metadata": {
        "colab": {
          "base_uri": "https://localhost:8080/"
        },
        "id": "o2iIzjQg7J7g",
        "outputId": "85d70930-5cb2-48df-db87-1f66b140c0e1"
      },
      "source": [
        "from sklearn.model_selection import StratifiedShuffleSplit\r\n",
        "sss = StratifiedShuffleSplit(n_splits=1, test_size=0.2, random_state=0)\r\n",
        "sss.get_n_splits(data_tweet, data_cat)\r\n",
        "X_train=[]\r\n",
        "X_test=[]\r\n",
        "y_train=[]\r\n",
        "y_test=[]\r\n",
        "counter=0\r\n",
        "for train_index, test_index in sss.split(data_tweet, data_cat):\r\n",
        "  print(\"TRAIN:\", train_index, \"TEST:\", test_index)\r\n",
        "  for i in train_index:\r\n",
        "    X_train+=[data_tweet[i]]\r\n",
        "    y_train+=[data_cat[i]]\r\n",
        "\r\n",
        "  for j in test_index:\r\n",
        "    X_test+=[data_tweet[j]]\r\n",
        "    y_test+=[data_cat[j]]\r\n",
        "\r\n",
        " # X_train, X_test = data_tweet[train_index], data_tweet[test_index]\r\n",
        " # y_train, y_test = data_cat[train_index], data_cat[test_index]\r\n",
        "print(X_train[:5])\r\n",
        "print(y_train[:5])\r\n",
        "sss = StratifiedShuffleSplit(n_splits=1, test_size=0.2, random_state=0)\r\n",
        "sss.get_n_splits(X_train, y_train)\r\n",
        "x_train=[]\r\n",
        "X_val=[]\r\n",
        "Y_train=[]\r\n",
        "y_val=[]\r\n",
        "for train_index1, test_index1 in sss.split(X_train, y_train):\r\n",
        "  print(\"TRAIN:\", train_index1, \"TEST:\", test_index1)\r\n",
        "  for i in train_index1:\r\n",
        "    x_train+=[X_train[i]]\r\n",
        "    Y_train+=[y_train[i]]\r\n",
        "\r\n",
        "  for j in test_index1:\r\n",
        "    X_val+=[X_train[j]]\r\n",
        "    y_val+=[y_train[j]]\r\n",
        "X_train=x_train\r\n",
        "y_train=Y_train\r\n",
        "print(len(X_train))\r\n",
        "print(len(y_train))\r\n",
        "print(len(X_test))\r\n",
        "print(len(y_test))\r\n",
        "print(len(X_val))\r\n",
        "print(len(y_val))\r\n",
        "print(X_train[:5])\r\n",
        "print(y_train[:5])\r\n",
        "result_table = [0,0,0]"
      ],
      "execution_count": 12,
      "outputs": [
        {
          "output_type": "stream",
          "text": [
            "TRAIN: [ 4990  8232 16430 ...  1782 14725 11582] TEST: [ 9096 15406 12733 ... 11184  9511 11639]\n",
            "[[('what', 'WP', 0), ('the', 'DT', 0), ('hell', 'NN', -0.375), ('has', 'VBZ', 0), ('gotten', 'VBN', 0), ('in', 'IN', 0), ('to', 'TO', 0), ('you', 'PRP', 0), ('like', 'IN', 0), ('legit', 'VB', 0), ('your', 'PRP$', 0), ('an', 'DT', 0), ('ass', 'NN', 0.0), ('now', 'RB', 0.0)], [('i', 'NNS', 0.0), ('do', 'VBP', 0.0), ('not', 'RB', -0.625), ('have', 'VB', 0.25), ('cell', 'NN', 0.0), ('phone', 'NN', 0.0), ('service', 'NN', 0.0), ('so', 'RB', 0.0), ('i', 'JJ', 0), ('am', 'VBP', 0), ('tweeting', 'VBG', 0), ('you', 'PRP', 0), ('are', 'VBP', 0), ('you', 'PRP', 0), ('still', 'RB', -0.125), ('down', 'RP', -0.125), ('for', 'IN', 0), ('some', 'DT', 0), ('shopping', 'NN', 0.0)], [('there', 'EX', 0), ('is', 'VBZ', 0), ('a', 'DT', 0), ('mysterious', 'JJ', 0), ('ticking', 'VBG', 0), ('noise', 'NN', 0.0), ('somewhere', 'RB', 0.0), ('by', 'IN', 0), ('my', 'PRP$', 0), ('bed', 'NN', 0.0), ('not', 'RB', -0.625), ('the', 'DT', 0), ('puppet', 'NN', 0.0), ('pals', 'NNS', 0), ('kind', 'NN', 0.0), ('scared', 'VBD', 0)], [('have', 'VB', 0.25), ('a', 'DT', 0), ('dream', 'NN', 0.0), ('your', 'PRP$', 0), ('breath', 'NN', 0.0), ('smells', 'NNS', 0), ('really', 'RB', 0.625), ('bad', 'JJ', 0), ('wake', 'VBP', 0.0), ('up', 'RP', 0.0), ('with', 'IN', 0), ('cat', 'NN', 0.0), ('throw', 'VBP', 0.0), ('up', 'RP', 0.0), ('on', 'IN', 0), ('your', 'PRP$', 0), ('pillow', 'NN', 0.0), ('wtf', 'NN', 0)], [('who', 'WP', 0), ('u', 'VBP', 0), ('hey', 'NNS', 0), ('there', 'RB', 0.0), ('long', 'RB', 0.0), ('time', 'NN', 0.0), ('no', 'DT', 0), ('see', 'NN', 0.0), ('speak', 'NN', 0), ('of', 'IN', 0), ('the', 'DT', 0), ('week', 'NN', 0.0)]]\n",
            "[array([0, 1, 0, 0, 0, 0]), array([1, 0, 0, 0, 0, 0]), array([0, 0, 0, 1, 0, 0]), array([0, 1, 0, 0, 0, 0]), array([0, 1, 0, 0, 0, 0])]\n",
            "TRAIN: [ 4502 13470 16740 ...  3004  1741 11001] TEST: [10612  3057 12008 ...  2972  6445 13573]\n",
            "13469\n",
            "13469\n",
            "4210\n",
            "4210\n",
            "3368\n",
            "3368\n",
            "[[('bahaha', 'NN', 0), ('i', 'NN', 0.0), ('live', 'VBP', 0.0), ('a', 'DT', 0), ('secretive', 'JJ', 0), ('life', 'NN', 0.0), ('happy', 'JJ', 0), ('face', 'NN', 0.0), ('or', 'CC', 0), ('smiley', 'NN', 0.0)], [('my', 'PRP$', 0), ('aunty', 'NN', 0.0), ('is', 'VBZ', 0), ('such', 'JJ', 0), ('a', 'DT', 0), ('cougar', 'NN', 0.0), ('she', 'PRP', 0), ('was', 'VBD', 0), ('hitting', 'VBG', 0), ('on', 'IN', 0), ('the', 'DT', 0), ('teenage', 'NN', 0), ('boy', 'NN', 0.25), ('singing', 'NN', 0.0), ('in', 'IN', 0), ('miss', 'JJ', 0), ('south', 'NN', 0.0), ('pacific', 'NN', 0.0), ('argh', 'NN', 0)], [('not', 'RB', -0.625), ('necessarily', 'RB', 0.0), ('if', 'IN', 0), ('you', 'PRP', 0), ('cut', 'VBD', 0.125), ('it', 'PRP', 0), ('multiple', 'JJ', 0), ('times', 'NNS', 0.5), ('in', 'IN', 0), ('one', 'CD', 0), ('day', 'NN', 0.0), ('esp', 'VB', 0), ('if', 'IN', 0), ('you', 'PRP', 0), ('can', 'MD', 0), ('arrange', 'VB', 0.125), ('to', 'TO', 0), ('do', 'VB', 0.0), ('it', 'PRP', 0), ('while', 'IN', 0), ('he', 'PRP', 0), ('is', 'VBZ', 0), ('gone', 'VBN', 0), ('all', 'DT', 0), ('day', 'NN', 0.0)], [('gonna', 'NNS', 0), ('make', 'VBP', 0.0), ('the', 'DT', 0), ('most', 'RBS', 0.0), ('of', 'IN', 0), ('my', 'PRP$', 0), ('time', 'NN', 0.0), ('curled', 'VBD', 0), ('up', 'RB', 0.0), ('in', 'IN', 0), ('the', 'DT', 0), ('warm', 'NN', 0), ('today', 'NN', 0.125), ('back', 'RB', 0.0), ('to', 'TO', 0), ('mucking', 'VBG', 0), ('out', 'RP', 0.0), ('stables', 'NNS', 0), ('for', 'IN', 0), ('3', 'CD', 0), ('shetties', 'NNS', 0), ('and', 'CC', 0), ('two', 'CD', 0), ('horses', 'NNS', 0), ('on', 'IN', 0), ('friday', 'NN', 0.0)], [('effin', 'JJ', 0), ('school', 'NN', 0.0), ('blocks', 'NNS', 0), ('every', 'DT', 0), ('10', 'CD', 0), ('seconds', 'NNS', 0), ('i', 'JJ', 0), ('get', 'VBP', 0.125), ('a', 'DT', 0), ('request', 'NN', 0.0), ('for', 'IN', 0), ('an', 'DT', 0), ('administrator', 'NN', 0.0), ('s', 'NN', 0.0), ('password', 'NN', 0.0), ('grrrrrrr', 'NN', 0)]]\n",
            "[array([0, 1, 0, 0, 0, 0]), array([0, 0, 0, 0, 0, 1]), array([0, 1, 0, 0, 0, 0]), array([1, 0, 0, 0, 0, 0]), array([0, 0, 0, 0, 1, 0])]\n"
          ],
          "name": "stdout"
        }
      ]
    },
    {
      "cell_type": "code",
      "metadata": {
        "id": "mGcegqQC73VR"
      },
      "source": [
        "from keras import backend as K\r\n",
        "def recall(y_true, y_pred):\r\n",
        "        \"\"\"Recall metric.\r\n",
        "\r\n",
        "        Only computes a batch-wise average of recall.\r\n",
        "\r\n",
        "        Computes the recall, a metric for multi-label classification of\r\n",
        "        how many relevant items are selected.\r\n",
        "        \"\"\"\r\n",
        "        true_positives = K.sum(K.round(K.clip(y_true * y_pred, 0, 1)))\r\n",
        "        possible_positives = K.sum(K.round(K.clip(y_true, 0, 1)))\r\n",
        "        recalls = true_positives / (possible_positives + K.epsilon())\r\n",
        "        return recalls\r\n",
        "def precision(y_true, y_pred):\r\n",
        "        \"\"\"Precision metric.\r\n",
        "\r\n",
        "        Only computes a batch-wise average of precision.\r\n",
        "\r\n",
        "        Computes the precision, a metric for multi-label classification of\r\n",
        "        how many selected items are relevant.\r\n",
        "        \"\"\"\r\n",
        "        true_positives = K.sum(K.round(K.clip(y_true * y_pred, 0, 1)))\r\n",
        "        predicted_positives = K.sum(K.round(K.clip(y_pred, 0, 1)))\r\n",
        "        precisions = true_positives / (predicted_positives + K.epsilon())\r\n",
        "        return precisions\r\n",
        "def f1(y_true, y_pred):\r\n",
        "    precisions = precision(y_true, y_pred)\r\n",
        "    recalls = recall(y_true, y_pred)\r\n",
        "    return 2*((precisions*recalls)/(precisions+recalls+K.epsilon()))"
      ],
      "execution_count": 13,
      "outputs": []
    },
    {
      "cell_type": "code",
      "metadata": {
        "id": "N68btQXPp1YY"
      },
      "source": [
        "epochs = 30"
      ],
      "execution_count": 14,
      "outputs": []
    },
    {
      "cell_type": "code",
      "metadata": {
        "colab": {
          "base_uri": "https://localhost:8080/"
        },
        "id": "ESbfjsopp1TI",
        "outputId": "197ad8e4-729c-473a-d6ba-71b339d7e82a"
      },
      "source": [
        "model_sg_bi = tf.keras.Sequential()\r\n",
        "model_sg_bi.add(tf.keras.Input(shape=(Max_input_size,Embedding_size)))\r\n",
        "model_sg_bi.add(tf.keras.layers.Bidirectional(tf.keras.layers.LSTM(64),merge_mode='concat'))\r\n",
        "model_sg_bi.add(tf.keras.layers.Dropout(0.2))\r\n",
        "model_sg_bi.add(tf.keras.layers.Dense(64,activation='relu'))\r\n",
        "model_sg_bi.add(tf.keras.layers.Dropout(0.2))\r\n",
        "model_sg_bi.add(tf.keras.layers.Dense(6, activation='softmax'))\r\n",
        "model_sg_bi.compile(loss='categorical_crossentropy',optimizer='adam', \r\n",
        "                           metrics=['accuracy',f1,precision,recall])\r\n",
        "sg_train_gen=vec_gen(w2v_sg,vocab_sg,X_train,y_train,batch_size,Max_input_size,Embedding_size)\r\n",
        "sg_val_gen=vec_gen(w2v_sg,vocab_sg,X_val,y_val,batch_size,Max_input_size,Embedding_size)\r\n",
        "history_sg_bi = model_sg_bi.fit_generator(sg_train_gen,validation_data=sg_val_gen,validation_steps=int((len(X_val)/batch_size)+1),steps_per_epoch=int((len(X_train)/batch_size)+1),epochs=epochs)\r\n",
        "history = model_sg_bi.evaluate(x = vec_gen(w2v_sg,vocab_sg,X_test,y_test,batch_size,Max_input_size,Embedding_size),steps=int(len(y_test)/batch_size))\r\n",
        "print(history)\r\n",
        "\r\n",
        "result_table[1]=history[1]\r\n",
        "print(\"SG_BI\")"
      ],
      "execution_count": 15,
      "outputs": [
        {
          "output_type": "stream",
          "text": [
            "/usr/local/lib/python3.7/dist-packages/tensorflow/python/keras/engine/training.py:1844: UserWarning: `Model.fit_generator` is deprecated and will be removed in a future version. Please use `Model.fit`, which supports generators.\n",
            "  warnings.warn('`Model.fit_generator` is deprecated and '\n"
          ],
          "name": "stderr"
        },
        {
          "output_type": "stream",
          "text": [
            "Epoch 1/30\n",
            "27/27 [==============================] - 40s 1s/step - loss: 1.7318 - accuracy: 0.3365 - f1: 0.0139 - precision: 0.0339 - recall: 0.0096 - val_loss: 1.5625 - val_accuracy: 0.3877 - val_f1: 0.0000e+00 - val_precision: 0.0000e+00 - val_recall: 0.0000e+00\n",
            "Epoch 2/30\n",
            "27/27 [==============================] - 35s 1s/step - loss: 1.5579 - accuracy: 0.3957 - f1: 0.0358 - precision: 0.6041 - recall: 0.0188 - val_loss: 1.5210 - val_accuracy: 0.3940 - val_f1: 0.0901 - val_precision: 0.6275 - val_recall: 0.0486\n",
            "Epoch 3/30\n",
            "27/27 [==============================] - 35s 1s/step - loss: 1.5140 - accuracy: 0.4075 - f1: 0.1607 - precision: 0.6318 - recall: 0.0953 - val_loss: 1.4699 - val_accuracy: 0.4157 - val_f1: 0.2414 - val_precision: 0.6729 - val_recall: 0.1471\n",
            "Epoch 4/30\n",
            "27/27 [==============================] - 35s 1s/step - loss: 1.4589 - accuracy: 0.4255 - f1: 0.2478 - precision: 0.6415 - recall: 0.1568 - val_loss: 1.4175 - val_accuracy: 0.4431 - val_f1: 0.2889 - val_precision: 0.6921 - val_recall: 0.1826\n",
            "Epoch 5/30\n",
            "27/27 [==============================] - 35s 1s/step - loss: 1.4044 - accuracy: 0.4527 - f1: 0.2888 - precision: 0.6626 - recall: 0.1863 - val_loss: 1.3858 - val_accuracy: 0.4631 - val_f1: 0.3096 - val_precision: 0.7113 - val_recall: 0.1980\n",
            "Epoch 6/30\n",
            "27/27 [==============================] - 35s 1s/step - loss: 1.3657 - accuracy: 0.4724 - f1: 0.3263 - precision: 0.6904 - recall: 0.2148 - val_loss: 1.3642 - val_accuracy: 0.4769 - val_f1: 0.3824 - val_precision: 0.6744 - val_recall: 0.2669\n",
            "Epoch 7/30\n",
            "27/27 [==============================] - 35s 1s/step - loss: 1.3326 - accuracy: 0.4877 - f1: 0.3768 - precision: 0.6891 - recall: 0.2606 - val_loss: 1.3643 - val_accuracy: 0.4666 - val_f1: 0.3988 - val_precision: 0.6751 - val_recall: 0.2831\n",
            "Epoch 8/30\n",
            "27/27 [==============================] - 35s 1s/step - loss: 1.3234 - accuracy: 0.4907 - f1: 0.3824 - precision: 0.6971 - recall: 0.2653 - val_loss: 1.3549 - val_accuracy: 0.4826 - val_f1: 0.4226 - val_precision: 0.6280 - val_recall: 0.3186\n",
            "Epoch 9/30\n",
            "27/27 [==============================] - 35s 1s/step - loss: 1.3210 - accuracy: 0.4936 - f1: 0.3944 - precision: 0.6943 - recall: 0.2783 - val_loss: 1.3518 - val_accuracy: 0.4823 - val_f1: 0.4303 - val_precision: 0.6408 - val_recall: 0.3240\n",
            "Epoch 10/30\n",
            "27/27 [==============================] - 35s 1s/step - loss: 1.3128 - accuracy: 0.4917 - f1: 0.3980 - precision: 0.6952 - recall: 0.2806 - val_loss: 1.3405 - val_accuracy: 0.4777 - val_f1: 0.4072 - val_precision: 0.6571 - val_recall: 0.2951\n",
            "Epoch 11/30\n",
            "27/27 [==============================] - 35s 1s/step - loss: 1.2998 - accuracy: 0.5032 - f1: 0.3968 - precision: 0.7045 - recall: 0.2769 - val_loss: 1.3358 - val_accuracy: 0.4840 - val_f1: 0.3839 - val_precision: 0.6888 - val_recall: 0.2663\n",
            "Epoch 12/30\n",
            "27/27 [==============================] - 35s 1s/step - loss: 1.2922 - accuracy: 0.5084 - f1: 0.4049 - precision: 0.7170 - recall: 0.2836 - val_loss: 1.3350 - val_accuracy: 0.4860 - val_f1: 0.3893 - val_precision: 0.7088 - val_recall: 0.2686\n",
            "Epoch 13/30\n",
            "27/27 [==============================] - 34s 1s/step - loss: 1.2864 - accuracy: 0.5057 - f1: 0.4027 - precision: 0.7163 - recall: 0.2816 - val_loss: 1.3373 - val_accuracy: 0.4877 - val_f1: 0.3784 - val_precision: 0.7187 - val_recall: 0.2569\n",
            "Epoch 14/30\n",
            "27/27 [==============================] - 35s 1s/step - loss: 1.2609 - accuracy: 0.5194 - f1: 0.4263 - precision: 0.7248 - recall: 0.3026 - val_loss: 1.3325 - val_accuracy: 0.4969 - val_f1: 0.4101 - val_precision: 0.6666 - val_recall: 0.2963\n",
            "Epoch 15/30\n",
            "27/27 [==============================] - 36s 1s/step - loss: 1.2601 - accuracy: 0.5178 - f1: 0.4346 - precision: 0.7098 - recall: 0.3139 - val_loss: 1.3381 - val_accuracy: 0.4949 - val_f1: 0.4402 - val_precision: 0.6478 - val_recall: 0.3334\n",
            "Epoch 16/30\n",
            "27/27 [==============================] - 35s 1s/step - loss: 1.2478 - accuracy: 0.5225 - f1: 0.4492 - precision: 0.7144 - recall: 0.3290 - val_loss: 1.3418 - val_accuracy: 0.4869 - val_f1: 0.4485 - val_precision: 0.6349 - val_recall: 0.3469\n",
            "Epoch 17/30\n",
            "27/27 [==============================] - 35s 1s/step - loss: 1.2393 - accuracy: 0.5237 - f1: 0.4537 - precision: 0.7182 - recall: 0.3328 - val_loss: 1.3335 - val_accuracy: 0.5003 - val_f1: 0.4404 - val_precision: 0.6673 - val_recall: 0.3289\n",
            "Epoch 18/30\n",
            "27/27 [==============================] - 35s 1s/step - loss: 1.2253 - accuracy: 0.5286 - f1: 0.4613 - precision: 0.7335 - recall: 0.3380 - val_loss: 1.3414 - val_accuracy: 0.4983 - val_f1: 0.4166 - val_precision: 0.6892 - val_recall: 0.2986\n",
            "Epoch 19/30\n",
            "27/27 [==============================] - 35s 1s/step - loss: 1.2018 - accuracy: 0.5414 - f1: 0.4691 - precision: 0.7292 - recall: 0.3481 - val_loss: 1.3437 - val_accuracy: 0.4863 - val_f1: 0.4494 - val_precision: 0.6486 - val_recall: 0.3440\n",
            "Epoch 20/30\n",
            "27/27 [==============================] - 35s 1s/step - loss: 1.1885 - accuracy: 0.5490 - f1: 0.4849 - precision: 0.7337 - recall: 0.3647 - val_loss: 1.3279 - val_accuracy: 0.4983 - val_f1: 0.4575 - val_precision: 0.6396 - val_recall: 0.3563\n",
            "Epoch 21/30\n",
            "27/27 [==============================] - 35s 1s/step - loss: 1.1675 - accuracy: 0.5560 - f1: 0.4921 - precision: 0.7373 - recall: 0.3705 - val_loss: 1.3299 - val_accuracy: 0.4971 - val_f1: 0.4570 - val_precision: 0.6634 - val_recall: 0.3486\n",
            "Epoch 22/30\n",
            "27/27 [==============================] - 35s 1s/step - loss: 1.1455 - accuracy: 0.5622 - f1: 0.5010 - precision: 0.7425 - recall: 0.3792 - val_loss: 1.3383 - val_accuracy: 0.5029 - val_f1: 0.4555 - val_precision: 0.6466 - val_recall: 0.3517\n",
            "Epoch 23/30\n",
            "27/27 [==============================] - 35s 1s/step - loss: 1.1259 - accuracy: 0.5697 - f1: 0.5124 - precision: 0.7425 - recall: 0.3928 - val_loss: 1.3409 - val_accuracy: 0.5089 - val_f1: 0.4720 - val_precision: 0.6407 - val_recall: 0.3737\n",
            "Epoch 24/30\n",
            "27/27 [==============================] - 35s 1s/step - loss: 1.1122 - accuracy: 0.5795 - f1: 0.5263 - precision: 0.7497 - recall: 0.4068 - val_loss: 1.3421 - val_accuracy: 0.5094 - val_f1: 0.4734 - val_precision: 0.6508 - val_recall: 0.3720\n",
            "Epoch 25/30\n",
            "27/27 [==============================] - 35s 1s/step - loss: 1.0940 - accuracy: 0.5866 - f1: 0.5309 - precision: 0.7500 - recall: 0.4117 - val_loss: 1.3259 - val_accuracy: 0.5037 - val_f1: 0.4570 - val_precision: 0.6692 - val_recall: 0.3471\n",
            "Epoch 26/30\n",
            "27/27 [==============================] - 34s 1s/step - loss: 1.0720 - accuracy: 0.5920 - f1: 0.5415 - precision: 0.7642 - recall: 0.4201 - val_loss: 1.3341 - val_accuracy: 0.5111 - val_f1: 0.4680 - val_precision: 0.6582 - val_recall: 0.3631\n",
            "Epoch 27/30\n",
            "27/27 [==============================] - 35s 1s/step - loss: 1.0571 - accuracy: 0.5977 - f1: 0.5519 - precision: 0.7727 - recall: 0.4306 - val_loss: 1.3391 - val_accuracy: 0.5063 - val_f1: 0.4870 - val_precision: 0.6674 - val_recall: 0.3834\n",
            "Epoch 28/30\n",
            "27/27 [==============================] - 35s 1s/step - loss: 1.0391 - accuracy: 0.6025 - f1: 0.5677 - precision: 0.7689 - recall: 0.4510 - val_loss: 1.3655 - val_accuracy: 0.5089 - val_f1: 0.4741 - val_precision: 0.6448 - val_recall: 0.3751\n",
            "Epoch 29/30\n",
            "27/27 [==============================] - 35s 1s/step - loss: 1.0213 - accuracy: 0.6157 - f1: 0.5681 - precision: 0.7658 - recall: 0.4522 - val_loss: 1.3807 - val_accuracy: 0.4914 - val_f1: 0.4456 - val_precision: 0.6467 - val_recall: 0.3400\n",
            "Epoch 30/30\n",
            "27/27 [==============================] - 35s 1s/step - loss: 1.0113 - accuracy: 0.6144 - f1: 0.5733 - precision: 0.7679 - recall: 0.4585 - val_loss: 1.4351 - val_accuracy: 0.4731 - val_f1: 0.4298 - val_precision: 0.6216 - val_recall: 0.3286\n",
            "8/8 [==============================] - 6s 810ms/step - loss: 1.5233 - accuracy: 0.4660 - f1: 0.4296 - precision: 0.6025 - recall: 0.3340\n",
            "[1.5233303308486938, 0.4659999907016754, 0.4295608401298523, 0.6024588942527771, 0.33399999141693115]\n",
            "SG_BI\n"
          ],
          "name": "stdout"
        }
      ]
    },
    {
      "cell_type": "code",
      "metadata": {
        "colab": {
          "base_uri": "https://localhost:8080/"
        },
        "id": "ix4waUDRqQ-s",
        "outputId": "e0c16c3c-5693-492c-8ae0-4e7187e084fa"
      },
      "source": [
        "model_cbow_bi = tf.keras.Sequential()\r\n",
        "model_cbow_bi.add(tf.keras.Input(shape=(Max_input_size,Embedding_size)))\r\n",
        "model_cbow_bi.add(tf.keras.layers.Bidirectional(tf.keras.layers.LSTM(64),merge_mode='concat'))\r\n",
        "model_cbow_bi.add(tf.keras.layers.Dropout(0.2))\r\n",
        "model_cbow_bi.add(tf.keras.layers.Dense(64,activation='relu'))\r\n",
        "model_cbow_bi.add(tf.keras.layers.Dropout(0.2))\r\n",
        "model_cbow_bi.add(tf.keras.layers.Dense(6, activation='softmax'))\r\n",
        "model_cbow_bi.compile(loss='categorical_crossentropy',optimizer='adam', \r\n",
        "                           metrics=['accuracy',f1,precision,recall])\r\n",
        "cbow_train_gen=vec_gen(w2v_cbow,vocab_cbow,X_train,y_train,batch_size,Max_input_size,Embedding_size)\r\n",
        "cbow_val_gen=vec_gen(w2v_cbow,vocab_cbow,X_val,y_val,batch_size,Max_input_size,Embedding_size)\r\n",
        "history_cbow_bi = model_cbow_bi.fit_generator(cbow_train_gen,validation_data=cbow_val_gen,validation_steps=int((len(X_val)/batch_size)+1),steps_per_epoch=int((len(X_train)/batch_size)+1),epochs=epochs)\r\n",
        "history = model_cbow_bi.evaluate(x = vec_gen(w2v_cbow,vocab_cbow,X_test,y_test,batch_size,Max_input_size,Embedding_size),steps=int(len(y_test)/batch_size))\r\n",
        "print(history)\r\n",
        "\r\n",
        "result_table[2]=history[1]\r\n",
        "print(\"CBOW_BI\")"
      ],
      "execution_count": 16,
      "outputs": [
        {
          "output_type": "stream",
          "text": [
            "/usr/local/lib/python3.7/dist-packages/tensorflow/python/keras/engine/training.py:1844: UserWarning: `Model.fit_generator` is deprecated and will be removed in a future version. Please use `Model.fit`, which supports generators.\n",
            "  warnings.warn('`Model.fit_generator` is deprecated and '\n"
          ],
          "name": "stderr"
        },
        {
          "output_type": "stream",
          "text": [
            "Epoch 1/30\n",
            "27/27 [==============================] - 39s 1s/step - loss: 1.7234 - accuracy: 0.3377 - f1: 0.0132 - precision: 0.0438 - recall: 0.0090 - val_loss: 1.5698 - val_accuracy: 0.3877 - val_f1: 0.0000e+00 - val_precision: 0.0000e+00 - val_recall: 0.0000e+00\n",
            "Epoch 2/30\n",
            "27/27 [==============================] - 35s 1s/step - loss: 1.5596 - accuracy: 0.3953 - f1: 0.0444 - precision: 0.4065 - recall: 0.0247 - val_loss: 1.5259 - val_accuracy: 0.3934 - val_f1: 0.1372 - val_precision: 0.5891 - val_recall: 0.0777\n",
            "Epoch 3/30\n",
            "27/27 [==============================] - 35s 1s/step - loss: 1.5289 - accuracy: 0.3994 - f1: 0.1481 - precision: 0.5912 - recall: 0.0852 - val_loss: 1.4883 - val_accuracy: 0.4157 - val_f1: 0.2183 - val_precision: 0.6346 - val_recall: 0.1320\n",
            "Epoch 4/30\n",
            "27/27 [==============================] - 35s 1s/step - loss: 1.4710 - accuracy: 0.4341 - f1: 0.2313 - precision: 0.6320 - recall: 0.1458 - val_loss: 1.4379 - val_accuracy: 0.4457 - val_f1: 0.2099 - val_precision: 0.7238 - val_recall: 0.1229\n",
            "Epoch 5/30\n",
            "27/27 [==============================] - 34s 1s/step - loss: 1.4197 - accuracy: 0.4583 - f1: 0.2660 - precision: 0.6706 - recall: 0.1692 - val_loss: 1.3923 - val_accuracy: 0.4680 - val_f1: 0.3178 - val_precision: 0.7239 - val_recall: 0.2037\n",
            "Epoch 6/30\n",
            "27/27 [==============================] - 34s 1s/step - loss: 1.3677 - accuracy: 0.4799 - f1: 0.3336 - precision: 0.6913 - recall: 0.2215 - val_loss: 1.3655 - val_accuracy: 0.4751 - val_f1: 0.3669 - val_precision: 0.7155 - val_recall: 0.2469\n",
            "Epoch 7/30\n",
            "27/27 [==============================] - 35s 1s/step - loss: 1.3393 - accuracy: 0.4875 - f1: 0.3771 - precision: 0.6917 - recall: 0.2604 - val_loss: 1.3573 - val_accuracy: 0.4694 - val_f1: 0.4042 - val_precision: 0.6707 - val_recall: 0.2894\n",
            "Epoch 8/30\n",
            "27/27 [==============================] - 35s 1s/step - loss: 1.3166 - accuracy: 0.5007 - f1: 0.4065 - precision: 0.6988 - recall: 0.2884 - val_loss: 1.3429 - val_accuracy: 0.4809 - val_f1: 0.4142 - val_precision: 0.6768 - val_recall: 0.2986\n",
            "Epoch 9/30\n",
            "27/27 [==============================] - 35s 1s/step - loss: 1.3140 - accuracy: 0.4954 - f1: 0.4129 - precision: 0.6887 - recall: 0.2959 - val_loss: 1.3486 - val_accuracy: 0.4829 - val_f1: 0.4329 - val_precision: 0.6492 - val_recall: 0.3249\n",
            "Epoch 10/30\n",
            "27/27 [==============================] - 35s 1s/step - loss: 1.3095 - accuracy: 0.5016 - f1: 0.4130 - precision: 0.7025 - recall: 0.2934 - val_loss: 1.3420 - val_accuracy: 0.4797 - val_f1: 0.4172 - val_precision: 0.6642 - val_recall: 0.3043\n",
            "Epoch 11/30\n",
            "27/27 [==============================] - 35s 1s/step - loss: 1.2879 - accuracy: 0.5087 - f1: 0.4180 - precision: 0.7019 - recall: 0.2981 - val_loss: 1.3320 - val_accuracy: 0.4869 - val_f1: 0.4142 - val_precision: 0.6765 - val_recall: 0.2986\n",
            "Epoch 12/30\n",
            "27/27 [==============================] - 36s 1s/step - loss: 1.2755 - accuracy: 0.5162 - f1: 0.4277 - precision: 0.7156 - recall: 0.3056 - val_loss: 1.3334 - val_accuracy: 0.4871 - val_f1: 0.4036 - val_precision: 0.6857 - val_recall: 0.2860\n",
            "Epoch 13/30\n",
            "27/27 [==============================] - 35s 1s/step - loss: 1.2724 - accuracy: 0.5158 - f1: 0.4230 - precision: 0.7090 - recall: 0.3020 - val_loss: 1.3379 - val_accuracy: 0.4837 - val_f1: 0.3992 - val_precision: 0.6869 - val_recall: 0.2814\n",
            "Epoch 14/30\n",
            "27/27 [==============================] - 35s 1s/step - loss: 1.2503 - accuracy: 0.5281 - f1: 0.4396 - precision: 0.7226 - recall: 0.3163 - val_loss: 1.3353 - val_accuracy: 0.4929 - val_f1: 0.4090 - val_precision: 0.6667 - val_recall: 0.2951\n",
            "Epoch 15/30\n",
            "27/27 [==============================] - 37s 1s/step - loss: 1.2573 - accuracy: 0.5209 - f1: 0.4442 - precision: 0.7100 - recall: 0.3236 - val_loss: 1.3359 - val_accuracy: 0.4920 - val_f1: 0.4166 - val_precision: 0.6706 - val_recall: 0.3023\n",
            "Epoch 16/30\n",
            "27/27 [==============================] - 37s 1s/step - loss: 1.2455 - accuracy: 0.5262 - f1: 0.4491 - precision: 0.7160 - recall: 0.3276 - val_loss: 1.3366 - val_accuracy: 0.4889 - val_f1: 0.4364 - val_precision: 0.6613 - val_recall: 0.3257\n",
            "Epoch 17/30\n",
            "27/27 [==============================] - 34s 1s/step - loss: 1.2275 - accuracy: 0.5374 - f1: 0.4618 - precision: 0.7266 - recall: 0.3390 - val_loss: 1.3326 - val_accuracy: 0.4969 - val_f1: 0.4374 - val_precision: 0.6593 - val_recall: 0.3274\n",
            "Epoch 18/30\n",
            "27/27 [==============================] - 35s 1s/step - loss: 1.2197 - accuracy: 0.5408 - f1: 0.4702 - precision: 0.7324 - recall: 0.3467 - val_loss: 1.3276 - val_accuracy: 0.5006 - val_f1: 0.4255 - val_precision: 0.6749 - val_recall: 0.3109\n",
            "Epoch 19/30\n",
            "27/27 [==============================] - 35s 1s/step - loss: 1.2076 - accuracy: 0.5438 - f1: 0.4763 - precision: 0.7321 - recall: 0.3536 - val_loss: 1.3329 - val_accuracy: 0.4946 - val_f1: 0.4202 - val_precision: 0.6791 - val_recall: 0.3043\n",
            "Epoch 20/30\n",
            "27/27 [==============================] - 35s 1s/step - loss: 1.1976 - accuracy: 0.5526 - f1: 0.4850 - precision: 0.7380 - recall: 0.3620 - val_loss: 1.3331 - val_accuracy: 0.4977 - val_f1: 0.4466 - val_precision: 0.6618 - val_recall: 0.3371\n",
            "Epoch 21/30\n",
            "27/27 [==============================] - 38s 1s/step - loss: 1.1788 - accuracy: 0.5547 - f1: 0.4938 - precision: 0.7319 - recall: 0.3730 - val_loss: 1.3416 - val_accuracy: 0.4994 - val_f1: 0.4514 - val_precision: 0.6557 - val_recall: 0.3443\n",
            "Epoch 22/30\n",
            "27/27 [==============================] - 39s 1s/step - loss: 1.1626 - accuracy: 0.5624 - f1: 0.5033 - precision: 0.7296 - recall: 0.3847 - val_loss: 1.3306 - val_accuracy: 0.5054 - val_f1: 0.4363 - val_precision: 0.6608 - val_recall: 0.3257\n",
            "Epoch 23/30\n",
            "27/27 [==============================] - 36s 1s/step - loss: 1.1539 - accuracy: 0.5637 - f1: 0.5098 - precision: 0.7508 - recall: 0.3865 - val_loss: 1.3431 - val_accuracy: 0.5037 - val_f1: 0.4703 - val_precision: 0.6431 - val_recall: 0.3709\n",
            "Epoch 24/30\n",
            "27/27 [==============================] - 38s 1s/step - loss: 1.1493 - accuracy: 0.5656 - f1: 0.5055 - precision: 0.7487 - recall: 0.3841 - val_loss: 1.3384 - val_accuracy: 0.5100 - val_f1: 0.4632 - val_precision: 0.6422 - val_recall: 0.3623\n",
            "Epoch 25/30\n",
            "27/27 [==============================] - 38s 1s/step - loss: 1.1278 - accuracy: 0.5719 - f1: 0.5246 - precision: 0.7466 - recall: 0.4057 - val_loss: 1.3643 - val_accuracy: 0.4934 - val_f1: 0.4568 - val_precision: 0.6410 - val_recall: 0.3551\n",
            "Epoch 26/30\n",
            "27/27 [==============================] - 37s 1s/step - loss: 1.1202 - accuracy: 0.5827 - f1: 0.5298 - precision: 0.7497 - recall: 0.4100 - val_loss: 1.3548 - val_accuracy: 0.4983 - val_f1: 0.4457 - val_precision: 0.6470 - val_recall: 0.3400\n",
            "Epoch 27/30\n",
            "27/27 [==============================] - 37s 1s/step - loss: 1.0958 - accuracy: 0.5853 - f1: 0.5413 - precision: 0.7640 - recall: 0.4204 - val_loss: 1.3671 - val_accuracy: 0.4929 - val_f1: 0.4481 - val_precision: 0.6358 - val_recall: 0.3460\n",
            "Epoch 28/30\n",
            "27/27 [==============================] - 37s 1s/step - loss: 1.0784 - accuracy: 0.6008 - f1: 0.5568 - precision: 0.7628 - recall: 0.4391 - val_loss: 1.3803 - val_accuracy: 0.4960 - val_f1: 0.4552 - val_precision: 0.6298 - val_recall: 0.3566\n",
            "Epoch 29/30\n",
            "27/27 [==============================] - 36s 1s/step - loss: 1.0607 - accuracy: 0.6019 - f1: 0.5617 - precision: 0.7671 - recall: 0.4435 - val_loss: 1.3858 - val_accuracy: 0.4951 - val_f1: 0.4706 - val_precision: 0.6333 - val_recall: 0.3746\n",
            "Epoch 30/30\n",
            "27/27 [==============================] - 35s 1s/step - loss: 1.0370 - accuracy: 0.6110 - f1: 0.5753 - precision: 0.7696 - recall: 0.4603 - val_loss: 1.3682 - val_accuracy: 0.4980 - val_f1: 0.4667 - val_precision: 0.6355 - val_recall: 0.3689\n",
            "8/8 [==============================] - 6s 798ms/step - loss: 1.4659 - accuracy: 0.4730 - f1: 0.4431 - precision: 0.6009 - recall: 0.3512\n",
            "[1.4659239053726196, 0.4729999899864197, 0.443115770816803, 0.6008643507957458, 0.3512499928474426]\n",
            "CBOW_BI\n"
          ],
          "name": "stdout"
        }
      ]
    },
    {
      "cell_type": "code",
      "metadata": {
        "colab": {
          "base_uri": "https://localhost:8080/"
        },
        "id": "9rYX8zohqQ2h",
        "outputId": "bd600d12-38b1-472f-c887-3db40192ad36"
      },
      "source": [
        "model_glove_bi = tf.keras.Sequential()\r\n",
        "model_glove_bi.add(tf.keras.Input(shape=(Max_input_size,Embedding_size)))\r\n",
        "model_glove_bi.add(tf.keras.layers.Bidirectional(tf.keras.layers.LSTM(64),merge_mode='concat'))\r\n",
        "model_glove_bi.add(tf.keras.layers.Dropout(0.2))\r\n",
        "model_glove_bi.add(tf.keras.layers.Dense(64,activation='relu'))\r\n",
        "model_glove_bi.add(tf.keras.layers.Dropout(0.2))\r\n",
        "model_glove_bi.add(tf.keras.layers.Dense(6, activation='softmax'))\r\n",
        "model_glove_bi.compile(loss='categorical_crossentropy',optimizer='adam', \r\n",
        "                           metrics=['accuracy',f1,precision,recall])\r\n",
        "glove_train_gen=glove_gen(vocab_glove,X_train,y_train,batch_size,Max_input_size,Embedding_size)\r\n",
        "glove_val_gen=glove_gen(vocab_glove,X_val,y_val,batch_size,Max_input_size,Embedding_size)\r\n",
        "history_glove_bi = model_glove_bi.fit_generator(glove_train_gen,validation_data=glove_val_gen,validation_steps=int((len(X_val)/batch_size)+1),steps_per_epoch=int((len(X_train)/batch_size)+1),epochs=epochs)\r\n",
        "history = model_glove_bi.evaluate(x = glove_gen(vocab_glove,X_test,y_test,batch_size,Max_input_size,Embedding_size),steps=int(len(y_test)/batch_size))\r\n",
        "print(history)\r\n",
        "\r\n",
        "result_table[0]=history[1]\r\n",
        "print(\"GLOVE_BI\")"
      ],
      "execution_count": 17,
      "outputs": [
        {
          "output_type": "stream",
          "text": [
            "/usr/local/lib/python3.7/dist-packages/tensorflow/python/keras/engine/training.py:1844: UserWarning: `Model.fit_generator` is deprecated and will be removed in a future version. Please use `Model.fit`, which supports generators.\n",
            "  warnings.warn('`Model.fit_generator` is deprecated and '\n"
          ],
          "name": "stderr"
        },
        {
          "output_type": "stream",
          "text": [
            "Epoch 1/30\n",
            "27/27 [==============================] - 21s 655ms/step - loss: 1.6605 - accuracy: 0.3634 - f1: 0.0535 - precision: 0.2330 - recall: 0.0314 - val_loss: 1.4775 - val_accuracy: 0.4169 - val_f1: 0.2210 - val_precision: 0.7133 - val_recall: 0.1309\n",
            "Epoch 2/30\n",
            "27/27 [==============================] - 17s 640ms/step - loss: 1.4384 - accuracy: 0.4400 - f1: 0.3081 - precision: 0.6667 - recall: 0.2015 - val_loss: 1.3388 - val_accuracy: 0.4814 - val_f1: 0.3899 - val_precision: 0.6848 - val_recall: 0.2731\n",
            "Epoch 3/30\n",
            "27/27 [==============================] - 17s 643ms/step - loss: 1.3272 - accuracy: 0.4860 - f1: 0.3892 - precision: 0.7086 - recall: 0.2691 - val_loss: 1.2453 - val_accuracy: 0.5177 - val_f1: 0.4232 - val_precision: 0.7553 - val_recall: 0.2943\n",
            "Epoch 4/30\n",
            "27/27 [==============================] - 17s 642ms/step - loss: 1.2349 - accuracy: 0.5299 - f1: 0.4446 - precision: 0.7248 - recall: 0.3213 - val_loss: 1.2011 - val_accuracy: 0.5451 - val_f1: 0.4759 - val_precision: 0.7337 - val_recall: 0.3529\n",
            "Epoch 5/30\n",
            "27/27 [==============================] - 17s 634ms/step - loss: 1.1715 - accuracy: 0.5596 - f1: 0.4918 - precision: 0.7379 - recall: 0.3695 - val_loss: 1.1622 - val_accuracy: 0.5614 - val_f1: 0.5123 - val_precision: 0.7328 - val_recall: 0.3940\n",
            "Epoch 6/30\n",
            "27/27 [==============================] - 17s 633ms/step - loss: 1.1148 - accuracy: 0.5831 - f1: 0.5257 - precision: 0.7381 - recall: 0.4090 - val_loss: 1.1338 - val_accuracy: 0.5786 - val_f1: 0.5045 - val_precision: 0.7658 - val_recall: 0.3766\n",
            "Epoch 7/30\n",
            "27/27 [==============================] - 17s 638ms/step - loss: 1.0721 - accuracy: 0.6012 - f1: 0.5488 - precision: 0.7548 - recall: 0.4317 - val_loss: 1.1153 - val_accuracy: 0.5834 - val_f1: 0.5391 - val_precision: 0.7361 - val_recall: 0.4257\n",
            "Epoch 8/30\n",
            "27/27 [==============================] - 17s 640ms/step - loss: 1.0428 - accuracy: 0.6157 - f1: 0.5690 - precision: 0.7674 - recall: 0.4532 - val_loss: 1.0971 - val_accuracy: 0.5977 - val_f1: 0.5723 - val_precision: 0.7303 - val_recall: 0.4709\n",
            "Epoch 9/30\n",
            "27/27 [==============================] - 17s 630ms/step - loss: 1.0182 - accuracy: 0.6244 - f1: 0.5817 - precision: 0.7610 - recall: 0.4714 - val_loss: 1.1083 - val_accuracy: 0.5946 - val_f1: 0.5757 - val_precision: 0.7003 - val_recall: 0.4889\n",
            "Epoch 10/30\n",
            "27/27 [==============================] - 17s 629ms/step - loss: 0.9903 - accuracy: 0.6370 - f1: 0.6023 - precision: 0.7666 - recall: 0.4971 - val_loss: 1.1058 - val_accuracy: 0.5946 - val_f1: 0.5795 - val_precision: 0.7085 - val_recall: 0.4906\n",
            "Epoch 11/30\n",
            "27/27 [==============================] - 17s 639ms/step - loss: 0.9355 - accuracy: 0.6573 - f1: 0.6278 - precision: 0.7774 - recall: 0.5272 - val_loss: 1.1045 - val_accuracy: 0.6006 - val_f1: 0.5865 - val_precision: 0.7037 - val_recall: 0.5031\n",
            "Epoch 12/30\n",
            "27/27 [==============================] - 17s 627ms/step - loss: 0.8794 - accuracy: 0.6828 - f1: 0.6535 - precision: 0.7950 - recall: 0.5551 - val_loss: 1.1075 - val_accuracy: 0.5863 - val_f1: 0.5793 - val_precision: 0.7083 - val_recall: 0.4906\n",
            "Epoch 13/30\n",
            "27/27 [==============================] - 17s 621ms/step - loss: 0.8564 - accuracy: 0.6941 - f1: 0.6728 - precision: 0.8024 - recall: 0.5800 - val_loss: 1.1387 - val_accuracy: 0.5914 - val_f1: 0.5759 - val_precision: 0.6873 - val_recall: 0.4960\n",
            "Epoch 14/30\n",
            "27/27 [==============================] - 17s 623ms/step - loss: 0.8003 - accuracy: 0.7052 - f1: 0.6929 - precision: 0.8036 - recall: 0.6093 - val_loss: 1.2040 - val_accuracy: 0.5863 - val_f1: 0.5751 - val_precision: 0.6581 - val_recall: 0.5109\n",
            "Epoch 15/30\n",
            "27/27 [==============================] - 17s 620ms/step - loss: 0.7686 - accuracy: 0.7307 - f1: 0.7135 - precision: 0.8154 - recall: 0.6346 - val_loss: 1.2060 - val_accuracy: 0.5820 - val_f1: 0.5749 - val_precision: 0.6491 - val_recall: 0.5160\n",
            "Epoch 16/30\n",
            "27/27 [==============================] - 17s 620ms/step - loss: 0.7333 - accuracy: 0.7425 - f1: 0.7278 - precision: 0.8183 - recall: 0.6560 - val_loss: 1.2351 - val_accuracy: 0.5871 - val_f1: 0.5829 - val_precision: 0.6628 - val_recall: 0.5203\n",
            "Epoch 17/30\n",
            "27/27 [==============================] - 17s 634ms/step - loss: 0.7099 - accuracy: 0.7463 - f1: 0.7401 - precision: 0.8257 - recall: 0.6709 - val_loss: 1.2622 - val_accuracy: 0.5771 - val_f1: 0.5719 - val_precision: 0.6465 - val_recall: 0.5129\n",
            "Epoch 18/30\n",
            "27/27 [==============================] - 17s 637ms/step - loss: 0.7012 - accuracy: 0.7519 - f1: 0.7420 - precision: 0.8260 - recall: 0.6738 - val_loss: 1.2621 - val_accuracy: 0.5777 - val_f1: 0.5789 - val_precision: 0.6554 - val_recall: 0.5186\n",
            "Epoch 19/30\n",
            "27/27 [==============================] - 17s 625ms/step - loss: 0.6457 - accuracy: 0.7731 - f1: 0.7652 - precision: 0.8381 - recall: 0.7043 - val_loss: 1.3349 - val_accuracy: 0.5743 - val_f1: 0.5711 - val_precision: 0.6395 - val_recall: 0.5160\n",
            "Epoch 20/30\n",
            "27/27 [==============================] - 17s 629ms/step - loss: 0.6734 - accuracy: 0.7612 - f1: 0.7527 - precision: 0.8275 - recall: 0.6909 - val_loss: 1.3216 - val_accuracy: 0.5883 - val_f1: 0.5844 - val_precision: 0.6430 - val_recall: 0.5357\n",
            "Epoch 21/30\n",
            "27/27 [==============================] - 17s 635ms/step - loss: 0.6357 - accuracy: 0.7817 - f1: 0.7720 - precision: 0.8379 - recall: 0.7161 - val_loss: 1.3530 - val_accuracy: 0.5826 - val_f1: 0.5835 - val_precision: 0.6378 - val_recall: 0.5377\n",
            "Epoch 22/30\n",
            "27/27 [==============================] - 17s 635ms/step - loss: 0.5857 - accuracy: 0.7984 - f1: 0.7976 - precision: 0.8560 - recall: 0.7472 - val_loss: 1.4325 - val_accuracy: 0.5814 - val_f1: 0.5811 - val_precision: 0.6267 - val_recall: 0.5417\n",
            "Epoch 23/30\n",
            "27/27 [==============================] - 17s 623ms/step - loss: 0.5653 - accuracy: 0.7982 - f1: 0.7979 - precision: 0.8526 - recall: 0.7500 - val_loss: 1.4361 - val_accuracy: 0.5889 - val_f1: 0.5863 - val_precision: 0.6242 - val_recall: 0.5529\n",
            "Epoch 24/30\n",
            "27/27 [==============================] - 17s 636ms/step - loss: 0.5496 - accuracy: 0.8095 - f1: 0.8046 - precision: 0.8543 - recall: 0.7604 - val_loss: 1.5175 - val_accuracy: 0.5786 - val_f1: 0.5839 - val_precision: 0.6177 - val_recall: 0.5537\n",
            "Epoch 25/30\n",
            "27/27 [==============================] - 17s 646ms/step - loss: 0.5486 - accuracy: 0.8118 - f1: 0.8075 - precision: 0.8556 - recall: 0.7648 - val_loss: 1.5749 - val_accuracy: 0.5834 - val_f1: 0.5855 - val_precision: 0.6141 - val_recall: 0.5594\n",
            "Epoch 26/30\n",
            "27/27 [==============================] - 17s 640ms/step - loss: 0.5470 - accuracy: 0.8129 - f1: 0.8115 - precision: 0.8618 - recall: 0.7669 - val_loss: 1.6042 - val_accuracy: 0.5811 - val_f1: 0.5778 - val_precision: 0.6090 - val_recall: 0.5497\n",
            "Epoch 27/30\n",
            "27/27 [==============================] - 17s 640ms/step - loss: 0.5586 - accuracy: 0.8042 - f1: 0.8002 - precision: 0.8567 - recall: 0.7508 - val_loss: 1.5822 - val_accuracy: 0.5726 - val_f1: 0.5710 - val_precision: 0.6016 - val_recall: 0.5434\n",
            "Epoch 28/30\n",
            "27/27 [==============================] - 17s 638ms/step - loss: 0.5166 - accuracy: 0.8211 - f1: 0.8224 - precision: 0.8650 - recall: 0.7841 - val_loss: 1.6526 - val_accuracy: 0.5671 - val_f1: 0.5668 - val_precision: 0.5974 - val_recall: 0.5391\n",
            "Epoch 29/30\n",
            "27/27 [==============================] - 17s 646ms/step - loss: 0.5047 - accuracy: 0.8253 - f1: 0.8236 - precision: 0.8681 - recall: 0.7838 - val_loss: 1.5990 - val_accuracy: 0.5769 - val_f1: 0.5768 - val_precision: 0.6065 - val_recall: 0.5500\n",
            "Epoch 30/30\n",
            "27/27 [==============================] - 17s 632ms/step - loss: 0.4787 - accuracy: 0.8335 - f1: 0.8300 - precision: 0.8664 - recall: 0.7968 - val_loss: 1.5778 - val_accuracy: 0.5706 - val_f1: 0.5726 - val_precision: 0.6047 - val_recall: 0.5437\n",
            "8/8 [==============================] - 2s 266ms/step - loss: 1.6227 - accuracy: 0.5663 - f1: 0.5652 - precision: 0.5960 - recall: 0.5375\n",
            "[1.6227221488952637, 0.5662500262260437, 0.5652236342430115, 0.5959827899932861, 0.5374999642372131]\n",
            "GLOVE_BI\n"
          ],
          "name": "stdout"
        }
      ]
    },
    {
      "cell_type": "code",
      "metadata": {
        "id": "51aAWN2_qjv6",
        "colab": {
          "base_uri": "https://localhost:8080/"
        },
        "outputId": "33ddb1dd-d708-413f-b720-a478eabc54df"
      },
      "source": [
        "print(\"\\tBiLstm\")\r\n",
        "print(\"glove\",result_table[:1])\r\n",
        "print(\"sg\",result_table[1:2])\r\n",
        "print(\"cbow\",result_table[2:3])\r\n",
        "# print(history_sg_bi.history)\r\n",
        "# plt.title(\"Skip-Gram + Bi-LSTM accuracy, loss vs epochs Graph\")\r\n",
        "# plt.plot(history_sg_bi.history['loss'],c='b',label='loss')\r\n",
        "# plt.plot(history_sg_bi.history['accuracy'],c='r',label='accuracy')\r\n",
        "# plt.xlabel('epochs')\r\n",
        "# plt.legend()\r\n",
        "# # plt.yticks()\r\n",
        "# plt.show()\r\n",
        "# plt.title(\"GloVe + Bi-LSTM accuracy, loss vs epochs Graph\")\r\n",
        "# plt.plot(history_glove_bi.history['loss'],c='b',label='loss')\r\n",
        "# plt.plot(history_glove_bi.history['accuracy'],c='r',label='accuracy')\r\n",
        "# plt.xlabel('epochs')\r\n",
        "# plt.legend()\r\n",
        "# # plt.yticks()\r\n",
        "# plt.show()"
      ],
      "execution_count": 18,
      "outputs": [
        {
          "output_type": "stream",
          "text": [
            "\tBiLstm\n",
            "glove [0.5662500262260437]\n",
            "sg [0.4659999907016754]\n",
            "cbow [0.4729999899864197]\n"
          ],
          "name": "stdout"
        }
      ]
    }
  ]
}