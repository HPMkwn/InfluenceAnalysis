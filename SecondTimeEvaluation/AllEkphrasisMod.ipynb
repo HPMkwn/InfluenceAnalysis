{
  "nbformat": 4,
  "nbformat_minor": 0,
  "metadata": {
    "colab": {
      "name": "AllEkphrasisMod.ipynb",
      "provenance": [],
      "collapsed_sections": [],
      "include_colab_link": true
    },
    "kernelspec": {
      "name": "python3",
      "display_name": "Python 3"
    },
    "accelerator": "GPU"
  },
  "cells": [
    {
      "cell_type": "markdown",
      "metadata": {
        "id": "view-in-github",
        "colab_type": "text"
      },
      "source": [
        "<a href=\"https://colab.research.google.com/github/harrymkwn/InfluenceAnalysis/blob/master/AllEkphrasisMod.ipynb\" target=\"_parent\"><img src=\"https://colab.research.google.com/assets/colab-badge.svg\" alt=\"Open In Colab\"/></a>"
      ]
    },
    {
      "cell_type": "code",
      "metadata": {
        "id": "YkuKKcIUmM27",
        "colab": {
          "base_uri": "https://localhost:8080/"
        },
        "outputId": "e3030998-9bb0-4d38-e4b8-3032ee4b780e"
      },
      "source": [
        "import pandas as pd\n",
        "import numpy as np\n",
        "import tensorflow as tf\n",
        "from gensim.models import Word2Vec\n",
        "import matplotlib.pyplot as plt\n",
        "from sklearn.linear_model import LogisticRegression\n",
        "from sklearn.multiclass import OneVsRestClassifier\n",
        "from gensim.models import KeyedVectors\n",
        "from sklearn.model_selection import train_test_split\n",
        "from google.colab import  drive\n",
        "drive.mount('/content/drive')\n",
        "import nltk\n",
        "from nltk.corpus import stopwords\n",
        "nltk.download('stopwords')\n",
        "device_name = tf.test.gpu_device_name()\n",
        "print(device_name)\n",
        "df_train = pd.read_csv('/content/drive/MyDrive/InfluenceAnalysis/Newdata/train_clean.csv',names=['Tweet','Emotion'])\n",
        "df_test = pd.read_csv('/content/drive/MyDrive/InfluenceAnalysis/Newdata/test_clean.csv',names=['Tweet','Emotion'])\n",
        "df_train = df_train.sample(frac=1)\n",
        "df_test = df_train.sample(frac=1)"
      ],
      "execution_count": null,
      "outputs": [
        {
          "output_type": "stream",
          "text": [
            "Drive already mounted at /content/drive; to attempt to forcibly remount, call drive.mount(\"/content/drive\", force_remount=True).\n",
            "[nltk_data] Downloading package stopwords to /root/nltk_data...\n",
            "[nltk_data]   Package stopwords is already up-to-date!\n",
            "/device:GPU:0\n"
          ],
          "name": "stdout"
        }
      ]
    },
    {
      "cell_type": "code",
      "metadata": {
        "id": "P0zrtpGceAiE",
        "colab": {
          "base_uri": "https://localhost:8080/",
          "height": 402
        },
        "outputId": "db2e4797-f00d-42cb-9051-f6ed0809b5c0"
      },
      "source": [
        "df_train.head(1000)"
      ],
      "execution_count": null,
      "outputs": [
        {
          "output_type": "execute_result",
          "data": {
            "text/html": [
              "<div>\n",
              "<style scoped>\n",
              "    .dataframe tbody tr th:only-of-type {\n",
              "        vertical-align: middle;\n",
              "    }\n",
              "\n",
              "    .dataframe tbody tr th {\n",
              "        vertical-align: top;\n",
              "    }\n",
              "\n",
              "    .dataframe thead th {\n",
              "        text-align: right;\n",
              "    }\n",
              "</style>\n",
              "<table border=\"1\" class=\"dataframe\">\n",
              "  <thead>\n",
              "    <tr style=\"text-align: right;\">\n",
              "      <th></th>\n",
              "      <th>Tweet</th>\n",
              "      <th>Emotion</th>\n",
              "    </tr>\n",
              "  </thead>\n",
              "  <tbody>\n",
              "    <tr>\n",
              "      <th>3146</th>\n",
              "      <td>low low low low low low low low low</td>\n",
              "      <td>2</td>\n",
              "    </tr>\n",
              "    <tr>\n",
              "      <th>12425</th>\n",
              "      <td>crpitt i am send healthi heal thought in the m...</td>\n",
              "      <td>1</td>\n",
              "    </tr>\n",
              "    <tr>\n",
              "      <th>10443</th>\n",
              "      <td>run errand with geeta feel like i have the plagu</td>\n",
              "      <td>2</td>\n",
              "    </tr>\n",
              "    <tr>\n",
              "      <th>2417</th>\n",
              "      <td>breakfastnt wa not much of a debat</td>\n",
              "      <td>0</td>\n",
              "    </tr>\n",
              "    <tr>\n",
              "      <th>1436</th>\n",
              "      <td>dstroyr rockdamullet aww i have no internet ri...</td>\n",
              "      <td>1</td>\n",
              "    </tr>\n",
              "    <tr>\n",
              "      <th>...</th>\n",
              "      <td>...</td>\n",
              "      <td>...</td>\n",
              "    </tr>\n",
              "    <tr>\n",
              "      <th>9610</th>\n",
              "      <td>dmann all those link on aicn are broken did th...</td>\n",
              "      <td>0</td>\n",
              "    </tr>\n",
              "    <tr>\n",
              "      <th>10874</th>\n",
              "      <td>she gone i miss my kay way alreadi</td>\n",
              "      <td>2</td>\n",
              "    </tr>\n",
              "    <tr>\n",
              "      <th>468</th>\n",
              "      <td>crunchmonkey well i just got home and it not o...</td>\n",
              "      <td>0</td>\n",
              "    </tr>\n",
              "    <tr>\n",
              "      <th>1979</th>\n",
              "      <td>ok so i did shed a few tear watch the preview ...</td>\n",
              "      <td>1</td>\n",
              "    </tr>\n",
              "    <tr>\n",
              "      <th>11103</th>\n",
              "      <td>ha just brought john tucker must die again bec...</td>\n",
              "      <td>0</td>\n",
              "    </tr>\n",
              "  </tbody>\n",
              "</table>\n",
              "<p>1000 rows × 2 columns</p>\n",
              "</div>"
            ],
            "text/plain": [
              "                                                   Tweet Emotion\n",
              "3146                 low low low low low low low low low       2\n",
              "12425  crpitt i am send healthi heal thought in the m...       1\n",
              "10443   run errand with geeta feel like i have the plagu       2\n",
              "2417                  breakfastnt wa not much of a debat       0\n",
              "1436   dstroyr rockdamullet aww i have no internet ri...       1\n",
              "...                                                  ...     ...\n",
              "9610   dmann all those link on aicn are broken did th...       0\n",
              "10874                 she gone i miss my kay way alreadi       2\n",
              "468    crunchmonkey well i just got home and it not o...       0\n",
              "1979   ok so i did shed a few tear watch the preview ...       1\n",
              "11103  ha just brought john tucker must die again bec...       0\n",
              "\n",
              "[1000 rows x 2 columns]"
            ]
          },
          "metadata": {
            "tags": []
          },
          "execution_count": 2
        }
      ]
    },
    {
      "cell_type": "code",
      "metadata": {
        "id": "K68sxL_LfLy7",
        "colab": {
          "base_uri": "https://localhost:8080/"
        },
        "outputId": "7aadb3d0-7cfa-4c82-9e13-9956f0a18337"
      },
      "source": [
        "df_test.Emotion.unique()"
      ],
      "execution_count": null,
      "outputs": [
        {
          "output_type": "execute_result",
          "data": {
            "text/plain": [
              "array(['2', '0', '1', '3', 'emotion'], dtype=object)"
            ]
          },
          "metadata": {
            "tags": []
          },
          "execution_count": 3
        }
      ]
    },
    {
      "cell_type": "code",
      "metadata": {
        "id": "Y9KFGTW2iP8J",
        "colab": {
          "base_uri": "https://localhost:8080/"
        },
        "outputId": "04f3ad85-9b7e-4c06-c978-aea75c751ea7"
      },
      "source": [
        "df_train.nunique()"
      ],
      "execution_count": null,
      "outputs": [
        {
          "output_type": "execute_result",
          "data": {
            "text/plain": [
              "Tweet      12370\n",
              "Emotion        5\n",
              "dtype: int64"
            ]
          },
          "metadata": {
            "tags": []
          },
          "execution_count": 4
        }
      ]
    },
    {
      "cell_type": "code",
      "metadata": {
        "id": "7yV6_xYSnZHt"
      },
      "source": [
        "category_dict = {'0':[1,0,0,0],'1':[0,1,0,0],'2':[0,0,1,0],'3':[0,0,0,1],'emotion':[1,0,0,0]}\n",
        "train_data_tweet = [x.lower().split() for x in df_train['Tweet']]\n",
        "train_data_cat = np.array([category_dict[x] for x in df_train['Emotion']])\n",
        "test_data_tweet = [x.lower().split() for x in df_test['Tweet']]\n",
        "test_data_cat = np.array([category_dict[x] for x in df_test['Emotion']])\n",
        "\n",
        "data_tweet = train_data_tweet + test_data_tweet"
      ],
      "execution_count": null,
      "outputs": []
    },
    {
      "cell_type": "code",
      "metadata": {
        "id": "5mIV-pI5C44j"
      },
      "source": [
        "# Parameters\n",
        "Min_count = 0\n",
        "Embedding_size = 100\n",
        "Window_size = 5\n",
        "Negative_sampling = 00"
      ],
      "execution_count": null,
      "outputs": []
    },
    {
      "cell_type": "code",
      "metadata": {
        "id": "uUSBfiE0nTVv",
        "colab": {
          "base_uri": "https://localhost:8080/"
        },
        "outputId": "b8c461ff-4a7c-4672-ff81-ebfb7aaaf9fa"
      },
      "source": [
        "w2v_sg = Word2Vec(min_count=Min_count,\n",
        "                     window=Window_size,\n",
        "                     size=Embedding_size,\n",
        "                     negative=Negative_sampling,sg=1)\n",
        "w2v_sg.build_vocab(data_tweet)\n",
        "w2v_sg.train(data_tweet, total_examples=w2v_sg.corpus_count, epochs=5)\n",
        "w2v_cbow = Word2Vec(min_count=Min_count,\n",
        "                     window=Window_size,\n",
        "                     size=Embedding_size,\n",
        "                     negative=Negative_sampling,sg=0)\n",
        "w2v_cbow.build_vocab(data_tweet)\n",
        "w2v_cbow.train(data_tweet, total_examples=w2v_cbow.corpus_count, epochs=5)"
      ],
      "execution_count": null,
      "outputs": [
        {
          "output_type": "execute_result",
          "data": {
            "text/plain": [
              "(1303468, 1724630)"
            ]
          },
          "metadata": {
            "tags": []
          },
          "execution_count": 7
        }
      ]
    },
    {
      "cell_type": "code",
      "metadata": {
        "id": "gVzquoxb6FQJ"
      },
      "source": [
        "vocab_sg = w2v_sg.wv.vocab\n",
        "vocab_sg = [x for x in vocab_sg]\n",
        "vocab_cbow = w2v_cbow.wv.vocab\n",
        "vocab_cbow = [x for x in vocab_cbow] \n",
        "vocab_glove = {}\n",
        "with open(\"/content/drive/My Drive/InfluenceAnalysis/glove/glove.twitter.27B.100d.txt\", 'r', encoding=\"utf-8\") as f:\n",
        "  for line in f:\n",
        "      values = line.split()\n",
        "      word = values[0]\n",
        "      vector = np.asarray(values[1:], \"float32\")\n",
        "      vocab_glove[word] = vector"
      ],
      "execution_count": null,
      "outputs": []
    },
    {
      "cell_type": "code",
      "metadata": {
        "id": "rdgSI9FSmw60"
      },
      "source": [
        "batch_size = 500\r\n",
        "Max_input_size = max([len(x) for x in data_tweet])\r\n",
        "mul_factor=1.5"
      ],
      "execution_count": null,
      "outputs": []
    },
    {
      "cell_type": "code",
      "metadata": {
        "id": "-Fue2npdFINi"
      },
      "source": [
        "X_train = train_data_tweet\n",
        "X_test = test_data_tweet\n",
        "y_train = train_data_cat\n",
        "y_test = test_data_cat \n",
        "result_table = []"
      ],
      "execution_count": null,
      "outputs": []
    },
    {
      "cell_type": "code",
      "metadata": {
        "id": "ArwAlW-wmZxv"
      },
      "source": [
        "def vec_gen(w2v,vocab,data_tweet,data_cat,batch_size,Max_input_size,Embedding_size,mul_factor):\r\n",
        "  while True:\r\n",
        "    for k in range(int(len(data_tweet)/batch_size)):\r\n",
        "      temp = np.array([np.array([w2v.wv.get_vector(i)*mul_factor if (i in vocab and (nltk.pos_tag(nltk.word_tokenize(i))[0][1]=='JJ' or nltk.pos_tag(nltk.word_tokenize(i))[0][1]=='NN')) else w2v.wv.get_vector(i) for i in x if i in vocab]) for x in data_tweet[k*(batch_size):(k+1)*(batch_size)]])\r\n",
        "      temp = np.array([np.pad(x.flatten(),(0,Max_input_size*Embedding_size-len(x.flatten()))).reshape(Max_input_size,Embedding_size) for x in temp])\r\n",
        "      tempres = data_cat[k*(batch_size):(k+1)*(batch_size)]\r\n",
        "      yield (temp,tempres)\r\n",
        "\r\n",
        "def glove_gen(vocab,data_tweet,data_cat,batch_size,Max_input_size,Embedding_size,mul_factor):\r\n",
        "  while True:\r\n",
        "    for k in range(int(len(data_tweet)/batch_size)):\r\n",
        "      temp = np.array([np.array([np.array(vocab[i])*mul_factor if (i in vocab.keys() and (nltk.pos_tag(nltk.word_tokenize(i))[0][1]=='JJ' or nltk.pos_tag(nltk.word_tokenize(i))[0][1]=='NN')) else np.array(vocab[i]) for i in x if i in vocab.keys()]) for x in data_tweet[k*(batch_size):(k+1)*(batch_size)]])\r\n",
        "      temp = np.array([np.pad(x.flatten(),(0,Max_input_size*Embedding_size-len(x.flatten()))).reshape(Max_input_size,Embedding_size) for x in temp])\r\n",
        "      tempres = data_cat[k*(batch_size):(k+1)*(batch_size)]\r\n",
        "      yield (temp,tempres)"
      ],
      "execution_count": null,
      "outputs": []
    },
    {
      "cell_type": "code",
      "metadata": {
        "id": "0leTuTOb3naL"
      },
      "source": [
        "epochs = 20"
      ],
      "execution_count": null,
      "outputs": []
    },
    {
      "cell_type": "code",
      "metadata": {
        "id": "1GfgXfAFlD1J",
        "colab": {
          "base_uri": "https://localhost:8080/"
        },
        "outputId": "3beb8fcd-3708-48a3-844d-ee4d83ec5f38"
      },
      "source": [
        "model_sg = tf.keras.Sequential()\n",
        "model_sg.add(tf.keras.Input(shape=(Max_input_size,Embedding_size)))\n",
        "model_sg.add(tf.keras.layers.LSTM(50))\n",
        "model_sg.add(tf.keras.layers.Dense(4, activation='softmax'))\n",
        "model_sg.compile(loss='categorical_crossentropy',optimizer='adam', \n",
        "                           metrics=['accuracy'])\n",
        "history = model_sg.fit_generator(generator = vec_gen(w2v_sg,vocab_sg,X_train,y_train,batch_size,Max_input_size,Embedding_size,mul_factor),steps_per_epoch=int(len(X_train)/batch_size),epochs=epochs)\n",
        "history = model_sg.evaluate(x = vec_gen(w2v_sg,vocab_sg,X_test,y_test,batch_size,Max_input_size,Embedding_size,mul_factor),steps=int(len(y_test)/batch_size))\n",
        "print(history)\n",
        "\n",
        "result_table+=[history[1]]\n",
        "print(\"SG_LSTM\")\n"
      ],
      "execution_count": null,
      "outputs": [
        {
          "output_type": "stream",
          "text": [
            "WARNING:tensorflow:From <ipython-input-13-7d1045bb60da>:7: Model.fit_generator (from tensorflow.python.keras.engine.training) is deprecated and will be removed in a future version.\n",
            "Instructions for updating:\n",
            "Please use Model.fit, which supports generators.\n",
            "Epoch 1/20\n",
            "24/24 [==============================] - 5s 192ms/step - loss: 1.2480 - accuracy: 0.5724\n",
            "Epoch 2/20\n",
            "24/24 [==============================] - 5s 194ms/step - loss: 1.0160 - accuracy: 0.5857\n",
            "Epoch 3/20\n",
            "24/24 [==============================] - 5s 193ms/step - loss: 0.9857 - accuracy: 0.5857\n",
            "Epoch 4/20\n",
            "24/24 [==============================] - 5s 195ms/step - loss: 0.9846 - accuracy: 0.5857\n",
            "Epoch 5/20\n",
            "24/24 [==============================] - 5s 196ms/step - loss: 0.9847 - accuracy: 0.5857\n",
            "Epoch 6/20\n",
            "24/24 [==============================] - 5s 196ms/step - loss: 0.9846 - accuracy: 0.5857\n",
            "Epoch 7/20\n",
            "24/24 [==============================] - 5s 195ms/step - loss: 0.9846 - accuracy: 0.5857\n",
            "Epoch 8/20\n",
            "24/24 [==============================] - 5s 206ms/step - loss: 0.9846 - accuracy: 0.5857\n",
            "Epoch 9/20\n",
            "24/24 [==============================] - 5s 195ms/step - loss: 0.9846 - accuracy: 0.5857\n",
            "Epoch 10/20\n",
            "24/24 [==============================] - 5s 192ms/step - loss: 0.9846 - accuracy: 0.5857\n",
            "Epoch 11/20\n",
            "24/24 [==============================] - 5s 194ms/step - loss: 0.9847 - accuracy: 0.5857\n",
            "Epoch 12/20\n",
            "24/24 [==============================] - 5s 191ms/step - loss: 0.9847 - accuracy: 0.5857\n",
            "Epoch 13/20\n",
            "24/24 [==============================] - 5s 194ms/step - loss: 0.9848 - accuracy: 0.5857\n",
            "Epoch 14/20\n",
            "24/24 [==============================] - 5s 192ms/step - loss: 0.9848 - accuracy: 0.5857\n",
            "Epoch 15/20\n",
            "24/24 [==============================] - 5s 192ms/step - loss: 0.9849 - accuracy: 0.5857\n",
            "Epoch 16/20\n",
            "24/24 [==============================] - 5s 194ms/step - loss: 0.9849 - accuracy: 0.5857\n",
            "Epoch 17/20\n",
            "24/24 [==============================] - 5s 193ms/step - loss: 0.9849 - accuracy: 0.5857\n",
            "Epoch 18/20\n",
            "24/24 [==============================] - 5s 194ms/step - loss: 0.9849 - accuracy: 0.5857\n",
            "Epoch 19/20\n",
            "24/24 [==============================] - 5s 191ms/step - loss: 0.9849 - accuracy: 0.5857\n",
            "Epoch 20/20\n",
            "24/24 [==============================] - 5s 192ms/step - loss: 0.9849 - accuracy: 0.5857\n",
            "24/24 [==============================] - 5s 194ms/step - loss: 0.9849 - accuracy: 0.5866\n",
            "[0.9849387407302856, 0.5865833163261414]\n",
            "SG_LSTM\n"
          ],
          "name": "stdout"
        }
      ]
    },
    {
      "cell_type": "code",
      "metadata": {
        "colab": {
          "base_uri": "https://localhost:8080/"
        },
        "id": "eJHtKjzc1SA8",
        "outputId": "ace39963-440a-474b-9cd9-9c02bea7d236"
      },
      "source": [
        "model_sg_bi = tf.keras.Sequential()\r\n",
        "model_sg_bi.add(tf.keras.Input(shape=(Max_input_size,Embedding_size)))\r\n",
        "model_sg_bi.add(tf.keras.layers.Bidirectional(tf.keras.layers.LSTM(50),merge_mode='concat'))\r\n",
        "model_sg_bi.add(tf.keras.layers.Dense(4, activation='softmax'))\r\n",
        "model_sg_bi.compile(loss='categorical_crossentropy',optimizer='adam', \r\n",
        "                           metrics=['accuracy'])\r\n",
        "history = model_sg_bi.fit_generator(generator = vec_gen(w2v_sg,vocab_sg,X_train,y_train,batch_size,Max_input_size,Embedding_size,mul_factor),steps_per_epoch=int(len(X_train)/batch_size),epochs=epochs)\r\n",
        "history = model_sg_bi.evaluate(x = vec_gen(w2v_sg,vocab_sg,X_test,y_test,batch_size,Max_input_size,Embedding_size,mul_factor),steps=int(len(y_test)/batch_size))\r\n",
        "print(history)\r\n",
        "\r\n",
        "result_table+=[history[1]]\r\n",
        "print(\"SG_BI\")"
      ],
      "execution_count": null,
      "outputs": [
        {
          "output_type": "stream",
          "text": [
            "Epoch 1/20\n",
            "24/24 [==============================] - 5s 194ms/step - loss: 1.2091 - accuracy: 0.5756\n",
            "Epoch 2/20\n",
            "24/24 [==============================] - 5s 197ms/step - loss: 1.0088 - accuracy: 0.5857\n",
            "Epoch 3/20\n",
            "24/24 [==============================] - 5s 195ms/step - loss: 0.9841 - accuracy: 0.5857\n",
            "Epoch 4/20\n",
            "24/24 [==============================] - 5s 196ms/step - loss: 0.9843 - accuracy: 0.5857\n",
            "Epoch 5/20\n",
            "24/24 [==============================] - 5s 196ms/step - loss: 0.9843 - accuracy: 0.5857\n",
            "Epoch 6/20\n",
            "24/24 [==============================] - 5s 196ms/step - loss: 0.9841 - accuracy: 0.5857\n",
            "Epoch 7/20\n",
            "24/24 [==============================] - 5s 199ms/step - loss: 0.9840 - accuracy: 0.5857\n",
            "Epoch 8/20\n",
            "24/24 [==============================] - 5s 194ms/step - loss: 0.9840 - accuracy: 0.5857\n",
            "Epoch 9/20\n",
            "24/24 [==============================] - 5s 197ms/step - loss: 0.9839 - accuracy: 0.5857\n",
            "Epoch 10/20\n",
            "24/24 [==============================] - 5s 196ms/step - loss: 0.9838 - accuracy: 0.5857\n",
            "Epoch 11/20\n",
            "24/24 [==============================] - 5s 194ms/step - loss: 0.9837 - accuracy: 0.5857\n",
            "Epoch 12/20\n",
            "24/24 [==============================] - 5s 195ms/step - loss: 0.9836 - accuracy: 0.5857\n",
            "Epoch 13/20\n",
            "24/24 [==============================] - 5s 196ms/step - loss: 0.9835 - accuracy: 0.5857\n",
            "Epoch 14/20\n",
            "24/24 [==============================] - 5s 194ms/step - loss: 0.9835 - accuracy: 0.5857\n",
            "Epoch 15/20\n",
            "24/24 [==============================] - 5s 194ms/step - loss: 0.9834 - accuracy: 0.5857\n",
            "Epoch 16/20\n",
            "24/24 [==============================] - 5s 210ms/step - loss: 0.9833 - accuracy: 0.5857\n",
            "Epoch 17/20\n",
            "24/24 [==============================] - 5s 208ms/step - loss: 0.9832 - accuracy: 0.5857\n",
            "Epoch 18/20\n",
            "24/24 [==============================] - 5s 198ms/step - loss: 0.9831 - accuracy: 0.5857\n",
            "Epoch 19/20\n",
            "24/24 [==============================] - 5s 193ms/step - loss: 0.9830 - accuracy: 0.5857\n",
            "Epoch 20/20\n",
            "24/24 [==============================] - 5s 196ms/step - loss: 0.9829 - accuracy: 0.5857\n",
            "24/24 [==============================] - 5s 193ms/step - loss: 0.9834 - accuracy: 0.5866\n",
            "[0.9834192991256714, 0.5865833163261414]\n",
            "SG_BI\n"
          ],
          "name": "stdout"
        }
      ]
    },
    {
      "cell_type": "code",
      "metadata": {
        "colab": {
          "base_uri": "https://localhost:8080/"
        },
        "id": "opfhhYPH1VoL",
        "outputId": "d811fb6e-309f-4e68-e9e8-88dd32bc6744"
      },
      "source": [
        "model_sg_rnn = tf.keras.Sequential()\r\n",
        "model_sg_rnn.add(tf.keras.Input(shape=(Max_input_size,Embedding_size)))\r\n",
        "model_sg_rnn.add(tf.keras.layers.SimpleRNN(50))\r\n",
        "model_sg_rnn.add(tf.keras.layers.Dense(4, activation='softmax'))\r\n",
        "model_sg_rnn.compile(loss='categorical_crossentropy',optimizer='adam', \r\n",
        "                           metrics=['accuracy'])\r\n",
        "history = model_sg_rnn.fit_generator(generator = vec_gen(w2v_sg,vocab_sg,X_train,y_train,batch_size,Max_input_size,Embedding_size,mul_factor),steps_per_epoch=int(len(X_train)/batch_size),epochs=epochs)\r\n",
        "history = model_sg_rnn.evaluate(x = vec_gen(w2v_sg,vocab_sg,X_test,y_test,batch_size,Max_input_size,Embedding_size,mul_factor),steps=int(len(y_test)/batch_size))\r\n",
        "print(history)\r\n",
        "\r\n",
        "result_table+=[history[1]]\r\n",
        "print(\"SG_RNN\")"
      ],
      "execution_count": null,
      "outputs": [
        {
          "output_type": "stream",
          "text": [
            "Epoch 1/20\n",
            "24/24 [==============================] - 5s 205ms/step - loss: 1.0649 - accuracy: 0.5742\n",
            "Epoch 2/20\n",
            "24/24 [==============================] - 5s 206ms/step - loss: 0.9849 - accuracy: 0.5857\n",
            "Epoch 3/20\n",
            "24/24 [==============================] - 5s 204ms/step - loss: 0.9843 - accuracy: 0.5857\n",
            "Epoch 4/20\n",
            "24/24 [==============================] - 5s 206ms/step - loss: 0.9842 - accuracy: 0.5857\n",
            "Epoch 5/20\n",
            "24/24 [==============================] - 5s 209ms/step - loss: 0.9842 - accuracy: 0.5857\n",
            "Epoch 6/20\n",
            "24/24 [==============================] - 5s 207ms/step - loss: 0.9842 - accuracy: 0.5857\n",
            "Epoch 7/20\n",
            "24/24 [==============================] - 5s 204ms/step - loss: 0.9842 - accuracy: 0.5857\n",
            "Epoch 8/20\n",
            "24/24 [==============================] - 5s 207ms/step - loss: 0.9842 - accuracy: 0.5857\n",
            "Epoch 9/20\n",
            "24/24 [==============================] - 5s 205ms/step - loss: 0.9842 - accuracy: 0.5857\n",
            "Epoch 10/20\n",
            "24/24 [==============================] - 5s 205ms/step - loss: 0.9842 - accuracy: 0.5857\n",
            "Epoch 11/20\n",
            "24/24 [==============================] - 5s 205ms/step - loss: 0.9842 - accuracy: 0.5857\n",
            "Epoch 12/20\n",
            "24/24 [==============================] - 5s 210ms/step - loss: 0.9842 - accuracy: 0.5857\n",
            "Epoch 13/20\n",
            "24/24 [==============================] - 5s 205ms/step - loss: 0.9843 - accuracy: 0.5857\n",
            "Epoch 14/20\n",
            "24/24 [==============================] - 5s 205ms/step - loss: 0.9843 - accuracy: 0.5857\n",
            "Epoch 15/20\n",
            "24/24 [==============================] - 5s 206ms/step - loss: 0.9843 - accuracy: 0.5857\n",
            "Epoch 16/20\n",
            "24/24 [==============================] - 5s 207ms/step - loss: 0.9843 - accuracy: 0.5857\n",
            "Epoch 17/20\n",
            "24/24 [==============================] - 5s 204ms/step - loss: 0.9843 - accuracy: 0.5857\n",
            "Epoch 18/20\n",
            "24/24 [==============================] - 5s 208ms/step - loss: 0.9843 - accuracy: 0.5857\n",
            "Epoch 19/20\n",
            "24/24 [==============================] - 5s 208ms/step - loss: 0.9843 - accuracy: 0.5857\n",
            "Epoch 20/20\n",
            "24/24 [==============================] - 5s 208ms/step - loss: 0.9843 - accuracy: 0.5857\n",
            "24/24 [==============================] - 5s 191ms/step - loss: 0.9849 - accuracy: 0.5866\n",
            "[0.9848788380622864, 0.5865833163261414]\n",
            "SG_RNN\n"
          ],
          "name": "stdout"
        }
      ]
    },
    {
      "cell_type": "code",
      "metadata": {
        "colab": {
          "base_uri": "https://localhost:8080/"
        },
        "id": "YumD1M9Y1Xxr",
        "outputId": "9fd67637-426f-4f38-f28c-4fb8915f1563"
      },
      "source": [
        "model_cbow = tf.keras.Sequential()\r\n",
        "model_cbow.add(tf.keras.Input(shape=(Max_input_size,Embedding_size)))\r\n",
        "model_cbow.add(tf.keras.layers.LSTM(50))\r\n",
        "model_cbow.add(tf.keras.layers.Dense(4, activation='softmax'))\r\n",
        "model_cbow.compile(loss='categorical_crossentropy',optimizer='adam', \r\n",
        "                           metrics=['accuracy'])\r\n",
        "history = model_cbow.fit_generator(generator = vec_gen(w2v_cbow,vocab_cbow,X_train,y_train,batch_size,Max_input_size,Embedding_size,mul_factor),steps_per_epoch=int(len(X_train)/batch_size),epochs=epochs)\r\n",
        "history = model_cbow.evaluate(x = vec_gen(w2v_cbow,vocab_cbow,X_test,y_test,batch_size,Max_input_size,Embedding_size,mul_factor),steps=int(len(y_test)/batch_size))\r\n",
        "print(history)\r\n",
        "\r\n",
        "result_table+=[history[1]]\r\n",
        "print(\"CBOW_LSTM\")"
      ],
      "execution_count": null,
      "outputs": [
        {
          "output_type": "stream",
          "text": [
            "Epoch 1/20\n",
            "24/24 [==============================] - 5s 191ms/step - loss: 1.2410 - accuracy: 0.5730\n",
            "Epoch 2/20\n",
            "24/24 [==============================] - 5s 191ms/step - loss: 1.0213 - accuracy: 0.5857\n",
            "Epoch 3/20\n",
            "24/24 [==============================] - 5s 195ms/step - loss: 0.9851 - accuracy: 0.5857\n",
            "Epoch 4/20\n",
            "24/24 [==============================] - 5s 189ms/step - loss: 0.9844 - accuracy: 0.5857\n",
            "Epoch 5/20\n",
            "24/24 [==============================] - 5s 190ms/step - loss: 0.9844 - accuracy: 0.5857\n",
            "Epoch 6/20\n",
            "24/24 [==============================] - 5s 195ms/step - loss: 0.9845 - accuracy: 0.5857\n",
            "Epoch 7/20\n",
            "24/24 [==============================] - 5s 205ms/step - loss: 0.9844 - accuracy: 0.5857\n",
            "Epoch 8/20\n",
            "24/24 [==============================] - 5s 189ms/step - loss: 0.9844 - accuracy: 0.5857\n",
            "Epoch 9/20\n",
            "24/24 [==============================] - 5s 193ms/step - loss: 0.9844 - accuracy: 0.5857\n",
            "Epoch 10/20\n",
            "24/24 [==============================] - 5s 192ms/step - loss: 0.9844 - accuracy: 0.5857\n",
            "Epoch 11/20\n",
            "24/24 [==============================] - 5s 190ms/step - loss: 0.9843 - accuracy: 0.5857\n",
            "Epoch 12/20\n",
            "24/24 [==============================] - 5s 195ms/step - loss: 0.9843 - accuracy: 0.5857\n",
            "Epoch 13/20\n",
            "24/24 [==============================] - 5s 195ms/step - loss: 0.9843 - accuracy: 0.5857\n",
            "Epoch 14/20\n",
            "24/24 [==============================] - 5s 196ms/step - loss: 0.9842 - accuracy: 0.5857\n",
            "Epoch 15/20\n",
            "24/24 [==============================] - 5s 191ms/step - loss: 0.9842 - accuracy: 0.5857\n",
            "Epoch 16/20\n",
            "24/24 [==============================] - 5s 192ms/step - loss: 0.9841 - accuracy: 0.5857\n",
            "Epoch 17/20\n",
            "24/24 [==============================] - 5s 191ms/step - loss: 0.9841 - accuracy: 0.5857\n",
            "Epoch 18/20\n",
            "24/24 [==============================] - 5s 193ms/step - loss: 0.9840 - accuracy: 0.5857\n",
            "Epoch 19/20\n",
            "24/24 [==============================] - 5s 196ms/step - loss: 0.9839 - accuracy: 0.5857\n",
            "Epoch 20/20\n",
            "24/24 [==============================] - 5s 194ms/step - loss: 0.9838 - accuracy: 0.5857\n",
            "24/24 [==============================] - 5s 190ms/step - loss: 0.9842 - accuracy: 0.5866\n",
            "[0.9842230081558228, 0.5865833163261414]\n",
            "CBOW_LSTM\n"
          ],
          "name": "stdout"
        }
      ]
    },
    {
      "cell_type": "code",
      "metadata": {
        "colab": {
          "base_uri": "https://localhost:8080/"
        },
        "id": "01yVMiF41ZtT",
        "outputId": "5ab7c768-6051-4ca7-8aa1-fd407669a2e4"
      },
      "source": [
        "model_cbow_bi = tf.keras.Sequential()\r\n",
        "model_cbow_bi.add(tf.keras.Input(shape=(Max_input_size,Embedding_size)))\r\n",
        "model_cbow_bi.add(tf.keras.layers.Bidirectional(tf.keras.layers.LSTM(50),merge_mode='concat'))\r\n",
        "model_cbow_bi.add(tf.keras.layers.Dense(4, activation='softmax'))\r\n",
        "model_cbow_bi.compile(loss='categorical_crossentropy',optimizer='adam', \r\n",
        "                           metrics=['accuracy'])\r\n",
        "history = model_cbow_bi.fit_generator(generator = vec_gen(w2v_cbow,vocab_cbow,X_train,y_train,batch_size,Max_input_size,Embedding_size,mul_factor),steps_per_epoch=int(len(X_train)/batch_size),epochs=epochs)\r\n",
        "history = model_cbow_bi.evaluate(x = vec_gen(w2v_cbow,vocab_cbow,X_test,y_test,batch_size,Max_input_size,Embedding_size,mul_factor),steps=int(len(y_test)/batch_size))\r\n",
        "print(history)\r\n",
        "\r\n",
        "result_table+=[history[1]]\r\n",
        "print(\"CBOW_BI\")"
      ],
      "execution_count": null,
      "outputs": [
        {
          "output_type": "stream",
          "text": [
            "Epoch 1/20\n",
            "24/24 [==============================] - 5s 191ms/step - loss: 1.2255 - accuracy: 0.5711\n",
            "Epoch 2/20\n",
            "24/24 [==============================] - 5s 199ms/step - loss: 1.0110 - accuracy: 0.5857\n",
            "Epoch 3/20\n",
            "24/24 [==============================] - 5s 198ms/step - loss: 0.9840 - accuracy: 0.5857\n",
            "Epoch 4/20\n",
            "24/24 [==============================] - 5s 199ms/step - loss: 0.9844 - accuracy: 0.5857\n",
            "Epoch 5/20\n",
            "24/24 [==============================] - 5s 195ms/step - loss: 0.9844 - accuracy: 0.5857\n",
            "Epoch 6/20\n",
            "24/24 [==============================] - 5s 201ms/step - loss: 0.9844 - accuracy: 0.5857\n",
            "Epoch 7/20\n",
            "24/24 [==============================] - 5s 195ms/step - loss: 0.9843 - accuracy: 0.5857\n",
            "Epoch 8/20\n",
            "24/24 [==============================] - 5s 194ms/step - loss: 0.9842 - accuracy: 0.5857\n",
            "Epoch 9/20\n",
            "24/24 [==============================] - 5s 197ms/step - loss: 0.9840 - accuracy: 0.5857\n",
            "Epoch 10/20\n",
            "24/24 [==============================] - 5s 200ms/step - loss: 0.9839 - accuracy: 0.5857\n",
            "Epoch 11/20\n",
            "24/24 [==============================] - 5s 195ms/step - loss: 0.9838 - accuracy: 0.5857\n",
            "Epoch 12/20\n",
            "24/24 [==============================] - 5s 198ms/step - loss: 0.9837 - accuracy: 0.5857\n",
            "Epoch 13/20\n",
            "24/24 [==============================] - 5s 197ms/step - loss: 0.9835 - accuracy: 0.5857\n",
            "Epoch 14/20\n",
            "24/24 [==============================] - 5s 197ms/step - loss: 0.9834 - accuracy: 0.5857\n",
            "Epoch 15/20\n",
            "24/24 [==============================] - 5s 198ms/step - loss: 0.9833 - accuracy: 0.5857\n",
            "Epoch 16/20\n",
            "24/24 [==============================] - 5s 210ms/step - loss: 0.9832 - accuracy: 0.5857\n",
            "Epoch 17/20\n",
            "24/24 [==============================] - 5s 213ms/step - loss: 0.9830 - accuracy: 0.5857\n",
            "Epoch 18/20\n",
            "24/24 [==============================] - 5s 197ms/step - loss: 0.9825 - accuracy: 0.5857\n",
            "Epoch 19/20\n",
            "24/24 [==============================] - 5s 198ms/step - loss: 0.9808 - accuracy: 0.5857\n",
            "Epoch 20/20\n",
            "24/24 [==============================] - 5s 197ms/step - loss: 0.9768 - accuracy: 0.5857\n",
            "24/24 [==============================] - 5s 199ms/step - loss: 0.9908 - accuracy: 0.5866\n",
            "[0.9907544851303101, 0.5865833163261414]\n",
            "CBOW_BI\n"
          ],
          "name": "stdout"
        }
      ]
    },
    {
      "cell_type": "code",
      "metadata": {
        "colab": {
          "base_uri": "https://localhost:8080/"
        },
        "id": "N_G3Ff5r1bSD",
        "outputId": "87530f54-d320-43b5-dc41-d92e15ab4750"
      },
      "source": [
        "model_cbow_rnn = tf.keras.Sequential()\r\n",
        "model_cbow_rnn.add(tf.keras.Input(shape=(Max_input_size,Embedding_size)))\r\n",
        "model_cbow_rnn.add(tf.keras.layers.SimpleRNN(50))\r\n",
        "model_cbow_rnn.add(tf.keras.layers.Dense(4, activation='softmax'))\r\n",
        "model_cbow_rnn.compile(loss='categorical_crossentropy',optimizer='adam', \r\n",
        "                           metrics=['accuracy'])\r\n",
        "history = model_cbow_rnn.fit_generator(generator = vec_gen(w2v_cbow,vocab_cbow,X_train,y_train,batch_size,Max_input_size,Embedding_size,mul_factor),steps_per_epoch=int(len(X_train)/batch_size),epochs=epochs)\r\n",
        "history = model_cbow_rnn.evaluate(x = vec_gen(w2v_cbow,vocab_cbow,X_test,y_test,batch_size,Max_input_size,Embedding_size,mul_factor),steps=int(len(y_test)/batch_size))\r\n",
        "print(history)\r\n",
        "\r\n",
        "result_table+=[history[1]]\r\n",
        "print(\"CBOW_RNN\")"
      ],
      "execution_count": null,
      "outputs": [
        {
          "output_type": "stream",
          "text": [
            "Epoch 1/20\n",
            "24/24 [==============================] - 5s 210ms/step - loss: 1.0961 - accuracy: 0.4832\n",
            "Epoch 2/20\n",
            "24/24 [==============================] - 5s 209ms/step - loss: 0.9867 - accuracy: 0.5857\n",
            "Epoch 3/20\n",
            "24/24 [==============================] - 5s 209ms/step - loss: 0.9856 - accuracy: 0.5857\n",
            "Epoch 4/20\n",
            "24/24 [==============================] - 5s 210ms/step - loss: 0.9854 - accuracy: 0.5857\n",
            "Epoch 5/20\n",
            "24/24 [==============================] - 5s 210ms/step - loss: 0.9853 - accuracy: 0.5857\n",
            "Epoch 6/20\n",
            "24/24 [==============================] - 5s 206ms/step - loss: 0.9853 - accuracy: 0.5857\n",
            "Epoch 7/20\n",
            "24/24 [==============================] - 5s 206ms/step - loss: 0.9853 - accuracy: 0.5857\n",
            "Epoch 8/20\n",
            "24/24 [==============================] - 5s 205ms/step - loss: 0.9853 - accuracy: 0.5857\n",
            "Epoch 9/20\n",
            "24/24 [==============================] - 5s 210ms/step - loss: 0.9853 - accuracy: 0.5857\n",
            "Epoch 10/20\n",
            "24/24 [==============================] - 5s 206ms/step - loss: 0.9852 - accuracy: 0.5857\n",
            "Epoch 11/20\n",
            "24/24 [==============================] - 5s 210ms/step - loss: 0.9852 - accuracy: 0.5857\n",
            "Epoch 12/20\n",
            "24/24 [==============================] - 5s 207ms/step - loss: 0.9852 - accuracy: 0.5857\n",
            "Epoch 13/20\n",
            "24/24 [==============================] - 5s 206ms/step - loss: 0.9852 - accuracy: 0.5857\n",
            "Epoch 14/20\n",
            "24/24 [==============================] - 5s 211ms/step - loss: 0.9852 - accuracy: 0.5857\n",
            "Epoch 15/20\n",
            "24/24 [==============================] - 5s 206ms/step - loss: 0.9851 - accuracy: 0.5857\n",
            "Epoch 16/20\n",
            "24/24 [==============================] - 5s 207ms/step - loss: 0.9851 - accuracy: 0.5857\n",
            "Epoch 17/20\n",
            "24/24 [==============================] - 5s 207ms/step - loss: 0.9851 - accuracy: 0.5857\n",
            "Epoch 18/20\n",
            "24/24 [==============================] - 5s 208ms/step - loss: 0.9851 - accuracy: 0.5857\n",
            "Epoch 19/20\n",
            "24/24 [==============================] - 5s 209ms/step - loss: 0.9851 - accuracy: 0.5857\n",
            "Epoch 20/20\n",
            "24/24 [==============================] - 5s 207ms/step - loss: 0.9850 - accuracy: 0.5857\n",
            "24/24 [==============================] - 5s 195ms/step - loss: 0.9863 - accuracy: 0.5866\n",
            "[0.9863015413284302, 0.5865833163261414]\n",
            "CBOW_RNN\n"
          ],
          "name": "stdout"
        }
      ]
    },
    {
      "cell_type": "code",
      "metadata": {
        "id": "aEglKIfExKKI"
      },
      "source": [
        "epochs=40\r\n",
        "Embedding_size=100"
      ],
      "execution_count": null,
      "outputs": []
    },
    {
      "cell_type": "code",
      "metadata": {
        "colab": {
          "base_uri": "https://localhost:8080/"
        },
        "id": "czoFmEwK1dWT",
        "outputId": "64772877-d8a7-4692-ae23-86bcb1c24518"
      },
      "source": [
        "model_glove = tf.keras.Sequential()\r\n",
        "model_glove.add(tf.keras.Input(shape=(Max_input_size,100)))\r\n",
        "model_glove.add(tf.keras.layers.LSTM(50))\r\n",
        "model_glove.add(tf.keras.layers.Dense(4, activation='softmax'))\r\n",
        "model_glove.compile(loss='categorical_crossentropy',optimizer='adam', \r\n",
        "                           metrics=['accuracy'])\r\n",
        "history = model_glove.fit_generator(generator = glove_gen(vocab_glove,X_train,y_train,batch_size,Max_input_size,Embedding_size,mul_factor),steps_per_epoch=int(len(X_train)/batch_size),epochs=epochs)\r\n",
        "history = model_glove.evaluate(x = glove_gen(vocab_glove,X_test,y_test,batch_size,Max_input_size,Embedding_size,mul_factor),steps=int(len(y_test)/batch_size))\r\n",
        "print(history)\r\n",
        "\r\n",
        "result_table+=[history[1]]\r\n",
        "print(\"GLOVE_LSTM\")\r\n"
      ],
      "execution_count": null,
      "outputs": [
        {
          "output_type": "stream",
          "text": [
            "Epoch 1/40\n",
            "24/24 [==============================] - 1s 31ms/step - loss: 1.1710 - accuracy: 0.5789\n",
            "Epoch 2/40\n",
            "24/24 [==============================] - 1s 31ms/step - loss: 0.9860 - accuracy: 0.5857\n",
            "Epoch 3/40\n",
            "24/24 [==============================] - 1s 32ms/step - loss: 0.9754 - accuracy: 0.5857\n",
            "Epoch 4/40\n",
            "24/24 [==============================] - 1s 32ms/step - loss: 0.9698 - accuracy: 0.5857\n",
            "Epoch 5/40\n",
            "24/24 [==============================] - 1s 31ms/step - loss: 0.9670 - accuracy: 0.5859\n",
            "Epoch 6/40\n",
            "24/24 [==============================] - 1s 32ms/step - loss: 0.9617 - accuracy: 0.5913\n",
            "Epoch 7/40\n",
            "24/24 [==============================] - 1s 33ms/step - loss: 0.9466 - accuracy: 0.5933\n",
            "Epoch 8/40\n",
            "24/24 [==============================] - 1s 31ms/step - loss: 0.9192 - accuracy: 0.6037\n",
            "Epoch 9/40\n",
            "24/24 [==============================] - 1s 30ms/step - loss: 0.9039 - accuracy: 0.6095\n",
            "Epoch 10/40\n",
            "24/24 [==============================] - 1s 31ms/step - loss: 0.8965 - accuracy: 0.6109\n",
            "Epoch 11/40\n",
            "24/24 [==============================] - 1s 31ms/step - loss: 0.8888 - accuracy: 0.6143\n",
            "Epoch 12/40\n",
            "24/24 [==============================] - 1s 31ms/step - loss: 0.8817 - accuracy: 0.6172\n",
            "Epoch 13/40\n",
            "24/24 [==============================] - 1s 29ms/step - loss: 0.8753 - accuracy: 0.6188\n",
            "Epoch 14/40\n",
            "24/24 [==============================] - 1s 30ms/step - loss: 0.8703 - accuracy: 0.6221\n",
            "Epoch 15/40\n",
            "24/24 [==============================] - 1s 30ms/step - loss: 0.8651 - accuracy: 0.6253\n",
            "Epoch 16/40\n",
            "24/24 [==============================] - 1s 30ms/step - loss: 0.8591 - accuracy: 0.6278\n",
            "Epoch 17/40\n",
            "24/24 [==============================] - 1s 32ms/step - loss: 0.8531 - accuracy: 0.6307\n",
            "Epoch 18/40\n",
            "24/24 [==============================] - 1s 32ms/step - loss: 0.8484 - accuracy: 0.6348\n",
            "Epoch 19/40\n",
            "24/24 [==============================] - 1s 32ms/step - loss: 0.8426 - accuracy: 0.6412\n",
            "Epoch 20/40\n",
            "24/24 [==============================] - 1s 30ms/step - loss: 0.8355 - accuracy: 0.6463\n",
            "Epoch 21/40\n",
            "24/24 [==============================] - 1s 30ms/step - loss: 0.8280 - accuracy: 0.6492\n",
            "Epoch 22/40\n",
            "24/24 [==============================] - 1s 30ms/step - loss: 0.8206 - accuracy: 0.6550\n",
            "Epoch 23/40\n",
            "24/24 [==============================] - 1s 30ms/step - loss: 0.8144 - accuracy: 0.6577\n",
            "Epoch 24/40\n",
            "24/24 [==============================] - 1s 29ms/step - loss: 0.8101 - accuracy: 0.6598\n",
            "Epoch 25/40\n",
            "24/24 [==============================] - 1s 30ms/step - loss: 0.8018 - accuracy: 0.6648\n",
            "Epoch 26/40\n",
            "24/24 [==============================] - 1s 30ms/step - loss: 0.8018 - accuracy: 0.6672\n",
            "Epoch 27/40\n",
            "24/24 [==============================] - 1s 30ms/step - loss: 0.8219 - accuracy: 0.6538\n",
            "Epoch 28/40\n",
            "24/24 [==============================] - 1s 32ms/step - loss: 0.8110 - accuracy: 0.6585\n",
            "Epoch 29/40\n",
            "24/24 [==============================] - 1s 29ms/step - loss: 0.7946 - accuracy: 0.6701\n",
            "Epoch 30/40\n",
            "24/24 [==============================] - 1s 29ms/step - loss: 0.7951 - accuracy: 0.6699\n",
            "Epoch 31/40\n",
            "24/24 [==============================] - 1s 30ms/step - loss: 0.7707 - accuracy: 0.6865\n",
            "Epoch 32/40\n",
            "24/24 [==============================] - 1s 30ms/step - loss: 0.7615 - accuracy: 0.6937\n",
            "Epoch 33/40\n",
            "24/24 [==============================] - 1s 33ms/step - loss: 0.7484 - accuracy: 0.7029\n",
            "Epoch 34/40\n",
            "24/24 [==============================] - 1s 31ms/step - loss: 0.7394 - accuracy: 0.7078\n",
            "Epoch 35/40\n",
            "24/24 [==============================] - 1s 31ms/step - loss: 0.7342 - accuracy: 0.7088\n",
            "Epoch 36/40\n",
            "24/24 [==============================] - 1s 32ms/step - loss: 0.7294 - accuracy: 0.7141\n",
            "Epoch 37/40\n",
            "24/24 [==============================] - 1s 30ms/step - loss: 0.7549 - accuracy: 0.6962\n",
            "Epoch 38/40\n",
            "24/24 [==============================] - 1s 32ms/step - loss: 0.7945 - accuracy: 0.6712\n",
            "Epoch 39/40\n",
            "24/24 [==============================] - 1s 32ms/step - loss: 0.7444 - accuracy: 0.7022\n",
            "Epoch 40/40\n",
            "24/24 [==============================] - 1s 32ms/step - loss: 0.7348 - accuracy: 0.7055\n",
            "24/24 [==============================] - 1s 28ms/step - loss: 0.7105 - accuracy: 0.7255\n",
            "[0.7105093002319336, 0.7254999876022339]\n",
            "GLOVE_LSTM\n"
          ],
          "name": "stdout"
        }
      ]
    },
    {
      "cell_type": "code",
      "metadata": {
        "colab": {
          "base_uri": "https://localhost:8080/"
        },
        "id": "fKM9PEwm1fkb",
        "outputId": "567a53b8-a060-43dd-ea89-096c579933bd"
      },
      "source": [
        "model_glove_bi = tf.keras.Sequential()\r\n",
        "model_glove_bi.add(tf.keras.Input(shape=(Max_input_size,100)))\r\n",
        "model_glove_bi.add(tf.keras.layers.Bidirectional(tf.keras.layers.LSTM(50),merge_mode='concat'))\r\n",
        "model_glove_bi.add(tf.keras.layers.Dense(4, activation='softmax'))\r\n",
        "model_glove_bi.compile(loss='categorical_crossentropy',optimizer='adam', \r\n",
        "                           metrics=['accuracy'])\r\n",
        "history = model_glove_bi.fit_generator(generator = glove_gen(vocab_glove,X_train,y_train,batch_size,Max_input_size,Embedding_size,mul_factor),steps_per_epoch=int(len(X_train)/batch_size),epochs=epochs)\r\n",
        "history = model_glove_bi.evaluate(x = glove_gen(vocab_glove,X_test,y_test,batch_size,Max_input_size,Embedding_size,mul_factor),steps=int(len(y_test)/batch_size))\r\n",
        "print(history)\r\n",
        "\r\n",
        "result_table+=[history[1]]\r\n",
        "print(\"GLOVE_BI\")"
      ],
      "execution_count": null,
      "outputs": [
        {
          "output_type": "stream",
          "text": [
            "Epoch 1/40\n",
            "24/24 [==============================] - 1s 31ms/step - loss: 1.0463 - accuracy: 0.5863\n",
            "Epoch 2/40\n",
            "24/24 [==============================] - 1s 32ms/step - loss: 0.9498 - accuracy: 0.5909\n",
            "Epoch 3/40\n",
            "24/24 [==============================] - 1s 35ms/step - loss: 0.9296 - accuracy: 0.5975\n",
            "Epoch 4/40\n",
            "24/24 [==============================] - 1s 37ms/step - loss: 0.9116 - accuracy: 0.6016\n",
            "Epoch 5/40\n",
            "24/24 [==============================] - 1s 34ms/step - loss: 0.8992 - accuracy: 0.6085\n",
            "Epoch 6/40\n",
            "24/24 [==============================] - 1s 32ms/step - loss: 0.8893 - accuracy: 0.6124\n",
            "Epoch 7/40\n",
            "24/24 [==============================] - 1s 33ms/step - loss: 0.8822 - accuracy: 0.6144\n",
            "Epoch 8/40\n",
            "24/24 [==============================] - 1s 32ms/step - loss: 0.8752 - accuracy: 0.6174\n",
            "Epoch 9/40\n",
            "24/24 [==============================] - 1s 34ms/step - loss: 0.8685 - accuracy: 0.6205\n",
            "Epoch 10/40\n",
            "24/24 [==============================] - 1s 33ms/step - loss: 0.8621 - accuracy: 0.6227\n",
            "Epoch 11/40\n",
            "24/24 [==============================] - 1s 34ms/step - loss: 0.8555 - accuracy: 0.6272\n",
            "Epoch 12/40\n",
            "24/24 [==============================] - 1s 35ms/step - loss: 0.8484 - accuracy: 0.6317\n",
            "Epoch 13/40\n",
            "24/24 [==============================] - 1s 32ms/step - loss: 0.8405 - accuracy: 0.6365\n",
            "Epoch 14/40\n",
            "24/24 [==============================] - 1s 34ms/step - loss: 0.8323 - accuracy: 0.6424\n",
            "Epoch 15/40\n",
            "24/24 [==============================] - 1s 33ms/step - loss: 0.8234 - accuracy: 0.6461\n",
            "Epoch 16/40\n",
            "24/24 [==============================] - 1s 33ms/step - loss: 0.8130 - accuracy: 0.6532\n",
            "Epoch 17/40\n",
            "24/24 [==============================] - 1s 35ms/step - loss: 0.8041 - accuracy: 0.6581\n",
            "Epoch 18/40\n",
            "24/24 [==============================] - 1s 32ms/step - loss: 0.7959 - accuracy: 0.6610\n",
            "Epoch 19/40\n",
            "24/24 [==============================] - 1s 33ms/step - loss: 0.7868 - accuracy: 0.6658\n",
            "Epoch 20/40\n",
            "24/24 [==============================] - 1s 33ms/step - loss: 0.7761 - accuracy: 0.6716\n",
            "Epoch 21/40\n",
            "24/24 [==============================] - 1s 33ms/step - loss: 0.7614 - accuracy: 0.6794\n",
            "Epoch 22/40\n",
            "24/24 [==============================] - 1s 33ms/step - loss: 0.7475 - accuracy: 0.6848\n",
            "Epoch 23/40\n",
            "24/24 [==============================] - 1s 33ms/step - loss: 0.7342 - accuracy: 0.6938\n",
            "Epoch 24/40\n",
            "24/24 [==============================] - 1s 33ms/step - loss: 0.7175 - accuracy: 0.7044\n",
            "Epoch 25/40\n",
            "24/24 [==============================] - 1s 36ms/step - loss: 0.7040 - accuracy: 0.7097\n",
            "Epoch 26/40\n",
            "24/24 [==============================] - 1s 32ms/step - loss: 0.6851 - accuracy: 0.7205\n",
            "Epoch 27/40\n",
            "24/24 [==============================] - 1s 34ms/step - loss: 0.6782 - accuracy: 0.7245\n",
            "Epoch 28/40\n",
            "24/24 [==============================] - 1s 33ms/step - loss: 0.6807 - accuracy: 0.7212\n",
            "Epoch 29/40\n",
            "24/24 [==============================] - 1s 34ms/step - loss: 0.6715 - accuracy: 0.7252\n",
            "Epoch 30/40\n",
            "24/24 [==============================] - 1s 34ms/step - loss: 0.6692 - accuracy: 0.7277\n",
            "Epoch 31/40\n",
            "24/24 [==============================] - 1s 35ms/step - loss: 0.6481 - accuracy: 0.7390\n",
            "Epoch 32/40\n",
            "24/24 [==============================] - 1s 35ms/step - loss: 0.6301 - accuracy: 0.7468\n",
            "Epoch 33/40\n",
            "24/24 [==============================] - 1s 36ms/step - loss: 0.6205 - accuracy: 0.7493\n",
            "Epoch 34/40\n",
            "24/24 [==============================] - 1s 34ms/step - loss: 0.6175 - accuracy: 0.7465\n",
            "Epoch 35/40\n",
            "24/24 [==============================] - 1s 35ms/step - loss: 0.6142 - accuracy: 0.7533\n",
            "Epoch 36/40\n",
            "24/24 [==============================] - 1s 34ms/step - loss: 0.5778 - accuracy: 0.7731\n",
            "Epoch 37/40\n",
            "24/24 [==============================] - 1s 32ms/step - loss: 0.5625 - accuracy: 0.7785\n",
            "Epoch 38/40\n",
            "24/24 [==============================] - 1s 33ms/step - loss: 0.5653 - accuracy: 0.7767\n",
            "Epoch 39/40\n",
            "24/24 [==============================] - 1s 33ms/step - loss: 0.5782 - accuracy: 0.7665\n",
            "Epoch 40/40\n",
            "24/24 [==============================] - 1s 32ms/step - loss: 0.5386 - accuracy: 0.7897\n",
            "24/24 [==============================] - 1s 27ms/step - loss: 0.5771 - accuracy: 0.7738\n",
            "[0.5770643949508667, 0.7738333344459534]\n",
            "GLOVE_BI\n"
          ],
          "name": "stdout"
        }
      ]
    },
    {
      "cell_type": "code",
      "metadata": {
        "colab": {
          "base_uri": "https://localhost:8080/"
        },
        "id": "RQBa5s4s1hNU",
        "outputId": "eae501d5-24ac-45cc-c84d-0ebbdf5fb0dd"
      },
      "source": [
        "model_glove_rnn = tf.keras.Sequential()\r\n",
        "model_glove_rnn.add(tf.keras.Input(shape=(Max_input_size,100)))\r\n",
        "model_glove_rnn.add(tf.keras.layers.SimpleRNN(50))\r\n",
        "model_glove_rnn.add(tf.keras.layers.Dense(4, activation='softmax'))\r\n",
        "model_glove_rnn.compile(loss='categorical_crossentropy',optimizer='adam', \r\n",
        "                           metrics=['accuracy'])\r\n",
        "history = model_glove_rnn.fit_generator(generator = glove_gen(vocab_glove,X_train,y_train,batch_size,Max_input_size,Embedding_size,mul_factor),steps_per_epoch=int(len(X_train)/batch_size),epochs=epochs)\r\n",
        "history = model_glove_rnn.evaluate(x = glove_gen(vocab_glove,X_test,y_test,batch_size,Max_input_size,Embedding_size,mul_factor),steps=int(len(y_test)/batch_size))\r\n",
        "print(history)\r\n",
        "\r\n",
        "result_table+=[history[1]]\r\n",
        "print(\"GLOVE_RNN\")"
      ],
      "execution_count": null,
      "outputs": [
        {
          "output_type": "stream",
          "text": [
            "Epoch 1/40\n",
            "24/24 [==============================] - 1s 44ms/step - loss: 1.0830 - accuracy: 0.5505\n",
            "Epoch 2/40\n",
            "24/24 [==============================] - 1s 48ms/step - loss: 0.9875 - accuracy: 0.5856\n",
            "Epoch 3/40\n",
            "24/24 [==============================] - 1s 45ms/step - loss: 0.9869 - accuracy: 0.5856\n",
            "Epoch 4/40\n",
            "24/24 [==============================] - 1s 45ms/step - loss: 0.9856 - accuracy: 0.5856\n",
            "Epoch 5/40\n",
            "24/24 [==============================] - 1s 49ms/step - loss: 0.9856 - accuracy: 0.5856\n",
            "Epoch 6/40\n",
            "24/24 [==============================] - 1s 44ms/step - loss: 0.9856 - accuracy: 0.5856\n",
            "Epoch 7/40\n",
            "24/24 [==============================] - 1s 43ms/step - loss: 0.9855 - accuracy: 0.5856\n",
            "Epoch 8/40\n",
            "24/24 [==============================] - 1s 47ms/step - loss: 0.9854 - accuracy: 0.5857\n",
            "Epoch 9/40\n",
            "24/24 [==============================] - 1s 43ms/step - loss: 0.9853 - accuracy: 0.5857\n",
            "Epoch 10/40\n",
            "24/24 [==============================] - 1s 44ms/step - loss: 0.9851 - accuracy: 0.5857\n",
            "Epoch 11/40\n",
            "24/24 [==============================] - 1s 44ms/step - loss: 0.9848 - accuracy: 0.5857\n",
            "Epoch 12/40\n",
            "24/24 [==============================] - 1s 41ms/step - loss: 0.9846 - accuracy: 0.5857\n",
            "Epoch 13/40\n",
            "24/24 [==============================] - 1s 46ms/step - loss: 0.9845 - accuracy: 0.5857\n",
            "Epoch 14/40\n",
            "24/24 [==============================] - 1s 44ms/step - loss: 0.9843 - accuracy: 0.5857\n",
            "Epoch 15/40\n",
            "24/24 [==============================] - 1s 43ms/step - loss: 0.9840 - accuracy: 0.5857\n",
            "Epoch 16/40\n",
            "24/24 [==============================] - 1s 47ms/step - loss: 0.9835 - accuracy: 0.5857\n",
            "Epoch 17/40\n",
            "24/24 [==============================] - 1s 43ms/step - loss: 0.9828 - accuracy: 0.5858\n",
            "Epoch 18/40\n",
            "24/24 [==============================] - 1s 40ms/step - loss: 0.9814 - accuracy: 0.5859\n",
            "Epoch 19/40\n",
            "24/24 [==============================] - 1s 41ms/step - loss: 0.9776 - accuracy: 0.5860\n",
            "Epoch 20/40\n",
            "24/24 [==============================] - 1s 42ms/step - loss: 0.9756 - accuracy: 0.5863\n",
            "Epoch 21/40\n",
            "24/24 [==============================] - 1s 44ms/step - loss: 0.9660 - accuracy: 0.5896\n",
            "Epoch 22/40\n",
            "24/24 [==============================] - 1s 43ms/step - loss: 0.9511 - accuracy: 0.5943\n",
            "Epoch 23/40\n",
            "24/24 [==============================] - 1s 44ms/step - loss: 0.9412 - accuracy: 0.5987\n",
            "Epoch 24/40\n",
            "24/24 [==============================] - 1s 43ms/step - loss: 0.9357 - accuracy: 0.6029\n",
            "Epoch 25/40\n",
            "24/24 [==============================] - 1s 39ms/step - loss: 0.9301 - accuracy: 0.6024\n",
            "Epoch 26/40\n",
            "24/24 [==============================] - 1s 47ms/step - loss: 0.9197 - accuracy: 0.6071\n",
            "Epoch 27/40\n",
            "24/24 [==============================] - 1s 45ms/step - loss: 0.9108 - accuracy: 0.6108\n",
            "Epoch 28/40\n",
            "24/24 [==============================] - 1s 48ms/step - loss: 0.9065 - accuracy: 0.6132\n",
            "Epoch 29/40\n",
            "24/24 [==============================] - 1s 48ms/step - loss: 0.9049 - accuracy: 0.6145\n",
            "Epoch 30/40\n",
            "24/24 [==============================] - 1s 49ms/step - loss: 0.9078 - accuracy: 0.6118\n",
            "Epoch 31/40\n",
            "24/24 [==============================] - 1s 49ms/step - loss: 0.9109 - accuracy: 0.6110\n",
            "Epoch 32/40\n",
            "24/24 [==============================] - 1s 48ms/step - loss: 0.8964 - accuracy: 0.6118\n",
            "Epoch 33/40\n",
            "24/24 [==============================] - 1s 42ms/step - loss: 0.9024 - accuracy: 0.6133\n",
            "Epoch 34/40\n",
            "24/24 [==============================] - 1s 43ms/step - loss: 0.8977 - accuracy: 0.6186\n",
            "Epoch 35/40\n",
            "24/24 [==============================] - 1s 41ms/step - loss: 0.8825 - accuracy: 0.6237\n",
            "Epoch 36/40\n",
            "24/24 [==============================] - 1s 46ms/step - loss: 0.8857 - accuracy: 0.6210\n",
            "Epoch 37/40\n",
            "24/24 [==============================] - 1s 41ms/step - loss: 0.8799 - accuracy: 0.6228\n",
            "Epoch 38/40\n",
            "24/24 [==============================] - 1s 42ms/step - loss: 0.8700 - accuracy: 0.6305\n",
            "Epoch 39/40\n",
            "24/24 [==============================] - 1s 42ms/step - loss: 0.8605 - accuracy: 0.6347\n",
            "Epoch 40/40\n",
            "24/24 [==============================] - 1s 47ms/step - loss: 0.8434 - accuracy: 0.6436\n",
            "24/24 [==============================] - 1s 33ms/step - loss: 0.8599 - accuracy: 0.6360\n",
            "[0.8599138855934143, 0.6359999775886536]\n",
            "GLOVE_RNN\n"
          ],
          "name": "stdout"
        }
      ]
    },
    {
      "cell_type": "code",
      "metadata": {
        "colab": {
          "base_uri": "https://localhost:8080/"
        },
        "id": "WZqN_SaM3hs9",
        "outputId": "7e8a7db4-1c62-4e7d-ff7d-df4250d7166f"
      },
      "source": [
        "print(\"\\tLstm\\t\\t\\tBiLstm\\t\\t\\tRnn\")\r\n",
        "print(\"sg\",result_table[:3])\r\n",
        "print(\"cbow\",result_table[3:6])\r\n",
        "print(\"glove\",result_table[6:9])"
      ],
      "execution_count": null,
      "outputs": [
        {
          "output_type": "stream",
          "text": [
            "\tLstm\t\t\tBiLstm\t\t\tRnn\n",
            "sg [0.5865833163261414, 0.5865833163261414, 0.5865833163261414]\n",
            "cbow [0.5865833163261414, 0.5865833163261414, 0.5865833163261414]\n",
            "glove [0.6365833282470703, 0.6725833415985107, 0.5865833163261414]\n"
          ],
          "name": "stdout"
        }
      ]
    }
  ]
}