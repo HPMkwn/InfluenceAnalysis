{
  "nbformat": 4,
  "nbformat_minor": 0,
  "metadata": {
    "colab": {
      "name": "AllEkphrasisGen.ipynb",
      "provenance": [],
      "collapsed_sections": [],
      "include_colab_link": true
    },
    "kernelspec": {
      "name": "python3",
      "display_name": "Python 3"
    },
    "accelerator": "GPU"
  },
  "cells": [
    {
      "cell_type": "markdown",
      "metadata": {
        "id": "view-in-github",
        "colab_type": "text"
      },
      "source": [
        "<a href=\"https://colab.research.google.com/github/harrymkwn/InfluenceAnalysis/blob/master/AllEkphrasisGen.ipynb\" target=\"_parent\"><img src=\"https://colab.research.google.com/assets/colab-badge.svg\" alt=\"Open In Colab\"/></a>"
      ]
    },
    {
      "cell_type": "code",
      "metadata": {
        "id": "YkuKKcIUmM27",
        "colab": {
          "base_uri": "https://localhost:8080/"
        },
        "outputId": "a2a98cfc-fe60-479f-be76-049a860818a0"
      },
      "source": [
        "import pandas as pd\n",
        "import numpy as np\n",
        "import tensorflow as tf\n",
        "from gensim.models import Word2Vec\n",
        "import matplotlib.pyplot as plt\n",
        "from sklearn.linear_model import LogisticRegression\n",
        "from sklearn.multiclass import OneVsRestClassifier\n",
        "from gensim.models import KeyedVectors\n",
        "from sklearn.model_selection import train_test_split\n",
        "from google.colab import  drive\n",
        "drive.mount('/content/drive')\n",
        "import nltk\n",
        "from nltk.corpus import stopwords\n",
        "nltk.download('stopwords')\n",
        "device_name = tf.test.gpu_device_name()\n",
        "print(device_name)\n",
        "df_train = pd.read_csv('/content/drive/MyDrive/InfluenceAnalysis/Newdata/train_clean.csv',names=['Tweet','Emotion'])\n",
        "df_test = pd.read_csv('/content/drive/MyDrive/InfluenceAnalysis/Newdata/test_clean.csv',names=['Tweet','Emotion'])\n",
        "df_train = df_train.sample(frac=1)\n",
        "df_test = df_train.sample(frac=1)"
      ],
      "execution_count": 2,
      "outputs": [
        {
          "output_type": "stream",
          "text": [
            "Mounted at /content/drive\n",
            "[nltk_data] Downloading package stopwords to /root/nltk_data...\n",
            "[nltk_data]   Unzipping corpora/stopwords.zip.\n",
            "\n"
          ],
          "name": "stdout"
        }
      ]
    },
    {
      "cell_type": "code",
      "metadata": {
        "id": "P0zrtpGceAiE",
        "colab": {
          "base_uri": "https://localhost:8080/",
          "height": 419
        },
        "outputId": "22ddc555-e49f-4abb-8d06-7a15fdfce0bd"
      },
      "source": [
        "df_train.head(1000)"
      ],
      "execution_count": 3,
      "outputs": [
        {
          "output_type": "execute_result",
          "data": {
            "text/html": [
              "<div>\n",
              "<style scoped>\n",
              "    .dataframe tbody tr th:only-of-type {\n",
              "        vertical-align: middle;\n",
              "    }\n",
              "\n",
              "    .dataframe tbody tr th {\n",
              "        vertical-align: top;\n",
              "    }\n",
              "\n",
              "    .dataframe thead th {\n",
              "        text-align: right;\n",
              "    }\n",
              "</style>\n",
              "<table border=\"1\" class=\"dataframe\">\n",
              "  <thead>\n",
              "    <tr style=\"text-align: right;\">\n",
              "      <th></th>\n",
              "      <th>Tweet</th>\n",
              "      <th>Emotion</th>\n",
              "    </tr>\n",
              "  </thead>\n",
              "  <tbody>\n",
              "    <tr>\n",
              "      <th>5973</th>\n",
              "      <td>i wa on time three shift in a row but i woke u...</td>\n",
              "      <td>2</td>\n",
              "    </tr>\n",
              "    <tr>\n",
              "      <th>3620</th>\n",
              "      <td>jwpage your sm manag to crash my phone</td>\n",
              "      <td>1</td>\n",
              "    </tr>\n",
              "    <tr>\n",
              "      <th>6918</th>\n",
              "      <td>soo tire of thi cubicl</td>\n",
              "      <td>2</td>\n",
              "    </tr>\n",
              "    <tr>\n",
              "      <th>5311</th>\n",
              "      <td>bye la i alreadi miss you</td>\n",
              "      <td>2</td>\n",
              "    </tr>\n",
              "    <tr>\n",
              "      <th>5701</th>\n",
              "      <td>hubuk wow that impress luckili I am not in rus...</td>\n",
              "      <td>2</td>\n",
              "    </tr>\n",
              "    <tr>\n",
              "      <th>...</th>\n",
              "      <td>...</td>\n",
              "      <td>...</td>\n",
              "    </tr>\n",
              "    <tr>\n",
              "      <th>2025</th>\n",
              "      <td>housem saw angel amp demon last night but left...</td>\n",
              "      <td>2</td>\n",
              "    </tr>\n",
              "    <tr>\n",
              "      <th>11029</th>\n",
              "      <td>sometim i wish i had my hair back</td>\n",
              "      <td>2</td>\n",
              "    </tr>\n",
              "    <tr>\n",
              "      <th>1138</th>\n",
              "      <td>wolfi christelmcr ah sameway yetmikeyway ha vo...</td>\n",
              "      <td>0</td>\n",
              "    </tr>\n",
              "    <tr>\n",
              "      <th>7792</th>\n",
              "      <td>I am so tire of be sick all the time</td>\n",
              "      <td>0</td>\n",
              "    </tr>\n",
              "    <tr>\n",
              "      <th>5291</th>\n",
              "      <td>yampolito that will make thing fair my poor ti...</td>\n",
              "      <td>1</td>\n",
              "    </tr>\n",
              "  </tbody>\n",
              "</table>\n",
              "<p>1000 rows × 2 columns</p>\n",
              "</div>"
            ],
            "text/plain": [
              "                                                   Tweet Emotion\n",
              "5973   i wa on time three shift in a row but i woke u...       2\n",
              "3620              jwpage your sm manag to crash my phone       1\n",
              "6918                              soo tire of thi cubicl       2\n",
              "5311                           bye la i alreadi miss you       2\n",
              "5701   hubuk wow that impress luckili I am not in rus...       2\n",
              "...                                                  ...     ...\n",
              "2025   housem saw angel amp demon last night but left...       2\n",
              "11029                  sometim i wish i had my hair back       2\n",
              "1138   wolfi christelmcr ah sameway yetmikeyway ha vo...       0\n",
              "7792                I am so tire of be sick all the time       0\n",
              "5291   yampolito that will make thing fair my poor ti...       1\n",
              "\n",
              "[1000 rows x 2 columns]"
            ]
          },
          "metadata": {
            "tags": []
          },
          "execution_count": 3
        }
      ]
    },
    {
      "cell_type": "code",
      "metadata": {
        "id": "K68sxL_LfLy7",
        "colab": {
          "base_uri": "https://localhost:8080/"
        },
        "outputId": "50967400-9e96-4091-fc7b-52263d45cf99"
      },
      "source": [
        "df_test.Emotion.unique()"
      ],
      "execution_count": 4,
      "outputs": [
        {
          "output_type": "execute_result",
          "data": {
            "text/plain": [
              "array(['0', '1', '2', '3', 'emotion'], dtype=object)"
            ]
          },
          "metadata": {
            "tags": []
          },
          "execution_count": 4
        }
      ]
    },
    {
      "cell_type": "code",
      "metadata": {
        "id": "Y9KFGTW2iP8J",
        "colab": {
          "base_uri": "https://localhost:8080/"
        },
        "outputId": "ae73c42d-0505-43c0-ad92-1acbb2eea2cb"
      },
      "source": [
        "df_train.nunique()"
      ],
      "execution_count": 5,
      "outputs": [
        {
          "output_type": "execute_result",
          "data": {
            "text/plain": [
              "Tweet      12370\n",
              "Emotion        5\n",
              "dtype: int64"
            ]
          },
          "metadata": {
            "tags": []
          },
          "execution_count": 5
        }
      ]
    },
    {
      "cell_type": "code",
      "metadata": {
        "id": "7yV6_xYSnZHt"
      },
      "source": [
        "category_dict = {'0':[1,0,0,0],'1':[0,1,0,0],'2':[0,0,1,0],'3':[0,0,0,1],'emotion':[1,0,0,0]}\n",
        "train_data_tweet = [x.lower().split() for x in df_train['Tweet']]\n",
        "train_data_cat = np.array([category_dict[x] for x in df_train['Emotion']])\n",
        "test_data_tweet = [x.lower().split() for x in df_test['Tweet']]\n",
        "test_data_cat = np.array([category_dict[x] for x in df_test['Emotion']])\n",
        "\n",
        "data_tweet = train_data_tweet + test_data_tweet"
      ],
      "execution_count": 6,
      "outputs": []
    },
    {
      "cell_type": "code",
      "metadata": {
        "id": "5mIV-pI5C44j"
      },
      "source": [
        "# Parameters\n",
        "Min_count = 0\n",
        "Embedding_size = 100\n",
        "Window_size = 5\n",
        "Negative_sampling = 00"
      ],
      "execution_count": 7,
      "outputs": []
    },
    {
      "cell_type": "code",
      "metadata": {
        "id": "uUSBfiE0nTVv"
      },
      "source": [
        "w2v_sg = Word2Vec(min_count=Min_count,\n",
        "                     window=Window_size,\n",
        "                     size=Embedding_size,\n",
        "                     negative=Negative_sampling,sg=1)\n",
        "w2v_sg.build_vocab(data_tweet)\n",
        "w2v_sg.train(data_tweet, total_examples=w2v_sg.corpus_count, epochs=5)\n",
        "w2v_cbow = Word2Vec(min_count=Min_count,\n",
        "                     window=Window_size,\n",
        "                     size=Embedding_size,\n",
        "                     negative=Negative_sampling,sg=0)\n",
        "w2v_cbow.build_vocab(data_tweet)\n",
        "w2v_cbow.train(data_tweet, total_examples=w2v_cbow.corpus_count, epochs=5)\n",
        "w2v_sg.wv.init_sims(True)\n",
        "w2v_cbow.wv.init_sims(True)"
      ],
      "execution_count": 8,
      "outputs": []
    },
    {
      "cell_type": "code",
      "metadata": {
        "id": "gVzquoxb6FQJ"
      },
      "source": [
        "vocab_sg = w2v_sg.wv.vocab\n",
        "vocab_sg = [x for x in vocab_sg]\n",
        "vocab_cbow = w2v_cbow.wv.vocab\n",
        "vocab_cbow = [x for x in vocab_cbow] \n",
        "vocab_glove = {}\n",
        "with open(\"/content/drive/My Drive/InfluenceAnalysis/glove/glove.twitter.27B.100d.txt\", 'r', encoding=\"utf-8\") as f:\n",
        "  for line in f:\n",
        "      values = line.split()\n",
        "      word = values[0]\n",
        "      vector = np.asarray(values[1:], \"float32\")\n",
        "      vocab_glove[word] = vector"
      ],
      "execution_count": 9,
      "outputs": []
    },
    {
      "cell_type": "code",
      "metadata": {
        "id": "rdgSI9FSmw60"
      },
      "source": [
        "batch_size = 500\r\n",
        "Max_input_size = max([len(x) for x in data_tweet])\r\n"
      ],
      "execution_count": 10,
      "outputs": []
    },
    {
      "cell_type": "code",
      "metadata": {
        "id": "ArwAlW-wmZxv"
      },
      "source": [
        "def vec_gen(w2v,vocab,data_tweet,data_cat,batch_size,Max_input_size,Embedding_size):\r\n",
        "  while True:\r\n",
        "    for k in range(int(len(data_tweet)/batch_size)):\r\n",
        "      temp = np.array([np.array([w2v.wv.get_vector(i) for i in x if i in vocab]) for x in data_tweet[k*(batch_size):(k+1)*(batch_size)]])\r\n",
        "      temp = np.array([np.pad(x.flatten(),(0,Max_input_size*Embedding_size-len(x.flatten()))).reshape(Max_input_size,Embedding_size) for x in temp])\r\n",
        "      tempres = data_cat[k*(batch_size):(k+1)*(batch_size)]\r\n",
        "      yield (temp,tempres)\r\n",
        "\r\n",
        "def glove_gen(vocab,data_tweet,data_cat,batch_size,Max_input_size,Embedding_size=100):\r\n",
        "  while True:\r\n",
        "    for k in range(int(len(data_tweet)/batch_size)):\r\n",
        "      temp = np.array([np.array([vocab[i] for i in x if i in vocab.keys()]) for x in data_tweet[k*(batch_size):(k+1)*(batch_size)]])\r\n",
        "      temp = np.array([np.pad(x.flatten(),(0,Max_input_size*Embedding_size-len(x.flatten()))).reshape(Max_input_size,Embedding_size) for x in temp])\r\n",
        "      tempres = data_cat[k*(batch_size):(k+1)*(batch_size)]\r\n",
        "      yield (temp,tempres)\r\n"
      ],
      "execution_count": 11,
      "outputs": []
    },
    {
      "cell_type": "code",
      "metadata": {
        "id": "-Fue2npdFINi"
      },
      "source": [
        "X_train = train_data_tweet\n",
        "X_test = test_data_tweet\n",
        "y_train = train_data_cat\n",
        "y_test = test_data_cat \n",
        "result_table = [0,0,0,0,0,0,0,0,0]"
      ],
      "execution_count": 12,
      "outputs": []
    },
    {
      "cell_type": "code",
      "metadata": {
        "id": "0leTuTOb3naL"
      },
      "source": [
        "epochs = 50"
      ],
      "execution_count": 13,
      "outputs": []
    },
    {
      "cell_type": "code",
      "metadata": {
        "id": "1GfgXfAFlD1J",
        "colab": {
          "base_uri": "https://localhost:8080/"
        },
        "outputId": "3fac662b-788f-406f-84dd-302095263cd0"
      },
      "source": [
        "model_sg = tf.keras.Sequential()\n",
        "model_sg.add(tf.keras.Input(shape=(Max_input_size,Embedding_size)))\n",
        "model_sg.add(tf.keras.layers.LSTM(50))\n",
        "model_sg.add(tf.keras.layers.Dense(4, activation='softmax'))\n",
        "model_sg.compile(loss='categorical_crossentropy',optimizer='adam', \n",
        "                           metrics=['accuracy'])\n",
        "history_sg_LSTM = model_sg.fit_generator(generator = vec_gen(w2v_sg,vocab_sg,X_train,y_train,batch_size,Max_input_size,Embedding_size),steps_per_epoch=int(len(X_train)/batch_size),epochs=epochs)\n",
        "history = model_sg.evaluate(x = vec_gen(w2v_sg,vocab_sg,X_test,y_test,batch_size,Max_input_size,Embedding_size),steps=int(len(y_test)/batch_size))\n",
        "print(history)\n",
        "\n",
        "result_table[0]=history[1]\n",
        "print(\"SG_LSTM\")\n"
      ],
      "execution_count": 14,
      "outputs": [
        {
          "output_type": "stream",
          "text": [
            "WARNING:tensorflow:From <ipython-input-14-9c2c948396af>:7: Model.fit_generator (from tensorflow.python.keras.engine.training) is deprecated and will be removed in a future version.\n",
            "Instructions for updating:\n",
            "Please use Model.fit, which supports generators.\n",
            "Epoch 1/50\n",
            "24/24 [==============================] - 8s 321ms/step - loss: 1.2658 - accuracy: 0.5730\n",
            "Epoch 2/50\n",
            "24/24 [==============================] - 8s 320ms/step - loss: 1.0232 - accuracy: 0.5865\n",
            "Epoch 3/50\n",
            "24/24 [==============================] - 8s 319ms/step - loss: 0.9838 - accuracy: 0.5865\n",
            "Epoch 4/50\n",
            "24/24 [==============================] - 8s 319ms/step - loss: 0.9825 - accuracy: 0.5865\n",
            "Epoch 5/50\n",
            "24/24 [==============================] - 8s 324ms/step - loss: 0.9807 - accuracy: 0.5865\n",
            "Epoch 6/50\n",
            "24/24 [==============================] - 8s 323ms/step - loss: 0.9773 - accuracy: 0.5865\n",
            "Epoch 7/50\n",
            "24/24 [==============================] - 8s 324ms/step - loss: 0.9724 - accuracy: 0.5865\n",
            "Epoch 8/50\n",
            "24/24 [==============================] - 8s 323ms/step - loss: 0.9701 - accuracy: 0.5865\n",
            "Epoch 9/50\n",
            "24/24 [==============================] - 8s 323ms/step - loss: 0.9669 - accuracy: 0.5865\n",
            "Epoch 10/50\n",
            "24/24 [==============================] - 8s 320ms/step - loss: 0.9654 - accuracy: 0.5865\n",
            "Epoch 11/50\n",
            "24/24 [==============================] - 8s 323ms/step - loss: 0.9645 - accuracy: 0.5865\n",
            "Epoch 12/50\n",
            "24/24 [==============================] - 8s 319ms/step - loss: 0.9632 - accuracy: 0.5865\n",
            "Epoch 13/50\n",
            "24/24 [==============================] - 8s 319ms/step - loss: 0.9622 - accuracy: 0.5865\n",
            "Epoch 14/50\n",
            "24/24 [==============================] - 8s 321ms/step - loss: 0.9612 - accuracy: 0.5857\n",
            "Epoch 15/50\n",
            "24/24 [==============================] - 8s 317ms/step - loss: 0.9601 - accuracy: 0.5854\n",
            "Epoch 16/50\n",
            "24/24 [==============================] - 8s 319ms/step - loss: 0.9589 - accuracy: 0.5853\n",
            "Epoch 17/50\n",
            "24/24 [==============================] - 8s 325ms/step - loss: 0.9575 - accuracy: 0.5857\n",
            "Epoch 18/50\n",
            "24/24 [==============================] - 8s 328ms/step - loss: 0.9556 - accuracy: 0.5867\n",
            "Epoch 19/50\n",
            "24/24 [==============================] - 8s 321ms/step - loss: 0.9528 - accuracy: 0.5881\n",
            "Epoch 20/50\n",
            "24/24 [==============================] - 8s 322ms/step - loss: 0.9499 - accuracy: 0.5888\n",
            "Epoch 21/50\n",
            "24/24 [==============================] - 8s 330ms/step - loss: 0.9466 - accuracy: 0.5901\n",
            "Epoch 22/50\n",
            "24/24 [==============================] - 8s 326ms/step - loss: 0.9427 - accuracy: 0.5907\n",
            "Epoch 23/50\n",
            "24/24 [==============================] - 8s 322ms/step - loss: 0.9380 - accuracy: 0.5913\n",
            "Epoch 24/50\n",
            "24/24 [==============================] - 8s 322ms/step - loss: 0.9306 - accuracy: 0.5916\n",
            "Epoch 25/50\n",
            "24/24 [==============================] - 8s 323ms/step - loss: 0.9229 - accuracy: 0.5961\n",
            "Epoch 26/50\n",
            "24/24 [==============================] - 8s 324ms/step - loss: 0.9154 - accuracy: 0.6017\n",
            "Epoch 27/50\n",
            "24/24 [==============================] - 8s 324ms/step - loss: 0.9099 - accuracy: 0.6030\n",
            "Epoch 28/50\n",
            "24/24 [==============================] - 8s 326ms/step - loss: 0.9056 - accuracy: 0.6051\n",
            "Epoch 29/50\n",
            "24/24 [==============================] - 8s 321ms/step - loss: 0.8985 - accuracy: 0.6084\n",
            "Epoch 30/50\n",
            "24/24 [==============================] - 8s 324ms/step - loss: 0.8914 - accuracy: 0.6123\n",
            "Epoch 31/50\n",
            "24/24 [==============================] - 8s 322ms/step - loss: 0.8852 - accuracy: 0.6163\n",
            "Epoch 32/50\n",
            "24/24 [==============================] - 8s 322ms/step - loss: 0.8791 - accuracy: 0.6192\n",
            "Epoch 33/50\n",
            "24/24 [==============================] - 8s 322ms/step - loss: 0.8726 - accuracy: 0.6235\n",
            "Epoch 34/50\n",
            "24/24 [==============================] - 8s 321ms/step - loss: 0.8661 - accuracy: 0.6253\n",
            "Epoch 35/50\n",
            "24/24 [==============================] - 8s 323ms/step - loss: 0.8605 - accuracy: 0.6302\n",
            "Epoch 36/50\n",
            "24/24 [==============================] - 8s 322ms/step - loss: 0.8550 - accuracy: 0.6348\n",
            "Epoch 37/50\n",
            "24/24 [==============================] - 8s 323ms/step - loss: 0.8491 - accuracy: 0.6403\n",
            "Epoch 38/50\n",
            "24/24 [==============================] - 8s 324ms/step - loss: 0.8426 - accuracy: 0.6438\n",
            "Epoch 39/50\n",
            "24/24 [==============================] - 8s 321ms/step - loss: 0.8367 - accuracy: 0.6472\n",
            "Epoch 40/50\n",
            "24/24 [==============================] - 8s 322ms/step - loss: 0.8306 - accuracy: 0.6503\n",
            "Epoch 41/50\n",
            "24/24 [==============================] - 8s 321ms/step - loss: 0.8244 - accuracy: 0.6557\n",
            "Epoch 42/50\n",
            "24/24 [==============================] - 8s 316ms/step - loss: 0.8179 - accuracy: 0.6593\n",
            "Epoch 43/50\n",
            "24/24 [==============================] - 8s 321ms/step - loss: 0.8115 - accuracy: 0.6628\n",
            "Epoch 44/50\n",
            "24/24 [==============================] - 8s 318ms/step - loss: 0.8057 - accuracy: 0.6639\n",
            "Epoch 45/50\n",
            "24/24 [==============================] - 8s 327ms/step - loss: 0.8000 - accuracy: 0.6678\n",
            "Epoch 46/50\n",
            "24/24 [==============================] - 8s 322ms/step - loss: 0.7945 - accuracy: 0.6720\n",
            "Epoch 47/50\n",
            "24/24 [==============================] - 8s 320ms/step - loss: 0.7888 - accuracy: 0.6755\n",
            "Epoch 48/50\n",
            "24/24 [==============================] - 8s 320ms/step - loss: 0.7832 - accuracy: 0.6798\n",
            "Epoch 49/50\n",
            "24/24 [==============================] - 8s 320ms/step - loss: 0.7780 - accuracy: 0.6820\n",
            "Epoch 50/50\n",
            "24/24 [==============================] - 8s 320ms/step - loss: 0.7749 - accuracy: 0.6839\n",
            "24/24 [==============================] - 6s 258ms/step - loss: 0.7862 - accuracy: 0.6737\n",
            "[0.7862176299095154, 0.6736666560173035]\n",
            "SG_LSTM\n"
          ],
          "name": "stdout"
        }
      ]
    },
    {
      "cell_type": "code",
      "metadata": {
        "colab": {
          "base_uri": "https://localhost:8080/"
        },
        "id": "eJHtKjzc1SA8",
        "outputId": "42306cba-01ff-4f3e-c2e5-354f5ce007ef"
      },
      "source": [
        "model_sg_bi = tf.keras.Sequential()\r\n",
        "model_sg_bi.add(tf.keras.Input(shape=(Max_input_size,Embedding_size)))\r\n",
        "model_sg_bi.add(tf.keras.layers.Bidirectional(tf.keras.layers.LSTM(50),merge_mode='concat'))\r\n",
        "model_sg_bi.add(tf.keras.layers.Dense(4, activation='softmax'))\r\n",
        "model_sg_bi.compile(loss='categorical_crossentropy',optimizer='adam', \r\n",
        "                           metrics=['accuracy'])\r\n",
        "history_sg_bi = model_sg_bi.fit_generator(generator = vec_gen(w2v_sg,vocab_sg,X_train,y_train,batch_size,Max_input_size,Embedding_size),steps_per_epoch=int(len(X_train)/batch_size),epochs=epochs)\r\n",
        "history = model_sg_bi.evaluate(x = vec_gen(w2v_sg,vocab_sg,X_test,y_test,batch_size,Max_input_size,Embedding_size),steps=int(len(y_test)/batch_size))\r\n",
        "print(history)\r\n",
        "\r\n",
        "result_table[1]=history[1]\r\n",
        "print(\"SG_BI\")"
      ],
      "execution_count": 15,
      "outputs": [
        {
          "output_type": "stream",
          "text": [
            "Epoch 1/50\n",
            "24/24 [==============================] - 10s 422ms/step - loss: 1.2226 - accuracy: 0.5537\n",
            "Epoch 2/50\n",
            "24/24 [==============================] - 10s 427ms/step - loss: 0.9961 - accuracy: 0.5865\n",
            "Epoch 3/50\n",
            "24/24 [==============================] - 10s 423ms/step - loss: 0.9791 - accuracy: 0.5865\n",
            "Epoch 4/50\n",
            "24/24 [==============================] - 10s 423ms/step - loss: 0.9757 - accuracy: 0.5865\n",
            "Epoch 5/50\n",
            "24/24 [==============================] - 10s 428ms/step - loss: 0.9712 - accuracy: 0.5865\n",
            "Epoch 6/50\n",
            "24/24 [==============================] - 10s 425ms/step - loss: 0.9663 - accuracy: 0.5863\n",
            "Epoch 7/50\n",
            "24/24 [==============================] - 10s 425ms/step - loss: 0.9621 - accuracy: 0.5862\n",
            "Epoch 8/50\n",
            "24/24 [==============================] - 10s 423ms/step - loss: 0.9564 - accuracy: 0.5868\n",
            "Epoch 9/50\n",
            "24/24 [==============================] - 10s 422ms/step - loss: 0.9524 - accuracy: 0.5863\n",
            "Epoch 10/50\n",
            "24/24 [==============================] - 10s 421ms/step - loss: 0.9488 - accuracy: 0.5871\n",
            "Epoch 11/50\n",
            "24/24 [==============================] - 10s 422ms/step - loss: 0.9458 - accuracy: 0.5868\n",
            "Epoch 12/50\n",
            "24/24 [==============================] - 10s 423ms/step - loss: 0.9423 - accuracy: 0.5875\n",
            "Epoch 13/50\n",
            "24/24 [==============================] - 10s 421ms/step - loss: 0.9386 - accuracy: 0.5885\n",
            "Epoch 14/50\n",
            "24/24 [==============================] - 10s 426ms/step - loss: 0.9347 - accuracy: 0.5904\n",
            "Epoch 15/50\n",
            "24/24 [==============================] - 10s 420ms/step - loss: 0.9314 - accuracy: 0.5922\n",
            "Epoch 16/50\n",
            "24/24 [==============================] - 10s 422ms/step - loss: 0.9284 - accuracy: 0.5919\n",
            "Epoch 17/50\n",
            "24/24 [==============================] - 10s 424ms/step - loss: 0.9254 - accuracy: 0.5928\n",
            "Epoch 18/50\n",
            "24/24 [==============================] - 10s 424ms/step - loss: 0.9224 - accuracy: 0.5931\n",
            "Epoch 19/50\n",
            "24/24 [==============================] - 10s 424ms/step - loss: 0.9217 - accuracy: 0.5957\n",
            "Epoch 20/50\n",
            "24/24 [==============================] - 10s 423ms/step - loss: 0.9192 - accuracy: 0.5967\n",
            "Epoch 21/50\n",
            "24/24 [==============================] - 10s 424ms/step - loss: 0.9142 - accuracy: 0.5978\n",
            "Epoch 22/50\n",
            "24/24 [==============================] - 10s 424ms/step - loss: 0.9071 - accuracy: 0.5979\n",
            "Epoch 23/50\n",
            "24/24 [==============================] - 10s 422ms/step - loss: 0.9038 - accuracy: 0.6003\n",
            "Epoch 24/50\n",
            "24/24 [==============================] - 10s 422ms/step - loss: 0.8955 - accuracy: 0.6030\n",
            "Epoch 25/50\n",
            "24/24 [==============================] - 10s 419ms/step - loss: 0.8901 - accuracy: 0.6086\n",
            "Epoch 26/50\n",
            "24/24 [==============================] - 10s 422ms/step - loss: 0.8852 - accuracy: 0.6122\n",
            "Epoch 27/50\n",
            "24/24 [==============================] - 10s 422ms/step - loss: 0.8809 - accuracy: 0.6129\n",
            "Epoch 28/50\n",
            "24/24 [==============================] - 10s 422ms/step - loss: 0.8769 - accuracy: 0.6135\n",
            "Epoch 29/50\n",
            "24/24 [==============================] - 10s 421ms/step - loss: 0.8698 - accuracy: 0.6160\n",
            "Epoch 30/50\n",
            "24/24 [==============================] - 10s 424ms/step - loss: 0.8614 - accuracy: 0.6240\n",
            "Epoch 31/50\n",
            "24/24 [==============================] - 10s 426ms/step - loss: 0.8521 - accuracy: 0.6266\n",
            "Epoch 32/50\n",
            "24/24 [==============================] - 10s 425ms/step - loss: 0.8479 - accuracy: 0.6265\n",
            "Epoch 33/50\n",
            "24/24 [==============================] - 10s 423ms/step - loss: 0.8457 - accuracy: 0.6308\n",
            "Epoch 34/50\n",
            "24/24 [==============================] - 10s 426ms/step - loss: 0.8357 - accuracy: 0.6325\n",
            "Epoch 35/50\n",
            "24/24 [==============================] - 10s 428ms/step - loss: 0.8270 - accuracy: 0.6397\n",
            "Epoch 36/50\n",
            "24/24 [==============================] - 10s 423ms/step - loss: 0.8191 - accuracy: 0.6422\n",
            "Epoch 37/50\n",
            "24/24 [==============================] - 10s 421ms/step - loss: 0.8139 - accuracy: 0.6477\n",
            "Epoch 38/50\n",
            "24/24 [==============================] - 10s 423ms/step - loss: 0.8108 - accuracy: 0.6485\n",
            "Epoch 39/50\n",
            "24/24 [==============================] - 10s 422ms/step - loss: 0.8094 - accuracy: 0.6431\n",
            "Epoch 40/50\n",
            "24/24 [==============================] - 10s 422ms/step - loss: 0.8012 - accuracy: 0.6479\n",
            "Epoch 41/50\n",
            "24/24 [==============================] - 10s 427ms/step - loss: 0.7885 - accuracy: 0.6557\n",
            "Epoch 42/50\n",
            "24/24 [==============================] - 10s 419ms/step - loss: 0.7818 - accuracy: 0.6597\n",
            "Epoch 43/50\n",
            "24/24 [==============================] - 10s 420ms/step - loss: 0.7759 - accuracy: 0.6643\n",
            "Epoch 44/50\n",
            "24/24 [==============================] - 10s 422ms/step - loss: 0.7731 - accuracy: 0.6654\n",
            "Epoch 45/50\n",
            "24/24 [==============================] - 10s 420ms/step - loss: 0.7800 - accuracy: 0.6622\n",
            "Epoch 46/50\n",
            "24/24 [==============================] - 10s 422ms/step - loss: 0.7958 - accuracy: 0.6570\n",
            "Epoch 47/50\n",
            "24/24 [==============================] - 10s 419ms/step - loss: 0.7836 - accuracy: 0.6618\n",
            "Epoch 48/50\n",
            "24/24 [==============================] - 10s 422ms/step - loss: 0.7683 - accuracy: 0.6700\n",
            "Epoch 49/50\n",
            "24/24 [==============================] - 10s 422ms/step - loss: 0.7558 - accuracy: 0.6780\n",
            "Epoch 50/50\n",
            "24/24 [==============================] - 10s 421ms/step - loss: 0.7424 - accuracy: 0.6812\n",
            "24/24 [==============================] - 7s 299ms/step - loss: 0.7481 - accuracy: 0.6772\n",
            "[0.7480837106704712, 0.6771666407585144]\n",
            "SG_BI\n"
          ],
          "name": "stdout"
        }
      ]
    },
    {
      "cell_type": "code",
      "metadata": {
        "colab": {
          "base_uri": "https://localhost:8080/"
        },
        "id": "opfhhYPH1VoL",
        "outputId": "1f50f6b0-3ce2-45a2-fc48-5c959ab8c978"
      },
      "source": [
        "model_sg_rnn = tf.keras.Sequential()\r\n",
        "model_sg_rnn.add(tf.keras.Input(shape=(Max_input_size,Embedding_size)))\r\n",
        "model_sg_rnn.add(tf.keras.layers.SimpleRNN(50))\r\n",
        "model_sg_rnn.add(tf.keras.layers.Dense(4, activation='softmax'))\r\n",
        "model_sg_rnn.compile(loss='categorical_crossentropy',optimizer='adam', \r\n",
        "                           metrics=['accuracy'])\r\n",
        "history_sg_rnn = model_sg_rnn.fit_generator(generator = vec_gen(w2v_sg,vocab_sg,X_train,y_train,batch_size,Max_input_size,Embedding_size),steps_per_epoch=int(len(X_train)/batch_size),epochs=epochs)\r\n",
        "history = model_sg_rnn.evaluate(x = vec_gen(w2v_sg,vocab_sg,X_test,y_test,batch_size,Max_input_size,Embedding_size),steps=int(len(y_test)/batch_size))\r\n",
        "print(history)\r\n",
        "\r\n",
        "result_table[2]=history[1]\r\n",
        "print(\"SG_RNN\")"
      ],
      "execution_count": 16,
      "outputs": [
        {
          "output_type": "stream",
          "text": [
            "Epoch 1/50\n",
            "24/24 [==============================] - 6s 242ms/step - loss: 1.1417 - accuracy: 0.5004\n",
            "Epoch 2/50\n",
            "24/24 [==============================] - 6s 243ms/step - loss: 0.9865 - accuracy: 0.5864\n",
            "Epoch 3/50\n",
            "24/24 [==============================] - 6s 242ms/step - loss: 0.9851 - accuracy: 0.5865\n",
            "Epoch 4/50\n",
            "24/24 [==============================] - 6s 240ms/step - loss: 0.9849 - accuracy: 0.5865\n",
            "Epoch 5/50\n",
            "24/24 [==============================] - 6s 242ms/step - loss: 0.9848 - accuracy: 0.5865\n",
            "Epoch 6/50\n",
            "24/24 [==============================] - 6s 242ms/step - loss: 0.9848 - accuracy: 0.5865\n",
            "Epoch 7/50\n",
            "24/24 [==============================] - 6s 243ms/step - loss: 0.9848 - accuracy: 0.5865\n",
            "Epoch 8/50\n",
            "24/24 [==============================] - 6s 242ms/step - loss: 0.9848 - accuracy: 0.5865\n",
            "Epoch 9/50\n",
            "24/24 [==============================] - 6s 247ms/step - loss: 0.9848 - accuracy: 0.5865\n",
            "Epoch 10/50\n",
            "24/24 [==============================] - 6s 243ms/step - loss: 0.9848 - accuracy: 0.5865\n",
            "Epoch 11/50\n",
            "24/24 [==============================] - 6s 244ms/step - loss: 0.9848 - accuracy: 0.5865\n",
            "Epoch 12/50\n",
            "24/24 [==============================] - 6s 241ms/step - loss: 0.9847 - accuracy: 0.5865\n",
            "Epoch 13/50\n",
            "24/24 [==============================] - 6s 241ms/step - loss: 0.9847 - accuracy: 0.5865\n",
            "Epoch 14/50\n",
            "24/24 [==============================] - 6s 239ms/step - loss: 0.9847 - accuracy: 0.5865\n",
            "Epoch 15/50\n",
            "24/24 [==============================] - 6s 241ms/step - loss: 0.9847 - accuracy: 0.5865\n",
            "Epoch 16/50\n",
            "24/24 [==============================] - 6s 252ms/step - loss: 0.9847 - accuracy: 0.5865\n",
            "Epoch 17/50\n",
            "24/24 [==============================] - 6s 243ms/step - loss: 0.9848 - accuracy: 0.5865\n",
            "Epoch 18/50\n",
            "24/24 [==============================] - 6s 245ms/step - loss: 0.9847 - accuracy: 0.5865\n",
            "Epoch 19/50\n",
            "24/24 [==============================] - 6s 240ms/step - loss: 0.9847 - accuracy: 0.5865\n",
            "Epoch 20/50\n",
            "24/24 [==============================] - 6s 241ms/step - loss: 0.9847 - accuracy: 0.5865\n",
            "Epoch 21/50\n",
            "24/24 [==============================] - 6s 239ms/step - loss: 0.9846 - accuracy: 0.5865\n",
            "Epoch 22/50\n",
            "24/24 [==============================] - 6s 243ms/step - loss: 0.9846 - accuracy: 0.5865\n",
            "Epoch 23/50\n",
            "24/24 [==============================] - 6s 254ms/step - loss: 0.9846 - accuracy: 0.5865\n",
            "Epoch 24/50\n",
            "24/24 [==============================] - 6s 246ms/step - loss: 0.9846 - accuracy: 0.5865\n",
            "Epoch 25/50\n",
            "24/24 [==============================] - 6s 240ms/step - loss: 0.9846 - accuracy: 0.5865\n",
            "Epoch 26/50\n",
            "24/24 [==============================] - 6s 241ms/step - loss: 0.9845 - accuracy: 0.5865\n",
            "Epoch 27/50\n",
            "24/24 [==============================] - 6s 245ms/step - loss: 0.9845 - accuracy: 0.5865\n",
            "Epoch 28/50\n",
            "24/24 [==============================] - 6s 242ms/step - loss: 0.9845 - accuracy: 0.5865\n",
            "Epoch 29/50\n",
            "24/24 [==============================] - 6s 242ms/step - loss: 0.9844 - accuracy: 0.5866\n",
            "Epoch 30/50\n",
            "24/24 [==============================] - 6s 242ms/step - loss: 0.9844 - accuracy: 0.5866\n",
            "Epoch 31/50\n",
            "24/24 [==============================] - 6s 241ms/step - loss: 0.9843 - accuracy: 0.5866\n",
            "Epoch 32/50\n",
            "24/24 [==============================] - 6s 242ms/step - loss: 0.9843 - accuracy: 0.5866\n",
            "Epoch 33/50\n",
            "24/24 [==============================] - 6s 241ms/step - loss: 0.9842 - accuracy: 0.5866\n",
            "Epoch 34/50\n",
            "24/24 [==============================] - 6s 244ms/step - loss: 0.9841 - accuracy: 0.5866\n",
            "Epoch 35/50\n",
            "24/24 [==============================] - 6s 239ms/step - loss: 0.9839 - accuracy: 0.5866\n",
            "Epoch 36/50\n",
            "24/24 [==============================] - 6s 242ms/step - loss: 0.9836 - accuracy: 0.5866\n",
            "Epoch 37/50\n",
            "24/24 [==============================] - 6s 243ms/step - loss: 0.9832 - accuracy: 0.5866\n",
            "Epoch 38/50\n",
            "24/24 [==============================] - 6s 242ms/step - loss: 0.9823 - accuracy: 0.5867\n",
            "Epoch 39/50\n",
            "24/24 [==============================] - 6s 242ms/step - loss: 0.9808 - accuracy: 0.5870\n",
            "Epoch 40/50\n",
            "24/24 [==============================] - 6s 243ms/step - loss: 0.9777 - accuracy: 0.5876\n",
            "Epoch 41/50\n",
            "24/24 [==============================] - 6s 240ms/step - loss: 0.9734 - accuracy: 0.5881\n",
            "Epoch 42/50\n",
            "24/24 [==============================] - 6s 243ms/step - loss: 0.9691 - accuracy: 0.5886\n",
            "Epoch 43/50\n",
            "24/24 [==============================] - 6s 242ms/step - loss: 0.9662 - accuracy: 0.5889\n",
            "Epoch 44/50\n",
            "24/24 [==============================] - 6s 242ms/step - loss: 0.9655 - accuracy: 0.5888\n",
            "Epoch 45/50\n",
            "24/24 [==============================] - 6s 242ms/step - loss: 0.9651 - accuracy: 0.5897\n",
            "Epoch 46/50\n",
            "24/24 [==============================] - 6s 239ms/step - loss: 0.9642 - accuracy: 0.5898\n",
            "Epoch 47/50\n",
            "24/24 [==============================] - 6s 241ms/step - loss: 0.9661 - accuracy: 0.5896\n",
            "Epoch 48/50\n",
            "24/24 [==============================] - 6s 240ms/step - loss: 0.9719 - accuracy: 0.5885\n",
            "Epoch 49/50\n",
            "24/24 [==============================] - 6s 241ms/step - loss: 0.9682 - accuracy: 0.5895\n",
            "Epoch 50/50\n",
            "24/24 [==============================] - 6s 246ms/step - loss: 0.9596 - accuracy: 0.5922\n",
            "24/24 [==============================] - 6s 230ms/step - loss: 0.9563 - accuracy: 0.5917\n",
            "[0.9563367366790771, 0.5916666388511658]\n",
            "SG_RNN\n"
          ],
          "name": "stdout"
        }
      ]
    },
    {
      "cell_type": "code",
      "metadata": {
        "colab": {
          "base_uri": "https://localhost:8080/"
        },
        "id": "YumD1M9Y1Xxr",
        "outputId": "efe7ed1a-42aa-4aa4-86cc-08fd8ddcfa7f"
      },
      "source": [
        "model_cbow = tf.keras.Sequential()\r\n",
        "model_cbow.add(tf.keras.Input(shape=(Max_input_size,Embedding_size)))\r\n",
        "model_cbow.add(tf.keras.layers.LSTM(50))\r\n",
        "model_cbow.add(tf.keras.layers.Dense(4, activation='softmax'))\r\n",
        "model_cbow.compile(loss='categorical_crossentropy',optimizer='adam', \r\n",
        "                           metrics=['accuracy'])\r\n",
        "history_cbow_LSTM = model_cbow.fit_generator(generator = vec_gen(w2v_cbow,vocab_cbow,X_train,y_train,batch_size,Max_input_size,Embedding_size),steps_per_epoch=int(len(X_train)/batch_size),epochs=epochs)\r\n",
        "history = model_cbow.evaluate(x = vec_gen(w2v_cbow,vocab_cbow,X_test,y_test,batch_size,Max_input_size,Embedding_size),steps=int(len(y_test)/batch_size))\r\n",
        "print(history)\r\n",
        "\r\n",
        "result_table[3]=history[1]\r\n",
        "print(\"CBOW_LSTM\")"
      ],
      "execution_count": 17,
      "outputs": [
        {
          "output_type": "stream",
          "text": [
            "Epoch 1/50\n",
            "24/24 [==============================] - 8s 324ms/step - loss: 1.2533 - accuracy: 0.5713\n",
            "Epoch 2/50\n",
            "24/24 [==============================] - 8s 321ms/step - loss: 1.0085 - accuracy: 0.5865\n",
            "Epoch 3/50\n",
            "24/24 [==============================] - 8s 323ms/step - loss: 0.9834 - accuracy: 0.5865\n",
            "Epoch 4/50\n",
            "24/24 [==============================] - 8s 323ms/step - loss: 0.9821 - accuracy: 0.5865\n",
            "Epoch 5/50\n",
            "24/24 [==============================] - 8s 325ms/step - loss: 0.9802 - accuracy: 0.5865\n",
            "Epoch 6/50\n",
            "24/24 [==============================] - 8s 325ms/step - loss: 0.9765 - accuracy: 0.5865\n",
            "Epoch 7/50\n",
            "24/24 [==============================] - 8s 322ms/step - loss: 0.9724 - accuracy: 0.5865\n",
            "Epoch 8/50\n",
            "24/24 [==============================] - 8s 324ms/step - loss: 0.9686 - accuracy: 0.5865\n",
            "Epoch 9/50\n",
            "24/24 [==============================] - 8s 327ms/step - loss: 0.9656 - accuracy: 0.5865\n",
            "Epoch 10/50\n",
            "24/24 [==============================] - 8s 325ms/step - loss: 0.9615 - accuracy: 0.5865\n",
            "Epoch 11/50\n",
            "24/24 [==============================] - 8s 320ms/step - loss: 0.9571 - accuracy: 0.5863\n",
            "Epoch 12/50\n",
            "24/24 [==============================] - 8s 327ms/step - loss: 0.9556 - accuracy: 0.5881\n",
            "Epoch 13/50\n",
            "24/24 [==============================] - 8s 322ms/step - loss: 0.9524 - accuracy: 0.5875\n",
            "Epoch 14/50\n",
            "24/24 [==============================] - 8s 321ms/step - loss: 0.9485 - accuracy: 0.5885\n",
            "Epoch 15/50\n",
            "24/24 [==============================] - 8s 319ms/step - loss: 0.9461 - accuracy: 0.5901\n",
            "Epoch 16/50\n",
            "24/24 [==============================] - 8s 320ms/step - loss: 0.9445 - accuracy: 0.5910\n",
            "Epoch 17/50\n",
            "24/24 [==============================] - 8s 321ms/step - loss: 0.9427 - accuracy: 0.5910\n",
            "Epoch 18/50\n",
            "24/24 [==============================] - 8s 330ms/step - loss: 0.9405 - accuracy: 0.5916\n",
            "Epoch 19/50\n",
            "24/24 [==============================] - 8s 327ms/step - loss: 0.9383 - accuracy: 0.5919\n",
            "Epoch 20/50\n",
            "24/24 [==============================] - 8s 326ms/step - loss: 0.9362 - accuracy: 0.5923\n",
            "Epoch 21/50\n",
            "24/24 [==============================] - 8s 320ms/step - loss: 0.9339 - accuracy: 0.5936\n",
            "Epoch 22/50\n",
            "24/24 [==============================] - 8s 324ms/step - loss: 0.9314 - accuracy: 0.5940\n",
            "Epoch 23/50\n",
            "24/24 [==============================] - 8s 320ms/step - loss: 0.9286 - accuracy: 0.5957\n",
            "Epoch 24/50\n",
            "24/24 [==============================] - 8s 322ms/step - loss: 0.9252 - accuracy: 0.5969\n",
            "Epoch 25/50\n",
            "24/24 [==============================] - 8s 321ms/step - loss: 0.9203 - accuracy: 0.5983\n",
            "Epoch 26/50\n",
            "24/24 [==============================] - 8s 320ms/step - loss: 0.9136 - accuracy: 0.6003\n",
            "Epoch 27/50\n",
            "24/24 [==============================] - 8s 320ms/step - loss: 0.9068 - accuracy: 0.6034\n",
            "Epoch 28/50\n",
            "24/24 [==============================] - 8s 322ms/step - loss: 0.9025 - accuracy: 0.6033\n",
            "Epoch 29/50\n",
            "24/24 [==============================] - 8s 318ms/step - loss: 0.8944 - accuracy: 0.6091\n",
            "Epoch 30/50\n",
            "24/24 [==============================] - 8s 319ms/step - loss: 0.8883 - accuracy: 0.6132\n",
            "Epoch 31/50\n",
            "24/24 [==============================] - 8s 323ms/step - loss: 0.8818 - accuracy: 0.6162\n",
            "Epoch 32/50\n",
            "24/24 [==============================] - 8s 321ms/step - loss: 0.8748 - accuracy: 0.6192\n",
            "Epoch 33/50\n",
            "24/24 [==============================] - 8s 319ms/step - loss: 0.8675 - accuracy: 0.6242\n",
            "Epoch 34/50\n",
            "24/24 [==============================] - 8s 323ms/step - loss: 0.8596 - accuracy: 0.6282\n",
            "Epoch 35/50\n",
            "24/24 [==============================] - 8s 327ms/step - loss: 0.8522 - accuracy: 0.6330\n",
            "Epoch 36/50\n",
            "24/24 [==============================] - 8s 325ms/step - loss: 0.8455 - accuracy: 0.6370\n",
            "Epoch 37/50\n",
            "24/24 [==============================] - 8s 322ms/step - loss: 0.8385 - accuracy: 0.6407\n",
            "Epoch 38/50\n",
            "24/24 [==============================] - 8s 326ms/step - loss: 0.8315 - accuracy: 0.6447\n",
            "Epoch 39/50\n",
            "24/24 [==============================] - 8s 325ms/step - loss: 0.8244 - accuracy: 0.6485\n",
            "Epoch 40/50\n",
            "24/24 [==============================] - 8s 322ms/step - loss: 0.8173 - accuracy: 0.6548\n",
            "Epoch 41/50\n",
            "24/24 [==============================] - 8s 326ms/step - loss: 0.8100 - accuracy: 0.6595\n",
            "Epoch 42/50\n",
            "24/24 [==============================] - 8s 323ms/step - loss: 0.8028 - accuracy: 0.6644\n",
            "Epoch 43/50\n",
            "24/24 [==============================] - 8s 321ms/step - loss: 0.7956 - accuracy: 0.6685\n",
            "Epoch 44/50\n",
            "24/24 [==============================] - 8s 324ms/step - loss: 0.7885 - accuracy: 0.6749\n",
            "Epoch 45/50\n",
            "24/24 [==============================] - 8s 326ms/step - loss: 0.7816 - accuracy: 0.6787\n",
            "Epoch 46/50\n",
            "24/24 [==============================] - 8s 322ms/step - loss: 0.7752 - accuracy: 0.6847\n",
            "Epoch 47/50\n",
            "24/24 [==============================] - 8s 327ms/step - loss: 0.7697 - accuracy: 0.6897\n",
            "Epoch 48/50\n",
            "24/24 [==============================] - 8s 323ms/step - loss: 0.7662 - accuracy: 0.6938\n",
            "Epoch 49/50\n",
            "24/24 [==============================] - 8s 323ms/step - loss: 0.7657 - accuracy: 0.6960\n",
            "Epoch 50/50\n",
            "24/24 [==============================] - 8s 323ms/step - loss: 0.8007 - accuracy: 0.6720\n",
            "24/24 [==============================] - 7s 274ms/step - loss: 0.8339 - accuracy: 0.6492\n",
            "[0.833866536617279, 0.6492499709129333]\n",
            "CBOW_LSTM\n"
          ],
          "name": "stdout"
        }
      ]
    },
    {
      "cell_type": "code",
      "metadata": {
        "colab": {
          "base_uri": "https://localhost:8080/"
        },
        "id": "01yVMiF41ZtT",
        "outputId": "f77781cf-93e4-446d-c425-5efc79825772"
      },
      "source": [
        "model_cbow_bi = tf.keras.Sequential()\r\n",
        "model_cbow_bi.add(tf.keras.Input(shape=(Max_input_size,Embedding_size)))\r\n",
        "model_cbow_bi.add(tf.keras.layers.Bidirectional(tf.keras.layers.LSTM(50),merge_mode='concat'))\r\n",
        "model_cbow_bi.add(tf.keras.layers.Dense(4, activation='softmax'))\r\n",
        "model_cbow_bi.compile(loss='categorical_crossentropy',optimizer='adam', \r\n",
        "                           metrics=['accuracy'])\r\n",
        "history_cbow_bi = model_cbow_bi.fit_generator(generator = vec_gen(w2v_cbow,vocab_cbow,X_train,y_train,batch_size,Max_input_size,Embedding_size),steps_per_epoch=int(len(X_train)/batch_size),epochs=epochs)\r\n",
        "history = model_cbow_bi.evaluate(x = vec_gen(w2v_cbow,vocab_cbow,X_test,y_test,batch_size,Max_input_size,Embedding_size),steps=int(len(y_test)/batch_size))\r\n",
        "print(history)\r\n",
        "\r\n",
        "result_table[4]=history[1]\r\n",
        "print(\"CBOW_BI\")"
      ],
      "execution_count": 18,
      "outputs": [
        {
          "output_type": "stream",
          "text": [
            "Epoch 1/50\n",
            "24/24 [==============================] - 10s 425ms/step - loss: 1.2129 - accuracy: 0.5516\n",
            "Epoch 2/50\n",
            "24/24 [==============================] - 10s 422ms/step - loss: 0.9948 - accuracy: 0.5865\n",
            "Epoch 3/50\n",
            "24/24 [==============================] - 10s 420ms/step - loss: 0.9788 - accuracy: 0.5865\n",
            "Epoch 4/50\n",
            "24/24 [==============================] - 10s 427ms/step - loss: 0.9745 - accuracy: 0.5865\n",
            "Epoch 5/50\n",
            "24/24 [==============================] - 10s 427ms/step - loss: 0.9693 - accuracy: 0.5865\n",
            "Epoch 6/50\n",
            "24/24 [==============================] - 10s 423ms/step - loss: 0.9641 - accuracy: 0.5866\n",
            "Epoch 7/50\n",
            "24/24 [==============================] - 10s 422ms/step - loss: 0.9582 - accuracy: 0.5863\n",
            "Epoch 8/50\n",
            "24/24 [==============================] - 10s 422ms/step - loss: 0.9536 - accuracy: 0.5865\n",
            "Epoch 9/50\n",
            "24/24 [==============================] - 10s 424ms/step - loss: 0.9497 - accuracy: 0.5859\n",
            "Epoch 10/50\n",
            "24/24 [==============================] - 10s 421ms/step - loss: 0.9468 - accuracy: 0.5872\n",
            "Epoch 11/50\n",
            "24/24 [==============================] - 10s 428ms/step - loss: 0.9432 - accuracy: 0.5868\n",
            "Epoch 12/50\n",
            "24/24 [==============================] - 10s 425ms/step - loss: 0.9410 - accuracy: 0.5874\n",
            "Epoch 13/50\n",
            "24/24 [==============================] - 10s 426ms/step - loss: 0.9387 - accuracy: 0.5888\n",
            "Epoch 14/50\n",
            "24/24 [==============================] - 10s 427ms/step - loss: 0.9363 - accuracy: 0.5897\n",
            "Epoch 15/50\n",
            "24/24 [==============================] - 10s 431ms/step - loss: 0.9341 - accuracy: 0.5901\n",
            "Epoch 16/50\n",
            "24/24 [==============================] - 10s 429ms/step - loss: 0.9318 - accuracy: 0.5918\n",
            "Epoch 17/50\n",
            "24/24 [==============================] - 10s 425ms/step - loss: 0.9294 - accuracy: 0.5923\n",
            "Epoch 18/50\n",
            "24/24 [==============================] - 10s 424ms/step - loss: 0.9268 - accuracy: 0.5943\n",
            "Epoch 19/50\n",
            "24/24 [==============================] - 10s 430ms/step - loss: 0.9238 - accuracy: 0.5956\n",
            "Epoch 20/50\n",
            "24/24 [==============================] - 10s 430ms/step - loss: 0.9203 - accuracy: 0.5972\n",
            "Epoch 21/50\n",
            "24/24 [==============================] - 10s 424ms/step - loss: 0.9160 - accuracy: 0.5991\n",
            "Epoch 22/50\n",
            "24/24 [==============================] - 10s 425ms/step - loss: 0.9102 - accuracy: 0.5999\n",
            "Epoch 23/50\n",
            "24/24 [==============================] - 10s 426ms/step - loss: 0.9026 - accuracy: 0.6043\n",
            "Epoch 24/50\n",
            "24/24 [==============================] - 10s 428ms/step - loss: 0.8937 - accuracy: 0.6087\n",
            "Epoch 25/50\n",
            "24/24 [==============================] - 10s 424ms/step - loss: 0.8871 - accuracy: 0.6118\n",
            "Epoch 26/50\n",
            "24/24 [==============================] - 10s 423ms/step - loss: 0.8791 - accuracy: 0.6158\n",
            "Epoch 27/50\n",
            "24/24 [==============================] - 10s 420ms/step - loss: 0.8712 - accuracy: 0.6204\n",
            "Epoch 28/50\n",
            "24/24 [==============================] - 10s 425ms/step - loss: 0.8638 - accuracy: 0.6266\n",
            "Epoch 29/50\n",
            "24/24 [==============================] - 10s 431ms/step - loss: 0.8550 - accuracy: 0.6300\n",
            "Epoch 30/50\n",
            "24/24 [==============================] - 10s 425ms/step - loss: 0.8494 - accuracy: 0.6342\n",
            "Epoch 31/50\n",
            "24/24 [==============================] - 10s 425ms/step - loss: 0.8401 - accuracy: 0.6417\n",
            "Epoch 32/50\n",
            "24/24 [==============================] - 10s 424ms/step - loss: 0.8307 - accuracy: 0.6460\n",
            "Epoch 33/50\n",
            "24/24 [==============================] - 10s 424ms/step - loss: 0.8229 - accuracy: 0.6503\n",
            "Epoch 34/50\n",
            "24/24 [==============================] - 10s 427ms/step - loss: 0.8145 - accuracy: 0.6554\n",
            "Epoch 35/50\n",
            "24/24 [==============================] - 10s 422ms/step - loss: 0.8051 - accuracy: 0.6603\n",
            "Epoch 36/50\n",
            "24/24 [==============================] - 10s 423ms/step - loss: 0.7965 - accuracy: 0.6653\n",
            "Epoch 37/50\n",
            "24/24 [==============================] - 10s 423ms/step - loss: 0.7889 - accuracy: 0.6711\n",
            "Epoch 38/50\n",
            "24/24 [==============================] - 10s 426ms/step - loss: 0.7810 - accuracy: 0.6725\n",
            "Epoch 39/50\n",
            "24/24 [==============================] - 10s 427ms/step - loss: 0.7742 - accuracy: 0.6787\n",
            "Epoch 40/50\n",
            "24/24 [==============================] - 10s 428ms/step - loss: 0.7698 - accuracy: 0.6772\n",
            "Epoch 41/50\n",
            "24/24 [==============================] - 10s 426ms/step - loss: 0.7694 - accuracy: 0.6767\n",
            "Epoch 42/50\n",
            "24/24 [==============================] - 10s 427ms/step - loss: 0.7705 - accuracy: 0.6765\n",
            "Epoch 43/50\n",
            "24/24 [==============================] - 10s 425ms/step - loss: 0.7725 - accuracy: 0.6743\n",
            "Epoch 44/50\n",
            "24/24 [==============================] - 10s 431ms/step - loss: 0.7533 - accuracy: 0.6848\n",
            "Epoch 45/50\n",
            "24/24 [==============================] - 10s 427ms/step - loss: 0.7427 - accuracy: 0.6892\n",
            "Epoch 46/50\n",
            "24/24 [==============================] - 10s 427ms/step - loss: 0.7359 - accuracy: 0.6933\n",
            "Epoch 47/50\n",
            "24/24 [==============================] - 10s 427ms/step - loss: 0.7275 - accuracy: 0.6970\n",
            "Epoch 48/50\n",
            "24/24 [==============================] - 10s 423ms/step - loss: 0.7237 - accuracy: 0.6968\n",
            "Epoch 49/50\n",
            "24/24 [==============================] - 10s 426ms/step - loss: 0.7174 - accuracy: 0.7018\n",
            "Epoch 50/50\n",
            "24/24 [==============================] - 10s 428ms/step - loss: 0.7102 - accuracy: 0.7079\n",
            "24/24 [==============================] - 7s 299ms/step - loss: 0.7430 - accuracy: 0.6929\n",
            "[0.7430397272109985, 0.6929166913032532]\n",
            "CBOW_BI\n"
          ],
          "name": "stdout"
        }
      ]
    },
    {
      "cell_type": "code",
      "metadata": {
        "colab": {
          "base_uri": "https://localhost:8080/"
        },
        "id": "N_G3Ff5r1bSD",
        "outputId": "f09f1f18-029b-4264-d1bd-be89a0e7f879"
      },
      "source": [
        "model_cbow_rnn = tf.keras.Sequential()\r\n",
        "model_cbow_rnn.add(tf.keras.Input(shape=(Max_input_size,Embedding_size)))\r\n",
        "model_cbow_rnn.add(tf.keras.layers.SimpleRNN(50))\r\n",
        "model_cbow_rnn.add(tf.keras.layers.Dense(4, activation='softmax'))\r\n",
        "model_cbow_rnn.compile(loss='categorical_crossentropy',optimizer='adam', \r\n",
        "                           metrics=['accuracy'])\r\n",
        "history_cbow_rnn = model_cbow_rnn.fit_generator(generator = vec_gen(w2v_cbow,vocab_cbow,X_train,y_train,batch_size,Max_input_size,Embedding_size),steps_per_epoch=int(len(X_train)/batch_size),epochs=epochs)\r\n",
        "history = model_cbow_rnn.evaluate(x = vec_gen(w2v_cbow,vocab_cbow,X_test,y_test,batch_size,Max_input_size,Embedding_size),steps=int(len(y_test)/batch_size))\r\n",
        "print(history)\r\n",
        "\r\n",
        "result_table[5]=history[1]\r\n",
        "print(\"CBOW_RNN\")"
      ],
      "execution_count": 19,
      "outputs": [
        {
          "output_type": "stream",
          "text": [
            "Epoch 1/50\n",
            "24/24 [==============================] - 6s 243ms/step - loss: 1.1046 - accuracy: 0.5446\n",
            "Epoch 2/50\n",
            "24/24 [==============================] - 6s 243ms/step - loss: 0.9890 - accuracy: 0.5865\n",
            "Epoch 3/50\n",
            "24/24 [==============================] - 6s 248ms/step - loss: 0.9853 - accuracy: 0.5865\n",
            "Epoch 4/50\n",
            "24/24 [==============================] - 6s 243ms/step - loss: 0.9852 - accuracy: 0.5865\n",
            "Epoch 5/50\n",
            "24/24 [==============================] - 6s 239ms/step - loss: 0.9851 - accuracy: 0.5865\n",
            "Epoch 6/50\n",
            "24/24 [==============================] - 6s 243ms/step - loss: 0.9851 - accuracy: 0.5865\n",
            "Epoch 7/50\n",
            "24/24 [==============================] - 6s 243ms/step - loss: 0.9851 - accuracy: 0.5865\n",
            "Epoch 8/50\n",
            "24/24 [==============================] - 6s 242ms/step - loss: 0.9851 - accuracy: 0.5865\n",
            "Epoch 9/50\n",
            "24/24 [==============================] - 6s 242ms/step - loss: 0.9851 - accuracy: 0.5865\n",
            "Epoch 10/50\n",
            "24/24 [==============================] - 6s 243ms/step - loss: 0.9851 - accuracy: 0.5865\n",
            "Epoch 11/50\n",
            "24/24 [==============================] - 6s 241ms/step - loss: 0.9849 - accuracy: 0.5865\n",
            "Epoch 12/50\n",
            "24/24 [==============================] - 6s 254ms/step - loss: 0.9849 - accuracy: 0.5865\n",
            "Epoch 13/50\n",
            "24/24 [==============================] - 6s 243ms/step - loss: 0.9849 - accuracy: 0.5865\n",
            "Epoch 14/50\n",
            "24/24 [==============================] - 6s 242ms/step - loss: 0.9849 - accuracy: 0.5865\n",
            "Epoch 15/50\n",
            "24/24 [==============================] - 6s 244ms/step - loss: 0.9849 - accuracy: 0.5865\n",
            "Epoch 16/50\n",
            "24/24 [==============================] - 6s 244ms/step - loss: 0.9849 - accuracy: 0.5865\n",
            "Epoch 17/50\n",
            "24/24 [==============================] - 6s 246ms/step - loss: 0.9851 - accuracy: 0.5865\n",
            "Epoch 18/50\n",
            "24/24 [==============================] - 6s 241ms/step - loss: 0.9846 - accuracy: 0.5865\n",
            "Epoch 19/50\n",
            "24/24 [==============================] - 6s 244ms/step - loss: 0.9846 - accuracy: 0.5865\n",
            "Epoch 20/50\n",
            "24/24 [==============================] - 6s 243ms/step - loss: 0.9844 - accuracy: 0.5865\n",
            "Epoch 21/50\n",
            "24/24 [==============================] - 6s 248ms/step - loss: 0.9843 - accuracy: 0.5865\n",
            "Epoch 22/50\n",
            "24/24 [==============================] - 6s 253ms/step - loss: 0.9842 - accuracy: 0.5865\n",
            "Epoch 23/50\n",
            "24/24 [==============================] - 6s 249ms/step - loss: 0.9841 - accuracy: 0.5865\n",
            "Epoch 24/50\n",
            "24/24 [==============================] - 6s 242ms/step - loss: 0.9839 - accuracy: 0.5865\n",
            "Epoch 25/50\n",
            "24/24 [==============================] - 6s 240ms/step - loss: 0.9835 - accuracy: 0.5865\n",
            "Epoch 26/50\n",
            "24/24 [==============================] - 6s 241ms/step - loss: 0.9828 - accuracy: 0.5865\n",
            "Epoch 27/50\n",
            "24/24 [==============================] - 6s 242ms/step - loss: 0.9817 - accuracy: 0.5865\n",
            "Epoch 28/50\n",
            "24/24 [==============================] - 6s 241ms/step - loss: 0.9805 - accuracy: 0.5866\n",
            "Epoch 29/50\n",
            "24/24 [==============================] - 6s 243ms/step - loss: 0.9791 - accuracy: 0.5866\n",
            "Epoch 30/50\n",
            "24/24 [==============================] - 6s 246ms/step - loss: 0.9780 - accuracy: 0.5864\n",
            "Epoch 31/50\n",
            "24/24 [==============================] - 6s 245ms/step - loss: 0.9780 - accuracy: 0.5867\n",
            "Epoch 32/50\n",
            "24/24 [==============================] - 6s 243ms/step - loss: 0.9799 - accuracy: 0.5866\n",
            "Epoch 33/50\n",
            "24/24 [==============================] - 6s 241ms/step - loss: 0.9790 - accuracy: 0.5867\n",
            "Epoch 34/50\n",
            "24/24 [==============================] - 6s 241ms/step - loss: 0.9753 - accuracy: 0.5864\n",
            "Epoch 35/50\n",
            "24/24 [==============================] - 6s 242ms/step - loss: 0.9728 - accuracy: 0.5866\n",
            "Epoch 36/50\n",
            "24/24 [==============================] - 6s 241ms/step - loss: 0.9732 - accuracy: 0.5878\n",
            "Epoch 37/50\n",
            "24/24 [==============================] - 6s 243ms/step - loss: 0.9687 - accuracy: 0.5867\n",
            "Epoch 38/50\n",
            "24/24 [==============================] - 6s 241ms/step - loss: 0.9741 - accuracy: 0.5865\n",
            "Epoch 39/50\n",
            "24/24 [==============================] - 6s 245ms/step - loss: 0.9711 - accuracy: 0.5872\n",
            "Epoch 40/50\n",
            "24/24 [==============================] - 6s 242ms/step - loss: 0.9694 - accuracy: 0.5876\n",
            "Epoch 41/50\n",
            "24/24 [==============================] - 6s 243ms/step - loss: 0.9585 - accuracy: 0.5868\n",
            "Epoch 42/50\n",
            "24/24 [==============================] - 6s 241ms/step - loss: 0.9637 - accuracy: 0.5870\n",
            "Epoch 43/50\n",
            "24/24 [==============================] - 6s 243ms/step - loss: 0.9486 - accuracy: 0.5871\n",
            "Epoch 44/50\n",
            "24/24 [==============================] - 6s 244ms/step - loss: 0.9519 - accuracy: 0.5865\n",
            "Epoch 45/50\n",
            "24/24 [==============================] - 6s 244ms/step - loss: 0.9424 - accuracy: 0.5888\n",
            "Epoch 46/50\n",
            "24/24 [==============================] - 6s 242ms/step - loss: 0.9345 - accuracy: 0.5907\n",
            "Epoch 47/50\n",
            "24/24 [==============================] - 6s 242ms/step - loss: 0.9301 - accuracy: 0.5882\n",
            "Epoch 48/50\n",
            "24/24 [==============================] - 6s 246ms/step - loss: 0.9383 - accuracy: 0.5889\n",
            "Epoch 49/50\n",
            "24/24 [==============================] - 6s 242ms/step - loss: 0.9248 - accuracy: 0.5917\n",
            "Epoch 50/50\n",
            "24/24 [==============================] - 6s 243ms/step - loss: 0.9164 - accuracy: 0.5947\n",
            "24/24 [==============================] - 6s 232ms/step - loss: 0.9316 - accuracy: 0.5962\n",
            "[0.9315800666809082, 0.5961666703224182]\n",
            "CBOW_RNN\n"
          ],
          "name": "stdout"
        }
      ]
    },
    {
      "cell_type": "code",
      "metadata": {
        "id": "aEglKIfExKKI"
      },
      "source": [
        "epochs=40"
      ],
      "execution_count": null,
      "outputs": []
    },
    {
      "cell_type": "code",
      "metadata": {
        "colab": {
          "base_uri": "https://localhost:8080/"
        },
        "id": "czoFmEwK1dWT",
        "outputId": "0b1ffb63-e627-415a-bc0f-0e99f761fcd2"
      },
      "source": [
        "model_glove = tf.keras.Sequential()\r\n",
        "model_glove.add(tf.keras.Input(shape=(Max_input_size,100)))\r\n",
        "model_glove.add(tf.keras.layers.LSTM(50))\r\n",
        "model_glove.add(tf.keras.layers.Dense(4, activation='softmax'))\r\n",
        "model_glove.compile(loss='categorical_crossentropy',optimizer='adam', \r\n",
        "                           metrics=['accuracy'])\r\n",
        "history_glove_LSTM = model_glove.fit_generator(generator = glove_gen(vocab_glove,X_train,y_train,batch_size,Max_input_size,Embedding_size=100),steps_per_epoch=int(len(X_train)/batch_size),epochs=epochs)\r\n",
        "history = model_glove.evaluate(x = glove_gen(vocab_glove,X_test,y_test,batch_size,Max_input_size,Embedding_size=100),steps=int(len(y_test)/batch_size))\r\n",
        "print(history)\r\n",
        "\r\n",
        "result_table[6]=history[1]\r\n",
        "print(\"GLOVE_LSTM\")\r\n"
      ],
      "execution_count": 20,
      "outputs": [
        {
          "output_type": "stream",
          "text": [
            "Epoch 1/50\n",
            "24/24 [==============================] - 3s 138ms/step - loss: 1.2340 - accuracy: 0.5530\n",
            "Epoch 2/50\n",
            "24/24 [==============================] - 3s 135ms/step - loss: 0.9949 - accuracy: 0.5865\n",
            "Epoch 3/50\n",
            "24/24 [==============================] - 3s 136ms/step - loss: 0.9735 - accuracy: 0.5865\n",
            "Epoch 4/50\n",
            "24/24 [==============================] - 3s 137ms/step - loss: 0.9669 - accuracy: 0.5891\n",
            "Epoch 5/50\n",
            "24/24 [==============================] - 3s 138ms/step - loss: 0.9618 - accuracy: 0.5918\n",
            "Epoch 6/50\n",
            "24/24 [==============================] - 3s 138ms/step - loss: 0.9562 - accuracy: 0.5947\n",
            "Epoch 7/50\n",
            "24/24 [==============================] - 3s 134ms/step - loss: 0.9496 - accuracy: 0.5981\n",
            "Epoch 8/50\n",
            "24/24 [==============================] - 3s 136ms/step - loss: 0.9435 - accuracy: 0.6020\n",
            "Epoch 9/50\n",
            "24/24 [==============================] - 3s 140ms/step - loss: 0.9376 - accuracy: 0.6012\n",
            "Epoch 10/50\n",
            "24/24 [==============================] - 3s 137ms/step - loss: 0.9287 - accuracy: 0.6032\n",
            "Epoch 11/50\n",
            "24/24 [==============================] - 3s 137ms/step - loss: 0.9117 - accuracy: 0.6080\n",
            "Epoch 12/50\n",
            "24/24 [==============================] - 3s 136ms/step - loss: 0.8982 - accuracy: 0.6143\n",
            "Epoch 13/50\n",
            "24/24 [==============================] - 3s 135ms/step - loss: 0.8891 - accuracy: 0.6198\n",
            "Epoch 14/50\n",
            "24/24 [==============================] - 3s 137ms/step - loss: 0.8817 - accuracy: 0.6235\n",
            "Epoch 15/50\n",
            "24/24 [==============================] - 3s 138ms/step - loss: 0.8740 - accuracy: 0.6260\n",
            "Epoch 16/50\n",
            "24/24 [==============================] - 3s 135ms/step - loss: 0.8674 - accuracy: 0.6312\n",
            "Epoch 17/50\n",
            "24/24 [==============================] - 3s 137ms/step - loss: 0.8624 - accuracy: 0.6330\n",
            "Epoch 18/50\n",
            "24/24 [==============================] - 3s 136ms/step - loss: 0.8587 - accuracy: 0.6363\n",
            "Epoch 19/50\n",
            "24/24 [==============================] - 3s 135ms/step - loss: 0.8531 - accuracy: 0.6391\n",
            "Epoch 20/50\n",
            "24/24 [==============================] - 3s 138ms/step - loss: 0.8437 - accuracy: 0.6422\n",
            "Epoch 21/50\n",
            "24/24 [==============================] - 3s 141ms/step - loss: 0.8339 - accuracy: 0.6497\n",
            "Epoch 22/50\n",
            "24/24 [==============================] - 3s 138ms/step - loss: 0.8243 - accuracy: 0.6557\n",
            "Epoch 23/50\n",
            "24/24 [==============================] - 3s 135ms/step - loss: 0.8149 - accuracy: 0.6625\n",
            "Epoch 24/50\n",
            "24/24 [==============================] - 3s 139ms/step - loss: 0.8047 - accuracy: 0.6689\n",
            "Epoch 25/50\n",
            "24/24 [==============================] - 3s 135ms/step - loss: 0.7956 - accuracy: 0.6773\n",
            "Epoch 26/50\n",
            "24/24 [==============================] - 3s 136ms/step - loss: 0.7864 - accuracy: 0.6812\n",
            "Epoch 27/50\n",
            "24/24 [==============================] - 3s 137ms/step - loss: 0.7788 - accuracy: 0.6867\n",
            "Epoch 28/50\n",
            "24/24 [==============================] - 3s 136ms/step - loss: 0.7766 - accuracy: 0.6857\n",
            "Epoch 29/50\n",
            "24/24 [==============================] - 3s 140ms/step - loss: 0.7822 - accuracy: 0.6810\n",
            "Epoch 30/50\n",
            "24/24 [==============================] - 3s 136ms/step - loss: 0.7705 - accuracy: 0.6893\n",
            "Epoch 31/50\n",
            "24/24 [==============================] - 3s 137ms/step - loss: 0.7665 - accuracy: 0.6901\n",
            "Epoch 32/50\n",
            "24/24 [==============================] - 3s 136ms/step - loss: 0.7905 - accuracy: 0.6749\n",
            "Epoch 33/50\n",
            "24/24 [==============================] - 3s 138ms/step - loss: 0.7764 - accuracy: 0.6857\n",
            "Epoch 34/50\n",
            "24/24 [==============================] - 3s 138ms/step - loss: 0.7498 - accuracy: 0.7028\n",
            "Epoch 35/50\n",
            "24/24 [==============================] - 3s 137ms/step - loss: 0.7327 - accuracy: 0.7112\n",
            "Epoch 36/50\n",
            "24/24 [==============================] - 3s 135ms/step - loss: 0.7274 - accuracy: 0.7138\n",
            "Epoch 37/50\n",
            "24/24 [==============================] - 3s 137ms/step - loss: 0.7295 - accuracy: 0.7150\n",
            "Epoch 38/50\n",
            "24/24 [==============================] - 3s 138ms/step - loss: 0.7241 - accuracy: 0.7179\n",
            "Epoch 39/50\n",
            "24/24 [==============================] - 3s 140ms/step - loss: 0.7300 - accuracy: 0.7157\n",
            "Epoch 40/50\n",
            "24/24 [==============================] - 3s 142ms/step - loss: 0.7374 - accuracy: 0.7091\n",
            "Epoch 41/50\n",
            "24/24 [==============================] - 3s 137ms/step - loss: 0.7300 - accuracy: 0.7133\n",
            "Epoch 42/50\n",
            "24/24 [==============================] - 3s 138ms/step - loss: 0.7096 - accuracy: 0.7188\n",
            "Epoch 43/50\n",
            "24/24 [==============================] - 3s 138ms/step - loss: 0.6939 - accuracy: 0.7338\n",
            "Epoch 44/50\n",
            "24/24 [==============================] - 3s 136ms/step - loss: 0.7025 - accuracy: 0.7262\n",
            "Epoch 45/50\n",
            "24/24 [==============================] - 3s 136ms/step - loss: 0.7222 - accuracy: 0.7147\n",
            "Epoch 46/50\n",
            "24/24 [==============================] - 3s 137ms/step - loss: 0.6921 - accuracy: 0.7327\n",
            "Epoch 47/50\n",
            "24/24 [==============================] - 3s 135ms/step - loss: 0.6814 - accuracy: 0.7373\n",
            "Epoch 48/50\n",
            "24/24 [==============================] - 3s 138ms/step - loss: 0.6759 - accuracy: 0.7390\n",
            "Epoch 49/50\n",
            "24/24 [==============================] - 3s 139ms/step - loss: 0.6904 - accuracy: 0.7343\n",
            "Epoch 50/50\n",
            "24/24 [==============================] - 3s 134ms/step - loss: 0.6848 - accuracy: 0.7377\n",
            "24/24 [==============================] - 2s 76ms/step - loss: 0.7049 - accuracy: 0.7291\n",
            "[0.7049347162246704, 0.7290833592414856]\n",
            "GLOVE_LSTM\n"
          ],
          "name": "stdout"
        }
      ]
    },
    {
      "cell_type": "code",
      "metadata": {
        "colab": {
          "base_uri": "https://localhost:8080/"
        },
        "id": "fKM9PEwm1fkb",
        "outputId": "1f78cd65-1aee-4353-d768-cd10d136ac44"
      },
      "source": [
        "model_glove_bi = tf.keras.Sequential()\r\n",
        "model_glove_bi.add(tf.keras.Input(shape=(Max_input_size,100)))\r\n",
        "model_glove_bi.add(tf.keras.layers.Bidirectional(tf.keras.layers.LSTM(50),merge_mode='concat'))\r\n",
        "model_glove_bi.add(tf.keras.layers.Dense(4, activation='softmax'))\r\n",
        "model_glove_bi.compile(loss='categorical_crossentropy',optimizer='adam', \r\n",
        "                           metrics=['accuracy'])\r\n",
        "history_glove_bi = model_glove_bi.fit_generator(generator = glove_gen(vocab_glove,X_train,y_train,batch_size,Max_input_size,Embedding_size),steps_per_epoch=int(len(X_train)/batch_size),epochs=epochs)\r\n",
        "history = model_glove_bi.evaluate(x = glove_gen(vocab_glove,X_test,y_test,batch_size,Max_input_size,Embedding_size),steps=int(len(y_test)/batch_size))\r\n",
        "print(history)\r\n",
        "\r\n",
        "result_table[7]=history[1]\r\n",
        "print(\"GLOVE_BI\")"
      ],
      "execution_count": 21,
      "outputs": [
        {
          "output_type": "stream",
          "text": [
            "Epoch 1/50\n",
            "24/24 [==============================] - 6s 240ms/step - loss: 1.0785 - accuracy: 0.5781\n",
            "Epoch 2/50\n",
            "24/24 [==============================] - 6s 244ms/step - loss: 0.9644 - accuracy: 0.5867\n",
            "Epoch 3/50\n",
            "24/24 [==============================] - 6s 242ms/step - loss: 0.9415 - accuracy: 0.5893\n",
            "Epoch 4/50\n",
            "24/24 [==============================] - 6s 244ms/step - loss: 0.9194 - accuracy: 0.5966\n",
            "Epoch 5/50\n",
            "24/24 [==============================] - 6s 245ms/step - loss: 0.9066 - accuracy: 0.6034\n",
            "Epoch 6/50\n",
            "24/24 [==============================] - 6s 245ms/step - loss: 0.8953 - accuracy: 0.6075\n",
            "Epoch 7/50\n",
            "24/24 [==============================] - 6s 245ms/step - loss: 0.8870 - accuracy: 0.6143\n",
            "Epoch 8/50\n",
            "24/24 [==============================] - 6s 248ms/step - loss: 0.8795 - accuracy: 0.6168\n",
            "Epoch 9/50\n",
            "24/24 [==============================] - 6s 244ms/step - loss: 0.8722 - accuracy: 0.6195\n",
            "Epoch 10/50\n",
            "24/24 [==============================] - 6s 244ms/step - loss: 0.8658 - accuracy: 0.6242\n",
            "Epoch 11/50\n",
            "24/24 [==============================] - 6s 245ms/step - loss: 0.8595 - accuracy: 0.6277\n",
            "Epoch 12/50\n",
            "24/24 [==============================] - 6s 243ms/step - loss: 0.8528 - accuracy: 0.6323\n",
            "Epoch 13/50\n",
            "24/24 [==============================] - 6s 243ms/step - loss: 0.8446 - accuracy: 0.6374\n",
            "Epoch 14/50\n",
            "24/24 [==============================] - 6s 246ms/step - loss: 0.8357 - accuracy: 0.6417\n",
            "Epoch 15/50\n",
            "24/24 [==============================] - 6s 242ms/step - loss: 0.8269 - accuracy: 0.6462\n",
            "Epoch 16/50\n",
            "24/24 [==============================] - 6s 246ms/step - loss: 0.8183 - accuracy: 0.6543\n",
            "Epoch 17/50\n",
            "24/24 [==============================] - 6s 247ms/step - loss: 0.8119 - accuracy: 0.6621\n",
            "Epoch 18/50\n",
            "24/24 [==============================] - 6s 249ms/step - loss: 0.8048 - accuracy: 0.6643\n",
            "Epoch 19/50\n",
            "24/24 [==============================] - 6s 243ms/step - loss: 0.7911 - accuracy: 0.6684\n",
            "Epoch 20/50\n",
            "24/24 [==============================] - 6s 242ms/step - loss: 0.7762 - accuracy: 0.6775\n",
            "Epoch 21/50\n",
            "24/24 [==============================] - 6s 243ms/step - loss: 0.7641 - accuracy: 0.6864\n",
            "Epoch 22/50\n",
            "24/24 [==============================] - 6s 245ms/step - loss: 0.7635 - accuracy: 0.6879\n",
            "Epoch 23/50\n",
            "24/24 [==============================] - 6s 248ms/step - loss: 0.7628 - accuracy: 0.6888\n",
            "Epoch 24/50\n",
            "24/24 [==============================] - 6s 242ms/step - loss: 0.7542 - accuracy: 0.6878\n",
            "Epoch 25/50\n",
            "24/24 [==============================] - 6s 246ms/step - loss: 0.7478 - accuracy: 0.6904\n",
            "Epoch 26/50\n",
            "24/24 [==============================] - 6s 243ms/step - loss: 0.7286 - accuracy: 0.7030\n",
            "Epoch 27/50\n",
            "24/24 [==============================] - 6s 244ms/step - loss: 0.7091 - accuracy: 0.7158\n",
            "Epoch 28/50\n",
            "24/24 [==============================] - 6s 244ms/step - loss: 0.7022 - accuracy: 0.7187\n",
            "Epoch 29/50\n",
            "24/24 [==============================] - 6s 243ms/step - loss: 0.6992 - accuracy: 0.7175\n",
            "Epoch 30/50\n",
            "24/24 [==============================] - 6s 245ms/step - loss: 0.7080 - accuracy: 0.7063\n",
            "Epoch 31/50\n",
            "24/24 [==============================] - 6s 244ms/step - loss: 0.6788 - accuracy: 0.7313\n",
            "Epoch 32/50\n",
            "24/24 [==============================] - 6s 245ms/step - loss: 0.6520 - accuracy: 0.7449\n",
            "Epoch 33/50\n",
            "24/24 [==============================] - 6s 250ms/step - loss: 0.6322 - accuracy: 0.7547\n",
            "Epoch 34/50\n",
            "24/24 [==============================] - 6s 247ms/step - loss: 0.6142 - accuracy: 0.7632\n",
            "Epoch 35/50\n",
            "24/24 [==============================] - 6s 245ms/step - loss: 0.6018 - accuracy: 0.7701\n",
            "Epoch 36/50\n",
            "24/24 [==============================] - 6s 245ms/step - loss: 0.5913 - accuracy: 0.7707\n",
            "Epoch 37/50\n",
            "24/24 [==============================] - 6s 245ms/step - loss: 0.5845 - accuracy: 0.7754\n",
            "Epoch 38/50\n",
            "24/24 [==============================] - 6s 244ms/step - loss: 0.6021 - accuracy: 0.7628\n",
            "Epoch 39/50\n",
            "24/24 [==============================] - 6s 245ms/step - loss: 0.5732 - accuracy: 0.7799\n",
            "Epoch 40/50\n",
            "24/24 [==============================] - 6s 243ms/step - loss: 0.5599 - accuracy: 0.7866\n",
            "Epoch 41/50\n",
            "24/24 [==============================] - 6s 242ms/step - loss: 0.5535 - accuracy: 0.7885\n",
            "Epoch 42/50\n",
            "24/24 [==============================] - 6s 242ms/step - loss: 0.5906 - accuracy: 0.7642\n",
            "Epoch 43/50\n",
            "24/24 [==============================] - 6s 244ms/step - loss: 0.6105 - accuracy: 0.7574\n",
            "Epoch 44/50\n",
            "24/24 [==============================] - 6s 247ms/step - loss: 0.5872 - accuracy: 0.7673\n",
            "Epoch 45/50\n",
            "24/24 [==============================] - 6s 248ms/step - loss: 0.5366 - accuracy: 0.7991\n",
            "Epoch 46/50\n",
            "24/24 [==============================] - 6s 251ms/step - loss: 0.5005 - accuracy: 0.8159\n",
            "Epoch 47/50\n",
            "24/24 [==============================] - 6s 245ms/step - loss: 0.4751 - accuracy: 0.8288\n",
            "Epoch 48/50\n",
            "24/24 [==============================] - 6s 245ms/step - loss: 0.4555 - accuracy: 0.8372\n",
            "Epoch 49/50\n",
            "24/24 [==============================] - 6s 249ms/step - loss: 0.4382 - accuracy: 0.8456\n",
            "Epoch 50/50\n",
            "24/24 [==============================] - 6s 245ms/step - loss: 0.4354 - accuracy: 0.8462\n",
            "24/24 [==============================] - 3s 123ms/step - loss: 0.5365 - accuracy: 0.7957\n",
            "[0.536524772644043, 0.7956666946411133]\n",
            "GLOVE_BI\n"
          ],
          "name": "stdout"
        }
      ]
    },
    {
      "cell_type": "code",
      "metadata": {
        "colab": {
          "base_uri": "https://localhost:8080/"
        },
        "id": "RQBa5s4s1hNU",
        "outputId": "047c1540-e417-4508-f4b8-6f882766d20a"
      },
      "source": [
        "model_glove_rnn = tf.keras.Sequential()\r\n",
        "model_glove_rnn.add(tf.keras.Input(shape=(Max_input_size,100)))\r\n",
        "model_glove_rnn.add(tf.keras.layers.SimpleRNN(50))\r\n",
        "model_glove_rnn.add(tf.keras.layers.Dense(4, activation='softmax'))\r\n",
        "model_glove_rnn.compile(loss='categorical_crossentropy',optimizer='adam', \r\n",
        "                           metrics=['accuracy'])\r\n",
        "history_glove_rnn = model_glove_rnn.fit_generator(generator = glove_gen(vocab_glove,X_train,y_train,batch_size,Max_input_size,Embedding_size),steps_per_epoch=int(len(X_train)/batch_size),epochs=epochs)\r\n",
        "history = model_glove_rnn.evaluate(x = glove_gen(vocab_glove,X_test,y_test,batch_size,Max_input_size,Embedding_size),steps=int(len(y_test)/batch_size))\r\n",
        "print(history)\r\n",
        "\r\n",
        "result_table[8]=history[1]\r\n",
        "print(\"GLOVE_RNN\")"
      ],
      "execution_count": 22,
      "outputs": [
        {
          "output_type": "stream",
          "text": [
            "Epoch 1/50\n",
            "24/24 [==============================] - 1s 61ms/step - loss: 1.0696 - accuracy: 0.5659\n",
            "Epoch 2/50\n",
            "24/24 [==============================] - 1s 59ms/step - loss: 0.9866 - accuracy: 0.5864\n",
            "Epoch 3/50\n",
            "24/24 [==============================] - 1s 60ms/step - loss: 0.9866 - accuracy: 0.5864\n",
            "Epoch 4/50\n",
            "24/24 [==============================] - 1s 60ms/step - loss: 0.9865 - accuracy: 0.5864\n",
            "Epoch 5/50\n",
            "24/24 [==============================] - 1s 60ms/step - loss: 0.9864 - accuracy: 0.5864\n",
            "Epoch 6/50\n",
            "24/24 [==============================] - 1s 60ms/step - loss: 0.9864 - accuracy: 0.5865\n",
            "Epoch 7/50\n",
            "24/24 [==============================] - 1s 59ms/step - loss: 0.9863 - accuracy: 0.5865\n",
            "Epoch 8/50\n",
            "24/24 [==============================] - 1s 59ms/step - loss: 0.9861 - accuracy: 0.5865\n",
            "Epoch 9/50\n",
            "24/24 [==============================] - 1s 59ms/step - loss: 0.9858 - accuracy: 0.5865\n",
            "Epoch 10/50\n",
            "24/24 [==============================] - 1s 59ms/step - loss: 0.9840 - accuracy: 0.5866\n",
            "Epoch 11/50\n",
            "24/24 [==============================] - 1s 60ms/step - loss: 0.9769 - accuracy: 0.5867\n",
            "Epoch 12/50\n",
            "24/24 [==============================] - 1s 59ms/step - loss: 0.9730 - accuracy: 0.5864\n",
            "Epoch 13/50\n",
            "24/24 [==============================] - 1s 60ms/step - loss: 0.9678 - accuracy: 0.5906\n",
            "Epoch 14/50\n",
            "24/24 [==============================] - 1s 59ms/step - loss: 0.9592 - accuracy: 0.5980\n",
            "Epoch 15/50\n",
            "24/24 [==============================] - 1s 60ms/step - loss: 0.9610 - accuracy: 0.5923\n",
            "Epoch 16/50\n",
            "24/24 [==============================] - 1s 59ms/step - loss: 0.9501 - accuracy: 0.5987\n",
            "Epoch 17/50\n",
            "24/24 [==============================] - 1s 59ms/step - loss: 0.9486 - accuracy: 0.5979\n",
            "Epoch 18/50\n",
            "24/24 [==============================] - 1s 60ms/step - loss: 0.9474 - accuracy: 0.6002\n",
            "Epoch 19/50\n",
            "24/24 [==============================] - 1s 59ms/step - loss: 0.9460 - accuracy: 0.6009\n",
            "Epoch 20/50\n",
            "24/24 [==============================] - 1s 59ms/step - loss: 0.9414 - accuracy: 0.6041\n",
            "Epoch 21/50\n",
            "24/24 [==============================] - 1s 58ms/step - loss: 0.9356 - accuracy: 0.6064\n",
            "Epoch 22/50\n",
            "24/24 [==============================] - 1s 58ms/step - loss: 0.9301 - accuracy: 0.6122\n",
            "Epoch 23/50\n",
            "24/24 [==============================] - 1s 60ms/step - loss: 0.9249 - accuracy: 0.6156\n",
            "Epoch 24/50\n",
            "24/24 [==============================] - 1s 59ms/step - loss: 0.9197 - accuracy: 0.6211\n",
            "Epoch 25/50\n",
            "24/24 [==============================] - 1s 62ms/step - loss: 0.9143 - accuracy: 0.6267\n",
            "Epoch 26/50\n",
            "24/24 [==============================] - 1s 60ms/step - loss: 0.9108 - accuracy: 0.6270\n",
            "Epoch 27/50\n",
            "24/24 [==============================] - 1s 60ms/step - loss: 0.9100 - accuracy: 0.6289\n",
            "Epoch 28/50\n",
            "24/24 [==============================] - 1s 59ms/step - loss: 0.9015 - accuracy: 0.6362\n",
            "Epoch 29/50\n",
            "24/24 [==============================] - 1s 60ms/step - loss: 0.9147 - accuracy: 0.6288\n",
            "Epoch 30/50\n",
            "24/24 [==============================] - 1s 60ms/step - loss: 0.9058 - accuracy: 0.6300\n",
            "Epoch 31/50\n",
            "24/24 [==============================] - 1s 58ms/step - loss: 0.8949 - accuracy: 0.6364\n",
            "Epoch 32/50\n",
            "24/24 [==============================] - 1s 61ms/step - loss: 0.8982 - accuracy: 0.6366\n",
            "Epoch 33/50\n",
            "24/24 [==============================] - 1s 59ms/step - loss: 0.8931 - accuracy: 0.6366\n",
            "Epoch 34/50\n",
            "24/24 [==============================] - 1s 59ms/step - loss: 0.8959 - accuracy: 0.6371\n",
            "Epoch 35/50\n",
            "24/24 [==============================] - 1s 59ms/step - loss: 0.8925 - accuracy: 0.6378\n",
            "Epoch 36/50\n",
            "24/24 [==============================] - 1s 59ms/step - loss: 0.8834 - accuracy: 0.6450\n",
            "Epoch 37/50\n",
            "24/24 [==============================] - 1s 59ms/step - loss: 0.8835 - accuracy: 0.6425\n",
            "Epoch 38/50\n",
            "24/24 [==============================] - 1s 59ms/step - loss: 0.8707 - accuracy: 0.6573\n",
            "Epoch 39/50\n",
            "24/24 [==============================] - 1s 58ms/step - loss: 0.8722 - accuracy: 0.6531\n",
            "Epoch 40/50\n",
            "24/24 [==============================] - 1s 59ms/step - loss: 0.8811 - accuracy: 0.6448\n",
            "Epoch 41/50\n",
            "24/24 [==============================] - 1s 59ms/step - loss: 0.8850 - accuracy: 0.6452\n",
            "Epoch 42/50\n",
            "24/24 [==============================] - 1s 59ms/step - loss: 0.8654 - accuracy: 0.6581\n",
            "Epoch 43/50\n",
            "24/24 [==============================] - 1s 60ms/step - loss: 0.8501 - accuracy: 0.6679\n",
            "Epoch 44/50\n",
            "24/24 [==============================] - 1s 58ms/step - loss: 0.8658 - accuracy: 0.6525\n",
            "Epoch 45/50\n",
            "24/24 [==============================] - 1s 60ms/step - loss: 0.8689 - accuracy: 0.6557\n",
            "Epoch 46/50\n",
            "24/24 [==============================] - 1s 59ms/step - loss: 0.8666 - accuracy: 0.6560\n",
            "Epoch 47/50\n",
            "24/24 [==============================] - 1s 62ms/step - loss: 0.8679 - accuracy: 0.6528\n",
            "Epoch 48/50\n",
            "24/24 [==============================] - 1s 60ms/step - loss: 0.8823 - accuracy: 0.6467\n",
            "Epoch 49/50\n",
            "24/24 [==============================] - 1s 60ms/step - loss: 0.8671 - accuracy: 0.6555\n",
            "Epoch 50/50\n",
            "24/24 [==============================] - 1s 59ms/step - loss: 0.8718 - accuracy: 0.6543\n",
            "24/24 [==============================] - 1s 47ms/step - loss: 0.9276 - accuracy: 0.6205\n",
            "[0.9275951981544495, 0.6205000281333923]\n",
            "GLOVE_RNN\n"
          ],
          "name": "stdout"
        }
      ]
    },
    {
      "cell_type": "code",
      "metadata": {
        "colab": {
          "base_uri": "https://localhost:8080/"
        },
        "id": "WZqN_SaM3hs9",
        "outputId": "1d20ae99-69d1-44c1-97a2-4664353279f2"
      },
      "source": [
        "print(\"\\tLstm\\t\\t\\tBiLstm\\t\\t\\tRnn\")\r\n",
        "print(\"sg\",result_table[:3])\r\n",
        "print(\"cbow\",result_table[3:6])\r\n",
        "print(\"glove\",result_table[6:9])"
      ],
      "execution_count": null,
      "outputs": [
        {
          "output_type": "stream",
          "text": [
            "\tLstm\t\t\tBiLstm\t\t\tRnn\n",
            "sg [0.5868333578109741, 0.5868333578109741, 0.5868333578109741]\n",
            "cbow [0.5868333578109741, 0.5868333578109741, 0.5868333578109741]\n",
            "glove [0.70333331823349, 0.7604166865348816, 0.6132500171661377]\n"
          ],
          "name": "stdout"
        }
      ]
    },
    {
      "cell_type": "code",
      "metadata": {
        "id": "1jPR-tBti_kc",
        "outputId": "edcc0c04-b3a6-455d-cfb0-be02f2f52bbb",
        "colab": {
          "base_uri": "https://localhost:8080/",
          "height": 295
        }
      },
      "source": [
        "plt.title(\"Skip-Gram + Bi-LSTM accuracy and loss vs epochs Graph\")\n",
        "plt.plot(history_sg_bi.history['loss'],c='b',label='loss')\n",
        "plt.plot(history_sg_bi.history['accuracy'],c='r',label='accuracy')\n",
        "plt.xlabel('epochs')\n",
        "plt.legend()\n",
        "# plt.yticks()\n",
        "plt.show()"
      ],
      "execution_count": 23,
      "outputs": [
        {
          "output_type": "display_data",
          "data": {
            "image/png": "[encoded data removed]",
            "text/plain": [
              "<Figure size 432x288 with 1 Axes>"
            ]
          },
          "metadata": {
            "tags": [],
            "needs_background": "light"
          }
        }
      ]
    },
    {
      "cell_type": "code",
      "metadata": {
        "id": "8_Q-GUjRjIrK",
        "outputId": "c9c552f2-7b75-41cf-fa74-9de1f57e3f4b",
        "colab": {
          "base_uri": "https://localhost:8080/",
          "height": 295
        }
      },
      "source": [
        "plt.title(\"Skip-Gram + Bi-LSTM accuracy and loss vs epochs Graph\")\n",
        "plt.plot(history_sg_LSTM.history['loss'],c='b',label='loss')\n",
        "plt.plot(history_sg_LSTM.history['accuracy'],c='r',label='accuracy')\n",
        "plt.xlabel('epochs')\n",
        "plt.legend()\n",
        "# plt.yticks()\n",
        "plt.show()"
      ],
      "execution_count": 24,
      "outputs": [
        {
          "output_type": "display_data",
          "data": {
            "image/png": "[encoded data removed]",
            "text/plain": [
              "<Figure size 432x288 with 1 Axes>"
            ]
          },
          "metadata": {
            "tags": [],
            "needs_background": "light"
          }
        }
      ]
    },
    {
      "cell_type": "code",
      "metadata": {
        "id": "46z71QczjW_S",
        "outputId": "52293f3f-0636-4c56-d1b1-fe1c6b4edda8",
        "colab": {
          "base_uri": "https://localhost:8080/",
          "height": 295
        }
      },
      "source": [
        "plt.title(\"Skip-Gram + Bi-LSTM accuracy and loss vs epochs Graph\")\n",
        "plt.plot(history_sg_rnn.history['loss'],c='b',label='loss')\n",
        "plt.plot(history_sg_rnn.history['accuracy'],c='r',label='accuracy')\n",
        "plt.xlabel('epochs')\n",
        "plt.legend()\n",
        "# plt.yticks()\n",
        "plt.show()"
      ],
      "execution_count": 25,
      "outputs": [
        {
          "output_type": "display_data",
          "data": {
            "image/png": "[encoded data removed]",
            "text/plain": [
              "<Figure size 432x288 with 1 Axes>"
            ]
          },
          "metadata": {
            "tags": [],
            "needs_background": "light"
          }
        }
      ]
    },
    {
      "cell_type": "code",
      "metadata": {
        "id": "N02_jE7LjZtC",
        "outputId": "9fe86abd-7635-4c5f-a875-7532aeff8330",
        "colab": {
          "base_uri": "https://localhost:8080/",
          "height": 295
        }
      },
      "source": [
        "plt.title(\"Skip-Gram + Bi-LSTM accuracy and loss vs epochs Graph\")\n",
        "plt.plot(history_cbow_LSTM.history['loss'],c='b',label='loss')\n",
        "plt.plot(history_cbow_LSTM.history['accuracy'],c='r',label='accuracy')\n",
        "plt.xlabel('epochs')\n",
        "plt.legend()\n",
        "# plt.yticks()\n",
        "plt.show()"
      ],
      "execution_count": 26,
      "outputs": [
        {
          "output_type": "display_data",
          "data": {
            "image/png": "[encoded data removed]",
            "text/plain": [
              "<Figure size 432x288 with 1 Axes>"
            ]
          },
          "metadata": {
            "tags": [],
            "needs_background": "light"
          }
        }
      ]
    },
    {
      "cell_type": "code",
      "metadata": {
        "id": "zMUFOOaMjeRe",
        "outputId": "17a8b0e4-00fd-4281-e83c-9f24904aab76",
        "colab": {
          "base_uri": "https://localhost:8080/",
          "height": 295
        }
      },
      "source": [
        "plt.title(\"Skip-Gram + Bi-LSTM accuracy and loss vs epochs Graph\")\n",
        "plt.plot(history_cbow_bi.history['loss'],c='b',label='loss')\n",
        "plt.plot(history_cbow_bi.history['accuracy'],c='r',label='accuracy')\n",
        "plt.xlabel('epochs')\n",
        "plt.legend()\n",
        "# plt.yticks()\n",
        "plt.show()"
      ],
      "execution_count": 27,
      "outputs": [
        {
          "output_type": "display_data",
          "data": {
            "image/png": "[encoded data removed]",
            "text/plain": [
              "<Figure size 432x288 with 1 Axes>"
            ]
          },
          "metadata": {
            "tags": [],
            "needs_background": "light"
          }
        }
      ]
    },
    {
      "cell_type": "code",
      "metadata": {
        "id": "t78qWIibjjad",
        "outputId": "e0b01a03-2293-4663-c7f0-d0b326d394b4",
        "colab": {
          "base_uri": "https://localhost:8080/",
          "height": 295
        }
      },
      "source": [
        "plt.title(\"Skip-Gram + Bi-LSTM accuracy and loss vs epochs Graph\")\n",
        "plt.plot(history_cbow_rnn.history['loss'],c='b',label='loss')\n",
        "plt.plot(history_cbow_rnn.history['accuracy'],c='r',label='accuracy')\n",
        "plt.xlabel('epochs')\n",
        "plt.legend()\n",
        "# plt.yticks()\n",
        "plt.show()"
      ],
      "execution_count": 28,
      "outputs": [
        {
          "output_type": "display_data",
          "data": {
            "image/png": "[encoded data removed]",
            "text/plain": [
              "<Figure size 432x288 with 1 Axes>"
            ]
          },
          "metadata": {
            "tags": [],
            "needs_background": "light"
          }
        }
      ]
    },
    {
      "cell_type": "code",
      "metadata": {
        "id": "vW8oDj-Kjmwu",
        "outputId": "7fab2d3b-5196-4fc4-a1b3-1e9cfab73b13",
        "colab": {
          "base_uri": "https://localhost:8080/",
          "height": 295
        }
      },
      "source": [
        "plt.title(\"Skip-Gram + Bi-LSTM accuracy and loss vs epochs Graph\")\n",
        "plt.plot(history_glove_LSTM.history['loss'],c='b',label='loss')\n",
        "plt.plot(history_glove_LSTM.history['accuracy'],c='r',label='accuracy')\n",
        "plt.xlabel('epochs')\n",
        "plt.legend()\n",
        "# plt.yticks()\n",
        "plt.show()"
      ],
      "execution_count": 29,
      "outputs": [
        {
          "output_type": "display_data",
          "data": {
            "image/png": "[encoded data removed]",
            "text/plain": [
              "<Figure size 432x288 with 1 Axes>"
            ]
          },
          "metadata": {
            "tags": [],
            "needs_background": "light"
          }
        }
      ]
    },
    {
      "cell_type": "code",
      "metadata": {
        "id": "P6dpGc6Kjs5L",
        "outputId": "7888f8d8-9861-40ed-b1db-f7931cfb8a45",
        "colab": {
          "base_uri": "https://localhost:8080/",
          "height": 295
        }
      },
      "source": [
        "plt.title(\"Skip-Gram + Bi-LSTM accuracy and loss vs epochs Graph\")\n",
        "plt.plot(history_glove_bi.history['loss'],c='b',label='loss')\n",
        "plt.plot(history_glove_bi.history['accuracy'],c='r',label='accuracy')\n",
        "plt.xlabel('epochs')\n",
        "plt.legend()\n",
        "# plt.yticks()\n",
        "plt.show()"
      ],
      "execution_count": 30,
      "outputs": [
        {
          "output_type": "display_data",
          "data": {
            "image/png": "[encoded data removed]",
            "text/plain": [
              "<Figure size 432x288 with 1 Axes>"
            ]
          },
          "metadata": {
            "tags": [],
            "needs_background": "light"
          }
        }
      ]
    },
    {
      "cell_type": "code",
      "metadata": {
        "id": "7N4-LgODjwZt",
        "outputId": "e0f5be60-af3a-4404-fd70-473564c600f2",
        "colab": {
          "base_uri": "https://localhost:8080/",
          "height": 295
        }
      },
      "source": [
        "plt.title(\"Skip-Gram + Bi-LSTM accuracy and loss vs epochs Graph\")\n",
        "plt.plot(history_glove_rnn.history['loss'],c='b',label='loss')\n",
        "plt.plot(history_glove_rnn.history['accuracy'],c='r',label='accuracy')\n",
        "plt.xlabel('epochs')\n",
        "plt.legend()\n",
        "# plt.yticks()\n",
        "plt.show()"
      ],
      "execution_count": 31,
      "outputs": [
        {
          "output_type": "display_data",
          "data": {
            "image/png": "[encoded data removed]",
            "text/plain": [
              "<Figure size 432x288 with 1 Axes>"
            ]
          },
          "metadata": {
            "tags": [],
            "needs_background": "light"
          }
        }
      ]
    },
    {
      "cell_type": "code",
      "metadata": {
        "id": "fa0wttyjj271"
      },
      "source": [
        ""
      ],
      "execution_count": null,
      "outputs": []
    }
  ]
}