{
  "nbformat": 4,
  "nbformat_minor": 0,
  "metadata": {
    "colab": {
      "name": "BILSTM+GLOVE.ipynb",
      "private_outputs": true,
      "provenance": [],
      "toc_visible": true,
      "include_colab_link": true
    },
    "kernelspec": {
      "name": "python3",
      "display_name": "Python 3"
    }
  },
  "cells": [
    {
      "cell_type": "markdown",
      "metadata": {
        "id": "view-in-github",
        "colab_type": "text"
      },
      "source": [
        "<a href=\"https://colab.research.google.com/github/harrymkwn/InfluenceAnalysis/blob/master/BILSTM%2BGLOVE.ipynb\" target=\"_parent\"><img src=\"https://colab.research.google.com/assets/colab-badge.svg\" alt=\"Open In Colab\"/></a>"
      ]
    },
    {
      "cell_type": "code",
      "metadata": {
        "id": "jCK8flM4mA9Y"
      },
      "source": [
        "import pandas as pd\n",
        "import numpy as np\n",
        "import tensorflow as tf\n",
        "from gensim.models import Word2Vec\n",
        "import matplotlib.pyplot as plt\n",
        "from sklearn.linear_model import LogisticRegression\n",
        "from sklearn.multiclass import OneVsRestClassifier\n",
        "from gensim.models import KeyedVectors\n",
        "from sklearn.model_selection import train_test_split\n",
        "from google.colab import  drive\n",
        "drive.mount('/content/drive')\n",
        "import nltk\n",
        "from nltk.corpus import stopwords\n",
        "nltk.download('stopwords')\n",
        "device_name = tf.test.gpu_device_name()\n",
        "print(device_name)\n",
        "# df_train = pd.read_csv('/content/SA-emotion-train_val_test_clean_tweets.csv')\n",
        "df = pd.read_csv('/content/SA-emotion-train_val_test_clean_tweetsekphrasis.csv', sep='\\t')\n",
        "# df_train = df_train.sample(frac=1)\n",
        "df = df.sample(frac=1)"
      ],
      "execution_count": null,
      "outputs": []
    },
    {
      "cell_type": "code",
      "metadata": {
        "id": "SDHhAIkymj2Z"
      },
      "source": [
        "drive.mount('/content/drive')"
      ],
      "execution_count": null,
      "outputs": []
    },
    {
      "cell_type": "code",
      "metadata": {
        "id": "5ZbrUDbiu0KI"
      },
      "source": [
        "nltk.download('all')"
      ],
      "execution_count": null,
      "outputs": []
    },
    {
      "cell_type": "code",
      "metadata": {
        "id": "qlCyAlTsm_WQ"
      },
      "source": [
        "df.head()"
      ],
      "execution_count": null,
      "outputs": []
    },
    {
      "cell_type": "code",
      "metadata": {
        "id": "zo3-PB9bnWCo"
      },
      "source": [
        "df.emotion.unique()"
      ],
      "execution_count": null,
      "outputs": []
    },
    {
      "cell_type": "code",
      "metadata": {
        "id": "Zozz7FFvrMfJ"
      },
      "source": [
        "category_dict = {0:[1,0,0,0,0],1:[0,1,0,0,0],2:[0,0,1,0,0],3:[0,0,0,1,0],4:[0,0,0,0,1]}\n",
        "data_tweet = [x.lower().split() for x in df['tweets']]\n",
        "data_cat = np.array([category_dict[x] for x in df['emotion']])\n",
        "data_tweet = data_tweet"
      ],
      "execution_count": null,
      "outputs": []
    },
    {
      "cell_type": "code",
      "metadata": {
        "id": "IMSW3SK1r4Fs"
      },
      "source": [
        "X_train_data, X_test_data, y_train_data, y_test_data = train_test_split(data_tweet, data_cat, test_size=0.2, random_state=42)\n",
        "X_train_data, X_val_data, y_train_data, y_val_data = train_test_split(X_train_data, y_train_data, test_size=0.2, random_state=42)"
      ],
      "execution_count": null,
      "outputs": []
    },
    {
      "cell_type": "markdown",
      "metadata": {
        "id": "vI4VhL82swfq"
      },
      "source": [
        "#Glove"
      ]
    },
    {
      "cell_type": "code",
      "metadata": {
        "id": "XiuiMa4VsbCX"
      },
      "source": [
        "vocab_glove = {}\n",
        "with open(\"/content/drive/My Drive/InfluenceAnalysis/glove/glove.twitter.27B.200d.txt\", 'r', encoding=\"utf-8\") as f:\n",
        "  for line in f:\n",
        "      values = line.split()\n",
        "      word = values[0]\n",
        "      vector = np.asarray(values[1:], \"float32\")\n",
        "      vocab_glove[word] = vector"
      ],
      "execution_count": null,
      "outputs": []
    },
    {
      "cell_type": "code",
      "metadata": {
        "id": "3DBlpX4EtDo0"
      },
      "source": [
        "batch_size = 500\n",
        "Max_input_size = max([len(x) for x in data_tweet])\n",
        "mul_factor=1.5"
      ],
      "execution_count": null,
      "outputs": []
    },
    {
      "cell_type": "code",
      "metadata": {
        "id": "3AtS3GYA2Erd"
      },
      "source": [
        "positive = pd.read_csv('/content/drive/My Drive/InfluenceAnalysis/CodeMix/positive-words.csv')\r\n",
        "positive = list(positive['0'][1:])\r\n",
        "negative = pd.read_csv('/content/drive/My Drive/InfluenceAnalysis/CodeMix/negative-words.csv')\r\n",
        "negative = list(negative['0'][2:])\r\n",
        "pn_dict = {}\r\n",
        "for i in range(len(positive)):\r\n",
        "  pn_dict[positive[i]] = 1\r\n",
        "for i in range(len(negative)):\r\n",
        "  pn_dict[negative[i]] = -1"
      ],
      "execution_count": null,
      "outputs": []
    },
    {
      "cell_type": "code",
      "metadata": {
        "id": "-lEGPRogtXFK"
      },
      "source": [
        "X_train_norm = X_train_data\n",
        "X_test_norm = X_test_data\n",
        "X_val_norm = X_val_data\n",
        "X_train_mult = [nltk.pos_tag(x) for x in X_train_data]\n",
        "X_test_mult = [nltk.pos_tag(x) for x in X_test_data]\n",
        "X_val_mult = [nltk.pos_tag(x) for x in X_val_data]\n",
        "X_train_negpos = [[(i[0],i[1],pn_dict.get(i[0],1)) for i in x] for x in X_train_mult]\n",
        "X_test_negpos = [[(i[0],i[1],pn_dict.get(i[0],1)) for i in x] for x in X_test_mult]\n",
        "X_val_negpos = [[(i[0],i[1],pn_dict.get(i[0],1)) for i in x] for x in X_val_mult]\n",
        "\n",
        "y_train = y_train_data\n",
        "y_test = y_test_data\n",
        "y_val = y_val_data\n"
      ],
      "execution_count": null,
      "outputs": []
    },
    {
      "cell_type": "markdown",
      "metadata": {
        "id": "8tOlgibExp-B"
      },
      "source": [
        "#Normal"
      ]
    },
    {
      "cell_type": "code",
      "metadata": {
        "id": "jJmHQQ3XxrwM"
      },
      "source": [
        "def glove_gen_norm(vocab,data_tweet,data_cat,batch_size,Max_input_size,Embedding_size=100):\n",
        "  while True:\n",
        "    for k in range(int(len(data_tweet)/batch_size)):\n",
        "      temp = np.array([np.array([vocab[i] for i in x if i in vocab.keys()]) for x in data_tweet[k*(batch_size):(k+1)*(batch_size)]])\n",
        "      temp = np.array([np.pad(x.flatten(),(0,Max_input_size*Embedding_size-len(x.flatten()))).reshape(Max_input_size,Embedding_size) for x in temp])\n",
        "      tempres = data_cat[k*(batch_size):(k+1)*(batch_size)]\n",
        "      yield (temp,tempres)"
      ],
      "execution_count": null,
      "outputs": []
    },
    {
      "cell_type": "code",
      "metadata": {
        "id": "luIaqCyzV0Qr"
      },
      "source": [
        "epochs=27\n",
        "Embedding_size=200\n",
        "model = tf.keras.Sequential()\n",
        "model.add(tf.keras.Input(shape=(Max_input_size,Embedding_size)))\n",
        "model.add(tf.keras.layers.Bidirectional(tf.keras.layers.LSTM(50),merge_mode='concat'))\n",
        "model.add(tf.keras.layers.Dropout(0.2))\n",
        "model.add(tf.keras.layers.Dense(64,activation='relu'))\n",
        "model.add(tf.keras.layers.Dropout(0.2))\n",
        "model.add(tf.keras.layers.Dense(5, activation='softmax'))\n",
        "model.compile(loss='categorical_crossentropy',optimizer='adam', metrics=['accuracy'])\n",
        "\n",
        "# validation_generator = glove_gen(vocab_glove,X_val,y_val,batch_size,Max_input_size,Embedding_size,mul_factor)\n",
        "train_generator = glove_gen_norm(vocab_glove,X_train_norm,y_train,batch_size,Max_input_size,Embedding_size)\n",
        "val_generator = glove_gen_norm(vocab_glove,X_val_norm,y_val,batch_size,Max_input_size,Embedding_size)\n",
        "history_norm = model.fit(train_generator,validation_data=val_generator, validation_steps=100,steps_per_epoch=int(len(X_train_norm)/batch_size),epochs=epochs)\n",
        "history_norm_eval = model.evaluate(x = glove_gen_norm(vocab_glove,X_test_norm,y_test,batch_size,Max_input_size,Embedding_size),steps=int(len(y_test)/batch_size))\n"
      ],
      "execution_count": null,
      "outputs": []
    },
    {
      "cell_type": "code",
      "metadata": {
        "id": "eoZI00ENDdr7"
      },
      "source": [
        "print(history_norm.history['loss'])\r\n",
        "print(history_norm.history['accuracy'])\r\n",
        "print(history_norm.history['val_accuracy'])\r\n"
      ],
      "execution_count": null,
      "outputs": []
    },
    {
      "cell_type": "code",
      "metadata": {
        "id": "-kmmzwnyDLoM"
      },
      "source": [
        "plt.title(\"Normal: training_accuracy, validation_accuracy vs epochs\")\r\n",
        "plt.plot(history_norm.history['accuracy'],c='r',label='training_accuracy')\r\n",
        "plt.plot(history_norm.history['val_accuracy'],c='b',label='validation_accuracy')\r\n",
        "plt.xlabel('epochs')\r\n",
        "plt.legend()\r\n",
        "# plt.yticks()\r\n",
        "plt.show()\r\n",
        "print(history_norm_eval)"
      ],
      "execution_count": null,
      "outputs": []
    },
    {
      "cell_type": "markdown",
      "metadata": {
        "id": "pBeZxdcS71H2"
      },
      "source": [
        "Mult"
      ]
    },
    {
      "cell_type": "code",
      "metadata": {
        "id": "hcTh0tWC73lL"
      },
      "source": [
        "def glove_gen_mult(vocab,data_tweet,data_cat,batch_size,Max_input_size,Embedding_size,mul_factor):\r\n",
        "  while True:\r\n",
        "    for k in range(int(len(data_tweet)/batch_size)):\r\n",
        "      res=[]\r\n",
        "      for x in data_tweet[k*(batch_size):(k+1)*(batch_size)]:\r\n",
        "        tweet = [(vocab[i[0]],i[1]) for i in x if i[0] in vocab.keys()]\r\n",
        "        l=len(tweet)\r\n",
        "        for i in range(l):\r\n",
        "          if tweet[i][1][:2]=='JJ' or tweet[i][1][:2]=='RB':\r\n",
        "            tweet[i]=((tweet[i][0])*mul_factor,tweet[i][1])\r\n",
        "        res+=[np.array([x[0] for x in tweet])]\r\n",
        "      temp = np.array([np.pad(z.flatten(),(0,Max_input_size*Embedding_size-len(z.flatten()))).reshape(Max_input_size,Embedding_size) for z in res])\r\n",
        "      tempres = data_cat[k*(batch_size):(k+1)*(batch_size)]\r\n",
        "      yield (temp,tempres)"
      ],
      "execution_count": null,
      "outputs": []
    },
    {
      "cell_type": "code",
      "metadata": {
        "id": "59NR_7WM8xtj"
      },
      "source": [
        "epochs=27\r\n",
        "Embedding_size=200\r\n",
        "model_mult = tf.keras.Sequential()\r\n",
        "model_mult.add(tf.keras.Input(shape=(Max_input_size,Embedding_size)))\r\n",
        "model_mult.add(tf.keras.layers.Bidirectional(tf.keras.layers.LSTM(50),merge_mode='concat'))\r\n",
        "model_mult.add(tf.keras.layers.Dropout(0.2))\r\n",
        "model_mult.add(tf.keras.layers.Dense(64,activation='relu'))\r\n",
        "model_mult.add(tf.keras.layers.Dropout(0.2))\r\n",
        "model_mult.add(tf.keras.layers.Dense(5, activation='softmax'))\r\n",
        "model_mult.compile(loss='categorical_crossentropy',optimizer='adam', metrics=['accuracy'])\r\n",
        "\r\n",
        "# validation_generator = glove_gen(vocab_glove,X_val,y_val,batch_size,Max_input_size,Embedding_size,mul_factor)\r\n",
        "train_generator = glove_gen_mult(vocab_glove,X_train_mult,y_train,batch_size,Max_input_size,Embedding_size,mul_factor)\r\n",
        "val_generator = glove_gen_mult(vocab_glove,X_val_mult,y_val,batch_size,Max_input_size,Embedding_size,mul_factor)\r\n",
        "history_mult = model_mult.fit(train_generator,validation_data=val_generator, validation_steps=100,steps_per_epoch=int(len(X_train_norm)/batch_size),epochs=epochs)\r\n",
        "history_mult_eval = model_mult.evaluate(x = glove_gen_mult(vocab_glove,X_test_mult,y_test,batch_size,Max_input_size,Embedding_size,mul_factor),steps=int(len(y_test)/batch_size))\r\n"
      ],
      "execution_count": null,
      "outputs": []
    },
    {
      "cell_type": "code",
      "metadata": {
        "id": "yBAVgvDzEZwG"
      },
      "source": [
        "plt.title(\"Mult: training_accuracy, validation_accuracy vs epochs\")\r\n",
        "plt.plot(history_mult.history['accuracy'],c='r',label='training_accuracy')\r\n",
        "plt.plot(history_mult.history['val_accuracy'],c='b',label='validation_accuracy')\r\n",
        "plt.xlabel('epochs')\r\n",
        "plt.legend()\r\n",
        "# plt.yticks()\r\n",
        "plt.show()\r\n",
        "print(history_mult_eval)"
      ],
      "execution_count": null,
      "outputs": []
    },
    {
      "cell_type": "markdown",
      "metadata": {
        "id": "5gf6EB6F-NEt"
      },
      "source": [
        "mult+negpos"
      ]
    },
    {
      "cell_type": "code",
      "metadata": {
        "id": "drT4dYHs-P6L"
      },
      "source": [
        "def glove_gen_negpos(vocab,data_tweet,data_cat,batch_size,Max_input_size,Embedding_size,mul_factor):\r\n",
        "  while True:\r\n",
        "    for k in range(int(len(data_tweet)/batch_size)):\r\n",
        "      res=[]\r\n",
        "      for x in data_tweet[k*(batch_size):(k+1)*(batch_size)]:\r\n",
        "        tweet = [(vocab[i[0]],i[1],i[2]) for i in x if i[0] in vocab.keys()]\r\n",
        "        l=len(tweet)\r\n",
        "        for i in range(l):\r\n",
        "          tweet[i]=((tweet[i][0]*tweet[i][2]),tweet[i][1],tweet[i][2])\r\n",
        "        for i in range(l):\r\n",
        "          if tweet[i][1][:2]=='JJ' or tweet[i][1][:2]=='RB':\r\n",
        "            tweet[i]=((tweet[i][0]*mul_factor),tweet[i][1],tweet[i][2])\r\n",
        "        res+=[np.array([x[0] for x in tweet])]\r\n",
        "      temp = np.array([np.pad(z.flatten(),(0,Max_input_size*Embedding_size-len(z.flatten()))).reshape(Max_input_size,Embedding_size) for z in res])\r\n",
        "      tempres = data_cat[k*(batch_size):(k+1)*(batch_size)]\r\n",
        "      yield (temp,tempres)"
      ],
      "execution_count": null,
      "outputs": []
    },
    {
      "cell_type": "code",
      "metadata": {
        "id": "1QpbfJQO-hp7"
      },
      "source": [
        "epochs=27\r\n",
        "Embedding_size=200\r\n",
        "model_negpos = tf.keras.Sequential()\r\n",
        "model_negpos.add(tf.keras.Input(shape=(Max_input_size,Embedding_size)))\r\n",
        "model_negpos.add(tf.keras.layers.Bidirectional(tf.keras.layers.LSTM(50),merge_mode='concat'))\r\n",
        "model_negpos.add(tf.keras.layers.Dropout(0.2))\r\n",
        "model_negpos.add(tf.keras.layers.Dense(64,activation='relu'))\r\n",
        "model_negpos.add(tf.keras.layers.Dropout(0.2))\r\n",
        "model_negpos.add(tf.keras.layers.Dense(5, activation='softmax'))\r\n",
        "model_negpos.compile(loss='categorical_crossentropy',optimizer='adam', metrics=['accuracy'])\r\n",
        "\r\n",
        "# validation_generator = glove_gen(vocab_glove,X_val,y_val,batch_size,Max_input_size,Embedding_size,mul_factor)\r\n",
        "train_generator = glove_gen_negpos(vocab_glove,X_train_negpos,y_train,batch_size,Max_input_size,Embedding_size,mul_factor)\r\n",
        "val_generator = glove_gen_negpos(vocab_glove,X_val_negpos,y_val,batch_size,Max_input_size,Embedding_size,mul_factor)\r\n",
        "history_negpos = model_mult.fit(train_generator,validation_data=val_generator, validation_steps=100,steps_per_epoch=int(len(X_train_norm)/batch_size),epochs=epochs)\r\n",
        "history_negpos_eval = model_mult.evaluate(x = glove_gen_negpos(vocab_glove,X_test_negpos,y_test,batch_size,Max_input_size,Embedding_size,mul_factor),steps=int(len(y_test)/batch_size))\r\n"
      ],
      "execution_count": null,
      "outputs": []
    },
    {
      "cell_type": "code",
      "metadata": {
        "id": "ci_B2wRLFY27"
      },
      "source": [
        "plt.title(\"Mult+negpos: training_accuracy, validation_accuracy vs epochs\")\r\n",
        "plt.plot(history_negpos.history['accuracy'],c='r',label='training_accuracy')\r\n",
        "plt.plot(history_negpos.history['val_accuracy'],c='r',label='validation_accuracy')\r\n",
        "plt.xlabel('epochs')\r\n",
        "plt.legend()\r\n",
        "# plt.yticks()\r\n",
        "plt.show()\r\n",
        "print(history_negpos_eval)"
      ],
      "execution_count": null,
      "outputs": []
    },
    {
      "cell_type": "markdown",
      "metadata": {
        "id": "mJKekkUpE0FM"
      },
      "source": [
        "mult+negpos+addition"
      ]
    },
    {
      "cell_type": "code",
      "metadata": {
        "id": "uYMyiAhI-xLS"
      },
      "source": [
        "def glove_gen_addi(vocab,data_tweet,data_cat,batch_size,Max_input_size,Embedding_size,mul_factor):\r\n",
        "  while True:\r\n",
        "    for k in range(int(len(data_tweet)/batch_size)):\r\n",
        "      res=[]\r\n",
        "      for x in data_tweet[k*(batch_size):(k+1)*(batch_size)]:\r\n",
        "        tweet = [(vocab[i[0]],i[1],i[2]) for i in x if i[0] in vocab.keys()]\r\n",
        "        l=len(tweet)\r\n",
        "        for i in range(l):\r\n",
        "          tweet[i]=((tweet[i][0]*tweet[i][2]),tweet[i][1],tweet[i][2])\r\n",
        "        for i in range(l):\r\n",
        "          if tweet[i][1][:2]=='JJ' or tweet[i][1][:2]=='RB':\r\n",
        "            tweet[i]=((tweet[i][0]*mul_factor),tweet[i][1],tweet[i][2])\r\n",
        "        for i in range(l):\r\n",
        "          if tweet[i][1][:2]=='JJ':\r\n",
        "            for z in range(max(i-2,0),min(i+3,l)):\r\n",
        "              if tweet[z][1][:2]=='NN':\r\n",
        "                tweet[z]=((tweet[z][0]+tweet[i][0]),tweet[z][1])\r\n",
        "          if tweet[i][1][:2]=='RB':\r\n",
        "            for z in range(max(i-2,0),min(i+3,l)):\r\n",
        "              if tweet[z][1][:2]=='VB':\r\n",
        "                tweet[z]=((tweet[z][0]+tweet[i][0]),tweet[z][1])\r\n",
        "        res+=[np.array([x[0] for x in tweet])]\r\n",
        "      temp = np.array([np.pad(z.flatten(),(0,Max_input_size*Embedding_size-len(z.flatten()))).reshape(Max_input_size,Embedding_size) for z in res])\r\n",
        "      tempres = data_cat[k*(batch_size):(k+1)*(batch_size)]\r\n",
        "      yield (temp,tempres)"
      ],
      "execution_count": null,
      "outputs": []
    },
    {
      "cell_type": "code",
      "metadata": {
        "id": "Luod-hxXFBv8"
      },
      "source": [
        "epochs=27\r\n",
        "Embedding_size=200\r\n",
        "model_addi = tf.keras.Sequential()\r\n",
        "model_addi.add(tf.keras.Input(shape=(Max_input_size,Embedding_size)))\r\n",
        "model_addi.add(tf.keras.layers.Bidirectional(tf.keras.layers.LSTM(50),merge_mode='concat'))\r\n",
        "model_addi.add(tf.keras.layers.Dropout(0.2))\r\n",
        "model_addi.add(tf.keras.layers.Dense(64,activation='relu'))\r\n",
        "model_addi.add(tf.keras.layers.Dropout(0.2))\r\n",
        "model_addi.add(tf.keras.layers.Dense(5, activation='softmax'))\r\n",
        "model_addi.compile(loss='categorical_crossentropy',optimizer='adam', metrics=['accuracy'])\r\n",
        "\r\n",
        "# validation_generator = glove_gen(vocab_glove,X_val,y_val,batch_size,Max_input_size,Embedding_size,mul_factor)\r\n",
        "train_generator = glove_gen_addi(vocab_glove,X_train_negpos,y_train,batch_size,Max_input_size,Embedding_size,mul_factor)\r\n",
        "val_generator = glove_gen_addi(vocab_glove,X_val_negpos,y_val,batch_size,Max_input_size,Embedding_size,mul_factor)\r\n",
        "history_negpos = model_addi.fit(train_generator,validation_data=val_generator, validation_steps=100,steps_per_epoch=int(len(X_train_norm)/batch_size),epochs=epochs)\r\n",
        "history_negpos_eval = model_addi.evaluate(x = glove_gen_addi(vocab_glove,X_test_negpos,y_test,batch_size,Max_input_size,Embedding_size,mul_factor),steps=int(len(y_test)/batch_size))\r\n"
      ],
      "execution_count": null,
      "outputs": []
    },
    {
      "cell_type": "code",
      "metadata": {
        "id": "qtwplOZfFy0I"
      },
      "source": [
        "plt.title(\"Mult+negpos+addi: training_accuracy, validation_accuracy vs epochs\")\r\n",
        "plt.plot(history_negpos.history['accuracy'],c='r',label='training_accuracy')\r\n",
        "plt.plot(history_negpos.history['val_accuracy'],c='b',label='validation_accuracy')\r\n",
        "plt.xlabel('epochs')\r\n",
        "plt.legend()\r\n",
        "# plt.yticks()\r\n",
        "plt.show()\r\n",
        "print(history_negpos_eval)"
      ],
      "execution_count": null,
      "outputs": []
    }
  ]
}