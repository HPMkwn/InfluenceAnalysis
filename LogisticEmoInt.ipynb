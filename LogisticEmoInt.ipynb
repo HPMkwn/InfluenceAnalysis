{
  "nbformat": 4,
  "nbformat_minor": 0,
  "metadata": {
    "colab": {
      "name": "LogisticEmoInt.ipynb",
      "provenance": [],
      "collapsed_sections": [],
      "authorship_tag": "ABX9TyMazV06p7apG+JnF12MmQI/",
      "include_colab_link": true
    },
    "kernelspec": {
      "name": "python3",
      "display_name": "Python 3"
    }
  },
  "cells": [
    {
      "cell_type": "markdown",
      "metadata": {
        "id": "view-in-github",
        "colab_type": "text"
      },
      "source": [
        "<a href=\"https://colab.research.google.com/github/harrymkwn/InfluenceAnalysis/blob/master/LogisticEmoInt.ipynb\" target=\"_parent\"><img src=\"https://colab.research.google.com/assets/colab-badge.svg\" alt=\"Open In Colab\"/></a>"
      ]
    },
    {
      "cell_type": "code",
      "metadata": {
        "id": "7oXGzkdbMIe8",
        "colab": {
          "base_uri": "https://localhost:8080/",
          "height": 68
        },
        "outputId": "b492bd58-aa55-45e2-9c2c-cd378893fb37"
      },
      "source": [
        "import pandas as pd\n",
        "import numpy as np\n",
        "import re\n",
        "import nltk\n",
        "from nltk.corpus import stopwords\n",
        "nltk.download('stopwords')\n",
        "import matplotlib.pyplot as plt\n",
        "from sklearn.feature_extraction.text import CountVectorizer\n",
        "from sklearn.linear_model import LogisticRegression\n",
        "from sklearn.multiclass import OneVsRestClassifier\n",
        "from gensim.models import KeyedVectors\n",
        "from google.colab import  drive\n",
        "drive.mount('/content/drive')\n",
        "\n",
        "df_train = pd.read_csv('/content/drive/My Drive/InfluenceAnalysis/Data/Train/clean_all_train.csv')\n",
        "df_test = pd.read_csv('/content/drive/My Drive/InfluenceAnalysis/Data/Test/clean_all_test.csv')\n",
        "df_train = df_train.sample(frac=1)\n",
        "df_test = df_test.sample(frac=1)\n",
        "def remove_punct(text):\n",
        "  text = \"\".join([char for char in text if char!=\"'\" ])\n",
        "  clean = re.sub(r\"\"\"[,.;@#?<>()\"\"-/!&$]+\\ *\"\"\",\" \",text, flags=re.VERBOSE)\n",
        "  return clean\n",
        "def remove_stop(text):\n",
        "  sw = stopwords.words(\"english\")\n",
        "  sw.append('br')\n",
        "  clean = \" \".join([x for x in text.split() if x not in sw])\n",
        "  return clean\n",
        "df_train['Tweets'] = df_train['Tweets'].apply(lambda tweet : remove_punct(tweet))\n",
        "df_test['Tweets'] = df_test['Tweets'].apply(lambda tweet : remove_punct(tweet))\n",
        "df_train['Tweets'] = df_train['Tweets'].apply(lambda tweet : remove_stop(tweet))\n",
        "df_test['Tweets'] = df_test['Tweets'].apply(lambda tweet : remove_stop(tweet))"
      ],
      "execution_count": null,
      "outputs": [
        {
          "output_type": "stream",
          "text": [
            "[nltk_data] Downloading package stopwords to /root/nltk_data...\n",
            "[nltk_data]   Unzipping corpora/stopwords.zip.\n",
            "Drive already mounted at /content/drive; to attempt to forcibly remount, call drive.mount(\"/content/drive\", force_remount=True).\n"
          ],
          "name": "stdout"
        }
      ]
    },
    {
      "cell_type": "code",
      "metadata": {
        "id": "AiMKk9d1RCQT"
      },
      "source": [
        "category_dict = {\"anger\":0,\"sadness\":1,\"fear\":2,\"joy\":3}\n",
        "vectorizer = CountVectorizer(min_df = 5)\n",
        "X = vectorizer.fit_transform(df_train['Tweets'])\n",
        "X = X.toarray()\n",
        "X = [x/(sum(x)+1) for x in X]\n",
        "y = [category_dict[x] for x in df_train['Category']]\n",
        "test_X = vectorizer.transform(df_test['Tweets'])\n",
        "test_X = test_X.toarray()\n",
        "test_y = [category_dict[x] for x in df_test['Category']]"
      ],
      "execution_count": null,
      "outputs": []
    },
    {
      "cell_type": "code",
      "metadata": {
        "id": "Xg2TkPkBQFkK"
      },
      "source": [
        "clf = OneVsRestClassifier(LogisticRegression()).fit(X,y)"
      ],
      "execution_count": null,
      "outputs": []
    },
    {
      "cell_type": "code",
      "metadata": {
        "id": "enlGlSXnJzUs",
        "colab": {
          "base_uri": "https://localhost:8080/",
          "height": 34
        },
        "outputId": "dbacc90d-7f15-4e41-c29d-e58b525253b6"
      },
      "source": [
        "clf.score(test_X,test_y)"
      ],
      "execution_count": null,
      "outputs": [
        {
          "output_type": "execute_result",
          "data": {
            "text/plain": [
              "0.7390197326543603"
            ]
          },
          "metadata": {
            "tags": []
          },
          "execution_count": 17
        }
      ]
    },
    {
      "cell_type": "code",
      "metadata": {
        "id": "chauNTesNQPs",
        "colab": {
          "base_uri": "https://localhost:8080/",
          "height": 34
        },
        "outputId": "946315a8-e2f0-41ee-b974-137f508569d0"
      },
      "source": [
        "clf.predict(vectorizer.transform(['i am very angry and you better do something']))[0]"
      ],
      "execution_count": null,
      "outputs": [
        {
          "output_type": "execute_result",
          "data": {
            "text/plain": [
              "0"
            ]
          },
          "metadata": {
            "tags": []
          },
          "execution_count": 20
        }
      ]
    },
    {
      "cell_type": "code",
      "metadata": {
        "id": "M6qmFXZiMzKC",
        "colab": {
          "base_uri": "https://localhost:8080/",
          "height": 34
        },
        "outputId": "4110e118-3d32-49bb-e99d-da9658261011"
      },
      "source": [
        "clf.predict(vectorizer.transform(['too bad so sad']))[0]"
      ],
      "execution_count": null,
      "outputs": [
        {
          "output_type": "execute_result",
          "data": {
            "text/plain": [
              "1"
            ]
          },
          "metadata": {
            "tags": []
          },
          "execution_count": 21
        }
      ]
    },
    {
      "cell_type": "code",
      "metadata": {
        "id": "FoqjB8bEHBBy",
        "colab": {
          "base_uri": "https://localhost:8080/",
          "height": 34
        },
        "outputId": "535f6044-a154-425f-e952-5dbb0a8f2c3e"
      },
      "source": [
        "clf.predict(vectorizer.transform(['i amd so terrified by crimes going on in the city everyday there is a new murder']))[0]"
      ],
      "execution_count": null,
      "outputs": [
        {
          "output_type": "execute_result",
          "data": {
            "text/plain": [
              "2"
            ]
          },
          "metadata": {
            "tags": []
          },
          "execution_count": 23
        }
      ]
    },
    {
      "cell_type": "code",
      "metadata": {
        "id": "pFvS5_h5G2HV",
        "colab": {
          "base_uri": "https://localhost:8080/",
          "height": 34
        },
        "outputId": "34df0ab1-24a6-4559-b639-b02090951e9b"
      },
      "source": [
        "clf.predict(vectorizer.transform(['very happy best moments of life']))[0]"
      ],
      "execution_count": null,
      "outputs": [
        {
          "output_type": "execute_result",
          "data": {
            "text/plain": [
              "3"
            ]
          },
          "metadata": {
            "tags": []
          },
          "execution_count": 22
        }
      ]
    }
  ]
}