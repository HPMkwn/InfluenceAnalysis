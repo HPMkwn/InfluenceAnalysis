{
  "nbformat": 4,
  "nbformat_minor": 0,
  "metadata": {
    "colab": {
      "name": "TEC_Add_Our.ipynb",
      "provenance": [],
      "collapsed_sections": [],
      "include_colab_link": true
    },
    "kernelspec": {
      "name": "python3",
      "display_name": "Python 3"
    }
  },
  "cells": [
    {
      "cell_type": "markdown",
      "metadata": {
        "id": "view-in-github",
        "colab_type": "text"
      },
      "source": [
        "<a href=\"https://colab.research.google.com/github/harrymkwn/InfluenceAnalysis/blob/master/TEC_Add_Our.ipynb\" target=\"_parent\"><img src=\"https://colab.research.google.com/assets/colab-badge.svg\" alt=\"Open In Colab\"/></a>"
      ]
    },
    {
      "cell_type": "code",
      "metadata": {
        "colab": {
          "base_uri": "https://localhost:8080/"
        },
        "id": "f07YBO0HutGC",
        "outputId": "fc45faad-1c0e-4577-f582-e6badfdc76f1"
      },
      "source": [
        "from google.colab import  drive\n",
        "drive.mount('/content/drive')"
      ],
      "execution_count": 1,
      "outputs": [
        {
          "output_type": "stream",
          "text": [
            "Mounted at /content/drive\n"
          ],
          "name": "stdout"
        }
      ]
    },
    {
      "cell_type": "code",
      "metadata": {
        "id": "D_ZbOn58n2x4",
        "colab": {
          "base_uri": "https://localhost:8080/"
        },
        "outputId": "a340f39a-35c5-4ba6-f2f2-4447c6030921"
      },
      "source": [
        "import pandas as pd\r\n",
        "import numpy as np\r\n",
        "import tensorflow as tf\r\n",
        "from gensim.models import Word2Vec\r\n",
        "import matplotlib.pyplot as plt\r\n",
        "from sklearn.linear_model import LogisticRegression\r\n",
        "from sklearn.multiclass import OneVsRestClassifier\r\n",
        "from gensim.models import KeyedVectors\r\n",
        "from sklearn.model_selection import train_test_split\r\n",
        "import nltk\r\n",
        "from nltk.corpus import stopwords\r\n",
        "nltk.download('all')\r\n",
        "from nltk.corpus import sentiwordnet as swn\r\n",
        "device_name = tf.test.gpu_device_name()\r\n",
        "print(device_name)\r\n",
        "df = pd.read_csv('/content/drive/MyDrive/InfluenceAnalysis/TEC/TECOur.csv')\r\n",
        "df = df.sample(frac=1,random_state=32)"
      ],
      "execution_count": 2,
      "outputs": [
        {
          "output_type": "stream",
          "text": [
            "[nltk_data] Downloading collection 'all'\n",
            "[nltk_data]    | \n",
            "[nltk_data]    | Downloading package abc to /root/nltk_data...\n",
            "[nltk_data]    |   Unzipping corpora/abc.zip.\n",
            "[nltk_data]    | Downloading package alpino to /root/nltk_data...\n",
            "[nltk_data]    |   Unzipping corpora/alpino.zip.\n",
            "[nltk_data]    | Downloading package biocreative_ppi to\n",
            "[nltk_data]    |     /root/nltk_data...\n",
            "[nltk_data]    |   Unzipping corpora/biocreative_ppi.zip.\n",
            "[nltk_data]    | Downloading package brown to /root/nltk_data...\n",
            "[nltk_data]    |   Unzipping corpora/brown.zip.\n",
            "[nltk_data]    | Downloading package brown_tei to /root/nltk_data...\n",
            "[nltk_data]    |   Unzipping corpora/brown_tei.zip.\n",
            "[nltk_data]    | Downloading package cess_cat to /root/nltk_data...\n",
            "[nltk_data]    |   Unzipping corpora/cess_cat.zip.\n",
            "[nltk_data]    | Downloading package cess_esp to /root/nltk_data...\n",
            "[nltk_data]    |   Unzipping corpora/cess_esp.zip.\n",
            "[nltk_data]    | Downloading package chat80 to /root/nltk_data...\n",
            "[nltk_data]    |   Unzipping corpora/chat80.zip.\n",
            "[nltk_data]    | Downloading package city_database to\n",
            "[nltk_data]    |     /root/nltk_data...\n",
            "[nltk_data]    |   Unzipping corpora/city_database.zip.\n",
            "[nltk_data]    | Downloading package cmudict to /root/nltk_data...\n",
            "[nltk_data]    |   Unzipping corpora/cmudict.zip.\n",
            "[nltk_data]    | Downloading package comparative_sentences to\n",
            "[nltk_data]    |     /root/nltk_data...\n",
            "[nltk_data]    |   Unzipping corpora/comparative_sentences.zip.\n",
            "[nltk_data]    | Downloading package comtrans to /root/nltk_data...\n",
            "[nltk_data]    | Downloading package conll2000 to /root/nltk_data...\n",
            "[nltk_data]    |   Unzipping corpora/conll2000.zip.\n",
            "[nltk_data]    | Downloading package conll2002 to /root/nltk_data...\n",
            "[nltk_data]    |   Unzipping corpora/conll2002.zip.\n",
            "[nltk_data]    | Downloading package conll2007 to /root/nltk_data...\n",
            "[nltk_data]    | Downloading package crubadan to /root/nltk_data...\n",
            "[nltk_data]    |   Unzipping corpora/crubadan.zip.\n",
            "[nltk_data]    | Downloading package dependency_treebank to\n",
            "[nltk_data]    |     /root/nltk_data...\n",
            "[nltk_data]    |   Unzipping corpora/dependency_treebank.zip.\n",
            "[nltk_data]    | Downloading package dolch to /root/nltk_data...\n",
            "[nltk_data]    |   Unzipping corpora/dolch.zip.\n",
            "[nltk_data]    | Downloading package europarl_raw to\n",
            "[nltk_data]    |     /root/nltk_data...\n",
            "[nltk_data]    |   Unzipping corpora/europarl_raw.zip.\n",
            "[nltk_data]    | Downloading package floresta to /root/nltk_data...\n",
            "[nltk_data]    |   Unzipping corpora/floresta.zip.\n",
            "[nltk_data]    | Downloading package framenet_v15 to\n",
            "[nltk_data]    |     /root/nltk_data...\n",
            "[nltk_data]    |   Unzipping corpora/framenet_v15.zip.\n",
            "[nltk_data]    | Downloading package framenet_v17 to\n",
            "[nltk_data]    |     /root/nltk_data...\n",
            "[nltk_data]    |   Unzipping corpora/framenet_v17.zip.\n",
            "[nltk_data]    | Downloading package gazetteers to /root/nltk_data...\n",
            "[nltk_data]    |   Unzipping corpora/gazetteers.zip.\n",
            "[nltk_data]    | Downloading package genesis to /root/nltk_data...\n",
            "[nltk_data]    |   Unzipping corpora/genesis.zip.\n",
            "[nltk_data]    | Downloading package gutenberg to /root/nltk_data...\n",
            "[nltk_data]    |   Unzipping corpora/gutenberg.zip.\n",
            "[nltk_data]    | Downloading package ieer to /root/nltk_data...\n",
            "[nltk_data]    |   Unzipping corpora/ieer.zip.\n",
            "[nltk_data]    | Downloading package inaugural to /root/nltk_data...\n",
            "[nltk_data]    |   Unzipping corpora/inaugural.zip.\n",
            "[nltk_data]    | Downloading package indian to /root/nltk_data...\n",
            "[nltk_data]    |   Unzipping corpora/indian.zip.\n",
            "[nltk_data]    | Downloading package jeita to /root/nltk_data...\n",
            "[nltk_data]    | Downloading package kimmo to /root/nltk_data...\n",
            "[nltk_data]    |   Unzipping corpora/kimmo.zip.\n",
            "[nltk_data]    | Downloading package knbc to /root/nltk_data...\n",
            "[nltk_data]    | Downloading package lin_thesaurus to\n",
            "[nltk_data]    |     /root/nltk_data...\n",
            "[nltk_data]    |   Unzipping corpora/lin_thesaurus.zip.\n",
            "[nltk_data]    | Downloading package mac_morpho to /root/nltk_data...\n",
            "[nltk_data]    |   Unzipping corpora/mac_morpho.zip.\n",
            "[nltk_data]    | Downloading package machado to /root/nltk_data...\n",
            "[nltk_data]    | Downloading package masc_tagged to /root/nltk_data...\n",
            "[nltk_data]    | Downloading package moses_sample to\n",
            "[nltk_data]    |     /root/nltk_data...\n",
            "[nltk_data]    |   Unzipping models/moses_sample.zip.\n",
            "[nltk_data]    | Downloading package movie_reviews to\n",
            "[nltk_data]    |     /root/nltk_data...\n",
            "[nltk_data]    |   Unzipping corpora/movie_reviews.zip.\n",
            "[nltk_data]    | Downloading package names to /root/nltk_data...\n",
            "[nltk_data]    |   Unzipping corpora/names.zip.\n",
            "[nltk_data]    | Downloading package nombank.1.0 to /root/nltk_data...\n",
            "[nltk_data]    | Downloading package nps_chat to /root/nltk_data...\n",
            "[nltk_data]    |   Unzipping corpora/nps_chat.zip.\n",
            "[nltk_data]    | Downloading package omw to /root/nltk_data...\n",
            "[nltk_data]    |   Unzipping corpora/omw.zip.\n",
            "[nltk_data]    | Downloading package opinion_lexicon to\n",
            "[nltk_data]    |     /root/nltk_data...\n",
            "[nltk_data]    |   Unzipping corpora/opinion_lexicon.zip.\n",
            "[nltk_data]    | Downloading package paradigms to /root/nltk_data...\n",
            "[nltk_data]    |   Unzipping corpora/paradigms.zip.\n",
            "[nltk_data]    | Downloading package pil to /root/nltk_data...\n",
            "[nltk_data]    |   Unzipping corpora/pil.zip.\n",
            "[nltk_data]    | Downloading package pl196x to /root/nltk_data...\n",
            "[nltk_data]    |   Unzipping corpora/pl196x.zip.\n",
            "[nltk_data]    | Downloading package ppattach to /root/nltk_data...\n",
            "[nltk_data]    |   Unzipping corpora/ppattach.zip.\n",
            "[nltk_data]    | Downloading package problem_reports to\n",
            "[nltk_data]    |     /root/nltk_data...\n",
            "[nltk_data]    |   Unzipping corpora/problem_reports.zip.\n",
            "[nltk_data]    | Downloading package propbank to /root/nltk_data...\n",
            "[nltk_data]    | Downloading package ptb to /root/nltk_data...\n",
            "[nltk_data]    |   Unzipping corpora/ptb.zip.\n",
            "[nltk_data]    | Downloading package product_reviews_1 to\n",
            "[nltk_data]    |     /root/nltk_data...\n",
            "[nltk_data]    |   Unzipping corpora/product_reviews_1.zip.\n",
            "[nltk_data]    | Downloading package product_reviews_2 to\n",
            "[nltk_data]    |     /root/nltk_data...\n",
            "[nltk_data]    |   Unzipping corpora/product_reviews_2.zip.\n",
            "[nltk_data]    | Downloading package pros_cons to /root/nltk_data...\n",
            "[nltk_data]    |   Unzipping corpora/pros_cons.zip.\n",
            "[nltk_data]    | Downloading package qc to /root/nltk_data...\n",
            "[nltk_data]    |   Unzipping corpora/qc.zip.\n",
            "[nltk_data]    | Downloading package reuters to /root/nltk_data...\n",
            "[nltk_data]    | Downloading package rte to /root/nltk_data...\n",
            "[nltk_data]    |   Unzipping corpora/rte.zip.\n",
            "[nltk_data]    | Downloading package semcor to /root/nltk_data...\n",
            "[nltk_data]    | Downloading package senseval to /root/nltk_data...\n",
            "[nltk_data]    |   Unzipping corpora/senseval.zip.\n",
            "[nltk_data]    | Downloading package sentiwordnet to\n",
            "[nltk_data]    |     /root/nltk_data...\n",
            "[nltk_data]    |   Unzipping corpora/sentiwordnet.zip.\n",
            "[nltk_data]    | Downloading package sentence_polarity to\n",
            "[nltk_data]    |     /root/nltk_data...\n",
            "[nltk_data]    |   Unzipping corpora/sentence_polarity.zip.\n",
            "[nltk_data]    | Downloading package shakespeare to /root/nltk_data...\n",
            "[nltk_data]    |   Unzipping corpora/shakespeare.zip.\n",
            "[nltk_data]    | Downloading package sinica_treebank to\n",
            "[nltk_data]    |     /root/nltk_data...\n",
            "[nltk_data]    |   Unzipping corpora/sinica_treebank.zip.\n",
            "[nltk_data]    | Downloading package smultron to /root/nltk_data...\n",
            "[nltk_data]    |   Unzipping corpora/smultron.zip.\n",
            "[nltk_data]    | Downloading package state_union to /root/nltk_data...\n",
            "[nltk_data]    |   Unzipping corpora/state_union.zip.\n",
            "[nltk_data]    | Downloading package stopwords to /root/nltk_data...\n",
            "[nltk_data]    |   Unzipping corpora/stopwords.zip.\n",
            "[nltk_data]    | Downloading package subjectivity to\n",
            "[nltk_data]    |     /root/nltk_data...\n",
            "[nltk_data]    |   Unzipping corpora/subjectivity.zip.\n",
            "[nltk_data]    | Downloading package swadesh to /root/nltk_data...\n",
            "[nltk_data]    |   Unzipping corpora/swadesh.zip.\n",
            "[nltk_data]    | Downloading package switchboard to /root/nltk_data...\n",
            "[nltk_data]    |   Unzipping corpora/switchboard.zip.\n",
            "[nltk_data]    | Downloading package timit to /root/nltk_data...\n",
            "[nltk_data]    |   Unzipping corpora/timit.zip.\n",
            "[nltk_data]    | Downloading package toolbox to /root/nltk_data...\n",
            "[nltk_data]    |   Unzipping corpora/toolbox.zip.\n",
            "[nltk_data]    | Downloading package treebank to /root/nltk_data...\n",
            "[nltk_data]    |   Unzipping corpora/treebank.zip.\n",
            "[nltk_data]    | Downloading package twitter_samples to\n",
            "[nltk_data]    |     /root/nltk_data...\n",
            "[nltk_data]    |   Unzipping corpora/twitter_samples.zip.\n",
            "[nltk_data]    | Downloading package udhr to /root/nltk_data...\n",
            "[nltk_data]    |   Unzipping corpora/udhr.zip.\n",
            "[nltk_data]    | Downloading package udhr2 to /root/nltk_data...\n",
            "[nltk_data]    |   Unzipping corpora/udhr2.zip.\n",
            "[nltk_data]    | Downloading package unicode_samples to\n",
            "[nltk_data]    |     /root/nltk_data...\n",
            "[nltk_data]    |   Unzipping corpora/unicode_samples.zip.\n",
            "[nltk_data]    | Downloading package universal_treebanks_v20 to\n",
            "[nltk_data]    |     /root/nltk_data...\n",
            "[nltk_data]    | Downloading package verbnet to /root/nltk_data...\n",
            "[nltk_data]    |   Unzipping corpora/verbnet.zip.\n",
            "[nltk_data]    | Downloading package verbnet3 to /root/nltk_data...\n",
            "[nltk_data]    |   Unzipping corpora/verbnet3.zip.\n",
            "[nltk_data]    | Downloading package webtext to /root/nltk_data...\n",
            "[nltk_data]    |   Unzipping corpora/webtext.zip.\n",
            "[nltk_data]    | Downloading package wordnet to /root/nltk_data...\n",
            "[nltk_data]    |   Unzipping corpora/wordnet.zip.\n",
            "[nltk_data]    | Downloading package wordnet_ic to /root/nltk_data...\n",
            "[nltk_data]    |   Unzipping corpora/wordnet_ic.zip.\n",
            "[nltk_data]    | Downloading package words to /root/nltk_data...\n",
            "[nltk_data]    |   Unzipping corpora/words.zip.\n",
            "[nltk_data]    | Downloading package ycoe to /root/nltk_data...\n",
            "[nltk_data]    |   Unzipping corpora/ycoe.zip.\n",
            "[nltk_data]    | Downloading package rslp to /root/nltk_data...\n",
            "[nltk_data]    |   Unzipping stemmers/rslp.zip.\n",
            "[nltk_data]    | Downloading package maxent_treebank_pos_tagger to\n",
            "[nltk_data]    |     /root/nltk_data...\n",
            "[nltk_data]    |   Unzipping taggers/maxent_treebank_pos_tagger.zip.\n",
            "[nltk_data]    | Downloading package universal_tagset to\n",
            "[nltk_data]    |     /root/nltk_data...\n",
            "[nltk_data]    |   Unzipping taggers/universal_tagset.zip.\n",
            "[nltk_data]    | Downloading package maxent_ne_chunker to\n",
            "[nltk_data]    |     /root/nltk_data...\n",
            "[nltk_data]    |   Unzipping chunkers/maxent_ne_chunker.zip.\n",
            "[nltk_data]    | Downloading package punkt to /root/nltk_data...\n",
            "[nltk_data]    |   Unzipping tokenizers/punkt.zip.\n",
            "[nltk_data]    | Downloading package book_grammars to\n",
            "[nltk_data]    |     /root/nltk_data...\n",
            "[nltk_data]    |   Unzipping grammars/book_grammars.zip.\n",
            "[nltk_data]    | Downloading package sample_grammars to\n",
            "[nltk_data]    |     /root/nltk_data...\n",
            "[nltk_data]    |   Unzipping grammars/sample_grammars.zip.\n",
            "[nltk_data]    | Downloading package spanish_grammars to\n",
            "[nltk_data]    |     /root/nltk_data...\n",
            "[nltk_data]    |   Unzipping grammars/spanish_grammars.zip.\n",
            "[nltk_data]    | Downloading package basque_grammars to\n",
            "[nltk_data]    |     /root/nltk_data...\n",
            "[nltk_data]    |   Unzipping grammars/basque_grammars.zip.\n",
            "[nltk_data]    | Downloading package large_grammars to\n",
            "[nltk_data]    |     /root/nltk_data...\n",
            "[nltk_data]    |   Unzipping grammars/large_grammars.zip.\n",
            "[nltk_data]    | Downloading package tagsets to /root/nltk_data...\n",
            "[nltk_data]    |   Unzipping help/tagsets.zip.\n",
            "[nltk_data]    | Downloading package snowball_data to\n",
            "[nltk_data]    |     /root/nltk_data...\n",
            "[nltk_data]    | Downloading package bllip_wsj_no_aux to\n",
            "[nltk_data]    |     /root/nltk_data...\n",
            "[nltk_data]    |   Unzipping models/bllip_wsj_no_aux.zip.\n",
            "[nltk_data]    | Downloading package word2vec_sample to\n",
            "[nltk_data]    |     /root/nltk_data...\n",
            "[nltk_data]    |   Unzipping models/word2vec_sample.zip.\n",
            "[nltk_data]    | Downloading package panlex_swadesh to\n",
            "[nltk_data]    |     /root/nltk_data...\n",
            "[nltk_data]    | Downloading package mte_teip5 to /root/nltk_data...\n",
            "[nltk_data]    |   Unzipping corpora/mte_teip5.zip.\n",
            "[nltk_data]    | Downloading package averaged_perceptron_tagger to\n",
            "[nltk_data]    |     /root/nltk_data...\n",
            "[nltk_data]    |   Unzipping taggers/averaged_perceptron_tagger.zip.\n",
            "[nltk_data]    | Downloading package averaged_perceptron_tagger_ru to\n",
            "[nltk_data]    |     /root/nltk_data...\n",
            "[nltk_data]    |   Unzipping\n",
            "[nltk_data]    |       taggers/averaged_perceptron_tagger_ru.zip.\n",
            "[nltk_data]    | Downloading package perluniprops to\n",
            "[nltk_data]    |     /root/nltk_data...\n",
            "[nltk_data]    |   Unzipping misc/perluniprops.zip.\n",
            "[nltk_data]    | Downloading package nonbreaking_prefixes to\n",
            "[nltk_data]    |     /root/nltk_data...\n",
            "[nltk_data]    |   Unzipping corpora/nonbreaking_prefixes.zip.\n",
            "[nltk_data]    | Downloading package vader_lexicon to\n",
            "[nltk_data]    |     /root/nltk_data...\n",
            "[nltk_data]    | Downloading package porter_test to /root/nltk_data...\n",
            "[nltk_data]    |   Unzipping stemmers/porter_test.zip.\n",
            "[nltk_data]    | Downloading package wmt15_eval to /root/nltk_data...\n",
            "[nltk_data]    |   Unzipping models/wmt15_eval.zip.\n",
            "[nltk_data]    | Downloading package mwa_ppdb to /root/nltk_data...\n",
            "[nltk_data]    |   Unzipping misc/mwa_ppdb.zip.\n",
            "[nltk_data]    | \n",
            "[nltk_data]  Done downloading collection all\n",
            "\n"
          ],
          "name": "stdout"
        }
      ]
    },
    {
      "cell_type": "code",
      "metadata": {
        "colab": {
          "base_uri": "https://localhost:8080/",
          "height": 204
        },
        "id": "2kcOfvgzvPwr",
        "outputId": "6d3c0087-4a27-40fa-cac1-1478fb7e2b62"
      },
      "source": [
        "df.head()"
      ],
      "execution_count": 3,
      "outputs": [
        {
          "output_type": "execute_result",
          "data": {
            "text/html": [
              "<div>\n",
              "<style scoped>\n",
              "    .dataframe tbody tr th:only-of-type {\n",
              "        vertical-align: middle;\n",
              "    }\n",
              "\n",
              "    .dataframe tbody tr th {\n",
              "        vertical-align: top;\n",
              "    }\n",
              "\n",
              "    .dataframe thead th {\n",
              "        text-align: right;\n",
              "    }\n",
              "</style>\n",
              "<table border=\"1\" class=\"dataframe\">\n",
              "  <thead>\n",
              "    <tr style=\"text-align: right;\">\n",
              "      <th></th>\n",
              "      <th>tweets</th>\n",
              "      <th>emotion</th>\n",
              "    </tr>\n",
              "  </thead>\n",
              "  <tbody>\n",
              "    <tr>\n",
              "      <th>19554</th>\n",
              "      <td>smoothies are the best at any time any temper...</td>\n",
              "      <td>2</td>\n",
              "    </tr>\n",
              "    <tr>\n",
              "      <th>9801</th>\n",
              "      <td>Rain tomorrow      that means curly hair</td>\n",
              "      <td>0</td>\n",
              "    </tr>\n",
              "    <tr>\n",
              "      <th>13413</th>\n",
              "      <td>Bout to lay it down im tired      Tmrws gonna ...</td>\n",
              "      <td>0</td>\n",
              "    </tr>\n",
              "    <tr>\n",
              "      <th>3398</th>\n",
              "      <td>hahaha run a marathon  hopin to go abroad to ...</td>\n",
              "      <td>0</td>\n",
              "    </tr>\n",
              "    <tr>\n",
              "      <th>9536</th>\n",
              "      <td>Christmas shopping in tkmax with Deck The Hall...</td>\n",
              "      <td>0</td>\n",
              "    </tr>\n",
              "  </tbody>\n",
              "</table>\n",
              "</div>"
            ],
            "text/plain": [
              "                                                  tweets  emotion\n",
              "19554   smoothies are the best at any time any temper...        2\n",
              "9801           Rain tomorrow      that means curly hair         0\n",
              "13413  Bout to lay it down im tired      Tmrws gonna ...        0\n",
              "3398    hahaha run a marathon  hopin to go abroad to ...        0\n",
              "9536   Christmas shopping in tkmax with Deck The Hall...        0"
            ]
          },
          "metadata": {
            "tags": []
          },
          "execution_count": 3
        }
      ]
    },
    {
      "cell_type": "code",
      "metadata": {
        "colab": {
          "base_uri": "https://localhost:8080/"
        },
        "id": "VFWkf_bDvSb_",
        "outputId": "e480f8de-ebf7-4087-c80c-d64ce5ef8a2c"
      },
      "source": [
        "df.emotion.unique()"
      ],
      "execution_count": 4,
      "outputs": [
        {
          "output_type": "execute_result",
          "data": {
            "text/plain": [
              "array([2, 0, 1, 3, 4, 5])"
            ]
          },
          "metadata": {
            "tags": []
          },
          "execution_count": 4
        }
      ]
    },
    {
      "cell_type": "code",
      "metadata": {
        "id": "6qZgGMFSoMEj",
        "colab": {
          "base_uri": "https://localhost:8080/"
        },
        "outputId": "b2c60aa6-09f4-4f30-9ca4-31b140a25c71"
      },
      "source": [
        "no_labels=6\r\n",
        "category_dict = {}\r\n",
        "for i in range(no_labels):\r\n",
        "  category_dict[i]=[0 for j in range(no_labels)]\r\n",
        "  category_dict[i][i]=1\r\n",
        "data_tweet = [str(x).lower().split() for x in df['tweets']]\r\n",
        "data_cat = np.array([np.array(category_dict[x]) for x in df['emotion']])\r\n",
        "print(data_cat[:5])"
      ],
      "execution_count": 5,
      "outputs": [
        {
          "output_type": "stream",
          "text": [
            "[[0 0 1 0 0 0]\n",
            " [1 0 0 0 0 0]\n",
            " [1 0 0 0 0 0]\n",
            " [1 0 0 0 0 0]\n",
            " [1 0 0 0 0 0]]\n"
          ],
          "name": "stdout"
        }
      ]
    },
    {
      "cell_type": "code",
      "metadata": {
        "id": "OQ0TOnAwoMBn",
        "colab": {
          "base_uri": "https://localhost:8080/"
        },
        "outputId": "7768732d-455a-4d38-dbac-3b2e9eb5c794"
      },
      "source": [
        "print(data_tweet[:5])\r\n",
        "print(data_cat[:5])"
      ],
      "execution_count": 6,
      "outputs": [
        {
          "output_type": "stream",
          "text": [
            "[['smoothies', 'are', 'the', 'best', 'at', 'any', 'time', 'any', 'temperature', 'we', 'have', 'no', 'smoothie', 'availability', 'at', 'lehigh'], ['rain', 'tomorrow', 'that', 'means', 'curly', 'hair'], ['bout', 'to', 'lay', 'it', 'down', 'im', 'tired', 'tmrws', 'gonna', 'feel', 'so', 'long', 'considering', 'i', 'have', 'not', 'had', 'school', 'for', 'a', 'week'], ['hahaha', 'run', 'a', 'marathon', 'hopin', 'to', 'go', 'abroad', 'to', 'do', 'some'], ['christmas', 'shopping', 'in', 'tkmax', 'with', 'deck', 'the', 'halls', 'playing', 'in', 'the', 'background']]\n",
            "[[0 0 1 0 0 0]\n",
            " [1 0 0 0 0 0]\n",
            " [1 0 0 0 0 0]\n",
            " [1 0 0 0 0 0]\n",
            " [1 0 0 0 0 0]]\n"
          ],
          "name": "stdout"
        }
      ]
    },
    {
      "cell_type": "code",
      "metadata": {
        "id": "zXMVH-X2oL_N"
      },
      "source": [
        "# Parameters\r\n",
        "Min_count = 0\r\n",
        "Embedding_size = 200\r\n",
        "Window_size = 5\r\n",
        "Negative_sampling = 00"
      ],
      "execution_count": 7,
      "outputs": []
    },
    {
      "cell_type": "code",
      "metadata": {
        "id": "EVu-FHPnoL84"
      },
      "source": [
        "w2v_sg = Word2Vec(min_count=Min_count,\r\n",
        "                     window=Window_size,\r\n",
        "                     size=Embedding_size,\r\n",
        "                     negative=Negative_sampling,sg=1)\r\n",
        "w2v_sg.build_vocab(data_tweet)\r\n",
        "w2v_sg.train(data_tweet, total_examples=w2v_sg.corpus_count, epochs=5)\r\n",
        "w2v_cbow = Word2Vec(min_count=Min_count,\r\n",
        "                     window=Window_size,\r\n",
        "                     size=Embedding_size,\r\n",
        "                     negative=Negative_sampling,sg=0)\r\n",
        "w2v_cbow.build_vocab(data_tweet)\r\n",
        "w2v_cbow.train(data_tweet, total_examples=w2v_cbow.corpus_count, epochs=5)\r\n",
        "w2v_sg.wv.init_sims(True)\r\n",
        "w2v_cbow.wv.init_sims(True)"
      ],
      "execution_count": 8,
      "outputs": []
    },
    {
      "cell_type": "code",
      "metadata": {
        "id": "ydjh-41loL6F"
      },
      "source": [
        "vocab_sg = w2v_sg.wv.vocab\r\n",
        "vocab_sg = [x for x in vocab_sg]\r\n",
        "vocab_cbow = w2v_cbow.wv.vocab\r\n",
        "vocab_cbow = [x for x in vocab_cbow] \r\n",
        "vocab_glove = {}\r\n",
        "with open(\"/content/drive/My Drive/InfluenceAnalysis/glove/glove.twitter.27B.200d.txt\", 'r', encoding=\"utf-8\") as f:\r\n",
        "  for line in f:\r\n",
        "      values = line.split()\r\n",
        "      word = values[0]\r\n",
        "      vector = np.asarray(values[1:], \"float32\")\r\n",
        "      vocab_glove[word] = vector"
      ],
      "execution_count": 9,
      "outputs": []
    },
    {
      "cell_type": "code",
      "metadata": {
        "id": "sNpmWgnWoL3U"
      },
      "source": [
        "batch_size = 500\r\n",
        "Max_input_size = max([len(x) for x in data_tweet])\r\n",
        "data_tweet = [nltk.pos_tag(x) for x in data_tweet]\r\n",
        "def getsent(word,tag):\r\n",
        "  res=0\r\n",
        "  try:\r\n",
        "    x = swn.senti_synset(word+'.'+tag[0].lower()+'.01')\r\n",
        "    res =  (x.pos_score()-x.neg_score())\r\n",
        "  finally:\r\n",
        "    return res \r\n",
        "data_tweet = [[(i[0],i[1],getsent(i[0],i[1])) for i in x] for x in data_tweet]"
      ],
      "execution_count": 10,
      "outputs": []
    },
    {
      "cell_type": "code",
      "metadata": {
        "id": "wO3sLvcdoL01"
      },
      "source": [
        "def vec_gen(w2v,vocab,data_tweet,data_cat,batch_size,Max_input_size,Embedding_size,mul_factor=2):\r\n",
        "  while True:\r\n",
        "    for k in range(int(len(data_tweet)/batch_size)):\r\n",
        "      res=[]\r\n",
        "      for x in data_tweet[k*(batch_size):(k+1)*(batch_size)]:\r\n",
        "        tweet = [(w2v.wv.word_vec(i[0]),i[1],i[2]) for i in x if i[0] in vocab]\r\n",
        "        l=len(tweet)\r\n",
        "        for i in range(l):\r\n",
        "          if tweet[i][1][:2]=='JJ':\r\n",
        "            for z in range(max(i-1,0),min(i+2,l)):\r\n",
        "              if tweet[z][1][:2]=='NN':\r\n",
        "                tweet[z]=((tweet[z][0]+tweet[i][0])/2,tweet[z][1])\r\n",
        "          if tweet[i][1][:2]=='RB':\r\n",
        "            for z in range(max(i-1,0),min(i+2,l)):\r\n",
        "              if tweet[z][1][:2]=='VB':\r\n",
        "                tweet[z]=((tweet[z][0]+tweet[i][0])/2,tweet[z][1])\r\n",
        "        res+=[np.array([x[0] for x in tweet])]\r\n",
        "      temp = np.array([np.pad(z.flatten(),(0,Max_input_size*Embedding_size-len(z.flatten()))).reshape(Max_input_size,Embedding_size) for z in res])\r\n",
        "      tempres = np.array(data_cat[k*(batch_size):(k+1)*(batch_size)])\r\n",
        "      yield (temp,tempres)          \r\n",
        "      \r\n",
        "def glove_gen(vocab,data_tweet,data_cat,batch_size,Max_input_size,Embedding_size,mul_factor=2):\r\n",
        "  while True:\r\n",
        "    for k in range(int(len(data_tweet)/batch_size)):\r\n",
        "      res=[]\r\n",
        "      for x in data_tweet[k*(batch_size):(k+1)*(batch_size)]:\r\n",
        "        tweet = [(vocab[i[0]],i[1],i[2]) for i in x if i[0] in vocab.keys()]\r\n",
        "        l=len(tweet)\r\n",
        "        for i in range(l):\r\n",
        "          if tweet[i][1][:2]=='JJ':\r\n",
        "            for z in range(max(i-1,0),min(i+2,l)):\r\n",
        "              if tweet[z][1][:2]=='NN':\r\n",
        "                tweet[z]=((tweet[z][0]+tweet[i][0])/2,tweet[z][1])\r\n",
        "          if tweet[i][1][:2]=='RB':\r\n",
        "            for z in range(max(i-1,0),min(i+2,l)):\r\n",
        "              if tweet[z][1][:2]=='VB':\r\n",
        "                tweet[z]=((tweet[z][0]+tweet[i][0])/2,tweet[z][1])\r\n",
        "        res+=[np.array([x[0] for x in tweet])]\r\n",
        "      temp = np.array([np.pad(z.flatten(),(0,Max_input_size*Embedding_size-len(z.flatten()))).reshape(Max_input_size,Embedding_size) for z in res])\r\n",
        "      tempres = np.array(data_cat[k*(batch_size):(k+1)*(batch_size)])\r\n",
        "      yield (temp,tempres)"
      ],
      "execution_count": 11,
      "outputs": []
    },
    {
      "cell_type": "code",
      "metadata": {
        "id": "6BZKZFX7oLyC",
        "colab": {
          "base_uri": "https://localhost:8080/"
        },
        "outputId": "bc8c66f0-efa8-4cdc-b7ae-bf9407b2d354"
      },
      "source": [
        "from sklearn.model_selection import StratifiedShuffleSplit\r\n",
        "sss = StratifiedShuffleSplit(n_splits=1, test_size=0.2, random_state=0)\r\n",
        "sss.get_n_splits(data_tweet, data_cat)\r\n",
        "X_train=[]\r\n",
        "X_test=[]\r\n",
        "y_train=[]\r\n",
        "y_test=[]\r\n",
        "counter=0\r\n",
        "for train_index, test_index in sss.split(data_tweet, data_cat):\r\n",
        "  print(\"TRAIN:\", train_index, \"TEST:\", test_index)\r\n",
        "  for i in train_index:\r\n",
        "    X_train+=[data_tweet[i]]\r\n",
        "    y_train+=[data_cat[i]]\r\n",
        "\r\n",
        "  for j in test_index:\r\n",
        "    X_test+=[data_tweet[j]]\r\n",
        "    y_test+=[data_cat[j]]\r\n",
        "\r\n",
        " # X_train, X_test = data_tweet[train_index], data_tweet[test_index]\r\n",
        " # y_train, y_test = data_cat[train_index], data_cat[test_index]\r\n",
        "print(X_train[:5])\r\n",
        "print(y_train[:5])\r\n",
        "sss = StratifiedShuffleSplit(n_splits=1, test_size=0.2, random_state=0)\r\n",
        "sss.get_n_splits(X_train, y_train)\r\n",
        "x_train=[]\r\n",
        "X_val=[]\r\n",
        "Y_train=[]\r\n",
        "y_val=[]\r\n",
        "for train_index1, test_index1 in sss.split(X_train, y_train):\r\n",
        "  print(\"TRAIN:\", train_index1, \"TEST:\", test_index1)\r\n",
        "  for i in train_index1:\r\n",
        "    x_train+=[X_train[i]]\r\n",
        "    Y_train+=[y_train[i]]\r\n",
        "\r\n",
        "  for j in test_index1:\r\n",
        "    X_val+=[X_train[j]]\r\n",
        "    y_val+=[y_train[j]]\r\n",
        "X_train=x_train\r\n",
        "y_train=Y_train\r\n",
        "print(len(X_train))\r\n",
        "print(len(y_train))\r\n",
        "print(len(X_test))\r\n",
        "print(len(y_test))\r\n",
        "print(len(X_val))\r\n",
        "print(len(y_val))\r\n",
        "print(X_train[:5])\r\n",
        "print(y_train[:5])\r\n",
        "result_table = [0,0,0]"
      ],
      "execution_count": 12,
      "outputs": [
        {
          "output_type": "stream",
          "text": [
            "TRAIN: [ 4990  8232 16430 ...  1782 14725 11582] TEST: [ 9096 15406 12733 ... 11184  9511 11639]\n",
            "[[('what', 'WP', 0), ('the', 'DT', 0), ('hell', 'NN', -0.375), ('has', 'VBZ', 0), ('gotten', 'VBN', 0), ('in', 'IN', 0), ('to', 'TO', 0), ('you', 'PRP', 0), ('like', 'IN', 0), ('legit', 'VB', 0), ('your', 'PRP$', 0), ('an', 'DT', 0), ('ass', 'NN', 0.0), ('now', 'RB', 0.0)], [('i', 'NNS', 0.0), ('do', 'VBP', 0.0), ('not', 'RB', -0.625), ('have', 'VB', 0.25), ('cell', 'NN', 0.0), ('phone', 'NN', 0.0), ('service', 'NN', 0.0), ('so', 'RB', 0.0), ('i', 'JJ', 0), ('am', 'VBP', 0), ('tweeting', 'VBG', 0), ('you', 'PRP', 0), ('are', 'VBP', 0), ('you', 'PRP', 0), ('still', 'RB', -0.125), ('down', 'RP', -0.125), ('for', 'IN', 0), ('some', 'DT', 0), ('shopping', 'NN', 0.0)], [('there', 'EX', 0), ('is', 'VBZ', 0), ('a', 'DT', 0), ('mysterious', 'JJ', 0), ('ticking', 'VBG', 0), ('noise', 'NN', 0.0), ('somewhere', 'RB', 0.0), ('by', 'IN', 0), ('my', 'PRP$', 0), ('bed', 'NN', 0.0), ('not', 'RB', -0.625), ('the', 'DT', 0), ('puppet', 'NN', 0.0), ('pals', 'NNS', 0), ('kind', 'NN', 0.0), ('scared', 'VBD', 0)], [('have', 'VB', 0.25), ('a', 'DT', 0), ('dream', 'NN', 0.0), ('your', 'PRP$', 0), ('breath', 'NN', 0.0), ('smells', 'NNS', 0), ('really', 'RB', 0.625), ('bad', 'JJ', 0), ('wake', 'VBP', 0.0), ('up', 'RP', 0.0), ('with', 'IN', 0), ('cat', 'NN', 0.0), ('throw', 'VBP', 0.0), ('up', 'RP', 0.0), ('on', 'IN', 0), ('your', 'PRP$', 0), ('pillow', 'NN', 0.0), ('wtf', 'NN', 0)], [('who', 'WP', 0), ('u', 'VBP', 0), ('hey', 'NNS', 0), ('there', 'RB', 0.0), ('long', 'RB', 0.0), ('time', 'NN', 0.0), ('no', 'DT', 0), ('see', 'NN', 0.0), ('speak', 'NN', 0), ('of', 'IN', 0), ('the', 'DT', 0), ('week', 'NN', 0.0)]]\n",
            "[array([0, 1, 0, 0, 0, 0]), array([1, 0, 0, 0, 0, 0]), array([0, 0, 0, 1, 0, 0]), array([0, 1, 0, 0, 0, 0]), array([0, 1, 0, 0, 0, 0])]\n",
            "TRAIN: [ 4502 13470 16740 ...  3004  1741 11001] TEST: [10612  3057 12008 ...  2972  6445 13573]\n",
            "13469\n",
            "13469\n",
            "4210\n",
            "4210\n",
            "3368\n",
            "3368\n",
            "[[('bahaha', 'NN', 0), ('i', 'NN', 0.0), ('live', 'VBP', 0.0), ('a', 'DT', 0), ('secretive', 'JJ', 0), ('life', 'NN', 0.0), ('happy', 'JJ', 0), ('face', 'NN', 0.0), ('or', 'CC', 0), ('smiley', 'NN', 0.0)], [('my', 'PRP$', 0), ('aunty', 'NN', 0.0), ('is', 'VBZ', 0), ('such', 'JJ', 0), ('a', 'DT', 0), ('cougar', 'NN', 0.0), ('she', 'PRP', 0), ('was', 'VBD', 0), ('hitting', 'VBG', 0), ('on', 'IN', 0), ('the', 'DT', 0), ('teenage', 'NN', 0), ('boy', 'NN', 0.25), ('singing', 'NN', 0.0), ('in', 'IN', 0), ('miss', 'JJ', 0), ('south', 'NN', 0.0), ('pacific', 'NN', 0.0), ('argh', 'NN', 0)], [('not', 'RB', -0.625), ('necessarily', 'RB', 0.0), ('if', 'IN', 0), ('you', 'PRP', 0), ('cut', 'VBD', 0.125), ('it', 'PRP', 0), ('multiple', 'JJ', 0), ('times', 'NNS', 0.5), ('in', 'IN', 0), ('one', 'CD', 0), ('day', 'NN', 0.0), ('esp', 'VB', 0), ('if', 'IN', 0), ('you', 'PRP', 0), ('can', 'MD', 0), ('arrange', 'VB', 0.125), ('to', 'TO', 0), ('do', 'VB', 0.0), ('it', 'PRP', 0), ('while', 'IN', 0), ('he', 'PRP', 0), ('is', 'VBZ', 0), ('gone', 'VBN', 0), ('all', 'DT', 0), ('day', 'NN', 0.0)], [('gonna', 'NNS', 0), ('make', 'VBP', 0.0), ('the', 'DT', 0), ('most', 'RBS', 0.0), ('of', 'IN', 0), ('my', 'PRP$', 0), ('time', 'NN', 0.0), ('curled', 'VBD', 0), ('up', 'RB', 0.0), ('in', 'IN', 0), ('the', 'DT', 0), ('warm', 'NN', 0), ('today', 'NN', 0.125), ('back', 'RB', 0.0), ('to', 'TO', 0), ('mucking', 'VBG', 0), ('out', 'RP', 0.0), ('stables', 'NNS', 0), ('for', 'IN', 0), ('3', 'CD', 0), ('shetties', 'NNS', 0), ('and', 'CC', 0), ('two', 'CD', 0), ('horses', 'NNS', 0), ('on', 'IN', 0), ('friday', 'NN', 0.0)], [('effin', 'JJ', 0), ('school', 'NN', 0.0), ('blocks', 'NNS', 0), ('every', 'DT', 0), ('10', 'CD', 0), ('seconds', 'NNS', 0), ('i', 'JJ', 0), ('get', 'VBP', 0.125), ('a', 'DT', 0), ('request', 'NN', 0.0), ('for', 'IN', 0), ('an', 'DT', 0), ('administrator', 'NN', 0.0), ('s', 'NN', 0.0), ('password', 'NN', 0.0), ('grrrrrrr', 'NN', 0)]]\n",
            "[array([0, 1, 0, 0, 0, 0]), array([0, 0, 0, 0, 0, 1]), array([0, 1, 0, 0, 0, 0]), array([1, 0, 0, 0, 0, 0]), array([0, 0, 0, 0, 1, 0])]\n"
          ],
          "name": "stdout"
        }
      ]
    },
    {
      "cell_type": "code",
      "metadata": {
        "id": "EIj49u6QoLuq"
      },
      "source": [
        "epochs = 30"
      ],
      "execution_count": 13,
      "outputs": []
    },
    {
      "cell_type": "code",
      "metadata": {
        "id": "EwSXhu_lz5eC"
      },
      "source": [
        "from keras import backend as K\r\n",
        "def recall(y_true, y_pred):\r\n",
        "        \"\"\"Recall metric.\r\n",
        "\r\n",
        "        Only computes a batch-wise average of recall.\r\n",
        "\r\n",
        "        Computes the recall, a metric for multi-label classification of\r\n",
        "        how many relevant items are selected.\r\n",
        "        \"\"\"\r\n",
        "        true_positives = K.sum(K.round(K.clip(y_true * y_pred, 0, 1)))\r\n",
        "        possible_positives = K.sum(K.round(K.clip(y_true, 0, 1)))\r\n",
        "        recalls = true_positives / (possible_positives + K.epsilon())\r\n",
        "        return recalls\r\n",
        "def precision(y_true, y_pred):\r\n",
        "        \"\"\"Precision metric.\r\n",
        "\r\n",
        "        Only computes a batch-wise average of precision.\r\n",
        "\r\n",
        "        Computes the precision, a metric for multi-label classification of\r\n",
        "        how many selected items are relevant.\r\n",
        "        \"\"\"\r\n",
        "        true_positives = K.sum(K.round(K.clip(y_true * y_pred, 0, 1)))\r\n",
        "        predicted_positives = K.sum(K.round(K.clip(y_pred, 0, 1)))\r\n",
        "        precisions = true_positives / (predicted_positives + K.epsilon())\r\n",
        "        return precisions\r\n",
        "def f1(y_true, y_pred):\r\n",
        "    precisions = precision(y_true, y_pred)\r\n",
        "    recalls = recall(y_true, y_pred)\r\n",
        "    return 2*((precisions*recalls)/(precisions+recalls+K.epsilon()))"
      ],
      "execution_count": 14,
      "outputs": []
    },
    {
      "cell_type": "code",
      "metadata": {
        "id": "q9VFILTsoLpE",
        "colab": {
          "base_uri": "https://localhost:8080/"
        },
        "outputId": "1b64e968-7c34-4156-d558-4adba7bf070d"
      },
      "source": [
        "model_sg_bi = tf.keras.Sequential()\r\n",
        "model_sg_bi.add(tf.keras.Input(shape=(Max_input_size,Embedding_size)))\r\n",
        "model_sg_bi.add(tf.keras.layers.Bidirectional(tf.keras.layers.LSTM(64),merge_mode='concat'))\r\n",
        "model_sg_bi.add(tf.keras.layers.Dropout(0.2))\r\n",
        "model_sg_bi.add(tf.keras.layers.Dense(64,activation='relu'))\r\n",
        "model_sg_bi.add(tf.keras.layers.Dropout(0.2))\r\n",
        "model_sg_bi.add(tf.keras.layers.Dense(6, activation='softmax'))\r\n",
        "model_sg_bi.compile(loss='categorical_crossentropy',optimizer='adam', \r\n",
        "                           metrics=['accuracy',f1,precision,recall])\r\n",
        "sg_train_gen=vec_gen(w2v_sg,vocab_sg,X_train,y_train,batch_size,Max_input_size,Embedding_size)\r\n",
        "sg_val_gen=vec_gen(w2v_sg,vocab_sg,X_val,y_val,batch_size,Max_input_size,Embedding_size)\r\n",
        "history_sg_bi = model_sg_bi.fit_generator(sg_train_gen,validation_data=sg_val_gen,validation_steps=int((len(X_val)/batch_size)+1),steps_per_epoch=int((len(X_train)/batch_size)+1),epochs=epochs)\r\n",
        "history = model_sg_bi.evaluate(x = vec_gen(w2v_sg,vocab_sg,X_test,y_test,batch_size,Max_input_size,Embedding_size),steps=int(len(y_test)/batch_size))\r\n",
        "print(history)\r\n",
        "result_table[1]=history[1]\r\n",
        "print(\"SG_BI\")"
      ],
      "execution_count": 15,
      "outputs": [
        {
          "output_type": "stream",
          "text": [
            "/usr/local/lib/python3.7/dist-packages/tensorflow/python/keras/engine/training.py:1844: UserWarning: `Model.fit_generator` is deprecated and will be removed in a future version. Please use `Model.fit`, which supports generators.\n",
            "  warnings.warn('`Model.fit_generator` is deprecated and '\n"
          ],
          "name": "stderr"
        },
        {
          "output_type": "stream",
          "text": [
            "Epoch 1/30\n",
            "27/27 [==============================] - 40s 1s/step - loss: 1.7370 - accuracy: 0.3038 - f1: 0.0062 - precision: 0.0410 - recall: 0.0037 - val_loss: 1.5629 - val_accuracy: 0.3877 - val_f1: 0.0000e+00 - val_precision: 0.0000e+00 - val_recall: 0.0000e+00\n",
            "Epoch 2/30\n",
            "27/27 [==============================] - 34s 1s/step - loss: 1.5559 - accuracy: 0.3961 - f1: 0.0233 - precision: 0.5095 - recall: 0.0121 - val_loss: 1.5215 - val_accuracy: 0.4006 - val_f1: 0.0795 - val_precision: 0.6074 - val_recall: 0.0426\n",
            "Epoch 3/30\n",
            "27/27 [==============================] - 34s 1s/step - loss: 1.5119 - accuracy: 0.4139 - f1: 0.1465 - precision: 0.6343 - recall: 0.0853 - val_loss: 1.4665 - val_accuracy: 0.4366 - val_f1: 0.2083 - val_precision: 0.6780 - val_recall: 0.1231\n",
            "Epoch 4/30\n",
            "27/27 [==============================] - 34s 1s/step - loss: 1.4609 - accuracy: 0.4295 - f1: 0.2506 - precision: 0.6424 - recall: 0.1594 - val_loss: 1.4333 - val_accuracy: 0.4389 - val_f1: 0.2738 - val_precision: 0.6826 - val_recall: 0.1714\n",
            "Epoch 5/30\n",
            "27/27 [==============================] - 34s 1s/step - loss: 1.4172 - accuracy: 0.4549 - f1: 0.3038 - precision: 0.6610 - recall: 0.1997 - val_loss: 1.4079 - val_accuracy: 0.4591 - val_f1: 0.3010 - val_precision: 0.6704 - val_recall: 0.1943\n",
            "Epoch 6/30\n",
            "27/27 [==============================] - 38s 1s/step - loss: 1.3700 - accuracy: 0.4760 - f1: 0.3505 - precision: 0.6788 - recall: 0.2376 - val_loss: 1.3967 - val_accuracy: 0.4674 - val_f1: 0.3203 - val_precision: 0.6625 - val_recall: 0.2114\n",
            "Epoch 7/30\n",
            "27/27 [==============================] - 35s 1s/step - loss: 1.3452 - accuracy: 0.4849 - f1: 0.3693 - precision: 0.6966 - recall: 0.2522 - val_loss: 1.3897 - val_accuracy: 0.4703 - val_f1: 0.3497 - val_precision: 0.6594 - val_recall: 0.2380\n",
            "Epoch 8/30\n",
            "27/27 [==============================] - 34s 1s/step - loss: 1.3337 - accuracy: 0.4919 - f1: 0.3841 - precision: 0.6946 - recall: 0.2660 - val_loss: 1.3835 - val_accuracy: 0.4766 - val_f1: 0.3983 - val_precision: 0.6397 - val_recall: 0.2894\n",
            "Epoch 9/30\n",
            "27/27 [==============================] - 34s 1s/step - loss: 1.3290 - accuracy: 0.4827 - f1: 0.3830 - precision: 0.6855 - recall: 0.2671 - val_loss: 1.3952 - val_accuracy: 0.4851 - val_f1: 0.4174 - val_precision: 0.6290 - val_recall: 0.3126\n",
            "Epoch 10/30\n",
            "27/27 [==============================] - 35s 1s/step - loss: 1.3353 - accuracy: 0.4824 - f1: 0.3852 - precision: 0.6912 - recall: 0.2684 - val_loss: 1.3867 - val_accuracy: 0.4817 - val_f1: 0.4102 - val_precision: 0.6339 - val_recall: 0.3034\n",
            "Epoch 11/30\n",
            "27/27 [==============================] - 34s 1s/step - loss: 1.3139 - accuracy: 0.4929 - f1: 0.4043 - precision: 0.6975 - recall: 0.2857 - val_loss: 1.3772 - val_accuracy: 0.4860 - val_f1: 0.4022 - val_precision: 0.6605 - val_recall: 0.2894\n",
            "Epoch 12/30\n",
            "27/27 [==============================] - 34s 1s/step - loss: 1.3016 - accuracy: 0.5039 - f1: 0.4120 - precision: 0.7134 - recall: 0.2903 - val_loss: 1.3879 - val_accuracy: 0.4851 - val_f1: 0.3937 - val_precision: 0.6575 - val_recall: 0.2811\n",
            "Epoch 13/30\n",
            "27/27 [==============================] - 34s 1s/step - loss: 1.2974 - accuracy: 0.5054 - f1: 0.4110 - precision: 0.7031 - recall: 0.2909 - val_loss: 1.3925 - val_accuracy: 0.4757 - val_f1: 0.3868 - val_precision: 0.6503 - val_recall: 0.2754\n",
            "Epoch 14/30\n",
            "27/27 [==============================] - 34s 1s/step - loss: 1.2679 - accuracy: 0.5183 - f1: 0.4350 - precision: 0.7163 - recall: 0.3129 - val_loss: 1.3809 - val_accuracy: 0.4851 - val_f1: 0.4248 - val_precision: 0.6440 - val_recall: 0.3171\n",
            "Epoch 15/30\n",
            "27/27 [==============================] - 34s 1s/step - loss: 1.2726 - accuracy: 0.5205 - f1: 0.4396 - precision: 0.7099 - recall: 0.3199 - val_loss: 1.3866 - val_accuracy: 0.4923 - val_f1: 0.4374 - val_precision: 0.6304 - val_recall: 0.3351\n",
            "Epoch 16/30\n",
            "27/27 [==============================] - 34s 1s/step - loss: 1.2498 - accuracy: 0.5280 - f1: 0.4556 - precision: 0.7114 - recall: 0.3362 - val_loss: 1.3787 - val_accuracy: 0.4857 - val_f1: 0.4322 - val_precision: 0.6248 - val_recall: 0.3306\n",
            "Epoch 17/30\n",
            "27/27 [==============================] - 34s 1s/step - loss: 1.2441 - accuracy: 0.5329 - f1: 0.4516 - precision: 0.7153 - recall: 0.3309 - val_loss: 1.3625 - val_accuracy: 0.4849 - val_f1: 0.4119 - val_precision: 0.6536 - val_recall: 0.3009\n",
            "Epoch 18/30\n",
            "27/27 [==============================] - 34s 1s/step - loss: 1.2271 - accuracy: 0.5405 - f1: 0.4628 - precision: 0.7316 - recall: 0.3397 - val_loss: 1.3600 - val_accuracy: 0.4823 - val_f1: 0.3973 - val_precision: 0.6695 - val_recall: 0.2826\n",
            "Epoch 19/30\n",
            "27/27 [==============================] - 34s 1s/step - loss: 1.2050 - accuracy: 0.5450 - f1: 0.4777 - precision: 0.7391 - recall: 0.3545 - val_loss: 1.3494 - val_accuracy: 0.4886 - val_f1: 0.4389 - val_precision: 0.6451 - val_recall: 0.3329\n",
            "Epoch 20/30\n",
            "27/27 [==============================] - 34s 1s/step - loss: 1.1867 - accuracy: 0.5494 - f1: 0.4948 - precision: 0.7342 - recall: 0.3747 - val_loss: 1.3471 - val_accuracy: 0.4989 - val_f1: 0.4633 - val_precision: 0.6241 - val_recall: 0.3686\n",
            "Epoch 21/30\n",
            "27/27 [==============================] - 35s 1s/step - loss: 1.1673 - accuracy: 0.5620 - f1: 0.5021 - precision: 0.7391 - recall: 0.3816 - val_loss: 1.3394 - val_accuracy: 0.4943 - val_f1: 0.4447 - val_precision: 0.6541 - val_recall: 0.3371\n",
            "Epoch 22/30\n",
            "27/27 [==============================] - 34s 1s/step - loss: 1.1409 - accuracy: 0.5689 - f1: 0.5152 - precision: 0.7482 - recall: 0.3937 - val_loss: 1.3301 - val_accuracy: 0.4997 - val_f1: 0.4416 - val_precision: 0.6551 - val_recall: 0.3331\n",
            "Epoch 23/30\n",
            "27/27 [==============================] - 34s 1s/step - loss: 1.1181 - accuracy: 0.5784 - f1: 0.5197 - precision: 0.7526 - recall: 0.3982 - val_loss: 1.3321 - val_accuracy: 0.5000 - val_f1: 0.4471 - val_precision: 0.6550 - val_recall: 0.3394\n",
            "Epoch 24/30\n",
            "27/27 [==============================] - 40s 1s/step - loss: 1.0963 - accuracy: 0.5867 - f1: 0.5353 - precision: 0.7625 - recall: 0.4136 - val_loss: 1.3475 - val_accuracy: 0.5029 - val_f1: 0.4479 - val_precision: 0.6445 - val_recall: 0.3434\n",
            "Epoch 25/30\n",
            "27/27 [==============================] - 35s 1s/step - loss: 1.0707 - accuracy: 0.5977 - f1: 0.5511 - precision: 0.7731 - recall: 0.4295 - val_loss: 1.3704 - val_accuracy: 0.4989 - val_f1: 0.4513 - val_precision: 0.6353 - val_recall: 0.3500\n",
            "Epoch 26/30\n",
            "27/27 [==============================] - 34s 1s/step - loss: 1.0510 - accuracy: 0.6040 - f1: 0.5622 - precision: 0.7725 - recall: 0.4426 - val_loss: 1.3743 - val_accuracy: 0.5071 - val_f1: 0.4690 - val_precision: 0.6280 - val_recall: 0.3743\n",
            "Epoch 27/30\n",
            "27/27 [==============================] - 34s 1s/step - loss: 1.0195 - accuracy: 0.6184 - f1: 0.5828 - precision: 0.7796 - recall: 0.4660 - val_loss: 1.4203 - val_accuracy: 0.5043 - val_f1: 0.4751 - val_precision: 0.6157 - val_recall: 0.3869\n",
            "Epoch 28/30\n",
            "27/27 [==============================] - 34s 1s/step - loss: 1.0017 - accuracy: 0.6235 - f1: 0.5919 - precision: 0.7790 - recall: 0.4780 - val_loss: 1.4596 - val_accuracy: 0.5051 - val_f1: 0.4819 - val_precision: 0.5953 - val_recall: 0.4049\n",
            "Epoch 29/30\n",
            "27/27 [==============================] - 34s 1s/step - loss: 0.9921 - accuracy: 0.6276 - f1: 0.5972 - precision: 0.7714 - recall: 0.4884 - val_loss: 1.4930 - val_accuracy: 0.4977 - val_f1: 0.4875 - val_precision: 0.6042 - val_recall: 0.4086\n",
            "Epoch 30/30\n",
            "27/27 [==============================] - 34s 1s/step - loss: 0.9790 - accuracy: 0.6338 - f1: 0.6026 - precision: 0.7742 - recall: 0.4953 - val_loss: 1.5260 - val_accuracy: 0.4780 - val_f1: 0.4612 - val_precision: 0.5951 - val_recall: 0.3766\n",
            "8/8 [==============================] - 6s 792ms/step - loss: 1.5212 - accuracy: 0.4782 - f1: 0.4655 - precision: 0.5978 - recall: 0.3812\n",
            "[1.5212360620498657, 0.47824999690055847, 0.46546217799186707, 0.5977879762649536, 0.3812499940395355]\n",
            "SG_BI\n"
          ],
          "name": "stdout"
        }
      ]
    },
    {
      "cell_type": "code",
      "metadata": {
        "id": "vn15zb6NomYU",
        "colab": {
          "base_uri": "https://localhost:8080/"
        },
        "outputId": "dd90b627-df0c-4829-a680-d3ff06f74f2f"
      },
      "source": [
        "model_cbow_bi = tf.keras.Sequential()\r\n",
        "model_cbow_bi.add(tf.keras.Input(shape=(Max_input_size,Embedding_size)))\r\n",
        "model_cbow_bi.add(tf.keras.layers.Bidirectional(tf.keras.layers.LSTM(64),merge_mode='concat'))\r\n",
        "model_cbow_bi.add(tf.keras.layers.Dropout(0.2))\r\n",
        "model_cbow_bi.add(tf.keras.layers.Dense(64,activation='relu'))\r\n",
        "model_cbow_bi.add(tf.keras.layers.Dropout(0.2))\r\n",
        "model_cbow_bi.add(tf.keras.layers.Dense(6, activation='softmax'))\r\n",
        "model_cbow_bi.compile(loss='categorical_crossentropy',optimizer='adam', \r\n",
        "                           metrics=['accuracy',f1,precision,recall])\r\n",
        "cbow_train_gen=vec_gen(w2v_cbow,vocab_cbow,X_train,y_train,batch_size,Max_input_size,Embedding_size)\r\n",
        "cbow_val_gen=vec_gen(w2v_cbow,vocab_cbow,X_val,y_val,batch_size,Max_input_size,Embedding_size)\r\n",
        "history_cbow_bi = model_cbow_bi.fit_generator(cbow_train_gen,validation_data=cbow_val_gen,validation_steps=int((len(X_val)/batch_size)+1),steps_per_epoch=int((len(X_train)/batch_size)+1),epochs=epochs)\r\n",
        "history = model_cbow_bi.evaluate(x = vec_gen(w2v_cbow,vocab_cbow,X_test,y_test,batch_size,Max_input_size,Embedding_size),steps=int(len(y_test)/batch_size))\r\n",
        "print(history)\r\n",
        "\r\n",
        "result_table[2]=history[1]\r\n",
        "print(\"CBOW_BI\")"
      ],
      "execution_count": 16,
      "outputs": [
        {
          "output_type": "stream",
          "text": [
            "/usr/local/lib/python3.7/dist-packages/tensorflow/python/keras/engine/training.py:1844: UserWarning: `Model.fit_generator` is deprecated and will be removed in a future version. Please use `Model.fit`, which supports generators.\n",
            "  warnings.warn('`Model.fit_generator` is deprecated and '\n"
          ],
          "name": "stderr"
        },
        {
          "output_type": "stream",
          "text": [
            "Epoch 1/30\n",
            "27/27 [==============================] - 39s 1s/step - loss: 1.7333 - accuracy: 0.3361 - f1: 0.0141 - precision: 0.0438 - recall: 0.0094 - val_loss: 1.5619 - val_accuracy: 0.3877 - val_f1: 0.0023 - val_precision: 0.5714 - val_recall: 0.0011\n",
            "Epoch 2/30\n",
            "27/27 [==============================] - 35s 1s/step - loss: 1.5565 - accuracy: 0.3963 - f1: 0.0458 - precision: 0.5603 - recall: 0.0251 - val_loss: 1.5116 - val_accuracy: 0.4083 - val_f1: 0.1962 - val_precision: 0.5902 - val_recall: 0.1177\n",
            "Epoch 3/30\n",
            "27/27 [==============================] - 34s 1s/step - loss: 1.4950 - accuracy: 0.4128 - f1: 0.2023 - precision: 0.6132 - recall: 0.1232 - val_loss: 1.4576 - val_accuracy: 0.4229 - val_f1: 0.2471 - val_precision: 0.6635 - val_recall: 0.1520\n",
            "Epoch 4/30\n",
            "27/27 [==============================] - 35s 1s/step - loss: 1.4391 - accuracy: 0.4413 - f1: 0.2662 - precision: 0.6542 - recall: 0.1689 - val_loss: 1.4130 - val_accuracy: 0.4549 - val_f1: 0.3233 - val_precision: 0.6684 - val_recall: 0.2134\n",
            "Epoch 5/30\n",
            "27/27 [==============================] - 34s 1s/step - loss: 1.3954 - accuracy: 0.4664 - f1: 0.3182 - precision: 0.6748 - recall: 0.2099 - val_loss: 1.3894 - val_accuracy: 0.4691 - val_f1: 0.3341 - val_precision: 0.6898 - val_recall: 0.2206\n",
            "Epoch 6/30\n",
            "27/27 [==============================] - 34s 1s/step - loss: 1.3541 - accuracy: 0.4848 - f1: 0.3657 - precision: 0.6882 - recall: 0.2501 - val_loss: 1.3883 - val_accuracy: 0.4717 - val_f1: 0.3331 - val_precision: 0.6885 - val_recall: 0.2197\n",
            "Epoch 7/30\n",
            "27/27 [==============================] - 34s 1s/step - loss: 1.3245 - accuracy: 0.4985 - f1: 0.3873 - precision: 0.7076 - recall: 0.2674 - val_loss: 1.3815 - val_accuracy: 0.4760 - val_f1: 0.3916 - val_precision: 0.6373 - val_recall: 0.2829\n",
            "Epoch 8/30\n",
            "27/27 [==============================] - 36s 1s/step - loss: 1.3236 - accuracy: 0.4896 - f1: 0.3881 - precision: 0.6820 - recall: 0.2735 - val_loss: 1.3801 - val_accuracy: 0.4829 - val_f1: 0.4071 - val_precision: 0.6489 - val_recall: 0.2969\n",
            "Epoch 9/30\n",
            "27/27 [==============================] - 34s 1s/step - loss: 1.3170 - accuracy: 0.4927 - f1: 0.3984 - precision: 0.6892 - recall: 0.2811 - val_loss: 1.3895 - val_accuracy: 0.4817 - val_f1: 0.4135 - val_precision: 0.6298 - val_recall: 0.3080\n",
            "Epoch 10/30\n",
            "27/27 [==============================] - 35s 1s/step - loss: 1.3188 - accuracy: 0.4906 - f1: 0.4008 - precision: 0.6952 - recall: 0.2823 - val_loss: 1.3797 - val_accuracy: 0.4849 - val_f1: 0.4049 - val_precision: 0.6405 - val_recall: 0.2963\n",
            "Epoch 11/30\n",
            "27/27 [==============================] - 41s 2s/step - loss: 1.3011 - accuracy: 0.5000 - f1: 0.4094 - precision: 0.7050 - recall: 0.2891 - val_loss: 1.3699 - val_accuracy: 0.4854 - val_f1: 0.3858 - val_precision: 0.6667 - val_recall: 0.2717\n",
            "Epoch 12/30\n",
            "27/27 [==============================] - 35s 1s/step - loss: 1.2905 - accuracy: 0.5101 - f1: 0.4111 - precision: 0.7077 - recall: 0.2904 - val_loss: 1.3702 - val_accuracy: 0.4794 - val_f1: 0.3760 - val_precision: 0.6805 - val_recall: 0.2600\n",
            "Epoch 13/30\n",
            "27/27 [==============================] - 35s 1s/step - loss: 1.2795 - accuracy: 0.5159 - f1: 0.4173 - precision: 0.7115 - recall: 0.2964 - val_loss: 1.3668 - val_accuracy: 0.4791 - val_f1: 0.3713 - val_precision: 0.6809 - val_recall: 0.2554\n",
            "Epoch 14/30\n",
            "27/27 [==============================] - 35s 1s/step - loss: 1.2516 - accuracy: 0.5261 - f1: 0.4397 - precision: 0.7254 - recall: 0.3167 - val_loss: 1.3658 - val_accuracy: 0.4894 - val_f1: 0.4259 - val_precision: 0.6391 - val_recall: 0.3197\n",
            "Epoch 15/30\n",
            "27/27 [==============================] - 35s 1s/step - loss: 1.2580 - accuracy: 0.5271 - f1: 0.4491 - precision: 0.7152 - recall: 0.3291 - val_loss: 1.3729 - val_accuracy: 0.4891 - val_f1: 0.4400 - val_precision: 0.6227 - val_recall: 0.3409\n",
            "Epoch 16/30\n",
            "27/27 [==============================] - 35s 1s/step - loss: 1.2345 - accuracy: 0.5373 - f1: 0.4604 - precision: 0.7263 - recall: 0.3388 - val_loss: 1.3541 - val_accuracy: 0.4857 - val_f1: 0.4078 - val_precision: 0.6636 - val_recall: 0.2949\n",
            "Epoch 17/30\n",
            "27/27 [==============================] - 35s 1s/step - loss: 1.2158 - accuracy: 0.5382 - f1: 0.4669 - precision: 0.7352 - recall: 0.3435 - val_loss: 1.3466 - val_accuracy: 0.4874 - val_f1: 0.3772 - val_precision: 0.6962 - val_recall: 0.2589\n",
            "Epoch 18/30\n",
            "27/27 [==============================] - 35s 1s/step - loss: 1.1986 - accuracy: 0.5459 - f1: 0.4775 - precision: 0.7495 - recall: 0.3541 - val_loss: 1.3510 - val_accuracy: 0.4877 - val_f1: 0.3971 - val_precision: 0.6786 - val_recall: 0.2809\n",
            "Epoch 19/30\n",
            "27/27 [==============================] - 35s 1s/step - loss: 1.1820 - accuracy: 0.5522 - f1: 0.4935 - precision: 0.7501 - recall: 0.3707 - val_loss: 1.3559 - val_accuracy: 0.4831 - val_f1: 0.3875 - val_precision: 0.6555 - val_recall: 0.2754\n",
            "Epoch 20/30\n",
            "27/27 [==============================] - 35s 1s/step - loss: 1.1683 - accuracy: 0.5563 - f1: 0.4954 - precision: 0.7489 - recall: 0.3740 - val_loss: 1.3449 - val_accuracy: 0.4957 - val_f1: 0.4413 - val_precision: 0.6549 - val_recall: 0.3331\n",
            "Epoch 21/30\n",
            "27/27 [==============================] - 36s 1s/step - loss: 1.1411 - accuracy: 0.5660 - f1: 0.5204 - precision: 0.7469 - recall: 0.4003 - val_loss: 1.3906 - val_accuracy: 0.4969 - val_f1: 0.4656 - val_precision: 0.6044 - val_recall: 0.3791\n",
            "Epoch 22/30\n",
            "27/27 [==============================] - 35s 1s/step - loss: 1.1208 - accuracy: 0.5752 - f1: 0.5216 - precision: 0.7474 - recall: 0.4036 - val_loss: 1.4078 - val_accuracy: 0.4971 - val_f1: 0.4681 - val_precision: 0.6021 - val_recall: 0.3834\n",
            "Epoch 23/30\n",
            "27/27 [==============================] - 36s 1s/step - loss: 1.1112 - accuracy: 0.5793 - f1: 0.5314 - precision: 0.7548 - recall: 0.4124 - val_loss: 1.3765 - val_accuracy: 0.5057 - val_f1: 0.4775 - val_precision: 0.6195 - val_recall: 0.3889\n",
            "Epoch 24/30\n",
            "27/27 [==============================] - 36s 1s/step - loss: 1.0953 - accuracy: 0.5887 - f1: 0.5387 - precision: 0.7663 - recall: 0.4173 - val_loss: 1.3554 - val_accuracy: 0.5031 - val_f1: 0.4575 - val_precision: 0.6343 - val_recall: 0.3583\n",
            "Epoch 25/30\n",
            "27/27 [==============================] - 36s 1s/step - loss: 1.0714 - accuracy: 0.6013 - f1: 0.5537 - precision: 0.7726 - recall: 0.4330 - val_loss: 1.3658 - val_accuracy: 0.4909 - val_f1: 0.4355 - val_precision: 0.6312 - val_recall: 0.3326\n",
            "Epoch 26/30\n",
            "27/27 [==============================] - 36s 1s/step - loss: 1.0448 - accuracy: 0.6126 - f1: 0.5656 - precision: 0.7868 - recall: 0.4433 - val_loss: 1.3791 - val_accuracy: 0.4846 - val_f1: 0.4360 - val_precision: 0.6408 - val_recall: 0.3306\n",
            "Epoch 27/30\n",
            "27/27 [==============================] - 36s 1s/step - loss: 1.0157 - accuracy: 0.6217 - f1: 0.5829 - precision: 0.7867 - recall: 0.4640 - val_loss: 1.3848 - val_accuracy: 0.4974 - val_f1: 0.4696 - val_precision: 0.6245 - val_recall: 0.3766\n",
            "Epoch 28/30\n",
            "27/27 [==============================] - 38s 1s/step - loss: 0.9903 - accuracy: 0.6320 - f1: 0.6007 - precision: 0.7867 - recall: 0.4861 - val_loss: 1.4240 - val_accuracy: 0.5080 - val_f1: 0.4737 - val_precision: 0.6044 - val_recall: 0.3897\n",
            "Epoch 29/30\n",
            "27/27 [==============================] - 37s 1s/step - loss: 0.9895 - accuracy: 0.6306 - f1: 0.6084 - precision: 0.7861 - recall: 0.4967 - val_loss: 1.4634 - val_accuracy: 0.5123 - val_f1: 0.4772 - val_precision: 0.5961 - val_recall: 0.3980\n",
            "Epoch 30/30\n",
            "27/27 [==============================] - 37s 1s/step - loss: 0.9719 - accuracy: 0.6374 - f1: 0.6116 - precision: 0.7846 - recall: 0.5015 - val_loss: 1.4938 - val_accuracy: 0.5077 - val_f1: 0.4803 - val_precision: 0.5909 - val_recall: 0.4051\n",
            "8/8 [==============================] - 6s 883ms/step - loss: 1.4846 - accuracy: 0.4992 - f1: 0.4788 - precision: 0.5895 - recall: 0.4033\n",
            "[1.4845749139785767, 0.49924999475479126, 0.47876495122909546, 0.5895395278930664, 0.4032500088214874]\n",
            "CBOW_BI\n"
          ],
          "name": "stdout"
        }
      ]
    },
    {
      "cell_type": "code",
      "metadata": {
        "colab": {
          "base_uri": "https://localhost:8080/"
        },
        "id": "gPXr5_utxIvm",
        "outputId": "8fcb9672-5d40-4ba2-ddab-3f978e093346"
      },
      "source": [
        "model_glove_bi = tf.keras.Sequential()\n",
        "model_glove_bi.add(tf.keras.Input(shape=(Max_input_size,Embedding_size)))\n",
        "model_glove_bi.add(tf.keras.layers.Bidirectional(tf.keras.layers.LSTM(64),merge_mode='concat'))\n",
        "model_glove_bi.add(tf.keras.layers.Dropout(0.2))\n",
        "model_glove_bi.add(tf.keras.layers.Dense(64,activation='relu'))\n",
        "model_glove_bi.add(tf.keras.layers.Dropout(0.2))\n",
        "model_glove_bi.add(tf.keras.layers.Dense(6, activation='softmax'))\n",
        "model_glove_bi.compile(loss='categorical_crossentropy',optimizer='adam', \n",
        "                           metrics=['accuracy',f1,precision,recall])\n",
        "glove_train_gen=glove_gen(vocab_glove,X_train,y_train,batch_size,Max_input_size,Embedding_size)\n",
        "glove_val_gen=glove_gen(vocab_glove,X_val,y_val,batch_size,Max_input_size,Embedding_size)\n",
        "history_glove_bi = model_glove_bi.fit_generator(glove_train_gen,validation_data=glove_val_gen,validation_steps=int((len(X_val)/batch_size)+1),steps_per_epoch=int((len(X_train)/batch_size)+1),epochs=epochs)\n",
        "history = model_glove_bi.evaluate(x = glove_gen(vocab_glove,X_test,y_test,batch_size,Max_input_size,Embedding_size),steps=int(len(y_test)/batch_size))\n",
        "print(history)\n",
        "\n",
        "result_table[0]=history[1]\n",
        "print(\"GLOVE_BI\")"
      ],
      "execution_count": 17,
      "outputs": [
        {
          "output_type": "stream",
          "text": [
            "/usr/local/lib/python3.7/dist-packages/tensorflow/python/keras/engine/training.py:1844: UserWarning: `Model.fit_generator` is deprecated and will be removed in a future version. Please use `Model.fit`, which supports generators.\n",
            "  warnings.warn('`Model.fit_generator` is deprecated and '\n"
          ],
          "name": "stderr"
        },
        {
          "output_type": "stream",
          "text": [
            "Epoch 1/30\n",
            "27/27 [==============================] - 22s 696ms/step - loss: 1.6231 - accuracy: 0.3783 - f1: 0.0511 - precision: 0.2679 - recall: 0.0291 - val_loss: 1.3852 - val_accuracy: 0.4620 - val_f1: 0.3647 - val_precision: 0.6449 - val_recall: 0.2546\n",
            "Epoch 2/30\n",
            "27/27 [==============================] - 17s 650ms/step - loss: 1.3571 - accuracy: 0.4776 - f1: 0.3764 - precision: 0.6840 - recall: 0.2605 - val_loss: 1.2532 - val_accuracy: 0.5211 - val_f1: 0.4115 - val_precision: 0.7424 - val_recall: 0.2851\n",
            "Epoch 3/30\n",
            "27/27 [==============================] - 17s 643ms/step - loss: 1.2529 - accuracy: 0.5182 - f1: 0.4441 - precision: 0.7196 - recall: 0.3223 - val_loss: 1.1947 - val_accuracy: 0.5437 - val_f1: 0.4757 - val_precision: 0.7602 - val_recall: 0.3463\n",
            "Epoch 4/30\n",
            "27/27 [==============================] - 17s 640ms/step - loss: 1.1819 - accuracy: 0.5562 - f1: 0.4812 - precision: 0.7401 - recall: 0.3577 - val_loss: 1.1489 - val_accuracy: 0.5771 - val_f1: 0.5188 - val_precision: 0.7278 - val_recall: 0.4031\n",
            "Epoch 5/30\n",
            "27/27 [==============================] - 17s 637ms/step - loss: 1.1207 - accuracy: 0.5831 - f1: 0.5291 - precision: 0.7450 - recall: 0.4107 - val_loss: 1.1191 - val_accuracy: 0.5820 - val_f1: 0.5329 - val_precision: 0.7608 - val_recall: 0.4103\n",
            "Epoch 6/30\n",
            "27/27 [==============================] - 17s 640ms/step - loss: 1.0745 - accuracy: 0.6031 - f1: 0.5508 - precision: 0.7534 - recall: 0.4347 - val_loss: 1.0919 - val_accuracy: 0.5914 - val_f1: 0.5453 - val_precision: 0.7608 - val_recall: 0.4251\n",
            "Epoch 7/30\n",
            "27/27 [==============================] - 17s 646ms/step - loss: 1.0324 - accuracy: 0.6158 - f1: 0.5758 - precision: 0.7643 - recall: 0.4625 - val_loss: 1.0896 - val_accuracy: 0.6014 - val_f1: 0.5667 - val_precision: 0.7311 - val_recall: 0.4629\n",
            "Epoch 8/30\n",
            "27/27 [==============================] - 17s 633ms/step - loss: 1.0119 - accuracy: 0.6245 - f1: 0.5925 - precision: 0.7595 - recall: 0.4864 - val_loss: 1.1039 - val_accuracy: 0.6040 - val_f1: 0.5797 - val_precision: 0.7058 - val_recall: 0.4920\n",
            "Epoch 9/30\n",
            "27/27 [==============================] - 17s 637ms/step - loss: 0.9967 - accuracy: 0.6392 - f1: 0.5965 - precision: 0.7638 - recall: 0.4899 - val_loss: 1.0770 - val_accuracy: 0.5963 - val_f1: 0.5737 - val_precision: 0.7280 - val_recall: 0.4734\n",
            "Epoch 10/30\n",
            "27/27 [==============================] - 17s 637ms/step - loss: 0.9734 - accuracy: 0.6416 - f1: 0.6057 - precision: 0.7697 - recall: 0.4999 - val_loss: 1.1049 - val_accuracy: 0.5746 - val_f1: 0.5494 - val_precision: 0.7045 - val_recall: 0.4503\n",
            "Epoch 11/30\n",
            "27/27 [==============================] - 17s 636ms/step - loss: 0.9481 - accuracy: 0.6551 - f1: 0.6164 - precision: 0.7780 - recall: 0.5113 - val_loss: 1.1064 - val_accuracy: 0.5894 - val_f1: 0.5564 - val_precision: 0.6983 - val_recall: 0.4626\n",
            "Epoch 12/30\n",
            "27/27 [==============================] - 17s 632ms/step - loss: 0.9157 - accuracy: 0.6626 - f1: 0.6348 - precision: 0.7827 - recall: 0.5349 - val_loss: 1.0840 - val_accuracy: 0.6060 - val_f1: 0.5869 - val_precision: 0.7170 - val_recall: 0.4969\n",
            "Epoch 13/30\n",
            "27/27 [==============================] - 17s 634ms/step - loss: 0.8786 - accuracy: 0.6784 - f1: 0.6582 - precision: 0.7936 - recall: 0.5625 - val_loss: 1.1148 - val_accuracy: 0.5860 - val_f1: 0.5651 - val_precision: 0.6913 - val_recall: 0.4780\n",
            "Epoch 14/30\n",
            "27/27 [==============================] - 17s 629ms/step - loss: 0.8361 - accuracy: 0.6976 - f1: 0.6843 - precision: 0.8124 - recall: 0.5914 - val_loss: 1.1367 - val_accuracy: 0.6080 - val_f1: 0.5907 - val_precision: 0.6936 - val_recall: 0.5146\n",
            "Epoch 15/30\n",
            "27/27 [==============================] - 17s 635ms/step - loss: 0.8004 - accuracy: 0.7167 - f1: 0.6978 - precision: 0.8147 - recall: 0.6105 - val_loss: 1.1360 - val_accuracy: 0.5960 - val_f1: 0.5812 - val_precision: 0.6839 - val_recall: 0.5054\n",
            "Epoch 16/30\n",
            "27/27 [==============================] - 17s 630ms/step - loss: 0.7523 - accuracy: 0.7300 - f1: 0.7142 - precision: 0.8239 - recall: 0.6304 - val_loss: 1.1651 - val_accuracy: 0.5883 - val_f1: 0.5720 - val_precision: 0.6746 - val_recall: 0.4966\n",
            "Epoch 17/30\n",
            "27/27 [==============================] - 17s 625ms/step - loss: 0.7389 - accuracy: 0.7349 - f1: 0.7268 - precision: 0.8293 - recall: 0.6473 - val_loss: 1.1598 - val_accuracy: 0.5794 - val_f1: 0.5617 - val_precision: 0.6803 - val_recall: 0.4786\n",
            "Epoch 18/30\n",
            "27/27 [==============================] - 17s 627ms/step - loss: 0.7236 - accuracy: 0.7510 - f1: 0.7346 - precision: 0.8341 - recall: 0.6570 - val_loss: 1.1459 - val_accuracy: 0.5897 - val_f1: 0.5763 - val_precision: 0.6891 - val_recall: 0.4954\n",
            "Epoch 19/30\n",
            "27/27 [==============================] - 17s 625ms/step - loss: 0.6879 - accuracy: 0.7618 - f1: 0.7534 - precision: 0.8479 - recall: 0.6785 - val_loss: 1.2598 - val_accuracy: 0.5994 - val_f1: 0.5920 - val_precision: 0.6620 - val_recall: 0.5354\n",
            "Epoch 20/30\n",
            "27/27 [==============================] - 17s 622ms/step - loss: 0.6497 - accuracy: 0.7758 - f1: 0.7692 - precision: 0.8526 - recall: 0.7009 - val_loss: 1.2816 - val_accuracy: 0.5866 - val_f1: 0.5849 - val_precision: 0.6542 - val_recall: 0.5289\n",
            "Epoch 21/30\n",
            "27/27 [==============================] - 17s 628ms/step - loss: 0.6222 - accuracy: 0.7825 - f1: 0.7758 - precision: 0.8485 - recall: 0.7147 - val_loss: 1.2762 - val_accuracy: 0.5800 - val_f1: 0.5785 - val_precision: 0.6549 - val_recall: 0.5183\n",
            "Epoch 22/30\n",
            "27/27 [==============================] - 17s 626ms/step - loss: 0.5979 - accuracy: 0.7951 - f1: 0.7911 - precision: 0.8633 - recall: 0.7303 - val_loss: 1.3173 - val_accuracy: 0.5786 - val_f1: 0.5795 - val_precision: 0.6493 - val_recall: 0.5234\n",
            "Epoch 23/30\n",
            "27/27 [==============================] - 17s 626ms/step - loss: 0.5974 - accuracy: 0.7971 - f1: 0.7909 - precision: 0.8560 - recall: 0.7353 - val_loss: 1.3356 - val_accuracy: 0.5866 - val_f1: 0.5854 - val_precision: 0.6522 - val_recall: 0.5311\n",
            "Epoch 24/30\n",
            "27/27 [==============================] - 17s 624ms/step - loss: 0.5733 - accuracy: 0.8063 - f1: 0.8019 - precision: 0.8669 - recall: 0.7463 - val_loss: 1.3732 - val_accuracy: 0.5569 - val_f1: 0.5593 - val_precision: 0.6300 - val_recall: 0.5029\n",
            "Epoch 25/30\n",
            "27/27 [==============================] - 17s 623ms/step - loss: 0.5818 - accuracy: 0.7949 - f1: 0.7931 - precision: 0.8596 - recall: 0.7365 - val_loss: 1.4113 - val_accuracy: 0.5720 - val_f1: 0.5701 - val_precision: 0.6261 - val_recall: 0.5234\n",
            "Epoch 26/30\n",
            "27/27 [==============================] - 17s 623ms/step - loss: 0.5814 - accuracy: 0.8009 - f1: 0.7932 - precision: 0.8545 - recall: 0.7405 - val_loss: 1.3469 - val_accuracy: 0.5671 - val_f1: 0.5615 - val_precision: 0.6244 - val_recall: 0.5103\n",
            "Epoch 27/30\n",
            "27/27 [==============================] - 17s 628ms/step - loss: 0.6018 - accuracy: 0.7847 - f1: 0.7824 - precision: 0.8511 - recall: 0.7242 - val_loss: 1.4140 - val_accuracy: 0.5849 - val_f1: 0.5804 - val_precision: 0.6304 - val_recall: 0.5377\n",
            "Epoch 28/30\n",
            "27/27 [==============================] - 17s 628ms/step - loss: 0.5114 - accuracy: 0.8292 - f1: 0.8237 - precision: 0.8791 - recall: 0.7750 - val_loss: 1.5049 - val_accuracy: 0.5734 - val_f1: 0.5749 - val_precision: 0.6132 - val_recall: 0.5411\n",
            "Epoch 29/30\n",
            "27/27 [==============================] - 17s 633ms/step - loss: 0.4510 - accuracy: 0.8500 - f1: 0.8479 - precision: 0.8916 - recall: 0.8082 - val_loss: 1.5700 - val_accuracy: 0.5677 - val_f1: 0.5710 - val_precision: 0.6083 - val_recall: 0.5380\n",
            "Epoch 30/30\n",
            "27/27 [==============================] - 17s 634ms/step - loss: 0.4162 - accuracy: 0.8644 - f1: 0.8625 - precision: 0.9040 - recall: 0.8248 - val_loss: 1.6588 - val_accuracy: 0.5580 - val_f1: 0.5626 - val_precision: 0.5990 - val_recall: 0.5303\n",
            "8/8 [==============================] - 2s 274ms/step - loss: 1.7153 - accuracy: 0.5462 - f1: 0.5501 - precision: 0.5863 - recall: 0.5182\n",
            "[1.7153435945510864, 0.5462499856948853, 0.5501406788825989, 0.5862598419189453, 0.5182499885559082]\n",
            "GLOVE_BI\n"
          ],
          "name": "stdout"
        }
      ]
    },
    {
      "cell_type": "code",
      "metadata": {
        "colab": {
          "base_uri": "https://localhost:8080/"
        },
        "id": "zPxvRXUCOvg_",
        "outputId": "62156e84-c475-4e2b-a8f2-f5a3a28b1856"
      },
      "source": [
        "result_table[0]=history[1]\r\n",
        "print(\"GLOVE_BI\")"
      ],
      "execution_count": 18,
      "outputs": [
        {
          "output_type": "stream",
          "text": [
            "GLOVE_BI\n"
          ],
          "name": "stdout"
        }
      ]
    },
    {
      "cell_type": "code",
      "metadata": {
        "id": "1pTYtBY-omOB",
        "colab": {
          "base_uri": "https://localhost:8080/"
        },
        "outputId": "9064f92f-533e-4a06-bfd5-14ecc7030503"
      },
      "source": [
        "#print(\"\\tLstm\\t\\t\\tBiLstm\\t\\t\\tRnn\")\r\n",
        "print(\"glove\",result_table[:1])\r\n",
        "print(\"sg\",result_table[1:2])\r\n",
        "print(\"cbow\",result_table[2:3])\r\n",
        "# print(history_sg_bi.history)\r\n",
        "# plt.title(\"Skip-Gram + Bi-LSTM accuracy, loss vs epochs Graph\")\r\n",
        "# plt.plot(history_sg_bi.history['loss'],c='b',label='loss')\r\n",
        "# plt.plot(history_sg_bi.history['accuracy'],c='r',label='accuracy')\r\n",
        "# plt.xlabel('epochs')\r\n",
        "# plt.legend()\r\n",
        "# # plt.yticks()\r\n",
        "# plt.show()\r\n",
        "# plt.title(\"GloVe + Bi-LSTM accuracy, loss vs epochs Graph\")\r\n",
        "# plt.plot(history_glove_bi.history['loss'],c='b',label='loss')\r\n",
        "# plt.plot(history_glove_bi.history['accuracy'],c='r',label='accuracy')\r\n",
        "# plt.xlabel('epochs')\r\n",
        "# plt.legend()\r\n",
        "# # plt.yticks()\r\n",
        "# plt.show()"
      ],
      "execution_count": 19,
      "outputs": [
        {
          "output_type": "stream",
          "text": [
            "glove [0.5462499856948853]\n",
            "sg [0.47824999690055847]\n",
            "cbow [0.49924999475479126]\n"
          ],
          "name": "stdout"
        }
      ]
    },
    {
      "cell_type": "code",
      "metadata": {
        "id": "vSSVKhXQomLY"
      },
      "source": [
        ""
      ],
      "execution_count": null,
      "outputs": []
    }
  ]
}