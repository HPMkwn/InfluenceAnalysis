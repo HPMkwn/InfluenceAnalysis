{
  "nbformat": 4,
  "nbformat_minor": 0,
  "metadata": {
    "colab": {
      "name": "TEC_OUR_Norm.ipynb",
      "provenance": [],
      "collapsed_sections": [],
      "include_colab_link": true
    },
    "kernelspec": {
      "name": "python3",
      "display_name": "Python 3"
    }
  },
  "cells": [
    {
      "cell_type": "markdown",
      "metadata": {
        "id": "view-in-github",
        "colab_type": "text"
      },
      "source": [
        "<a href=\"https://colab.research.google.com/github/harrymkwn/InfluenceAnalysis/blob/master/TEC_OUR_Norm.ipynb\" target=\"_parent\"><img src=\"https://colab.research.google.com/assets/colab-badge.svg\" alt=\"Open In Colab\"/></a>"
      ]
    },
    {
      "cell_type": "code",
      "metadata": {
        "id": "BirA5cYqsF8-",
        "colab": {
          "base_uri": "https://localhost:8080/"
        },
        "outputId": "ba57cfea-985f-425b-a822-238fd16b8fbd"
      },
      "source": [
        "import pandas as pd\r\n",
        "import numpy as np\r\n",
        "import tensorflow as tf\r\n",
        "from gensim.models import Word2Vec\r\n",
        "import matplotlib.pyplot as plt\r\n",
        "from sklearn.linear_model import LogisticRegression\r\n",
        "from sklearn.multiclass import OneVsRestClassifier\r\n",
        "from gensim.models import KeyedVectors\r\n",
        "from sklearn.model_selection import train_test_split\r\n",
        "from google.colab import  drive\r\n",
        "drive.mount('/content/drive')\r\n",
        "import nltk\r\n",
        "from nltk.corpus import stopwords\r\n",
        "nltk.download('stopwords')\r\n",
        "device_name = tf.test.gpu_device_name()\r\n",
        "print(device_name)\r\n",
        "df = pd.read_csv('/content/drive/MyDrive/InfluenceAnalysis/InfluenceAnalysis/TEC/TECOur.csv')\r\n",
        "df = df.sample(frac=1,random_state=32)"
      ],
      "execution_count": 6,
      "outputs": [
        {
          "output_type": "stream",
          "text": [
            "Drive already mounted at /content/drive; to attempt to forcibly remount, call drive.mount(\"/content/drive\", force_remount=True).\n",
            "[nltk_data] Downloading package stopwords to /root/nltk_data...\n",
            "[nltk_data]   Package stopwords is already up-to-date!\n",
            "\n"
          ],
          "name": "stdout"
        }
      ]
    },
    {
      "cell_type": "code",
      "metadata": {
        "colab": {
          "base_uri": "https://localhost:8080/",
          "height": 204
        },
        "id": "RMj5rGTt6a3w",
        "outputId": "a606c851-1112-4b27-ef4d-4e4bc7b05acf"
      },
      "source": [
        "df.head()"
      ],
      "execution_count": 7,
      "outputs": [
        {
          "output_type": "execute_result",
          "data": {
            "text/html": [
              "<div>\n",
              "<style scoped>\n",
              "    .dataframe tbody tr th:only-of-type {\n",
              "        vertical-align: middle;\n",
              "    }\n",
              "\n",
              "    .dataframe tbody tr th {\n",
              "        vertical-align: top;\n",
              "    }\n",
              "\n",
              "    .dataframe thead th {\n",
              "        text-align: right;\n",
              "    }\n",
              "</style>\n",
              "<table border=\"1\" class=\"dataframe\">\n",
              "  <thead>\n",
              "    <tr style=\"text-align: right;\">\n",
              "      <th></th>\n",
              "      <th>tweets</th>\n",
              "      <th>emotion</th>\n",
              "    </tr>\n",
              "  </thead>\n",
              "  <tbody>\n",
              "    <tr>\n",
              "      <th>19554</th>\n",
              "      <td>smoothies are the best at any time any temper...</td>\n",
              "      <td>2</td>\n",
              "    </tr>\n",
              "    <tr>\n",
              "      <th>9801</th>\n",
              "      <td>Rain tomorrow      that means curly hair</td>\n",
              "      <td>0</td>\n",
              "    </tr>\n",
              "    <tr>\n",
              "      <th>13413</th>\n",
              "      <td>Bout to lay it down im tired      Tmrws gonna ...</td>\n",
              "      <td>0</td>\n",
              "    </tr>\n",
              "    <tr>\n",
              "      <th>3398</th>\n",
              "      <td>hahaha run a marathon  hopin to go abroad to ...</td>\n",
              "      <td>0</td>\n",
              "    </tr>\n",
              "    <tr>\n",
              "      <th>9536</th>\n",
              "      <td>Christmas shopping in tkmax with Deck The Hall...</td>\n",
              "      <td>0</td>\n",
              "    </tr>\n",
              "  </tbody>\n",
              "</table>\n",
              "</div>"
            ],
            "text/plain": [
              "                                                  tweets  emotion\n",
              "19554   smoothies are the best at any time any temper...        2\n",
              "9801           Rain tomorrow      that means curly hair         0\n",
              "13413  Bout to lay it down im tired      Tmrws gonna ...        0\n",
              "3398    hahaha run a marathon  hopin to go abroad to ...        0\n",
              "9536   Christmas shopping in tkmax with Deck The Hall...        0"
            ]
          },
          "metadata": {
            "tags": []
          },
          "execution_count": 7
        }
      ]
    },
    {
      "cell_type": "code",
      "metadata": {
        "colab": {
          "base_uri": "https://localhost:8080/"
        },
        "id": "PC5NhvB199PV",
        "outputId": "a565a95e-2499-42d9-ef63-3531c96798e7"
      },
      "source": [
        "print(df.emotion.unique())\r\n",
        "no_labels=6"
      ],
      "execution_count": 9,
      "outputs": [
        {
          "output_type": "stream",
          "text": [
            "[2 0 1 3 4 5]\n"
          ],
          "name": "stdout"
        }
      ]
    },
    {
      "cell_type": "code",
      "metadata": {
        "id": "-9J8k0PZ99LE"
      },
      "source": [
        ""
      ],
      "execution_count": null,
      "outputs": []
    },
    {
      "cell_type": "code",
      "metadata": {
        "id": "Yuw7tgu9sLG6",
        "colab": {
          "base_uri": "https://localhost:8080/"
        },
        "outputId": "c917b909-a310-4cff-a8e3-4d99fbf51adf"
      },
      "source": [
        "category_dict = {}\r\n",
        "for i in range(no_labels):\r\n",
        "  category_dict[i]=[0 for j in range(no_labels)]\r\n",
        "  category_dict[i][i]=1\r\n",
        "data_tweet = [str(x).lower().split() for x in df['tweets']]\r\n",
        "data_cat = np.array([np.array(category_dict[x]) for x in df['emotion']])\r\n",
        "print(data_cat[:5])"
      ],
      "execution_count": 10,
      "outputs": [
        {
          "output_type": "stream",
          "text": [
            "[[0 0 1 0 0 0]\n",
            " [1 0 0 0 0 0]\n",
            " [1 0 0 0 0 0]\n",
            " [1 0 0 0 0 0]\n",
            " [1 0 0 0 0 0]]\n"
          ],
          "name": "stdout"
        }
      ]
    },
    {
      "cell_type": "code",
      "metadata": {
        "id": "TSkKL28UsLFS",
        "colab": {
          "base_uri": "https://localhost:8080/"
        },
        "outputId": "fdb257e9-b005-4f5a-df90-e4c226f51ce1"
      },
      "source": [
        "print(data_tweet[:5])\r\n",
        "print(data_cat[:5])"
      ],
      "execution_count": 11,
      "outputs": [
        {
          "output_type": "stream",
          "text": [
            "[['smoothies', 'are', 'the', 'best', 'at', 'any', 'time', 'any', 'temperature', 'we', 'have', 'no', 'smoothie', 'availability', 'at', 'lehigh'], ['rain', 'tomorrow', 'that', 'means', 'curly', 'hair'], ['bout', 'to', 'lay', 'it', 'down', 'im', 'tired', 'tmrws', 'gonna', 'feel', 'so', 'long', 'considering', 'i', 'have', 'not', 'had', 'school', 'for', 'a', 'week'], ['hahaha', 'run', 'a', 'marathon', 'hopin', 'to', 'go', 'abroad', 'to', 'do', 'some'], ['christmas', 'shopping', 'in', 'tkmax', 'with', 'deck', 'the', 'halls', 'playing', 'in', 'the', 'background']]\n",
            "[[0 0 1 0 0 0]\n",
            " [1 0 0 0 0 0]\n",
            " [1 0 0 0 0 0]\n",
            " [1 0 0 0 0 0]\n",
            " [1 0 0 0 0 0]]\n"
          ],
          "name": "stdout"
        }
      ]
    },
    {
      "cell_type": "code",
      "metadata": {
        "id": "8Av3Y5BrsLDF"
      },
      "source": [
        "# Parameters\r\n",
        "Min_count = 0\r\n",
        "Embedding_size = 200\r\n",
        "Window_size = 5\r\n",
        "Negative_sampling = 00"
      ],
      "execution_count": 12,
      "outputs": []
    },
    {
      "cell_type": "code",
      "metadata": {
        "id": "R1X3AjXrsLAf"
      },
      "source": [
        "w2v_sg = Word2Vec(min_count=Min_count,\r\n",
        "                     window=Window_size,\r\n",
        "                     size=Embedding_size,\r\n",
        "                     negative=Negative_sampling,sg=1)\r\n",
        "w2v_sg.build_vocab(data_tweet)\r\n",
        "w2v_sg.train(data_tweet, total_examples=w2v_sg.corpus_count, epochs=5)\r\n",
        "w2v_cbow = Word2Vec(min_count=Min_count,\r\n",
        "                     window=Window_size,\r\n",
        "                     size=Embedding_size,\r\n",
        "                     negative=Negative_sampling,sg=0)\r\n",
        "w2v_cbow.build_vocab(data_tweet)\r\n",
        "w2v_cbow.train(data_tweet, total_examples=w2v_cbow.corpus_count, epochs=5)\r\n",
        "w2v_sg.wv.init_sims(True)\r\n",
        "w2v_cbow.wv.init_sims(True)"
      ],
      "execution_count": 13,
      "outputs": []
    },
    {
      "cell_type": "code",
      "metadata": {
        "id": "Cm9AefOUsK9b"
      },
      "source": [
        "vocab_sg = w2v_sg.wv.vocab\r\n",
        "vocab_sg = [x for x in vocab_sg]\r\n",
        "vocab_cbow = w2v_cbow.wv.vocab\r\n",
        "vocab_cbow = [x for x in vocab_cbow] \r\n",
        "vocab_glove = {}\r\n",
        "with open(\"/content/drive/My Drive/InfluenceAnalysis/InfluenceAnalysis/glove/glove.twitter.27B.200d.txt\", 'r', encoding=\"utf-8\") as f:\r\n",
        "  for line in f:\r\n",
        "      values = line.split()\r\n",
        "      word = values[0]\r\n",
        "      vector = np.asarray(values[1:], \"float32\")\r\n",
        "      vocab_glove[word] = vector"
      ],
      "execution_count": 14,
      "outputs": []
    },
    {
      "cell_type": "code",
      "metadata": {
        "id": "PvMp2mqxsK5q",
        "colab": {
          "base_uri": "https://localhost:8080/"
        },
        "outputId": "542e9d42-1e69-4bb6-add0-3d715ad480f9"
      },
      "source": [
        "batch_size = 500\r\n",
        "Max_input_size = max([len(x) for x in data_tweet])\r\n",
        "print(Max_input_size)"
      ],
      "execution_count": 16,
      "outputs": [
        {
          "output_type": "stream",
          "text": [
            "51\n"
          ],
          "name": "stdout"
        }
      ]
    },
    {
      "cell_type": "code",
      "metadata": {
        "id": "KUuecoyysK1J"
      },
      "source": [
        "def vec_gen(w2v,vocab,data_tweet,data_cat,batch_size,Max_input_size,Embedding_size):\r\n",
        "  while True:\r\n",
        "    for k in range(int(len(data_tweet)/batch_size)):\r\n",
        "      temp = np.array([np.array([w2v.wv.get_vector(i) for i in x if i in vocab]) for x in data_tweet[k*(batch_size):(k+1)*(batch_size)]])\r\n",
        "      temp = np.array([np.pad(x.flatten(),(0,Max_input_size*Embedding_size-len(x.flatten()))).reshape(Max_input_size,Embedding_size) for x in temp])\r\n",
        "      tempres = np.array(data_cat[k*(batch_size):(k+1)*(batch_size)])\r\n",
        "      yield (temp,tempres)\r\n",
        "\r\n",
        "def glove_gen(vocab,data_tweet,data_cat,batch_size,Max_input_size,Embedding_size):\r\n",
        "  while True:\r\n",
        "    for k in range(int(len(data_tweet)/batch_size)):\r\n",
        "      temp = np.array([np.array([vocab[i] for i in x if i in vocab.keys()]) for x in data_tweet[k*(batch_size):(k+1)*(batch_size)]])\r\n",
        "      temp = np.array([np.pad(x.flatten(),(0,Max_input_size*Embedding_size-len(x.flatten()))).reshape(Max_input_size,Embedding_size) for x in temp])\r\n",
        "      tempres = np.array(data_cat[k*(batch_size):(k+1)*(batch_size)])\r\n",
        "      yield (temp,tempres)"
      ],
      "execution_count": 17,
      "outputs": []
    },
    {
      "cell_type": "code",
      "metadata": {
        "id": "bjk0mhpnsKwY",
        "colab": {
          "base_uri": "https://localhost:8080/"
        },
        "outputId": "a2d64dc8-d687-4c70-ed26-7756e0d8444d"
      },
      "source": [
        "from sklearn.model_selection import StratifiedShuffleSplit\r\n",
        "sss = StratifiedShuffleSplit(n_splits=1, test_size=0.2, random_state=0)\r\n",
        "sss.get_n_splits(data_tweet, data_cat)\r\n",
        "X_train=[]\r\n",
        "X_test=[]\r\n",
        "y_train=[]\r\n",
        "y_test=[]\r\n",
        "counter=0\r\n",
        "for train_index, test_index in sss.split(data_tweet, data_cat):\r\n",
        "  print(\"TRAIN:\", train_index, \"TEST:\", test_index)\r\n",
        "  for i in train_index:\r\n",
        "    X_train+=[data_tweet[i]]\r\n",
        "    y_train+=[data_cat[i]]\r\n",
        "\r\n",
        "  for j in test_index:\r\n",
        "    X_test+=[data_tweet[j]]\r\n",
        "    y_test+=[data_cat[j]]\r\n",
        "\r\n",
        " # X_train, X_test = data_tweet[train_index], data_tweet[test_index]\r\n",
        " # y_train, y_test = data_cat[train_index], data_cat[test_index]\r\n",
        "print(X_train[:5])\r\n",
        "print(y_train[:5])\r\n",
        "sss = StratifiedShuffleSplit(n_splits=1, test_size=0.2, random_state=0)\r\n",
        "sss.get_n_splits(X_train, y_train)\r\n",
        "x_train=[]\r\n",
        "X_val=[]\r\n",
        "Y_train=[]\r\n",
        "y_val=[]\r\n",
        "for train_index1, test_index1 in sss.split(X_train, y_train):\r\n",
        "  print(\"TRAIN:\", train_index1, \"TEST:\", test_index1)\r\n",
        "  for i in train_index1:\r\n",
        "    x_train+=[X_train[i]]\r\n",
        "    Y_train+=[y_train[i]]\r\n",
        "\r\n",
        "  for j in test_index1:\r\n",
        "    X_val+=[X_train[j]]\r\n",
        "    y_val+=[y_train[j]]\r\n",
        "X_train=x_train\r\n",
        "y_train=Y_train\r\n",
        "print(len(X_train))\r\n",
        "print(len(y_train))\r\n",
        "print(len(X_test))\r\n",
        "print(len(y_test))\r\n",
        "print(len(X_val))\r\n",
        "print(len(y_val))\r\n",
        "print(X_train[:5])\r\n",
        "print(y_train[:5])\r\n",
        "result_table = [0,0,0,0,0,0,0,0,0]"
      ],
      "execution_count": 18,
      "outputs": [
        {
          "output_type": "stream",
          "text": [
            "TRAIN: [ 4990  8232 16430 ...  1782 14725 11582] TEST: [ 9096 15406 12733 ... 11184  9511 11639]\n",
            "[['what', 'the', 'hell', 'has', 'gotten', 'in', 'to', 'you', 'like', 'legit', 'your', 'an', 'ass', 'now'], ['i', 'do', 'not', 'have', 'cell', 'phone', 'service', 'so', 'i', 'am', 'tweeting', 'you', 'are', 'you', 'still', 'down', 'for', 'some', 'shopping'], ['there', 'is', 'a', 'mysterious', 'ticking', 'noise', 'somewhere', 'by', 'my', 'bed', 'not', 'the', 'puppet', 'pals', 'kind', 'scared'], ['have', 'a', 'dream', 'your', 'breath', 'smells', 'really', 'bad', 'wake', 'up', 'with', 'cat', 'throw', 'up', 'on', 'your', 'pillow', 'wtf'], ['who', 'u', 'hey', 'there', 'long', 'time', 'no', 'see', 'speak', 'of', 'the', 'week']]\n",
            "[array([0, 1, 0, 0, 0, 0]), array([1, 0, 0, 0, 0, 0]), array([0, 0, 0, 1, 0, 0]), array([0, 1, 0, 0, 0, 0]), array([0, 1, 0, 0, 0, 0])]\n",
            "TRAIN: [ 4502 13470 16740 ...  3004  1741 11001] TEST: [10612  3057 12008 ...  2972  6445 13573]\n",
            "13469\n",
            "13469\n",
            "4210\n",
            "4210\n",
            "3368\n",
            "3368\n",
            "[['bahaha', 'i', 'live', 'a', 'secretive', 'life', 'happy', 'face', 'or', 'smiley'], ['my', 'aunty', 'is', 'such', 'a', 'cougar', 'she', 'was', 'hitting', 'on', 'the', 'teenage', 'boy', 'singing', 'in', 'miss', 'south', 'pacific', 'argh'], ['not', 'necessarily', 'if', 'you', 'cut', 'it', 'multiple', 'times', 'in', 'one', 'day', 'esp', 'if', 'you', 'can', 'arrange', 'to', 'do', 'it', 'while', 'he', 'is', 'gone', 'all', 'day'], ['gonna', 'make', 'the', 'most', 'of', 'my', 'time', 'curled', 'up', 'in', 'the', 'warm', 'today', 'back', 'to', 'mucking', 'out', 'stables', 'for', '3', 'shetties', 'and', 'two', 'horses', 'on', 'friday'], ['effin', 'school', 'blocks', 'every', '10', 'seconds', 'i', 'get', 'a', 'request', 'for', 'an', 'administrator', 's', 'password', 'grrrrrrr']]\n",
            "[array([0, 1, 0, 0, 0, 0]), array([0, 0, 0, 0, 0, 1]), array([0, 1, 0, 0, 0, 0]), array([1, 0, 0, 0, 0, 0]), array([0, 0, 0, 0, 1, 0])]\n"
          ],
          "name": "stdout"
        }
      ]
    },
    {
      "cell_type": "code",
      "metadata": {
        "id": "2Y-IkgHbsKsf"
      },
      "source": [
        "epochs = 30"
      ],
      "execution_count": 19,
      "outputs": []
    },
    {
      "cell_type": "code",
      "metadata": {
        "id": "Ol5JRffOVdCu"
      },
      "source": [
        "from keras import backend as K\r\n",
        "def recall(y_true, y_pred):\r\n",
        "        \"\"\"Recall metric.\r\n",
        "\r\n",
        "        Only computes a batch-wise average of recall.\r\n",
        "\r\n",
        "        Computes the recall, a metric for multi-label classification of\r\n",
        "        how many relevant items are selected.\r\n",
        "        \"\"\"\r\n",
        "        true_positives = K.sum(K.round(K.clip(y_true * y_pred, 0, 1)))\r\n",
        "        possible_positives = K.sum(K.round(K.clip(y_true, 0, 1)))\r\n",
        "        recalls = true_positives / (possible_positives + K.epsilon())\r\n",
        "        return recalls\r\n",
        "def precision(y_true, y_pred):\r\n",
        "        \"\"\"Precision metric.\r\n",
        "\r\n",
        "        Only computes a batch-wise average of precision.\r\n",
        "\r\n",
        "        Computes the precision, a metric for multi-label classification of\r\n",
        "        how many selected items are relevant.\r\n",
        "        \"\"\"\r\n",
        "        true_positives = K.sum(K.round(K.clip(y_true * y_pred, 0, 1)))\r\n",
        "        predicted_positives = K.sum(K.round(K.clip(y_pred, 0, 1)))\r\n",
        "        precisions = true_positives / (predicted_positives + K.epsilon())\r\n",
        "        return precisions\r\n",
        "def f1(y_true, y_pred):\r\n",
        "    precisions = precision(y_true, y_pred)\r\n",
        "    recalls = recall(y_true, y_pred)\r\n",
        "    return 2*((precisions*recalls)/(precisions+recalls+K.epsilon()))"
      ],
      "execution_count": 20,
      "outputs": []
    },
    {
      "cell_type": "code",
      "metadata": {
        "id": "bKNbJAlZslMr",
        "colab": {
          "base_uri": "https://localhost:8080/"
        },
        "outputId": "bd10c715-e0c6-4912-b6cd-9b84789db12b"
      },
      "source": [
        "model_sg_bi = tf.keras.Sequential()\r\n",
        "model_sg_bi.add(tf.keras.Input(shape=(Max_input_size,Embedding_size)))\r\n",
        "model_sg_bi.add(tf.keras.layers.Bidirectional(tf.keras.layers.LSTM(64),merge_mode='concat'))\r\n",
        "model_sg_bi.add(tf.keras.layers.Dropout(0.2))\r\n",
        "model_sg_bi.add(tf.keras.layers.Dense(64,activation='relu'))\r\n",
        "model_sg_bi.add(tf.keras.layers.Dropout(0.2))\r\n",
        "model_sg_bi.add(tf.keras.layers.Dense(6, activation='softmax'))\r\n",
        "model_sg_bi.compile(loss='categorical_crossentropy',optimizer='adam', \r\n",
        "                           metrics=['accuracy',f1,precision,recall])\r\n",
        "sg_train_gen=vec_gen(w2v_sg,vocab_sg,X_train,y_train,batch_size,Max_input_size,Embedding_size)\r\n",
        "sg_val_gen=vec_gen(w2v_sg,vocab_sg,X_val,y_val,batch_size,Max_input_size,Embedding_size)\r\n",
        "history_sg_bi = model_sg_bi.fit_generator(sg_train_gen,validation_data=sg_val_gen,validation_steps=int((len(X_val)/batch_size)+1),steps_per_epoch=int((len(X_train)/batch_size)+1),epochs=epochs)\r\n",
        "history = model_sg_bi.evaluate(x = vec_gen(w2v_sg,vocab_sg,X_test,y_test,batch_size,Max_input_size,Embedding_size),steps=int(len(y_test)/batch_size))\r\n",
        "print(history)\r\n",
        "\r\n",
        "result_table[1]=history[1]\r\n",
        "print(\"SG_BI\")"
      ],
      "execution_count": 21,
      "outputs": [
        {
          "output_type": "stream",
          "text": [
            "/usr/local/lib/python3.7/dist-packages/tensorflow/python/keras/engine/training.py:1844: UserWarning: `Model.fit_generator` is deprecated and will be removed in a future version. Please use `Model.fit`, which supports generators.\n",
            "  warnings.warn('`Model.fit_generator` is deprecated and '\n",
            "/usr/local/lib/python3.7/dist-packages/ipykernel_launcher.py:4: VisibleDeprecationWarning: Creating an ndarray from ragged nested sequences (which is a list-or-tuple of lists-or-tuples-or ndarrays with different lengths or shapes) is deprecated. If you meant to do this, you must specify 'dtype=object' when creating the ndarray\n",
            "  after removing the cwd from sys.path.\n"
          ],
          "name": "stderr"
        },
        {
          "output_type": "stream",
          "text": [
            "Epoch 1/30\n",
            "27/27 [==============================] - 44s 1s/step - loss: 1.7387 - accuracy: 0.3116 - f1: 0.0073 - precision: 0.0468 - recall: 0.0044 - val_loss: 1.5640 - val_accuracy: 0.3877 - val_f1: 0.0000e+00 - val_precision: 0.0000e+00 - val_recall: 0.0000e+00\n",
            "Epoch 2/30\n",
            "27/27 [==============================] - 39s 1s/step - loss: 1.5579 - accuracy: 0.3948 - f1: 0.0414 - precision: 0.6044 - recall: 0.0221 - val_loss: 1.5160 - val_accuracy: 0.4066 - val_f1: 0.1285 - val_precision: 0.6024 - val_recall: 0.0720\n",
            "Epoch 3/30\n",
            "27/27 [==============================] - 38s 1s/step - loss: 1.5068 - accuracy: 0.4126 - f1: 0.1699 - precision: 0.6216 - recall: 0.1013 - val_loss: 1.4683 - val_accuracy: 0.4317 - val_f1: 0.2165 - val_precision: 0.6734 - val_recall: 0.1291\n",
            "Epoch 4/30\n",
            "27/27 [==============================] - 38s 1s/step - loss: 1.4413 - accuracy: 0.4402 - f1: 0.2602 - precision: 0.6649 - recall: 0.1642 - val_loss: 1.4208 - val_accuracy: 0.4511 - val_f1: 0.2608 - val_precision: 0.6955 - val_recall: 0.1606\n",
            "Epoch 5/30\n",
            "27/27 [==============================] - 39s 1s/step - loss: 1.3838 - accuracy: 0.4723 - f1: 0.3069 - precision: 0.6887 - recall: 0.1995 - val_loss: 1.3958 - val_accuracy: 0.4600 - val_f1: 0.2927 - val_precision: 0.7309 - val_recall: 0.1831\n",
            "Epoch 6/30\n",
            "27/27 [==============================] - 37s 1s/step - loss: 1.3447 - accuracy: 0.4908 - f1: 0.3451 - precision: 0.7027 - recall: 0.2300 - val_loss: 1.3744 - val_accuracy: 0.4740 - val_f1: 0.3336 - val_precision: 0.7192 - val_recall: 0.2174\n",
            "Epoch 7/30\n",
            "27/27 [==============================] - 37s 1s/step - loss: 1.3245 - accuracy: 0.4942 - f1: 0.3825 - precision: 0.7046 - recall: 0.2631 - val_loss: 1.3699 - val_accuracy: 0.4729 - val_f1: 0.3862 - val_precision: 0.6705 - val_recall: 0.2714\n",
            "Epoch 8/30\n",
            "27/27 [==============================] - 37s 1s/step - loss: 1.3163 - accuracy: 0.4951 - f1: 0.3933 - precision: 0.6958 - recall: 0.2748 - val_loss: 1.3645 - val_accuracy: 0.4791 - val_f1: 0.4052 - val_precision: 0.6610 - val_recall: 0.2923\n",
            "Epoch 9/30\n",
            "27/27 [==============================] - 47s 2s/step - loss: 1.3178 - accuracy: 0.4914 - f1: 0.3911 - precision: 0.6867 - recall: 0.2744 - val_loss: 1.3748 - val_accuracy: 0.4794 - val_f1: 0.4199 - val_precision: 0.6471 - val_recall: 0.3109\n",
            "Epoch 10/30\n",
            "27/27 [==============================] - 39s 1s/step - loss: 1.3138 - accuracy: 0.4950 - f1: 0.3919 - precision: 0.7036 - recall: 0.2727 - val_loss: 1.3756 - val_accuracy: 0.4786 - val_f1: 0.4105 - val_precision: 0.6504 - val_recall: 0.3000\n",
            "Epoch 11/30\n",
            "27/27 [==============================] - 40s 2s/step - loss: 1.3008 - accuracy: 0.5029 - f1: 0.4051 - precision: 0.7020 - recall: 0.2851 - val_loss: 1.3691 - val_accuracy: 0.4866 - val_f1: 0.3995 - val_precision: 0.6568 - val_recall: 0.2871\n",
            "Epoch 12/30\n",
            "27/27 [==============================] - 38s 1s/step - loss: 1.2885 - accuracy: 0.5081 - f1: 0.4162 - precision: 0.7150 - recall: 0.2941 - val_loss: 1.3661 - val_accuracy: 0.4803 - val_f1: 0.3935 - val_precision: 0.6603 - val_recall: 0.2803\n",
            "Epoch 13/30\n",
            "27/27 [==============================] - 38s 1s/step - loss: 1.2746 - accuracy: 0.5153 - f1: 0.4260 - precision: 0.7166 - recall: 0.3036 - val_loss: 1.3568 - val_accuracy: 0.4849 - val_f1: 0.3992 - val_precision: 0.6643 - val_recall: 0.2854\n",
            "Epoch 14/30\n",
            "27/27 [==============================] - 37s 1s/step - loss: 1.2523 - accuracy: 0.5207 - f1: 0.4416 - precision: 0.7258 - recall: 0.3177 - val_loss: 1.3613 - val_accuracy: 0.4923 - val_f1: 0.4082 - val_precision: 0.6537 - val_recall: 0.2969\n",
            "Epoch 15/30\n",
            "27/27 [==============================] - 39s 1s/step - loss: 1.2541 - accuracy: 0.5215 - f1: 0.4375 - precision: 0.7139 - recall: 0.3162 - val_loss: 1.3627 - val_accuracy: 0.4903 - val_f1: 0.4340 - val_precision: 0.6350 - val_recall: 0.3297\n",
            "Epoch 16/30\n",
            "27/27 [==============================] - 38s 1s/step - loss: 1.2452 - accuracy: 0.5253 - f1: 0.4531 - precision: 0.7211 - recall: 0.3317 - val_loss: 1.3607 - val_accuracy: 0.4877 - val_f1: 0.4396 - val_precision: 0.6261 - val_recall: 0.3389\n",
            "Epoch 17/30\n",
            "27/27 [==============================] - 40s 1s/step - loss: 1.2407 - accuracy: 0.5282 - f1: 0.4549 - precision: 0.7106 - recall: 0.3353 - val_loss: 1.3559 - val_accuracy: 0.4909 - val_f1: 0.4377 - val_precision: 0.6356 - val_recall: 0.3340\n",
            "Epoch 18/30\n",
            "27/27 [==============================] - 39s 1s/step - loss: 1.2292 - accuracy: 0.5296 - f1: 0.4526 - precision: 0.7389 - recall: 0.3272 - val_loss: 1.3480 - val_accuracy: 0.4891 - val_f1: 0.4324 - val_precision: 0.6612 - val_recall: 0.3214\n",
            "Epoch 19/30\n",
            "27/27 [==============================] - 40s 1s/step - loss: 1.2140 - accuracy: 0.5379 - f1: 0.4642 - precision: 0.7318 - recall: 0.3411 - val_loss: 1.3438 - val_accuracy: 0.4926 - val_f1: 0.4302 - val_precision: 0.6625 - val_recall: 0.3189\n",
            "Epoch 20/30\n",
            "27/27 [==============================] - 39s 1s/step - loss: 1.1932 - accuracy: 0.5446 - f1: 0.4805 - precision: 0.7390 - recall: 0.3567 - val_loss: 1.3571 - val_accuracy: 0.4986 - val_f1: 0.4614 - val_precision: 0.6237 - val_recall: 0.3663\n",
            "Epoch 21/30\n",
            "27/27 [==============================] - 38s 1s/step - loss: 1.1616 - accuracy: 0.5605 - f1: 0.4935 - precision: 0.7428 - recall: 0.3711 - val_loss: 1.3378 - val_accuracy: 0.4957 - val_f1: 0.4420 - val_precision: 0.6539 - val_recall: 0.3340\n",
            "Epoch 22/30\n",
            "27/27 [==============================] - 39s 1s/step - loss: 1.1349 - accuracy: 0.5663 - f1: 0.5092 - precision: 0.7541 - recall: 0.3856 - val_loss: 1.3312 - val_accuracy: 0.5029 - val_f1: 0.4499 - val_precision: 0.6545 - val_recall: 0.3429\n",
            "Epoch 23/30\n",
            "27/27 [==============================] - 40s 2s/step - loss: 1.1121 - accuracy: 0.5805 - f1: 0.5189 - precision: 0.7579 - recall: 0.3961 - val_loss: 1.3287 - val_accuracy: 0.5011 - val_f1: 0.4459 - val_precision: 0.6590 - val_recall: 0.3371\n",
            "Epoch 24/30\n",
            "27/27 [==============================] - 39s 1s/step - loss: 1.0927 - accuracy: 0.5852 - f1: 0.5336 - precision: 0.7552 - recall: 0.4139 - val_loss: 1.3476 - val_accuracy: 0.4991 - val_f1: 0.4327 - val_precision: 0.6556 - val_recall: 0.3231\n",
            "Epoch 25/30\n",
            "27/27 [==============================] - 39s 1s/step - loss: 1.0704 - accuracy: 0.5998 - f1: 0.5445 - precision: 0.7600 - recall: 0.4262 - val_loss: 1.3348 - val_accuracy: 0.5066 - val_f1: 0.4559 - val_precision: 0.6463 - val_recall: 0.3523\n",
            "Epoch 26/30\n",
            "27/27 [==============================] - 39s 1s/step - loss: 1.0473 - accuracy: 0.6107 - f1: 0.5598 - precision: 0.7686 - recall: 0.4419 - val_loss: 1.3399 - val_accuracy: 0.5063 - val_f1: 0.4584 - val_precision: 0.6566 - val_recall: 0.3523\n",
            "Epoch 27/30\n",
            "27/27 [==============================] - 39s 1s/step - loss: 1.0276 - accuracy: 0.6185 - f1: 0.5710 - precision: 0.7782 - recall: 0.4525 - val_loss: 1.4088 - val_accuracy: 0.5040 - val_f1: 0.4646 - val_precision: 0.6219 - val_recall: 0.3709\n",
            "Epoch 28/30\n",
            "27/27 [==============================] - 40s 1s/step - loss: 1.0054 - accuracy: 0.6229 - f1: 0.5875 - precision: 0.7704 - recall: 0.4756 - val_loss: 1.3903 - val_accuracy: 0.5100 - val_f1: 0.4747 - val_precision: 0.6201 - val_recall: 0.3846\n",
            "Epoch 29/30\n",
            "27/27 [==============================] - 41s 2s/step - loss: 0.9950 - accuracy: 0.6250 - f1: 0.5895 - precision: 0.7661 - recall: 0.4803 - val_loss: 1.4134 - val_accuracy: 0.4957 - val_f1: 0.4634 - val_precision: 0.6352 - val_recall: 0.3649\n",
            "Epoch 30/30\n",
            "27/27 [==============================] - 39s 1s/step - loss: 0.9541 - accuracy: 0.6375 - f1: 0.6052 - precision: 0.7765 - recall: 0.4971 - val_loss: 1.4605 - val_accuracy: 0.4969 - val_f1: 0.4785 - val_precision: 0.6159 - val_recall: 0.3914\n",
            "8/8 [==============================] - 6s 804ms/step - loss: 1.5012 - accuracy: 0.4820 - f1: 0.4638 - precision: 0.6018 - recall: 0.3775\n",
            "[1.5011943578720093, 0.4819999933242798, 0.46380120515823364, 0.6018026471138, 0.3774999976158142]\n",
            "SG_BI\n"
          ],
          "name": "stdout"
        }
      ]
    },
    {
      "cell_type": "code",
      "metadata": {
        "id": "815ghdLRslIm",
        "colab": {
          "base_uri": "https://localhost:8080/"
        },
        "outputId": "fc29b6bf-a416-4b57-bbfb-8def0e8504a6"
      },
      "source": [
        "\r\n",
        "model_cbow_bi = tf.keras.Sequential()\r\n",
        "model_cbow_bi.add(tf.keras.Input(shape=(Max_input_size,Embedding_size)))\r\n",
        "model_cbow_bi.add(tf.keras.layers.Bidirectional(tf.keras.layers.LSTM(64),merge_mode='concat'))\r\n",
        "model_cbow_bi.add(tf.keras.layers.Dropout(0.2))\r\n",
        "model_cbow_bi.add(tf.keras.layers.Dense(64,activation='relu'))\r\n",
        "model_cbow_bi.add(tf.keras.layers.Dropout(0.2))\r\n",
        "model_cbow_bi.add(tf.keras.layers.Dense(6, activation='softmax'))\r\n",
        "model_cbow_bi.compile(loss='categorical_crossentropy',optimizer='adam', \r\n",
        "                           metrics=['accuracy',f1,precision,recall])\r\n",
        "cbow_train_gen=vec_gen(w2v_cbow,vocab_cbow,X_train,y_train,batch_size,Max_input_size,Embedding_size)\r\n",
        "cbow_val_gen=vec_gen(w2v_cbow,vocab_cbow,X_val,y_val,batch_size,Max_input_size,Embedding_size)\r\n",
        "history_cbow_bi = model_cbow_bi.fit_generator(cbow_train_gen,validation_data=cbow_val_gen,validation_steps=int((len(X_val)/batch_size)+1),steps_per_epoch=int((len(X_train)/batch_size)+1),epochs=epochs)\r\n",
        "history = model_cbow_bi.evaluate(x = vec_gen(w2v_cbow,vocab_cbow,X_test,y_test,batch_size,Max_input_size,Embedding_size),steps=int(len(y_test)/batch_size))\r\n",
        "print(history)\r\n",
        "result_table[4]=history[1]\r\n",
        "print(\"CBOW_BI\")"
      ],
      "execution_count": 22,
      "outputs": [
        {
          "output_type": "stream",
          "text": [
            "/usr/local/lib/python3.7/dist-packages/tensorflow/python/keras/engine/training.py:1844: UserWarning: `Model.fit_generator` is deprecated and will be removed in a future version. Please use `Model.fit`, which supports generators.\n",
            "  warnings.warn('`Model.fit_generator` is deprecated and '\n",
            "/usr/local/lib/python3.7/dist-packages/ipykernel_launcher.py:4: VisibleDeprecationWarning: Creating an ndarray from ragged nested sequences (which is a list-or-tuple of lists-or-tuples-or ndarrays with different lengths or shapes) is deprecated. If you meant to do this, you must specify 'dtype=object' when creating the ndarray\n",
            "  after removing the cwd from sys.path.\n"
          ],
          "name": "stderr"
        },
        {
          "output_type": "stream",
          "text": [
            "Epoch 1/30\n",
            "27/27 [==============================] - 44s 2s/step - loss: 1.7293 - accuracy: 0.3134 - f1: 0.0174 - precision: 0.0417 - recall: 0.0124 - val_loss: 1.5635 - val_accuracy: 0.3877 - val_f1: 0.0000e+00 - val_precision: 0.0000e+00 - val_recall: 0.0000e+00\n",
            "Epoch 2/30\n",
            "27/27 [==============================] - 39s 1s/step - loss: 1.5558 - accuracy: 0.3956 - f1: 0.0606 - precision: 0.5541 - recall: 0.0337 - val_loss: 1.5274 - val_accuracy: 0.3934 - val_f1: 0.0838 - val_precision: 0.6466 - val_recall: 0.0449\n",
            "Epoch 3/30\n",
            "27/27 [==============================] - 40s 1s/step - loss: 1.5214 - accuracy: 0.3965 - f1: 0.1415 - precision: 0.6343 - recall: 0.0805 - val_loss: 1.4828 - val_accuracy: 0.4354 - val_f1: 0.2522 - val_precision: 0.6245 - val_recall: 0.1580\n",
            "Epoch 4/30\n",
            "27/27 [==============================] - 38s 1s/step - loss: 1.4573 - accuracy: 0.4279 - f1: 0.2472 - precision: 0.6570 - recall: 0.1560 - val_loss: 1.4459 - val_accuracy: 0.4374 - val_f1: 0.2687 - val_precision: 0.6632 - val_recall: 0.1686\n",
            "Epoch 5/30\n",
            "27/27 [==============================] - 39s 1s/step - loss: 1.4052 - accuracy: 0.4613 - f1: 0.2982 - precision: 0.6691 - recall: 0.1942 - val_loss: 1.4081 - val_accuracy: 0.4620 - val_f1: 0.2906 - val_precision: 0.6795 - val_recall: 0.1849\n",
            "Epoch 6/30\n",
            "27/27 [==============================] - 37s 1s/step - loss: 1.3656 - accuracy: 0.4777 - f1: 0.3433 - precision: 0.6913 - recall: 0.2304 - val_loss: 1.3754 - val_accuracy: 0.4774 - val_f1: 0.3767 - val_precision: 0.6618 - val_recall: 0.2640\n",
            "Epoch 7/30\n",
            "27/27 [==============================] - 38s 1s/step - loss: 1.3387 - accuracy: 0.4882 - f1: 0.3772 - precision: 0.6949 - recall: 0.2617 - val_loss: 1.3763 - val_accuracy: 0.4797 - val_f1: 0.3885 - val_precision: 0.6702 - val_recall: 0.2737\n",
            "Epoch 8/30\n",
            "27/27 [==============================] - 38s 1s/step - loss: 1.3295 - accuracy: 0.4927 - f1: 0.3968 - precision: 0.6954 - recall: 0.2791 - val_loss: 1.3668 - val_accuracy: 0.4883 - val_f1: 0.3962 - val_precision: 0.6583 - val_recall: 0.2837\n",
            "Epoch 9/30\n",
            "27/27 [==============================] - 37s 1s/step - loss: 1.3217 - accuracy: 0.4933 - f1: 0.3942 - precision: 0.6823 - recall: 0.2780 - val_loss: 1.3693 - val_accuracy: 0.4880 - val_f1: 0.4189 - val_precision: 0.6423 - val_recall: 0.3111\n",
            "Epoch 10/30\n",
            "27/27 [==============================] - 40s 1s/step - loss: 1.3129 - accuracy: 0.4980 - f1: 0.4129 - precision: 0.7021 - recall: 0.2927 - val_loss: 1.3612 - val_accuracy: 0.4843 - val_f1: 0.4248 - val_precision: 0.6579 - val_recall: 0.3140\n",
            "Epoch 11/30\n",
            "27/27 [==============================] - 40s 1s/step - loss: 1.3003 - accuracy: 0.5077 - f1: 0.4189 - precision: 0.7091 - recall: 0.2978 - val_loss: 1.3567 - val_accuracy: 0.4926 - val_f1: 0.4231 - val_precision: 0.6558 - val_recall: 0.3126\n",
            "Epoch 12/30\n",
            "27/27 [==============================] - 39s 1s/step - loss: 1.2911 - accuracy: 0.5048 - f1: 0.4226 - precision: 0.7037 - recall: 0.3025 - val_loss: 1.3510 - val_accuracy: 0.4874 - val_f1: 0.4080 - val_precision: 0.6717 - val_recall: 0.2931\n",
            "Epoch 13/30\n",
            "27/27 [==============================] - 37s 1s/step - loss: 1.2721 - accuracy: 0.5154 - f1: 0.4308 - precision: 0.7150 - recall: 0.3088 - val_loss: 1.3505 - val_accuracy: 0.4897 - val_f1: 0.3994 - val_precision: 0.6783 - val_recall: 0.2831\n",
            "Epoch 14/30\n",
            "27/27 [==============================] - 38s 1s/step - loss: 1.2557 - accuracy: 0.5250 - f1: 0.4424 - precision: 0.7234 - recall: 0.3194 - val_loss: 1.3460 - val_accuracy: 0.4980 - val_f1: 0.4264 - val_precision: 0.6545 - val_recall: 0.3163\n",
            "Epoch 15/30\n",
            "27/27 [==============================] - 40s 1s/step - loss: 1.2576 - accuracy: 0.5255 - f1: 0.4464 - precision: 0.7162 - recall: 0.3254 - val_loss: 1.3534 - val_accuracy: 0.4966 - val_f1: 0.4470 - val_precision: 0.6422 - val_recall: 0.3429\n",
            "Epoch 16/30\n",
            "27/27 [==============================] - 39s 1s/step - loss: 1.2471 - accuracy: 0.5284 - f1: 0.4545 - precision: 0.7172 - recall: 0.3333 - val_loss: 1.3579 - val_accuracy: 0.4934 - val_f1: 0.4515 - val_precision: 0.6290 - val_recall: 0.3523\n",
            "Epoch 17/30\n",
            "27/27 [==============================] - 39s 1s/step - loss: 1.2554 - accuracy: 0.5234 - f1: 0.4498 - precision: 0.7178 - recall: 0.3287 - val_loss: 1.3407 - val_accuracy: 0.5000 - val_f1: 0.4453 - val_precision: 0.6418 - val_recall: 0.3411\n",
            "Epoch 18/30\n",
            "27/27 [==============================] - 39s 1s/step - loss: 1.2337 - accuracy: 0.5329 - f1: 0.4593 - precision: 0.7278 - recall: 0.3368 - val_loss: 1.3493 - val_accuracy: 0.4883 - val_f1: 0.4236 - val_precision: 0.6535 - val_recall: 0.3134\n",
            "Epoch 19/30\n",
            "27/27 [==============================] - 41s 2s/step - loss: 1.2138 - accuracy: 0.5488 - f1: 0.4677 - precision: 0.7376 - recall: 0.3436 - val_loss: 1.3550 - val_accuracy: 0.4837 - val_f1: 0.4260 - val_precision: 0.6616 - val_recall: 0.3143\n",
            "Epoch 20/30\n",
            "27/27 [==============================] - 40s 1s/step - loss: 1.1988 - accuracy: 0.5514 - f1: 0.4823 - precision: 0.7345 - recall: 0.3600 - val_loss: 1.3607 - val_accuracy: 0.4934 - val_f1: 0.4529 - val_precision: 0.6297 - val_recall: 0.3537\n",
            "Epoch 21/30\n",
            "27/27 [==============================] - 40s 2s/step - loss: 1.1756 - accuracy: 0.5517 - f1: 0.4957 - precision: 0.7344 - recall: 0.3748 - val_loss: 1.3727 - val_accuracy: 0.4966 - val_f1: 0.4598 - val_precision: 0.6263 - val_recall: 0.3634\n",
            "Epoch 22/30\n",
            "27/27 [==============================] - 39s 1s/step - loss: 1.1610 - accuracy: 0.5586 - f1: 0.4982 - precision: 0.7290 - recall: 0.3792 - val_loss: 1.3555 - val_accuracy: 0.5049 - val_f1: 0.4653 - val_precision: 0.6260 - val_recall: 0.3703\n",
            "Epoch 23/30\n",
            "27/27 [==============================] - 39s 1s/step - loss: 1.1404 - accuracy: 0.5721 - f1: 0.5154 - precision: 0.7380 - recall: 0.3966 - val_loss: 1.3498 - val_accuracy: 0.5106 - val_f1: 0.4789 - val_precision: 0.6157 - val_recall: 0.3920\n",
            "Epoch 24/30\n",
            "27/27 [==============================] - 37s 1s/step - loss: 1.1199 - accuracy: 0.5770 - f1: 0.5275 - precision: 0.7403 - recall: 0.4109 - val_loss: 1.3706 - val_accuracy: 0.5094 - val_f1: 0.4721 - val_precision: 0.6165 - val_recall: 0.3826\n",
            "Epoch 25/30\n",
            "27/27 [==============================] - 38s 1s/step - loss: 1.0927 - accuracy: 0.5904 - f1: 0.5400 - precision: 0.7474 - recall: 0.4235 - val_loss: 1.3585 - val_accuracy: 0.5069 - val_f1: 0.4690 - val_precision: 0.6298 - val_recall: 0.3737\n",
            "Epoch 26/30\n",
            "27/27 [==============================] - 37s 1s/step - loss: 1.0756 - accuracy: 0.5934 - f1: 0.5421 - precision: 0.7571 - recall: 0.4239 - val_loss: 1.3809 - val_accuracy: 0.4980 - val_f1: 0.4632 - val_precision: 0.6243 - val_recall: 0.3683\n",
            "Epoch 27/30\n",
            "27/27 [==============================] - 37s 1s/step - loss: 1.0559 - accuracy: 0.6041 - f1: 0.5622 - precision: 0.7613 - recall: 0.4471 - val_loss: 1.3602 - val_accuracy: 0.4934 - val_f1: 0.4495 - val_precision: 0.6265 - val_recall: 0.3506\n",
            "Epoch 28/30\n",
            "27/27 [==============================] - 39s 1s/step - loss: 1.0385 - accuracy: 0.6071 - f1: 0.5637 - precision: 0.7652 - recall: 0.4469 - val_loss: 1.3693 - val_accuracy: 0.5020 - val_f1: 0.4516 - val_precision: 0.6568 - val_recall: 0.3443\n",
            "Epoch 29/30\n",
            "27/27 [==============================] - 38s 1s/step - loss: 1.0314 - accuracy: 0.6058 - f1: 0.5669 - precision: 0.7634 - recall: 0.4516 - val_loss: 1.3838 - val_accuracy: 0.5086 - val_f1: 0.4798 - val_precision: 0.6203 - val_recall: 0.3914\n",
            "Epoch 30/30\n",
            "27/27 [==============================] - 40s 1s/step - loss: 0.9913 - accuracy: 0.6261 - f1: 0.5940 - precision: 0.7704 - recall: 0.4841 - val_loss: 1.4214 - val_accuracy: 0.5043 - val_f1: 0.4835 - val_precision: 0.6069 - val_recall: 0.4020\n",
            "8/8 [==============================] - 7s 900ms/step - loss: 1.4950 - accuracy: 0.4980 - f1: 0.4759 - precision: 0.5977 - recall: 0.3955\n",
            "[1.4949654340744019, 0.49799999594688416, 0.4759482741355896, 0.5976859331130981, 0.3955000042915344]\n",
            "CBOW_BI\n"
          ],
          "name": "stdout"
        }
      ]
    },
    {
      "cell_type": "code",
      "metadata": {
        "id": "KvXct9PSslGI",
        "colab": {
          "base_uri": "https://localhost:8080/"
        },
        "outputId": "002224c7-d473-47e7-98d2-69c546a41b8b"
      },
      "source": [
        "model_glove_bi = tf.keras.Sequential()\r\n",
        "model_glove_bi.add(tf.keras.Input(shape=(Max_input_size,Embedding_size)))\r\n",
        "model_glove_bi.add(tf.keras.layers.Bidirectional(tf.keras.layers.LSTM(64),merge_mode='concat'))\r\n",
        "model_glove_bi.add(tf.keras.layers.Dropout(0.2))\r\n",
        "model_glove_bi.add(tf.keras.layers.Dense(64,activation='relu'))\r\n",
        "model_glove_bi.add(tf.keras.layers.Dropout(0.2))\r\n",
        "model_glove_bi.add(tf.keras.layers.Dense(6, activation='softmax'))\r\n",
        "model_glove_bi.compile(loss='categorical_crossentropy',optimizer='adam', \r\n",
        "                           metrics=['accuracy',f1,precision,recall])\r\n",
        "glove_train_gen=glove_gen(vocab_glove,X_train,y_train,batch_size,Max_input_size,Embedding_size)\r\n",
        "glove_val_gen=glove_gen(vocab_glove,X_val,y_val,batch_size,Max_input_size,Embedding_size)\r\n",
        "history_glove_bi = model_glove_bi.fit_generator(glove_train_gen,validation_data=glove_val_gen,validation_steps=int((len(X_val)/batch_size)+1),steps_per_epoch=int((len(X_train)/batch_size)+1),epochs=epochs)\r\n",
        "history = model_glove_bi.evaluate(x = glove_gen(vocab_glove,X_test,y_test,batch_size,Max_input_size,Embedding_size),steps=int(len(y_test)/batch_size))\r\n",
        "print(history)\r\n",
        "\r\n",
        "result_table[7]=history[1]\r\n",
        "print(\"GLOVE_BI\")"
      ],
      "execution_count": 23,
      "outputs": [
        {
          "output_type": "stream",
          "text": [
            "/usr/local/lib/python3.7/dist-packages/tensorflow/python/keras/engine/training.py:1844: UserWarning: `Model.fit_generator` is deprecated and will be removed in a future version. Please use `Model.fit`, which supports generators.\n",
            "  warnings.warn('`Model.fit_generator` is deprecated and '\n",
            "/usr/local/lib/python3.7/dist-packages/ipykernel_launcher.py:12: VisibleDeprecationWarning: Creating an ndarray from ragged nested sequences (which is a list-or-tuple of lists-or-tuples-or ndarrays with different lengths or shapes) is deprecated. If you meant to do this, you must specify 'dtype=object' when creating the ndarray\n",
            "  if sys.path[0] == '':\n"
          ],
          "name": "stderr"
        },
        {
          "output_type": "stream",
          "text": [
            "Epoch 1/30\n",
            "27/27 [==============================] - 23s 720ms/step - loss: 1.7090 - accuracy: 0.2838 - f1: 0.0321 - precision: 0.1831 - recall: 0.0187 - val_loss: 1.4704 - val_accuracy: 0.4140 - val_f1: 0.1792 - val_precision: 0.7531 - val_recall: 0.1017\n",
            "Epoch 2/30\n",
            "27/27 [==============================] - 18s 680ms/step - loss: 1.4289 - accuracy: 0.4448 - f1: 0.2807 - precision: 0.6745 - recall: 0.1784 - val_loss: 1.2874 - val_accuracy: 0.5014 - val_f1: 0.3724 - val_precision: 0.7381 - val_recall: 0.2494\n",
            "Epoch 3/30\n",
            "27/27 [==============================] - 18s 660ms/step - loss: 1.2841 - accuracy: 0.5090 - f1: 0.4051 - precision: 0.7100 - recall: 0.2848 - val_loss: 1.1937 - val_accuracy: 0.5446 - val_f1: 0.4677 - val_precision: 0.7424 - val_recall: 0.3417\n",
            "Epoch 4/30\n",
            "27/27 [==============================] - 18s 679ms/step - loss: 1.1840 - accuracy: 0.5470 - f1: 0.4845 - precision: 0.7305 - recall: 0.3631 - val_loss: 1.1538 - val_accuracy: 0.5586 - val_f1: 0.5161 - val_precision: 0.7172 - val_recall: 0.4034\n",
            "Epoch 5/30\n",
            "27/27 [==============================] - 18s 668ms/step - loss: 1.1313 - accuracy: 0.5715 - f1: 0.5212 - precision: 0.7263 - recall: 0.4073 - val_loss: 1.1041 - val_accuracy: 0.5937 - val_f1: 0.5409 - val_precision: 0.7579 - val_recall: 0.4209\n",
            "Epoch 6/30\n",
            "27/27 [==============================] - 17s 649ms/step - loss: 1.0709 - accuracy: 0.5980 - f1: 0.5508 - precision: 0.7435 - recall: 0.4385 - val_loss: 1.0851 - val_accuracy: 0.5997 - val_f1: 0.5474 - val_precision: 0.7560 - val_recall: 0.4294\n",
            "Epoch 7/30\n",
            "27/27 [==============================] - 18s 660ms/step - loss: 1.0341 - accuracy: 0.6175 - f1: 0.5758 - precision: 0.7630 - recall: 0.4633 - val_loss: 1.0774 - val_accuracy: 0.6057 - val_f1: 0.5580 - val_precision: 0.7502 - val_recall: 0.4446\n",
            "Epoch 8/30\n",
            "27/27 [==============================] - 18s 682ms/step - loss: 1.0039 - accuracy: 0.6229 - f1: 0.5878 - precision: 0.7605 - recall: 0.4794 - val_loss: 1.0778 - val_accuracy: 0.6100 - val_f1: 0.5840 - val_precision: 0.7263 - val_recall: 0.4886\n",
            "Epoch 9/30\n",
            "27/27 [==============================] - 18s 664ms/step - loss: 0.9948 - accuracy: 0.6293 - f1: 0.5963 - precision: 0.7602 - recall: 0.4912 - val_loss: 1.0787 - val_accuracy: 0.6057 - val_f1: 0.5796 - val_precision: 0.7228 - val_recall: 0.4840\n",
            "Epoch 10/30\n",
            "27/27 [==============================] - 17s 645ms/step - loss: 0.9880 - accuracy: 0.6339 - f1: 0.5996 - precision: 0.7605 - recall: 0.4959 - val_loss: 1.0662 - val_accuracy: 0.6169 - val_f1: 0.5910 - val_precision: 0.7215 - val_recall: 0.5009\n",
            "Epoch 11/30\n",
            "27/27 [==============================] - 18s 676ms/step - loss: 0.9475 - accuracy: 0.6543 - f1: 0.6251 - precision: 0.7769 - recall: 0.5235 - val_loss: 1.0699 - val_accuracy: 0.6151 - val_f1: 0.5966 - val_precision: 0.7122 - val_recall: 0.5134\n",
            "Epoch 12/30\n",
            "27/27 [==============================] - 18s 673ms/step - loss: 0.8995 - accuracy: 0.6722 - f1: 0.6469 - precision: 0.7835 - recall: 0.5509 - val_loss: 1.0645 - val_accuracy: 0.6149 - val_f1: 0.5930 - val_precision: 0.7153 - val_recall: 0.5066\n",
            "Epoch 13/30\n",
            "27/27 [==============================] - 18s 661ms/step - loss: 0.8706 - accuracy: 0.6789 - f1: 0.6610 - precision: 0.7913 - recall: 0.5679 - val_loss: 1.0883 - val_accuracy: 0.6114 - val_f1: 0.6044 - val_precision: 0.7068 - val_recall: 0.5280\n",
            "Epoch 14/30\n",
            "27/27 [==============================] - 17s 646ms/step - loss: 0.8344 - accuracy: 0.6945 - f1: 0.6771 - precision: 0.7883 - recall: 0.5936 - val_loss: 1.1019 - val_accuracy: 0.6149 - val_f1: 0.6052 - val_precision: 0.6980 - val_recall: 0.5343\n",
            "Epoch 15/30\n",
            "27/27 [==============================] - 18s 654ms/step - loss: 0.8003 - accuracy: 0.7140 - f1: 0.6969 - precision: 0.7996 - recall: 0.6177 - val_loss: 1.1242 - val_accuracy: 0.6029 - val_f1: 0.5941 - val_precision: 0.6865 - val_recall: 0.5237\n",
            "Epoch 16/30\n",
            "27/27 [==============================] - 18s 665ms/step - loss: 0.7681 - accuracy: 0.7268 - f1: 0.7110 - precision: 0.8136 - recall: 0.6316 - val_loss: 1.1788 - val_accuracy: 0.5769 - val_f1: 0.5775 - val_precision: 0.6727 - val_recall: 0.5060\n",
            "Epoch 17/30\n",
            "27/27 [==============================] - 18s 666ms/step - loss: 0.7514 - accuracy: 0.7334 - f1: 0.7195 - precision: 0.8157 - recall: 0.6438 - val_loss: 1.1681 - val_accuracy: 0.5951 - val_f1: 0.5969 - val_precision: 0.6810 - val_recall: 0.5314\n",
            "Epoch 18/30\n",
            "27/27 [==============================] - 18s 674ms/step - loss: 0.7130 - accuracy: 0.7491 - f1: 0.7338 - precision: 0.8194 - recall: 0.6647 - val_loss: 1.1931 - val_accuracy: 0.5866 - val_f1: 0.5772 - val_precision: 0.6601 - val_recall: 0.5129\n",
            "Epoch 19/30\n",
            "27/27 [==============================] - 27s 1s/step - loss: 0.6833 - accuracy: 0.7549 - f1: 0.7470 - precision: 0.8328 - recall: 0.6776 - val_loss: 1.2055 - val_accuracy: 0.6034 - val_f1: 0.5968 - val_precision: 0.6585 - val_recall: 0.5457\n",
            "Epoch 20/30\n",
            "27/27 [==============================] - 18s 668ms/step - loss: 0.6390 - accuracy: 0.7776 - f1: 0.7720 - precision: 0.8417 - recall: 0.7131 - val_loss: 1.2842 - val_accuracy: 0.6089 - val_f1: 0.6058 - val_precision: 0.6614 - val_recall: 0.5589\n",
            "Epoch 21/30\n",
            "27/27 [==============================] - 18s 674ms/step - loss: 0.6325 - accuracy: 0.7745 - f1: 0.7694 - precision: 0.8373 - recall: 0.7118 - val_loss: 1.3571 - val_accuracy: 0.5989 - val_f1: 0.5949 - val_precision: 0.6428 - val_recall: 0.5537\n",
            "Epoch 22/30\n",
            "27/27 [==============================] - 17s 644ms/step - loss: 0.6321 - accuracy: 0.7745 - f1: 0.7631 - precision: 0.8339 - recall: 0.7035 - val_loss: 1.4037 - val_accuracy: 0.5909 - val_f1: 0.5877 - val_precision: 0.6287 - val_recall: 0.5517\n",
            "Epoch 23/30\n",
            "27/27 [==============================] - 18s 665ms/step - loss: 0.6392 - accuracy: 0.7698 - f1: 0.7591 - precision: 0.8293 - recall: 0.7003 - val_loss: 1.4615 - val_accuracy: 0.5897 - val_f1: 0.5946 - val_precision: 0.6344 - val_recall: 0.5594\n",
            "Epoch 24/30\n",
            "27/27 [==============================] - 18s 671ms/step - loss: 0.6546 - accuracy: 0.7652 - f1: 0.7595 - precision: 0.8247 - recall: 0.7043 - val_loss: 1.3911 - val_accuracy: 0.5891 - val_f1: 0.5904 - val_precision: 0.6340 - val_recall: 0.5526\n",
            "Epoch 25/30\n",
            "27/27 [==============================] - 18s 659ms/step - loss: 0.5805 - accuracy: 0.7941 - f1: 0.7894 - precision: 0.8441 - recall: 0.7417 - val_loss: 1.4060 - val_accuracy: 0.6003 - val_f1: 0.5980 - val_precision: 0.6401 - val_recall: 0.5611\n",
            "Epoch 26/30\n",
            "27/27 [==============================] - 18s 666ms/step - loss: 0.5416 - accuracy: 0.8120 - f1: 0.8080 - precision: 0.8605 - recall: 0.7619 - val_loss: 1.4369 - val_accuracy: 0.5966 - val_f1: 0.5975 - val_precision: 0.6390 - val_recall: 0.5611\n",
            "Epoch 27/30\n",
            "27/27 [==============================] - 18s 654ms/step - loss: 0.5192 - accuracy: 0.8185 - f1: 0.8162 - precision: 0.8650 - recall: 0.7728 - val_loss: 1.5038 - val_accuracy: 0.5880 - val_f1: 0.5890 - val_precision: 0.6258 - val_recall: 0.5563\n",
            "Epoch 28/30\n",
            "27/27 [==============================] - 18s 681ms/step - loss: 0.4985 - accuracy: 0.8278 - f1: 0.8247 - precision: 0.8689 - recall: 0.7849 - val_loss: 1.5372 - val_accuracy: 0.5871 - val_f1: 0.5834 - val_precision: 0.6154 - val_recall: 0.5546\n",
            "Epoch 29/30\n",
            "27/27 [==============================] - 18s 658ms/step - loss: 0.4979 - accuracy: 0.8233 - f1: 0.8223 - precision: 0.8666 - recall: 0.7824 - val_loss: 1.5707 - val_accuracy: 0.5949 - val_f1: 0.5936 - val_precision: 0.6247 - val_recall: 0.5654\n",
            "Epoch 30/30\n",
            "27/27 [==============================] - 18s 669ms/step - loss: 0.4826 - accuracy: 0.8316 - f1: 0.8297 - precision: 0.8738 - recall: 0.7899 - val_loss: 1.6157 - val_accuracy: 0.5846 - val_f1: 0.5854 - val_precision: 0.6122 - val_recall: 0.5609\n",
            "8/8 [==============================] - 2s 272ms/step - loss: 1.6910 - accuracy: 0.5760 - f1: 0.5748 - precision: 0.6032 - recall: 0.5490\n",
            "[1.6909531354904175, 0.5759999752044678, 0.5748289823532104, 0.6032485961914062, 0.5490000247955322]\n",
            "GLOVE_BI\n"
          ],
          "name": "stdout"
        }
      ]
    },
    {
      "cell_type": "code",
      "metadata": {
        "id": "Jnny5oeZslD9",
        "colab": {
          "base_uri": "https://localhost:8080/",
          "height": 678
        },
        "outputId": "8b391ced-f45d-4e03-bbdf-5b6aed3d2926"
      },
      "source": [
        "print(\"\\tBiLstm\")\r\n",
        "print(\"sg\",result_table[:3])\r\n",
        "print(\"cbow\",result_table[3:6])\r\n",
        "print(\"glove\",result_table[6:9])\r\n",
        "print(history_sg_bi.history)\r\n",
        "plt.title(\"Skip-Gram + Bi-LSTM accuracy, loss vs epochs Graph\")\r\n",
        "plt.plot(history_sg_bi.history['loss'],c='b',label='loss')\r\n",
        "plt.plot(history_sg_bi.history['accuracy'],c='r',label='accuracy')\r\n",
        "plt.xlabel('epochs')\r\n",
        "plt.legend()\r\n",
        "# plt.yticks()\r\n",
        "plt.show()\r\n",
        "plt.title(\"GloVe + Bi-LSTM accuracy, loss vs epochs Graph\")\r\n",
        "plt.plot(history_glove_bi.history['loss'],c='b',label='loss')\r\n",
        "plt.plot(history_glove_bi.history['accuracy'],c='r',label='accuracy')\r\n",
        "plt.xlabel('epochs')\r\n",
        "plt.legend()\r\n",
        "# plt.yticks()\r\n",
        "plt.show()"
      ],
      "execution_count": 24,
      "outputs": [
        {
          "output_type": "stream",
          "text": [
            "\tBiLstm\n",
            "sg [0, 0.4819999933242798, 0]\n",
            "cbow [0, 0.49799999594688416, 0]\n",
            "glove [0, 0.5759999752044678, 0]\n",
            "{'loss': [1.6757164001464844, 1.5507323741912842, 1.4926048517227173, 1.4325486421585083, 1.3867754936218262, 1.3573514223098755, 1.3336211442947388, 1.3214638233184814, 1.3121672868728638, 1.3022141456604004, 1.292113184928894, 1.2815624475479126, 1.269182562828064, 1.253994345664978, 1.2494386434555054, 1.2381738424301147, 1.232069730758667, 1.2216646671295166, 1.2042527198791504, 1.1870602369308472, 1.1629092693328857, 1.1341934204101562, 1.109148621559143, 1.0878819227218628, 1.0637648105621338, 1.0497266054153442, 1.0338020324707031, 1.0151489973068237, 0.9964094161987305, 0.9681864976882935], 'accuracy': [0.36229628324508667, 0.39318519830703735, 0.4171110987663269, 0.4484444558620453, 0.467851847410202, 0.48355555534362793, 0.4923703670501709, 0.49755555391311646, 0.4982222318649292, 0.5029629468917847, 0.5097036957740784, 0.5134074091911316, 0.5196296572685242, 0.5220741033554077, 0.5244444608688354, 0.5278518795967102, 0.5312592387199402, 0.532444417476654, 0.5422222018241882, 0.5488148331642151, 0.5597037076950073, 0.5699259042739868, 0.5820740461349487, 0.5892592668533325, 0.5982962846755981, 0.6045185327529907, 0.6128148436546326, 0.6209629774093628, 0.6260740756988525, 0.6375555396080017], 'f1': [0.017238600179553032, 0.06287740170955658, 0.19586683809757233, 0.2755873203277588, 0.3271428644657135, 0.3503272533416748, 0.3770979642868042, 0.38836154341697693, 0.396790474653244, 0.40448787808418274, 0.4109704792499542, 0.42101186513900757, 0.4304027557373047, 0.44074389338493347, 0.43758073449134827, 0.4533717930316925, 0.45660555362701416, 0.4592212736606598, 0.4712769091129303, 0.48194044828414917, 0.4919498562812805, 0.5147213935852051, 0.5252983570098877, 0.5395493507385254, 0.5522602796554565, 0.561957597732544, 0.5691713690757751, 0.5807198882102966, 0.5882546305656433, 0.6017374396324158], 'precision': [0.1738889366388321, 0.5847511887550354, 0.6418737769126892, 0.6690605878829956, 0.6791630983352661, 0.6883128881454468, 0.6954368352890015, 0.6978732943534851, 0.6989116072654724, 0.7101706862449646, 0.704552173614502, 0.7139341831207275, 0.7131388783454895, 0.71816086769104, 0.7121469974517822, 0.7270796895027161, 0.714317262172699, 0.7347970008850098, 0.7285478115081787, 0.732479453086853, 0.7393519878387451, 0.7455096244812012, 0.7521430253982544, 0.7530585527420044, 0.7567065358161926, 0.7611820101737976, 0.7707062363624573, 0.7732177972793579, 0.7707030773162842, 0.7780466675758362], 'recall': [0.010370370000600815, 0.03459258750081062, 0.11888890713453293, 0.17600001394748688, 0.21696293354034424, 0.23592594265937805, 0.25925925374031067, 0.2696296274662018, 0.27837038040161133, 0.2840740978717804, 0.29096293449401855, 0.299407422542572, 0.3088148236274719, 0.31837037205696106, 0.31651854515075684, 0.33044448494911194, 0.33622226119041443, 0.3348888158798218, 0.3495555520057678, 0.36037036776542664, 0.37029626965522766, 0.39437034726142883, 0.4050370752811432, 0.42177778482437134, 0.4362962543964386, 0.4467407464981079, 0.4525185227394104, 0.46585190296173096, 0.47659263014793396, 0.4919259250164032], 'val_loss': [1.5639631748199463, 1.515973448753357, 1.4682966470718384, 1.4207974672317505, 1.3957997560501099, 1.3743896484375, 1.3699487447738647, 1.3644969463348389, 1.3747845888137817, 1.3756078481674194, 1.3690801858901978, 1.366074800491333, 1.356795310974121, 1.3612689971923828, 1.362672209739685, 1.3607327938079834, 1.3559472560882568, 1.3479644060134888, 1.3438137769699097, 1.3571038246154785, 1.3377879858016968, 1.3312032222747803, 1.3287322521209717, 1.3475764989852905, 1.3348300457000732, 1.339909315109253, 1.4088029861450195, 1.3902565240859985, 1.4134010076522827, 1.4604911804199219], 'val_accuracy': [0.38771429657936096, 0.4065714180469513, 0.4317142963409424, 0.4511428475379944, 0.46000000834465027, 0.4740000069141388, 0.47285714745521545, 0.47914284467697144, 0.47942855954170227, 0.47857141494750977, 0.48657143115997314, 0.4802857041358948, 0.48485714197158813, 0.49228572845458984, 0.490285724401474, 0.4877142906188965, 0.49085715413093567, 0.48914286494255066, 0.4925714433193207, 0.4985714256763458, 0.4957142770290375, 0.5028571486473083, 0.5011428594589233, 0.4991428554058075, 0.5065714120864868, 0.5062857270240784, 0.5040000081062317, 0.5099999904632568, 0.4957142770290375, 0.4968571364879608], 'val_f1': [0.0, 0.1285109966993332, 0.21654491126537323, 0.260802686214447, 0.2927074432373047, 0.33361920714378357, 0.38618889451026917, 0.40516313910484314, 0.41987544298171997, 0.41045013070106506, 0.39949944615364075, 0.39348092675209045, 0.39919614791870117, 0.40821272134780884, 0.43400201201438904, 0.4396045506000519, 0.4377349317073822, 0.43241581320762634, 0.43020734190940857, 0.4614047408103943, 0.4419777989387512, 0.44986507296562195, 0.4459215998649597, 0.43267154693603516, 0.45586565136909485, 0.45844873785972595, 0.46460357308387756, 0.47468551993370056, 0.46338728070259094, 0.4785485565662384], 'val_precision': [0.0, 0.6023679971694946, 0.6733676791191101, 0.6955394744873047, 0.7308762669563293, 0.7191670536994934, 0.670496940612793, 0.6610130667686462, 0.6471200585365295, 0.650416374206543, 0.6567946672439575, 0.6602539420127869, 0.6642913222312927, 0.6536582112312317, 0.6350268125534058, 0.6261342763900757, 0.635560154914856, 0.6612183451652527, 0.6624511480331421, 0.6237063407897949, 0.6538830995559692, 0.6544617414474487, 0.6589990854263306, 0.655609667301178, 0.6463097929954529, 0.6565825343132019, 0.621931254863739, 0.6201440691947937, 0.6351667642593384, 0.6159027218818665], 'val_recall': [0.0, 0.07200000435113907, 0.1291428655385971, 0.16057142615318298, 0.18314285576343536, 0.2174285650253296, 0.27142855525016785, 0.2922857105731964, 0.3108571171760559, 0.29999998211860657, 0.2871428430080414, 0.28028571605682373, 0.28542858362197876, 0.29685714840888977, 0.329714298248291, 0.33885714411735535, 0.33400002121925354, 0.3214285671710968, 0.3188571333885193, 0.3662857115268707, 0.33400002121925354, 0.34285715222358704, 0.3371428847312927, 0.3231428563594818, 0.3522857129573822, 0.3522856831550598, 0.3708571493625641, 0.3845714032649994, 0.36485716700553894, 0.39142856001853943]}\n"
          ],
          "name": "stdout"
        },
        {
          "output_type": "display_data",
          "data": {
            "image/png": "[encoded data removed]",
            "text/plain": [
              "<Figure size 432x288 with 1 Axes>"
            ]
          },
          "metadata": {
            "tags": [],
            "needs_background": "light"
          }
        },
        {
          "output_type": "display_data",
          "data": {
            "image/png": "[encoded data removed]",
            "text/plain": [
              "<Figure size 432x288 with 1 Axes>"
            ]
          },
          "metadata": {
            "tags": [],
            "needs_background": "light"
          }
        }
      ]
    },
    {
      "cell_type": "code",
      "metadata": {
        "id": "nUbvmU9dslBs"
      },
      "source": [
        ""
      ],
      "execution_count": 24,
      "outputs": []
    },
    {
      "cell_type": "code",
      "metadata": {
        "id": "8vtllFpXsk_L"
      },
      "source": [
        ""
      ],
      "execution_count": 24,
      "outputs": []
    },
    {
      "cell_type": "code",
      "metadata": {
        "id": "8QGIeFBNs2sp"
      },
      "source": [
        "\r\n"
      ],
      "execution_count": 24,
      "outputs": []
    },
    {
      "cell_type": "code",
      "metadata": {
        "id": "-3TcF2ZAs2pz"
      },
      "source": [
        ""
      ],
      "execution_count": 24,
      "outputs": []
    },
    {
      "cell_type": "code",
      "metadata": {
        "id": "S55kUZcrs2m_"
      },
      "source": [
        ""
      ],
      "execution_count": 24,
      "outputs": []
    },
    {
      "cell_type": "code",
      "metadata": {
        "id": "jScBXcUEsk8s"
      },
      "source": [
        ""
      ],
      "execution_count": 24,
      "outputs": []
    },
    {
      "cell_type": "code",
      "metadata": {
        "id": "4b22efZWsKqL"
      },
      "source": [
        ""
      ],
      "execution_count": 24,
      "outputs": []
    }
  ]
}