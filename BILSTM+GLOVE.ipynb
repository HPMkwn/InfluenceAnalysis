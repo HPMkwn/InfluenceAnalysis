{
  "nbformat": 4,
  "nbformat_minor": 0,
  "metadata": {
    "colab": {
      "name": "BILSTM+GLOVE.ipynb",
      "private_outputs": true,
      "provenance": [],
      "authorship_tag": "ABX9TyMDgvk+iPfdz0aoQB822+As",
      "include_colab_link": true
    },
    "kernelspec": {
      "name": "python3",
      "display_name": "Python 3"
    }
  },
  "cells": [
    {
      "cell_type": "markdown",
      "metadata": {
        "id": "view-in-github",
        "colab_type": "text"
      },
      "source": [
        "<a href=\"https://colab.research.google.com/github/harrymkwn/InfluenceAnalysis/blob/master/BILSTM%2BGLOVE.ipynb\" target=\"_parent\"><img src=\"https://colab.research.google.com/assets/colab-badge.svg\" alt=\"Open In Colab\"/></a>"
      ]
    },
    {
      "cell_type": "code",
      "metadata": {
        "id": "jCK8flM4mA9Y"
      },
      "source": [
        "import pandas as pd\n",
        "import numpy as np\n",
        "import tensorflow as tf\n",
        "from gensim.models import Word2Vec\n",
        "import matplotlib.pyplot as plt\n",
        "from sklearn.linear_model import LogisticRegression\n",
        "from sklearn.multiclass import OneVsRestClassifier\n",
        "from gensim.models import KeyedVectors\n",
        "from sklearn.model_selection import train_test_split\n",
        "from google.colab import  drive\n",
        "drive.mount('/content/drive')\n",
        "import nltk\n",
        "from nltk.corpus import stopwords\n",
        "nltk.download('stopwords')\n",
        "device_name = tf.test.gpu_device_name()\n",
        "print(device_name)\n",
        "# df_train = pd.read_csv('/content/SA-emotion-train_val_test_clean_tweets.csv')\n",
        "df = pd.read_csv('/content/SA-emotion-train_val_test_clean_tweetsekphrasis.csv', sep='\\t')\n",
        "# df_train = df_train.sample(frac=1)\n",
        "df = df.sample(frac=1)"
      ],
      "execution_count": null,
      "outputs": []
    },
    {
      "cell_type": "code",
      "metadata": {
        "id": "SDHhAIkymj2Z"
      },
      "source": [
        "drive.mount('/content/drive')"
      ],
      "execution_count": null,
      "outputs": []
    },
    {
      "cell_type": "code",
      "metadata": {
        "id": "5ZbrUDbiu0KI"
      },
      "source": [
        "nltk.download('all')"
      ],
      "execution_count": null,
      "outputs": []
    },
    {
      "cell_type": "code",
      "metadata": {
        "id": "qlCyAlTsm_WQ"
      },
      "source": [
        "df.head()"
      ],
      "execution_count": null,
      "outputs": []
    },
    {
      "cell_type": "code",
      "metadata": {
        "id": "zo3-PB9bnWCo"
      },
      "source": [
        "df.emotion.unique()"
      ],
      "execution_count": null,
      "outputs": []
    },
    {
      "cell_type": "code",
      "metadata": {
        "id": "Zozz7FFvrMfJ"
      },
      "source": [
        "category_dict = {0:[1,0,0,0,0],1:[0,1,0,0,0],2:[0,0,1,0,0],3:[0,0,0,1,0],4:[0,0,0,0,1]}\n",
        "data_tweet = [x.lower().split() for x in df['tweets']]\n",
        "data_cat = np.array([category_dict[x] for x in df['emotion']])\n",
        "\n",
        "data_tweet = data_tweet"
      ],
      "execution_count": null,
      "outputs": []
    },
    {
      "cell_type": "code",
      "metadata": {
        "id": "IMSW3SK1r4Fs"
      },
      "source": [
        "X_train_data, X_test_data, y_train_data, y_test_data = train_test_split(data_tweet, data_cat, test_size=0.2, random_state=42)\n",
        "X_train_data, X_val_data, y_train_data, y_val_data = train_test_split(X_train_data, y_train_data, test_size=0.2, random_state=42)"
      ],
      "execution_count": null,
      "outputs": []
    },
    {
      "cell_type": "code",
      "metadata": {
        "id": "HhXngPdQsV18"
      },
      "source": [
        "print(len(X_train))\n",
        "print(len(X_test))\n",
        "print(len(X_val))"
      ],
      "execution_count": null,
      "outputs": []
    },
    {
      "cell_type": "markdown",
      "metadata": {
        "id": "vI4VhL82swfq"
      },
      "source": [
        "#Glove"
      ]
    },
    {
      "cell_type": "code",
      "metadata": {
        "id": "XiuiMa4VsbCX"
      },
      "source": [
        "vocab_glove = {}\n",
        "with open(\"/content/drive/My Drive/InfluenceAnalysis/glove/glove.twitter.27B.200d.txt\", 'r', encoding=\"utf-8\") as f:\n",
        "  for line in f:\n",
        "      values = line.split()\n",
        "      word = values[0]\n",
        "      vector = np.asarray(values[1:], \"float32\")\n",
        "      vocab_glove[word] = vector"
      ],
      "execution_count": null,
      "outputs": []
    },
    {
      "cell_type": "code",
      "metadata": {
        "id": "3DBlpX4EtDo0"
      },
      "source": [
        "batch_size = 500\n",
        "Max_input_size = max([len(x) for x in data_tweet])\n",
        "mul_factor=1.5"
      ],
      "execution_count": null,
      "outputs": []
    },
    {
      "cell_type": "code",
      "metadata": {
        "id": "-lEGPRogtXFK"
      },
      "source": [
        "X_train = [nltk.pos_tag(x) for x in X_train_data]\n",
        "X_test = [nltk.pos_tag(x) for x in X_test_data]\n",
        "X_val = [nltk.pos_tag(x) for x in X_val_data]\n"
      ],
      "execution_count": null,
      "outputs": []
    },
    {
      "cell_type": "code",
      "metadata": {
        "id": "l3TeGQkD7VKw"
      },
      "source": [
        ""
      ],
      "execution_count": null,
      "outputs": []
    },
    {
      "cell_type": "markdown",
      "metadata": {
        "id": "jsFPhqmItdrG"
      },
      "source": [
        "# Multiplication"
      ]
    },
    {
      "cell_type": "code",
      "metadata": {
        "id": "tF3mcDYyth7e"
      },
      "source": [
        "def glove_gen(vocab,data_tweet,data_cat,batch_size,Max_input_size,Embedding_size,mul_factor):\n",
        "  while True:\n",
        "    for k in range(int(len(data_tweet)/batch_size)):\n",
        "      res=[]\n",
        "      for x in data_tweet[k*(batch_size):(k+1)*(batch_size)]:\n",
        "        tweet = [(vocab[i[0]],i[1]) for i in x if i[0] in vocab.keys()]\n",
        "        l=len(tweet)\n",
        "        for i in range(l):\n",
        "          if tweet[i][1][:2]=='JJ':\n",
        "            for z in range(max(i-2,0),min(i+3,l)):\n",
        "              if tweet[z][1][:2]=='NN':\n",
        "                tweet[z]=((tweet[z][0]*tweet[i][0])*mul_factor/np.sqrt(tweet[i][0].dot(tweet[i][0])),tweet[z][1])\n",
        "          if tweet[i][1][:2]=='RB':\n",
        "            for z in range(max(i-2,0),min(i+3,l)):\n",
        "              if tweet[z][1][:2]=='VB':\n",
        "                tweet[z]=((tweet[z][0]*tweet[i][0])*mul_factor/np.sqrt(tweet[i][0].dot(tweet[i][0])),tweet[z][1])      \n",
        "        res+=[np.array([x[0] for x in tweet])]\n",
        "      temp = np.array([np.pad(z.flatten(),(0,Max_input_size*Embedding_size-len(z.flatten()))).reshape(Max_input_size,Embedding_size) for z in res])\n",
        "      tempres = data_cat[k*(batch_size):(k+1)*(batch_size)]\n",
        "      yield (temp,tempres)"
      ],
      "execution_count": null,
      "outputs": []
    },
    {
      "cell_type": "code",
      "metadata": {
        "id": "7OKdr0xXti_s"
      },
      "source": [
        "epochs=20\n",
        "Embedding_size=100\n",
        "model_mul = tf.keras.Sequential()\n",
        "model_mul.add(tf.keras.Input(shape=(Max_input_size,Embedding_size)))\n",
        "model_mul.add(tf.keras.layers.Bidirectional(tf.keras.layers.LSTM(50),merge_mode='concat'))\n",
        "model_mul.add(tf.keras.layers.Dropout(0.2))\n",
        "model_mul.add(tf.keras.layers.Dense(64,activation='relu'))\n",
        "model_mul.add(tf.keras.layers.Dropout(0.2))\n",
        "model_mul.add(tf.keras.layers.Dense(5, activation='softmax'))\n",
        "model_mul.compile(loss='categorical_crossentropy',optimizer='adam', \n",
        "                           metrics=['accuracy'])\n",
        "\n",
        "validation_generator = glove_gen(vocab_glove,X_val,y_val,batch_size,Max_input_size,Embedding_size,mul_factor)\n",
        "history_mul = model_mul.fit_generator(generator = glove_gen(vocab_glove,X_train,y_train,batch_size,Max_input_size,Embedding_size,mul_factor),steps_per_epoch=int(len(X_train)/batch_size),epochs=epochs,validation_steps=2)\n",
        "history_mul_eval = model_mul.evaluate(x = glove_gen(vocab_glove,X_test,y_test,batch_size,Max_input_size,Embedding_size,mul_factor),steps=int(len(y_test)/batch_size))"
      ],
      "execution_count": null,
      "outputs": []
    },
    {
      "cell_type": "code",
      "metadata": {
        "id": "bLpJhwFyufwc"
      },
      "source": [
        "print(history_mul_eval)"
      ],
      "execution_count": null,
      "outputs": []
    },
    {
      "cell_type": "markdown",
      "metadata": {
        "id": "8tOlgibExp-B"
      },
      "source": [
        "#Normal"
      ]
    },
    {
      "cell_type": "code",
      "metadata": {
        "id": "Oj-ho02UTLlJ"
      },
      "source": [
        "X_train = X_train_data\n",
        "X_test = X_test_data\n",
        "X_val = X_val_data\n",
        "y_train = y_train_data\n",
        "y_test = y_test_data\n",
        "y_val = y_val_data\n"
      ],
      "execution_count": null,
      "outputs": []
    },
    {
      "cell_type": "code",
      "metadata": {
        "id": "jJmHQQ3XxrwM"
      },
      "source": [
        "def glove_gen(vocab,data_tweet,data_cat,batch_size,Max_input_size,Embedding_size=100):\n",
        "  while True:\n",
        "    for k in range(int(len(data_tweet)/batch_size)):\n",
        "      temp = np.array([np.array([vocab[i] for i in x if i in vocab.keys()]) for x in data_tweet[k*(batch_size):(k+1)*(batch_size)]])\n",
        "      temp = np.array([np.pad(x.flatten(),(0,Max_input_size*Embedding_size-len(x.flatten()))).reshape(Max_input_size,Embedding_size) for x in temp])\n",
        "      tempres = data_cat[k*(batch_size):(k+1)*(batch_size)]\n",
        "      yield (temp,tempres)"
      ],
      "execution_count": null,
      "outputs": []
    },
    {
      "cell_type": "code",
      "metadata": {
        "id": "wojq0-K7xsu6"
      },
      "source": [
        "epochs=27\n",
        "Embedding_size=200\n",
        "model = tf.keras.Sequential()\n",
        "model.add(tf.keras.Input(shape=(Max_input_size,Embedding_size)))\n",
        "model.add(tf.keras.layers.Bidirectional(tf.keras.layers.LSTM(50),merge_mode='concat'))\n",
        "model.add(tf.keras.layers.Dropout(0.2))\n",
        "model.add(tf.keras.layers.Dense(64,activation='relu'))\n",
        "model.add(tf.keras.layers.Dropout(0.2))\n",
        "model.add(tf.keras.layers.Dense(5, activation='softmax'))\n",
        "model.compile(loss='categorical_crossentropy',optimizer='adam', metrics=['accuracy'])\n",
        "\n",
        "# validation_generator = glove_gen(vocab_glove,X_val,y_val,batch_size,Max_input_size,Embedding_size,mul_factor)\n",
        "history_mul = model.fit_generator(generator = glove_gen(vocab_glove,X_train,y_train,batch_size,Max_input_size,Embedding_size),steps_per_epoch=int(len(X_train)/batch_size),epochs=epochs)\n",
        "history_mul_eval = model.evaluate(x = glove_gen(vocab_glove,X_test,y_test,batch_size,Max_input_size,Embedding_size),steps=int(len(y_test)/batch_size))"
      ],
      "execution_count": null,
      "outputs": []
    },
    {
      "cell_type": "code",
      "metadata": {
        "id": "luIaqCyzV0Qr"
      },
      "source": [
        "epochs=27\n",
        "Embedding_size=200\n",
        "model = tf.keras.Sequential()\n",
        "model.add(tf.keras.Input(shape=(Max_input_size,Embedding_size)))\n",
        "model.add(tf.keras.layers.Bidirectional(tf.keras.layers.LSTM(50),merge_mode='concat'))\n",
        "model.add(tf.keras.layers.Dropout(0.2))\n",
        "model.add(tf.keras.layers.Dense(64,activation='relu'))\n",
        "model.add(tf.keras.layers.Dropout(0.2))\n",
        "model.add(tf.keras.layers.Dense(5, activation='softmax'))\n",
        "model.compile(loss='categorical_crossentropy',optimizer='adam', metrics=['accuracy'])\n",
        "\n",
        "# validation_generator = glove_gen(vocab_glove,X_val,y_val,batch_size,Max_input_size,Embedding_size,mul_factor)\n",
        "train_generator = glove_gen(vocab_glove,X_train,y_train,batch_size,Max_input_size,Embedding_size)\n",
        "val_generator = glove_gen(vocab_glove,X_val,y_val,batch_size,Max_input_size,Embedding_size)\n",
        "history_mul = model.fit(train_generator,validation_data=val_generator, validation_steps=100,steps_per_epoch=int(len(X_train)/batch_size),epochs=epochs)\n",
        "history_mul_eval = model.evaluate(x = glove_gen(vocab_glove,X_test,y_test,batch_size,Max_input_size,Embedding_size),steps=int(len(y_test)/batch_size))"
      ],
      "execution_count": null,
      "outputs": []
    },
    {
      "cell_type": "markdown",
      "metadata": {
        "id": "8uAecz0rgQue"
      },
      "source": [
        "#mult"
      ]
    },
    {
      "cell_type": "code",
      "metadata": {
        "id": "y5DZsn_WZ_QM"
      },
      "source": [
        "def glove_gen(vocab,data_tweet,data_cat,batch_size,Max_input_size,Embedding_size,mul_factor):\n",
        "  while True:\n",
        "    for k in range(int(len(data_tweet)/batch_size)):\n",
        "      temp = np.array([np.array([np.array(vocab[i])*mul_factor if (i in vocab.keys() and (nltk.pos_tag(nltk.word_tokenize(i))[0][1]=='JJ' or nltk.pos_tag(nltk.word_tokenize(i))[0][1]=='NN')) else np.array(vocab[i]) for i in x if i in vocab.keys()]) for x in data_tweet[k*(batch_size):(k+1)*(batch_size)]])\n",
        "      temp = np.array([np.pad(x.flatten(),(0,Max_input_size*Embedding_size-len(x.flatten()))).reshape(Max_input_size,Embedding_size) for x in temp])\n",
        "      tempres = data_cat[k*(batch_size):(k+1)*(batch_size)]\n",
        "      yield (temp,tempres)"
      ],
      "execution_count": null,
      "outputs": []
    },
    {
      "cell_type": "code",
      "metadata": {
        "id": "kPDNJqU7gSwq"
      },
      "source": [
        "epochs=27\n",
        "Embedding_size=200\n",
        "model_mul = tf.keras.Sequential()\n",
        "model_mul.add(tf.keras.Input(shape=(Max_input_size,Embedding_size)))\n",
        "model_mul.add(tf.keras.layers.Bidirectional(tf.keras.layers.LSTM(50),merge_mode='concat'))\n",
        "model_mul.add(tf.keras.layers.Dropout(0.2))\n",
        "model_mul.add(tf.keras.layers.Dense(64,activation='relu'))\n",
        "model_mul.add(tf.keras.layers.Dropout(0.2))\n",
        "model_mul.add(tf.keras.layers.Dense(5, activation='softmax'))\n",
        "model_mul.compile(loss='categorical_crossentropy',optimizer='adam', metrics=['accuracy'])\n",
        "\n",
        "# validation_generator = glove_gen(vocab_glove,X_val,y_val,batch_size,Max_input_size,Embedding_size,mul_factor)\n",
        "train_generator = glove_gen(vocab_glove,X_train,y_train,batch_size,Max_input_size,Embedding_size)\n",
        "val_generator = glove_gen(vocab_glove,X_val,y_val,batch_size,Max_input_size,Embedding_size)\n",
        "history_mul = model_mul.fit(train_generator,validation_data=val_generator, validation_steps=100,steps_per_epoch=int(len(X_train)/batch_size),epochs=epochs)\n",
        "history_mul_eval = model_mul.evaluate(x = glove_gen(vocab_glove,X_test,y_test,batch_size,Max_input_size,Embedding_size),steps=int(len(y_test)/batch_size))"
      ],
      "execution_count": null,
      "outputs": []
    },
    {
      "cell_type": "markdown",
      "metadata": {
        "id": "SvqhRTjBg5-d"
      },
      "source": [
        "#posneg"
      ]
    },
    {
      "cell_type": "code",
      "metadata": {
        "id": "83YQ-crUhJJh"
      },
      "source": [
        "X_train_posneg = X_train_data\n",
        "X_test_posneg = X_test_data\n",
        "X_val_posneg = X_val_data\n",
        "y_train_posneg = y_train_data\n",
        "y_test_posneg = y_test_data\n",
        "y_val_posneg = y_val_data\n"
      ],
      "execution_count": null,
      "outputs": []
    },
    {
      "cell_type": "code",
      "metadata": {
        "id": "MY5MzUMHhEQM"
      },
      "source": [
        "epochs=27\n",
        "Embedding_size=200\n",
        "model_posneg = tf.keras.Sequential()\n",
        "model_posneg.add(tf.keras.Input(shape=(Max_input_size,Embedding_size)))\n",
        "model_posneg.add(tf.keras.layers.Bidirectional(tf.keras.layers.LSTM(50),merge_mode='concat'))\n",
        "model_posneg.add(tf.keras.layers.Dropout(0.2))\n",
        "model_posneg.add(tf.keras.layers.Dense(64,activation='relu'))\n",
        "model_posneg.add(tf.keras.layers.Dropout(0.2))\n",
        "model_posneg.add(tf.keras.layers.Dense(5, activation='softmax'))\n",
        "model_posneg.compile(loss='categorical_crossentropy',optimizer='adam', metrics=['accuracy'])\n",
        "\n",
        "# validation_generator = glove_gen(vocab_glove,X_val,y_val,batch_size,Max_input_size,Embedding_size,mul_factor)\n",
        "train_generator = glove_gen(vocab_glove,X_train_posneg,y_train_posneg,batch_size,Max_input_size,Embedding_size)\n",
        "val_generator = glove_gen(vocab_glove,X_val_posneg,y_val_posneg,batch_size,Max_input_size,Embedding_size)\n",
        "history_mul = model_posneg.fit(train_generator,validation_data=val_generator, validation_steps=100,steps_per_epoch=int(len(X_train)/batch_size),epochs=epochs)\n",
        "history_mul_eval = model_posneg.evaluate(x = glove_gen(vocab_glove,X_test_posneg,y_test_posneg,batch_size,Max_input_size,Embedding_size),steps=int(len(y_test)/batch_size))"
      ],
      "execution_count": null,
      "outputs": []
    },
    {
      "cell_type": "code",
      "metadata": {
        "id": "vbtjh6E8hdZ8"
      },
      "source": [
        ""
      ],
      "execution_count": null,
      "outputs": []
    }
  ]
}