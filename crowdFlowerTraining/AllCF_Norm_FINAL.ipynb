{
  "nbformat": 4,
  "nbformat_minor": 0,
  "metadata": {
    "colab": {
      "name": "AllCF_Norm_FINAL.ipynb",
      "provenance": [],
      "collapsed_sections": [],
      "include_colab_link": true
    },
    "kernelspec": {
      "name": "python3",
      "display_name": "Python 3"
    }
  },
  "cells": [
    {
      "cell_type": "markdown",
      "metadata": {
        "id": "view-in-github",
        "colab_type": "text"
      },
      "source": [
        "<a href=\"https://colab.research.google.com/github/harrymkwn/InfluenceAnalysis/blob/master/AllCF_Norm_FINAL.ipynb\" target=\"_parent\"><img src=\"https://colab.research.google.com/assets/colab-badge.svg\" alt=\"Open In Colab\"/></a>"
      ]
    },
    {
      "cell_type": "code",
      "metadata": {
        "colab": {
          "base_uri": "https://localhost:8080/"
        },
        "id": "xWu8YExnF9Wc",
        "outputId": "13a9c17d-4487-4677-a4f8-b7c064459643"
      },
      "source": [
        "from google.colab import  drive\r\n",
        "drive.mount('/content/drive')"
      ],
      "execution_count": 1,
      "outputs": [
        {
          "output_type": "stream",
          "text": [
            "Mounted at /content/drive\n"
          ],
          "name": "stdout"
        }
      ]
    },
    {
      "cell_type": "code",
      "metadata": {
        "id": "BirA5cYqsF8-",
        "colab": {
          "base_uri": "https://localhost:8080/"
        },
        "outputId": "14b7aad9-476e-4cd6-a9ef-23590ae42cac"
      },
      "source": [
        "import pandas as pd\r\n",
        "import numpy as np\r\n",
        "import tensorflow as tf\r\n",
        "from gensim.models import Word2Vec\r\n",
        "import matplotlib.pyplot as plt\r\n",
        "from sklearn.linear_model import LogisticRegression\r\n",
        "from sklearn.multiclass import OneVsRestClassifier\r\n",
        "from gensim.models import KeyedVectors\r\n",
        "from sklearn.model_selection import train_test_split\r\n",
        "import nltk\r\n",
        "from nltk.corpus import stopwords\r\n",
        "nltk.download('stopwords')\r\n",
        "device_name = tf.test.gpu_device_name()\r\n",
        "print(device_name)\r\n",
        "df = pd.read_csv('/content/drive/MyDrive/InfluenceAnalysis/crowdFlower/cF_clean_our_combined.csv')\r\n",
        "df = df.sample(frac=1,random_state=32)"
      ],
      "execution_count": 2,
      "outputs": [
        {
          "output_type": "stream",
          "text": [
            "[nltk_data] Downloading package stopwords to /root/nltk_data...\n",
            "[nltk_data]   Unzipping corpora/stopwords.zip.\n",
            "\n"
          ],
          "name": "stdout"
        }
      ]
    },
    {
      "cell_type": "code",
      "metadata": {
        "colab": {
          "base_uri": "https://localhost:8080/",
          "height": 204
        },
        "id": "RMj5rGTt6a3w",
        "outputId": "159406d3-fc31-4257-8c5f-57dfebe4beae"
      },
      "source": [
        "df.head()"
      ],
      "execution_count": 3,
      "outputs": [
        {
          "output_type": "execute_result",
          "data": {
            "text/html": [
              "<div>\n",
              "<style scoped>\n",
              "    .dataframe tbody tr th:only-of-type {\n",
              "        vertical-align: middle;\n",
              "    }\n",
              "\n",
              "    .dataframe tbody tr th {\n",
              "        vertical-align: top;\n",
              "    }\n",
              "\n",
              "    .dataframe thead th {\n",
              "        text-align: right;\n",
              "    }\n",
              "</style>\n",
              "<table border=\"1\" class=\"dataframe\">\n",
              "  <thead>\n",
              "    <tr style=\"text-align: right;\">\n",
              "      <th></th>\n",
              "      <th>emotion</th>\n",
              "      <th>tweets</th>\n",
              "    </tr>\n",
              "  </thead>\n",
              "  <tbody>\n",
              "    <tr>\n",
              "      <th>35975</th>\n",
              "      <td>1</td>\n",
              "      <td>Praying for love in a lap dance and paying in...</td>\n",
              "    </tr>\n",
              "    <tr>\n",
              "      <th>17590</th>\n",
              "      <td>2</td>\n",
              "      <td>trying to fix my internet connection      gues...</td>\n",
              "    </tr>\n",
              "    <tr>\n",
              "      <th>38071</th>\n",
              "      <td>0</td>\n",
              "      <td>starting an account here on twitter</td>\n",
              "    </tr>\n",
              "    <tr>\n",
              "      <th>23304</th>\n",
              "      <td>2</td>\n",
              "      <td>hmmm wrong link ignore my tweet</td>\n",
              "    </tr>\n",
              "    <tr>\n",
              "      <th>26990</th>\n",
              "      <td>0</td>\n",
              "      <td>thanks   before the major chop</td>\n",
              "    </tr>\n",
              "  </tbody>\n",
              "</table>\n",
              "</div>"
            ],
            "text/plain": [
              "       emotion                                             tweets\n",
              "35975        1   Praying for love in a lap dance and paying in...\n",
              "17590        2  trying to fix my internet connection      gues...\n",
              "38071        0                starting an account here on twitter\n",
              "23304        2                    hmmm wrong link ignore my tweet\n",
              "26990        0                   thanks   before the major chop  "
            ]
          },
          "metadata": {
            "tags": []
          },
          "execution_count": 3
        }
      ]
    },
    {
      "cell_type": "code",
      "metadata": {
        "colab": {
          "base_uri": "https://localhost:8080/"
        },
        "id": "2JKLYxBOGbbd",
        "outputId": "8bb90900-8eae-4be1-a6d3-ae465913c14c"
      },
      "source": [
        "print(df.emotion.unique())\r\n",
        "no_labels=4"
      ],
      "execution_count": 4,
      "outputs": [
        {
          "output_type": "stream",
          "text": [
            "[1 2 0 3]\n"
          ],
          "name": "stdout"
        }
      ]
    },
    {
      "cell_type": "code",
      "metadata": {
        "id": "Yuw7tgu9sLG6",
        "colab": {
          "base_uri": "https://localhost:8080/"
        },
        "outputId": "72b440b0-ce0a-46f2-f41a-302a71174160"
      },
      "source": [
        "category_dict = {}\r\n",
        "for i in range(no_labels):\r\n",
        "  category_dict[i]=[0 for j in range(no_labels)]\r\n",
        "  category_dict[i][i]=1\r\n",
        "data_tweet = [str(x).lower().split() for x in df['tweets']]\r\n",
        "data_cat = np.array([np.array(category_dict[x]) for x in df['emotion']])\r\n",
        "print(data_cat[:5])"
      ],
      "execution_count": 5,
      "outputs": [
        {
          "output_type": "stream",
          "text": [
            "[[0 1 0 0]\n",
            " [0 0 1 0]\n",
            " [1 0 0 0]\n",
            " [0 0 1 0]\n",
            " [1 0 0 0]]\n"
          ],
          "name": "stdout"
        }
      ]
    },
    {
      "cell_type": "code",
      "metadata": {
        "id": "TSkKL28UsLFS",
        "colab": {
          "base_uri": "https://localhost:8080/"
        },
        "outputId": "d2714cf6-b435-48c2-82d5-7e586c1d5cba"
      },
      "source": [
        "print(data_tweet[:5])\r\n",
        "print(data_cat[:5])"
      ],
      "execution_count": 6,
      "outputs": [
        {
          "output_type": "stream",
          "text": [
            "[['praying', 'for', 'love', 'in', 'a', 'lap', 'dance', 'and', 'paying', 'in', 'naivety', 'less', 'than', 'one', 'of', 'my', 'fav', 'songs'], ['trying', 'to', 'fix', 'my', 'internet', 'connection', 'guess', 'my', 'prayers', 'have', 'been', 'answered', 'and', 'i', 'wont', 'have', 'any', 'study', 'distractions', 'ugh'], ['starting', 'an', 'account', 'here', 'on', 'twitter'], ['hmmm', 'wrong', 'link', 'ignore', 'my', 'tweet'], ['thanks', 'before', 'the', 'major', 'chop']]\n",
            "[[0 1 0 0]\n",
            " [0 0 1 0]\n",
            " [1 0 0 0]\n",
            " [0 0 1 0]\n",
            " [1 0 0 0]]\n"
          ],
          "name": "stdout"
        }
      ]
    },
    {
      "cell_type": "code",
      "metadata": {
        "id": "8Av3Y5BrsLDF"
      },
      "source": [
        "# Parameters\r\n",
        "Min_count = 0\r\n",
        "Embedding_size = 200\r\n",
        "Window_size = 5\r\n",
        "Negative_sampling = 00"
      ],
      "execution_count": 7,
      "outputs": []
    },
    {
      "cell_type": "code",
      "metadata": {
        "id": "R1X3AjXrsLAf"
      },
      "source": [
        "w2v_sg = Word2Vec(min_count=Min_count,\r\n",
        "                     window=Window_size,\r\n",
        "                     size=Embedding_size,\r\n",
        "                     negative=Negative_sampling,sg=1)\r\n",
        "w2v_sg.build_vocab(data_tweet)\r\n",
        "w2v_sg.train(data_tweet, total_examples=w2v_sg.corpus_count, epochs=5)\r\n",
        "w2v_cbow = Word2Vec(min_count=Min_count,\r\n",
        "                     window=Window_size,\r\n",
        "                     size=Embedding_size,\r\n",
        "                     negative=Negative_sampling,sg=0)\r\n",
        "w2v_cbow.build_vocab(data_tweet)\r\n",
        "w2v_cbow.train(data_tweet, total_examples=w2v_cbow.corpus_count, epochs=5)\r\n",
        "w2v_sg.wv.init_sims(True)\r\n",
        "w2v_cbow.wv.init_sims(True)"
      ],
      "execution_count": 8,
      "outputs": []
    },
    {
      "cell_type": "code",
      "metadata": {
        "id": "Cm9AefOUsK9b"
      },
      "source": [
        "vocab_sg = w2v_sg.wv.vocab\r\n",
        "vocab_sg = [x for x in vocab_sg]\r\n",
        "vocab_cbow = w2v_cbow.wv.vocab\r\n",
        "vocab_cbow = [x for x in vocab_cbow] \r\n",
        "vocab_glove = {}\r\n",
        "with open(\"/content/drive/My Drive/InfluenceAnalysis/glove/glove.twitter.27B.200d.txt\", 'r', encoding=\"utf-8\") as f:\r\n",
        "  for line in f:\r\n",
        "      values = line.split()\r\n",
        "      word = values[0]\r\n",
        "      vector = np.asarray(values[1:], \"float32\")\r\n",
        "      vocab_glove[word] = vector"
      ],
      "execution_count": 9,
      "outputs": []
    },
    {
      "cell_type": "code",
      "metadata": {
        "id": "PvMp2mqxsK5q",
        "colab": {
          "base_uri": "https://localhost:8080/"
        },
        "outputId": "b0324681-6a4f-48f6-d82a-f801630215bc"
      },
      "source": [
        "batch_size = 500\r\n",
        "Max_input_size = max([len(x) for x in data_tweet])\r\n",
        "print(Max_input_size)"
      ],
      "execution_count": 10,
      "outputs": [
        {
          "output_type": "stream",
          "text": [
            "46\n"
          ],
          "name": "stdout"
        }
      ]
    },
    {
      "cell_type": "code",
      "metadata": {
        "id": "KUuecoyysK1J"
      },
      "source": [
        "def vec_gen(w2v,vocab,data_tweet,data_cat,batch_size,Max_input_size,Embedding_size):\r\n",
        "  while True:\r\n",
        "    for k in range(int(len(data_tweet)/batch_size)):\r\n",
        "      temp = np.array([np.array([w2v.wv.get_vector(i) for i in x if i in vocab]) for x in data_tweet[k*(batch_size):(k+1)*(batch_size)]])\r\n",
        "      temp = np.array([np.pad(x.flatten(),(0,Max_input_size*Embedding_size-len(x.flatten()))).reshape(Max_input_size,Embedding_size) for x in temp])\r\n",
        "      tempres = np.array(data_cat[k*(batch_size):(k+1)*(batch_size)])\r\n",
        "      yield (temp,tempres)\r\n",
        "\r\n",
        "def glove_gen(vocab,data_tweet,data_cat,batch_size,Max_input_size,Embedding_size):\r\n",
        "  while True:\r\n",
        "    for k in range(int(len(data_tweet)/batch_size)):\r\n",
        "      temp = np.array([np.array([vocab[i] for i in x if i in vocab.keys()]) for x in data_tweet[k*(batch_size):(k+1)*(batch_size)]])\r\n",
        "      temp = np.array([np.pad(x.flatten(),(0,Max_input_size*Embedding_size-len(x.flatten()))).reshape(Max_input_size,Embedding_size) for x in temp])\r\n",
        "      tempres = np.array(data_cat[k*(batch_size):(k+1)*(batch_size)])\r\n",
        "      yield (temp,tempres)\r\n"
      ],
      "execution_count": 19,
      "outputs": []
    },
    {
      "cell_type": "code",
      "metadata": {
        "colab": {
          "base_uri": "https://localhost:8080/"
        },
        "id": "yar43oDQHOZV",
        "outputId": "b588e5e5-827a-44b5-d1e1-b3778c459d85"
      },
      "source": [
        "from sklearn.model_selection import StratifiedShuffleSplit\r\n",
        "sss = StratifiedShuffleSplit(n_splits=1, test_size=0.2, random_state=0)\r\n",
        "sss.get_n_splits(data_tweet, data_cat)\r\n",
        "X_train=[]\r\n",
        "X_test=[]\r\n",
        "y_train=[]\r\n",
        "y_test=[]\r\n",
        "counter=0\r\n",
        "for train_index, test_index in sss.split(data_tweet, data_cat):\r\n",
        "  print(\"TRAIN:\", train_index, \"TEST:\", test_index)\r\n",
        "  for i in train_index:\r\n",
        "    X_train+=[data_tweet[i]]\r\n",
        "    y_train+=[data_cat[i]]\r\n",
        "\r\n",
        "  for j in test_index:\r\n",
        "    X_test+=[data_tweet[j]]\r\n",
        "    y_test+=[data_cat[j]]\r\n",
        "\r\n",
        " # X_train, X_test = data_tweet[train_index], data_tweet[test_index]\r\n",
        " # y_train, y_test = data_cat[train_index], data_cat[test_index]\r\n",
        "print(X_train[:5])\r\n",
        "print(y_train[:5])\r\n",
        "sss = StratifiedShuffleSplit(n_splits=1, test_size=0.2, random_state=0)\r\n",
        "sss.get_n_splits(X_train, y_train)\r\n",
        "x_train=[]\r\n",
        "X_val=[]\r\n",
        "Y_train=[]\r\n",
        "y_val=[]\r\n",
        "for train_index1, test_index1 in sss.split(X_train, y_train):\r\n",
        "  print(\"TRAIN:\", train_index1, \"TEST:\", test_index1)\r\n",
        "  for i in train_index1:\r\n",
        "    x_train+=[X_train[i]]\r\n",
        "    Y_train+=[y_train[i]]\r\n",
        "\r\n",
        "  for j in test_index1:\r\n",
        "    X_val+=[X_train[j]]\r\n",
        "    y_val+=[y_train[j]]\r\n",
        "X_train=x_train\r\n",
        "y_train=Y_train\r\n",
        "print(len(X_train))\r\n",
        "print(len(y_train))\r\n",
        "print(len(X_test))\r\n",
        "print(len(y_test))\r\n",
        "print(len(X_val))\r\n",
        "print(len(y_val))\r\n",
        "print(X_train[:5])\r\n",
        "print(y_train[:5])\r\n",
        "result_table = [0,0,0,0,0,0,0,0,0]\r\n",
        "  "
      ],
      "execution_count": 20,
      "outputs": [
        {
          "output_type": "stream",
          "text": [
            "TRAIN: [10470  6321 13813 ... 24250 39308  6334] TEST: [22946 37404 11668 ...  6796  7895 14585]\n",
            "[['the', 'goonies', 'projected', 'on', 'a', 'garage', 'door', 'with', 'my', 'friends', 'amazing'], ['17', 'again', 'tonight'], ['we', 'finally', 'hit', '1000', 'friends', 'thanks'], ['lolzz', 'public', 'script', 'wait', 'n', 'watch'], ['night']]\n",
            "[array([0, 1, 0, 0]), array([1, 0, 0, 0]), array([0, 1, 0, 0]), array([0, 1, 0, 0]), array([1, 0, 0, 0])]\n",
            "TRAIN: [28318 14444 15946 ... 11043 21820 15291] TEST: [23742   966  6886 ... 25081 24593 26654]\n",
            "25600\n",
            "25600\n",
            "8000\n",
            "8000\n",
            "6400\n",
            "6400\n",
            "[['geez', '15', 'years', 'you', 'd', 'think', 'they', 'would', 'have', 'had', 'that', 'checked', 'out', 'years', 'ago'], ['oh', 'that', 'is', 'bad', 'i', 'made', 'that', 'mistake', 'once', 'before', 'but', 'still', 'managed', 'to', 'pass', 'though', 'so', 'maybe', 'it', 'is', 'not', 'as', 'bad', 'as', 'he', 'thinks'], ['leather', 'shoes', 'and', 'bags', 'are', 'so', 'hard', 'to', 'resist'], ['haha', 'my', 'rooommate', 'are', 'watching', 'that', 'i', 'have', 'a', 'huge', 'crush', 'on', 'landon'], ['i', 'should', 'post', 'some', 'photos', 'of', 'my', 'robots', 'ok', 'offline', 'for', '4', 'hours', 'now', 'ttfn', 'oh', 'so', 'im', 'confusion']]\n",
            "[array([1, 0, 0, 0]), array([0, 0, 1, 0]), array([0, 1, 0, 0]), array([1, 0, 0, 0]), array([1, 0, 0, 0])]\n"
          ],
          "name": "stdout"
        }
      ]
    },
    {
      "cell_type": "code",
      "metadata": {
        "id": "2Y-IkgHbsKsf"
      },
      "source": [
        "epochs = 30"
      ],
      "execution_count": 21,
      "outputs": []
    },
    {
      "cell_type": "code",
      "metadata": {
        "id": "ovlhGV3WHxgx"
      },
      "source": [
        "from keras import backend as K\r\n",
        "def recall(y_true, y_pred):\r\n",
        "        \"\"\"Recall metric.\r\n",
        "\r\n",
        "        Only computes a batch-wise average of recall.\r\n",
        "\r\n",
        "        Computes the recall, a metric for multi-label classification of\r\n",
        "        how many relevant items are selected.\r\n",
        "        \"\"\"\r\n",
        "        true_positives = K.sum(K.round(K.clip(y_true * y_pred, 0, 1)))\r\n",
        "        possible_positives = K.sum(K.round(K.clip(y_true, 0, 1)))\r\n",
        "        recalls = true_positives / (possible_positives + K.epsilon())\r\n",
        "        return recalls\r\n",
        "def precision(y_true, y_pred):\r\n",
        "        \"\"\"Precision metric.\r\n",
        "\r\n",
        "        Only computes a batch-wise average of precision.\r\n",
        "\r\n",
        "        Computes the precision, a metric for multi-label classification of\r\n",
        "        how many selected items are relevant.\r\n",
        "        \"\"\"\r\n",
        "        true_positives = K.sum(K.round(K.clip(y_true * y_pred, 0, 1)))\r\n",
        "        predicted_positives = K.sum(K.round(K.clip(y_pred, 0, 1)))\r\n",
        "        precisions = true_positives / (predicted_positives + K.epsilon())\r\n",
        "        return precisions\r\n",
        "def f1(y_true, y_pred):\r\n",
        "    precisions = precision(y_true, y_pred)\r\n",
        "    recalls = recall(y_true, y_pred)\r\n",
        "    return 2*((precisions*recalls)/(precisions+recalls+K.epsilon()))"
      ],
      "execution_count": 22,
      "outputs": []
    },
    {
      "cell_type": "code",
      "metadata": {
        "id": "815ghdLRslIm",
        "colab": {
          "base_uri": "https://localhost:8080/"
        },
        "outputId": "7b451d87-a6bd-4b5d-f2e7-f8062f44b4fb"
      },
      "source": [
        "model_sg_bi = tf.keras.Sequential()\r\n",
        "model_sg_bi.add(tf.keras.Input(shape=(Max_input_size,Embedding_size)))\r\n",
        "model_sg_bi.add(tf.keras.layers.Bidirectional(tf.keras.layers.LSTM(64),merge_mode='concat'))\r\n",
        "model_sg_bi.add(tf.keras.layers.Dropout(0.2))\r\n",
        "model_sg_bi.add(tf.keras.layers.Dense(64,activation='relu'))\r\n",
        "model_sg_bi.add(tf.keras.layers.Dropout(0.2))\r\n",
        "model_sg_bi.add(tf.keras.layers.Dense(4, activation='softmax'))\r\n",
        "model_sg_bi.compile(loss='categorical_crossentropy',optimizer='adam', \r\n",
        "                           metrics=['accuracy',f1,precision,recall])\r\n",
        "sg_train_gen=vec_gen(w2v_sg,vocab_sg,X_train,y_train,batch_size,Max_input_size,Embedding_size)\r\n",
        "sg_val_gen=vec_gen(w2v_sg,vocab_sg,X_val,y_val,batch_size,Max_input_size,Embedding_size)\r\n",
        "history_sg_bi = model_sg_bi.fit_generator(sg_train_gen,validation_data=sg_val_gen,validation_steps=int((len(X_val)/batch_size)+1),steps_per_epoch=int((len(X_train)/batch_size)+1),epochs=epochs)\r\n",
        "history = model_sg_bi.evaluate(x = vec_gen(w2v_sg,vocab_sg,X_test,y_test,batch_size,Max_input_size,Embedding_size),steps=int(len(y_test)/batch_size))\r\n",
        "print(history)\r\n",
        "\r\n",
        "result_table[1]=history[1]\r\n",
        "print(\"SG_BI\")"
      ],
      "execution_count": 25,
      "outputs": [
        {
          "output_type": "stream",
          "text": [
            "/usr/local/lib/python3.7/dist-packages/tensorflow/python/keras/engine/training.py:1844: UserWarning: `Model.fit_generator` is deprecated and will be removed in a future version. Please use `Model.fit`, which supports generators.\n",
            "  warnings.warn('`Model.fit_generator` is deprecated and '\n",
            "/usr/local/lib/python3.7/dist-packages/ipykernel_launcher.py:4: VisibleDeprecationWarning: Creating an ndarray from ragged nested sequences (which is a list-or-tuple of lists-or-tuples-or ndarrays with different lengths or shapes) is deprecated. If you meant to do this, you must specify 'dtype=object' when creating the ndarray\n",
            "  after removing the cwd from sys.path.\n"
          ],
          "name": "stderr"
        },
        {
          "output_type": "stream",
          "text": [
            "Epoch 1/30\n",
            "52/52 [==============================] - 62s 1s/step - loss: 1.2962 - accuracy: 0.3497 - f1: 0.0072 - precision: 0.1414 - recall: 0.0038 - val_loss: 1.1838 - val_accuracy: 0.4157 - val_f1: 0.0166 - val_precision: 0.5682 - val_recall: 0.0085\n",
            "Epoch 2/30\n",
            "52/52 [==============================] - 60s 1s/step - loss: 1.1840 - accuracy: 0.4155 - f1: 0.0621 - precision: 0.5401 - recall: 0.0340 - val_loss: 1.1646 - val_accuracy: 0.4446 - val_f1: 0.1274 - val_precision: 0.5550 - val_recall: 0.0720\n",
            "Epoch 3/30\n",
            "52/52 [==============================] - 59s 1s/step - loss: 1.1540 - accuracy: 0.4476 - f1: 0.1943 - precision: 0.5987 - recall: 0.1170 - val_loss: 1.1419 - val_accuracy: 0.4588 - val_f1: 0.2431 - val_precision: 0.5758 - val_recall: 0.1543\n",
            "Epoch 4/30\n",
            "52/52 [==============================] - ETA: 0s - loss: 1.1287 - accuracy: 0.4723 - f1: 0.2528 - precision: 0.6050 - recall: 0.1604Epoch 5/30\n",
            "52/52 [==============================] - 59s 1s/step - loss: 1.1131 - accuracy: 0.4852 - f1: 0.2942 - precision: 0.6218 - recall: 0.1932 - val_loss: 1.1215 - val_accuracy: 0.4754 - val_f1: 0.3332 - val_precision: 0.5858 - val_recall: 0.2331\n",
            "Epoch 6/30\n",
            "52/52 [==============================] - 59s 1s/step - loss: 1.1061 - accuracy: 0.4881 - f1: 0.3126 - precision: 0.6213 - recall: 0.2096 - val_loss: 1.1226 - val_accuracy: 0.4760 - val_f1: 0.3422 - val_precision: 0.5913 - val_recall: 0.2409\n",
            "Epoch 7/30\n",
            "52/52 [==============================] - 59s 1s/step - loss: 1.0967 - accuracy: 0.4967 - f1: 0.3296 - precision: 0.6237 - recall: 0.2246 - val_loss: 1.1187 - val_accuracy: 0.4786 - val_f1: 0.3385 - val_precision: 0.5974 - val_recall: 0.2363\n",
            "Epoch 8/30\n",
            "52/52 [==============================] - 59s 1s/step - loss: 1.0891 - accuracy: 0.4949 - f1: 0.3381 - precision: 0.6227 - recall: 0.2325 - val_loss: 1.1162 - val_accuracy: 0.4806 - val_f1: 0.3377 - val_precision: 0.5915 - val_recall: 0.2365\n",
            "Epoch 9/30\n",
            "52/52 [==============================] - 58s 1s/step - loss: 1.0791 - accuracy: 0.5037 - f1: 0.3510 - precision: 0.6304 - recall: 0.2436 - val_loss: 1.1168 - val_accuracy: 0.4857 - val_f1: 0.3366 - val_precision: 0.6002 - val_recall: 0.2342\n",
            "Epoch 10/30\n",
            "52/52 [==============================] - 58s 1s/step - loss: 1.0737 - accuracy: 0.5103 - f1: 0.3556 - precision: 0.6379 - recall: 0.2470 - val_loss: 1.1115 - val_accuracy: 0.4885 - val_f1: 0.3466 - val_precision: 0.6011 - val_recall: 0.2437\n",
            "Epoch 11/30\n",
            "52/52 [==============================] - 58s 1s/step - loss: 1.0718 - accuracy: 0.5126 - f1: 0.3601 - precision: 0.6341 - recall: 0.2520 - val_loss: 1.1068 - val_accuracy: 0.4906 - val_f1: 0.3566 - val_precision: 0.5971 - val_recall: 0.2546\n",
            "Epoch 12/30\n",
            "52/52 [==============================] - 58s 1s/step - loss: 1.0602 - accuracy: 0.5177 - f1: 0.3728 - precision: 0.6450 - recall: 0.2627 - val_loss: 1.1094 - val_accuracy: 0.4889 - val_f1: 0.3575 - val_precision: 0.5998 - val_recall: 0.2549\n",
            "Epoch 13/30\n",
            "52/52 [==============================] - 58s 1s/step - loss: 1.0517 - accuracy: 0.5244 - f1: 0.3821 - precision: 0.6461 - recall: 0.2719 - val_loss: 1.1082 - val_accuracy: 0.4860 - val_f1: 0.3564 - val_precision: 0.5997 - val_recall: 0.2538\n",
            "Epoch 14/30\n",
            "52/52 [==============================] - 57s 1s/step - loss: 1.0420 - accuracy: 0.5311 - f1: 0.3953 - precision: 0.6534 - recall: 0.2840 - val_loss: 1.1106 - val_accuracy: 0.4817 - val_f1: 0.3631 - val_precision: 0.5966 - val_recall: 0.2612\n",
            "Epoch 15/30\n",
            "52/52 [==============================] - 57s 1s/step - loss: 1.0270 - accuracy: 0.5348 - f1: 0.4136 - precision: 0.6587 - recall: 0.3020 - val_loss: 1.1116 - val_accuracy: 0.4866 - val_f1: 0.3578 - val_precision: 0.6031 - val_recall: 0.2546\n",
            "Epoch 16/30\n",
            "52/52 [==============================] - 58s 1s/step - loss: 1.0184 - accuracy: 0.5445 - f1: 0.4255 - precision: 0.6577 - recall: 0.3152 - val_loss: 1.1109 - val_accuracy: 0.4877 - val_f1: 0.3580 - val_precision: 0.6014 - val_recall: 0.2552\n",
            "Epoch 17/30\n",
            "52/52 [==============================] - 58s 1s/step - loss: 1.0075 - accuracy: 0.5521 - f1: 0.4443 - precision: 0.6680 - recall: 0.3334 - val_loss: 1.1059 - val_accuracy: 0.4934 - val_f1: 0.3703 - val_precision: 0.5968 - val_recall: 0.2688\n",
            "Epoch 18/30\n",
            "52/52 [==============================] - 58s 1s/step - loss: 0.9986 - accuracy: 0.5540 - f1: 0.4574 - precision: 0.6748 - recall: 0.3465 - val_loss: 1.1188 - val_accuracy: 0.4892 - val_f1: 0.3754 - val_precision: 0.5845 - val_recall: 0.2766\n",
            "Epoch 19/30\n",
            "52/52 [==============================] - 57s 1s/step - loss: 0.9886 - accuracy: 0.5621 - f1: 0.4622 - precision: 0.6699 - recall: 0.3535 - val_loss: 1.1207 - val_accuracy: 0.4883 - val_f1: 0.3720 - val_precision: 0.5761 - val_recall: 0.2748\n",
            "Epoch 20/30\n",
            "52/52 [==============================] - 58s 1s/step - loss: 0.9771 - accuracy: 0.5723 - f1: 0.4802 - precision: 0.6827 - recall: 0.3711 - val_loss: 1.1275 - val_accuracy: 0.4917 - val_f1: 0.4005 - val_precision: 0.5802 - val_recall: 0.3060\n",
            "Epoch 21/30\n",
            "52/52 [==============================] - 57s 1s/step - loss: 0.9704 - accuracy: 0.5776 - f1: 0.4938 - precision: 0.6820 - recall: 0.3874 - val_loss: 1.1413 - val_accuracy: 0.4915 - val_f1: 0.4102 - val_precision: 0.5709 - val_recall: 0.3202\n",
            "Epoch 22/30\n",
            "52/52 [==============================] - 57s 1s/step - loss: 0.9642 - accuracy: 0.5798 - f1: 0.4994 - precision: 0.6752 - recall: 0.3965 - val_loss: 1.1387 - val_accuracy: 0.5008 - val_f1: 0.4175 - val_precision: 0.5798 - val_recall: 0.3263\n",
            "Epoch 23/30\n",
            "52/52 [==============================] - 57s 1s/step - loss: 0.9524 - accuracy: 0.5867 - f1: 0.5130 - precision: 0.6877 - recall: 0.4094 - val_loss: 1.1520 - val_accuracy: 0.4982 - val_f1: 0.4315 - val_precision: 0.5736 - val_recall: 0.3458\n",
            "Epoch 24/30\n",
            "52/52 [==============================] - 56s 1s/step - loss: 0.9457 - accuracy: 0.5904 - f1: 0.5208 - precision: 0.6837 - recall: 0.4208 - val_loss: 1.1619 - val_accuracy: 0.4892 - val_f1: 0.4199 - val_precision: 0.5664 - val_recall: 0.3337\n",
            "Epoch 25/30\n",
            "52/52 [==============================] - 57s 1s/step - loss: 0.9374 - accuracy: 0.5930 - f1: 0.5288 - precision: 0.6859 - recall: 0.4307 - val_loss: 1.1701 - val_accuracy: 0.4934 - val_f1: 0.4337 - val_precision: 0.5647 - val_recall: 0.3522\n",
            "Epoch 26/30\n",
            "52/52 [==============================] - 58s 1s/step - loss: 0.9222 - accuracy: 0.6014 - f1: 0.5398 - precision: 0.6916 - recall: 0.4431 - val_loss: 1.1736 - val_accuracy: 0.4920 - val_f1: 0.4353 - val_precision: 0.5632 - val_recall: 0.3549\n",
            "Epoch 27/30\n",
            "52/52 [==============================] - 58s 1s/step - loss: 0.9089 - accuracy: 0.6104 - f1: 0.5531 - precision: 0.6987 - recall: 0.4581 - val_loss: 1.2029 - val_accuracy: 0.4935 - val_f1: 0.4508 - val_precision: 0.5565 - val_recall: 0.3789\n",
            "Epoch 28/30\n",
            "52/52 [==============================] - 58s 1s/step - loss: 0.8991 - accuracy: 0.6139 - f1: 0.5617 - precision: 0.7015 - recall: 0.4688 - val_loss: 1.1931 - val_accuracy: 0.4957 - val_f1: 0.4466 - val_precision: 0.5529 - val_recall: 0.3746\n",
            "Epoch 29/30\n",
            "52/52 [==============================] - 59s 1s/step - loss: 0.8822 - accuracy: 0.6248 - f1: 0.5734 - precision: 0.7080 - recall: 0.4822 - val_loss: 1.2223 - val_accuracy: 0.4972 - val_f1: 0.4582 - val_precision: 0.5476 - val_recall: 0.3940\n",
            "Epoch 30/30\n",
            "52/52 [==============================] - 58s 1s/step - loss: 0.8760 - accuracy: 0.6299 - f1: 0.5817 - precision: 0.7078 - recall: 0.4941 - val_loss: 1.2401 - val_accuracy: 0.4922 - val_f1: 0.4581 - val_precision: 0.5407 - val_recall: 0.3975\n",
            "16/16 [==============================] - 10s 684ms/step - loss: 1.1824 - accuracy: 0.5245 - f1: 0.4857 - precision: 0.5718 - recall: 0.4223\n",
            "[1.1824041604995728, 0.5245000123977661, 0.48568812012672424, 0.5717601180076599, 0.42225003242492676]\n",
            "SG_BI\n"
          ],
          "name": "stdout"
        }
      ]
    },
    {
      "cell_type": "code",
      "metadata": {
        "id": "nUbvmU9dslBs",
        "colab": {
          "base_uri": "https://localhost:8080/"
        },
        "outputId": "89ae1312-5dd7-456d-8c0a-3e4c9de4dbb3"
      },
      "source": [
        "model_cbow_bi = tf.keras.Sequential()\r\n",
        "model_cbow_bi.add(tf.keras.Input(shape=(Max_input_size,Embedding_size)))\r\n",
        "model_cbow_bi.add(tf.keras.layers.Bidirectional(tf.keras.layers.LSTM(64),merge_mode='concat'))\r\n",
        "model_cbow_bi.add(tf.keras.layers.Dropout(0.2))\r\n",
        "model_cbow_bi.add(tf.keras.layers.Dense(64,activation='relu'))\r\n",
        "model_cbow_bi.add(tf.keras.layers.Dropout(0.2))\r\n",
        "model_cbow_bi.add(tf.keras.layers.Dense(4, activation='softmax'))\r\n",
        "model_cbow_bi.compile(loss='categorical_crossentropy',optimizer='adam', \r\n",
        "                           metrics=['accuracy',f1,precision,recall])\r\n",
        "cbow_train_gen=vec_gen(w2v_cbow,vocab_cbow,X_train,y_train,batch_size,Max_input_size,Embedding_size)\r\n",
        "cbow_val_gen=vec_gen(w2v_cbow,vocab_cbow,X_val,y_val,batch_size,Max_input_size,Embedding_size)\r\n",
        "history_cbow_bi = model_cbow_bi.fit_generator(cbow_train_gen,validation_data=cbow_val_gen,validation_steps=int((len(X_val)/batch_size)+1),steps_per_epoch=int((len(X_train)/batch_size)+1),epochs=epochs)\r\n",
        "history = model_cbow_bi.evaluate(x = vec_gen(w2v_cbow,vocab_cbow,X_test,y_test,batch_size,Max_input_size,Embedding_size),steps=int(len(y_test)/batch_size))\r\n",
        "print(history)\r\n",
        "result_table[4]=history[1]\r\n",
        "print(\"CBOW_BI\")"
      ],
      "execution_count": 26,
      "outputs": [
        {
          "output_type": "stream",
          "text": [
            "/usr/local/lib/python3.7/dist-packages/tensorflow/python/keras/engine/training.py:1844: UserWarning: `Model.fit_generator` is deprecated and will be removed in a future version. Please use `Model.fit`, which supports generators.\n",
            "  warnings.warn('`Model.fit_generator` is deprecated and '\n",
            "/usr/local/lib/python3.7/dist-packages/ipykernel_launcher.py:4: VisibleDeprecationWarning: Creating an ndarray from ragged nested sequences (which is a list-or-tuple of lists-or-tuples-or ndarrays with different lengths or shapes) is deprecated. If you meant to do this, you must specify 'dtype=object' when creating the ndarray\n",
            "  after removing the cwd from sys.path.\n"
          ],
          "name": "stderr"
        },
        {
          "output_type": "stream",
          "text": [
            "Epoch 1/30\n",
            "52/52 [==============================] - 60s 1s/step - loss: 1.3051 - accuracy: 0.3428 - f1: 0.0080 - precision: 0.0811 - recall: 0.0043 - val_loss: 1.1818 - val_accuracy: 0.4214 - val_f1: 0.0167 - val_precision: 0.6136 - val_recall: 0.0085\n",
            "Epoch 2/30\n",
            "52/52 [==============================] - 56s 1s/step - loss: 1.1813 - accuracy: 0.4212 - f1: 0.0960 - precision: 0.5346 - recall: 0.0540 - val_loss: 1.1531 - val_accuracy: 0.4523 - val_f1: 0.1832 - val_precision: 0.5944 - val_recall: 0.1085\n",
            "Epoch 3/30\n",
            "52/52 [==============================] - 57s 1s/step - loss: 1.1483 - accuracy: 0.4555 - f1: 0.2035 - precision: 0.6029 - recall: 0.1240 - val_loss: 1.1394 - val_accuracy: 0.4626 - val_f1: 0.2838 - val_precision: 0.5680 - val_recall: 0.1895\n",
            "Epoch 4/30\n",
            "52/52 [==============================] - 58s 1s/step - loss: 1.1215 - accuracy: 0.4758 - f1: 0.2826 - precision: 0.6092 - recall: 0.1846 - val_loss: 1.1253 - val_accuracy: 0.4703 - val_f1: 0.3303 - val_precision: 0.5848 - val_recall: 0.2305\n",
            "Epoch 5/30\n",
            "52/52 [==============================] - 57s 1s/step - loss: 1.1094 - accuracy: 0.4862 - f1: 0.3077 - precision: 0.6178 - recall: 0.2057 - val_loss: 1.1217 - val_accuracy: 0.4760 - val_f1: 0.3475 - val_precision: 0.5867 - val_recall: 0.2471\n",
            "Epoch 6/30\n",
            "52/52 [==============================] - 56s 1s/step - loss: 1.1040 - accuracy: 0.4935 - f1: 0.3228 - precision: 0.6168 - recall: 0.2193 - val_loss: 1.1237 - val_accuracy: 0.4778 - val_f1: 0.3536 - val_precision: 0.5806 - val_recall: 0.2545\n",
            "Epoch 7/30\n",
            "52/52 [==============================] - 57s 1s/step - loss: 1.0953 - accuracy: 0.4980 - f1: 0.3364 - precision: 0.6156 - recall: 0.2320 - val_loss: 1.1187 - val_accuracy: 0.4825 - val_f1: 0.3495 - val_precision: 0.5885 - val_recall: 0.2488\n",
            "Epoch 8/30\n",
            "52/52 [==============================] - 58s 1s/step - loss: 1.0862 - accuracy: 0.5031 - f1: 0.3424 - precision: 0.6198 - recall: 0.2370 - val_loss: 1.1154 - val_accuracy: 0.4849 - val_f1: 0.3487 - val_precision: 0.5831 - val_recall: 0.2489\n",
            "Epoch 9/30\n",
            "52/52 [==============================] - 58s 1s/step - loss: 1.0765 - accuracy: 0.5092 - f1: 0.3598 - precision: 0.6295 - recall: 0.2522 - val_loss: 1.1183 - val_accuracy: 0.4889 - val_f1: 0.3469 - val_precision: 0.5827 - val_recall: 0.2472\n",
            "Epoch 10/30\n",
            "52/52 [==============================] - 58s 1s/step - loss: 1.0720 - accuracy: 0.5113 - f1: 0.3644 - precision: 0.6279 - recall: 0.2571 - val_loss: 1.1093 - val_accuracy: 0.4932 - val_f1: 0.3597 - val_precision: 0.5858 - val_recall: 0.2597\n",
            "Epoch 11/30\n",
            "52/52 [==============================] - 58s 1s/step - loss: 1.0647 - accuracy: 0.5175 - f1: 0.3759 - precision: 0.6358 - recall: 0.2672 - val_loss: 1.1051 - val_accuracy: 0.4949 - val_f1: 0.3635 - val_precision: 0.5790 - val_recall: 0.2651\n",
            "Epoch 12/30\n",
            "52/52 [==============================] - 56s 1s/step - loss: 1.0573 - accuracy: 0.5203 - f1: 0.3889 - precision: 0.6335 - recall: 0.2808 - val_loss: 1.1103 - val_accuracy: 0.4902 - val_f1: 0.3719 - val_precision: 0.5831 - val_recall: 0.2732\n",
            "Epoch 13/30\n",
            "52/52 [==============================] - 56s 1s/step - loss: 1.0486 - accuracy: 0.5282 - f1: 0.3986 - precision: 0.6403 - recall: 0.2897 - val_loss: 1.1127 - val_accuracy: 0.4852 - val_f1: 0.3728 - val_precision: 0.5773 - val_recall: 0.2755\n",
            "Epoch 14/30\n",
            "52/52 [==============================] - 57s 1s/step - loss: 1.0405 - accuracy: 0.5321 - f1: 0.4123 - precision: 0.6496 - recall: 0.3025 - val_loss: 1.1130 - val_accuracy: 0.4829 - val_f1: 0.3782 - val_precision: 0.5819 - val_recall: 0.2803\n",
            "Epoch 15/30\n",
            "52/52 [==============================] - 57s 1s/step - loss: 1.0294 - accuracy: 0.5405 - f1: 0.4250 - precision: 0.6544 - recall: 0.3152 - val_loss: 1.1156 - val_accuracy: 0.4886 - val_f1: 0.3817 - val_precision: 0.5836 - val_recall: 0.2838\n",
            "Epoch 16/30\n",
            "52/52 [==============================] - 57s 1s/step - loss: 1.0187 - accuracy: 0.5437 - f1: 0.4424 - precision: 0.6650 - recall: 0.3318 - val_loss: 1.1145 - val_accuracy: 0.4845 - val_f1: 0.3961 - val_precision: 0.5743 - val_recall: 0.3025\n",
            "Epoch 17/30\n",
            "52/52 [==============================] - 57s 1s/step - loss: 1.0092 - accuracy: 0.5518 - f1: 0.4556 - precision: 0.6611 - recall: 0.3478 - val_loss: 1.1129 - val_accuracy: 0.4912 - val_f1: 0.3975 - val_precision: 0.5783 - val_recall: 0.3032\n",
            "Epoch 18/30\n",
            "52/52 [==============================] - 57s 1s/step - loss: 0.9967 - accuracy: 0.5620 - f1: 0.4692 - precision: 0.6659 - recall: 0.3625 - val_loss: 1.1184 - val_accuracy: 0.4955 - val_f1: 0.4120 - val_precision: 0.5737 - val_recall: 0.3217\n",
            "Epoch 19/30\n",
            "52/52 [==============================] - 57s 1s/step - loss: 0.9838 - accuracy: 0.5709 - f1: 0.4841 - precision: 0.6744 - recall: 0.3779 - val_loss: 1.1243 - val_accuracy: 0.4928 - val_f1: 0.4175 - val_precision: 0.5704 - val_recall: 0.3295\n",
            "Epoch 20/30\n",
            "52/52 [==============================] - 57s 1s/step - loss: 0.9772 - accuracy: 0.5676 - f1: 0.4925 - precision: 0.6711 - recall: 0.3892 - val_loss: 1.1225 - val_accuracy: 0.5042 - val_f1: 0.4275 - val_precision: 0.5694 - val_recall: 0.3425\n",
            "Epoch 21/30\n",
            "52/52 [==============================] - 57s 1s/step - loss: 0.9716 - accuracy: 0.5761 - f1: 0.5024 - precision: 0.6758 - recall: 0.4000 - val_loss: 1.1390 - val_accuracy: 0.5006 - val_f1: 0.4342 - val_precision: 0.5636 - val_recall: 0.3534\n",
            "Epoch 22/30\n",
            "52/52 [==============================] - ETA: 0s - loss: 0.9635 - accuracy: 0.5836 - f1: 0.5133 - precision: 0.6810 - recall: 0.4122Epoch 23/30\n",
            "52/52 [==============================] - 57s 1s/step - loss: 0.9565 - accuracy: 0.5878 - f1: 0.5183 - precision: 0.6845 - recall: 0.4174 - val_loss: 1.1333 - val_accuracy: 0.4997 - val_f1: 0.4380 - val_precision: 0.5704 - val_recall: 0.3557\n",
            "Epoch 24/30\n",
            "52/52 [==============================] - 57s 1s/step - loss: 0.9511 - accuracy: 0.5890 - f1: 0.5266 - precision: 0.6812 - recall: 0.4293 - val_loss: 1.1448 - val_accuracy: 0.5009 - val_f1: 0.4456 - val_precision: 0.5669 - val_recall: 0.3672\n",
            "Epoch 25/30\n",
            "52/52 [==============================] - 59s 1s/step - loss: 0.9451 - accuracy: 0.5954 - f1: 0.5329 - precision: 0.6859 - recall: 0.4360 - val_loss: 1.1505 - val_accuracy: 0.4946 - val_f1: 0.4366 - val_precision: 0.5553 - val_recall: 0.3598\n",
            "Epoch 26/30\n",
            "52/52 [==============================] - 59s 1s/step - loss: 0.9298 - accuracy: 0.6054 - f1: 0.5415 - precision: 0.6954 - recall: 0.4436 - val_loss: 1.1661 - val_accuracy: 0.4972 - val_f1: 0.4347 - val_precision: 0.5579 - val_recall: 0.3562\n",
            "Epoch 27/30\n",
            "52/52 [==============================] - 60s 1s/step - loss: 0.9139 - accuracy: 0.6133 - f1: 0.5581 - precision: 0.7073 - recall: 0.4611 - val_loss: 1.1825 - val_accuracy: 0.4923 - val_f1: 0.4409 - val_precision: 0.5568 - val_recall: 0.3651\n",
            "Epoch 28/30\n",
            "52/52 [==============================] - 59s 1s/step - loss: 0.9047 - accuracy: 0.6218 - f1: 0.5644 - precision: 0.7064 - recall: 0.4703 - val_loss: 1.1872 - val_accuracy: 0.4915 - val_f1: 0.4377 - val_precision: 0.5492 - val_recall: 0.3642\n",
            "Epoch 29/30\n",
            "52/52 [==============================] - 60s 1s/step - loss: 0.8930 - accuracy: 0.6259 - f1: 0.5749 - precision: 0.7082 - recall: 0.4841 - val_loss: 1.2019 - val_accuracy: 0.4908 - val_f1: 0.4455 - val_precision: 0.5403 - val_recall: 0.3792\n",
            "Epoch 30/30\n",
            "52/52 [==============================] - 59s 1s/step - loss: 0.8869 - accuracy: 0.6287 - f1: 0.5812 - precision: 0.7125 - recall: 0.4910 - val_loss: 1.2006 - val_accuracy: 0.4928 - val_f1: 0.4434 - val_precision: 0.5409 - val_recall: 0.3758\n",
            "16/16 [==============================] - 11s 720ms/step - loss: 1.1428 - accuracy: 0.5139 - f1: 0.4692 - precision: 0.5744 - recall: 0.3966\n",
            "[1.1428333520889282, 0.5138750076293945, 0.46918419003486633, 0.5744274854660034, 0.39662501215934753]\n",
            "CBOW_BI\n"
          ],
          "name": "stdout"
        }
      ]
    },
    {
      "cell_type": "code",
      "metadata": {
        "id": "-3TcF2ZAs2pz",
        "colab": {
          "base_uri": "https://localhost:8080/"
        },
        "outputId": "6857eaf0-0eba-4141-cb54-9e898acca518"
      },
      "source": [
        "model_glove_bi = tf.keras.Sequential()\r\n",
        "model_glove_bi.add(tf.keras.Input(shape=(Max_input_size,Embedding_size)))\r\n",
        "model_glove_bi.add(tf.keras.layers.Bidirectional(tf.keras.layers.LSTM(64),merge_mode='concat'))\r\n",
        "model_glove_bi.add(tf.keras.layers.Dropout(0.2))\r\n",
        "model_glove_bi.add(tf.keras.layers.Dense(64,activation='relu'))\r\n",
        "model_glove_bi.add(tf.keras.layers.Dropout(0.2))\r\n",
        "model_glove_bi.add(tf.keras.layers.Dense(4, activation='softmax'))\r\n",
        "model_glove_bi.compile(loss='categorical_crossentropy',optimizer='adam', \r\n",
        "                           metrics=['accuracy',f1,precision,recall])\r\n",
        "glove_train_gen=glove_gen(vocab_glove,X_train,y_train,batch_size,Max_input_size,Embedding_size)\r\n",
        "glove_val_gen=glove_gen(vocab_glove,X_val,y_val,batch_size,Max_input_size,Embedding_size)\r\n",
        "history_glove_bi = model_glove_bi.fit_generator(glove_train_gen,validation_data=glove_val_gen,validation_steps=int((len(X_val)/batch_size)+1),steps_per_epoch=int((len(X_train)/batch_size)+1),epochs=epochs)\r\n",
        "history = model_glove_bi.evaluate(x = glove_gen(vocab_glove,X_test,y_test,batch_size,Max_input_size,Embedding_size),steps=int(len(y_test)/batch_size))\r\n",
        "print(history)\r\n",
        "\r\n",
        "result_table[7]=history[1]\r\n",
        "print(\"GLOVE_BI\")"
      ],
      "execution_count": 27,
      "outputs": [
        {
          "output_type": "stream",
          "text": [
            "/usr/local/lib/python3.7/dist-packages/tensorflow/python/keras/engine/training.py:1844: UserWarning: `Model.fit_generator` is deprecated and will be removed in a future version. Please use `Model.fit`, which supports generators.\n",
            "  warnings.warn('`Model.fit_generator` is deprecated and '\n",
            "/usr/local/lib/python3.7/dist-packages/ipykernel_launcher.py:12: VisibleDeprecationWarning: Creating an ndarray from ragged nested sequences (which is a list-or-tuple of lists-or-tuples-or ndarrays with different lengths or shapes) is deprecated. If you meant to do this, you must specify 'dtype=object' when creating the ndarray\n",
            "  if sys.path[0] == '':\n"
          ],
          "name": "stderr"
        },
        {
          "output_type": "stream",
          "text": [
            "Epoch 1/30\n",
            "52/52 [==============================] - 33s 566ms/step - loss: 1.2409 - accuracy: 0.3889 - f1: 0.0661 - precision: 0.3234 - recall: 0.0392 - val_loss: 1.0866 - val_accuracy: 0.5234 - val_f1: 0.4012 - val_precision: 0.5981 - val_recall: 0.3020\n",
            "Epoch 2/30\n",
            "52/52 [==============================] - 28s 547ms/step - loss: 1.0722 - accuracy: 0.5399 - f1: 0.4113 - precision: 0.6323 - recall: 0.3062 - val_loss: 1.0290 - val_accuracy: 0.5560 - val_f1: 0.4482 - val_precision: 0.6684 - val_recall: 0.3374\n",
            "Epoch 3/30\n",
            "52/52 [==============================] - 28s 542ms/step - loss: 1.0168 - accuracy: 0.5641 - f1: 0.4825 - precision: 0.6590 - recall: 0.3815 - val_loss: 1.0149 - val_accuracy: 0.5585 - val_f1: 0.4717 - val_precision: 0.6662 - val_recall: 0.3655\n",
            "Epoch 4/30\n",
            "52/52 [==============================] - 28s 547ms/step - loss: 0.9905 - accuracy: 0.5758 - f1: 0.5010 - precision: 0.6704 - recall: 0.4005 - val_loss: 1.0012 - val_accuracy: 0.5625 - val_f1: 0.4790 - val_precision: 0.6678 - val_recall: 0.3737\n",
            "Epoch 5/30\n",
            "52/52 [==============================] - 28s 542ms/step - loss: 0.9683 - accuracy: 0.5878 - f1: 0.5112 - precision: 0.6841 - recall: 0.4088 - val_loss: 0.9966 - val_accuracy: 0.5642 - val_f1: 0.4777 - val_precision: 0.6762 - val_recall: 0.3697\n",
            "Epoch 6/30\n",
            "52/52 [==============================] - 28s 544ms/step - loss: 0.9539 - accuracy: 0.5949 - f1: 0.5202 - precision: 0.6902 - recall: 0.4184 - val_loss: 0.9995 - val_accuracy: 0.5623 - val_f1: 0.4925 - val_precision: 0.6601 - val_recall: 0.3929\n",
            "Epoch 7/30\n",
            "52/52 [==============================] - 28s 546ms/step - loss: 0.9428 - accuracy: 0.5971 - f1: 0.5375 - precision: 0.6894 - recall: 0.4409 - val_loss: 0.9908 - val_accuracy: 0.5609 - val_f1: 0.4998 - val_precision: 0.6675 - val_recall: 0.3997\n",
            "Epoch 8/30\n",
            "52/52 [==============================] - 28s 545ms/step - loss: 0.9287 - accuracy: 0.6084 - f1: 0.5443 - precision: 0.6957 - recall: 0.4477 - val_loss: 0.9842 - val_accuracy: 0.5688 - val_f1: 0.5099 - val_precision: 0.6698 - val_recall: 0.4118\n",
            "Epoch 9/30\n",
            "52/52 [==============================] - 28s 549ms/step - loss: 0.9118 - accuracy: 0.6114 - f1: 0.5552 - precision: 0.6996 - recall: 0.4609 - val_loss: 0.9969 - val_accuracy: 0.5597 - val_f1: 0.5129 - val_precision: 0.6412 - val_recall: 0.4275\n",
            "Epoch 10/30\n",
            "52/52 [==============================] - 28s 549ms/step - loss: 0.8998 - accuracy: 0.6176 - f1: 0.5677 - precision: 0.7035 - recall: 0.4762 - val_loss: 0.9968 - val_accuracy: 0.5662 - val_f1: 0.5126 - val_precision: 0.6467 - val_recall: 0.4248\n",
            "Epoch 11/30\n",
            "52/52 [==============================] - 29s 552ms/step - loss: 0.8924 - accuracy: 0.6252 - f1: 0.5757 - precision: 0.7042 - recall: 0.4873 - val_loss: 0.9941 - val_accuracy: 0.5672 - val_f1: 0.5164 - val_precision: 0.6471 - val_recall: 0.4298\n",
            "Epoch 12/30\n",
            "52/52 [==============================] - 28s 543ms/step - loss: 0.8792 - accuracy: 0.6307 - f1: 0.5835 - precision: 0.7084 - recall: 0.4966 - val_loss: 1.0089 - val_accuracy: 0.5580 - val_f1: 0.5172 - val_precision: 0.6388 - val_recall: 0.4348\n",
            "Epoch 13/30\n",
            "52/52 [==============================] - 28s 543ms/step - loss: 0.8639 - accuracy: 0.6386 - f1: 0.5978 - precision: 0.7176 - recall: 0.5128 - val_loss: 1.0199 - val_accuracy: 0.5549 - val_f1: 0.5070 - val_precision: 0.6275 - val_recall: 0.4257\n",
            "Epoch 14/30\n",
            "52/52 [==============================] - 28s 543ms/step - loss: 0.8550 - accuracy: 0.6413 - f1: 0.6061 - precision: 0.7209 - recall: 0.5236 - val_loss: 1.0114 - val_accuracy: 0.5625 - val_f1: 0.5196 - val_precision: 0.6309 - val_recall: 0.4420\n",
            "Epoch 15/30\n",
            "52/52 [==============================] - 28s 544ms/step - loss: 0.8324 - accuracy: 0.6554 - f1: 0.6192 - precision: 0.7302 - recall: 0.5378 - val_loss: 1.0386 - val_accuracy: 0.5560 - val_f1: 0.5192 - val_precision: 0.6194 - val_recall: 0.4472\n",
            "Epoch 16/30\n",
            "52/52 [==============================] - 28s 545ms/step - loss: 0.8163 - accuracy: 0.6620 - f1: 0.6308 - precision: 0.7335 - recall: 0.5539 - val_loss: 1.0422 - val_accuracy: 0.5585 - val_f1: 0.5213 - val_precision: 0.6167 - val_recall: 0.4517\n",
            "Epoch 17/30\n",
            "52/52 [==============================] - 28s 546ms/step - loss: 0.7973 - accuracy: 0.6690 - f1: 0.6382 - precision: 0.7373 - recall: 0.5630 - val_loss: 1.0690 - val_accuracy: 0.5466 - val_f1: 0.5216 - val_precision: 0.6034 - val_recall: 0.4595\n",
            "Epoch 18/30\n",
            "52/52 [==============================] - 28s 541ms/step - loss: 0.7896 - accuracy: 0.6755 - f1: 0.6458 - precision: 0.7442 - recall: 0.5709 - val_loss: 1.0943 - val_accuracy: 0.5535 - val_f1: 0.5294 - val_precision: 0.6010 - val_recall: 0.4732\n",
            "Epoch 19/30\n",
            "52/52 [==============================] - 28s 540ms/step - loss: 0.7672 - accuracy: 0.6848 - f1: 0.6612 - precision: 0.7467 - recall: 0.5936 - val_loss: 1.1461 - val_accuracy: 0.5471 - val_f1: 0.5302 - val_precision: 0.5853 - val_recall: 0.4848\n",
            "Epoch 20/30\n",
            "52/52 [==============================] - 28s 548ms/step - loss: 0.7560 - accuracy: 0.6886 - f1: 0.6679 - precision: 0.7512 - recall: 0.6015 - val_loss: 1.1516 - val_accuracy: 0.5566 - val_f1: 0.5280 - val_precision: 0.5833 - val_recall: 0.4823\n",
            "Epoch 21/30\n",
            "52/52 [==============================] - 28s 543ms/step - loss: 0.7406 - accuracy: 0.6984 - f1: 0.6770 - precision: 0.7584 - recall: 0.6116 - val_loss: 1.2036 - val_accuracy: 0.5500 - val_f1: 0.5317 - val_precision: 0.5808 - val_recall: 0.4903\n",
            "Epoch 22/30\n",
            "52/52 [==============================] - 28s 549ms/step - loss: 0.7286 - accuracy: 0.6998 - f1: 0.6815 - precision: 0.7595 - recall: 0.6184 - val_loss: 1.1893 - val_accuracy: 0.5385 - val_f1: 0.5247 - val_precision: 0.5773 - val_recall: 0.4809\n",
            "Epoch 23/30\n",
            "52/52 [==============================] - 28s 544ms/step - loss: 0.7143 - accuracy: 0.7077 - f1: 0.6872 - precision: 0.7655 - recall: 0.6236 - val_loss: 1.2250 - val_accuracy: 0.5323 - val_f1: 0.5149 - val_precision: 0.5613 - val_recall: 0.4757\n",
            "Epoch 24/30\n",
            "52/52 [==============================] - 28s 542ms/step - loss: 0.7021 - accuracy: 0.7130 - f1: 0.6972 - precision: 0.7711 - recall: 0.6364 - val_loss: 1.2440 - val_accuracy: 0.5274 - val_f1: 0.5127 - val_precision: 0.5599 - val_recall: 0.4729\n",
            "Epoch 25/30\n",
            "52/52 [==============================] - 28s 542ms/step - loss: 0.6853 - accuracy: 0.7216 - f1: 0.7060 - precision: 0.7743 - recall: 0.6491 - val_loss: 1.3124 - val_accuracy: 0.5260 - val_f1: 0.5154 - val_precision: 0.5522 - val_recall: 0.4832\n",
            "Epoch 26/30\n",
            "52/52 [==============================] - 28s 541ms/step - loss: 0.6516 - accuracy: 0.7385 - f1: 0.7269 - precision: 0.7893 - recall: 0.6740 - val_loss: 1.2946 - val_accuracy: 0.5314 - val_f1: 0.5132 - val_precision: 0.5542 - val_recall: 0.4778\n",
            "Epoch 27/30\n",
            "52/52 [==============================] - 28s 543ms/step - loss: 0.6350 - accuracy: 0.7410 - f1: 0.7314 - precision: 0.7930 - recall: 0.6789 - val_loss: 1.3332 - val_accuracy: 0.5078 - val_f1: 0.4969 - val_precision: 0.5340 - val_recall: 0.4646\n",
            "Epoch 28/30\n",
            "52/52 [==============================] - 28s 546ms/step - loss: 0.6734 - accuracy: 0.7215 - f1: 0.7111 - precision: 0.7796 - recall: 0.6538 - val_loss: 1.2613 - val_accuracy: 0.5165 - val_f1: 0.4974 - val_precision: 0.5475 - val_recall: 0.4557\n",
            "Epoch 29/30\n",
            "52/52 [==============================] - 28s 546ms/step - loss: 0.6456 - accuracy: 0.7413 - f1: 0.7303 - precision: 0.7972 - recall: 0.6741 - val_loss: 1.2930 - val_accuracy: 0.5223 - val_f1: 0.5041 - val_precision: 0.5521 - val_recall: 0.4638\n",
            "Epoch 30/30\n",
            "52/52 [==============================] - 28s 545ms/step - loss: 0.6230 - accuracy: 0.7477 - f1: 0.7382 - precision: 0.7995 - recall: 0.6860 - val_loss: 1.3776 - val_accuracy: 0.5126 - val_f1: 0.5001 - val_precision: 0.5388 - val_recall: 0.4668\n",
            "16/16 [==============================] - 4s 234ms/step - loss: 1.3475 - accuracy: 0.5297 - f1: 0.5155 - precision: 0.5546 - recall: 0.4815\n",
            "[1.3474907875061035, 0.5297499895095825, 0.5154651999473572, 0.5546287894248962, 0.4815000295639038]\n",
            "GLOVE_BI\n"
          ],
          "name": "stdout"
        }
      ]
    },
    {
      "cell_type": "code",
      "metadata": {
        "id": "jScBXcUEsk8s",
        "colab": {
          "base_uri": "https://localhost:8080/"
        },
        "outputId": "f6a3cd75-8b06-4d71-a006-2e156d65def5"
      },
      "source": [
        "print(\"\\tBiLstm\")\r\n",
        "print(\"sg\",result_table[:3])\r\n",
        "print(\"cbow\",result_table[3:6])\r\n",
        "print(\"glove\",result_table[6:9])\r\n",
        "print(history_sg_bi.history)\r\n",
        "plt.title(\"Skip-Gram + Bi-LSTM accuracy, loss vs epochs Graph\")\r\n",
        "plt.plot(history_sg_bi.history['loss'],c='b',label='loss')\r\n",
        "plt.plot(history_sg_bi.history['accuracy'],c='r',label='accuracy')\r\n",
        "plt.xlabel('epochs')\r\n",
        "plt.legend()\r\n",
        "# plt.yticks()\r\n",
        "plt.show()\r\n",
        "plt.title(\"GloVe + Bi-LSTM accuracy, loss vs epochs Graph\")\r\n",
        "plt.plot(history_glove_bi.history['loss'],c='b',label='loss')\r\n",
        "plt.plot(history_glove_bi.history['accuracy'],c='r',label='accuracy')\r\n",
        "plt.xlabel('epochs')\r\n",
        "plt.legend()\r\n",
        "# plt.yticks()\r\n",
        "plt.show()"
      ],
      "execution_count": 28,
      "outputs": [
        {
          "output_type": "stream",
          "text": [
            "\tBiLstm\n",
            "sg [0, 0.5245000123977661, 0]\n",
            "cbow [0, 0.5138750076293945, 0]\n",
            "glove [0, 0.5297499895095825, 0]\n"
          ],
          "name": "stdout"
        }
      ]
    },
    {
      "cell_type": "code",
      "metadata": {
        "colab": {
          "base_uri": "https://localhost:8080/",
          "height": 678
        },
        "id": "sDGal4ZBlTVn",
        "outputId": "f3d615cc-5d62-4f18-c158-aca1b6ca5b7d"
      },
      "source": [
        "print(\"\\tLstm\\t\\t\\tBiLstm\\t\\t\\tRnn\")\r\n",
        "print(\"sg\",result_table[:3])\r\n",
        "print(\"cbow\",result_table[3:6])\r\n",
        "print(\"glove\",result_table[6:9])\r\n",
        "print(history_sg_bi.history)\r\n",
        "plt.title(\"Skip-Gram + Bi-LSTM accuracy, val accuracy vs epochs Graph\")\r\n",
        "plt.plot(history_sg_bi.history['val_accuracy'],c='b',label='loss')\r\n",
        "plt.plot(history_sg_bi.history['accuracy'],c='r',label='accuracy')\r\n",
        "plt.xlabel('epochs')\r\n",
        "plt.legend()\r\n",
        "# plt.yticks()\r\n",
        "plt.show()\r\n",
        "plt.title(\"GloVe + Bi-LSTM accuracy, val accuracy vs epochs Graph\")\r\n",
        "plt.plot(history_glove_bi.history['val_accuracy'],c='b',label='loss')\r\n",
        "plt.plot(history_glove_bi.history['accuracy'],c='r',label='accuracy')\r\n",
        "plt.xlabel('epochs')\r\n",
        "plt.legend()\r\n",
        "# plt.yticks()\r\n",
        "plt.show()"
      ],
      "execution_count": 29,
      "outputs": [
        {
          "output_type": "stream",
          "text": [
            "\tLstm\t\t\tBiLstm\t\t\tRnn\n",
            "sg [0, 0.5245000123977661, 0]\n",
            "cbow [0, 0.5138750076293945, 0]\n",
            "glove [0, 0.5297499895095825, 0]\n",
            "{'loss': [1.2384859323501587, 1.1742275953292847, 1.1444586515426636, 1.1191078424453735, 1.103590488433838, 1.0954116582870483, 1.0886796712875366, 1.0817768573760986, 1.0746244192123413, 1.0697758197784424, 1.0631811618804932, 1.053684115409851, 1.0453358888626099, 1.0382274389266968, 1.0287967920303345, 1.0220683813095093, 1.0128568410873413, 1.0036873817443848, 0.9941387176513672, 0.98173588514328, 0.9717130661010742, 0.9681558012962341, 0.9560945630073547, 0.9496479034423828, 0.936166524887085, 0.9291053414344788, 0.9147602319717407, 0.9017990827560425, 0.8864990472793579, 0.8759013414382935], 'accuracy': [0.3761923015117645, 0.42649999260902405, 0.45346152782440186, 0.4756923019886017, 0.48865383863449097, 0.49300000071525574, 0.4990769326686859, 0.5018846392631531, 0.5087692141532898, 0.5139230489730835, 0.5186538696289062, 0.5246538519859314, 0.5290769338607788, 0.535153865814209, 0.535653829574585, 0.5440769195556641, 0.5488846302032471, 0.5529230833053589, 0.5587692260742188, 0.5684999823570251, 0.5760384798049927, 0.57734614610672, 0.5840769410133362, 0.5901923179626465, 0.5946153998374939, 0.5989999771118164, 0.604769229888916, 0.6124615669250488, 0.6217307448387146, 0.6302307844161987], 'f1': [0.01141916774213314, 0.09416839480400085, 0.21950437128543854, 0.27500268816947937, 0.30388930439949036, 0.32361412048339844, 0.33597999811172485, 0.34297293424606323, 0.35680869221687317, 0.3624247908592224, 0.37175452709198, 0.3839271664619446, 0.39512234926223755, 0.40600475668907166, 0.42053258419036865, 0.43022722005844116, 0.4455817639827728, 0.45531463623046875, 0.4623541831970215, 0.4775727391242981, 0.4934893846511841, 0.49750441312789917, 0.5103201866149902, 0.5160619020462036, 0.5275102853775024, 0.5318054556846619, 0.5454707741737366, 0.5532923340797424, 0.5681151747703552, 0.5784790515899658], 'precision': [0.28300178050994873, 0.5635764598846436, 0.6016325354576111, 0.612948477268219, 0.62213134765625, 0.627443253993988, 0.628429114818573, 0.6243242025375366, 0.6325159668922424, 0.6362775564193726, 0.638019859790802, 0.647680938243866, 0.6484295725822449, 0.6534570455551147, 0.6576980352401733, 0.6566851735115051, 0.6608876585960388, 0.6657628417015076, 0.6652424931526184, 0.6723350286483765, 0.6787515878677368, 0.6754000186920166, 0.688152551651001, 0.6876733303070068, 0.692336916923523, 0.6919184923171997, 0.6975352168083191, 0.7014097571372986, 0.7098619937896729, 0.71170574426651], 'recall': [0.005961539223790169, 0.05303845554590225, 0.13542304933071136, 0.17826923727989197, 0.20176921784877777, 0.2188461571931839, 0.22984616458415985, 0.23684613406658173, 0.24892309308052063, 0.25388461351394653, 0.2628461420536041, 0.2732692062854767, 0.2847307622432709, 0.29496151208877563, 0.3096153438091278, 0.3204999268054962, 0.33665385842323303, 0.34646156430244446, 0.35480767488479614, 0.3707691729068756, 0.3880384564399719, 0.394076943397522, 0.4060770273208618, 0.41369226574897766, 0.4266539216041565, 0.4325384497642517, 0.4483461380004883, 0.4575769603252411, 0.4741538465023041, 0.4879615604877472], 'val_loss': [1.1838277578353882, 1.1646453142166138, 1.141933560371399, 1.1251181364059448, 1.1215441226959229, 1.1226139068603516, 1.1187416315078735, 1.1162307262420654, 1.1168447732925415, 1.1114689111709595, 1.106789469718933, 1.1094154119491577, 1.1081740856170654, 1.1106044054031372, 1.1116026639938354, 1.1108927726745605, 1.1059128046035767, 1.1187818050384521, 1.1207252740859985, 1.1274725198745728, 1.1412773132324219, 1.1387052536010742, 1.1519595384597778, 1.161886215209961, 1.1701186895370483, 1.1736303567886353, 1.2029330730438232, 1.1931297779083252, 1.2222505807876587, 1.2400745153427124], 'val_accuracy': [0.4156922996044159, 0.4446153938770294, 0.4587692320346832, 0.47261539101600647, 0.4753846228122711, 0.47600001096725464, 0.4786153733730316, 0.48061537742614746, 0.4856923222541809, 0.48846152424812317, 0.4906153976917267, 0.4889230728149414, 0.4860000014305115, 0.4816923141479492, 0.486615389585495, 0.48769229650497437, 0.49338462948799133, 0.48923078179359436, 0.4883076846599579, 0.49169230461120605, 0.49153846502304077, 0.5007692575454712, 0.49815383553504944, 0.48923078179359436, 0.49338462948799133, 0.492000013589859, 0.4935384690761566, 0.49569231271743774, 0.49723076820373535, 0.4921538531780243], 'val_f1': [0.01664559356868267, 0.1273595690727234, 0.24313999712467194, 0.3041514754295349, 0.3331732451915741, 0.34217754006385803, 0.33848220109939575, 0.3376539647579193, 0.3365591764450073, 0.34659644961357117, 0.3566303551197052, 0.35753530263900757, 0.356350839138031, 0.363068163394928, 0.35779809951782227, 0.3580486476421356, 0.37032219767570496, 0.3753955662250519, 0.37197384238243103, 0.4005081355571747, 0.4101559817790985, 0.41748395562171936, 0.431474894285202, 0.4199214577674866, 0.43373945355415344, 0.4353286325931549, 0.4507642090320587, 0.4465533494949341, 0.45823463797569275, 0.45812490582466125], 'val_precision': [0.5682373642921448, 0.5549728274345398, 0.5757876634597778, 0.5900444388389587, 0.5857831239700317, 0.5913354158401489, 0.5974195003509521, 0.5915275812149048, 0.6001672744750977, 0.6010550260543823, 0.5971286296844482, 0.5998292565345764, 0.599712610244751, 0.5965724587440491, 0.6030533909797668, 0.6014261245727539, 0.5967520475387573, 0.584525465965271, 0.5761010646820068, 0.5801637172698975, 0.5709000825881958, 0.5797651410102844, 0.573642373085022, 0.5664263963699341, 0.5647137761116028, 0.5631856918334961, 0.5564719438552856, 0.5528908371925354, 0.547633707523346, 0.5406596660614014], 'val_recall': [0.008461538702249527, 0.07199999690055847, 0.15430769324302673, 0.2050769180059433, 0.23307690024375916, 0.24092309176921844, 0.23630769550800323, 0.2364615499973297, 0.23415382206439972, 0.2436923235654831, 0.2546153664588928, 0.2549230754375458, 0.253846138715744, 0.2612307667732239, 0.2546153664588928, 0.25523078441619873, 0.268769234418869, 0.2766153812408447, 0.27476921677589417, 0.3060000240802765, 0.3201538324356079, 0.3263077139854431, 0.34584617614746094, 0.3336922526359558, 0.35215383768081665, 0.3549230396747589, 0.37892308831214905, 0.3746154010295868, 0.39399993419647217, 0.3975384831428528]}\n"
          ],
          "name": "stdout"
        },
        {
          "output_type": "display_data",
          "data": {
            "image/png": "[encoded data removed]",
            "text/plain": [
              "<Figure size 432x288 with 1 Axes>"
            ]
          },
          "metadata": {
            "tags": [],
            "needs_background": "light"
          }
        },
        {
          "output_type": "display_data",
          "data": {
            "image/png": "[encoded data removed]",
            "text/plain": [
              "<Figure size 432x288 with 1 Axes>"
            ]
          },
          "metadata": {
            "tags": [],
            "needs_background": "light"
          }
        }
      ]
    },
    {
      "cell_type": "code",
      "metadata": {
        "id": "4b22efZWsKqL"
      },
      "source": [
        ""
      ],
      "execution_count": null,
      "outputs": []
    }
  ]
}