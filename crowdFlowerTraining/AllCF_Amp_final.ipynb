{
  "nbformat": 4,
  "nbformat_minor": 0,
  "metadata": {
    "colab": {
      "name": "AllCF_Amp_final.ipynb",
      "provenance": [],
      "collapsed_sections": [],
      "include_colab_link": true
    },
    "kernelspec": {
      "name": "python3",
      "display_name": "Python 3"
    }
  },
  "cells": [
    {
      "cell_type": "markdown",
      "metadata": {
        "id": "view-in-github",
        "colab_type": "text"
      },
      "source": [
        "<a href=\"https://colab.research.google.com/github/harrymkwn/InfluenceAnalysis/blob/master/AllCF_Amp_final.ipynb\" target=\"_parent\"><img src=\"https://colab.research.google.com/assets/colab-badge.svg\" alt=\"Open In Colab\"/></a>"
      ]
    },
    {
      "cell_type": "code",
      "metadata": {
        "colab": {
          "base_uri": "https://localhost:8080/"
        },
        "id": "JM_R73b__UDA",
        "outputId": "771916b2-f8aa-45dd-f3ec-e3c7dc4031c2"
      },
      "source": [
        "from google.colab import  drive\r\n",
        "drive.mount('/content/drive')"
      ],
      "execution_count": 3,
      "outputs": [
        {
          "output_type": "stream",
          "text": [
            "Drive already mounted at /content/drive; to attempt to forcibly remount, call drive.mount(\"/content/drive\", force_remount=True).\n"
          ],
          "name": "stdout"
        }
      ]
    },
    {
      "cell_type": "code",
      "metadata": {
        "id": "nUUbZlzjtM4Z",
        "colab": {
          "base_uri": "https://localhost:8080/"
        },
        "outputId": "17764e29-1404-4e7b-86a4-a87d0534d8ac"
      },
      "source": [
        "import pandas as pd\r\n",
        "import numpy as np\r\n",
        "import tensorflow as tf\r\n",
        "from gensim.models import Word2Vec\r\n",
        "import matplotlib.pyplot as plt\r\n",
        "from sklearn.linear_model import LogisticRegression\r\n",
        "from sklearn.multiclass import OneVsRestClassifier\r\n",
        "from gensim.models import KeyedVectors\r\n",
        "from sklearn.model_selection import train_test_split\r\n",
        "import nltk\r\n",
        "from nltk.corpus import stopwords\r\n",
        "nltk.download('all')\r\n",
        "from nltk.corpus import sentiwordnet as swn\r\n",
        "device_name = tf.test.gpu_device_name()\r\n",
        "print(device_name)\r\n",
        "df = pd.read_csv('/content/drive/MyDrive/InfluenceAnalysis/InfluenceAnalysis/crowdFlower/cF_clean_our_combined.csv')\r\n",
        "df = df.sample(frac=1,random_state=32)"
      ],
      "execution_count": 4,
      "outputs": [
        {
          "output_type": "stream",
          "text": [
            "[nltk_data] Downloading collection 'all'\n",
            "[nltk_data]    | \n",
            "[nltk_data]    | Downloading package abc to /root/nltk_data...\n",
            "[nltk_data]    |   Package abc is already up-to-date!\n",
            "[nltk_data]    | Downloading package alpino to /root/nltk_data...\n",
            "[nltk_data]    |   Package alpino is already up-to-date!\n",
            "[nltk_data]    | Downloading package biocreative_ppi to\n",
            "[nltk_data]    |     /root/nltk_data...\n",
            "[nltk_data]    |   Package biocreative_ppi is already up-to-date!\n",
            "[nltk_data]    | Downloading package brown to /root/nltk_data...\n",
            "[nltk_data]    |   Package brown is already up-to-date!\n",
            "[nltk_data]    | Downloading package brown_tei to /root/nltk_data...\n",
            "[nltk_data]    |   Package brown_tei is already up-to-date!\n",
            "[nltk_data]    | Downloading package cess_cat to /root/nltk_data...\n",
            "[nltk_data]    |   Package cess_cat is already up-to-date!\n",
            "[nltk_data]    | Downloading package cess_esp to /root/nltk_data...\n",
            "[nltk_data]    |   Package cess_esp is already up-to-date!\n",
            "[nltk_data]    | Downloading package chat80 to /root/nltk_data...\n",
            "[nltk_data]    |   Package chat80 is already up-to-date!\n",
            "[nltk_data]    | Downloading package city_database to\n",
            "[nltk_data]    |     /root/nltk_data...\n",
            "[nltk_data]    |   Package city_database is already up-to-date!\n",
            "[nltk_data]    | Downloading package cmudict to /root/nltk_data...\n",
            "[nltk_data]    |   Package cmudict is already up-to-date!\n",
            "[nltk_data]    | Downloading package comparative_sentences to\n",
            "[nltk_data]    |     /root/nltk_data...\n",
            "[nltk_data]    |   Package comparative_sentences is already up-to-\n",
            "[nltk_data]    |       date!\n",
            "[nltk_data]    | Downloading package comtrans to /root/nltk_data...\n",
            "[nltk_data]    |   Package comtrans is already up-to-date!\n",
            "[nltk_data]    | Downloading package conll2000 to /root/nltk_data...\n",
            "[nltk_data]    |   Package conll2000 is already up-to-date!\n",
            "[nltk_data]    | Downloading package conll2002 to /root/nltk_data...\n",
            "[nltk_data]    |   Package conll2002 is already up-to-date!\n",
            "[nltk_data]    | Downloading package conll2007 to /root/nltk_data...\n",
            "[nltk_data]    |   Package conll2007 is already up-to-date!\n",
            "[nltk_data]    | Downloading package crubadan to /root/nltk_data...\n",
            "[nltk_data]    |   Package crubadan is already up-to-date!\n",
            "[nltk_data]    | Downloading package dependency_treebank to\n",
            "[nltk_data]    |     /root/nltk_data...\n",
            "[nltk_data]    |   Package dependency_treebank is already up-to-date!\n",
            "[nltk_data]    | Downloading package dolch to /root/nltk_data...\n",
            "[nltk_data]    |   Package dolch is already up-to-date!\n",
            "[nltk_data]    | Downloading package europarl_raw to\n",
            "[nltk_data]    |     /root/nltk_data...\n",
            "[nltk_data]    |   Package europarl_raw is already up-to-date!\n",
            "[nltk_data]    | Downloading package floresta to /root/nltk_data...\n",
            "[nltk_data]    |   Package floresta is already up-to-date!\n",
            "[nltk_data]    | Downloading package framenet_v15 to\n",
            "[nltk_data]    |     /root/nltk_data...\n",
            "[nltk_data]    |   Package framenet_v15 is already up-to-date!\n",
            "[nltk_data]    | Downloading package framenet_v17 to\n",
            "[nltk_data]    |     /root/nltk_data...\n",
            "[nltk_data]    |   Package framenet_v17 is already up-to-date!\n",
            "[nltk_data]    | Downloading package gazetteers to /root/nltk_data...\n",
            "[nltk_data]    |   Package gazetteers is already up-to-date!\n",
            "[nltk_data]    | Downloading package genesis to /root/nltk_data...\n",
            "[nltk_data]    |   Package genesis is already up-to-date!\n",
            "[nltk_data]    | Downloading package gutenberg to /root/nltk_data...\n",
            "[nltk_data]    |   Package gutenberg is already up-to-date!\n",
            "[nltk_data]    | Downloading package ieer to /root/nltk_data...\n",
            "[nltk_data]    |   Package ieer is already up-to-date!\n",
            "[nltk_data]    | Downloading package inaugural to /root/nltk_data...\n",
            "[nltk_data]    |   Package inaugural is already up-to-date!\n",
            "[nltk_data]    | Downloading package indian to /root/nltk_data...\n",
            "[nltk_data]    |   Package indian is already up-to-date!\n",
            "[nltk_data]    | Downloading package jeita to /root/nltk_data...\n",
            "[nltk_data]    |   Package jeita is already up-to-date!\n",
            "[nltk_data]    | Downloading package kimmo to /root/nltk_data...\n",
            "[nltk_data]    |   Package kimmo is already up-to-date!\n",
            "[nltk_data]    | Downloading package knbc to /root/nltk_data...\n",
            "[nltk_data]    |   Package knbc is already up-to-date!\n",
            "[nltk_data]    | Downloading package lin_thesaurus to\n",
            "[nltk_data]    |     /root/nltk_data...\n",
            "[nltk_data]    |   Package lin_thesaurus is already up-to-date!\n",
            "[nltk_data]    | Downloading package mac_morpho to /root/nltk_data...\n",
            "[nltk_data]    |   Package mac_morpho is already up-to-date!\n",
            "[nltk_data]    | Downloading package machado to /root/nltk_data...\n",
            "[nltk_data]    |   Package machado is already up-to-date!\n",
            "[nltk_data]    | Downloading package masc_tagged to /root/nltk_data...\n",
            "[nltk_data]    |   Package masc_tagged is already up-to-date!\n",
            "[nltk_data]    | Downloading package moses_sample to\n",
            "[nltk_data]    |     /root/nltk_data...\n",
            "[nltk_data]    |   Package moses_sample is already up-to-date!\n",
            "[nltk_data]    | Downloading package movie_reviews to\n",
            "[nltk_data]    |     /root/nltk_data...\n",
            "[nltk_data]    |   Package movie_reviews is already up-to-date!\n",
            "[nltk_data]    | Downloading package names to /root/nltk_data...\n",
            "[nltk_data]    |   Package names is already up-to-date!\n",
            "[nltk_data]    | Downloading package nombank.1.0 to /root/nltk_data...\n",
            "[nltk_data]    |   Package nombank.1.0 is already up-to-date!\n",
            "[nltk_data]    | Downloading package nps_chat to /root/nltk_data...\n",
            "[nltk_data]    |   Package nps_chat is already up-to-date!\n",
            "[nltk_data]    | Downloading package omw to /root/nltk_data...\n",
            "[nltk_data]    |   Package omw is already up-to-date!\n",
            "[nltk_data]    | Downloading package opinion_lexicon to\n",
            "[nltk_data]    |     /root/nltk_data...\n",
            "[nltk_data]    |   Package opinion_lexicon is already up-to-date!\n",
            "[nltk_data]    | Downloading package paradigms to /root/nltk_data...\n",
            "[nltk_data]    |   Package paradigms is already up-to-date!\n",
            "[nltk_data]    | Downloading package pil to /root/nltk_data...\n",
            "[nltk_data]    |   Package pil is already up-to-date!\n",
            "[nltk_data]    | Downloading package pl196x to /root/nltk_data...\n",
            "[nltk_data]    |   Package pl196x is already up-to-date!\n",
            "[nltk_data]    | Downloading package ppattach to /root/nltk_data...\n",
            "[nltk_data]    |   Package ppattach is already up-to-date!\n",
            "[nltk_data]    | Downloading package problem_reports to\n",
            "[nltk_data]    |     /root/nltk_data...\n",
            "[nltk_data]    |   Package problem_reports is already up-to-date!\n",
            "[nltk_data]    | Downloading package propbank to /root/nltk_data...\n",
            "[nltk_data]    |   Package propbank is already up-to-date!\n",
            "[nltk_data]    | Downloading package ptb to /root/nltk_data...\n",
            "[nltk_data]    |   Package ptb is already up-to-date!\n",
            "[nltk_data]    | Downloading package product_reviews_1 to\n",
            "[nltk_data]    |     /root/nltk_data...\n",
            "[nltk_data]    |   Package product_reviews_1 is already up-to-date!\n",
            "[nltk_data]    | Downloading package product_reviews_2 to\n",
            "[nltk_data]    |     /root/nltk_data...\n",
            "[nltk_data]    |   Package product_reviews_2 is already up-to-date!\n",
            "[nltk_data]    | Downloading package pros_cons to /root/nltk_data...\n",
            "[nltk_data]    |   Package pros_cons is already up-to-date!\n",
            "[nltk_data]    | Downloading package qc to /root/nltk_data...\n",
            "[nltk_data]    |   Package qc is already up-to-date!\n",
            "[nltk_data]    | Downloading package reuters to /root/nltk_data...\n",
            "[nltk_data]    |   Package reuters is already up-to-date!\n",
            "[nltk_data]    | Downloading package rte to /root/nltk_data...\n",
            "[nltk_data]    |   Package rte is already up-to-date!\n",
            "[nltk_data]    | Downloading package semcor to /root/nltk_data...\n",
            "[nltk_data]    |   Package semcor is already up-to-date!\n",
            "[nltk_data]    | Downloading package senseval to /root/nltk_data...\n",
            "[nltk_data]    |   Package senseval is already up-to-date!\n",
            "[nltk_data]    | Downloading package sentiwordnet to\n",
            "[nltk_data]    |     /root/nltk_data...\n",
            "[nltk_data]    |   Package sentiwordnet is already up-to-date!\n",
            "[nltk_data]    | Downloading package sentence_polarity to\n",
            "[nltk_data]    |     /root/nltk_data...\n",
            "[nltk_data]    |   Package sentence_polarity is already up-to-date!\n",
            "[nltk_data]    | Downloading package shakespeare to /root/nltk_data...\n",
            "[nltk_data]    |   Package shakespeare is already up-to-date!\n",
            "[nltk_data]    | Downloading package sinica_treebank to\n",
            "[nltk_data]    |     /root/nltk_data...\n",
            "[nltk_data]    |   Package sinica_treebank is already up-to-date!\n",
            "[nltk_data]    | Downloading package smultron to /root/nltk_data...\n",
            "[nltk_data]    |   Package smultron is already up-to-date!\n",
            "[nltk_data]    | Downloading package state_union to /root/nltk_data...\n",
            "[nltk_data]    |   Package state_union is already up-to-date!\n",
            "[nltk_data]    | Downloading package stopwords to /root/nltk_data...\n",
            "[nltk_data]    |   Package stopwords is already up-to-date!\n",
            "[nltk_data]    | Downloading package subjectivity to\n",
            "[nltk_data]    |     /root/nltk_data...\n",
            "[nltk_data]    |   Package subjectivity is already up-to-date!\n",
            "[nltk_data]    | Downloading package swadesh to /root/nltk_data...\n",
            "[nltk_data]    |   Package swadesh is already up-to-date!\n",
            "[nltk_data]    | Downloading package switchboard to /root/nltk_data...\n",
            "[nltk_data]    |   Package switchboard is already up-to-date!\n",
            "[nltk_data]    | Downloading package timit to /root/nltk_data...\n",
            "[nltk_data]    |   Package timit is already up-to-date!\n",
            "[nltk_data]    | Downloading package toolbox to /root/nltk_data...\n",
            "[nltk_data]    |   Package toolbox is already up-to-date!\n",
            "[nltk_data]    | Downloading package treebank to /root/nltk_data...\n",
            "[nltk_data]    |   Package treebank is already up-to-date!\n",
            "[nltk_data]    | Downloading package twitter_samples to\n",
            "[nltk_data]    |     /root/nltk_data...\n",
            "[nltk_data]    |   Package twitter_samples is already up-to-date!\n",
            "[nltk_data]    | Downloading package udhr to /root/nltk_data...\n",
            "[nltk_data]    |   Package udhr is already up-to-date!\n",
            "[nltk_data]    | Downloading package udhr2 to /root/nltk_data...\n",
            "[nltk_data]    |   Package udhr2 is already up-to-date!\n",
            "[nltk_data]    | Downloading package unicode_samples to\n",
            "[nltk_data]    |     /root/nltk_data...\n",
            "[nltk_data]    |   Package unicode_samples is already up-to-date!\n",
            "[nltk_data]    | Downloading package universal_treebanks_v20 to\n",
            "[nltk_data]    |     /root/nltk_data...\n",
            "[nltk_data]    |   Package universal_treebanks_v20 is already up-to-\n",
            "[nltk_data]    |       date!\n",
            "[nltk_data]    | Downloading package verbnet to /root/nltk_data...\n",
            "[nltk_data]    |   Package verbnet is already up-to-date!\n",
            "[nltk_data]    | Downloading package verbnet3 to /root/nltk_data...\n",
            "[nltk_data]    |   Package verbnet3 is already up-to-date!\n",
            "[nltk_data]    | Downloading package webtext to /root/nltk_data...\n",
            "[nltk_data]    |   Package webtext is already up-to-date!\n",
            "[nltk_data]    | Downloading package wordnet to /root/nltk_data...\n",
            "[nltk_data]    |   Package wordnet is already up-to-date!\n",
            "[nltk_data]    | Downloading package wordnet_ic to /root/nltk_data...\n",
            "[nltk_data]    |   Package wordnet_ic is already up-to-date!\n",
            "[nltk_data]    | Downloading package words to /root/nltk_data...\n",
            "[nltk_data]    |   Package words is already up-to-date!\n",
            "[nltk_data]    | Downloading package ycoe to /root/nltk_data...\n",
            "[nltk_data]    |   Package ycoe is already up-to-date!\n",
            "[nltk_data]    | Downloading package rslp to /root/nltk_data...\n",
            "[nltk_data]    |   Package rslp is already up-to-date!\n",
            "[nltk_data]    | Downloading package maxent_treebank_pos_tagger to\n",
            "[nltk_data]    |     /root/nltk_data...\n",
            "[nltk_data]    |   Package maxent_treebank_pos_tagger is already up-\n",
            "[nltk_data]    |       to-date!\n",
            "[nltk_data]    | Downloading package universal_tagset to\n",
            "[nltk_data]    |     /root/nltk_data...\n",
            "[nltk_data]    |   Package universal_tagset is already up-to-date!\n",
            "[nltk_data]    | Downloading package maxent_ne_chunker to\n",
            "[nltk_data]    |     /root/nltk_data...\n",
            "[nltk_data]    |   Package maxent_ne_chunker is already up-to-date!\n",
            "[nltk_data]    | Downloading package punkt to /root/nltk_data...\n",
            "[nltk_data]    |   Package punkt is already up-to-date!\n",
            "[nltk_data]    | Downloading package book_grammars to\n",
            "[nltk_data]    |     /root/nltk_data...\n",
            "[nltk_data]    |   Package book_grammars is already up-to-date!\n",
            "[nltk_data]    | Downloading package sample_grammars to\n",
            "[nltk_data]    |     /root/nltk_data...\n",
            "[nltk_data]    |   Package sample_grammars is already up-to-date!\n",
            "[nltk_data]    | Downloading package spanish_grammars to\n",
            "[nltk_data]    |     /root/nltk_data...\n",
            "[nltk_data]    |   Package spanish_grammars is already up-to-date!\n",
            "[nltk_data]    | Downloading package basque_grammars to\n",
            "[nltk_data]    |     /root/nltk_data...\n",
            "[nltk_data]    |   Package basque_grammars is already up-to-date!\n",
            "[nltk_data]    | Downloading package large_grammars to\n",
            "[nltk_data]    |     /root/nltk_data...\n",
            "[nltk_data]    |   Package large_grammars is already up-to-date!\n",
            "[nltk_data]    | Downloading package tagsets to /root/nltk_data...\n",
            "[nltk_data]    |   Package tagsets is already up-to-date!\n",
            "[nltk_data]    | Downloading package snowball_data to\n",
            "[nltk_data]    |     /root/nltk_data...\n",
            "[nltk_data]    |   Package snowball_data is already up-to-date!\n",
            "[nltk_data]    | Downloading package bllip_wsj_no_aux to\n",
            "[nltk_data]    |     /root/nltk_data...\n",
            "[nltk_data]    |   Package bllip_wsj_no_aux is already up-to-date!\n",
            "[nltk_data]    | Downloading package word2vec_sample to\n",
            "[nltk_data]    |     /root/nltk_data...\n",
            "[nltk_data]    |   Package word2vec_sample is already up-to-date!\n",
            "[nltk_data]    | Downloading package panlex_swadesh to\n",
            "[nltk_data]    |     /root/nltk_data...\n",
            "[nltk_data]    |   Package panlex_swadesh is already up-to-date!\n",
            "[nltk_data]    | Downloading package mte_teip5 to /root/nltk_data...\n",
            "[nltk_data]    |   Package mte_teip5 is already up-to-date!\n",
            "[nltk_data]    | Downloading package averaged_perceptron_tagger to\n",
            "[nltk_data]    |     /root/nltk_data...\n",
            "[nltk_data]    |   Package averaged_perceptron_tagger is already up-\n",
            "[nltk_data]    |       to-date!\n",
            "[nltk_data]    | Downloading package averaged_perceptron_tagger_ru to\n",
            "[nltk_data]    |     /root/nltk_data...\n",
            "[nltk_data]    |   Package averaged_perceptron_tagger_ru is already\n",
            "[nltk_data]    |       up-to-date!\n",
            "[nltk_data]    | Downloading package perluniprops to\n",
            "[nltk_data]    |     /root/nltk_data...\n",
            "[nltk_data]    |   Package perluniprops is already up-to-date!\n",
            "[nltk_data]    | Downloading package nonbreaking_prefixes to\n",
            "[nltk_data]    |     /root/nltk_data...\n",
            "[nltk_data]    |   Package nonbreaking_prefixes is already up-to-date!\n",
            "[nltk_data]    | Downloading package vader_lexicon to\n",
            "[nltk_data]    |     /root/nltk_data...\n",
            "[nltk_data]    |   Package vader_lexicon is already up-to-date!\n",
            "[nltk_data]    | Downloading package porter_test to /root/nltk_data...\n",
            "[nltk_data]    |   Package porter_test is already up-to-date!\n",
            "[nltk_data]    | Downloading package wmt15_eval to /root/nltk_data...\n",
            "[nltk_data]    |   Package wmt15_eval is already up-to-date!\n",
            "[nltk_data]    | Downloading package mwa_ppdb to /root/nltk_data...\n",
            "[nltk_data]    |   Package mwa_ppdb is already up-to-date!\n",
            "[nltk_data]    | \n",
            "[nltk_data]  Done downloading collection all\n",
            "\n"
          ],
          "name": "stdout"
        }
      ]
    },
    {
      "cell_type": "code",
      "metadata": {
        "colab": {
          "base_uri": "https://localhost:8080/",
          "height": 204
        },
        "id": "BbwlTktNBR48",
        "outputId": "590d1fe7-b01d-4ca7-dd9e-836083979679"
      },
      "source": [
        "df.head()"
      ],
      "execution_count": 5,
      "outputs": [
        {
          "output_type": "execute_result",
          "data": {
            "text/html": [
              "<div>\n",
              "<style scoped>\n",
              "    .dataframe tbody tr th:only-of-type {\n",
              "        vertical-align: middle;\n",
              "    }\n",
              "\n",
              "    .dataframe tbody tr th {\n",
              "        vertical-align: top;\n",
              "    }\n",
              "\n",
              "    .dataframe thead th {\n",
              "        text-align: right;\n",
              "    }\n",
              "</style>\n",
              "<table border=\"1\" class=\"dataframe\">\n",
              "  <thead>\n",
              "    <tr style=\"text-align: right;\">\n",
              "      <th></th>\n",
              "      <th>emotion</th>\n",
              "      <th>tweets</th>\n",
              "    </tr>\n",
              "  </thead>\n",
              "  <tbody>\n",
              "    <tr>\n",
              "      <th>35975</th>\n",
              "      <td>1</td>\n",
              "      <td>Praying for love in a lap dance and paying in...</td>\n",
              "    </tr>\n",
              "    <tr>\n",
              "      <th>17590</th>\n",
              "      <td>2</td>\n",
              "      <td>trying to fix my internet connection      gues...</td>\n",
              "    </tr>\n",
              "    <tr>\n",
              "      <th>38071</th>\n",
              "      <td>0</td>\n",
              "      <td>starting an account here on twitter</td>\n",
              "    </tr>\n",
              "    <tr>\n",
              "      <th>23304</th>\n",
              "      <td>2</td>\n",
              "      <td>hmmm wrong link ignore my tweet</td>\n",
              "    </tr>\n",
              "    <tr>\n",
              "      <th>26990</th>\n",
              "      <td>0</td>\n",
              "      <td>thanks   before the major chop</td>\n",
              "    </tr>\n",
              "  </tbody>\n",
              "</table>\n",
              "</div>"
            ],
            "text/plain": [
              "       emotion                                             tweets\n",
              "35975        1   Praying for love in a lap dance and paying in...\n",
              "17590        2  trying to fix my internet connection      gues...\n",
              "38071        0                starting an account here on twitter\n",
              "23304        2                    hmmm wrong link ignore my tweet\n",
              "26990        0                   thanks   before the major chop  "
            ]
          },
          "metadata": {
            "tags": []
          },
          "execution_count": 5
        }
      ]
    },
    {
      "cell_type": "code",
      "metadata": {
        "colab": {
          "base_uri": "https://localhost:8080/"
        },
        "id": "ENcs-a3CBR02",
        "outputId": "7290b4cf-d6ce-4317-e5ef-ef56d781077c"
      },
      "source": [
        "df.emotion.unique()"
      ],
      "execution_count": 6,
      "outputs": [
        {
          "output_type": "execute_result",
          "data": {
            "text/plain": [
              "array([1, 2, 0, 3])"
            ]
          },
          "metadata": {
            "tags": []
          },
          "execution_count": 6
        }
      ]
    },
    {
      "cell_type": "code",
      "metadata": {
        "colab": {
          "base_uri": "https://localhost:8080/"
        },
        "id": "v0mb2jrPBRwL",
        "outputId": "c764b996-cd7c-43cb-99b3-8d23f74be256"
      },
      "source": [
        "no_labels=4\r\n",
        "category_dict = {}\r\n",
        "for i in range(no_labels):\r\n",
        "  category_dict[i]=[0 for j in range(no_labels)]\r\n",
        "  category_dict[i][i]=1\r\n",
        "data_tweet = [str(x).lower().split() for x in df['tweets']]\r\n",
        "data_cat = np.array([np.array(category_dict[x]) for x in df['emotion']])\r\n",
        "print(data_cat[:5])"
      ],
      "execution_count": 7,
      "outputs": [
        {
          "output_type": "stream",
          "text": [
            "[[0 1 0 0]\n",
            " [0 0 1 0]\n",
            " [1 0 0 0]\n",
            " [0 0 1 0]\n",
            " [1 0 0 0]]\n"
          ],
          "name": "stdout"
        }
      ]
    },
    {
      "cell_type": "code",
      "metadata": {
        "id": "G8Z9hWlpvu-l"
      },
      "source": [
        "\r\n"
      ],
      "execution_count": 7,
      "outputs": []
    },
    {
      "cell_type": "code",
      "metadata": {
        "id": "1Ik2nYnWvu7c",
        "colab": {
          "base_uri": "https://localhost:8080/"
        },
        "outputId": "a292b3a4-2b2d-4312-ab3a-771bf37b1806"
      },
      "source": [
        "print(data_tweet[:5])\r\n",
        "print(data_cat[:5])"
      ],
      "execution_count": 8,
      "outputs": [
        {
          "output_type": "stream",
          "text": [
            "[['praying', 'for', 'love', 'in', 'a', 'lap', 'dance', 'and', 'paying', 'in', 'naivety', 'less', 'than', 'one', 'of', 'my', 'fav', 'songs'], ['trying', 'to', 'fix', 'my', 'internet', 'connection', 'guess', 'my', 'prayers', 'have', 'been', 'answered', 'and', 'i', 'wont', 'have', 'any', 'study', 'distractions', 'ugh'], ['starting', 'an', 'account', 'here', 'on', 'twitter'], ['hmmm', 'wrong', 'link', 'ignore', 'my', 'tweet'], ['thanks', 'before', 'the', 'major', 'chop']]\n",
            "[[0 1 0 0]\n",
            " [0 0 1 0]\n",
            " [1 0 0 0]\n",
            " [0 0 1 0]\n",
            " [1 0 0 0]]\n"
          ],
          "name": "stdout"
        }
      ]
    },
    {
      "cell_type": "code",
      "metadata": {
        "id": "PTQD20vNvu3x"
      },
      "source": [
        "# Parameters\r\n",
        "Min_count = 0\r\n",
        "Embedding_size = 200\r\n",
        "Window_size = 5\r\n",
        "Negative_sampling = 00"
      ],
      "execution_count": 9,
      "outputs": []
    },
    {
      "cell_type": "code",
      "metadata": {
        "id": "gmvFJUlXvu1S"
      },
      "source": [
        "w2v_sg = Word2Vec(min_count=Min_count,\r\n",
        "                     window=Window_size,\r\n",
        "                     size=Embedding_size,\r\n",
        "                     negative=Negative_sampling,sg=1)\r\n",
        "w2v_sg.build_vocab(data_tweet)\r\n",
        "w2v_sg.train(data_tweet, total_examples=w2v_sg.corpus_count, epochs=5)\r\n",
        "w2v_cbow = Word2Vec(min_count=Min_count,\r\n",
        "                     window=Window_size,\r\n",
        "                     size=Embedding_size,\r\n",
        "                     negative=Negative_sampling,sg=0)\r\n",
        "w2v_cbow.build_vocab(data_tweet)\r\n",
        "w2v_cbow.train(data_tweet, total_examples=w2v_cbow.corpus_count, epochs=5)\r\n",
        "w2v_sg.wv.init_sims(True)\r\n",
        "w2v_cbow.wv.init_sims(True)"
      ],
      "execution_count": 10,
      "outputs": []
    },
    {
      "cell_type": "code",
      "metadata": {
        "id": "EWlSeP2Xvuy7"
      },
      "source": [
        "vocab_sg = w2v_sg.wv.vocab\r\n",
        "vocab_sg = [x for x in vocab_sg]\r\n",
        "vocab_cbow = w2v_cbow.wv.vocab\r\n",
        "vocab_cbow = [x for x in vocab_cbow] \r\n",
        "vocab_glove = {}\r\n",
        "with open(\"/content/drive/My Drive/InfluenceAnalysis/InfluenceAnalysis/glove/glove.twitter.27B.200d.txt\", 'r', encoding=\"utf-8\") as f:\r\n",
        "  for line in f:\r\n",
        "      values = line.split()\r\n",
        "      word = values[0]\r\n",
        "      vector = np.asarray(values[1:], \"float32\")\r\n",
        "      vocab_glove[word] = vector"
      ],
      "execution_count": 11,
      "outputs": []
    },
    {
      "cell_type": "code",
      "metadata": {
        "id": "t2dmTA7mv2rW"
      },
      "source": [
        "batch_size = 500\r\n",
        "Max_input_size = max([len(x) for x in data_tweet])\r\n",
        "data_tweet = [nltk.pos_tag(x) for x in data_tweet]\r\n",
        "def getsent(word,tag):\r\n",
        "  res=0\r\n",
        "  try:\r\n",
        "    x = swn.senti_synset(word+'.'+tag[0].lower()+'.01')\r\n",
        "    res =  (x.pos_score()-x.neg_score())\r\n",
        "  finally:\r\n",
        "    return res \r\n",
        "data_tweet = [[(i[0],i[1],getsent(i[0],i[1])) for i in x] for x in data_tweet]"
      ],
      "execution_count": 12,
      "outputs": []
    },
    {
      "cell_type": "code",
      "metadata": {
        "id": "NMXBVvGUv9q3"
      },
      "source": [
        "def vec_gen(w2v,vocab,data_tweet,data_cat,batch_size,Max_input_size,Embedding_size,mul_factor=2):\r\n",
        "  while True:\r\n",
        "    for k in range(int(len(data_tweet)/batch_size)):\r\n",
        "      res=[]\r\n",
        "      for x in data_tweet[k*(batch_size):(k+1)*(batch_size)]:\r\n",
        "        tweet = [(w2v.wv.word_vec(i[0]),i[1]) for i in x if i[0] in vocab]\r\n",
        "        l=len(tweet)\r\n",
        "        for i in range(l):\r\n",
        "          if tweet[i][1][:2]=='JJ' or tweet[i][1][:2]=='RB':\r\n",
        "            tweet[i]=((tweet[i][0])*mul_factor,tweet[i][1])\r\n",
        "        res+=[np.array([x[0] for x in tweet])]\r\n",
        "      temp = np.array([np.pad(z.flatten(),(0,Max_input_size*Embedding_size-len(z.flatten()))).reshape(Max_input_size,Embedding_size) for z in res])\r\n",
        "      tempres = np.array(data_cat[k*(batch_size):(k+1)*(batch_size)])\r\n",
        "      yield (temp,tempres)          \r\n",
        "      \r\n",
        "def glove_gen(vocab,data_tweet,data_cat,batch_size,Max_input_size,Embedding_size,mul_factor=2):\r\n",
        "  while True:\r\n",
        "    for k in range(int(len(data_tweet)/batch_size)):\r\n",
        "      res=[]\r\n",
        "      for x in data_tweet[k*(batch_size):(k+1)*(batch_size)]:\r\n",
        "        tweet = [(vocab[i[0]],i[1]) for i in x if i[0] in vocab.keys()]\r\n",
        "        l=len(tweet)\r\n",
        "        for i in range(l):\r\n",
        "          if tweet[i][1][:2]=='JJ' or tweet[i][1][:2]=='RB':\r\n",
        "            tweet[i]=((tweet[i][0])*mul_factor,tweet[i][1])\r\n",
        "        res+=[np.array([x[0] for x in tweet])]\r\n",
        "      temp = np.array([np.pad(z.flatten(),(0,Max_input_size*Embedding_size-len(z.flatten()))).reshape(Max_input_size,Embedding_size) for z in res])\r\n",
        "      tempres = np.array(data_cat[k*(batch_size):(k+1)*(batch_size)])\r\n",
        "      yield (temp,tempres)"
      ],
      "execution_count": 13,
      "outputs": []
    },
    {
      "cell_type": "code",
      "metadata": {
        "id": "AtpLVu-Jv9oA",
        "colab": {
          "base_uri": "https://localhost:8080/"
        },
        "outputId": "f0b0c0ce-629e-4f59-daea-4afa6402079e"
      },
      "source": [
        "from sklearn.model_selection import StratifiedShuffleSplit\r\n",
        "sss = StratifiedShuffleSplit(n_splits=1, test_size=0.2, random_state=0)\r\n",
        "sss.get_n_splits(data_tweet, data_cat)\r\n",
        "X_train=[]\r\n",
        "X_test=[]\r\n",
        "y_train=[]\r\n",
        "y_test=[]\r\n",
        "counter=0\r\n",
        "for train_index, test_index in sss.split(data_tweet, data_cat):\r\n",
        "  print(\"TRAIN:\", train_index, \"TEST:\", test_index)\r\n",
        "  for i in train_index:\r\n",
        "    X_train+=[data_tweet[i]]\r\n",
        "    y_train+=[data_cat[i]]\r\n",
        "\r\n",
        "  for j in test_index:\r\n",
        "    X_test+=[data_tweet[j]]\r\n",
        "    y_test+=[data_cat[j]]\r\n",
        "\r\n",
        " # X_train, X_test = data_tweet[train_index], data_tweet[test_index]\r\n",
        " # y_train, y_test = data_cat[train_index], data_cat[test_index]\r\n",
        "print(X_train[:5])\r\n",
        "print(y_train[:5])\r\n",
        "sss = StratifiedShuffleSplit(n_splits=1, test_size=0.2, random_state=0)\r\n",
        "sss.get_n_splits(X_train, y_train)\r\n",
        "x_train=[]\r\n",
        "X_val=[]\r\n",
        "Y_train=[]\r\n",
        "y_val=[]\r\n",
        "for train_index1, test_index1 in sss.split(X_train, y_train):\r\n",
        "  print(\"TRAIN:\", train_index1, \"TEST:\", test_index1)\r\n",
        "  for i in train_index1:\r\n",
        "    x_train+=[X_train[i]]\r\n",
        "    Y_train+=[y_train[i]]\r\n",
        "\r\n",
        "  for j in test_index1:\r\n",
        "    X_val+=[X_train[j]]\r\n",
        "    y_val+=[y_train[j]]\r\n",
        "X_train=x_train\r\n",
        "y_train=Y_train\r\n",
        "print(len(X_train))\r\n",
        "print(len(y_train))\r\n",
        "print(len(X_test))\r\n",
        "print(len(y_test))\r\n",
        "print(len(X_val))\r\n",
        "print(len(y_val))\r\n",
        "print(X_train[:5])\r\n",
        "print(y_train[:5])\r\n",
        "result_table = [0,0,0]"
      ],
      "execution_count": 14,
      "outputs": [
        {
          "output_type": "stream",
          "text": [
            "TRAIN: [10470  6321 13813 ... 24250 39308  6334] TEST: [22946 37404 11668 ...  6796  7895 14585]\n",
            "[[('the', 'DT', 0), ('goonies', 'NNS', 0), ('projected', 'VBN', 0), ('on', 'IN', 0), ('a', 'DT', 0), ('garage', 'NN', 0.0), ('door', 'NN', 0.0), ('with', 'IN', 0), ('my', 'PRP$', 0), ('friends', 'NNS', 0), ('amazing', 'VBG', 0)], [('17', 'CD', 0), ('again', 'RB', 0.0), ('tonight', 'NN', 0.0)], [('we', 'PRP', 0), ('finally', 'RB', 0.0), ('hit', 'VBD', 0.0), ('1000', 'CD', 0), ('friends', 'NNS', 0), ('thanks', 'NNS', 0.125)], [('lolzz', 'JJ', 0), ('public', 'JJ', 0), ('script', 'NN', 0.0), ('wait', 'NN', 0.0), ('n', 'NN', 0.0), ('watch', 'NN', 0.0)], [('night', 'NN', 0.0)]]\n",
            "[array([0, 1, 0, 0]), array([1, 0, 0, 0]), array([0, 1, 0, 0]), array([0, 1, 0, 0]), array([1, 0, 0, 0])]\n",
            "TRAIN: [28318 14444 15946 ... 11043 21820 15291] TEST: [23742   966  6886 ... 25081 24593 26654]\n",
            "25600\n",
            "25600\n",
            "8000\n",
            "8000\n",
            "6400\n",
            "6400\n",
            "[[('geez', 'JJ', 0), ('15', 'CD', 0), ('years', 'NNS', 0.0), ('you', 'PRP', 0), ('d', 'VBP', 0), ('think', 'VBP', 0.0), ('they', 'PRP', 0), ('would', 'MD', 0), ('have', 'VB', 0.25), ('had', 'VBN', 0), ('that', 'IN', 0), ('checked', 'VBN', 0), ('out', 'RP', 0.0), ('years', 'NNS', 0.0), ('ago', 'RB', 0.0)], [('oh', 'NN', 0.0), ('that', 'WDT', 0), ('is', 'VBZ', 0), ('bad', 'JJ', 0), ('i', 'NN', 0.0), ('made', 'VBD', 0), ('that', 'IN', 0), ('mistake', 'NN', -0.625), ('once', 'RB', 0.0), ('before', 'RB', 0.0), ('but', 'CC', 0), ('still', 'RB', -0.125), ('managed', 'VBD', 0), ('to', 'TO', 0), ('pass', 'VB', 0.0), ('though', 'IN', 0), ('so', 'RB', 0.0), ('maybe', 'RB', 0.0), ('it', 'PRP', 0), ('is', 'VBZ', 0), ('not', 'RB', -0.625), ('as', 'RB', -0.125), ('bad', 'JJ', 0), ('as', 'IN', 0), ('he', 'PRP', 0), ('thinks', 'VBZ', 0)], [('leather', 'NN', 0.0), ('shoes', 'NNS', 0.0), ('and', 'CC', 0), ('bags', 'NNS', 0), ('are', 'VBP', 0), ('so', 'RB', 0.0), ('hard', 'JJ', 0), ('to', 'TO', 0), ('resist', 'VB', 0.0)], [('haha', 'NN', 0), ('my', 'PRP$', 0), ('rooommate', 'NN', 0), ('are', 'VBP', 0), ('watching', 'VBG', 0), ('that', 'IN', 0), ('i', 'NN', 0.0), ('have', 'VBP', 0.25), ('a', 'DT', 0), ('huge', 'JJ', 0), ('crush', 'NN', 0.0), ('on', 'IN', 0), ('landon', 'NN', 0)], [('i', 'NN', 0.0), ('should', 'MD', 0), ('post', 'VB', 0.0), ('some', 'DT', 0), ('photos', 'NN', 0), ('of', 'IN', 0), ('my', 'PRP$', 0), ('robots', 'NNS', 0), ('ok', 'VBP', 0), ('offline', 'NN', 0), ('for', 'IN', 0), ('4', 'CD', 0), ('hours', 'NNS', 0.0), ('now', 'RB', 0.0), ('ttfn', 'VBP', 0), ('oh', 'UH', 0), ('so', 'RB', 0.0), ('im', 'JJ', 0), ('confusion', 'NN', -0.375)]]\n",
            "[array([1, 0, 0, 0]), array([0, 0, 1, 0]), array([0, 1, 0, 0]), array([1, 0, 0, 0]), array([1, 0, 0, 0])]\n"
          ],
          "name": "stdout"
        }
      ]
    },
    {
      "cell_type": "code",
      "metadata": {
        "id": "8L46j8Lgv9lS"
      },
      "source": [
        "epochs = 30"
      ],
      "execution_count": 15,
      "outputs": []
    },
    {
      "cell_type": "code",
      "metadata": {
        "id": "euGeXqLVB56E"
      },
      "source": [
        "from keras import backend as K\r\n",
        "def recall(y_true, y_pred):\r\n",
        "        \"\"\"Recall metric.\r\n",
        "\r\n",
        "        Only computes a batch-wise average of recall.\r\n",
        "\r\n",
        "        Computes the recall, a metric for multi-label classification of\r\n",
        "        how many relevant items are selected.\r\n",
        "        \"\"\"\r\n",
        "        true_positives = K.sum(K.round(K.clip(y_true * y_pred, 0, 1)))\r\n",
        "        possible_positives = K.sum(K.round(K.clip(y_true, 0, 1)))\r\n",
        "        recalls = true_positives / (possible_positives + K.epsilon())\r\n",
        "        return recalls\r\n",
        "def precision(y_true, y_pred):\r\n",
        "        \"\"\"Precision metric.\r\n",
        "\r\n",
        "        Only computes a batch-wise average of precision.\r\n",
        "\r\n",
        "        Computes the precision, a metric for multi-label classification of\r\n",
        "        how many selected items are relevant.\r\n",
        "        \"\"\"\r\n",
        "        true_positives = K.sum(K.round(K.clip(y_true * y_pred, 0, 1)))\r\n",
        "        predicted_positives = K.sum(K.round(K.clip(y_pred, 0, 1)))\r\n",
        "        precisions = true_positives / (predicted_positives + K.epsilon())\r\n",
        "        return precisions\r\n",
        "def f1(y_true, y_pred):\r\n",
        "    precisions = precision(y_true, y_pred)\r\n",
        "    recalls = recall(y_true, y_pred)\r\n",
        "    return 2*((precisions*recalls)/(precisions+recalls+K.epsilon()))"
      ],
      "execution_count": 16,
      "outputs": []
    },
    {
      "cell_type": "code",
      "metadata": {
        "id": "sRdVKc6av2oZ",
        "colab": {
          "base_uri": "https://localhost:8080/"
        },
        "outputId": "5b8e1610-708b-4893-ccb8-ec33a64388ab"
      },
      "source": [
        "model_sg_bi = tf.keras.Sequential()\r\n",
        "model_sg_bi.add(tf.keras.Input(shape=(Max_input_size,Embedding_size)))\r\n",
        "model_sg_bi.add(tf.keras.layers.Bidirectional(tf.keras.layers.LSTM(64),merge_mode='concat'))\r\n",
        "model_sg_bi.add(tf.keras.layers.Dropout(0.2))\r\n",
        "model_sg_bi.add(tf.keras.layers.Dense(64,activation='relu'))\r\n",
        "model_sg_bi.add(tf.keras.layers.Dropout(0.2))\r\n",
        "model_sg_bi.add(tf.keras.layers.Dense(4, activation='softmax'))\r\n",
        "model_sg_bi.compile(loss='categorical_crossentropy',optimizer='adam', \r\n",
        "                           metrics=['accuracy',f1,precision,recall])\r\n",
        "sg_train_gen=vec_gen(w2v_sg,vocab_sg,X_train,y_train,batch_size,Max_input_size,Embedding_size)\r\n",
        "sg_val_gen=vec_gen(w2v_sg,vocab_sg,X_val,y_val,batch_size,Max_input_size,Embedding_size)\r\n",
        "history_sg_bi = model_sg_bi.fit_generator(sg_train_gen,validation_data=sg_val_gen,validation_steps=int((len(X_val)/batch_size)+1),steps_per_epoch=int((len(X_train)/batch_size)+1),epochs=epochs)\r\n",
        "history = model_sg_bi.evaluate(x = vec_gen(w2v_sg,vocab_sg,X_test,y_test,batch_size,Max_input_size,Embedding_size),steps=int(len(y_test)/batch_size))\r\n",
        "print(history)\r\n",
        "result_table[2]=history[1]\r\n",
        "print(\"SG_BI\")"
      ],
      "execution_count": 22,
      "outputs": [
        {
          "output_type": "stream",
          "text": [
            "/usr/local/lib/python3.7/dist-packages/tensorflow/python/keras/engine/training.py:1844: UserWarning: `Model.fit_generator` is deprecated and will be removed in a future version. Please use `Model.fit`, which supports generators.\n",
            "  warnings.warn('`Model.fit_generator` is deprecated and '\n"
          ],
          "name": "stderr"
        },
        {
          "output_type": "stream",
          "text": [
            "Epoch 1/30\n",
            "52/52 [==============================] - 62s 1s/step - loss: 1.2964 - accuracy: 0.3470 - f1: 0.0109 - precision: 0.0996 - recall: 0.0065 - val_loss: 1.1806 - val_accuracy: 0.4188 - val_f1: 0.0122 - val_precision: 0.8013 - val_recall: 0.0062\n",
            "Epoch 2/30\n",
            "52/52 [==============================] - 58s 1s/step - loss: 1.1741 - accuracy: 0.4230 - f1: 0.0838 - precision: 0.6177 - recall: 0.0469 - val_loss: 1.1479 - val_accuracy: 0.4592 - val_f1: 0.2239 - val_precision: 0.5915 - val_recall: 0.1383\n",
            "Epoch 3/30\n",
            "52/52 [==============================] - 59s 1s/step - loss: 1.1321 - accuracy: 0.4668 - f1: 0.2436 - precision: 0.6228 - recall: 0.1520 - val_loss: 1.1335 - val_accuracy: 0.4715 - val_f1: 0.2959 - val_precision: 0.5820 - val_recall: 0.1988\n",
            "Epoch 4/30\n",
            "52/52 [==============================] - 59s 1s/step - loss: 1.1085 - accuracy: 0.4873 - f1: 0.3037 - precision: 0.6259 - recall: 0.2009 - val_loss: 1.1167 - val_accuracy: 0.4825 - val_f1: 0.3151 - val_precision: 0.5894 - val_recall: 0.2154\n",
            "Epoch 5/30\n",
            "52/52 [==============================] - 58s 1s/step - loss: 1.0969 - accuracy: 0.4923 - f1: 0.3215 - precision: 0.6295 - recall: 0.2162 - val_loss: 1.1160 - val_accuracy: 0.4829 - val_f1: 0.3490 - val_precision: 0.5811 - val_recall: 0.2497\n",
            "Epoch 6/30\n",
            "52/52 [==============================] - 58s 1s/step - loss: 1.0859 - accuracy: 0.5021 - f1: 0.3457 - precision: 0.6368 - recall: 0.2383 - val_loss: 1.1168 - val_accuracy: 0.4785 - val_f1: 0.3442 - val_precision: 0.5761 - val_recall: 0.2457\n",
            "Epoch 7/30\n",
            "52/52 [==============================] - 60s 1s/step - loss: 1.0751 - accuracy: 0.5077 - f1: 0.3579 - precision: 0.6374 - recall: 0.2493 - val_loss: 1.1139 - val_accuracy: 0.4811 - val_f1: 0.3515 - val_precision: 0.5745 - val_recall: 0.2535\n",
            "Epoch 8/30\n",
            "52/52 [==============================] - 59s 1s/step - loss: 1.0631 - accuracy: 0.5152 - f1: 0.3728 - precision: 0.6456 - recall: 0.2626 - val_loss: 1.1087 - val_accuracy: 0.4880 - val_f1: 0.3495 - val_precision: 0.5914 - val_recall: 0.2485\n",
            "Epoch 9/30\n",
            "52/52 [==============================] - 59s 1s/step - loss: 1.0599 - accuracy: 0.5159 - f1: 0.3785 - precision: 0.6444 - recall: 0.2683 - val_loss: 1.1110 - val_accuracy: 0.4874 - val_f1: 0.3579 - val_precision: 0.5841 - val_recall: 0.2582\n",
            "Epoch 10/30\n",
            "52/52 [==============================] - 60s 1s/step - loss: 1.0508 - accuracy: 0.5193 - f1: 0.3830 - precision: 0.6421 - recall: 0.2734 - val_loss: 1.1022 - val_accuracy: 0.4905 - val_f1: 0.3737 - val_precision: 0.5898 - val_recall: 0.2737\n",
            "Epoch 11/30\n",
            "52/52 [==============================] - 59s 1s/step - loss: 1.0393 - accuracy: 0.5315 - f1: 0.4029 - precision: 0.6577 - recall: 0.2912 - val_loss: 1.0996 - val_accuracy: 0.4949 - val_f1: 0.3788 - val_precision: 0.5941 - val_recall: 0.2783\n",
            "Epoch 12/30\n",
            "52/52 [==============================] - 59s 1s/step - loss: 1.0284 - accuracy: 0.5352 - f1: 0.4138 - precision: 0.6535 - recall: 0.3032 - val_loss: 1.1010 - val_accuracy: 0.4926 - val_f1: 0.3750 - val_precision: 0.5902 - val_recall: 0.2749\n",
            "Epoch 13/30\n",
            "52/52 [==============================] - 60s 1s/step - loss: 1.0188 - accuracy: 0.5366 - f1: 0.4241 - precision: 0.6661 - recall: 0.3118 - val_loss: 1.1036 - val_accuracy: 0.4983 - val_f1: 0.3772 - val_precision: 0.5865 - val_recall: 0.2782\n",
            "Epoch 14/30\n",
            "52/52 [==============================] - 59s 1s/step - loss: 1.0102 - accuracy: 0.5452 - f1: 0.4319 - precision: 0.6665 - recall: 0.3201 - val_loss: 1.1022 - val_accuracy: 0.4977 - val_f1: 0.3909 - val_precision: 0.5931 - val_recall: 0.2917\n",
            "Epoch 15/30\n",
            "52/52 [==============================] - 59s 1s/step - loss: 1.0002 - accuracy: 0.5581 - f1: 0.4461 - precision: 0.6729 - recall: 0.3345 - val_loss: 1.1051 - val_accuracy: 0.4995 - val_f1: 0.3920 - val_precision: 0.5989 - val_recall: 0.2915\n",
            "Epoch 16/30\n",
            "52/52 [==============================] - 58s 1s/step - loss: 0.9855 - accuracy: 0.5635 - f1: 0.4567 - precision: 0.6729 - recall: 0.3463 - val_loss: 1.1083 - val_accuracy: 0.4966 - val_f1: 0.3972 - val_precision: 0.5956 - val_recall: 0.2982\n",
            "Epoch 17/30\n",
            "52/52 [==============================] - 58s 1s/step - loss: 0.9833 - accuracy: 0.5653 - f1: 0.4696 - precision: 0.6816 - recall: 0.3591 - val_loss: 1.1111 - val_accuracy: 0.5003 - val_f1: 0.4040 - val_precision: 0.5936 - val_recall: 0.3063\n",
            "Epoch 18/30\n",
            "52/52 [==============================] - 59s 1s/step - loss: 0.9682 - accuracy: 0.5752 - f1: 0.4901 - precision: 0.6838 - recall: 0.3824 - val_loss: 1.1167 - val_accuracy: 0.4940 - val_f1: 0.4127 - val_precision: 0.5901 - val_recall: 0.3175\n",
            "Epoch 19/30\n",
            "52/52 [==============================] - 58s 1s/step - loss: 0.9563 - accuracy: 0.5784 - f1: 0.4985 - precision: 0.6846 - recall: 0.3924 - val_loss: 1.1257 - val_accuracy: 0.4978 - val_f1: 0.4284 - val_precision: 0.5794 - val_recall: 0.3400\n",
            "Epoch 20/30\n",
            "52/52 [==============================] - 59s 1s/step - loss: 0.9487 - accuracy: 0.5818 - f1: 0.5138 - precision: 0.6843 - recall: 0.4117 - val_loss: 1.1287 - val_accuracy: 0.4995 - val_f1: 0.4344 - val_precision: 0.5691 - val_recall: 0.3514\n",
            "Epoch 21/30\n",
            "52/52 [==============================] - 59s 1s/step - loss: 0.9319 - accuracy: 0.5883 - f1: 0.5255 - precision: 0.6852 - recall: 0.4266 - val_loss: 1.1475 - val_accuracy: 0.5015 - val_f1: 0.4376 - val_precision: 0.5686 - val_recall: 0.3557\n",
            "Epoch 22/30\n",
            "52/52 [==============================] - 62s 1s/step - loss: 0.9222 - accuracy: 0.5946 - f1: 0.5340 - precision: 0.6896 - recall: 0.4361 - val_loss: 1.1461 - val_accuracy: 0.5102 - val_f1: 0.4407 - val_precision: 0.5708 - val_recall: 0.3591\n",
            "Epoch 23/30\n",
            "52/52 [==============================] - 60s 1s/step - loss: 0.9072 - accuracy: 0.6044 - f1: 0.5456 - precision: 0.6955 - recall: 0.4492 - val_loss: 1.1471 - val_accuracy: 0.5077 - val_f1: 0.4408 - val_precision: 0.5639 - val_recall: 0.3620\n",
            "Epoch 24/30\n",
            "52/52 [==============================] - 59s 1s/step - loss: 0.8968 - accuracy: 0.6075 - f1: 0.5564 - precision: 0.6990 - recall: 0.4625 - val_loss: 1.1607 - val_accuracy: 0.5002 - val_f1: 0.4475 - val_precision: 0.5618 - val_recall: 0.3720\n",
            "Epoch 25/30\n",
            "52/52 [==============================] - 62s 1s/step - loss: 0.8849 - accuracy: 0.6133 - f1: 0.5610 - precision: 0.6968 - recall: 0.4699 - val_loss: 1.1696 - val_accuracy: 0.5000 - val_f1: 0.4451 - val_precision: 0.5633 - val_recall: 0.3680\n",
            "Epoch 26/30\n",
            "52/52 [==============================] - 61s 1s/step - loss: 0.8692 - accuracy: 0.6255 - f1: 0.5758 - precision: 0.7052 - recall: 0.4868 - val_loss: 1.1727 - val_accuracy: 0.5002 - val_f1: 0.4528 - val_precision: 0.5628 - val_recall: 0.3789\n",
            "Epoch 27/30\n",
            "52/52 [==============================] - 60s 1s/step - loss: 0.8596 - accuracy: 0.6296 - f1: 0.5853 - precision: 0.7107 - recall: 0.4979 - val_loss: 1.2014 - val_accuracy: 0.5034 - val_f1: 0.4557 - val_precision: 0.5599 - val_recall: 0.3843\n",
            "Epoch 28/30\n",
            "52/52 [==============================] - 63s 1s/step - loss: 0.8548 - accuracy: 0.6382 - f1: 0.5917 - precision: 0.7144 - recall: 0.5053 - val_loss: 1.2174 - val_accuracy: 0.5017 - val_f1: 0.4609 - val_precision: 0.5571 - val_recall: 0.3931\n",
            "Epoch 29/30\n",
            "52/52 [==============================] - 64s 1s/step - loss: 0.8333 - accuracy: 0.6463 - f1: 0.6044 - precision: 0.7230 - recall: 0.5196 - val_loss: 1.2179 - val_accuracy: 0.5043 - val_f1: 0.4614 - val_precision: 0.5547 - val_recall: 0.3951\n",
            "Epoch 30/30\n",
            "52/52 [==============================] - 59s 1s/step - loss: 0.8224 - accuracy: 0.6514 - f1: 0.6096 - precision: 0.7214 - recall: 0.5280 - val_loss: 1.2405 - val_accuracy: 0.4983 - val_f1: 0.4624 - val_precision: 0.5456 - val_recall: 0.4012\n",
            "16/16 [==============================] - 11s 701ms/step - loss: 1.2130 - accuracy: 0.5049 - f1: 0.4681 - precision: 0.5531 - recall: 0.4059\n",
            "[1.2130297422409058, 0.5048750042915344, 0.4680684208869934, 0.5531455278396606, 0.40587499737739563]\n",
            "SG_BI\n"
          ],
          "name": "stdout"
        }
      ]
    },
    {
      "cell_type": "code",
      "metadata": {
        "id": "Dg66ju0qwE_R",
        "colab": {
          "base_uri": "https://localhost:8080/"
        },
        "outputId": "241b8bde-4e30-4d71-c35a-a6724d357a1a"
      },
      "source": [
        "model_cbow_bi = tf.keras.Sequential()\r\n",
        "model_cbow_bi.add(tf.keras.Input(shape=(Max_input_size,Embedding_size)))\r\n",
        "model_cbow_bi.add(tf.keras.layers.Bidirectional(tf.keras.layers.LSTM(64),merge_mode='concat'))\r\n",
        "model_cbow_bi.add(tf.keras.layers.Dropout(0.2))\r\n",
        "model_cbow_bi.add(tf.keras.layers.Dense(64,activation='relu'))\r\n",
        "model_cbow_bi.add(tf.keras.layers.Dropout(0.2))\r\n",
        "model_cbow_bi.add(tf.keras.layers.Dense(4, activation='softmax'))\r\n",
        "model_cbow_bi.compile(loss='categorical_crossentropy',optimizer='adam', \r\n",
        "                           metrics=['accuracy',f1,precision,recall])\r\n",
        "cbow_train_gen=vec_gen(w2v_cbow,vocab_cbow,X_train,y_train,batch_size,Max_input_size,Embedding_size)\r\n",
        "cbow_val_gen=vec_gen(w2v_cbow,vocab_cbow,X_val,y_val,batch_size,Max_input_size,Embedding_size)\r\n",
        "history_cbow_bi = model_cbow_bi.fit_generator(cbow_train_gen,validation_data=cbow_val_gen,validation_steps=int((len(X_val)/batch_size)+1),steps_per_epoch=int((len(X_train)/batch_size)+1),epochs=epochs)\r\n",
        "history = model_cbow_bi.evaluate(x = vec_gen(w2v_cbow,vocab_cbow,X_test,y_test,batch_size,Max_input_size,Embedding_size),steps=int(len(y_test)/batch_size))\r\n",
        "print(history)\r\n",
        "\r\n",
        "result_table[1]=history[1]\r\n",
        "print(\"CBOW_BI\")"
      ],
      "execution_count": 21,
      "outputs": [
        {
          "output_type": "stream",
          "text": [
            "/usr/local/lib/python3.7/dist-packages/tensorflow/python/keras/engine/training.py:1844: UserWarning: `Model.fit_generator` is deprecated and will be removed in a future version. Please use `Model.fit`, which supports generators.\n",
            "  warnings.warn('`Model.fit_generator` is deprecated and '\n"
          ],
          "name": "stderr"
        },
        {
          "output_type": "stream",
          "text": [
            "Epoch 1/30\n",
            "52/52 [==============================] - 64s 1s/step - loss: 1.2848 - accuracy: 0.3842 - f1: 0.0159 - precision: 0.2097 - recall: 0.0085 - val_loss: 1.1692 - val_accuracy: 0.4492 - val_f1: 0.0929 - val_precision: 0.6141 - val_recall: 0.0503\n",
            "Epoch 2/30\n",
            "52/52 [==============================] - 59s 1s/step - loss: 1.1640 - accuracy: 0.4433 - f1: 0.1954 - precision: 0.5918 - recall: 0.1185 - val_loss: 1.1454 - val_accuracy: 0.4554 - val_f1: 0.2422 - val_precision: 0.5829 - val_recall: 0.1531\n",
            "Epoch 3/30\n",
            "52/52 [==============================] - 59s 1s/step - loss: 1.1340 - accuracy: 0.4678 - f1: 0.2723 - precision: 0.6112 - recall: 0.1759 - val_loss: 1.1388 - val_accuracy: 0.4640 - val_f1: 0.3107 - val_precision: 0.5725 - val_recall: 0.2135\n",
            "Epoch 4/30\n",
            "52/52 [==============================] - 58s 1s/step - loss: 1.1124 - accuracy: 0.4868 - f1: 0.3140 - precision: 0.6293 - recall: 0.2098 - val_loss: 1.1216 - val_accuracy: 0.4757 - val_f1: 0.3306 - val_precision: 0.5882 - val_recall: 0.2303\n",
            "Epoch 5/30\n",
            "52/52 [==============================] - 59s 1s/step - loss: 1.1024 - accuracy: 0.4957 - f1: 0.3253 - precision: 0.6298 - recall: 0.2197 - val_loss: 1.1154 - val_accuracy: 0.4809 - val_f1: 0.3357 - val_precision: 0.5921 - val_recall: 0.2346\n",
            "Epoch 6/30\n",
            "52/52 [==============================] - 59s 1s/step - loss: 1.0927 - accuracy: 0.5033 - f1: 0.3367 - precision: 0.6400 - recall: 0.2286 - val_loss: 1.1181 - val_accuracy: 0.4842 - val_f1: 0.3347 - val_precision: 0.5860 - val_recall: 0.2346\n",
            "Epoch 7/30\n",
            "52/52 [==============================] - 59s 1s/step - loss: 1.0819 - accuracy: 0.5042 - f1: 0.3462 - precision: 0.6415 - recall: 0.2375 - val_loss: 1.1153 - val_accuracy: 0.4845 - val_f1: 0.3468 - val_precision: 0.5843 - val_recall: 0.2468\n",
            "Epoch 8/30\n",
            "52/52 [==============================] - 59s 1s/step - loss: 1.0702 - accuracy: 0.5122 - f1: 0.3681 - precision: 0.6472 - recall: 0.2576 - val_loss: 1.1079 - val_accuracy: 0.4906 - val_f1: 0.3553 - val_precision: 0.5933 - val_recall: 0.2538\n",
            "Epoch 9/30\n",
            "52/52 [==============================] - 58s 1s/step - loss: 1.0649 - accuracy: 0.5144 - f1: 0.3752 - precision: 0.6486 - recall: 0.2643 - val_loss: 1.1101 - val_accuracy: 0.4926 - val_f1: 0.3564 - val_precision: 0.5816 - val_recall: 0.2571\n",
            "Epoch 10/30\n",
            "52/52 [==============================] - 59s 1s/step - loss: 1.0564 - accuracy: 0.5202 - f1: 0.3855 - precision: 0.6495 - recall: 0.2747 - val_loss: 1.1032 - val_accuracy: 0.4951 - val_f1: 0.3665 - val_precision: 0.5943 - val_recall: 0.2651\n",
            "Epoch 11/30\n",
            "52/52 [==============================] - 59s 1s/step - loss: 1.0456 - accuracy: 0.5302 - f1: 0.3966 - precision: 0.6538 - recall: 0.2850 - val_loss: 1.1012 - val_accuracy: 0.4951 - val_f1: 0.3739 - val_precision: 0.5957 - val_recall: 0.2726\n",
            "Epoch 12/30\n",
            "52/52 [==============================] - 59s 1s/step - loss: 1.0358 - accuracy: 0.5313 - f1: 0.4052 - precision: 0.6553 - recall: 0.2937 - val_loss: 1.1047 - val_accuracy: 0.4963 - val_f1: 0.3792 - val_precision: 0.5876 - val_recall: 0.2802\n",
            "Epoch 13/30\n",
            "52/52 [==============================] - 59s 1s/step - loss: 1.0288 - accuracy: 0.5327 - f1: 0.4167 - precision: 0.6597 - recall: 0.3049 - val_loss: 1.1072 - val_accuracy: 0.4988 - val_f1: 0.3836 - val_precision: 0.5866 - val_recall: 0.2852\n",
            "Epoch 14/30\n",
            "52/52 [==============================] - 59s 1s/step - loss: 1.0193 - accuracy: 0.5397 - f1: 0.4295 - precision: 0.6669 - recall: 0.3173 - val_loss: 1.1003 - val_accuracy: 0.5048 - val_f1: 0.3868 - val_precision: 0.5943 - val_recall: 0.2871\n",
            "Epoch 15/30\n",
            "52/52 [==============================] - 59s 1s/step - loss: 1.0183 - accuracy: 0.5434 - f1: 0.4363 - precision: 0.6717 - recall: 0.3236 - val_loss: 1.1039 - val_accuracy: 0.5065 - val_f1: 0.3879 - val_precision: 0.6008 - val_recall: 0.2868\n",
            "Epoch 16/30\n",
            "52/52 [==============================] - 60s 1s/step - loss: 1.0003 - accuracy: 0.5550 - f1: 0.4529 - precision: 0.6792 - recall: 0.3401 - val_loss: 1.1038 - val_accuracy: 0.5014 - val_f1: 0.3994 - val_precision: 0.6052 - val_recall: 0.2983\n",
            "Epoch 17/30\n",
            "52/52 [==============================] - 59s 1s/step - loss: 0.9897 - accuracy: 0.5625 - f1: 0.4653 - precision: 0.6783 - recall: 0.3546 - val_loss: 1.1072 - val_accuracy: 0.5074 - val_f1: 0.4054 - val_precision: 0.5867 - val_recall: 0.3100\n",
            "Epoch 18/30\n",
            "52/52 [==============================] - 59s 1s/step - loss: 0.9829 - accuracy: 0.5633 - f1: 0.4790 - precision: 0.6787 - recall: 0.3704 - val_loss: 1.1090 - val_accuracy: 0.5066 - val_f1: 0.4156 - val_precision: 0.5912 - val_recall: 0.3206\n",
            "Epoch 19/30\n",
            "52/52 [==============================] - 59s 1s/step - loss: 0.9678 - accuracy: 0.5744 - f1: 0.4915 - precision: 0.6868 - recall: 0.3831 - val_loss: 1.1198 - val_accuracy: 0.5046 - val_f1: 0.4199 - val_precision: 0.5835 - val_recall: 0.3282\n",
            "Epoch 20/30\n",
            "52/52 [==============================] - 59s 1s/step - loss: 0.9600 - accuracy: 0.5770 - f1: 0.5029 - precision: 0.6889 - recall: 0.3966 - val_loss: 1.1182 - val_accuracy: 0.5077 - val_f1: 0.4273 - val_precision: 0.5799 - val_recall: 0.3386\n",
            "Epoch 21/30\n",
            "52/52 [==============================] - 59s 1s/step - loss: 0.9504 - accuracy: 0.5841 - f1: 0.5108 - precision: 0.6919 - recall: 0.4053 - val_loss: 1.1187 - val_accuracy: 0.5138 - val_f1: 0.4287 - val_precision: 0.5859 - val_recall: 0.3383\n",
            "Epoch 22/30\n",
            "52/52 [==============================] - 59s 1s/step - loss: 0.9390 - accuracy: 0.5918 - f1: 0.5165 - precision: 0.6984 - recall: 0.4104 - val_loss: 1.1181 - val_accuracy: 0.5123 - val_f1: 0.4345 - val_precision: 0.5905 - val_recall: 0.3442\n",
            "Epoch 23/30\n",
            "52/52 [==============================] - 59s 1s/step - loss: 0.9251 - accuracy: 0.6016 - f1: 0.5281 - precision: 0.7023 - recall: 0.4237 - val_loss: 1.1240 - val_accuracy: 0.5151 - val_f1: 0.4381 - val_precision: 0.5856 - val_recall: 0.3503\n",
            "Epoch 24/30\n",
            "52/52 [==============================] - 59s 1s/step - loss: 0.9186 - accuracy: 0.6051 - f1: 0.5310 - precision: 0.7039 - recall: 0.4273 - val_loss: 1.1358 - val_accuracy: 0.5115 - val_f1: 0.4355 - val_precision: 0.5857 - val_recall: 0.3468\n",
            "Epoch 25/30\n",
            "52/52 [==============================] - 59s 1s/step - loss: 0.9088 - accuracy: 0.6083 - f1: 0.5440 - precision: 0.7132 - recall: 0.4406 - val_loss: 1.1418 - val_accuracy: 0.5105 - val_f1: 0.4306 - val_precision: 0.5810 - val_recall: 0.3423\n",
            "Epoch 26/30\n",
            "52/52 [==============================] - 59s 1s/step - loss: 0.8924 - accuracy: 0.6172 - f1: 0.5573 - precision: 0.7241 - recall: 0.4539 - val_loss: 1.1402 - val_accuracy: 0.5042 - val_f1: 0.4308 - val_precision: 0.5798 - val_recall: 0.3431\n",
            "Epoch 27/30\n",
            "52/52 [==============================] - 59s 1s/step - loss: 0.8818 - accuracy: 0.6218 - f1: 0.5680 - precision: 0.7199 - recall: 0.4699 - val_loss: 1.1547 - val_accuracy: 0.5008 - val_f1: 0.4209 - val_precision: 0.5733 - val_recall: 0.3328\n",
            "Epoch 28/30\n",
            "52/52 [==============================] - 59s 1s/step - loss: 0.8742 - accuracy: 0.6250 - f1: 0.5672 - precision: 0.7180 - recall: 0.4695 - val_loss: 1.1640 - val_accuracy: 0.4982 - val_f1: 0.4316 - val_precision: 0.5768 - val_recall: 0.3451\n",
            "Epoch 29/30\n",
            "52/52 [==============================] - 58s 1s/step - loss: 0.8569 - accuracy: 0.6378 - f1: 0.5831 - precision: 0.7306 - recall: 0.4860 - val_loss: 1.1743 - val_accuracy: 0.5026 - val_f1: 0.4330 - val_precision: 0.5714 - val_recall: 0.3489\n",
            "Epoch 30/30\n",
            "52/52 [==============================] - 58s 1s/step - loss: 0.8483 - accuracy: 0.6391 - f1: 0.5878 - precision: 0.7293 - recall: 0.4927 - val_loss: 1.2034 - val_accuracy: 0.5034 - val_f1: 0.4406 - val_precision: 0.5633 - val_recall: 0.3622\n",
            "16/16 [==============================] - 10s 655ms/step - loss: 1.1881 - accuracy: 0.5125 - f1: 0.4533 - precision: 0.5777 - recall: 0.3732\n",
            "[1.1881414651870728, 0.512499988079071, 0.4533422589302063, 0.577663779258728, 0.37324997782707214]\n",
            "CBOW_BI\n"
          ],
          "name": "stdout"
        }
      ]
    },
    {
      "cell_type": "code",
      "metadata": {
        "id": "hHMK-RBywE7M",
        "colab": {
          "base_uri": "https://localhost:8080/",
          "height": 1000
        },
        "outputId": "4f533ac6-6d2b-40b3-d42e-36a39798c319"
      },
      "source": [
        "model_glove_bi = tf.keras.Sequential()\r\n",
        "model_glove_bi.add(tf.keras.Input(shape=(Max_input_size,Embedding_size)))\r\n",
        "model_glove_bi.add(tf.keras.layers.Bidirectional(tf.keras.layers.LSTM(64),merge_mode='concat'))\r\n",
        "model_glove_bi.add(tf.keras.layers.Dropout(0.2))\r\n",
        "model_glove_bi.add(tf.keras.layers.Dense(64,activation='relu'))\r\n",
        "model_glove_bi.add(tf.keras.layers.Dropout(0.2))\r\n",
        "model_glove_bi.add(tf.keras.layers.Dense(4, activation='softmax'))\r\n",
        "model_glove_bi.compile(loss='categorical_crossentropy',optimizer='adam', \r\n",
        "                           metrics=['accuracy',f1,precision,recall])\r\n",
        "glove_train_gen=glove_gen(vocab_glove,X_train,y_train,batch_size,Max_input_size,Embedding_size)\r\n",
        "glove_val_gen=glove_gen(vocab_glove,X_val,y_val,batch_size,Max_input_size,Embedding_size)\r\n",
        "history_glove_bi = model_glove_bi.fit_generator(glove_train_gen,validation_data=glove_val_gen,validation_steps=int((len(X_val)/batch_size)+1),steps_per_epoch=int((len(X_train)/batch_size)+1),epochs=epochs)\r\n",
        "history = model_glove_bi.evaluate(x = glove_gen(vocab_glove,X_test,y_test,batch_size,Max_input_size,Embedding_size),steps=int(len(y_test)/batch_size))\r\n",
        "print(history)\r\n",
        "\r\n",
        "result_table[0]=history[1]\r\n",
        "print(\"GLOVE_BI\")"
      ],
      "execution_count": 17,
      "outputs": [
        {
          "output_type": "stream",
          "text": [
            "/usr/local/lib/python3.7/dist-packages/tensorflow/python/keras/engine/training.py:1844: UserWarning: `Model.fit_generator` is deprecated and will be removed in a future version. Please use `Model.fit`, which supports generators.\n",
            "  warnings.warn('`Model.fit_generator` is deprecated and '\n"
          ],
          "name": "stderr"
        },
        {
          "output_type": "stream",
          "text": [
            "Epoch 1/30\n",
            "52/52 [==============================] - 34s 578ms/step - loss: 1.1991 - accuracy: 0.4197 - f1: 0.1311 - precision: 0.4772 - recall: 0.0823 - val_loss: 1.0661 - val_accuracy: 0.5349 - val_f1: 0.4277 - val_precision: 0.6031 - val_recall: 0.3315\n",
            "Epoch 2/30\n",
            "52/52 [==============================] - 29s 550ms/step - loss: 1.0457 - accuracy: 0.5540 - f1: 0.4534 - precision: 0.6394 - recall: 0.3519 - val_loss: 1.0342 - val_accuracy: 0.5531 - val_f1: 0.4756 - val_precision: 0.6301 - val_recall: 0.3822\n",
            "Epoch 3/30\n",
            "52/52 [==============================] - 29s 550ms/step - loss: 1.0112 - accuracy: 0.5670 - f1: 0.4928 - precision: 0.6584 - recall: 0.3943 - val_loss: 1.0174 - val_accuracy: 0.5585 - val_f1: 0.4951 - val_precision: 0.6271 - val_recall: 0.4092\n",
            "Epoch 4/30\n",
            "52/52 [==============================] - 29s 562ms/step - loss: 0.9819 - accuracy: 0.5855 - f1: 0.5188 - precision: 0.6677 - recall: 0.4246 - val_loss: 0.9951 - val_accuracy: 0.5692 - val_f1: 0.5067 - val_precision: 0.6465 - val_recall: 0.4168\n",
            "Epoch 5/30\n",
            "52/52 [==============================] - 29s 554ms/step - loss: 0.9586 - accuracy: 0.5932 - f1: 0.5334 - precision: 0.6822 - recall: 0.4384 - val_loss: 0.9952 - val_accuracy: 0.5645 - val_f1: 0.5038 - val_precision: 0.6482 - val_recall: 0.4122\n",
            "Epoch 6/30\n",
            "52/52 [==============================] - 28s 549ms/step - loss: 0.9452 - accuracy: 0.5997 - f1: 0.5432 - precision: 0.6890 - recall: 0.4487 - val_loss: 1.0103 - val_accuracy: 0.5568 - val_f1: 0.5082 - val_precision: 0.6370 - val_recall: 0.4229\n",
            "Epoch 7/30\n",
            "52/52 [==============================] - 29s 553ms/step - loss: 0.9345 - accuracy: 0.6050 - f1: 0.5468 - precision: 0.6884 - recall: 0.4540 - val_loss: 1.0120 - val_accuracy: 0.5625 - val_f1: 0.5162 - val_precision: 0.6340 - val_recall: 0.4355\n",
            "Epoch 8/30\n",
            "52/52 [==============================] - 29s 551ms/step - loss: 0.9084 - accuracy: 0.6180 - f1: 0.5683 - precision: 0.7031 - recall: 0.4774 - val_loss: 1.0185 - val_accuracy: 0.5595 - val_f1: 0.5159 - val_precision: 0.6344 - val_recall: 0.4349\n",
            "Epoch 9/30\n",
            "52/52 [==============================] - 28s 548ms/step - loss: 0.8896 - accuracy: 0.6303 - f1: 0.5812 - precision: 0.7111 - recall: 0.4920 - val_loss: 1.0237 - val_accuracy: 0.5572 - val_f1: 0.5130 - val_precision: 0.6298 - val_recall: 0.4329\n",
            "Epoch 10/30\n",
            "52/52 [==============================] - 28s 548ms/step - loss: 0.8801 - accuracy: 0.6319 - f1: 0.5868 - precision: 0.7144 - recall: 0.4985 - val_loss: 1.0373 - val_accuracy: 0.5625 - val_f1: 0.5215 - val_precision: 0.6152 - val_recall: 0.4526\n",
            "Epoch 11/30\n",
            "52/52 [==============================] - 28s 547ms/step - loss: 0.8535 - accuracy: 0.6471 - f1: 0.6062 - precision: 0.7202 - recall: 0.5237 - val_loss: 1.0521 - val_accuracy: 0.5569 - val_f1: 0.5240 - val_precision: 0.6087 - val_recall: 0.4602\n",
            "Epoch 12/30\n",
            "52/52 [==============================] - 28s 543ms/step - loss: 0.8279 - accuracy: 0.6619 - f1: 0.6250 - precision: 0.7309 - recall: 0.5463 - val_loss: 1.0901 - val_accuracy: 0.5552 - val_f1: 0.5260 - val_precision: 0.6053 - val_recall: 0.4652\n",
            "Epoch 13/30\n",
            "52/52 [==============================] - 28s 547ms/step - loss: 0.8131 - accuracy: 0.6673 - f1: 0.6346 - precision: 0.7356 - recall: 0.5585 - val_loss: 1.1690 - val_accuracy: 0.5423 - val_f1: 0.5207 - val_precision: 0.5830 - val_recall: 0.4706\n",
            "Epoch 14/30\n",
            "52/52 [==============================] - 28s 547ms/step - loss: 0.7938 - accuracy: 0.6808 - f1: 0.6511 - precision: 0.7466 - recall: 0.5778 - val_loss: 1.1761 - val_accuracy: 0.5422 - val_f1: 0.5226 - val_precision: 0.5778 - val_recall: 0.4771\n",
            "Epoch 15/30\n",
            "52/52 [==============================] - 29s 550ms/step - loss: 0.7707 - accuracy: 0.6854 - f1: 0.6609 - precision: 0.7496 - recall: 0.5917 - val_loss: 1.1464 - val_accuracy: 0.5472 - val_f1: 0.5208 - val_precision: 0.5872 - val_recall: 0.4682\n",
            "Epoch 16/30\n",
            "52/52 [==============================] - 29s 554ms/step - loss: 0.7612 - accuracy: 0.6903 - f1: 0.6665 - precision: 0.7531 - recall: 0.5984 - val_loss: 1.0779 - val_accuracy: 0.5582 - val_f1: 0.5274 - val_precision: 0.6014 - val_recall: 0.4697\n",
            "Epoch 17/30\n",
            "52/52 [==============================] - 28s 549ms/step - loss: 0.7739 - accuracy: 0.6831 - f1: 0.6591 - precision: 0.7431 - recall: 0.5925 - val_loss: 1.2210 - val_accuracy: 0.5398 - val_f1: 0.5255 - val_precision: 0.5649 - val_recall: 0.4914\n",
            "Epoch 18/30\n",
            "52/52 [==============================] - 28s 549ms/step - loss: 0.7414 - accuracy: 0.6992 - f1: 0.6801 - precision: 0.7566 - recall: 0.6184 - val_loss: 1.1304 - val_accuracy: 0.5522 - val_f1: 0.5276 - val_precision: 0.5891 - val_recall: 0.4778\n",
            "Epoch 19/30\n",
            "52/52 [==============================] - 28s 546ms/step - loss: 0.7079 - accuracy: 0.7170 - f1: 0.6969 - precision: 0.7691 - recall: 0.6376 - val_loss: 1.1886 - val_accuracy: 0.5415 - val_f1: 0.5249 - val_precision: 0.5765 - val_recall: 0.4818\n",
            "Epoch 20/30\n",
            "52/52 [==============================] - 29s 549ms/step - loss: 0.6830 - accuracy: 0.7267 - f1: 0.7102 - precision: 0.7770 - recall: 0.6545 - val_loss: 1.2628 - val_accuracy: 0.5417 - val_f1: 0.5281 - val_precision: 0.5652 - val_recall: 0.4955\n",
            "Epoch 21/30\n",
            "52/52 [==============================] - 29s 552ms/step - loss: 0.6514 - accuracy: 0.7462 - f1: 0.7313 - precision: 0.7902 - recall: 0.6810 - val_loss: 1.2786 - val_accuracy: 0.5346 - val_f1: 0.5180 - val_precision: 0.5602 - val_recall: 0.4817\n",
            "Epoch 22/30\n",
            "52/52 [==============================] - 29s 551ms/step - loss: 0.6434 - accuracy: 0.7426 - f1: 0.7294 - precision: 0.7852 - recall: 0.6814 - val_loss: 1.2865 - val_accuracy: 0.5426 - val_f1: 0.5242 - val_precision: 0.5630 - val_recall: 0.4905\n",
            "Epoch 23/30\n",
            "52/52 [==============================] - 29s 550ms/step - loss: 0.6181 - accuracy: 0.7550 - f1: 0.7449 - precision: 0.7971 - recall: 0.6995 - val_loss: 1.2788 - val_accuracy: 0.5411 - val_f1: 0.5234 - val_precision: 0.5663 - val_recall: 0.4866\n",
            "Epoch 24/30\n",
            "52/52 [==============================] - 28s 545ms/step - loss: 0.6082 - accuracy: 0.7606 - f1: 0.7467 - precision: 0.7989 - recall: 0.7013 - val_loss: 1.2957 - val_accuracy: 0.5355 - val_f1: 0.5190 - val_precision: 0.5661 - val_recall: 0.4792\n",
            "Epoch 25/30\n",
            "52/52 [==============================] - 28s 546ms/step - loss: 0.6599 - accuracy: 0.7334 - f1: 0.7211 - precision: 0.7804 - recall: 0.6707 - val_loss: 1.2167 - val_accuracy: 0.5285 - val_f1: 0.5072 - val_precision: 0.5673 - val_recall: 0.4588\n",
            "Epoch 26/30\n",
            "52/52 [==============================] - 29s 552ms/step - loss: 0.6287 - accuracy: 0.7471 - f1: 0.7357 - precision: 0.7878 - recall: 0.6904 - val_loss: 1.2925 - val_accuracy: 0.5438 - val_f1: 0.5300 - val_precision: 0.5681 - val_recall: 0.4968\n",
            "Epoch 27/30\n",
            "52/52 [==============================] - 29s 560ms/step - loss: 0.5911 - accuracy: 0.7697 - f1: 0.7630 - precision: 0.8065 - recall: 0.7242 - val_loss: 1.3080 - val_accuracy: 0.5325 - val_f1: 0.5200 - val_precision: 0.5552 - val_recall: 0.4891\n",
            "Epoch 28/30\n",
            "52/52 [==============================] - 29s 552ms/step - loss: 0.5750 - accuracy: 0.7737 - f1: 0.7680 - precision: 0.8088 - recall: 0.7315 - val_loss: 1.3385 - val_accuracy: 0.5378 - val_f1: 0.5242 - val_precision: 0.5587 - val_recall: 0.4937\n",
            "Epoch 29/30\n",
            "52/52 [==============================] - 29s 553ms/step - loss: 0.5290 - accuracy: 0.7983 - f1: 0.7944 - precision: 0.8317 - recall: 0.7605 - val_loss: 1.3952 - val_accuracy: 0.5302 - val_f1: 0.5166 - val_precision: 0.5522 - val_recall: 0.4854\n",
            "Epoch 30/30\n",
            "52/52 [==============================] - 28s 546ms/step - loss: 0.5097 - accuracy: 0.8068 - f1: 0.8009 - precision: 0.8379 - recall: 0.7672 - val_loss: 1.4421 - val_accuracy: 0.5228 - val_f1: 0.5076 - val_precision: 0.5435 - val_recall: 0.4763\n",
            "16/16 [==============================] - 4s 240ms/step - loss: 1.3984 - accuracy: 0.5415 - f1: 0.5256 - precision: 0.5617 - recall: 0.4939\n",
            "[1.3984466791152954, 0.5414999723434448, 0.5255644917488098, 0.5616584420204163, 0.4938749670982361]\n"
          ],
          "name": "stdout"
        },
        {
          "output_type": "error",
          "ename": "IndexError",
          "evalue": "ignored",
          "traceback": [
            "\u001b[0;31m---------------------------------------------------------------------------\u001b[0m",
            "\u001b[0;31mIndexError\u001b[0m                                Traceback (most recent call last)",
            "\u001b[0;32m<ipython-input-17-229643d6b878>\u001b[0m in \u001b[0;36m<module>\u001b[0;34m()\u001b[0m\n\u001b[1;32m     14\u001b[0m \u001b[0mprint\u001b[0m\u001b[0;34m(\u001b[0m\u001b[0mhistory\u001b[0m\u001b[0;34m)\u001b[0m\u001b[0;34m\u001b[0m\u001b[0;34m\u001b[0m\u001b[0m\n\u001b[1;32m     15\u001b[0m \u001b[0;34m\u001b[0m\u001b[0m\n\u001b[0;32m---> 16\u001b[0;31m \u001b[0mresult_table\u001b[0m\u001b[0;34m[\u001b[0m\u001b[0;36m3\u001b[0m\u001b[0;34m]\u001b[0m\u001b[0;34m=\u001b[0m\u001b[0mhistory\u001b[0m\u001b[0;34m[\u001b[0m\u001b[0;36m1\u001b[0m\u001b[0;34m]\u001b[0m\u001b[0;34m\u001b[0m\u001b[0;34m\u001b[0m\u001b[0m\n\u001b[0m\u001b[1;32m     17\u001b[0m \u001b[0mprint\u001b[0m\u001b[0;34m(\u001b[0m\u001b[0;34m\"GLOVE_BI\"\u001b[0m\u001b[0;34m)\u001b[0m\u001b[0;34m\u001b[0m\u001b[0;34m\u001b[0m\u001b[0m\n",
            "\u001b[0;31mIndexError\u001b[0m: list assignment index out of range"
          ]
        }
      ]
    },
    {
      "cell_type": "code",
      "metadata": {
        "id": "1UrOK83UwE4Z",
        "colab": {
          "base_uri": "https://localhost:8080/"
        },
        "outputId": "4a7e1f5c-5e79-4304-bd82-336efa955735"
      },
      "source": [
        "result_table[0]=history[1]\r\n",
        "print(\"GLOVE_BI\")"
      ],
      "execution_count": 18,
      "outputs": [
        {
          "output_type": "stream",
          "text": [
            "GLOVE_BI\n"
          ],
          "name": "stdout"
        }
      ]
    },
    {
      "cell_type": "code",
      "metadata": {
        "id": "iqyDJQt3v2mQ"
      },
      "source": [
        ""
      ],
      "execution_count": 22,
      "outputs": []
    },
    {
      "cell_type": "code",
      "metadata": {
        "id": "QNRddGTHv2jR"
      },
      "source": [
        ""
      ],
      "execution_count": 22,
      "outputs": []
    },
    {
      "cell_type": "code",
      "metadata": {
        "id": "YDaMTRZ7v2g7"
      },
      "source": [
        "\r\n"
      ],
      "execution_count": 22,
      "outputs": []
    },
    {
      "cell_type": "code",
      "metadata": {
        "id": "TPBMUSdWvuvN"
      },
      "source": [
        ""
      ],
      "execution_count": 22,
      "outputs": []
    },
    {
      "cell_type": "code",
      "metadata": {
        "id": "v_edXJqewY7p"
      },
      "source": [
        ""
      ],
      "execution_count": 22,
      "outputs": []
    },
    {
      "cell_type": "code",
      "metadata": {
        "id": "-CGeJPeZwY3d",
        "colab": {
          "base_uri": "https://localhost:8080/"
        },
        "outputId": "e3e3e15d-d924-41c5-f98e-120a65cbcabb"
      },
      "source": [
        "#print(\"\\tLstm\\t\\t\\tBiLstm\\t\\t\\tRnn\")\r\n",
        "print(\"glove\",result_table[:1])\r\n",
        "print(\"cbow\",result_table[1:2])\r\n",
        "print(\"sg\",result_table[2:3])\r\n",
        "# print(history_sg_bi.history)\r\n",
        "# plt.title(\"Skip-Gram + Bi-LSTM accuracy, loss vs epochs Graph\")\r\n",
        "# plt.plot(history_sg_bi.history['loss'],c='b',label='loss')\r\n",
        "# plt.plot(history_sg_bi.history['accuracy'],c='r',label='accuracy')\r\n",
        "# plt.xlabel('epochs')\r\n",
        "# plt.legend()\r\n",
        "# # plt.yticks()\r\n",
        "# plt.show()\r\n",
        "# plt.title(\"GloVe + Bi-LSTM accuracy, loss vs epochs Graph\")\r\n",
        "# plt.plot(history_glove_bi.history['loss'],c='b',label='loss')\r\n",
        "# plt.plot(history_glove_bi.history['accuracy'],c='r',label='accuracy')\r\n",
        "# plt.xlabel('epochs')\r\n",
        "# plt.legend()\r\n",
        "# # plt.yticks()\r\n",
        "# plt.show()"
      ],
      "execution_count": 23,
      "outputs": [
        {
          "output_type": "stream",
          "text": [
            "glove [0.5414999723434448]\n",
            "cbow [0.512499988079071]\n",
            "sg [0.5048750042915344]\n"
          ],
          "name": "stdout"
        }
      ]
    },
    {
      "cell_type": "code",
      "metadata": {
        "id": "o6YWN3P2wba7"
      },
      "source": [
        ""
      ],
      "execution_count": null,
      "outputs": []
    }
  ]
}