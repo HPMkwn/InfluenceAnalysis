{
  "nbformat": 4,
  "nbformat_minor": 0,
  "metadata": {
    "colab": {
      "name": "Word2VecSkipGram.ipynb",
      "provenance": [],
      "authorship_tag": "ABX9TyMOH90P7eAqTiuW4L5vxVHa",
      "include_colab_link": true
    },
    "kernelspec": {
      "name": "python3",
      "display_name": "Python 3"
    },
    "accelerator": "GPU"
  },
  "cells": [
    {
      "cell_type": "markdown",
      "metadata": {
        "id": "view-in-github",
        "colab_type": "text"
      },
      "source": [
        "<a href=\"https://colab.research.google.com/github/harrymkwn/InfluenceAnalysis/blob/master/Word2VecSkipGram.ipynb\" target=\"_parent\"><img src=\"https://colab.research.google.com/assets/colab-badge.svg\" alt=\"Open In Colab\"/></a>"
      ]
    },
    {
      "cell_type": "code",
      "metadata": {
        "id": "59gh-dKacc5I",
        "outputId": "e455775e-5526-4b83-ac1e-a1f124c63256",
        "colab": {
          "base_uri": "https://localhost:8080/",
          "height": 51
        }
      },
      "source": [
        "import pandas as pd\n",
        "import numpy as np\n",
        "import tensorflow as tf\n",
        "from tensorflow import keras\n",
        "import matplotlib.pyplot as plt\n",
        "from google.colab import  drive\n",
        "drive.mount('/content/drive')\n",
        "\n",
        "device_name = tf.test.gpu_device_name()\n",
        "print(device_name)\n",
        "df_train = pd.read_csv('/content/drive/My Drive/InfluenceAnalysis/Data/Train/clean_all_train.csv')\n",
        "\n",
        "def generate_dictionary_data(text):\n",
        "  word_to_index= dict()\n",
        "  index_to_word = dict()\n",
        "  corpus = []\n",
        "  count = 0\n",
        "  vocab_size = 0    \n",
        "  for row in text:\n",
        "    for word in row.split():\n",
        "      corpus.append(word)\n",
        "      if word_to_index.get(word) == None:\n",
        "        word_to_index.update ( {word : count})\n",
        "        index_to_word.update ( {count : word })\n",
        "        count  += 1\n",
        "      vocab_size = len(word_to_index)\n",
        "      length_of_corpus = len(corpus)\n",
        "  return word_to_index,index_to_word,corpus,vocab_size,length_of_corpus\n",
        "\n",
        "def get_one_hot_vectors(target_word,context_words,vocab_size,word_to_index):\n",
        "  trgt_word_vector = np.zeros(vocab_size)  \n",
        "  index_of_word_dictionary = word_to_index.get(target_word) \n",
        "  trgt_word_vector[index_of_word_dictionary] = 1  \n",
        "  ctxt_word_vector = np.zeros(vocab_size)\n",
        "  context_num = 1/len(context_words)\n",
        "  for word in context_words:\n",
        "    index_of_word_dictionary = word_to_index.get(word) \n",
        "    ctxt_word_vector[index_of_word_dictionary] = context_num    \n",
        "  return trgt_word_vector,ctxt_word_vector\n",
        "\n",
        "def generate_training_data(corpus,window_size,vocab_size,word_to_index,length_of_corpus,batch_size):\n",
        "  while True:\n",
        "    for k in range(int(length_of_corpus/batch_size)):\n",
        "      training_data_target =  []\n",
        "      training_data_context =  []\n",
        "      for i,word in enumerate(corpus[batch_size*k:min(len(corpus),(batch_size*(k+1)))]):\n",
        "        cor = corpus[batch_size*k:min(len(corpus),(batch_size*(k+1)))]\n",
        "        length_of_cor = len(cor)\n",
        "        index_target_word = i\n",
        "        target_word = word\n",
        "        context_words = []\n",
        "        #when target word is the first word\n",
        "        if i == 0:  \n",
        "          # trgt_word_index:(0), ctxt_word_index:(1,2)\n",
        "          context_words = [cor[x] for x in range(i + 1 , window_size + 1)] \n",
        "        #when target word is the last word\n",
        "        elif i == length_of_cor-1:\n",
        "          # trgt_word_index:(9), ctxt_word_index:(8,7), length_of_corpus = 10\n",
        "          context_words = [cor[x] for x in range(length_of_cor - 2 ,length_of_cor -2 - window_size  , -1 )]\n",
        "        #When target word is the middle word\n",
        "        else:\n",
        "          #Before the middle target word\n",
        "          before_target_word_index = index_target_word - 1\n",
        "          for x in range(before_target_word_index, before_target_word_index - window_size , -1):\n",
        "            if x >=0:\n",
        "              context_words.extend([cor[x]])\n",
        "          #After the middle target word\n",
        "          after_target_word_index = index_target_word + 1\n",
        "          for x in range(after_target_word_index, after_target_word_index + window_size):\n",
        "            if x < length_of_cor:\n",
        "              context_words.extend([cor[x]])\n",
        "        trgt_word_vector,ctxt_word_vector = get_one_hot_vectors(target_word,context_words,vocab_size,word_to_index)\n",
        "        training_data_target.append(trgt_word_vector)\n",
        "        training_data_context.append(ctxt_word_vector)\n",
        "      yield (np.array(training_data_target),np.array(training_data_context))\n",
        "      del training_data_target\n",
        "      del training_data_context\n",
        "\n",
        "\n",
        "def calculate_loss(actual,predicted):\n",
        "  sum_1 = tf.math.reduce_sum((tf.math.multiply(actual,predicted)))\n",
        "  sum_2 = tf.math.multiply(tf.math.reduce_sum(actual),tf.math.log(tf.math.reduce_sum(tf.math.exp(predicted))))\n",
        "  return tf.math.subtract(sum_2,sum_1)"
      ],
      "execution_count": null,
      "outputs": [
        {
          "output_type": "stream",
          "text": [
            "Drive already mounted at /content/drive; to attempt to forcibly remount, call drive.mount(\"/content/drive\", force_remount=True).\n",
            "/device:GPU:0\n"
          ],
          "name": "stdout"
        }
      ]
    },
    {
      "cell_type": "code",
      "metadata": {
        "id": "Jy92onhScdjf",
        "outputId": "796ca265-f7bd-4c8a-de1e-7cafb5bc8868",
        "colab": {
          "base_uri": "https://localhost:8080/",
          "height": 51
        }
      },
      "source": [
        "#\n",
        "epochs_num = 10\n",
        "window_size = 4\n",
        "embedding_dimensions = 256\n",
        "batch_size = 8\n",
        "#\n",
        "word_to_index,index_to_word,corpus,vocab_size,length_of_corpus = generate_dictionary_data(df_train['Tweets'])\n",
        "print(vocab_size)\n",
        "print(len(corpus))"
      ],
      "execution_count": null,
      "outputs": [
        {
          "output_type": "stream",
          "text": [
            "10220\n",
            "58800\n"
          ],
          "name": "stdout"
        }
      ]
    },
    {
      "cell_type": "code",
      "metadata": {
        "id": "rOZKUZLOdHLr",
        "outputId": "5f9b1495-28cb-4ea9-eb38-8902712b7ff3",
        "colab": {
          "base_uri": "https://localhost:8080/",
          "height": 958
        }
      },
      "source": [
        "model = keras.Sequential([keras.layers.Dense(embedding_dimensions),\n",
        "                          keras.layers.Dense(vocab_size,activation = 'softmax')])\n",
        "model.compile(optimizer = \"adam\", loss = calculate_loss,metrics=[\"accuracy\"])\n",
        "history = model.fit(x = generate_training_data(corpus,window_size,vocab_size,word_to_index,length_of_corpus,batch_size),steps_per_epoch=int(length_of_corpus/batch_size),epochs = epochs_num)\n",
        "hist = pd.DataFrame(history.history)\n",
        "print(hist.head())\n",
        "plt.figure()\n",
        "plt.plot(hist['loss'],c='r')\n",
        "plt.legend(['loss'])\n",
        "plt.show()\n",
        "plt.plot(hist['accuracy'],c='b')\n",
        "plt.legend(['accuracy'])\n",
        "plt.show()"
      ],
      "execution_count": null,
      "outputs": [
        {
          "output_type": "stream",
          "text": [
            "Epoch 1/10\n",
            "7350/7350 [==============================] - 33s 5ms/step - loss: 89.3167 - accuracy: 0.1358\n",
            "Epoch 2/10\n",
            "7350/7350 [==============================] - 34s 5ms/step - loss: 89.2681 - accuracy: 0.1630\n",
            "Epoch 3/10\n",
            "7350/7350 [==============================] - 33s 5ms/step - loss: 89.2198 - accuracy: 0.1889\n",
            "Epoch 4/10\n",
            "7350/7350 [==============================] - 33s 5ms/step - loss: 89.1746 - accuracy: 0.2101\n",
            "Epoch 5/10\n",
            "7350/7350 [==============================] - 33s 5ms/step - loss: 89.1489 - accuracy: 0.2180\n",
            "Epoch 6/10\n",
            "7350/7350 [==============================] - 34s 5ms/step - loss: 89.1305 - accuracy: 0.2237\n",
            "Epoch 7/10\n",
            "7350/7350 [==============================] - 35s 5ms/step - loss: 89.1224 - accuracy: 0.2251\n",
            "Epoch 8/10\n",
            "7350/7350 [==============================] - 34s 5ms/step - loss: 89.1195 - accuracy: 0.2248\n",
            "Epoch 9/10\n",
            "7350/7350 [==============================] - 34s 5ms/step - loss: 89.1199 - accuracy: 0.2230\n",
            "Epoch 10/10\n",
            "7350/7350 [==============================] - 34s 5ms/step - loss: 89.1187 - accuracy: 0.2214\n",
            "        loss  accuracy\n",
            "0  89.316727  0.135816\n",
            "1  89.268120  0.162976\n",
            "2  89.219757  0.188912\n",
            "3  89.174614  0.210119\n",
            "4  89.148872  0.218044\n"
          ],
          "name": "stdout"
        },
        {
          "output_type": "display_data",
          "data": {
            "image/png": "[encoded data removed]",
            "text/plain": [
              "<Figure size 432x288 with 1 Axes>"
            ]
          },
          "metadata": {
            "tags": [],
            "needs_background": "light"
          }
        },
        {
          "output_type": "display_data",
          "data": {
            "image/png": "[encoded data removed]",
            "text/plain": [
              "<Figure size 432x288 with 1 Axes>"
            ]
          },
          "metadata": {
            "tags": [],
            "needs_background": "light"
          }
        }
      ]
    },
    {
      "cell_type": "code",
      "metadata": {
        "id": "HxzYpxh2ZbCY"
      },
      "source": [
        "def make_dict(index_to_word,weight_matrix):\n",
        "  dict = {}\n",
        "  for index,i in enumerate(weight_matrix):\n",
        "    dict[index_to_word[index]] = i\n",
        "  return dict\n",
        "dict = make_dict(index_to_word,model.get_weights()[0])\n"
      ],
      "execution_count": null,
      "outputs": []
    },
    {
      "cell_type": "code",
      "metadata": {
        "id": "cdZXaP60SE_m"
      },
      "source": [
        "df = pd.DataFrame.from_dict(dict, orient=\"index\")\n",
        "df.to_csv(\"/content/drive/My Drive/InfluenceAnalysis/Word2VecSG/Dictionary.csv\")"
      ],
      "execution_count": null,
      "outputs": []
    },
    {
      "cell_type": "code",
      "metadata": {
        "id": "CU5mU-lObiCr"
      },
      "source": [
        "def find_similar_20(word,dict):\n",
        "  l = []\n",
        "  word_val = {}\n",
        "  if word in dict:\n",
        "    for i in dict:\n",
        "      word_val[i] = sum([x*y for x,y in zip(dict[i],dict[word])])\n",
        "    word_val = {k: v for k, v in sorted(word_val.items(), key=lambda item: item[1],reverse=True)}\n",
        "  c = 0\n",
        "  for i in word_val:\n",
        "    c += 1\n",
        "    if c==21:\n",
        "      break\n",
        "    l.append(i)\n",
        "  return l"
      ],
      "execution_count": null,
      "outputs": []
    },
    {
      "cell_type": "code",
      "metadata": {
        "id": "VSqq9VcadZcC",
        "outputId": "e44fc45a-8470-4a73-c0f6-dcf906da92b6",
        "colab": {
          "base_uri": "https://localhost:8080/",
          "height": 357
        }
      },
      "source": [
        "find_similar_20('car',dict)"
      ],
      "execution_count": null,
      "outputs": [
        {
          "output_type": "execute_result",
          "data": {
            "text/plain": [
              "['Make',\n",
              " 'might',\n",
              " 'guy',\n",
              " 'nightmare',\n",
              " 'terrorist',\n",
              " 'such',\n",
              " 'lot',\n",
              " 'very',\n",
              " 'sleepless',\n",
              " 'terrific',\n",
              " 'blind',\n",
              " 'blowing',\n",
              " 'pitched',\n",
              " 'damp',\n",
              " 'Christianity',\n",
              " 'scream',\n",
              " 'smart',\n",
              " 'status',\n",
              " 'toilet',\n",
              " 'stall']"
            ]
          },
          "metadata": {
            "tags": []
          },
          "execution_count": 7
        }
      ]
    }
  ]
}