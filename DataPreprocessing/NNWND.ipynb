{
  "nbformat": 4,
  "nbformat_minor": 0,
  "metadata": {
    "colab": {
      "name": "AllEmointGen.ipynb",
      "provenance": [],
      "collapsed_sections": [],
      "include_colab_link": true
    },
    "kernelspec": {
      "name": "python3",
      "display_name": "Python 3"
    },
    "accelerator": "GPU"
  },
  "cells": [
    {
      "cell_type": "markdown",
      "metadata": {
        "id": "view-in-github",
        "colab_type": "text"
      },
      "source": [
        "<a href=\"https://colab.research.google.com/github/harrymkwn/InfluenceAnalysis/blob/master/NNWND.ipynb\" target=\"_parent\"><img src=\"https://colab.research.google.com/assets/colab-badge.svg\" alt=\"Open In Colab\"/></a>"
      ]
    },
    {
      "cell_type": "code",
      "metadata": {
        "id": "YkuKKcIUmM27",
        "colab": {
          "base_uri": "https://localhost:8080/"
        },
        "outputId": "9c3a30da-bf0d-407a-9c9d-c1861393ffd6"
      },
      "source": [
        "import pandas as pd\n",
        "import numpy as np\n",
        "import tensorflow as tf\n",
        "from gensim.models import Word2Vec\n",
        "import matplotlib.pyplot as plt\n",
        "from sklearn.linear_model import LogisticRegression\n",
        "from sklearn.multiclass import OneVsRestClassifier\n",
        "from gensim.models import KeyedVectors\n",
        "from sklearn.model_selection import train_test_split\n",
        "from google.colab import  drive\n",
        "drive.mount('/content/drive')\n",
        "import nltk\n",
        "from nltk.corpus import stopwords\n",
        "nltk.download('stopwords')\n",
        "device_name = tf.test.gpu_device_name()\n",
        "print(device_name)\n",
        "df_train = pd.read_csv('/content/drive/MyDrive/InfluenceAnalysis/Newdata/train_clean.csv',names=['Tweet','Emotion'])\n",
        "df_test = pd.read_csv('/content/drive/MyDrive/InfluenceAnalysis/Newdata/test_clean.csv',names=['Tweet','Emotion'])\n",
        "df_train = df.sample(frac=1)\n",
        "df_test = df.sample(frac=1)"
      ],
      "execution_count": 30,
      "outputs": [
        {
          "output_type": "stream",
          "text": [
            "Drive already mounted at /content/drive; to attempt to forcibly remount, call drive.mount(\"/content/drive\", force_remount=True).\n",
            "[nltk_data] Downloading package stopwords to /root/nltk_data...\n",
            "[nltk_data]   Package stopwords is already up-to-date!\n",
            "/device:GPU:0\n"
          ],
          "name": "stdout"
        }
      ]
    },
    {
      "cell_type": "code",
      "metadata": {
        "id": "P0zrtpGceAiE",
        "outputId": "f516cee0-d985-46af-cdc9-390031b798fd",
        "colab": {
          "base_uri": "https://localhost:8080/",
          "height": 419
        }
      },
      "source": [
        "df_train.head(1000)"
      ],
      "execution_count": 31,
      "outputs": [
        {
          "output_type": "execute_result",
          "data": {
            "text/html": [
              "<div>\n",
              "<style scoped>\n",
              "    .dataframe tbody tr th:only-of-type {\n",
              "        vertical-align: middle;\n",
              "    }\n",
              "\n",
              "    .dataframe tbody tr th {\n",
              "        vertical-align: top;\n",
              "    }\n",
              "\n",
              "    .dataframe thead th {\n",
              "        text-align: right;\n",
              "    }\n",
              "</style>\n",
              "<table border=\"1\" class=\"dataframe\">\n",
              "  <thead>\n",
              "    <tr style=\"text-align: right;\">\n",
              "      <th></th>\n",
              "      <th>Tweet</th>\n",
              "      <th>Emotion</th>\n",
              "    </tr>\n",
              "  </thead>\n",
              "  <tbody>\n",
              "    <tr>\n",
              "      <th>9459</th>\n",
              "      <td>allergi suck my eye r even mor red than they w...</td>\n",
              "      <td>0</td>\n",
              "    </tr>\n",
              "    <tr>\n",
              "      <th>148</th>\n",
              "      <td>I am at work</td>\n",
              "      <td>1</td>\n",
              "    </tr>\n",
              "    <tr>\n",
              "      <th>5232</th>\n",
              "      <td>sometim i wish i had my own prototyp mentor</td>\n",
              "      <td>1</td>\n",
              "    </tr>\n",
              "    <tr>\n",
              "      <th>5611</th>\n",
              "      <td>saynerd omgg hhaha noo drag me to hell is evvi...</td>\n",
              "      <td>0</td>\n",
              "    </tr>\n",
              "    <tr>\n",
              "      <th>8725</th>\n",
              "      <td>calamitylil can you send out lettersemail to c...</td>\n",
              "      <td>1</td>\n",
              "    </tr>\n",
              "    <tr>\n",
              "      <th>...</th>\n",
              "      <td>...</td>\n",
              "      <td>...</td>\n",
              "    </tr>\n",
              "    <tr>\n",
              "      <th>11362</th>\n",
              "      <td>miqotu oh no that doe not sound good better ge...</td>\n",
              "      <td>1</td>\n",
              "    </tr>\n",
              "    <tr>\n",
              "      <th>726</th>\n",
              "      <td>i cannot sleep thi is so darn frustrat</td>\n",
              "      <td>2</td>\n",
              "    </tr>\n",
              "    <tr>\n",
              "      <th>5726</th>\n",
              "      <td>kmon3i lol well these girl did not and my girl...</td>\n",
              "      <td>2</td>\n",
              "    </tr>\n",
              "    <tr>\n",
              "      <th>6041</th>\n",
              "      <td>well here i go off to work</td>\n",
              "      <td>0</td>\n",
              "    </tr>\n",
              "    <tr>\n",
              "      <th>8684</th>\n",
              "      <td>it so annoy when i want to go see the sat offi...</td>\n",
              "      <td>3</td>\n",
              "    </tr>\n",
              "  </tbody>\n",
              "</table>\n",
              "<p>1000 rows × 2 columns</p>\n",
              "</div>"
            ],
            "text/plain": [
              "                                                   Tweet Emotion\n",
              "9459   allergi suck my eye r even mor red than they w...       0\n",
              "148                                         I am at work       1\n",
              "5232         sometim i wish i had my own prototyp mentor       1\n",
              "5611   saynerd omgg hhaha noo drag me to hell is evvi...       0\n",
              "8725   calamitylil can you send out lettersemail to c...       1\n",
              "...                                                  ...     ...\n",
              "11362  miqotu oh no that doe not sound good better ge...       1\n",
              "726               i cannot sleep thi is so darn frustrat       2\n",
              "5726   kmon3i lol well these girl did not and my girl...       2\n",
              "6041                          well here i go off to work       0\n",
              "8684   it so annoy when i want to go see the sat offi...       3\n",
              "\n",
              "[1000 rows x 2 columns]"
            ]
          },
          "metadata": {
            "tags": []
          },
          "execution_count": 31
        }
      ]
    },
    {
      "cell_type": "code",
      "metadata": {
        "id": "K68sxL_LfLy7",
        "outputId": "f58e5210-b590-42cd-9246-bc1ab9d1d8a3",
        "colab": {
          "base_uri": "https://localhost:8080/"
        }
      },
      "source": [
        "df_test.Emotion.unique()"
      ],
      "execution_count": 32,
      "outputs": [
        {
          "output_type": "execute_result",
          "data": {
            "text/plain": [
              "array(['2', '0', '1', '3', 'emotion'], dtype=object)"
            ]
          },
          "metadata": {
            "tags": []
          },
          "execution_count": 32
        }
      ]
    },
    {
      "cell_type": "code",
      "metadata": {
        "id": "Y9KFGTW2iP8J",
        "outputId": "c7e396db-ce0d-4f91-cbc6-e952fe9d9a29",
        "colab": {
          "base_uri": "https://localhost:8080/"
        }
      },
      "source": [
        "df_train.nunique()"
      ],
      "execution_count": 27,
      "outputs": [
        {
          "output_type": "execute_result",
          "data": {
            "text/plain": [
              "Tweet      12370\n",
              "Emotion        5\n",
              "dtype: int64"
            ]
          },
          "metadata": {
            "tags": []
          },
          "execution_count": 27
        }
      ]
    },
    {
      "cell_type": "code",
      "metadata": {
        "id": "7yV6_xYSnZHt"
      },
      "source": [
        "category_dict = {'0':[1,0,0,0],'1':[0,1,0,0],'2':[0,0,1,0],'3':[0,0,0,1],'emotion':[1,0,0,0]}\n",
        "train_data_tweet = [x.lower().split() for x in df_train['Tweet']]\n",
        "train_data_cat = np.array([category_dict[x] for x in df_train['Emotion']])\n",
        "test_data_tweet = [x.lower().split() for x in df_test['Tweet']]\n",
        "test_data_cat = np.array([category_dict[x] for x in df_test['Emotion']])\n",
        "\n",
        "data_tweet = train_data_tweet + test_data_tweet"
      ],
      "execution_count": 42,
      "outputs": []
    },
    {
      "cell_type": "code",
      "metadata": {
        "id": "4PmA3_Ihp-Ao",
        "colab": {
          "base_uri": "https://localhost:8080/"
        },
        "outputId": "56430616-9870-4a40-9f42-a84e23abf1e4"
      },
      "source": [
        "print(data_tweet[:5])\n",
        "print(data_cat[:5])"
      ],
      "execution_count": 35,
      "outputs": [
        {
          "output_type": "stream",
          "text": [
            "[['allergi', 'suck', 'my', 'eye', 'r', 'even', 'mor', 'red', 'than', 'they', 'were', 'b4', 'i', 'think', 'ill', 'stay', 'insid', '2day'], ['i', 'am', 'at', 'work'], ['sometim', 'i', 'wish', 'i', 'had', 'my', 'own', 'prototyp', 'mentor'], ['saynerd', 'omgg', 'hhaha', 'noo', 'drag', 'me', 'to', 'hell', 'is', 'evviil', 'and', 'angel', 'and', 'demon', 'supposedli', 'suck', 'ohh', 'no', 'haha'], ['calamitylil', 'can', 'you', 'send', 'out', 'lettersemail', 'to', 'client', 'to', 'remind', 'them', 'your', 'there']]\n",
            "[[1 0 0 0]\n",
            " [0 1 0 0]\n",
            " [0 1 0 0]\n",
            " [1 0 0 0]\n",
            " [0 1 0 0]]\n"
          ],
          "name": "stdout"
        }
      ]
    },
    {
      "cell_type": "code",
      "metadata": {
        "id": "5mIV-pI5C44j"
      },
      "source": [
        "# Parameters\n",
        "Min_count = 0\n",
        "Embedding_size = 100\n",
        "Window_size = 5\n",
        "Negative_sampling = 00"
      ],
      "execution_count": 36,
      "outputs": []
    },
    {
      "cell_type": "code",
      "metadata": {
        "id": "uUSBfiE0nTVv",
        "colab": {
          "base_uri": "https://localhost:8080/"
        },
        "outputId": "c71dee92-3337-4589-a971-74961b701afc"
      },
      "source": [
        "w2v_sg = Word2Vec(min_count=Min_count,\n",
        "                     window=Window_size,\n",
        "                     size=Embedding_size,\n",
        "                     negative=Negative_sampling,sg=1)\n",
        "w2v_sg.build_vocab(data_tweet)\n",
        "w2v_sg.train(data_tweet, total_examples=w2v_sg.corpus_count, epochs=5)\n",
        "w2v_cbow = Word2Vec(min_count=Min_count,\n",
        "                     window=Window_size,\n",
        "                     size=Embedding_size,\n",
        "                     negative=Negative_sampling,sg=0)\n",
        "w2v_cbow.build_vocab(data_tweet)\n",
        "w2v_cbow.train(data_tweet, total_examples=w2v_cbow.corpus_count, epochs=5)"
      ],
      "execution_count": 43,
      "outputs": [
        {
          "output_type": "execute_result",
          "data": {
            "text/plain": [
              "(1303276, 1724630)"
            ]
          },
          "metadata": {
            "tags": []
          },
          "execution_count": 43
        }
      ]
    },
    {
      "cell_type": "code",
      "metadata": {
        "id": "gVzquoxb6FQJ"
      },
      "source": [
        "vocab_sg = w2v_sg.wv.vocab\n",
        "vocab_sg = [x for x in vocab_sg]\n",
        "vocab_cbow = w2v_cbow.wv.vocab\n",
        "vocab_cbow = [x for x in vocab_cbow] \n",
        "vocab_glove = {}\n",
        "with open(\"/content/drive/My Drive/InfluenceAnalysis/glove/glove.twitter.27B.100d.txt\", 'r', encoding=\"utf-8\") as f:\n",
        "  for line in f:\n",
        "      values = line.split()\n",
        "      word = values[0]\n",
        "      vector = np.asarray(values[1:], \"float32\")\n",
        "      vocab_glove[word] = vector"
      ],
      "execution_count": 44,
      "outputs": []
    },
    {
      "cell_type": "code",
      "metadata": {
        "id": "rdgSI9FSmw60"
      },
      "source": [
        "batch_size = 100\r\n",
        "Max_input_size = max([len(x) for x in data_tweet])\r\n"
      ],
      "execution_count": 45,
      "outputs": []
    },
    {
      "cell_type": "code",
      "metadata": {
        "id": "ArwAlW-wmZxv"
      },
      "source": [
        "def vec_gen(w2v,vocab,data_tweet,data_cat,batch_size,Max_input_size,Embedding_size):\r\n",
        "  while True:\r\n",
        "    for k in range(int(len(data_tweet)/batch_size)):\r\n",
        "      temp = np.array([np.array([w2v.wv.get_vector(i) for i in x if i in vocab]) for x in data_tweet[k*(batch_size):(k+1)*(batch_size)]])\r\n",
        "      temp = np.array([np.pad(x.flatten(),(0,Max_input_size*Embedding_size-len(x.flatten()))).reshape(Max_input_size,Embedding_size) for x in temp])\r\n",
        "      tempres = data_cat[k*(batch_size):(k+1)*(batch_size)]\r\n",
        "      yield (temp,tempres)\r\n",
        "\r\n",
        "def glove_gen(vocab,data_tweet,data_cat,batch_size,Max_input_size,Embedding_size=100):\r\n",
        "  while True:\r\n",
        "    for k in range(int(len(data_tweet)/batch_size)):\r\n",
        "      temp = np.array([np.array([vocab[i] for i in x if i in vocab.keys()]) for x in data_tweet[k*(batch_size):(k+1)*(batch_size)]])\r\n",
        "      temp = np.array([np.pad(x.flatten(),(0,Max_input_size*Embedding_size-len(x.flatten()))).reshape(Max_input_size,Embedding_size) for x in temp])\r\n",
        "      tempres = data_cat[k*(batch_size):(k+1)*(batch_size)]\r\n",
        "      yield (temp,tempres)\r\n"
      ],
      "execution_count": 46,
      "outputs": []
    },
    {
      "cell_type": "code",
      "metadata": {
        "id": "-Fue2npdFINi"
      },
      "source": [
        "X_train = train_data_tweet\n",
        "X_test = test_data_tweet\n",
        "y_train = train_data_cat\n",
        "y_test = test_data_cat \n",
        "result_table = []"
      ],
      "execution_count": 48,
      "outputs": []
    },
    {
      "cell_type": "code",
      "metadata": {
        "id": "0leTuTOb3naL"
      },
      "source": [
        "epochs = 20"
      ],
      "execution_count": 49,
      "outputs": []
    },
    {
      "cell_type": "code",
      "metadata": {
        "id": "1GfgXfAFlD1J",
        "colab": {
          "base_uri": "https://localhost:8080/"
        },
        "outputId": "cba33731-df82-4b19-f6bf-5d9dbf0c5d1c"
      },
      "source": [
        "model_sg = tf.keras.Sequential()\n",
        "model_sg.add(tf.keras.Input(shape=(Max_input_size,Embedding_size)))\n",
        "model_sg.add(tf.keras.layers.LSTM(50))\n",
        "model_sg.add(tf.keras.layers.Dense(4, activation='softmax'))\n",
        "model_sg.compile(loss='categorical_crossentropy',optimizer='adam', \n",
        "                           metrics=['accuracy'])\n",
        "history = model_sg.fit_generator(generator = vec_gen(w2v_sg,vocab_sg,X_train,y_train,batch_size,Max_input_size,Embedding_size),steps_per_epoch=int(len(X_train)/batch_size),epochs=epochs)\n",
        "history = model_sg.evaluate(x = vec_gen(w2v_sg,vocab_sg,X_test,y_test,batch_size,Max_input_size,Embedding_size),steps=int(len(y_test)/batch_size))\n",
        "print(history)\n",
        "\n",
        "result_table+=[history[1]]\n",
        "print(\"SG_LSTM\")\n"
      ],
      "execution_count": 50,
      "outputs": [
        {
          "output_type": "stream",
          "text": [
            "WARNING:tensorflow:From <ipython-input-50-7d1045bb60da>:7: Model.fit_generator (from tensorflow.python.keras.engine.training) is deprecated and will be removed in a future version.\n",
            "Instructions for updating:\n",
            "Please use Model.fit, which supports generators.\n",
            "Epoch 1/20\n",
            "124/124 [==============================] - 6s 49ms/step - loss: 1.0481 - accuracy: 0.5820\n",
            "Epoch 2/20\n",
            "124/124 [==============================] - 6s 50ms/step - loss: 0.9874 - accuracy: 0.5852\n",
            "Epoch 3/20\n",
            "124/124 [==============================] - 6s 49ms/step - loss: 0.9873 - accuracy: 0.5852\n",
            "Epoch 4/20\n",
            "124/124 [==============================] - 6s 48ms/step - loss: 0.9872 - accuracy: 0.5852\n",
            "Epoch 5/20\n",
            "124/124 [==============================] - 6s 49ms/step - loss: 0.9871 - accuracy: 0.5852\n",
            "Epoch 6/20\n",
            "124/124 [==============================] - 6s 49ms/step - loss: 0.9870 - accuracy: 0.5852\n",
            "Epoch 7/20\n",
            "124/124 [==============================] - 6s 51ms/step - loss: 0.9869 - accuracy: 0.5852\n",
            "Epoch 8/20\n",
            "124/124 [==============================] - 6s 49ms/step - loss: 0.9868 - accuracy: 0.5852\n",
            "Epoch 9/20\n",
            "124/124 [==============================] - 6s 48ms/step - loss: 0.9864 - accuracy: 0.5852\n",
            "Epoch 10/20\n",
            "124/124 [==============================] - 6s 51ms/step - loss: 0.9853 - accuracy: 0.5852\n",
            "Epoch 11/20\n",
            "124/124 [==============================] - 6s 52ms/step - loss: 0.9835 - accuracy: 0.5852\n",
            "Epoch 12/20\n",
            "124/124 [==============================] - 6s 48ms/step - loss: 0.9832 - accuracy: 0.5852\n",
            "Epoch 13/20\n",
            "124/124 [==============================] - 6s 47ms/step - loss: 0.9822 - accuracy: 0.5852\n",
            "Epoch 14/20\n",
            "124/124 [==============================] - 6s 47ms/step - loss: 0.9842 - accuracy: 0.5852\n",
            "Epoch 15/20\n",
            "124/124 [==============================] - 6s 47ms/step - loss: 0.9800 - accuracy: 0.5852\n",
            "Epoch 16/20\n",
            "124/124 [==============================] - 6s 47ms/step - loss: 0.9793 - accuracy: 0.5852\n",
            "Epoch 17/20\n",
            "124/124 [==============================] - 6s 47ms/step - loss: 0.9784 - accuracy: 0.5852\n",
            "Epoch 18/20\n",
            "124/124 [==============================] - 6s 47ms/step - loss: 0.9773 - accuracy: 0.5852\n",
            "Epoch 19/20\n",
            "124/124 [==============================] - 6s 48ms/step - loss: 0.9756 - accuracy: 0.5852\n",
            "Epoch 20/20\n",
            "124/124 [==============================] - 6s 47ms/step - loss: 0.9753 - accuracy: 0.5856\n",
            "  2/124 [..............................] - ETA: 3s - loss: 0.9103 - accuracy: 0.6450WARNING:tensorflow:Callbacks method `on_test_batch_end` is slow compared to the batch time (batch time: 0.0100s vs `on_test_batch_end` time: 0.0496s). Check your callbacks.\n",
            "124/124 [==============================] - 6s 49ms/step - loss: 0.9712 - accuracy: 0.5854\n",
            "[0.9711756706237793, 0.5854032039642334]\n",
            "SG_LSTM\n"
          ],
          "name": "stdout"
        }
      ]
    },
    {
      "cell_type": "code",
      "metadata": {
        "colab": {
          "base_uri": "https://localhost:8080/"
        },
        "id": "eJHtKjzc1SA8",
        "outputId": "6c116aa8-ad6c-4acd-ddde-1682f291d806"
      },
      "source": [
        "model_sg_bi = tf.keras.Sequential()\r\n",
        "model_sg_bi.add(tf.keras.Input(shape=(Max_input_size,Embedding_size)))\r\n",
        "model_sg_bi.add(tf.keras.layers.Bidirectional(tf.keras.layers.LSTM(50),merge_mode='concat'))\r\n",
        "model_sg_bi.add(tf.keras.layers.Dense(4, activation='softmax'))\r\n",
        "model_sg_bi.compile(loss='categorical_crossentropy',optimizer='adam', \r\n",
        "                           metrics=['accuracy'])\r\n",
        "history = model_sg_bi.fit_generator(generator = vec_gen(w2v_sg,vocab_sg,X_train,y_train,batch_size,Max_input_size,Embedding_size),steps_per_epoch=int(len(X_train)/batch_size),epochs=epochs)\r\n",
        "history = model_sg_bi.evaluate(x = vec_gen(w2v_sg,vocab_sg,X_test,y_test,batch_size,Max_input_size,Embedding_size),steps=int(len(y_test)/batch_size))\r\n",
        "print(history)\r\n",
        "\r\n",
        "result_table+=[history[1]]\r\n",
        "print(\"SG_BI\")"
      ],
      "execution_count": null,
      "outputs": [
        {
          "output_type": "stream",
          "text": [
            "Epoch 1/20\n",
            "49/49 [==============================] - 3s 56ms/step - loss: 1.3772 - accuracy: 0.3171\n",
            "Epoch 2/20\n",
            "49/49 [==============================] - 3s 57ms/step - loss: 1.3744 - accuracy: 0.3182\n",
            "Epoch 3/20\n",
            "49/49 [==============================] - 3s 57ms/step - loss: 1.3741 - accuracy: 0.3182\n",
            "Epoch 4/20\n",
            "49/49 [==============================] - 3s 59ms/step - loss: 1.3739 - accuracy: 0.3182\n",
            "Epoch 5/20\n",
            "49/49 [==============================] - 3s 58ms/step - loss: 1.3736 - accuracy: 0.3182\n",
            "Epoch 6/20\n",
            "49/49 [==============================] - 3s 58ms/step - loss: 1.3732 - accuracy: 0.3182\n",
            "Epoch 7/20\n",
            "49/49 [==============================] - 3s 58ms/step - loss: 1.3724 - accuracy: 0.3182\n",
            "Epoch 8/20\n",
            "49/49 [==============================] - 3s 57ms/step - loss: 1.3717 - accuracy: 0.3190\n",
            "Epoch 9/20\n",
            "49/49 [==============================] - 3s 58ms/step - loss: 1.3720 - accuracy: 0.3233\n",
            "Epoch 10/20\n",
            "49/49 [==============================] - 3s 58ms/step - loss: 1.3708 - accuracy: 0.3202\n",
            "Epoch 11/20\n",
            "49/49 [==============================] - 3s 57ms/step - loss: 1.3686 - accuracy: 0.3182\n",
            "Epoch 12/20\n",
            "49/49 [==============================] - 3s 56ms/step - loss: 1.3660 - accuracy: 0.3208\n",
            "Epoch 13/20\n",
            "49/49 [==============================] - 3s 57ms/step - loss: 1.3770 - accuracy: 0.3239\n",
            "Epoch 14/20\n",
            "49/49 [==============================] - 3s 58ms/step - loss: 1.3665 - accuracy: 0.3239\n",
            "Epoch 15/20\n",
            "49/49 [==============================] - 3s 56ms/step - loss: 1.3646 - accuracy: 0.3231\n",
            "Epoch 16/20\n",
            "49/49 [==============================] - 3s 57ms/step - loss: 1.3628 - accuracy: 0.3243\n",
            "Epoch 17/20\n",
            "49/49 [==============================] - 3s 57ms/step - loss: 1.3602 - accuracy: 0.3288\n",
            "Epoch 18/20\n",
            "49/49 [==============================] - 3s 59ms/step - loss: 1.3558 - accuracy: 0.3333\n",
            "Epoch 19/20\n",
            "49/49 [==============================] - 3s 57ms/step - loss: 1.3490 - accuracy: 0.3408\n",
            "Epoch 20/20\n",
            "49/49 [==============================] - 3s 56ms/step - loss: 1.3449 - accuracy: 0.3504\n",
            " 1/21 [>.............................] - ETA: 0s - loss: 1.3664 - accuracy: 0.3000WARNING:tensorflow:Callbacks method `on_test_batch_end` is slow compared to the batch time (batch time: 0.0170s vs `on_test_batch_end` time: 0.0270s). Check your callbacks.\n",
            "21/21 [==============================] - 1s 51ms/step - loss: 1.3608 - accuracy: 0.3267\n",
            "[1.3608349561691284, 0.3266666531562805]\n",
            "SG_BI\n"
          ],
          "name": "stdout"
        }
      ]
    },
    {
      "cell_type": "code",
      "metadata": {
        "colab": {
          "base_uri": "https://localhost:8080/"
        },
        "id": "opfhhYPH1VoL",
        "outputId": "941634c8-3f19-425c-f3e7-8b67edfae14e"
      },
      "source": [
        "model_sg_rnn = tf.keras.Sequential()\r\n",
        "model_sg_rnn.add(tf.keras.Input(shape=(Max_input_size,Embedding_size)))\r\n",
        "model_sg_rnn.add(tf.keras.layers.SimpleRNN(50))\r\n",
        "model_sg_rnn.add(tf.keras.layers.Dense(4, activation='softmax'))\r\n",
        "model_sg_rnn.compile(loss='categorical_crossentropy',optimizer='adam', \r\n",
        "                           metrics=['accuracy'])\r\n",
        "history = model_sg_rnn.fit_generator(generator = vec_gen(w2v_sg,vocab_sg,X_train,y_train,batch_size,Max_input_size,Embedding_size),steps_per_epoch=int(len(X_train)/batch_size),epochs=epochs)\r\n",
        "history = model_sg_rnn.evaluate(x = vec_gen(w2v_sg,vocab_sg,X_test,y_test,batch_size,Max_input_size,Embedding_size),steps=int(len(y_test)/batch_size))\r\n",
        "print(history)\r\n",
        "\r\n",
        "result_table+=[history[1]]\r\n",
        "print(\"SG_RNN\")"
      ],
      "execution_count": null,
      "outputs": [
        {
          "output_type": "stream",
          "text": [
            "Epoch 1/20\n",
            "49/49 [==============================] - 4s 78ms/step - loss: 1.3781 - accuracy: 0.3061\n",
            "Epoch 2/20\n",
            "49/49 [==============================] - 4s 79ms/step - loss: 1.3705 - accuracy: 0.3165\n",
            "Epoch 3/20\n",
            "49/49 [==============================] - 4s 79ms/step - loss: 1.3691 - accuracy: 0.3235\n",
            "Epoch 4/20\n",
            "49/49 [==============================] - 4s 78ms/step - loss: 1.3728 - accuracy: 0.3139\n",
            "Epoch 5/20\n",
            "49/49 [==============================] - 4s 78ms/step - loss: 1.3621 - accuracy: 0.3282\n",
            "Epoch 6/20\n",
            "49/49 [==============================] - 4s 78ms/step - loss: 1.3610 - accuracy: 0.3310\n",
            "Epoch 7/20\n",
            "49/49 [==============================] - 4s 79ms/step - loss: 1.3612 - accuracy: 0.3261\n",
            "Epoch 8/20\n",
            "49/49 [==============================] - 4s 80ms/step - loss: 1.3566 - accuracy: 0.3363\n",
            "Epoch 9/20\n",
            "49/49 [==============================] - 4s 79ms/step - loss: 1.3470 - accuracy: 0.3439\n",
            "Epoch 10/20\n",
            "49/49 [==============================] - 4s 81ms/step - loss: 1.3497 - accuracy: 0.3388\n",
            "Epoch 11/20\n",
            "49/49 [==============================] - 4s 79ms/step - loss: 1.3553 - accuracy: 0.3367\n",
            "Epoch 12/20\n",
            "49/49 [==============================] - 4s 79ms/step - loss: 1.3442 - accuracy: 0.3429\n",
            "Epoch 13/20\n",
            "49/49 [==============================] - 4s 78ms/step - loss: 1.3402 - accuracy: 0.3480\n",
            "Epoch 14/20\n",
            "49/49 [==============================] - 4s 78ms/step - loss: 1.3499 - accuracy: 0.3498\n",
            "Epoch 15/20\n",
            "49/49 [==============================] - 4s 79ms/step - loss: 1.3412 - accuracy: 0.3602\n",
            "Epoch 16/20\n",
            "49/49 [==============================] - 4s 79ms/step - loss: 1.3369 - accuracy: 0.3639\n",
            "Epoch 17/20\n",
            "49/49 [==============================] - 4s 80ms/step - loss: 1.3318 - accuracy: 0.3653\n",
            "Epoch 18/20\n",
            "49/49 [==============================] - 4s 77ms/step - loss: 1.3485 - accuracy: 0.3463\n",
            "Epoch 19/20\n",
            "49/49 [==============================] - 4s 78ms/step - loss: 1.3424 - accuracy: 0.3535\n",
            "Epoch 20/20\n",
            "49/49 [==============================] - 4s 79ms/step - loss: 1.3332 - accuracy: 0.3661\n",
            " 2/21 [=>............................] - ETA: 0s - loss: 1.3987 - accuracy: 0.3050WARNING:tensorflow:Callbacks method `on_test_batch_end` is slow compared to the batch time (batch time: 0.0158s vs `on_test_batch_end` time: 0.0463s). Check your callbacks.\n",
            "21/21 [==============================] - 1s 56ms/step - loss: 1.3946 - accuracy: 0.3176\n",
            "[1.394570231437683, 0.31761905550956726]\n",
            "SG_RNN\n"
          ],
          "name": "stdout"
        }
      ]
    },
    {
      "cell_type": "code",
      "metadata": {
        "colab": {
          "base_uri": "https://localhost:8080/"
        },
        "id": "YumD1M9Y1Xxr",
        "outputId": "f8f47998-0232-4bf8-90fe-86b853dcfcd0"
      },
      "source": [
        "model_cbow = tf.keras.Sequential()\r\n",
        "model_cbow.add(tf.keras.Input(shape=(Max_input_size,Embedding_size)))\r\n",
        "model_cbow.add(tf.keras.layers.LSTM(50))\r\n",
        "model_cbow.add(tf.keras.layers.Dense(4, activation='softmax'))\r\n",
        "model_cbow.compile(loss='categorical_crossentropy',optimizer='adam', \r\n",
        "                           metrics=['accuracy'])\r\n",
        "history = model_cbow.fit_generator(generator = vec_gen(w2v_cbow,vocab_cbow,X_train,y_train,batch_size,Max_input_size,Embedding_size),steps_per_epoch=int(len(X_train)/batch_size),epochs=epochs)\r\n",
        "history = model_cbow.evaluate(x = vec_gen(w2v_cbow,vocab_cbow,X_test,y_test,batch_size,Max_input_size,Embedding_size),steps=int(len(y_test)/batch_size))\r\n",
        "print(history)\r\n",
        "\r\n",
        "result_table+=[history[1]]\r\n",
        "print(\"CBOW_LSTM\")"
      ],
      "execution_count": null,
      "outputs": [
        {
          "output_type": "stream",
          "text": [
            "Epoch 1/20\n",
            "49/49 [==============================] - 3s 55ms/step - loss: 1.3775 - accuracy: 0.3149\n",
            "Epoch 2/20\n",
            "49/49 [==============================] - 3s 54ms/step - loss: 1.3747 - accuracy: 0.3182\n",
            "Epoch 3/20\n",
            "49/49 [==============================] - 3s 56ms/step - loss: 1.3746 - accuracy: 0.3182\n",
            "Epoch 4/20\n",
            "49/49 [==============================] - 3s 56ms/step - loss: 1.3746 - accuracy: 0.3182\n",
            "Epoch 5/20\n",
            "49/49 [==============================] - 3s 55ms/step - loss: 1.3745 - accuracy: 0.3182\n",
            "Epoch 6/20\n",
            "49/49 [==============================] - 3s 61ms/step - loss: 1.3745 - accuracy: 0.3182\n",
            "Epoch 7/20\n",
            "49/49 [==============================] - 3s 60ms/step - loss: 1.3745 - accuracy: 0.3182\n",
            "Epoch 8/20\n",
            "49/49 [==============================] - 3s 62ms/step - loss: 1.3745 - accuracy: 0.3182\n",
            "Epoch 9/20\n",
            "49/49 [==============================] - 3s 58ms/step - loss: 1.3744 - accuracy: 0.3182\n",
            "Epoch 10/20\n",
            "49/49 [==============================] - 3s 56ms/step - loss: 1.3744 - accuracy: 0.3182\n",
            "Epoch 11/20\n",
            "49/49 [==============================] - 3s 56ms/step - loss: 1.3744 - accuracy: 0.3182\n",
            "Epoch 12/20\n",
            "49/49 [==============================] - 3s 57ms/step - loss: 1.3744 - accuracy: 0.3182\n",
            "Epoch 13/20\n",
            "49/49 [==============================] - 3s 57ms/step - loss: 1.3744 - accuracy: 0.3182\n",
            "Epoch 14/20\n",
            "49/49 [==============================] - 3s 57ms/step - loss: 1.3744 - accuracy: 0.3182\n",
            "Epoch 15/20\n",
            "49/49 [==============================] - 3s 57ms/step - loss: 1.3744 - accuracy: 0.3182\n",
            "Epoch 16/20\n",
            "49/49 [==============================] - 3s 57ms/step - loss: 1.3744 - accuracy: 0.3182\n",
            "Epoch 17/20\n",
            "49/49 [==============================] - 3s 56ms/step - loss: 1.3744 - accuracy: 0.3182\n",
            "Epoch 18/20\n",
            "49/49 [==============================] - 3s 55ms/step - loss: 1.3743 - accuracy: 0.3182\n",
            "Epoch 19/20\n",
            "49/49 [==============================] - 3s 55ms/step - loss: 1.3743 - accuracy: 0.3182\n",
            "Epoch 20/20\n",
            "49/49 [==============================] - 3s 56ms/step - loss: 1.3743 - accuracy: 0.3182\n",
            "21/21 [==============================] - 1s 54ms/step - loss: 1.3738 - accuracy: 0.3186\n",
            "[1.3737937211990356, 0.31857141852378845]\n",
            "CBOW_LSTM\n"
          ],
          "name": "stdout"
        }
      ]
    },
    {
      "cell_type": "code",
      "metadata": {
        "colab": {
          "base_uri": "https://localhost:8080/"
        },
        "id": "01yVMiF41ZtT",
        "outputId": "c2a0f82d-af11-48e1-f9c9-97ff21cde6f2"
      },
      "source": [
        "model_cbow_bi = tf.keras.Sequential()\r\n",
        "model_cbow_bi.add(tf.keras.Input(shape=(Max_input_size,Embedding_size)))\r\n",
        "model_cbow_bi.add(tf.keras.layers.Bidirectional(tf.keras.layers.LSTM(50),merge_mode='concat'))\r\n",
        "model_cbow_bi.add(tf.keras.layers.Dense(4, activation='softmax'))\r\n",
        "model_cbow_bi.compile(loss='categorical_crossentropy',optimizer='adam', \r\n",
        "                           metrics=['accuracy'])\r\n",
        "history = model_cbow_bi.fit_generator(generator = vec_gen(w2v_cbow,vocab_cbow,X_train,y_train,batch_size,Max_input_size,Embedding_size),steps_per_epoch=int(len(X_train)/batch_size),epochs=epochs)\r\n",
        "history = model_cbow_bi.evaluate(x = vec_gen(w2v_cbow,vocab_cbow,X_test,y_test,batch_size,Max_input_size,Embedding_size),steps=int(len(y_test)/batch_size))\r\n",
        "print(history)\r\n",
        "\r\n",
        "result_table+=[history[1]]\r\n",
        "print(\"CBOW_BI\")"
      ],
      "execution_count": null,
      "outputs": [
        {
          "output_type": "stream",
          "text": [
            "Epoch 1/20\n",
            "49/49 [==============================] - 3s 58ms/step - loss: 1.3770 - accuracy: 0.3167\n",
            "Epoch 2/20\n",
            "49/49 [==============================] - 3s 58ms/step - loss: 1.3745 - accuracy: 0.3182\n",
            "Epoch 3/20\n",
            "49/49 [==============================] - 3s 56ms/step - loss: 1.3742 - accuracy: 0.3182\n",
            "Epoch 4/20\n",
            "49/49 [==============================] - 3s 57ms/step - loss: 1.3740 - accuracy: 0.3182\n",
            "Epoch 5/20\n",
            "49/49 [==============================] - 3s 56ms/step - loss: 1.3737 - accuracy: 0.3182\n",
            "Epoch 6/20\n",
            "49/49 [==============================] - 3s 56ms/step - loss: 1.3734 - accuracy: 0.3182\n",
            "Epoch 7/20\n",
            "49/49 [==============================] - 3s 56ms/step - loss: 1.3730 - accuracy: 0.3182\n",
            "Epoch 8/20\n",
            "49/49 [==============================] - 3s 57ms/step - loss: 1.3725 - accuracy: 0.3182\n",
            "Epoch 9/20\n",
            "49/49 [==============================] - 3s 57ms/step - loss: 1.3718 - accuracy: 0.3182\n",
            "Epoch 10/20\n",
            "49/49 [==============================] - 3s 56ms/step - loss: 1.3696 - accuracy: 0.3192\n",
            "Epoch 11/20\n",
            "49/49 [==============================] - 3s 57ms/step - loss: 1.3727 - accuracy: 0.3206\n",
            "Epoch 12/20\n",
            "49/49 [==============================] - 3s 56ms/step - loss: 1.3684 - accuracy: 0.3182\n",
            "Epoch 13/20\n",
            "49/49 [==============================] - 3s 57ms/step - loss: 1.3664 - accuracy: 0.3182\n",
            "Epoch 14/20\n",
            "49/49 [==============================] - 3s 58ms/step - loss: 1.3629 - accuracy: 0.3214\n",
            "Epoch 15/20\n",
            "49/49 [==============================] - 3s 57ms/step - loss: 1.3618 - accuracy: 0.3343\n",
            "Epoch 16/20\n",
            "49/49 [==============================] - 3s 56ms/step - loss: 1.3570 - accuracy: 0.3273\n",
            "Epoch 17/20\n",
            "49/49 [==============================] - 3s 57ms/step - loss: 1.3951 - accuracy: 0.2818\n",
            "Epoch 18/20\n",
            "49/49 [==============================] - 3s 57ms/step - loss: 1.3655 - accuracy: 0.3229\n",
            "Epoch 19/20\n",
            "49/49 [==============================] - 3s 58ms/step - loss: 1.3636 - accuracy: 0.3220\n",
            "Epoch 20/20\n",
            "49/49 [==============================] - 3s 58ms/step - loss: 1.3625 - accuracy: 0.3241\n",
            " 1/21 [>.............................] - ETA: 0s - loss: 1.3715 - accuracy: 0.3000WARNING:tensorflow:Callbacks method `on_test_batch_end` is slow compared to the batch time (batch time: 0.0163s vs `on_test_batch_end` time: 0.0283s). Check your callbacks.\n",
            "21/21 [==============================] - 1s 54ms/step - loss: 1.3667 - accuracy: 0.3262\n",
            "[1.3666623830795288, 0.3261904716491699]\n",
            "CBOW_BI\n"
          ],
          "name": "stdout"
        }
      ]
    },
    {
      "cell_type": "code",
      "metadata": {
        "colab": {
          "base_uri": "https://localhost:8080/"
        },
        "id": "N_G3Ff5r1bSD",
        "outputId": "aac7d9b6-31a3-4aac-9d03-480de2f787f2"
      },
      "source": [
        "model_cbow_rnn = tf.keras.Sequential()\r\n",
        "model_cbow_rnn.add(tf.keras.Input(shape=(Max_input_size,Embedding_size)))\r\n",
        "model_cbow_rnn.add(tf.keras.layers.SimpleRNN(50))\r\n",
        "model_cbow_rnn.add(tf.keras.layers.Dense(4, activation='softmax'))\r\n",
        "model_cbow_rnn.compile(loss='categorical_crossentropy',optimizer='adam', \r\n",
        "                           metrics=['accuracy'])\r\n",
        "history = model_cbow_rnn.fit_generator(generator = vec_gen(w2v_cbow,vocab_cbow,X_train,y_train,batch_size,Max_input_size,Embedding_size),steps_per_epoch=int(len(X_train)/batch_size),epochs=epochs)\r\n",
        "history = model_cbow_rnn.evaluate(x = vec_gen(w2v_cbow,vocab_cbow,X_test,y_test,batch_size,Max_input_size,Embedding_size),steps=int(len(y_test)/batch_size))\r\n",
        "print(history)\r\n",
        "\r\n",
        "result_table+=[history[1]]\r\n",
        "print(\"CBOW_RNN\")"
      ],
      "execution_count": null,
      "outputs": [
        {
          "output_type": "stream",
          "text": [
            "Epoch 1/20\n",
            "49/49 [==============================] - 4s 80ms/step - loss: 1.3778 - accuracy: 0.3076\n",
            "Epoch 2/20\n",
            "49/49 [==============================] - 4s 80ms/step - loss: 1.3743 - accuracy: 0.3178\n",
            "Epoch 3/20\n",
            "49/49 [==============================] - 4s 78ms/step - loss: 1.3717 - accuracy: 0.3135\n",
            "Epoch 4/20\n",
            "49/49 [==============================] - 4s 77ms/step - loss: 1.3695 - accuracy: 0.3208\n",
            "Epoch 5/20\n",
            "49/49 [==============================] - 4s 78ms/step - loss: 1.3615 - accuracy: 0.3320\n",
            "Epoch 6/20\n",
            "49/49 [==============================] - 4s 77ms/step - loss: 1.3633 - accuracy: 0.3276\n",
            "Epoch 7/20\n",
            "49/49 [==============================] - 4s 79ms/step - loss: 1.3624 - accuracy: 0.3306\n",
            "Epoch 8/20\n",
            "49/49 [==============================] - 4s 78ms/step - loss: 1.3622 - accuracy: 0.3331\n",
            "Epoch 9/20\n",
            "49/49 [==============================] - 4s 78ms/step - loss: 1.3554 - accuracy: 0.3324\n",
            "Epoch 10/20\n",
            "49/49 [==============================] - 4s 77ms/step - loss: 1.3595 - accuracy: 0.3290\n",
            "Epoch 11/20\n",
            "49/49 [==============================] - 4s 80ms/step - loss: 1.3599 - accuracy: 0.3322\n",
            "Epoch 12/20\n",
            "49/49 [==============================] - 4s 80ms/step - loss: 1.3551 - accuracy: 0.3420\n",
            "Epoch 13/20\n",
            "49/49 [==============================] - 4s 78ms/step - loss: 1.3499 - accuracy: 0.3435\n",
            "Epoch 14/20\n",
            "49/49 [==============================] - 4s 77ms/step - loss: 1.3405 - accuracy: 0.3588\n",
            "Epoch 15/20\n",
            "49/49 [==============================] - 4s 77ms/step - loss: 1.3383 - accuracy: 0.3651\n",
            "Epoch 16/20\n",
            "49/49 [==============================] - 4s 79ms/step - loss: 1.3377 - accuracy: 0.3629\n",
            "Epoch 17/20\n",
            "49/49 [==============================] - 4s 78ms/step - loss: 1.3337 - accuracy: 0.3688\n",
            "Epoch 18/20\n",
            "49/49 [==============================] - 4s 78ms/step - loss: 1.3467 - accuracy: 0.3416\n",
            "Epoch 19/20\n",
            "49/49 [==============================] - 4s 79ms/step - loss: 1.3452 - accuracy: 0.3396\n",
            "Epoch 20/20\n",
            "49/49 [==============================] - 4s 80ms/step - loss: 1.3287 - accuracy: 0.3653\n",
            "21/21 [==============================] - 1s 56ms/step - loss: 1.3940 - accuracy: 0.3062\n",
            "[1.393985390663147, 0.30619049072265625]\n",
            "CBOW_RNN\n"
          ],
          "name": "stdout"
        }
      ]
    },
    {
      "cell_type": "code",
      "metadata": {
        "colab": {
          "base_uri": "https://localhost:8080/"
        },
        "id": "czoFmEwK1dWT",
        "outputId": "6a521c58-e369-4e4b-c0b0-07fdcead765c"
      },
      "source": [
        "model_glove = tf.keras.Sequential()\r\n",
        "model_glove.add(tf.keras.Input(shape=(Max_input_size,100)))\r\n",
        "model_glove.add(tf.keras.layers.LSTM(50))\r\n",
        "model_glove.add(tf.keras.layers.Dense(4, activation='softmax'))\r\n",
        "model_glove.compile(loss='categorical_crossentropy',optimizer='adam', \r\n",
        "                           metrics=['accuracy'])\r\n",
        "history = model_glove.fit_generator(generator = glove_gen(vocab_glove,X_train,y_train,batch_size,Max_input_size,Embedding_size=100),steps_per_epoch=int(len(X_train)/batch_size),epochs=epochs)\r\n",
        "history = model_glove.evaluate(x = glove_gen(vocab_glove,X_test,y_test,batch_size,Max_input_size,Embedding_size=100),steps=int(len(y_test)/batch_size))\r\n",
        "print(history)\r\n",
        "\r\n",
        "result_table+=[history[1]]\r\n",
        "print(\"GLOVE_LSTM\")\r\n"
      ],
      "execution_count": null,
      "outputs": [
        {
          "output_type": "stream",
          "text": [
            "Epoch 1/20\n",
            "49/49 [==============================] - 0s 10ms/step - loss: 1.3770 - accuracy: 0.3143\n",
            "Epoch 2/20\n",
            "49/49 [==============================] - 0s 10ms/step - loss: 1.2938 - accuracy: 0.3845\n",
            "Epoch 3/20\n",
            "49/49 [==============================] - 0s 10ms/step - loss: 1.2132 - accuracy: 0.4380\n",
            "Epoch 4/20\n",
            "49/49 [==============================] - 0s 10ms/step - loss: 1.1619 - accuracy: 0.4561\n",
            "Epoch 5/20\n",
            "49/49 [==============================] - 0s 10ms/step - loss: 1.1139 - accuracy: 0.4782\n",
            "Epoch 6/20\n",
            "49/49 [==============================] - 0s 10ms/step - loss: 1.0609 - accuracy: 0.5145\n",
            "Epoch 7/20\n",
            "49/49 [==============================] - 0s 10ms/step - loss: 1.0115 - accuracy: 0.5476\n",
            "Epoch 8/20\n",
            "49/49 [==============================] - 0s 10ms/step - loss: 0.9671 - accuracy: 0.5804\n",
            "Epoch 9/20\n",
            "49/49 [==============================] - 0s 10ms/step - loss: 0.9466 - accuracy: 0.5912\n",
            "Epoch 10/20\n",
            "49/49 [==============================] - 0s 9ms/step - loss: 0.9082 - accuracy: 0.6137\n",
            "Epoch 11/20\n",
            "49/49 [==============================] - 0s 10ms/step - loss: 0.8363 - accuracy: 0.6504\n",
            "Epoch 12/20\n",
            "49/49 [==============================] - 0s 10ms/step - loss: 0.7926 - accuracy: 0.6727\n",
            "Epoch 13/20\n",
            "49/49 [==============================] - 0s 10ms/step - loss: 0.7358 - accuracy: 0.7076\n",
            "Epoch 14/20\n",
            "49/49 [==============================] - 0s 9ms/step - loss: 0.6880 - accuracy: 0.7329\n",
            "Epoch 15/20\n",
            "49/49 [==============================] - 0s 10ms/step - loss: 0.6793 - accuracy: 0.7280\n",
            "Epoch 16/20\n",
            "49/49 [==============================] - 0s 10ms/step - loss: 0.6925 - accuracy: 0.7233\n",
            "Epoch 17/20\n",
            "49/49 [==============================] - 0s 10ms/step - loss: 0.6365 - accuracy: 0.7588\n",
            "Epoch 18/20\n",
            "49/49 [==============================] - 0s 9ms/step - loss: 0.6264 - accuracy: 0.7629\n",
            "Epoch 19/20\n",
            "49/49 [==============================] - 0s 10ms/step - loss: 0.6339 - accuracy: 0.7631\n",
            "Epoch 20/20\n",
            "49/49 [==============================] - 0s 10ms/step - loss: 0.6320 - accuracy: 0.7606\n",
            "21/21 [==============================] - 0s 9ms/step - loss: 0.9694 - accuracy: 0.6481\n",
            "[0.969368577003479, 0.6480952501296997]\n",
            "GLOVE_LSTM\n"
          ],
          "name": "stdout"
        }
      ]
    },
    {
      "cell_type": "code",
      "metadata": {
        "colab": {
          "base_uri": "https://localhost:8080/"
        },
        "id": "fKM9PEwm1fkb",
        "outputId": "25761813-3dd4-421e-b4ef-3f66eed8fd86"
      },
      "source": [
        "model_glove_bi = tf.keras.Sequential()\r\n",
        "model_glove_bi.add(tf.keras.Input(shape=(Max_input_size,100)))\r\n",
        "model_glove_bi.add(tf.keras.layers.Bidirectional(tf.keras.layers.LSTM(50),merge_mode='concat'))\r\n",
        "model_glove_bi.add(tf.keras.layers.Dense(4, activation='softmax'))\r\n",
        "model_glove_bi.compile(loss='categorical_crossentropy',optimizer='adam', \r\n",
        "                           metrics=['accuracy'])\r\n",
        "history = model_glove_bi.fit_generator(generator = glove_gen(vocab_glove,X_train,y_train,batch_size,Max_input_size,Embedding_size),steps_per_epoch=int(len(X_train)/batch_size),epochs=epochs)\r\n",
        "history = model_glove_bi.evaluate(x = glove_gen(vocab_glove,X_test,y_test,batch_size,Max_input_size,Embedding_size),steps=int(len(y_test)/batch_size))\r\n",
        "print(history)\r\n",
        "\r\n",
        "result_table+=[history[1]]\r\n",
        "print(\"GLOVE_BI\")"
      ],
      "execution_count": null,
      "outputs": [
        {
          "output_type": "stream",
          "text": [
            "Epoch 1/20\n",
            "49/49 [==============================] - 1s 11ms/step - loss: 1.3530 - accuracy: 0.3404\n",
            "Epoch 2/20\n",
            "49/49 [==============================] - 1s 11ms/step - loss: 1.2053 - accuracy: 0.4639\n",
            "Epoch 3/20\n",
            "49/49 [==============================] - 1s 11ms/step - loss: 1.0716 - accuracy: 0.5539\n",
            "Epoch 4/20\n",
            "49/49 [==============================] - 1s 11ms/step - loss: 0.9544 - accuracy: 0.6171\n",
            "Epoch 5/20\n",
            "49/49 [==============================] - 1s 11ms/step - loss: 0.8529 - accuracy: 0.6686\n",
            "Epoch 6/20\n",
            "49/49 [==============================] - 1s 11ms/step - loss: 0.7682 - accuracy: 0.7106\n",
            "Epoch 7/20\n",
            "49/49 [==============================] - 1s 11ms/step - loss: 0.6925 - accuracy: 0.7457\n",
            "Epoch 8/20\n",
            "49/49 [==============================] - 1s 11ms/step - loss: 0.6229 - accuracy: 0.7720\n",
            "Epoch 9/20\n",
            "49/49 [==============================] - 1s 12ms/step - loss: 0.5609 - accuracy: 0.7971\n",
            "Epoch 10/20\n",
            "49/49 [==============================] - 1s 12ms/step - loss: 0.5105 - accuracy: 0.8180\n",
            "Epoch 11/20\n",
            "49/49 [==============================] - 1s 11ms/step - loss: 0.4648 - accuracy: 0.8380\n",
            "Epoch 12/20\n",
            "49/49 [==============================] - 1s 12ms/step - loss: 0.4239 - accuracy: 0.8547\n",
            "Epoch 13/20\n",
            "49/49 [==============================] - 1s 11ms/step - loss: 0.3840 - accuracy: 0.8694\n",
            "Epoch 14/20\n",
            "49/49 [==============================] - 1s 12ms/step - loss: 0.3711 - accuracy: 0.8688\n",
            "Epoch 15/20\n",
            "49/49 [==============================] - 1s 11ms/step - loss: 0.3766 - accuracy: 0.8631\n",
            "Epoch 16/20\n",
            "49/49 [==============================] - 1s 11ms/step - loss: 0.3292 - accuracy: 0.8857\n",
            "Epoch 17/20\n",
            "49/49 [==============================] - 1s 11ms/step - loss: 0.2874 - accuracy: 0.9029\n",
            "Epoch 18/20\n",
            "49/49 [==============================] - 1s 12ms/step - loss: 0.2676 - accuracy: 0.9069\n",
            "Epoch 19/20\n",
            "49/49 [==============================] - 1s 11ms/step - loss: 0.2564 - accuracy: 0.9108\n",
            "Epoch 20/20\n",
            "49/49 [==============================] - 1s 11ms/step - loss: 0.2551 - accuracy: 0.9108\n",
            "21/21 [==============================] - 0s 9ms/step - loss: 0.9490 - accuracy: 0.7176\n",
            "[0.9489750266075134, 0.7176190614700317]\n",
            "GLOVE_BI\n"
          ],
          "name": "stdout"
        }
      ]
    },
    {
      "cell_type": "code",
      "metadata": {
        "colab": {
          "base_uri": "https://localhost:8080/"
        },
        "id": "RQBa5s4s1hNU",
        "outputId": "ea984827-9863-45e9-de31-d4c6ee0f6469"
      },
      "source": [
        "model_glove_rnn = tf.keras.Sequential()\r\n",
        "model_glove_rnn.add(tf.keras.Input(shape=(Max_input_size,100)))\r\n",
        "model_glove_rnn.add(tf.keras.layers.SimpleRNN(50))\r\n",
        "model_glove_rnn.add(tf.keras.layers.Dense(4, activation='softmax'))\r\n",
        "model_glove_rnn.compile(loss='categorical_crossentropy',optimizer='adam', \r\n",
        "                           metrics=['accuracy'])\r\n",
        "history = model_glove_rnn.fit_generator(generator = glove_gen(vocab_glove,X_train,y_train,batch_size,Max_input_size,Embedding_size),steps_per_epoch=int(len(X_train)/batch_size),epochs=epochs)\r\n",
        "history = model_glove_rnn.evaluate(x = glove_gen(vocab_glove,X_test,y_test,batch_size,Max_input_size,Embedding_size),steps=int(len(y_test)/batch_size))\r\n",
        "print(history)\r\n",
        "\r\n",
        "result_table+=[history[1]]\r\n",
        "print(\"GLOVE_RNN\")"
      ],
      "execution_count": null,
      "outputs": [
        {
          "output_type": "stream",
          "text": [
            "Epoch 1/20\n",
            "49/49 [==============================] - 2s 40ms/step - loss: 1.3808 - accuracy: 0.3110\n",
            "Epoch 2/20\n",
            "49/49 [==============================] - 2s 41ms/step - loss: 1.3685 - accuracy: 0.3273\n",
            "Epoch 3/20\n",
            "49/49 [==============================] - 2s 40ms/step - loss: 1.3191 - accuracy: 0.3822\n",
            "Epoch 4/20\n",
            "49/49 [==============================] - 2s 40ms/step - loss: 1.2803 - accuracy: 0.4098\n",
            "Epoch 5/20\n",
            "49/49 [==============================] - 2s 40ms/step - loss: 1.2355 - accuracy: 0.4396\n",
            "Epoch 6/20\n",
            "49/49 [==============================] - 2s 40ms/step - loss: 1.2103 - accuracy: 0.4551\n",
            "Epoch 7/20\n",
            "49/49 [==============================] - 2s 40ms/step - loss: 1.1914 - accuracy: 0.4671\n",
            "Epoch 8/20\n",
            "49/49 [==============================] - 2s 39ms/step - loss: 1.2035 - accuracy: 0.4529\n",
            "Epoch 9/20\n",
            "49/49 [==============================] - 2s 40ms/step - loss: 1.1786 - accuracy: 0.4641\n",
            "Epoch 10/20\n",
            "49/49 [==============================] - 2s 38ms/step - loss: 1.1322 - accuracy: 0.4924\n",
            "Epoch 11/20\n",
            "49/49 [==============================] - 2s 40ms/step - loss: 1.1076 - accuracy: 0.5063\n",
            "Epoch 12/20\n",
            "49/49 [==============================] - 2s 40ms/step - loss: 1.0889 - accuracy: 0.5249\n",
            "Epoch 13/20\n",
            "49/49 [==============================] - 2s 41ms/step - loss: 1.0902 - accuracy: 0.5227\n",
            "Epoch 14/20\n",
            "49/49 [==============================] - 2s 41ms/step - loss: 1.0869 - accuracy: 0.5167\n",
            "Epoch 15/20\n",
            "49/49 [==============================] - 2s 40ms/step - loss: 1.0355 - accuracy: 0.5473\n",
            "Epoch 16/20\n",
            "49/49 [==============================] - 2s 39ms/step - loss: 1.0085 - accuracy: 0.5616\n",
            "Epoch 17/20\n",
            "49/49 [==============================] - 2s 41ms/step - loss: 1.0159 - accuracy: 0.5629\n",
            "Epoch 18/20\n",
            "49/49 [==============================] - 2s 41ms/step - loss: 1.0601 - accuracy: 0.5280\n",
            "Epoch 19/20\n",
            "49/49 [==============================] - 2s 41ms/step - loss: 1.0508 - accuracy: 0.5355\n",
            "Epoch 20/20\n",
            "49/49 [==============================] - 2s 40ms/step - loss: 1.0447 - accuracy: 0.5404\n",
            "21/21 [==============================] - 0s 10ms/step - loss: 1.3980 - accuracy: 0.3686\n",
            "[1.397983431816101, 0.3685714304447174]\n",
            "GLOVE_RNN\n"
          ],
          "name": "stdout"
        }
      ]
    },
    {
      "cell_type": "code",
      "metadata": {
        "colab": {
          "base_uri": "https://localhost:8080/"
        },
        "id": "WZqN_SaM3hs9",
        "outputId": "5fc9d0de-887e-47f4-a854-28a6d03c79c3"
      },
      "source": [
        "print(\"\\tLstm\\t\\t\\tBiLstm\\t\\t\\tRnn\")\r\n",
        "print(\"sg\",result_table[:3])\r\n",
        "print(\"cbow\",result_table[3:6])\r\n",
        "print(\"glove\",result_table[6:9])"
      ],
      "execution_count": null,
      "outputs": [
        {
          "output_type": "stream",
          "text": [
            "\tLstm\t\t\tBiLstm\t\t\tRnn\n",
            "sg [0.31857141852378845, 0.3266666531562805, 0.31761905550956726]\n",
            "cbow [0.31857141852378845, 0.3261904716491699, 0.30619049072265625]\n",
            "glove [0.6480952501296997, 0.7176190614700317, [0.3685714304447174]]\n"
          ],
          "name": "stdout"
        }
      ]
    }
  ]
}