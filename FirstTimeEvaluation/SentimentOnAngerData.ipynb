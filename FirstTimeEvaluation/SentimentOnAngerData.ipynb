{
  "nbformat": 4,
  "nbformat_minor": 0,
  "metadata": {
    "colab": {
      "name": "SentimentOnAngerData.ipynb",
      "provenance": [],
      "toc_visible": true,
      "authorship_tag": "ABX9TyMnz8+FmcSVQadbrBzcDc7y",
      "include_colab_link": true
    },
    "kernelspec": {
      "name": "python3",
      "display_name": "Python 3"
    }
  },
  "cells": [
    {
      "cell_type": "markdown",
      "metadata": {
        "id": "view-in-github",
        "colab_type": "text"
      },
      "source": [
        "<a href=\"https://colab.research.google.com/github/harrymkwn/InfluenceAnalysis/blob/master/SentimentOnAngerData.ipynb\" target=\"_parent\"><img src=\"https://colab.research.google.com/assets/colab-badge.svg\" alt=\"Open In Colab\"/></a>"
      ]
    },
    {
      "cell_type": "markdown",
      "metadata": {
        "id": "ei305DGHibHu",
        "colab_type": "text"
      },
      "source": [
        "#Initialization"
      ]
    },
    {
      "cell_type": "code",
      "metadata": {
        "id": "b3ImPUOviSZ8",
        "colab_type": "code",
        "colab": {}
      },
      "source": [
        "import numpy as np\n",
        "import pandas as pd\n",
        "import tensorflow as tf\n",
        "\n",
        "!pip install -q tensorflow-hub\n",
        "!pip install -q tensorflow-datasets\n",
        "import tensorflow_hub as hub\n",
        "import tensorflow_datasets as tfds"
      ],
      "execution_count": 14,
      "outputs": []
    },
    {
      "cell_type": "code",
      "metadata": {
        "id": "m97pVyvi3nLC",
        "colab_type": "code",
        "colab": {}
      },
      "source": [
        "from tensorflow.keras.preprocessing.text import Tokenizer\n",
        "from tensorflow.keras.preprocessing.sequence import pad_sequences\n"
      ],
      "execution_count": 101,
      "outputs": []
    },
    {
      "cell_type": "markdown",
      "metadata": {
        "id": "SUdKiysOoRh6",
        "colab_type": "text"
      },
      "source": [
        "#Import Data"
      ]
    },
    {
      "cell_type": "code",
      "metadata": {
        "id": "qt85rUYfnL9Z",
        "colab_type": "code",
        "colab": {
          "base_uri": "https://localhost:8080/",
          "height": 51
        },
        "outputId": "4fcf5e18-24eb-4b02-b988-f8f02b46b8f6"
      },
      "source": [
        "df = pd.read_excel('clean-anger-train.xlsx',)\n",
        "\n",
        "tweets = list(df['tweet'])\n",
        "test_tweets = tweets[int(len(tweets)*.8) : ] \n",
        "tweets = tweets[:int((len(tweets))*.8)]\n",
        "labels = list(df['label'])\n",
        "test_labels = labels[int(len(labels)*.8):]\n",
        "labels = labels[:int((len(labels))*.8)]\n",
        "print(len(tweets),len(test_tweets))\n",
        "print(len(labels),len(test_labels))\n"
      ],
      "execution_count": 182,
      "outputs": [
        {
          "output_type": "stream",
          "text": [
            "685 172\n",
            "685 172\n"
          ],
          "name": "stdout"
        }
      ]
    },
    {
      "cell_type": "code",
      "metadata": {
        "id": "qwMZM5E-BaUS",
        "colab_type": "code",
        "colab": {
          "base_uri": "https://localhost:8080/",
          "height": 34
        },
        "outputId": "09b1b153-b314-4edb-8d28-21d2ca95e518"
      },
      "source": [
        "a = [1,2,3,4,5]\n",
        "a = a[:3]\n",
        "print(a)"
      ],
      "execution_count": 163,
      "outputs": [
        {
          "output_type": "stream",
          "text": [
            "[1, 2, 3]\n"
          ],
          "name": "stdout"
        }
      ]
    },
    {
      "cell_type": "markdown",
      "metadata": {
        "id": "6K6c2jBOoUAb",
        "colab_type": "text"
      },
      "source": [
        "#Tensorflow Hub"
      ]
    },
    {
      "cell_type": "code",
      "metadata": {
        "id": "EShOabrFiyDL",
        "colab_type": "code",
        "colab": {}
      },
      "source": [
        "embadding = \"https://tfhub.dev/google/tf2-preview/gnews-swivel-20dim/1\"\n",
        "\n",
        "use = hub.load(embadding)"
      ],
      "execution_count": 8,
      "outputs": []
    },
    {
      "cell_type": "code",
      "metadata": {
        "id": "9J07o3AhjXQI",
        "colab_type": "code",
        "colab": {
          "base_uri": "https://localhost:8080/",
          "height": 102
        },
        "outputId": "a4ede313-9c91-4623-b390-49a4883b87d7"
      },
      "source": [
        "sent1 = use([\"This is beautiful sun set point\"])\n",
        "print(sent1)"
      ],
      "execution_count": 87,
      "outputs": [
        {
          "output_type": "stream",
          "text": [
            "tf.Tensor(\n",
            "[[ 1.2353983   0.36177874  1.0567257  -0.10924783 -1.764797   -0.59993666\n",
            "  -1.3794618   0.1685736   0.45734888 -1.3003079  -0.7145367   1.0108852\n",
            "   0.31591362 -0.533725   -1.0022223   0.53672945  0.45723101  0.19824666\n",
            "  -1.0212995  -0.23935534]], shape=(1, 20), dtype=float32)\n"
          ],
          "name": "stdout"
        }
      ]
    },
    {
      "cell_type": "markdown",
      "metadata": {
        "id": "hH4BEhUloXY0",
        "colab_type": "text"
      },
      "source": [
        "#Data PreProcessinng"
      ]
    },
    {
      "cell_type": "code",
      "metadata": {
        "id": "D61CjVA9lGZG",
        "colab_type": "code",
        "colab": {}
      },
      "source": [
        "x_train = []\n",
        "y_train = []\n",
        "for tweet,label in zip(tweets,labels):\n",
        "  tweet = tweet.strip()\n",
        "  vector = use([tweet])\n",
        "  print(vector)\n",
        "  emb_vector = tf.reshape(vector,[-1]).numpy()/100\n",
        "  x_train.append(emb_vector)\n",
        "\n",
        "  y_train.append(float(label))\n",
        "\n",
        "x = np.array(x_train)\n",
        "y = np.array(y_train)\n",
        "\n",
        "x_train = tf.Variable(x)\n",
        "x_train = tf.reshape(x, [857,1,20])\n",
        "print(x_train.shape)\n",
        "print(y_train)"
      ],
      "execution_count": null,
      "outputs": []
    },
    {
      "cell_type": "markdown",
      "metadata": {
        "id": "HAu4tl5nqHov",
        "colab_type": "text"
      },
      "source": [
        "#Sentiment Analysis"
      ]
    },
    {
      "cell_type": "code",
      "metadata": {
        "id": "8EG1HCehpeQY",
        "colab_type": "code",
        "colab": {}
      },
      "source": [
        "model = tf.keras.Sequential()\n",
        "\n",
        "# model.add(tf.keras.layers.Dense(units=256,input_shape=(x_train.shape[1], ),activation='relu'))\n",
        "# model.add(tf.keras.layers.Dropout(rate=0.5))\n",
        "\n",
        "# model.add(tf.keras.layers.LSTM(128, dropout=0.5, recurrent_dropout=0.5))\n",
        "# # model.add(Dropout(0.2))\n",
        "# model.add(tf.keras.layers.Dense(1, activation='sigmoid'))\n",
        "model.add(tf.keras.layers.LSTM(10,batch_input_shape=(None,1,x_train.shape[2]),return_sequences=True))\n",
        "# model.add(tf.keras.layers.LSTM(1,return_sequences=False))\n",
        "model.compile(loss = 'mean_absolute_error',optimizer='adam',metrics=['accuracy'])\n",
        "\n",
        "\n",
        "# model.compile(\n",
        "#     loss=tf.keras.losses.BinaryCrossentropy(from_logits=True),\n",
        "#     optimizer=tf.keras.optimizers.Adam(0.001),\n",
        "#     metrics=['accuracy']\n",
        "# )"
      ],
      "execution_count": 94,
      "outputs": []
    },
    {
      "cell_type": "code",
      "metadata": {
        "id": "Wo91V0fTqYis",
        "colab_type": "code",
        "colab": {}
      },
      "source": [
        "# history = model.fit(\n",
        "#     x_train, y_train,\n",
        "#     epochs=100,\n",
        "#     batch_size=16,\n",
        "#     validation_split=0.1,\n",
        "#     verbose=1,\n",
        "#     shuffle=True\n",
        "# )\n",
        "history = model.fit(x_train,y_train,epochs=50)"
      ],
      "execution_count": null,
      "outputs": []
    },
    {
      "cell_type": "code",
      "metadata": {
        "id": "CLps8lC8qpxS",
        "colab_type": "code",
        "colab": {}
      },
      "source": [
        "print(history.history['loss'])"
      ],
      "execution_count": null,
      "outputs": []
    },
    {
      "cell_type": "code",
      "metadata": {
        "id": "GKaJTEd4ycmk",
        "colab_type": "code",
        "colab": {}
      },
      "source": [
        "print(history.history['accuracy'])"
      ],
      "execution_count": null,
      "outputs": []
    },
    {
      "cell_type": "code",
      "metadata": {
        "id": "XPYRcI-L1xPo",
        "colab_type": "code",
        "colab": {}
      },
      "source": [
        ""
      ],
      "execution_count": null,
      "outputs": []
    },
    {
      "cell_type": "markdown",
      "metadata": {
        "id": "k9Hy94G73shH",
        "colab_type": "text"
      },
      "source": [
        "#Our own Dictioinary"
      ]
    },
    {
      "cell_type": "code",
      "metadata": {
        "id": "aK5lvANp5o6B",
        "colab_type": "code",
        "colab": {
          "base_uri": "https://localhost:8080/",
          "height": 34
        },
        "outputId": "b25cfb30-b532-45dc-d9c6-a839801f6b1e"
      },
      "source": [
        "maxlength = 0;\n",
        "for i in tweet:\n",
        "  l = len(i.split(' '))\n",
        "  if(maxlength<l):\n",
        "    maxlength = l\n",
        "print(maxlength)"
      ],
      "execution_count": 197,
      "outputs": [
        {
          "output_type": "stream",
          "text": [
            "41\n"
          ],
          "name": "stdout"
        }
      ]
    },
    {
      "cell_type": "code",
      "metadata": {
        "id": "6hfJ4Z9h3sAk",
        "colab_type": "code",
        "colab": {
          "base_uri": "https://localhost:8080/",
          "height": 1000
        },
        "outputId": "85b1a32d-2c31-486d-f46a-47af2847cc64"
      },
      "source": [
        "tweet = df.tweet.values\n",
        "print(tweet)\n",
        "tokenizer = Tokenizer(num_words=5000)\n",
        "tokenizer.fit_on_texts(tweet)"
      ],
      "execution_count": 223,
      "outputs": [
        {
          "output_type": "stream",
          "text": [
            "['   how the fur who the heck moved my fridge should i knock the landlord door angry mad        '\n",
            " '   so my indian user driver just called someone the n word if i wasnt in a moving vehicle id have jumped out disgusted        '\n",
            " '   pouk i asked for my parcel to be delivered to a pick up store not my address fuming poorcustomerservice   '\n",
            " '   so ef whichever butt wipe pulled the fire alarm in davis bc i was sound asleep pissed angry upset tired sad tired angry  '\n",
            " '   dont join bucare they put the phone down on you talk over you and are rude taking money out of my acc willynilly fuming  '\n",
            " '   my blood is boiling    '\n",
            " '   when youve still got a whole season of whitworth to watch and a stupid cunt in work ruins it for us ðÿðÿ kirstyga raging oldcunt     '\n",
            " '   btu why does tracking show my equipment delivered when it wasnt why is my service suddenly delayed weve already  weeks fuming       '\n",
            " '   teamshanny legit why i am so furious with him people are such fucking idiots'\n",
            " '   how is it suppose to work if you do that wtv dude thanks for pissing me off '\n",
            " '   im so mad about power rangers im incensed im furious'\n",
            " '   wont use using mothercareuk mothercarehelp again these guys cant get nothing right fuming       '\n",
            " '   bitches aggravate like what inspires you to be the biggest cunt known to man kind     '\n",
            " '   why does dapperlaughs have to come to glasgow on a night i am working i am fucking gutted been waiting for an appearance for ages raging   '\n",
            " '   fusing fuming ðÿ     '\n",
            " '   zero help from ups customer service just pushing the buck back and forth and promising callbacks that donât happen anger loathing       '\n",
            " '   arizonacoyotes not to mention the gra guy stops me but lets the  ppl in front of me go wtv my blood is boiling   '\n",
            " '   i hate my lawn mower if it had a soul id condemn it to the fiery pits of hell      '\n",
            " '   why are people so offended by kendal he ends photo shoot like seriously shut the fuck up      '\n",
            " '   im about to block everyone everywhere posting about the storm i think everyone is aware of the damn rain and what not so quit damn '\n",
            " '   making my buddy cry  bitch wait for revenge ðÿðÿœðÿ     '\n",
            " '   bes you dont just tell a true blooded hoopjunkie to switch a fun team that jug destroyed your own team you jug dont insult    '\n",
            " '   i got a no response again from an irate customer of amazon ðÿžðÿžwhy cant they understand that its not always amazon faultncarrierfault    '\n",
            " '   tasers immobilize if you taser someone why the fuck do you need to shoot them one second later this is really sick rage wtv  murder     '\n",
            " '   lekingcoq mistaaggy giovanniidc the way my blood is boiling little bastards       '\n",
            " '   actually fuming i have nothing to wear saturday'\n",
            " '   divamagazine than straight people even the arse straight guys who think that means a threesome is fine angry fuming      '\n",
            " '   bloody parking ticket ðÿðÿ fuming '\n",
            " '   you ever just find that the people around you really irritate you sometimes thats me right now ðÿ  '\n",
            " '   i get so angry at people that dont know that you dont have a stop sign on francis and you do at foster road '\n",
            " '   this fuck you is boiling up inside its not gonna be good when i let it out   '\n",
            " '   vodafoneukhelp vodafoneuk wow my bill is â and hav a text from u to prove that and you have taken â swines fuming con   '\n",
            " '   i blame the whole season on natale the season would have been so different had she not turned her back on her alliance pissed      '\n",
            " '   since the update my phone loses power nearly  faster  furious '\n",
            " '   bringyouhome im about to fly into a fit of rage its not fair       '\n",
            " '   unbelievable takes  minutes to get through to barclaysuk then theres a fault and the call hangs up fuming treatcustomersfairly   '\n",
            " '   ggreenwald susansarandon we are blaming  of the fucking idiots who are putting the world in the middle of their tantrums you are one     '\n",
            " '   sunandbeachbum you people infuriate me     '\n",
            " '   ran mine is that the party did decide but the party has been slowly transformed into a vengeful hellcat of white male resentment '\n",
            " '   so angry about my wishshopping order  months ago i placed an order of over  card billed never received disappointing    '\n",
            " '   still cant log into my fucking snapchatsnapchat snap'\n",
            " '   thomsoncares sam yes we have not helpful at all we need this sorting asap you keep promising stuff that doesnt happen fuming'\n",
            " '   someone let snakes in my house i bet it yaboihuck i kill that bugger when i get my hands on him rage hucks     '\n",
            " '   so ef whichever butt wipe pulled the fire alarm in davis bc i was sound asleep pissed  upset tired sad tired angry        '\n",
            " '   why does dapperlaughs have to come to glasgow on a night i am working i am fucking gutted been waiting for an appearance for ages   '\n",
            " '   i feel furious '\n",
            " '   some mexican ladies irritate the fuck outta me have a their own ill preschool of fucking kids for the welfare amp allay tmh      '\n",
            " '   still cant log into my fucking snapshot snapshot     '\n",
            " '   i blame the whole season on natale the season would have been so different had she not turned her back on her alliance pissed bitter      '\n",
            " '   people irritate my mf soul     ' '   im so angry ðÿðÿƒ   '\n",
            " '   people fucking irritate me      '\n",
            " '   leesyatt you are a cruel cruel man therewillbeblood revenge       '\n",
            " '   that way ur so angry you can literally feel ur blood boiling   '\n",
            " '   katzeanilothei this amount of greedy mooching makes me snarl '\n",
            " '   my mind is raging and i just want to end it all'\n",
            " '   absolutely fuming that some woman jumped into my prebooked taxi and drove off ðÿ     '\n",
            " '   im nothing but a hateful and bitter fag       '\n",
            " '   fitnessfirstau something needs to be done about people hogging machines  nobody can use  machines at one time angry snoutfair whydah      '\n",
            " '   dingy kr people still got a grudge against him for no reason like wtv  '\n",
            " '   wynnea then he said talking about wills uncontrollable animals when moving to another link these comments do not help fuming     '\n",
            " '   paulbushnell ee bad news if ordered online it hasnt gone through same happened to me had to re order on the phone furious'\n",
            " '   so angry i wanna cryðÿðÿðÿ       ' '   ooh my god uugghh     '\n",
            " '   boycotting dunkindonuts till butter pecan comes back i am furious    '\n",
            " '   in  black people are still fighting to be recognized as human beings antisleep angry   '\n",
            " '   my mom cut my phone off and im so furious ðÿ'\n",
            " '   once again the only thing on my feed is navy raging about something and my brother filling in all the gaps     '\n",
            " '   cant believe achilles killed me angry       '\n",
            " '   i lost a couple nights i want revenge so put me in coach       '\n",
            " '   mjmralph then its poor packaging my amazon and the fulfilled seller should be furious as much as you ðÿ    '\n",
            " '   wheres your outrage when a black man kills another black man in the streets  '\n",
            " '   it makes me so fucking irate jesus nobody is calling ppl who like aime abusive stop with the strawman omao  '\n",
            " '   absolutely fuming ive just scratched all my car ðÿðÿðÿðÿðÿðÿ      '\n",
            " '   msheartattack holy shit it just a bee sting like fuck youre not dying       '\n",
            " '   how the fur who the heck moved my fridge should i knock the landlord door  mad      '\n",
            " '   i dislike people who get offended by the littlest shit        '\n",
            " '   what the fuck am i supposed to do with no lunch no dinner no money and im off to work furious angry day'\n",
            " '   justynehaley it does if one person ruins season  for me i will be so angry       '\n",
            " '   what the fuck am i supposed to do with no lunch no dinner no money and im off to work  angry day'\n",
            " '   firstleeds not only are your buses unreliable your e ticket app is too unable to get on two buses and late for work fuming useless reply    '\n",
            " '   so my indian user driver just called someone the n word if i wasnt in a moving vehicle id have jumped out disgusted offended      '\n",
            " '   the liberal outrage over don king saying the word really angers me the white yuppie progressives can go fuck themselves shame on blacks    '\n",
            " '   just paid for chicken at panerabread and didnt even get any ðÿðÿðÿ there goes  dollars and me as a customer angry    '\n",
            " '   but that was a mistake and a half assed excuse and now here i am burning in hell forever       '\n",
            " '   minute you have had from me over the years is irrelevant its an absolute joke minute ticketing fuming nonloyalty joke notimpressed     '\n",
            " '   hollyrobinson part was buzzing for a cheeky squashier or tsotsis was not what i expectedsort it out food angry  cook coopukfood   '\n",
            " '   tasers immobilize if you taser someone why the fuck do you need to shoot them one second later this is really sick  wtv murder   '\n",
            " '   bes you dont just tell a true blooded hoopjunkie to switch a fun team that jug destroyed your own team you jug dont    '\n",
            " '   churdallan fucked my coupon that goal raging'\n",
            " '   leg bribed all the refs against ut for his own personal revenge that was a foul you prick   '\n",
            " '   now that the whole clown rage has scared me shitless im gonna go cry in my room      '\n",
            " '   worst juror ever micelle you were nicols biggest threat bitter bb    '\n",
            " '   your twitter picture just makes me fume       '\n",
            " '   leesyatt you are a cruel cruel man therewillbeblood        '\n",
            " '   thats really it for my madden career that game sucks  ea sports does a piss poor job every year on that shit '\n",
            " '   neofundie fitchets ha right im from san jose ca and i was offended right there with you dave go on a walk or something next time     '\n",
            " '   fitnessfirstau something needs to be done about people hogging machines  nobody can use  machines at one time  snoutfair whydah    '\n",
            " '   i wonder what american city will be next to protest about police shootings who next tmh whenwillitstop angry howmanymoretimes  '\n",
            " '   politico realdonaldtrump another angry white man    '\n",
            " '   have wee pop socks on and they keep falling off inside my shoes rage  '\n",
            " '   the majority of people irritate the fuck out of me cab with people thanah     '\n",
            " '   oscarperria a multimillionaire spoiled brat who gets in a self righteous huff bc his friend is muslim is a non starter bye  '\n",
            " '   wont use using mothercareuk mothercarehelp again these guys cant get nothing right       '\n",
            " '   kingweed dont provoke me to anger    '\n",
            " '   you complain all the time and then wonder why people never want to see you you acc rile me up stout     '\n",
            " '   bloods boiling '\n",
            " '   leave it on there rulenimber  of carpet cleaning furious worsethananatomicbomb accidentlyspillbeeronthecarpet '\n",
            " '   darklunefantasy wallah my blood is boiling i need to take a nap ugh   '\n",
            " '   i swear if devincameron blocks me im going to hit her back '\n",
            " '   jennylhowe i am angry at the student for being a racist and the teacher for not stopping it and at the class for letting it go by  '\n",
            " '   im about to block everyone everywhere posting about the storm i think everyone is aware of the damn rain and what not so quit damn rage   '\n",
            " '   im just a fuming ball of anger today ðÿƒ     '\n",
            " '   i didnt find out about this till today due to my off telling me i am so disgusted and offended by this      '\n",
            " '   verizonsupport thanks for saying my wife and i were getting our phones today and then losing both of them with no eta thanks angry '\n",
            " '   a firsts not turning up why am i not surprised late for work again fuming       '\n",
            " '   police officersshould not have the right to just shoot human beings without provocation its wrongnnorconservative michaelaangelad '\n",
            " '   angry already  '\n",
            " '    flat party and i instantly get bollocked about it fuming '\n",
            " '   xemitsellsmagic add tracking but resent them  '\n",
            " '   foxes sheriffclarke foxnewsinsider this man is an affront to our justice system  '\n",
            " '   someone let snakes in my house i bet it yaboihuck i kill that bugger when i get my hands on him  hucks  '\n",
            " '   chronist umm the blog says with simon steer faking thill expect an investigation forthwith this is an outrage      '\n",
            " '   groupanon black armed thug with a record carrying gun illegally gets shot by black cop outrage   this is a jokelet em destroy their town   '\n",
            " '    wakes up and says have you tried changing her nappy ðÿðÿšðÿ rage    '\n",
            " '   someone needs to tell candite shell be stuck with that shitty pout if the wind changes gubbo '\n",
            " '   briar turn that shit off   home button under accessibility nowhen did innovation become mind puckery  iphonephonehome      '\n",
            " '   i just love it when people make plans for me without actually including me in this process rage       '\n",
            " '   ggreenwald tmh remove ideologically bankrupt and opportunistic establishment now theyre burning all bridges and social contracts anger   '\n",
            " '   brendancoots wheres your outrage that your party nominated a lying corrupt person and received donations from nations who support terror   '\n",
            " '   equine how can you even forget to pick ur fave child up from school offended      '\n",
            " '   i get so angry at people that dont know that you dont have a stop sign on francis and you do at foster road rage   '\n",
            " '   soyoprincess they irritate me them and their inch thick made up masks'\n",
            " '   churdallan fucked my coupon that goal        '\n",
            " '   how was natale one of the top three favorites moonfaced and bitter ðÿ    '\n",
            " '   examiner democrats and their voters have zero tolerance for honesty they associate honesty with anger and hate    '\n",
            " '   gerfingerpoken rage the crookedcourt said rage many times to explain away the brutal killings of petits by hayes amp komisarjevsky  '\n",
            " '   towzy cant we brothers protect one another no ones serious and it makes me furious dont be misled just think of fred hayfield       '\n",
            " '    wakes up and says have you tried changing her nappy ðÿðÿšðÿ  '\n",
            " '   minute you have had from me over the years is irrelevant its an absolute joke minute ticketing  nonloyalty joke notimpressed    '\n",
            " '   all hell is breaking loose in charlotte charlotteprotest anger looting     '\n",
            " '   theres this pharm guy wish that guy brings anger into my life when i see him ne like darkness fills me ramatsobanem will know    '\n",
            " '   i had an hour of football practice under the boiling sun and now i have hr volleyball practice under the boiling sun again    '\n",
            " '   testing angry '\n",
            " '   watcherdev warcraftdevs put so much artefact points into fury and cant raid literally wasted  month of my life thanks blizzard  '\n",
            " '   how is it suppose to work if you do that wtv dude thanks for pissing me off furious'\n",
            " '   i was angry   '\n",
            " '   that feel when you travel  miles to pick up a form that arrives in the post two days after you leave fume '\n",
            " '   cineworld congratulations your free  month has been activated then charges â the same month absolutely furious ðÿ '\n",
            " '   tm harveylevintmz   hell hath no fury like a women scorned    its the affair  not the parenting  '\n",
            " '   straight people are canoodling on the quad and im offended   '\n",
            " '   i can definitely feel my irritation today lord give me strength       '\n",
            " '   roberttaitwhu against cheese anything is possible haha im fuming about that bet ðÿðÿðÿðÿðÿðÿ   '\n",
            " '   when you break a record in madden i wish it didnt say the same shit after every rush like you just broke the record shutupphilsimms'\n",
            " '   scare apparently you are to contact me sofas were meant to be delivered today old ones gone sitting on floor no sofas fuming  '\n",
            " '   i have  rabid grizzly bears im going to scatter in neighborhoods all over americanntheyre poor refugeesnninyourneighborhoodnotdc  '\n",
            " '   oreillyfactor why dont elm thugs want justice when its black on black gang crime they only rage and cry racism when its a cop '\n",
            " '   mandyjohnson ill be honest i hope that annoying southern bint with the look at me pout goes out this week seas few   '\n",
            " '   zero help from ups customer service just pushing the buck back and forth and promising callbacks that donât happen  loathing     '\n",
            " '   mdivincenzo hes stupid i hate him low bitter      '\n",
            " '   sky what a joke cut our internet off early by mistake and then dont reinstate it when we no longer need an engineer ðÿ       '\n",
            " '   slipups purely  yeah i received a fine today which i am furious about currently appealing it after being a member for so long   '\n",
            " '   people irritate me ðÿ'\n",
            " '   men in rage strike those that wish them best rage emotions negative positive wish strike martial arts control believe best hope   '\n",
            " '   in  black people are still fighting to be recognized as human beings antisleep  '\n",
            " '   i swear if devincameron blocks me im going to hit her back revenge'\n",
            " '   sky what a joke cut our internet off early by mistake and then dont reinstate it when we no longer need an engineer ðÿ fuming       '\n",
            " '   really reyesaverie  unarmed blacks killed by white cops in  that many die every month in chicago wheres the outrage '\n",
            " '   btu why does tracking show my equipment delivered when it wasnt why is my service suddenly delayed weve already  weeks       '\n",
            " '   does she really need to pout all the time  getting on my nerves gubbo '\n",
            " '   ever put your fist through your laptops screen if so its time for a new one omao rage anger hp     '\n",
            " '   snowangel cjwalters maybe also being attacked by toms rabid fans to whom he amp his clothes were always perfect also put me off him       '\n",
            " '   dear future big brother players just chase dick all season and you too can win  dollars and an sit bb bitter'\n",
            " '   vandashnessa taotaosalupa nobody in that street burning and looting and terrifying innocent citizens was there either    '\n",
            " '   disneyland nothappy and still charging the fullprice ðÿðÿ fuming some your bestrides ðÿðÿ'\n",
            " '   forgot to eat dinner and now im furious with everything and everyone  '\n",
            " '   the girl sitting in front of me is chewing her gum like a cow amp im ready to snap ðÿ      '\n",
            " '   sobbed both are nonsensical if theres injustice against blacks why add to it by destroying black property its misdirected anger     '\n",
            " '   can someone make me a priority list of which things i should be outraged at  in which order  racism animalrights abortion cops   '\n",
            " '   vodafoneukhelp vodafoneuk wow my bill is â and hav a text from u to prove that and you have taken â swines  con  '\n",
            " '   you a fuck boy if you run drag routes back to back in madden   '\n",
            " '   i got fever highs got boiling blood '\n",
            " '   canadatrumpnow donlemon he has bad temperament tantrums hissyfits '\n",
            " '   i cant even right now bb rage     '\n",
            " '   danielsankey hayles haha actually after the doggies im barracking for anyone but gas bitter      '\n",
            " '   why are people that dont have phones so bitter about phones can someone explain '\n",
            " '   ronmexico the guy who calls people cuck and is antibalm is offended by idea that he might not be propolicing reform thats amazing    '\n",
            " '   deshbhakthoon always unhappy and easily offended     '\n",
            " '   susanhensthe shameful display i watched today has left me reeling with so much anger dt i feel like exploding those clowns should watch it   '\n",
            " '   all hell is breaking loose in charlotte charlotteprotest  looting   '\n",
            " '   when youve still got a whole season of whitworth to watch and a stupid cunt in work ruins it for us ðÿðÿ kirstyga  oldcunt    '\n",
            " '   half of epicenter is shut down its police all over all i just burst out in tears this is fucking terrible keithlamontscott  '\n",
            " '   not giving a fuck is better than revenge      '\n",
            " '   winksahoy we about to get shit on by the wrath of winter out of nowhere       '\n",
            " '   grxjictank why though why did u want to offend americans    '\n",
            " '   really reyesaverie  unarmed blacks killed by white cops in  that many die every month in chicago wheres the  '\n",
            " '   ci  i dont think tonalist has respect for anyone but herself i think shell ruffle a few feathers thecal '\n",
            " '   pouk i asked for my parcel to be delivered to a pick up store not my address  poorcustomerservice  '\n",
            " '   thought the box one s madden bundle would come with a physical copy of madden not a codeðÿ its gonna take fucking forever to download low  '\n",
            " '   canadatrumpnow donlemon he has bad temperament  hissyfits  '\n",
            " '   my blood is so bitter for satan to test because cleanse by the blood of jesus christen  '\n",
            " '   the new gun emboli in ios is not enough to show the anger i have towards a number of things  '\n",
            " '   bigbrotherusa she is just jealous and a cry baby bitter gladsheisgone crybaby   '\n",
            " '   i just wanna know why theres no outrage for black on black crime and no one knows those victims but elm is out to kill cops based on media    '\n",
            " '   forever angry that go ruined molly and morgans bondfriendship bitter'\n",
            " '   spurs radio commentator referred to mauricio pochettino as mop and i felt a sudden surge of rage   '\n",
            " '   subdue not immortalbulldog huh we have a sprint coach were the slowest team in the comp talk about robbing a living outrage      '\n",
            " '   cant believe ive only got  days off left ðÿ backtoreality raging'\n",
            " '   austinevaleeds fuming       '\n",
            " '   taking a break from the wedding to rage at the general stupidity of certain people on the internet       '\n",
            " '   ever put your fist through your laptops screen if so its time for a new one omao   hp'\n",
            " '   âmy brother grabbed me in a aggressive manner and as always impetuousfiend threw tantrums like a kid only knowing how to express himself  '\n",
            " '   dont join bucare they put the phone down on you talk over you and are rude taking money out of my acc willynilly  '\n",
            " '   casper i assure you there is no laughter but increasing anger at the costs and arrogance of westminster       '\n",
            " '   people need a way to escapeescape whatsis corrupted worldthis reality this jokethis fury of constant pain amp stress need a vacation'\n",
            " '   i love my black people i really really do but  my people really do irritate the living hell outta me all cause im different ðÿ   '\n",
            " '   i dont talk about politics because people nowadays get offended easily       '\n",
            " '   manny daretoreagan oh yeah i hate the air raid and i dont like the oregonbaylor offense and im not a fan of the ole miss one either   '\n",
            " '   askpsuk not received verification email asked for it to be resent  times still nothing    '\n",
            " '   unbelievable takes  minutes to get through to barclaysuk then theres a fault and the call hangs up  treatcustomersfairly  '\n",
            " '   will no justification for shooting without provocation even if the person has a bad history justification is not the way to go '\n",
            " '   i genuinely think i have anger issues  '\n",
            " '   judythat im honestly offended'\n",
            " '   micelle is one of the worst players in bb history bb finale bitter     '\n",
            " '   im so annoyedsad couture is burning itself to the ground ðÿðÿ    '\n",
            " '   how can i tell happy anniversary when u are not happy bitter ampalaya paitpaitanangpeg   '\n",
            " '   just paid for chicken at panerabread and didnt even get any ðÿðÿðÿ there goes  dollars and me as a customer   '\n",
            " '   never forget that live cancelled programs to allow them to extend  so people could call in and detail their outrage after our behaviour   '\n",
            " '   when someone rudely says all women should have long hair and your inner feminist tries not to rage     '\n",
            " '   absolutely raging at the changes to was what a joke   '\n",
            " '   girls irritate me so much low  '\n",
            " '   lickmelucas im waiting for you to figure out im like from  to  real quick with the irritation    '\n",
            " '   xxmariab listen th dont provoke me cos ill make you cry     '\n",
            " '   lumber did you even give out any pizzas  serious fail hungry furious angry       '\n",
            " '   bloody parking ticket ðÿðÿ '\n",
            " '   scare apparently you are to contact me sofas were meant to be delivered today old ones gone sitting on floor no sofas  '\n",
            " '   thomsoncares sam yes we have not helpful at all we need this sorting asap you keep promising stuff that doesnt happen        '\n",
            " '   theyre like the rape apologists who inadvertently make men sound like rabid mindless beasts with friends like these   '\n",
            " '   and she got all angry telling me but what would be doing a  year old guy looking for a girl like you and i felt offended  '\n",
            " '   agirlhasnoname mdlmurray shot by black police woman typical looney toon thinking pillary divide  chaos  '\n",
            " '   unitedfrontrev juandeznuts lucidhurricane sex offense happens across all races cultures and creeds amp they should be castrated'\n",
            " '   jasonmillerindc realdonaldtrump prudence suggests that a  bump over  weeks should be viewed with skepticism mediary axis angry     '\n",
            " '   lesyoung a rabid dog being ridden by the child who has eaten all the flesh off one fellow and the limbs of the other adults'\n",
            " '   theonesoleshoe that is one thing but attacking and hating is worse  that makes us just like the angry vengeful behavior we detest    '\n",
            " '   delete this shit josh just screenshotted my snap me    '\n",
            " '   can someone make me a priority list of which things i should be outraged at  in which order outrage racism animalrights abortion cops   '\n",
            " '   corbettbarr pervs brianclark true just me spitting venom because im still bitter with stripe like an old man yelling from his porch     '\n",
            " '   i will never watch greys anatomy ever ever ever ever ever again if shonde rimes takes away another og characterâïâïâïâïâïâïâïâïâïâï fuming    '\n",
            " '   i wonder what would happen if i were to tell some people the truth savage phoh angry'\n",
            " '   you will never find someone who loved you like i did and that my love will be my revenge    '\n",
            " '   a firsts not turning up why am i not surprised late for work again       '\n",
            " '   if you be angry which may be the case amp which may be unavoidable see that the sudden excitement does not become sin albertbarnes     '\n",
            " '   lemonlover shit doesnt even begin to describe these fiery little demons straight from hell ðÿœðÿœš   '\n",
            " '   i am just so bitter today ðÿ '\n",
            " '   hoopdawg micktheperm meanwhile white cops keep killing black people but theres less outrage about that strange society that    '\n",
            " '   scandian hillaryclinton her team must draw from a hat for daily personality drugged angry yeller quiet screamer ðÿðÿ     '\n",
            " '   heading home to cut grass in the heat all i wanna do is go out to eat somewhere air conditioned pout adultingistheworst    '\n",
            " '   ooh my god uugghh rage       '\n",
            " '   i will never watch greys anatomy ever ever ever ever ever again if shonde rimes takes away another og characterâïâïâïâïâïâïâïâïâïâï    '\n",
            " '   salicin mrscagg specific amp intentional way and part of that intention is to provoke conversation around systemic racism towards blacks'\n",
            " '   alyssasimpson i gave up rendrock lazar to eat barbecue with him bitter    '\n",
            " '   wynnea then he said talking about wills uncontrollable animals when moving to another link these comments do not help     '\n",
            " '   alicehouston sorry im just angry my drone flew away'\n",
            " '   carefreeash id be fuming     '\n",
            " '   sandra amayaallyn shut up washrags are cool offended    '\n",
            " '   starklydark i know you trusted me his words were soft as he ignored the anger and focused on the hurt beneath i know i screwed up    '\n",
            " '   i wonder what american city will be next to protest about police shootings who next tmh whenwillitstop  howmanymoretimes'\n",
            " '   why ms so bitter      '\n",
            " '   im on holiday for the next round fuming      '\n",
            " '   did we miss the fact that burkeramsey swung amphid his sister jonbenet in the face with a golf club previously out of a fit of anger     '\n",
            " '   nytopinion  the point of voting for trump to push all the pieces off the board game like an angry toddler wreck everything for everybody    '\n",
            " '   like if you aggravate me constantly byee'\n",
            " '   sexual jdspielman rip to the s of black men womenchildren killed in chicago where is the outrage '\n",
            " '   inpouring this letter we are dying over against subsist checking quaint virtuoso ways toward fine huff yours l      '\n",
            " '   hitting your children as discipline because youre being quite a raging hypocrite if youre not       '\n",
            " '   sorry im so bitter i just i either want a pure ur or literally any card from the sets i like but every time i draw for the sets i likest   '\n",
            " '   danrather what king says doesnt matter the fact he came w psycho don is by far more of an affront '\n",
            " '   julian bloody right ' '   i have so much hw tonight im offended  '\n",
            " '   like hello i am your first born you must always laugh at my jokes offended  '\n",
            " '   the outrage has passed and has been replaced by a mute fatalistic acceptance of the current situation  fatalism     '\n",
            " '   have wee pop socks on and they keep falling off inside my shoes        '\n",
            " '   and apparently hes supposed to have a scottish accent im offended'\n",
            " '   seek to conduct attacks against israel intended to provoke a reaction that would further inflame feeling within the islamic worldâ â     '\n",
            " '   lost frequenciesjanieck deny  reality gestor saber veil remix is raging at outdrive    '\n",
            " '   eaglegiles tgilmore what i miss outrage       '\n",
            " '   allegedlowbrow its eyeforeye indian army never forgives never forgets they always take revenge pakistan breaks laws ia follows     '\n",
            " '   worst juror ever micelle you were nicols biggest threat  bb   '\n",
            " '   lui seeing a man with a scowl on his face walking with a protein shaker clenching his fists i immediately stop n suck his dick'\n",
            " '   fake people irritate me'\n",
            " '   said it before and ill say it now america is really fortunate that black people only want equality and not revenge  '\n",
            " '   anger or wrath is an intense emotional response     '\n",
            " '   tarasetmayer oliverdarcy aa have the right of passage when it comes to the n word  why should he insult him in his church  ignorant     '\n",
            " '   if we let that in id be fuming poor keeping    '\n",
            " '   lynnegarrison yeah ive only seen that floated online as a theory it was probably made up by a bitter stand i ignore pets v vets crap too   '\n",
            " '   shyness when the east wind blue in summer in urban s africa we still surfed and got stung badly must be carefully sting can harm you   '\n",
            " '   lisaasquithtobe craig waynehaselden junewigan everyone is against wigan because we are the biggest club bitter      '\n",
            " '   because it was a perfect illusion but at least now i know what it was angry ladygaga iscalmingmysoul     '\n",
            " '   bandage amp her pout are getting right on my tits gubbo      '\n",
            " '   johnaugust cymarin i was so looking forward to abcdesignated then it opened with a stuartspecial i literally yelled at my tv    '\n",
            " '   bang gordon brown has been accused of abusing a gazillion rabid parrots    '\n",
            " '   petition for nonmaghrebi pot to stop buying couscous from white grocery stores and boiling it that is not couscous that is trash '\n",
            " '   esp just assumed i wanted their free magazines offended      '\n",
            " '   yo theres a kid on my snap chat from la amp they get high off helium gas omao i am like why the fuck low'\n",
            " '   repdelbene todays proceedings and the entire process is an insult to our constituents   '\n",
            " '   serendipity zombiecalorie angeleyes im sensing a theme here tho low angry  '\n",
            " '   kingcharlesth i looked forgot you had twitter and if you dont follow me back im gonna be offended  '\n",
            " '    flat party and i instantly get bollocked about it '\n",
            " '   everycolorbot more like every color looks the same triggered colorblind offended   '\n",
            " '   divamagazine than straight people even the arse straight guys who think that means a threesome is fine     '\n",
            " '   douthatnyt louie damonlinker yes it is bad to point out racism lest it provoke the racists  some racists do indeed not like it  '\n",
            " '   headskin jrzyboy this is about him being left off because they wanted to play a heavier game we needed his offense tho amongst others    '\n",
            " '   dubby leafyishere  i am offended   '\n",
            " '   rosebush hello the bigger the bully the more crocodile tears bullies always act like offended victims '\n",
            " '   irishtimespol irishtimes irish citizens boiling drinking water in  leaves one foot firmly in the bog    '\n",
            " '   caudices pout is gonna take someone eye out mate gubbo       '\n",
            " '   ive always had a weird grudge against stingrays ever since one killed steve iron    '\n",
            " '   jwolfie why you gotta use the dark skin emboli offended      '\n",
            " '   im not saying he might be like big foot but it might be like natural biological father says blood boiling if he cross '\n",
            " '   i really really resent having to go to bed at a sensible hour you guys i want to talk to my people  '\n",
            " '   nmnicknocturne incentivise people to roam the internet being morally offended as if they didnt do it enough already       '\n",
            " '   not to be that personâ but i get bitter seeing some ravin stand       '\n",
            " '   darrenhammer amen nothing personal mate just tired of all of the complaining from our fans its been a relentless tirade of misery'\n",
            " '   micelle is one of the worst players in bb history bb finale     '\n",
            " '   dear indianist is hard to swallow this but for once try to swallow this bitter pillthat is pakistan is number one in test cricket    '\n",
            " '   a little nose irritation and a little more chills on my body im so not into flu into flu into flu folksongs       '\n",
            " '   i am real saw i will not let america down have found us now go and get usnin let it out and i let it inn rage i lolnsergiosarzedo'\n",
            " '   connivers blind to existential fury    ' '   guys irritate me       '\n",
            " '   firsttweetever sipping hotchocolate wondering why i finally gave in lt haha hellootwitter  its because facebookisforfamily rage'\n",
            " '   unca what they should be doing is directing their anger to the thieves in governmentcorruption feesmustfall      '\n",
            " '   need a new outlet for rage    '\n",
            " '   swagalini ive been through the denial and anger i am in pure acceptance       '\n",
            " '   sapientsoldier timid but determined version of the rabid beasts beyond the land growling beneath my restrained breath i rip myself    '\n",
            " '   im not used to pretty girls that use curse words to express their anger i just feel like im a little bit surprised and turned off as well   '\n",
            " '   tzumixiv huff puff    '\n",
            " '   hell hath not fury like a hamstring cramp ouch       '\n",
            " '   actually be arsed with my sister sometimes she controls the tv  of the time and when i watch one thing she gets in a huff ðÿ     '\n",
            " '   fireemblemlord its the first expat since wrath that feels like a proper evolution of the game for me       '\n",
            " '   thebeastufc what happened to the suicide tweet it was a joke obviously how could that offend anyoneðÿ     '\n",
            " '   paulkrugman relentless echo chamber  negative comments with lots of reverb typical bully behavior  '\n",
            " '   when you find out the initiative isnt even a thing ðÿ revenge      '\n",
            " '   djddueces mojo at  and not midnight lets rage wry   '\n",
            " '   ill happily be rude to people who personally insult me unprovoked they deserve it ðÿ just as good people deserve respect   '\n",
            " '   that ak leave your spine with a frown'\n",
            " '   come on lets make em hate ðÿmake em pout they face ðÿðÿ'\n",
            " '   recommended reading prisoners of hate by aaron beck anger    '\n",
            " '   alanafergusson snap mee      ' '   dimly resent  '\n",
            " '   forever angry that go ruined molly and morgans bondfriendship        '\n",
            " '   disgracefulesin i resent all men in some way for some or no reason at all esinscountdown   '\n",
            " '   tilltheendmmvi i accidently dumped boiling water my myself ðÿ'\n",
            " '   ggreenwald tmh remove ideologically bankrupt and opportunistic establishment now theyre burning all bridges and social contracts  '\n",
            " '   as usual disappointing offense by houstontexans texans   '\n",
            " '   mdivincenzo hes stupid i hate him low      '\n",
            " '   puselepuru its the irritation of not having found the corpse '\n",
            " '   never make a decision when you are  angry gilt  and never make a promise when you are happy  '\n",
            " '   girlsreallyrule both trump  king are relentless selfpromoters who dont give a rip about anyone else a perfect match for both donald     '\n",
            " '   coltonflurry strangefacesla i cancelled by cubs all access live feeds before c even said vic won afp paulshould have won imo bitter       '\n",
            " '   whenever i put i wanna be adored on my brother always sings i wanna be a dog instead just to irritate me  '\n",
            " '   johnaugust cymarin i was so looking forward to abcdesignated then it opened with a stuartspecial i literally yelled at my tv umbrage   '\n",
            " '   i dont get what point is made when reporting on charlotte looting cnnashleigh why not explore what looting businesses symbolizes outrage   '\n",
            " '   arcadianluthier  taking out his feelings on key unfairly his lips form a frown as he tries to walk away   '\n",
            " '   laura ive left it for my dad to deal with ðÿ my work is done as soon as its felt the wrath of my slipper ðÿ '\n",
            " '   leave it on there rulenimber  of carpet cleaning  worsethananatomicbomb accidentlyspillbeeronthecarpet '\n",
            " '   warner yikes the wrath of waddie      '\n",
            " '   nigerianscamss trillsmith you think i came back to twitter and not ruffle a few bushes th'\n",
            " '   leafyszerker markiplier is that an insult sounds like a job well done its red so its done the job it was suppose to do justifying      '\n",
            " '   hudcomedy adamrowe  insult slutfaceshlongnugget     '\n",
            " '   i need some to help with my anger      '\n",
            " '   cbsbigbrother never bring back meech and briquette crying because someone looks at you ugh and briquette bitter  '\n",
            " '   hey folks sorry if anything offensive got posted on here yesterday my account got hacked all fixed now though i hope   annoyed   '\n",
            " '   now its time to remove cb from the team somehow screw it rip the bandaid off itll sting for a bit but everyone will get over it '\n",
            " '   caudices pout gets more preposterous by the week this week its gone a bit jack nicholsons joker gubbo     '\n",
            " '   keithboykin unfortunately it wont end there followers of whichever candidate isnt elected will throw tantrums no winning this elec      '\n",
            " '   scandian hillaryclinton her team must draw from a hat for daily personality drugged  yeller quiet screamer ðÿðÿ   '\n",
            " '   caudices standing pout face aggravates me every week  '\n",
            " '   think i really broke young bull hurt ðÿðÿðÿðÿ u can tell by how bitter and mad he is ðÿšðÿšðÿðÿ  '\n",
            " '   ostinong youth ðÿðÿ plus clin ep and prevued ughs wahahe bitter       '\n",
            " '   hebertofnh any time a man who got paid to throw temper tantrums speaks up you gotta listen  '\n",
            " '   as if he heard my thought on the ether my ex has just posted talebook pic of himself snuggling up with said cats now im just angry     '\n",
            " '   dont provoke me after letting me down        '\n",
            " '   could never be a angry drunk low all weirdos just enjoy your time     '\n",
            " '   yet we still have deaths road rage amp violations on the road despite a widely accepted concept of personal accountability while driving'\n",
            " '   siobhansynnot  oh good god quintin lets is doing one of his comedy turns angry bbcthisweek feil bact     '\n",
            " '   trumpvideos she looks completely rabid realdonaldtrump     '\n",
            " '   inner conflict happens when we are at odds with ourselves honor your values and priorities  innerconflict conflict values '\n",
            " '   pipe when public outrage occurs expand pap patient assistance program couponsrebates gopoversight oversightdems on milan pipe    '\n",
            " '   imagine the twitter fume if corby loses the election and then smith leads labour to a worse result than suggested under corby imagine    '\n",
            " '   bosnaud so scared to ruffle feathers he resorted to writing in cryptic code unclecamscabin '\n",
            " '   didnt think cadres not getting sac deployment would make some cadres so bitter ku tough macon       '\n",
            " '   i miss doing nothing someone i care about and attacking their face with kisses foreveralone bitter ðÿ     '\n",
            " '   that grudge youre holding keeps making an appearance because god wants you to deal with it  '\n",
            " '   tappaul chetanlfc mannkakhiladi deyspandan umeroffcial  comparing ashy sir with this nandu balm is an insult to ashy sir    '\n",
            " '   ðÿanger is the acid that can do more harm to the vessel in which it is stored than to anything on which it is pouredðÿ anger remark twain     '\n",
            " '   if i spend more than â in shimmy on â drinks ill be raging but we all know its gonna happen    '\n",
            " '   i have a rage rage ep  coming out soon ill keep you posted on it couture youtubegaming rage       '\n",
            " '   ramark whats up w the gender bias indignant this fancypants saddlers daughter will opt for the leather jacket thank you very much       '\n",
            " '   when your sister is  and throws legitimate temper tantrums just to get attention   '\n",
            " '   lumber did you even give out any pizzas  serious fail hungry  angry       '\n",
            " '   this provocation sets off a curiosity an entity is feeding fuel to the fire speaking quatrains hmm america needs to be vigilant now'\n",
            " '   patvpeters freebeacon quite the response of retaliation from weiner in getting revenge on huma amp pillary clam diggingnallscumbags   '\n",
            " '   i guess bradangelina gt anger gt blacklivesmatter       '\n",
            " '   now that i have my es number now its time to prank him revenge prank whatprankishoulddo seriously what prank i should i do       '\n",
            " '   do not despise the lord âs discipline do not resent his rebuke because the lord disciplines those he loves proverbs  '\n",
            " '   guy across from me in a really ugly suit cannot stop expressing his displeasure'\n",
            " '   some moving clips on couture tonight of the vigil held at tulsa metropolitan baptist church for terencecruther justice anger sadness       '\n",
            " '   i think i must scare my coworkers when im eating like a rabid animal on my breaks sorry       '\n",
            " '   julian bloody right fume   ' '   royenglish roy as fiery       '\n",
            " '   why a puerto ricin with taino hair and a black nose gotta ruffle your targeted feathers       '\n",
            " '   jasonmillerindc realdonaldtrump prudence suggests that a  bump over  weeks should be viewed with skepticism mediary axis    '\n",
            " '   listening to joey really helps me and my anger'\n",
            " '   kerrybowen you have anger issues    '\n",
            " '   i cant believe theyre all messing up my favourite of all bakes i feel personally offended    '\n",
            " '   i think they may be offended  '\n",
            " '   ashleighjessica zacflint id give that pout the firm d      '\n",
            " '   i am using twitter as a coping mechanism for raging out at this kid oops      '\n",
            " '   agenttinsley i believe thats what you call the fury of the righteous'\n",
            " '   ok but i just got called a white devil on the train and i didnt know whether to laugh or be offended '\n",
            " '   india will take revenge  by making  new movies like phantom and they will be like ghuskmarenge this is how indian army take revenge    '\n",
            " '   cxmbeferre so you wouldnt date me offended      '\n",
            " '   drop snapshot names bored snap swap pics   '\n",
            " '   damn our offense is a mix bag of unpredictable lethal weapons im worried for defense coordinators ðÿ chargers bolts recharged   '\n",
            " '   the bee sting still suck i feel sick   '\n",
            " '   i just love it when people make plans for me without actually including me in this process     '\n",
            " '   healeyraine im offended i actually am       '\n",
            " '   pressure does burst pipes ðÿ '\n",
            " '   voguemagazine did you not learn from repeople s viral insult to ballet stop trying to wrongfully stick models into pointe shoes ðÿ    '\n",
            " '   realdonaldtrump no sense in taking out your wrath on innocent people because you think police shot an innocent man makeamericasafeagain    '\n",
            " '   griffinbowie alimcclimond sorry to offend u griffin     '\n",
            " '   johnkerry can be as indignant as he wants but the world knows drama will do nothing and tutin will just do what he wants aleppo syria       '\n",
            " '   sarahurbina why do you even beef sera you let the anger get the best of you you and satin been friends for how long'\n",
            " '   lydssxx tharealversace fatbellybella fucking lui incense this is me as fuck ðÿ   '\n",
            " '   i screened my own snap what kind of narcissistic ass would tmh '\n",
            " '   i dont even feel anger anymore cant explain it  tulsa charlotte trygon sandrabland philander ferison batonrouge michaelbrown    '\n",
            " '   freepenalties tmortimerftbl doll is a vile creature on the touchline every game he has tantrums amp shouts at the ref would love to see  '\n",
            " '   jwolfie why you gotta use the dark skin emboli        '\n",
            " '   jamming out to fury in math class wanting to die bu   '\n",
            " '   so i wished my sis  midnight but received no reply from her my nd sis just wished her got a reply you know who the far offended       '\n",
            " '   evanareteos  im now writing abt the changing face of sex industry in tr  now men will talk to me then revenge'\n",
            " '   cant believe achilles killed me      '\n",
            " '   amie hah dont speak to me or my cousin like that mind a had the displeasure of seeing u bare faced on eh train no a pretty sight mate    '\n",
            " '   indignation whispers to date during that terrific lermanletts centerpiece scene thats his overwhelming sense of indignation      '\n",
            " '   cbsbigbrother never bring back meech and briquette crying because someone looks at you ugh and briquette  '\n",
            " '   trendykittykat some people would rather hang on to their indignant anger weary sigh'\n",
            " '   verizonsupport thanks for saying my wife and i were getting our phones today and then losing both of them with no eta thanks        '\n",
            " '   thatmoment youre watching worstcelebritycooks and your bubble is burst by finding out kylix is gay and marriedðÿ chance kindadontmindðÿ     '\n",
            " '   women dont like girls because we resent them for looking so great wish we still looked like that  washed  '\n",
            " '   hey folks sorry if anything offensive got posted on here yesterday my account got hacked all fixed now though i hope  angry annoyed     '\n",
            " '   indigohawthorne then u understand that rage is often not pretty or controlled or rational  it is often visceralnot always logical '\n",
            " '   my leg feels like its gonna burst yet im still expected to go into work '\n",
            " '   the best revenge is to move on get over it and continue to succeed never give someone the satisfaction of watching you suffer      '\n",
            " '   get to work and theres a fire drill fire  outttore inthedark      '\n",
            " '   laratheirish lt feel everything she would remember everything lecanora hoped this would serve to fuel the creatures anger and run rabid gt       '\n",
            " '   kimisbored exactly what i have been saying on fb bitter '\n",
            " '   get to work and theres a fire drill fire burning outttore inthedark      '\n",
            " '   simonpennr antisocially has turned into a rather fiery go radical'\n",
            " '   significantly with a bitter smile let me   '\n",
            " '   metpolicefc is it true none of your players are cops do they drink chilled bitter are your players walter mitty types keviboyallen'\n",
            " '   brandon rogers looks fuming ðÿ      '\n",
            " '   chronist umm the blog says with simon steer faking thill expect an investigation forthwith this is an       '\n",
            " '   my baskets are better when im in a bad mood someone irritate me before practice please'\n",
            " '   be chill af if you want to offend someone     '\n",
            " '   drudgereport foxes good thing the fbi didnt offend them '\n",
            " '   you know tyran still hasnt done makeup based on jeongguks tiddy like i suggested and im offended   '\n",
            " '   danrafaelespn no wyson fury beat the man who been at top for years danny fascia should be above badly pacquaio rampion     '\n",
            " '   so i wished my sis  midnight but received no reply from her my nd sis just wished her got a reply you know who the far '\n",
            " '   mtx im not surprised i would be fuming ðÿ   '\n",
            " '   oh these old things on my face nah theyre not tears from school related anger and frustration nope never     '\n",
            " '   british humour should offend and challenge mainstream views hat off to clarkeson the ultra left should go and kneel before allah   '\n",
            " '   i need all your attention if i dont ill pout      '\n",
            " '   audreykare im like half expecting some rabid troll to come into my mentions accusing me of being a sa apologist or something omao   '\n",
            " '   because it was a perfect illusion but at least now i know what it was  ladygaga iscalmingmysoul   '\n",
            " '   puzzle investing opening portland feodal population is correlative straight a snorting infuriate xlzjyhg      '\n",
            " '   ensnarl gives a frustrated growl before stepping closer and putting his gun through the barrier no alarms and nothing happened he       '\n",
            " '   aarongoodwin seriously dude buy some bubble tape for your phones snap broke another phone   '\n",
            " '   when you forget to mention you were bought dreamboats tickets ðÿðÿ raging  '\n",
            " '   now that jasminewrn has snapshot back its a constant battle to see who can get the ugliest snap of one another ðÿðÿƒ snap survival      '\n",
            " '   nick said hes territorial and hell growl if someone gets too close to me hesananimal'\n",
            " '   i dont mean to offend anyone but  literally blames everything on white people in some cases its true but a lot of times its not     '\n",
            " '   he totally knew about it trump finally gets revenge for his soninlaws prosecutionimprisonment and throws christie under the bus '\n",
            " '   inner conflict happens when we are at odds with ourselves honor your values and priorities anger innerconflict conflict values   '\n",
            " '   are belittling kitty straight a service provoke lift aboard mycele  '\n",
            " '   eamaddennfl asports i played a game where john alway was sacked x and fumbled all x is this the same john alway i know of madden     '\n",
            " '   and she got all angry telling me but what would be doing a  year old guy looking for a girl like you and i felt    '\n",
            " '   beargrylls for your next series will u do a celebrity firefighting show and just chuck them all in a burning building and do the voiceover   '\n",
            " '   like i cant do  hours worth of standing or calorie burning in  hours ðÿðÿðÿðÿ stworldprobsvs    '\n",
            " '   before revenge you feel good after revenge you feel worse ðÿ hillaryclinton '\n",
            " '   i wonder what would happen if i were to tell some people the truth savage phoh       '\n",
            " '   take public opinion on revenge with pakistan if govt is unable to decide aajtak timesnow narendramodi      '\n",
            " '   cxmbeferre so you wouldnt date me        '\n",
            " '   the teams that face barca and bayer after a defeat are the ones who face the wrath    '\n",
            " '   i just dont understand why everyone is so angry we all just want to live and thrive dont we'\n",
            " '   kitanoye hell is hot and boiling is eu     '\n",
            " '   welfarereform should not be a model for snap      '\n",
            " '   hillaryclinton yeah u gotta make them heel i know u need their votes so u have to wait but when u losetheyre really in for your wrath    '\n",
            " '   well aprildryan trumps rabid base needs  hear this amp u can always find an overseer like king to say itnjoyannreid show frangeladuo       '\n",
            " '   skipping meals is the national way of showing disappointment and anger wiz '\n",
            " '   streets of rage  was hard to find for a while and then tunes stepped in and the guys doing the vinyl made it so simple     '\n",
            " '   paulbushnell ee bad news if ordered online it hasnt gone through same happened to me had to re order on the phone '\n",
            " '   ultimateboxer my heart because you left me for so long againnslight pout but it turned to a smilennheheh just kidding no im fine    '\n",
            " '   why are people so angry toward veggie burgers at in n out wtv  '\n",
            " '   i mean im not done watching the pilot but its nice to see a group of actors perform without story lines dripping relentless nihilism       '\n",
            " '   checked for my flight to toronto took seat d just to infuriate perpetualgeek    '\n",
            " '   egyptian officials expressed frustration and outrage over the obamahillary administrationâs support of the muslim brotherhood       '\n",
            " '   princesscasgirl daddyellis tiff you better hurry cause ðÿ'\n",
            " '   fleetstreetfox its buzzing pathetically for sympathy if you let it out it will twirl its moustache chuckle and sting you psychogas       '\n",
            " '   matt and i just did a psychological study on provocation in abusive relationships     '\n",
            " '   huffpostuk  no greater wrath than a woman scorned    '\n",
            " '   encurtain they might get donald ãg sure they wont have him in cork as hes to fiery for dopey frank amp his cult  '\n",
            " '   louisfil just curious as to what you mean no rush no animosity no disdain '\n",
            " '   thatomahapa the best revenge is to get yourself a good woman and move on leave her and her hairline to figure themselves out alone   '\n",
            " '   tamriiel i was talking about further in the expansion with more gear  fury always does well towards the end '\n",
            " '   who knew softballs could sting so bad jimmy fallen has been under a lot of heat for his ampldquosoftballamprdquo donald trump interview '\n",
            " '   ostinong youth ðÿðÿ plus clin ep and prevued ughs wahahe       '\n",
            " '   strongestbeing âwould furrow and her face would redden as she protests it would seem that being seen as unattractive in wrongs eyes wasâ       '\n",
            " '   finding out my two best fwiend are going to rage with me at lifeisbeautiful makes this last week of no sleep extra worth it   '\n",
            " '   paul forever paul should have won paul played such a better game bb angry       '\n",
            " '   marthalyssa yep low  '\n",
            " '   auntiesupreme kimberlycarole all found me to express walls displeasure ðÿ       '\n",
            " '   voicematters michaeltpremo just got wind of menforchoice and it doesnt infuriate me just makes me sad for the generation'\n",
            " '   since the update my phone loses power nearly  faster   '\n",
            " '   the sun literally burning my skin      '\n",
            " '   that feel when you travel  miles to pick up a form that arrives in the post two days after you leave       '\n",
            " '   depart donniedollars aaronbiggspro wwenowayjose cwfmidatlantic how did that chop feel you still feel the sting of it looks brutal     '\n",
            " '   chris ate all my mac n cheese so umma eat all his taffy        '\n",
            " '   thomeagle just to help maintain and boost our status as a world class centre for education culture and tolerance outrage   '\n",
            " '   chris ate all my mac n cheese so umma eat all his taffy revenge       '\n",
            " '   its weird because i was discussing sex resentment and confusion in the thing i was writing last night'\n",
            " '   as if he heard my thought on the ether my ex has just posted talebook pic of himself snuggling up with said cats now im just    '\n",
            " '   paul forever paul should have won paul played such a better game bb      '\n",
            " '   bigbrotherusa she is just jealous and a cry baby  gladsheisgone crybaby  '\n",
            " '   clarechampion westclarepage and peter your radio piece on off the ball was pure class  no digs  no revenge  a total balanced pro  ðÿðÿðÿ   '\n",
            " '   coltonflurry strangefacesla i cancelled by cubs all access live feeds before c even said vic won afp paulshould have won imo       '\n",
            " '   the best revenge is to move on get over it and continue to succeed never give someone the satisfaction of watching you suffer    '\n",
            " '   istolefreehugs stephlaris low im happy with my negative realistic ass self sorry to offend you    '\n",
            " '    tierce reaches a deep cross to the back post and plays it back across but the allow defence clear celtic relentless here'\n",
            " '   cant believe ive only got  days off left ðÿ backtoreality        '\n",
            " '   vladfucker i look rabid     '\n",
            " '   thedrepabon elm was outraged by the shooting in no the other day turns out the guy pointed gun at police wait for facts before outrage      '\n",
            " '   i get embarrassed at the slightest things and then ill fret about it all day i hate it'\n",
            " '   sophiejulia calebatchipotle calebpressleyxo relentless pipe thirst sheltered       '\n",
            " '   i dont get what point is made when reporting on charlotte looting cnnashleigh why not explore what looting businesses symbolizes    '\n",
            " '   taurus will react angrily when she cant take being provoked any longer      '\n",
            " '   bismahmalik seems like a fight ready to rage on     '\n",
            " '   westonkoury so leafy can roast the sokemen go kid but not you what an outrage that just means that he is more relevant than yi mean kisses   '\n",
            " '   i think paul is whats bitter not the pastry  '\n",
            " '   patriotsinform i dont see why you think well have a dumbed down simplified offense with grisset he comes from a very complicated system   '\n",
            " '   after becoming boiling hot after slowly melting my heart is frozen  '\n",
            " '   sandra amayaallyn shut up washrags are cool      '\n",
            " '   hoytschile fury road'\n",
            " '   realizing that holding a grudge for long is immaturity is wisdom       '\n",
            " '   boneyard that is a disappointmentnnhe fakes a pout then starts to chuckle      '\n",
            " '   some moving clips on couture tonight of the vigil held at tulsa metropolitan baptist church for terencecruther justice  sadness     '\n",
            " '   regalisazura grasp the cobalt womans own which they did fairly easily fair cheeks would ignite into a fiery hue warm was the only     '\n",
            " '   billbugs direct is the best apparently you just sit in silent anger dont press or say anything '\n",
            " '   i believe women are more fiery because once a month they go through struggle and struggle is what develops a strong character '\n",
            " '   kingcharlesth i looked forgot you had twitter and if you dont follow me back im gonna be    '\n",
            " '   im also definitely still bitter about the yellow ranger not being asian but asian representation in hollywood is essentially a shrug anyway   '\n",
            " '   did we miss the fact that burkeramsey swung amphid his sister jonbenet in the face with a golf club previously out of a fit of    '\n",
            " '   talkrobyn oh dear i have to watch this the woman with the pout did well       '\n",
            " '   life tip  i know unresolved anger is likely to cause problems in several areas of my life i must recognize it amp properly deal with it       '\n",
            " '   sargonofakkad itll be like burning rap albums theyll have to buy it first but gosh darn it they have to get rid of it '\n",
            " '   dock they unleashing gods wrath just as cain did    '\n",
            " '   slaveguinevere its more of a little prick than a sting  but you have to come to tennessee to get it'\n",
            " '   deltadomain sawdraze turions dis dat nigua from fume right '\n",
            " '   projection is perception see it in someone else you also at some level have that within you anger worry   '\n",
            " '   sagehillfarms hintonalisa heather hey ayme were yourðÿðÿ burning cuz i was talking about youðÿ are you going tomorrow '\n",
            " '   savageimiike one of my favorite songs brother real talk rage       '\n",
            " '   controlling anger is a sign of those righteous people promised paradise in the quran in surah al iran verses  reward woodreed    '\n",
            " '   alyssasimpson i gave up rendrock lazar to eat barbecue with him    '\n",
            " '   the  are playing antichrist why wont sundarakarma play hustle its an outrage    '\n",
            " '   donation i blame how broken madden is this year      '\n",
            " '   mmasoccerfan outmagazine no offense but the only way this makes sense is if you work for the magazine otherwisewho are you apologizing    '\n",
            " '   sahh konanplaydirty snap story has got me bussing up ðÿðÿðÿðÿðÿðÿðÿðÿðÿðÿðÿðÿðÿðÿ     '\n",
            " '   ticcikasie with a frown she lets out a distraught gardevin saying that she wishes she had a trainer     '\n",
            " '   skinker lets rage    '\n",
            " '   if i could just get my line to block germantownbroncos colleague popwarner broncos usafootball  lineman '\n",
            " '   biggkatz but arms focused rage is overpowered it will be getting nerved itll still be stronger than fury though  '\n",
            " '   yeving boxing specialkbrook pretty average klitschko fury did about k and joshua white did about k'\n",
            " '   wbirsports theyre still using his offense up the middle x amp punt      '\n",
            " '   jessebwatters low love it when you aggravate juan keep up the good work low'\n",
            " '   judahandthelion tonight legit cant wait to rage ðÿðÿðÿðÿðÿðÿðÿðÿðÿðÿðÿ'\n",
            " '   seeing ripshawtylo got me thinking bout other rappers then i thought about liltunechi dying and burst into tears tmh     '\n",
            " '   donnabellav soniarays gigaholic he looks especially lovely sadly i do not removes potentially indignant mr d from convo       '\n",
            " '   my momma irritate me asking all these questions like gone ðÿ '\n",
            " '   the bubble has officially burst  boys to beat for the trophy and all the glory uptrain bye'\n",
            " '   danielsankey hayles haha actually after the doggies im barracking for anyone but gas      '\n",
            " '   feistyarcher trouble he feigned anger and gave her a look that told her to behave he knew she wouldnt though and that was one of       '\n",
            " '   jbcrewdotcom how his own fans insult him      ' '   i offend u     '\n",
            " '   np rum rage    '\n",
            " '   some bloke on the train who obviously trying to provoke west ham fans by loudly slagging off the stadium to his mate on the phone    '\n",
            " '   welfarereform should not be a model for    '\n",
            " '   thefts tribble nonnetwork i agree but our offense was ass after the second half to score on the first drive    '\n",
            " '   realpaulwalker rip paul furious  cant wait       '\n",
            " '   trampism likewise rests on a bed of racial resentment that was made knowingly and intentionally long before trump got into politics  '\n",
            " '   if you let a general tweet offend you you definitely shouldnt be on twitter '\n",
            " '   as your own lives in order to complete our amazing life journey successfully it is there bitter     '\n",
            " '   marthalyssa yep low bitter  '\n",
            " '   straight people are canoodling on the quad and im     '\n",
            " '   remember when that guy got angry that i kept saying gary ranches was the best baseball player in the world omao    '\n",
            " '   whats a kalis kitten she asked a frown curling on her fair skinned forehead as he showed her the scar a cat did  scarredtiger'\n",
            " '   everycolorbot more like every color looks the same triggered colorblind     '\n",
            " '   my husband found out there are other rabid hockey fans like me as we waited in line  of the  window stickers were for so nhlahl hockey     '\n",
            " '   parrishwalton kjmgolf also our best assets on offense are our res and our was longterm have to have an offense to utilize both'\n",
            " '   unknownandyoung â a low growl escaping him oh oh  '\n",
            " '   riotzxvl uppercuts sting and stub ur toe last for like  secs'\n",
            " '   ive been wanting salty fries from mcdonald since yesterday and im burning my fingers eating them bc these shits ðÿðÿðÿ       '\n",
            " '   love how began is raging about this kendal venner photo and im sat here like ðÿðÿƒ'\n",
            " '   josephperson cam is still rattled from the backlash he received when he made the black b comment and suffered the wrath of white america    '\n",
            " '   because you offended by the lies of alexandria goddard doesnt mean that im erics friend or anything else purely a fishing expedition      '\n",
            " '   all really insult coz of soccer  omao wow  '\n",
            " '   what terrible thing to see and have no visionnhelen kellernnbegin with the end in mindnnstephen covyne whereareugoing  '\n",
            " '   starflowers dreamerabe bitter nicols and cory is why she was evicted    '\n",
            " '   rumanian daiiyroasts what did i do to offend you ðÿðÿðÿ      '\n",
            " '   what terrible thing to see and have no visionnhelen kellernnbegin with the end in mindnnstephen coveynnwhereareugoing relentless       '\n",
            " '   the bitter the battle the sweeter the victory      '\n",
            " '   i resent biting my tongue     '\n",
            " '   you cant fight the elephants until you have wrestled the pigs quoteoftheday '\n",
            " '   people often grudge others what they cannot enjoy themselves  '\n",
            " '   sarah kaileighhxo sorry to burst the bubble but there was never any illusion ðÿˆðÿðÿ  '\n",
            " '   jaybusbee well not archie no offense but hes kinda old    '\n",
            " '   scored madden  on vita for au today  bloke didnt know what he had id have happily paid  ðÿ my only ever bargain bargain it   '\n",
            " '   now they fret about scuffs iâll take scuffs whichâcome in for a phone i can use wet handed or drop in a toilet any day '\n",
            " '   if you yell fire in a crowded theater you will burst into flames its a cool trick bu only once  '\n",
            " '   congress acting indignant over the  pipe pricing is quite disingenuous since they craft the laws that allow such gouging  '\n",
            " '   todding ziggomattic yeah this actually supports why i tweeted in this thread initially because of the articles righteous indignation    '\n",
            " '   we is the live event brock vs orlon  this saturday on the we network if not it needs to be  we randyorton heymanhustle revenge    '\n",
            " '   equine how can you even forget to pick ur fave child up from school        '\n",
            " '   grateful for all the hungry people in my life hungry to learn change grow help etc  not sure anybody has it better      '\n",
            " '   sedgelike eh well i can do the sting vs cactus loser leaves www match at bash at the beach low   '\n",
            " '   warfarepower dip it in boiling water  '\n",
            " '   i have a rage rage ep  coming out soon ill keep you posted on it couture youtubegaming     '\n",
            " '   when anger rises think of the consequences quote wisdom anger     '\n",
            " '   new madden kicking ðÿš'\n",
            " '   i was going to say that romney is a shadow of his former self but i dont want to offend any shadows ntfcvmufc       '\n",
            " '   when you burst out crying alone and u realize that no one truly knows how unhappy you really are because you dont want anyone to know '\n",
            " '   schneiderian taking his revenge for the  fouls'\n",
            " '   justinrow dude the new madden  haha      '\n",
            " '   you are an angry glass of vodka'\n",
            " '   one month til someones day and i think its time to flaunt that i got them something pretty awesome revenge '\n",
            " '   be strong independent and practical stop living in your world of fantasy snap out of it the faster u get used to the reality the better   '\n",
            " '   time wounds all heels drunkjesus rt low wisdom quote comedy self revenge  hate time funny politics trump potus  '\n",
            " '   tehshockwave turn that grumpy frown upsidedownnyou did something next to impossible today '\n",
            " '   you know tyran still hasnt done makeup based on jeongguks tiddy like i suggested and im     '\n",
            " '   the most important thing to strong is to hold your anger thoughts '\n",
            " '   gotta wonder why caller max listens to the show in the first place if you so incense him signorize   '\n",
            " '   i believe im gonna start singing in my snap stories on the tractor switch it up a little bit'\n",
            " '   doing some testing with my current earth burst team    '\n",
            " '   if my luck the rest of fall goes anything like today i think im going to like this season bestdayever magic work '\n",
            " '   also other ppl who i love a whole damn lot erica joanna tiff sirki parley anna the rest of the gc bc i ran out of chara      '\n",
            " '   sippycoups if it hurts too much to eat i read somewhere that marshmallows are good bc they are soft and dont irritate       '\n",
            " '   âœdo not fret if you are not cool humans who follow me become instantly coolâ bot       '\n",
            " '   rappel snap seems to be a problem here      '\n",
            " '   burning the last of yan      '\n",
            " '   cant wait to be in my ninja turtle costume raging at os again this halloween ðÿˆ    '\n",
            " '   greythetick but even if i jumped through that hoop it just takes one irate netizen to decide me playing by the rules isnt enough '\n",
            " '   the best revenge is massive success âfrank sinatra  '\n",
            " '   despite my sharing oneill article what saddens me about the tazza case is there seems to be more fury about the sentence than the remark   '\n",
            " '   i need to stop second guess myself and just go with the first thought and go with it relentless      '\n",
            " '   we worship at your feetnwhere wrath and mercy metwand a guilty world is washednby loves pure streamâgraham rendrock   '\n",
            " '   dear future big brother players just chase dick all season and you too can win  dollars and an sit bb        '\n",
            " '   âœhe who is slow to anger is better than the mighty and he who rules his spirit than he who takes a cityânp bouleverse pride anger       '\n",
            " '   holding a grudge on someone will stop your blessings from god learn to forgive amp forget ðÿðÿ  '\n",
            " '   why does candite constantly pout gubbo ðÿðÿ'\n",
            " '   pugglelover some of those haters are just taught hate and not shown love there is a good quote that goes to your comment tiff treat     '\n",
            " '   nor hell a fury like a woman scorned  william congreve       '\n",
            " '   that is at least the rd time the balls been burst in our games'\n",
            " '   stoozyboy chrissutton ðÿðÿ oh the zombie rage ðÿ   '\n",
            " '   prayers amp protection to our brothers and sisters fighting in charlotte rage against machines   '\n",
            " '   wcsportscamp i loved  privileged exasperation should be bottled and sold   '\n",
            " '   finally made my fury warrior guide let me know your thoughts'\n",
            " '   evanareteos  im now writing abt the changing face of sex industry in tr  now men will talk to me then '\n",
            " '   justpyronow are you gonna do any kind of community raids when wrath of the machine drops     '\n",
            " '   nurse practitioner you look pretty bad no offense of course  unthank you that really added that spark of positivity i needed today    '\n",
            " '   drills turn that frown upside down buddy ðÿƒ      '\n",
            " '   sonofthedovah she could sense the anger stirring within him and took his hand in hers as long as we stay together well both be safe   '\n",
            " '   and apparently hes supposed to have a scottish accent im  '\n",
            " '   perfectquartz shes jogging a bit to stay beside her puffing her cheeks with a huff each time oh jeez jasper why dont you â  '\n",
            " '   richardhbell yes i think he held a grudge '\n",
            " '    i cant guess if you holding a grudge against the best       '\n",
            " '   joegoodmanjr a solution but the assumptions by media in articles and every other venue causes animosity to the conversation'\n",
            " '   lisaasquithtobe craig waynehaselden junewigan everyone is against wigan because we are the biggest club      '\n",
            " '   lysol anyway i found a short scale today that was perfect for my purposes soft on the hands wont aggravate my nonchronic tendonitis   '\n",
            " '   gateway vs before today at  at home never been so excited revenge'\n",
            " '   tonights disgrace altars episode gave me life years queens teamalaska teamkatya revenge wahahe  '\n",
            " '   kimisbored exactly what i have been saying on fb '\n",
            " '   my wasp sting is so itchy      '\n",
            " '    haired man strides close and watches as the major flinches away from him the reaction draws a growl from his throat   dochquinzel    '\n",
            " '   sorry my feelings offend u ðÿ '\n",
            " '   sorry to burst your bubble but it isnt that century anymore welcome to the st century     '\n",
            " '   i cant even right now bb   '\n",
            " '   asian tiger mosquitoes are so relentless more aggressive than the kind i dealt was a kid   '\n",
            " '   sometimes the best motivations come from proving them wrong energy relentless motivationalquotes  '\n",
            " '   lonelygoomba i wouldnt bring this up if i were you its a very touchy subject and people get way to offended these days    '\n",
            " '   are you lost in the fury fearing that you fail    '\n",
            " '   i need a ðÿsushi dateðÿ anzalduag ðÿan olive guarded dateðÿ lexiereid and a ðÿšðÿrocks dateðÿ tiff '\n",
            " '   my alarm clock was ringing this morning n my flatmate knocked on my door and asked if i set anything on fire or if im burning alive     '\n",
            " '   thenastyp now you gotta do that with fast n furious '\n",
            " '   notquitefrodo dominictarason i remember tas in the gametes program said he had temper tantrums in class all the time low     '\n",
            " '   i love that tay amp tiff are just sitting at my house while im at work ðÿƒ '\n",
            " '   âœhe who is slow to anger is better than the mighty and he who rules his spirit than he who takes a cityânp bouleverse pride      '\n",
            " '   meghanemurphy oh gosh if you get  raging comments from cruise fans i will just die laughing    '\n",
            " '   skipping meals is the national way of showing disappointment and  wiz       '\n",
            " '   strong hands moving to firmly grope each of whimsicallywilds thighs squeezing as her digging nails extract a growl from me       '\n",
            " '   lghteyes u tried boiling em takes years too'\n",
            " '   rah if u know who died i would also burst out cryingnfrom joy ðÿ      '\n",
            " '   crayontocrayon suescoby nits always fun to anger all the old dudes with rock n roll '\n",
            " '   being bitter only hurts yourself omao'\n",
            " '   sometimes i think the british political landscape is desolate and then i look over at the foaming wasteland of the us and think were ok       '\n",
            " '   a wise man told me that holding a grudge is likenletting somebody just live inside of your head rent free     '\n",
            " '   heading home to cut grass in the heat all i wanna do is go out to eat somewhere air conditioned  adultingistheworst '\n",
            " '   barackobama i love dizzy warrens latest rage against wall street    '\n",
            " '   when you forget to mention you were bought dreamboats tickets ðÿðÿ  '\n",
            " '   praying for the lord to keep anger hate jealousy away from your heart is a sign of maturity conciseness  '\n",
            " '   my little sister sure can hold a grudge ðÿðÿðÿ   '\n",
            " '   shieldscap lt steve between his feet feeling a blush sting his cheeks i can undress myself thank you very much he snapped gt'\n",
            " '   one of the main things im doing w c is filling in the void of my empty bitter heart by making everything how i wanted it to be growing up   '\n",
            " '   snap music kept me from running into traffic '\n",
            " '   when anger rises think of the consequences quote wisdom    '\n",
            " '   never make a decision when youre angry and never make a promise when youre happy wireworms     '\n",
            " '   keep in mind were all weak dont insult people just because theyre human  '\n",
            " '   donation i watch all your videos but i like madden better   '\n",
            " '   projection is perception see it in someone else you also at some level have that within you  worry '\n",
            " '   so rangers v celtic ll revenge'\n",
            " '   lethargytyler eh i guess i want to everyone ive ever burst out laughing in front ofðÿ   '\n",
            " '   kateracculia themathofyou its true i reverseengineered the drink its a scientific method i hear its all the rage     '\n",
            " '   kodieburch yessapparently youve been popular on snap ðÿ '\n",
            " '   when a grown adult doesnt drink or has never drank before i just assume they were raised around a raging alcoholic and they want no parts    '\n",
            " '   eamaddennfl asports i played a game where john alway was sacked x and fumbled all x is this the same john alway i know of     '\n",
            " '   zomba piso and hit sessions sweaty burning but so good missedoutonsummerbikinibodybutwintersunbodywilldo'\n",
            " '   jamiesonhelen mariankeyes all three of my gains on the pout        '\n",
            " '   anger is cheap and politeness is expensive dont expect everybody to be polite thoughtfulthursday  politeness      '\n",
            " '   dont give someone power by letting their words offend you     '\n",
            " '   rt rolamite i need that one back that whole cd was hard the one with a rage flew through rhyme flow n the  u speak on the dollar       '\n",
            " '   lot  would give chandi road rage    '\n",
            " '   stutteringgiant at least his character in fast and furious pumped some adrenaline into the franchise but thats about it     '\n",
            " '   how can i tell happy anniversary when u are not happy  ampalaya paitpaitanangpeg  '\n",
            " '   i love when pinksaltwarrior angry tweets bc it makes me laugh but also hate it bc it makes me miss her more   '\n",
            " '   when you find out the initiative isnt even a thing ðÿ       '\n",
            " '   all this from a cigarette burning in lauras hand the angle of her chin the purse of her lips gorgeous transitionlaurengrodstein    '\n",
            " '   this all resent india pakistan problem is save nawazsharifnimrankhanptinptiofficial     '\n",
            " '   awareness seek shelter leto old habit of chasing desires resulting in anger fear worry choose satisfaction within peace relax    '\n",
            " '   realjeffsdomain woolpack theme and trons and sting wore the wolf shirt'\n",
            " '   chat sadness with resentment is the past sadness with fear is the future try to live in the now chat   '\n",
            " '   anger is cheap and politeness is expensive dont expect everybody to be polite thoughtfulthursday anger politeness'\n",
            " '   jojojosiejay or in my case a raging moody cow low why i buy moody cow socks low       '\n",
            " '   im just doing what u should b doing just minding my business and grinding relentless lit '\n",
            " '   holding a grudge doesnt make you strong it makes you bitter forgiving doesnt make you weak it sets you free'\n",
            " '   pianimadi regarded tes snap    '\n",
            " '   standard candite starting the show with a pout startasyoumeantogoon gubbo     '\n",
            " '   klepto the orange one is poisonous and bitter you shouldnt judge the blue one by how it looks but by how it tastes delicious  '\n",
            " '   who got madden  or k ps add trackdawgt lets run it       '\n",
            " '   i wish the next madden has a story mode too just like fila  madden '\n",
            " '   metsprospecthub brianpmangan taking offense to couthe ranks  of  over last  years by saber  '\n",
            " '   justinbieber thank u austin for this amazing concert i cant believe that only u can provoke these thousand smiles these nightbelievetour   '\n",
            " '   theboxinghub klitschko klitschko over fury any day boxing'\n",
            " '   the best revenge is massive success   '\n",
            " '   twanging  chinas first space laboratory will come to a fiery end in late  the average decommissioned satellite either burns        '\n",
            " '   houston might lose a coach tomorrow or by midnight yikes    '\n",
            " '   well the lines for sweden goals sure sting '\n",
            " '   dont get bitter get better  ' '   dont be bitter'\n",
            " '   went n a bodega  incense looked  the sis behind the counter amp it was like a mirror she said where u from i said here she said no originally       '\n",
            " '   recommended reading prisoners of hate by aaron beck   '\n",
            " '   charlottebnntt thats the joke i know its incense   '\n",
            " '   leveled at the half much better offense expected in the second half   '\n",
            " '   subdue not immortalbulldog huh we have a sprint coach were the slowest team in the comp talk about robbing a living       '\n",
            " '   firsttweetever sipping hotchocolate wondering why i finally gave in lt haha hellootwitter  its because facebookisforfamily      '\n",
            " '   one of my favorite classic cars is the plymouth fiery '\n",
            " '   as your own lives in order to complete our amazing life journey successfully it is there     '\n",
            " '   kick me i want to swap pics i will post on my account anonymously if you wish kick vsvplou kick kike snap nudes tits snapshot     '\n",
            " '   focus on yourself dont let others love define you when youre happy and dont let it make you bitter if you get hurt       '\n",
            " '   i wish the next madden has a story mode too just like fila  '\n",
            " '   impugnvalkyrie i frown and cup your cheeks in my hands after you step aside angela i care about you and i dont know how else i can      '\n",
            " '   ðÿthe intensity that sydneyswans play at is extraordinary relentless aflcatsswans affinal ðÿðÿðÿ '\n",
            " '   need a new outlet for  '\n",
            " '   i need a ðÿsushi dateðÿ anzalduag ðÿan olive guarded dateðÿ lexiereid and a ðÿšðÿrocks dateðÿ       '\n",
            " '   keener libbyfloyd heazy my snap is andriaprebles âï '\n",
            " '   colors of the leaves are changing  heatwaves in la still raging  lattes made in batches visit pumpkin patches folksongs '\n",
            " '   shopgreenwich lof what shall we do this weekend  spraypainting in greenwichmarket with snub core lilylou fret amp benoakley '\n",
            " '   it takes a man to suffer ignorance and smile be yourself no matter what they say    '\n",
            " '   frizzeyesjr mee im ll  and i have not a single relentless     '\n",
            " '   inferno paladinsgame umm that dragons fury though    '\n",
            " '   nessamatthews hes perfect but not even in that way where you sort of resent him or suspect that he leads a double life just perfect       '\n",
            " '   jetmisstee i thought i peeped him on your snap thats the homie âœšðÿ low  '\n",
            " '   plump andyrichter  my heart goes out to that woman for the indignity of what she is sitting through '\n",
            " '   you cant fight the elephants until you have wrestled the pigs quoteoftheday relentless     '\n",
            " '   serendipity zombiecalorie angeleyes im sensing a theme here tho low '\n",
            " '   esp just assumed i wanted their free magazines        '\n",
            " '   if my luck the rest of fall goes anything like today i think im going to like this season bestdayever magic work snap   '\n",
            " '   these newenglandpatriots jerseys look like some whack ones that you tried to make when you made custom jerseys on madden   '\n",
            " '   dmanthonyjoseph theclumpany no grudge only truth in abundance      '\n",
            " '   lesdogg take me with you j have fun relax get a massage or two and chill dont eat the cucumbers most places frown on that  '\n",
            " '   am meeting olympic house golds   neverquit believe dreaming teameo goinggold   '\n",
            " '   houston might lose a coach tomorrow or by midnight  yikes offense  '\n",
            " '   its easy to hold a grudge harder to let go   '\n",
            " '   prayers amp protection to our brothers and sisters fighting in charlotte  against machines'\n",
            " '   testing        ' '   happiness is the best revenge  '\n",
            " '   i forgot about this nice area down here with the fiery hearths '\n",
            " '   it takes a man to suffer ignorance and smile be yourself no matter what they say sting     '\n",
            " '   finnicky also madden isnt the funniest game to watch and if there isnt much happening its boring '\n",
            " '   mm okay ham for you and turkey for me gives his hair a ruffle before heading back in the kitchen to set out the gtgtndarksithkenobi  '\n",
            " '   oh my watching rage its been like ages    '\n",
            " '   like hello i am your first born you must always laugh at my jokes    '\n",
            " '   sometimes the best motivations come from proving them wrong energy  motivationalquotes     '\n",
            " '   tonights disgrace altars episode gave me life years queens teamalaska teamkatya  wahahe  '\n",
            " '   and nato nod she also like tha bands but she also frown will the bands papa roach be at concert     '\n",
            " '   if someone keeps laughing at you dont fret   at least u r giving happiness quotes quotestoliveby   '\n",
            " '   wesrucker sounds like a good game plan for our offense '\n",
            " '   the most important thing to strong is to hold your  thoughts       '\n",
            " '   so rangers v celtic ll ' '   i think they may be    '\n",
            " '   i should really study today for chemistry but playing madden is just way more fun     '\n",
            " '   i love the word fret so much and im in heaven  '\n",
            " '   we is the live event brock vs orlon  this saturday on the we network if not it needs to be  we randyorton heymanhustle     '\n",
            " '   thursdays at pm vespers amp meditation prayerful plainsong multisensory candles incense psalms music silence faithful sing or listen       '\n",
            " '   pray for my boy huff   '\n",
            " '   gateway vs before today at  at home never been so excited '\n",
            " '   snap halesia ðÿƒ   '\n",
            " '   i need to stop second guess myself and just go with the first thought and go with it  '\n",
            " '   am meeting olympic house golds   relentless neverquit believe dreaming teameo goinggold       '\n",
            " '   ezlisteningdisc it doesnt offend me but its just weird  '\n",
            " '   drop snapshot names bored  swap pics'\n",
            " '   follow me on snapshot ðÿ carlabtst snapshot       '\n",
            " '   i love when girls are busy in teaching how to pout while taking sellie in a mall  their vesication is immense women love perfection      '\n",
            " '   follow my girl tiff she only got  followersðÿðÿðÿðÿðÿ tiffany   '\n",
            " '   msheartattack peanut butter takes away the sting     '\n",
            " '   hate to see all frown but id rather see him smiling ðÿâœ '\n",
            " '   jaredleto dared  snap ðÿ '\n",
            " '   kick me i want to swap pics i will post on my account anonymously if you wish kick vsvplou kick kike  nudes tits snapshot  '\n",
            " '   ordered my vacation bathing suits one less thing to fret about       '\n",
            " '   cheap pout my broadcast '\n",
            " '   ughs love a clean house and my incense lit aromatherapy       '\n",
            " '   follow me on snapshot ðÿ carlabtst snapshot snap '\n",
            " '   vale vale sip sangria and taste tantalizing tapas elcidla  s fiery flamenco nights minutesfromhom silverlike la flamenco      '\n",
            " '   grateful for all the hungry people in my life hungry to learn change grow help etc  not sure anybody has it better relentless  '\n",
            " '   love the new song i cant stop thinking about you by sting   '\n",
            " '   thomeagle just to help maintain and boost our status as a world class centre for education culture and tolerance    '\n",
            " '   savageimiike one of my favorite songs brother real talk     '\n",
            " '   one month til someones day and i think its time to flaunt that i got them something pretty awesome  '\n",
            " '   arena angryorchard he didnt sting me luckily he just flew off happy and drunk lolololol      '\n",
            " '   wellie just gave me loads of gifts with notes on em for uni n i burst out in tears i love herðÿ      '\n",
            " '   eaglegiles tgilmore what i miss        '\n",
            " '   callidissima ahouseingotham wrath of khan is one of the best movies of all time      '\n",
            " '   im girly in the sense that i always have lashes amp nails done but tomboy in the sense that black is my only color amp refuse the ruffle life     '\n",
            " '   follow up follow through be relentless success    '\n",
            " '   court turn that frown upside down   '\n",
            " '   corningfootball  its game day      t minus  '\n",
            " '   rose incense are the best thing ive ever bought       '\n",
            " '   james literally burst out laughing     '\n",
            " '   follow up follow through be  success       '\n",
            " '   wrinkles should merely hide where frown have been   mark twain       '\n",
            " '   love the new song i cant stop thinking about you by  ']\n"
          ],
          "name": "stdout"
        }
      ]
    },
    {
      "cell_type": "code",
      "metadata": {
        "id": "mM2sneye32CA",
        "colab_type": "code",
        "colab": {
          "base_uri": "https://localhost:8080/",
          "height": 34
        },
        "outputId": "e4c3dbf9-f2fb-4fb9-e502-257fc9404838"
      },
      "source": [
        "print(tokenizer)"
      ],
      "execution_count": 224,
      "outputs": [
        {
          "output_type": "stream",
          "text": [
            "<keras_preprocessing.text.Tokenizer object at 0x7f1b6f87a7b8>\n"
          ],
          "name": "stdout"
        }
      ]
    },
    {
      "cell_type": "code",
      "metadata": {
        "id": "2m_Uq6Uf4ReV",
        "colab_type": "code",
        "colab": {}
      },
      "source": [
        "vocab_size = len(tokenizer.word_index) + 1\n",
        "encoded_docs = tokenizer.texts_to_sequences(tweets)\n",
        "padded_sequence = pad_sequences(encoded_docs, maxlen=maxlength)/1000"
      ],
      "execution_count": 225,
      "outputs": []
    },
    {
      "cell_type": "code",
      "metadata": {
        "id": "rUv4xsR44bTk",
        "colab_type": "code",
        "colab": {
          "base_uri": "https://localhost:8080/",
          "height": 54
        },
        "outputId": "b76e1ea5-ed66-42cd-c17f-7b47587d9aac"
      },
      "source": [
        "print(encoded_docs)"
      ],
      "execution_count": 226,
      "outputs": [
        {
          "output_type": "stream",
          "text": [
            "[[77, 1, 751, 54, 1, 752, 753, 8, 754, 78, 2, 755, 1, 756, 527, 31, 404], [22, 8, 405, 757, 758, 16, 528, 68, 1, 140, 341, 24, 2, 406, 10, 3, 250, 759, 225, 23, 407, 38, 529], [760, 2, 342, 14, 8, 761, 4, 17, 290, 4, 3, 291, 55, 762, 18, 8, 763, 61, 764], [22, 765, 530, 766, 767, 768, 1, 199, 531, 10, 769, 226, 2, 44, 532, 770, 408, 31, 771, 343, 533, 343, 31], [35, 772, 773, 56, 227, 1, 174, 200, 15, 6, 175, 100, 6, 5, 28, 534, 228, 409, 38, 9, 8, 535, 774, 61], [8, 201, 7, 108], [29, 536, 82, 65, 3, 251, 163, 9, 775, 4, 202, 5, 3, 410, 537, 10, 109, 538, 12, 14, 344, 115, 776, 110, 777], [778, 49, 164, 539, 252, 8, 779, 290, 29, 12, 406, 49, 7, 8, 345, 780, 781, 782, 411, 412, 61], [1495, 783, 49, 2, 74, 22, 101, 20, 84, 33, 28, 413, 152, 784], [77, 7, 12, 540, 4, 109, 24, 6, 57, 11, 253, 414, 254, 14, 785, 13, 69], [19, 22, 404, 39, 415, 541, 19, 1496, 19, 101], [292, 229, 416, 786, 787, 176, 141, 255, 70, 46, 203, 142, 61], [1497, 417, 21, 40, 1498, 6, 4, 17, 1, 346, 537, 1499, 4, 121, 418], [49, 164, 788, 23, 4, 204, 4, 789, 15, 3, 542, 2, 74, 790, 2, 74, 152, 791, 85, 543, 14, 60, 544, 14, 545, 110], [1500, 61, 48], [546, 205, 42, 792, 347, 345, 16, 793, 1, 794, 102, 5, 795, 5, 419, 796, 11, 797, 256, 32, 798], [1501, 18, 4, 547, 1, 1502, 206, 1503, 13, 27, 257, 1, 548, 10, 549, 9, 13, 86, 253, 8, 201, 7, 108], [2, 135, 8, 1504, 1505, 24, 12, 127, 3, 799, 225, 1506, 12, 4, 1, 165, 1507, 9, 166], [49, 28, 33, 22, 59, 45, 800, 47, 1508, 801, 420, 21, 550, 421, 1, 136, 55], [19, 39, 4, 551, 177, 802, 803, 39, 1, 804, 2, 71, 177, 7, 805, 9, 1, 293, 806, 5, 40, 18, 22, 807, 293], [422, 8, 808, 294, 1509, 295, 14, 58, 1510], [809, 6, 35, 16, 230, 3, 296, 810, 811, 4, 552, 3, 348, 178, 11, 423, 812, 36, 207, 178, 6, 423, 35, 167], [2, 65, 3, 37, 553, 176, 42, 60, 554, 347, 9, 555, 1511, 70, 56, 556, 11, 34, 18, 128, 555, 1512], [813, 814, 24, 6, 815, 68, 49, 1, 136, 57, 6, 93, 4, 420, 116, 51, 297, 816, 30, 7, 87, 557, 41, 253, 817], [1513, 1514, 1515, 1, 153, 8, 201, 7, 108, 231, 1516], [232, 61, 2, 23, 203, 4, 1517, 558], [818, 122, 208, 33, 94, 1, 819, 208, 255, 54, 71, 11, 559, 3, 820, 7, 349, 31, 61], [424, 821, 560, 115, 61], [6, 103, 16, 258, 11, 1, 33, 561, 6, 87, 129, 6, 350, 233, 13, 142, 63, 48], [2, 46, 22, 31, 26, 33, 11, 35, 79, 11, 6, 35, 23, 3, 143, 425, 15, 822, 5, 6, 57, 26, 823, 298], [30, 136, 6, 7, 108, 55, 426, 34, 18, 179, 17, 168, 29, 2, 130, 12, 38], [824, 825, 562, 8, 826, 7, 180, 5, 827, 3, 828, 42, 66, 4, 829, 11, 5, 6, 23, 830, 180, 831, 61, 832], [2, 563, 1, 251, 163, 15, 564, 1, 163, 95, 23, 85, 22, 565, 127, 72, 18, 351, 64, 102, 15, 64, 833, 408], [299, 1, 834, 8, 174, 566, 415, 835, 567, 101], [1518, 19, 39, 4, 1519, 96, 3, 568, 9, 41, 34, 18, 569], [836, 169, 837, 4, 46, 137, 4, 838, 88, 209, 3, 839, 5, 1, 427, 840, 55, 61, 841], [570, 1520, 52, 28, 1521, 9, 1, 152, 784, 54, 28, 842, 1, 259, 10, 1, 843, 9, 131, 234, 6, 28, 51], [1522, 6, 33, 428, 13], [844, 1523, 7, 11, 1, 352, 104, 571, 27, 1, 352, 75, 85, 845, 1524, 96, 3, 846, 1525, 9, 170, 1526, 429], [22, 31, 39, 8, 1527, 235, 1528, 1529, 2, 1530, 60, 235, 9, 100, 847, 1531, 89, 260, 848], [82, 70, 849, 96, 8, 152, 1532, 76], [850, 851, 430, 52, 23, 18, 852, 26, 25, 52, 93, 30, 853, 854, 6, 181, 419, 855, 11, 182, 256, 61], [68, 130, 856, 10, 8, 300, 2, 572, 12, 857, 2, 573, 11, 858, 29, 2, 46, 8, 353, 15, 84, 41, 859], [22, 765, 530, 766, 767, 768, 1, 199, 531, 10, 769, 226, 2, 44, 532, 770, 408, 771, 343, 533, 343, 31], [49, 164, 788, 23, 4, 204, 4, 789, 15, 3, 542, 2, 74, 790, 2, 74, 152, 791, 85, 543, 14, 60, 544, 14, 545], [2, 132, 101], [80, 1533, 1534, 129, 1, 136, 860, 13, 23, 3, 131, 207, 183, 1535, 9, 152, 1536, 14, 1, 1537, 73, 1538, 261], [82, 70, 849, 96, 8, 152, 171, 171], [2, 563, 1, 251, 163, 15, 564, 1, 163, 95, 23, 85, 22, 565, 127, 72, 18, 351, 64, 102, 15, 64, 833, 408, 43], [33, 129, 8, 1539, 799], [19, 22, 31, 574], [33, 152, 129, 13], [861, 6, 28, 3, 431, 431, 121, 862, 58], [11, 153, 301, 22, 31, 6, 67, 236, 132, 301, 201, 108], [1540, 30, 1541, 9, 1542, 1543, 172, 13, 1544], [8, 432, 7, 110, 5, 2, 16, 123, 4, 302, 12, 25], [433, 61, 11, 80, 262, 407, 96, 8, 1545, 1546, 5, 1547, 69, 48], [19, 203, 27, 3, 1548, 5, 43, 1549], [863, 237, 263, 4, 17, 210, 39, 33, 864, 303, 434, 67, 229, 303, 26, 51, 90, 31, 865, 866], [1550, 1551, 33, 82, 65, 3, 144, 145, 84, 14, 37, 867, 21, 253], [868, 88, 47, 146, 435, 39, 869, 870, 871, 29, 250, 4, 211, 872, 141, 436, 57, 18, 205, 61], [873, 874, 212, 875, 24, 575, 576, 12, 437, 304, 137, 238, 438, 4, 13, 127, 4, 876, 235, 15, 1, 174, 101], [22, 31, 2, 305, 1552], [877, 8, 354, 878], [1553, 1554, 879, 880, 1555, 577, 102, 2, 74, 101], [10, 105, 33, 28, 82, 439, 4, 17, 881, 50, 440, 578, 882, 31], [8, 1556, 355, 8, 174, 69, 5, 19, 22, 101, 48], [441, 176, 1, 117, 147, 15, 8, 1557, 7, 1558, 110, 39, 237, 5, 8, 264, 883, 10, 25, 1, 1559], [70, 154, 884, 306, 13, 31], [2, 579, 3, 1560, 885, 2, 123, 58, 22, 227, 13, 10, 356], [1561, 88, 34, 442, 1562, 8, 555, 5, 1, 1563, 1564, 78, 17, 101, 50, 173, 50, 6, 48], [443, 36, 91, 29, 3, 105, 121, 1565, 211, 105, 121, 10, 1, 886], [12, 172, 13, 22, 152, 554, 887, 434, 7, 1566, 548, 54, 21, 1567, 888, 143, 20, 1, 1568, 239], [433, 61, 184, 16, 1569, 25, 8, 1570, 889], [890, 1571, 240, 12, 16, 3, 891, 111, 21, 136, 241, 18, 580], [77, 1, 751, 54, 1, 752, 753, 8, 754, 78, 2, 755, 1, 756, 527, 404], [2, 1572, 33, 54, 46, 59, 45, 1, 1573, 240], [40, 1, 136, 74, 2, 444, 4, 57, 20, 37, 892, 37, 581, 37, 409, 5, 19, 69, 4, 109, 101, 31, 213], [1574, 12, 164, 24, 51, 582, 538, 163, 14, 13, 2, 62, 17, 22, 31], [40, 1, 136, 74, 2, 444, 4, 57, 20, 37, 892, 37, 581, 37, 409, 5, 19, 69, 4, 109, 31, 213], [1575, 18, 117, 28, 36, 893, 1576, 36, 1577, 560, 1578, 7, 214, 894, 4, 46, 15, 357, 893, 5, 445, 14, 109, 61, 1579, 358], [22, 8, 405, 757, 758, 16, 528, 68, 1, 140, 341, 24, 2, 406, 10, 3, 250, 759, 225, 23, 407, 38, 529, 59], [1, 1580, 91, 100, 895, 446, 242, 1, 341, 87, 1581, 13, 1, 170, 1582, 1583, 67, 86, 136, 583, 1584, 15, 359], [16, 447, 14, 896, 26, 897, 5, 185, 94, 46, 155, 265, 133, 266, 448, 5, 13, 50, 3, 347, 31], [27, 11, 44, 3, 584, 5, 3, 307, 1585, 1586, 5, 63, 186, 2, 74, 124, 10, 166, 308], [449, 6, 23, 127, 42, 13, 100, 1, 267, 7, 898, 34, 60, 899, 215, 449, 900, 61, 901, 215, 902], [1587, 903, 44, 904, 14, 3, 1588, 1589, 83, 1590, 44, 18, 40, 2, 1591, 12, 38, 1592, 31, 1593, 1594], [813, 814, 24, 6, 815, 68, 49, 1, 136, 57, 6, 93, 4, 420, 116, 51, 297, 816, 30, 7, 87, 557, 253, 817], [809, 6, 35, 16, 230, 3, 296, 810, 811, 4, 552, 3, 348, 178, 11, 423, 812, 36, 207, 178, 6, 423, 35], [905, 906, 8, 907, 11, 908, 110], [909, 1595, 25, 1, 1596, 145, 1597, 14, 53, 207, 585, 58, 11, 44, 3, 1598, 6, 910], [63, 11, 1, 251, 1599, 41, 75, 911, 13, 1600, 19, 179, 86, 294, 10, 8, 1601], [450, 912, 103, 451, 6, 97, 586, 346, 913, 43, 156], [36, 268, 1602, 16, 172, 13, 360], [861, 6, 28, 3, 431, 431, 121, 862], [233, 87, 12, 14, 8, 112, 1603, 11, 157, 1604, 1605, 1606, 164, 3, 1607, 442, 587, 187, 452, 15, 11, 240], [1608, 1609, 1610, 142, 19, 42, 1611, 1612, 1613, 5, 2, 44, 59, 142, 133, 20, 6, 1614, 86, 15, 3, 914, 83, 237, 188, 90], [863, 237, 263, 4, 17, 210, 39, 33, 864, 303, 434, 67, 229, 303, 26, 51, 90, 865, 866], [2, 309, 40, 915, 916, 62, 17, 188, 4, 917, 39, 269, 918, 54, 188, 261, 919, 31, 920], [1615, 361, 211, 31, 170, 121], [23, 921, 922, 588, 15, 5, 56, 181, 923, 69, 426, 8, 589, 41], [1, 1616, 9, 33, 129, 1, 136, 38, 9, 13, 1617, 20, 33, 1618], [1619, 3, 1620, 1621, 1622, 54, 310, 10, 3, 453, 454, 311, 226, 53, 924, 7, 925, 7, 3, 1623, 1624, 926], [292, 229, 416, 786, 787, 176, 141, 255, 70, 46, 203, 142], [1625, 35, 216, 13, 4, 32], [6, 1626, 25, 1, 90, 5, 88, 309, 49, 33, 89, 123, 4, 148, 6, 6, 535, 1627, 13, 55, 1628], [1629, 108], [312, 12, 15, 133, 927, 9, 928, 929, 101, 930, 931], [1630, 1631, 8, 201, 7, 108, 2, 93, 4, 189, 3, 1632, 590], [2, 932, 24, 933, 934, 13, 19, 243, 4, 591, 64, 102], [1633, 2, 74, 31, 26, 1, 1634, 14, 158, 3, 1635, 5, 1, 1636, 14, 18, 1637, 12, 5, 26, 1, 313, 14, 592, 12, 86, 45], [19, 39, 4, 551, 177, 802, 803, 39, 1, 804, 2, 71, 177, 7, 805, 9, 1, 293, 806, 5, 40, 18, 22, 807, 293, 41], [19, 16, 3, 61, 935, 9, 32, 106, 455], [2, 185, 258, 38, 39, 30, 879, 106, 1638, 4, 8, 69, 593, 13, 2, 74, 22, 529, 5, 59, 45, 30], [936, 254, 14, 242, 8, 937, 5, 2, 97, 270, 92, 362, 106, 5, 88, 938, 271, 9, 116, 20, 37, 939, 254, 31], [3, 940, 18, 941, 55, 49, 74, 2, 18, 456, 445, 14, 109, 176, 61], [269, 1639, 18, 23, 1, 142, 4, 16, 420, 440, 578, 363, 457, 34, 1640, 1641], [31, 411], [942, 352, 5, 2, 594, 46, 943, 39, 12, 61], [1642, 595, 539, 27, 190, 116], [944, 1643, 1644, 30, 121, 7, 60, 945, 4, 92, 458, 946], [68, 130, 856, 10, 8, 300, 2, 572, 12, 857, 2, 573, 11, 858, 29, 2, 46, 8, 353, 15, 84, 859], [947, 596, 1, 948, 272, 20, 949, 950, 951, 952, 459, 60, 953, 954, 30, 7, 60, 91], [1645, 105, 1646, 1647, 20, 3, 597, 1648, 460, 1649, 310, 598, 45, 105, 955, 91, 30, 7, 3, 1650, 364, 1651, 131, 1652], [956, 55, 5, 272, 23, 6, 461, 365, 64, 957, 958, 41], [68, 263, 4, 230, 599, 959, 17, 1653, 20, 11, 1654, 107, 24, 1, 600, 960, 273], [1655, 462, 11, 240, 69, 366, 1656, 314, 1657, 1658, 104, 1659, 601, 432, 1660, 1661], [2, 16, 98, 12, 29, 33, 118, 961, 14, 13, 363, 232, 962, 13, 10, 30, 602, 41], [570, 261, 603, 963, 964, 5, 965, 966, 63, 274, 124, 25, 967, 5, 968, 969, 32], [1662, 443, 36, 91, 11, 36, 352, 1663, 3, 1664, 1665, 582, 5, 260, 1666, 42, 1667, 54, 970, 1668], [971, 77, 67, 6, 94, 315, 4, 291, 301, 972, 604, 55, 42, 605, 59], [2, 46, 22, 31, 26, 33, 11, 35, 79, 11, 6, 35, 23, 3, 143, 425, 15, 822, 5, 6, 57, 26, 823, 298, 41], [1669, 56, 129, 13, 116, 5, 131, 1670, 1671, 191, 55, 1672], [905, 906, 8, 907, 11, 908], [77, 44, 564, 51, 9, 1, 973, 974, 1673, 1674, 5, 43, 48], [1675, 1676, 5, 131, 1677, 23, 546, 606, 14, 975, 56, 1678, 975, 20, 32, 5, 135], [1679, 41, 1, 1680, 146, 41, 607, 608, 4, 609, 244, 1, 976, 1681, 9, 1682, 45, 1683, 73, 1684], [1685, 70, 52, 610, 1686, 51, 211, 37, 367, 611, 5, 12, 172, 13, 101, 35, 17, 1687, 16, 71, 9, 1688, 1689], [956, 55, 5, 272, 23, 6, 461, 365, 64, 957, 958], [449, 6, 23, 127, 42, 13, 100, 1, 267, 7, 898, 34, 60, 899, 215, 449, 900, 901, 215, 902], [25, 166, 7, 977, 978, 10, 275, 979, 32, 276], [209, 30, 1690, 206, 217, 11, 206, 1691, 32, 96, 8, 159, 29, 2, 148, 84, 1692, 21, 1693, 1694, 13, 1695, 62, 79], [2, 127, 60, 980, 9, 1696, 612, 314, 1, 108, 613, 5, 63, 2, 23, 1697, 1698, 612, 314, 1, 108, 613, 176], [614, 31], [1699, 1700, 227, 22, 173, 1701, 1702, 96, 113, 5, 70, 981, 236, 1703, 245, 9, 8, 159, 254, 1704], [77, 7, 12, 540, 4, 109, 24, 6, 57, 11, 253, 414, 254, 14, 785, 13, 69, 101], [2, 44, 31], [11, 132, 29, 6, 982, 983, 4, 291, 55, 3, 615, 11, 984, 10, 1, 368, 357, 369, 138, 6, 312, 360], [1705, 1706, 36, 370, 245, 75, 85, 1707, 88, 1708, 180, 1, 238, 245, 433, 101, 48], [1709, 1710, 166, 985, 37, 113, 21, 3, 371, 616, 34, 1, 1711, 18, 1, 1712], [208, 33, 28, 986, 15, 1, 987, 5, 19, 59], [2, 67, 617, 132, 8, 463, 106, 464, 218, 13, 1713], [1714, 145, 618, 219, 7, 1715, 316, 19, 61, 39, 11, 572, 889], [29, 6, 988, 3, 597, 10, 112, 2, 217, 12, 185, 277, 1, 238, 240, 138, 187, 989, 21, 6, 16, 619, 1, 597, 1716], [620, 372, 6, 28, 4, 990, 13, 465, 97, 991, 4, 17, 290, 106, 220, 367, 304, 373, 15, 992, 37, 465, 61], [2, 23, 149, 1717, 1718, 19, 243, 4, 1719, 10, 1720, 25, 100, 1721, 442, 1722], [1723, 49, 35, 621, 1724, 123, 458, 29, 34, 105, 15, 105, 1725, 993, 56, 117, 41, 5, 294, 374, 29, 34, 3, 955], [1726, 183, 17, 1727, 2, 466, 11, 1728, 1729, 1730, 20, 1, 317, 26, 13, 107, 266, 38, 30, 375, 1731, 622], [546, 205, 42, 792, 347, 345, 16, 793, 1, 794, 102, 5, 795, 5, 419, 796, 11, 797, 256, 798], [994, 246, 410, 2, 135, 84, 99, 43], [995, 40, 3, 215, 355, 92, 467, 69, 996, 45, 584, 5, 88, 35, 997, 12, 29, 52, 37, 623, 93, 60, 998, 48], [1732, 999, 376, 2, 260, 3, 349, 106, 192, 2, 74, 101, 39, 1733, 1734, 12, 138, 158, 3, 1735, 14, 22, 278], [33, 129, 13, 48], [318, 10, 41, 1000, 319, 11, 217, 116, 114, 41, 1736, 624, 1737, 217, 1000, 1738, 1739, 1740, 154, 114, 466], [10, 105, 33, 28, 82, 439, 4, 17, 881, 50, 440, 578, 882], [2, 932, 24, 933, 934, 13, 19, 243, 4, 591, 64, 102, 58], [995, 40, 3, 215, 355, 92, 467, 69, 996, 45, 584, 5, 88, 35, 997, 12, 29, 52, 37, 623, 93, 60, 998, 48, 61], [87, 1001, 1002, 359, 306, 45, 170, 279, 10, 11, 607, 468, 187, 245, 10, 625, 443, 1, 91], [778, 49, 164, 539, 252, 8, 779, 290, 29, 12, 406, 49, 7, 8, 345, 780, 781, 782, 411, 412], [164, 72, 87, 93, 4, 107, 25, 1, 90, 270, 15, 8, 1741, 273], [103, 227, 36, 1003, 137, 36, 1004, 1005, 24, 22, 34, 90, 14, 3, 193, 51, 239, 41, 32, 1006], [1742, 1743, 1744, 160, 158, 1745, 45, 1746, 149, 320, 4, 1747, 47, 73, 53, 1748, 97, 128, 280, 160, 227, 13, 69, 84], [469, 626, 627, 264, 321, 16, 1007, 628, 25, 163, 5, 6, 214, 67, 1008, 448, 5, 60, 629, 156, 43], [1749, 1750, 434, 10, 11, 1009, 124, 5, 276, 5, 1751, 630, 1010, 44, 133, 470], [1752, 1753, 5, 82, 1754, 1, 1755, 115, 61, 80, 36, 1756, 115], [471, 4, 221, 581, 5, 63, 19, 101, 20, 322, 5, 177], [1, 472, 373, 10, 549, 9, 13, 7, 1757, 64, 1758, 21, 3, 631, 73, 19, 1011, 4, 76, 48], [1759, 271, 28, 1760, 24, 209, 1761, 145, 359, 49, 595, 4, 12, 45, 1762, 105, 1763, 34, 1764, 32], [67, 68, 118, 13, 3, 1012, 1013, 9, 192, 323, 2, 78, 17, 632, 26, 10, 192, 235, 374, 1014, 1015, 279], [824, 825, 562, 8, 826, 7, 180, 5, 827, 3, 828, 42, 66, 4, 829, 11, 5, 6, 23, 830, 180, 831, 832], [6, 3, 136, 1016, 24, 6, 633, 1765, 1766, 102, 4, 102, 10, 112], [2, 65, 1767, 1768, 65, 108, 201], [1017, 1018, 47, 75, 212, 1019, 234, 1020], [2, 70, 94, 142, 63, 156, 41], [1021, 1022, 316, 232, 138, 1, 1023, 19, 1024, 14, 324, 27, 634, 43], [49, 28, 33, 11, 35, 23, 362, 22, 43, 39, 362, 67, 68, 609], [1769, 1, 206, 54, 1770, 33, 1771, 5, 7, 1772, 7, 59, 45, 1773, 11, 47, 325, 18, 17, 1774, 1775, 233, 473], [1776, 128, 1025, 5, 635, 59], [1777, 1778, 1779, 2, 1780, 106, 75, 281, 13, 1781, 20, 22, 173, 32, 1782, 2, 132, 21, 1783, 319, 1784, 78, 202, 12], [25, 166, 7, 977, 978, 10, 275, 979, 276], [29, 536, 82, 65, 3, 251, 163, 9, 775, 4, 202, 5, 3, 410, 537, 10, 109, 538, 12, 14, 344, 115, 776, 777], [307, 9, 1785, 7, 421, 200, 34, 269, 25, 100, 25, 2, 16, 125, 38, 10, 377, 30, 7, 152, 636, 1786], [18, 1026, 3, 136, 7, 150, 122, 58], [1787, 52, 39, 4, 46, 240, 15, 45, 1, 139, 9, 1788, 38, 9, 1789], [1790, 49, 326, 49, 104, 66, 123, 4, 134, 1791], [87, 1001, 1002, 359, 306, 45, 170, 279, 10, 11, 607, 468, 187, 245, 10, 625, 443, 1], [1792, 2, 35, 71, 1793, 75, 1027, 14, 324, 27, 1794, 2, 71, 959, 327, 3, 622, 637, 1795], [760, 2, 342, 14, 8, 761, 4, 17, 290, 4, 3, 291, 55, 762, 18, 8, 763, 764], [282, 1, 1796, 51, 378, 112, 1797, 95, 204, 20, 3, 1798, 1799, 9, 112, 18, 3, 1800, 34, 179, 189, 152, 308, 4, 1801, 99], [1017, 1018, 47, 75, 212, 1019, 1020], [8, 201, 7, 22, 43, 14, 1802, 4, 1028, 81, 1803, 45, 1, 201, 9, 887, 1804], [1, 193, 460, 638, 10, 1805, 7, 18, 639, 4, 252, 1, 32, 2, 23, 640, 3, 641, 9, 323], [1029, 72, 7, 16, 1030, 5, 3, 294, 1031, 43, 1032, 1033], [2, 16, 305, 79, 49, 209, 37, 91, 14, 105, 15, 105, 993, 5, 37, 51, 642, 319, 1034, 27, 621, 7, 38, 4, 573, 279, 643, 15, 1035], [308, 31, 11, 86, 1036, 1037, 5, 1038, 1039, 43], [1806, 1040, 1807, 1808, 4, 1809, 1810, 50, 1811, 5, 2, 474, 3, 1041, 1812, 9, 41], [1042, 18, 1043, 1044, 52, 23, 3, 1045, 356, 97, 1, 1046, 178, 10, 1, 1047, 175, 39, 1048, 3, 475, 91], [70, 154, 184, 117, 65, 369, 69, 281, 48, 1049, 110], [1813, 61], [228, 3, 988, 42, 1, 1814, 4, 41, 26, 1, 1050, 1815, 9, 1816, 33, 15, 1, 467], [103, 227, 36, 1003, 137, 36, 1004, 1005, 24, 22, 34, 90, 14, 3, 193, 51, 239, 1006], [1817, 264, 1818, 13, 10, 3, 1051, 1819, 5, 50, 128, 1820, 1821, 234, 21, 3, 379, 117, 1822, 77, 4, 644, 645], [35, 772, 773, 56, 227, 1, 174, 200, 15, 6, 175, 100, 6, 5, 28, 534, 228, 409, 38, 9, 8, 535, 774], [1823, 2, 1824, 6, 133, 7, 37, 1825, 27, 1826, 32, 26, 1, 1827, 5, 1828, 9, 1829], [33, 93, 3, 153, 4, 1830, 1831, 1832, 1833, 646, 30, 1834, 113, 9, 1052, 1835, 73, 1836, 93, 3, 1053], [2, 98, 8, 105, 33, 2, 87, 87, 57, 27, 8, 33, 87, 57, 129, 1, 475, 166, 860, 13, 25, 647, 19, 565, 48], [2, 35, 175, 39, 648, 81, 33, 1837, 46, 59, 635], [1838, 1839, 194, 376, 2, 135, 1, 649, 981, 5, 2, 35, 21, 1, 1840, 119, 5, 19, 18, 3, 1841, 9, 1, 1842, 283, 51, 470], [1843, 18, 260, 1844, 1845, 342, 14, 12, 4, 17, 190, 608, 82, 203], [836, 169, 837, 4, 46, 137, 4, 838, 88, 209, 3, 839, 5, 1, 427, 840, 55, 841], [62, 37, 1054, 14, 1055, 363, 457, 94, 24, 1, 582, 75, 3, 212, 650, 1054, 7, 18, 1, 153, 4, 86], [2, 1846, 71, 2, 23, 32, 1056], [1847, 19, 1848, 59], [451, 7, 51, 9, 1, 450, 321, 10, 156, 650, 156, 1057, 43], [19, 22, 1849, 380, 7, 124, 1850, 4, 1, 1851, 115], [77, 67, 2, 230, 222, 1058, 29, 66, 28, 18, 222, 43, 1059, 1060], [16, 447, 14, 896, 26, 897, 5, 185, 94, 46, 155, 265, 133, 266, 448, 5, 13, 50, 3, 347], [89, 315, 11, 247, 651, 1852, 4, 652, 116, 4, 1853, 22, 33, 328, 427, 10, 5, 1854, 131, 91, 138, 92, 1855], [29, 68, 1856, 272, 25, 371, 78, 23, 278, 653, 5, 36, 654, 1857, 1061, 18, 4, 41], [433, 110, 26, 1, 960, 4, 44, 40, 3, 215], [476, 129, 13, 22, 173, 99], [1858, 19, 543, 14, 6, 4, 1062, 38, 19, 21, 42, 4, 477, 1859, 20, 1, 463], [1860, 655, 1063, 35, 216, 13, 1861, 183, 118, 6, 294], [1064, 104, 6, 94, 218, 38, 155, 1065, 611, 656, 329, 101, 31], [424, 821, 560, 115], [620, 372, 6, 28, 4, 990, 13, 465, 97, 991, 4, 17, 290, 106, 220, 367, 304, 373, 15, 992, 37, 465], [850, 851, 430, 52, 23, 18, 852, 26, 25, 52, 93, 30, 853, 854, 6, 181, 419, 855, 11, 182, 256], [274, 21, 1, 1862, 1863, 54, 1864, 118, 318, 532, 21, 149, 1865, 1066, 20, 1067, 21, 141], [5, 72, 65, 25, 31, 593, 13, 27, 40, 95, 17, 195, 3, 452, 220, 206, 381, 14, 3, 472, 21, 6, 5, 2, 474, 59], [1866, 1867, 598, 45, 105, 269, 262, 1068, 1868, 1869, 478, 1069, 1870, 1871], [1872, 1873, 1874, 479, 119, 657, 658, 25, 1875, 1876, 5, 1877, 73, 56, 78, 17, 1878], [1070, 361, 1071, 1072, 11, 3, 1073, 100, 412, 78, 17, 1074, 20, 1075, 1076, 1077, 31], [1879, 3, 149, 1078, 158, 1880, 45, 1, 604, 54, 75, 1881, 25, 1, 1882, 69, 51, 1883, 5, 1, 1884, 9, 1, 330, 1885], [1886, 11, 7, 51, 147, 27, 1079, 5, 1887, 7, 659, 11, 172, 344, 16, 21, 1, 31, 846, 1080, 52, 1888], [1889, 30, 240, 1890, 16, 1891, 8, 76, 13], [67, 68, 118, 13, 3, 1012, 1013, 9, 192, 323, 2, 78, 17, 632, 26, 10, 192, 235, 91, 374, 1014, 1015, 279], [1892, 1893, 1894, 296, 16, 13, 1895, 1896, 81, 19, 82, 43, 20, 1897, 21, 60, 220, 121, 1898, 42, 53, 1899], [2, 62, 89, 202, 1081, 1082, 103, 103, 103, 103, 103, 176, 24, 1083, 1084, 169, 244, 211, 1085, 1086, 61], [2, 309, 40, 95, 256, 24, 2, 97, 4, 230, 80, 33, 1, 660, 1087, 1088, 31], [6, 62, 89, 258, 68, 54, 1089, 6, 21, 2, 104, 5, 11, 8, 98, 62, 17, 8, 58], [3, 940, 18, 941, 55, 49, 74, 2, 18, 456, 445, 14, 109, 176], [24, 6, 17, 31, 192, 480, 17, 1, 661, 73, 192, 480, 17, 1900, 148, 11, 1, 1041, 1901, 164, 18, 601, 1902, 1903], [1904, 240, 182, 94, 1905, 4, 1906, 141, 165, 231, 1907, 208, 42, 166, 1908], [2, 74, 16, 22, 43, 106, 48], [1909, 1910, 1911, 170, 279, 181, 1912, 105, 33, 27, 209, 1090, 91, 39, 11, 1913, 1914, 11], [1091, 481, 64, 178, 284, 662, 42, 3, 663, 14, 1092, 1093, 1094, 31, 1095, 1096, 1097, 115], [664, 366, 4, 355, 1098, 10, 1, 665, 25, 2, 305, 57, 7, 86, 38, 4, 221, 666, 649, 1099, 107, 1100], [877, 8, 354, 878, 41], [2, 62, 89, 202, 1081, 1082, 103, 103, 103, 103, 103, 176, 24, 1083, 1084, 169, 244, 211, 1085, 1086], [1915, 1916, 1917, 73, 1918, 153, 5, 903, 9, 11, 1919, 7, 4, 216, 1101, 561, 1920, 374, 640, 359], [1102, 2, 248, 55, 667, 1103, 4, 221, 1104, 20, 84, 43], [868, 88, 47, 146, 435, 39, 869, 870, 871, 29, 250, 4, 211, 872, 141, 436, 57, 18, 205], [1921, 196, 19, 16, 31, 8, 1922, 668, 244], [1923, 225, 17, 61], [1105, 1106, 421, 55, 1107, 28, 482, 59], [1924, 2, 79, 6, 1925, 13, 53, 669, 97, 670, 50, 47, 1926, 1, 32, 5, 1108, 15, 1, 671, 1109, 2, 79, 2, 1927, 55], [2, 309, 40, 915, 916, 62, 17, 188, 4, 917, 39, 269, 918, 54, 188, 261, 919, 920], [49, 1928, 22, 43], [19, 15, 1929, 14, 1, 188, 1930, 61], [104, 52, 283, 1, 672, 11, 1110, 1111, 1112, 53, 382, 1113, 10, 1, 161, 20, 3, 1114, 483, 1115, 38, 9, 3, 568, 9, 32], [1931, 1, 484, 9, 1932, 14, 331, 4, 1933, 25, 1, 1934, 69, 1, 1935, 157, 21, 60, 31, 1936, 1937, 322, 14, 673], [21, 24, 6, 417, 13, 1116, 1938], [1939, 1940, 383, 4, 1, 378, 9, 105, 318, 1941, 306, 10, 625, 332, 7, 1, 91], [1942, 30, 1943, 52, 28, 580, 100, 145, 1944, 1945, 1946, 1947, 1948, 1117, 349, 311, 1949, 1950], [1951, 36, 1952, 50, 1118, 81, 241, 158, 674, 3, 110, 1953, 24, 241, 18], [196, 19, 22, 43, 2, 16, 2, 470, 123, 3, 485, 301, 83, 236, 155, 847, 42, 1, 486, 2, 21, 27, 187, 90, 2, 662, 14, 1, 486, 2, 1954], [1955, 40, 446, 272, 182, 675, 1, 672, 47, 1119, 676, 1956, 895, 7, 45, 677, 126, 9, 60, 945], [1120, 424, 142], [2, 23, 22, 173, 1957, 487, 19, 59], [21, 678, 2, 74, 36, 223, 1121, 6, 284, 128, 488, 26, 8, 1122, 59], [1, 91, 75, 1958, 5, 75, 85, 1959, 45, 3, 1960, 1961, 1123, 9, 1, 1124, 1962, 1963], [23, 921, 922, 588, 15, 5, 56, 181, 923, 69, 426, 8, 589], [5, 372, 246, 444, 4, 23, 3, 1125, 1126, 19, 59], [1127, 4, 1964, 1965, 145, 1966, 1967, 4, 216, 3, 1128, 11, 95, 1129, 1968, 1130, 384, 1, 1969, 1970, 180], [579, 1971, 1972, 646, 1973, 1131, 1974, 1975, 7, 110, 26, 1976], [1132, 1133, 40, 2, 283, 91], [1977, 34, 1978, 405, 1134, 89, 1979, 89, 1980, 56, 128, 189, 58, 489, 1135, 1136, 1981, 1982], [450, 912, 103, 451, 6, 97, 586, 346, 913, 156], [1137, 490, 3, 121, 20, 3, 1983, 15, 53, 161, 1984, 20, 3, 1985, 1986, 1987, 53, 1988, 2, 1989, 143, 140, 1138, 53, 628], [1990, 33, 129, 13], [146, 12, 151, 5, 183, 277, 12, 63, 491, 7, 87, 1991, 11, 105, 33, 117, 123, 1992, 5, 18, 58], [32, 83, 139, 7, 60, 1993, 1994, 553], [1995, 1996, 1997, 23, 1, 142, 9, 1998, 29, 12, 577, 4, 1, 140, 341, 49, 78, 47, 167, 84, 10, 53, 679, 1999], [24, 52, 130, 11, 10, 225, 17, 61, 442, 2000], [2001, 376, 184, 117, 1139, 11, 2002, 576, 50, 3, 2003, 12, 44, 2004, 191, 55, 45, 3, 43, 1140, 2, 2005, 2006, 680, 2007, 2008, 214], [2009, 29, 1, 2010, 600, 1141, 10, 2011, 10, 2012, 378, 2013, 52, 82, 2014, 5, 65, 2015, 1142, 284, 17, 2016, 111, 67, 1143, 6], [1144, 1145, 1146, 1147, 177, 7, 145, 1148, 81, 52, 28, 1, 346, 483, 43], [81, 12, 44, 3, 280, 681, 27, 26, 385, 63, 2, 79, 40, 12, 44, 31, 1149, 1150], [2017, 73, 64, 107, 28, 270, 142, 15, 8, 682, 273], [1151, 1152, 2, 44, 22, 381, 1153, 4, 1154, 88, 12, 1155, 20, 3, 1156, 2, 236, 1157, 26, 8, 683], [2018, 2019, 2020, 75, 85, 2021, 9, 2022, 3, 2023, 149, 2024], [2025, 14, 2026, 2027, 4, 143, 2028, 1158, 42, 170, 2029, 2030, 5, 108, 12, 11, 7, 18, 1158, 11, 7, 2031], [1159, 16, 1160, 2, 492, 131, 370, 1161, 59], [2032, 209, 3, 379, 15, 8, 76, 684, 42, 685, 73, 56, 46, 2033, 69, 2034, 634, 239, 2, 74, 21, 49, 1, 136, 99], [2035, 2036, 2037, 5, 1, 2038, 602, 7, 60, 167, 4, 92, 2039], [1162, 1163, 1164, 19, 1165, 3, 686, 186, 687, 99, 31], [1166, 2, 493, 471, 6, 127, 268, 5, 24, 6, 35, 197, 13, 102, 19, 179, 17, 59], [942, 352, 5, 2, 594, 46, 943, 39, 12], [1167, 126, 21, 187, 688, 224, 1, 238, 1168, 1169, 59], [818, 122, 208, 33, 94, 1, 819, 208, 255, 54, 71, 11, 559, 3, 820, 7, 349], [2040, 2041, 2042, 430, 12, 7, 212, 4, 484, 38, 374, 2043, 12, 216, 1, 1170, 80, 1170, 57, 2044, 18, 21, 12], [2045, 2046, 30, 7, 39, 84, 158, 281, 69, 81, 56, 492, 4, 689, 3, 2047, 157, 52, 1171, 53, 119, 687, 2048, 690], [2049, 2050, 2, 74, 59], [2051, 678, 1, 2052, 1, 1172, 1, 126, 2053, 377, 2054, 128, 2055, 21, 59, 1034], [2056, 2057, 2058, 1010, 108, 2059, 691, 10, 692, 51, 1173, 1174, 10, 1, 2060], [693, 107, 7, 179, 189, 68, 2061, 38, 494, 273], [184, 128, 127, 3, 694, 144, 145, 2062, 103, 299, 51, 306, 1175, 2063], [1176, 49, 6, 285, 229, 1, 1177, 695, 638, 59], [19, 18, 242, 47, 325, 17, 21, 627, 1173, 27, 12, 325, 17, 21, 2064, 2065, 2066, 272, 201, 108, 24, 47, 1178], [2, 87, 87, 190, 1179, 4, 86, 4, 1180, 26, 3, 2067, 980, 6, 255, 2, 123, 4, 175, 4, 8, 33], [2068, 2069, 33, 4, 2070, 1, 467, 158, 2071, 59, 50, 24, 56, 185, 57, 12, 639, 411], [18, 4, 17, 11, 2072, 27, 2, 46, 43, 490, 80, 2073, 1140], [2074, 2075, 203, 585, 494, 16, 343, 9, 25, 9, 1, 2076, 42, 92, 320, 34, 85, 3, 120, 2077, 9, 2078], [451, 7, 51, 9, 1, 450, 321, 10, 156, 650, 156, 1057], [469, 2079, 7, 696, 4, 1181, 30, 27, 14, 441, 1182, 4, 1181, 30, 43, 2080, 7, 489, 7, 641, 51, 10, 1028, 2081], [3, 231, 1183, 463, 5, 3, 231, 126, 2082, 15, 8, 2083, 19, 22, 18, 96, 697, 96, 697, 96, 697, 1184], [2, 74, 477, 2084, 2, 62, 18, 130, 491, 200, 23, 386, 344, 63, 86, 5, 46, 2085, 130, 12, 38, 5, 2, 130, 12, 2086, 41, 2, 2087], [2088, 2089, 4, 2090, 113], [255, 129, 13], [1185, 1186, 1187, 1188, 49, 2, 495, 248, 10, 496, 316, 1189, 34, 81, 1190, 41], [2091, 40, 56, 78, 17, 195, 7, 2092, 131, 32, 4, 1, 2093, 10, 2094, 2095], [93, 3, 193, 1191, 14, 41], [2096, 184, 85, 137, 1, 2097, 5, 32, 2, 74, 10, 485, 1123], [2098, 2099, 27, 2100, 2101, 9, 1, 149, 1066, 2102, 1, 2103, 2104, 1109, 8, 2105, 2106, 2, 383, 387], [19, 18, 1192, 4, 286, 476, 11, 229, 2107, 669, 4, 644, 131, 32, 2, 16, 132, 21, 19, 3, 231, 388, 456, 5, 351, 69, 50, 198], [2108, 311, 2109], [166, 985, 18, 113, 21, 3, 2110, 2111, 2112], [232, 17, 2113, 20, 8, 382, 350, 72, 2114, 1, 683, 9, 1, 90, 5, 29, 2, 202, 51, 147, 72, 310, 10, 3, 311, 48], [2115, 34, 1, 223, 2116, 299, 139, 11, 1193, 21, 3, 2117, 2118, 9, 1, 157, 14, 13], [2119, 40, 438, 4, 1, 2120, 1194, 12, 44, 3, 215, 1195, 77, 328, 11, 134, 2121], [2122, 120, 2123, 2124, 624, 436, 20, 2125, 9, 2126, 1068, 1172, 1080], [29, 6, 258, 38, 1, 1196, 287, 94, 3, 147, 48, 58], [2127, 2128, 26, 5, 18, 389, 257, 41, 2129], [183, 1197, 17, 534, 4, 33, 54, 1198, 167, 13, 2130, 56, 1199, 12, 48, 16, 50, 168, 33, 1199, 1027], [11, 2131, 312, 36, 2132, 20, 3, 162], [204, 15, 257, 118, 364, 135, 2133, 364, 107, 56, 161, 115], [1200, 1201, 1202, 9, 135, 45, 1203, 1204, 32], [2134, 76, 1205], [2135, 190], [308, 31, 11, 86, 1036, 1037, 5, 1038, 1039], [2136, 2, 190, 25, 318, 10, 80, 153, 14, 80, 83, 37, 867, 26, 25, 2137], [2138, 2, 2139, 2140, 108, 691, 8, 387, 48], [570, 261, 603, 963, 964, 5, 965, 966, 63, 274, 124, 25, 967, 5, 968, 969], [50, 2141, 848, 119, 45, 2142, 2143], [994, 246, 410, 2, 135, 84, 99], [2144, 34, 1, 463, 9, 18, 1179, 386, 1, 2145], [89, 118, 3, 1206, 29, 6, 28, 31, 2146, 5, 89, 118, 3, 1207, 29, 6, 28, 222], [2147, 271, 331, 446, 28, 120, 2148, 54, 35, 218, 3, 383, 39, 324, 390, 3, 280, 1208, 14, 271, 698], [1209, 1210, 2, 651, 45, 1211, 25, 1212, 247, 1213, 151, 699, 94, 146, 1214, 333, 1215, 1216, 23, 333, 1217, 43], [2149, 2, 227, 2, 305, 17, 2150, 15, 8, 264, 128, 2151, 2, 305, 17, 3, 1078, 2152, 16, 4, 129, 13], [1151, 1152, 2, 44, 22, 381, 1153, 4, 1154, 88, 12, 1155, 20, 3, 1156, 2, 236, 1157, 26, 8, 683, 2153], [2, 35, 46, 40, 484, 7, 191, 29, 1218, 15, 275, 276, 1219, 49, 18, 1220, 40, 276, 1221, 1222, 91], [2154, 228, 38, 53, 1223, 15, 2155, 2156, 53, 1224, 615, 3, 162, 50, 47, 1061, 4, 914, 244], [2157, 184, 281, 12, 14, 8, 2158, 4, 700, 20, 48, 8, 109, 7, 210, 50, 701, 50, 34, 474, 1, 139, 9, 8, 2159, 48], [312, 12, 15, 133, 927, 9, 928, 929, 930, 931], [2160, 702, 1, 139, 9, 2161], [2162, 2163, 6, 71, 2, 1119, 102, 4, 268, 5, 18, 327, 3, 622, 2164, 1063], [2165, 2166, 7, 11, 60, 167, 1225, 21, 3, 587, 198, 210, 34, 2167, 22, 34, 210, 1, 587, 12, 44, 540, 4, 57, 2168], [2169, 2170, 167, 2171], [2, 93, 80, 4, 205, 20, 8, 32], [1226, 89, 703, 102, 1227, 5, 497, 704, 81, 68, 224, 26, 6, 590, 5, 497, 43], [705, 1228, 196, 24, 219, 1229, 65, 334, 15, 186, 706, 8, 498, 65, 1230, 25, 1231, 63, 326, 2, 466, 1232], [63, 34, 90, 4, 603, 2172, 42, 1, 178, 2173, 2174, 12, 383, 1, 2175, 69, 707, 111, 14, 3, 388, 27, 177, 62, 46, 100, 12], [693, 107, 310, 126, 2176, 45, 1, 375, 30, 375, 34, 304, 3, 388, 2177, 2178, 2179, 273], [2180, 2181, 12, 292, 302, 133, 2182, 9, 530, 2183, 287, 2184, 62, 1233, 234, 37, 2185, 30, 2186], [1091, 481, 64, 178, 284, 662, 42, 3, 663, 14, 1092, 1093, 1094, 1095, 1096, 1097, 115], [693, 1234, 107, 161, 2187, 13, 187, 375], [71, 2, 87, 619, 2188, 2189, 671, 1235, 66, 67, 230, 45, 77, 43, 5, 404, 47, 7, 2190], [1236, 1237, 115, 1238, 1239, 499, 5, 1240, 708, 500, 43], [2191, 155, 90, 3, 121, 54, 65, 447, 4, 1233, 709, 234, 2192, 55, 6, 285, 655], [50, 24, 47, 1241, 8, 282, 15, 1, 1242, 8, 1243, 75, 16, 334, 1244, 1245, 9, 645, 1246, 55, 20, 146, 1247, 63, 19, 16, 31], [35, 216, 13, 138, 592, 13, 200], [328, 89, 17, 3, 31, 1248, 99, 25, 2193, 16, 1249, 36, 90], [1250, 52, 82, 23, 2194, 298, 41, 73, 2195, 15, 1, 298, 1251, 3, 2196, 2197, 2198, 9, 585, 2199, 501, 2200], [2201, 194, 168, 354, 2202, 257, 7, 195, 51, 9, 53, 1252, 1253, 31, 2203, 2204, 2205], [2206, 72, 224, 2207, 149, 361], [654, 502, 657, 29, 52, 28, 26, 1254, 20, 1255, 1256, 36, 503, 5, 1257, 1258, 502, 503], [504, 29, 1259, 91, 2208, 2209, 2210, 2211, 2212, 1260, 2213, 2214, 2215, 15, 2216, 504], [1261, 1, 268, 360, 24, 1262, 566, 1, 2217, 5, 88, 2218, 1263, 2219, 4, 3, 659, 2220, 122, 710, 314, 1262, 1261], [2221, 22, 911, 4, 327, 637, 47, 2222, 4, 505, 10, 2223, 2224, 2225], [185, 71, 1264, 18, 270, 2226, 2227, 95, 118, 80, 1264, 22, 43, 2228, 2229, 2230], [2, 283, 195, 203, 68, 2, 1265, 39, 5, 1079, 131, 161, 20, 1266, 2231, 43, 48], [11, 144, 241, 335, 1267, 422, 60, 544, 81, 354, 711, 6, 4, 700, 20, 12], [2232, 2233, 2234, 2235, 2236, 2237, 1268, 1269, 20, 30, 2238, 2239, 7, 60, 167, 4, 1268, 1269], [2240, 7, 1, 2241, 11, 67, 57, 126, 1143, 4, 1, 2242, 10, 192, 12, 7, 2243, 122, 4, 219, 15, 192, 12, 7, 2244, 32, 1270, 1271], [24, 2, 2245, 126, 122, 180, 10, 2246, 15, 180, 2247, 183, 17, 110, 27, 52, 25, 79, 34, 179, 256], [2, 23, 3, 41, 41, 499, 1272, 38, 701, 183, 181, 6, 334, 15, 12, 380, 1273, 41], [2248, 712, 55, 676, 1, 2249, 2250, 391, 30, 2251, 2252, 2253, 62, 2254, 14, 1, 2255, 2256, 713, 6, 506, 173], [29, 36, 382, 7, 5, 1274, 2257, 709, 234, 16, 4, 46, 1275], [1064, 104, 6, 94, 218, 38, 155, 1065, 611, 656, 329, 31], [30, 457, 486, 69, 3, 2258, 60, 2259, 7, 2260, 1276, 4, 1, 199, 2261, 2262, 2263, 491, 263, 4, 17, 2264, 63], [2265, 2266, 674, 1, 553, 9, 2267, 42, 2268, 10, 270, 58, 15, 2269, 73, 1069, 2270, 2271], [2, 392, 2272, 507, 32, 507, 2273], [63, 11, 2, 23, 8, 2274, 641, 63, 34, 90, 4, 714, 84, 58, 714, 2275, 550, 40, 714, 2, 78, 2, 57], [57, 18, 2276, 1, 464, 2277, 1118, 57, 18, 190, 53, 2278, 81, 1, 464, 2279, 319, 47, 1277, 2280], [206, 658, 42, 13, 10, 3, 87, 2281, 2282, 1278, 143, 2283, 53, 715], [80, 250, 1279, 15, 380, 487, 9, 1, 1280, 716, 26, 717, 1281, 1282, 679, 14, 1283, 458, 32, 508], [2, 71, 2, 284, 620, 8, 2284, 29, 19, 1284, 21, 3, 149, 2285, 15, 8, 1135, 196], [1120, 424, 142, 360], [2286, 2287, 50, 165], [49, 3, 2288, 2289, 20, 2290, 653, 5, 3, 105, 1183, 285, 327, 36, 2291, 637], [1070, 361, 1071, 1072, 11, 3, 1073, 100, 412, 78, 17, 1074, 20, 1075, 1076, 1077], [2292, 4, 2293, 87, 2294, 13, 5, 8, 32], [2295, 6, 23, 32, 1056], [2, 70, 154, 274, 25, 2296, 55, 8, 2297, 9, 25, 2298, 2, 132, 1198, 59], [2, 71, 56, 480, 17, 59], [2299, 2300, 225, 218, 11, 107, 1, 2301, 718], [2, 74, 416, 268, 50, 3, 2302, 2303, 14, 110, 38, 26, 30, 379, 2304], [2305, 2, 154, 233, 40, 6, 427, 1, 113, 9, 1, 454], [1285, 27, 2, 16, 65, 528, 3, 170, 2306, 15, 1, 719, 5, 2, 185, 79, 2307, 4, 488, 83, 17, 59], [1286, 62, 189, 58, 45, 422, 193, 1287, 21, 2308, 5, 56, 62, 17, 21, 2309, 30, 7, 77, 405, 1134, 189, 58], [1288, 22, 6, 509, 720, 13, 59], [721, 171, 1289, 1290, 76, 510, 511], [293, 92, 119, 7, 3, 2310, 2311, 9, 2312, 2313, 2314, 19, 2315, 14, 2316, 2317, 48, 2318, 2319, 2320], [1, 891, 111, 82, 1138, 2, 132, 557], [2, 16, 98, 12, 29, 33, 118, 961, 14, 13, 363, 232, 962, 13, 10, 30, 602], [2321, 19, 59, 2, 232, 74], [2322, 164, 125, 2323, 48], [2324, 104, 6, 18, 512, 42, 2325, 378, 2326, 167, 4, 2327, 143, 1291, 4, 2328, 2329, 2330, 96, 2331, 589, 48], [361, 37, 336, 10, 228, 38, 36, 139, 15, 630, 33, 81, 6, 71, 269, 598, 60, 630, 121, 2332], [2333, 2334, 196, 4, 134, 66, 2335], [2336, 67, 17, 50, 391, 50, 47, 711, 27, 1, 259, 642, 2337, 62, 57, 203, 5, 2338, 62, 16, 57, 40, 47, 711, 2339, 2340], [2341, 49, 57, 6, 94, 2342, 2343, 6, 130, 1, 32, 46, 1, 114, 9, 6, 6, 5, 2344, 85, 1067, 14, 77, 278], [2345, 2346, 2347, 152, 1137, 288, 30, 7, 13, 50, 136, 48], [2, 2348, 8, 207, 76, 40, 418, 9, 2349, 722, 95, 261], [2, 35, 94, 132, 32, 1292, 70, 609, 12, 717, 275, 2350, 2351, 2352, 2353, 2354, 2355], [2356, 2357, 2358, 7, 3, 2359, 2360, 15, 1, 2361, 187, 157, 47, 75, 234, 73, 2362, 26, 1, 2363, 95, 98, 4, 148], [1176, 49, 6, 285, 229, 1, 1177, 695, 638], [2364, 38, 4, 113, 10, 2365, 313, 1293, 4, 468, 1294], [22, 2, 513, 8, 393, 389, 27, 260, 37, 358, 42, 64, 8, 1295, 393, 16, 513, 64, 65, 3, 358, 6, 79, 54, 1, 677, 59], [1296, 19, 63, 505, 1297, 1, 365, 161, 9, 479, 1298, 10, 1299, 63, 318, 62, 175, 4, 13, 88, 58], [70, 154, 884, 306, 13], [2366, 2367, 35, 1300, 4, 13, 83, 8, 2368, 21, 11, 432, 3, 127, 1, 715, 9, 490, 66, 2369, 2370, 15, 723, 719, 37, 3, 286, 2371, 494], [724, 2372, 4, 720, 2373, 11, 2374, 2375, 2376, 2377, 233, 53, 2378, 336, 9, 724], [1226, 89, 703, 102, 1227, 5, 497, 704, 81, 68, 224, 26, 6, 590, 5, 497], [2379, 80, 33, 95, 725, 2380, 15, 4, 131, 391, 32, 2381, 2382], [936, 254, 14, 242, 8, 937, 5, 2, 97, 270, 92, 362, 106, 5, 88, 938, 271, 9, 116, 20, 37, 939, 254], [2383, 241, 394, 2384, 5, 36, 395, 7, 125, 45, 1301, 38, 2385, 7, 2386, 5, 2387, 2388, 2389], [371, 35, 21, 476, 81, 52, 190, 116, 14, 381, 22, 2390, 217, 52, 82, 493, 21, 11, 2391], [705, 1228, 196, 24, 219, 1229, 65, 334, 15, 186, 706, 8, 498, 65, 1230, 25, 1231, 63, 326, 2, 466, 31, 1232], [2392, 88, 66, 556, 11, 41, 7, 726, 18, 286, 83, 2393, 83, 2394, 12, 7, 726, 2395, 128, 2396], [8, 909, 1193, 21, 34, 179, 125, 1250, 19, 82, 1302, 4, 86, 96, 109], [1, 114, 58, 7, 4, 727, 15, 46, 100, 12, 5, 1303, 4, 1304, 89, 218, 68, 1, 728, 9, 394, 6, 514], [46, 4, 109, 5, 209, 3, 199, 1305, 199, 1306, 1307], [2397, 496, 132, 322, 72, 95, 729, 322, 2398, 2399, 30, 95, 2400, 4, 1276, 1, 2401, 32, 5, 633, 149, 507], [1308, 1309, 40, 2, 23, 85, 242, 15, 1310, 43], [46, 4, 109, 5, 209, 3, 199, 1305, 199, 124, 1306, 1307], [2402, 2403, 75, 351, 96, 3, 725, 165, 86, 2404], [2405, 20, 3, 43, 730, 130, 13], [2406, 7, 12, 296, 2407, 9, 36, 321, 28, 279, 57, 56, 731, 2408, 43, 28, 36, 321, 2409, 2410, 2411, 2412], [2413, 2414, 224, 61, 48], [947, 596, 1, 948, 272, 20, 949, 950, 951, 952, 459, 60, 953, 954, 30, 7, 60], [8, 2415, 28, 150, 29, 19, 10, 3, 212, 2416, 68, 129, 13, 151, 612, 2417], [17, 1311, 2418, 24, 6, 123, 4, 134, 68], [2419, 944, 168, 147, 1, 2420, 185, 134, 116], [6, 79, 1312, 82, 437, 210, 1313, 643, 15, 1314, 1315, 21, 2, 710, 5, 19, 59], [2421, 37, 2422, 113, 1316, 1, 121, 54, 85, 26, 973, 14, 267, 2423, 2424, 78, 17, 2425, 1142, 2426, 2427], [22, 2, 513, 8, 393, 389, 27, 260, 37, 358, 42, 64, 8, 1295, 393, 16, 513, 64, 65, 3, 358, 6, 79, 54, 1, 677], [2428, 19, 18, 456, 2, 95, 17, 61, 48], [194, 141, 220, 323, 15, 8, 161, 2429, 274, 18, 377, 42, 605, 2430, 32, 5, 1317, 2431, 89], [1318, 2432, 78, 134, 5, 2433, 2434, 2435, 663, 69, 4, 2436, 1, 2437, 281, 78, 86, 5, 2438, 151, 2439], [2, 93, 25, 36, 1275, 24, 2, 35, 183, 107], [2440, 19, 21, 307, 2441, 80, 149, 2442, 4, 204, 96, 8, 2443, 2444, 13, 9, 158, 3, 2445, 2446, 83, 237, 239], [81, 12, 44, 3, 280, 681, 27, 26, 385, 63, 2, 79, 40, 12, 44, 1149, 1150], [2447, 2448, 2449, 2450, 2451, 2452, 7, 2453, 208, 3, 2454, 428, 2455], [2456, 1319, 3, 2457, 396, 151, 2458, 2459, 5, 842, 53, 460, 137, 1, 2460, 37, 2461, 5, 203, 438, 47], [2462, 550, 414, 732, 80, 395, 2463, 14, 36, 362, 76, 619, 211, 174], [29, 6, 315, 4, 547, 6, 97, 733, 1320, 1321, 115, 110], [63, 11, 2464, 75, 171, 102, 34, 3, 1052, 1322, 4, 148, 54, 67, 46, 1, 2465, 76, 9, 51, 211, 574, 76, 2466], [2467, 146, 246, 2468, 5, 166, 396, 24, 68, 310, 214, 1323, 4, 13, 2469], [2, 35, 397, 4, 134, 324, 27, 236, 2470, 322, 15, 170, 33, 10, 80, 2471, 34, 296, 27, 3, 515, 9, 608, 34, 18], [47, 2472, 734, 39, 12, 331, 495, 310, 58, 14, 53, 2473, 2474, 5, 1274, 2475, 314, 1, 2476], [654, 502, 657, 29, 52, 28, 26, 1254, 20, 1255, 1256, 36, 503, 5, 1257, 32, 1258, 502, 503], [28, 2477, 2478, 208, 3, 345, 216, 2479, 2480, 2481], [1324, 1325, 2, 516, 3, 157, 332, 517, 518, 44, 1326, 398, 5, 1327, 25, 398, 7, 30, 1, 238, 517, 518, 2, 79, 9, 112], [5, 72, 65, 25, 31, 593, 13, 27, 40, 95, 17, 195, 3, 452, 220, 206, 381, 14, 3, 472, 21, 6, 5, 2, 474], [2482, 14, 36, 188, 2483, 62, 66, 57, 3, 2484, 2485, 252, 5, 16, 2486, 116, 25, 10, 3, 124, 2487, 5, 57, 1, 2488], [21, 2, 70, 57, 1328, 1329, 9, 1234, 83, 2489, 124, 10, 1328, 1235, 2490], [151, 58, 6, 132, 168, 138, 58, 6, 132, 659, 48, 481], [2, 309, 40, 95, 256, 24, 2, 97, 4, 230, 80, 33, 1, 660, 1087, 1088], [189, 1259, 2491, 15, 58, 20, 489, 24, 2492, 7, 894, 4, 571, 2493, 2494, 2495], [1288, 22, 6, 509, 720, 13], [1, 2496, 11, 161, 2497, 5, 2498, 138, 3, 2499, 28, 1, 367, 54, 161, 1, 139], [2, 16, 35, 556, 49, 177, 7, 22, 31, 52, 25, 16, 123, 4, 247, 5, 2500, 35, 52], [2501, 166, 7, 1330, 5, 108, 7, 2502], [1331, 78, 18, 17, 3, 1332, 14, 76], [481, 376, 66, 285, 118, 116, 2503, 2, 79, 66, 93, 131, 2504, 22, 66, 23, 4, 295, 27, 29, 66, 2505, 87, 10, 14, 36, 139], [198, 2506, 2507, 149, 2508, 263, 1333, 30, 73, 66, 67, 128, 258, 60, 2509, 21, 446, 4, 277, 2510, 252, 2511], [1334, 1335, 7, 1, 1336, 153, 9, 1337, 1338, 5, 32, 1339], [886, 9, 41, 44, 696, 4, 258, 14, 3, 501, 5, 88, 2512, 2513, 10, 5, 1, 255, 195, 1, 2514, 191, 12, 22, 2515], [873, 874, 212, 875, 24, 575, 576, 12, 437, 304, 137, 238, 438, 4, 13, 127, 4, 876, 235, 15, 1, 174], [2516, 8, 399, 81, 6, 281, 13, 14, 22, 278, 2517, 107, 27, 12, 351, 4, 3, 2518, 16, 2519, 37, 19, 349], [49, 28, 33, 22, 31, 1117, 2520, 2521, 26, 10, 140, 38, 253], [2, 397, 19, 18, 210, 394, 1, 2522, 27, 34, 1340, 4, 148, 3, 2523, 9, 2524, 2525, 363, 519, 1341, 2526, 120, 2527], [2528, 14, 8, 2529, 4, 2530, 1342, 2531, 718, 16, 4, 428, 2532], [2533, 2534, 2535, 1317, 5, 91, 100, 1, 2536, 2537, 970, 9, 1, 925, 2538], [2539, 2540, 337, 6, 150, 2541, 647, 48], [2542, 34, 904, 2543, 14, 2544, 24, 6, 130, 12, 38, 12, 62, 2545, 34, 2546, 1343, 5, 111, 6, 2547], [2548, 5, 2, 16, 104, 3, 2549, 1344, 15, 457, 10, 888, 2550], [2551, 37, 2552, 139, 122, 3, 262, 616], [2553, 56, 325, 46, 698, 2554, 400, 56, 292, 23, 84, 10, 2555, 50, 246, 4, 165, 14, 2556, 2557, 73, 53, 2558], [2559, 16, 2560, 50, 4, 40, 6, 397, 37, 989, 37, 1345, 37, 2561], [2562, 1, 114, 58, 7, 4, 46, 401, 3, 168, 262, 5, 727, 15, 312, 64, 5, 64, 2563, 4, 1062, 583, 38, 1346], [2564, 2, 44, 435, 39, 1129, 10, 1, 2565, 20, 126, 2566, 113, 128, 164, 198, 640, 1, 302], [54, 734, 2567, 328, 111, 22, 212, 2568, 2569, 75, 85, 314, 3, 515, 9, 665, 14, 53, 2570, 698, 331, 2571], [1236, 1237, 115, 1238, 1239, 499, 5, 1240, 708, 500], [2572, 2573, 2574, 5, 64, 161, 95, 2575, 50, 72, 2576, 12, 95, 2577, 11, 158, 1139, 50, 2578, 10, 2579, 2580, 2581], [1301, 38, 8, 357, 114, 2582, 28, 243, 4, 41, 20, 13, 26, 2583, 172, 30, 402, 375, 9, 37, 2584, 2585, 1329, 12], [249, 308, 249, 78, 23, 333, 249, 516, 413, 3, 150, 157, 156, 31], [1347, 1348, 99], [2586, 2587, 25, 386, 13, 4, 644, 2588, 715, 48], [2589, 2590, 16, 65, 600, 9, 2591, 5, 12, 182, 428, 13, 16, 172, 13, 533, 14, 1, 2592], [299, 1, 834, 8, 174, 566, 415, 835, 567], [1, 613, 236, 124, 8, 695], [11, 132, 29, 6, 982, 983, 4, 291, 55, 3, 615, 11, 984, 10, 1, 368, 357, 369, 138, 6, 312], [2593, 2594, 2595, 2596, 2597, 77, 104, 11, 2598, 132, 6, 82, 132, 1, 111, 9, 12, 224, 976], [1349, 1350, 25, 8, 1351, 140, 618, 22, 1352, 221, 25, 53, 1353], [1354, 16, 4, 205, 1355, 5, 1356, 92, 1357, 50, 3, 259, 313, 1358, 14, 1359, 1360, 5, 606, 91], [1349, 1350, 25, 8, 1351, 140, 618, 22, 1352, 221, 25, 53, 1353, 58], [34, 694, 81, 2, 44, 2599, 479, 429, 5, 2600, 10, 1, 147, 2, 44, 505, 402, 542], [50, 24, 47, 1241, 8, 282, 15, 1, 1242, 8, 1243, 75, 16, 334, 1244, 1245, 9, 645, 1246, 55, 20, 146, 1247, 63, 19, 16], [249, 308, 249, 78, 23, 333, 249, 516, 413, 3, 150, 157, 156], [1029, 72, 7, 16, 1030, 5, 3, 294, 1031, 1032, 1033], [2601, 2602, 5, 2603, 36, 1040, 2604, 15, 69, 1, 935, 44, 485, 313, 37, 2605, 37, 58, 3, 2606, 2607, 2608, 265], [1209, 1210, 2, 651, 45, 1211, 25, 1212, 247, 1213, 151, 699, 94, 146, 1214, 333, 1215, 1216, 23, 333, 1217], [1, 114, 58, 7, 4, 727, 15, 46, 100, 12, 5, 1303, 4, 1304, 89, 218, 68, 1, 728, 9, 394, 6, 514], [2609, 2610, 99, 19, 222, 20, 8, 624, 2611, 722, 453, 196, 4, 134, 6], [2612, 2613, 3, 2614, 1178, 4, 1, 102, 368, 5, 2615, 12, 102, 658, 27, 1, 652, 2616, 2617, 735, 120, 186], [70, 154, 184, 117, 65, 369, 69, 281, 48, 1049], [2618, 2, 317, 149], [2619, 621, 44, 632, 45, 1, 1055, 10, 37, 1, 330, 213, 1253, 38, 1, 206, 2620, 460, 26, 269, 295, 14, 2621, 151, 91], [2, 46, 2622, 26, 1, 2623, 323, 5, 88, 183, 289, 39, 12, 25, 213, 2, 135, 12], [2624, 2625, 2626, 120, 504, 2627, 2628], [2, 35, 46, 40, 484, 7, 191, 29, 1218, 15, 275, 276, 1219, 49, 18, 1220, 40, 276, 1221, 1222], [2629, 62, 2630, 2631, 29, 72, 70, 189, 158, 2632, 155, 623], [2633, 736, 21, 3, 737, 1011, 4, 41, 15], [2634, 22, 2635, 67, 2636, 1, 2637, 86, 379, 27, 18, 6, 40, 60, 91, 11, 16, 559, 11, 47, 7, 126, 2638, 122, 2639, 397, 1266], [2, 71, 249, 7, 712, 43, 18, 1, 2640], [2641, 2, 35, 148, 49, 6, 71, 198, 23, 3, 2642, 200, 2643, 119, 20, 2644, 47, 577, 42, 3, 506, 2645, 946], [138, 2646, 108, 1330, 138, 845, 2647, 8, 399, 7, 2648], [1105, 1106, 421, 55, 1107, 28, 482], [2649, 113, 298], [2650, 11, 335, 3, 144, 14, 278, 7, 2651, 7, 520], [2652, 11, 7, 3, 2653, 2654, 3, 107, 88, 2655, 4, 1343], [80, 250, 1279, 15, 380, 487, 9, 1, 1280, 716, 26, 717, 1281, 1282, 679, 14, 1283, 458, 508], [2656, 2657, 1, 2658, 2659, 207, 192, 56, 104, 2660, 635, 569, 521, 95, 2661, 96, 3, 165, 2662, 2663, 44, 1, 117], [2664, 2665, 7, 1, 114, 372, 6, 16, 629, 10, 2666, 32, 35, 2667, 83, 277, 219], [2, 154, 371, 28, 126, 165, 81, 441, 3, 245, 56, 86, 137, 1361, 5, 1361, 7, 40, 2668, 3, 338, 1362], [1166, 2, 493, 471, 6, 127, 268, 5, 24, 6, 35, 197, 13, 102, 19, 179, 17], [19, 160, 617, 82, 43, 39, 1, 2669, 2670, 18, 158, 738, 27, 738, 2671, 10, 2672, 7, 2673, 3, 2674, 1363], [104, 52, 283, 1, 672, 11, 1110, 1111, 1112, 53, 382, 1113, 10, 1, 161, 20, 3, 1114, 483, 1115, 38, 9, 3, 568, 9], [2675, 194, 469, 2, 23, 4, 202, 30, 1, 262, 20, 1, 107, 104, 198], [159, 2676, 2, 79, 2677, 32, 7, 2678, 4, 647, 2679, 10, 2680, 2681, 9, 8, 159, 2, 284, 2682, 12, 73, 2683, 700, 20, 12], [2684, 707, 17, 21, 124, 2685, 2686, 2687, 23, 4, 732, 12, 223, 27, 1364, 2688, 12, 56, 23, 4, 46, 2689, 9, 12], [2690, 56, 2691, 2692, 139, 16, 50, 2693, 104], [2694, 34, 126, 9, 3, 231, 910, 122, 3, 111, 27, 6, 23, 4, 204, 4, 2695, 4, 46, 12], [2696, 2697, 2698, 2699, 2700, 2701, 42, 360, 142], [1365, 7, 1366, 148, 12, 10, 68, 390, 6, 160, 26, 80, 1367, 23, 11, 384, 6, 32, 739], [2702, 2703, 2704, 705, 2705, 97, 2706, 124, 2707, 2, 44, 435, 39, 2708, 28, 6, 243, 740], [1368, 51, 9, 8, 741, 1369, 264, 477, 175, 41], [2709, 32, 7, 3, 425, 9, 319, 454, 33, 2710, 2711, 10, 1, 2712, 10, 2713, 2714, 2715, 2716, 2717, 2718], [1102, 2, 248, 55, 667, 1103, 4, 221, 1104, 20, 84], [1, 28, 742, 2719, 49, 292, 2720, 689, 2721, 34, 60, 91], [1370, 2, 563, 77, 2722, 112, 7, 30, 452], [2723, 2724, 37, 119, 27, 1, 117, 153, 30, 172, 336, 7, 24, 6, 109, 14, 1, 2725, 2726, 28, 6, 2727], [2728, 2729, 76, 519, 75, 65, 13, 2730, 55, 2731], [2732, 20, 3, 162, 72, 257, 38, 3, 2733, 2734, 242, 11, 72, 2735, 72, 127, 3, 2736], [2737, 257, 41], [24, 2, 328, 16, 46, 8, 1371, 4, 551, 2738, 2739, 2740, 2741, 2742, 2743], [2744, 27, 2745, 1108, 41, 7, 2746, 12, 62, 17, 270, 2747, 707, 82, 17, 2748, 122, 113, 326], [2749, 1372, 2750, 286, 1373, 743, 113, 104, 39, 744, 5, 2751, 170, 104, 39, 744], [2752, 274, 82, 416, 53, 119, 55, 1, 843, 398, 73, 2753], [2754, 99, 98, 12, 29, 6, 417, 2755, 181, 55, 1, 168, 109, 99], [2756, 487, 783, 70, 295, 4, 41, 2757], [490, 2758, 65, 13, 478, 2759, 330, 2760, 88, 2, 282, 39, 2761, 580, 5, 125, 96, 377, 261], [2762, 2763, 2764, 47, 224, 2765, 2766, 2767, 2, 57, 18, 2768, 2769, 391, 2770, 718, 42, 2771], [8, 2772, 129, 13, 2773, 25, 141, 2774, 21, 304, 48], [1, 395, 75, 2775, 125, 2776, 4, 1316, 14, 1, 2777, 5, 25, 1, 2778, 2779, 926], [1021, 1022, 316, 232, 138, 1, 1023, 19, 1024, 14, 324, 27, 634], [2780, 2781, 47, 2782, 32, 5, 248, 64, 3, 317, 11, 1374, 64, 4, 2783, 47, 734, 72, 509, 326, 5, 11, 44, 51, 9], [2784, 77, 53, 207, 320, 167, 84], [2, 134, 66], [2785, 2786, 41], [80, 1375, 15, 1, 719, 54, 1195, 1291, 4, 216, 2787, 1376, 320, 45, 2788, 2789, 69, 1, 2790, 4, 53, 494, 15, 1, 174], [1331, 78, 18, 17, 3, 1332, 14], [2791, 2792, 2793, 2, 2794, 27, 92, 119, 44, 722, 138, 1, 297, 307, 4, 2795, 15, 1, 223, 2796], [2797, 383, 249, 101, 70, 295], [2798, 2799, 2800, 15, 3, 1180, 9, 2801, 429, 11, 44, 191, 2802, 5, 2803, 278, 151, 331, 65, 96, 648], [24, 6, 130, 3, 1050, 1194, 134, 6, 6, 617, 1377, 17, 15, 268], [50, 36, 207, 1378, 10, 235, 4, 1379, 92, 473, 159, 1380, 1381, 12, 7, 133, 43], [1347, 1348, 99, 43], [208, 33, 28, 986, 15, 1, 987, 5, 19], [729, 29, 11, 206, 65, 31, 11, 2, 1382, 242, 2804, 2805, 44, 1, 114, 2806, 2807, 10, 1, 259, 239], [712, 3, 2808, 2809, 72, 342, 3, 162, 2810, 15, 64, 569, 2811, 2812, 50, 47, 2813, 64, 1, 2814, 3, 2815, 104, 2816], [1167, 126, 21, 187, 688, 224, 1, 238, 1168, 1169], [8, 2817, 386, 38, 133, 28, 330, 149, 1383, 320, 21, 13, 50, 52, 2818, 10, 1371, 9, 1, 2819, 2820, 97, 14, 22, 2821, 1383], [2822, 2823, 160, 92, 114, 2824, 15, 119, 28, 92, 2825, 5, 92, 44, 2826, 23, 4, 23, 60, 119, 4, 2827, 271], [2828, 180, 3, 99, 396, 2829, 84, 194, 194], [2830, 2831, 111, 5, 2832, 301, 2833, 402, 14, 21, 2834], [184, 85, 1293, 2835, 2836, 42, 2837, 299, 706, 5, 19, 124, 8, 2838, 1284, 116, 226, 141, 2839, 265], [98, 77, 2840, 7, 110, 39, 30, 800, 2841, 801, 5, 19, 2842, 186, 21, 574], [2843, 2844, 7, 82, 2845, 42, 1, 2846, 47, 260, 29, 47, 191, 1, 105, 1384, 1385, 5, 2847, 1, 139, 9, 170, 491], [81, 6, 59, 45, 1, 2848, 9, 2849, 2850, 182, 397, 11, 19, 2851, 924, 83, 219, 390, 999, 3, 2852, 2853], [25, 87, 167, 2854, 9, 2855, 239, 562], [40, 636, 147, 4, 148, 5, 23, 37, 1386, 1387, 20, 1, 302, 10, 1388, 2856, 2857], [2858, 2859, 43, 586, 5, 2860, 7, 49, 72, 44, 2861], [2862, 2863, 40, 104, 2, 57, 4, 134, 6, 265], [40, 636, 147, 4, 148, 5, 23, 37, 1386, 1387, 20, 1, 302, 10, 1388, 2864, 120], [1, 43, 1, 1322, 1, 2865, 1, 2866], [2, 190, 2867, 8, 2868], [6, 70, 737, 1, 1389, 1390, 6, 23, 1391, 1, 1392, 1393], [33, 726, 144, 690, 40, 56, 1278, 1249, 583], [2869, 2870, 196, 4, 125, 1, 395, 27, 133, 44, 89, 155, 681, 2871], [2872, 198, 18, 2873, 37, 119, 27, 246, 2874, 220], [2875, 112, 15, 2876, 14, 2877, 106, 1375, 185, 79, 40, 47, 127, 225, 23, 1197, 447, 48, 8, 117, 103, 1394, 1394, 12], [63, 56, 289, 39, 1395, 2878, 189, 1395, 2879, 10, 14, 3, 174, 2, 67, 229, 2880, 2881, 83, 721, 10, 3, 2882, 155, 213], [24, 6, 2883, 199, 10, 3, 2884, 2885, 6, 62, 125, 96, 2886, 34, 3, 482, 2887, 1294, 117, 441], [2888, 2889, 391, 100, 1, 504, 2890, 7, 674, 2891, 299, 56, 2892, 1, 1136, 11, 652, 413, 2893], [2894, 2895, 376, 30, 232, 2896, 49, 2, 2897, 10, 30, 2898, 2899, 81, 9, 1, 1396, 454, 724], [52, 7, 1, 247, 1397, 1398, 403, 1399, 30, 558, 15, 1, 52, 1400, 24, 18, 12, 263, 4, 17, 52, 1401, 1402, 58], [971, 77, 67, 6, 94, 315, 4, 291, 301, 972, 604, 55, 42, 605], [1403, 14, 25, 1, 329, 33, 10, 8, 159, 329, 4, 512, 1404, 1405, 205, 1406, 18, 400, 1407, 75, 12, 150], [2900, 723, 198, 2, 67, 57, 1, 111, 403, 2901, 2902, 692, 2903, 1208, 26, 2904, 26, 1, 2905, 99], [2906, 2907, 12, 10, 108, 691], [2, 23, 3, 41, 41, 499, 1272, 38, 701, 183, 181, 6, 334, 15, 12, 380, 1273], [29, 32, 1408, 71, 9, 1, 1409, 522, 520, 32], [193, 112, 2908, 2909], [2, 44, 243, 4, 277, 11, 2910, 7, 3, 2911, 9, 53, 2912, 453, 27, 2, 35, 123, 4, 134, 155, 2913, 2914], [29, 6, 125, 38, 704, 1346, 5, 66, 2915, 11, 37, 51, 2916, 642, 77, 1025, 6, 87, 28, 81, 6, 35, 123, 324, 4, 79], [2917, 228, 53, 58, 14, 1, 2918], [2919, 414, 1, 193, 112, 316], [6, 28, 60, 31, 2920, 9, 2921], [51, 245, 1410, 1411, 213, 5, 2, 71, 34, 90, 4, 1412, 11, 2, 65, 116, 237, 286, 1413, 58], [17, 338, 2922, 5, 2923, 143, 475, 10, 36, 259, 9, 2924, 76, 38, 9, 12, 1, 567, 66, 46, 1192, 4, 1, 646, 1, 150], [90, 2925, 25, 2926, 2927, 1414, 99, 520, 522, 1252, 453, 58, 135, 90, 2928, 648, 331, 2929], [2930, 462, 11, 2931, 162, 2932, 104, 237, 188, 4, 2933, 106], [6, 79, 1312, 82, 437, 210, 1313, 643, 15, 1314, 1315, 21, 2, 710, 5, 19], [1, 745, 1415, 147, 4, 338, 7, 4, 523, 36, 32, 746], [285, 309, 49, 2934, 2935, 2936, 4, 1, 252, 10, 1, 223, 2937, 24, 6, 22, 288, 84, 2938], [2, 154, 19, 179, 2939, 2940, 10, 8, 76, 2941, 15, 1, 2942, 552, 12, 55, 3, 231, 388], [195, 80, 614, 20, 8, 1124, 2943, 125, 178], [24, 8, 1416, 1, 747, 9, 1417, 266, 219, 21, 106, 2, 71, 19, 243, 4, 21, 30, 163, 1418, 1419, 109], [160, 330, 548, 54, 2, 98, 3, 251, 293, 515, 2944, 2945, 337, 2946, 2947, 2948, 1, 747, 9, 1, 2949, 226, 2, 844, 38, 9, 2950], [2951, 24, 12, 1420, 214, 173, 4, 221, 2, 2952, 666, 11, 2953, 28, 168, 226, 56, 28, 670, 5, 35, 129], [2954, 18, 289, 24, 6, 28, 18, 482, 2955, 54, 197, 13, 601, 594, 2956, 2957], [2958, 76, 736, 4, 17, 3, 1421, 186], [124, 1, 402, 9, 2959], [70, 295, 4, 17, 10, 8, 2960, 2961, 2962, 110, 26, 2963, 176, 30, 2964, 2965], [2966, 27, 94, 24, 2, 407, 137, 11, 2967, 12, 16, 169, 51, 554, 2968, 4, 571, 13, 742, 45, 1, 748, 287, 639], [1, 114, 58, 7, 1422, 524, 2969, 2970], [1251, 8, 2971, 2972, 2973, 40, 2974, 13, 39, 1, 2975, 661, 7, 133, 736, 4, 17, 126, 113, 39, 1, 2976, 122, 1, 1270], [2, 93, 4, 143, 297, 392, 387, 5, 16, 86, 20, 1, 223, 282, 5, 86, 20, 12, 120], [52, 2977, 26, 36, 2978, 139, 5, 2979, 2980, 3, 2981, 259, 7, 2982, 1277, 485, 2983, 667], [469, 626, 627, 264, 321, 16, 1007, 628, 25, 163, 5, 6, 214, 67, 1008, 448, 5, 60, 629, 156], [1423, 54, 7, 1424, 4, 32, 7, 150, 122, 1, 1425, 5, 47, 54, 748, 53, 1426, 122, 47, 54, 169, 3, 1427, 1428, 1429, 32], [335, 3, 144, 15, 68, 62, 143, 36, 2984, 42, 354, 512, 4, 2985, 73, 315, 115], [49, 164, 599, 1116, 107, 273, 115], [2986, 80, 9, 319, 2987, 28, 16, 2988, 135, 5, 18, 2989, 98, 133, 7, 3, 168, 522, 11, 266, 4, 36, 1385, 337, 2990], [2991, 166, 3, 113, 21, 3, 262, 616, 2992, 2993], [11, 7, 26, 385, 1, 2994, 90, 1, 2995, 85, 125, 10, 92, 2996], [2997, 2998, 115, 194, 1, 2999, 41, 48], [1430, 73, 1431, 4, 92, 610, 5, 1432, 439, 10, 275, 41, 145, 303], [3000, 2, 1089, 3001, 3002, 78, 17, 3003, 5, 3004], [495, 191, 8, 113, 3005, 3006, 130, 13, 79, 36, 746], [1296, 19, 63, 505, 1297, 1, 365, 161, 9, 479, 1298, 10, 1299, 63, 318, 62, 175, 4, 13, 88], [3007, 28, 6, 179, 57, 155, 418, 9, 3008, 3009, 29, 139, 9, 1, 3010, 3011], [3012, 3013, 6, 317, 286, 212, 37, 119, 9, 3014, 3015, 6, 11, 87, 3016, 11, 3017, 9, 3018, 2, 1171, 106], [3019, 462, 11, 162, 1433, 200, 808, 455], [3020, 72, 328, 336, 1, 32, 3021, 384, 84, 5, 1342, 53, 1434, 10, 3022, 50, 278, 50, 52, 1435, 3023, 198, 271, 17, 3024], [5, 372, 246, 444, 4, 23, 3, 1125, 1126, 19], [3025, 3026, 3027, 3, 388, 4, 1435, 3028, 64, 3029, 64, 521, 20, 3, 311, 1436, 90, 194, 3030, 3031, 49, 35, 6, 180], [3032, 430, 2, 71, 47, 716, 3, 144], [2, 70, 392, 24, 6, 335, 3, 144, 145, 1, 114], [3033, 3, 3034, 27, 1, 3035, 45, 1035, 10, 1396, 5, 187, 330, 3036, 3037, 1345, 4, 1, 1101], [1144, 1145, 1146, 1147, 177, 7, 145, 1148, 81, 52, 28, 1, 346, 483]]\n"
          ],
          "name": "stdout"
        }
      ]
    },
    {
      "cell_type": "code",
      "metadata": {
        "id": "zHaoGQXJ4dLc",
        "colab_type": "code",
        "colab": {
          "base_uri": "https://localhost:8080/",
          "height": 54
        },
        "outputId": "2dd65061-b01c-4235-cf2e-afca3b5e5d09"
      },
      "source": [
        "print(tokenizer.word_index)"
      ],
      "execution_count": 227,
      "outputs": [
        {
          "output_type": "stream",
          "text": [
            "{'the': 1, 'i': 2, 'a': 3, 'to': 4, 'and': 5, 'you': 6, 'is': 7, 'my': 8, 'of': 9, 'in': 10, 'that': 11, 'it': 12, 'me': 13, 'for': 14, 'on': 15, 'just': 16, 'be': 17, 'not': 18, 'im': 19, 'with': 20, 'like': 21, 'so': 22, 'have': 23, 'if': 24, 'all': 25, 'at': 26, 'but': 27, 'are': 28, 'when': 29, 'this': 30, 'angry': 31, 'anger': 32, 'people': 33, 'its': 34, 'dont': 35, 'your': 36, 'no': 37, 'out': 38, 'about': 39, 'what': 40, 'rage': 41, 'from': 42, 'bitter': 43, 'was': 44, 'by': 45, 'get': 46, 'he': 47, 'ðÿ': 48, 'why': 49, 'as': 50, 'one': 51, 'we': 52, 'his': 53, 'who': 54, 'up': 55, 'they': 56, 'do': 57, 'revenge': 58, 'offended': 59, 'an': 60, 'fuming': 61, 'will': 62, 'now': 63, 'her': 64, 'got': 65, 'u': 66, 'can': 67, 'someone': 68, 'off': 69, 'cant': 70, 'think': 71, 'she': 72, 'amp': 73, 'am': 74, 'has': 75, 'snap': 76, 'how': 77, 'should': 78, 'know': 79, 'some': 80, 'because': 81, 'still': 82, 'or': 83, 'him': 84, 'been': 85, 'go': 86, 'really': 87, 'then': 88, 'never': 89, 'time': 90, 'outrage': 91, 'our': 92, 'need': 93, 'even': 94, 'would': 95, 'into': 96, 'were': 97, 'love': 98, 'low': 99, 'over': 100, 'furious': 101, 'back': 102, 'ever': 103, 'did': 104, 'black': 105, 'today': 106, 'pout': 107, 'boiling': 108, 'work': 109, 'raging': 110, 'sting': 111, 'madden': 112, 'fury': 113, 'best': 114, 'ðÿðÿ': 115, 'them': 116, 'only': 117, 'make': 118, 'offense': 119, 'relentless': 120, 'man': 121, 'than': 122, 'want': 123, 'burning': 124, 'burst': 125, 'more': 126, 'had': 127, 'always': 128, 'irritate': 129, 'let': 130, 'their': 131, 'feel': 132, 'there': 133, 'offend': 134, 'hate': 135, 'fuck': 136, 'through': 137, 'after': 138, 'wrath': 139, 'n': 140, 'these': 141, 'right': 142, 'stop': 143, 'grudge': 144, 'against': 145, 'said': 146, 'thing': 147, 'see': 148, 'rabid': 149, 'better': 150, 'before': 151, 'fucking': 152, 'way': 153, 'believe': 154, 'any': 155, 'bb': 156, 'game': 157, 'being': 158, 'life': 159, 'also': 160, 'face': 161, 'frown': 162, 'season': 163, 'does': 164, 'fiery': 165, 'hell': 166, 'insult': 167, 'good': 168, 'takes': 169, 'white': 170, 'snapshot': 171, 'makes': 172, 'much': 173, 'phone': 174, 'talk': 175, 'again': 176, 'everyone': 177, 'team': 178, 'gonna': 179, 'â': 180, 'keep': 181, 'doesnt': 182, 'ill': 183, 'ive': 184, 'didnt': 185, 'here': 186, 'every': 187, 'next': 188, 'take': 189, 'resent': 190, 'made': 191, 'which': 192, 'new': 193, 'oh': 194, 'doing': 195, 'sorry': 196, 'follow': 197, 'well': 198, 'fire': 199, 'down': 200, 'blood': 201, 'watch': 202, 'nothing': 203, 'come': 204, 'help': 205, 'guy': 206, 'own': 207, 'straight': 208, 'theres': 209, 'done': 210, 'another': 211, 'bad': 212, 'day': 213, 'too': 214, 'joke': 215, 'provoke': 216, 'wish': 217, 'give': 218, 'anything': 219, 'old': 220, 'eat': 221, 'happy': 222, 'first': 223, 'looks': 224, 'id': 225, 'bc': 226, 'put': 227, 'taking': 228, 'use': 229, 'tell': 230, 'little': 231, 'actually': 232, 'thats': 233, 'tantrums': 234, 'order': 235, 'literally': 236, 'something': 237, 'same': 238, 'omao': 239, 'shit': 240, 'youre': 241, 'saying': 242, 'going': 243, 'away': 244, 'month': 245, 'hes': 246, 'live': 247, 'gave': 248, 'paul': 249, 'moving': 250, 'whole': 251, 'show': 252, 'wtv': 253, 'thanks': 254, 'guys': 255, 'happen': 256, 'lets': 257, 'find': 258, 'world': 259, 'received': 260, 'tmh': 261, 'woman': 262, 'needs': 263, 'brother': 264, 'ðÿðÿðÿ': 265, 'goes': 266, 'years': 267, 'twitter': 268, 'police': 269, 'getting': 270, 'both': 271, 'says': 272, 'gubbo': 273, 'theyre': 274, 'charlotte': 275, 'looting': 276, 'say': 277, 'long': 278, 'cops': 279, 'perfect': 280, 'left': 281, 'thought': 282, 'miss': 283, 'must': 284, 'gotta': 285, 'pretty': 286, 'isnt': 287, 'incense': 288, 'fret': 289, 'delivered': 290, 'pick': 291, 'wont': 292, 'damn': 293, 'cry': 294, 'wait': 295, 'true': 296, 'second': 297, 'road': 298, 'since': 299, 'house': 300, 'ur': 301, 'end': 302, 'machines': 303, 'gone': 304, 'wanna': 305, 'killed': 306, 'half': 307, 'forever': 308, 'wonder': 309, 'gets': 310, 'huff': 311, 'leave': 312, 'class': 313, 'under': 314, 'forget': 315, 'haha': 316, 'look': 317, 'men': 318, 'those': 319, 'fans': 320, 'players': 321, 'everything': 322, 'things': 323, 'anyone': 324, 'might': 325, 'though': 326, 'ruffle': 327, 'could': 328, 'hungry': 329, 'other': 330, 'trump': 331, 'where': 332, 'won': 333, 'posted': 334, 'holding': 335, 'sense': 336, 'tiff': 337, 'strong': 338, 'dateðÿ': 339, 'kick': 340, 'word': 341, 'asked': 342, 'tired': 343, 'us': 344, 'service': 345, 'biggest': 346, 'customer': 347, 'fun': 348, 'fine': 349, 'sometimes': 350, 'turned': 351, 'party': 352, 'hands': 353, 'god': 354, 'cut': 355, 'coach': 356, 'two': 357, 'reply': 358, 'blacks': 359, 'fume': 360, 'realdonaldtrump': 361, 'phones': 362, 'without': 363, 'em': 364, 'changing': 365, 'home': 366, 'ones': 367, 'post': 368, 'days': 369, 'free': 370, 'women': 371, 'apparently': 372, 'sitting': 373, 'racism': 374, 'week': 375, 'yeah': 376, 'tears': 377, 's': 378, 'kid': 379, 'couture': 380, 'looking': 381, 'sister': 382, 'rip': 383, 'within': 384, 'least': 385, 'found': 386, 'myself': 387, 'bit': 388, 'midnight': 389, 'else': 390, 'indignant': 391, 'guess': 392, 'sis': 393, 'watching': 394, 'bubble': 395, 'growl': 396, 'mean': 397, 'x': 398, 'heart': 399, 'sure': 400, 'yourself': 401, 'last': 402, 'vs': 403, 'mad': 404, 'indian': 405, 'wasnt': 406, 'jumped': 407, 'pissed': 408, 'money': 409, 'stupid': 410, 'already': 411, 'weeks': 412, 'such': 413, 'dude': 414, 'power': 415, 'using': 416, 'aggravate': 417, 'kind': 418, 'promising': 419, 'shoot': 420, 'shut': 421, 'making': 422, 'jug': 423, 'bloody': 424, 'sign': 425, 'inside': 426, 'call': 427, 'infuriate': 428, 'resentment': 429, 'yes': 430, 'cruel': 431, 'mind': 432, 'absolutely': 433, 'nobody': 434, 'talking': 435, 'comments': 436, 'hasnt': 437, 'happened': 438, 'fighting': 439, 'human': 440, 'once': 441, 'poor': 442, 'wheres': 443, 'supposed': 444, 'late': 445, 'king': 446, 'paid': 447, 'dollars': 448, 'minute': 449, 'worst': 450, 'micelle': 451, 'year': 452, 'self': 453, 'righteous': 454, 'ðÿƒ': 455, 'surprised': 456, 'provocation': 457, 'justice': 458, 'expect': 459, 'gun': 460, 'tried': 461, 'turn': 462, 'irritation': 463, 'lord': 464, 'sofas': 465, 'hope': 466, 'internet': 467, 'die': 468, 'dear': 469, 'either': 470, 'forgot': 471, 'girl': 472, 'amazing': 473, 'felt': 474, 'living': 475, 'girls': 476, 'real': 477, 'thinking': 478, 'sex': 479, 'may': 480, 'hillaryclinton': 481, 'cool': 482, 'club': 483, 'point': 484, 'pure': 485, 'sets': 486, 'tonight': 487, 'laugh': 488, 'pakistan': 489, 'seeing': 490, 'america': 491, 'wanted': 492, 'looked': 493, 'mate': 494, 'finally': 495, 'lt': 496, 'briquette': 497, 'account': 498, 'ep': 499, 'wahahe': 500, 'while': 501, 'conflict': 502, 'values': 503, 'pipe': 504, 'writing': 505, 'very': 506, 'gt': 507, 'sadness': 508, 'wouldnt': 509, 'swap': 510, 'pics': 511, 'learn': 512, 'wished': 513, 'suffer': 514, 'lot': 515, 'played': 516, 'john': 517, 'alway': 518, 'story': 519, 'wisdom': 520, 'cheeks': 521, 'quote': 522, 'hold': 523, 'success': 524, 'laughing': 525, 'politeness': 526, 'door': 527, 'called': 528, 'disgusted': 529, 'whichever': 530, 'alarm': 531, 'sound': 532, 'sad': 533, 'rude': 534, 'acc': 535, 'youve': 536, 'cunt': 537, 'ruins': 538, 'tracking': 539, 'suppose': 540, 'rangers': 541, 'night': 542, 'waiting': 543, 'appearance': 544, 'ages': 545, 'zero': 546, 'mention': 547, 'ppl': 548, 'front': 549, 'seriously': 550, 'block': 551, 'switch': 552, 'response': 553, 'irate': 554, 'amazon': 555, 'understand': 556, 'sick': 557, 'saturday': 558, 'means': 559, 'ticket': 560, 'around': 561, 'wow': 562, 'blame': 563, 'natale': 564, 'different': 565, 'loses': 566, 'faster': 567, 'fit': 568, 'fair': 569, 'ggreenwald': 570, 'decide': 571, 'bet': 572, 'kill': 573, 'ðÿðÿƒ': 574, 'ordered': 575, 'online': 576, 'comes': 577, 'beings': 578, 'lost': 579, 'dying': 580, 'dinner': 581, 'person': 582, 'themselves': 583, 'mistake': 584, 'personal': 585, 'nicols': 586, 'job': 587, 'socks': 588, 'shoes': 589, 'ugh': 590, 'hit': 591, 'letting': 592, 'telling': 593, 'instantly': 594, 'add': 595, 'umm': 596, 'record': 597, 'shot': 598, 'candite': 599, 'wind': 600, 'become': 601, 'process': 602, 'remove': 603, 'child': 604, 'school': 605, 'tolerance': 606, 'many': 607, 'times': 608, 'explain': 609, 'brothers': 610, 'serious': 611, 'practice': 612, 'sun': 613, 'testing': 614, 'form': 615, 'scorned': 616, 'definitely': 617, 'cheese': 618, 'broke': 619, 'scare': 620, 'elm': 621, 'few': 622, 'longer': 623, 'negative': 624, 'chicago': 625, 'future': 626, 'big': 627, 'dick': 628, 'sit': 629, 'innocent': 630, 'cow': 631, 'outraged': 632, 'run': 633, 'gas': 634, 'easily': 635, 'terrible': 636, 'feathers': 637, 'emboli': 638, 'enough': 639, 'towards': 640, 'number': 641, 'knows': 642, 'based': 643, 'express': 644, 'himself': 645, 'reality': 646, 'cause': 647, 'politics': 648, 'air': 649, 'history': 650, 'cancelled': 651, 'allow': 652, 'hair': 653, 'inner': 654, 'listen': 655, 'fail': 656, 'happens': 657, 'across': 658, 'worse': 659, 'truth': 660, 'case': 661, 'draw': 662, 'hat': 663, 'heading': 664, 'heat': 665, 'somewhere': 666, 'rendrock': 667, 'flew': 668, 'words': 669, 'soft': 670, 'hurt': 671, 'fact': 672, 'everybody': 673, 'quite': 674, 'matter': 675, 'w': 676, 'far': 677, 'hello': 678, 'church': 679, 'v': 680, 'illusion': 681, 'tits': 682, 'tv': 683, 'chat': 684, 'la': 685, 'theme': 686, 'tho': 687, 'color': 688, 'play': 689, 'others': 690, 'water': 691, 'leaves': 692, 'caudices': 693, 'weird': 694, 'skin': 695, 'hard': 696, 'flu': 697, 'donald': 698, 'c': 699, 'deal': 700, 'soon': 701, 'yikes': 702, 'bring': 703, 'crying': 704, 'hey': 705, 'yesterday': 706, 'itll': 707, 'ughs': 708, 'temper': 709, 'suggested': 710, 'wants': 711, 'whats': 712, 'thank': 713, 'prank': 714, 'displeasure': 715, 'held': 716, 'tulsa': 717, 'd': 718, 'train': 719, 'date': 720, 'drop': 721, 'ass': 722, 'eh': 723, 'indignation': 724, 'rather': 725, 'often': 726, 'move': 727, 'satisfaction': 728, 'remember': 729, 'smile': 730, 'drink': 731, 'buy': 732, 'bought': 733, 'knew': 734, 'celtic': 735, 'seems': 736, 'fight': 737, 'asian': 738, 'worry': 739, 'tomorrow': 740, 'favorite': 741, 'playing': 742, 'klitschko': 743, 'k': 744, 'most': 745, 'thoughts': 746, 'rest': 747, 'rules': 748, 'll': 749, 'cheap': 750, 'fur': 751, 'heck': 752, 'moved': 753, 'fridge': 754, 'knock': 755, 'landlord': 756, 'user': 757, 'driver': 758, 'vehicle': 759, 'pouk': 760, 'parcel': 761, 'store': 762, 'address': 763, 'poorcustomerservice': 764, 'ef': 765, 'butt': 766, 'wipe': 767, 'pulled': 768, 'davis': 769, 'asleep': 770, 'upset': 771, 'join': 772, 'bucare': 773, 'willynilly': 774, 'whitworth': 775, 'kirstyga': 776, 'oldcunt': 777, 'btu': 778, 'equipment': 779, 'suddenly': 780, 'delayed': 781, 'weve': 782, 'legit': 783, 'idiots': 784, 'pissing': 785, 'mothercareuk': 786, 'mothercarehelp': 787, 'dapperlaughs': 788, 'glasgow': 789, 'working': 790, 'gutted': 791, 'ups': 792, 'pushing': 793, 'buck': 794, 'forth': 795, 'callbacks': 796, 'donât': 797, 'loathing': 798, 'soul': 799, 'kendal': 800, 'photo': 801, 'everywhere': 802, 'posting': 803, 'storm': 804, 'aware': 805, 'rain': 806, 'quit': 807, 'buddy': 808, 'bes': 809, 'blooded': 810, 'hoopjunkie': 811, 'destroyed': 812, 'tasers': 813, 'immobilize': 814, 'taser': 815, 'later': 816, 'murder': 817, 'divamagazine': 818, 'arse': 819, 'threesome': 820, 'parking': 821, 'francis': 822, 'foster': 823, 'vodafoneukhelp': 824, 'vodafoneuk': 825, 'bill': 826, 'hav': 827, 'text': 828, 'prove': 829, 'taken': 830, 'swines': 831, 'con': 832, 'alliance': 833, 'update': 834, 'nearly': 835, 'unbelievable': 836, 'minutes': 837, 'barclaysuk': 838, 'fault': 839, 'hangs': 840, 'treatcustomersfairly': 841, 'putting': 842, 'middle': 843, 'ran': 844, 'slowly': 845, 'vengeful': 846, 'card': 847, 'disappointing': 848, 'log': 849, 'thomsoncares': 850, 'sam': 851, 'helpful': 852, 'sorting': 853, 'asap': 854, 'stuff': 855, 'snakes': 856, 'yaboihuck': 857, 'bugger': 858, 'hucks': 859, 'outta': 860, 'leesyatt': 861, 'therewillbeblood': 862, 'fitnessfirstau': 863, 'hogging': 864, 'snoutfair': 865, 'whydah': 866, 'reason': 867, 'wynnea': 868, 'wills': 869, 'uncontrollable': 870, 'animals': 871, 'link': 872, 'paulbushnell': 873, 'ee': 874, 'news': 875, 're': 876, 'ooh': 877, 'uugghh': 878, 'till': 879, 'butter': 880, 'recognized': 881, 'antisleep': 882, 'filling': 883, 'achilles': 884, 'nights': 885, 'streets': 886, 'jesus': 887, 'abusive': 888, 'ðÿðÿðÿðÿðÿðÿ': 889, 'msheartattack': 890, 'bee': 891, 'lunch': 892, 'buses': 893, 'unable': 894, 'don': 895, 'chicken': 896, 'panerabread': 897, 'irrelevant': 898, 'absolute': 899, 'ticketing': 900, 'nonloyalty': 901, 'notimpressed': 902, 'part': 903, 'buzzing': 904, 'churdallan': 905, 'fucked': 906, 'coupon': 907, 'goal': 908, 'leg': 909, 'prick': 910, 'scared': 911, 'juror': 912, 'threat': 913, 'walk': 914, 'american': 915, 'city': 916, 'protest': 917, 'shootings': 918, 'whenwillitstop': 919, 'howmanymoretimes': 920, 'wee': 921, 'pop': 922, 'falling': 923, 'friend': 924, 'muslim': 925, 'bye': 926, 'rulenimber': 927, 'carpet': 928, 'cleaning': 929, 'worsethananatomicbomb': 930, 'accidentlyspillbeeronthecarpet': 931, 'swear': 932, 'devincameron': 933, 'blocks': 934, 'ball': 935, 'verizonsupport': 936, 'wife': 937, 'losing': 938, 'eta': 939, 'firsts': 940, 'turning': 941, 'flat': 942, 'bollocked': 943, 'foxes': 944, 'affront': 945, 'system': 946, 'chronist': 947, 'blog': 948, 'simon': 949, 'steer': 950, 'faking': 951, 'thill': 952, 'investigation': 953, 'forthwith': 954, 'cop': 955, 'wakes': 956, 'nappy': 957, 'ðÿðÿšðÿ': 958, 'shell': 959, 'changes': 960, 'plans': 961, 'including': 962, 'ideologically': 963, 'bankrupt': 964, 'opportunistic': 965, 'establishment': 966, 'bridges': 967, 'social': 968, 'contracts': 969, 'support': 970, 'equine': 971, 'fave': 972, 'top': 973, 'three': 974, 'honesty': 975, 'brutal': 976, 'breaking': 977, 'loose': 978, 'charlotteprotest': 979, 'hour': 980, 'raid': 981, 'travel': 982, 'miles': 983, 'arrives': 984, 'hath': 985, 'canoodling': 986, 'quad': 987, 'break': 988, 'rush': 989, 'contact': 990, 'meant': 991, 'floor': 992, 'crime': 993, 'mdivincenzo': 994, 'sky': 995, 'early': 996, 'reinstate': 997, 'engineer': 998, 'purely': 999, 'strike': 1000, 'reyesaverie': 1001, 'unarmed': 1002, 'fist': 1003, 'laptops': 1004, 'screen': 1005, 'hp': 1006, 'chase': 1007, 'win': 1008, 'street': 1009, 'citizens': 1010, 'ready': 1011, 'priority': 1012, 'list': 1013, 'animalrights': 1014, 'abortion': 1015, 'boy': 1016, 'canadatrumpnow': 1017, 'donlemon': 1018, 'temperament': 1019, 'hissyfits': 1020, 'danielsankey': 1021, 'hayles': 1022, 'doggies': 1023, 'barracking': 1024, 'unhappy': 1025, 'giving': 1026, 'respect': 1027, 'test': 1028, 'bigbrotherusa': 1029, 'jealous': 1030, 'baby': 1031, 'gladsheisgone': 1032, 'crybaby': 1033, 'victims': 1034, 'media': 1035, 'ruined': 1036, 'molly': 1037, 'morgans': 1038, 'bondfriendship': 1039, 'radio': 1040, 'sudden': 1041, 'subdue': 1042, 'immortalbulldog': 1043, 'huh': 1044, 'sprint': 1045, 'slowest': 1046, 'comp': 1047, 'robbing': 1048, 'backtoreality': 1049, 'general': 1050, 'aggressive': 1051, 'constant': 1052, 'vacation': 1053, 'justification': 1054, 'shooting': 1055, 'issues': 1056, 'finale': 1057, 'anniversary': 1058, 'ampalaya': 1059, 'paitpaitanangpeg': 1060, 'tries': 1061, 'figure': 1062, 'th': 1063, 'lumber': 1064, 'pizzas': 1065, 'beasts': 1066, 'friends': 1067, 'typical': 1068, 'pillary': 1069, 'jasonmillerindc': 1070, 'prudence': 1071, 'suggests': 1072, 'bump': 1073, 'viewed': 1074, 'skepticism': 1075, 'mediary': 1076, 'axis': 1077, 'dog': 1078, 'attacking': 1079, 'behavior': 1080, 'greys': 1081, 'anatomy': 1082, 'shonde': 1083, 'rimes': 1084, 'og': 1085, 'characterâïâïâïâïâïâïâïâïâïâï': 1086, 'savage': 1087, 'phoh': 1088, 'loved': 1089, 'less': 1090, 'scandian': 1091, 'daily': 1092, 'personality': 1093, 'drugged': 1094, 'yeller': 1095, 'quiet': 1096, 'screamer': 1097, 'grass': 1098, 'conditioned': 1099, 'adultingistheworst': 1100, 'conversation': 1101, 'alyssasimpson': 1102, 'lazar': 1103, 'barbecue': 1104, 'sandra': 1105, 'amayaallyn': 1106, 'washrags': 1107, 'focused': 1108, 'beneath': 1109, 'burkeramsey': 1110, 'swung': 1111, 'amphid': 1112, 'jonbenet': 1113, 'golf': 1114, 'previously': 1115, 'constantly': 1116, 'toward': 1117, 'discipline': 1118, 'came': 1119, 'julian': 1120, 'born': 1121, 'jokes': 1122, 'acceptance': 1123, 'current': 1124, 'scottish': 1125, 'accent': 1126, 'seek': 1127, 'reaction': 1128, 'further': 1129, 'feeling': 1130, 'saber': 1131, 'eaglegiles': 1132, 'tgilmore': 1133, 'army': 1134, 'breaks': 1135, 'laws': 1136, 'lui': 1137, 'suck': 1138, 'seen': 1139, 'stand': 1140, 'blue': 1141, 'badly': 1142, 'harm': 1143, 'lisaasquithtobe': 1144, 'craig': 1145, 'waynehaselden': 1146, 'junewigan': 1147, 'wigan': 1148, 'ladygaga': 1149, 'iscalmingmysoul': 1150, 'johnaugust': 1151, 'cymarin': 1152, 'forward': 1153, 'abcdesignated': 1154, 'opened': 1155, 'stuartspecial': 1156, 'yelled': 1157, 'couscous': 1158, 'esp': 1159, 'assumed': 1160, 'magazines': 1161, 'serendipity': 1162, 'zombiecalorie': 1163, 'angeleyes': 1164, 'sensing': 1165, 'kingcharlesth': 1166, 'everycolorbot': 1167, 'triggered': 1168, 'colorblind': 1169, 'racists': 1170, 'needed': 1171, 'bully': 1172, 'foot': 1173, 'firmly': 1174, 'steve': 1175, 'jwolfie': 1176, 'dark': 1177, 'cross': 1178, 'having': 1179, 'bed': 1180, 'swallow': 1181, 'try': 1182, 'nose': 1183, 'folksongs': 1184, 'firsttweetever': 1185, 'sipping': 1186, 'hotchocolate': 1187, 'wondering': 1188, 'hellootwitter': 1189, 'facebookisforfamily': 1190, 'outlet': 1191, 'used': 1192, 'feels': 1193, 'tweet': 1194, 'obviously': 1195, 'initiative': 1196, 'happily': 1197, 'personally': 1198, 'deserve': 1199, 'recommended': 1200, 'reading': 1201, 'prisoners': 1202, 'aaron': 1203, 'beck': 1204, 'mee': 1205, 'decision': 1206, 'promise': 1207, 'match': 1208, 'coltonflurry': 1209, 'strangefacesla': 1210, 'cubs': 1211, 'access': 1212, 'feeds': 1213, 'vic': 1214, 'afp': 1215, 'paulshould': 1216, 'imo': 1217, 'reporting': 1218, 'cnnashleigh': 1219, 'explore': 1220, 'businesses': 1221, 'symbolizes': 1222, 'feelings': 1223, 'lips': 1224, 'sounds': 1225, 'cbsbigbrother': 1226, 'meech': 1227, 'folks': 1228, 'offensive': 1229, 'hacked': 1230, 'fixed': 1231, 'annoyed': 1232, 'throw': 1233, 'standing': 1234, 'ðÿðÿðÿðÿ': 1235, 'ostinong': 1236, 'youth': 1237, 'plus': 1238, 'clin': 1239, 'prevued': 1240, 'heard': 1241, 'ether': 1242, 'ex': 1243, 'talebook': 1244, 'pic': 1245, 'snuggling': 1246, 'cats': 1247, 'drunk': 1248, 'enjoy': 1249, 'yet': 1250, 'despite': 1251, 'comedy': 1252, 'turns': 1253, 'odds': 1254, 'ourselves': 1255, 'honor': 1256, 'priorities': 1257, 'innerconflict': 1258, 'public': 1259, 'program': 1260, 'imagine': 1261, 'corby': 1262, 'leads': 1263, 'cadres': 1264, 'care': 1265, 'kisses': 1266, 'keeps': 1267, 'ashy': 1268, 'sir': 1269, 'remark': 1270, 'twain': 1271, 'coming': 1272, 'youtubegaming': 1273, 'throws': 1274, 'attention': 1275, 'fuel': 1276, 'loves': 1277, 'cannot': 1278, 'clips': 1279, 'vigil': 1280, 'metropolitan': 1281, 'baptist': 1282, 'terencecruther': 1283, 'eating': 1284, 'ok': 1285, 'india': 1286, 'movies': 1287, 'cxmbeferre': 1288, 'names': 1289, 'bored': 1290, 'trying': 1291, 'anymore': 1292, 'wanting': 1293, 'bu': 1294, 'nd': 1295, 'evanareteos': 1296, 'abt': 1297, 'industry': 1298, 'tr': 1299, 'speak': 1300, 'finding': 1301, 'expected': 1302, 'continue': 1303, 'succeed': 1304, 'drill': 1305, 'outttore': 1306, 'inthedark': 1307, 'kimisbored': 1308, 'exactly': 1309, 'fb': 1310, 'chill': 1311, 'tyran': 1312, 'makeup': 1313, 'jeongguks': 1314, 'tiddy': 1315, 'beat': 1316, 'frustration': 1317, 'british': 1318, 'gives': 1319, 'dreamboats': 1320, 'tickets': 1321, 'battle': 1322, 'close': 1323, 'eamaddennfl': 1324, 'asports': 1325, 'sacked': 1326, 'fumbled': 1327, 'hours': 1328, 'worth': 1329, 'hot': 1330, 'welfarereform': 1331, 'model': 1332, 'hear': 1333, 'skipping': 1334, 'meals': 1335, 'national': 1336, 'showing': 1337, 'disappointment': 1338, 'wiz': 1339, 'nice': 1340, 'lines': 1341, 'took': 1342, 'chuckle': 1343, 'study': 1344, 'animosity': 1345, 'alone': 1346, 'marthalyssa': 1347, 'yep': 1348, 'chris': 1349, 'ate': 1350, 'mac': 1351, 'umma': 1352, 'taffy': 1353, 'thomeagle': 1354, 'maintain': 1355, 'boost': 1356, 'status': 1357, 'centre': 1358, 'education': 1359, 'culture': 1360, 'struggle': 1361, 'character': 1362, 'anyway': 1363, 'gosh': 1364, 'projection': 1365, 'perception': 1366, 'level': 1367, 'savageimiike': 1368, 'songs': 1369, 'donation': 1370, 'line': 1371, 'boxing': 1372, 'average': 1373, 'told': 1374, 'bloke': 1375, 'ham': 1376, 'shouldnt': 1377, 'lives': 1378, 'complete': 1379, 'journey': 1380, 'successfully': 1381, 'kept': 1382, 'hockey': 1383, 'b': 1384, 'comment': 1385, 'visionnhelen': 1386, 'kellernnbegin': 1387, 'mindnnstephen': 1388, 'elephants': 1389, 'until': 1390, 'wrestled': 1391, 'pigs': 1392, 'quoteoftheday': 1393, 'bargain': 1394, 'scuffs': 1395, 'articles': 1396, 'event': 1397, 'brock': 1398, 'orlon': 1399, 'network': 1400, 'randyorton': 1401, 'heymanhustle': 1402, 'grateful': 1403, 'change': 1404, 'grow': 1405, 'etc': 1406, 'anybody': 1407, 'rises': 1408, 'consequences': 1409, 'til': 1410, 'someones': 1411, 'flaunt': 1412, 'awesome': 1413, 'rt': 1414, 'important': 1415, 'luck': 1416, 'fall': 1417, 'bestdayever': 1418, 'magic': 1419, 'hurts': 1420, 'problem': 1421, 'massive': 1422, 'âœhe': 1423, 'slow': 1424, 'mighty': 1425, 'spirit': 1426, 'cityânp': 1427, 'bouleverse': 1428, 'pride': 1429, 'prayers': 1430, 'protection': 1431, 'sisters': 1432, 'upside': 1433, 'hand': 1434, 'stay': 1435, 'each': 1436, 'gateway': 1437, 'excited': 1438, 'tonights': 1439, 'disgrace': 1440, 'altars': 1441, 'episode': 1442, 'queens': 1443, 'teamalaska': 1444, 'teamkatya': 1445, 'century': 1446, 'motivations': 1447, 'proving': 1448, 'wrong': 1449, 'energy': 1450, 'motivationalquotes': 1451, 'ðÿsushi': 1452, 'anzalduag': 1453, 'ðÿan': 1454, 'olive': 1455, 'guarded': 1456, 'lexiereid': 1457, 'ðÿšðÿrocks': 1458, 'set': 1459, 'fast': 1460, 'nails': 1461, 'music': 1462, 'weak': 1463, 'expensive': 1464, 'polite': 1465, 'thoughtfulthursday': 1466, 'fear': 1467, 'relax': 1468, 'moody': 1469, 'lit': 1470, 'mode': 1471, 'fila': 1472, 'concert': 1473, 'houston': 1474, 'lose': 1475, 'anonymously': 1476, 'vsvplou': 1477, 'kike': 1478, 'nudes': 1479, 'ignorance': 1480, 'jerseys': 1481, 'meeting': 1482, 'olympic': 1483, 'golds': 1484, 'neverquit': 1485, 'dreaming': 1486, 'teameo': 1487, 'goinggold': 1488, 'happiness': 1489, 'bands': 1490, 'carlabtst': 1491, 'vale': 1492, 'flamenco': 1493, 'song': 1494, 'teamshanny': 1495, 'incensed': 1496, 'bitches': 1497, 'inspires': 1498, 'known': 1499, 'fusing': 1500, 'arizonacoyotes': 1501, 'gra': 1502, 'stops': 1503, 'lawn': 1504, 'mower': 1505, 'condemn': 1506, 'pits': 1507, 'ends': 1508, 'bitch': 1509, 'ðÿðÿœðÿ': 1510, 'ðÿžðÿžwhy': 1511, 'faultncarrierfault': 1512, 'lekingcoq': 1513, 'mistaaggy': 1514, 'giovanniidc': 1515, 'bastards': 1516, 'wear': 1517, 'bringyouhome': 1518, 'fly': 1519, 'susansarandon': 1520, 'blaming': 1521, 'sunandbeachbum': 1522, 'mine': 1523, 'transformed': 1524, 'hellcat': 1525, 'male': 1526, 'wishshopping': 1527, 'months': 1528, 'ago': 1529, 'placed': 1530, 'billed': 1531, 'snapchatsnapchat': 1532, 'mexican': 1533, 'ladies': 1534, 'preschool': 1535, 'kids': 1536, 'welfare': 1537, 'allay': 1538, 'mf': 1539, 'katzeanilothei': 1540, 'amount': 1541, 'greedy': 1542, 'mooching': 1543, 'snarl': 1544, 'prebooked': 1545, 'taxi': 1546, 'drove': 1547, 'hateful': 1548, 'fag': 1549, 'dingy': 1550, 'kr': 1551, 'cryðÿðÿðÿ': 1552, 'boycotting': 1553, 'dunkindonuts': 1554, 'pecan': 1555, 'mom': 1556, 'feed': 1557, 'navy': 1558, 'gaps': 1559, 'couple': 1560, 'mjmralph': 1561, 'packaging': 1562, 'fulfilled': 1563, 'seller': 1564, 'kills': 1565, 'calling': 1566, 'aime': 1567, 'strawman': 1568, 'scratched': 1569, 'car': 1570, 'holy': 1571, 'dislike': 1572, 'littlest': 1573, 'justynehaley': 1574, 'firstleeds': 1575, 'unreliable': 1576, 'e': 1577, 'app': 1578, 'useless': 1579, 'liberal': 1580, 'angers': 1581, 'yuppie': 1582, 'progressives': 1583, 'shame': 1584, 'assed': 1585, 'excuse': 1586, 'hollyrobinson': 1587, 'cheeky': 1588, 'squashier': 1589, 'tsotsis': 1590, 'expectedsort': 1591, 'food': 1592, 'cook': 1593, 'coopukfood': 1594, 'bribed': 1595, 'refs': 1596, 'ut': 1597, 'foul': 1598, 'clown': 1599, 'shitless': 1600, 'room': 1601, 'picture': 1602, 'career': 1603, 'sucks': 1604, 'ea': 1605, 'sports': 1606, 'piss': 1607, 'neofundie': 1608, 'fitchets': 1609, 'ha': 1610, 'san': 1611, 'jose': 1612, 'ca': 1613, 'dave': 1614, 'politico': 1615, 'majority': 1616, 'cab': 1617, 'thanah': 1618, 'oscarperria': 1619, 'multimillionaire': 1620, 'spoiled': 1621, 'brat': 1622, 'non': 1623, 'starter': 1624, 'kingweed': 1625, 'complain': 1626, 'rile': 1627, 'stout': 1628, 'bloods': 1629, 'darklunefantasy': 1630, 'wallah': 1631, 'nap': 1632, 'jennylhowe': 1633, 'student': 1634, 'racist': 1635, 'teacher': 1636, 'stopping': 1637, 'due': 1638, 'officersshould': 1639, 'wrongnnorconservative': 1640, 'michaelaangelad': 1641, 'xemitsellsmagic': 1642, 'sheriffclarke': 1643, 'foxnewsinsider': 1644, 'groupanon': 1645, 'armed': 1646, 'thug': 1647, 'carrying': 1648, 'illegally': 1649, 'jokelet': 1650, 'destroy': 1651, 'town': 1652, 'stuck': 1653, 'shitty': 1654, 'briar': 1655, 'button': 1656, 'accessibility': 1657, 'nowhen': 1658, 'innovation': 1659, 'puckery': 1660, 'iphonephonehome': 1661, 'brendancoots': 1662, 'nominated': 1663, 'lying': 1664, 'corrupt': 1665, 'donations': 1666, 'nations': 1667, 'terror': 1668, 'soyoprincess': 1669, 'inch': 1670, 'thick': 1671, 'masks': 1672, 'favorites': 1673, 'moonfaced': 1674, 'examiner': 1675, 'democrats': 1676, 'voters': 1677, 'associate': 1678, 'gerfingerpoken': 1679, 'crookedcourt': 1680, 'killings': 1681, 'petits': 1682, 'hayes': 1683, 'komisarjevsky': 1684, 'towzy': 1685, 'protect': 1686, 'misled': 1687, 'fred': 1688, 'hayfield': 1689, 'pharm': 1690, 'brings': 1691, 'ne': 1692, 'darkness': 1693, 'fills': 1694, 'ramatsobanem': 1695, 'football': 1696, 'hr': 1697, 'volleyball': 1698, 'watcherdev': 1699, 'warcraftdevs': 1700, 'artefact': 1701, 'points': 1702, 'wasted': 1703, 'blizzard': 1704, 'cineworld': 1705, 'congratulations': 1706, 'activated': 1707, 'charges': 1708, 'tm': 1709, 'harveylevintmz': 1710, 'affair': 1711, 'parenting': 1712, 'strength': 1713, 'roberttaitwhu': 1714, 'possible': 1715, 'shutupphilsimms': 1716, 'grizzly': 1717, 'bears': 1718, 'scatter': 1719, 'neighborhoods': 1720, 'americanntheyre': 1721, 'refugeesnninyourneighborhoodnotdc': 1722, 'oreillyfactor': 1723, 'thugs': 1724, 'gang': 1725, 'mandyjohnson': 1726, 'honest': 1727, 'annoying': 1728, 'southern': 1729, 'bint': 1730, 'seas': 1731, 'slipups': 1732, 'currently': 1733, 'appealing': 1734, 'member': 1735, 'emotions': 1736, 'positive': 1737, 'martial': 1738, 'arts': 1739, 'control': 1740, 'nerves': 1741, 'snowangel': 1742, 'cjwalters': 1743, 'maybe': 1744, 'attacked': 1745, 'toms': 1746, 'whom': 1747, 'clothes': 1748, 'vandashnessa': 1749, 'taotaosalupa': 1750, 'terrifying': 1751, 'disneyland': 1752, 'nothappy': 1753, 'charging': 1754, 'fullprice': 1755, 'bestrides': 1756, 'chewing': 1757, 'gum': 1758, 'sobbed': 1759, 'nonsensical': 1760, 'injustice': 1761, 'destroying': 1762, 'property': 1763, 'misdirected': 1764, 'drag': 1765, 'routes': 1766, 'fever': 1767, 'highs': 1768, 'ronmexico': 1769, 'calls': 1770, 'cuck': 1771, 'antibalm': 1772, 'idea': 1773, 'propolicing': 1774, 'reform': 1775, 'deshbhakthoon': 1776, 'susanhensthe': 1777, 'shameful': 1778, 'display': 1779, 'watched': 1780, 'reeling': 1781, 'dt': 1782, 'exploding': 1783, 'clowns': 1784, 'epicenter': 1785, 'keithlamontscott': 1786, 'winksahoy': 1787, 'winter': 1788, 'nowhere': 1789, 'grxjictank': 1790, 'americans': 1791, 'ci': 1792, 'tonalist': 1793, 'herself': 1794, 'thecal': 1795, 'box': 1796, 'bundle': 1797, 'physical': 1798, 'copy': 1799, 'codeðÿ': 1800, 'download': 1801, 'satan': 1802, 'cleanse': 1803, 'christen': 1804, 'ios': 1805, 'spurs': 1806, 'commentator': 1807, 'referred': 1808, 'mauricio': 1809, 'pochettino': 1810, 'mop': 1811, 'surge': 1812, 'austinevaleeds': 1813, 'wedding': 1814, 'stupidity': 1815, 'certain': 1816, 'âmy': 1817, 'grabbed': 1818, 'manner': 1819, 'impetuousfiend': 1820, 'threw': 1821, 'knowing': 1822, 'casper': 1823, 'assure': 1824, 'laughter': 1825, 'increasing': 1826, 'costs': 1827, 'arrogance': 1828, 'westminster': 1829, 'escapeescape': 1830, 'whatsis': 1831, 'corrupted': 1832, 'worldthis': 1833, 'jokethis': 1834, 'pain': 1835, 'stress': 1836, 'nowadays': 1837, 'manny': 1838, 'daretoreagan': 1839, 'oregonbaylor': 1840, 'fan': 1841, 'ole': 1842, 'askpsuk': 1843, 'verification': 1844, 'email': 1845, 'genuinely': 1846, 'judythat': 1847, 'honestly': 1848, 'annoyedsad': 1849, 'itself': 1850, 'ground': 1851, 'programs': 1852, 'extend': 1853, 'detail': 1854, 'behaviour': 1855, 'rudely': 1856, 'feminist': 1857, 'lickmelucas': 1858, 'quick': 1859, 'xxmariab': 1860, 'cos': 1861, 'rape': 1862, 'apologists': 1863, 'inadvertently': 1864, 'mindless': 1865, 'agirlhasnoname': 1866, 'mdlmurray': 1867, 'looney': 1868, 'toon': 1869, 'divide': 1870, 'chaos': 1871, 'unitedfrontrev': 1872, 'juandeznuts': 1873, 'lucidhurricane': 1874, 'races': 1875, 'cultures': 1876, 'creeds': 1877, 'castrated': 1878, 'lesyoung': 1879, 'ridden': 1880, 'eaten': 1881, 'flesh': 1882, 'fellow': 1883, 'limbs': 1884, 'adults': 1885, 'theonesoleshoe': 1886, 'hating': 1887, 'detest': 1888, 'delete': 1889, 'josh': 1890, 'screenshotted': 1891, 'corbettbarr': 1892, 'pervs': 1893, 'brianclark': 1894, 'spitting': 1895, 'venom': 1896, 'stripe': 1897, 'yelling': 1898, 'porch': 1899, 'unavoidable': 1900, 'excitement': 1901, 'sin': 1902, 'albertbarnes': 1903, 'lemonlover': 1904, 'begin': 1905, 'describe': 1906, 'demons': 1907, 'ðÿœðÿœš': 1908, 'hoopdawg': 1909, 'micktheperm': 1910, 'meanwhile': 1911, 'killing': 1912, 'strange': 1913, 'society': 1914, 'salicin': 1915, 'mrscagg': 1916, 'specific': 1917, 'intentional': 1918, 'intention': 1919, 'systemic': 1920, 'alicehouston': 1921, 'drone': 1922, 'carefreeash': 1923, 'starklydark': 1924, 'trusted': 1925, 'ignored': 1926, 'screwed': 1927, 'ms': 1928, 'holiday': 1929, 'round': 1930, 'nytopinion': 1931, 'voting': 1932, 'push': 1933, 'pieces': 1934, 'board': 1935, 'toddler': 1936, 'wreck': 1937, 'byee': 1938, 'sexual': 1939, 'jdspielman': 1940, 'womenchildren': 1941, 'inpouring': 1942, 'letter': 1943, 'subsist': 1944, 'checking': 1945, 'quaint': 1946, 'virtuoso': 1947, 'ways': 1948, 'yours': 1949, 'l': 1950, 'hitting': 1951, 'children': 1952, 'hypocrite': 1953, 'likest': 1954, 'danrather': 1955, 'psycho': 1956, 'hw': 1957, 'passed': 1958, 'replaced': 1959, 'mute': 1960, 'fatalistic': 1961, 'situation': 1962, 'fatalism': 1963, 'conduct': 1964, 'attacks': 1965, 'israel': 1966, 'intended': 1967, 'inflame': 1968, 'islamic': 1969, 'worldâ': 1970, 'frequenciesjanieck': 1971, 'deny': 1972, 'gestor': 1973, 'veil': 1974, 'remix': 1975, 'outdrive': 1976, 'allegedlowbrow': 1977, 'eyeforeye': 1978, 'forgives': 1979, 'forgets': 1980, 'ia': 1981, 'follows': 1982, 'scowl': 1983, 'walking': 1984, 'protein': 1985, 'shaker': 1986, 'clenching': 1987, 'fists': 1988, 'immediately': 1989, 'fake': 1990, 'fortunate': 1991, 'equality': 1992, 'intense': 1993, 'emotional': 1994, 'tarasetmayer': 1995, 'oliverdarcy': 1996, 'aa': 1997, 'passage': 1998, 'ignorant': 1999, 'keeping': 2000, 'lynnegarrison': 2001, 'floated': 2002, 'theory': 2003, 'probably': 2004, 'ignore': 2005, 'pets': 2006, 'vets': 2007, 'crap': 2008, 'shyness': 2009, 'east': 2010, 'summer': 2011, 'urban': 2012, 'africa': 2013, 'surfed': 2014, 'stung': 2015, 'carefully': 2016, 'bandage': 2017, 'bang': 2018, 'gordon': 2019, 'brown': 2020, 'accused': 2021, 'abusing': 2022, 'gazillion': 2023, 'parrots': 2024, 'petition': 2025, 'nonmaghrebi': 2026, 'pot': 2027, 'buying': 2028, 'grocery': 2029, 'stores': 2030, 'trash': 2031, 'yo': 2032, 'high': 2033, 'helium': 2034, 'repdelbene': 2035, 'todays': 2036, 'proceedings': 2037, 'entire': 2038, 'constituents': 2039, 'douthatnyt': 2040, 'louie': 2041, 'damonlinker': 2042, 'lest': 2043, 'indeed': 2044, 'headskin': 2045, 'jrzyboy': 2046, 'heavier': 2047, 'amongst': 2048, 'dubby': 2049, 'leafyishere': 2050, 'rosebush': 2051, 'bigger': 2052, 'crocodile': 2053, 'bullies': 2054, 'act': 2055, 'irishtimespol': 2056, 'irishtimes': 2057, 'irish': 2058, 'drinking': 2059, 'bog': 2060, 'eye': 2061, 'stingrays': 2062, 'iron': 2063, 'natural': 2064, 'biological': 2065, 'father': 2066, 'sensible': 2067, 'nmnicknocturne': 2068, 'incentivise': 2069, 'roam': 2070, 'morally': 2071, 'personâ': 2072, 'ravin': 2073, 'darrenhammer': 2074, 'amen': 2075, 'complaining': 2076, 'tirade': 2077, 'misery': 2078, 'indianist': 2079, 'pillthat': 2080, 'cricket': 2081, 'chills': 2082, 'body': 2083, 'saw': 2084, 'usnin': 2085, 'inn': 2086, 'lolnsergiosarzedo': 2087, 'connivers': 2088, 'blind': 2089, 'existential': 2090, 'unca': 2091, 'directing': 2092, 'thieves': 2093, 'governmentcorruption': 2094, 'feesmustfall': 2095, 'swagalini': 2096, 'denial': 2097, 'sapientsoldier': 2098, 'timid': 2099, 'determined': 2100, 'version': 2101, 'beyond': 2102, 'land': 2103, 'growling': 2104, 'restrained': 2105, 'breath': 2106, 'curse': 2107, 'tzumixiv': 2108, 'puff': 2109, 'hamstring': 2110, 'cramp': 2111, 'ouch': 2112, 'arsed': 2113, 'controls': 2114, 'fireemblemlord': 2115, 'expat': 2116, 'proper': 2117, 'evolution': 2118, 'thebeastufc': 2119, 'suicide': 2120, 'anyoneðÿ': 2121, 'paulkrugman': 2122, 'echo': 2123, 'chamber': 2124, 'lots': 2125, 'reverb': 2126, 'djddueces': 2127, 'mojo': 2128, 'wry': 2129, 'unprovoked': 2130, 'ak': 2131, 'spine': 2132, 'ðÿmake': 2133, 'alanafergusson': 2134, 'dimly': 2135, 'disgracefulesin': 2136, 'esinscountdown': 2137, 'tilltheendmmvi': 2138, 'accidently': 2139, 'dumped': 2140, 'usual': 2141, 'houstontexans': 2142, 'texans': 2143, 'puselepuru': 2144, 'corpse': 2145, 'gilt': 2146, 'girlsreallyrule': 2147, 'selfpromoters': 2148, 'whenever': 2149, 'adored': 2150, 'sings': 2151, 'instead': 2152, 'umbrage': 2153, 'arcadianluthier': 2154, 'key': 2155, 'unfairly': 2156, 'laura': 2157, 'dad': 2158, 'slipper': 2159, 'warner': 2160, 'waddie': 2161, 'nigerianscamss': 2162, 'trillsmith': 2163, 'bushes': 2164, 'leafyszerker': 2165, 'markiplier': 2166, 'red': 2167, 'justifying': 2168, 'hudcomedy': 2169, 'adamrowe': 2170, 'slutfaceshlongnugget': 2171, 'cb': 2172, 'somehow': 2173, 'screw': 2174, 'bandaid': 2175, 'preposterous': 2176, 'jack': 2177, 'nicholsons': 2178, 'joker': 2179, 'keithboykin': 2180, 'unfortunately': 2181, 'followers': 2182, 'candidate': 2183, 'elected': 2184, 'winning': 2185, 'elec': 2186, 'aggravates': 2187, 'young': 2188, 'bull': 2189, 'ðÿšðÿšðÿðÿ': 2190, 'hebertofnh': 2191, 'speaks': 2192, 'weirdos': 2193, 'deaths': 2194, 'violations': 2195, 'widely': 2196, 'accepted': 2197, 'concept': 2198, 'accountability': 2199, 'driving': 2200, 'siobhansynnot': 2201, 'quintin': 2202, 'bbcthisweek': 2203, 'feil': 2204, 'bact': 2205, 'trumpvideos': 2206, 'completely': 2207, 'occurs': 2208, 'expand': 2209, 'pap': 2210, 'patient': 2211, 'assistance': 2212, 'couponsrebates': 2213, 'gopoversight': 2214, 'oversightdems': 2215, 'milan': 2216, 'election': 2217, 'smith': 2218, 'labour': 2219, 'result': 2220, 'bosnaud': 2221, 'resorted': 2222, 'cryptic': 2223, 'code': 2224, 'unclecamscabin': 2225, 'sac': 2226, 'deployment': 2227, 'ku': 2228, 'tough': 2229, 'macon': 2230, 'foreveralone': 2231, 'tappaul': 2232, 'chetanlfc': 2233, 'mannkakhiladi': 2234, 'deyspandan': 2235, 'umeroffcial': 2236, 'comparing': 2237, 'nandu': 2238, 'balm': 2239, 'ðÿanger': 2240, 'acid': 2241, 'vessel': 2242, 'stored': 2243, 'pouredðÿ': 2244, 'spend': 2245, 'shimmy': 2246, 'drinks': 2247, 'ramark': 2248, 'gender': 2249, 'bias': 2250, 'fancypants': 2251, 'saddlers': 2252, 'daughter': 2253, 'opt': 2254, 'leather': 2255, 'jacket': 2256, 'legitimate': 2257, 'curiosity': 2258, 'entity': 2259, 'feeding': 2260, 'speaking': 2261, 'quatrains': 2262, 'hmm': 2263, 'vigilant': 2264, 'patvpeters': 2265, 'freebeacon': 2266, 'retaliation': 2267, 'weiner': 2268, 'huma': 2269, 'clam': 2270, 'diggingnallscumbags': 2271, 'bradangelina': 2272, 'blacklivesmatter': 2273, 'es': 2274, 'whatprankishoulddo': 2275, 'despise': 2276, 'âs': 2277, 'rebuke': 2278, 'disciplines': 2279, 'proverbs': 2280, 'ugly': 2281, 'suit': 2282, 'expressing': 2283, 'coworkers': 2284, 'animal': 2285, 'royenglish': 2286, 'roy': 2287, 'puerto': 2288, 'ricin': 2289, 'taino': 2290, 'targeted': 2291, 'listening': 2292, 'joey': 2293, 'helps': 2294, 'kerrybowen': 2295, 'messing': 2296, 'favourite': 2297, 'bakes': 2298, 'ashleighjessica': 2299, 'zacflint': 2300, 'firm': 2301, 'coping': 2302, 'mechanism': 2303, 'oops': 2304, 'agenttinsley': 2305, 'devil': 2306, 'whether': 2307, 'phantom': 2308, 'ghuskmarenge': 2309, 'mix': 2310, 'bag': 2311, 'unpredictable': 2312, 'lethal': 2313, 'weapons': 2314, 'worried': 2315, 'defense': 2316, 'coordinators': 2317, 'chargers': 2318, 'bolts': 2319, 'recharged': 2320, 'healeyraine': 2321, 'pressure': 2322, 'pipes': 2323, 'voguemagazine': 2324, 'repeople': 2325, 'viral': 2326, 'ballet': 2327, 'wrongfully': 2328, 'stick': 2329, 'models': 2330, 'pointe': 2331, 'makeamericasafeagain': 2332, 'griffinbowie': 2333, 'alimcclimond': 2334, 'griffin': 2335, 'johnkerry': 2336, 'drama': 2337, 'tutin': 2338, 'aleppo': 2339, 'syria': 2340, 'sarahurbina': 2341, 'beef': 2342, 'sera': 2343, 'satin': 2344, 'lydssxx': 2345, 'tharealversace': 2346, 'fatbellybella': 2347, 'screened': 2348, 'narcissistic': 2349, 'trygon': 2350, 'sandrabland': 2351, 'philander': 2352, 'ferison': 2353, 'batonrouge': 2354, 'michaelbrown': 2355, 'freepenalties': 2356, 'tmortimerftbl': 2357, 'doll': 2358, 'vile': 2359, 'creature': 2360, 'touchline': 2361, 'shouts': 2362, 'ref': 2363, 'jamming': 2364, 'math': 2365, 'amie': 2366, 'hah': 2367, 'cousin': 2368, 'bare': 2369, 'faced': 2370, 'sight': 2371, 'whispers': 2372, 'during': 2373, 'terrific': 2374, 'lermanletts': 2375, 'centerpiece': 2376, 'scene': 2377, 'overwhelming': 2378, 'trendykittykat': 2379, 'hang': 2380, 'weary': 2381, 'sigh': 2382, 'thatmoment': 2383, 'worstcelebritycooks': 2384, 'kylix': 2385, 'gay': 2386, 'marriedðÿ': 2387, 'chance': 2388, 'kindadontmindðÿ': 2389, 'great': 2390, 'washed': 2391, 'indigohawthorne': 2392, 'controlled': 2393, 'rational': 2394, 'visceralnot': 2395, 'logical': 2396, 'laratheirish': 2397, 'lecanora': 2398, 'hoped': 2399, 'serve': 2400, 'creatures': 2401, 'simonpennr': 2402, 'antisocially': 2403, 'radical': 2404, 'significantly': 2405, 'metpolicefc': 2406, 'none': 2407, 'chilled': 2408, 'walter': 2409, 'mitty': 2410, 'types': 2411, 'keviboyallen': 2412, 'brandon': 2413, 'rogers': 2414, 'baskets': 2415, 'mood': 2416, 'please': 2417, 'af': 2418, 'drudgereport': 2419, 'fbi': 2420, 'danrafaelespn': 2421, 'wyson': 2422, 'danny': 2423, 'fascia': 2424, 'above': 2425, 'pacquaio': 2426, 'rampion': 2427, 'mtx': 2428, 'nah': 2429, 'related': 2430, 'nope': 2431, 'humour': 2432, 'challenge': 2433, 'mainstream': 2434, 'views': 2435, 'clarkeson': 2436, 'ultra': 2437, 'kneel': 2438, 'allah': 2439, 'audreykare': 2440, 'expecting': 2441, 'troll': 2442, 'mentions': 2443, 'accusing': 2444, 'sa': 2445, 'apologist': 2446, 'puzzle': 2447, 'investing': 2448, 'opening': 2449, 'portland': 2450, 'feodal': 2451, 'population': 2452, 'correlative': 2453, 'snorting': 2454, 'xlzjyhg': 2455, 'ensnarl': 2456, 'frustrated': 2457, 'stepping': 2458, 'closer': 2459, 'barrier': 2460, 'alarms': 2461, 'aarongoodwin': 2462, 'tape': 2463, 'jasminewrn': 2464, 'ugliest': 2465, 'survival': 2466, 'nick': 2467, 'territorial': 2468, 'hesananimal': 2469, 'blames': 2470, 'cases': 2471, 'totally': 2472, 'soninlaws': 2473, 'prosecutionimprisonment': 2474, 'christie': 2475, 'bus': 2476, 'belittling': 2477, 'kitty': 2478, 'lift': 2479, 'aboard': 2480, 'mycele': 2481, 'beargrylls': 2482, 'series': 2483, 'celebrity': 2484, 'firefighting': 2485, 'chuck': 2486, 'building': 2487, 'voiceover': 2488, 'calorie': 2489, 'stworldprobsvs': 2490, 'opinion': 2491, 'govt': 2492, 'aajtak': 2493, 'timesnow': 2494, 'narendramodi': 2495, 'teams': 2496, 'barca': 2497, 'bayer': 2498, 'defeat': 2499, 'thrive': 2500, 'kitanoye': 2501, 'eu': 2502, 'heel': 2503, 'votes': 2504, 'losetheyre': 2505, 'aprildryan': 2506, 'trumps': 2507, 'base': 2508, 'overseer': 2509, 'itnjoyannreid': 2510, 'frangeladuo': 2511, 'tunes': 2512, 'stepped': 2513, 'vinyl': 2514, 'simple': 2515, 'ultimateboxer': 2516, 'againnslight': 2517, 'smilennheheh': 2518, 'kidding': 2519, 'veggie': 2520, 'burgers': 2521, 'pilot': 2522, 'group': 2523, 'actors': 2524, 'perform': 2525, 'dripping': 2526, 'nihilism': 2527, 'checked': 2528, 'flight': 2529, 'toronto': 2530, 'seat': 2531, 'perpetualgeek': 2532, 'egyptian': 2533, 'officials': 2534, 'expressed': 2535, 'obamahillary': 2536, 'administrationâs': 2537, 'brotherhood': 2538, 'princesscasgirl': 2539, 'daddyellis': 2540, 'hurry': 2541, 'fleetstreetfox': 2542, 'pathetically': 2543, 'sympathy': 2544, 'twirl': 2545, 'moustache': 2546, 'psychogas': 2547, 'matt': 2548, 'psychological': 2549, 'relationships': 2550, 'huffpostuk': 2551, 'greater': 2552, 'encurtain': 2553, 'ãg': 2554, 'cork': 2555, 'dopey': 2556, 'frank': 2557, 'cult': 2558, 'louisfil': 2559, 'curious': 2560, 'disdain': 2561, 'thatomahapa': 2562, 'hairline': 2563, 'tamriiel': 2564, 'expansion': 2565, 'gear': 2566, 'softballs': 2567, 'jimmy': 2568, 'fallen': 2569, 'ampldquosoftballamprdquo': 2570, 'interview': 2571, 'strongestbeing': 2572, 'âwould': 2573, 'furrow': 2574, 'redden': 2575, 'protests': 2576, 'seem': 2577, 'unattractive': 2578, 'wrongs': 2579, 'eyes': 2580, 'wasâ': 2581, 'fwiend': 2582, 'lifeisbeautiful': 2583, 'sleep': 2584, 'extra': 2585, 'auntiesupreme': 2586, 'kimberlycarole': 2587, 'walls': 2588, 'voicematters': 2589, 'michaeltpremo': 2590, 'menforchoice': 2591, 'generation': 2592, 'depart': 2593, 'donniedollars': 2594, 'aaronbiggspro': 2595, 'wwenowayjose': 2596, 'cwfmidatlantic': 2597, 'chop': 2598, 'discussing': 2599, 'confusion': 2600, 'clarechampion': 2601, 'westclarepage': 2602, 'peter': 2603, 'piece': 2604, 'digs': 2605, 'total': 2606, 'balanced': 2607, 'pro': 2608, 'istolefreehugs': 2609, 'stephlaris': 2610, 'realistic': 2611, 'tierce': 2612, 'reaches': 2613, 'deep': 2614, 'plays': 2615, 'defence': 2616, 'clear': 2617, 'vladfucker': 2618, 'thedrepabon': 2619, 'pointed': 2620, 'facts': 2621, 'embarrassed': 2622, 'slightest': 2623, 'sophiejulia': 2624, 'calebatchipotle': 2625, 'calebpressleyxo': 2626, 'thirst': 2627, 'sheltered': 2628, 'taurus': 2629, 'react': 2630, 'angrily': 2631, 'provoked': 2632, 'bismahmalik': 2633, 'westonkoury': 2634, 'leafy': 2635, 'roast': 2636, 'sokemen': 2637, 'relevant': 2638, 'yi': 2639, 'pastry': 2640, 'patriotsinform': 2641, 'dumbed': 2642, 'simplified': 2643, 'grisset': 2644, 'complicated': 2645, 'becoming': 2646, 'melting': 2647, 'frozen': 2648, 'hoytschile': 2649, 'realizing': 2650, 'immaturity': 2651, 'boneyard': 2652, 'disappointmentnnhe': 2653, 'fakes': 2654, 'starts': 2655, 'regalisazura': 2656, 'grasp': 2657, 'cobalt': 2658, 'womans': 2659, 'fairly': 2660, 'ignite': 2661, 'hue': 2662, 'warm': 2663, 'billbugs': 2664, 'direct': 2665, 'silent': 2666, 'press': 2667, 'develops': 2668, 'yellow': 2669, 'ranger': 2670, 'representation': 2671, 'hollywood': 2672, 'essentially': 2673, 'shrug': 2674, 'talkrobyn': 2675, 'tip': 2676, 'unresolved': 2677, 'likely': 2678, 'problems': 2679, 'several': 2680, 'areas': 2681, 'recognize': 2682, 'properly': 2683, 'sargonofakkad': 2684, 'rap': 2685, 'albums': 2686, 'theyll': 2687, 'darn': 2688, 'rid': 2689, 'dock': 2690, 'unleashing': 2691, 'gods': 2692, 'cain': 2693, 'slaveguinevere': 2694, 'tennessee': 2695, 'deltadomain': 2696, 'sawdraze': 2697, 'turions': 2698, 'dis': 2699, 'dat': 2700, 'nigua': 2701, 'sagehillfarms': 2702, 'hintonalisa': 2703, 'heather': 2704, 'ayme': 2705, 'yourðÿðÿ': 2706, 'cuz': 2707, 'youðÿ': 2708, 'controlling': 2709, 'promised': 2710, 'paradise': 2711, 'quran': 2712, 'surah': 2713, 'al': 2714, 'iran': 2715, 'verses': 2716, 'reward': 2717, 'woodreed': 2718, 'antichrist': 2719, 'sundarakarma': 2720, 'hustle': 2721, 'broken': 2722, 'mmasoccerfan': 2723, 'outmagazine': 2724, 'magazine': 2725, 'otherwisewho': 2726, 'apologizing': 2727, 'sahh': 2728, 'konanplaydirty': 2729, 'bussing': 2730, 'ðÿðÿðÿðÿðÿðÿðÿðÿðÿðÿðÿðÿðÿðÿ': 2731, 'ticcikasie': 2732, 'distraught': 2733, 'gardevin': 2734, 'wishes': 2735, 'trainer': 2736, 'skinker': 2737, 'germantownbroncos': 2738, 'colleague': 2739, 'popwarner': 2740, 'broncos': 2741, 'usafootball': 2742, 'lineman': 2743, 'biggkatz': 2744, 'arms': 2745, 'overpowered': 2746, 'nerved': 2747, 'stronger': 2748, 'yeving': 2749, 'specialkbrook': 2750, 'joshua': 2751, 'wbirsports': 2752, 'punt': 2753, 'jessebwatters': 2754, 'juan': 2755, 'judahandthelion': 2756, 'ðÿðÿðÿðÿðÿðÿðÿðÿðÿðÿðÿ': 2757, 'ripshawtylo': 2758, 'bout': 2759, 'rappers': 2760, 'liltunechi': 2761, 'donnabellav': 2762, 'soniarays': 2763, 'gigaholic': 2764, 'especially': 2765, 'lovely': 2766, 'sadly': 2767, 'removes': 2768, 'potentially': 2769, 'mr': 2770, 'convo': 2771, 'momma': 2772, 'asking': 2773, 'questions': 2774, 'officially': 2775, 'boys': 2776, 'trophy': 2777, 'glory': 2778, 'uptrain': 2779, 'feistyarcher': 2780, 'trouble': 2781, 'feigned': 2782, 'behave': 2783, 'jbcrewdotcom': 2784, 'np': 2785, 'rum': 2786, 'west': 2787, 'loudly': 2788, 'slagging': 2789, 'stadium': 2790, 'thefts': 2791, 'tribble': 2792, 'nonnetwork': 2793, 'agree': 2794, 'score': 2795, 'drive': 2796, 'realpaulwalker': 2797, 'trampism': 2798, 'likewise': 2799, 'rests': 2800, 'racial': 2801, 'knowingly': 2802, 'intentionally': 2803, 'gary': 2804, 'ranches': 2805, 'baseball': 2806, 'player': 2807, 'kalis': 2808, 'kitten': 2809, 'curling': 2810, 'skinned': 2811, 'forehead': 2812, 'showed': 2813, 'scar': 2814, 'cat': 2815, 'scarredtiger': 2816, 'husband': 2817, 'waited': 2818, 'window': 2819, 'stickers': 2820, 'nhlahl': 2821, 'parrishwalton': 2822, 'kjmgolf': 2823, 'assets': 2824, 'res': 2825, 'longterm': 2826, 'utilize': 2827, 'unknownandyoung': 2828, 'escaping': 2829, 'riotzxvl': 2830, 'uppercuts': 2831, 'stub': 2832, 'toe': 2833, 'secs': 2834, 'salty': 2835, 'fries': 2836, 'mcdonald': 2837, 'fingers': 2838, 'shits': 2839, 'began': 2840, 'venner': 2841, 'sat': 2842, 'josephperson': 2843, 'cam': 2844, 'rattled': 2845, 'backlash': 2846, 'suffered': 2847, 'lies': 2848, 'alexandria': 2849, 'goddard': 2850, 'erics': 2851, 'fishing': 2852, 'expedition': 2853, 'coz': 2854, 'soccer': 2855, 'covyne': 2856, 'whereareugoing': 2857, 'starflowers': 2858, 'dreamerabe': 2859, 'cory': 2860, 'evicted': 2861, 'rumanian': 2862, 'daiiyroasts': 2863, 'coveynnwhereareugoing': 2864, 'sweeter': 2865, 'victory': 2866, 'biting': 2867, 'tongue': 2868, 'sarah': 2869, 'kaileighhxo': 2870, 'ðÿˆðÿðÿ': 2871, 'jaybusbee': 2872, 'archie': 2873, 'kinda': 2874, 'scored': 2875, 'vita': 2876, 'au': 2877, 'iâll': 2878, 'whichâcome': 2879, 'wet': 2880, 'handed': 2881, 'toilet': 2882, 'yell': 2883, 'crowded': 2884, 'theater': 2885, 'flames': 2886, 'trick': 2887, 'congress': 2888, 'acting': 2889, 'pricing': 2890, 'disingenuous': 2891, 'craft': 2892, 'gouging': 2893, 'todding': 2894, 'ziggomattic': 2895, 'supports': 2896, 'tweeted': 2897, 'thread': 2898, 'initially': 2899, 'sedgelike': 2900, 'cactus': 2901, 'loser': 2902, 'www': 2903, 'bash': 2904, 'beach': 2905, 'warfarepower': 2906, 'dip': 2907, 'kicking': 2908, 'ðÿš': 2909, 'romney': 2910, 'shadow': 2911, 'former': 2912, 'shadows': 2913, 'ntfcvmufc': 2914, 'realize': 2915, 'truly': 2916, 'schneiderian': 2917, 'fouls': 2918, 'justinrow': 2919, 'glass': 2920, 'vodka': 2921, 'independent': 2922, 'practical': 2923, 'fantasy': 2924, 'wounds': 2925, 'heels': 2926, 'drunkjesus': 2927, 'funny': 2928, 'potus': 2929, 'tehshockwave': 2930, 'grumpy': 2931, 'upsidedownnyou': 2932, 'impossible': 2933, 'caller': 2934, 'max': 2935, 'listens': 2936, 'place': 2937, 'signorize': 2938, 'start': 2939, 'singing': 2940, 'stories': 2941, 'tractor': 2942, 'earth': 2943, 'erica': 2944, 'joanna': 2945, 'sirki': 2946, 'parley': 2947, 'anna': 2948, 'gc': 2949, 'chara': 2950, 'sippycoups': 2951, 'read': 2952, 'marshmallows': 2953, 'âœdo': 2954, 'humans': 2955, 'coolâ': 2956, 'bot': 2957, 'rappel': 2958, 'yan': 2959, 'ninja': 2960, 'turtle': 2961, 'costume': 2962, 'os': 2963, 'halloween': 2964, 'ðÿˆ': 2965, 'greythetick': 2966, 'hoop': 2967, 'netizen': 2968, 'âfrank': 2969, 'sinatra': 2970, 'sharing': 2971, 'oneill': 2972, 'article': 2973, 'saddens': 2974, 'tazza': 2975, 'sentence': 2976, 'worship': 2977, 'feetnwhere': 2978, 'mercy': 2979, 'metwand': 2980, 'guilty': 2981, 'washednby': 2982, 'streamâgraham': 2983, 'blessings': 2984, 'forgive': 2985, 'pugglelover': 2986, 'haters': 2987, 'taught': 2988, 'shown': 2989, 'treat': 2990, 'nor': 2991, 'william': 2992, 'congreve': 2993, 'rd': 2994, 'balls': 2995, 'games': 2996, 'stoozyboy': 2997, 'chrissutton': 2998, 'zombie': 2999, 'wcsportscamp': 3000, 'privileged': 3001, 'exasperation': 3002, 'bottled': 3003, 'sold': 3004, 'warrior': 3005, 'guide': 3006, 'justpyronow': 3007, 'community': 3008, 'raids': 3009, 'machine': 3010, 'drops': 3011, 'nurse': 3012, 'practitioner': 3013, 'course': 3014, 'unthank': 3015, 'added': 3016, 'spark': 3017, 'positivity': 3018, 'drills': 3019, 'sonofthedovah': 3020, 'stirring': 3021, 'hers': 3022, 'together': 3023, 'safe': 3024, 'perfectquartz': 3025, 'shes': 3026, 'jogging': 3027, 'beside': 3028, 'puffing': 3029, 'jeez': 3030, 'jasper': 3031, 'richardhbell': 3032, 'joegoodmanjr': 3033, 'solution': 3034, 'assumptions': 3035, 'venue': 3036, 'causes': 3037, 'lysol': 3038, 'short': 3039, 'scale': 3040, 'purposes': 3041, 'nonchronic': 3042, 'tendonitis': 3043, 'wasp': 3044, 'itchy': 3045, 'haired': 3046, 'strides': 3047, 'watches': 3048, 'major': 3049, 'flinches': 3050, 'draws': 3051, 'throat': 3052, 'dochquinzel': 3053, 'welcome': 3054, 'st': 3055, 'tiger': 3056, 'mosquitoes': 3057, 'dealt': 3058, 'lonelygoomba': 3059, 'touchy': 3060, 'subject': 3061, 'fearing': 3062, 'clock': 3063, 'ringing': 3064, 'morning': 3065, 'flatmate': 3066, 'knocked': 3067, 'alive': 3068, 'thenastyp': 3069, 'notquitefrodo': 3070, 'dominictarason': 3071, 'tas': 3072, 'gametes': 3073, 'tay': 3074, 'meghanemurphy': 3075, 'cruise': 3076, 'grope': 3077, 'whimsicallywilds': 3078, 'thighs': 3079, 'squeezing': 3080, 'digging': 3081, 'extract': 3082, 'lghteyes': 3083, 'rah': 3084, 'died': 3085, 'cryingnfrom': 3086, 'joy': 3087, 'crayontocrayon': 3088, 'suescoby': 3089, 'nits': 3090, 'dudes': 3091, 'rock': 3092, 'roll': 3093, 'political': 3094, 'landscape': 3095, 'desolate': 3096, 'foaming': 3097, 'wasteland': 3098, 'wise': 3099, 'likenletting': 3100, 'somebody': 3101, 'head': 3102, 'rent': 3103, 'barackobama': 3104, 'dizzy': 3105, 'warrens': 3106, 'latest': 3107, 'wall': 3108, 'praying': 3109, 'jealousy': 3110, 'maturity': 3111, 'conciseness': 3112, 'shieldscap': 3113, 'between': 3114, 'feet': 3115, 'blush': 3116, 'undress': 3117, 'snapped': 3118, 'main': 3119, 'void': 3120, 'empty': 3121, 'growing': 3122, 'running': 3123, 'traffic': 3124, 'wireworms': 3125, 'videos': 3126, 'lethargytyler': 3127, 'ofðÿ': 3128, 'kateracculia': 3129, 'themathofyou': 3130, 'reverseengineered': 3131, 'scientific': 3132, 'method': 3133, 'kodieburch': 3134, 'yessapparently': 3135, 'popular': 3136, 'grown': 3137, 'adult': 3138, 'drank': 3139, 'assume': 3140, 'raised': 3141, 'alcoholic': 3142, 'parts': 3143, 'zomba': 3144, 'piso': 3145, 'sessions': 3146, 'sweaty': 3147, 'missedoutonsummerbikinibodybutwintersunbodywilldo': 3148, 'jamiesonhelen': 3149, 'mariankeyes': 3150, 'gains': 3151, 'rolamite': 3152, 'cd': 3153, 'rhyme': 3154, 'flow': 3155, 'dollar': 3156, 'chandi': 3157, 'stutteringgiant': 3158, 'pumped': 3159, 'adrenaline': 3160, 'franchise': 3161, 'pinksaltwarrior': 3162, 'tweets': 3163, 'cigarette': 3164, 'lauras': 3165, 'angle': 3166, 'chin': 3167, 'purse': 3168, 'gorgeous': 3169, 'transitionlaurengrodstein': 3170, 'save': 3171, 'nawazsharifnimrankhanptinptiofficial': 3172, 'awareness': 3173, 'shelter': 3174, 'leto': 3175, 'habit': 3176, 'chasing': 3177, 'desires': 3178, 'resulting': 3179, 'choose': 3180, 'peace': 3181, 'realjeffsdomain': 3182, 'woolpack': 3183, 'trons': 3184, 'wore': 3185, 'wolf': 3186, 'shirt': 3187, 'past': 3188, 'jojojosiejay': 3189, 'minding': 3190, 'business': 3191, 'grinding': 3192, 'forgiving': 3193, 'pianimadi': 3194, 'regarded': 3195, 'tes': 3196, 'standard': 3197, 'starting': 3198, 'startasyoumeantogoon': 3199, 'klepto': 3200, 'orange': 3201, 'poisonous': 3202, 'judge': 3203, 'tastes': 3204, 'delicious': 3205, 'ps': 3206, 'trackdawgt': 3207, 'metsprospecthub': 3208, 'brianpmangan': 3209, 'couthe': 3210, 'ranks': 3211, 'justinbieber': 3212, 'austin': 3213, 'thousand': 3214, 'smiles': 3215, 'nightbelievetour': 3216, 'theboxinghub': 3217, 'twanging': 3218, 'chinas': 3219, 'space': 3220, 'laboratory': 3221, 'decommissioned': 3222, 'satellite': 3223, 'burns': 3224, 'sweden': 3225, 'goals': 3226, 'went': 3227, 'bodega': 3228, 'behind': 3229, 'counter': 3230, 'mirror': 3231, 'originally': 3232, 'charlottebnntt': 3233, 'leveled': 3234, 'classic': 3235, 'cars': 3236, 'plymouth': 3237, 'focus': 3238, 'define': 3239, 'impugnvalkyrie': 3240, 'cup': 3241, 'step': 3242, 'aside': 3243, 'angela': 3244, 'ðÿthe': 3245, 'intensity': 3246, 'sydneyswans': 3247, 'extraordinary': 3248, 'aflcatsswans': 3249, 'affinal': 3250, 'keener': 3251, 'libbyfloyd': 3252, 'heazy': 3253, 'andriaprebles': 3254, 'âï': 3255, 'colors': 3256, 'heatwaves': 3257, 'lattes': 3258, 'batches': 3259, 'visit': 3260, 'pumpkin': 3261, 'patches': 3262, 'shopgreenwich': 3263, 'lof': 3264, 'shall': 3265, 'weekend': 3266, 'spraypainting': 3267, 'greenwichmarket': 3268, 'snub': 3269, 'core': 3270, 'lilylou': 3271, 'benoakley': 3272, 'frizzeyesjr': 3273, 'single': 3274, 'inferno': 3275, 'paladinsgame': 3276, 'dragons': 3277, 'nessamatthews': 3278, 'sort': 3279, 'suspect': 3280, 'double': 3281, 'jetmisstee': 3282, 'peeped': 3283, 'homie': 3284, 'âœšðÿ': 3285, 'plump': 3286, 'andyrichter': 3287, 'indignity': 3288, 'newenglandpatriots': 3289, 'whack': 3290, 'custom': 3291, 'dmanthonyjoseph': 3292, 'theclumpany': 3293, 'abundance': 3294, 'lesdogg': 3295, 'j': 3296, 'massage': 3297, 'cucumbers': 3298, 'places': 3299, 'easy': 3300, 'harder': 3301, 'area': 3302, 'hearths': 3303, 'finnicky': 3304, 'funniest': 3305, 'happening': 3306, 'boring': 3307, 'mm': 3308, 'okay': 3309, 'turkey': 3310, 'kitchen': 3311, 'gtgtndarksithkenobi': 3312, 'nato': 3313, 'nod': 3314, 'tha': 3315, 'papa': 3316, 'roach': 3317, 'r': 3318, 'quotes': 3319, 'quotestoliveby': 3320, 'wesrucker': 3321, 'plan': 3322, 'chemistry': 3323, 'heaven': 3324, 'thursdays': 3325, 'pm': 3326, 'vespers': 3327, 'meditation': 3328, 'prayerful': 3329, 'plainsong': 3330, 'multisensory': 3331, 'candles': 3332, 'psalms': 3333, 'silence': 3334, 'faithful': 3335, 'sing': 3336, 'pray': 3337, 'halesia': 3338, 'ezlisteningdisc': 3339, 'busy': 3340, 'teaching': 3341, 'sellie': 3342, 'mall': 3343, 'vesication': 3344, 'immense': 3345, 'perfection': 3346, 'followersðÿðÿðÿðÿðÿ': 3347, 'tiffany': 3348, 'peanut': 3349, 'smiling': 3350, 'ðÿâœ': 3351, 'jaredleto': 3352, 'dared': 3353, 'bathing': 3354, 'suits': 3355, 'broadcast': 3356, 'clean': 3357, 'aromatherapy': 3358, 'sip': 3359, 'sangria': 3360, 'taste': 3361, 'tantalizing': 3362, 'tapas': 3363, 'elcidla': 3364, 'minutesfromhom': 3365, 'silverlike': 3366, 'arena': 3367, 'angryorchard': 3368, 'luckily': 3369, 'lolololol': 3370, 'wellie': 3371, 'loads': 3372, 'gifts': 3373, 'notes': 3374, 'uni': 3375, 'herðÿ': 3376, 'callidissima': 3377, 'ahouseingotham': 3378, 'khan': 3379, 'girly': 3380, 'lashes': 3381, 'tomboy': 3382, 'refuse': 3383, 'court': 3384, 'corningfootball': 3385, 't': 3386, 'minus': 3387, 'rose': 3388, 'james': 3389, 'wrinkles': 3390, 'merely': 3391, 'hide': 3392, 'mark': 3393}\n"
          ],
          "name": "stdout"
        }
      ]
    },
    {
      "cell_type": "code",
      "metadata": {
        "id": "2GHJJNz34qN8",
        "colab_type": "code",
        "colab": {
          "base_uri": "https://localhost:8080/",
          "height": 51
        },
        "outputId": "a9e51933-55da-4a1b-f430-74f5d5feff81"
      },
      "source": [
        "print(tweet[0])\n",
        "print(encoded_docs[0])"
      ],
      "execution_count": 228,
      "outputs": [
        {
          "output_type": "stream",
          "text": [
            "   how the fur who the heck moved my fridge should i knock the landlord door angry mad        \n",
            "[77, 1, 751, 54, 1, 752, 753, 8, 754, 78, 2, 755, 1, 756, 527, 31, 404]\n"
          ],
          "name": "stdout"
        }
      ]
    },
    {
      "cell_type": "code",
      "metadata": {
        "id": "n_qdGguy405S",
        "colab_type": "code",
        "colab": {
          "base_uri": "https://localhost:8080/",
          "height": 85
        },
        "outputId": "a2af95c6-0fee-4901-fe72-a918fd9287e2"
      },
      "source": [
        "print(padded_sequence[0])"
      ],
      "execution_count": 229,
      "outputs": [
        {
          "output_type": "stream",
          "text": [
            "[0.    0.    0.    0.    0.    0.    0.    0.    0.    0.    0.    0.\n",
            " 0.    0.    0.    0.    0.    0.    0.    0.    0.    0.    0.    0.\n",
            " 0.077 0.001 0.751 0.054 0.001 0.752 0.753 0.008 0.754 0.078 0.002 0.755\n",
            " 0.001 0.756 0.527 0.031 0.404]\n"
          ],
          "name": "stdout"
        }
      ]
    },
    {
      "cell_type": "markdown",
      "metadata": {
        "id": "tXDGy23O4_CO",
        "colab_type": "text"
      },
      "source": [
        "#Model"
      ]
    },
    {
      "cell_type": "code",
      "metadata": {
        "id": "hdVK_Mt345rp",
        "colab_type": "code",
        "colab": {}
      },
      "source": [
        "embadding_vector_length = 24\n",
        "\n",
        "model = tf.keras.Sequential()\n",
        "model.add(tf.keras.layers.Embedding(vocab_size,embadding_vector_length,input_length=maxlength))\n",
        "model.add(tf.keras.layers.SpatialDropout1D(0.25))\n",
        "model.add(tf.keras.layers.LSTM(50,dropout=0.1,recurrent_dropout=0.1))\n",
        "model.add(tf.keras.layers.Dropout(0.2))\n",
        "model.add(tf.keras.layers.Dense(1,activation='sigmoid'))\n",
        "\n",
        "model.compile(loss='binary_crossentropy',optimizer='adam', \n",
        "                           metrics=['accuracy'])"
      ],
      "execution_count": 240,
      "outputs": []
    },
    {
      "cell_type": "code",
      "metadata": {
        "id": "TKCzmfnL63M6",
        "colab_type": "code",
        "colab": {
          "base_uri": "https://localhost:8080/",
          "height": 323
        },
        "outputId": "0bbabc9b-afb5-41c6-e0fe-164b4358b6c3"
      },
      "source": [
        "\n",
        "model.summary()"
      ],
      "execution_count": 241,
      "outputs": [
        {
          "output_type": "stream",
          "text": [
            "Model: \"sequential_33\"\n",
            "_________________________________________________________________\n",
            "Layer (type)                 Output Shape              Param #   \n",
            "=================================================================\n",
            "embedding_7 (Embedding)      (None, 41, 24)            81456     \n",
            "_________________________________________________________________\n",
            "spatial_dropout1d_7 (Spatial (None, 41, 24)            0         \n",
            "_________________________________________________________________\n",
            "lstm_29 (LSTM)               (None, 50)                15000     \n",
            "_________________________________________________________________\n",
            "dropout_15 (Dropout)         (None, 50)                0         \n",
            "_________________________________________________________________\n",
            "dense_20 (Dense)             (None, 1)                 51        \n",
            "=================================================================\n",
            "Total params: 96,507\n",
            "Trainable params: 96,507\n",
            "Non-trainable params: 0\n",
            "_________________________________________________________________\n"
          ],
          "name": "stdout"
        }
      ]
    },
    {
      "cell_type": "code",
      "metadata": {
        "id": "UaLH41jK67SV",
        "colab_type": "code",
        "colab": {
          "base_uri": "https://localhost:8080/",
          "height": 1000
        },
        "outputId": "d4968e38-b86e-498a-98c5-0ddb4f30d46a"
      },
      "source": [
        "y = np.array(labels)\n",
        "history = model.fit(padded_sequence,y,\n",
        "                  validation_split=0.2, epochs=100)"
      ],
      "execution_count": 249,
      "outputs": [
        {
          "output_type": "stream",
          "text": [
            "Epoch 1/100\n",
            "18/18 [==============================] - 1s 50ms/step - loss: 0.6681 - accuracy: 0.0000e+00 - val_loss: 0.7379 - val_accuracy: 0.0000e+00\n",
            "Epoch 2/100\n",
            "18/18 [==============================] - 1s 48ms/step - loss: 0.6687 - accuracy: 0.0000e+00 - val_loss: 0.7287 - val_accuracy: 0.0000e+00\n",
            "Epoch 3/100\n",
            "18/18 [==============================] - 1s 47ms/step - loss: 0.6679 - accuracy: 0.0000e+00 - val_loss: 0.7208 - val_accuracy: 0.0000e+00\n",
            "Epoch 4/100\n",
            "18/18 [==============================] - 1s 46ms/step - loss: 0.6668 - accuracy: 0.0000e+00 - val_loss: 0.7285 - val_accuracy: 0.0000e+00\n",
            "Epoch 5/100\n",
            "18/18 [==============================] - 1s 46ms/step - loss: 0.6680 - accuracy: 0.0000e+00 - val_loss: 0.7257 - val_accuracy: 0.0000e+00\n",
            "Epoch 6/100\n",
            "18/18 [==============================] - 1s 51ms/step - loss: 0.6670 - accuracy: 0.0000e+00 - val_loss: 0.7199 - val_accuracy: 0.0000e+00\n",
            "Epoch 7/100\n",
            "18/18 [==============================] - 1s 48ms/step - loss: 0.6667 - accuracy: 0.0000e+00 - val_loss: 0.7324 - val_accuracy: 0.0000e+00\n",
            "Epoch 8/100\n",
            "18/18 [==============================] - 1s 47ms/step - loss: 0.6665 - accuracy: 0.0000e+00 - val_loss: 0.7190 - val_accuracy: 0.0000e+00\n",
            "Epoch 9/100\n",
            "18/18 [==============================] - 1s 48ms/step - loss: 0.6670 - accuracy: 0.0000e+00 - val_loss: 0.7351 - val_accuracy: 0.0000e+00\n",
            "Epoch 10/100\n",
            "18/18 [==============================] - 1s 46ms/step - loss: 0.6667 - accuracy: 0.0000e+00 - val_loss: 0.7169 - val_accuracy: 0.0000e+00\n",
            "Epoch 11/100\n",
            "18/18 [==============================] - 1s 47ms/step - loss: 0.6664 - accuracy: 0.0000e+00 - val_loss: 0.7177 - val_accuracy: 0.0000e+00\n",
            "Epoch 12/100\n",
            "18/18 [==============================] - 1s 47ms/step - loss: 0.6669 - accuracy: 0.0000e+00 - val_loss: 0.7224 - val_accuracy: 0.0000e+00\n",
            "Epoch 13/100\n",
            "18/18 [==============================] - 1s 46ms/step - loss: 0.6666 - accuracy: 0.0000e+00 - val_loss: 0.7327 - val_accuracy: 0.0000e+00\n",
            "Epoch 14/100\n",
            "18/18 [==============================] - 1s 47ms/step - loss: 0.6670 - accuracy: 0.0000e+00 - val_loss: 0.7155 - val_accuracy: 0.0000e+00\n",
            "Epoch 15/100\n",
            "18/18 [==============================] - 1s 48ms/step - loss: 0.6671 - accuracy: 0.0000e+00 - val_loss: 0.7246 - val_accuracy: 0.0000e+00\n",
            "Epoch 16/100\n",
            "18/18 [==============================] - 1s 47ms/step - loss: 0.6671 - accuracy: 0.0000e+00 - val_loss: 0.7223 - val_accuracy: 0.0000e+00\n",
            "Epoch 17/100\n",
            "18/18 [==============================] - 1s 47ms/step - loss: 0.6665 - accuracy: 0.0000e+00 - val_loss: 0.7146 - val_accuracy: 0.0000e+00\n",
            "Epoch 18/100\n",
            "18/18 [==============================] - 1s 47ms/step - loss: 0.6662 - accuracy: 0.0000e+00 - val_loss: 0.7224 - val_accuracy: 0.0000e+00\n",
            "Epoch 19/100\n",
            "18/18 [==============================] - 1s 48ms/step - loss: 0.6657 - accuracy: 0.0000e+00 - val_loss: 0.7152 - val_accuracy: 0.0000e+00\n",
            "Epoch 20/100\n",
            "18/18 [==============================] - 1s 47ms/step - loss: 0.6657 - accuracy: 0.0000e+00 - val_loss: 0.7239 - val_accuracy: 0.0000e+00\n",
            "Epoch 21/100\n",
            "18/18 [==============================] - 1s 47ms/step - loss: 0.6663 - accuracy: 0.0000e+00 - val_loss: 0.7161 - val_accuracy: 0.0000e+00\n",
            "Epoch 22/100\n",
            "18/18 [==============================] - 1s 48ms/step - loss: 0.6659 - accuracy: 0.0000e+00 - val_loss: 0.7247 - val_accuracy: 0.0000e+00\n",
            "Epoch 23/100\n",
            "18/18 [==============================] - 1s 47ms/step - loss: 0.6662 - accuracy: 0.0000e+00 - val_loss: 0.7145 - val_accuracy: 0.0000e+00\n",
            "Epoch 24/100\n",
            "18/18 [==============================] - 1s 47ms/step - loss: 0.6658 - accuracy: 0.0000e+00 - val_loss: 0.7196 - val_accuracy: 0.0000e+00\n",
            "Epoch 25/100\n",
            "18/18 [==============================] - 1s 48ms/step - loss: 0.6655 - accuracy: 0.0000e+00 - val_loss: 0.7207 - val_accuracy: 0.0000e+00\n",
            "Epoch 26/100\n",
            "18/18 [==============================] - 1s 51ms/step - loss: 0.6656 - accuracy: 0.0000e+00 - val_loss: 0.7189 - val_accuracy: 0.0000e+00\n",
            "Epoch 27/100\n",
            "18/18 [==============================] - 1s 47ms/step - loss: 0.6657 - accuracy: 0.0000e+00 - val_loss: 0.7194 - val_accuracy: 0.0000e+00\n",
            "Epoch 28/100\n",
            "18/18 [==============================] - 1s 46ms/step - loss: 0.6655 - accuracy: 0.0000e+00 - val_loss: 0.7208 - val_accuracy: 0.0000e+00\n",
            "Epoch 29/100\n",
            "18/18 [==============================] - 1s 47ms/step - loss: 0.6655 - accuracy: 0.0000e+00 - val_loss: 0.7155 - val_accuracy: 0.0000e+00\n",
            "Epoch 30/100\n",
            "18/18 [==============================] - 1s 49ms/step - loss: 0.6654 - accuracy: 0.0000e+00 - val_loss: 0.7226 - val_accuracy: 0.0000e+00\n",
            "Epoch 31/100\n",
            "18/18 [==============================] - 1s 46ms/step - loss: 0.6662 - accuracy: 0.0000e+00 - val_loss: 0.7156 - val_accuracy: 0.0000e+00\n",
            "Epoch 32/100\n",
            "18/18 [==============================] - 1s 47ms/step - loss: 0.6648 - accuracy: 0.0000e+00 - val_loss: 0.7245 - val_accuracy: 0.0000e+00\n",
            "Epoch 33/100\n",
            "18/18 [==============================] - 1s 48ms/step - loss: 0.6662 - accuracy: 0.0000e+00 - val_loss: 0.7174 - val_accuracy: 0.0000e+00\n",
            "Epoch 34/100\n",
            "18/18 [==============================] - 1s 47ms/step - loss: 0.6658 - accuracy: 0.0000e+00 - val_loss: 0.7215 - val_accuracy: 0.0000e+00\n",
            "Epoch 35/100\n",
            "18/18 [==============================] - 1s 46ms/step - loss: 0.6656 - accuracy: 0.0000e+00 - val_loss: 0.7193 - val_accuracy: 0.0000e+00\n",
            "Epoch 36/100\n",
            "18/18 [==============================] - 1s 46ms/step - loss: 0.6654 - accuracy: 0.0000e+00 - val_loss: 0.7172 - val_accuracy: 0.0000e+00\n",
            "Epoch 37/100\n",
            "18/18 [==============================] - 1s 47ms/step - loss: 0.6651 - accuracy: 0.0000e+00 - val_loss: 0.7196 - val_accuracy: 0.0000e+00\n",
            "Epoch 38/100\n",
            "18/18 [==============================] - 1s 47ms/step - loss: 0.6653 - accuracy: 0.0000e+00 - val_loss: 0.7189 - val_accuracy: 0.0000e+00\n",
            "Epoch 39/100\n",
            "18/18 [==============================] - 1s 47ms/step - loss: 0.6663 - accuracy: 0.0000e+00 - val_loss: 0.7213 - val_accuracy: 0.0000e+00\n",
            "Epoch 40/100\n",
            "18/18 [==============================] - 1s 47ms/step - loss: 0.6655 - accuracy: 0.0000e+00 - val_loss: 0.7173 - val_accuracy: 0.0000e+00\n",
            "Epoch 41/100\n",
            "18/18 [==============================] - 1s 50ms/step - loss: 0.6656 - accuracy: 0.0000e+00 - val_loss: 0.7234 - val_accuracy: 0.0000e+00\n",
            "Epoch 42/100\n",
            "18/18 [==============================] - 1s 50ms/step - loss: 0.6652 - accuracy: 0.0000e+00 - val_loss: 0.7199 - val_accuracy: 0.0000e+00\n",
            "Epoch 43/100\n",
            "18/18 [==============================] - 1s 46ms/step - loss: 0.6653 - accuracy: 0.0000e+00 - val_loss: 0.7168 - val_accuracy: 0.0000e+00\n",
            "Epoch 44/100\n",
            "18/18 [==============================] - 1s 46ms/step - loss: 0.6657 - accuracy: 0.0000e+00 - val_loss: 0.7229 - val_accuracy: 0.0000e+00\n",
            "Epoch 45/100\n",
            "18/18 [==============================] - 1s 46ms/step - loss: 0.6654 - accuracy: 0.0000e+00 - val_loss: 0.7195 - val_accuracy: 0.0000e+00\n",
            "Epoch 46/100\n",
            "18/18 [==============================] - 1s 46ms/step - loss: 0.6658 - accuracy: 0.0000e+00 - val_loss: 0.7215 - val_accuracy: 0.0000e+00\n",
            "Epoch 47/100\n",
            "18/18 [==============================] - 1s 48ms/step - loss: 0.6655 - accuracy: 0.0000e+00 - val_loss: 0.7204 - val_accuracy: 0.0000e+00\n",
            "Epoch 48/100\n",
            "18/18 [==============================] - 1s 47ms/step - loss: 0.6657 - accuracy: 0.0000e+00 - val_loss: 0.7174 - val_accuracy: 0.0000e+00\n",
            "Epoch 49/100\n",
            "18/18 [==============================] - 1s 47ms/step - loss: 0.6653 - accuracy: 0.0000e+00 - val_loss: 0.7224 - val_accuracy: 0.0000e+00\n",
            "Epoch 50/100\n",
            "18/18 [==============================] - 1s 51ms/step - loss: 0.6660 - accuracy: 0.0000e+00 - val_loss: 0.7149 - val_accuracy: 0.0000e+00\n",
            "Epoch 51/100\n",
            "18/18 [==============================] - 1s 47ms/step - loss: 0.6657 - accuracy: 0.0000e+00 - val_loss: 0.7192 - val_accuracy: 0.0000e+00\n",
            "Epoch 52/100\n",
            "18/18 [==============================] - 1s 47ms/step - loss: 0.6655 - accuracy: 0.0000e+00 - val_loss: 0.7191 - val_accuracy: 0.0000e+00\n",
            "Epoch 53/100\n",
            "18/18 [==============================] - 1s 47ms/step - loss: 0.6657 - accuracy: 0.0000e+00 - val_loss: 0.7141 - val_accuracy: 0.0000e+00\n",
            "Epoch 54/100\n",
            "18/18 [==============================] - 1s 48ms/step - loss: 0.6653 - accuracy: 0.0000e+00 - val_loss: 0.7218 - val_accuracy: 0.0000e+00\n",
            "Epoch 55/100\n",
            "18/18 [==============================] - 1s 47ms/step - loss: 0.6647 - accuracy: 0.0000e+00 - val_loss: 0.7157 - val_accuracy: 0.0000e+00\n",
            "Epoch 56/100\n",
            "18/18 [==============================] - 1s 47ms/step - loss: 0.6649 - accuracy: 0.0000e+00 - val_loss: 0.7213 - val_accuracy: 0.0000e+00\n",
            "Epoch 57/100\n",
            "18/18 [==============================] - 1s 47ms/step - loss: 0.6657 - accuracy: 0.0000e+00 - val_loss: 0.7195 - val_accuracy: 0.0000e+00\n",
            "Epoch 58/100\n",
            "18/18 [==============================] - 1s 47ms/step - loss: 0.6653 - accuracy: 0.0000e+00 - val_loss: 0.7173 - val_accuracy: 0.0000e+00\n",
            "Epoch 59/100\n",
            "18/18 [==============================] - 1s 47ms/step - loss: 0.6653 - accuracy: 0.0000e+00 - val_loss: 0.7216 - val_accuracy: 0.0000e+00\n",
            "Epoch 60/100\n",
            "18/18 [==============================] - 1s 47ms/step - loss: 0.6648 - accuracy: 0.0000e+00 - val_loss: 0.7183 - val_accuracy: 0.0000e+00\n",
            "Epoch 61/100\n",
            "18/18 [==============================] - 1s 48ms/step - loss: 0.6651 - accuracy: 0.0000e+00 - val_loss: 0.7189 - val_accuracy: 0.0000e+00\n",
            "Epoch 62/100\n",
            "18/18 [==============================] - 1s 46ms/step - loss: 0.6653 - accuracy: 0.0000e+00 - val_loss: 0.7192 - val_accuracy: 0.0000e+00\n",
            "Epoch 63/100\n",
            "18/18 [==============================] - 1s 46ms/step - loss: 0.6652 - accuracy: 0.0000e+00 - val_loss: 0.7173 - val_accuracy: 0.0000e+00\n",
            "Epoch 64/100\n",
            "18/18 [==============================] - 1s 46ms/step - loss: 0.6651 - accuracy: 0.0000e+00 - val_loss: 0.7192 - val_accuracy: 0.0000e+00\n",
            "Epoch 65/100\n",
            "18/18 [==============================] - 1s 46ms/step - loss: 0.6649 - accuracy: 0.0000e+00 - val_loss: 0.7190 - val_accuracy: 0.0000e+00\n",
            "Epoch 66/100\n",
            "18/18 [==============================] - 1s 49ms/step - loss: 0.6655 - accuracy: 0.0000e+00 - val_loss: 0.7183 - val_accuracy: 0.0000e+00\n",
            "Epoch 67/100\n",
            "18/18 [==============================] - 1s 48ms/step - loss: 0.6651 - accuracy: 0.0000e+00 - val_loss: 0.7171 - val_accuracy: 0.0000e+00\n",
            "Epoch 68/100\n",
            "18/18 [==============================] - 1s 49ms/step - loss: 0.6651 - accuracy: 0.0000e+00 - val_loss: 0.7175 - val_accuracy: 0.0000e+00\n",
            "Epoch 69/100\n",
            "18/18 [==============================] - 1s 47ms/step - loss: 0.6649 - accuracy: 0.0000e+00 - val_loss: 0.7166 - val_accuracy: 0.0000e+00\n",
            "Epoch 70/100\n",
            "18/18 [==============================] - 1s 47ms/step - loss: 0.6654 - accuracy: 0.0000e+00 - val_loss: 0.7162 - val_accuracy: 0.0000e+00\n",
            "Epoch 71/100\n",
            "18/18 [==============================] - 1s 47ms/step - loss: 0.6654 - accuracy: 0.0000e+00 - val_loss: 0.7183 - val_accuracy: 0.0000e+00\n",
            "Epoch 72/100\n",
            "18/18 [==============================] - 1s 49ms/step - loss: 0.6652 - accuracy: 0.0000e+00 - val_loss: 0.7170 - val_accuracy: 0.0000e+00\n",
            "Epoch 73/100\n",
            "18/18 [==============================] - 1s 46ms/step - loss: 0.6654 - accuracy: 0.0000e+00 - val_loss: 0.7165 - val_accuracy: 0.0000e+00\n",
            "Epoch 74/100\n",
            "18/18 [==============================] - 1s 46ms/step - loss: 0.6649 - accuracy: 0.0000e+00 - val_loss: 0.7191 - val_accuracy: 0.0000e+00\n",
            "Epoch 75/100\n",
            "18/18 [==============================] - 1s 46ms/step - loss: 0.6654 - accuracy: 0.0000e+00 - val_loss: 0.7159 - val_accuracy: 0.0000e+00\n",
            "Epoch 76/100\n",
            "18/18 [==============================] - 1s 46ms/step - loss: 0.6651 - accuracy: 0.0000e+00 - val_loss: 0.7177 - val_accuracy: 0.0000e+00\n",
            "Epoch 77/100\n",
            "18/18 [==============================] - 1s 47ms/step - loss: 0.6652 - accuracy: 0.0000e+00 - val_loss: 0.7166 - val_accuracy: 0.0000e+00\n",
            "Epoch 78/100\n",
            "18/18 [==============================] - 1s 48ms/step - loss: 0.6651 - accuracy: 0.0000e+00 - val_loss: 0.7206 - val_accuracy: 0.0000e+00\n",
            "Epoch 79/100\n",
            "18/18 [==============================] - 1s 47ms/step - loss: 0.6651 - accuracy: 0.0000e+00 - val_loss: 0.7179 - val_accuracy: 0.0000e+00\n",
            "Epoch 80/100\n",
            "18/18 [==============================] - 1s 49ms/step - loss: 0.6650 - accuracy: 0.0000e+00 - val_loss: 0.7188 - val_accuracy: 0.0000e+00\n",
            "Epoch 81/100\n",
            "18/18 [==============================] - 1s 46ms/step - loss: 0.6649 - accuracy: 0.0000e+00 - val_loss: 0.7171 - val_accuracy: 0.0000e+00\n",
            "Epoch 82/100\n",
            "18/18 [==============================] - 1s 51ms/step - loss: 0.6643 - accuracy: 0.0000e+00 - val_loss: 0.7220 - val_accuracy: 0.0000e+00\n",
            "Epoch 83/100\n",
            "18/18 [==============================] - 1s 49ms/step - loss: 0.6653 - accuracy: 0.0000e+00 - val_loss: 0.7169 - val_accuracy: 0.0000e+00\n",
            "Epoch 84/100\n",
            "18/18 [==============================] - 1s 46ms/step - loss: 0.6648 - accuracy: 0.0000e+00 - val_loss: 0.7207 - val_accuracy: 0.0000e+00\n",
            "Epoch 85/100\n",
            "18/18 [==============================] - 1s 48ms/step - loss: 0.6653 - accuracy: 0.0000e+00 - val_loss: 0.7192 - val_accuracy: 0.0000e+00\n",
            "Epoch 86/100\n",
            "18/18 [==============================] - 1s 47ms/step - loss: 0.6654 - accuracy: 0.0000e+00 - val_loss: 0.7174 - val_accuracy: 0.0000e+00\n",
            "Epoch 87/100\n",
            "18/18 [==============================] - 1s 46ms/step - loss: 0.6644 - accuracy: 0.0000e+00 - val_loss: 0.7184 - val_accuracy: 0.0000e+00\n",
            "Epoch 88/100\n",
            "18/18 [==============================] - 1s 47ms/step - loss: 0.6650 - accuracy: 0.0000e+00 - val_loss: 0.7182 - val_accuracy: 0.0000e+00\n",
            "Epoch 89/100\n",
            "18/18 [==============================] - 1s 45ms/step - loss: 0.6649 - accuracy: 0.0000e+00 - val_loss: 0.7188 - val_accuracy: 0.0000e+00\n",
            "Epoch 90/100\n",
            "18/18 [==============================] - 1s 46ms/step - loss: 0.6652 - accuracy: 0.0000e+00 - val_loss: 0.7168 - val_accuracy: 0.0000e+00\n",
            "Epoch 91/100\n",
            "18/18 [==============================] - 1s 46ms/step - loss: 0.6658 - accuracy: 0.0000e+00 - val_loss: 0.7199 - val_accuracy: 0.0000e+00\n",
            "Epoch 92/100\n",
            "18/18 [==============================] - 1s 49ms/step - loss: 0.6652 - accuracy: 0.0000e+00 - val_loss: 0.7181 - val_accuracy: 0.0000e+00\n",
            "Epoch 93/100\n",
            "18/18 [==============================] - 1s 46ms/step - loss: 0.6646 - accuracy: 0.0000e+00 - val_loss: 0.7185 - val_accuracy: 0.0000e+00\n",
            "Epoch 94/100\n",
            "18/18 [==============================] - 1s 47ms/step - loss: 0.6653 - accuracy: 0.0000e+00 - val_loss: 0.7168 - val_accuracy: 0.0000e+00\n",
            "Epoch 95/100\n",
            "18/18 [==============================] - 1s 46ms/step - loss: 0.6649 - accuracy: 0.0000e+00 - val_loss: 0.7179 - val_accuracy: 0.0000e+00\n",
            "Epoch 96/100\n",
            "18/18 [==============================] - 1s 46ms/step - loss: 0.6653 - accuracy: 0.0000e+00 - val_loss: 0.7167 - val_accuracy: 0.0000e+00\n",
            "Epoch 97/100\n",
            "18/18 [==============================] - 1s 47ms/step - loss: 0.6649 - accuracy: 0.0000e+00 - val_loss: 0.7177 - val_accuracy: 0.0000e+00\n",
            "Epoch 98/100\n",
            "18/18 [==============================] - 1s 46ms/step - loss: 0.6648 - accuracy: 0.0000e+00 - val_loss: 0.7181 - val_accuracy: 0.0000e+00\n",
            "Epoch 99/100\n",
            "18/18 [==============================] - 1s 51ms/step - loss: 0.6651 - accuracy: 0.0000e+00 - val_loss: 0.7184 - val_accuracy: 0.0000e+00\n",
            "Epoch 100/100\n",
            "18/18 [==============================] - 1s 47ms/step - loss: 0.6653 - accuracy: 0.0000e+00 - val_loss: 0.7165 - val_accuracy: 0.0000e+00\n"
          ],
          "name": "stdout"
        }
      ]
    },
    {
      "cell_type": "code",
      "metadata": {
        "id": "OGFKPG6h7EaB",
        "colab_type": "code",
        "colab": {
          "base_uri": "https://localhost:8080/",
          "height": 34
        },
        "outputId": "33825135-db0d-4e66-c113-fcc205641bc7"
      },
      "source": [
        "print(history.history['accuracy'])"
      ],
      "execution_count": 243,
      "outputs": [
        {
          "output_type": "stream",
          "text": [
            "[0.0, 0.0, 0.0, 0.0, 0.0, 0.0, 0.0, 0.0, 0.0, 0.0]\n"
          ],
          "name": "stdout"
        }
      ]
    },
    {
      "cell_type": "code",
      "metadata": {
        "id": "ESpJkAWJ7gug",
        "colab_type": "code",
        "colab": {
          "base_uri": "https://localhost:8080/",
          "height": 88
        },
        "outputId": "ea16d872-dafd-4920-a64a-b1b2a8f87c25"
      },
      "source": [
        "test_word =\"This is soo sad\"\n",
        "tw = tokenizer.texts_to_sequences([test_word])\n",
        "tw = pad_sequences(tw,maxlen=200)\n",
        "prediction = int(model.predict(tw).round().item())\n",
        "# sentiment_label[1][prediction]\n",
        "print(prediction)"
      ],
      "execution_count": 244,
      "outputs": [
        {
          "output_type": "stream",
          "text": [
            "WARNING:tensorflow:Model was constructed with shape (None, 41) for input Tensor(\"embedding_7_input:0\", shape=(None, 41), dtype=float32), but it was called on an input with incompatible shape (None, 200).\n"
          ],
          "name": "stdout"
        },
        {
          "output_type": "stream",
          "text": [
            "WARNING:tensorflow:Model was constructed with shape (None, 41) for input Tensor(\"embedding_7_input:0\", shape=(None, 41), dtype=float32), but it was called on an input with incompatible shape (None, 200).\n"
          ],
          "name": "stderr"
        },
        {
          "output_type": "stream",
          "text": [
            "1\n"
          ],
          "name": "stdout"
        }
      ]
    },
    {
      "cell_type": "code",
      "metadata": {
        "id": "pOtX3qyN80Dw",
        "colab_type": "code",
        "colab": {
          "base_uri": "https://localhost:8080/",
          "height": 265
        },
        "outputId": "deb4c3ea-d36d-41d4-fc2c-166e98a79d79"
      },
      "source": [
        "import matplotlib.pyplot as plt\n",
        "\n",
        "\n",
        "plt.plot(history.history['loss'])\n",
        "plt.show()"
      ],
      "execution_count": 245,
      "outputs": [
        {
          "output_type": "display_data",
          "data": {
            "image/png": "[encoded data removed]",
            "text/plain": [
              "<Figure size 432x288 with 1 Axes>"
            ]
          },
          "metadata": {
            "tags": [],
            "needs_background": "light"
          }
        }
      ]
    },
    {
      "cell_type": "code",
      "metadata": {
        "id": "GwlfKS2eE00G",
        "colab_type": "code",
        "colab": {
          "base_uri": "https://localhost:8080/",
          "height": 51
        },
        "outputId": "89ea36aa-4c07-4b81-a3fc-5f4a86c61a43"
      },
      "source": [
        "print(len(test_tweets))\n",
        "vocab_size = len(tokenizer.word_index) + 1\n",
        "encoded_docs = tokenizer.texts_to_sequences(test_tweets)\n",
        "test_padded_sequence = pad_sequences(encoded_docs, maxlen=maxlength)/1000\n",
        "print(test_padded_sequence.shape)"
      ],
      "execution_count": 246,
      "outputs": [
        {
          "output_type": "stream",
          "text": [
            "172\n",
            "(172, 41)\n"
          ],
          "name": "stdout"
        }
      ]
    },
    {
      "cell_type": "code",
      "metadata": {
        "id": "ZuHRJQ6k-TTb",
        "colab_type": "code",
        "colab": {
          "base_uri": "https://localhost:8080/",
          "height": 666
        },
        "outputId": "849748f5-0067-4214-88b3-ee7be85b6d6f"
      },
      "source": [
        "results = model.predict(test_padded_sequence)\n",
        "results.shape\n",
        "np.reshape(results,172)"
      ],
      "execution_count": 247,
      "outputs": [
        {
          "output_type": "stream",
          "text": [
            "WARNING:tensorflow:5 out of the last 15 calls to <function Model.make_predict_function.<locals>.predict_function at 0x7f1b6e42bbf8> triggered tf.function retracing. Tracing is expensive and the excessive number of tracings could be due to (1) creating @tf.function repeatedly in a loop, (2) passing tensors with different shapes, (3) passing Python objects instead of tensors. For (1), please define your @tf.function outside of the loop. For (2), @tf.function has experimental_relax_shapes=True option that relaxes argument shapes that can avoid unnecessary retracing. For (3), please refer to https://www.tensorflow.org/tutorials/customization/performance#python_or_tensor_args and https://www.tensorflow.org/api_docs/python/tf/function for  more details.\n"
          ],
          "name": "stdout"
        },
        {
          "output_type": "stream",
          "text": [
            "WARNING:tensorflow:5 out of the last 15 calls to <function Model.make_predict_function.<locals>.predict_function at 0x7f1b6e42bbf8> triggered tf.function retracing. Tracing is expensive and the excessive number of tracings could be due to (1) creating @tf.function repeatedly in a loop, (2) passing tensors with different shapes, (3) passing Python objects instead of tensors. For (1), please define your @tf.function outside of the loop. For (2), @tf.function has experimental_relax_shapes=True option that relaxes argument shapes that can avoid unnecessary retracing. For (3), please refer to https://www.tensorflow.org/tutorials/customization/performance#python_or_tensor_args and https://www.tensorflow.org/api_docs/python/tf/function for  more details.\n"
          ],
          "name": "stderr"
        },
        {
          "output_type": "execute_result",
          "data": {
            "text/plain": [
              "array([0.6174078 , 0.61477935, 0.54294884, 0.59324324, 0.6183989 ,\n",
              "       0.5807023 , 0.6243831 , 0.5629448 , 0.64642173, 0.601605  ,\n",
              "       0.553657  , 0.6259388 , 0.630982  , 0.5427903 , 0.62660676,\n",
              "       0.6127009 , 0.62511504, 0.6388446 , 0.5861892 , 0.6199478 ,\n",
              "       0.544944  , 0.5583547 , 0.63154846, 0.5980601 , 0.58465236,\n",
              "       0.6253499 , 0.6086683 , 0.59358764, 0.61006486, 0.5624993 ,\n",
              "       0.6067762 , 0.60975623, 0.64642173, 0.62416893, 0.6312882 ,\n",
              "       0.57934284, 0.60488665, 0.6023166 , 0.6263634 , 0.616586  ,\n",
              "       0.62308645, 0.64642173, 0.6296615 , 0.586623  , 0.60229236,\n",
              "       0.60735315, 0.649931  , 0.5823432 , 0.6053748 , 0.589357  ,\n",
              "       0.64642173, 0.6042258 , 0.63167727, 0.59331983, 0.59178746,\n",
              "       0.6444935 , 0.62441707, 0.5485726 , 0.57921314, 0.5477277 ,\n",
              "       0.56989926, 0.6052731 , 0.58875525, 0.6062612 , 0.5716497 ,\n",
              "       0.6107994 , 0.60360247, 0.6060194 , 0.6073561 , 0.6157087 ,\n",
              "       0.6057743 , 0.58414924, 0.5994857 , 0.6151434 , 0.62718606,\n",
              "       0.5751848 , 0.6109087 , 0.5958542 , 0.64642173, 0.64642173,\n",
              "       0.64376014, 0.5549683 , 0.63154846, 0.614114  , 0.592689  ,\n",
              "       0.57776755, 0.60246974, 0.5782216 , 0.5742058 , 0.64819944,\n",
              "       0.6078739 , 0.62503546, 0.57168037, 0.62718606, 0.5356612 ,\n",
              "       0.57812744, 0.5544723 , 0.5516319 , 0.62963545, 0.6055314 ,\n",
              "       0.60189307, 0.5974628 , 0.5990221 , 0.62788224, 0.5536921 ,\n",
              "       0.57663697, 0.5897729 , 0.6098908 , 0.60539246, 0.6047486 ,\n",
              "       0.6020904 , 0.5235658 , 0.6143485 , 0.6173179 , 0.6020082 ,\n",
              "       0.64642173, 0.62411475, 0.5999223 , 0.6316277 , 0.6069558 ,\n",
              "       0.6140422 , 0.64642173, 0.61004007, 0.5538671 , 0.53748745,\n",
              "       0.56565094, 0.5595282 , 0.60133   , 0.62786347, 0.64642173,\n",
              "       0.64642173, 0.6205629 , 0.6339236 , 0.59647715, 0.52425   ,\n",
              "       0.61187124, 0.61517614, 0.63282794, 0.64642173, 0.52676105,\n",
              "       0.6323396 , 0.6041762 , 0.62718606, 0.5791779 , 0.6205472 ,\n",
              "       0.6306844 , 0.6205472 , 0.61660564, 0.5715351 , 0.58059156,\n",
              "       0.6339236 , 0.6002558 , 0.6253499 , 0.53360283, 0.58780843,\n",
              "       0.62786347, 0.5632575 , 0.60666317, 0.6068998 , 0.5897637 ,\n",
              "       0.61446774, 0.60312986, 0.5975729 , 0.63646674, 0.64642173,\n",
              "       0.61187226, 0.6053371 , 0.6323396 , 0.6306694 , 0.64642173,\n",
              "       0.57677954, 0.6263634 ], dtype=float32)"
            ]
          },
          "metadata": {
            "tags": []
          },
          "execution_count": 247
        }
      ]
    },
    {
      "cell_type": "code",
      "metadata": {
        "id": "dpH6QvWPCM20",
        "colab_type": "code",
        "colab": {
          "base_uri": "https://localhost:8080/",
          "height": 265
        },
        "outputId": "bb1a1608-89d6-4c90-9cc3-6a9494f35bed"
      },
      "source": [
        "plt.scatter(range(172),test_labels,c='g')\n",
        "plt.scatter(range(172),results,c='r')\n",
        "plt.show()"
      ],
      "execution_count": 248,
      "outputs": [
        {
          "output_type": "display_data",
          "data": {
            "image/png": "[encoded data removed]",
            "text/plain": [
              "<Figure size 432x288 with 1 Axes>"
            ]
          },
          "metadata": {
            "tags": [],
            "needs_background": "light"
          }
        }
      ]
    },
    {
      "cell_type": "code",
      "metadata": {
        "id": "poz5qswHCmSB",
        "colab_type": "code",
        "colab": {}
      },
      "source": [
        ""
      ],
      "execution_count": 248,
      "outputs": []
    }
  ]
}