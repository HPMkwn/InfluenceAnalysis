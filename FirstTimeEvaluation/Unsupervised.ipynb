{
  "nbformat": 4,
  "nbformat_minor": 0,
  "metadata": {
    "kernelspec": {
      "display_name": "Python 3.8.2 64-bit",
      "language": "python",
      "name": "python38264bit235d1f1712484223b2f34850e120d195"
    },
    "language_info": {
      "codemirror_mode": {
        "name": "ipython",
        "version": 3
      },
      "file_extension": ".py",
      "mimetype": "text/x-python",
      "name": "python",
      "nbconvert_exporter": "python",
      "pygments_lexer": "ipython3",
      "version": "3.8.5"
    },
    "colab": {
      "name": "Unsupervised.ipynb",
      "provenance": [],
      "collapsed_sections": [],
      "include_colab_link": true
    }
  },
  "cells": [
    {
      "cell_type": "markdown",
      "metadata": {
        "id": "view-in-github",
        "colab_type": "text"
      },
      "source": [
        "<a href=\"https://colab.research.google.com/github/harrymkwn/InfluenceAnalysis/blob/master/Unsupervised.ipynb\" target=\"_parent\"><img src=\"https://colab.research.google.com/assets/colab-badge.svg\" alt=\"Open In Colab\"/></a>"
      ]
    },
    {
      "cell_type": "code",
      "metadata": {
        "id": "4_4n7xeSGbLd",
        "outputId": "d86d7d36-7202-4010-cce6-7c5f92ae6849",
        "colab": {
          "base_uri": "https://localhost:8080/",
          "height": 51
        }
      },
      "source": [
        "!pip install emoji\n",
        "from tqdm import tqdm\n",
        "from collections import defaultdict\n",
        "import itertools\n",
        "import emoji\n",
        "import re\n",
        "import tensorflow as tf\n",
        "from sklearn import preprocessing\n",
        "from sklearn.cluster import KMeans\n",
        "from sklearn.feature_extraction.text import TfidfVectorizer\n",
        "from tensorflow.keras.utils import to_categorical\n",
        "import numpy as np\n",
        "import pandas as pd\n",
        "from pandas import DataFrame\n",
        "from sklearn.metrics import classification_report\n",
        "from gensim.models import Word2Vec\n",
        "import multiprocessing\n",
        "from google.colab import  drive\n",
        "drive.mount('/content/drive')"
      ],
      "execution_count": null,
      "outputs": [
        {
          "output_type": "stream",
          "text": [
            "Requirement already satisfied: emoji in /usr/local/lib/python3.6/dist-packages (0.6.0)\n",
            "Drive already mounted at /content/drive; to attempt to forcibly remount, call drive.mount(\"/content/drive\", force_remount=True).\n"
          ],
          "name": "stdout"
        }
      ]
    },
    {
      "cell_type": "code",
      "metadata": {
        "id": "oLYQrNN3GbLh"
      },
      "source": [
        "def parse_lines(lines):\n",
        "    u = [] # uids\n",
        "    t = [] # tokens\n",
        "    l = [] # token labels\n",
        "    s = [] # sentiment labels\n",
        "    max_length = 0\n",
        "\n",
        "    print(\"Parsing lines from file...\")\n",
        "    for i, line in tqdm(enumerate(lines), total=len(lines)):\n",
        "        line = line.strip().split('\\t')\n",
        "        if line[0]=='meta':\n",
        "            if i!=0:\n",
        "                u.append(buffer_id)\n",
        "                t.append(buffer_tokens)\n",
        "                l.append(buffer_labels)\n",
        "                s.append(buffer_sentiment)\n",
        "                if len(buffer_tokens) > max_length:\n",
        "                    max_length = len(buffer_tokens)\n",
        "            buffer_id = line[1]\n",
        "            try:\n",
        "                buffer_sentiment = line[2]\n",
        "            except:\n",
        "                buffer_sentiment = ''\n",
        "            buffer_tokens = []\n",
        "            buffer_labels = []\n",
        "        else:\n",
        "            buffer_tokens.append(line[0])\n",
        "            try:\n",
        "                buffer_labels.append(line[1])\n",
        "            except:\n",
        "                buffer_labels.append('')\n",
        "\n",
        "    u.append(buffer_id)\n",
        "    t.append(buffer_tokens)\n",
        "    l.append(buffer_labels)\n",
        "    s.append(buffer_sentiment)\n",
        "    if len(buffer_tokens) > max_length:\n",
        "        max_length = len(buffer_tokens)\n",
        "\n",
        "    num_samples = len(u)\n",
        "    \n",
        "    return u, t, l, s, max_length\n"
      ],
      "execution_count": null,
      "outputs": []
    },
    {
      "cell_type": "code",
      "metadata": {
        "id": "nqH4BS4SGbLk",
        "outputId": "f6e0cac8-e346-407a-b14f-87df0c4a8ff0",
        "colab": {
          "base_uri": "https://localhost:8080/",
          "height": 119
        }
      },
      "source": [
        "train = open('/content/drive/My Drive/InfluenceAnalysis/CodeMix/Hinglish/Hinglish_train_14k_split_conll.txt', encoding='utf8').readlines()\n",
        "valid = open('/content/drive/My Drive/InfluenceAnalysis/CodeMix/Hinglish/Hinglish_dev_3k_split_conll.txt', encoding='utf8').readlines()\n",
        "test = open('/content/drive/My Drive/InfluenceAnalysis/CodeMix/Hinglish/Hinglish_test_unalbelled_conll_updated.txt', encoding='utf8').readlines()\n",
        "\n",
        "u_train, t_train, l_train, s_train, max_length = parse_lines(train)\n",
        "u_dev, t_dev, l_dev, s_dev, max_length_dev = parse_lines(valid)\n",
        "u_test, t_test, l_test, s_test, max_length_test = parse_lines(test)\n"
      ],
      "execution_count": null,
      "outputs": [
        {
          "output_type": "stream",
          "text": [
            "\r  0%|          | 0/393560 [00:00<?, ?it/s]"
          ],
          "name": "stderr"
        },
        {
          "output_type": "stream",
          "text": [
            "Parsing lines from file...\n"
          ],
          "name": "stdout"
        },
        {
          "output_type": "stream",
          "text": [
            "100%|██████████| 393560/393560 [00:00<00:00, 1247787.29it/s]\n",
            "100%|██████████| 84678/84678 [00:00<00:00, 1198720.41it/s]\n",
            "100%|██████████| 84362/84362 [00:00<00:00, 1173283.05it/s]"
          ],
          "name": "stderr"
        },
        {
          "output_type": "stream",
          "text": [
            "Parsing lines from file...\n",
            "Parsing lines from file...\n"
          ],
          "name": "stdout"
        },
        {
          "output_type": "stream",
          "text": [
            "\n"
          ],
          "name": "stderr"
        }
      ]
    },
    {
      "cell_type": "code",
      "metadata": {
        "id": "5PMVEyyInsKd",
        "outputId": "4ccea70c-c846-4c6d-cb50-2f31252962dd",
        "colab": {
          "base_uri": "https://localhost:8080/",
          "height": 71
        }
      },
      "source": [
        "positive = pd.read_csv('/content/drive/My Drive/InfluenceAnalysis/CodeMix/positive-words.csv', encoding='utf8')\n",
        "positive = list(positive['0'])\n",
        "negative = pd.read_csv('/content/drive/My Drive/InfluenceAnalysis/CodeMix/negative-words.csv', encoding='utf8')\n",
        "negative = list(negative['0'])\n",
        "\n",
        "print(positive)\n",
        "print(negative)"
      ],
      "execution_count": null,
      "outputs": [
        {
          "output_type": "stream",
          "text": [
            "['a+', 'abound', 'abounds', 'abundance', 'abundant', 'accessable', 'accessible', 'acclaim', 'acclaimed', 'acclamation', 'accolade', 'accolades', 'accommodative', 'accomodative', 'accomplish', 'accomplished', 'accomplishment', 'accomplishments', 'accurate', 'accurately', 'achievable', 'achievement', 'achievements', 'achievible', 'acumen', 'adaptable', 'adaptive', 'adequate', 'adjustable', 'admirable', 'admirably', 'admiration', 'admire', 'admirer', 'admiring', 'admiringly', 'adorable', 'adore', 'adored', 'adorer', 'adoring', 'adoringly', 'adroit', 'adroitly', 'adulate', 'adulation', 'adulatory', 'advanced', 'advantage', 'advantageous', 'advantageously', 'advantages', 'adventuresome', 'adventurous', 'advocate', 'advocated', 'advocates', 'affability', 'affable', 'affably', 'affectation', 'affection', 'affectionate', 'affinity', 'affirm', 'affirmation', 'affirmative', 'affluence', 'affluent', 'afford', 'affordable', 'affordably', 'afordable', 'agile', 'agilely', 'agility', 'agreeable', 'agreeableness', 'agreeably', 'all-around', 'alluring', 'alluringly', 'altruistic', 'altruistically', 'amaze', 'amazed', 'amazement', 'amazes', 'amazing', 'amazingly', 'ambitious', 'ambitiously', 'ameliorate', 'amenable', 'amenity', 'amiability', 'amiabily', 'amiable', 'amicability', 'amicable', 'amicably', 'amity', 'ample', 'amply', 'amuse', 'amusing', 'amusingly', 'angel', 'angelic', 'apotheosis', 'appeal', 'appealing', 'applaud', 'appreciable', 'appreciate', 'appreciated', 'appreciates', 'appreciative', 'appreciatively', 'appropriate', 'approval', 'approve', 'ardent', 'ardently', 'ardor', 'articulate', 'aspiration', 'aspirations', 'aspire', 'assurance', 'assurances', 'assure', 'assuredly', 'assuring', 'astonish', 'astonished', 'astonishing', 'astonishingly', 'astonishment', 'astound', 'astounded', 'astounding', 'astoundingly', 'astutely', 'attentive', 'attraction', 'attractive', 'attractively', 'attune', 'audible', 'audibly', 'auspicious', 'authentic', 'authoritative', 'autonomous', 'available', 'aver', 'avid', 'avidly', 'award', 'awarded', 'awards', 'awe', 'awed', 'awesome', 'awesomely', 'awesomeness', 'awestruck', 'awsome', 'backbone', 'balanced', 'bargain', 'beauteous', 'beautiful', 'beautifullly', 'beautifully', 'beautify', 'beauty', 'beckon', 'beckoned', 'beckoning', 'beckons', 'believable', 'believeable', 'beloved', 'benefactor', 'beneficent', 'beneficial', 'beneficially', 'beneficiary', 'benefit', 'benefits', 'benevolence', 'benevolent', 'benifits', 'best', 'best-known', 'best-performing', 'best-selling', 'better', 'better-known', 'better-than-expected', 'beutifully', 'blameless', 'bless', 'blessing', 'bliss', 'blissful', 'blissfully', 'blithe', 'blockbuster', 'bloom', 'blossom', 'bolster', 'bonny', 'bonus', 'bonuses', 'boom', 'booming', 'boost', 'boundless', 'bountiful', 'brainiest', 'brainy', 'brand-new', 'brave', 'bravery', 'bravo', 'breakthrough', 'breakthroughs', 'breathlessness', 'breathtaking', 'breathtakingly', 'breeze', 'bright', 'brighten', 'brighter', 'brightest', 'brilliance', 'brilliances', 'brilliant', 'brilliantly', 'brisk', 'brotherly', 'bullish', 'buoyant', 'cajole', 'calm', 'calming', 'calmness', 'capability', 'capable', 'capably', 'captivate', 'captivating', 'carefree', 'cashback', 'cashbacks', 'catchy', 'celebrate', 'celebrated', 'celebration', 'celebratory', 'champ', 'champion', 'charisma', 'charismatic', 'charitable', 'charm', 'charming', 'charmingly', 'chaste', 'cheaper', 'cheapest', 'cheer', 'cheerful', 'cheery', 'cherish', 'cherished', 'cherub', 'chic', 'chivalrous', 'chivalry', 'civility', 'civilize', 'clarity', 'classic', 'classy', 'clean', 'cleaner', 'cleanest', 'cleanliness', 'cleanly', 'clear', 'clear-cut', 'cleared', 'clearer', 'clearly', 'clears', 'clever', 'cleverly', 'cohere', 'coherence', 'coherent', 'cohesive', 'colorful', 'comely', 'comfort', 'comfortable', 'comfortably', 'comforting', 'comfy', 'commend', 'commendable', 'commendably', 'commitment', 'commodious', 'compact', 'compactly', 'compassion', 'compassionate', 'compatible', 'competitive', 'complement', 'complementary', 'complemented', 'complements', 'compliant', 'compliment', 'complimentary', 'comprehensive', 'conciliate', 'conciliatory', 'concise', 'confidence', 'confident', 'congenial', 'congratulate', 'congratulation', 'congratulations', 'congratulatory', 'conscientious', 'considerate', 'consistent', 'consistently', 'constructive', 'consummate', 'contentment', 'continuity', 'contrasty', 'contribution', 'convenience', 'convenient', 'conveniently', 'convience', 'convienient', 'convient', 'convincing', 'convincingly', 'cool', 'coolest', 'cooperative', 'cooperatively', 'cornerstone', 'correct', 'correctly', 'cost-effective', 'cost-saving', 'counter-attack', 'counter-attacks', 'courage', 'courageous', 'courageously', 'courageousness', 'courteous', 'courtly', 'covenant', 'cozy', 'creative', 'credence', 'credible', 'crisp', 'crisper', 'cure', 'cure-all', 'cushy', 'cute', 'cuteness', 'danke', 'danken', 'daring', 'daringly', 'darling', 'dashing', 'dauntless', 'dawn', 'dazzle', 'dazzled', 'dazzling', 'dead-cheap', 'dead-on', 'decency', 'decent', 'decisive', 'decisiveness', 'dedicated', 'defeat', 'defeated', 'defeating', 'defeats', 'defender', 'deference', 'deft', 'deginified', 'delectable', 'delicacy', 'delicate', 'delicious', 'delight', 'delighted', 'delightful', 'delightfully', 'delightfulness', 'dependable', 'dependably', 'deservedly', 'deserving', 'desirable', 'desiring', 'desirous', 'destiny', 'detachable', 'devout', 'dexterous', 'dexterously', 'dextrous', 'dignified', 'dignify', 'dignity', 'diligence', 'diligent', 'diligently', 'diplomatic', 'dirt-cheap', 'distinction', 'distinctive', 'distinguished', 'diversified', 'divine', 'divinely', 'dominate', 'dominated', 'dominates', 'dote', 'dotingly', 'doubtless', 'dreamland', 'dumbfounded', 'dumbfounding', 'dummy-proof', 'durable', 'dynamic', 'eager', 'eagerly', 'eagerness', 'earnest', 'earnestly', 'earnestness', 'ease', 'eased', 'eases', 'easier', 'easiest', 'easiness', 'easing', 'easy', 'easy-to-use', 'easygoing', 'ebullience', 'ebullient', 'ebulliently', 'ecenomical', 'economical', 'ecstasies', 'ecstasy', 'ecstatic', 'ecstatically', 'edify', 'educated', 'effective', 'effectively', 'effectiveness', 'effectual', 'efficacious', 'efficient', 'efficiently', 'effortless', 'effortlessly', 'effusion', 'effusive', 'effusively', 'effusiveness', 'elan', 'elate', 'elated', 'elatedly', 'elation', 'electrify', 'elegance', 'elegant', 'elegantly', 'elevate', 'elite', 'eloquence', 'eloquent', 'eloquently', 'embolden', 'eminence', 'eminent', 'empathize', 'empathy', 'empower', 'empowerment', 'enchant', 'enchanted', 'enchanting', 'enchantingly', 'encourage', 'encouragement', 'encouraging', 'encouragingly', 'endear', 'endearing', 'endorse', 'endorsed', 'endorsement', 'endorses', 'endorsing', 'energetic', 'energize', 'energy-efficient', 'energy-saving', 'engaging', 'engrossing', 'enhance', 'enhanced', 'enhancement', 'enhances', 'enjoy', 'enjoyable', 'enjoyably', 'enjoyed', 'enjoying', 'enjoyment', 'enjoys', 'enlighten', 'enlightenment', 'enliven', 'ennoble', 'enough', 'enrapt', 'enrapture', 'enraptured', 'enrich', 'enrichment', 'enterprising', 'entertain', 'entertaining', 'entertains', 'enthral', 'enthrall', 'enthralled', 'enthuse', 'enthusiasm', 'enthusiast', 'enthusiastic', 'enthusiastically', 'entice', 'enticed', 'enticing', 'enticingly', 'entranced', 'entrancing', 'entrust', 'enviable', 'enviably', 'envious', 'enviously', 'enviousness', 'envy', 'equitable', 'ergonomical', 'err-free', 'erudite', 'ethical', 'eulogize', 'euphoria', 'euphoric', 'euphorically', 'evaluative', 'evenly', 'eventful', 'everlasting', 'evocative', 'exalt', 'exaltation', 'exalted', 'exaltedly', 'exalting', 'exaltingly', 'examplar', 'examplary', 'excallent', 'exceed', 'exceeded', 'exceeding', 'exceedingly', 'exceeds', 'excel', 'exceled', 'excelent', 'excellant', 'excelled', 'excellence', 'excellency', 'excellent', 'excellently', 'excels', 'exceptional', 'exceptionally', 'excite', 'excited', 'excitedly', 'excitedness', 'excitement', 'excites', 'exciting', 'excitingly', 'exellent', 'exemplar', 'exemplary', 'exhilarate', 'exhilarating', 'exhilaratingly', 'exhilaration', 'exonerate', 'expansive', 'expeditiously', 'expertly', 'exquisite', 'exquisitely', 'extol', 'extoll', 'extraordinarily', 'extraordinary', 'exuberance', 'exuberant', 'exuberantly', 'exult', 'exultant', 'exultation', 'exultingly', 'eye-catch', 'eye-catching', 'eyecatch', 'eyecatching', 'fabulous', 'fabulously', 'facilitate', 'fair', 'fairly', 'fairness', 'faith', 'faithful', 'faithfully', 'faithfulness', 'fame', 'famed', 'famous', 'famously', 'fancier', 'fancinating', 'fancy', 'fanfare', 'fans', 'fantastic', 'fantastically', 'fascinate', 'fascinating', 'fascinatingly', 'fascination', 'fashionable', 'fashionably', 'fast', 'fast-growing', 'fast-paced', 'faster', 'fastest', 'fastest-growing', 'faultless', 'fav', 'fave', 'favor', 'favorable', 'favored', 'favorite', 'favorited', 'favour', 'fearless', 'fearlessly', 'feasible', 'feasibly', 'feat', 'feature-rich', 'fecilitous', 'feisty', 'felicitate', 'felicitous', 'felicity', 'fertile', 'fervent', 'fervently', 'fervid', 'fervidly', 'fervor', 'festive', 'fidelity', 'fiery', 'fine', 'fine-looking', 'finely', 'finer', 'finest', 'firmer', 'first-class', 'first-in-class', 'first-rate', 'flashy', 'flatter', 'flattering', 'flatteringly', 'flawless', 'flawlessly', 'flexibility', 'flexible', 'flourish', 'flourishing', 'fluent', 'flutter', 'fond', 'fondly', 'fondness', 'foolproof', 'foremost', 'foresight', 'formidable', 'fortitude', 'fortuitous', 'fortuitously', 'fortunate', 'fortunately', 'fortune', 'fragrant', 'free', 'freed', 'freedom', 'freedoms', 'fresh', 'fresher', 'freshest', 'friendliness', 'friendly', 'frolic', 'frugal', 'fruitful', 'ftw', 'fulfillment', 'fun', 'futurestic', 'futuristic', 'gaiety', 'gaily', 'gain', 'gained', 'gainful', 'gainfully', 'gaining', 'gains', 'gallant', 'gallantly', 'galore', 'geekier', 'geeky', 'gem', 'gems', 'generosity', 'generous', 'generously', 'genial', 'genius', 'gentle', 'gentlest', 'genuine', 'gifted', 'glad', 'gladden', 'gladly', 'gladness', 'glamorous', 'glee', 'gleeful', 'gleefully', 'glimmer', 'glimmering', 'glisten', 'glistening', 'glitter', 'glitz', 'glorify', 'glorious', 'gloriously', 'glory', 'glow', 'glowing', 'glowingly', 'god-given', 'god-send', 'godlike', 'godsend', 'gold', 'golden', 'good', 'goodly', 'goodness', 'goodwill', 'goood', 'gooood', 'gorgeous', 'gorgeously', 'grace', 'graceful', 'gracefully', 'gracious', 'graciously', 'graciousness', 'grand', 'grandeur', 'grateful', 'gratefully', 'gratification', 'gratified', 'gratifies', 'gratify', 'gratifying', 'gratifyingly', 'gratitude', 'great', 'greatest', 'greatness', 'grin', 'groundbreaking', 'guarantee', 'guidance', 'guiltless', 'gumption', 'gush', 'gusto', 'gutsy', 'hail', 'halcyon', 'hale', 'hallmark', 'hallmarks', 'hallowed', 'handier', 'handily', 'hands-down', 'handsome', 'handsomely', 'handy', 'happier', 'happily', 'happiness', 'happy', 'hard-working', 'hardier', 'hardy', 'harmless', 'harmonious', 'harmoniously', 'harmonize', 'harmony', 'headway', 'heal', 'healthful', 'healthy', 'hearten', 'heartening', 'heartfelt', 'heartily', 'heartwarming', 'heaven', 'heavenly', 'helped', 'helpful', 'helping', 'hero', 'heroic', 'heroically', 'heroine', 'heroize', 'heros', 'high-quality', 'high-spirited', 'hilarious', 'holy', 'homage', 'honest', 'honesty', 'honor', 'honorable', 'honored', 'honoring', 'hooray', 'hopeful', 'hospitable', 'hot', 'hotcake', 'hotcakes', 'hottest', 'hug', 'humane', 'humble', 'humility', 'humor', 'humorous', 'humorously', 'humour', 'humourous', 'ideal', 'idealize', 'ideally', 'idol', 'idolize', 'idolized', 'idyllic', 'illuminate', 'illuminati', 'illuminating', 'illumine', 'illustrious', 'ilu', 'imaculate', 'imaginative', 'immaculate', 'immaculately', 'immense', 'impartial', 'impartiality', 'impartially', 'impassioned', 'impeccable', 'impeccably', 'important', 'impress', 'impressed', 'impresses', 'impressive', 'impressively', 'impressiveness', 'improve', 'improved', 'improvement', 'improvements', 'improves', 'improving', 'incredible', 'incredibly', 'indebted', 'individualized', 'indulgence', 'indulgent', 'industrious', 'inestimable', 'inestimably', 'inexpensive', 'infallibility', 'infallible', 'infallibly', 'influential', 'ingenious', 'ingeniously', 'ingenuity', 'ingenuous', 'ingenuously', 'innocuous', 'innovation', 'innovative', 'inpressed', 'insightful', 'insightfully', 'inspiration', 'inspirational', 'inspire', 'inspiring', 'instantly', 'instructive', 'instrumental', 'integral', 'integrated', 'intelligence', 'intelligent', 'intelligible', 'interesting', 'interests', 'intimacy', 'intimate', 'intricate', 'intrigue', 'intriguing', 'intriguingly', 'intuitive', 'invaluable', 'invaluablely', 'inventive', 'invigorate', 'invigorating', 'invincibility', 'invincible', 'inviolable', 'inviolate', 'invulnerable', 'irreplaceable', 'irreproachable', 'irresistible', 'irresistibly', 'issue-free', 'jaw-droping', 'jaw-dropping', 'jollify', 'jolly', 'jovial', 'joy', 'joyful', 'joyfully', 'joyous', 'joyously', 'jubilant', 'jubilantly', 'jubilate', 'jubilation', 'jubiliant', 'judicious', 'justly', 'keen', 'keenly', 'keenness', 'kid-friendly', 'kindliness', 'kindly', 'kindness', 'knowledgeable', 'kudos', 'large-capacity', 'laud', 'laudable', 'laudably', 'lavish', 'lavishly', 'law-abiding', 'lawful', 'lawfully', 'lead', 'leading', 'leads', 'lean', 'led', 'legendary', 'leverage', 'levity', 'liberate', 'liberation', 'liberty', 'lifesaver', 'light-hearted', 'lighter', 'likable', 'like', 'liked', 'likes', 'liking', 'lionhearted', 'lively', 'logical', 'long-lasting', 'lovable', 'lovably', 'love', 'loved', 'loveliness', 'lovely', 'lover', 'loves', 'loving', 'low-cost', 'low-price', 'low-priced', 'low-risk', 'lower-priced', 'loyal', 'loyalty', 'lucid', 'lucidly', 'luck', 'luckier', 'luckiest', 'luckiness', 'lucky', 'lucrative', 'luminous', 'lush', 'luster', 'lustrous', 'luxuriant', 'luxuriate', 'luxurious', 'luxuriously', 'luxury', 'lyrical', 'magic', 'magical', 'magnanimous', 'magnanimously', 'magnificence', 'magnificent', 'magnificently', 'majestic', 'majesty', 'manageable', 'maneuverable', 'marvel', 'marveled', 'marvelled', 'marvellous', 'marvelous', 'marvelously', 'marvelousness', 'marvels', 'master', 'masterful', 'masterfully', 'masterpiece', 'masterpieces', 'masters', 'mastery', 'matchless', 'mature', 'maturely', 'maturity', 'meaningful', 'memorable', 'merciful', 'mercifully', 'mercy', 'merit', 'meritorious', 'merrily', 'merriment', 'merriness', 'merry', 'mesmerize', 'mesmerized', 'mesmerizes', 'mesmerizing', 'mesmerizingly', 'meticulous', 'meticulously', 'mightily', 'mighty', 'mind-blowing', 'miracle', 'miracles', 'miraculous', 'miraculously', 'miraculousness', 'modern', 'modest', 'modesty', 'momentous', 'monumental', 'monumentally', 'morality', 'motivated', 'multi-purpose', 'navigable', 'neat', 'neatest', 'neatly', 'nice', 'nicely', 'nicer', 'nicest', 'nifty', 'nimble', 'noble', 'nobly', 'noiseless', 'non-violence', 'non-violent', 'notably', 'noteworthy', 'nourish', 'nourishing', 'nourishment', 'novelty', 'nurturing', 'oasis', 'obsession', 'obsessions', 'obtainable', 'openly', 'openness', 'optimal', 'optimism', 'optimistic', 'opulent', 'orderly', 'originality', 'outdo', 'outdone', 'outperform', 'outperformed', 'outperforming', 'outperforms', 'outshine', 'outshone', 'outsmart', 'outstanding', 'outstandingly', 'outstrip', 'outwit', 'ovation', 'overjoyed', 'overtake', 'overtaken', 'overtakes', 'overtaking', 'overtook', 'overture', 'pain-free', 'painless', 'painlessly', 'palatial', 'pamper', 'pampered', 'pamperedly', 'pamperedness', 'pampers', 'panoramic', 'paradise', 'paramount', 'pardon', 'passion', 'passionate', 'passionately', 'patience', 'patient', 'patiently', 'patriot', 'patriotic', 'peace', 'peaceable', 'peaceful', 'peacefully', 'peacekeepers', 'peach', 'peerless', 'pep', 'pepped', 'pepping', 'peppy', 'peps', 'perfect', 'perfection', 'perfectly', 'permissible', 'perseverance', 'persevere', 'personages', 'personalized', 'phenomenal', 'phenomenally', 'picturesque', 'piety', 'pinnacle', 'playful', 'playfully', 'pleasant', 'pleasantly', 'pleased', 'pleases', 'pleasing', 'pleasingly', 'pleasurable', 'pleasurably', 'pleasure', 'plentiful', 'pluses', 'plush', 'plusses', 'poetic', 'poeticize', 'poignant', 'poise', 'poised', 'polished', 'polite', 'politeness', 'popular', 'portable', 'posh', 'positive', 'positively', 'positives', 'powerful', 'powerfully', 'praise', 'praiseworthy', 'praising', 'pre-eminent', 'precious', 'precise', 'precisely', 'preeminent', 'prefer', 'preferable', 'preferably', 'prefered', 'preferes', 'preferring', 'prefers', 'premier', 'prestige', 'prestigious', 'prettily', 'pretty', 'priceless', 'pride', 'principled', 'privilege', 'privileged', 'prize', 'proactive', 'problem-free', 'problem-solver', 'prodigious', 'prodigiously', 'prodigy', 'productive', 'productively', 'proficient', 'proficiently', 'profound', 'profoundly', 'profuse', 'profusion', 'progress', 'progressive', 'prolific', 'prominence', 'prominent', 'promise', 'promised', 'promises', 'promising', 'promoter', 'prompt', 'promptly', 'proper', 'properly', 'propitious', 'propitiously', 'pros', 'prosper', 'prosperity', 'prosperous', 'prospros', 'protect', 'protection', 'protective', 'proud', 'proven', 'proves', 'providence', 'proving', 'prowess', 'prudence', 'prudent', 'prudently', 'punctual', 'pure', 'purify', 'purposeful', 'quaint', 'qualified', 'qualify', 'quicker', 'quiet', 'quieter', 'radiance', 'radiant', 'rapid', 'rapport', 'rapt', 'rapture', 'raptureous', 'raptureously', 'rapturous', 'rapturously', 'rational', 'razor-sharp', 'reachable', 'readable', 'readily', 'ready', 'reaffirm', 'reaffirmation', 'realistic', 'realizable', 'reasonable', 'reasonably', 'reasoned', 'reassurance', 'reassure', 'receptive', 'reclaim', 'recomend', 'recommend', 'recommendation', 'recommendations', 'recommended', 'reconcile', 'reconciliation', 'record-setting', 'recover', 'recovery', 'rectification', 'rectify', 'rectifying', 'redeem', 'redeeming', 'redemption', 'refine', 'refined', 'refinement', 'reform', 'reformed', 'reforming', 'reforms', 'refresh', 'refreshed', 'refreshing', 'refund', 'refunded', 'regal', 'regally', 'regard', 'rejoice', 'rejoicing', 'rejoicingly', 'rejuvenate', 'rejuvenated', 'rejuvenating', 'relaxed', 'relent', 'reliable', 'reliably', 'relief', 'relish', 'remarkable', 'remarkably', 'remedy', 'remission', 'remunerate', 'renaissance', 'renewed', 'renown', 'renowned', 'replaceable', 'reputable', 'reputation', 'resilient', 'resolute', 'resound', 'resounding', 'resourceful', 'resourcefulness', 'respect', 'respectable', 'respectful', 'respectfully', 'respite', 'resplendent', 'responsibly', 'responsive', 'restful', 'restored', 'restructure', 'restructured', 'restructuring', 'retractable', 'revel', 'revelation', 'revere', 'reverence', 'reverent', 'reverently', 'revitalize', 'revival', 'revive', 'revives', 'revolutionary', 'revolutionize', 'revolutionized', 'revolutionizes', 'reward', 'rewarding', 'rewardingly', 'rich', 'richer', 'richly', 'richness', 'right', 'righten', 'righteous', 'righteously', 'righteousness', 'rightful', 'rightfully', 'rightly', 'rightness', 'risk-free', 'robust', 'rock-star', 'rock-stars', 'rockstar', 'rockstars', 'romantic', 'romantically', 'romanticize', 'roomier', 'roomy', 'rosy', 'safe', 'safely', 'sagacity', 'sagely', 'saint', 'saintliness', 'saintly', 'salutary', 'salute', 'sane', 'satisfactorily', 'satisfactory', 'satisfied', 'satisfies', 'satisfy', 'satisfying', 'satisified', 'saver', 'savings', 'savior', 'savvy', 'scenic', 'seamless', 'seasoned', 'secure', 'securely', 'selective', 'self-determination', 'self-respect', 'self-satisfaction', 'self-sufficiency', 'self-sufficient', 'sensation', 'sensational', 'sensationally', 'sensations', 'sensible', 'sensibly', 'sensitive', 'serene', 'serenity', 'sexy', 'sharp', 'sharper', 'sharpest', 'shimmering', 'shimmeringly', 'shine', 'shiny', 'significant', 'silent', 'simpler', 'simplest', 'simplified', 'simplifies', 'simplify', 'simplifying', 'sincere', 'sincerely', 'sincerity', 'skill', 'skilled', 'skillful', 'skillfully', 'slammin', 'sleek', 'slick', 'smart', 'smarter', 'smartest', 'smartly', 'smile', 'smiles', 'smiling', 'smilingly', 'smitten', 'smooth', 'smoother', 'smoothes', 'smoothest', 'smoothly', 'snappy', 'snazzy', 'sociable', 'soft', 'softer', 'solace', 'solicitous', 'solicitously', 'solid', 'solidarity', 'soothe', 'soothingly', 'sophisticated', 'soulful', 'soundly', 'soundness', 'spacious', 'sparkle', 'sparkling', 'spectacular', 'spectacularly', 'speedily', 'speedy', 'spellbind', 'spellbinding', 'spellbindingly', 'spellbound', 'spirited', 'spiritual', 'splendid', 'splendidly', 'splendor', 'spontaneous', 'sporty', 'spotless', 'sprightly', 'stability', 'stabilize', 'stable', 'stainless', 'standout', 'state-of-the-art', 'stately', 'statuesque', 'staunch', 'staunchly', 'staunchness', 'steadfast', 'steadfastly', 'steadfastness', 'steadiest', 'steadiness', 'steady', 'stellar', 'stellarly', 'stimulate', 'stimulates', 'stimulating', 'stimulative', 'stirringly', 'straighten', 'straightforward', 'streamlined', 'striking', 'strikingly', 'striving', 'strong', 'stronger', 'strongest', 'stunned', 'stunning', 'stunningly', 'stupendous', 'stupendously', 'sturdier', 'sturdy', 'stylish', 'stylishly', 'stylized', 'suave', 'suavely', 'sublime', 'subsidize', 'subsidized', 'subsidizes', 'subsidizing', 'substantive', 'succeed', 'succeeded', 'succeeding', 'succeeds', 'succes', 'success', 'successes', 'successful', 'successfully', 'suffice', 'sufficed', 'suffices', 'sufficient', 'sufficiently', 'suitable', 'sumptuous', 'sumptuously', 'sumptuousness', 'super', 'superb', 'superbly', 'superior', 'superiority', 'supple', 'support', 'supported', 'supporter', 'supporting', 'supportive', 'supports', 'supremacy', 'supreme', 'supremely', 'supurb', 'supurbly', 'surmount', 'surpass', 'surreal', 'survival', 'survivor', 'sustainability', 'sustainable', 'swank', 'swankier', 'swankiest', 'swanky', 'sweeping', 'sweet', 'sweeten', 'sweetheart', 'sweetly', 'sweetness', 'swift', 'swiftness', 'talent', 'talented', 'talents', 'tantalize', 'tantalizing', 'tantalizingly', 'tempt', 'tempting', 'temptingly', 'tenacious', 'tenaciously', 'tenacity', 'tender', 'tenderly', 'terrific', 'terrifically', 'thank', 'thankful', 'thinner', 'thoughtful', 'thoughtfully', 'thoughtfulness', 'thrift', 'thrifty', 'thrill', 'thrilled', 'thrilling', 'thrillingly', 'thrills', 'thrive', 'thriving', 'thumb-up', 'thumbs-up', 'tickle', 'tidy', 'time-honored', 'timely', 'tingle', 'titillate', 'titillating', 'titillatingly', 'togetherness', 'tolerable', 'toll-free', 'top', 'top-notch', 'top-quality', 'topnotch', 'tops', 'tough', 'tougher', 'toughest', 'traction', 'tranquil', 'tranquility', 'transparent', 'treasure', 'tremendously', 'trendy', 'triumph', 'triumphal', 'triumphant', 'triumphantly', 'trivially', 'trophy', 'trouble-free', 'trump', 'trumpet', 'trust', 'trusted', 'trusting', 'trustingly', 'trustworthiness', 'trustworthy', 'trusty', 'truthful', 'truthfully', 'truthfulness', 'twinkly', 'ultra-crisp', 'unabashed', 'unabashedly', 'unaffected', 'unassailable', 'unbeatable', 'unbiased', 'unbound', 'uncomplicated', 'unconditional', 'undamaged', 'undaunted', 'understandable', 'undisputable', 'undisputably', 'undisputed', 'unencumbered', 'unequivocal', 'unequivocally', 'unfazed', 'unfettered', 'unforgettable', 'unity', 'unlimited', 'unmatched', 'unparalleled', 'unquestionable', 'unquestionably', 'unreal', 'unrestricted', 'unrivaled', 'unselfish', 'unwavering', 'upbeat', 'upgradable', 'upgradeable', 'upgraded', 'upheld', 'uphold', 'uplift', 'uplifting', 'upliftingly', 'upliftment', 'upscale', 'usable', 'useable', 'useful', 'user-friendly', 'user-replaceable', 'valiant', 'valiantly', 'valor', 'valuable', 'variety', 'venerate', 'verifiable', 'veritable', 'versatile', 'versatility', 'vibrant', 'vibrantly', 'victorious', 'victory', 'viewable', 'vigilance', 'vigilant', 'virtue', 'virtuous', 'virtuously', 'visionary', 'vivacious', 'vivid', 'vouch', 'vouchsafe', 'warm', 'warmer', 'warmhearted', 'warmly', 'warmth', 'wealthy', 'welcome', 'well', 'well-backlit', 'well-balanced', 'well-behaved', 'well-being', 'well-bred', 'well-connected', 'well-educated', 'well-established', 'well-informed', 'well-intentioned', 'well-known', 'well-made', 'well-managed', 'well-mannered', 'well-positioned', 'well-received', 'well-regarded', 'well-rounded', 'well-run', 'well-wishers', 'wellbeing', 'whoa', 'wholeheartedly', 'wholesome', 'whooa', 'whoooa', 'wieldy', 'willing', 'willingly', 'willingness', 'win', 'windfall', 'winnable', 'winner', 'winners', 'winning', 'wins', 'wisdom', 'wise', 'wisely', 'witty', 'won', 'wonder', 'wonderful', 'wonderfully', 'wonderous', 'wonderously', 'wonders', 'wondrous', 'woo', 'work', 'workable', 'worked', 'works', 'world-famous', 'worth', 'worth-while', 'worthiness', 'worthwhile', 'worthy', 'wow', 'wowed', 'wowing', 'wows', 'yay', 'youthful', 'zeal', 'zenith', 'zest', 'zippy']\n",
            "['2-faced', '2-faces', 'abnormal', 'abolish', 'abominable', 'abominably', 'abominate', 'abomination', 'abort', 'aborted', 'aborts', 'abrade', 'abrasive', 'abrupt', 'abruptly', 'abscond', 'absence', 'absent-minded', 'absentee', 'absurd', 'absurdity', 'absurdly', 'absurdness', 'abuse', 'abused', 'abuses', 'abusive', 'abysmal', 'abysmally', 'abyss', 'accidental', 'accost', 'accursed', 'accusation', 'accusations', 'accuse', 'accuses', 'accusing', 'accusingly', 'acerbate', 'acerbic', 'acerbically', 'ache', 'ached', 'aches', 'achey', 'aching', 'acrid', 'acridly', 'acridness', 'acrimonious', 'acrimoniously', 'acrimony', 'adamant', 'adamantly', 'addict', 'addicted', 'addicting', 'addicts', 'admonish', 'admonisher', 'admonishingly', 'admonishment', 'admonition', 'adulterate', 'adulterated', 'adulteration', 'adulterier', 'adversarial', 'adversary', 'adverse', 'adversity', 'afflict', 'affliction', 'afflictive', 'affront', 'afraid', 'aggravate', 'aggravating', 'aggravation', 'aggression', 'aggressive', 'aggressiveness', 'aggressor', 'aggrieve', 'aggrieved', 'aggrivation', 'aghast', 'agonies', 'agonize', 'agonizing', 'agonizingly', 'agony', 'aground', 'ail', 'ailing', 'ailment', 'aimless', 'alarm', 'alarmed', 'alarming', 'alarmingly', 'alienate', 'alienated', 'alienation', 'allegation', 'allegations', 'allege', 'allergic', 'allergies', 'allergy', 'aloof', 'altercation', 'ambiguity', 'ambiguous', 'ambivalence', 'ambivalent', 'ambush', 'amiss', 'amputate', 'anarchism', 'anarchist', 'anarchistic', 'anarchy', 'anemic', 'anger', 'angrily', 'angriness', 'angry', 'anguish', 'animosity', 'annihilate', 'annihilation', 'annoy', 'annoyance', 'annoyances', 'annoyed', 'annoying', 'annoyingly', 'annoys', 'anomalous', 'anomaly', 'antagonism', 'antagonist', 'antagonistic', 'antagonize', 'anti-', 'anti-american', 'anti-israeli', 'anti-occupation', 'anti-proliferation', 'anti-semites', 'anti-social', 'anti-us', 'anti-white', 'antipathy', 'antiquated', 'antithetical', 'anxieties', 'anxiety', 'anxious', 'anxiously', 'anxiousness', 'apathetic', 'apathetically', 'apathy', 'apocalypse', 'apocalyptic', 'apologist', 'apologists', 'appal', 'appall', 'appalled', 'appalling', 'appallingly', 'apprehension', 'apprehensions', 'apprehensive', 'apprehensively', 'arbitrary', 'arcane', 'archaic', 'arduous', 'arduously', 'argumentative', 'arrogance', 'arrogant', 'arrogantly', 'ashamed', 'asinine', 'asininely', 'asinininity', 'askance', 'asperse', 'aspersion', 'aspersions', 'assail', 'assassin', 'assassinate', 'assault', 'assult', 'astray', 'asunder', 'atrocious', 'atrocities', 'atrocity', 'atrophy', 'attack', 'attacks', 'audacious', 'audaciously', 'audaciousness', 'audacity', 'audiciously', 'austere', 'authoritarian', 'autocrat', 'autocratic', 'avalanche', 'avarice', 'avaricious', 'avariciously', 'avenge', 'averse', 'aversion', 'aweful', 'awful', 'awfully', 'awfulness', 'awkward', 'awkwardness', 'ax', 'babble', 'back-logged', 'back-wood', 'back-woods', 'backache', 'backaches', 'backaching', 'backbite', 'backbiting', 'backward', 'backwardness', 'backwood', 'backwoods', 'bad', 'badly', 'baffle', 'baffled', 'bafflement', 'baffling', 'bait', 'balk', 'banal', 'banalize', 'bane', 'banish', 'banishment', 'bankrupt', 'barbarian', 'barbaric', 'barbarically', 'barbarity', 'barbarous', 'barbarously', 'barren', 'baseless', 'bash', 'bashed', 'bashful', 'bashing', 'bastard', 'bastards', 'battered', 'battering', 'batty', 'bearish', 'beastly', 'bedlam', 'bedlamite', 'befoul', 'beg', 'beggar', 'beggarly', 'begging', 'beguile', 'belabor', 'belated', 'beleaguer', 'belie', 'belittle', 'belittled', 'belittling', 'bellicose', 'belligerence', 'belligerent', 'belligerently', 'bemoan', 'bemoaning', 'bemused', 'bent', 'berate', 'bereave', 'bereavement', 'bereft', 'berserk', 'beseech', 'beset', 'besiege', 'besmirch', 'bestial', 'betray', 'betrayal', 'betrayals', 'betrayer', 'betraying', 'betrays', 'bewail', 'beware', 'bewilder', 'bewildered', 'bewildering', 'bewilderingly', 'bewilderment', 'bewitch', 'bias', 'biased', 'biases', 'bicker', 'bickering', 'bid-rigging', 'bigotries', 'bigotry', 'bitch', 'bitchy', 'biting', 'bitingly', 'bitter', 'bitterly', 'bitterness', 'bizarre', 'blab', 'blabber', 'blackmail', 'blah', 'blame', 'blameworthy', 'bland', 'blandish', 'blaspheme', 'blasphemous', 'blasphemy', 'blasted', 'blatant', 'blatantly', 'blather', 'bleak', 'bleakly', 'bleakness', 'bleed', 'bleeding', 'bleeds', 'blemish', 'blind', 'blinding', 'blindingly', 'blindside', 'blister', 'blistering', 'bloated', 'blockage', 'blockhead', 'bloodshed', 'bloodthirsty', 'bloody', 'blotchy', 'blow', 'blunder', 'blundering', 'blunders', 'blunt', 'blur', 'bluring', 'blurred', 'blurring', 'blurry', 'blurs', 'blurt', 'boastful', 'boggle', 'bogus', 'boil', 'boiling', 'boisterous', 'bomb', 'bombard', 'bombardment', 'bombastic', 'bondage', 'bonkers', 'bore', 'bored', 'boredom', 'bores', 'boring', 'botch', 'bother', 'bothered', 'bothering', 'bothers', 'bothersome', 'bowdlerize', 'boycott', 'braggart', 'bragger', 'brainless', 'brainwash', 'brash', 'brashly', 'brashness', 'brat', 'bravado', 'brazen', 'brazenly', 'brazenness', 'breach', 'break', 'break-up', 'break-ups', 'breakdown', 'breaking', 'breaks', 'breakup', 'breakups', 'bribery', 'brimstone', 'bristle', 'brittle', 'broke', 'broken', 'broken-hearted', 'brood', 'browbeat', 'bruise', 'bruised', 'bruises', 'bruising', 'brusque', 'brutal', 'brutalising', 'brutalities', 'brutality', 'brutalize', 'brutalizing', 'brutally', 'brute', 'brutish', 'bs', 'buckle', 'bug', 'bugging', 'buggy', 'bugs', 'bulkier', 'bulkiness', 'bulky', 'bulkyness', 'bull****', 'bull----', 'bullies', 'bullshit', 'bullshyt', 'bully', 'bullying', 'bullyingly', 'bum', 'bump', 'bumped', 'bumping', 'bumpping', 'bumps', 'bumpy', 'bungle', 'bungler', 'bungling', 'bunk', 'burden', 'burdensome', 'burdensomely', 'burn', 'burned', 'burning', 'burns', 'bust', 'busts', 'busybody', 'butcher', 'butchery', 'buzzing', 'byzantine', 'cackle', 'calamities', 'calamitous', 'calamitously', 'calamity', 'callous', 'calumniate', 'calumniation', 'calumnies', 'calumnious', 'calumniously', 'calumny', 'cancer', 'cancerous', 'cannibal', 'cannibalize', 'capitulate', 'capricious', 'capriciously', 'capriciousness', 'capsize', 'careless', 'carelessness', 'caricature', 'carnage', 'carp', 'cartoonish', 'cash-strapped', 'castigate', 'castrated', 'casualty', 'cataclysm', 'cataclysmal', 'cataclysmic', 'cataclysmically', 'catastrophe', 'catastrophes', 'catastrophic', 'catastrophically', 'catastrophies', 'caustic', 'caustically', 'cautionary', 'cave', 'censure', 'chafe', 'chaff', 'chagrin', 'challenging', 'chaos', 'chaotic', 'chasten', 'chastise', 'chastisement', 'chatter', 'chatterbox', 'cheap', 'cheapen', 'cheaply', 'cheat', 'cheated', 'cheater', 'cheating', 'cheats', 'checkered', 'cheerless', 'cheesy', 'chide', 'childish', 'chill', 'chilly', 'chintzy', 'choke', 'choleric', 'choppy', 'chore', 'chronic', 'chunky', 'clamor', 'clamorous', 'clash', 'cliche', 'cliched', 'clique', 'clog', 'clogged', 'clogs', 'cloud', 'clouding', 'cloudy', 'clueless', 'clumsy', 'clunky', 'coarse', 'cocky', 'coerce', 'coercion', 'coercive', 'cold', 'coldly', 'collapse', 'collude', 'collusion', 'combative', 'combust', 'comical', 'commiserate', 'commonplace', 'commotion', 'commotions', 'complacent', 'complain', 'complained', 'complaining', 'complains', 'complaint', 'complaints', 'complex', 'complicated', 'complication', 'complicit', 'compulsion', 'compulsive', 'concede', 'conceded', 'conceit', 'conceited', 'concen', 'concens', 'concern', 'concerned', 'concerns', 'concession', 'concessions', 'condemn', 'condemnable', 'condemnation', 'condemned', 'condemns', 'condescend', 'condescending', 'condescendingly', 'condescension', 'confess', 'confession', 'confessions', 'confined', 'conflict', 'conflicted', 'conflicting', 'conflicts', 'confound', 'confounded', 'confounding', 'confront', 'confrontation', 'confrontational', 'confuse', 'confused', 'confuses', 'confusing', 'confusion', 'confusions', 'congested', 'congestion', 'cons', 'conscons', 'conservative', 'conspicuous', 'conspicuously', 'conspiracies', 'conspiracy', 'conspirator', 'conspiratorial', 'conspire', 'consternation', 'contagious', 'contaminate', 'contaminated', 'contaminates', 'contaminating', 'contamination', 'contempt', 'contemptible', 'contemptuous', 'contemptuously', 'contend', 'contention', 'contentious', 'contort', 'contortions', 'contradict', 'contradiction', 'contradictory', 'contrariness', 'contravene', 'contrive', 'contrived', 'controversial', 'controversy', 'convoluted', 'corrode', 'corrosion', 'corrosions', 'corrosive', 'corrupt', 'corrupted', 'corrupting', 'corruption', 'corrupts', 'corruptted', 'costlier', 'costly', 'counter-productive', 'counterproductive', 'coupists', 'covetous', 'coward', 'cowardly', 'crabby', 'crack', 'cracked', 'cracks', 'craftily', 'craftly', 'crafty', 'cramp', 'cramped', 'cramping', 'cranky', 'crap', 'crappy', 'craps', 'crash', 'crashed', 'crashes', 'crashing', 'crass', 'craven', 'cravenly', 'craze', 'crazily', 'craziness', 'crazy', 'creak', 'creaking', 'creaks', 'credulous', 'creep', 'creeping', 'creeps', 'creepy', 'crept', 'crime', 'criminal', 'cringe', 'cringed', 'cringes', 'cripple', 'crippled', 'cripples', 'crippling', 'crisis', 'critic', 'critical', 'criticism', 'criticisms', 'criticize', 'criticized', 'criticizing', 'critics', 'cronyism', 'crook', 'crooked', 'crooks', 'crowded', 'crowdedness', 'crude', 'cruel', 'crueler', 'cruelest', 'cruelly', 'cruelness', 'cruelties', 'cruelty', 'crumble', 'crumbling', 'crummy', 'crumple', 'crumpled', 'crumples', 'crush', 'crushed', 'crushing', 'cry', 'culpable', 'culprit', 'cumbersome', 'cunt', 'cunts', 'cuplrit', 'curse', 'cursed', 'curses', 'curt', 'cuss', 'cussed', 'cutthroat', 'cynical', 'cynicism', 'd*mn', 'damage', 'damaged', 'damages', 'damaging', 'damn', 'damnable', 'damnably', 'damnation', 'damned', 'damning', 'damper', 'danger', 'dangerous', 'dangerousness', 'dark', 'darken', 'darkened', 'darker', 'darkness', 'dastard', 'dastardly', 'daunt', 'daunting', 'dauntingly', 'dawdle', 'daze', 'dazed', 'dead', 'deadbeat', 'deadlock', 'deadly', 'deadweight', 'deaf', 'dearth', 'death', 'debacle', 'debase', 'debasement', 'debaser', 'debatable', 'debauch', 'debaucher', 'debauchery', 'debilitate', 'debilitating', 'debility', 'debt', 'debts', 'decadence', 'decadent', 'decay', 'decayed', 'deceit', 'deceitful', 'deceitfully', 'deceitfulness', 'deceive', 'deceiver', 'deceivers', 'deceiving', 'deception', 'deceptive', 'deceptively', 'declaim', 'decline', 'declines', 'declining', 'decrement', 'decrepit', 'decrepitude', 'decry', 'defamation', 'defamations', 'defamatory', 'defame', 'defect', 'defective', 'defects', 'defensive', 'defiance', 'defiant', 'defiantly', 'deficiencies', 'deficiency', 'deficient', 'defile', 'defiler', 'deform', 'deformed', 'defrauding', 'defunct', 'defy', 'degenerate', 'degenerately', 'degeneration', 'degradation', 'degrade', 'degrading', 'degradingly', 'dehumanization', 'dehumanize', 'deign', 'deject', 'dejected', 'dejectedly', 'dejection', 'delay', 'delayed', 'delaying', 'delays', 'delinquency', 'delinquent', 'delirious', 'delirium', 'delude', 'deluded', 'deluge', 'delusion', 'delusional', 'delusions', 'demean', 'demeaning', 'demise', 'demolish', 'demolisher', 'demon', 'demonic', 'demonize', 'demonized', 'demonizes', 'demonizing', 'demoralize', 'demoralizing', 'demoralizingly', 'denial', 'denied', 'denies', 'denigrate', 'denounce', 'dense', 'dent', 'dented', 'dents', 'denunciate', 'denunciation', 'denunciations', 'deny', 'denying', 'deplete', 'deplorable', 'deplorably', 'deplore', 'deploring', 'deploringly', 'deprave', 'depraved', 'depravedly', 'deprecate', 'depress', 'depressed', 'depressing', 'depressingly', 'depression', 'depressions', 'deprive', 'deprived', 'deride', 'derision', 'derisive', 'derisively', 'derisiveness', 'derogatory', 'desecrate', 'desert', 'desertion', 'desiccate', 'desiccated', 'desititute', 'desolate', 'desolately', 'desolation', 'despair', 'despairing', 'despairingly', 'desperate', 'desperately', 'desperation', 'despicable', 'despicably', 'despise', 'despised', 'despoil', 'despoiler', 'despondence', 'despondency', 'despondent', 'despondently', 'despot', 'despotic', 'despotism', 'destabilisation', 'destains', 'destitute', 'destitution', 'destroy', 'destroyer', 'destruction', 'destructive', 'desultory', 'deter', 'deteriorate', 'deteriorating', 'deterioration', 'deterrent', 'detest', 'detestable', 'detestably', 'detested', 'detesting', 'detests', 'detract', 'detracted', 'detracting', 'detraction', 'detracts', 'detriment', 'detrimental', 'devastate', 'devastated', 'devastates', 'devastating', 'devastatingly', 'devastation', 'deviate', 'deviation', 'devil', 'devilish', 'devilishly', 'devilment', 'devilry', 'devious', 'deviously', 'deviousness', 'devoid', 'diabolic', 'diabolical', 'diabolically', 'diametrically', 'diappointed', 'diatribe', 'diatribes', 'dick', 'dictator', 'dictatorial', 'die', 'die-hard', 'died', 'dies', 'difficult', 'difficulties', 'difficulty', 'diffidence', 'dilapidated', 'dilemma', 'dilly-dally', 'dim', 'dimmer', 'din', 'ding', 'dings', 'dinky', 'dire', 'direly', 'direness', 'dirt', 'dirtbag', 'dirtbags', 'dirts', 'dirty', 'disable', 'disabled', 'disaccord', 'disadvantage', 'disadvantaged', 'disadvantageous', 'disadvantages', 'disaffect', 'disaffected', 'disaffirm', 'disagree', 'disagreeable', 'disagreeably', 'disagreed', 'disagreeing', 'disagreement', 'disagrees', 'disallow', 'disapointed', 'disapointing', 'disapointment', 'disappoint', 'disappointed', 'disappointing', 'disappointingly', 'disappointment', 'disappointments', 'disappoints', 'disapprobation', 'disapproval', 'disapprove', 'disapproving', 'disarm', 'disarray', 'disaster', 'disasterous', 'disastrous', 'disastrously', 'disavow', 'disavowal', 'disbelief', 'disbelieve', 'disbeliever', 'disclaim', 'discombobulate', 'discomfit', 'discomfititure', 'discomfort', 'discompose', 'disconcert', 'disconcerted', 'disconcerting', 'disconcertingly', 'disconsolate', 'disconsolately', 'disconsolation', 'discontent', 'discontented', 'discontentedly', 'discontinued', 'discontinuity', 'discontinuous', 'discord', 'discordance', 'discordant', 'discountenance', 'discourage', 'discouragement', 'discouraging', 'discouragingly', 'discourteous', 'discourteously', 'discoutinous', 'discredit', 'discrepant', 'discriminate', 'discrimination', 'discriminatory', 'disdain', 'disdained', 'disdainful', 'disdainfully', 'disfavor', 'disgrace', 'disgraced', 'disgraceful', 'disgracefully', 'disgruntle', 'disgruntled', 'disgust', 'disgusted', 'disgustedly', 'disgustful', 'disgustfully', 'disgusting', 'disgustingly', 'dishearten', 'disheartening', 'dishearteningly', 'dishonest', 'dishonestly', 'dishonesty', 'dishonor', 'dishonorable', 'dishonorablely', 'disillusion', 'disillusioned', 'disillusionment', 'disillusions', 'disinclination', 'disinclined', 'disingenuous', 'disingenuously', 'disintegrate', 'disintegrated', 'disintegrates', 'disintegration', 'disinterest', 'disinterested', 'dislike', 'disliked', 'dislikes', 'disliking', 'dislocated', 'disloyal', 'disloyalty', 'dismal', 'dismally', 'dismalness', 'dismay', 'dismayed', 'dismaying', 'dismayingly', 'dismissive', 'dismissively', 'disobedience', 'disobedient', 'disobey', 'disoobedient', 'disorder', 'disordered', 'disorderly', 'disorganized', 'disorient', 'disoriented', 'disown', 'disparage', 'disparaging', 'disparagingly', 'dispensable', 'dispirit', 'dispirited', 'dispiritedly', 'dispiriting', 'displace', 'displaced', 'displease', 'displeased', 'displeasing', 'displeasure', 'disproportionate', 'disprove', 'disputable', 'dispute', 'disputed', 'disquiet', 'disquieting', 'disquietingly', 'disquietude', 'disregard', 'disregardful', 'disreputable', 'disrepute', 'disrespect', 'disrespectable', 'disrespectablity', 'disrespectful', 'disrespectfully', 'disrespectfulness', 'disrespecting', 'disrupt', 'disruption', 'disruptive', 'diss', 'dissapointed', 'dissappointed', 'dissappointing', 'dissatisfaction', 'dissatisfactory', 'dissatisfied', 'dissatisfies', 'dissatisfy', 'dissatisfying', 'dissed', 'dissemble', 'dissembler', 'dissension', 'dissent', 'dissenter', 'dissention', 'disservice', 'disses', 'dissidence', 'dissident', 'dissidents', 'dissing', 'dissocial', 'dissolute', 'dissolution', 'dissonance', 'dissonant', 'dissonantly', 'dissuade', 'dissuasive', 'distains', 'distaste', 'distasteful', 'distastefully', 'distort', 'distorted', 'distortion', 'distorts', 'distract', 'distracting', 'distraction', 'distraught', 'distraughtly', 'distraughtness', 'distress', 'distressed', 'distressing', 'distressingly', 'distrust', 'distrustful', 'distrusting', 'disturb', 'disturbance', 'disturbed', 'disturbing', 'disturbingly', 'disunity', 'disvalue', 'divergent', 'divisive', 'divisively', 'divisiveness', 'dizzing', 'dizzingly', 'dizzy', 'doddering', 'dodgey', 'dogged', 'doggedly', 'dogmatic', 'doldrums', 'domineer', 'domineering', 'donside', 'doom', 'doomed', 'doomsday', 'dope', 'doubt', 'doubtful', 'doubtfully', 'doubts', 'douchbag', 'douchebag', 'douchebags', 'downbeat', 'downcast', 'downer', 'downfall', 'downfallen', 'downgrade', 'downhearted', 'downheartedly', 'downhill', 'downside', 'downsides', 'downturn', 'downturns', 'drab', 'draconian', 'draconic', 'drag', 'dragged', 'dragging', 'dragoon', 'drags', 'drain', 'drained', 'draining', 'drains', 'drastic', 'drastically', 'drawback', 'drawbacks', 'dread', 'dreadful', 'dreadfully', 'dreadfulness', 'dreary', 'dripped', 'dripping', 'drippy', 'drips', 'drones', 'droop', 'droops', 'drop-out', 'drop-outs', 'dropout', 'dropouts', 'drought', 'drowning', 'drunk', 'drunkard', 'drunken', 'dubious', 'dubiously', 'dubitable', 'dud', 'dull', 'dullard', 'dumb', 'dumbfound', 'dump', 'dumped', 'dumping', 'dumps', 'dunce', 'dungeon', 'dungeons', 'dupe', 'dust', 'dusty', 'dwindling', 'dying', 'earsplitting', 'eccentric', 'eccentricity', 'effigy', 'effrontery', 'egocentric', 'egomania', 'egotism', 'egotistical', 'egotistically', 'egregious', 'egregiously', 'election-rigger', 'elimination', 'emaciated', 'emasculate', 'embarrass', 'embarrassing', 'embarrassingly', 'embarrassment', 'embattled', 'embroil', 'embroiled', 'embroilment', 'emergency', 'emphatic', 'emphatically', 'emptiness', 'encroach', 'encroachment', 'endanger', 'enemies', 'enemy', 'enervate', 'enfeeble', 'enflame', 'engulf', 'enjoin', 'enmity', 'enrage', 'enraged', 'enraging', 'enslave', 'entangle', 'entanglement', 'entrap', 'entrapment', 'envious', 'enviously', 'enviousness', 'epidemic', 'equivocal', 'erase', 'erode', 'erodes', 'erosion', 'err', 'errant', 'erratic', 'erratically', 'erroneous', 'erroneously', 'error', 'errors', 'eruptions', 'escapade', 'eschew', 'estranged', 'evade', 'evasion', 'evasive', 'evil', 'evildoer', 'evils', 'eviscerate', 'exacerbate', 'exagerate', 'exagerated', 'exagerates', 'exaggerate', 'exaggeration', 'exasperate', 'exasperated', 'exasperating', 'exasperatingly', 'exasperation', 'excessive', 'excessively', 'exclusion', 'excoriate', 'excruciating', 'excruciatingly', 'excuse', 'excuses', 'execrate', 'exhaust', 'exhausted', 'exhaustion', 'exhausts', 'exhorbitant', 'exhort', 'exile', 'exorbitant', 'exorbitantance', 'exorbitantly', 'expel', 'expensive', 'expire', 'expired', 'explode', 'exploit', 'exploitation', 'explosive', 'expropriate', 'expropriation', 'expulse', 'expunge', 'exterminate', 'extermination', 'extinguish', 'extort', 'extortion', 'extraneous', 'extravagance', 'extravagant', 'extravagantly', 'extremism', 'extremist', 'extremists', 'eyesore', 'f**k', 'fabricate', 'fabrication', 'facetious', 'facetiously', 'fail', 'failed', 'failing', 'fails', 'failure', 'failures', 'faint', 'fainthearted', 'faithless', 'fake', 'fall', 'fallacies', 'fallacious', 'fallaciously', 'fallaciousness', 'fallacy', 'fallen', 'falling', 'fallout', 'falls', 'false', 'falsehood', 'falsely', 'falsify', 'falter', 'faltered', 'famine', 'famished', 'fanatic', 'fanatical', 'fanatically', 'fanaticism', 'fanatics', 'fanciful', 'far-fetched', 'farce', 'farcical', 'farcical-yet-provocative', 'farcically', 'farfetched', 'fascism', 'fascist', 'fastidious', 'fastidiously', 'fastuous', 'fat', 'fat-cat', 'fat-cats', 'fatal', 'fatalistic', 'fatalistically', 'fatally', 'fatcat', 'fatcats', 'fateful', 'fatefully', 'fathomless', 'fatigue', 'fatigued', 'fatique', 'fatty', 'fatuity', 'fatuous', 'fatuously', 'fault', 'faults', 'faulty', 'fawningly', 'faze', 'fear', 'fearful', 'fearfully', 'fears', 'fearsome', 'feckless', 'feeble', 'feeblely', 'feebleminded', 'feign', 'feint', 'fell', 'felon', 'felonious', 'ferociously', 'ferocity', 'fetid', 'fever', 'feverish', 'fevers', 'fiasco', 'fib', 'fibber', 'fickle', 'fiction', 'fictional', 'fictitious', 'fidget', 'fidgety', 'fiend', 'fiendish', 'fierce', 'figurehead', 'filth', 'filthy', 'finagle', 'finicky', 'fissures', 'fist', 'flabbergast', 'flabbergasted', 'flagging', 'flagrant', 'flagrantly', 'flair', 'flairs', 'flak', 'flake', 'flakey', 'flakieness', 'flaking', 'flaky', 'flare', 'flares', 'flareup', 'flareups', 'flat-out', 'flaunt', 'flaw', 'flawed', 'flaws', 'flee', 'fleed', 'fleeing', 'fleer', 'flees', 'fleeting', 'flicering', 'flicker', 'flickering', 'flickers', 'flighty', 'flimflam', 'flimsy', 'flirt', 'flirty', 'floored', 'flounder', 'floundering', 'flout', 'fluster', 'foe', 'fool', 'fooled', 'foolhardy', 'foolish', 'foolishly', 'foolishness', 'forbid', 'forbidden', 'forbidding', 'forceful', 'foreboding', 'forebodingly', 'forfeit', 'forged', 'forgetful', 'forgetfully', 'forgetfulness', 'forlorn', 'forlornly', 'forsake', 'forsaken', 'forswear', 'foul', 'foully', 'foulness', 'fractious', 'fractiously', 'fracture', 'fragile', 'fragmented', 'frail', 'frantic', 'frantically', 'franticly', 'fraud', 'fraudulent', 'fraught', 'frazzle', 'frazzled', 'freak', 'freaking', 'freakish', 'freakishly', 'freaks', 'freeze', 'freezes', 'freezing', 'frenetic', 'frenetically', 'frenzied', 'frenzy', 'fret', 'fretful', 'frets', 'friction', 'frictions', 'fried', 'friggin', 'frigging', 'fright', 'frighten', 'frightening', 'frighteningly', 'frightful', 'frightfully', 'frigid', 'frost', 'frown', 'froze', 'frozen', 'fruitless', 'fruitlessly', 'frustrate', 'frustrated', 'frustrates', 'frustrating', 'frustratingly', 'frustration', 'frustrations', 'fuck', 'fucking', 'fudge', 'fugitive', 'full-blown', 'fulminate', 'fumble', 'fume', 'fumes', 'fundamentalism', 'funky', 'funnily', 'funny', 'furious', 'furiously', 'furor', 'fury', 'fuss', 'fussy', 'fustigate', 'fusty', 'futile', 'futilely', 'futility', 'fuzzy', 'gabble', 'gaff', 'gaffe', 'gainsay', 'gainsayer', 'gall', 'galling', 'gallingly', 'galls', 'gangster', 'gape', 'garbage', 'garish', 'gasp', 'gauche', 'gaudy', 'gawk', 'gawky', 'geezer', 'genocide', 'get-rich', 'ghastly', 'ghetto', 'ghosting', 'gibber', 'gibberish', 'gibe', 'giddy', 'gimmick', 'gimmicked', 'gimmicking', 'gimmicks', 'gimmicky', 'glare', 'glaringly', 'glib', 'glibly', 'glitch', 'glitches', 'gloatingly', 'gloom', 'gloomy', 'glower', 'glum', 'glut', 'gnawing', 'goad', 'goading', 'god-awful', 'goof', 'goofy', 'goon', 'gossip', 'graceless', 'gracelessly', 'graft', 'grainy', 'grapple', 'grate', 'grating', 'gravely', 'greasy', 'greed', 'greedy', 'grief', 'grievance', 'grievances', 'grieve', 'grieving', 'grievous', 'grievously', 'grim', 'grimace', 'grind', 'gripe', 'gripes', 'grisly', 'gritty', 'gross', 'grossly', 'grotesque', 'grouch', 'grouchy', 'groundless', 'grouse', 'growl', 'grudge', 'grudges', 'grudging', 'grudgingly', 'gruesome', 'gruesomely', 'gruff', 'grumble', 'grumpier', 'grumpiest', 'grumpily', 'grumpish', 'grumpy', 'guile', 'guilt', 'guiltily', 'guilty', 'gullible', 'gutless', 'gutter', 'hack', 'hacks', 'haggard', 'haggle', 'hairloss', 'halfhearted', 'halfheartedly', 'hallucinate', 'hallucination', 'hamper', 'hampered', 'handicapped', 'hang', 'hangs', 'haphazard', 'hapless', 'harangue', 'harass', 'harassed', 'harasses', 'harassment', 'harboring', 'harbors', 'hard', 'hard-hit', 'hard-line', 'hard-liner', 'hardball', 'harden', 'hardened', 'hardheaded', 'hardhearted', 'hardliner', 'hardliners', 'hardship', 'hardships', 'harm', 'harmed', 'harmful', 'harms', 'harpy', 'harridan', 'harried', 'harrow', 'harsh', 'harshly', 'hasseling', 'hassle', 'hassled', 'hassles', 'haste', 'hastily', 'hasty', 'hate', 'hated', 'hateful', 'hatefully', 'hatefulness', 'hater', 'haters', 'hates', 'hating', 'hatred', 'haughtily', 'haughty', 'haunt', 'haunting', 'havoc', 'hawkish', 'haywire', 'hazard', 'hazardous', 'haze', 'hazy', 'head-aches', 'headache', 'headaches', 'heartbreaker', 'heartbreaking', 'heartbreakingly', 'heartless', 'heathen', 'heavy-handed', 'heavyhearted', 'heck', 'heckle', 'heckled', 'heckles', 'hectic', 'hedge', 'hedonistic', 'heedless', 'hefty', 'hegemonism', 'hegemonistic', 'hegemony', 'heinous', 'hell', 'hell-bent', 'hellion', 'hells', 'helpless', 'helplessly', 'helplessness', 'heresy', 'heretic', 'heretical', 'hesitant', 'hestitant', 'hideous', 'hideously', 'hideousness', 'high-priced', 'hiliarious', 'hinder', 'hindrance', 'hiss', 'hissed', 'hissing', 'ho-hum', 'hoard', 'hoax', 'hobble', 'hogs', 'hollow', 'hoodium', 'hoodwink', 'hooligan', 'hopeless', 'hopelessly', 'hopelessness', 'horde', 'horrendous', 'horrendously', 'horrible', 'horrid', 'horrific', 'horrified', 'horrifies', 'horrify', 'horrifying', 'horrifys', 'hostage', 'hostile', 'hostilities', 'hostility', 'hotbeds', 'hothead', 'hotheaded', 'hothouse', 'hubris', 'huckster', 'hum', 'humid', 'humiliate', 'humiliating', 'humiliation', 'humming', 'hung', 'hurt', 'hurted', 'hurtful', 'hurting', 'hurts', 'hustler', 'hype', 'hypocricy', 'hypocrisy', 'hypocrite', 'hypocrites', 'hypocritical', 'hypocritically', 'hysteria', 'hysteric', 'hysterical', 'hysterically', 'hysterics', 'idiocies', 'idiocy', 'idiot', 'idiotic', 'idiotically', 'idiots', 'idle', 'ignoble', 'ignominious', 'ignominiously', 'ignominy', 'ignorance', 'ignorant', 'ignore', 'ill-advised', 'ill-conceived', 'ill-defined', 'ill-designed', 'ill-fated', 'ill-favored', 'ill-formed', 'ill-mannered', 'ill-natured', 'ill-sorted', 'ill-tempered', 'ill-treated', 'ill-treatment', 'ill-usage', 'ill-used', 'illegal', 'illegally', 'illegitimate', 'illicit', 'illiterate', 'illness', 'illogic', 'illogical', 'illogically', 'illusion', 'illusions', 'illusory', 'imaginary', 'imbalance', 'imbecile', 'imbroglio', 'immaterial', 'immature', 'imminence', 'imminently', 'immobilized', 'immoderate', 'immoderately', 'immodest', 'immoral', 'immorality', 'immorally', 'immovable', 'impair', 'impaired', 'impasse', 'impatience', 'impatient', 'impatiently', 'impeach', 'impedance', 'impede', 'impediment', 'impending', 'impenitent', 'imperfect', 'imperfection', 'imperfections', 'imperfectly', 'imperialist', 'imperil', 'imperious', 'imperiously', 'impermissible', 'impersonal', 'impertinent', 'impetuous', 'impetuously', 'impiety', 'impinge', 'impious', 'implacable', 'implausible', 'implausibly', 'implicate', 'implication', 'implode', 'impolite', 'impolitely', 'impolitic', 'importunate', 'importune', 'impose', 'imposers', 'imposing', 'imposition', 'impossible', 'impossiblity', 'impossibly', 'impotent', 'impoverish', 'impoverished', 'impractical', 'imprecate', 'imprecise', 'imprecisely', 'imprecision', 'imprison', 'imprisonment', 'improbability', 'improbable', 'improbably', 'improper', 'improperly', 'impropriety', 'imprudence', 'imprudent', 'impudence', 'impudent', 'impudently', 'impugn', 'impulsive', 'impulsively', 'impunity', 'impure', 'impurity', 'inability', 'inaccuracies', 'inaccuracy', 'inaccurate', 'inaccurately', 'inaction', 'inactive', 'inadequacy', 'inadequate', 'inadequately', 'inadverent', 'inadverently', 'inadvisable', 'inadvisably', 'inane', 'inanely', 'inappropriate', 'inappropriately', 'inapt', 'inaptitude', 'inarticulate', 'inattentive', 'inaudible', 'incapable', 'incapably', 'incautious', 'incendiary', 'incense', 'incessant', 'incessantly', 'incite', 'incitement', 'incivility', 'inclement', 'incognizant', 'incoherence', 'incoherent', 'incoherently', 'incommensurate', 'incomparable', 'incomparably', 'incompatability', 'incompatibility', 'incompatible', 'incompetence', 'incompetent', 'incompetently', 'incomplete', 'incompliant', 'incomprehensible', 'incomprehension', 'inconceivable', 'inconceivably', 'incongruous', 'incongruously', 'inconsequent', 'inconsequential', 'inconsequentially', 'inconsequently', 'inconsiderate', 'inconsiderately', 'inconsistence', 'inconsistencies', 'inconsistency', 'inconsistent', 'inconsolable', 'inconsolably', 'inconstant', 'inconvenience', 'inconveniently', 'incorrect', 'incorrectly', 'incorrigible', 'incorrigibly', 'incredulous', 'incredulously', 'inculcate', 'indecency', 'indecent', 'indecently', 'indecision', 'indecisive', 'indecisively', 'indecorum', 'indefensible', 'indelicate', 'indeterminable', 'indeterminably', 'indeterminate', 'indifference', 'indifferent', 'indigent', 'indignant', 'indignantly', 'indignation', 'indignity', 'indiscernible', 'indiscreet', 'indiscreetly', 'indiscretion', 'indiscriminate', 'indiscriminately', 'indiscriminating', 'indistinguishable', 'indoctrinate', 'indoctrination', 'indolent', 'indulge', 'ineffective', 'ineffectively', 'ineffectiveness', 'ineffectual', 'ineffectually', 'ineffectualness', 'inefficacious', 'inefficacy', 'inefficiency', 'inefficient', 'inefficiently', 'inelegance', 'inelegant', 'ineligible', 'ineloquent', 'ineloquently', 'inept', 'ineptitude', 'ineptly', 'inequalities', 'inequality', 'inequitable', 'inequitably', 'inequities', 'inescapable', 'inescapably', 'inessential', 'inevitable', 'inevitably', 'inexcusable', 'inexcusably', 'inexorable', 'inexorably', 'inexperience', 'inexperienced', 'inexpert', 'inexpertly', 'inexpiable', 'inexplainable', 'inextricable', 'inextricably', 'infamous', 'infamously', 'infamy', 'infected', 'infection', 'infections', 'inferior', 'inferiority', 'infernal', 'infest', 'infested', 'infidel', 'infidels', 'infiltrator', 'infiltrators', 'infirm', 'inflame', 'inflammation', 'inflammatory', 'inflammed', 'inflated', 'inflationary', 'inflexible', 'inflict', 'infraction', 'infringe', 'infringement', 'infringements', 'infuriate', 'infuriated', 'infuriating', 'infuriatingly', 'inglorious', 'ingrate', 'ingratitude', 'inhibit', 'inhibition', 'inhospitable', 'inhospitality', 'inhuman', 'inhumane', 'inhumanity', 'inimical', 'inimically', 'iniquitous', 'iniquity', 'injudicious', 'injure', 'injurious', 'injury', 'injustice', 'injustices', 'innuendo', 'inoperable', 'inopportune', 'inordinate', 'inordinately', 'insane', 'insanely', 'insanity', 'insatiable', 'insecure', 'insecurity', 'insensible', 'insensitive', 'insensitively', 'insensitivity', 'insidious', 'insidiously', 'insignificance', 'insignificant', 'insignificantly', 'insincere', 'insincerely', 'insincerity', 'insinuate', 'insinuating', 'insinuation', 'insociable', 'insolence', 'insolent', 'insolently', 'insolvent', 'insouciance', 'instability', 'instable', 'instigate', 'instigator', 'instigators', 'insubordinate', 'insubstantial', 'insubstantially', 'insufferable', 'insufferably', 'insufficiency', 'insufficient', 'insufficiently', 'insular', 'insult', 'insulted', 'insulting', 'insultingly', 'insults', 'insupportable', 'insupportably', 'insurmountable', 'insurmountably', 'insurrection', 'intefere', 'inteferes', 'intense', 'interfere', 'interference', 'interferes', 'intermittent', 'interrupt', 'interruption', 'interruptions', 'intimidate', 'intimidating', 'intimidatingly', 'intimidation', 'intolerable', 'intolerablely', 'intolerance', 'intoxicate', 'intractable', 'intransigence', 'intransigent', 'intrude', 'intrusion', 'intrusive', 'inundate', 'inundated', 'invader', 'invalid', 'invalidate', 'invalidity', 'invasive', 'invective', 'inveigle', 'invidious', 'invidiously', 'invidiousness', 'invisible', 'involuntarily', 'involuntary', 'irascible', 'irate', 'irately', 'ire', 'irk', 'irked', 'irking', 'irks', 'irksome', 'irksomely', 'irksomeness', 'irksomenesses', 'ironic', 'ironical', 'ironically', 'ironies', 'irony', 'irragularity', 'irrational', 'irrationalities', 'irrationality', 'irrationally', 'irrationals', 'irreconcilable', 'irrecoverable', 'irrecoverableness', 'irrecoverablenesses', 'irrecoverably', 'irredeemable', 'irredeemably', 'irreformable', 'irregular', 'irregularity', 'irrelevance', 'irrelevant', 'irreparable', 'irreplacible', 'irrepressible', 'irresolute', 'irresolvable', 'irresponsible', 'irresponsibly', 'irretating', 'irretrievable', 'irreversible', 'irritable', 'irritably', 'irritant', 'irritate', 'irritated', 'irritating', 'irritation', 'irritations', 'isolate', 'isolated', 'isolation', 'issue', 'issues', 'itch', 'itching', 'itchy', 'jabber', 'jaded', 'jagged', 'jam', 'jarring', 'jaundiced', 'jealous', 'jealously', 'jealousness', 'jealousy', 'jeer', 'jeering', 'jeeringly', 'jeers', 'jeopardize', 'jeopardy', 'jerk', 'jerky', 'jitter', 'jitters', 'jittery', 'job-killing', 'jobless', 'joke', 'joker', 'jolt', 'judder', 'juddering', 'judders', 'jumpy', 'junk', 'junky', 'junkyard', 'jutter', 'jutters', 'kaput', 'kill', 'killed', 'killer', 'killing', 'killjoy', 'kills', 'knave', 'knife', 'knock', 'knotted', 'kook', 'kooky', 'lack', 'lackadaisical', 'lacked', 'lackey', 'lackeys', 'lacking', 'lackluster', 'lacks', 'laconic', 'lag', 'lagged', 'lagging', 'laggy', 'lags', 'laid-off', 'lambast', 'lambaste', 'lame', 'lame-duck', 'lament', 'lamentable', 'lamentably', 'languid', 'languish', 'languor', 'languorous', 'languorously', 'lanky', 'lapse', 'lapsed', 'lapses', 'lascivious', 'last-ditch', 'latency', 'laughable', 'laughably', 'laughingstock', 'lawbreaker', 'lawbreaking', 'lawless', 'lawlessness', 'layoff', 'layoff-happy', 'lazy', 'leak', 'leakage', 'leakages', 'leaking', 'leaks', 'leaky', 'lech', 'lecher', 'lecherous', 'lechery', 'leech', 'leer', 'leery', 'left-leaning', 'lemon', 'lengthy', 'less-developed', 'lesser-known', 'letch', 'lethal', 'lethargic', 'lethargy', 'lewd', 'lewdly', 'lewdness', 'liability', 'liable', 'liar', 'liars', 'licentious', 'licentiously', 'licentiousness', 'lie', 'lied', 'lier', 'lies', 'life-threatening', 'lifeless', 'limit', 'limitation', 'limitations', 'limited', 'limits', 'limp', 'listless', 'litigious', 'little-known', 'livid', 'lividly', 'loath', 'loathe', 'loathing', 'loathly', 'loathsome', 'loathsomely', 'lone', 'loneliness', 'lonely', 'loner', 'lonesome', 'long-time', 'long-winded', 'longing', 'longingly', 'loophole', 'loopholes', 'loose', 'loot', 'lorn', 'lose', 'loser', 'losers', 'loses', 'losing', 'loss', 'losses', 'lost', 'loud', 'louder', 'lousy', 'loveless', 'lovelorn', 'low-rated', 'lowly', 'ludicrous', 'ludicrously', 'lugubrious', 'lukewarm', 'lull', 'lumpy', 'lunatic', 'lunaticism', 'lurch', 'lure', 'lurid', 'lurk', 'lurking', 'lying', 'macabre', 'mad', 'madden', 'maddening', 'maddeningly', 'madder', 'madly', 'madman', 'madness', 'maladjusted', 'maladjustment', 'malady', 'malaise', 'malcontent', 'malcontented', 'maledict', 'malevolence', 'malevolent', 'malevolently', 'malice', 'malicious', 'maliciously', 'maliciousness', 'malign', 'malignant', 'malodorous', 'maltreatment', 'mangle', 'mangled', 'mangles', 'mangling', 'mania', 'maniac', 'maniacal', 'manic', 'manipulate', 'manipulation', 'manipulative', 'manipulators', 'mar', 'marginal', 'marginally', 'martyrdom', 'martyrdom-seeking', 'mashed', 'massacre', 'massacres', 'matte', 'mawkish', 'mawkishly', 'mawkishness', 'meager', 'meaningless', 'meanness', 'measly', 'meddle', 'meddlesome', 'mediocre', 'mediocrity', 'melancholy', 'melodramatic', 'melodramatically', 'meltdown', 'menace', 'menacing', 'menacingly', 'mendacious', 'mendacity', 'menial', 'merciless', 'mercilessly', 'mess', 'messed', 'messes', 'messing', 'messy', 'midget', 'miff', 'militancy', 'mindless', 'mindlessly', 'mirage', 'mire', 'misalign', 'misaligned', 'misaligns', 'misapprehend', 'misbecome', 'misbecoming', 'misbegotten', 'misbehave', 'misbehavior', 'miscalculate', 'miscalculation', 'miscellaneous', 'mischief', 'mischievous', 'mischievously', 'misconception', 'misconceptions', 'miscreant', 'miscreants', 'misdirection', 'miser', 'miserable', 'miserableness', 'miserably', 'miseries', 'miserly', 'misery', 'misfit', 'misfortune', 'misgiving', 'misgivings', 'misguidance', 'misguide', 'misguided', 'mishandle', 'mishap', 'misinform', 'misinformed', 'misinterpret', 'misjudge', 'misjudgment', 'mislead', 'misleading', 'misleadingly', 'mislike', 'mismanage', 'mispronounce', 'mispronounced', 'mispronounces', 'misread', 'misreading', 'misrepresent', 'misrepresentation', 'miss', 'missed', 'misses', 'misstatement', 'mist', 'mistake', 'mistaken', 'mistakenly', 'mistakes', 'mistified', 'mistress', 'mistrust', 'mistrustful', 'mistrustfully', 'mists', 'misunderstand', 'misunderstanding', 'misunderstandings', 'misunderstood', 'misuse', 'moan', 'mobster', 'mock', 'mocked', 'mockeries', 'mockery', 'mocking', 'mockingly', 'mocks', 'molest', 'molestation', 'monotonous', 'monotony', 'monster', 'monstrosities', 'monstrosity', 'monstrous', 'monstrously', 'moody', 'moot', 'mope', 'morbid', 'morbidly', 'mordant', 'mordantly', 'moribund', 'moron', 'moronic', 'morons', 'mortification', 'mortified', 'mortify', 'mortifying', 'motionless', 'motley', 'mourn', 'mourner', 'mournful', 'mournfully', 'muddle', 'muddy', 'mudslinger', 'mudslinging', 'mulish', 'multi-polarization', 'mundane', 'murder', 'murderer', 'murderous', 'murderously', 'murky', 'muscle-flexing', 'mushy', 'musty', 'mysterious', 'mysteriously', 'mystery', 'mystify', 'myth', 'nag', 'nagging', 'naive', 'naively', 'narrower', 'nastily', 'nastiness', 'nasty', 'naughty', 'nauseate', 'nauseates', 'nauseating', 'nauseatingly', 'na\\\\EFve', 'nebulous', 'nebulously', 'needless', 'needlessly', 'needy', 'nefarious', 'nefariously', 'negate', 'negation', 'negative', 'negatives', 'negativity', 'neglect', 'neglected', 'negligence', 'negligent', 'nemesis', 'nepotism', 'nervous', 'nervously', 'nervousness', 'nettle', 'nettlesome', 'neurotic', 'neurotically', 'niggle', 'niggles', 'nightmare', 'nightmarish', 'nightmarishly', 'nitpick', 'nitpicking', 'noise', 'noises', 'noisier', 'noisy', 'non-confidence', 'nonexistent', 'nonresponsive', 'nonsense', 'nosey', 'notoriety', 'notorious', 'notoriously', 'noxious', 'nuisance', 'numb', 'obese', 'object', 'objection', 'objectionable', 'objections', 'oblique', 'obliterate', 'obliterated', 'oblivious', 'obnoxious', 'obnoxiously', 'obscene', 'obscenely', 'obscenity', 'obscure', 'obscured', 'obscures', 'obscurity', 'obsess', 'obsessive', 'obsessively', 'obsessiveness', 'obsolete', 'obstacle', 'obstinate', 'obstinately', 'obstruct', 'obstructed', 'obstructing', 'obstruction', 'obstructs', 'obtrusive', 'obtuse', 'occlude', 'occluded', 'occludes', 'occluding', 'odd', 'odder', 'oddest', 'oddities', 'oddity', 'oddly', 'odor', 'offence', 'offend', 'offender', 'offending', 'offenses', 'offensive', 'offensively', 'offensiveness', 'officious', 'ominous', 'ominously', 'omission', 'omit', 'one-sided', 'onerous', 'onerously', 'onslaught', 'opinionated', 'opponent', 'opportunistic', 'oppose', 'opposition', 'oppositions', 'oppress', 'oppression', 'oppressive', 'oppressively', 'oppressiveness', 'oppressors', 'ordeal', 'orphan', 'ostracize', 'outbreak', 'outburst', 'outbursts', 'outcast', 'outcry', 'outlaw', 'outmoded', 'outrage', 'outraged', 'outrageous', 'outrageously', 'outrageousness', 'outrages', 'outsider', 'over-acted', 'over-awe', 'over-balanced', 'over-hyped', 'over-priced', 'over-valuation', 'overact', 'overacted', 'overawe', 'overbalance', 'overbalanced', 'overbearing', 'overbearingly', 'overblown', 'overdo', 'overdone', 'overdue', 'overemphasize', 'overheat', 'overkill', 'overloaded', 'overlook', 'overpaid', 'overpayed', 'overplay', 'overpower', 'overpriced', 'overrated', 'overreach', 'overrun', 'overshadow', 'oversight', 'oversights', 'oversimplification', 'oversimplified', 'oversimplify', 'oversize', 'overstate', 'overstated', 'overstatement', 'overstatements', 'overstates', 'overtaxed', 'overthrow', 'overthrows', 'overturn', 'overweight', 'overwhelm', 'overwhelmed', 'overwhelming', 'overwhelmingly', 'overwhelms', 'overzealous', 'overzealously', 'overzelous', 'pain', 'painful', 'painfull', 'painfully', 'pains', 'pale', 'pales', 'paltry', 'pan', 'pandemonium', 'pander', 'pandering', 'panders', 'panic', 'panick', 'panicked', 'panicking', 'panicky', 'paradoxical', 'paradoxically', 'paralize', 'paralyzed', 'paranoia', 'paranoid', 'parasite', 'pariah', 'parody', 'partiality', 'partisan', 'partisans', 'passe', 'passive', 'passiveness', 'pathetic', 'pathetically', 'patronize', 'paucity', 'pauper', 'paupers', 'payback', 'peculiar', 'peculiarly', 'pedantic', 'peeled', 'peeve', 'peeved', 'peevish', 'peevishly', 'penalize', 'penalty', 'perfidious', 'perfidity', 'perfunctory', 'peril', 'perilous', 'perilously', 'perish', 'pernicious', 'perplex', 'perplexed', 'perplexing', 'perplexity', 'persecute', 'persecution', 'pertinacious', 'pertinaciously', 'pertinacity', 'perturb', 'perturbed', 'pervasive', 'perverse', 'perversely', 'perversion', 'perversity', 'pervert', 'perverted', 'perverts', 'pessimism', 'pessimistic', 'pessimistically', 'pest', 'pestilent', 'petrified', 'petrify', 'pettifog', 'petty', 'phobia', 'phobic', 'phony', 'picket', 'picketed', 'picketing', 'pickets', 'picky', 'pig', 'pigs', 'pillage', 'pillory', 'pimple', 'pinch', 'pique', 'pitiable', 'pitiful', 'pitifully', 'pitiless', 'pitilessly', 'pittance', 'pity', 'plagiarize', 'plague', 'plasticky', 'plaything', 'plea', 'pleas', 'plebeian', 'plight', 'plot', 'plotters', 'ploy', 'plunder', 'plunderer', 'pointless', 'pointlessly', 'poison', 'poisonous', 'poisonously', 'pokey', 'poky', 'polarisation', 'polemize', 'pollute', 'polluter', 'polluters', 'polution', 'pompous', 'poor', 'poorer', 'poorest', 'poorly', 'posturing', 'pout', 'poverty', 'powerless', 'prate', 'pratfall', 'prattle', 'precarious', 'precariously', 'precipitate', 'precipitous', 'predatory', 'predicament', 'prejudge', 'prejudice', 'prejudices', 'prejudicial', 'premeditated', 'preoccupy', 'preposterous', 'preposterously', 'presumptuous', 'presumptuously', 'pretence', 'pretend', 'pretense', 'pretentious', 'pretentiously', 'prevaricate', 'pricey', 'pricier', 'prick', 'prickle', 'prickles', 'prideful', 'prik', 'primitive', 'prison', 'prisoner', 'problem', 'problematic', 'problems', 'procrastinate', 'procrastinates', 'procrastination', 'profane', 'profanity', 'prohibit', 'prohibitive', 'prohibitively', 'propaganda', 'propagandize', 'proprietary', 'prosecute', 'protest', 'protested', 'protesting', 'protests', 'protracted', 'provocation', 'provocative', 'provoke', 'pry', 'pugnacious', 'pugnaciously', 'pugnacity', 'punch', 'punish', 'punishable', 'punitive', 'punk', 'puny', 'puppet', 'puppets', 'puzzled', 'puzzlement', 'puzzling', 'quack', 'qualm', 'qualms', 'quandary', 'quarrel', 'quarrellous', 'quarrellously', 'quarrels', 'quarrelsome', 'quash', 'queer', 'questionable', 'quibble', 'quibbles', 'quitter', 'rabid', 'racism', 'racist', 'racists', 'racy', 'radical', 'radicalization', 'radically', 'radicals', 'rage', 'ragged', 'raging', 'rail', 'raked', 'rampage', 'rampant', 'ramshackle', 'rancor', 'randomly', 'rankle', 'rant', 'ranted', 'ranting', 'rantingly', 'rants', 'rape', 'raped', 'raping', 'rascal', 'rascals', 'rash', 'rattle', 'rattled', 'rattles', 'ravage', 'raving', 'reactionary', 'rebellious', 'rebuff', 'rebuke', 'recalcitrant', 'recant', 'recession', 'recessionary', 'reckless', 'recklessly', 'recklessness', 'recoil', 'recourses', 'redundancy', 'redundant', 'refusal', 'refuse', 'refused', 'refuses', 'refusing', 'refutation', 'refute', 'refuted', 'refutes', 'refuting', 'regress', 'regression', 'regressive', 'regret', 'regreted', 'regretful', 'regretfully', 'regrets', 'regrettable', 'regrettably', 'regretted', 'reject', 'rejected', 'rejecting', 'rejection', 'rejects', 'relapse', 'relentless', 'relentlessly', 'relentlessness', 'reluctance', 'reluctant', 'reluctantly', 'remorse', 'remorseful', 'remorsefully', 'remorseless', 'remorselessly', 'remorselessness', 'renounce', 'renunciation', 'repel', 'repetitive', 'reprehensible', 'reprehensibly', 'reprehension', 'reprehensive', 'repress', 'repression', 'repressive', 'reprimand', 'reproach', 'reproachful', 'reprove', 'reprovingly', 'repudiate', 'repudiation', 'repugn', 'repugnance', 'repugnant', 'repugnantly', 'repulse', 'repulsed', 'repulsing', 'repulsive', 'repulsively', 'repulsiveness', 'resent', 'resentful', 'resentment', 'resignation', 'resigned', 'resistance', 'restless', 'restlessness', 'restrict', 'restricted', 'restriction', 'restrictive', 'resurgent', 'retaliate', 'retaliatory', 'retard', 'retarded', 'retardedness', 'retards', 'reticent', 'retract', 'retreat', 'retreated', 'revenge', 'revengeful', 'revengefully', 'revert', 'revile', 'reviled', 'revoke', 'revolt', 'revolting', 'revoltingly', 'revulsion', 'revulsive', 'rhapsodize', 'rhetoric', 'rhetorical', 'ricer', 'ridicule', 'ridicules', 'ridiculous', 'ridiculously', 'rife', 'rift', 'rifts', 'rigid', 'rigidity', 'rigidness', 'rile', 'riled', 'rip', 'rip-off', 'ripoff', 'ripped', 'risk', 'risks', 'risky', 'rival', 'rivalry', 'roadblocks', 'rocky', 'rogue', 'rollercoaster', 'rot', 'rotten', 'rough', 'rremediable', 'rubbish', 'rude', 'rue', 'ruffian', 'ruffle', 'ruin', 'ruined', 'ruining', 'ruinous', 'ruins', 'rumbling', 'rumor', 'rumors', 'rumours', 'rumple', 'run-down', 'runaway', 'rupture', 'rust', 'rusts', 'rusty', 'rut', 'ruthless', 'ruthlessly', 'ruthlessness', 'ruts', 'sabotage', 'sack', 'sacrificed', 'sad', 'sadden', 'sadly', 'sadness', 'sag', 'sagged', 'sagging', 'saggy', 'sags', 'salacious', 'sanctimonious', 'sap', 'sarcasm', 'sarcastic', 'sarcastically', 'sardonic', 'sardonically', 'sass', 'satirical', 'satirize', 'savage', 'savaged', 'savagery', 'savages', 'scaly', 'scam', 'scams', 'scandal', 'scandalize', 'scandalized', 'scandalous', 'scandalously', 'scandals', 'scandel', 'scandels', 'scant', 'scapegoat', 'scar', 'scarce', 'scarcely', 'scarcity', 'scare', 'scared', 'scarier', 'scariest', 'scarily', 'scarred', 'scars', 'scary', 'scathing', 'scathingly', 'sceptical', 'scoff', 'scoffingly', 'scold', 'scolded', 'scolding', 'scoldingly', 'scorching', 'scorchingly', 'scorn', 'scornful', 'scornfully', 'scoundrel', 'scourge', 'scowl', 'scramble', 'scrambled', 'scrambles', 'scrambling', 'scrap', 'scratch', 'scratched', 'scratches', 'scratchy', 'scream', 'screech', 'screw-up', 'screwed', 'screwed-up', 'screwy', 'scuff', 'scuffs', 'scum', 'scummy', 'second-class', 'second-tier', 'secretive', 'sedentary', 'seedy', 'seethe', 'seething', 'self-coup', 'self-criticism', 'self-defeating', 'self-destructive', 'self-humiliation', 'self-interest', 'self-interested', 'self-serving', 'selfinterested', 'selfish', 'selfishly', 'selfishness', 'semi-retarded', 'senile', 'sensationalize', 'senseless', 'senselessly', 'seriousness', 'sermonize', 'servitude', 'set-up', 'setback', 'setbacks', 'sever', 'severe', 'severity', 'sh*t', 'shabby', 'shadowy', 'shady', 'shake', 'shaky', 'shallow', 'sham', 'shambles', 'shame', 'shameful', 'shamefully', 'shamefulness', 'shameless', 'shamelessly', 'shamelessness', 'shark', 'sharply', 'shatter', 'shemale', 'shimmer', 'shimmy', 'shipwreck', 'shirk', 'shirker', 'shit', 'shiver', 'shock', 'shocked', 'shocking', 'shockingly', 'shoddy', 'short-lived', 'shortage', 'shortchange', 'shortcoming', 'shortcomings', 'shortness', 'shortsighted', 'shortsightedness', 'showdown', 'shrew', 'shriek', 'shrill', 'shrilly', 'shrivel', 'shroud', 'shrouded', 'shrug', 'shun', 'shunned', 'sick', 'sicken', 'sickening', 'sickeningly', 'sickly', 'sickness', 'sidetrack', 'sidetracked', 'siege', 'sillily', 'silly', 'simplistic', 'simplistically', 'sin', 'sinful', 'sinfully', 'sinister', 'sinisterly', 'sink', 'sinking', 'skeletons', 'skeptic', 'skeptical', 'skeptically', 'skepticism', 'sketchy', 'skimpy', 'skinny', 'skittish', 'skittishly', 'skulk', 'slack', 'slander', 'slanderer', 'slanderous', 'slanderously', 'slanders', 'slap', 'slashing', 'slaughter', 'slaughtered', 'slave', 'slaves', 'sleazy', 'slime', 'slog', 'slogged', 'slogging', 'slogs', 'sloooooooooooooow', 'sloooow', 'slooow', 'sloow', 'sloppily', 'sloppy', 'sloth', 'slothful', 'slow', 'slow-moving', 'slowed', 'slower', 'slowest', 'slowly', 'sloww', 'slowww', 'slowwww', 'slug', 'sluggish', 'slump', 'slumping', 'slumpping', 'slur', 'slut', 'sluts', 'sly', 'smack', 'smallish', 'smash', 'smear', 'smell', 'smelled', 'smelling', 'smells', 'smelly', 'smelt', 'smoke', 'smokescreen', 'smolder', 'smoldering', 'smother', 'smoulder', 'smouldering', 'smudge', 'smudged', 'smudges', 'smudging', 'smug', 'smugly', 'smut', 'smuttier', 'smuttiest', 'smutty', 'snag', 'snagged', 'snagging', 'snags', 'snappish', 'snappishly', 'snare', 'snarky', 'snarl', 'sneak', 'sneakily', 'sneaky', 'sneer', 'sneering', 'sneeringly', 'snob', 'snobbish', 'snobby', 'snobish', 'snobs', 'snub', 'so-cal', 'soapy', 'sob', 'sober', 'sobering', 'solemn', 'solicitude', 'somber', 'sore', 'sorely', 'soreness', 'sorrow', 'sorrowful', 'sorrowfully', 'sorry', 'sour', 'sourly', 'spade', 'spank', 'spendy', 'spew', 'spewed', 'spewing', 'spews', 'spilling', 'spinster', 'spiritless', 'spite', 'spiteful', 'spitefully', 'spitefulness', 'splatter', 'split', 'splitting', 'spoil', 'spoilage', 'spoilages', 'spoiled', 'spoilled', 'spoils', 'spook', 'spookier', 'spookiest', 'spookily', 'spooky', 'spoon-fed', 'spoon-feed', 'spoonfed', 'sporadic', 'spotty', 'spurious', 'spurn', 'sputter', 'squabble', 'squabbling', 'squander', 'squash', 'squeak', 'squeaks', 'squeaky', 'squeal', 'squealing', 'squeals', 'squirm', 'stab', 'stagnant', 'stagnate', 'stagnation', 'staid', 'stain', 'stains', 'stale', 'stalemate', 'stall', 'stalls', 'stammer', 'stampede', 'standstill', 'stark', 'starkly', 'startle', 'startling', 'startlingly', 'starvation', 'starve', 'static', 'steal', 'stealing', 'steals', 'steep', 'steeply', 'stench', 'stereotype', 'stereotypical', 'stereotypically', 'stern', 'stew', 'sticky', 'stiff', 'stiffness', 'stifle', 'stifling', 'stiflingly', 'stigma', 'stigmatize', 'sting', 'stinging', 'stingingly', 'stingy', 'stink', 'stinks', 'stodgy', 'stole', 'stolen', 'stooge', 'stooges', 'stormy', 'straggle', 'straggler', 'strain', 'strained', 'straining', 'strange', 'strangely', 'stranger', 'strangest', 'strangle', 'streaky', 'strenuous', 'stress', 'stresses', 'stressful', 'stressfully', 'stricken', 'strict', 'strictly', 'strident', 'stridently', 'strife', 'strike', 'stringent', 'stringently', 'struck', 'struggle', 'struggled', 'struggles', 'struggling', 'strut', 'stubborn', 'stubbornly', 'stubbornness', 'stuck', 'stuffy', 'stumble', 'stumbled', 'stumbles', 'stump', 'stumped', 'stumps', 'stun', 'stunt', 'stunted', 'stupid', 'stupidest', 'stupidity', 'stupidly', 'stupified', 'stupify', 'stupor', 'stutter', 'stuttered', 'stuttering', 'stutters', 'sty', 'stymied', 'sub-par', 'subdued', 'subjected', 'subjection', 'subjugate', 'subjugation', 'submissive', 'subordinate', 'subpoena', 'subpoenas', 'subservience', 'subservient', 'substandard', 'subtract', 'subversion', 'subversive', 'subversively', 'subvert', 'succumb', 'suck', 'sucked', 'sucker', 'sucks', 'sucky', 'sue', 'sued', 'sueing', 'sues', 'suffer', 'suffered', 'sufferer', 'sufferers', 'suffering', 'suffers', 'suffocate', 'sugar-coat', 'sugar-coated', 'sugarcoated', 'suicidal', 'suicide', 'sulk', 'sullen', 'sully', 'sunder', 'sunk', 'sunken', 'superficial', 'superficiality', 'superficially', 'superfluous', 'superstition', 'superstitious', 'suppress', 'suppression', 'surrender', 'susceptible', 'suspect', 'suspicion', 'suspicions', 'suspicious', 'suspiciously', 'swagger', 'swamped', 'sweaty', 'swelled', 'swelling', 'swindle', 'swipe', 'swollen', 'symptom', 'symptoms', 'syndrome', 'taboo', 'tacky', 'taint', 'tainted', 'tamper', 'tangle', 'tangled', 'tangles', 'tank', 'tanked', 'tanks', 'tantrum', 'tardy', 'tarnish', 'tarnished', 'tarnishes', 'tarnishing', 'tattered', 'taunt', 'taunting', 'tauntingly', 'taunts', 'taut', 'tawdry', 'taxing', 'tease', 'teasingly', 'tedious', 'tediously', 'temerity', 'temper', 'tempest', 'temptation', 'tenderness', 'tense', 'tension', 'tentative', 'tentatively', 'tenuous', 'tenuously', 'tepid', 'terrible', 'terribleness', 'terribly', 'terror', 'terror-genic', 'terrorism', 'terrorize', 'testily', 'testy', 'tetchily', 'tetchy', 'thankless', 'thicker', 'thirst', 'thorny', 'thoughtless', 'thoughtlessly', 'thoughtlessness', 'thrash', 'threat', 'threaten', 'threatening', 'threats', 'threesome', 'throb', 'throbbed', 'throbbing', 'throbs', 'throttle', 'thug', 'thumb-down', 'thumbs-down', 'thwart', 'time-consuming', 'timid', 'timidity', 'timidly', 'timidness', 'tin-y', 'tingled', 'tingling', 'tired', 'tiresome', 'tiring', 'tiringly', 'toil', 'toll', 'top-heavy', 'topple', 'torment', 'tormented', 'torrent', 'tortuous', 'torture', 'tortured', 'tortures', 'torturing', 'torturous', 'torturously', 'totalitarian', 'touchy', 'toughness', 'tout', 'touted', 'touts', 'toxic', 'traduce', 'tragedy', 'tragic', 'tragically', 'traitor', 'traitorous', 'traitorously', 'tramp', 'trample', 'transgress', 'transgression', 'trap', 'traped', 'trapped', 'trash', 'trashed', 'trashy', 'trauma', 'traumatic', 'traumatically', 'traumatize', 'traumatized', 'travesties', 'travesty', 'treacherous', 'treacherously', 'treachery', 'treason', 'treasonous', 'trick', 'tricked', 'trickery', 'tricky', 'trivial', 'trivialize', 'trouble', 'troubled', 'troublemaker', 'troubles', 'troublesome', 'troublesomely', 'troubling', 'troublingly', 'truant', 'tumble', 'tumbled', 'tumbles', 'tumultuous', 'turbulent', 'turmoil', 'twist', 'twisted', 'twists', 'two-faced', 'two-faces', 'tyrannical', 'tyrannically', 'tyranny', 'tyrant', 'ugh', 'uglier', 'ugliest', 'ugliness', 'ugly', 'ulterior', 'ultimatum', 'ultimatums', 'ultra-hardline', 'un-viewable', 'unable', 'unacceptable', 'unacceptablely', 'unacceptably', 'unaccessible', 'unaccustomed', 'unachievable', 'unaffordable', 'unappealing', 'unattractive', 'unauthentic', 'unavailable', 'unavoidably', 'unbearable', 'unbearablely', 'unbelievable', 'unbelievably', 'uncaring', 'uncertain', 'uncivil', 'uncivilized', 'unclean', 'unclear', 'uncollectible', 'uncomfortable', 'uncomfortably', 'uncomfy', 'uncompetitive', 'uncompromising', 'uncompromisingly', 'unconfirmed', 'unconstitutional', 'uncontrolled', 'unconvincing', 'unconvincingly', 'uncooperative', 'uncouth', 'uncreative', 'undecided', 'undefined', 'undependability', 'undependable', 'undercut', 'undercuts', 'undercutting', 'underdog', 'underestimate', 'underlings', 'undermine', 'undermined', 'undermines', 'undermining', 'underpaid', 'underpowered', 'undersized', 'undesirable', 'undetermined', 'undid', 'undignified', 'undissolved', 'undocumented', 'undone', 'undue', 'unease', 'uneasily', 'uneasiness', 'uneasy', 'uneconomical', 'unemployed', 'unequal', 'unethical', 'uneven', 'uneventful', 'unexpected', 'unexpectedly', 'unexplained', 'unfairly', 'unfaithful', 'unfaithfully', 'unfamiliar', 'unfavorable', 'unfeeling', 'unfinished', 'unfit', 'unforeseen', 'unforgiving', 'unfortunate', 'unfortunately', 'unfounded', 'unfriendly', 'unfulfilled', 'unfunded', 'ungovernable', 'ungrateful', 'unhappily', 'unhappiness', 'unhappy', 'unhealthy', 'unhelpful', 'unilateralism', 'unimaginable', 'unimaginably', 'unimportant', 'uninformed', 'uninsured', 'unintelligible', 'unintelligile', 'unipolar', 'unjust', 'unjustifiable', 'unjustifiably', 'unjustified', 'unjustly', 'unkind', 'unkindly', 'unknown', 'unlamentable', 'unlamentably', 'unlawful', 'unlawfully', 'unlawfulness', 'unleash', 'unlicensed', 'unlikely', 'unlucky', 'unmoved', 'unnatural', 'unnaturally', 'unnecessary', 'unneeded', 'unnerve', 'unnerved', 'unnerving', 'unnervingly', 'unnoticed', 'unobserved', 'unorthodox', 'unorthodoxy', 'unpleasant', 'unpleasantries', 'unpopular', 'unpredictable', 'unprepared', 'unproductive', 'unprofitable', 'unprove', 'unproved', 'unproven', 'unproves', 'unproving', 'unqualified', 'unravel', 'unraveled', 'unreachable', 'unreadable', 'unrealistic', 'unreasonable', 'unreasonably', 'unrelenting', 'unrelentingly', 'unreliability', 'unreliable', 'unresolved', 'unresponsive', 'unrest', 'unruly', 'unsafe', 'unsatisfactory', 'unsavory', 'unscrupulous', 'unscrupulously', 'unsecure', 'unseemly', 'unsettle', 'unsettled', 'unsettling', 'unsettlingly', 'unskilled', 'unsophisticated', 'unsound', 'unspeakable', 'unspeakablely', 'unspecified', 'unstable', 'unsteadily', 'unsteadiness', 'unsteady', 'unsuccessful', 'unsuccessfully', 'unsupported', 'unsupportive', 'unsure', 'unsuspecting', 'unsustainable', 'untenable', 'untested', 'unthinkable', 'unthinkably', 'untimely', 'untouched', 'untrue', 'untrustworthy', 'untruthful', 'unusable', 'unusably', 'unuseable', 'unuseably', 'unusual', 'unusually', 'unviewable', 'unwanted', 'unwarranted', 'unwatchable', 'unwelcome', 'unwell', 'unwieldy', 'unwilling', 'unwillingly', 'unwillingness', 'unwise', 'unwisely', 'unworkable', 'unworthy', 'unyielding', 'upbraid', 'upheaval', 'uprising', 'uproar', 'uproarious', 'uproariously', 'uproarous', 'uproarously', 'uproot', 'upset', 'upseting', 'upsets', 'upsetting', 'upsettingly', 'urgent', 'useless', 'usurp', 'usurper', 'utterly', 'vagrant', 'vague', 'vagueness', 'vain', 'vainly', 'vanity', 'vehement', 'vehemently', 'vengeance', 'vengeful', 'vengefully', 'vengefulness', 'venom', 'venomous', 'venomously', 'vent', 'vestiges', 'vex', 'vexation', 'vexing', 'vexingly', 'vibrate', 'vibrated', 'vibrates', 'vibrating', 'vibration', 'vice', 'vicious', 'viciously', 'viciousness', 'victimize', 'vile', 'vileness', 'vilify', 'villainous', 'villainously', 'villains', 'villian', 'villianous', 'villianously', 'villify', 'vindictive', 'vindictively', 'vindictiveness', 'violate', 'violation', 'violator', 'violators', 'violent', 'violently', 'viper', 'virulence', 'virulent', 'virulently', 'virus', 'vociferous', 'vociferously', 'volatile', 'volatility', 'vomit', 'vomited', 'vomiting', 'vomits', 'vulgar', 'vulnerable', 'wack', 'wail', 'wallow', 'wane', 'waning', 'wanton', 'war-like', 'warily', 'wariness', 'warlike', 'warned', 'warning', 'warp', 'warped', 'wary', 'washed-out', 'waste', 'wasted', 'wasteful', 'wastefulness', 'wasting', 'water-down', 'watered-down', 'wayward', 'weak', 'weaken', 'weakening', 'weaker', 'weakness', 'weaknesses', 'weariness', 'wearisome', 'weary', 'wedge', 'weed', 'weep', 'weird', 'weirdly', 'wheedle', 'whimper', 'whine', 'whining', 'whiny', 'whips', 'whore', 'whores', 'wicked', 'wickedly', 'wickedness', 'wild', 'wildly', 'wiles', 'wilt', 'wily', 'wimpy', 'wince', 'wobble', 'wobbled', 'wobbles', 'woe', 'woebegone', 'woeful', 'woefully', 'womanizer', 'womanizing', 'worn', 'worried', 'worriedly', 'worrier', 'worries', 'worrisome', 'worry', 'worrying', 'worryingly', 'worse', 'worsen', 'worsening', 'worst', 'worthless', 'worthlessly', 'worthlessness', 'wound', 'wounds', 'wrangle', 'wrath', 'wreak', 'wreaked', 'wreaks', 'wreck', 'wrest', 'wrestle', 'wretch', 'wretched', 'wretchedly', 'wretchedness', 'wrinkle', 'wrinkled', 'wrinkles', 'wrip', 'wripped', 'wripping', 'writhe', 'wrong', 'wrongful', 'wrongly', 'wrought', 'yawn', 'zap', 'zapped', 'zaps', 'zealot', 'zealous', 'zealously', 'zombie']\n"
          ],
          "name": "stdout"
        }
      ]
    },
    {
      "cell_type": "code",
      "metadata": {
        "id": "JeVjJIU1izVK"
      },
      "source": [
        "def load_dict_smileys():\n",
        "    return {\n",
        "        \":‑)\":\"smiley\",\n",
        "        \":-]\":\"smiley\",\n",
        "        \":-3\":\"smiley\",\n",
        "        \":->\":\"smiley\",\n",
        "        \"8-)\":\"smiley\",\n",
        "        \":-}\":\"smiley\",\n",
        "        \":)\":\"smiley\",\n",
        "        \":]\":\"smiley\",\n",
        "        \":3\":\"smiley\",\n",
        "        \":>\":\"smiley\",\n",
        "        \"8)\":\"smiley\",\n",
        "        \":}\":\"smiley\",\n",
        "        \":o)\":\"smiley\",\n",
        "        \":c)\":\"smiley\",\n",
        "        \":^)\":\"smiley\",\n",
        "        \"=]\":\"smiley\",\n",
        "        \"=)\":\"smiley\",\n",
        "        \":-))\":\"smiley\",\n",
        "        \":‑D\":\"smiley\",\n",
        "        \"8‑D\":\"smiley\",\n",
        "        \"x‑D\":\"smiley\",\n",
        "        \"X‑D\":\"smiley\",\n",
        "        \":D\":\"smiley\",\n",
        "        \"8D\":\"smiley\",\n",
        "        \"xD\":\"smiley\",\n",
        "        \"XD\":\"smiley\",\n",
        "        \":‑(\":\"sad\",\n",
        "        \":‑c\":\"sad\",\n",
        "        \":‑<\":\"sad\",\n",
        "        \":‑[\":\"sad\",\n",
        "        \":(\":\"sad\",\n",
        "        \":c\":\"sad\",\n",
        "        \":<\":\"sad\",\n",
        "        \":[\":\"sad\",\n",
        "        \":-||\":\"sad\",\n",
        "        \">:[\":\"sad\",\n",
        "        \":{\":\"sad\",\n",
        "        \":@\":\"sad\",\n",
        "        \">:(\":\"sad\",\n",
        "        \":'‑(\":\"sad\",\n",
        "        \":'(\":\"sad\",\n",
        "        \":‑P\":\"playful\",\n",
        "        \"X‑P\":\"playful\",\n",
        "        \"x‑p\":\"playful\",\n",
        "        \":‑p\":\"playful\",\n",
        "        \":‑Þ\":\"playful\",\n",
        "        \":‑þ\":\"playful\",\n",
        "        \":‑b\":\"playful\",\n",
        "        \":P\":\"playful\",\n",
        "        \"XP\":\"playful\",\n",
        "        \"xp\":\"playful\",\n",
        "        \":p\":\"playful\",\n",
        "        \":Þ\":\"playful\",\n",
        "        \":þ\":\"playful\",\n",
        "        \":b\":\"playful\",\n",
        "        \"<3\":\"love\"\n",
        "        }\n",
        "\n",
        "# source: https://en.wikipedia.org/wiki/Contraction_%28grammar%29\n",
        "def load_dict_contractions():\n",
        "    return {\n",
        "        \"ain't\":\"is not\",\n",
        "        \"amn't\":\"am not\",\n",
        "        \"aren't\":\"are not\",\n",
        "        \"can't\":\"cannot\",\n",
        "        \"'cause\":\"because\",\n",
        "        \"couldn't\":\"could not\",\n",
        "        \"couldn't've\":\"could not have\",\n",
        "        \"could've\":\"could have\",\n",
        "        \"daren't\":\"dare not\",\n",
        "        \"daresn't\":\"dare not\",\n",
        "        \"dasn't\":\"dare not\",\n",
        "        \"didn't\":\"did not\",\n",
        "        \"doesn't\":\"does not\",\n",
        "        \"don't\":\"do not\",\n",
        "        \"e'er\":\"ever\",\n",
        "        \"em\":\"them\",\n",
        "        \"everyone's\":\"everyone is\",\n",
        "        \"finna\":\"fixing to\",\n",
        "        \"gimme\":\"give me\",\n",
        "        \"gonna\":\"going to\",\n",
        "        \"gon't\":\"go not\",\n",
        "        \"gotta\":\"got to\",\n",
        "        \"hadn't\":\"had not\",\n",
        "        \"hasn't\":\"has not\",\n",
        "        \"haven't\":\"have not\",\n",
        "        \"he'd\":\"he would\",\n",
        "        \"he'll\":\"he will\",\n",
        "        \"he's\":\"he is\",\n",
        "        \"he've\":\"he have\",\n",
        "        \"how'd\":\"how would\",\n",
        "        \"how'll\":\"how will\",\n",
        "        \"how're\":\"how are\",\n",
        "        \"how's\":\"how is\",\n",
        "        \"I'd\":\"I would\",\n",
        "        \"I'll\":\"I will\",\n",
        "        \"I'm\":\"I am\",\n",
        "        \"I'm'a\":\"I am about to\",\n",
        "        \"I'm'o\":\"I am going to\",\n",
        "        \"isn't\":\"is not\",\n",
        "        \"it'd\":\"it would\",\n",
        "        \"it'll\":\"it will\",\n",
        "        \"it's\":\"it is\",\n",
        "        \"I've\":\"I have\",\n",
        "        \"kinda\":\"kind of\",\n",
        "        \"let's\":\"let us\",\n",
        "        \"mayn't\":\"may not\",\n",
        "        \"may've\":\"may have\",\n",
        "        \"mightn't\":\"might not\",\n",
        "        \"might've\":\"might have\",\n",
        "        \"mustn't\":\"must not\",\n",
        "        \"mustn't've\":\"must not have\",\n",
        "        \"must've\":\"must have\",\n",
        "        \"needn't\":\"need not\",\n",
        "        \"ne'er\":\"never\",\n",
        "        \"o'\":\"of\",\n",
        "        \"o'er\":\"over\",\n",
        "        \"ol'\":\"old\",\n",
        "        \"oughtn't\":\"ought not\",\n",
        "        \"shalln't\":\"shall not\",\n",
        "        \"shan't\":\"shall not\",\n",
        "        \"she'd\":\"she would\",\n",
        "        \"she'll\":\"she will\",\n",
        "        \"she's\":\"she is\",\n",
        "        \"shouldn't\":\"should not\",\n",
        "        \"shouldn't've\":\"should not have\",\n",
        "        \"should've\":\"should have\",\n",
        "        \"somebody's\":\"somebody is\",\n",
        "        \"someone's\":\"someone is\",\n",
        "        \"something's\":\"something is\",\n",
        "        \"that'd\":\"that would\",\n",
        "        \"that'll\":\"that will\",\n",
        "        \"that're\":\"that are\",\n",
        "        \"that's\":\"that is\",\n",
        "        \"there'd\":\"there would\",\n",
        "        \"there'll\":\"there will\",\n",
        "        \"there're\":\"there are\",\n",
        "        \"there's\":\"there is\",\n",
        "        \"these're\":\"these are\",\n",
        "        \"they'd\":\"they would\",\n",
        "        \"they'll\":\"they will\",\n",
        "        \"they're\":\"they are\",\n",
        "        \"they've\":\"they have\",\n",
        "        \"this's\":\"this is\",\n",
        "        \"those're\":\"those are\",\n",
        "        \"'tis\":\"it is\",\n",
        "        \"'twas\":\"it was\",\n",
        "        \"wanna\":\"want to\",\n",
        "        \"wasn't\":\"was not\",\n",
        "        \"we'd\":\"we would\",\n",
        "        \"we'd've\":\"we would have\",\n",
        "        \"we'll\":\"we will\",\n",
        "        \"we're\":\"we are\",\n",
        "        \"weren't\":\"were not\",\n",
        "        \"we've\":\"we have\",\n",
        "        \"what'd\":\"what did\",\n",
        "        \"what'll\":\"what will\",\n",
        "        \"what're\":\"what are\",\n",
        "        \"what's\":\"what is\",\n",
        "        \"what've\":\"what have\",\n",
        "        \"when's\":\"when is\",\n",
        "        \"where'd\":\"where did\",\n",
        "        \"where're\":\"where are\",\n",
        "        \"where's\":\"where is\",\n",
        "        \"where've\":\"where have\",\n",
        "        \"which's\":\"which is\",\n",
        "        \"who'd\":\"who would\",\n",
        "        \"who'd've\":\"who would have\",\n",
        "        \"who'll\":\"who will\",\n",
        "        \"who're\":\"who are\",\n",
        "        \"who's\":\"who is\",\n",
        "        \"who've\":\"who have\",\n",
        "        \"why'd\":\"why did\",\n",
        "        \"why're\":\"why are\",\n",
        "        \"why's\":\"why is\",\n",
        "        \"won't\":\"will not\",\n",
        "        \"wouldn't\":\"would not\",\n",
        "        \"would've\":\"would have\",\n",
        "        \"y'all\":\"you all\",\n",
        "        \"you'd\":\"you would\",\n",
        "        \"you'll\":\"you will\",\n",
        "        \"you're\":\"you are\",\n",
        "        \"you've\":\"you have\",\n",
        "        \"Whatcha\":\"What are you\",\n",
        "        \"luv\":\"love\",\n",
        "        \"sux\":\"sucks\"\n",
        "        }\n",
        "\n",
        "\n",
        "def tweet_cleaning_for_sentiment_analysis(tweet):\n",
        "    # lower case\n",
        "    tweet = tweet.lower()\n",
        "        \n",
        "    # replace contractions\n",
        "    CONTRACTIONS = load_dict_contractions()\n",
        "    tweet = tweet.replace(\"’\",\"'\")\n",
        "    words = tweet.split()\n",
        "    reformed = [CONTRACTIONS[word] if word in CONTRACTIONS else word for word in words]\n",
        "    tweet = \" \".join(reformed)\n",
        "    \n",
        "    # standardizing words\n",
        "    tweet = ''.join(''.join(s)[:2] for _, s in itertools.groupby(tweet))\n",
        "    \n",
        "    # replace emoticons\n",
        "    SMILEY = load_dict_smileys()  \n",
        "    words = tweet.split()\n",
        "    reformed = [SMILEY[word] if word in SMILEY else word for word in words]\n",
        "    tweet = \" \".join(reformed)\n",
        "    \n",
        "    # demojize emojis\n",
        "    tweet = emoji.demojize(tweet)\n",
        "    \n",
        "    # other cleaning\n",
        "    tweet = tweet.replace(\":\",\" \")\n",
        "    tweet = ' '.join(tweet.split())\n",
        "    # replace duplicate characters\n",
        "    tweet = re.sub(r\"(.)\\1{2,}\", r'\\1\\1', tweet)\n",
        "\n",
        "    return tweet\n",
        "\n",
        "def clean(t,l):\n",
        "    for i in range(len(t)):\n",
        "        temp = tweet_cleaning_for_sentiment_analysis(' '.join(t[i])).split(' ')\n",
        "        t[i] = []\n",
        "        j=0\n",
        "        while j<len(temp):\n",
        "            t[i].append(temp[j])\n",
        "            j+=1\n",
        "        \n",
        "    return t, l"
      ],
      "execution_count": null,
      "outputs": []
    },
    {
      "cell_type": "code",
      "metadata": {
        "id": "K2Y4iXKJGbLq",
        "outputId": "c4cc18a6-3f6b-4472-ebb3-8973b4b60fe2",
        "colab": {
          "base_uri": "https://localhost:8080/",
          "height": 54
        }
      },
      "source": [
        "t_train, l_train = clean(t_train, l_train)\n",
        "t_dev, l_dev = clean(t_dev, l_dev)\n",
        "t_test, l_test = clean(t_test, l_test)\n",
        "print(t_train[:10])"
      ],
      "execution_count": null,
      "outputs": [
        {
          "output_type": "stream",
          "text": [
            "[['nen', 'á', 'vist', 'bolest', 'vztek', 'smutek', 'zmatek', 'osam', 'ě', 'lost', 'beznad', 'ě', 'j', 'a', 'nakonec', 'jen', 'klid', 'asi', 'takhle', 'vypad', 'á', 'm', 'ů', 'j', 'life', '..'], ['@', 'nehantics', 'haan', 'yaar', 'neha', 'pensive_face', 'pensive_face', 'kab', 'karega', 'woh', 'post', 'loudly_crying_face', 'usne', 'na', 'sach', 'mein', 'photoshoot', 'karna', 'chahiye', 'phir', 'woh', 'post', 'karega', '…', 'https', '//', 'tco', '/', '5rslsbzntt'], ['@', 'rahulgandhi', 'television', 'media', 'congress', 'ke', 'liye', 'nhi', 'h', '.', 'ye', 'toh', 'aapko', 'pata', 'chal', 'hi', 'gya', 'hoga', '.', 'achha', 'hoga', 'ki', 'congress', 'ke', '…', 'https', '//', 't', '.', 'co', '/', 'hmh8m7ptak'], ['@', 'amitshah', '@', 'narendramodi', 'all', 'india', 'me', 'nrc', 'lagu', 'kare', 'w', 'kashmir', 'se', 'dhara', '370ko', 'khatam', 'kare', 'ham', 'indian', 'ko', 'apse', 'yahi', 'umid', 'hai'], ['@', 'nehr', '_', 'who', '@', 'typomantri', '@', 'anjanaomkashyap', 'pagal', 'hai', 'kya', '?', 'they', 'aren', \"'\", 't', 'real', 'issues', 'mandir', 'is', 'important', 'hindu', 'khatre', 'mei', 'jo', 'hai', '!'], ['@', 'narendramodi', 'jeet', 'ki', 'dher', 'sari', 'subh', 'kamnaye', 'modi', 'ji', 'asha', 'karta', 'hu', 'jistarah', 'desh', 'ki', 'janta', 'ne', 'khas', 'kar', 'bihar', 'ki', 'jant', '…', 'https', '//', 't', 'co', '/', 'xpczj7gfqc'], ['@', 'fakeionist', '@', 'samjhotaxpress', '@', 'plichapel', 'but', 'topi', 'walay', 'babu', 'ki', 'tau', 'new', 'job', 'hougi', 'humey', 'chutti', 'kesay', 'milay', 'gi', '?', 'loudly_crying_face', 'loudly_crying_face'], ['@', 'aajtak', '@', 'syedasimwaqar', '@', 'chitraaum', '@', 'syedzafarbjp', 'ye', 'modi', 'media', 'walon', 'ko', 'bhi', 'maza', 'ata', 'hai', 'hindu', 'muslim', 'ke', 'debate', 'karne', 'me'], ['@', 'tarekfatah', 'baih', 'tere', 'itjey', 'kya', 'jalti', 'hai', 'pakistan', 'se', '@', 'therealpcb', 'chutiye', 'khelne', 'de', 'na', 'unhe', 'bc', 'tu', 'indian', 'bhi', 'nahi', 'h', '…', 'https', '//', 't', '.', 'co', '/', 'zwvpsnayoe'], ['@', 'desimarthastew', 'hehe', '.', 'i', 'saw', 'that', 'coming', '.', 'and', 'it', \"'\", 's', 'actually', 'from', 'someone', \"'\", 's', 'shaadi', '.', 'star-struck']]\n"
          ],
          "name": "stdout"
        }
      ]
    },
    {
      "cell_type": "code",
      "metadata": {
        "id": "KnLdu9tsIah4",
        "outputId": "fcf28ce8-6aa5-492c-e627-a7c25f86d761",
        "colab": {
          "base_uri": "https://localhost:8080/",
          "height": 34
        }
      },
      "source": [
        "type(t_train)\n",
        "len(t_train)\n",
        "w2v_model = Word2Vec(min_count=10,\n",
        "                     window=3,\n",
        "                     size=300,\n",
        "                     sample=1e-5, \n",
        "                     alpha=0.03, \n",
        "                     min_alpha=0.0007, \n",
        "                     negative=20,\n",
        "                     workers=4)\n",
        "w2v_model.build_vocab(t_train, progress_per=1000)\n",
        "w2v_model.train(t_train, total_examples=w2v_model.corpus_count, epochs=30, report_delay=1)\n",
        "\n",
        "print(w2v_model)"
      ],
      "execution_count": null,
      "outputs": [
        {
          "output_type": "stream",
          "text": [
            "Word2Vec(vocab=3048, size=300, alpha=0.03)\n"
          ],
          "name": "stdout"
        }
      ]
    },
    {
      "cell_type": "code",
      "metadata": {
        "id": "CnDI-HePtJi2",
        "outputId": "84ab1f00-1be4-4d71-c689-9e59c942c7f3",
        "colab": {
          "base_uri": "https://localhost:8080/",
          "height": 1000
        }
      },
      "source": [
        "dir(w2v_model)"
      ],
      "execution_count": null,
      "outputs": [
        {
          "output_type": "execute_result",
          "data": {
            "text/plain": [
              "['__class__',\n",
              " '__contains__',\n",
              " '__delattr__',\n",
              " '__dict__',\n",
              " '__dir__',\n",
              " '__doc__',\n",
              " '__eq__',\n",
              " '__format__',\n",
              " '__ge__',\n",
              " '__getattribute__',\n",
              " '__getitem__',\n",
              " '__gt__',\n",
              " '__hash__',\n",
              " '__init__',\n",
              " '__init_subclass__',\n",
              " '__le__',\n",
              " '__lt__',\n",
              " '__module__',\n",
              " '__ne__',\n",
              " '__new__',\n",
              " '__reduce__',\n",
              " '__reduce_ex__',\n",
              " '__repr__',\n",
              " '__setattr__',\n",
              " '__sizeof__',\n",
              " '__str__',\n",
              " '__subclasshook__',\n",
              " '__weakref__',\n",
              " '_adapt_by_suffix',\n",
              " '_check_input_data_sanity',\n",
              " '_check_training_sanity',\n",
              " '_clear_post_train',\n",
              " '_do_train_epoch',\n",
              " '_do_train_job',\n",
              " '_get_job_params',\n",
              " '_get_thread_working_mem',\n",
              " '_job_producer',\n",
              " '_load_specials',\n",
              " '_log_epoch_end',\n",
              " '_log_epoch_progress',\n",
              " '_log_progress',\n",
              " '_log_train_end',\n",
              " '_minimize_model',\n",
              " '_raw_word_count',\n",
              " '_save_specials',\n",
              " '_set_train_params',\n",
              " '_smart_save',\n",
              " '_train_epoch',\n",
              " '_train_epoch_corpusfile',\n",
              " '_update_job_params',\n",
              " '_worker_loop',\n",
              " '_worker_loop_corpusfile',\n",
              " 'accuracy',\n",
              " 'alpha',\n",
              " 'batch_words',\n",
              " 'build_vocab',\n",
              " 'build_vocab_from_freq',\n",
              " 'callbacks',\n",
              " 'cbow_mean',\n",
              " 'clear_sims',\n",
              " 'compute_loss',\n",
              " 'corpus_count',\n",
              " 'corpus_total_words',\n",
              " 'cum_table',\n",
              " 'delete_temporary_training_data',\n",
              " 'doesnt_match',\n",
              " 'epochs',\n",
              " 'estimate_memory',\n",
              " 'evaluate_word_pairs',\n",
              " 'get_latest_training_loss',\n",
              " 'hashfxn',\n",
              " 'hs',\n",
              " 'init_sims',\n",
              " 'intersect_word2vec_format',\n",
              " 'iter',\n",
              " 'layer1_size',\n",
              " 'load',\n",
              " 'load_word2vec_format',\n",
              " 'log_accuracy',\n",
              " 'max_final_vocab',\n",
              " 'min_alpha',\n",
              " 'min_alpha_yet_reached',\n",
              " 'min_count',\n",
              " 'model_trimmed_post_training',\n",
              " 'most_similar',\n",
              " 'most_similar_cosmul',\n",
              " 'n_similarity',\n",
              " 'negative',\n",
              " 'ns_exponent',\n",
              " 'predict_output_word',\n",
              " 'random',\n",
              " 'reset_from',\n",
              " 'running_training_loss',\n",
              " 'sample',\n",
              " 'save',\n",
              " 'save_word2vec_format',\n",
              " 'score',\n",
              " 'sg',\n",
              " 'similar_by_vector',\n",
              " 'similar_by_word',\n",
              " 'similarity',\n",
              " 'syn0_lockf',\n",
              " 'syn1',\n",
              " 'syn1neg',\n",
              " 'total_train_time',\n",
              " 'train',\n",
              " 'train_count',\n",
              " 'trainables',\n",
              " 'vector_size',\n",
              " 'vocabulary',\n",
              " 'window',\n",
              " 'wmdistance',\n",
              " 'workers',\n",
              " 'wv']"
            ]
          },
          "metadata": {
            "tags": []
          },
          "execution_count": 8
        }
      ]
    },
    {
      "cell_type": "code",
      "metadata": {
        "id": "4u7WhKgCYmzG",
        "outputId": "c25e12a0-9c1b-4f0d-d9d4-90220d490e9b",
        "colab": {
          "base_uri": "https://localhost:8080/",
          "height": 241
        }
      },
      "source": [
        "w2v_model.wv.most_similar(positive=[\"nhi\"])"
      ],
      "execution_count": null,
      "outputs": [
        {
          "output_type": "stream",
          "text": [
            "/usr/local/lib/python3.6/dist-packages/gensim/matutils.py:737: FutureWarning: Conversion of the second argument of issubdtype from `int` to `np.signedinteger` is deprecated. In future, it will be treated as `np.int64 == np.dtype(int).type`.\n",
            "  if np.issubdtype(vec.dtype, np.int):\n"
          ],
          "name": "stderr"
        },
        {
          "output_type": "execute_result",
          "data": {
            "text/plain": [
              "[('jo', 0.9998414516448975),\n",
              " ('kar', 0.9997981786727905),\n",
              " ('koi', 0.9996415376663208),\n",
              " ('log', 0.9996316432952881),\n",
              " ('hain', 0.9995973110198975),\n",
              " ('bjp', 0.9995007514953613),\n",
              " ('desh', 0.9994908571243286),\n",
              " ('na', 0.9993772506713867),\n",
              " ('tha', 0.9992453455924988),\n",
              " ('wo', 0.9990434050559998)]"
            ]
          },
          "metadata": {
            "tags": []
          },
          "execution_count": 9
        }
      ]
    },
    {
      "cell_type": "code",
      "metadata": {
        "id": "cxhnNtA0aq1-"
      },
      "source": [
        "model = KMeans(n_clusters=3, max_iter=1000, random_state=True, n_init=100).fit(X=w2v_model.wv.vectors)\n",
        "negative_cluster_center = model.cluster_centers_[0]\n",
        "neutral_cluster_center = model.cluster_centers_[1]\n",
        "positive_cluster_center = model.cluster_centers_[2]"
      ],
      "execution_count": null,
      "outputs": []
    },
    {
      "cell_type": "code",
      "metadata": {
        "id": "wIcjc1pkjpax",
        "outputId": "a02b49ed-27e9-479a-db3e-7a74157468cb",
        "colab": {
          "base_uri": "https://localhost:8080/",
          "height": 564
        }
      },
      "source": [
        "words = pd.DataFrame(w2v_model.wv.vocab.keys())\n",
        "all_words = list(words[0])\n",
        "print(all_words)\n",
        "print(words.head())\n",
        "words.columns = ['words']\n",
        "words['vectors'] = words['words'].apply(lambda x: w2v_model.wv[f'{x}'])\n",
        "\n",
        "words['cluster'] = words['vectors'].apply(lambda x: model.predict([np.array(x)]))\n",
        "words.cluster = words['cluster'].apply(lambda x: x[0])\n",
        "print(words.head())\n",
        "\n",
        "words['closeness_score'] = words.apply(lambda x: 1/(model.transform([x.vectors]).min()), axis=1)\n",
        "print(words.head())\n",
        "\n",
        "words.set_index('words',inplace=True)\n",
        "print(words.head())\n",
        "print(words.loc['lost']['cluster'])"
      ],
      "execution_count": null,
      "outputs": [
        {
          "output_type": "stream",
          "text": [
            "['á', 'lost', 'j', 'a', 'm', 'life', '..', '@', 'haan', 'yaar', 'pensive_face', 'kab', 'karega', 'woh', 'post', 'loudly_crying_face', 'usne', 'na', 'sach', 'mein', 'karna', 'chahiye', 'phir', '…', 'https', '//', 'tco', '/', 'rahulgandhi', 'media', 'congress', 'ke', 'liye', 'nhi', 'h', '.', 'ye', 'toh', 'aapko', 'pata', 'chal', 'hi', 'gya', 'hoga', 'achha', 'ki', 't', 'co', 'amitshah', 'narendramodi', 'all', 'india', 'me', 'kare', 'w', 'kashmir', 'se', 'dhara', 'khatam', 'ham', 'indian', 'ko', 'apse', 'yahi', 'umid', 'hai', 'nehr', '_', 'who', 'anjanaomkashyap', 'pagal', 'kya', '?', 'they', \"'\", 'real', 'mandir', 'is', 'important', 'hindu', 'mei', 'jo', '!', 'jeet', 'dher', 'sari', 'subh', 'modi', 'ji', 'asha', 'karta', 'hu', 'desh', 'janta', 'ne', 'kar', 'bihar', 'but', 'walay', 'babu', 'tau', 'new', 'job', 'gi', 'aajtak', 'chitraaum', 'walon', 'bhi', 'maza', 'ata', 'muslim', 'debate', 'karne', 'tarekfatah', 'tere', 'pakistan', 'therealpcb', 'chutiye', 'khelne', 'de', 'unhe', 'bc', 'tu', 'nahi', 'hehe', 'i', 'saw', 'that', 'coming', 'and', 'it', 's', 'actually', 'from', 'someone', 'shaadi', 'star-struck', 'can', 'you', 'answer', 'on', 'each', 'seat', 'one', 'vote', '#', 'aur', 'apne', 'allah', 'pak', 'os', 'k', 'dil', 'ka', 'off', 'nai', 'krta', 'sb', 'ache', 'aor', 'dua', 'ma', 'ho', 'bahut', 'faisla', 'liya', 'ummeed', 'hoon', 'sabhi', 'party', 'rt', 'mera', 'meri', 'bina', 'aye', 'mushkil', 'heart_with_arrow', 'see-no-evil_monkey', 'love', 'u', 'iamsrk', 'red_heart', '!!', 'pm', 'ummid', 'aapke', 'bhut', 'si', 'we', 'face', 'together', 'my', 'money', 'the', 'both', 'of', 'us', 'still', 'waah', 'kisi', 'khub', 'likha', 'khud', 'jaha', 'fir', 'kiya', 'tha', 'aapne', 'aap', 'ba', 'its', 'abe', 'tum', 'flop', 'logo', 'chutiya', 'log', 'ja', 'bad', '__', 'very', 'beautiful', 'eyes', 'shit', 'fuck', 'up', 'haram', 'khor', 'ulta', 'chor', 'mulk', 'bat', 'or', 'har', 'bts', 'army', 'also', 'for', 'looks', 'so', 'smiling_face_with_heart-eyes', 'see', 'their', 'jai', 'shree', 'ram', 'jarurat', 'guruji', 'to', 'pls', 'trust', 'our', 'chalu', 'gaya', 'bjp', 'walo', 'tumhe', 'kuch', 'chut', 'mil', 'raha', 'ya', 'milna', 'q', 'jinko', 'pta', 'wo', 'bhej', 'rahe', 'neta', 'phle', 'f', 'yhi', 'rajya', 'jisme', 'sale', 'harami', 'itne', 'maar', 'rhe', 'dekhna', 'be', 'maybe', \"i'll\", 'will', 'not', 'feel', 'thing', 'duniya', 'koi', 'kabhi', 'hota', 'yar', 'pyar', 'kaho', 'do', 'p', \"i'm\", 'poor', 'happy', 'god', 'with', 'smiling_face_with_halo', 'madam', 'sushmaswaraj', 'always', 'miss', 'as', 'videsh', 'mantri', 'abhisar', 'sharma', 'episode', 'nice', 'sir', 'maan', 'gaye', 'himmat', 'wa', 'theskindoctor13', 'birthday', 'doctor', 'sahab', 'bouquet', 'khush', 'hme', 'aise', 'apni', 'birthday_cake', 'indiatoday', 'teri', 'kimat', 'gayi', 'amit', 'shah', 'soon', 'rubikaliyaquat', 'ek', 'bhe', 'bhai', 'wala', 'sab', 'ker', 'yeh', '..…', 'mamataofficial', 'mamta', 'banerjee', 'jane', 'tumko', 'haar', 'ghum', 'bus', 'b', 'far', 'better', 'than', 'govt', 'if', 'r', 'share', 'your', 'sunoo', 'chanda', 'make', 'parti', 'ha', 'should', 'hope', 'fr', 'best', '-', 'd', 'woo', 'hoo', 'cricket', 'world', 'cup', 'today', 'good', 'luck', 'in', 'st', 'family', 'keh', 'ni', 'cause', 'fake', 'naam', 'sai', 'n', 'pics', 'krti', 'ghr', 'confused_face', 'mp', 'dr', 'g', 'subhkamnaye', 'apna', 'hum', '~', 'back', '100%', 'again', '*', 'arvindkejriwal', 'bheja', 'apke', 'nitin', 'gadkari', 'badhai', 'modiji', 'raj', 'this', 'has', 'famous', 'which', 'favourite', 'an', 'ad', 'anyone', 'damn', 'give', 'lot', 'how', 'work', 'making', 'his', 'then', 'been', 'at', 'rahega', 'lekin', 'pehle', '370', 'samne', 'roti', 'sahi', 'thakur', 'saab', '50', 'saal', 'im', 'proud', 'green_heart', 'congratulations', '+', 'muslims', 'jab', 'unki', 'izzat', 'hone', 'akhileshpsingh', 'hadd', 'pan', 'jail', 'order', 'railway', 'pa', 'vishwas', 'guys', 'want', 'dont', 'even', 'comes', 'dekhe', 'bas', 'hey', 'diye', 'ap', 'he', 'olad', 'pakistani', 'sy', 'krty', 'manakgupta', 'fact', 'check', 'shri', 'out', 'vande', 'mataram', 'day', 'republic', 'hardikpandya7', 'wishes', 'eid', 'mubarak', 'national', 'general', 'madad', 'rss', 'pas', 'rakho', 'kaafi', 'dushman', 'nahin', 'hain', 'kyun', 'karen', 'thinking', 'about', 'something', 'inke', 'pass', 'ab', 'bacha', 'pasand', 'ban', 'no', 'find', 'perfect', 'shoaib100mph', 'match', 'zaror', 'dukh', 'phr', 'khel', 'talent', 'like', 'pleading_face', 'here', 'picture', 'her', 'thank', 'morning', 'kunalkamra88', 'mean', 'problem', 'was', 'being', 'main', 'attention', 'khoon', 'laga', '.…', 'friend', 'maa', 'bless', 'lots', 'iam', 'month', 'ramadan', 'positive', 'heart', 'prayers', 'friends', 'insha', 'guy', 'oye', 'jcb', 'khudai', 'dekh', 'aaya', 'zeenewshindi', 'sudhirchaudhary', 'incindia', 'yadavakhilesh', '&', 'other', 'sirf', 'jaati', 'thi', 'iska', 'ani', 'leader', 'sarkar', 'par', 'gulbukhari', 'apny', 'karo', '2', 'roflgandhi', 'jiski', 'pe', 'aaj', 'mlkhattar', 'name', 'pr', 'pada', 'nagar', 'bank', 'dekho', 'lambaalka', 'jyda', 'gyan', 'democracy', 'band', 'kro', 'thoda', 'dete', 'baat', 'bolte', 'khan', 'raho', 'pray', 'coz', 'know', 'nafrat', 'kis', 'now', 'too', 'much', 'sare', 'tweet', 'arsal', 'support', 'angry_face', 'man', 'chai', 'bana', 'sakti', 'liy', 'sardanarohit', 'salo', 'case', 'aata', 'inko', 'public', 'paise', 'derasachasauda', 'gurmeetramrahim', 'dhan', 'satguru', 'tera', 'aasra', 'she', 'bachi', 'maal', '(', 'rehmat', ')', 'kch', 'mat', 'wese', 'shakal', 'aesa', 'matter', 'face_with_tongue', 'every', 'single', 'amazing', 'grinning_face_with_smiling_eyes', 'jindabaad', 'entertainment', 'kaun', 'dega', 'performance', 'sabse', 'watch', '9', 'kanhaiyakumar', 'uski', 'jaat', 'musalman', 'hoti', 'ready', 'hume', 'soul', 'leke', 'rha', 'face_with_tears_of_joy', 'saale', 'ac', 'baith', 'mt', '@_', 'yogendrayadav', 'aukat', 'c', 'bengal', 'tmc', 'galat', 'app', 'bachane', 'isse', 'liverpool', 'winning', 'them', 'league', 'joke', 'already', 'had', 'pretty', 'girl', 'enjoy', 'jan', 'sharam', 'ppbajpai', 'din', 'fan', 'hote', 'mai', 'dear', 'hugging_face', 'red_heart_selector', 'mere', 'yah', 'tho', 'may', 'rahegi', 'inshallah', 'beingsalmankhan', 'bharatthiseid', 'bharat', 'kiss_mark', 'superb', 'look', 'handsome', 'bohat', 'howa', 'aj', 'kal', 'jao', 'mar', 'bar', 'baba', '2019', 'happiness', 'om', 'please', 'bare', 'kariye', 'parivar', 'wale', 'pareshan', 'rakh', 'kr', 'timesofindia', 'respected', 'rahul', 'great', 'soch', 'same', 'did', '??', 'kind', 'sexy', 'fit', 'jay', 'bali', 'bt', 'last', 'hamare', 'kutte', 'entry', 'aisi', 'part', 'sherryontopp', 'tajinderbagga', 'majorpoonia', 'kapilmishra', 'ind', 'bjp4india', 'inse', 'payega', '12', 'year', 'old', 'record', 'watching', 'times', 'biggest', 'yadavdimples', 'sorry', 'health', 'department', 'hospital', 'prakash', 'dada', 'unse', 'kehna', 'chahti', 'hun', 'baar', 'v', 'le', 'easy', 'movie', 'ny', 'nh', 'election', 'gali', 'ak', 'kaise', 'hui', 'bolne', 'pmoindia', 'unke', 'raat', 'lage', 'salman', 'fight', 'scene', 'photo', 'by', 'aulad', 'bs', 'bhakt', 'arey', 'didi', 'gyi', 'bechari', '5', 'tweets', 'chalo', '100', 'followers', 'krna', 'warna', 'ga', 'jisko', 'follow', 'google', 'when', 're', 'narendra', 'shubh', 'apka', 'e', 'talented', 'such', 'person', 'smiling_face_with_3_hearts', 'continue', 'lagana', 'pyaar', 'sonytv', 'srbachchan', 'naveen', 'odisha', 'thanks', 'hamara', 'folded_hands', 'swami', 'pubg', 'use', 'dm', 'society', 'accept', 'namaskar', 'tak', 'light', 'saath', 'deshdrohi', 'dur', 'bacho', 'cannot', 'say', 'kharab', 'uppolice', 'ghatiya', 'rah', 'paas', 'kisan', 'yojna', 'diya', 'dene', 'lfc', 'celebrate', 'star', 'tonight', 'o', 'london', 'join', 'tomorrow', 'opening', 'night', '\"', 'gandu', 'harne', 'wali', 'sub', 'tarah', 'bhau', 'iss', 'budget', 'kaam', 'set', 'grinning_face_with_sweat', 'piyushgoyal', 'dal', 'nd', 'police', 'loot', 'get', 'just', 'funny', 'sense', 'anyway', 'those', 'kids', 'ah', 'cute', 'these', 'two', 'grinning_squinting_face', 'two_hearts', 'supriyobabul', 'pranam', 'seen', 'railwayseva', 'abhi', 'voice', 'where', 'finally', \"''\", 'journey', 'less', 'ask', 'leave', 'reason', 'hello', 'what', 'side', 'west', 'through', 'country', 'acharyapramodk', 'acharya', 'di', 'gadhe', 'bol', 'sakte', 'kamaalrkhan', 'ajay', 'didn', 'have', 'few', 'movies', 'point', 'akshaykumar', 'doing', 'wife', 'abi', 'tk', 'namak', 'asadowaisi', 'video', 'sardesairajdeep', 'kitna', 'anti', 'dukan', 'hogaya', 'vikasbha', 'are', 'rate', 'air', 'home', 'yeah', 'does', 'chunaw', 'tension', 'dusra', 'sant', 'kaha', 'any', 'thesamirabbas', 'hamari', 'sakta', 'jahan', 'system', 'hon', 'prime', 'minister', 'victory', 'ur', 'victory_hand', 'aadmi', 'isne', 'wtf', 'fucking', 'imagine', 'baad', 'advance', 'msg', 'send', 'krne', 'cat_face_with_tears_of_joy', 'taraf', 'aane', 'saza', 'l', 'kat', 'shuru', 'hua', 'delhi', 'upar', 'garmi', 'alag', 'rakhi', 'abpnewshindi', 'abpnewstv', 'gandhi', 'chowkidar', 'nara', 'bhari', 'pad', 'badi', 'ise', 'sena', 'dono', 'kyu', 'bola', 'aisa', 'isko', 'srk', 'personality', 'hero', 'role', 'sbse', 'gandi', 'kailashonline', 'bhagwan', 'boht', 'bra', 'th', 'free', 'place', 'official', 'haha', 'yr', 'rhy', 'usi', 'gy', 'shame', 'yrr', 'agar', 'karke', 'usme', 'bohot', 'com', 'tatkal', 'ticket', 'per', 'lagta', 'sarkari', 'honi', 'y', 'lo', 'class', 'excited', 'sam', 'saari', 'result', 'hona', 'cha', 'hard', 'come', 'banane', 'nonsense', 'hate', 'pun', 'president', 'news', 'channel', 'dekhta', 'because', 'samay', 'dhruv', 'rathee', 'bhaiya', 'message', 'rahenge', 'blessing', 've', 'done', 'would', 'die', 'cool', 'literally', 'own', 'pankhuripathak', 'government', 'kyon', 'matlab', 'english', 'karte', 'un', '300', 'rakhe', 'cnbc', 'awaaz', 'buy', 'level', 'bulaya', 'tou', 'kha', 'wish', 'khrab', 'more', 'full', '20', 'crore', 'pure', 'mile', 'vo', 'moment', 'singh', 'says', 'serious', 'loved', 'fav', 'nothing', 'without', 'really', 'grateful', 'isliye', 'kyuki', 'big', 'hahaha', 'nay', 'z', 'sa', 'aukaat', 'lena', 'reallyswara', 'king', 'jaisa', 'es', 'sath', 'social', 'khuda', 'mard', 'spread', 'human', 'power', 'hahahaha', 'mudde', 'bache', 'hee', 'kia', 'rsprasad', '15', 'tickets', 'cong', 'am', 'bbchindi', 'randi', 'humesha', 'around', 'wait', 'pyari', 'myself', 'sambit', '1', 'jigneshmevani80', 'prakashraaj', 'mla', 'lord', 'kitni', 'lagti', 'degree', 'chahye', 'hisab', 'kry', 'inshaallah', 'thought', 'hardikpatel', 'spirit', 'vaise', 'hal', 'dhobi', 'kutta', 'jaisi', 'time', 'rahi', 'jese', 'padh', 'isme', 'lag', '‘', 'true', 'thumbs_up', 'need', 'rehne', 'dijiye', 'rubika', 'bechara', 'bada', 'tumhari', 'samajh', 'bahar', 'jyada', 'dalo', 'go', 'lol', 'ane', 'agle', '7', 'zindabad', 'politics', 'ahh', 'everything', 'next', 'ameen', 'hy', 'bachon', 'chu', 'there', 'people', 'forget', 'blockbuster', 'series', '3', 'usko', 'karwa', 'kam', 'word', 'ku', 'tujhe', 'mtlb', 'katrina', 'jayegi', 'bakchodi', 'lene', 'hawa', 'fans', 'pradesh', 'mila', 'mishra', 'maharaj', 'captain', 'statement', 'rhi', 'pehla', 'buri', 'shi', 'things', 'ppl', 'take', 'su', 'denge', 'uh', 'dhoni', 'iske', 'leaders', 'uncle', 'bnaya', 'dekhte', 'hue', 'saint', 'insan', 'dera', 'yung', 'crush', '“', 'waiting', '”', 'felt', 'ia', 'aapki', 'naman', 'matram', 'mata', 'pouting_face', '1992', 'wc', 'sleepy_face', 'logon', 'el', 'kehne', 'naye', 'islam', 'dar', 'hamesha', 'dna', 'playing', 'baby', 'boy', 'must', 'atulreellife', 'favorite', 'bajrangi', 'film', '5th', 'june', 'well', 'ignore', \"ma'am\", 'change', 'entire', '..!!', 'long', 'during', 'jaise', 'jeeta', 'piche', 'ate', 'likhte', 'askanshul', 'jise', 'mara', 'mullo', 'beti', 'salute', 'why', 'voh', 'itni', 'awesome', 'mohabbat', 'account', '5sal', 'report', 'deta', 'talking', 'jhoot', 'ever', 'made', 'away', 'wrong', 'jit', 'hindustan', 'future', 'mujhe', 'admi', 'looking', 'forward', 'adarsh', 'marne', 'yogi', 'cm', 'bolti', 'jodi', 'pradhan', 'south', 'africa', 'number', 'viswas', 'rohit', 'kah', 'dikha', 'deni', 'pp', 'cheez', 'karlo', 'vivekoberoi', 'actor', 'hit', 'shahid', 'siddiqui', 'baap', 'nam', 'chup', 'bsdk', 'makes', 'swamy39', 'gay', 'tune', 'girls', 'en', 'dan', 'kon', 'ramjaan', 'pura', 'ganga', 'call', 'omg', 'sweet', 'seeing', 'after', 'congrats', 'backhand_index_pointing_right', 'rose', 'sharm', 'pappu', 'priyankagandhi', 'kyoki', 'evm', 'jeete', 'wajah', 'aayi', 'kuchh', 'behan', 'thappad', 'saare', 'bro', 'delete', 'maine', 'banaya', 'amishdevgan', 'opposition', 'chuki', 'slogan', 'dusre', 'political', 'under', 'could', 'offer', 'forever', 'bura', 'yha', 'dekhi', 'jaaye', 'yahan', 'paisa', 'magar', 'wow', 'sharing', 'harkat', 'winking_face_with_tongue', 'han', 'agli', 'eidi', 'agr', 'rolling_on_the_floor_laughing', 'unfollow', 'maryamnsharif', 'aurat', 'hind', 'aapse', 'request', 'game', 'dena', 'corruption', 'nazar', 'ayi', 'yehi', 'jis', 'vipaksh', 'first', 'inspiration', 'hindi', 'language', 'choice', 'waise', 'tab', 'icc', 'cricketworldcup', 'oath', 'via', 'youtube', 'group', 'jagah', 'nawaz', 'dia', 'jald', 'said', 'baki', 'spokesperson', 'tv', 'unko', 'jawab', 'den', 'technicalguruji', 'bass', 'lakin', 'pick', 'pic', 'bna', 'leti', 'sahib', 'met', 'guru', 'form', 'kay', 'bolta', 'bech', 'sha', 'hardik', 'thik', 'start', 'smile', 'naa', 'boys', 'played', 'winking_face', 'pakvwi', 'jake', 'nikal', 'idhar', 'twitter', 'bhag', '@__', 'might', 'way', 'sparkling_heart', 'beaming_face_with_smiling_eyes', 'kuty', 'dum', 'tarha', 'age', 'kai', 'larki', 'almost', 'years', 'confirm', 'team', 'ptm', 'jaye', 'giving', 'jawan', 'exactly', 'season', 'show', 'block', 'jayega', 'definitely', 'healthy', 'waheguru', 'revolving_hearts', 'friday', 'bring', 'peace', 'tabhi', 'bhart', 'waseembadami', 'hein', 'smiling_face_with_smiling_eyes', 'cherry_blossom', 'mam', 'poore', 'kise', 'iqrarulhassan', 'defend', 'vaha', 'haal', 'peaceforchange', 'shabazgil', 'zinda', 'chala', 'rakha', 'samjh', 'khiladi', 'shows', 'kyo', 'faila', 'chahta', 'yaha', 'dance', 'ahmed', 'krte', 'enko', 'bataya', 'bade', 'vi', 'dhoka', 'hae', 'jisne', 'jitaya', 'tujh', 'dalal', 'sala', 'itna', 'hmoindia', 'chota', 'sharif', 'iski', 'nasal', 'pti', 'mey', 'banaye', 'bakwas', 'respect', 'simple', 'milega', 'aab', '2014', 'against', 'lye', 'dekha', 'fire', 'apki', 'kudos', 'pehly', 'thy', 'jarur', 'solve', 'karenge', 'apko', 'dinner', 'char', 'sonamjain001', 'aimim', 'OK_hand', 'hundred_points', 'music', 'ali', 'stories', 'imrankhanpti', 'sohne', 'sewa', 'simran', 'parmarth', 'waale', 'ghanta', 'aya', 'chance', 'price', 'feku', 'gai', 'puri', 'help', 'corrupt', 'kerte', 'lia', 'lanat', 'te', 'patwari', 'bbhuttozardari', 'almighty', 'papa', 'plz', 'sumiran', 'many', 'never', 'rssurjewala', 'road', 'ashutosh83b', 'drkumarvishwas', 'aamaadmiparty', 'ammi', '**', 'thinker', 'win', 'jaan', 'dosti', 'sirpareshrawal', 'bhaijaan', 'yours', 'body', 'incmp', 'step', 'mukt', 'pay', 'chamcha', 'bta', 'du', 'khilaaf', 'chara', 'jumma', 'itz', 'gaand', 'chali', 'aik', 'zaroorat', 'hay', 'baqi', 'special', 'him', 'dekhiye', 'train', 'hatya', 'dhayan', 'seva', 'tell', 'face_blowing_a_kiss', 'women', 'ta', 'mahila', 'karya', 'gujarat', 'mind', 'hear', 'shayad', 'janam', 'offl', 'mujy', 'lgta', 'going', 'dj', 'ra', 'sad', 'son', 'warm', 'lovely', 'means', 'hath', 'chori', 'karachi', 'suwar', 'bachay', 'yes', 'smiling_face_with_sunglasses', 'Pakistan', 'called', 'chand', 'khane', 'bhee', 'terrorism', 'dunya', 'badnam', 'state', 'saaf', 'kara', 'patrag', 'chuka', '—', 'super', 'kami', 'aa', 'bhakto', 'sawal', 'mann', 'knows', 'act', 'ashoswai', 'bara', 'madarchod', 'jaldi', 'bi', 'socha', 'wohi', 'gud', 'live', 'duaa', 'namaz', 'hn', 'la', 'hei', 'wants', 'payal', 'rohatgi', 'bilkul', 'accha', '18', 'gae', 'weary_face', 'yaad', 'bhul', 'over', 'banana', 'men', 'zindagi', 'bhot', 'achi', 'story', 'cant', 'gautamgambhir', 'javedakhtarjadu', 'ajaydevgn', 'chhod', 'wah', 'dress', 'clapping_hands', 'sarfaraz', 'cwc19', 'wishing', 'fun', 'experience', 'nah', 'right', 'usse', 'zany_face', 'haryana', 'cmohry', 'asli', 'visvas', 'nhe', 'karan', 'pita', 'exam', 'sambitswaraj', 'jaoge', 'li', 'tumne', 'politician', 'bal', 'won', 'anything', 'ahmad', 'akhir', 'grinning_face', 'naya', 'wajha', 'acting', 'jate', 'isi', 'majorgauravarya', 'hame', 'down', 'aayega', 'paper', 'aage', 'jaane', 'persevering_face', 'wi', 'karti', 'atheist', 'krishna', 'dikh', 'city', 'seedha', 'parliament', 'ar', 'chalta', 'sudhar', 'reservation', 'chalega', 'umeed', 'sanjay', 'worldnotobaccoday', 'saying', 'gets', '4', 'umer', 'mae', 'victory_hand_selector', 'most', 'welcome', 'ramzan', 'tm', 'got', 'geonews', 'urdu', 'worldcup', 'jeeto', 'likh', 'chat', 'beating_heart', 'interact', 'become', 'uth', 'kisiko', '?…', 'cry', 'rs', 'galti', 'namo', 'everyone', 'some', 'jitni', 'poora', 'pmln', 'zada', 'gaddar', 'sabit', 'arunjaitley', 'hinduo', 'aapk', 'jitna', 'uska', 'boss', 'imandar', 'nayi', 'maidan', '6', 'zarurat', 'saccha', 'kahi', 'jhuth', 'nitish', 'kumar', 'bahumat', 'sister', 'article', 'jana', '2024', 'ayega', 'jata', 'flexed_biceps', 'thay', 'acha', 'mr', 'father', 'tejasvi', 'surya', 'absolutely', 'second', 'myogiadityanath', 'krny', 'kewal', 'ang', 'honge', 'mother', 'gave', 'journalist', 'hin', 'anchor', 'bahot', 'abh', 'worry', 'folded_hands_light_skin_tone', 'decision', 'farq', 'jee', 'inka', 'marzi', 'abb', 'industry', 'karegi', 'beta', 'vichar', 'chahe', 'cr', 'iyc', 'hissa', 'timesnow', 'bolo', 'mc', 'ghar', 'batting', 'akela', 'azam', 'py', 'aaye', 'jeetne', 'bahi', 'aapka', 'bhout', 'jaya', 'kaat', 'alawa', 'tumhara', 'agree', 'prediction', 'bangladesh', 'return', 'grimacing_face', 'ngk', 'months', 'workers', 'gas', 'prabhu', 'kafi', 'dino', 'baate', 'bollywood', 'were', 'ceremony', 'kapoor', 'once', 'kisko', 'chale', 'aate', 'bday', 'af', 'bprerna', 'keep', 'pani', 'thori', 'purani', 'nehi', 'wahi', 'ministry', '..!', 'aam', 'let', 'sabka', 'vikas', 'fine', 'heart_suit', 'thodi', 'strong', 'days', 'open', 'dat', 'mission', 'lmao', 'soo', 'kisano', 'bata', 'deya', 'paid', 'weekend', 'stupid', 'glad', 'relieved_face', 'shut', 'read', 'bitch', 'smritiirani', 'sansad', 'ajj', '27', 'da', 'ty', 'twt', 'angel', 'hair', 'purple_heart', 'joy', 'bole', 'congres', 'imvkohli', 'ghulam', 'pradhanmantri', 'stay', 'haath', 'propaganda', 'agent', 'chunav', 'yo', 'll', 'bo', 'anuragkashyap72', 'gaali', 'tag', 'kavita', 'sharma4', 'xadeejournalist', 'jati', 'loves', 'kapilsharmak9', 'suru', 'lagi', 'bit', 'talk', 'line', 'safe', 'flushed_face', 'bhale', 'zardari', 'gdp', 'padta', 'unemployment', 'high', 'education', 'himat', 'bande', 'jii', 'oh', 'security', 'bh', 'piyushgoyaloffc', 'ohh', 'shehla', 'rashid', 'hanuman', 'having', 'fail', 'socho', 'thanku', 'supporter', 'bahir', 'haq', 'chhavi', 'yadav', 'pariwar', 'blessed', 'umar', 'students', 'kismat', 'run', '70', 'barabar', 'humne', 'broken_heart', 'milne', 'put', 'owaisi', 'milte', 'janab', 'sham', 'ky', 'baaki', 'jayenge', 'hibiscus', 'konsa', 'insaan', 'paida', 'since', 'rajniti', 'dam', 'option', 'england', 'sarfaraza', '54', 'unamused_face', 'sis', 'kehta', 'ranaayyub', 'service', 'award', 'trailer', 'kyunki', 'é', 'jin', 'inki', 'appki', 'brother', 'hokar', 'chod', 'smjh', 'tumhare', 'child', 'words', 'door', 'frowning_face_selector', 'think', 'msisodia', 'gareeb', 'kahe', 'milegi', 'barbad', 'theek', 'vale', 'obc', 'x', 'dhokha', 'dosto', 'wapis', 'lega', 'zaleel', 'mahan', 'late', 'secularism', 'aacha', 'mili', 'milta', 'able', 'taking', 'gulam', 'girirajsinghbjp', 'sri', 'house', 'sadak', '500', 'nitishkumar', '105', 'poori', 'darr', 'paa', 'play', 'nautanki', 'fayda', 'wearing', 'colour', 'congressi', 'fauj', 'smirking_face', 'mahadev', 'unka', 'thefilm', 'karni', 'aliabbaszafar', 'aamir', 'nikla', 'itsbhushankumar', 'bayan', 'dard', 'bete', 'malum', 'mene', 'atal', 'humara', 'enough', 'care', 'bolna', 'jaa', 'crying_face', 'bhaga', 'buddhe', 'criminal', 'bhar', 'inc', 'uske', 'bekar', 'end', 'layak', 'top', 'ladies', 'small', 'little', 'ravi', 'watched', 'waly', 'acchi', 'bhool', 'rajnathsingh', 'koe', 'wahan', 'kahan', 'suna', 'sun', 'kamal', 'court', 'commission', 'character', 'loving', 'style', 'angrejo', 'deshbhakt', 'nehru', 'zartajgulwazir', 'masla', 'ge', 'malik', 'ay', 'hoty', 'ati', 'pahle', 'dusro', 'cow', 'mn', 'mery', 'asked', 'bane', 'jahil', 'ok', 'daal', 'pyare', 'plzz', 'used', 'nationalist', 'bohut', 'aag', 'save', 'till', 'rampal', 'vivekagnihotri', 'kutto', 'khilaf', 'kyaa', 'mast', 'happened', 'baitha', 'anupampkher', 'type', 'hussain', 'ndtv', 'course', 'India', 'thinking_face', 'mama', 'fb', 'hogi', 'comments', 'sanjayazadsln', 'university', 'north', 'school', 'pride', 'gaurav', 'sp', 'mana', 'self', 'virodh', 'dev', 'alone', 'chaiye', 'missing', 'aao', 'deti', 'doubt', 'gang', 'speak-no-evil_monkey', 'jada', 'bani', '%', 'tumse', 'humor', 'chacha', 'player', 'worldcup2019', '14', 'kbhi', 'maaf', '/…', 'jal', 'interactive', 'unhone', 'aayenge', 'don', 'rat', 'zainabsikander', 'reply', 'mamata', 'ibadat', 'jitne', 'keya', 'student', 'waja', 'zeenews', 'garib', 'chuke', 'au', 'uss', 'yourself', 'kh', 'ones', 'baja', 'ese', 'gussa', 'behn', 'abba', 'maro', 'fawadchaudhry', 'electricity', 'banda', '[', ']', 'kartay', 'jeetna', 'shoaib', 'mental', 'whole', 'btw', 'lad', 'smiling_face', 'sanjaynirupam', 'officer', 'using', 'khandan', 'kasam', 'aati', 'kiye', 'dalle', 'brain', 'neutral_face', 'chamche', 'bn', 'modiledubega', 'amethi', 'yh', 'gupta', 'middle_finger', 'sar', 'amir', 'batsman', 'beat', 'opinion', 'pal', 'week', 'gye', 'gaandu', 'bhaag', 'dalit', 'lekar', 'dunga', 'jb', 'upper', 'community', 'godi', 'kitne', 'banne', 'sirjee', 'bht', 'br', 'sabko', 'achhe', 'release', 'hen', 'bear', 'ayushmannk', 'raising_hands', 'lambi', 'rho', '@…', 'code', 'etc', 'bandh', 'wapas', 'sona', 'murkh', \"india's\", 'bajrangbali', 'roz', 'daughter', 'rishibagree', 'bne', 'khi', 'chahte', 'kejriwal', 'dusri', 'bajaye', 'tb', 'waglenikhil', 'trah', 'humein', 'karay', 'kahna', 'cabinet', 'apnay', 'reh', 'car', 'drama', 'sidha', 'jara', 'des', 'gum', 'officialdgispr', 'sal', 'dad', 'business', 'waqt', 'khanumarfa', 'karn', 'maa-baap', 'bachy', 'afghani', 'rehta', 'nation', 'getting', 'kindly', 'sarkaar', 'shadi', 'modiswearingin', 'swagat', 'loksabha', 'nae', 'listen', 'others', 'members', 'another', 'pledgeagainstcorruption', 'given', 'only', 'color', 'mumbai', 'candidate', 'sah', '2nd', 'expressionless_face', 'bante', 'bhosda', 'hot', 'omarayubkhan', 'balki', 'shaan', 'suicide', 'gift', 'arrest', 'ish', 'juth', 'samjha', 'short', 'practice', 'sirji', 'lie', 'ü', 'face_with_medical_mask', 'bachpan', 'bhasha', 'banegi', 'inn', 'desistupides', 'regards', 'haa', 'meet', 'dp', 'suar', 'saala', 'sara', 'halat', 'track', 'anandk2012', 'ch', 'sacha', 'sauda', 'jaruri', 'azadi', 'jaake', 'aayegi', 'driver', 'station', 'maximum', 'success', 'choro', 'likhi', 'afternoon', 'roj', 'note', 'khatm', 'ashokgehlot51', 'song', 'dobara', 'shine', 'kiss', 'shefvaidya', 'religion', 'sumrin', 'bakso', 'jaga', 'sh', 'tatti', 'imran', 'woman', 'trump', 'feelings', 'hurt', 'face_with_steam_from_nose', 'bhadwe', 'told', 'meant', 'inhe', 'hii', 'priya', 'behen', 'nikalo', 'bano', 'dalali', 'abki', 'beauty', 'queen', '28', 'idea', 'ladka', 'hoi', 'mood', 'vs', 'final', 'jitega', 'askstar', 'date', 'lagte', 'gand', 'present', '8', 'anand', 'member', 'hathi', 'laugh', 'arre', 'saheb', 'okay', '=', ';', 'dwara', 'dharam', 'chalane', 'news18india', '23', 'kapil', 'america', '!…', 'boycott', 'assalam', 'wonderful', 'lady', 'samajhne', 'zyada', 'left', 'terrorist', 'huva', 'rehti', 'shukar', 'eat', '|', 'hmesha', 'karana', 'common', 'dekhne', 'room', '2.', '1st', 'whosunilgrover', 'bhaijan', 'slightly_smiling_face', 'padega', 'hack', 'sat', 'lucky', 'httweets', 'break', 'shilpisinghinc', 'mo', 'shareef', 'jinhe', 'immak02', 'haramkhor', 'sabke', 'poetry', 'mayawati', 'lete', 'huye', 'muh', 'dy', 'narender', 'appreciate', 'sachinpilot', 'lok', 'rani', 'rab', 'party_popper', 'wrapped_gift', 'ahead', 'ik', 'sake', 'ro', 'close', 'aana', 'baccho', 'itx', 'je', 'munh', 'jaty', 'mansoor', 'retweet', 'raaj', 'ysjagan', 'bhokne', 'kohli', 'face_with_rolling_eyes', 'nsitharaman', 'jindabad', 'normal', 'sure', '007', 'remember', 'al', 'punjabi', 'kanhaiya', 'goli', 'issi', 'humare', 'went', 'mom', 'speech', 'laat', 'maaro', 'football', 'news18up', 'chinta', 'data', 'samaj', 'history', 'career', 'kijiye', 'badhiya', 'padi', 'kalank', 'batana', 'kahin', 'secular', 'hmare', 'rest', 'book', 'choti', 'development', 'gunda', 'kash', 'waha', 'khushi', 'law', 'mehnat', 'action', 'maut', 'ı', 'ç', 'crown', 'ibne', 'badal', 'comedy', 'hogaye', 'officeofknath', 'squinting_face_with_tongue', '10', 'jaana', 'lga', 'uk', 'skta', 'muje', 'dost', 'heart_suit_selector', '1.', 'huge', 'eagerly', 'bari', 'iftar', 'face_savoring_food', 'feeling', 'tw', 'niche', 'karr', 'ashraffem', 'kissi', 'tax', 'yuva', 'bachhon', 'manniye', 'ass', 'janm', 'aunty', 'returns', 'half', 'kuttey', 'banta', 'daily', 'village', 'mauka', 'ladki', 'diwali', 'tara', 'seriously', 'aapkadharam', 'china', 'sapath', 'kese', 'musalmano', 'clear', 'roop', 'akshay', 'though', 'kaisa', 'modisarkar2', 'summer', 'link', 'bio', '30', 'master', 'kre', 'shehzad', 'hm', 'grinning_face_with_big_eyes', 'yadi', 'yet', 'rajasthan', 'ghante', 'khana', 'yadavtejashwi', 'nikalne', 'mu', 'acche', 'achcha', 'reality', 'mna', 'bhosdi', 'teacher', 'believe', 'khus', 'heartiest', 'evening', 'troll', 'karoge', 'shayarimran', 'smiling_face_selector', 'ghatna', 'deserve', 'sleep', 'try', 'stage', 'kaa', 'chakkar', 'yaa', 'salam', 'qki', 'bigad', 'km', 'came', 'chillate', 'click', 'backhand_index_pointing_down', 'ameer', 'ijjat', 'red', 'makeup', 'machine', 'pichle', 'kb', 'andar', '11', 'subah', 'kehte', 'jhasanjay', 'muhammad', 'stand', 'least', 'pade', 'rakhna', 'nikala', 'apney', 'hmm', 'ae', 'seats', 'ul', 'baaj', 'into', 'dimag', 'past', 'ee', 'fresh', 'players', 'kripa', 'hata', 'dog', 'aulaad', 'new_moon_face', 'sex', 'mujh', 'ran', 'gaane', 'rape', 'quran', 'ns', 'kabi', 'gar', 'suno', 'btaya', 'ly', 'appko', 'karein', 'songs', 'dreams', 'selvaraghavan', 'suriya', 'punjab', 'candidates', 'nikaal', 'khaane', 'zarur', 'congratulation', 'humari', 'white', 'deen', 'ā', 'pro', 'sachin', 'bcci', 'sbka', 'card', 'eye', 'ashirwad', 'akhilesh', 'gayee', 'list', 'maja', 'rona', 'garv', 'lakh', 'suit', 'rule', 'blue_heart', 'thewirehindi', 'dharm', 'tod', 'dhang', 'bin', 'freedom', 'kahte', 'bahan', 'abu', 'shalwar', 'while', 'varna', 'trophy', 'bharosa', 'bhaut', 'awaz', 'tareef', 'pehli', 'samna', 'supporters', 'correct', 'indians', 'powerful', 'understand', 'box', 'office', 'content', '10th', 'raja', 'yellow_heart', 'jammu', 'irctcofficial', 'bsp', 'hindus', 'baare', 'ips', 'sayad', 'fat', 'trp', 'baatein', 'esa', 'chutia', 'heart_with_ribbon', 'sarfraz', 'yad', 'thats', 'comment', 'virodhi', 'kabir', 'pjkanojia', 'geo', 'khabar', 'growing_heart', 'sabha', 'gal', 'sey', 'ti', 'pakka', 'pilot', 'worst', 'scindia', 'interview', 'rajneeti', 'voted', 'gaa', 'confetti_ball', 'dety', 'bomb', 'ex', 'kas', 'hajaro', 'hamaare', 'sparkles', 'parents', 'ghotale', 'asad', 'triangular_flag', 'tulip', '0', 'tried', 'ca', '.@', 'humble', 'white_heavy_check_mark', 'moka', 'films', 'aajkal', 'needs', 'abey', 'drop', 'market', 'paya', 'sunta', 'jae', 'baji', 'loge', 'hamre', 'before', 'bijli', 'trying', 'bhikhari', 'maryam', 'awam', 'hamidmirpak', 'capt', 'issue', 'kadam', 'working', 'jeetega', 'sneezing_face', 'smart', 'phone', 'vikash', 'khair', 'payment', 'hr', 'folded_hands_medium-light_skin_tone', 'bangal', 'youth', 'fast', 'bolenge', 'question', 'bhadve', 'balloon', 'galt', 'rh', 'stop', 'paji', 'sardar', 'company', 'jhut', 'leta', 'ain', 'ullu', 'rahy', 'website', 'esi', 'der', 'indies', 'bhakti', '24', 'sada', 'tl', 'petrol', 'zabardast', 'honest', 'muslimo', 'wanted', 'bik', 'mediacellpp', 'update', 'railminindia', 'pragya', 'jalan', 'food', 'invite', 'bap', 'bhenchod', 'armaanmalik22', 'hara', 'attack', 'paki', 'koshish', 'else', 'anna', 'alaikum', 'paye', 'kavi', 'bibi', 'blame', 'energy', 'achhi', 'badnaam', 'kher', 'tamanna', 'nivedan', 'cat', 'blossom', 'young', 'imandaar', 'ako', 'jante', 'kyonki', 'dream', 'blessings', 'khate', 'pit', 'key', 'bhaii', 'fantastic', 'haste', 'head', 'face_with_raised_eyebrow', 'jesi', 'aww', 'lg', 'arjun', 'jarariya91', 'nikhil', \"i've\", 'running', 'aasha', 'yahe', 'district', 'rahiye', 'tukde', 'chaat', 'ajinkya', 'rahane', 'shapath', 'test', 'lee', 'mad', 'karane', 'smriti', 'anjana', 'jaata', 'gir', 'asif', 'term', 'vijay', 'huh', 'krke', 'assam', 'chuna', 'water', 'zaidzamanhamid', 'sree', 'teams', 'afghanistan', 'express', 'truly', 'sc', 'face_with_symbols_on_mouth']\n",
            "      0\n",
            "0     á\n",
            "1  lost\n",
            "2     j\n",
            "3     a\n",
            "4     m\n",
            "  words                                            vectors  cluster\n",
            "0     á  [-0.079127185, -0.066809565, -0.13516527, -0.0...        0\n",
            "1  lost  [-0.08356993, -0.078606874, -0.14625882, -0.06...        0\n",
            "2     j  [-0.085002005, -0.053220924, -0.121372625, -0....        1\n",
            "3     a  [-0.058635235, -0.13794187, -0.1876053, -0.072...        2\n",
            "4     m  [-0.07575592, -0.07820427, -0.14333959, -0.065...        0\n",
            "  words  ... closeness_score\n",
            "0     á  ...        9.407326\n",
            "1  lost  ...       13.101983\n",
            "2     j  ...       17.868721\n",
            "3     a  ...        2.699057\n",
            "4     m  ...       16.598022\n",
            "\n",
            "[5 rows x 4 columns]\n",
            "                                                 vectors  ...  closeness_score\n",
            "words                                                     ...                 \n",
            "á      [-0.079127185, -0.066809565, -0.13516527, -0.0...  ...         9.407326\n",
            "lost   [-0.08356993, -0.078606874, -0.14625882, -0.06...  ...        13.101983\n",
            "j      [-0.085002005, -0.053220924, -0.121372625, -0....  ...        17.868721\n",
            "a      [-0.058635235, -0.13794187, -0.1876053, -0.072...  ...         2.699057\n",
            "m      [-0.07575592, -0.07820427, -0.14333959, -0.065...  ...        16.598022\n",
            "\n",
            "[5 rows x 3 columns]\n",
            "0\n"
          ],
          "name": "stdout"
        }
      ]
    },
    {
      "cell_type": "code",
      "metadata": {
        "id": "law1pf4rr7w7"
      },
      "source": [
        "cluster_score = [sum([ words.loc[w]['closeness_score'] for w in x if (w in all_words and words.loc[w]['cluster']==0)]) for x in t_train]"
      ],
      "execution_count": null,
      "outputs": []
    },
    {
      "cell_type": "code",
      "metadata": {
        "id": "Fd7G6jWw5EDH"
      },
      "source": [
        "cluster_score1 = [sum([ words.loc[w]['closeness_score'] for w in x if (w in all_words and words.loc[w]['cluster']==1)]) for x in t_train]"
      ],
      "execution_count": null,
      "outputs": []
    },
    {
      "cell_type": "code",
      "metadata": {
        "id": "oyX662l15SMz"
      },
      "source": [
        "cluster_score2 = [sum([ words.loc[w]['closeness_score'] for w in x if (w in all_words and words.loc[w]['cluster']==2)]) for x in t_train]"
      ],
      "execution_count": null,
      "outputs": []
    },
    {
      "cell_type": "code",
      "metadata": {
        "id": "M-U_e4X6-kK8",
        "outputId": "f8caf36f-c8a7-4060-d723-403b0f79e5da",
        "colab": {
          "base_uri": "https://localhost:8080/",
          "height": 54
        }
      },
      "source": [
        "tweets = [' '.join(x) for x in t_train]\n",
        "print(tweets[:10])"
      ],
      "execution_count": null,
      "outputs": [
        {
          "output_type": "stream",
          "text": [
            "['nen á vist bolest vztek smutek zmatek osam ě lost beznad ě j a nakonec jen klid asi takhle vypad á m ů j life ..', '@ nehantics haan yaar neha pensive_face pensive_face kab karega woh post loudly_crying_face usne na sach mein photoshoot karna chahiye phir woh post karega … https // tco / 5rslsbzntt', '@ rahulgandhi television media congress ke liye nhi h . ye toh aapko pata chal hi gya hoga . achha hoga ki congress ke … https // t . co / hmh8m7ptak', '@ amitshah @ narendramodi all india me nrc lagu kare w kashmir se dhara 370ko khatam kare ham indian ko apse yahi umid hai', \"@ nehr _ who @ typomantri @ anjanaomkashyap pagal hai kya ? they aren ' t real issues mandir is important hindu khatre mei jo hai !\", '@ narendramodi jeet ki dher sari subh kamnaye modi ji asha karta hu jistarah desh ki janta ne khas kar bihar ki jant … https // t co / xpczj7gfqc', '@ fakeionist @ samjhotaxpress @ plichapel but topi walay babu ki tau new job hougi humey chutti kesay milay gi ? loudly_crying_face loudly_crying_face', '@ aajtak @ syedasimwaqar @ chitraaum @ syedzafarbjp ye modi media walon ko bhi maza ata hai hindu muslim ke debate karne me', '@ tarekfatah baih tere itjey kya jalti hai pakistan se @ therealpcb chutiye khelne de na unhe bc tu indian bhi nahi h … https // t . co / zwvpsnayoe', \"@ desimarthastew hehe . i saw that coming . and it ' s actually from someone ' s shaadi . star-struck\"]\n"
          ],
          "name": "stdout"
        }
      ]
    },
    {
      "cell_type": "code",
      "metadata": {
        "id": "0KzBa2i56QeR"
      },
      "source": [
        "def max_find(row):\n",
        "  return max(row[0],max(row[1],row[2]))"
      ],
      "execution_count": null,
      "outputs": []
    },
    {
      "cell_type": "code",
      "metadata": {
        "id": "S9Kgwp_z8ard"
      },
      "source": [
        "def max_cluster(row):\n",
        "  \n",
        "  return 0 if row[0]>row[1] and row[0]>row[2] else 1 if row[1]>row[2] else 2"
      ],
      "execution_count": null,
      "outputs": []
    },
    {
      "cell_type": "code",
      "metadata": {
        "id": "nqYf3nqb4gDf",
        "outputId": "fbd971ee-0cb1-4fdc-c690-887c4039a472",
        "colab": {
          "base_uri": "https://localhost:8080/",
          "height": 419
        }
      },
      "source": [
        "dic = {'0': cluster_score,'1':cluster_score1,'2':cluster_score2}\n",
        "clusters_score = pd.DataFrame(dic)\n",
        "# print(clusters_score)\n",
        "clusters_score['sentiment'] = clusters_score.apply(lambda row : max_find(row),axis=1)\n",
        "clusters_score['cluster'] = clusters_score.apply(lambda row : max_cluster(row),axis=1)\n",
        "\n",
        "clusters_score.head(100)"
      ],
      "execution_count": null,
      "outputs": [
        {
          "output_type": "execute_result",
          "data": {
            "text/html": [
              "<div>\n",
              "<style scoped>\n",
              "    .dataframe tbody tr th:only-of-type {\n",
              "        vertical-align: middle;\n",
              "    }\n",
              "\n",
              "    .dataframe tbody tr th {\n",
              "        vertical-align: top;\n",
              "    }\n",
              "\n",
              "    .dataframe thead th {\n",
              "        text-align: right;\n",
              "    }\n",
              "</style>\n",
              "<table border=\"1\" class=\"dataframe\">\n",
              "  <thead>\n",
              "    <tr style=\"text-align: right;\">\n",
              "      <th></th>\n",
              "      <th>0</th>\n",
              "      <th>1</th>\n",
              "      <th>2</th>\n",
              "      <th>sentiment</th>\n",
              "      <th>cluster</th>\n",
              "    </tr>\n",
              "  </thead>\n",
              "  <tbody>\n",
              "    <tr>\n",
              "      <th>0</th>\n",
              "      <td>48.514657</td>\n",
              "      <td>42.470694</td>\n",
              "      <td>12.592393</td>\n",
              "      <td>48.514657</td>\n",
              "      <td>0</td>\n",
              "    </tr>\n",
              "    <tr>\n",
              "      <th>1</th>\n",
              "      <td>10.287287</td>\n",
              "      <td>235.581722</td>\n",
              "      <td>0.000000</td>\n",
              "      <td>235.581722</td>\n",
              "      <td>1</td>\n",
              "    </tr>\n",
              "    <tr>\n",
              "      <th>2</th>\n",
              "      <td>30.468975</td>\n",
              "      <td>132.358626</td>\n",
              "      <td>0.000000</td>\n",
              "      <td>132.358626</td>\n",
              "      <td>1</td>\n",
              "    </tr>\n",
              "    <tr>\n",
              "      <th>3</th>\n",
              "      <td>37.192049</td>\n",
              "      <td>235.023645</td>\n",
              "      <td>3.646824</td>\n",
              "      <td>235.023645</td>\n",
              "      <td>1</td>\n",
              "    </tr>\n",
              "    <tr>\n",
              "      <th>4</th>\n",
              "      <td>38.216221</td>\n",
              "      <td>141.147169</td>\n",
              "      <td>18.605360</td>\n",
              "      <td>141.147169</td>\n",
              "      <td>1</td>\n",
              "    </tr>\n",
              "    <tr>\n",
              "      <th>...</th>\n",
              "      <td>...</td>\n",
              "      <td>...</td>\n",
              "      <td>...</td>\n",
              "      <td>...</td>\n",
              "      <td>...</td>\n",
              "    </tr>\n",
              "    <tr>\n",
              "      <th>95</th>\n",
              "      <td>40.088767</td>\n",
              "      <td>25.170166</td>\n",
              "      <td>37.511512</td>\n",
              "      <td>40.088767</td>\n",
              "      <td>0</td>\n",
              "    </tr>\n",
              "    <tr>\n",
              "      <th>96</th>\n",
              "      <td>32.524973</td>\n",
              "      <td>186.647663</td>\n",
              "      <td>5.544015</td>\n",
              "      <td>186.647663</td>\n",
              "      <td>1</td>\n",
              "    </tr>\n",
              "    <tr>\n",
              "      <th>97</th>\n",
              "      <td>66.161180</td>\n",
              "      <td>26.145273</td>\n",
              "      <td>38.630952</td>\n",
              "      <td>66.161180</td>\n",
              "      <td>0</td>\n",
              "    </tr>\n",
              "    <tr>\n",
              "      <th>98</th>\n",
              "      <td>0.000000</td>\n",
              "      <td>197.962222</td>\n",
              "      <td>6.980234</td>\n",
              "      <td>197.962222</td>\n",
              "      <td>1</td>\n",
              "    </tr>\n",
              "    <tr>\n",
              "      <th>99</th>\n",
              "      <td>76.581293</td>\n",
              "      <td>65.520335</td>\n",
              "      <td>25.365657</td>\n",
              "      <td>76.581293</td>\n",
              "      <td>0</td>\n",
              "    </tr>\n",
              "  </tbody>\n",
              "</table>\n",
              "<p>100 rows × 5 columns</p>\n",
              "</div>"
            ],
            "text/plain": [
              "            0           1          2   sentiment  cluster\n",
              "0   48.514657   42.470694  12.592393   48.514657        0\n",
              "1   10.287287  235.581722   0.000000  235.581722        1\n",
              "2   30.468975  132.358626   0.000000  132.358626        1\n",
              "3   37.192049  235.023645   3.646824  235.023645        1\n",
              "4   38.216221  141.147169  18.605360  141.147169        1\n",
              "..        ...         ...        ...         ...      ...\n",
              "95  40.088767   25.170166  37.511512   40.088767        0\n",
              "96  32.524973  186.647663   5.544015  186.647663        1\n",
              "97  66.161180   26.145273  38.630952   66.161180        0\n",
              "98   0.000000  197.962222   6.980234  197.962222        1\n",
              "99  76.581293   65.520335  25.365657   76.581293        0\n",
              "\n",
              "[100 rows x 5 columns]"
            ]
          },
          "metadata": {
            "tags": []
          },
          "execution_count": 18
        }
      ]
    },
    {
      "cell_type": "code",
      "metadata": {
        "id": "EU9gOtWk9CQ6",
        "outputId": "d68e811e-d34b-4ca1-a411-d9e3221dd27e",
        "colab": {
          "base_uri": "https://localhost:8080/",
          "height": 85
        }
      },
      "source": [
        "clusters_score['cluster'].value_counts()"
      ],
      "execution_count": null,
      "outputs": [
        {
          "output_type": "execute_result",
          "data": {
            "text/plain": [
              "1    10480\n",
              "0     2738\n",
              "2      782\n",
              "Name: cluster, dtype: int64"
            ]
          },
          "metadata": {
            "tags": []
          },
          "execution_count": 19
        }
      ]
    },
    {
      "cell_type": "code",
      "metadata": {
        "id": "GBYj2j9JB61H",
        "outputId": "6b731812-9806-452e-8d5e-d1a9557722af",
        "colab": {
          "base_uri": "https://localhost:8080/",
          "height": 88
        }
      },
      "source": [
        "cluster0 = words[words['cluster']==0]\n",
        "cluster1 = words[words['cluster']==1]\n",
        "cluster2 = words[words['cluster']==2]\n",
        "\n",
        "cluster0.reset_index(inplace=True)\n",
        "cluster0 = list(cluster0['words'])\n",
        "cluster1.reset_index(inplace=True)\n",
        "cluster1 = list(cluster1['words'])\n",
        "cluster2.reset_index(inplace=True)\n",
        "cluster2 = list(cluster2['words'])\n",
        "\n",
        "print(cluster0)\n",
        "print(cluster1)\n",
        "print(cluster2)\n",
        "\n",
        "#for positive\n",
        "\n",
        "\n"
      ],
      "execution_count": null,
      "outputs": [
        {
          "output_type": "stream",
          "text": [
            "['á', 'lost', 'm', 'loudly_crying_face', '.', 'india', 'w', 'indian', 'who', 'real', 'important', 'subh', 'new', 'job', 'hehe', 'saw', 'coming', 'actually', 'someone', 'shaadi', 'star-struck', 'answer', 'each', 'allah', 'off', 'heart_with_arrow', 'see-no-evil_monkey', 'iamsrk', 'face', 'together', 'money', 'both', 'still', 'waah', 'its', '__', 'eyes', 'shit', 'fuck', 'up', 'ulta', 'bts', 'also', 'looks', 'their', 'guruji', 'to', 'pls', 'trust', 'f', 'maybe', \"i'll\", 'feel', 'thing', \"i'm\", 'poor', 'smiling_face_with_halo', 'sushmaswaraj', 'miss', 'episode', 'nice', 'wa', 'bouquet', 'soon', 'far', 'r', 'share', 'sunoo', 'chanda', 'make', 'should', 'fr', '-', 'd', 'woo', 'hoo', 'cricket', 'world', 'cup', 'luck', 'st', 'family', 'cause', 'sai', 'n', 'dr', 'g', '~', 'back', 'again', '*', 'nitin', 'gadkari', 'which', 'favourite', 'an', 'ad', 'anyone', 'damn', 'lot', 'making', 'then', 'im', 'proud', 'green_heart', 'congratulations', '+', 'order', 'dont', 'even', 'comes', 'hey', 'fact', 'out', 'vande', 'mataram', 'hardikpandya7', 'wishes', 'eid', 'mubarak', 'national', 'thinking', 'about', 'something', 'find', 'perfect', 'pleading_face', 'here', 'picture', 'her', 'mean', 'being', 'attention', 'friend', 'lots', 'iam', 'month', 'ramadan', 'positive', 'heart', 'prayers', 'friends', 'insha', 'guy', 'other', '2', 'name', 'nagar', 'pray', 'coz', 'too', 'arsal', 'support', 'man', 'chai', 'derasachasauda', 'tera', 'she', '(', 'rehmat', ')', 'matter', 'face_with_tongue', 'every', 'single', 'amazing', 'grinning_face_with_smiling_eyes', 'jindabaad', 'performance', 'watch', '9', 'ready', 'soul', '@_', 'liverpool', 'winning', 'them', 'league', 'joke', 'already', 'had', 'pretty', 'girl', 'enjoy', 'fan', 'dear', 'hugging_face', 'inshallah', 'beingsalmankhan', 'bharatthiseid', 'kiss_mark', 'superb', 'handsome', '2019', 'happiness', 'om', 'please', 'respected', 'same', 'did', 'kind', 'sexy', 'fit', 'last', 'entry', 'part', '12', 'year', 'old', 'watching', 'times', 'biggest', 'sorry', 'health', 'easy', 'movie', 'salman', 'fight', 'scene', 'tweets', 'followers', 'follow', 're', 'talented', 'such', 'person', 'smiling_face_with_3_hearts', 'continue', 'sonytv', 'srbachchan', 'odisha', 'thanks', 'folded_hands', 'dm', 'accept', 'namaskar', 'cannot', 'say', 'lfc', 'celebrate', 'star', 'tonight', 'o', 'join', 'tomorrow', 'opening', 'night', '\"', 'bhau', 'set', 'grinning_face_with_sweat', 'nd', 'funny', 'sense', 'anyway', 'those', 'kids', 'ah', 'cute', 'these', 'two', 'pranam', 'seen', 'voice', 'where', 'finally', 'journey', 'less', 'ask', 'leave', 'reason', 'hello', 'side', 'through', 'country', 'kamaalrkhan', 'ajay', 'didn', 'few', 'movies', 'point', 'doing', 'wife', 'home', 'yeah', 'does', 'any', 'hon', 'victory', 'victory_hand', 'wtf', 'fucking', 'imagine', 'advance', 'msg', 'send', 'personality', 'hero', 'role', 'th', 'place', 'official', 'haha', 'shame', 'yrr', 'tatkal', 'y', 'class', 'excited', 'sam', 'hard', 'come', 'nonsense', 'hate', 'pun', 'because', 'bhaiya', 'message', 'blessing', 've', 'done', 'would', 'die', 'cool', 'literally', 'own', 'cnbc', 'awaaz', 'buy', 'full', 'moment', 'singh', 'says', 'loved', 'fav', 'nothing', 'without', 'grateful', 'big', 'hahaha', 'z', 'king', 'spread', 'human', 'power', 'hahahaha', 'tickets', 'around', 'wait', 'pyari', 'myself', 'lord', 'thought', 'spirit', 'time', '‘', 'true', 'thumbs_up', 'need', 'go', 'lol', '7', 'ahh', 'everything', 'next', 'ameen', 'there', 'forget', 'blockbuster', 'series', '3', 'word', 'katrina', 'fans', 'things', 'ppl', 'take', 'uh', 'dhoni', 'leaders', 'saint', 'dera', 'yung', 'crush', 'waiting', '”', 'felt', 'ia', 'naman', 'sleepy_face', 'el', 'playing', 'baby', 'boy', 'must', 'atulreellife', 'favorite', 'bajrangi', 'film', '5th', 'june', 'well', 'change', 'entire', '..!!', 'long', 'during', 'ate', 'salute', 'why', 'awesome', 'talking', 'ever', 'away', 'wrong', 'future', 'looking', 'forward', 'jodi', 'actor', 'hit', 'makes', 'girls', 'dan', 'ramjaan', 'call', 'omg', 'sweet', 'seeing', 'after', 'congrats', 'backhand_index_pointing_right', 'bro', 'slogan', 'under', 'could', 'offer', 'forever', 'wow', 'sharing', 'game', 'first', 'inspiration', 'language', 'choice', 'oath', 'said', 'pick', 'pic', 'met', 'guru', 'form', 'sha', 'start', 'smile', 'boys', 'played', 'winking_face', '@__', 'might', 'almost', 'years', 'giving', 'exactly', 'season', 'show', 'definitely', 'healthy', 'waheguru', 'revolving_hearts', 'friday', 'bring', 'peace', 'waseembadami', 'smiling_face_with_smiling_eyes', 'cherry_blossom', 'mam', 'iqrarulhassan', 'shows', 'dance', 'respect', 'simple', 'fire', 'kudos', 'dinner', 'OK_hand', 'hundred_points', 'music', 'stories', 'sohne', 'chance', 'help', 'win', 'sirpareshrawal', 'bhaijaan', 'yours', 'body', 'step', 'jumma', 'special', 'tell', 'women', 'mind', 'hear', 'offl', 'dj', 'sad', 'son', 'warm', 'lovely', 'means', 'yes', 'smiling_face_with_sunglasses', 'Pakistan', 'called', 'state', '—', 'super', 'knows', 'act', 'gud', 'live', 'wants', 'weary_face', 'over', 'story', 'cant', 'dress', 'clapping_hands', 'wishing', 'fun', 'experience', 'right', 'zany_face', 'pita', 'bal', 'won', 'anything', 'acting', 'down', 'city', 'worldnotobaccoday', 'saying', 'gets', '4', 'welcome', 'ramzan', 'jeeto', 'beating_heart', 'become', 'cry', 'everyone', 'some', 'boss', '6', 'sister', 'flexed_biceps', 'mr', 'father', 'tejasvi', 'surya', 'absolutely', 'second', 'ang', 'mother', 'gave', 'abh', 'worry', 'folded_hands_light_skin_tone', 'agree', 'return', 'ngk', 'months', 'dino', 'bollywood', 'were', 'ceremony', 'kapoor', 'once', 'bday', 'af', 'keep', '..!', 'let', 'sabka', 'fine', 'heart_suit', 'strong', 'days', 'open', 'dat', 'mission', 'lmao', 'soo', 'paid', 'weekend', 'stupid', 'glad', 'relieved_face', 'shut', 'read', 'bitch', '27', 'da', 'ty', 'twt', 'angel', 'hair', 'joy', 'stay', 'yo', 'loves', 'kapilsharmak9', 'bit', 'talk', 'line', 'safe', 'flushed_face', 'high', 'jii', 'oh', 'ohh', 'having', 'thanku', 'chhavi', 'put', 'hibiscus', 'since', 'sarfaraza', 'sis', 'service', 'award', 'trailer', 'é', 'brother', 'child', 'words', 'frowning_face_selector', 'x', 'late', 'able', 'taking', 'house', 'play', 'wearing', 'colour', 'thefilm', 'aliabbaszafar', 'enough', 'care', 'crying_face', 'end', 'top', 'ladies', 'small', 'little', 'ravi', 'watched', 'character', 'loving', 'style', 'asked', 'ok', 'pyare', 'plzz', 'used', 'save', 'till', 'rampal', 'kyaa', 'happened', 'type', 'course', 'mama', 'north', 'school', 'pride', 'self', 'alone', 'missing', 'doubt', 'speak-no-evil_monkey', 'humor', 'player', 'worldcup2019', '/…', 'interactive', 'ibadat', 'yourself', 'ones', '[', ']', 'mental', 'whole', 'btw', 'smiling_face', 'using', 'brain', 'beat', 'week', 'community', 'sirjee', 'release', 'bear', 'ayushmannk', 'raising_hands', 'rho', '@…', 'sona', \"india's\", 'bajrangbali', 'daughter', 'waglenikhil', 'car', 'dad', 'nation', 'getting', 'kindly', 'modiswearingin', 'listen', 'others', 'members', 'another', 'pledgeagainstcorruption', 'given', 'only', 'color', '2nd', 'hot', 'gift', 'short', 'practice', 'ü', 'face_with_medical_mask', 'regards', 'meet', 'track', 'sacha', 'sauda', 'driver', 'maximum', 'success', 'afternoon', 'note', 'song', 'shine', 'kiss', 'sumrin', 'bakso', 'woman', 'trump', 'feelings', 'hurt', 'told', 'meant', 'hii', 'priya', 'beauty', 'queen', 'idea', 'mood', 'final', 'askstar', 'date', 'present', 'laugh', 'okay', ';', '!…', 'assalam', 'wonderful', 'lady', 'left', 'eat', '|', '1st', 'bhaijan', 'slightly_smiling_face', 'sat', 'lucky', 'break', 'mo', 'poetry', 'appreciate', 'rab', 'party_popper', 'wrapped_gift', 'ahead', 'close', 'retweet', 'ysjagan', 'nsitharaman', 'sure', 'remember', 'al', 'punjabi', 'went', 'mom', 'history', 'career', 'rest', 'book', 'development', 'law', 'ı', 'ç', 'crown', 'uk', 'heart_suit_selector', '1.', 'huge', 'eagerly', 'iftar', 'face_savoring_food', 'feeling', 'ass', 'returns', 'half', 'diwali', 'seriously', 'aapkadharam', 'akshay', 'though', 'modisarkar2', 'summer', 'link', 'bio', 'yet', 'believe', 'heartiest', 'evening', 'smiling_face_selector', 'deserve', 'sleep', 'try', 'stage', 'salam', 'came', 'click', 'backhand_index_pointing_down', 'red', 'makeup', '11', 'stand', 'least', 'into', 'past', 'fresh', 'dog', 'sex', 'ran', 'songs', 'dreams', 'selvaraghavan', 'suriya', 'white', 'ā', 'pro', 'sachin', 'eye', 'bin', 'shalwar', 'while', 'trophy', 'correct', 'indians', 'powerful', 'understand', 'box', 'office', 'content', '10th', 'yellow_heart', 'jammu', 'fat', 'heart_with_ribbon', 'thats', 'kabir', 'growing_heart', 'gal', 'worst', 'voted', 'confetti_ball', 'ex', 'kas', 'sparkles', 'parents', 'tulip', '0', 'tried', 'ca', '.@', 'humble', 'white_heavy_check_mark', 'films', 'needs', 'drop', 'before', 'trying', 'working', 'jeetega', 'sneezing_face', 'smart', 'khair', 'folded_hands_medium-light_skin_tone', 'fast', 'question', 'balloon', 'stop', 'paji', 'company', 'ain', 'website', 'tl', 'zabardast', 'honest', 'wanted', 'food', 'invite', 'armaanmalik22', 'else', 'anna', 'alaikum', 'energy', 'cat', 'blossom', 'young', 'ako', 'dream', 'blessings', 'bhaii', 'fantastic', 'haste', 'head', 'aww', 'arjun', 'nikhil', \"i've\", 'running', 'ajinkya', 'rahane', 'shapath', 'test', 'mad', 'asif', 'term', 'huh', 'water', 'teams', 'express', 'truly']\n",
            "['j', '..', '@', 'haan', 'yaar', 'pensive_face', 'kab', 'karega', 'woh', 'post', 'usne', 'na', 'sach', 'mein', 'karna', 'chahiye', 'phir', '…', 'https', '//', 'tco', '/', 'rahulgandhi', 'media', 'congress', 'ke', 'liye', 'nhi', 'h', 'ye', 'toh', 'aapko', 'pata', 'chal', 'hi', 'gya', 'hoga', 'achha', 'ki', 't', 'co', 'amitshah', 'narendramodi', 'me', 'kare', 'kashmir', 'se', 'dhara', 'khatam', 'ham', 'ko', 'apse', 'yahi', 'umid', 'hai', 'nehr', 'anjanaomkashyap', 'pagal', 'kya', '?', 'mandir', 'hindu', 'mei', 'jo', 'jeet', 'dher', 'sari', 'modi', 'ji', 'asha', 'karta', 'hu', 'desh', 'janta', 'ne', 'kar', 'bihar', 'walay', 'babu', 'tau', 'gi', 'aajtak', 'chitraaum', 'walon', 'bhi', 'maza', 'ata', 'muslim', 'debate', 'karne', 'tarekfatah', 'tere', 'pakistan', 'therealpcb', 'chutiye', 'khelne', 'de', 'unhe', 'bc', 'tu', 'nahi', 'seat', 'vote', 'aur', 'apne', 'pak', 'os', 'k', 'dil', 'ka', 'nai', 'krta', 'sb', 'ache', 'aor', 'dua', 'ma', 'ho', 'bahut', 'faisla', 'liya', 'ummeed', 'hoon', 'sabhi', 'party', 'mera', 'meri', 'bina', 'aye', 'mushkil', 'pm', 'ummid', 'aapke', 'bhut', 'si', 'kisi', 'khub', 'likha', 'khud', 'jaha', 'fir', 'kiya', 'tha', 'aapne', 'aap', 'ba', 'abe', 'tum', 'flop', 'logo', 'chutiya', 'log', 'ja', 'bad', 'haram', 'khor', 'chor', 'mulk', 'bat', 'or', 'har', 'army', 'jai', 'shree', 'ram', 'jarurat', 'chalu', 'gaya', 'bjp', 'walo', 'tumhe', 'kuch', 'chut', 'mil', 'raha', 'ya', 'milna', 'q', 'jinko', 'pta', 'wo', 'bhej', 'rahe', 'neta', 'phle', 'yhi', 'rajya', 'jisme', 'sale', 'harami', 'itne', 'maar', 'rhe', 'dekhna', 'duniya', 'koi', 'kabhi', 'hota', 'yar', 'pyar', 'kaho', 'p', 'madam', 'videsh', 'mantri', 'abhisar', 'sharma', 'sir', 'maan', 'gaye', 'himmat', 'theskindoctor13', 'doctor', 'sahab', 'khush', 'hme', 'aise', 'apni', 'indiatoday', 'teri', 'kimat', 'gayi', 'amit', 'shah', 'rubikaliyaquat', 'ek', 'bhe', 'bhai', 'wala', 'sab', 'ker', 'yeh', '..…', 'mamataofficial', 'mamta', 'banerjee', 'jane', 'tumko', 'haar', 'ghum', 'bus', 'b', 'govt', 'parti', 'ha', 'keh', 'ni', 'fake', 'naam', 'pics', 'krti', 'ghr', 'confused_face', 'mp', 'subhkamnaye', 'apna', 'hum', '100%', 'arvindkejriwal', 'bheja', 'apke', 'badhai', 'modiji', 'raj', 'famous', 'rahega', 'lekin', 'pehle', '370', 'samne', 'roti', 'sahi', 'thakur', 'saab', '50', 'saal', 'muslims', 'jab', 'unki', 'izzat', 'hone', 'akhileshpsingh', 'hadd', 'pan', 'jail', 'railway', 'pa', 'vishwas', 'dekhe', 'bas', 'diye', 'ap', 'he', 'olad', 'pakistani', 'sy', 'krty', 'manakgupta', 'check', 'shri', 'republic', 'general', 'madad', 'rss', 'pas', 'rakho', 'kaafi', 'dushman', 'nahin', 'hain', 'kyun', 'karen', 'inke', 'pass', 'ab', 'bacha', 'pasand', 'ban', 'shoaib100mph', 'match', 'zaror', 'dukh', 'phr', 'khel', 'talent', 'kunalkamra88', 'problem', 'main', 'khoon', 'laga', '.…', 'maa', 'oye', 'jcb', 'khudai', 'dekh', 'aaya', 'zeenewshindi', 'sudhirchaudhary', 'incindia', 'yadavakhilesh', 'sirf', 'jaati', 'thi', 'iska', 'ani', 'leader', 'sarkar', 'par', 'gulbukhari', 'apny', 'karo', 'roflgandhi', 'jiski', 'pe', 'aaj', 'mlkhattar', 'pr', 'pada', 'bank', 'dekho', 'lambaalka', 'jyda', 'gyan', 'democracy', 'band', 'kro', 'thoda', 'dete', 'baat', 'bolte', 'khan', 'raho', 'nafrat', 'kis', 'sare', 'tweet', 'angry_face', 'bana', 'sakti', 'liy', 'sardanarohit', 'salo', 'case', 'aata', 'inko', 'public', 'paise', 'bachi', 'maal', 'kch', 'mat', 'wese', 'shakal', 'aesa', 'entertainment', 'kaun', 'dega', 'sabse', 'kanhaiyakumar', 'uski', 'jaat', 'musalman', 'hoti', 'hume', 'leke', 'rha', 'face_with_tears_of_joy', 'saale', 'ac', 'baith', 'mt', 'yogendrayadav', 'aukat', 'c', 'bengal', 'tmc', 'galat', 'app', 'bachane', 'isse', 'jan', 'sharam', 'ppbajpai', 'din', 'hote', 'mai', 'mere', 'yah', 'tho', 'rahegi', 'bharat', 'bohat', 'howa', 'aj', 'kal', 'jao', 'mar', 'bar', 'baba', 'bare', 'kariye', 'parivar', 'wale', 'pareshan', 'rakh', 'kr', 'timesofindia', 'rahul', 'soch', '??', 'jay', 'bali', 'bt', 'hamare', 'kutte', 'aisi', 'sherryontopp', 'tajinderbagga', 'majorpoonia', 'kapilmishra', 'ind', 'bjp4india', 'inse', 'payega', 'record', 'yadavdimples', 'department', 'hospital', 'prakash', 'dada', 'unse', 'kehna', 'chahti', 'hun', 'baar', 'v', 'le', 'ny', 'nh', 'election', 'gali', 'ak', 'kaise', 'hui', 'bolne', 'pmoindia', 'unke', 'raat', 'lage', 'photo', 'aulad', 'bs', 'bhakt', 'arey', 'didi', 'gyi', 'bechari', '5', 'chalo', '100', 'krna', 'warna', 'ga', 'jisko', 'google', 'narendra', 'shubh', 'apka', 'e', 'lagana', 'pyaar', 'naveen', 'hamara', 'swami', 'pubg', 'use', 'society', 'tak', 'light', 'saath', 'deshdrohi', 'dur', 'bacho', 'kharab', 'uppolice', 'ghatiya', 'rah', 'paas', 'kisan', 'yojna', 'diya', 'dene', 'london', 'gandu', 'harne', 'wali', 'sub', 'tarah', 'iss', 'budget', 'kaam', 'piyushgoyal', 'dal', 'police', 'loot', 'grinning_squinting_face', 'supriyobabul', 'railwayseva', 'abhi', \"''\", 'west', 'acharyapramodk', 'acharya', 'di', 'gadhe', 'bol', 'sakte', 'akshaykumar', 'abi', 'tk', 'namak', 'asadowaisi', 'video', 'sardesairajdeep', 'kitna', 'anti', 'dukan', 'hogaya', 'vikasbha', 'rate', 'air', 'chunaw', 'tension', 'dusra', 'sant', 'kaha', 'thesamirabbas', 'hamari', 'sakta', 'jahan', 'system', 'prime', 'minister', 'aadmi', 'isne', 'baad', 'krne', 'cat_face_with_tears_of_joy', 'taraf', 'aane', 'saza', 'l', 'kat', 'shuru', 'hua', 'delhi', 'upar', 'garmi', 'alag', 'rakhi', 'abpnewshindi', 'abpnewstv', 'gandhi', 'chowkidar', 'nara', 'bhari', 'pad', 'badi', 'ise', 'sena', 'dono', 'kyu', 'bola', 'aisa', 'isko', 'srk', 'sbse', 'gandi', 'kailashonline', 'bhagwan', 'boht', 'bra', 'free', 'yr', 'rhy', 'usi', 'gy', 'agar', 'karke', 'usme', 'bohot', 'com', 'ticket', 'per', 'lagta', 'sarkari', 'honi', 'lo', 'saari', 'result', 'hona', 'cha', 'banane', 'president', 'news', 'channel', 'dekhta', 'samay', 'dhruv', 'rathee', 'rahenge', 'pankhuripathak', 'government', 'kyon', 'matlab', 'english', 'karte', 'un', '300', 'rakhe', 'level', 'bulaya', 'tou', 'kha', 'khrab', '20', 'crore', 'pure', 'mile', 'vo', 'serious', 'isliye', 'kyuki', 'nay', 'sa', 'aukaat', 'lena', 'reallyswara', 'jaisa', 'es', 'sath', 'social', 'khuda', 'mard', 'mudde', 'bache', 'hee', 'kia', 'rsprasad', '15', 'cong', 'bbchindi', 'randi', 'humesha', 'sambit', '1', 'jigneshmevani80', 'prakashraaj', 'mla', 'kitni', 'lagti', 'degree', 'chahye', 'hisab', 'kry', 'inshaallah', 'hardikpatel', 'vaise', 'hal', 'dhobi', 'kutta', 'jaisi', 'rahi', 'jese', 'padh', 'isme', 'lag', 'rehne', 'dijiye', 'rubika', 'bechara', 'bada', 'tumhari', 'samajh', 'bahar', 'jyada', 'dalo', 'ane', 'agle', 'zindabad', 'politics', 'hy', 'bachon', 'chu', 'usko', 'karwa', 'kam', 'ku', 'tujhe', 'mtlb', 'jayegi', 'bakchodi', 'lene', 'hawa', 'pradesh', 'mila', 'mishra', 'maharaj', 'captain', 'statement', 'rhi', 'pehla', 'buri', 'shi', 'su', 'denge', 'iske', 'uncle', 'bnaya', 'dekhte', 'hue', 'insan', 'aapki', 'matram', 'mata', 'pouting_face', '1992', 'wc', 'logon', 'kehne', 'naye', 'islam', 'dar', 'hamesha', 'dna', 'ignore', \"ma'am\", 'jaise', 'jeeta', 'piche', 'likhte', 'askanshul', 'jise', 'mara', 'mullo', 'beti', 'voh', 'itni', 'mohabbat', 'account', '5sal', 'report', 'deta', 'jhoot', 'jit', 'hindustan', 'mujhe', 'admi', 'adarsh', 'marne', 'yogi', 'cm', 'bolti', 'pradhan', 'south', 'africa', 'number', 'viswas', 'rohit', 'kah', 'dikha', 'deni', 'pp', 'cheez', 'karlo', 'vivekoberoi', 'shahid', 'siddiqui', 'baap', 'nam', 'chup', 'bsdk', 'swamy39', 'gay', 'tune', 'en', 'kon', 'pura', 'ganga', 'sharm', 'pappu', 'priyankagandhi', 'kyoki', 'evm', 'jeete', 'wajah', 'aayi', 'kuchh', 'behan', 'thappad', 'saare', 'delete', 'maine', 'banaya', 'amishdevgan', 'opposition', 'chuki', 'dusre', 'political', 'bura', 'yha', 'dekhi', 'jaaye', 'yahan', 'paisa', 'magar', 'harkat', 'winking_face_with_tongue', 'han', 'agli', 'eidi', 'agr', 'rolling_on_the_floor_laughing', 'unfollow', 'maryamnsharif', 'aurat', 'hind', 'aapse', 'request', 'dena', 'corruption', 'nazar', 'ayi', 'yehi', 'jis', 'vipaksh', 'hindi', 'waise', 'tab', 'icc', 'cricketworldcup', 'via', 'youtube', 'group', 'jagah', 'nawaz', 'dia', 'jald', 'baki', 'spokesperson', 'tv', 'unko', 'jawab', 'den', 'technicalguruji', 'bass', 'lakin', 'bna', 'leti', 'sahib', 'kay', 'bolta', 'bech', 'hardik', 'thik', 'naa', 'pakvwi', 'jake', 'nikal', 'idhar', 'twitter', 'bhag', 'beaming_face_with_smiling_eyes', 'kuty', 'dum', 'tarha', 'age', 'kai', 'larki', 'confirm', 'team', 'ptm', 'jaye', 'jawan', 'block', 'jayega', 'tabhi', 'bhart', 'hein', 'poore', 'kise', 'defend', 'vaha', 'haal', 'peaceforchange', 'shabazgil', 'zinda', 'chala', 'rakha', 'samjh', 'khiladi', 'kyo', 'faila', 'chahta', 'yaha', 'ahmed', 'krte', 'enko', 'bataya', 'bade', 'vi', 'dhoka', 'hae', 'jisne', 'jitaya', 'tujh', 'dalal', 'sala', 'itna', 'hmoindia', 'chota', 'sharif', 'iski', 'nasal', 'pti', 'mey', 'banaye', 'bakwas', 'milega', 'aab', '2014', 'against', 'lye', 'dekha', 'apki', 'pehly', 'thy', 'jarur', 'solve', 'karenge', 'apko', 'char', 'sonamjain001', 'aimim', 'ali', 'imrankhanpti', 'waale', 'ghanta', 'aya', 'price', 'feku', 'gai', 'puri', 'corrupt', 'kerte', 'lia', 'lanat', 'te', 'patwari', 'bbhuttozardari', 'rssurjewala', 'road', 'ashutosh83b', 'drkumarvishwas', 'aamaadmiparty', 'ammi', '**', 'thinker', 'jaan', 'dosti', 'incmp', 'mukt', 'pay', 'chamcha', 'bta', 'du', 'khilaaf', 'chara', 'itz', 'gaand', 'chali', 'aik', 'zaroorat', 'hay', 'baqi', 'dekhiye', 'train', 'hatya', 'dhayan', 'seva', 'ta', 'mahila', 'karya', 'gujarat', 'shayad', 'janam', 'mujy', 'lgta', 'ra', 'hath', 'chori', 'karachi', 'suwar', 'bachay', 'chand', 'khane', 'bhee', 'terrorism', 'dunya', 'badnam', 'saaf', 'kara', 'patrag', 'chuka', 'kami', 'aa', 'bhakto', 'sawal', 'mann', 'ashoswai', 'bara', 'madarchod', 'jaldi', 'bi', 'socha', 'wohi', 'duaa', 'namaz', 'hn', 'la', 'hei', 'payal', 'rohatgi', 'bilkul', 'accha', '18', 'gae', 'yaad', 'bhul', 'banana', 'men', 'zindagi', 'bhot', 'achi', 'gautamgambhir', 'javedakhtarjadu', 'ajaydevgn', 'chhod', 'wah', 'sarfaraz', 'cwc19', 'nah', 'usse', 'haryana', 'cmohry', 'asli', 'visvas', 'nhe', 'karan', 'exam', 'sambitswaraj', 'jaoge', 'li', 'tumne', 'politician', 'ahmad', 'akhir', 'grinning_face', 'naya', 'wajha', 'jate', 'isi', 'majorgauravarya', 'hame', 'aayega', 'paper', 'aage', 'jaane', 'persevering_face', 'wi', 'karti', 'atheist', 'krishna', 'dikh', 'seedha', 'parliament', 'ar', 'chalta', 'sudhar', 'reservation', 'chalega', 'umeed', 'sanjay', 'umer', 'mae', 'victory_hand_selector', 'tm', 'geonews', 'urdu', 'worldcup', 'likh', 'chat', 'interact', 'uth', 'kisiko', '?…', 'rs', 'galti', 'namo', 'jitni', 'poora', 'pmln', 'zada', 'gaddar', 'sabit', 'arunjaitley', 'hinduo', 'aapk', 'jitna', 'uska', 'imandar', 'nayi', 'maidan', 'zarurat', 'saccha', 'kahi', 'jhuth', 'nitish', 'kumar', 'bahumat', 'article', 'jana', '2024', 'ayega', 'jata', 'thay', 'acha', 'myogiadityanath', 'krny', 'kewal', 'honge', 'journalist', 'hin', 'anchor', 'bahot', 'decision', 'farq', 'jee', 'inka', 'marzi', 'abb', 'industry', 'karegi', 'beta', 'vichar', 'chahe', 'cr', 'iyc', 'hissa', 'timesnow', 'bolo', 'mc', 'ghar', 'batting', 'akela', 'azam', 'py', 'aaye', 'jeetne', 'bahi', 'aapka', 'bhout', 'jaya', 'kaat', 'alawa', 'tumhara', 'prediction', 'bangladesh', 'grimacing_face', 'workers', 'gas', 'prabhu', 'kafi', 'baate', 'kisko', 'chale', 'aate', 'bprerna', 'pani', 'thori', 'purani', 'nehi', 'wahi', 'ministry', 'aam', 'vikas', 'thodi', 'kisano', 'bata', 'deya', 'smritiirani', 'sansad', 'ajj', 'bole', 'congres', 'imvkohli', 'ghulam', 'pradhanmantri', 'haath', 'propaganda', 'agent', 'chunav', 'bo', 'anuragkashyap72', 'gaali', 'tag', 'kavita', 'sharma4', 'xadeejournalist', 'jati', 'suru', 'lagi', 'bhale', 'zardari', 'gdp', 'padta', 'unemployment', 'education', 'himat', 'bande', 'security', 'bh', 'piyushgoyaloffc', 'shehla', 'rashid', 'hanuman', 'fail', 'socho', 'supporter', 'bahir', 'haq', 'yadav', 'pariwar', 'umar', 'students', 'kismat', 'run', '70', 'barabar', 'humne', 'broken_heart', 'milne', 'owaisi', 'milte', 'janab', 'sham', 'ky', 'baaki', 'jayenge', 'konsa', 'insaan', 'paida', 'rajniti', 'dam', 'option', 'england', '54', 'unamused_face', 'kehta', 'ranaayyub', 'kyunki', 'jin', 'inki', 'appki', 'hokar', 'chod', 'smjh', 'tumhare', 'door', 'msisodia', 'gareeb', 'kahe', 'milegi', 'barbad', 'theek', 'vale', 'obc', 'dhokha', 'dosto', 'wapis', 'lega', 'zaleel', 'mahan', 'secularism', 'aacha', 'mili', 'milta', 'gulam', 'girirajsinghbjp', 'sri', 'sadak', '500', 'nitishkumar', '105', 'poori', 'darr', 'paa', 'nautanki', 'fayda', 'congressi', 'fauj', 'smirking_face', 'mahadev', 'unka', 'karni', 'aamir', 'nikla', 'itsbhushankumar', 'bayan', 'dard', 'bete', 'malum', 'mene', 'atal', 'humara', 'bolna', 'jaa', 'bhaga', 'buddhe', 'criminal', 'bhar', 'inc', 'uske', 'bekar', 'layak', 'waly', 'acchi', 'bhool', 'rajnathsingh', 'koe', 'wahan', 'kahan', 'suna', 'sun', 'kamal', 'court', 'commission', 'angrejo', 'deshbhakt', 'nehru', 'zartajgulwazir', 'masla', 'ge', 'malik', 'ay', 'hoty', 'ati', 'pahle', 'dusro', 'cow', 'mn', 'mery', 'bane', 'jahil', 'daal', 'nationalist', 'bohut', 'aag', 'vivekagnihotri', 'kutto', 'khilaf', 'mast', 'baitha', 'anupampkher', 'hussain', 'ndtv', 'India', 'thinking_face', 'fb', 'hogi', 'comments', 'sanjayazadsln', 'university', 'gaurav', 'sp', 'mana', 'virodh', 'dev', 'chaiye', 'aao', 'deti', 'gang', 'jada', 'bani', '%', 'tumse', 'chacha', '14', 'kbhi', 'maaf', 'jal', 'unhone', 'aayenge', 'rat', 'zainabsikander', 'reply', 'mamata', 'jitne', 'keya', 'student', 'waja', 'zeenews', 'garib', 'chuke', 'au', 'uss', 'kh', 'baja', 'ese', 'gussa', 'behn', 'abba', 'maro', 'fawadchaudhry', 'electricity', 'banda', 'kartay', 'jeetna', 'shoaib', 'lad', 'sanjaynirupam', 'officer', 'khandan', 'kasam', 'aati', 'kiye', 'dalle', 'neutral_face', 'chamche', 'bn', 'modiledubega', 'amethi', 'yh', 'gupta', 'middle_finger', 'sar', 'amir', 'batsman', 'opinion', 'pal', 'gye', 'gaandu', 'bhaag', 'dalit', 'lekar', 'dunga', 'jb', 'upper', 'godi', 'kitne', 'banne', 'bht', 'br', 'sabko', 'achhe', 'hen', 'lambi', 'code', 'etc', 'bandh', 'wapas', 'murkh', 'roz', 'rishibagree', 'bne', 'khi', 'chahte', 'kejriwal', 'dusri', 'bajaye', 'tb', 'trah', 'humein', 'karay', 'kahna', 'cabinet', 'apnay', 'reh', 'drama', 'sidha', 'jara', 'des', 'gum', 'officialdgispr', 'sal', 'business', 'waqt', 'khanumarfa', 'karn', 'maa-baap', 'bachy', 'afghani', 'rehta', 'sarkaar', 'shadi', 'swagat', 'loksabha', 'nae', 'mumbai', 'candidate', 'sah', 'expressionless_face', 'bante', 'bhosda', 'omarayubkhan', 'balki', 'shaan', 'suicide', 'arrest', 'ish', 'juth', 'samjha', 'sirji', 'lie', 'bachpan', 'bhasha', 'banegi', 'inn', 'desistupides', 'haa', 'dp', 'suar', 'saala', 'sara', 'halat', 'anandk2012', 'ch', 'jaruri', 'azadi', 'jaake', 'aayegi', 'station', 'choro', 'likhi', 'roj', 'khatm', 'ashokgehlot51', 'dobara', 'shefvaidya', 'religion', 'jaga', 'sh', 'tatti', 'imran', 'face_with_steam_from_nose', 'bhadwe', 'inhe', 'behen', 'nikalo', 'bano', 'dalali', 'abki', '28', 'ladka', 'hoi', 'vs', 'jitega', 'lagte', 'gand', '8', 'anand', 'member', 'hathi', 'arre', 'saheb', '=', 'dwara', 'dharam', 'chalane', 'news18india', '23', 'kapil', 'america', 'boycott', 'samajhne', 'zyada', 'terrorist', 'huva', 'rehti', 'shukar', 'hmesha', 'karana', 'common', 'dekhne', 'room', '2.', 'whosunilgrover', 'padega', 'hack', 'httweets', 'shilpisinghinc', 'shareef', 'jinhe', 'immak02', 'haramkhor', 'sabke', 'mayawati', 'lete', 'huye', 'muh', 'dy', 'narender', 'sachinpilot', 'lok', 'rani', 'ik', 'sake', 'ro', 'aana', 'baccho', 'itx', 'je', 'munh', 'jaty', 'mansoor', 'raaj', 'bhokne', 'kohli', 'face_with_rolling_eyes', 'jindabad', 'normal', '007', 'kanhaiya', 'goli', 'issi', 'humare', 'speech', 'laat', 'maaro', 'football', 'news18up', 'chinta', 'data', 'samaj', 'kijiye', 'badhiya', 'padi', 'kalank', 'batana', 'kahin', 'secular', 'hmare', 'choti', 'gunda', 'kash', 'waha', 'khushi', 'mehnat', 'action', 'maut', 'ibne', 'badal', 'comedy', 'hogaye', 'officeofknath', 'squinting_face_with_tongue', '10', 'jaana', 'lga', 'skta', 'muje', 'dost', 'bari', 'tw', 'niche', 'karr', 'ashraffem', 'kissi', 'tax', 'yuva', 'bachhon', 'manniye', 'janm', 'aunty', 'kuttey', 'banta', 'daily', 'village', 'mauka', 'ladki', 'tara', 'china', 'sapath', 'kese', 'musalmano', 'clear', 'roop', 'kaisa', '30', 'master', 'kre', 'shehzad', 'hm', 'grinning_face_with_big_eyes', 'yadi', 'rajasthan', 'ghante', 'khana', 'yadavtejashwi', 'nikalne', 'mu', 'acche', 'achcha', 'reality', 'mna', 'bhosdi', 'teacher', 'khus', 'troll', 'karoge', 'shayarimran', 'ghatna', 'kaa', 'chakkar', 'yaa', 'qki', 'bigad', 'km', 'chillate', 'ameer', 'ijjat', 'machine', 'pichle', 'kb', 'andar', 'subah', 'kehte', 'jhasanjay', 'muhammad', 'pade', 'rakhna', 'nikala', 'apney', 'hmm', 'ae', 'seats', 'ul', 'baaj', 'dimag', 'ee', 'players', 'kripa', 'hata', 'aulaad', 'new_moon_face', 'mujh', 'gaane', 'rape', 'quran', 'ns', 'kabi', 'gar', 'suno', 'btaya', 'ly', 'appko', 'karein', 'punjab', 'candidates', 'nikaal', 'khaane', 'zarur', 'congratulation', 'humari', 'deen', 'bcci', 'sbka', 'card', 'ashirwad', 'akhilesh', 'gayee', 'list', 'maja', 'rona', 'garv', 'lakh', 'suit', 'rule', 'thewirehindi', 'dharm', 'tod', 'dhang', 'freedom', 'kahte', 'bahan', 'abu', 'varna', 'bharosa', 'bhaut', 'awaz', 'tareef', 'pehli', 'samna', 'supporters', 'raja', 'irctcofficial', 'bsp', 'hindus', 'baare', 'ips', 'sayad', 'trp', 'baatein', 'esa', 'chutia', 'sarfraz', 'yad', 'comment', 'virodhi', 'pjkanojia', 'geo', 'khabar', 'sabha', 'sey', 'ti', 'pakka', 'pilot', 'scindia', 'interview', 'rajneeti', 'gaa', 'dety', 'bomb', 'hajaro', 'hamaare', 'ghotale', 'asad', 'triangular_flag', 'moka', 'aajkal', 'abey', 'market', 'paya', 'sunta', 'jae', 'baji', 'loge', 'hamre', 'bijli', 'bhikhari', 'maryam', 'awam', 'hamidmirpak', 'capt', 'issue', 'kadam', 'phone', 'vikash', 'payment', 'hr', 'bangal', 'youth', 'bolenge', 'bhadve', 'galt', 'rh', 'sardar', 'jhut', 'leta', 'ullu', 'rahy', 'esi', 'der', 'indies', 'bhakti', '24', 'sada', 'petrol', 'muslimo', 'bik', 'mediacellpp', 'update', 'railminindia', 'pragya', 'jalan', 'bap', 'bhenchod', 'hara', 'attack', 'paki', 'koshish', 'paye', 'kavi', 'bibi', 'blame', 'achhi', 'badnaam', 'kher', 'tamanna', 'nivedan', 'imandaar', 'jante', 'kyonki', 'khate', 'pit', 'key', 'face_with_raised_eyebrow', 'jesi', 'lg', 'jarariya91', 'aasha', 'yahe', 'district', 'rahiye', 'tukde', 'chaat', 'lee', 'karane', 'smriti', 'anjana', 'jaata', 'gir', 'vijay', 'krke', 'assam', 'chuna', 'zaidzamanhamid', 'sree', 'afghanistan', 'sc', 'face_with_symbols_on_mouth']\n",
            "['a', 'life', 'all', '_', 'they', \"'\", 'is', '!', 'but', 'i', 'that', 'and', 'it', 's', 'from', 'can', 'you', 'on', 'one', '#', 'rt', 'love', 'u', 'red_heart', '!!', 'we', 'my', 'the', 'of', 'us', 'very', 'beautiful', 'for', 'so', 'smiling_face_with_heart-eyes', 'see', 'our', 'be', 'will', 'not', 'do', 'happy', 'god', 'with', 'always', 'as', 'birthday', 'birthday_cake', 'better', 'than', 'if', 'your', 'hope', 'best', 'today', 'good', 'in', 'this', 'has', 'give', 'how', 'work', 'his', 'been', 'at', 'guys', 'want', 'day', 'no', 'like', 'thank', 'morning', 'was', 'bless', '&', 'know', 'now', 'much', 'gurmeetramrahim', 'dhan', 'satguru', 'aasra', 'red_heart_selector', 'may', 'look', 'great', 'by', 'when', 'get', 'just', 'two_hearts', 'what', 'have', 'are', 'ur', 'wish', 'more', 'really', 'am', 'people', '“', 'made', 'rose', 'way', 'sparkling_heart', 'sewa', 'simran', 'parmarth', 'almighty', 'papa', 'plz', 'sumiran', 'many', 'never', 'him', 'face_blowing_a_kiss', 'going', 'most', 'got', 'purple_heart', 'll', 'blessed', 'think', 'don', 'blue_heart']\n"
          ],
          "name": "stdout"
        }
      ]
    },
    {
      "cell_type": "code",
      "metadata": {
        "id": "RTso9rVk-O7R"
      },
      "source": [
        ""
      ],
      "execution_count": null,
      "outputs": []
    },
    {
      "cell_type": "code",
      "metadata": {
        "id": "zWNk9g19ckFY",
        "outputId": "83d1be58-2e66-45b6-d68a-5a495e3d053d",
        "colab": {
          "base_uri": "https://localhost:8080/",
          "height": 241
        }
      },
      "source": [
        "w2v_model.wv.similar_by_vector(model.cluster_centers_[2], topn=10, restrict_vocab=None)\n"
      ],
      "execution_count": null,
      "outputs": [
        {
          "output_type": "stream",
          "text": [
            "/usr/local/lib/python3.6/dist-packages/gensim/matutils.py:737: FutureWarning: Conversion of the second argument of issubdtype from `int` to `np.signedinteger` is deprecated. In future, it will be treated as `np.int64 == np.dtype(int).type`.\n",
            "  if np.issubdtype(vec.dtype, np.int):\n"
          ],
          "name": "stderr"
        },
        {
          "output_type": "execute_result",
          "data": {
            "text/plain": [
              "[('day', 0.9997848272323608),\n",
              " ('always', 0.9996997714042664),\n",
              " ('&', 0.9994950294494629),\n",
              " ('very', 0.9994833469390869),\n",
              " ('best', 0.9993396401405334),\n",
              " ('thank', 0.9992950558662415),\n",
              " ('!!', 0.9991557598114014),\n",
              " ('as', 0.9991085529327393),\n",
              " ('birthday', 0.9990576505661011),\n",
              " ('at', 0.9989974498748779)]"
            ]
          },
          "metadata": {
            "tags": []
          },
          "execution_count": 21
        }
      ]
    },
    {
      "cell_type": "code",
      "metadata": {
        "id": "a9EUYeNYlVNu",
        "outputId": "d394ec40-aa32-4f27-e87d-6afdce2f6e99",
        "colab": {
          "base_uri": "https://localhost:8080/",
          "height": 241
        }
      },
      "source": [
        "w2v_model.wv.similar_by_vector(model.cluster_centers_[0], topn=10, restrict_vocab=None)\n"
      ],
      "execution_count": null,
      "outputs": [
        {
          "output_type": "stream",
          "text": [
            "/usr/local/lib/python3.6/dist-packages/gensim/matutils.py:737: FutureWarning: Conversion of the second argument of issubdtype from `int` to `np.signedinteger` is deprecated. In future, it will be treated as `np.int64 == np.dtype(int).type`.\n",
            "  if np.issubdtype(vec.dtype, np.int):\n"
          ],
          "name": "stderr"
        },
        {
          "output_type": "execute_result",
          "data": {
            "text/plain": [
              "[('rest', 0.999931812286377),\n",
              " ('perfect', 0.9999271631240845),\n",
              " ('bday', 0.9999269247055054),\n",
              " ('th', 0.9999257326126099),\n",
              " ('myself', 0.9999244809150696),\n",
              " ('around', 0.9999220967292786),\n",
              " ('sona', 0.9999216794967651),\n",
              " ('!…', 0.9999215602874756),\n",
              " ('voice', 0.9999210834503174),\n",
              " ('ones', 0.9999209046363831)]"
            ]
          },
          "metadata": {
            "tags": []
          },
          "execution_count": 22
        }
      ]
    },
    {
      "cell_type": "code",
      "metadata": {
        "id": "sMnDo4SulY1f",
        "outputId": "3a4802ca-93b2-466f-ed92-5bbec2a7459d",
        "colab": {
          "base_uri": "https://localhost:8080/",
          "height": 241
        }
      },
      "source": [
        "w2v_model.wv.similar_by_vector(model.cluster_centers_[1], topn=10, restrict_vocab=None)\n"
      ],
      "execution_count": null,
      "outputs": [
        {
          "output_type": "stream",
          "text": [
            "/usr/local/lib/python3.6/dist-packages/gensim/matutils.py:737: FutureWarning: Conversion of the second argument of issubdtype from `int` to `np.signedinteger` is deprecated. In future, it will be treated as `np.int64 == np.dtype(int).type`.\n",
            "  if np.issubdtype(vec.dtype, np.int):\n"
          ],
          "name": "stderr"
        },
        {
          "output_type": "execute_result",
          "data": {
            "text/plain": [
              "[('sanjaynirupam', 0.999948263168335),\n",
              " ('ppbajpai', 0.9999476075172424),\n",
              " ('dekho', 0.9999446868896484),\n",
              " ('rehta', 0.9999421238899231),\n",
              " ('chitraaum', 0.9999420642852783),\n",
              " ('den', 0.9999410510063171),\n",
              " ('karan', 0.9999409914016724),\n",
              " ('aayega', 0.9999406337738037),\n",
              " ('pankhuripathak', 0.9999402761459351),\n",
              " ('isme', 0.9999396800994873)]"
            ]
          },
          "metadata": {
            "tags": []
          },
          "execution_count": 23
        }
      ]
    },
    {
      "cell_type": "code",
      "metadata": {
        "id": "-__36MbEIxQi"
      },
      "source": [
        ""
      ],
      "execution_count": null,
      "outputs": []
    },
    {
      "cell_type": "code",
      "metadata": {
        "id": "6JAw3QilIx5p"
      },
      "source": [
        ""
      ],
      "execution_count": null,
      "outputs": []
    },
    {
      "cell_type": "code",
      "metadata": {
        "id": "AUodlsp9IxXW"
      },
      "source": [
        ""
      ],
      "execution_count": null,
      "outputs": []
    },
    {
      "cell_type": "code",
      "metadata": {
        "id": "NxqQg_WbIxHB"
      },
      "source": [
        ""
      ],
      "execution_count": null,
      "outputs": []
    }
  ]
}