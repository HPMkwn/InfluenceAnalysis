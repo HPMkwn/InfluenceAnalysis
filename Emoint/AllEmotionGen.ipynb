{
  "nbformat": 4,
  "nbformat_minor": 0,
  "metadata": {
    "colab": {
      "name": "AllEmotionGen.ipynb",
      "provenance": [],
      "collapsed_sections": [],
      "include_colab_link": true
    },
    "kernelspec": {
      "name": "python3",
      "display_name": "Python 3"
    },
    "accelerator": "GPU"
  },
  "cells": [
    {
      "cell_type": "markdown",
      "metadata": {
        "id": "view-in-github",
        "colab_type": "text"
      },
      "source": [
        "<a href=\"https://colab.research.google.com/github/harrymkwn/InfluenceAnalysis/blob/master/AllEmotionGen.ipynb\" target=\"_parent\"><img src=\"https://colab.research.google.com/assets/colab-badge.svg\" alt=\"Open In Colab\"/></a>"
      ]
    },
    {
      "cell_type": "code",
      "metadata": {
        "id": "YkuKKcIUmM27",
        "colab": {
          "base_uri": "https://localhost:8080/"
        },
        "outputId": "2038b44c-d99c-41a5-b3b4-e01ed587fdca"
      },
      "source": [
        "import pandas as pd\n",
        "import numpy as np\n",
        "import tensorflow as tf\n",
        "from gensim.models import Word2Vec\n",
        "import matplotlib.pyplot as plt\n",
        "from sklearn.linear_model import LogisticRegression\n",
        "from sklearn.multiclass import OneVsRestClassifier\n",
        "from gensim.models import KeyedVectors\n",
        "from sklearn.model_selection import train_test_split\n",
        "from google.colab import  drive\n",
        "drive.mount('/content/drive')\n",
        "import nltk\n",
        "from nltk.corpus import stopwords\n",
        "nltk.download('stopwords')\n",
        "device_name = tf.test.gpu_device_name()\n",
        "print(device_name)\n",
        "df_train = pd.read_csv('/content/drive/MyDrive/InfluenceAnalysis/Newdata/train_clean.csv',names=['Tweet','Emotion'])\n",
        "df_test = pd.read_csv('/content/drive/MyDrive/InfluenceAnalysis/Newdata/test_clean.csv',names=['Tweet','Emotion'])\n",
        "df_train = df_train.sample(frac=1)\n",
        "df_test = df_train.sample(frac=1)"
      ],
      "execution_count": null,
      "outputs": [
        {
          "output_type": "stream",
          "text": [
            "Mounted at /content/drive\n",
            "[nltk_data] Downloading package stopwords to /root/nltk_data...\n",
            "[nltk_data]   Unzipping corpora/stopwords.zip.\n",
            "/device:GPU:0\n"
          ],
          "name": "stdout"
        }
      ]
    },
    {
      "cell_type": "code",
      "metadata": {
        "id": "P0zrtpGceAiE",
        "colab": {
          "base_uri": "https://localhost:8080/",
          "height": 402
        },
        "outputId": "16c144b8-f4a9-4ad8-8f3f-2e286795f35b"
      },
      "source": [
        "df_train.head(1000)"
      ],
      "execution_count": null,
      "outputs": [
        {
          "output_type": "execute_result",
          "data": {
            "text/html": [
              "<div>\n",
              "<style scoped>\n",
              "    .dataframe tbody tr th:only-of-type {\n",
              "        vertical-align: middle;\n",
              "    }\n",
              "\n",
              "    .dataframe tbody tr th {\n",
              "        vertical-align: top;\n",
              "    }\n",
              "\n",
              "    .dataframe thead th {\n",
              "        text-align: right;\n",
              "    }\n",
              "</style>\n",
              "<table border=\"1\" class=\"dataframe\">\n",
              "  <thead>\n",
              "    <tr style=\"text-align: right;\">\n",
              "      <th></th>\n",
              "      <th>Tweet</th>\n",
              "      <th>Emotion</th>\n",
              "    </tr>\n",
              "  </thead>\n",
              "  <tbody>\n",
              "    <tr>\n",
              "      <th>4706</th>\n",
              "      <td>i got all my hair cut off it almost abov my ear</td>\n",
              "      <td>1</td>\n",
              "    </tr>\n",
              "    <tr>\n",
              "      <th>789</th>\n",
              "      <td>janesas_mommi oh well i hope she get better</td>\n",
              "      <td>2</td>\n",
              "    </tr>\n",
              "    <tr>\n",
              "      <th>11371</th>\n",
              "      <td>nooanoth headachehop not a migrain</td>\n",
              "      <td>2</td>\n",
              "    </tr>\n",
              "    <tr>\n",
              "      <th>9166</th>\n",
              "      <td>at work boo</td>\n",
              "      <td>0</td>\n",
              "    </tr>\n",
              "    <tr>\n",
              "      <th>2039</th>\n",
              "      <td>smallchou I am still work</td>\n",
              "      <td>0</td>\n",
              "    </tr>\n",
              "    <tr>\n",
              "      <th>...</th>\n",
              "      <td>...</td>\n",
              "      <td>...</td>\n",
              "    </tr>\n",
              "    <tr>\n",
              "      <th>5162</th>\n",
              "      <td>my sister in law hous car and tree got hit by ...</td>\n",
              "      <td>2</td>\n",
              "    </tr>\n",
              "    <tr>\n",
              "      <th>4036</th>\n",
              "      <td>yay it firday have a good one everyon on my wa...</td>\n",
              "      <td>1</td>\n",
              "    </tr>\n",
              "    <tr>\n",
              "      <th>6221</th>\n",
              "      <td>offici out of my apt learn some stuff about th...</td>\n",
              "      <td>1</td>\n",
              "    </tr>\n",
              "    <tr>\n",
              "      <th>9068</th>\n",
              "      <td>fishie haha itll be gross by the time it come ...</td>\n",
              "      <td>1</td>\n",
              "    </tr>\n",
              "    <tr>\n",
              "      <th>6691</th>\n",
              "      <td>lisatalkingtot sorri to hear your news</td>\n",
              "      <td>0</td>\n",
              "    </tr>\n",
              "  </tbody>\n",
              "</table>\n",
              "<p>1000 rows × 2 columns</p>\n",
              "</div>"
            ],
            "text/plain": [
              "                                                   Tweet Emotion\n",
              "4706     i got all my hair cut off it almost abov my ear       1\n",
              "789          janesas_mommi oh well i hope she get better       2\n",
              "11371                 nooanoth headachehop not a migrain       2\n",
              "9166                                         at work boo       0\n",
              "2039                           smallchou I am still work       0\n",
              "...                                                  ...     ...\n",
              "5162   my sister in law hous car and tree got hit by ...       2\n",
              "4036   yay it firday have a good one everyon on my wa...       1\n",
              "6221   offici out of my apt learn some stuff about th...       1\n",
              "9068   fishie haha itll be gross by the time it come ...       1\n",
              "6691              lisatalkingtot sorri to hear your news       0\n",
              "\n",
              "[1000 rows x 2 columns]"
            ]
          },
          "metadata": {
            "tags": []
          },
          "execution_count": 2
        }
      ]
    },
    {
      "cell_type": "code",
      "metadata": {
        "id": "K68sxL_LfLy7",
        "colab": {
          "base_uri": "https://localhost:8080/"
        },
        "outputId": "d4ea9e8f-72c2-4cbd-fac9-3b5cd049903b"
      },
      "source": [
        "df_test.Emotion.unique()"
      ],
      "execution_count": null,
      "outputs": [
        {
          "output_type": "execute_result",
          "data": {
            "text/plain": [
              "array(['2', '0', '1', '3', 'emotion'], dtype=object)"
            ]
          },
          "metadata": {
            "tags": []
          },
          "execution_count": 3
        }
      ]
    },
    {
      "cell_type": "code",
      "metadata": {
        "id": "Y9KFGTW2iP8J",
        "colab": {
          "base_uri": "https://localhost:8080/"
        },
        "outputId": "6c4c7159-c97b-4332-be06-6b0d863aa84d"
      },
      "source": [
        "df_train.nunique()"
      ],
      "execution_count": null,
      "outputs": [
        {
          "output_type": "execute_result",
          "data": {
            "text/plain": [
              "Tweet      12370\n",
              "Emotion        5\n",
              "dtype: int64"
            ]
          },
          "metadata": {
            "tags": []
          },
          "execution_count": 4
        }
      ]
    },
    {
      "cell_type": "code",
      "metadata": {
        "id": "7yV6_xYSnZHt"
      },
      "source": [
        "category_dict = {'0':[1,0,0,0],'1':[0,1,0,0],'2':[0,0,1,0],'3':[0,0,0,1],'emotion':[1,0,0,0]}\n",
        "train_data_tweet = [x.lower().split() for x in df_train['Tweet']]\n",
        "train_data_cat = np.array([category_dict[x] for x in df_train['Emotion']])\n",
        "test_data_tweet = [x.lower().split() for x in df_test['Tweet']]\n",
        "test_data_cat = np.array([category_dict[x] for x in df_test['Emotion']])\n",
        "\n",
        "data_tweet = train_data_tweet + test_data_tweet"
      ],
      "execution_count": null,
      "outputs": []
    },
    {
      "cell_type": "code",
      "metadata": {
        "id": "5mIV-pI5C44j"
      },
      "source": [
        "# Parameters\n",
        "Min_count = 0\n",
        "Embedding_size = 100\n",
        "Window_size = 5\n",
        "Negative_sampling = 00"
      ],
      "execution_count": null,
      "outputs": []
    },
    {
      "cell_type": "code",
      "metadata": {
        "id": "uUSBfiE0nTVv",
        "colab": {
          "base_uri": "https://localhost:8080/"
        },
        "outputId": "34e2cbd7-58c9-40ee-be26-c46dc656341b"
      },
      "source": [
        "w2v_sg = Word2Vec(min_count=Min_count,\n",
        "                     window=Window_size,\n",
        "                     size=Embedding_size,\n",
        "                     negative=Negative_sampling,sg=1)\n",
        "w2v_sg.build_vocab(data_tweet)\n",
        "w2v_sg.train(data_tweet, total_examples=w2v_sg.corpus_count, epochs=5)\n",
        "w2v_cbow = Word2Vec(min_count=Min_count,\n",
        "                     window=Window_size,\n",
        "                     size=Embedding_size,\n",
        "                     negative=Negative_sampling,sg=0)\n",
        "w2v_cbow.build_vocab(data_tweet)\n",
        "w2v_cbow.train(data_tweet, total_examples=w2v_cbow.corpus_count, epochs=5)"
      ],
      "execution_count": null,
      "outputs": [
        {
          "output_type": "execute_result",
          "data": {
            "text/plain": [
              "(1303920, 1724630)"
            ]
          },
          "metadata": {
            "tags": []
          },
          "execution_count": 7
        }
      ]
    },
    {
      "cell_type": "code",
      "metadata": {
        "id": "gVzquoxb6FQJ"
      },
      "source": [
        "vocab_sg = w2v_sg.wv.vocab\n",
        "vocab_sg = [x for x in vocab_sg]\n",
        "vocab_cbow = w2v_cbow.wv.vocab\n",
        "vocab_cbow = [x for x in vocab_cbow] \n",
        "vocab_glove = {}\n",
        "with open(\"/content/drive/My Drive/InfluenceAnalysis/glove/glove.twitter.27B.100d.txt\", 'r', encoding=\"utf-8\") as f:\n",
        "  for line in f:\n",
        "      values = line.split()\n",
        "      word = values[0]\n",
        "      vector = np.asarray(values[1:], \"float32\")\n",
        "      vocab_glove[word] = vector"
      ],
      "execution_count": null,
      "outputs": []
    },
    {
      "cell_type": "code",
      "metadata": {
        "id": "rdgSI9FSmw60"
      },
      "source": [
        "batch_size = 500\r\n",
        "Max_input_size = max([len(x) for x in data_tweet])\r\n"
      ],
      "execution_count": null,
      "outputs": []
    },
    {
      "cell_type": "code",
      "metadata": {
        "id": "ArwAlW-wmZxv"
      },
      "source": [
        "def vec_gen(w2v,vocab,data_tweet,data_cat,batch_size,Max_input_size,Embedding_size):\r\n",
        "  while True:\r\n",
        "    for k in range(int(len(data_tweet)/batch_size)):\r\n",
        "      temp = np.array([np.array([w2v.wv.get_vector(i) for i in x if i in vocab]) for x in data_tweet[k*(batch_size):(k+1)*(batch_size)]])\r\n",
        "      temp = np.array([np.pad(x.flatten(),(0,Max_input_size*Embedding_size-len(x.flatten()))).reshape(Max_input_size,Embedding_size) for x in temp])\r\n",
        "      tempres = data_cat[k*(batch_size):(k+1)*(batch_size)]\r\n",
        "      yield (temp,tempres)\r\n",
        "\r\n",
        "def glove_gen(vocab,data_tweet,data_cat,batch_size,Max_input_size,Embedding_size=100):\r\n",
        "  while True:\r\n",
        "    for k in range(int(len(data_tweet)/batch_size)):\r\n",
        "      temp = np.array([np.array([vocab[i] for i in x if i in vocab.keys()]) for x in data_tweet[k*(batch_size):(k+1)*(batch_size)]])\r\n",
        "      temp = np.array([np.pad(x.flatten(),(0,Max_input_size*Embedding_size-len(x.flatten()))).reshape(Max_input_size,Embedding_size) for x in temp])\r\n",
        "      tempres = data_cat[k*(batch_size):(k+1)*(batch_size)]\r\n",
        "      yield (temp,tempres)\r\n"
      ],
      "execution_count": null,
      "outputs": []
    },
    {
      "cell_type": "code",
      "metadata": {
        "id": "-Fue2npdFINi"
      },
      "source": [
        "X_train = train_data_tweet\n",
        "X_test = test_data_tweet\n",
        "y_train = train_data_cat\n",
        "y_test = test_data_cat \n",
        "result_table = [0,0,0,0,0,0,0,0,0]"
      ],
      "execution_count": null,
      "outputs": []
    },
    {
      "cell_type": "code",
      "metadata": {
        "id": "0leTuTOb3naL"
      },
      "source": [
        "epochs = 20"
      ],
      "execution_count": null,
      "outputs": []
    },
    {
      "cell_type": "code",
      "metadata": {
        "id": "1GfgXfAFlD1J",
        "colab": {
          "base_uri": "https://localhost:8080/"
        },
        "outputId": "f3ac0c63-74fc-43cb-c6f0-ff398ad08523"
      },
      "source": [
        "model_sg = tf.keras.Sequential()\n",
        "model_sg.add(tf.keras.Input(shape=(Max_input_size,Embedding_size)))\n",
        "model_sg.add(tf.keras.layers.LSTM(50))\n",
        "model_sg.add(tf.keras.layers.Dense(4, activation='softmax'))\n",
        "model_sg.compile(loss='categorical_crossentropy',optimizer='adam', \n",
        "                           metrics=['accuracy'])\n",
        "history = model_sg.fit_generator(generator = vec_gen(w2v_sg,vocab_sg,X_train,y_train,batch_size,Max_input_size,Embedding_size),steps_per_epoch=int(len(X_train)/batch_size),epochs=epochs)\n",
        "history = model_sg.evaluate(x = vec_gen(w2v_sg,vocab_sg,X_test,y_test,batch_size,Max_input_size,Embedding_size),steps=int(len(y_test)/batch_size))\n",
        "print(history)\n",
        "\n",
        "result_table[0]=history[1]\n",
        "print(\"SG_LSTM\")\n"
      ],
      "execution_count": null,
      "outputs": [
        {
          "output_type": "stream",
          "text": [
            "WARNING:tensorflow:From <ipython-input-13-89a8fa1475ef>:7: Model.fit_generator (from tensorflow.python.keras.engine.training) is deprecated and will be removed in a future version.\n",
            "Instructions for updating:\n",
            "Please use Model.fit, which supports generators.\n",
            "Epoch 1/20\n",
            "24/24 [==============================] - 5s 228ms/step - loss: 1.2688 - accuracy: 0.5683\n",
            "Epoch 2/20\n",
            "24/24 [==============================] - 6s 231ms/step - loss: 1.0361 - accuracy: 0.5860\n",
            "Epoch 3/20\n",
            "24/24 [==============================] - 6s 233ms/step - loss: 0.9882 - accuracy: 0.5860\n",
            "Epoch 4/20\n",
            "24/24 [==============================] - 6s 231ms/step - loss: 0.9858 - accuracy: 0.5860\n",
            "Epoch 5/20\n",
            "24/24 [==============================] - 6s 233ms/step - loss: 0.9857 - accuracy: 0.5860\n",
            "Epoch 6/20\n",
            "24/24 [==============================] - 6s 236ms/step - loss: 0.9857 - accuracy: 0.5860\n",
            "Epoch 7/20\n",
            "24/24 [==============================] - 6s 236ms/step - loss: 0.9856 - accuracy: 0.5860\n",
            "Epoch 8/20\n",
            "24/24 [==============================] - 6s 231ms/step - loss: 0.9856 - accuracy: 0.5860\n",
            "Epoch 9/20\n",
            "24/24 [==============================] - 6s 229ms/step - loss: 0.9856 - accuracy: 0.5860\n",
            "Epoch 10/20\n",
            "24/24 [==============================] - 6s 230ms/step - loss: 0.9857 - accuracy: 0.5860\n",
            "Epoch 11/20\n",
            "24/24 [==============================] - 5s 227ms/step - loss: 0.9857 - accuracy: 0.5860\n",
            "Epoch 12/20\n",
            "24/24 [==============================] - 6s 231ms/step - loss: 0.9857 - accuracy: 0.5860\n",
            "Epoch 13/20\n",
            "24/24 [==============================] - 6s 232ms/step - loss: 0.9857 - accuracy: 0.5860\n",
            "Epoch 14/20\n",
            "24/24 [==============================] - 6s 233ms/step - loss: 0.9858 - accuracy: 0.5860\n",
            "Epoch 15/20\n",
            "24/24 [==============================] - 6s 249ms/step - loss: 0.9858 - accuracy: 0.5860\n",
            "Epoch 16/20\n",
            "24/24 [==============================] - 6s 245ms/step - loss: 0.9859 - accuracy: 0.5860\n",
            "Epoch 17/20\n",
            "24/24 [==============================] - 6s 230ms/step - loss: 0.9860 - accuracy: 0.5860\n",
            "Epoch 18/20\n",
            "24/24 [==============================] - 6s 233ms/step - loss: 0.9861 - accuracy: 0.5860\n",
            "Epoch 19/20\n",
            "24/24 [==============================] - 6s 230ms/step - loss: 0.9863 - accuracy: 0.5860\n",
            "Epoch 20/20\n",
            "24/24 [==============================] - 6s 236ms/step - loss: 0.9865 - accuracy: 0.5860\n",
            "24/24 [==============================] - 6s 235ms/step - loss: 0.9842 - accuracy: 0.5868\n",
            "[0.9842263460159302, 0.5868333578109741]\n",
            "SG_LSTM\n"
          ],
          "name": "stdout"
        }
      ]
    },
    {
      "cell_type": "code",
      "metadata": {
        "colab": {
          "base_uri": "https://localhost:8080/"
        },
        "id": "eJHtKjzc1SA8",
        "outputId": "082cb072-ddfc-448d-a1b9-c5847c405772"
      },
      "source": [
        "model_sg_bi = tf.keras.Sequential()\r\n",
        "model_sg_bi.add(tf.keras.Input(shape=(Max_input_size,Embedding_size)))\r\n",
        "model_sg_bi.add(tf.keras.layers.Bidirectional(tf.keras.layers.LSTM(50),merge_mode='concat'))\r\n",
        "model_sg_bi.add(tf.keras.layers.Dense(4, activation='softmax'))\r\n",
        "model_sg_bi.compile(loss='categorical_crossentropy',optimizer='adam', \r\n",
        "                           metrics=['accuracy'])\r\n",
        "history = model_sg_bi.fit_generator(generator = vec_gen(w2v_sg,vocab_sg,X_train,y_train,batch_size,Max_input_size,Embedding_size),steps_per_epoch=int(len(X_train)/batch_size),epochs=epochs)\r\n",
        "history = model_sg_bi.evaluate(x = vec_gen(w2v_sg,vocab_sg,X_test,y_test,batch_size,Max_input_size,Embedding_size),steps=int(len(y_test)/batch_size))\r\n",
        "print(history)\r\n",
        "\r\n",
        "result_table[1]=history[1]\r\n",
        "print(\"SG_BI\")"
      ],
      "execution_count": null,
      "outputs": [
        {
          "output_type": "stream",
          "text": [
            "Epoch 1/20\n",
            "24/24 [==============================] - 6s 229ms/step - loss: 1.2083 - accuracy: 0.5760\n",
            "Epoch 2/20\n",
            "24/24 [==============================] - 6s 233ms/step - loss: 1.0059 - accuracy: 0.5860\n",
            "Epoch 3/20\n",
            "24/24 [==============================] - 6s 231ms/step - loss: 0.9875 - accuracy: 0.5860\n",
            "Epoch 4/20\n",
            "24/24 [==============================] - 6s 230ms/step - loss: 0.9864 - accuracy: 0.5860\n",
            "Epoch 5/20\n",
            "24/24 [==============================] - 6s 233ms/step - loss: 0.9864 - accuracy: 0.5860\n",
            "Epoch 6/20\n",
            "24/24 [==============================] - 6s 233ms/step - loss: 0.9862 - accuracy: 0.5860\n",
            "Epoch 7/20\n",
            "24/24 [==============================] - 6s 232ms/step - loss: 0.9861 - accuracy: 0.5860\n",
            "Epoch 8/20\n",
            "24/24 [==============================] - 6s 233ms/step - loss: 0.9860 - accuracy: 0.5860\n",
            "Epoch 9/20\n",
            "24/24 [==============================] - 6s 233ms/step - loss: 0.9859 - accuracy: 0.5860\n",
            "Epoch 10/20\n",
            "24/24 [==============================] - 6s 230ms/step - loss: 0.9859 - accuracy: 0.5860\n",
            "Epoch 11/20\n",
            "24/24 [==============================] - 6s 230ms/step - loss: 0.9858 - accuracy: 0.5860\n",
            "Epoch 12/20\n",
            "24/24 [==============================] - 6s 232ms/step - loss: 0.9858 - accuracy: 0.5860\n",
            "Epoch 13/20\n",
            "24/24 [==============================] - 6s 238ms/step - loss: 0.9857 - accuracy: 0.5860\n",
            "Epoch 14/20\n",
            "24/24 [==============================] - 6s 237ms/step - loss: 0.9857 - accuracy: 0.5860\n",
            "Epoch 15/20\n",
            "24/24 [==============================] - 6s 232ms/step - loss: 0.9857 - accuracy: 0.5860\n",
            "Epoch 16/20\n",
            "24/24 [==============================] - 6s 232ms/step - loss: 0.9857 - accuracy: 0.5860\n",
            "Epoch 17/20\n",
            "24/24 [==============================] - 6s 233ms/step - loss: 0.9857 - accuracy: 0.5860\n",
            "Epoch 18/20\n",
            "24/24 [==============================] - 6s 230ms/step - loss: 0.9857 - accuracy: 0.5860\n",
            "Epoch 19/20\n",
            "24/24 [==============================] - 6s 229ms/step - loss: 0.9856 - accuracy: 0.5860\n",
            "Epoch 20/20\n",
            "24/24 [==============================] - 6s 232ms/step - loss: 0.9856 - accuracy: 0.5860\n",
            "24/24 [==============================] - 5s 228ms/step - loss: 0.9834 - accuracy: 0.5868\n",
            "[0.9834074974060059, 0.5868333578109741]\n",
            "SG_BI\n"
          ],
          "name": "stdout"
        }
      ]
    },
    {
      "cell_type": "code",
      "metadata": {
        "colab": {
          "base_uri": "https://localhost:8080/"
        },
        "id": "opfhhYPH1VoL",
        "outputId": "013f903e-ee9b-4b89-9f25-c87ba3e8877e"
      },
      "source": [
        "model_sg_rnn = tf.keras.Sequential()\r\n",
        "model_sg_rnn.add(tf.keras.Input(shape=(Max_input_size,Embedding_size)))\r\n",
        "model_sg_rnn.add(tf.keras.layers.SimpleRNN(50))\r\n",
        "model_sg_rnn.add(tf.keras.layers.Dense(4, activation='softmax'))\r\n",
        "model_sg_rnn.compile(loss='categorical_crossentropy',optimizer='adam', \r\n",
        "                           metrics=['accuracy'])\r\n",
        "history = model_sg_rnn.fit_generator(generator = vec_gen(w2v_sg,vocab_sg,X_train,y_train,batch_size,Max_input_size,Embedding_size),steps_per_epoch=int(len(X_train)/batch_size),epochs=epochs)\r\n",
        "history = model_sg_rnn.evaluate(x = vec_gen(w2v_sg,vocab_sg,X_test,y_test,batch_size,Max_input_size,Embedding_size),steps=int(len(y_test)/batch_size))\r\n",
        "print(history)\r\n",
        "\r\n",
        "result_table[2]=history[1]\r\n",
        "print(\"SG_RNN\")"
      ],
      "execution_count": null,
      "outputs": [
        {
          "output_type": "stream",
          "text": [
            "Epoch 1/20\n",
            "24/24 [==============================] - 6s 249ms/step - loss: 1.0900 - accuracy: 0.5729\n",
            "Epoch 2/20\n",
            "24/24 [==============================] - 6s 253ms/step - loss: 0.9857 - accuracy: 0.5860\n",
            "Epoch 3/20\n",
            "24/24 [==============================] - 6s 245ms/step - loss: 0.9856 - accuracy: 0.5860\n",
            "Epoch 4/20\n",
            "24/24 [==============================] - 6s 243ms/step - loss: 0.9856 - accuracy: 0.5860\n",
            "Epoch 5/20\n",
            "24/24 [==============================] - 6s 247ms/step - loss: 0.9856 - accuracy: 0.5860\n",
            "Epoch 6/20\n",
            "24/24 [==============================] - 6s 252ms/step - loss: 0.9856 - accuracy: 0.5860\n",
            "Epoch 7/20\n",
            "24/24 [==============================] - 6s 245ms/step - loss: 0.9856 - accuracy: 0.5860\n",
            "Epoch 8/20\n",
            "24/24 [==============================] - 6s 246ms/step - loss: 0.9856 - accuracy: 0.5860\n",
            "Epoch 9/20\n",
            "24/24 [==============================] - 6s 245ms/step - loss: 0.9857 - accuracy: 0.5860\n",
            "Epoch 10/20\n",
            "24/24 [==============================] - 6s 243ms/step - loss: 0.9857 - accuracy: 0.5860\n",
            "Epoch 11/20\n",
            "24/24 [==============================] - 6s 244ms/step - loss: 0.9857 - accuracy: 0.5860\n",
            "Epoch 12/20\n",
            "24/24 [==============================] - 6s 243ms/step - loss: 0.9857 - accuracy: 0.5860\n",
            "Epoch 13/20\n",
            "24/24 [==============================] - 6s 245ms/step - loss: 0.9858 - accuracy: 0.5860\n",
            "Epoch 14/20\n",
            "24/24 [==============================] - 6s 249ms/step - loss: 0.9858 - accuracy: 0.5860\n",
            "Epoch 15/20\n",
            "24/24 [==============================] - 6s 244ms/step - loss: 0.9858 - accuracy: 0.5860\n",
            "Epoch 16/20\n",
            "24/24 [==============================] - 6s 246ms/step - loss: 0.9858 - accuracy: 0.5860\n",
            "Epoch 17/20\n",
            "24/24 [==============================] - 6s 243ms/step - loss: 0.9859 - accuracy: 0.5860\n",
            "Epoch 18/20\n",
            "24/24 [==============================] - 6s 245ms/step - loss: 0.9859 - accuracy: 0.5860\n",
            "Epoch 19/20\n",
            "24/24 [==============================] - 6s 250ms/step - loss: 0.9859 - accuracy: 0.5860\n",
            "Epoch 20/20\n",
            "24/24 [==============================] - 6s 249ms/step - loss: 0.9860 - accuracy: 0.5860\n",
            "24/24 [==============================] - 6s 230ms/step - loss: 0.9880 - accuracy: 0.5868\n",
            "[0.9879902601242065, 0.5868333578109741]\n",
            "SG_RNN\n"
          ],
          "name": "stdout"
        }
      ]
    },
    {
      "cell_type": "code",
      "metadata": {
        "colab": {
          "base_uri": "https://localhost:8080/"
        },
        "id": "YumD1M9Y1Xxr",
        "outputId": "9de9a993-5fdb-4097-ead4-90b544474972"
      },
      "source": [
        "model_cbow = tf.keras.Sequential()\r\n",
        "model_cbow.add(tf.keras.Input(shape=(Max_input_size,Embedding_size)))\r\n",
        "model_cbow.add(tf.keras.layers.LSTM(50))\r\n",
        "model_cbow.add(tf.keras.layers.Dense(4, activation='softmax'))\r\n",
        "model_cbow.compile(loss='categorical_crossentropy',optimizer='adam', \r\n",
        "                           metrics=['accuracy'])\r\n",
        "history = model_cbow.fit_generator(generator = vec_gen(w2v_cbow,vocab_cbow,X_train,y_train,batch_size,Max_input_size,Embedding_size),steps_per_epoch=int(len(X_train)/batch_size),epochs=epochs)\r\n",
        "history = model_cbow.evaluate(x = vec_gen(w2v_cbow,vocab_cbow,X_test,y_test,batch_size,Max_input_size,Embedding_size),steps=int(len(y_test)/batch_size))\r\n",
        "print(history)\r\n",
        "\r\n",
        "result_table[3]=history[1]\r\n",
        "print(\"CBOW_LSTM\")"
      ],
      "execution_count": null,
      "outputs": [
        {
          "output_type": "stream",
          "text": [
            "Epoch 1/20\n",
            "24/24 [==============================] - 5s 209ms/step - loss: 1.2450 - accuracy: 0.5718\n",
            "Epoch 2/20\n",
            "24/24 [==============================] - 5s 214ms/step - loss: 1.0285 - accuracy: 0.5860\n",
            "Epoch 3/20\n",
            "24/24 [==============================] - 5s 214ms/step - loss: 0.9899 - accuracy: 0.5860\n",
            "Epoch 4/20\n",
            "24/24 [==============================] - 5s 226ms/step - loss: 0.9867 - accuracy: 0.5860\n",
            "Epoch 5/20\n",
            "24/24 [==============================] - 6s 230ms/step - loss: 0.9868 - accuracy: 0.5860\n",
            "Epoch 6/20\n",
            "24/24 [==============================] - 5s 218ms/step - loss: 0.9870 - accuracy: 0.5860\n",
            "Epoch 7/20\n",
            "24/24 [==============================] - 5s 214ms/step - loss: 0.9872 - accuracy: 0.5860\n",
            "Epoch 8/20\n",
            "24/24 [==============================] - 5s 212ms/step - loss: 0.9873 - accuracy: 0.5860\n",
            "Epoch 9/20\n",
            "24/24 [==============================] - 5s 213ms/step - loss: 0.9873 - accuracy: 0.5860\n",
            "Epoch 10/20\n",
            "24/24 [==============================] - 5s 209ms/step - loss: 0.9873 - accuracy: 0.5860\n",
            "Epoch 11/20\n",
            "24/24 [==============================] - 5s 214ms/step - loss: 0.9871 - accuracy: 0.5860\n",
            "Epoch 12/20\n",
            "24/24 [==============================] - 5s 214ms/step - loss: 0.9870 - accuracy: 0.5860\n",
            "Epoch 13/20\n",
            "24/24 [==============================] - 5s 220ms/step - loss: 0.9869 - accuracy: 0.5860\n",
            "Epoch 14/20\n",
            "24/24 [==============================] - 5s 216ms/step - loss: 0.9868 - accuracy: 0.5860\n",
            "Epoch 15/20\n",
            "24/24 [==============================] - 5s 212ms/step - loss: 0.9867 - accuracy: 0.5860\n",
            "Epoch 16/20\n",
            "24/24 [==============================] - 5s 214ms/step - loss: 0.9866 - accuracy: 0.5860\n",
            "Epoch 17/20\n",
            "24/24 [==============================] - 5s 213ms/step - loss: 0.9866 - accuracy: 0.5860\n",
            "Epoch 18/20\n",
            "24/24 [==============================] - 5s 215ms/step - loss: 0.9865 - accuracy: 0.5860\n",
            "Epoch 19/20\n",
            "24/24 [==============================] - 5s 214ms/step - loss: 0.9865 - accuracy: 0.5860\n",
            "Epoch 20/20\n",
            "24/24 [==============================] - 5s 215ms/step - loss: 0.9865 - accuracy: 0.5860\n",
            "24/24 [==============================] - 5s 210ms/step - loss: 0.9850 - accuracy: 0.5868\n",
            "[0.9850268363952637, 0.5868333578109741]\n",
            "CBOW_LSTM\n"
          ],
          "name": "stdout"
        }
      ]
    },
    {
      "cell_type": "code",
      "metadata": {
        "colab": {
          "base_uri": "https://localhost:8080/"
        },
        "id": "01yVMiF41ZtT",
        "outputId": "d167022b-3b3b-4b9d-cfcb-645dc27a9265"
      },
      "source": [
        "model_cbow_bi = tf.keras.Sequential()\r\n",
        "model_cbow_bi.add(tf.keras.Input(shape=(Max_input_size,Embedding_size)))\r\n",
        "model_cbow_bi.add(tf.keras.layers.Bidirectional(tf.keras.layers.LSTM(50),merge_mode='concat'))\r\n",
        "model_cbow_bi.add(tf.keras.layers.Dense(4, activation='softmax'))\r\n",
        "model_cbow_bi.compile(loss='categorical_crossentropy',optimizer='adam', \r\n",
        "                           metrics=['accuracy'])\r\n",
        "history = model_cbow_bi.fit_generator(generator = vec_gen(w2v_cbow,vocab_cbow,X_train,y_train,batch_size,Max_input_size,Embedding_size),steps_per_epoch=int(len(X_train)/batch_size),epochs=epochs)\r\n",
        "history = model_cbow_bi.evaluate(x = vec_gen(w2v_cbow,vocab_cbow,X_test,y_test,batch_size,Max_input_size,Embedding_size),steps=int(len(y_test)/batch_size))\r\n",
        "print(history)\r\n",
        "\r\n",
        "result_table[4]=history[1]\r\n",
        "print(\"CBOW_BI\")"
      ],
      "execution_count": null,
      "outputs": [
        {
          "output_type": "stream",
          "text": [
            "Epoch 1/20\n",
            "24/24 [==============================] - 5s 210ms/step - loss: 1.2190 - accuracy: 0.5725\n",
            "Epoch 2/20\n",
            "24/24 [==============================] - 5s 212ms/step - loss: 1.0090 - accuracy: 0.5860\n",
            "Epoch 3/20\n",
            "24/24 [==============================] - 5s 214ms/step - loss: 0.9871 - accuracy: 0.5860\n",
            "Epoch 4/20\n",
            "24/24 [==============================] - 5s 215ms/step - loss: 0.9860 - accuracy: 0.5860\n",
            "Epoch 5/20\n",
            "24/24 [==============================] - 5s 212ms/step - loss: 0.9862 - accuracy: 0.5860\n",
            "Epoch 6/20\n",
            "24/24 [==============================] - 5s 221ms/step - loss: 0.9860 - accuracy: 0.5860\n",
            "Epoch 7/20\n",
            "24/24 [==============================] - 5s 223ms/step - loss: 0.9859 - accuracy: 0.5860\n",
            "Epoch 8/20\n",
            "24/24 [==============================] - 5s 215ms/step - loss: 0.9858 - accuracy: 0.5860\n",
            "Epoch 9/20\n",
            "24/24 [==============================] - 5s 216ms/step - loss: 0.9857 - accuracy: 0.5860\n",
            "Epoch 10/20\n",
            "24/24 [==============================] - 5s 215ms/step - loss: 0.9857 - accuracy: 0.5860\n",
            "Epoch 11/20\n",
            "24/24 [==============================] - 5s 217ms/step - loss: 0.9856 - accuracy: 0.5860\n",
            "Epoch 12/20\n",
            "24/24 [==============================] - 5s 214ms/step - loss: 0.9855 - accuracy: 0.5860\n",
            "Epoch 13/20\n",
            "24/24 [==============================] - 5s 219ms/step - loss: 0.9854 - accuracy: 0.5860\n",
            "Epoch 14/20\n",
            "24/24 [==============================] - 5s 223ms/step - loss: 0.9853 - accuracy: 0.5860\n",
            "Epoch 15/20\n",
            "24/24 [==============================] - 5s 213ms/step - loss: 0.9852 - accuracy: 0.5860\n",
            "Epoch 16/20\n",
            "24/24 [==============================] - 5s 212ms/step - loss: 0.9851 - accuracy: 0.5860\n",
            "Epoch 17/20\n",
            "24/24 [==============================] - 5s 215ms/step - loss: 0.9849 - accuracy: 0.5860\n",
            "Epoch 18/20\n",
            "24/24 [==============================] - 5s 215ms/step - loss: 0.9848 - accuracy: 0.5860\n",
            "Epoch 19/20\n",
            "24/24 [==============================] - 5s 213ms/step - loss: 0.9846 - accuracy: 0.5860\n",
            "Epoch 20/20\n",
            "24/24 [==============================] - 5s 213ms/step - loss: 0.9845 - accuracy: 0.5860\n",
            "24/24 [==============================] - 5s 224ms/step - loss: 0.9835 - accuracy: 0.5868\n",
            "[0.9834628701210022, 0.5868333578109741]\n",
            "CBOW_BI\n"
          ],
          "name": "stdout"
        }
      ]
    },
    {
      "cell_type": "code",
      "metadata": {
        "colab": {
          "base_uri": "https://localhost:8080/"
        },
        "id": "N_G3Ff5r1bSD",
        "outputId": "aeb5a945-b397-461d-9469-6e8ccda6b2fc"
      },
      "source": [
        "model_cbow_rnn = tf.keras.Sequential()\r\n",
        "model_cbow_rnn.add(tf.keras.Input(shape=(Max_input_size,Embedding_size)))\r\n",
        "model_cbow_rnn.add(tf.keras.layers.SimpleRNN(50))\r\n",
        "model_cbow_rnn.add(tf.keras.layers.Dense(4, activation='softmax'))\r\n",
        "model_cbow_rnn.compile(loss='categorical_crossentropy',optimizer='adam', \r\n",
        "                           metrics=['accuracy'])\r\n",
        "history = model_cbow_rnn.fit_generator(generator = vec_gen(w2v_cbow,vocab_cbow,X_train,y_train,batch_size,Max_input_size,Embedding_size),steps_per_epoch=int(len(X_train)/batch_size),epochs=epochs)\r\n",
        "history = model_cbow_rnn.evaluate(x = vec_gen(w2v_cbow,vocab_cbow,X_test,y_test,batch_size,Max_input_size,Embedding_size),steps=int(len(y_test)/batch_size))\r\n",
        "print(history)\r\n",
        "\r\n",
        "result_table[5]=history[1]\r\n",
        "print(\"CBOW_RNN\")"
      ],
      "execution_count": null,
      "outputs": [
        {
          "output_type": "stream",
          "text": [
            "Epoch 1/20\n",
            "24/24 [==============================] - 6s 230ms/step - loss: 1.1373 - accuracy: 0.5573\n",
            "Epoch 2/20\n",
            "24/24 [==============================] - 5s 226ms/step - loss: 0.9900 - accuracy: 0.5860\n",
            "Epoch 3/20\n",
            "24/24 [==============================] - 5s 226ms/step - loss: 0.9860 - accuracy: 0.5860\n",
            "Epoch 4/20\n",
            "24/24 [==============================] - 5s 224ms/step - loss: 0.9861 - accuracy: 0.5860\n",
            "Epoch 5/20\n",
            "24/24 [==============================] - 5s 226ms/step - loss: 0.9861 - accuracy: 0.5860\n",
            "Epoch 6/20\n",
            "24/24 [==============================] - 5s 224ms/step - loss: 0.9861 - accuracy: 0.5860\n",
            "Epoch 7/20\n",
            "24/24 [==============================] - 5s 226ms/step - loss: 0.9862 - accuracy: 0.5860\n",
            "Epoch 8/20\n",
            "24/24 [==============================] - 5s 227ms/step - loss: 0.9862 - accuracy: 0.5860\n",
            "Epoch 9/20\n",
            "24/24 [==============================] - 5s 226ms/step - loss: 0.9862 - accuracy: 0.5860\n",
            "Epoch 10/20\n",
            "24/24 [==============================] - 6s 230ms/step - loss: 0.9862 - accuracy: 0.5860\n",
            "Epoch 11/20\n",
            "24/24 [==============================] - 5s 226ms/step - loss: 0.9862 - accuracy: 0.5860\n",
            "Epoch 12/20\n",
            "24/24 [==============================] - 5s 225ms/step - loss: 0.9862 - accuracy: 0.5860\n",
            "Epoch 13/20\n",
            "24/24 [==============================] - 5s 225ms/step - loss: 0.9862 - accuracy: 0.5860\n",
            "Epoch 14/20\n",
            "24/24 [==============================] - 5s 228ms/step - loss: 0.9863 - accuracy: 0.5860\n",
            "Epoch 15/20\n",
            "24/24 [==============================] - 6s 232ms/step - loss: 0.9863 - accuracy: 0.5860\n",
            "Epoch 16/20\n",
            "24/24 [==============================] - 5s 228ms/step - loss: 0.9863 - accuracy: 0.5860\n",
            "Epoch 17/20\n",
            "24/24 [==============================] - 5s 225ms/step - loss: 0.9863 - accuracy: 0.5860\n",
            "Epoch 18/20\n",
            "24/24 [==============================] - 5s 229ms/step - loss: 0.9863 - accuracy: 0.5860\n",
            "Epoch 19/20\n",
            "24/24 [==============================] - 6s 236ms/step - loss: 0.9863 - accuracy: 0.5860\n",
            "Epoch 20/20\n",
            "24/24 [==============================] - 6s 242ms/step - loss: 0.9863 - accuracy: 0.5860\n",
            " 2/24 [=>............................] - ETA: 3s - loss: 0.9800 - accuracy: 0.5970WARNING:tensorflow:Callbacks method `on_test_batch_end` is slow compared to the batch time (batch time: 0.0670s vs `on_test_batch_end` time: 0.1109s). Check your callbacks.\n",
            "24/24 [==============================] - 5s 217ms/step - loss: 0.9864 - accuracy: 0.5868\n",
            "[0.9864485859870911, 0.5868333578109741]\n",
            "CBOW_RNN\n"
          ],
          "name": "stdout"
        }
      ]
    },
    {
      "cell_type": "code",
      "metadata": {
        "id": "aEglKIfExKKI"
      },
      "source": [
        "epochs=40"
      ],
      "execution_count": null,
      "outputs": []
    },
    {
      "cell_type": "code",
      "metadata": {
        "colab": {
          "base_uri": "https://localhost:8080/"
        },
        "id": "czoFmEwK1dWT",
        "outputId": "2e4470c2-d97e-44f3-f71a-d2d5fdcc4491"
      },
      "source": [
        "model_glove = tf.keras.Sequential()\r\n",
        "model_glove.add(tf.keras.Input(shape=(Max_input_size,100)))\r\n",
        "model_glove.add(tf.keras.layers.LSTM(50))\r\n",
        "model_glove.add(tf.keras.layers.Dense(4, activation='softmax'))\r\n",
        "model_glove.compile(loss='categorical_crossentropy',optimizer='adam', \r\n",
        "                           metrics=['accuracy'])\r\n",
        "history = model_glove.fit_generator(generator = glove_gen(vocab_glove,X_train,y_train,batch_size,Max_input_size,Embedding_size=100),steps_per_epoch=int(len(X_train)/batch_size),epochs=epochs)\r\n",
        "history = model_glove.evaluate(x = glove_gen(vocab_glove,X_test,y_test,batch_size,Max_input_size,Embedding_size=100),steps=int(len(y_test)/batch_size))\r\n",
        "print(history)\r\n",
        "\r\n",
        "result_table[6]=history[1]\r\n",
        "print(\"GLOVE_LSTM\")\r\n"
      ],
      "execution_count": null,
      "outputs": [
        {
          "output_type": "stream",
          "text": [
            "Epoch 1/40\n",
            "24/24 [==============================] - 1s 32ms/step - loss: 1.1850 - accuracy: 0.5857\n",
            "Epoch 2/40\n",
            "24/24 [==============================] - 1s 32ms/step - loss: 0.9924 - accuracy: 0.5861\n",
            "Epoch 3/40\n",
            "24/24 [==============================] - 1s 33ms/step - loss: 0.9731 - accuracy: 0.5861\n",
            "Epoch 4/40\n",
            "24/24 [==============================] - 1s 33ms/step - loss: 0.9689 - accuracy: 0.5860\n",
            "Epoch 5/40\n",
            "24/24 [==============================] - 1s 32ms/step - loss: 0.9646 - accuracy: 0.5918\n",
            "Epoch 6/40\n",
            "24/24 [==============================] - 1s 33ms/step - loss: 0.9590 - accuracy: 0.5960\n",
            "Epoch 7/40\n",
            "24/24 [==============================] - 1s 32ms/step - loss: 0.9517 - accuracy: 0.5978\n",
            "Epoch 8/40\n",
            "24/24 [==============================] - 1s 33ms/step - loss: 0.9463 - accuracy: 0.6012\n",
            "Epoch 9/40\n",
            "24/24 [==============================] - 1s 33ms/step - loss: 0.9401 - accuracy: 0.6037\n",
            "Epoch 10/40\n",
            "24/24 [==============================] - 1s 32ms/step - loss: 0.9347 - accuracy: 0.6043\n",
            "Epoch 11/40\n",
            "24/24 [==============================] - 1s 32ms/step - loss: 0.9305 - accuracy: 0.6059\n",
            "Epoch 12/40\n",
            "24/24 [==============================] - 1s 32ms/step - loss: 0.9241 - accuracy: 0.6087\n",
            "Epoch 13/40\n",
            "24/24 [==============================] - 1s 32ms/step - loss: 0.9153 - accuracy: 0.6111\n",
            "Epoch 14/40\n",
            "24/24 [==============================] - 1s 32ms/step - loss: 0.9042 - accuracy: 0.6158\n",
            "Epoch 15/40\n",
            "24/24 [==============================] - 1s 33ms/step - loss: 0.8926 - accuracy: 0.6197\n",
            "Epoch 16/40\n",
            "24/24 [==============================] - 1s 33ms/step - loss: 0.8843 - accuracy: 0.6234\n",
            "Epoch 17/40\n",
            "24/24 [==============================] - 1s 32ms/step - loss: 0.8737 - accuracy: 0.6298\n",
            "Epoch 18/40\n",
            "24/24 [==============================] - 1s 33ms/step - loss: 0.8622 - accuracy: 0.6392\n",
            "Epoch 19/40\n",
            "24/24 [==============================] - 1s 32ms/step - loss: 0.8514 - accuracy: 0.6466\n",
            "Epoch 20/40\n",
            "24/24 [==============================] - 1s 33ms/step - loss: 0.8414 - accuracy: 0.6517\n",
            "Epoch 21/40\n",
            "24/24 [==============================] - 1s 34ms/step - loss: 0.8314 - accuracy: 0.6582\n",
            "Epoch 22/40\n",
            "24/24 [==============================] - 1s 32ms/step - loss: 0.8214 - accuracy: 0.6655\n",
            "Epoch 23/40\n",
            "24/24 [==============================] - 1s 33ms/step - loss: 0.8111 - accuracy: 0.6727\n",
            "Epoch 24/40\n",
            "24/24 [==============================] - 1s 33ms/step - loss: 0.8007 - accuracy: 0.6812\n",
            "Epoch 25/40\n",
            "24/24 [==============================] - 1s 32ms/step - loss: 0.7909 - accuracy: 0.6898\n",
            "Epoch 26/40\n",
            "24/24 [==============================] - 1s 32ms/step - loss: 0.7848 - accuracy: 0.6927\n",
            "Epoch 27/40\n",
            "24/24 [==============================] - 1s 32ms/step - loss: 0.8173 - accuracy: 0.6699\n",
            "Epoch 28/40\n",
            "24/24 [==============================] - 1s 33ms/step - loss: 0.7994 - accuracy: 0.6835\n",
            "Epoch 29/40\n",
            "24/24 [==============================] - 1s 32ms/step - loss: 0.7870 - accuracy: 0.6921\n",
            "Epoch 30/40\n",
            "24/24 [==============================] - 1s 33ms/step - loss: 0.7917 - accuracy: 0.6892\n",
            "Epoch 31/40\n",
            "24/24 [==============================] - 1s 32ms/step - loss: 0.7941 - accuracy: 0.6764\n",
            "Epoch 32/40\n",
            "24/24 [==============================] - 1s 33ms/step - loss: 0.7652 - accuracy: 0.7017\n",
            "Epoch 33/40\n",
            "24/24 [==============================] - 1s 32ms/step - loss: 0.7497 - accuracy: 0.7133\n",
            "Epoch 34/40\n",
            "24/24 [==============================] - 1s 33ms/step - loss: 0.7407 - accuracy: 0.7195\n",
            "Epoch 35/40\n",
            "24/24 [==============================] - 1s 32ms/step - loss: 0.7319 - accuracy: 0.7272\n",
            "Epoch 36/40\n",
            "24/24 [==============================] - 1s 32ms/step - loss: 0.7292 - accuracy: 0.7248\n",
            "Epoch 37/40\n",
            "24/24 [==============================] - 1s 33ms/step - loss: 0.7391 - accuracy: 0.7182\n",
            "Epoch 38/40\n",
            "24/24 [==============================] - 1s 32ms/step - loss: 0.7507 - accuracy: 0.7119\n",
            "Epoch 39/40\n",
            "24/24 [==============================] - 1s 33ms/step - loss: 0.7649 - accuracy: 0.7008\n",
            "Epoch 40/40\n",
            "24/24 [==============================] - 1s 32ms/step - loss: 0.7751 - accuracy: 0.6917\n",
            "24/24 [==============================] - 1s 30ms/step - loss: 0.7631 - accuracy: 0.7033\n",
            "[0.7630914449691772, 0.70333331823349]\n",
            "GLOVE_LSTM\n"
          ],
          "name": "stdout"
        }
      ]
    },
    {
      "cell_type": "code",
      "metadata": {
        "colab": {
          "base_uri": "https://localhost:8080/"
        },
        "id": "fKM9PEwm1fkb",
        "outputId": "96b8360b-5456-4932-d758-ad36dce62b38"
      },
      "source": [
        "model_glove_bi = tf.keras.Sequential()\r\n",
        "model_glove_bi.add(tf.keras.Input(shape=(Max_input_size,100)))\r\n",
        "model_glove_bi.add(tf.keras.layers.Bidirectional(tf.keras.layers.LSTM(50),merge_mode='concat'))\r\n",
        "model_glove_bi.add(tf.keras.layers.Dense(4, activation='softmax'))\r\n",
        "model_glove_bi.compile(loss='categorical_crossentropy',optimizer='adam', \r\n",
        "                           metrics=['accuracy'])\r\n",
        "history = model_glove_bi.fit_generator(generator = glove_gen(vocab_glove,X_train,y_train,batch_size,Max_input_size,Embedding_size),steps_per_epoch=int(len(X_train)/batch_size),epochs=epochs)\r\n",
        "history = model_glove_bi.evaluate(x = glove_gen(vocab_glove,X_test,y_test,batch_size,Max_input_size,Embedding_size),steps=int(len(y_test)/batch_size))\r\n",
        "print(history)\r\n",
        "\r\n",
        "result_table[7]=history[1]\r\n",
        "print(\"GLOVE_BI\")"
      ],
      "execution_count": null,
      "outputs": [
        {
          "output_type": "stream",
          "text": [
            "Epoch 1/40\n",
            "24/24 [==============================] - 1s 36ms/step - loss: 1.1185 - accuracy: 0.5388\n",
            "Epoch 2/40\n",
            "24/24 [==============================] - 1s 36ms/step - loss: 0.9635 - accuracy: 0.5879\n",
            "Epoch 3/40\n",
            "24/24 [==============================] - 1s 37ms/step - loss: 0.9453 - accuracy: 0.5953\n",
            "Epoch 4/40\n",
            "24/24 [==============================] - 1s 36ms/step - loss: 0.9273 - accuracy: 0.5985\n",
            "Epoch 5/40\n",
            "24/24 [==============================] - 1s 36ms/step - loss: 0.9088 - accuracy: 0.6023\n",
            "Epoch 6/40\n",
            "24/24 [==============================] - 1s 37ms/step - loss: 0.8949 - accuracy: 0.6062\n",
            "Epoch 7/40\n",
            "24/24 [==============================] - 1s 35ms/step - loss: 0.8846 - accuracy: 0.6109\n",
            "Epoch 8/40\n",
            "24/24 [==============================] - 1s 35ms/step - loss: 0.8764 - accuracy: 0.6163\n",
            "Epoch 9/40\n",
            "24/24 [==============================] - 1s 37ms/step - loss: 0.8688 - accuracy: 0.6192\n",
            "Epoch 10/40\n",
            "24/24 [==============================] - 1s 36ms/step - loss: 0.8611 - accuracy: 0.6252\n",
            "Epoch 11/40\n",
            "24/24 [==============================] - 1s 36ms/step - loss: 0.8529 - accuracy: 0.6308\n",
            "Epoch 12/40\n",
            "24/24 [==============================] - 1s 37ms/step - loss: 0.8436 - accuracy: 0.6377\n",
            "Epoch 13/40\n",
            "24/24 [==============================] - 1s 36ms/step - loss: 0.8330 - accuracy: 0.6423\n",
            "Epoch 14/40\n",
            "24/24 [==============================] - 1s 36ms/step - loss: 0.8230 - accuracy: 0.6486\n",
            "Epoch 15/40\n",
            "24/24 [==============================] - 1s 37ms/step - loss: 0.8111 - accuracy: 0.6562\n",
            "Epoch 16/40\n",
            "24/24 [==============================] - 1s 36ms/step - loss: 0.7975 - accuracy: 0.6642\n",
            "Epoch 17/40\n",
            "24/24 [==============================] - 1s 39ms/step - loss: 0.7853 - accuracy: 0.6753\n",
            "Epoch 18/40\n",
            "24/24 [==============================] - 1s 37ms/step - loss: 0.7805 - accuracy: 0.6764\n",
            "Epoch 19/40\n",
            "24/24 [==============================] - 1s 37ms/step - loss: 0.7856 - accuracy: 0.6713\n",
            "Epoch 20/40\n",
            "24/24 [==============================] - 1s 36ms/step - loss: 0.7840 - accuracy: 0.6693\n",
            "Epoch 21/40\n",
            "24/24 [==============================] - 1s 36ms/step - loss: 0.7615 - accuracy: 0.6858\n",
            "Epoch 22/40\n",
            "24/24 [==============================] - 1s 37ms/step - loss: 0.7414 - accuracy: 0.6957\n",
            "Epoch 23/40\n",
            "24/24 [==============================] - 1s 35ms/step - loss: 0.7228 - accuracy: 0.7108\n",
            "Epoch 24/40\n",
            "24/24 [==============================] - 1s 36ms/step - loss: 0.7080 - accuracy: 0.7207\n",
            "Epoch 25/40\n",
            "24/24 [==============================] - 1s 36ms/step - loss: 0.6944 - accuracy: 0.7271\n",
            "Epoch 26/40\n",
            "24/24 [==============================] - 1s 36ms/step - loss: 0.6859 - accuracy: 0.7301\n",
            "Epoch 27/40\n",
            "24/24 [==============================] - 1s 37ms/step - loss: 0.6909 - accuracy: 0.7234\n",
            "Epoch 28/40\n",
            "24/24 [==============================] - 1s 36ms/step - loss: 0.6745 - accuracy: 0.7341\n",
            "Epoch 29/40\n",
            "24/24 [==============================] - 1s 36ms/step - loss: 0.6576 - accuracy: 0.7417\n",
            "Epoch 30/40\n",
            "24/24 [==============================] - 1s 37ms/step - loss: 0.6380 - accuracy: 0.7516\n",
            "Epoch 31/40\n",
            "24/24 [==============================] - 1s 37ms/step - loss: 0.6202 - accuracy: 0.7624\n",
            "Epoch 32/40\n",
            "24/24 [==============================] - 1s 36ms/step - loss: 0.6046 - accuracy: 0.7690\n",
            "Epoch 33/40\n",
            "24/24 [==============================] - 1s 36ms/step - loss: 0.5955 - accuracy: 0.7699\n",
            "Epoch 34/40\n",
            "24/24 [==============================] - 1s 35ms/step - loss: 0.5983 - accuracy: 0.7661\n",
            "Epoch 35/40\n",
            "24/24 [==============================] - 1s 37ms/step - loss: 0.6436 - accuracy: 0.7428\n",
            "Epoch 36/40\n",
            "24/24 [==============================] - 1s 36ms/step - loss: 0.6196 - accuracy: 0.7538\n",
            "Epoch 37/40\n",
            "24/24 [==============================] - 1s 36ms/step - loss: 0.6098 - accuracy: 0.7564\n",
            "Epoch 38/40\n",
            "24/24 [==============================] - 1s 36ms/step - loss: 0.5884 - accuracy: 0.7732\n",
            "Epoch 39/40\n",
            "24/24 [==============================] - 1s 36ms/step - loss: 0.5764 - accuracy: 0.7807\n",
            "Epoch 40/40\n",
            "24/24 [==============================] - 1s 37ms/step - loss: 0.5603 - accuracy: 0.7873\n",
            "24/24 [==============================] - 1s 30ms/step - loss: 0.6062 - accuracy: 0.7604\n",
            "[0.6061631441116333, 0.7604166865348816]\n",
            "GLOVE_BI\n"
          ],
          "name": "stdout"
        }
      ]
    },
    {
      "cell_type": "code",
      "metadata": {
        "colab": {
          "base_uri": "https://localhost:8080/"
        },
        "id": "RQBa5s4s1hNU",
        "outputId": "d5d77a25-3b76-4d28-f837-34b62673289c"
      },
      "source": [
        "model_glove_rnn = tf.keras.Sequential()\r\n",
        "model_glove_rnn.add(tf.keras.Input(shape=(Max_input_size,100)))\r\n",
        "model_glove_rnn.add(tf.keras.layers.SimpleRNN(50))\r\n",
        "model_glove_rnn.add(tf.keras.layers.Dense(4, activation='softmax'))\r\n",
        "model_glove_rnn.compile(loss='categorical_crossentropy',optimizer='adam', \r\n",
        "                           metrics=['accuracy'])\r\n",
        "history = model_glove_rnn.fit_generator(generator = glove_gen(vocab_glove,X_train,y_train,batch_size,Max_input_size,Embedding_size),steps_per_epoch=int(len(X_train)/batch_size),epochs=epochs)\r\n",
        "history = model_glove_rnn.evaluate(x = glove_gen(vocab_glove,X_test,y_test,batch_size,Max_input_size,Embedding_size),steps=int(len(y_test)/batch_size))\r\n",
        "print(history)\r\n",
        "\r\n",
        "result_table[8]=history[1]\r\n",
        "print(\"GLOVE_RNN\")"
      ],
      "execution_count": null,
      "outputs": [
        {
          "output_type": "stream",
          "text": [
            "Epoch 1/40\n",
            "24/24 [==============================] - 1s 46ms/step - loss: 1.1069 - accuracy: 0.5254\n",
            "Epoch 2/40\n",
            "24/24 [==============================] - 1s 48ms/step - loss: 0.9894 - accuracy: 0.5858\n",
            "Epoch 3/40\n",
            "24/24 [==============================] - 1s 47ms/step - loss: 0.9885 - accuracy: 0.5860\n",
            "Epoch 4/40\n",
            "24/24 [==============================] - 1s 47ms/step - loss: 0.9884 - accuracy: 0.5860\n",
            "Epoch 5/40\n",
            "24/24 [==============================] - 1s 47ms/step - loss: 0.9886 - accuracy: 0.5860\n",
            "Epoch 6/40\n",
            "24/24 [==============================] - 1s 47ms/step - loss: 0.9883 - accuracy: 0.5860\n",
            "Epoch 7/40\n",
            "24/24 [==============================] - 1s 47ms/step - loss: 0.9884 - accuracy: 0.5860\n",
            "Epoch 8/40\n",
            "24/24 [==============================] - 1s 47ms/step - loss: 0.9884 - accuracy: 0.5860\n",
            "Epoch 9/40\n",
            "24/24 [==============================] - 1s 47ms/step - loss: 0.9885 - accuracy: 0.5860\n",
            "Epoch 10/40\n",
            "24/24 [==============================] - 1s 48ms/step - loss: 0.9885 - accuracy: 0.5860\n",
            "Epoch 11/40\n",
            "24/24 [==============================] - 1s 48ms/step - loss: 0.9885 - accuracy: 0.5860\n",
            "Epoch 12/40\n",
            "24/24 [==============================] - 1s 49ms/step - loss: 0.9885 - accuracy: 0.5860\n",
            "Epoch 13/40\n",
            "24/24 [==============================] - 1s 49ms/step - loss: 0.9882 - accuracy: 0.5861\n",
            "Epoch 14/40\n",
            "24/24 [==============================] - 1s 48ms/step - loss: 0.9882 - accuracy: 0.5861\n",
            "Epoch 15/40\n",
            "24/24 [==============================] - 1s 48ms/step - loss: 0.9881 - accuracy: 0.5861\n",
            "Epoch 16/40\n",
            "24/24 [==============================] - 1s 47ms/step - loss: 0.9885 - accuracy: 0.5860\n",
            "Epoch 17/40\n",
            "24/24 [==============================] - 1s 49ms/step - loss: 0.9886 - accuracy: 0.5860\n",
            "Epoch 18/40\n",
            "24/24 [==============================] - 1s 47ms/step - loss: 0.9875 - accuracy: 0.5862\n",
            "Epoch 19/40\n",
            "24/24 [==============================] - 1s 47ms/step - loss: 0.9870 - accuracy: 0.5863\n",
            "Epoch 20/40\n",
            "24/24 [==============================] - 1s 46ms/step - loss: 0.9914 - accuracy: 0.5856\n",
            "Epoch 21/40\n",
            "24/24 [==============================] - 1s 47ms/step - loss: 0.9951 - accuracy: 0.5847\n",
            "Epoch 22/40\n",
            "24/24 [==============================] - 1s 47ms/step - loss: 0.9902 - accuracy: 0.5856\n",
            "Epoch 23/40\n",
            "24/24 [==============================] - 1s 46ms/step - loss: 0.9886 - accuracy: 0.5860\n",
            "Epoch 24/40\n",
            "24/24 [==============================] - 1s 47ms/step - loss: 0.9867 - accuracy: 0.5864\n",
            "Epoch 25/40\n",
            "24/24 [==============================] - 1s 50ms/step - loss: 0.9828 - accuracy: 0.5868\n",
            "Epoch 26/40\n",
            "24/24 [==============================] - 1s 47ms/step - loss: 0.9801 - accuracy: 0.5870\n",
            "Epoch 27/40\n",
            "24/24 [==============================] - 1s 47ms/step - loss: 0.9775 - accuracy: 0.5872\n",
            "Epoch 28/40\n",
            "24/24 [==============================] - 1s 48ms/step - loss: 0.9714 - accuracy: 0.5872\n",
            "Epoch 29/40\n",
            "24/24 [==============================] - 1s 46ms/step - loss: 0.9702 - accuracy: 0.5870\n",
            "Epoch 30/40\n",
            "24/24 [==============================] - 1s 48ms/step - loss: 0.9643 - accuracy: 0.5884\n",
            "Epoch 31/40\n",
            "24/24 [==============================] - 1s 48ms/step - loss: 0.9596 - accuracy: 0.5888\n",
            "Epoch 32/40\n",
            "24/24 [==============================] - 1s 46ms/step - loss: 0.9543 - accuracy: 0.5918\n",
            "Epoch 33/40\n",
            "24/24 [==============================] - 1s 47ms/step - loss: 0.9470 - accuracy: 0.5943\n",
            "Epoch 34/40\n",
            "24/24 [==============================] - 1s 47ms/step - loss: 0.9454 - accuracy: 0.5951\n",
            "Epoch 35/40\n",
            "24/24 [==============================] - 1s 47ms/step - loss: 0.9376 - accuracy: 0.5954\n",
            "Epoch 36/40\n",
            "24/24 [==============================] - 1s 47ms/step - loss: 0.9310 - accuracy: 0.5953\n",
            "Epoch 37/40\n",
            "24/24 [==============================] - 1s 46ms/step - loss: 0.9234 - accuracy: 0.5993\n",
            "Epoch 38/40\n",
            "24/24 [==============================] - 1s 48ms/step - loss: 0.9241 - accuracy: 0.6026\n",
            "Epoch 39/40\n",
            "24/24 [==============================] - 1s 47ms/step - loss: 0.9282 - accuracy: 0.5995\n",
            "Epoch 40/40\n",
            "24/24 [==============================] - 1s 49ms/step - loss: 0.9160 - accuracy: 0.6108\n",
            "24/24 [==============================] - 1s 32ms/step - loss: 0.9055 - accuracy: 0.6133\n",
            "[0.9055267572402954, 0.6132500171661377]\n",
            "GLOVE_RNN\n"
          ],
          "name": "stdout"
        }
      ]
    },
    {
      "cell_type": "code",
      "metadata": {
        "colab": {
          "base_uri": "https://localhost:8080/"
        },
        "id": "WZqN_SaM3hs9",
        "outputId": "1d20ae99-69d1-44c1-97a2-4664353279f2"
      },
      "source": [
        "print(\"\\tLstm\\t\\t\\tBiLstm\\t\\t\\tRnn\")\r\n",
        "print(\"sg\",result_table[:3])\r\n",
        "print(\"cbow\",result_table[3:6])\r\n",
        "print(\"glove\",result_table[6:9])"
      ],
      "execution_count": null,
      "outputs": [
        {
          "output_type": "stream",
          "text": [
            "\tLstm\t\t\tBiLstm\t\t\tRnn\n",
            "sg [0.5868333578109741, 0.5868333578109741, 0.5868333578109741]\n",
            "cbow [0.5868333578109741, 0.5868333578109741, 0.5868333578109741]\n",
            "glove [0.70333331823349, 0.7604166865348816, 0.6132500171661377]\n"
          ],
          "name": "stdout"
        }
      ]
    }
  ]
}