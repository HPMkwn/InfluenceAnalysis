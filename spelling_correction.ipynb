{
  "nbformat": 4,
  "nbformat_minor": 0,
  "metadata": {
    "colab": {
      "name": "spelling_correction.ipynb",
      "provenance": [],
      "authorship_tag": "ABX9TyNAKslZsBIMrazy/9qSl86e",
      "include_colab_link": true
    },
    "kernelspec": {
      "name": "python3",
      "display_name": "Python 3"
    }
  },
  "cells": [
    {
      "cell_type": "markdown",
      "metadata": {
        "id": "view-in-github",
        "colab_type": "text"
      },
      "source": [
        "<a href=\"https://colab.research.google.com/github/harrymkwn/InfluenceAnalysis/blob/master/spelling_correction.ipynb\" target=\"_parent\"><img src=\"https://colab.research.google.com/assets/colab-badge.svg\" alt=\"Open In Colab\"/></a>"
      ]
    },
    {
      "cell_type": "markdown",
      "metadata": {
        "id": "apuNGJ5FpVAo"
      },
      "source": [
        "#Initialization"
      ]
    },
    {
      "cell_type": "code",
      "metadata": {
        "id": "3RmnaAg-jxPM"
      },
      "source": [
        "import nltk\n",
        "import pandas as pd"
      ],
      "execution_count": 9,
      "outputs": []
    },
    {
      "cell_type": "code",
      "metadata": {
        "colab": {
          "base_uri": "https://localhost:8080/"
        },
        "id": "HE5SAC68nByE",
        "outputId": "a211e78b-6d0c-4e96-9ed9-3e9be3d14c06"
      },
      "source": [
        "from nltk.corpus import words\n",
        "nltk.download('words')"
      ],
      "execution_count": 6,
      "outputs": [
        {
          "output_type": "stream",
          "text": [
            "[nltk_data] Downloading package words to /root/nltk_data...\n",
            "[nltk_data]   Unzipping corpora/words.zip.\n"
          ],
          "name": "stdout"
        },
        {
          "output_type": "execute_result",
          "data": {
            "text/plain": [
              "True"
            ]
          },
          "metadata": {
            "tags": []
          },
          "execution_count": 6
        }
      ]
    },
    {
      "cell_type": "code",
      "metadata": {
        "id": "SGcO5iAZpAj9"
      },
      "source": [
        "from nltk.metrics.distance import (edit_distance,jaccard_distance)\n",
        "from nltk.util import ngrams"
      ],
      "execution_count": 11,
      "outputs": []
    },
    {
      "cell_type": "code",
      "metadata": {
        "colab": {
          "base_uri": "https://localhost:8080/"
        },
        "id": "u2TE42S4nHu5",
        "outputId": "81556ce4-bff5-4b21-c41a-363fa7dc3c4a"
      },
      "source": [
        "correct_spellings = words.words()\n",
        "spelling_series = pd.Series(correct_spellings)\n",
        "spelling_series"
      ],
      "execution_count": 10,
      "outputs": [
        {
          "output_type": "execute_result",
          "data": {
            "text/plain": [
              "0                 A\n",
              "1                 a\n",
              "2                aa\n",
              "3               aal\n",
              "4             aalii\n",
              "            ...    \n",
              "236731       yellow\n",
              "236732          yes\n",
              "236733    yesterday\n",
              "236734          you\n",
              "236735        young\n",
              "Length: 236736, dtype: object"
            ]
          },
          "metadata": {
            "tags": []
          },
          "execution_count": 10
        }
      ]
    },
    {
      "cell_type": "code",
      "metadata": {
        "id": "UezJHW7i43W8"
      },
      "source": [
        "dictionary = {}\n",
        "\n",
        "for word in correct_spellings:\n",
        "  dictionary[word] = 1;"
      ],
      "execution_count": 71,
      "outputs": []
    },
    {
      "cell_type": "markdown",
      "metadata": {
        "id": "rBnBL7CMqCsm"
      },
      "source": [
        "#Jaccard  Distance"
      ]
    },
    {
      "cell_type": "code",
      "metadata": {
        "id": "0fXThqk9qBof"
      },
      "source": [
        "def jaccard(word,gram_number):\n",
        "  spellings = spelling_series[spelling_series.str.startswith(word[:2])]\n",
        "\n",
        "  distances = [(jaccard_distance(set(ngrams(word,3)),set(ngrams(x,3))),x) for x in spellings]\n",
        "  \n",
        "  closet = word\n",
        "  if len(distances)!=0:\n",
        "    closet = min(distances)\n",
        "  return closet"
      ],
      "execution_count": 64,
      "outputs": []
    },
    {
      "cell_type": "code",
      "metadata": {
        "id": "aZ-3MJDi24l2"
      },
      "source": [
        "def correct_spelling(word):\n",
        "  return str(jaccard(word,3))\n",
        "  "
      ],
      "execution_count": 81,
      "outputs": []
    },
    {
      "cell_type": "code",
      "metadata": {
        "colab": {
          "base_uri": "https://localhost:8080/",
          "height": 35
        },
        "id": "N1h2BpY5rOmb",
        "outputId": "34f2a8c3-2638-4fe1-a53d-b5035aec335e"
      },
      "source": [
        ""
      ],
      "execution_count": 80,
      "outputs": [
        {
          "output_type": "execute_result",
          "data": {
            "application/vnd.google.colaboratory.intrinsic+json": {
              "type": "string"
            },
            "text/plain": [
              "\"(1.0, 'aw')\""
            ]
          },
          "metadata": {
            "tags": []
          },
          "execution_count": 80
        }
      ]
    },
    {
      "cell_type": "code",
      "metadata": {
        "id": "cdOpcteD2gRb"
      },
      "source": [
        ""
      ],
      "execution_count": null,
      "outputs": []
    }
  ]
}