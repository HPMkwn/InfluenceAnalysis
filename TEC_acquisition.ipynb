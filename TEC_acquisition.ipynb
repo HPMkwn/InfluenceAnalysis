{
  "nbformat": 4,
  "nbformat_minor": 0,
  "metadata": {
    "colab": {
      "name": "TEC_acquisition.ipynb",
      "provenance": [],
      "authorship_tag": "ABX9TyPLVEoiMDtPGb3DzTJz8Gy0",
      "include_colab_link": true
    },
    "kernelspec": {
      "name": "python3",
      "display_name": "Python 3"
    }
  },
  "cells": [
    {
      "cell_type": "markdown",
      "metadata": {
        "id": "view-in-github",
        "colab_type": "text"
      },
      "source": [
        "<a href=\"https://colab.research.google.com/github/harrymkwn/InfluenceAnalysis/blob/master/TEC_acquisition.ipynb\" target=\"_parent\"><img src=\"https://colab.research.google.com/assets/colab-badge.svg\" alt=\"Open In Colab\"/></a>"
      ]
    },
    {
      "cell_type": "code",
      "metadata": {
        "id": "yPr1IfVyMZL0"
      },
      "source": [
        "import pandas as pd\n",
        "import re"
      ],
      "execution_count": 15,
      "outputs": []
    },
    {
      "cell_type": "code",
      "metadata": {
        "colab": {
          "base_uri": "https://localhost:8080/"
        },
        "id": "hDclJ2mjRAA3",
        "outputId": "adabee66-d625-403f-a5a8-7b7ad03fc204"
      },
      "source": [
        "from google.colab import drive\n",
        "drive.mount('/content/gdrive')"
      ],
      "execution_count": 41,
      "outputs": [
        {
          "output_type": "stream",
          "text": [
            "Mounted at /content/gdrive\n"
          ],
          "name": "stdout"
        }
      ]
    },
    {
      "cell_type": "code",
      "metadata": {
        "id": "lEUUaZS2Me9-"
      },
      "source": [
        "df = pd.read_csv('/content/Jan9-2012-tweets-clean.txt', sep = '\\t',error_bad_lines=False,header=None,names=['id','tweet','label'])"
      ],
      "execution_count": 32,
      "outputs": []
    },
    {
      "cell_type": "code",
      "metadata": {
        "colab": {
          "base_uri": "https://localhost:8080/",
          "height": 419
        },
        "id": "idOqtTxqO6GY",
        "outputId": "934a8033-bff9-4d2d-8951-7cde5f0a1e6f"
      },
      "source": [
        "df"
      ],
      "execution_count": 33,
      "outputs": [
        {
          "output_type": "execute_result",
          "data": {
            "text/html": [
              "<div>\n",
              "<style scoped>\n",
              "    .dataframe tbody tr th:only-of-type {\n",
              "        vertical-align: middle;\n",
              "    }\n",
              "\n",
              "    .dataframe tbody tr th {\n",
              "        vertical-align: top;\n",
              "    }\n",
              "\n",
              "    .dataframe thead th {\n",
              "        text-align: right;\n",
              "    }\n",
              "</style>\n",
              "<table border=\"1\" class=\"dataframe\">\n",
              "  <thead>\n",
              "    <tr style=\"text-align: right;\">\n",
              "      <th></th>\n",
              "      <th>id</th>\n",
              "      <th>tweet</th>\n",
              "      <th>label</th>\n",
              "    </tr>\n",
              "  </thead>\n",
              "  <tbody>\n",
              "    <tr>\n",
              "      <th>0</th>\n",
              "      <td>145353048817012736:</td>\n",
              "      <td>Thinks that @melbahughes had a great 50th birt...</td>\n",
              "      <td>:: surprise</td>\n",
              "    </tr>\n",
              "    <tr>\n",
              "      <th>1</th>\n",
              "      <td>144279638024257536:</td>\n",
              "      <td>Como una expresión tan simple, una sola oració...</td>\n",
              "      <td>:: sadness</td>\n",
              "    </tr>\n",
              "    <tr>\n",
              "      <th>2</th>\n",
              "      <td>140499585285111809:</td>\n",
              "      <td>the moment when you get another follower and y...</td>\n",
              "      <td>:: joy</td>\n",
              "    </tr>\n",
              "    <tr>\n",
              "      <th>3</th>\n",
              "      <td>145207578270507009:</td>\n",
              "      <td>Be the greatest dancer of your life! practice ...</td>\n",
              "      <td>:: joy</td>\n",
              "    </tr>\n",
              "    <tr>\n",
              "      <th>4</th>\n",
              "      <td>139502146390470656:</td>\n",
              "      <td>eww.. my moms starting to make her annual rum ...</td>\n",
              "      <td>:: disgust</td>\n",
              "    </tr>\n",
              "    <tr>\n",
              "      <th>...</th>\n",
              "      <td>...</td>\n",
              "      <td>...</td>\n",
              "      <td>...</td>\n",
              "    </tr>\n",
              "    <tr>\n",
              "      <th>21046</th>\n",
              "      <td>146254676558495745:</td>\n",
              "      <td>@TheBodyShopUK Knowing my dissertation will be...</td>\n",
              "      <td>:: joy</td>\n",
              "    </tr>\n",
              "    <tr>\n",
              "      <th>21047</th>\n",
              "      <td>141661025014521856:</td>\n",
              "      <td>hospital tomorrow morning, strapped with wires...</td>\n",
              "      <td>:: joy</td>\n",
              "    </tr>\n",
              "    <tr>\n",
              "      <th>21048</th>\n",
              "      <td>143061444525686784:</td>\n",
              "      <td>Work is soooo slow, ready to have a great satu...</td>\n",
              "      <td>:: joy</td>\n",
              "    </tr>\n",
              "    <tr>\n",
              "      <th>21049</th>\n",
              "      <td>143068383678697472:</td>\n",
              "      <td>You realize that by choosing joy every single ...</td>\n",
              "      <td>:: joy</td>\n",
              "    </tr>\n",
              "    <tr>\n",
              "      <th>21050</th>\n",
              "      <td>138424500801900545:</td>\n",
              "      <td>&amp;quot;Use to throw them into disarray.&amp;quot;-M...</td>\n",
              "      <td>:: anger</td>\n",
              "    </tr>\n",
              "  </tbody>\n",
              "</table>\n",
              "<p>21051 rows × 3 columns</p>\n",
              "</div>"
            ],
            "text/plain": [
              "                        id  ...        label\n",
              "0      145353048817012736:  ...  :: surprise\n",
              "1      144279638024257536:  ...   :: sadness\n",
              "2      140499585285111809:  ...       :: joy\n",
              "3      145207578270507009:  ...       :: joy\n",
              "4      139502146390470656:  ...   :: disgust\n",
              "...                    ...  ...          ...\n",
              "21046  146254676558495745:  ...       :: joy\n",
              "21047  141661025014521856:  ...       :: joy\n",
              "21048  143061444525686784:  ...       :: joy\n",
              "21049  143068383678697472:  ...       :: joy\n",
              "21050  138424500801900545:  ...     :: anger\n",
              "\n",
              "[21051 rows x 3 columns]"
            ]
          },
          "metadata": {
            "tags": []
          },
          "execution_count": 33
        }
      ]
    },
    {
      "cell_type": "code",
      "metadata": {
        "id": "wgdeKRjDPH45"
      },
      "source": [
        "df.drop(['id'],axis=1,inplace=True)"
      ],
      "execution_count": 34,
      "outputs": []
    },
    {
      "cell_type": "code",
      "metadata": {
        "colab": {
          "base_uri": "https://localhost:8080/",
          "height": 419
        },
        "id": "YZLjRhmZPiOE",
        "outputId": "61330ba2-ce6b-4e1a-cadb-66af2a94c98e"
      },
      "source": [
        "df"
      ],
      "execution_count": 35,
      "outputs": [
        {
          "output_type": "execute_result",
          "data": {
            "text/html": [
              "<div>\n",
              "<style scoped>\n",
              "    .dataframe tbody tr th:only-of-type {\n",
              "        vertical-align: middle;\n",
              "    }\n",
              "\n",
              "    .dataframe tbody tr th {\n",
              "        vertical-align: top;\n",
              "    }\n",
              "\n",
              "    .dataframe thead th {\n",
              "        text-align: right;\n",
              "    }\n",
              "</style>\n",
              "<table border=\"1\" class=\"dataframe\">\n",
              "  <thead>\n",
              "    <tr style=\"text-align: right;\">\n",
              "      <th></th>\n",
              "      <th>tweet</th>\n",
              "      <th>label</th>\n",
              "    </tr>\n",
              "  </thead>\n",
              "  <tbody>\n",
              "    <tr>\n",
              "      <th>0</th>\n",
              "      <td>Thinks that @melbahughes had a great 50th birt...</td>\n",
              "      <td>:: surprise</td>\n",
              "    </tr>\n",
              "    <tr>\n",
              "      <th>1</th>\n",
              "      <td>Como una expresión tan simple, una sola oració...</td>\n",
              "      <td>:: sadness</td>\n",
              "    </tr>\n",
              "    <tr>\n",
              "      <th>2</th>\n",
              "      <td>the moment when you get another follower and y...</td>\n",
              "      <td>:: joy</td>\n",
              "    </tr>\n",
              "    <tr>\n",
              "      <th>3</th>\n",
              "      <td>Be the greatest dancer of your life! practice ...</td>\n",
              "      <td>:: joy</td>\n",
              "    </tr>\n",
              "    <tr>\n",
              "      <th>4</th>\n",
              "      <td>eww.. my moms starting to make her annual rum ...</td>\n",
              "      <td>:: disgust</td>\n",
              "    </tr>\n",
              "    <tr>\n",
              "      <th>...</th>\n",
              "      <td>...</td>\n",
              "      <td>...</td>\n",
              "    </tr>\n",
              "    <tr>\n",
              "      <th>21046</th>\n",
              "      <td>@TheBodyShopUK Knowing my dissertation will be...</td>\n",
              "      <td>:: joy</td>\n",
              "    </tr>\n",
              "    <tr>\n",
              "      <th>21047</th>\n",
              "      <td>hospital tomorrow morning, strapped with wires...</td>\n",
              "      <td>:: joy</td>\n",
              "    </tr>\n",
              "    <tr>\n",
              "      <th>21048</th>\n",
              "      <td>Work is soooo slow, ready to have a great satu...</td>\n",
              "      <td>:: joy</td>\n",
              "    </tr>\n",
              "    <tr>\n",
              "      <th>21049</th>\n",
              "      <td>You realize that by choosing joy every single ...</td>\n",
              "      <td>:: joy</td>\n",
              "    </tr>\n",
              "    <tr>\n",
              "      <th>21050</th>\n",
              "      <td>&amp;quot;Use to throw them into disarray.&amp;quot;-M...</td>\n",
              "      <td>:: anger</td>\n",
              "    </tr>\n",
              "  </tbody>\n",
              "</table>\n",
              "<p>21051 rows × 2 columns</p>\n",
              "</div>"
            ],
            "text/plain": [
              "                                                   tweet        label\n",
              "0      Thinks that @melbahughes had a great 50th birt...  :: surprise\n",
              "1      Como una expresión tan simple, una sola oració...   :: sadness\n",
              "2      the moment when you get another follower and y...       :: joy\n",
              "3      Be the greatest dancer of your life! practice ...       :: joy\n",
              "4      eww.. my moms starting to make her annual rum ...   :: disgust\n",
              "...                                                  ...          ...\n",
              "21046  @TheBodyShopUK Knowing my dissertation will be...       :: joy\n",
              "21047  hospital tomorrow morning, strapped with wires...       :: joy\n",
              "21048  Work is soooo slow, ready to have a great satu...       :: joy\n",
              "21049  You realize that by choosing joy every single ...       :: joy\n",
              "21050  &quot;Use to throw them into disarray.&quot;-M...     :: anger\n",
              "\n",
              "[21051 rows x 2 columns]"
            ]
          },
          "metadata": {
            "tags": []
          },
          "execution_count": 35
        }
      ]
    },
    {
      "cell_type": "code",
      "metadata": {
        "id": "PHx_LImtPjLg"
      },
      "source": [
        "def remov(x):\n",
        "  x = str(x)\n",
        "\n",
        "  x = re.sub(r\"::\", \"\", x)\n",
        "\n",
        "  return x.strip()\n",
        "\n",
        "df['label'] = df['label'].apply(lambda x : remov(x))"
      ],
      "execution_count": 39,
      "outputs": []
    },
    {
      "cell_type": "code",
      "metadata": {
        "colab": {
          "base_uri": "https://localhost:8080/",
          "height": 419
        },
        "id": "PI3LHuReQJyL",
        "outputId": "e550249f-9ad7-4116-c1f5-8321f07ab697"
      },
      "source": [
        "df"
      ],
      "execution_count": 40,
      "outputs": [
        {
          "output_type": "execute_result",
          "data": {
            "text/html": [
              "<div>\n",
              "<style scoped>\n",
              "    .dataframe tbody tr th:only-of-type {\n",
              "        vertical-align: middle;\n",
              "    }\n",
              "\n",
              "    .dataframe tbody tr th {\n",
              "        vertical-align: top;\n",
              "    }\n",
              "\n",
              "    .dataframe thead th {\n",
              "        text-align: right;\n",
              "    }\n",
              "</style>\n",
              "<table border=\"1\" class=\"dataframe\">\n",
              "  <thead>\n",
              "    <tr style=\"text-align: right;\">\n",
              "      <th></th>\n",
              "      <th>tweet</th>\n",
              "      <th>label</th>\n",
              "    </tr>\n",
              "  </thead>\n",
              "  <tbody>\n",
              "    <tr>\n",
              "      <th>0</th>\n",
              "      <td>Thinks that @melbahughes had a great 50th birt...</td>\n",
              "      <td>surprise</td>\n",
              "    </tr>\n",
              "    <tr>\n",
              "      <th>1</th>\n",
              "      <td>Como una expresión tan simple, una sola oració...</td>\n",
              "      <td>sadness</td>\n",
              "    </tr>\n",
              "    <tr>\n",
              "      <th>2</th>\n",
              "      <td>the moment when you get another follower and y...</td>\n",
              "      <td>joy</td>\n",
              "    </tr>\n",
              "    <tr>\n",
              "      <th>3</th>\n",
              "      <td>Be the greatest dancer of your life! practice ...</td>\n",
              "      <td>joy</td>\n",
              "    </tr>\n",
              "    <tr>\n",
              "      <th>4</th>\n",
              "      <td>eww.. my moms starting to make her annual rum ...</td>\n",
              "      <td>disgust</td>\n",
              "    </tr>\n",
              "    <tr>\n",
              "      <th>...</th>\n",
              "      <td>...</td>\n",
              "      <td>...</td>\n",
              "    </tr>\n",
              "    <tr>\n",
              "      <th>21046</th>\n",
              "      <td>@TheBodyShopUK Knowing my dissertation will be...</td>\n",
              "      <td>joy</td>\n",
              "    </tr>\n",
              "    <tr>\n",
              "      <th>21047</th>\n",
              "      <td>hospital tomorrow morning, strapped with wires...</td>\n",
              "      <td>joy</td>\n",
              "    </tr>\n",
              "    <tr>\n",
              "      <th>21048</th>\n",
              "      <td>Work is soooo slow, ready to have a great satu...</td>\n",
              "      <td>joy</td>\n",
              "    </tr>\n",
              "    <tr>\n",
              "      <th>21049</th>\n",
              "      <td>You realize that by choosing joy every single ...</td>\n",
              "      <td>joy</td>\n",
              "    </tr>\n",
              "    <tr>\n",
              "      <th>21050</th>\n",
              "      <td>&amp;quot;Use to throw them into disarray.&amp;quot;-M...</td>\n",
              "      <td>anger</td>\n",
              "    </tr>\n",
              "  </tbody>\n",
              "</table>\n",
              "<p>21051 rows × 2 columns</p>\n",
              "</div>"
            ],
            "text/plain": [
              "                                                   tweet     label\n",
              "0      Thinks that @melbahughes had a great 50th birt...  surprise\n",
              "1      Como una expresión tan simple, una sola oració...   sadness\n",
              "2      the moment when you get another follower and y...       joy\n",
              "3      Be the greatest dancer of your life! practice ...       joy\n",
              "4      eww.. my moms starting to make her annual rum ...   disgust\n",
              "...                                                  ...       ...\n",
              "21046  @TheBodyShopUK Knowing my dissertation will be...       joy\n",
              "21047  hospital tomorrow morning, strapped with wires...       joy\n",
              "21048  Work is soooo slow, ready to have a great satu...       joy\n",
              "21049  You realize that by choosing joy every single ...       joy\n",
              "21050  &quot;Use to throw them into disarray.&quot;-M...     anger\n",
              "\n",
              "[21051 rows x 2 columns]"
            ]
          },
          "metadata": {
            "tags": []
          },
          "execution_count": 40
        }
      ]
    },
    {
      "cell_type": "code",
      "metadata": {
        "id": "1vCfkWkURqgt"
      },
      "source": [
        "df_age_negative = df[ df['label'] == \"out of life\"] # Step 1\n",
        "df = df.drop(df_age_negative.index, axis=0)"
      ],
      "execution_count": 54,
      "outputs": []
    },
    {
      "cell_type": "code",
      "metadata": {
        "colab": {
          "base_uri": "https://localhost:8080/"
        },
        "id": "6lhAhpBlRmz0",
        "outputId": "ca206b1b-cc66-4f8a-ca0b-3a2d8724e419"
      },
      "source": [
        "df['label'].value_counts()"
      ],
      "execution_count": 55,
      "outputs": [
        {
          "output_type": "execute_result",
          "data": {
            "text/plain": [
              "joy         8239\n",
              "surprise    3848\n",
              "sadness     3830\n",
              "fear        2814\n",
              "anger       1555\n",
              "disgust      761\n",
              "Name: label, dtype: int64"
            ]
          },
          "metadata": {
            "tags": []
          },
          "execution_count": 55
        }
      ]
    },
    {
      "cell_type": "code",
      "metadata": {
        "id": "zbjnfLIsQQV9"
      },
      "source": [
        "df.to_csv('/content/gdrive/MyDrive/InfluenceAnalysis/TEC/tec.csv',index=None)"
      ],
      "execution_count": 56,
      "outputs": []
    },
    {
      "cell_type": "code",
      "metadata": {
        "id": "OawFo3gKSICw"
      },
      "source": [
        ""
      ],
      "execution_count": null,
      "outputs": []
    }
  ]
}