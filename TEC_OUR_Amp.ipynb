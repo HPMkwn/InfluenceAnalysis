{
  "nbformat": 4,
  "nbformat_minor": 0,
  "metadata": {
    "colab": {
      "name": "TEC_OUR_Amp.ipynb",
      "provenance": [],
      "collapsed_sections": [],
      "include_colab_link": true
    },
    "kernelspec": {
      "name": "python3",
      "display_name": "Python 3"
    }
  },
  "cells": [
    {
      "cell_type": "markdown",
      "metadata": {
        "id": "view-in-github",
        "colab_type": "text"
      },
      "source": [
        "<a href=\"https://colab.research.google.com/github/harrymkwn/InfluenceAnalysis/blob/master/TEC_OUR_Amp.ipynb\" target=\"_parent\"><img src=\"https://colab.research.google.com/assets/colab-badge.svg\" alt=\"Open In Colab\"/></a>"
      ]
    },
    {
      "cell_type": "code",
      "metadata": {
        "colab": {
          "base_uri": "https://localhost:8080/"
        },
        "id": "JM_R73b__UDA",
        "outputId": "cd9d400c-a3cd-4e4d-919f-2622e6945220"
      },
      "source": [
        "from google.colab import  drive\r\n",
        "drive.mount('/content/drive')\r\n"
      ],
      "execution_count": 2,
      "outputs": [
        {
          "output_type": "stream",
          "text": [
            "Drive already mounted at /content/drive; to attempt to forcibly remount, call drive.mount(\"/content/drive\", force_remount=True).\n"
          ],
          "name": "stdout"
        }
      ]
    },
    {
      "cell_type": "code",
      "metadata": {
        "id": "nUUbZlzjtM4Z",
        "colab": {
          "base_uri": "https://localhost:8080/"
        },
        "outputId": "fb47ad63-e58b-43b7-8db2-9f7f54dc6efe"
      },
      "source": [
        "import pandas as pd\r\n",
        "import numpy as np\r\n",
        "import tensorflow as tf\r\n",
        "from gensim.models import Word2Vec\r\n",
        "import matplotlib.pyplot as plt\r\n",
        "from sklearn.linear_model import LogisticRegression\r\n",
        "from sklearn.multiclass import OneVsRestClassifier\r\n",
        "from gensim.models import KeyedVectors\r\n",
        "from sklearn.model_selection import train_test_split\r\n",
        "import nltk\r\n",
        "from nltk.corpus import stopwords\r\n",
        "nltk.download('all')\r\n",
        "from nltk.corpus import sentiwordnet as swn\r\n",
        "device_name = tf.test.gpu_device_name()\r\n",
        "print(device_name)\r\n",
        "df = pd.read_csv('/content/drive/MyDrive/InfluenceAnalysis/InfluenceAnalysis/TEC/TECOur.csv')\r\n",
        "df = df.sample(frac=1,random_state=32)"
      ],
      "execution_count": 3,
      "outputs": [
        {
          "output_type": "stream",
          "text": [
            "[nltk_data] Downloading collection 'all'\n",
            "[nltk_data]    | \n",
            "[nltk_data]    | Downloading package abc to /root/nltk_data...\n",
            "[nltk_data]    |   Unzipping corpora/abc.zip.\n",
            "[nltk_data]    | Downloading package alpino to /root/nltk_data...\n",
            "[nltk_data]    |   Unzipping corpora/alpino.zip.\n",
            "[nltk_data]    | Downloading package biocreative_ppi to\n",
            "[nltk_data]    |     /root/nltk_data...\n",
            "[nltk_data]    |   Unzipping corpora/biocreative_ppi.zip.\n",
            "[nltk_data]    | Downloading package brown to /root/nltk_data...\n",
            "[nltk_data]    |   Unzipping corpora/brown.zip.\n",
            "[nltk_data]    | Downloading package brown_tei to /root/nltk_data...\n",
            "[nltk_data]    |   Unzipping corpora/brown_tei.zip.\n",
            "[nltk_data]    | Downloading package cess_cat to /root/nltk_data...\n",
            "[nltk_data]    |   Unzipping corpora/cess_cat.zip.\n",
            "[nltk_data]    | Downloading package cess_esp to /root/nltk_data...\n",
            "[nltk_data]    |   Unzipping corpora/cess_esp.zip.\n",
            "[nltk_data]    | Downloading package chat80 to /root/nltk_data...\n",
            "[nltk_data]    |   Unzipping corpora/chat80.zip.\n",
            "[nltk_data]    | Downloading package city_database to\n",
            "[nltk_data]    |     /root/nltk_data...\n",
            "[nltk_data]    |   Unzipping corpora/city_database.zip.\n",
            "[nltk_data]    | Downloading package cmudict to /root/nltk_data...\n",
            "[nltk_data]    |   Unzipping corpora/cmudict.zip.\n",
            "[nltk_data]    | Downloading package comparative_sentences to\n",
            "[nltk_data]    |     /root/nltk_data...\n",
            "[nltk_data]    |   Unzipping corpora/comparative_sentences.zip.\n",
            "[nltk_data]    | Downloading package comtrans to /root/nltk_data...\n",
            "[nltk_data]    | Downloading package conll2000 to /root/nltk_data...\n",
            "[nltk_data]    |   Unzipping corpora/conll2000.zip.\n",
            "[nltk_data]    | Downloading package conll2002 to /root/nltk_data...\n",
            "[nltk_data]    |   Unzipping corpora/conll2002.zip.\n",
            "[nltk_data]    | Downloading package conll2007 to /root/nltk_data...\n",
            "[nltk_data]    | Downloading package crubadan to /root/nltk_data...\n",
            "[nltk_data]    |   Unzipping corpora/crubadan.zip.\n",
            "[nltk_data]    | Downloading package dependency_treebank to\n",
            "[nltk_data]    |     /root/nltk_data...\n",
            "[nltk_data]    |   Unzipping corpora/dependency_treebank.zip.\n",
            "[nltk_data]    | Downloading package dolch to /root/nltk_data...\n",
            "[nltk_data]    |   Unzipping corpora/dolch.zip.\n",
            "[nltk_data]    | Downloading package europarl_raw to\n",
            "[nltk_data]    |     /root/nltk_data...\n",
            "[nltk_data]    |   Unzipping corpora/europarl_raw.zip.\n",
            "[nltk_data]    | Downloading package floresta to /root/nltk_data...\n",
            "[nltk_data]    |   Unzipping corpora/floresta.zip.\n",
            "[nltk_data]    | Downloading package framenet_v15 to\n",
            "[nltk_data]    |     /root/nltk_data...\n",
            "[nltk_data]    |   Unzipping corpora/framenet_v15.zip.\n",
            "[nltk_data]    | Downloading package framenet_v17 to\n",
            "[nltk_data]    |     /root/nltk_data...\n",
            "[nltk_data]    |   Unzipping corpora/framenet_v17.zip.\n",
            "[nltk_data]    | Downloading package gazetteers to /root/nltk_data...\n",
            "[nltk_data]    |   Unzipping corpora/gazetteers.zip.\n",
            "[nltk_data]    | Downloading package genesis to /root/nltk_data...\n",
            "[nltk_data]    |   Unzipping corpora/genesis.zip.\n",
            "[nltk_data]    | Downloading package gutenberg to /root/nltk_data...\n",
            "[nltk_data]    |   Unzipping corpora/gutenberg.zip.\n",
            "[nltk_data]    | Downloading package ieer to /root/nltk_data...\n",
            "[nltk_data]    |   Unzipping corpora/ieer.zip.\n",
            "[nltk_data]    | Downloading package inaugural to /root/nltk_data...\n",
            "[nltk_data]    |   Unzipping corpora/inaugural.zip.\n",
            "[nltk_data]    | Downloading package indian to /root/nltk_data...\n",
            "[nltk_data]    |   Unzipping corpora/indian.zip.\n",
            "[nltk_data]    | Downloading package jeita to /root/nltk_data...\n",
            "[nltk_data]    | Downloading package kimmo to /root/nltk_data...\n",
            "[nltk_data]    |   Unzipping corpora/kimmo.zip.\n",
            "[nltk_data]    | Downloading package knbc to /root/nltk_data...\n",
            "[nltk_data]    | Downloading package lin_thesaurus to\n",
            "[nltk_data]    |     /root/nltk_data...\n",
            "[nltk_data]    |   Unzipping corpora/lin_thesaurus.zip.\n",
            "[nltk_data]    | Downloading package mac_morpho to /root/nltk_data...\n",
            "[nltk_data]    |   Unzipping corpora/mac_morpho.zip.\n",
            "[nltk_data]    | Downloading package machado to /root/nltk_data...\n",
            "[nltk_data]    | Downloading package masc_tagged to /root/nltk_data...\n",
            "[nltk_data]    | Downloading package moses_sample to\n",
            "[nltk_data]    |     /root/nltk_data...\n",
            "[nltk_data]    |   Unzipping models/moses_sample.zip.\n",
            "[nltk_data]    | Downloading package movie_reviews to\n",
            "[nltk_data]    |     /root/nltk_data...\n",
            "[nltk_data]    |   Unzipping corpora/movie_reviews.zip.\n",
            "[nltk_data]    | Downloading package names to /root/nltk_data...\n",
            "[nltk_data]    |   Unzipping corpora/names.zip.\n",
            "[nltk_data]    | Downloading package nombank.1.0 to /root/nltk_data...\n",
            "[nltk_data]    | Downloading package nps_chat to /root/nltk_data...\n",
            "[nltk_data]    |   Unzipping corpora/nps_chat.zip.\n",
            "[nltk_data]    | Downloading package omw to /root/nltk_data...\n",
            "[nltk_data]    |   Unzipping corpora/omw.zip.\n",
            "[nltk_data]    | Downloading package opinion_lexicon to\n",
            "[nltk_data]    |     /root/nltk_data...\n",
            "[nltk_data]    |   Unzipping corpora/opinion_lexicon.zip.\n",
            "[nltk_data]    | Downloading package paradigms to /root/nltk_data...\n",
            "[nltk_data]    |   Unzipping corpora/paradigms.zip.\n",
            "[nltk_data]    | Downloading package pil to /root/nltk_data...\n",
            "[nltk_data]    |   Unzipping corpora/pil.zip.\n",
            "[nltk_data]    | Downloading package pl196x to /root/nltk_data...\n",
            "[nltk_data]    |   Unzipping corpora/pl196x.zip.\n",
            "[nltk_data]    | Downloading package ppattach to /root/nltk_data...\n",
            "[nltk_data]    |   Unzipping corpora/ppattach.zip.\n",
            "[nltk_data]    | Downloading package problem_reports to\n",
            "[nltk_data]    |     /root/nltk_data...\n",
            "[nltk_data]    |   Unzipping corpora/problem_reports.zip.\n",
            "[nltk_data]    | Downloading package propbank to /root/nltk_data...\n",
            "[nltk_data]    | Downloading package ptb to /root/nltk_data...\n",
            "[nltk_data]    |   Unzipping corpora/ptb.zip.\n",
            "[nltk_data]    | Downloading package product_reviews_1 to\n",
            "[nltk_data]    |     /root/nltk_data...\n",
            "[nltk_data]    |   Unzipping corpora/product_reviews_1.zip.\n",
            "[nltk_data]    | Downloading package product_reviews_2 to\n",
            "[nltk_data]    |     /root/nltk_data...\n",
            "[nltk_data]    |   Unzipping corpora/product_reviews_2.zip.\n",
            "[nltk_data]    | Downloading package pros_cons to /root/nltk_data...\n",
            "[nltk_data]    |   Unzipping corpora/pros_cons.zip.\n",
            "[nltk_data]    | Downloading package qc to /root/nltk_data...\n",
            "[nltk_data]    |   Unzipping corpora/qc.zip.\n",
            "[nltk_data]    | Downloading package reuters to /root/nltk_data...\n",
            "[nltk_data]    | Downloading package rte to /root/nltk_data...\n",
            "[nltk_data]    |   Unzipping corpora/rte.zip.\n",
            "[nltk_data]    | Downloading package semcor to /root/nltk_data...\n",
            "[nltk_data]    | Downloading package senseval to /root/nltk_data...\n",
            "[nltk_data]    |   Unzipping corpora/senseval.zip.\n",
            "[nltk_data]    | Downloading package sentiwordnet to\n",
            "[nltk_data]    |     /root/nltk_data...\n",
            "[nltk_data]    |   Unzipping corpora/sentiwordnet.zip.\n",
            "[nltk_data]    | Downloading package sentence_polarity to\n",
            "[nltk_data]    |     /root/nltk_data...\n",
            "[nltk_data]    |   Unzipping corpora/sentence_polarity.zip.\n",
            "[nltk_data]    | Downloading package shakespeare to /root/nltk_data...\n",
            "[nltk_data]    |   Unzipping corpora/shakespeare.zip.\n",
            "[nltk_data]    | Downloading package sinica_treebank to\n",
            "[nltk_data]    |     /root/nltk_data...\n",
            "[nltk_data]    |   Unzipping corpora/sinica_treebank.zip.\n",
            "[nltk_data]    | Downloading package smultron to /root/nltk_data...\n",
            "[nltk_data]    |   Unzipping corpora/smultron.zip.\n",
            "[nltk_data]    | Downloading package state_union to /root/nltk_data...\n",
            "[nltk_data]    |   Unzipping corpora/state_union.zip.\n",
            "[nltk_data]    | Downloading package stopwords to /root/nltk_data...\n",
            "[nltk_data]    |   Unzipping corpora/stopwords.zip.\n",
            "[nltk_data]    | Downloading package subjectivity to\n",
            "[nltk_data]    |     /root/nltk_data...\n",
            "[nltk_data]    |   Unzipping corpora/subjectivity.zip.\n",
            "[nltk_data]    | Downloading package swadesh to /root/nltk_data...\n",
            "[nltk_data]    |   Unzipping corpora/swadesh.zip.\n",
            "[nltk_data]    | Downloading package switchboard to /root/nltk_data...\n",
            "[nltk_data]    |   Unzipping corpora/switchboard.zip.\n",
            "[nltk_data]    | Downloading package timit to /root/nltk_data...\n",
            "[nltk_data]    |   Unzipping corpora/timit.zip.\n",
            "[nltk_data]    | Downloading package toolbox to /root/nltk_data...\n",
            "[nltk_data]    |   Unzipping corpora/toolbox.zip.\n",
            "[nltk_data]    | Downloading package treebank to /root/nltk_data...\n",
            "[nltk_data]    |   Unzipping corpora/treebank.zip.\n",
            "[nltk_data]    | Downloading package twitter_samples to\n",
            "[nltk_data]    |     /root/nltk_data...\n",
            "[nltk_data]    |   Unzipping corpora/twitter_samples.zip.\n",
            "[nltk_data]    | Downloading package udhr to /root/nltk_data...\n",
            "[nltk_data]    |   Unzipping corpora/udhr.zip.\n",
            "[nltk_data]    | Downloading package udhr2 to /root/nltk_data...\n",
            "[nltk_data]    |   Unzipping corpora/udhr2.zip.\n",
            "[nltk_data]    | Downloading package unicode_samples to\n",
            "[nltk_data]    |     /root/nltk_data...\n",
            "[nltk_data]    |   Unzipping corpora/unicode_samples.zip.\n",
            "[nltk_data]    | Downloading package universal_treebanks_v20 to\n",
            "[nltk_data]    |     /root/nltk_data...\n",
            "[nltk_data]    | Downloading package verbnet to /root/nltk_data...\n",
            "[nltk_data]    |   Unzipping corpora/verbnet.zip.\n",
            "[nltk_data]    | Downloading package verbnet3 to /root/nltk_data...\n",
            "[nltk_data]    |   Unzipping corpora/verbnet3.zip.\n",
            "[nltk_data]    | Downloading package webtext to /root/nltk_data...\n",
            "[nltk_data]    |   Unzipping corpora/webtext.zip.\n",
            "[nltk_data]    | Downloading package wordnet to /root/nltk_data...\n",
            "[nltk_data]    |   Unzipping corpora/wordnet.zip.\n",
            "[nltk_data]    | Downloading package wordnet_ic to /root/nltk_data...\n",
            "[nltk_data]    |   Unzipping corpora/wordnet_ic.zip.\n",
            "[nltk_data]    | Downloading package words to /root/nltk_data...\n",
            "[nltk_data]    |   Unzipping corpora/words.zip.\n",
            "[nltk_data]    | Downloading package ycoe to /root/nltk_data...\n",
            "[nltk_data]    |   Unzipping corpora/ycoe.zip.\n",
            "[nltk_data]    | Downloading package rslp to /root/nltk_data...\n",
            "[nltk_data]    |   Unzipping stemmers/rslp.zip.\n",
            "[nltk_data]    | Downloading package maxent_treebank_pos_tagger to\n",
            "[nltk_data]    |     /root/nltk_data...\n",
            "[nltk_data]    |   Unzipping taggers/maxent_treebank_pos_tagger.zip.\n",
            "[nltk_data]    | Downloading package universal_tagset to\n",
            "[nltk_data]    |     /root/nltk_data...\n",
            "[nltk_data]    |   Unzipping taggers/universal_tagset.zip.\n",
            "[nltk_data]    | Downloading package maxent_ne_chunker to\n",
            "[nltk_data]    |     /root/nltk_data...\n",
            "[nltk_data]    |   Unzipping chunkers/maxent_ne_chunker.zip.\n",
            "[nltk_data]    | Downloading package punkt to /root/nltk_data...\n",
            "[nltk_data]    |   Unzipping tokenizers/punkt.zip.\n",
            "[nltk_data]    | Downloading package book_grammars to\n",
            "[nltk_data]    |     /root/nltk_data...\n",
            "[nltk_data]    |   Unzipping grammars/book_grammars.zip.\n",
            "[nltk_data]    | Downloading package sample_grammars to\n",
            "[nltk_data]    |     /root/nltk_data...\n",
            "[nltk_data]    |   Unzipping grammars/sample_grammars.zip.\n",
            "[nltk_data]    | Downloading package spanish_grammars to\n",
            "[nltk_data]    |     /root/nltk_data...\n",
            "[nltk_data]    |   Unzipping grammars/spanish_grammars.zip.\n",
            "[nltk_data]    | Downloading package basque_grammars to\n",
            "[nltk_data]    |     /root/nltk_data...\n",
            "[nltk_data]    |   Unzipping grammars/basque_grammars.zip.\n",
            "[nltk_data]    | Downloading package large_grammars to\n",
            "[nltk_data]    |     /root/nltk_data...\n",
            "[nltk_data]    |   Unzipping grammars/large_grammars.zip.\n",
            "[nltk_data]    | Downloading package tagsets to /root/nltk_data...\n",
            "[nltk_data]    |   Unzipping help/tagsets.zip.\n",
            "[nltk_data]    | Downloading package snowball_data to\n",
            "[nltk_data]    |     /root/nltk_data...\n",
            "[nltk_data]    | Downloading package bllip_wsj_no_aux to\n",
            "[nltk_data]    |     /root/nltk_data...\n",
            "[nltk_data]    |   Unzipping models/bllip_wsj_no_aux.zip.\n",
            "[nltk_data]    | Downloading package word2vec_sample to\n",
            "[nltk_data]    |     /root/nltk_data...\n",
            "[nltk_data]    |   Unzipping models/word2vec_sample.zip.\n",
            "[nltk_data]    | Downloading package panlex_swadesh to\n",
            "[nltk_data]    |     /root/nltk_data...\n",
            "[nltk_data]    | Downloading package mte_teip5 to /root/nltk_data...\n",
            "[nltk_data]    |   Unzipping corpora/mte_teip5.zip.\n",
            "[nltk_data]    | Downloading package averaged_perceptron_tagger to\n",
            "[nltk_data]    |     /root/nltk_data...\n",
            "[nltk_data]    |   Unzipping taggers/averaged_perceptron_tagger.zip.\n",
            "[nltk_data]    | Downloading package averaged_perceptron_tagger_ru to\n",
            "[nltk_data]    |     /root/nltk_data...\n",
            "[nltk_data]    |   Unzipping\n",
            "[nltk_data]    |       taggers/averaged_perceptron_tagger_ru.zip.\n",
            "[nltk_data]    | Downloading package perluniprops to\n",
            "[nltk_data]    |     /root/nltk_data...\n",
            "[nltk_data]    |   Unzipping misc/perluniprops.zip.\n",
            "[nltk_data]    | Downloading package nonbreaking_prefixes to\n",
            "[nltk_data]    |     /root/nltk_data...\n",
            "[nltk_data]    |   Unzipping corpora/nonbreaking_prefixes.zip.\n",
            "[nltk_data]    | Downloading package vader_lexicon to\n",
            "[nltk_data]    |     /root/nltk_data...\n",
            "[nltk_data]    | Downloading package porter_test to /root/nltk_data...\n",
            "[nltk_data]    |   Unzipping stemmers/porter_test.zip.\n",
            "[nltk_data]    | Downloading package wmt15_eval to /root/nltk_data...\n",
            "[nltk_data]    |   Unzipping models/wmt15_eval.zip.\n",
            "[nltk_data]    | Downloading package mwa_ppdb to /root/nltk_data...\n",
            "[nltk_data]    |   Unzipping misc/mwa_ppdb.zip.\n",
            "[nltk_data]    | \n",
            "[nltk_data]  Done downloading collection all\n",
            "\n"
          ],
          "name": "stdout"
        }
      ]
    },
    {
      "cell_type": "code",
      "metadata": {
        "colab": {
          "base_uri": "https://localhost:8080/",
          "height": 204
        },
        "id": "BbwlTktNBR48",
        "outputId": "8c2ece97-3cea-4525-c4d6-981920cac027"
      },
      "source": [
        "df.head()"
      ],
      "execution_count": 4,
      "outputs": [
        {
          "output_type": "execute_result",
          "data": {
            "text/html": [
              "<div>\n",
              "<style scoped>\n",
              "    .dataframe tbody tr th:only-of-type {\n",
              "        vertical-align: middle;\n",
              "    }\n",
              "\n",
              "    .dataframe tbody tr th {\n",
              "        vertical-align: top;\n",
              "    }\n",
              "\n",
              "    .dataframe thead th {\n",
              "        text-align: right;\n",
              "    }\n",
              "</style>\n",
              "<table border=\"1\" class=\"dataframe\">\n",
              "  <thead>\n",
              "    <tr style=\"text-align: right;\">\n",
              "      <th></th>\n",
              "      <th>tweets</th>\n",
              "      <th>emotion</th>\n",
              "    </tr>\n",
              "  </thead>\n",
              "  <tbody>\n",
              "    <tr>\n",
              "      <th>19554</th>\n",
              "      <td>smoothies are the best at any time any temper...</td>\n",
              "      <td>2</td>\n",
              "    </tr>\n",
              "    <tr>\n",
              "      <th>9801</th>\n",
              "      <td>Rain tomorrow      that means curly hair</td>\n",
              "      <td>0</td>\n",
              "    </tr>\n",
              "    <tr>\n",
              "      <th>13413</th>\n",
              "      <td>Bout to lay it down im tired      Tmrws gonna ...</td>\n",
              "      <td>0</td>\n",
              "    </tr>\n",
              "    <tr>\n",
              "      <th>3398</th>\n",
              "      <td>hahaha run a marathon  hopin to go abroad to ...</td>\n",
              "      <td>0</td>\n",
              "    </tr>\n",
              "    <tr>\n",
              "      <th>9536</th>\n",
              "      <td>Christmas shopping in tkmax with Deck The Hall...</td>\n",
              "      <td>0</td>\n",
              "    </tr>\n",
              "  </tbody>\n",
              "</table>\n",
              "</div>"
            ],
            "text/plain": [
              "                                                  tweets  emotion\n",
              "19554   smoothies are the best at any time any temper...        2\n",
              "9801           Rain tomorrow      that means curly hair         0\n",
              "13413  Bout to lay it down im tired      Tmrws gonna ...        0\n",
              "3398    hahaha run a marathon  hopin to go abroad to ...        0\n",
              "9536   Christmas shopping in tkmax with Deck The Hall...        0"
            ]
          },
          "metadata": {
            "tags": []
          },
          "execution_count": 4
        }
      ]
    },
    {
      "cell_type": "code",
      "metadata": {
        "colab": {
          "base_uri": "https://localhost:8080/"
        },
        "id": "ENcs-a3CBR02",
        "outputId": "acb96f86-28e8-4ae1-80fb-d16de26eb0ab"
      },
      "source": [
        "df.emotion.unique()"
      ],
      "execution_count": 5,
      "outputs": [
        {
          "output_type": "execute_result",
          "data": {
            "text/plain": [
              "array([2, 0, 1, 3, 4, 5])"
            ]
          },
          "metadata": {
            "tags": []
          },
          "execution_count": 5
        }
      ]
    },
    {
      "cell_type": "code",
      "metadata": {
        "colab": {
          "base_uri": "https://localhost:8080/"
        },
        "id": "v0mb2jrPBRwL",
        "outputId": "0abc849a-b63b-4829-dc5d-6b61e2a754a1"
      },
      "source": [
        "no_labels=6\r\n",
        "category_dict = {}\r\n",
        "for i in range(no_labels):\r\n",
        "  category_dict[i]=[0 for j in range(no_labels)]\r\n",
        "  category_dict[i][i]=1\r\n",
        "data_tweet = [str(x).lower().split() for x in df['tweets']]\r\n",
        "data_cat = np.array([np.array(category_dict[x]) for x in df['emotion']])\r\n",
        "print(data_cat[:5])"
      ],
      "execution_count": 6,
      "outputs": [
        {
          "output_type": "stream",
          "text": [
            "[[0 0 1 0 0 0]\n",
            " [1 0 0 0 0 0]\n",
            " [1 0 0 0 0 0]\n",
            " [1 0 0 0 0 0]\n",
            " [1 0 0 0 0 0]]\n"
          ],
          "name": "stdout"
        }
      ]
    },
    {
      "cell_type": "code",
      "metadata": {
        "id": "G8Z9hWlpvu-l"
      },
      "source": [
        "\r\n"
      ],
      "execution_count": null,
      "outputs": []
    },
    {
      "cell_type": "code",
      "metadata": {
        "id": "1Ik2nYnWvu7c",
        "colab": {
          "base_uri": "https://localhost:8080/"
        },
        "outputId": "db29c7bf-4827-417d-d293-fe707114470d"
      },
      "source": [
        "print(data_tweet[:5])\r\n",
        "print(data_cat[:5])"
      ],
      "execution_count": 7,
      "outputs": [
        {
          "output_type": "stream",
          "text": [
            "[['smoothies', 'are', 'the', 'best', 'at', 'any', 'time', 'any', 'temperature', 'we', 'have', 'no', 'smoothie', 'availability', 'at', 'lehigh'], ['rain', 'tomorrow', 'that', 'means', 'curly', 'hair'], ['bout', 'to', 'lay', 'it', 'down', 'im', 'tired', 'tmrws', 'gonna', 'feel', 'so', 'long', 'considering', 'i', 'have', 'not', 'had', 'school', 'for', 'a', 'week'], ['hahaha', 'run', 'a', 'marathon', 'hopin', 'to', 'go', 'abroad', 'to', 'do', 'some'], ['christmas', 'shopping', 'in', 'tkmax', 'with', 'deck', 'the', 'halls', 'playing', 'in', 'the', 'background']]\n",
            "[[0 0 1 0 0 0]\n",
            " [1 0 0 0 0 0]\n",
            " [1 0 0 0 0 0]\n",
            " [1 0 0 0 0 0]\n",
            " [1 0 0 0 0 0]]\n"
          ],
          "name": "stdout"
        }
      ]
    },
    {
      "cell_type": "code",
      "metadata": {
        "id": "PTQD20vNvu3x"
      },
      "source": [
        "# Parameters\r\n",
        "Min_count = 0\r\n",
        "Embedding_size = 200\r\n",
        "Window_size = 5\r\n",
        "Negative_sampling = 00"
      ],
      "execution_count": 8,
      "outputs": []
    },
    {
      "cell_type": "code",
      "metadata": {
        "id": "gmvFJUlXvu1S"
      },
      "source": [
        "w2v_sg = Word2Vec(min_count=Min_count,\r\n",
        "                     window=Window_size,\r\n",
        "                     size=Embedding_size,\r\n",
        "                     negative=Negative_sampling,sg=1)\r\n",
        "w2v_sg.build_vocab(data_tweet)\r\n",
        "w2v_sg.train(data_tweet, total_examples=w2v_sg.corpus_count, epochs=5)\r\n",
        "w2v_cbow = Word2Vec(min_count=Min_count,\r\n",
        "                     window=Window_size,\r\n",
        "                     size=Embedding_size,\r\n",
        "                     negative=Negative_sampling,sg=0)\r\n",
        "w2v_cbow.build_vocab(data_tweet)\r\n",
        "w2v_cbow.train(data_tweet, total_examples=w2v_cbow.corpus_count, epochs=5)\r\n",
        "w2v_sg.wv.init_sims(True)\r\n",
        "w2v_cbow.wv.init_sims(True)"
      ],
      "execution_count": 9,
      "outputs": []
    },
    {
      "cell_type": "code",
      "metadata": {
        "id": "EWlSeP2Xvuy7"
      },
      "source": [
        "vocab_sg = w2v_sg.wv.vocab\r\n",
        "vocab_sg = [x for x in vocab_sg]\r\n",
        "vocab_cbow = w2v_cbow.wv.vocab\r\n",
        "vocab_cbow = [x for x in vocab_cbow] \r\n",
        "vocab_glove = {}\r\n",
        "with open(\"/content/drive/My Drive/InfluenceAnalysis/InfluenceAnalysis/glove/glove.twitter.27B.200d.txt\", 'r', encoding=\"utf-8\") as f:\r\n",
        "  for line in f:\r\n",
        "      values = line.split()\r\n",
        "      word = values[0]\r\n",
        "      vector = np.asarray(values[1:], \"float32\")\r\n",
        "      vocab_glove[word] = vector"
      ],
      "execution_count": 10,
      "outputs": []
    },
    {
      "cell_type": "code",
      "metadata": {
        "id": "t2dmTA7mv2rW"
      },
      "source": [
        "batch_size = 500\r\n",
        "Max_input_size = max([len(x) for x in data_tweet])\r\n",
        "data_tweet = [nltk.pos_tag(x) for x in data_tweet]\r\n",
        "def getsent(word,tag):\r\n",
        "  res=0\r\n",
        "  try:\r\n",
        "    x = swn.senti_synset(word+'.'+tag[0].lower()+'.01')\r\n",
        "    res =  (x.pos_score()-x.neg_score())\r\n",
        "  finally:\r\n",
        "    return res \r\n",
        "data_tweet = [[(i[0],i[1],getsent(i[0],i[1])) for i in x] for x in data_tweet]"
      ],
      "execution_count": 11,
      "outputs": []
    },
    {
      "cell_type": "code",
      "metadata": {
        "id": "NMXBVvGUv9q3"
      },
      "source": [
        "def vec_gen(w2v,vocab,data_tweet,data_cat,batch_size,Max_input_size,Embedding_size,mul_factor=2):\r\n",
        "  while True:\r\n",
        "    for k in range(int(len(data_tweet)/batch_size)):\r\n",
        "      res=[]\r\n",
        "      for x in data_tweet[k*(batch_size):(k+1)*(batch_size)]:\r\n",
        "        tweet = [(w2v.wv.word_vec(i[0]),i[1]) for i in x if i[0] in vocab]\r\n",
        "        l=len(tweet)\r\n",
        "        for i in range(l):\r\n",
        "          if tweet[i][1][:2]=='JJ' or tweet[i][1][:2]=='RB':\r\n",
        "            tweet[i]=((tweet[i][0])*mul_factor,tweet[i][1])\r\n",
        "        res+=[np.array([x[0] for x in tweet])]\r\n",
        "      temp = np.array([np.pad(z.flatten(),(0,Max_input_size*Embedding_size-len(z.flatten()))).reshape(Max_input_size,Embedding_size) for z in res])\r\n",
        "      tempres = np.array(data_cat[k*(batch_size):(k+1)*(batch_size)])\r\n",
        "      yield (temp,tempres)          \r\n",
        "      \r\n",
        "def glove_gen(vocab,data_tweet,data_cat,batch_size,Max_input_size,Embedding_size,mul_factor=2):\r\n",
        "  while True:\r\n",
        "    for k in range(int(len(data_tweet)/batch_size)):\r\n",
        "      res=[]\r\n",
        "      for x in data_tweet[k*(batch_size):(k+1)*(batch_size)]:\r\n",
        "        tweet = [(vocab[i[0]],i[1]) for i in x if i[0] in vocab.keys()]\r\n",
        "        l=len(tweet)\r\n",
        "        for i in range(l):\r\n",
        "          if tweet[i][1][:2]=='JJ' or tweet[i][1][:2]=='RB':\r\n",
        "            tweet[i]=((tweet[i][0])*mul_factor,tweet[i][1])\r\n",
        "        res+=[np.array([x[0] for x in tweet])]\r\n",
        "      temp = np.array([np.pad(z.flatten(),(0,Max_input_size*Embedding_size-len(z.flatten()))).reshape(Max_input_size,Embedding_size) for z in res])\r\n",
        "      tempres = np.array(data_cat[k*(batch_size):(k+1)*(batch_size)])\r\n",
        "      yield (temp,tempres)"
      ],
      "execution_count": 12,
      "outputs": []
    },
    {
      "cell_type": "code",
      "metadata": {
        "id": "AtpLVu-Jv9oA",
        "colab": {
          "base_uri": "https://localhost:8080/"
        },
        "outputId": "a88fe912-6677-423c-c9ca-77c929fc40b6"
      },
      "source": [
        "from sklearn.model_selection import StratifiedShuffleSplit\r\n",
        "sss = StratifiedShuffleSplit(n_splits=1, test_size=0.2, random_state=0)\r\n",
        "sss.get_n_splits(data_tweet, data_cat)\r\n",
        "X_train=[]\r\n",
        "X_test=[]\r\n",
        "y_train=[]\r\n",
        "y_test=[]\r\n",
        "counter=0\r\n",
        "for train_index, test_index in sss.split(data_tweet, data_cat):\r\n",
        "  print(\"TRAIN:\", train_index, \"TEST:\", test_index)\r\n",
        "  for i in train_index:\r\n",
        "    X_train+=[data_tweet[i]]\r\n",
        "    y_train+=[data_cat[i]]\r\n",
        "\r\n",
        "  for j in test_index:\r\n",
        "    X_test+=[data_tweet[j]]\r\n",
        "    y_test+=[data_cat[j]]\r\n",
        "\r\n",
        " # X_train, X_test = data_tweet[train_index], data_tweet[test_index]\r\n",
        " # y_train, y_test = data_cat[train_index], data_cat[test_index]\r\n",
        "print(X_train[:5])\r\n",
        "print(y_train[:5])\r\n",
        "sss = StratifiedShuffleSplit(n_splits=1, test_size=0.2, random_state=0)\r\n",
        "sss.get_n_splits(X_train, y_train)\r\n",
        "x_train=[]\r\n",
        "X_val=[]\r\n",
        "Y_train=[]\r\n",
        "y_val=[]\r\n",
        "for train_index1, test_index1 in sss.split(X_train, y_train):\r\n",
        "  print(\"TRAIN:\", train_index1, \"TEST:\", test_index1)\r\n",
        "  for i in train_index1:\r\n",
        "    x_train+=[X_train[i]]\r\n",
        "    Y_train+=[y_train[i]]\r\n",
        "\r\n",
        "  for j in test_index1:\r\n",
        "    X_val+=[X_train[j]]\r\n",
        "    y_val+=[y_train[j]]\r\n",
        "X_train=x_train\r\n",
        "y_train=Y_train\r\n",
        "print(len(X_train))\r\n",
        "print(len(y_train))\r\n",
        "print(len(X_test))\r\n",
        "print(len(y_test))\r\n",
        "print(len(X_val))\r\n",
        "print(len(y_val))\r\n",
        "print(X_train[:5])\r\n",
        "print(y_train[:5])\r\n",
        "result_table = [0,0,0]"
      ],
      "execution_count": 13,
      "outputs": [
        {
          "output_type": "stream",
          "text": [
            "TRAIN: [ 4990  8232 16430 ...  1782 14725 11582] TEST: [ 9096 15406 12733 ... 11184  9511 11639]\n",
            "[[('what', 'WP', 0), ('the', 'DT', 0), ('hell', 'NN', -0.375), ('has', 'VBZ', 0), ('gotten', 'VBN', 0), ('in', 'IN', 0), ('to', 'TO', 0), ('you', 'PRP', 0), ('like', 'IN', 0), ('legit', 'VB', 0), ('your', 'PRP$', 0), ('an', 'DT', 0), ('ass', 'NN', 0.0), ('now', 'RB', 0.0)], [('i', 'NNS', 0.0), ('do', 'VBP', 0.0), ('not', 'RB', -0.625), ('have', 'VB', 0.25), ('cell', 'NN', 0.0), ('phone', 'NN', 0.0), ('service', 'NN', 0.0), ('so', 'RB', 0.0), ('i', 'JJ', 0), ('am', 'VBP', 0), ('tweeting', 'VBG', 0), ('you', 'PRP', 0), ('are', 'VBP', 0), ('you', 'PRP', 0), ('still', 'RB', -0.125), ('down', 'RP', -0.125), ('for', 'IN', 0), ('some', 'DT', 0), ('shopping', 'NN', 0.0)], [('there', 'EX', 0), ('is', 'VBZ', 0), ('a', 'DT', 0), ('mysterious', 'JJ', 0), ('ticking', 'VBG', 0), ('noise', 'NN', 0.0), ('somewhere', 'RB', 0.0), ('by', 'IN', 0), ('my', 'PRP$', 0), ('bed', 'NN', 0.0), ('not', 'RB', -0.625), ('the', 'DT', 0), ('puppet', 'NN', 0.0), ('pals', 'NNS', 0), ('kind', 'NN', 0.0), ('scared', 'VBD', 0)], [('have', 'VB', 0.25), ('a', 'DT', 0), ('dream', 'NN', 0.0), ('your', 'PRP$', 0), ('breath', 'NN', 0.0), ('smells', 'NNS', 0), ('really', 'RB', 0.625), ('bad', 'JJ', 0), ('wake', 'VBP', 0.0), ('up', 'RP', 0.0), ('with', 'IN', 0), ('cat', 'NN', 0.0), ('throw', 'VBP', 0.0), ('up', 'RP', 0.0), ('on', 'IN', 0), ('your', 'PRP$', 0), ('pillow', 'NN', 0.0), ('wtf', 'NN', 0)], [('who', 'WP', 0), ('u', 'VBP', 0), ('hey', 'NNS', 0), ('there', 'RB', 0.0), ('long', 'RB', 0.0), ('time', 'NN', 0.0), ('no', 'DT', 0), ('see', 'NN', 0.0), ('speak', 'NN', 0), ('of', 'IN', 0), ('the', 'DT', 0), ('week', 'NN', 0.0)]]\n",
            "[array([0, 1, 0, 0, 0, 0]), array([1, 0, 0, 0, 0, 0]), array([0, 0, 0, 1, 0, 0]), array([0, 1, 0, 0, 0, 0]), array([0, 1, 0, 0, 0, 0])]\n",
            "TRAIN: [ 4502 13470 16740 ...  3004  1741 11001] TEST: [10612  3057 12008 ...  2972  6445 13573]\n",
            "13469\n",
            "13469\n",
            "4210\n",
            "4210\n",
            "3368\n",
            "3368\n",
            "[[('bahaha', 'NN', 0), ('i', 'NN', 0.0), ('live', 'VBP', 0.0), ('a', 'DT', 0), ('secretive', 'JJ', 0), ('life', 'NN', 0.0), ('happy', 'JJ', 0), ('face', 'NN', 0.0), ('or', 'CC', 0), ('smiley', 'NN', 0.0)], [('my', 'PRP$', 0), ('aunty', 'NN', 0.0), ('is', 'VBZ', 0), ('such', 'JJ', 0), ('a', 'DT', 0), ('cougar', 'NN', 0.0), ('she', 'PRP', 0), ('was', 'VBD', 0), ('hitting', 'VBG', 0), ('on', 'IN', 0), ('the', 'DT', 0), ('teenage', 'NN', 0), ('boy', 'NN', 0.25), ('singing', 'NN', 0.0), ('in', 'IN', 0), ('miss', 'JJ', 0), ('south', 'NN', 0.0), ('pacific', 'NN', 0.0), ('argh', 'NN', 0)], [('not', 'RB', -0.625), ('necessarily', 'RB', 0.0), ('if', 'IN', 0), ('you', 'PRP', 0), ('cut', 'VBD', 0.125), ('it', 'PRP', 0), ('multiple', 'JJ', 0), ('times', 'NNS', 0.5), ('in', 'IN', 0), ('one', 'CD', 0), ('day', 'NN', 0.0), ('esp', 'VB', 0), ('if', 'IN', 0), ('you', 'PRP', 0), ('can', 'MD', 0), ('arrange', 'VB', 0.125), ('to', 'TO', 0), ('do', 'VB', 0.0), ('it', 'PRP', 0), ('while', 'IN', 0), ('he', 'PRP', 0), ('is', 'VBZ', 0), ('gone', 'VBN', 0), ('all', 'DT', 0), ('day', 'NN', 0.0)], [('gonna', 'NNS', 0), ('make', 'VBP', 0.0), ('the', 'DT', 0), ('most', 'RBS', 0.0), ('of', 'IN', 0), ('my', 'PRP$', 0), ('time', 'NN', 0.0), ('curled', 'VBD', 0), ('up', 'RB', 0.0), ('in', 'IN', 0), ('the', 'DT', 0), ('warm', 'NN', 0), ('today', 'NN', 0.125), ('back', 'RB', 0.0), ('to', 'TO', 0), ('mucking', 'VBG', 0), ('out', 'RP', 0.0), ('stables', 'NNS', 0), ('for', 'IN', 0), ('3', 'CD', 0), ('shetties', 'NNS', 0), ('and', 'CC', 0), ('two', 'CD', 0), ('horses', 'NNS', 0), ('on', 'IN', 0), ('friday', 'NN', 0.0)], [('effin', 'JJ', 0), ('school', 'NN', 0.0), ('blocks', 'NNS', 0), ('every', 'DT', 0), ('10', 'CD', 0), ('seconds', 'NNS', 0), ('i', 'JJ', 0), ('get', 'VBP', 0.125), ('a', 'DT', 0), ('request', 'NN', 0.0), ('for', 'IN', 0), ('an', 'DT', 0), ('administrator', 'NN', 0.0), ('s', 'NN', 0.0), ('password', 'NN', 0.0), ('grrrrrrr', 'NN', 0)]]\n",
            "[array([0, 1, 0, 0, 0, 0]), array([0, 0, 0, 0, 0, 1]), array([0, 1, 0, 0, 0, 0]), array([1, 0, 0, 0, 0, 0]), array([0, 0, 0, 0, 1, 0])]\n"
          ],
          "name": "stdout"
        }
      ]
    },
    {
      "cell_type": "code",
      "metadata": {
        "id": "8L46j8Lgv9lS"
      },
      "source": [
        "epochs = 30"
      ],
      "execution_count": 14,
      "outputs": []
    },
    {
      "cell_type": "code",
      "metadata": {
        "id": "euGeXqLVB56E"
      },
      "source": [
        "from keras import backend as K\r\n",
        "def recall(y_true, y_pred):\r\n",
        "        \"\"\"Recall metric.\r\n",
        "\r\n",
        "        Only computes a batch-wise average of recall.\r\n",
        "\r\n",
        "        Computes the recall, a metric for multi-label classification of\r\n",
        "        how many relevant items are selected.\r\n",
        "        \"\"\"\r\n",
        "        true_positives = K.sum(K.round(K.clip(y_true * y_pred, 0, 1)))\r\n",
        "        possible_positives = K.sum(K.round(K.clip(y_true, 0, 1)))\r\n",
        "        recalls = true_positives / (possible_positives + K.epsilon())\r\n",
        "        return recalls\r\n",
        "def precision(y_true, y_pred):\r\n",
        "        \"\"\"Precision metric.\r\n",
        "\r\n",
        "        Only computes a batch-wise average of precision.\r\n",
        "\r\n",
        "        Computes the precision, a metric for multi-label classification of\r\n",
        "        how many selected items are relevant.\r\n",
        "        \"\"\"\r\n",
        "        true_positives = K.sum(K.round(K.clip(y_true * y_pred, 0, 1)))\r\n",
        "        predicted_positives = K.sum(K.round(K.clip(y_pred, 0, 1)))\r\n",
        "        precisions = true_positives / (predicted_positives + K.epsilon())\r\n",
        "        return precisions\r\n",
        "def f1(y_true, y_pred):\r\n",
        "    precisions = precision(y_true, y_pred)\r\n",
        "    recalls = recall(y_true, y_pred)\r\n",
        "    return 2*((precisions*recalls)/(precisions+recalls+K.epsilon()))"
      ],
      "execution_count": 15,
      "outputs": []
    },
    {
      "cell_type": "code",
      "metadata": {
        "id": "sRdVKc6av2oZ",
        "colab": {
          "base_uri": "https://localhost:8080/"
        },
        "outputId": "736523e5-111f-4998-c291-04a2401ee211"
      },
      "source": [
        "model_sg_bi = tf.keras.Sequential()\r\n",
        "model_sg_bi.add(tf.keras.Input(shape=(Max_input_size,Embedding_size)))\r\n",
        "model_sg_bi.add(tf.keras.layers.Bidirectional(tf.keras.layers.LSTM(64),merge_mode='concat'))\r\n",
        "model_sg_bi.add(tf.keras.layers.Dropout(0.2))\r\n",
        "model_sg_bi.add(tf.keras.layers.Dense(64,activation='relu'))\r\n",
        "model_sg_bi.add(tf.keras.layers.Dropout(0.2))\r\n",
        "model_sg_bi.add(tf.keras.layers.Dense(6, activation='softmax'))\r\n",
        "model_sg_bi.compile(loss='categorical_crossentropy',optimizer='adam', \r\n",
        "                           metrics=['accuracy',f1,precision,recall])\r\n",
        "sg_train_gen=vec_gen(w2v_sg,vocab_sg,X_train,y_train,batch_size,Max_input_size,Embedding_size)\r\n",
        "sg_val_gen=vec_gen(w2v_sg,vocab_sg,X_val,y_val,batch_size,Max_input_size,Embedding_size)\r\n",
        "history_sg_bi = model_sg_bi.fit_generator(sg_train_gen,validation_data=sg_val_gen,validation_steps=int((len(X_val)/batch_size)+1),steps_per_epoch=int((len(X_train)/batch_size)+1),epochs=epochs)\r\n",
        "history = model_sg_bi.evaluate(x = vec_gen(w2v_sg,vocab_sg,X_test,y_test,batch_size,Max_input_size,Embedding_size),steps=int(len(y_test)/batch_size))\r\n",
        "print(history)\r\n",
        "result_table[2]=history[1]\r\n",
        "print(\"SG_BI\")"
      ],
      "execution_count": 16,
      "outputs": [
        {
          "output_type": "stream",
          "text": [
            "/usr/local/lib/python3.7/dist-packages/tensorflow/python/keras/engine/training.py:1844: UserWarning: `Model.fit_generator` is deprecated and will be removed in a future version. Please use `Model.fit`, which supports generators.\n",
            "  warnings.warn('`Model.fit_generator` is deprecated and '\n"
          ],
          "name": "stderr"
        },
        {
          "output_type": "stream",
          "text": [
            "Epoch 1/30\n",
            "27/27 [==============================] - 52s 2s/step - loss: 1.7371 - accuracy: 0.3182 - f1: 0.0103 - precision: 0.0484 - recall: 0.0064 - val_loss: 1.5587 - val_accuracy: 0.3877 - val_f1: 0.0000e+00 - val_precision: 0.0000e+00 - val_recall: 0.0000e+00\n",
            "Epoch 2/30\n",
            "27/27 [==============================] - 39s 1s/step - loss: 1.5472 - accuracy: 0.4000 - f1: 0.0592 - precision: 0.5973 - recall: 0.0318 - val_loss: 1.5018 - val_accuracy: 0.4126 - val_f1: 0.1654 - val_precision: 0.6003 - val_recall: 0.0960\n",
            "Epoch 3/30\n",
            "27/27 [==============================] - 39s 1s/step - loss: 1.4946 - accuracy: 0.4166 - f1: 0.2035 - precision: 0.6360 - recall: 0.1242 - val_loss: 1.4434 - val_accuracy: 0.4531 - val_f1: 0.2363 - val_precision: 0.6914 - val_recall: 0.1426\n",
            "Epoch 4/30\n",
            "27/27 [==============================] - 39s 1s/step - loss: 1.4305 - accuracy: 0.4469 - f1: 0.2686 - precision: 0.6603 - recall: 0.1718 - val_loss: 1.3832 - val_accuracy: 0.4726 - val_f1: 0.3146 - val_precision: 0.7152 - val_recall: 0.2017\n",
            "Epoch 5/30\n",
            "27/27 [==============================] - 38s 1s/step - loss: 1.3737 - accuracy: 0.4711 - f1: 0.3343 - precision: 0.6793 - recall: 0.2232 - val_loss: 1.3557 - val_accuracy: 0.4891 - val_f1: 0.3383 - val_precision: 0.7095 - val_recall: 0.2223\n",
            "Epoch 6/30\n",
            "27/27 [==============================] - 38s 1s/step - loss: 1.3332 - accuracy: 0.4924 - f1: 0.3687 - precision: 0.6765 - recall: 0.2545 - val_loss: 1.3505 - val_accuracy: 0.4843 - val_f1: 0.3614 - val_precision: 0.7145 - val_recall: 0.2420\n",
            "Epoch 7/30\n",
            "27/27 [==============================] - 39s 1s/step - loss: 1.3139 - accuracy: 0.4965 - f1: 0.3911 - precision: 0.6956 - recall: 0.2725 - val_loss: 1.3387 - val_accuracy: 0.4894 - val_f1: 0.3906 - val_precision: 0.6727 - val_recall: 0.2754\n",
            "Epoch 8/30\n",
            "27/27 [==============================] - 38s 1s/step - loss: 1.2988 - accuracy: 0.5042 - f1: 0.4140 - precision: 0.6907 - recall: 0.2962 - val_loss: 1.3340 - val_accuracy: 0.4946 - val_f1: 0.4112 - val_precision: 0.6566 - val_recall: 0.2994\n",
            "Epoch 9/30\n",
            "27/27 [==============================] - 41s 2s/step - loss: 1.2928 - accuracy: 0.5048 - f1: 0.4218 - precision: 0.6969 - recall: 0.3030 - val_loss: 1.3345 - val_accuracy: 0.4960 - val_f1: 0.4325 - val_precision: 0.6373 - val_recall: 0.3274\n",
            "Epoch 10/30\n",
            "27/27 [==============================] - 39s 1s/step - loss: 1.2915 - accuracy: 0.5107 - f1: 0.4199 - precision: 0.6890 - recall: 0.3024 - val_loss: 1.3307 - val_accuracy: 0.4951 - val_f1: 0.4117 - val_precision: 0.6321 - val_recall: 0.3054\n",
            "Epoch 11/30\n",
            "27/27 [==============================] - 38s 1s/step - loss: 1.2774 - accuracy: 0.5192 - f1: 0.4337 - precision: 0.6973 - recall: 0.3152 - val_loss: 1.3231 - val_accuracy: 0.4994 - val_f1: 0.4040 - val_precision: 0.6463 - val_recall: 0.2940\n",
            "Epoch 12/30\n",
            "27/27 [==============================] - 38s 1s/step - loss: 1.2639 - accuracy: 0.5256 - f1: 0.4419 - precision: 0.7009 - recall: 0.3232 - val_loss: 1.3238 - val_accuracy: 0.4914 - val_f1: 0.3949 - val_precision: 0.6735 - val_recall: 0.2794\n",
            "Epoch 13/30\n",
            "27/27 [==============================] - 39s 1s/step - loss: 1.2487 - accuracy: 0.5307 - f1: 0.4482 - precision: 0.7140 - recall: 0.3275 - val_loss: 1.3295 - val_accuracy: 0.4943 - val_f1: 0.4010 - val_precision: 0.6680 - val_recall: 0.2866\n",
            "Epoch 14/30\n",
            "27/27 [==============================] - 38s 1s/step - loss: 1.2238 - accuracy: 0.5400 - f1: 0.4688 - precision: 0.7174 - recall: 0.3491 - val_loss: 1.3205 - val_accuracy: 0.5054 - val_f1: 0.4363 - val_precision: 0.6450 - val_recall: 0.3297\n",
            "Epoch 15/30\n",
            "27/27 [==============================] - 38s 1s/step - loss: 1.2278 - accuracy: 0.5414 - f1: 0.4771 - precision: 0.7156 - recall: 0.3591 - val_loss: 1.3341 - val_accuracy: 0.4997 - val_f1: 0.4492 - val_precision: 0.6394 - val_recall: 0.3463\n",
            "Epoch 16/30\n",
            "27/27 [==============================] - 42s 2s/step - loss: 1.1983 - accuracy: 0.5516 - f1: 0.4864 - precision: 0.7249 - recall: 0.3665 - val_loss: 1.3193 - val_accuracy: 0.4960 - val_f1: 0.4316 - val_precision: 0.6556 - val_recall: 0.3217\n",
            "Epoch 17/30\n",
            "27/27 [==============================] - 41s 2s/step - loss: 1.1746 - accuracy: 0.5589 - f1: 0.4925 - precision: 0.7353 - recall: 0.3709 - val_loss: 1.3010 - val_accuracy: 0.5060 - val_f1: 0.4505 - val_precision: 0.6500 - val_recall: 0.3449\n",
            "Epoch 18/30\n",
            "27/27 [==============================] - 39s 1s/step - loss: 1.1557 - accuracy: 0.5659 - f1: 0.5125 - precision: 0.7557 - recall: 0.3886 - val_loss: 1.3136 - val_accuracy: 0.5054 - val_f1: 0.4666 - val_precision: 0.6393 - val_recall: 0.3674\n",
            "Epoch 19/30\n",
            "27/27 [==============================] - 38s 1s/step - loss: 1.1317 - accuracy: 0.5749 - f1: 0.5250 - precision: 0.7562 - recall: 0.4029 - val_loss: 1.3111 - val_accuracy: 0.5017 - val_f1: 0.4495 - val_precision: 0.6441 - val_recall: 0.3454\n",
            "Epoch 20/30\n",
            "27/27 [==============================] - 38s 1s/step - loss: 1.1061 - accuracy: 0.5853 - f1: 0.5339 - precision: 0.7579 - recall: 0.4130 - val_loss: 1.3232 - val_accuracy: 0.5077 - val_f1: 0.4530 - val_precision: 0.6485 - val_recall: 0.3483\n",
            "Epoch 21/30\n",
            "27/27 [==============================] - 38s 1s/step - loss: 1.0783 - accuracy: 0.5979 - f1: 0.5468 - precision: 0.7543 - recall: 0.4294 - val_loss: 1.3377 - val_accuracy: 0.5120 - val_f1: 0.4761 - val_precision: 0.6361 - val_recall: 0.3806\n",
            "Epoch 22/30\n",
            "27/27 [==============================] - 38s 1s/step - loss: 1.0601 - accuracy: 0.5967 - f1: 0.5586 - precision: 0.7578 - recall: 0.4428 - val_loss: 1.3696 - val_accuracy: 0.5057 - val_f1: 0.4731 - val_precision: 0.6107 - val_recall: 0.3863\n",
            "Epoch 23/30\n",
            "27/27 [==============================] - 38s 1s/step - loss: 1.0384 - accuracy: 0.6075 - f1: 0.5645 - precision: 0.7596 - recall: 0.4497 - val_loss: 1.3745 - val_accuracy: 0.5149 - val_f1: 0.4891 - val_precision: 0.6336 - val_recall: 0.3983\n",
            "Epoch 24/30\n",
            "27/27 [==============================] - 38s 1s/step - loss: 1.0211 - accuracy: 0.6089 - f1: 0.5756 - precision: 0.7659 - recall: 0.4617 - val_loss: 1.3738 - val_accuracy: 0.5000 - val_f1: 0.4632 - val_precision: 0.6412 - val_recall: 0.3626\n",
            "Epoch 25/30\n",
            "27/27 [==============================] - 39s 1s/step - loss: 0.9942 - accuracy: 0.6265 - f1: 0.5934 - precision: 0.7793 - recall: 0.4800 - val_loss: 1.4122 - val_accuracy: 0.4851 - val_f1: 0.4478 - val_precision: 0.6291 - val_recall: 0.3477\n",
            "Epoch 26/30\n",
            "27/27 [==============================] - 40s 1s/step - loss: 0.9875 - accuracy: 0.6300 - f1: 0.5929 - precision: 0.7717 - recall: 0.4826 - val_loss: 1.4038 - val_accuracy: 0.4840 - val_f1: 0.4306 - val_precision: 0.6457 - val_recall: 0.3231\n",
            "Epoch 27/30\n",
            "27/27 [==============================] - 38s 1s/step - loss: 1.0008 - accuracy: 0.6211 - f1: 0.5872 - precision: 0.7835 - recall: 0.4727 - val_loss: 1.4301 - val_accuracy: 0.5097 - val_f1: 0.4957 - val_precision: 0.6161 - val_recall: 0.4149\n",
            "Epoch 28/30\n",
            "27/27 [==============================] - 39s 1s/step - loss: 0.9518 - accuracy: 0.6360 - f1: 0.6146 - precision: 0.7789 - recall: 0.5092 - val_loss: 1.4220 - val_accuracy: 0.5114 - val_f1: 0.4922 - val_precision: 0.6149 - val_recall: 0.4106\n",
            "Epoch 29/30\n",
            "27/27 [==============================] - 39s 1s/step - loss: 0.9495 - accuracy: 0.6405 - f1: 0.6172 - precision: 0.7759 - recall: 0.5141 - val_loss: 1.4602 - val_accuracy: 0.5177 - val_f1: 0.5029 - val_precision: 0.6011 - val_recall: 0.4323\n",
            "Epoch 30/30\n",
            "27/27 [==============================] - 38s 1s/step - loss: 0.9671 - accuracy: 0.6378 - f1: 0.6100 - precision: 0.7718 - recall: 0.5066 - val_loss: 1.4719 - val_accuracy: 0.5117 - val_f1: 0.5010 - val_precision: 0.5991 - val_recall: 0.4306\n",
            "8/8 [==============================] - 6s 866ms/step - loss: 1.5861 - accuracy: 0.4798 - f1: 0.4768 - precision: 0.5728 - recall: 0.4085\n",
            "[1.5860800743103027, 0.47975000739097595, 0.4767920672893524, 0.5728290677070618, 0.4085000157356262]\n",
            "SG_BI\n"
          ],
          "name": "stdout"
        }
      ]
    },
    {
      "cell_type": "code",
      "metadata": {
        "id": "Dg66ju0qwE_R",
        "colab": {
          "base_uri": "https://localhost:8080/"
        },
        "outputId": "625caa15-dc20-496b-f4e9-92e1d075b6f0"
      },
      "source": [
        "model_cbow_bi = tf.keras.Sequential()\r\n",
        "model_cbow_bi.add(tf.keras.Input(shape=(Max_input_size,Embedding_size)))\r\n",
        "model_cbow_bi.add(tf.keras.layers.Bidirectional(tf.keras.layers.LSTM(64),merge_mode='concat'))\r\n",
        "model_cbow_bi.add(tf.keras.layers.Dropout(0.2))\r\n",
        "model_cbow_bi.add(tf.keras.layers.Dense(64,activation='relu'))\r\n",
        "model_cbow_bi.add(tf.keras.layers.Dropout(0.2))\r\n",
        "model_cbow_bi.add(tf.keras.layers.Dense(6, activation='softmax'))\r\n",
        "model_cbow_bi.compile(loss='categorical_crossentropy',optimizer='adam', \r\n",
        "                           metrics=['accuracy',f1,precision,recall])\r\n",
        "cbow_train_gen=vec_gen(w2v_cbow,vocab_cbow,X_train,y_train,batch_size,Max_input_size,Embedding_size)\r\n",
        "cbow_val_gen=vec_gen(w2v_cbow,vocab_cbow,X_val,y_val,batch_size,Max_input_size,Embedding_size)\r\n",
        "history_cbow_bi = model_cbow_bi.fit_generator(cbow_train_gen,validation_data=cbow_val_gen,validation_steps=int((len(X_val)/batch_size)+1),steps_per_epoch=int((len(X_train)/batch_size)+1),epochs=epochs)\r\n",
        "history = model_cbow_bi.evaluate(x = vec_gen(w2v_cbow,vocab_cbow,X_test,y_test,batch_size,Max_input_size,Embedding_size),steps=int(len(y_test)/batch_size))\r\n",
        "print(history)\r\n",
        "\r\n",
        "result_table[1]=history[1]\r\n",
        "print(\"CBOW_BI\")"
      ],
      "execution_count": 17,
      "outputs": [
        {
          "output_type": "stream",
          "text": [
            "/usr/local/lib/python3.7/dist-packages/tensorflow/python/keras/engine/training.py:1844: UserWarning: `Model.fit_generator` is deprecated and will be removed in a future version. Please use `Model.fit`, which supports generators.\n",
            "  warnings.warn('`Model.fit_generator` is deprecated and '\n"
          ],
          "name": "stderr"
        },
        {
          "output_type": "stream",
          "text": [
            "Epoch 1/30\n",
            "27/27 [==============================] - 44s 2s/step - loss: 1.7172 - accuracy: 0.3331 - f1: 0.0182 - precision: 0.0711 - recall: 0.0126 - val_loss: 1.5572 - val_accuracy: 0.3877 - val_f1: 0.0000e+00 - val_precision: 0.0000e+00 - val_recall: 0.0000e+00\n",
            "Epoch 2/30\n",
            "27/27 [==============================] - 42s 2s/step - loss: 1.5434 - accuracy: 0.3991 - f1: 0.0680 - precision: 0.5730 - recall: 0.0375 - val_loss: 1.5104 - val_accuracy: 0.4080 - val_f1: 0.1611 - val_precision: 0.6085 - val_recall: 0.0929\n",
            "Epoch 3/30\n",
            "27/27 [==============================] - 39s 1s/step - loss: 1.5045 - accuracy: 0.4093 - f1: 0.1797 - precision: 0.5902 - recall: 0.1069 - val_loss: 1.4708 - val_accuracy: 0.4291 - val_f1: 0.2285 - val_precision: 0.6672 - val_recall: 0.1380\n",
            "Epoch 4/30\n",
            "27/27 [==============================] - 40s 2s/step - loss: 1.4484 - accuracy: 0.4297 - f1: 0.2585 - precision: 0.6531 - recall: 0.1635 - val_loss: 1.4246 - val_accuracy: 0.4511 - val_f1: 0.2396 - val_precision: 0.7081 - val_recall: 0.1443\n",
            "Epoch 5/30\n",
            "27/27 [==============================] - 39s 1s/step - loss: 1.4017 - accuracy: 0.4633 - f1: 0.2889 - precision: 0.6815 - recall: 0.1853 - val_loss: 1.3705 - val_accuracy: 0.4746 - val_f1: 0.3347 - val_precision: 0.7163 - val_recall: 0.2186\n",
            "Epoch 6/30\n",
            "27/27 [==============================] - 38s 1s/step - loss: 1.3456 - accuracy: 0.4823 - f1: 0.3605 - precision: 0.6941 - recall: 0.2448 - val_loss: 1.3529 - val_accuracy: 0.4831 - val_f1: 0.3504 - val_precision: 0.7220 - val_recall: 0.2317\n",
            "Epoch 7/30\n",
            "27/27 [==============================] - 38s 1s/step - loss: 1.3204 - accuracy: 0.4964 - f1: 0.3862 - precision: 0.6996 - recall: 0.2679 - val_loss: 1.3419 - val_accuracy: 0.4883 - val_f1: 0.3924 - val_precision: 0.6772 - val_recall: 0.2763\n",
            "Epoch 8/30\n",
            "27/27 [==============================] - 38s 1s/step - loss: 1.3060 - accuracy: 0.4977 - f1: 0.4006 - precision: 0.6821 - recall: 0.2844 - val_loss: 1.3336 - val_accuracy: 0.4946 - val_f1: 0.4028 - val_precision: 0.6733 - val_recall: 0.2874\n",
            "Epoch 9/30\n",
            "27/27 [==============================] - 39s 1s/step - loss: 1.3030 - accuracy: 0.5008 - f1: 0.4052 - precision: 0.6872 - recall: 0.2882 - val_loss: 1.3348 - val_accuracy: 0.4886 - val_f1: 0.4162 - val_precision: 0.6535 - val_recall: 0.3054\n",
            "Epoch 10/30\n",
            "27/27 [==============================] - 40s 1s/step - loss: 1.2991 - accuracy: 0.5030 - f1: 0.4112 - precision: 0.6902 - recall: 0.2934 - val_loss: 1.3330 - val_accuracy: 0.4909 - val_f1: 0.3970 - val_precision: 0.6604 - val_recall: 0.2840\n",
            "Epoch 11/30\n",
            "27/27 [==============================] - 38s 1s/step - loss: 1.2818 - accuracy: 0.5121 - f1: 0.4180 - precision: 0.7023 - recall: 0.2983 - val_loss: 1.3359 - val_accuracy: 0.4860 - val_f1: 0.3981 - val_precision: 0.6698 - val_recall: 0.2834\n",
            "Epoch 12/30\n",
            "27/27 [==============================] - 41s 2s/step - loss: 1.2731 - accuracy: 0.5222 - f1: 0.4180 - precision: 0.6948 - recall: 0.2996 - val_loss: 1.3428 - val_accuracy: 0.4883 - val_f1: 0.3832 - val_precision: 0.6846 - val_recall: 0.2663\n",
            "Epoch 13/30\n",
            "27/27 [==============================] - 39s 1s/step - loss: 1.2626 - accuracy: 0.5233 - f1: 0.4403 - precision: 0.7093 - recall: 0.3200 - val_loss: 1.3524 - val_accuracy: 0.4849 - val_f1: 0.3516 - val_precision: 0.6879 - val_recall: 0.2363\n",
            "Epoch 14/30\n",
            "27/27 [==============================] - 39s 1s/step - loss: 1.2502 - accuracy: 0.5245 - f1: 0.4377 - precision: 0.7223 - recall: 0.3159 - val_loss: 1.3465 - val_accuracy: 0.4814 - val_f1: 0.3749 - val_precision: 0.6704 - val_recall: 0.2603\n",
            "Epoch 15/30\n",
            "27/27 [==============================] - 39s 1s/step - loss: 1.2427 - accuracy: 0.5334 - f1: 0.4494 - precision: 0.7243 - recall: 0.3272 - val_loss: 1.3389 - val_accuracy: 0.4891 - val_f1: 0.4112 - val_precision: 0.6564 - val_recall: 0.2994\n",
            "Epoch 16/30\n",
            "27/27 [==============================] - 39s 1s/step - loss: 1.2237 - accuracy: 0.5404 - f1: 0.4619 - precision: 0.7106 - recall: 0.3427 - val_loss: 1.3394 - val_accuracy: 0.4900 - val_f1: 0.4132 - val_precision: 0.6327 - val_recall: 0.3069\n",
            "Epoch 17/30\n",
            "27/27 [==============================] - 39s 1s/step - loss: 1.2125 - accuracy: 0.5396 - f1: 0.4699 - precision: 0.7087 - recall: 0.3521 - val_loss: 1.3361 - val_accuracy: 0.4983 - val_f1: 0.4312 - val_precision: 0.6305 - val_recall: 0.3277\n",
            "Epoch 18/30\n",
            "27/27 [==============================] - 40s 1s/step - loss: 1.1918 - accuracy: 0.5544 - f1: 0.4929 - precision: 0.7363 - recall: 0.3711 - val_loss: 1.3508 - val_accuracy: 0.4946 - val_f1: 0.4386 - val_precision: 0.6307 - val_recall: 0.3363\n",
            "Epoch 19/30\n",
            "27/27 [==============================] - 39s 1s/step - loss: 1.1738 - accuracy: 0.5616 - f1: 0.4955 - precision: 0.7329 - recall: 0.3746 - val_loss: 1.3256 - val_accuracy: 0.5011 - val_f1: 0.4392 - val_precision: 0.6480 - val_recall: 0.3323\n",
            "Epoch 20/30\n",
            "27/27 [==============================] - 42s 2s/step - loss: 1.1503 - accuracy: 0.5637 - f1: 0.5147 - precision: 0.7427 - recall: 0.3944 - val_loss: 1.3359 - val_accuracy: 0.5034 - val_f1: 0.4588 - val_precision: 0.6369 - val_recall: 0.3586\n",
            "Epoch 21/30\n",
            "27/27 [==============================] - 40s 1s/step - loss: 1.1225 - accuracy: 0.5767 - f1: 0.5185 - precision: 0.7368 - recall: 0.4007 - val_loss: 1.3534 - val_accuracy: 0.5040 - val_f1: 0.4598 - val_precision: 0.6366 - val_recall: 0.3600\n",
            "Epoch 22/30\n",
            "27/27 [==============================] - 39s 1s/step - loss: 1.1083 - accuracy: 0.5805 - f1: 0.5278 - precision: 0.7399 - recall: 0.4110 - val_loss: 1.3713 - val_accuracy: 0.4963 - val_f1: 0.4451 - val_precision: 0.6284 - val_recall: 0.3446\n",
            "Epoch 23/30\n",
            "27/27 [==============================] - 39s 1s/step - loss: 1.0856 - accuracy: 0.5896 - f1: 0.5436 - precision: 0.7494 - recall: 0.4270 - val_loss: 1.4204 - val_accuracy: 0.4854 - val_f1: 0.4436 - val_precision: 0.6162 - val_recall: 0.3466\n",
            "Epoch 24/30\n",
            "27/27 [==============================] - 38s 1s/step - loss: 1.0836 - accuracy: 0.5913 - f1: 0.5498 - precision: 0.7489 - recall: 0.4357 - val_loss: 1.4154 - val_accuracy: 0.4889 - val_f1: 0.4317 - val_precision: 0.6282 - val_recall: 0.3289\n",
            "Epoch 25/30\n",
            "27/27 [==============================] - 39s 1s/step - loss: 1.0929 - accuracy: 0.5897 - f1: 0.5417 - precision: 0.7434 - recall: 0.4276 - val_loss: 1.3531 - val_accuracy: 0.5120 - val_f1: 0.4528 - val_precision: 0.6321 - val_recall: 0.3529\n",
            "Epoch 26/30\n",
            "27/27 [==============================] - 39s 1s/step - loss: 1.0531 - accuracy: 0.6059 - f1: 0.5580 - precision: 0.7577 - recall: 0.4425 - val_loss: 1.3632 - val_accuracy: 0.5117 - val_f1: 0.4789 - val_precision: 0.6262 - val_recall: 0.3877\n",
            "Epoch 27/30\n",
            "27/27 [==============================] - 38s 1s/step - loss: 1.0411 - accuracy: 0.6044 - f1: 0.5605 - precision: 0.7577 - recall: 0.4462 - val_loss: 1.4146 - val_accuracy: 0.5091 - val_f1: 0.4873 - val_precision: 0.6049 - val_recall: 0.4080\n",
            "Epoch 28/30\n",
            "27/27 [==============================] - 40s 1s/step - loss: 1.0334 - accuracy: 0.6142 - f1: 0.5794 - precision: 0.7589 - recall: 0.4712 - val_loss: 1.3943 - val_accuracy: 0.5057 - val_f1: 0.4657 - val_precision: 0.6072 - val_recall: 0.3777\n",
            "Epoch 29/30\n",
            "27/27 [==============================] - 40s 1s/step - loss: 0.9986 - accuracy: 0.6270 - f1: 0.5865 - precision: 0.7674 - recall: 0.4754 - val_loss: 1.4312 - val_accuracy: 0.5131 - val_f1: 0.4683 - val_precision: 0.6146 - val_recall: 0.3783\n",
            "Epoch 30/30\n",
            "27/27 [==============================] - 39s 1s/step - loss: 0.9790 - accuracy: 0.6350 - f1: 0.5962 - precision: 0.7846 - recall: 0.4822 - val_loss: 1.4663 - val_accuracy: 0.4889 - val_f1: 0.4447 - val_precision: 0.6079 - val_recall: 0.3506\n",
            "8/8 [==============================] - 7s 907ms/step - loss: 1.5056 - accuracy: 0.4635 - f1: 0.4329 - precision: 0.5971 - recall: 0.3400\n",
            "[1.5055721998214722, 0.4634999930858612, 0.4328729510307312, 0.5970885753631592, 0.3400000035762787]\n",
            "CBOW_BI\n"
          ],
          "name": "stdout"
        }
      ]
    },
    {
      "cell_type": "code",
      "metadata": {
        "id": "hHMK-RBywE7M",
        "colab": {
          "base_uri": "https://localhost:8080/"
        },
        "outputId": "7bd407b5-9e86-41dc-b6ba-9b0962ee6770"
      },
      "source": [
        "model_glove_bi = tf.keras.Sequential()\r\n",
        "model_glove_bi.add(tf.keras.Input(shape=(Max_input_size,Embedding_size)))\r\n",
        "model_glove_bi.add(tf.keras.layers.Bidirectional(tf.keras.layers.LSTM(64),merge_mode='concat'))\r\n",
        "model_glove_bi.add(tf.keras.layers.Dropout(0.2))\r\n",
        "model_glove_bi.add(tf.keras.layers.Dense(64,activation='relu'))\r\n",
        "model_glove_bi.add(tf.keras.layers.Dropout(0.2))\r\n",
        "model_glove_bi.add(tf.keras.layers.Dense(6, activation='softmax'))\r\n",
        "model_glove_bi.compile(loss='categorical_crossentropy',optimizer='adam', \r\n",
        "                           metrics=['accuracy',f1,precision,recall])\r\n",
        "glove_train_gen=glove_gen(vocab_glove,X_train,y_train,batch_size,Max_input_size,Embedding_size)\r\n",
        "glove_val_gen=glove_gen(vocab_glove,X_val,y_val,batch_size,Max_input_size,Embedding_size)\r\n",
        "history_glove_bi = model_glove_bi.fit_generator(glove_train_gen,validation_data=glove_val_gen,validation_steps=int((len(X_val)/batch_size)+1),steps_per_epoch=int((len(X_train)/batch_size)+1),epochs=epochs)\r\n",
        "history = model_glove_bi.evaluate(x = glove_gen(vocab_glove,X_test,y_test,batch_size,Max_input_size,Embedding_size),steps=int(len(y_test)/batch_size))\r\n",
        "print(history)\r\n",
        "\r\n",
        "result_table[0]=history[1]\r\n",
        "print(\"GLOVE_BI\")"
      ],
      "execution_count": 18,
      "outputs": [
        {
          "output_type": "stream",
          "text": [
            "/usr/local/lib/python3.7/dist-packages/tensorflow/python/keras/engine/training.py:1844: UserWarning: `Model.fit_generator` is deprecated and will be removed in a future version. Please use `Model.fit`, which supports generators.\n",
            "  warnings.warn('`Model.fit_generator` is deprecated and '\n"
          ],
          "name": "stderr"
        },
        {
          "output_type": "stream",
          "text": [
            "Epoch 1/30\n",
            "27/27 [==============================] - 22s 695ms/step - loss: 1.6355 - accuracy: 0.3779 - f1: 0.0440 - precision: 0.2746 - recall: 0.0246 - val_loss: 1.4291 - val_accuracy: 0.4397 - val_f1: 0.2810 - val_precision: 0.6868 - val_recall: 0.1769\n",
            "Epoch 2/30\n",
            "27/27 [==============================] - 18s 662ms/step - loss: 1.3811 - accuracy: 0.4693 - f1: 0.3429 - precision: 0.6820 - recall: 0.2303 - val_loss: 1.2561 - val_accuracy: 0.5131 - val_f1: 0.4201 - val_precision: 0.7329 - val_recall: 0.2949\n",
            "Epoch 3/30\n",
            "27/27 [==============================] - 18s 664ms/step - loss: 1.2473 - accuracy: 0.5275 - f1: 0.4273 - precision: 0.7167 - recall: 0.3052 - val_loss: 1.1765 - val_accuracy: 0.5594 - val_f1: 0.5075 - val_precision: 0.7324 - val_recall: 0.3886\n",
            "Epoch 4/30\n",
            "27/27 [==============================] - 18s 671ms/step - loss: 1.1508 - accuracy: 0.5692 - f1: 0.5009 - precision: 0.7294 - recall: 0.3816 - val_loss: 1.1547 - val_accuracy: 0.5546 - val_f1: 0.5153 - val_precision: 0.7402 - val_recall: 0.3954\n",
            "Epoch 5/30\n",
            "27/27 [==============================] - 18s 657ms/step - loss: 1.1060 - accuracy: 0.5849 - f1: 0.5335 - precision: 0.7476 - recall: 0.4154 - val_loss: 1.1048 - val_accuracy: 0.5894 - val_f1: 0.5450 - val_precision: 0.7356 - val_recall: 0.4331\n",
            "Epoch 6/30\n",
            "27/27 [==============================] - 18s 660ms/step - loss: 1.0361 - accuracy: 0.6207 - f1: 0.5728 - precision: 0.7662 - recall: 0.4577 - val_loss: 1.0917 - val_accuracy: 0.5906 - val_f1: 0.5469 - val_precision: 0.7398 - val_recall: 0.4340\n",
            "Epoch 7/30\n",
            "27/27 [==============================] - 18s 684ms/step - loss: 0.9977 - accuracy: 0.6276 - f1: 0.5948 - precision: 0.7675 - recall: 0.4861 - val_loss: 1.0849 - val_accuracy: 0.5940 - val_f1: 0.5480 - val_precision: 0.7280 - val_recall: 0.4397\n",
            "Epoch 8/30\n",
            "27/27 [==============================] - 18s 658ms/step - loss: 0.9670 - accuracy: 0.6432 - f1: 0.6063 - precision: 0.7662 - recall: 0.5021 - val_loss: 1.0707 - val_accuracy: 0.6114 - val_f1: 0.5739 - val_precision: 0.7184 - val_recall: 0.4780\n",
            "Epoch 9/30\n",
            "27/27 [==============================] - 18s 656ms/step - loss: 0.9331 - accuracy: 0.6601 - f1: 0.6311 - precision: 0.7742 - recall: 0.5330 - val_loss: 1.0821 - val_accuracy: 0.6111 - val_f1: 0.5807 - val_precision: 0.7036 - val_recall: 0.4946\n",
            "Epoch 10/30\n",
            "27/27 [==============================] - 18s 660ms/step - loss: 0.9037 - accuracy: 0.6732 - f1: 0.6501 - precision: 0.7858 - recall: 0.5550 - val_loss: 1.0901 - val_accuracy: 0.6014 - val_f1: 0.5809 - val_precision: 0.6988 - val_recall: 0.4971\n",
            "Epoch 11/30\n",
            "27/27 [==============================] - 18s 653ms/step - loss: 0.8606 - accuracy: 0.6860 - f1: 0.6657 - precision: 0.7885 - recall: 0.5768 - val_loss: 1.0948 - val_accuracy: 0.6074 - val_f1: 0.5960 - val_precision: 0.7078 - val_recall: 0.5149\n",
            "Epoch 12/30\n",
            "27/27 [==============================] - 18s 652ms/step - loss: 0.8279 - accuracy: 0.7034 - f1: 0.6840 - precision: 0.7964 - recall: 0.6001 - val_loss: 1.0988 - val_accuracy: 0.6000 - val_f1: 0.5735 - val_precision: 0.6931 - val_recall: 0.4891\n",
            "Epoch 13/30\n",
            "27/27 [==============================] - 18s 679ms/step - loss: 0.8012 - accuracy: 0.7171 - f1: 0.6969 - precision: 0.8083 - recall: 0.6139 - val_loss: 1.1266 - val_accuracy: 0.5934 - val_f1: 0.5774 - val_precision: 0.6921 - val_recall: 0.4954\n",
            "Epoch 14/30\n",
            "27/27 [==============================] - 18s 686ms/step - loss: 0.7496 - accuracy: 0.7417 - f1: 0.7254 - precision: 0.8232 - recall: 0.6494 - val_loss: 1.1391 - val_accuracy: 0.6023 - val_f1: 0.5934 - val_precision: 0.6821 - val_recall: 0.5251\n",
            "Epoch 15/30\n",
            "27/27 [==============================] - 18s 655ms/step - loss: 0.7312 - accuracy: 0.7465 - f1: 0.7336 - precision: 0.8242 - recall: 0.6615 - val_loss: 1.1591 - val_accuracy: 0.6003 - val_f1: 0.5920 - val_precision: 0.6710 - val_recall: 0.5297\n",
            "Epoch 16/30\n",
            "27/27 [==============================] - 18s 655ms/step - loss: 0.7166 - accuracy: 0.7516 - f1: 0.7347 - precision: 0.8254 - recall: 0.6625 - val_loss: 1.2072 - val_accuracy: 0.6080 - val_f1: 0.5979 - val_precision: 0.6629 - val_recall: 0.5446\n",
            "Epoch 17/30\n",
            "27/27 [==============================] - 18s 665ms/step - loss: 0.6616 - accuracy: 0.7725 - f1: 0.7630 - precision: 0.8363 - recall: 0.7018 - val_loss: 1.2234 - val_accuracy: 0.6057 - val_f1: 0.5957 - val_precision: 0.6647 - val_recall: 0.5397\n",
            "Epoch 18/30\n",
            "27/27 [==============================] - 18s 670ms/step - loss: 0.6676 - accuracy: 0.7666 - f1: 0.7562 - precision: 0.8323 - recall: 0.6934 - val_loss: 1.1645 - val_accuracy: 0.5934 - val_f1: 0.5788 - val_precision: 0.6668 - val_recall: 0.5114\n",
            "Epoch 19/30\n",
            "27/27 [==============================] - 21s 765ms/step - loss: 0.6471 - accuracy: 0.7754 - f1: 0.7649 - precision: 0.8419 - recall: 0.7015 - val_loss: 1.1730 - val_accuracy: 0.5994 - val_f1: 0.5860 - val_precision: 0.6826 - val_recall: 0.5134\n",
            "Epoch 20/30\n",
            "27/27 [==============================] - 18s 661ms/step - loss: 0.6267 - accuracy: 0.7854 - f1: 0.7703 - precision: 0.8495 - recall: 0.7054 - val_loss: 1.3057 - val_accuracy: 0.5780 - val_f1: 0.5712 - val_precision: 0.6395 - val_recall: 0.5163\n",
            "Epoch 21/30\n",
            "27/27 [==============================] - 18s 657ms/step - loss: 0.5971 - accuracy: 0.7978 - f1: 0.7890 - precision: 0.8568 - recall: 0.7314 - val_loss: 1.4256 - val_accuracy: 0.5646 - val_f1: 0.5588 - val_precision: 0.6156 - val_recall: 0.5117\n",
            "Epoch 22/30\n",
            "27/27 [==============================] - 18s 655ms/step - loss: 0.5976 - accuracy: 0.7907 - f1: 0.7838 - precision: 0.8445 - recall: 0.7314 - val_loss: 1.4352 - val_accuracy: 0.5814 - val_f1: 0.5793 - val_precision: 0.6264 - val_recall: 0.5389\n",
            "Epoch 23/30\n",
            "27/27 [==============================] - 18s 659ms/step - loss: 0.6124 - accuracy: 0.7836 - f1: 0.7804 - precision: 0.8419 - recall: 0.7275 - val_loss: 1.3963 - val_accuracy: 0.5749 - val_f1: 0.5627 - val_precision: 0.6188 - val_recall: 0.5160\n",
            "Epoch 24/30\n",
            "27/27 [==============================] - 18s 684ms/step - loss: 0.6309 - accuracy: 0.7777 - f1: 0.7725 - precision: 0.8396 - recall: 0.7156 - val_loss: 1.3924 - val_accuracy: 0.5797 - val_f1: 0.5797 - val_precision: 0.6309 - val_recall: 0.5363\n",
            "Epoch 25/30\n",
            "27/27 [==============================] - 18s 660ms/step - loss: 0.5657 - accuracy: 0.8009 - f1: 0.7993 - precision: 0.8575 - recall: 0.7486 - val_loss: 1.4515 - val_accuracy: 0.5926 - val_f1: 0.5896 - val_precision: 0.6265 - val_recall: 0.5569\n",
            "Epoch 26/30\n",
            "27/27 [==============================] - 18s 659ms/step - loss: 0.4890 - accuracy: 0.8334 - f1: 0.8313 - precision: 0.8753 - recall: 0.7917 - val_loss: 1.5177 - val_accuracy: 0.5949 - val_f1: 0.5934 - val_precision: 0.6246 - val_recall: 0.5651\n",
            "Epoch 27/30\n",
            "27/27 [==============================] - 18s 655ms/step - loss: 0.4483 - accuracy: 0.8498 - f1: 0.8485 - precision: 0.8868 - recall: 0.8135 - val_loss: 1.5595 - val_accuracy: 0.5897 - val_f1: 0.5895 - val_precision: 0.6171 - val_recall: 0.5643\n",
            "Epoch 28/30\n",
            "27/27 [==============================] - 18s 656ms/step - loss: 0.4379 - accuracy: 0.8531 - f1: 0.8531 - precision: 0.8886 - recall: 0.8204 - val_loss: 1.5602 - val_accuracy: 0.5889 - val_f1: 0.5839 - val_precision: 0.6138 - val_recall: 0.5569\n",
            "Epoch 29/30\n",
            "27/27 [==============================] - 18s 654ms/step - loss: 0.4355 - accuracy: 0.8471 - f1: 0.8507 - precision: 0.8875 - recall: 0.8170 - val_loss: 1.5312 - val_accuracy: 0.5811 - val_f1: 0.5827 - val_precision: 0.6163 - val_recall: 0.5526\n",
            "Epoch 30/30\n",
            "27/27 [==============================] - 18s 658ms/step - loss: 0.3960 - accuracy: 0.8678 - f1: 0.8673 - precision: 0.9015 - recall: 0.8357 - val_loss: 1.5471 - val_accuracy: 0.5843 - val_f1: 0.5816 - val_precision: 0.6143 - val_recall: 0.5523\n",
            "8/8 [==============================] - 2s 279ms/step - loss: 1.6124 - accuracy: 0.5583 - f1: 0.5600 - precision: 0.5939 - recall: 0.5297\n",
            "[1.6123775243759155, 0.5582500100135803, 0.5599817633628845, 0.5939293503761292, 0.5297499895095825]\n",
            "GLOVE_BI\n"
          ],
          "name": "stdout"
        }
      ]
    },
    {
      "cell_type": "code",
      "metadata": {
        "id": "1UrOK83UwE4Z",
        "colab": {
          "base_uri": "https://localhost:8080/"
        },
        "outputId": "c6202935-e7bb-41fc-f87a-a72ffedc1bda"
      },
      "source": [
        "result_table[0]=history[1]\r\n",
        "print(\"GLOVE_BI\")"
      ],
      "execution_count": 19,
      "outputs": [
        {
          "output_type": "stream",
          "text": [
            "GLOVE_BI\n"
          ],
          "name": "stdout"
        }
      ]
    },
    {
      "cell_type": "code",
      "metadata": {
        "id": "iqyDJQt3v2mQ"
      },
      "source": [
        ""
      ],
      "execution_count": null,
      "outputs": []
    },
    {
      "cell_type": "code",
      "metadata": {
        "id": "QNRddGTHv2jR"
      },
      "source": [
        ""
      ],
      "execution_count": null,
      "outputs": []
    },
    {
      "cell_type": "code",
      "metadata": {
        "id": "YDaMTRZ7v2g7"
      },
      "source": [
        "\r\n"
      ],
      "execution_count": null,
      "outputs": []
    },
    {
      "cell_type": "code",
      "metadata": {
        "id": "TPBMUSdWvuvN"
      },
      "source": [
        ""
      ],
      "execution_count": null,
      "outputs": []
    },
    {
      "cell_type": "code",
      "metadata": {
        "id": "v_edXJqewY7p"
      },
      "source": [
        ""
      ],
      "execution_count": null,
      "outputs": []
    },
    {
      "cell_type": "code",
      "metadata": {
        "id": "-CGeJPeZwY3d",
        "colab": {
          "base_uri": "https://localhost:8080/"
        },
        "outputId": "73eaf0c1-4d21-4c0b-b877-7d270ba1caf2"
      },
      "source": [
        "#print(\"\\tLstm\\t\\t\\tBiLstm\\t\\t\\tRnn\")\r\n",
        "print(\"glove\",result_table[:1])\r\n",
        "print(\"cbow\",result_table[1:2])\r\n",
        "print(\"sg\",result_table[2:3])\r\n",
        "# print(history_sg_bi.history)\r\n",
        "# plt.title(\"Skip-Gram + Bi-LSTM accuracy, loss vs epochs Graph\")\r\n",
        "# plt.plot(history_sg_bi.history['loss'],c='b',label='loss')\r\n",
        "# plt.plot(history_sg_bi.history['accuracy'],c='r',label='accuracy')\r\n",
        "# plt.xlabel('epochs')\r\n",
        "# plt.legend()\r\n",
        "# # plt.yticks()\r\n",
        "# plt.show()\r\n",
        "# plt.title(\"GloVe + Bi-LSTM accuracy, loss vs epochs Graph\")\r\n",
        "# plt.plot(history_glove_bi.history['loss'],c='b',label='loss')\r\n",
        "# plt.plot(history_glove_bi.history['accuracy'],c='r',label='accuracy')\r\n",
        "# plt.xlabel('epochs')\r\n",
        "# plt.legend()\r\n",
        "# # plt.yticks()\r\n",
        "# plt.show()"
      ],
      "execution_count": 20,
      "outputs": [
        {
          "output_type": "stream",
          "text": [
            "glove [0.5582500100135803]\n",
            "cbow [0.4634999930858612]\n",
            "sg [0.47975000739097595]\n"
          ],
          "name": "stdout"
        }
      ]
    },
    {
      "cell_type": "code",
      "metadata": {
        "id": "o6YWN3P2wba7"
      },
      "source": [
        ""
      ],
      "execution_count": null,
      "outputs": []
    }
  ]
}