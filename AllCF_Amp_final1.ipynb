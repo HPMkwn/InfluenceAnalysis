{
  "nbformat": 4,
  "nbformat_minor": 0,
  "metadata": {
    "colab": {
      "name": "AllCF_Amp_final1.ipynb",
      "provenance": [],
      "collapsed_sections": [],
      "include_colab_link": true
    },
    "kernelspec": {
      "name": "python3",
      "display_name": "Python 3"
    }
  },
  "cells": [
    {
      "cell_type": "markdown",
      "metadata": {
        "id": "view-in-github",
        "colab_type": "text"
      },
      "source": [
        "<a href=\"https://colab.research.google.com/github/harrymkwn/InfluenceAnalysis/blob/master/AllCF_Amp_final1.ipynb\" target=\"_parent\"><img src=\"https://colab.research.google.com/assets/colab-badge.svg\" alt=\"Open In Colab\"/></a>"
      ]
    },
    {
      "cell_type": "code",
      "metadata": {
        "colab": {
          "base_uri": "https://localhost:8080/"
        },
        "id": "JM_R73b__UDA",
        "outputId": "0d8ecb34-bd89-40f3-9c76-f0cbb6b49f0c"
      },
      "source": [
        "from google.colab import  drive\r\n",
        "drive.mount('/content/drive')"
      ],
      "execution_count": 1,
      "outputs": [
        {
          "output_type": "stream",
          "text": [
            "Mounted at /content/drive\n"
          ],
          "name": "stdout"
        }
      ]
    },
    {
      "cell_type": "code",
      "metadata": {
        "id": "nUUbZlzjtM4Z",
        "colab": {
          "base_uri": "https://localhost:8080/"
        },
        "outputId": "8641dceb-ae18-44b9-b711-b179b46fc8f1"
      },
      "source": [
        "import pandas as pd\r\n",
        "import numpy as np\r\n",
        "import tensorflow as tf\r\n",
        "from gensim.models import Word2Vec\r\n",
        "import matplotlib.pyplot as plt\r\n",
        "from sklearn.linear_model import LogisticRegression\r\n",
        "from sklearn.multiclass import OneVsRestClassifier\r\n",
        "from gensim.models import KeyedVectors\r\n",
        "from sklearn.model_selection import train_test_split\r\n",
        "import nltk\r\n",
        "from nltk.corpus import stopwords\r\n",
        "nltk.download('all')\r\n",
        "from nltk.corpus import sentiwordnet as swn\r\n",
        "device_name = tf.test.gpu_device_name()\r\n",
        "print(device_name)\r\n",
        "df = pd.read_csv('/content/drive/MyDrive/InfluenceAnalysis/crowdFlower/cF_clean_our_combined.csv')\r\n",
        "df = df.sample(frac=1,random_state=32)"
      ],
      "execution_count": 2,
      "outputs": [
        {
          "output_type": "stream",
          "text": [
            "[nltk_data] Downloading collection 'all'\n",
            "[nltk_data]    | \n",
            "[nltk_data]    | Downloading package abc to /root/nltk_data...\n",
            "[nltk_data]    |   Unzipping corpora/abc.zip.\n",
            "[nltk_data]    | Downloading package alpino to /root/nltk_data...\n",
            "[nltk_data]    |   Unzipping corpora/alpino.zip.\n",
            "[nltk_data]    | Downloading package biocreative_ppi to\n",
            "[nltk_data]    |     /root/nltk_data...\n",
            "[nltk_data]    |   Unzipping corpora/biocreative_ppi.zip.\n",
            "[nltk_data]    | Downloading package brown to /root/nltk_data...\n",
            "[nltk_data]    |   Unzipping corpora/brown.zip.\n",
            "[nltk_data]    | Downloading package brown_tei to /root/nltk_data...\n",
            "[nltk_data]    |   Unzipping corpora/brown_tei.zip.\n",
            "[nltk_data]    | Downloading package cess_cat to /root/nltk_data...\n",
            "[nltk_data]    |   Unzipping corpora/cess_cat.zip.\n",
            "[nltk_data]    | Downloading package cess_esp to /root/nltk_data...\n",
            "[nltk_data]    |   Unzipping corpora/cess_esp.zip.\n",
            "[nltk_data]    | Downloading package chat80 to /root/nltk_data...\n",
            "[nltk_data]    |   Unzipping corpora/chat80.zip.\n",
            "[nltk_data]    | Downloading package city_database to\n",
            "[nltk_data]    |     /root/nltk_data...\n",
            "[nltk_data]    |   Unzipping corpora/city_database.zip.\n",
            "[nltk_data]    | Downloading package cmudict to /root/nltk_data...\n",
            "[nltk_data]    |   Unzipping corpora/cmudict.zip.\n",
            "[nltk_data]    | Downloading package comparative_sentences to\n",
            "[nltk_data]    |     /root/nltk_data...\n",
            "[nltk_data]    |   Unzipping corpora/comparative_sentences.zip.\n",
            "[nltk_data]    | Downloading package comtrans to /root/nltk_data...\n",
            "[nltk_data]    | Downloading package conll2000 to /root/nltk_data...\n",
            "[nltk_data]    |   Unzipping corpora/conll2000.zip.\n",
            "[nltk_data]    | Downloading package conll2002 to /root/nltk_data...\n",
            "[nltk_data]    |   Unzipping corpora/conll2002.zip.\n",
            "[nltk_data]    | Downloading package conll2007 to /root/nltk_data...\n",
            "[nltk_data]    | Downloading package crubadan to /root/nltk_data...\n",
            "[nltk_data]    |   Unzipping corpora/crubadan.zip.\n",
            "[nltk_data]    | Downloading package dependency_treebank to\n",
            "[nltk_data]    |     /root/nltk_data...\n",
            "[nltk_data]    |   Unzipping corpora/dependency_treebank.zip.\n",
            "[nltk_data]    | Downloading package dolch to /root/nltk_data...\n",
            "[nltk_data]    |   Unzipping corpora/dolch.zip.\n",
            "[nltk_data]    | Downloading package europarl_raw to\n",
            "[nltk_data]    |     /root/nltk_data...\n",
            "[nltk_data]    |   Unzipping corpora/europarl_raw.zip.\n",
            "[nltk_data]    | Downloading package floresta to /root/nltk_data...\n",
            "[nltk_data]    |   Unzipping corpora/floresta.zip.\n",
            "[nltk_data]    | Downloading package framenet_v15 to\n",
            "[nltk_data]    |     /root/nltk_data...\n",
            "[nltk_data]    |   Unzipping corpora/framenet_v15.zip.\n",
            "[nltk_data]    | Downloading package framenet_v17 to\n",
            "[nltk_data]    |     /root/nltk_data...\n",
            "[nltk_data]    |   Unzipping corpora/framenet_v17.zip.\n",
            "[nltk_data]    | Downloading package gazetteers to /root/nltk_data...\n",
            "[nltk_data]    |   Unzipping corpora/gazetteers.zip.\n",
            "[nltk_data]    | Downloading package genesis to /root/nltk_data...\n",
            "[nltk_data]    |   Unzipping corpora/genesis.zip.\n",
            "[nltk_data]    | Downloading package gutenberg to /root/nltk_data...\n",
            "[nltk_data]    |   Unzipping corpora/gutenberg.zip.\n",
            "[nltk_data]    | Downloading package ieer to /root/nltk_data...\n",
            "[nltk_data]    |   Unzipping corpora/ieer.zip.\n",
            "[nltk_data]    | Downloading package inaugural to /root/nltk_data...\n",
            "[nltk_data]    |   Unzipping corpora/inaugural.zip.\n",
            "[nltk_data]    | Downloading package indian to /root/nltk_data...\n",
            "[nltk_data]    |   Unzipping corpora/indian.zip.\n",
            "[nltk_data]    | Downloading package jeita to /root/nltk_data...\n",
            "[nltk_data]    | Downloading package kimmo to /root/nltk_data...\n",
            "[nltk_data]    |   Unzipping corpora/kimmo.zip.\n",
            "[nltk_data]    | Downloading package knbc to /root/nltk_data...\n",
            "[nltk_data]    | Downloading package lin_thesaurus to\n",
            "[nltk_data]    |     /root/nltk_data...\n",
            "[nltk_data]    |   Unzipping corpora/lin_thesaurus.zip.\n",
            "[nltk_data]    | Downloading package mac_morpho to /root/nltk_data...\n",
            "[nltk_data]    |   Unzipping corpora/mac_morpho.zip.\n",
            "[nltk_data]    | Downloading package machado to /root/nltk_data...\n",
            "[nltk_data]    | Downloading package masc_tagged to /root/nltk_data...\n",
            "[nltk_data]    | Downloading package moses_sample to\n",
            "[nltk_data]    |     /root/nltk_data...\n",
            "[nltk_data]    |   Unzipping models/moses_sample.zip.\n",
            "[nltk_data]    | Downloading package movie_reviews to\n",
            "[nltk_data]    |     /root/nltk_data...\n",
            "[nltk_data]    |   Unzipping corpora/movie_reviews.zip.\n",
            "[nltk_data]    | Downloading package names to /root/nltk_data...\n",
            "[nltk_data]    |   Unzipping corpora/names.zip.\n",
            "[nltk_data]    | Downloading package nombank.1.0 to /root/nltk_data...\n",
            "[nltk_data]    | Downloading package nps_chat to /root/nltk_data...\n",
            "[nltk_data]    |   Unzipping corpora/nps_chat.zip.\n",
            "[nltk_data]    | Downloading package omw to /root/nltk_data...\n",
            "[nltk_data]    |   Unzipping corpora/omw.zip.\n",
            "[nltk_data]    | Downloading package opinion_lexicon to\n",
            "[nltk_data]    |     /root/nltk_data...\n",
            "[nltk_data]    |   Unzipping corpora/opinion_lexicon.zip.\n",
            "[nltk_data]    | Downloading package paradigms to /root/nltk_data...\n",
            "[nltk_data]    |   Unzipping corpora/paradigms.zip.\n",
            "[nltk_data]    | Downloading package pil to /root/nltk_data...\n",
            "[nltk_data]    |   Unzipping corpora/pil.zip.\n",
            "[nltk_data]    | Downloading package pl196x to /root/nltk_data...\n",
            "[nltk_data]    |   Unzipping corpora/pl196x.zip.\n",
            "[nltk_data]    | Downloading package ppattach to /root/nltk_data...\n",
            "[nltk_data]    |   Unzipping corpora/ppattach.zip.\n",
            "[nltk_data]    | Downloading package problem_reports to\n",
            "[nltk_data]    |     /root/nltk_data...\n",
            "[nltk_data]    |   Unzipping corpora/problem_reports.zip.\n",
            "[nltk_data]    | Downloading package propbank to /root/nltk_data...\n",
            "[nltk_data]    | Downloading package ptb to /root/nltk_data...\n",
            "[nltk_data]    |   Unzipping corpora/ptb.zip.\n",
            "[nltk_data]    | Downloading package product_reviews_1 to\n",
            "[nltk_data]    |     /root/nltk_data...\n",
            "[nltk_data]    |   Unzipping corpora/product_reviews_1.zip.\n",
            "[nltk_data]    | Downloading package product_reviews_2 to\n",
            "[nltk_data]    |     /root/nltk_data...\n",
            "[nltk_data]    |   Unzipping corpora/product_reviews_2.zip.\n",
            "[nltk_data]    | Downloading package pros_cons to /root/nltk_data...\n",
            "[nltk_data]    |   Unzipping corpora/pros_cons.zip.\n",
            "[nltk_data]    | Downloading package qc to /root/nltk_data...\n",
            "[nltk_data]    |   Unzipping corpora/qc.zip.\n",
            "[nltk_data]    | Downloading package reuters to /root/nltk_data...\n",
            "[nltk_data]    | Downloading package rte to /root/nltk_data...\n",
            "[nltk_data]    |   Unzipping corpora/rte.zip.\n",
            "[nltk_data]    | Downloading package semcor to /root/nltk_data...\n",
            "[nltk_data]    | Downloading package senseval to /root/nltk_data...\n",
            "[nltk_data]    |   Unzipping corpora/senseval.zip.\n",
            "[nltk_data]    | Downloading package sentiwordnet to\n",
            "[nltk_data]    |     /root/nltk_data...\n",
            "[nltk_data]    |   Unzipping corpora/sentiwordnet.zip.\n",
            "[nltk_data]    | Downloading package sentence_polarity to\n",
            "[nltk_data]    |     /root/nltk_data...\n",
            "[nltk_data]    |   Unzipping corpora/sentence_polarity.zip.\n",
            "[nltk_data]    | Downloading package shakespeare to /root/nltk_data...\n",
            "[nltk_data]    |   Unzipping corpora/shakespeare.zip.\n",
            "[nltk_data]    | Downloading package sinica_treebank to\n",
            "[nltk_data]    |     /root/nltk_data...\n",
            "[nltk_data]    |   Unzipping corpora/sinica_treebank.zip.\n",
            "[nltk_data]    | Downloading package smultron to /root/nltk_data...\n",
            "[nltk_data]    |   Unzipping corpora/smultron.zip.\n",
            "[nltk_data]    | Downloading package state_union to /root/nltk_data...\n",
            "[nltk_data]    |   Unzipping corpora/state_union.zip.\n",
            "[nltk_data]    | Downloading package stopwords to /root/nltk_data...\n",
            "[nltk_data]    |   Unzipping corpora/stopwords.zip.\n",
            "[nltk_data]    | Downloading package subjectivity to\n",
            "[nltk_data]    |     /root/nltk_data...\n",
            "[nltk_data]    |   Unzipping corpora/subjectivity.zip.\n",
            "[nltk_data]    | Downloading package swadesh to /root/nltk_data...\n",
            "[nltk_data]    |   Unzipping corpora/swadesh.zip.\n",
            "[nltk_data]    | Downloading package switchboard to /root/nltk_data...\n",
            "[nltk_data]    |   Unzipping corpora/switchboard.zip.\n",
            "[nltk_data]    | Downloading package timit to /root/nltk_data...\n",
            "[nltk_data]    |   Unzipping corpora/timit.zip.\n",
            "[nltk_data]    | Downloading package toolbox to /root/nltk_data...\n",
            "[nltk_data]    |   Unzipping corpora/toolbox.zip.\n",
            "[nltk_data]    | Downloading package treebank to /root/nltk_data...\n",
            "[nltk_data]    |   Unzipping corpora/treebank.zip.\n",
            "[nltk_data]    | Downloading package twitter_samples to\n",
            "[nltk_data]    |     /root/nltk_data...\n",
            "[nltk_data]    |   Unzipping corpora/twitter_samples.zip.\n",
            "[nltk_data]    | Downloading package udhr to /root/nltk_data...\n",
            "[nltk_data]    |   Unzipping corpora/udhr.zip.\n",
            "[nltk_data]    | Downloading package udhr2 to /root/nltk_data...\n",
            "[nltk_data]    |   Unzipping corpora/udhr2.zip.\n",
            "[nltk_data]    | Downloading package unicode_samples to\n",
            "[nltk_data]    |     /root/nltk_data...\n",
            "[nltk_data]    |   Unzipping corpora/unicode_samples.zip.\n",
            "[nltk_data]    | Downloading package universal_treebanks_v20 to\n",
            "[nltk_data]    |     /root/nltk_data...\n",
            "[nltk_data]    | Downloading package verbnet to /root/nltk_data...\n",
            "[nltk_data]    |   Unzipping corpora/verbnet.zip.\n",
            "[nltk_data]    | Downloading package verbnet3 to /root/nltk_data...\n",
            "[nltk_data]    |   Unzipping corpora/verbnet3.zip.\n",
            "[nltk_data]    | Downloading package webtext to /root/nltk_data...\n",
            "[nltk_data]    |   Unzipping corpora/webtext.zip.\n",
            "[nltk_data]    | Downloading package wordnet to /root/nltk_data...\n",
            "[nltk_data]    |   Unzipping corpora/wordnet.zip.\n",
            "[nltk_data]    | Downloading package wordnet_ic to /root/nltk_data...\n",
            "[nltk_data]    |   Unzipping corpora/wordnet_ic.zip.\n",
            "[nltk_data]    | Downloading package words to /root/nltk_data...\n",
            "[nltk_data]    |   Unzipping corpora/words.zip.\n",
            "[nltk_data]    | Downloading package ycoe to /root/nltk_data...\n",
            "[nltk_data]    |   Unzipping corpora/ycoe.zip.\n",
            "[nltk_data]    | Downloading package rslp to /root/nltk_data...\n",
            "[nltk_data]    |   Unzipping stemmers/rslp.zip.\n",
            "[nltk_data]    | Downloading package maxent_treebank_pos_tagger to\n",
            "[nltk_data]    |     /root/nltk_data...\n",
            "[nltk_data]    |   Unzipping taggers/maxent_treebank_pos_tagger.zip.\n",
            "[nltk_data]    | Downloading package universal_tagset to\n",
            "[nltk_data]    |     /root/nltk_data...\n",
            "[nltk_data]    |   Unzipping taggers/universal_tagset.zip.\n",
            "[nltk_data]    | Downloading package maxent_ne_chunker to\n",
            "[nltk_data]    |     /root/nltk_data...\n",
            "[nltk_data]    |   Unzipping chunkers/maxent_ne_chunker.zip.\n",
            "[nltk_data]    | Downloading package punkt to /root/nltk_data...\n",
            "[nltk_data]    |   Unzipping tokenizers/punkt.zip.\n",
            "[nltk_data]    | Downloading package book_grammars to\n",
            "[nltk_data]    |     /root/nltk_data...\n",
            "[nltk_data]    |   Unzipping grammars/book_grammars.zip.\n",
            "[nltk_data]    | Downloading package sample_grammars to\n",
            "[nltk_data]    |     /root/nltk_data...\n",
            "[nltk_data]    |   Unzipping grammars/sample_grammars.zip.\n",
            "[nltk_data]    | Downloading package spanish_grammars to\n",
            "[nltk_data]    |     /root/nltk_data...\n",
            "[nltk_data]    |   Unzipping grammars/spanish_grammars.zip.\n",
            "[nltk_data]    | Downloading package basque_grammars to\n",
            "[nltk_data]    |     /root/nltk_data...\n",
            "[nltk_data]    |   Unzipping grammars/basque_grammars.zip.\n",
            "[nltk_data]    | Downloading package large_grammars to\n",
            "[nltk_data]    |     /root/nltk_data...\n",
            "[nltk_data]    |   Unzipping grammars/large_grammars.zip.\n",
            "[nltk_data]    | Downloading package tagsets to /root/nltk_data...\n",
            "[nltk_data]    |   Unzipping help/tagsets.zip.\n",
            "[nltk_data]    | Downloading package snowball_data to\n",
            "[nltk_data]    |     /root/nltk_data...\n",
            "[nltk_data]    | Downloading package bllip_wsj_no_aux to\n",
            "[nltk_data]    |     /root/nltk_data...\n",
            "[nltk_data]    |   Unzipping models/bllip_wsj_no_aux.zip.\n",
            "[nltk_data]    | Downloading package word2vec_sample to\n",
            "[nltk_data]    |     /root/nltk_data...\n",
            "[nltk_data]    |   Unzipping models/word2vec_sample.zip.\n",
            "[nltk_data]    | Downloading package panlex_swadesh to\n",
            "[nltk_data]    |     /root/nltk_data...\n",
            "[nltk_data]    | Downloading package mte_teip5 to /root/nltk_data...\n",
            "[nltk_data]    |   Unzipping corpora/mte_teip5.zip.\n",
            "[nltk_data]    | Downloading package averaged_perceptron_tagger to\n",
            "[nltk_data]    |     /root/nltk_data...\n",
            "[nltk_data]    |   Unzipping taggers/averaged_perceptron_tagger.zip.\n",
            "[nltk_data]    | Downloading package averaged_perceptron_tagger_ru to\n",
            "[nltk_data]    |     /root/nltk_data...\n",
            "[nltk_data]    |   Unzipping\n",
            "[nltk_data]    |       taggers/averaged_perceptron_tagger_ru.zip.\n",
            "[nltk_data]    | Downloading package perluniprops to\n",
            "[nltk_data]    |     /root/nltk_data...\n",
            "[nltk_data]    |   Unzipping misc/perluniprops.zip.\n",
            "[nltk_data]    | Downloading package nonbreaking_prefixes to\n",
            "[nltk_data]    |     /root/nltk_data...\n",
            "[nltk_data]    |   Unzipping corpora/nonbreaking_prefixes.zip.\n",
            "[nltk_data]    | Downloading package vader_lexicon to\n",
            "[nltk_data]    |     /root/nltk_data...\n",
            "[nltk_data]    | Downloading package porter_test to /root/nltk_data...\n",
            "[nltk_data]    |   Unzipping stemmers/porter_test.zip.\n",
            "[nltk_data]    | Downloading package wmt15_eval to /root/nltk_data...\n",
            "[nltk_data]    |   Unzipping models/wmt15_eval.zip.\n",
            "[nltk_data]    | Downloading package mwa_ppdb to /root/nltk_data...\n",
            "[nltk_data]    |   Unzipping misc/mwa_ppdb.zip.\n",
            "[nltk_data]    | \n",
            "[nltk_data]  Done downloading collection all\n",
            "\n"
          ],
          "name": "stdout"
        }
      ]
    },
    {
      "cell_type": "code",
      "metadata": {
        "id": "BbwlTktNBR48",
        "colab": {
          "base_uri": "https://localhost:8080/",
          "height": 204
        },
        "outputId": "c6bedb2b-e7bd-4edd-8cee-14c2c47f8bf1"
      },
      "source": [
        "df.head()"
      ],
      "execution_count": 3,
      "outputs": [
        {
          "output_type": "execute_result",
          "data": {
            "text/html": [
              "<div>\n",
              "<style scoped>\n",
              "    .dataframe tbody tr th:only-of-type {\n",
              "        vertical-align: middle;\n",
              "    }\n",
              "\n",
              "    .dataframe tbody tr th {\n",
              "        vertical-align: top;\n",
              "    }\n",
              "\n",
              "    .dataframe thead th {\n",
              "        text-align: right;\n",
              "    }\n",
              "</style>\n",
              "<table border=\"1\" class=\"dataframe\">\n",
              "  <thead>\n",
              "    <tr style=\"text-align: right;\">\n",
              "      <th></th>\n",
              "      <th>emotion</th>\n",
              "      <th>tweets</th>\n",
              "    </tr>\n",
              "  </thead>\n",
              "  <tbody>\n",
              "    <tr>\n",
              "      <th>35975</th>\n",
              "      <td>1</td>\n",
              "      <td>Praying for love in a lap dance and paying in...</td>\n",
              "    </tr>\n",
              "    <tr>\n",
              "      <th>17590</th>\n",
              "      <td>2</td>\n",
              "      <td>trying to fix my internet connection      gues...</td>\n",
              "    </tr>\n",
              "    <tr>\n",
              "      <th>38071</th>\n",
              "      <td>0</td>\n",
              "      <td>starting an account here on twitter</td>\n",
              "    </tr>\n",
              "    <tr>\n",
              "      <th>23304</th>\n",
              "      <td>2</td>\n",
              "      <td>hmmm wrong link ignore my tweet</td>\n",
              "    </tr>\n",
              "    <tr>\n",
              "      <th>26990</th>\n",
              "      <td>0</td>\n",
              "      <td>thanks   before the major chop</td>\n",
              "    </tr>\n",
              "  </tbody>\n",
              "</table>\n",
              "</div>"
            ],
            "text/plain": [
              "       emotion                                             tweets\n",
              "35975        1   Praying for love in a lap dance and paying in...\n",
              "17590        2  trying to fix my internet connection      gues...\n",
              "38071        0                starting an account here on twitter\n",
              "23304        2                    hmmm wrong link ignore my tweet\n",
              "26990        0                   thanks   before the major chop  "
            ]
          },
          "metadata": {
            "tags": []
          },
          "execution_count": 3
        }
      ]
    },
    {
      "cell_type": "code",
      "metadata": {
        "id": "ENcs-a3CBR02",
        "colab": {
          "base_uri": "https://localhost:8080/"
        },
        "outputId": "1d6822c3-cfd7-46b9-c8cb-b30911c2a07a"
      },
      "source": [
        "df.emotion.unique()"
      ],
      "execution_count": 4,
      "outputs": [
        {
          "output_type": "execute_result",
          "data": {
            "text/plain": [
              "array([1, 2, 0, 3])"
            ]
          },
          "metadata": {
            "tags": []
          },
          "execution_count": 4
        }
      ]
    },
    {
      "cell_type": "code",
      "metadata": {
        "id": "v0mb2jrPBRwL",
        "colab": {
          "base_uri": "https://localhost:8080/"
        },
        "outputId": "67f00363-2273-436d-d2a2-4f4b75836b3c"
      },
      "source": [
        "no_labels=4\r\n",
        "category_dict = {}\r\n",
        "for i in range(no_labels):\r\n",
        "  category_dict[i]=[0 for j in range(no_labels)]\r\n",
        "  category_dict[i][i]=1\r\n",
        "data_tweet = [str(x).lower().split() for x in df['tweets']]\r\n",
        "data_cat = np.array([np.array(category_dict[x]) for x in df['emotion']])\r\n",
        "print(data_cat[:5])"
      ],
      "execution_count": 5,
      "outputs": [
        {
          "output_type": "stream",
          "text": [
            "[[0 1 0 0]\n",
            " [0 0 1 0]\n",
            " [1 0 0 0]\n",
            " [0 0 1 0]\n",
            " [1 0 0 0]]\n"
          ],
          "name": "stdout"
        }
      ]
    },
    {
      "cell_type": "code",
      "metadata": {
        "id": "1Ik2nYnWvu7c",
        "colab": {
          "base_uri": "https://localhost:8080/"
        },
        "outputId": "8d4fd276-d142-404b-c5dd-ef95c6fbfe43"
      },
      "source": [
        "print(data_tweet[:5])\r\n",
        "print(data_cat[:5])"
      ],
      "execution_count": 6,
      "outputs": [
        {
          "output_type": "stream",
          "text": [
            "[['praying', 'for', 'love', 'in', 'a', 'lap', 'dance', 'and', 'paying', 'in', 'naivety', 'less', 'than', 'one', 'of', 'my', 'fav', 'songs'], ['trying', 'to', 'fix', 'my', 'internet', 'connection', 'guess', 'my', 'prayers', 'have', 'been', 'answered', 'and', 'i', 'wont', 'have', 'any', 'study', 'distractions', 'ugh'], ['starting', 'an', 'account', 'here', 'on', 'twitter'], ['hmmm', 'wrong', 'link', 'ignore', 'my', 'tweet'], ['thanks', 'before', 'the', 'major', 'chop']]\n",
            "[[0 1 0 0]\n",
            " [0 0 1 0]\n",
            " [1 0 0 0]\n",
            " [0 0 1 0]\n",
            " [1 0 0 0]]\n"
          ],
          "name": "stdout"
        }
      ]
    },
    {
      "cell_type": "code",
      "metadata": {
        "id": "PTQD20vNvu3x"
      },
      "source": [
        "# Parameters\r\n",
        "Min_count = 0\r\n",
        "Embedding_size = 200\r\n",
        "Window_size = 5\r\n",
        "Negative_sampling = 00"
      ],
      "execution_count": 7,
      "outputs": []
    },
    {
      "cell_type": "code",
      "metadata": {
        "id": "gmvFJUlXvu1S"
      },
      "source": [
        "w2v_sg = Word2Vec(min_count=Min_count,\r\n",
        "                     window=Window_size,\r\n",
        "                     size=Embedding_size,\r\n",
        "                     negative=Negative_sampling,sg=1)\r\n",
        "w2v_sg.build_vocab(data_tweet)\r\n",
        "w2v_sg.train(data_tweet, total_examples=w2v_sg.corpus_count, epochs=5)\r\n",
        "w2v_cbow = Word2Vec(min_count=Min_count,\r\n",
        "                     window=Window_size,\r\n",
        "                     size=Embedding_size,\r\n",
        "                     negative=Negative_sampling,sg=0)\r\n",
        "w2v_cbow.build_vocab(data_tweet)\r\n",
        "w2v_cbow.train(data_tweet, total_examples=w2v_cbow.corpus_count, epochs=5)\r\n",
        "w2v_sg.wv.init_sims(True)\r\n",
        "w2v_cbow.wv.init_sims(True)"
      ],
      "execution_count": 8,
      "outputs": []
    },
    {
      "cell_type": "code",
      "metadata": {
        "id": "EWlSeP2Xvuy7"
      },
      "source": [
        "vocab_sg = w2v_sg.wv.vocab\r\n",
        "vocab_sg = [x for x in vocab_sg]\r\n",
        "vocab_cbow = w2v_cbow.wv.vocab\r\n",
        "vocab_cbow = [x for x in vocab_cbow] \r\n",
        "vocab_glove = {}\r\n",
        "with open(\"/content/drive/My Drive/InfluenceAnalysis/glove/glove.twitter.27B.200d.txt\", 'r', encoding=\"utf-8\") as f:\r\n",
        "  for line in f:\r\n",
        "      values = line.split()\r\n",
        "      word = values[0]\r\n",
        "      vector = np.asarray(values[1:], \"float32\")\r\n",
        "      vocab_glove[word] = vector"
      ],
      "execution_count": 10,
      "outputs": []
    },
    {
      "cell_type": "code",
      "metadata": {
        "id": "t2dmTA7mv2rW"
      },
      "source": [
        "batch_size = 500\r\n",
        "Max_input_size = max([len(x) for x in data_tweet])\r\n",
        "data_tweet = [nltk.pos_tag(x) for x in data_tweet]\r\n",
        "def getsent(word,tag):\r\n",
        "  res=0\r\n",
        "  try:\r\n",
        "    x = swn.senti_synset(word+'.'+tag[0].lower()+'.01')\r\n",
        "    res =  (x.pos_score()-x.neg_score())\r\n",
        "  finally:\r\n",
        "    return res \r\n",
        "data_tweet = [[(i[0],i[1],getsent(i[0],i[1])) for i in x] for x in data_tweet]"
      ],
      "execution_count": 11,
      "outputs": []
    },
    {
      "cell_type": "code",
      "metadata": {
        "id": "NMXBVvGUv9q3"
      },
      "source": [
        "def vec_gen(w2v,vocab,data_tweet,data_cat,batch_size,Max_input_size,Embedding_size,mul_factor=2):\r\n",
        "  while True:\r\n",
        "    for k in range(int(len(data_tweet)/batch_size)):\r\n",
        "      res=[]\r\n",
        "      for x in data_tweet[k*(batch_size):(k+1)*(batch_size)]:\r\n",
        "        tweet = [(w2v.wv.word_vec(i[0]),i[1]) for i in x if i[0] in vocab]\r\n",
        "        l=len(tweet)\r\n",
        "        for i in range(l):\r\n",
        "          if tweet[i][1][:2]=='JJ' or tweet[i][1][:2]=='RB' or tweet[i][1][:2]=='VB':\r\n",
        "            tweet[i]=((tweet[i][0])*mul_factor,tweet[i][1])\r\n",
        "        res+=[np.array([x[0] for x in tweet])]\r\n",
        "      temp = np.array([np.pad(z.flatten(),(0,Max_input_size*Embedding_size-len(z.flatten()))).reshape(Max_input_size,Embedding_size) for z in res])\r\n",
        "      tempres = np.array(data_cat[k*(batch_size):(k+1)*(batch_size)])\r\n",
        "      yield (temp,tempres)          \r\n",
        "      \r\n",
        "def glove_gen(vocab,data_tweet,data_cat,batch_size,Max_input_size,Embedding_size,mul_factor=2):\r\n",
        "  while True:\r\n",
        "    for k in range(int(len(data_tweet)/batch_size)):\r\n",
        "      res=[]\r\n",
        "      for x in data_tweet[k*(batch_size):(k+1)*(batch_size)]:\r\n",
        "        tweet = [(vocab[i[0]],i[1]) for i in x if i[0] in vocab.keys()]\r\n",
        "        l=len(tweet)\r\n",
        "        for i in range(l):\r\n",
        "          if tweet[i][1][:2]=='JJ' or tweet[i][1][:2]=='RB' or tweet[i][1][:2]=='VB':\r\n",
        "            tweet[i]=((tweet[i][0])*mul_factor,tweet[i][1])\r\n",
        "        res+=[np.array([x[0] for x in tweet])]\r\n",
        "      temp = np.array([np.pad(z.flatten(),(0,Max_input_size*Embedding_size-len(z.flatten()))).reshape(Max_input_size,Embedding_size) for z in res])\r\n",
        "      tempres = np.array(data_cat[k*(batch_size):(k+1)*(batch_size)])\r\n",
        "      yield (temp,tempres)"
      ],
      "execution_count": 12,
      "outputs": []
    },
    {
      "cell_type": "code",
      "metadata": {
        "id": "AtpLVu-Jv9oA",
        "colab": {
          "base_uri": "https://localhost:8080/"
        },
        "outputId": "05198441-31a8-4384-84b8-7ecb6384987c"
      },
      "source": [
        "from sklearn.model_selection import StratifiedShuffleSplit\r\n",
        "sss = StratifiedShuffleSplit(n_splits=1, test_size=0.2, random_state=0)\r\n",
        "sss.get_n_splits(data_tweet, data_cat)\r\n",
        "X_train=[]\r\n",
        "X_test=[]\r\n",
        "y_train=[]\r\n",
        "y_test=[]\r\n",
        "counter=0\r\n",
        "for train_index, test_index in sss.split(data_tweet, data_cat):\r\n",
        "  print(\"TRAIN:\", train_index, \"TEST:\", test_index)\r\n",
        "  for i in train_index:\r\n",
        "    X_train+=[data_tweet[i]]\r\n",
        "    y_train+=[data_cat[i]]\r\n",
        "\r\n",
        "  for j in test_index:\r\n",
        "    X_test+=[data_tweet[j]]\r\n",
        "    y_test+=[data_cat[j]]\r\n",
        "\r\n",
        " # X_train, X_test = data_tweet[train_index], data_tweet[test_index]\r\n",
        " # y_train, y_test = data_cat[train_index], data_cat[test_index]\r\n",
        "print(X_train[:5])\r\n",
        "print(y_train[:5])\r\n",
        "sss = StratifiedShuffleSplit(n_splits=1, test_size=0.2, random_state=0)\r\n",
        "sss.get_n_splits(X_train, y_train)\r\n",
        "x_train=[]\r\n",
        "X_val=[]\r\n",
        "Y_train=[]\r\n",
        "y_val=[]\r\n",
        "for train_index1, test_index1 in sss.split(X_train, y_train):\r\n",
        "  print(\"TRAIN:\", train_index1, \"TEST:\", test_index1)\r\n",
        "  for i in train_index1:\r\n",
        "    x_train+=[X_train[i]]\r\n",
        "    Y_train+=[y_train[i]]\r\n",
        "\r\n",
        "  for j in test_index1:\r\n",
        "    X_val+=[X_train[j]]\r\n",
        "    y_val+=[y_train[j]]\r\n",
        "X_train=x_train\r\n",
        "y_train=Y_train\r\n",
        "print(len(X_train))\r\n",
        "print(len(y_train))\r\n",
        "print(len(X_test))\r\n",
        "print(len(y_test))\r\n",
        "print(len(X_val))\r\n",
        "print(len(y_val))\r\n",
        "print(X_train[:5])\r\n",
        "print(y_train[:5])\r\n",
        "result_table = [0,0,0]"
      ],
      "execution_count": 13,
      "outputs": [
        {
          "output_type": "stream",
          "text": [
            "TRAIN: [10470  6321 13813 ... 24250 39308  6334] TEST: [22946 37404 11668 ...  6796  7895 14585]\n",
            "[[('the', 'DT', 0), ('goonies', 'NNS', 0), ('projected', 'VBN', 0), ('on', 'IN', 0), ('a', 'DT', 0), ('garage', 'NN', 0.0), ('door', 'NN', 0.0), ('with', 'IN', 0), ('my', 'PRP$', 0), ('friends', 'NNS', 0), ('amazing', 'VBG', 0)], [('17', 'CD', 0), ('again', 'RB', 0.0), ('tonight', 'NN', 0.0)], [('we', 'PRP', 0), ('finally', 'RB', 0.0), ('hit', 'VBD', 0.0), ('1000', 'CD', 0), ('friends', 'NNS', 0), ('thanks', 'NNS', 0.125)], [('lolzz', 'JJ', 0), ('public', 'JJ', 0), ('script', 'NN', 0.0), ('wait', 'NN', 0.0), ('n', 'NN', 0.0), ('watch', 'NN', 0.0)], [('night', 'NN', 0.0)]]\n",
            "[array([0, 1, 0, 0]), array([1, 0, 0, 0]), array([0, 1, 0, 0]), array([0, 1, 0, 0]), array([1, 0, 0, 0])]\n",
            "TRAIN: [28318 14444 15946 ... 11043 21820 15291] TEST: [23742   966  6886 ... 25081 24593 26654]\n",
            "25600\n",
            "25600\n",
            "8000\n",
            "8000\n",
            "6400\n",
            "6400\n",
            "[[('geez', 'JJ', 0), ('15', 'CD', 0), ('years', 'NNS', 0.0), ('you', 'PRP', 0), ('d', 'VBP', 0), ('think', 'VBP', 0.0), ('they', 'PRP', 0), ('would', 'MD', 0), ('have', 'VB', 0.25), ('had', 'VBN', 0), ('that', 'IN', 0), ('checked', 'VBN', 0), ('out', 'RP', 0.0), ('years', 'NNS', 0.0), ('ago', 'RB', 0.0)], [('oh', 'NN', 0.0), ('that', 'WDT', 0), ('is', 'VBZ', 0), ('bad', 'JJ', 0), ('i', 'NN', 0.0), ('made', 'VBD', 0), ('that', 'IN', 0), ('mistake', 'NN', -0.625), ('once', 'RB', 0.0), ('before', 'RB', 0.0), ('but', 'CC', 0), ('still', 'RB', -0.125), ('managed', 'VBD', 0), ('to', 'TO', 0), ('pass', 'VB', 0.0), ('though', 'IN', 0), ('so', 'RB', 0.0), ('maybe', 'RB', 0.0), ('it', 'PRP', 0), ('is', 'VBZ', 0), ('not', 'RB', -0.625), ('as', 'RB', -0.125), ('bad', 'JJ', 0), ('as', 'IN', 0), ('he', 'PRP', 0), ('thinks', 'VBZ', 0)], [('leather', 'NN', 0.0), ('shoes', 'NNS', 0.0), ('and', 'CC', 0), ('bags', 'NNS', 0), ('are', 'VBP', 0), ('so', 'RB', 0.0), ('hard', 'JJ', 0), ('to', 'TO', 0), ('resist', 'VB', 0.0)], [('haha', 'NN', 0), ('my', 'PRP$', 0), ('rooommate', 'NN', 0), ('are', 'VBP', 0), ('watching', 'VBG', 0), ('that', 'IN', 0), ('i', 'NN', 0.0), ('have', 'VBP', 0.25), ('a', 'DT', 0), ('huge', 'JJ', 0), ('crush', 'NN', 0.0), ('on', 'IN', 0), ('landon', 'NN', 0)], [('i', 'NN', 0.0), ('should', 'MD', 0), ('post', 'VB', 0.0), ('some', 'DT', 0), ('photos', 'NN', 0), ('of', 'IN', 0), ('my', 'PRP$', 0), ('robots', 'NNS', 0), ('ok', 'VBP', 0), ('offline', 'NN', 0), ('for', 'IN', 0), ('4', 'CD', 0), ('hours', 'NNS', 0.0), ('now', 'RB', 0.0), ('ttfn', 'VBP', 0), ('oh', 'UH', 0), ('so', 'RB', 0.0), ('im', 'JJ', 0), ('confusion', 'NN', -0.375)]]\n",
            "[array([1, 0, 0, 0]), array([0, 0, 1, 0]), array([0, 1, 0, 0]), array([1, 0, 0, 0]), array([1, 0, 0, 0])]\n"
          ],
          "name": "stdout"
        }
      ]
    },
    {
      "cell_type": "code",
      "metadata": {
        "id": "8L46j8Lgv9lS"
      },
      "source": [
        "epochs = 30"
      ],
      "execution_count": 14,
      "outputs": []
    },
    {
      "cell_type": "code",
      "metadata": {
        "id": "euGeXqLVB56E"
      },
      "source": [
        "from keras import backend as K\r\n",
        "def recall(y_true, y_pred):\r\n",
        "        \"\"\"Recall metric.\r\n",
        "\r\n",
        "        Only computes a batch-wise average of recall.\r\n",
        "\r\n",
        "        Computes the recall, a metric for multi-label classification of\r\n",
        "        how many relevant items are selected.\r\n",
        "        \"\"\"\r\n",
        "        true_positives = K.sum(K.round(K.clip(y_true * y_pred, 0, 1)))\r\n",
        "        possible_positives = K.sum(K.round(K.clip(y_true, 0, 1)))\r\n",
        "        recalls = true_positives / (possible_positives + K.epsilon())\r\n",
        "        return recalls\r\n",
        "def precision(y_true, y_pred):\r\n",
        "        \"\"\"Precision metric.\r\n",
        "\r\n",
        "        Only computes a batch-wise average of precision.\r\n",
        "\r\n",
        "        Computes the precision, a metric for multi-label classification of\r\n",
        "        how many selected items are relevant.\r\n",
        "        \"\"\"\r\n",
        "        true_positives = K.sum(K.round(K.clip(y_true * y_pred, 0, 1)))\r\n",
        "        predicted_positives = K.sum(K.round(K.clip(y_pred, 0, 1)))\r\n",
        "        precisions = true_positives / (predicted_positives + K.epsilon())\r\n",
        "        return precisions\r\n",
        "def f1(y_true, y_pred):\r\n",
        "    precisions = precision(y_true, y_pred)\r\n",
        "    recalls = recall(y_true, y_pred)\r\n",
        "    return 2*((precisions*recalls)/(precisions+recalls+K.epsilon()))"
      ],
      "execution_count": 15,
      "outputs": []
    },
    {
      "cell_type": "code",
      "metadata": {
        "id": "sRdVKc6av2oZ",
        "colab": {
          "base_uri": "https://localhost:8080/"
        },
        "outputId": "4499b695-02d3-4097-b518-c26246fb5a27"
      },
      "source": [
        "model_sg_bi = tf.keras.Sequential()\r\n",
        "model_sg_bi.add(tf.keras.Input(shape=(Max_input_size,Embedding_size)))\r\n",
        "model_sg_bi.add(tf.keras.layers.Bidirectional(tf.keras.layers.LSTM(64),merge_mode='concat'))\r\n",
        "model_sg_bi.add(tf.keras.layers.Dropout(0.2))\r\n",
        "model_sg_bi.add(tf.keras.layers.Dense(64,activation='relu'))\r\n",
        "model_sg_bi.add(tf.keras.layers.Dropout(0.2))\r\n",
        "model_sg_bi.add(tf.keras.layers.Dense(4, activation='softmax'))\r\n",
        "model_sg_bi.compile(loss='categorical_crossentropy',optimizer='adam', \r\n",
        "                           metrics=['accuracy',f1,precision,recall])\r\n",
        "sg_train_gen=vec_gen(w2v_sg,vocab_sg,X_train,y_train,batch_size,Max_input_size,Embedding_size)\r\n",
        "sg_val_gen=vec_gen(w2v_sg,vocab_sg,X_val,y_val,batch_size,Max_input_size,Embedding_size)\r\n",
        "history_sg_bi = model_sg_bi.fit_generator(sg_train_gen,validation_data=sg_val_gen,validation_steps=int((len(X_val)/batch_size)+1),steps_per_epoch=int((len(X_train)/batch_size)+1),epochs=epochs)\r\n",
        "history = model_sg_bi.evaluate(x = vec_gen(w2v_sg,vocab_sg,X_test,y_test,batch_size,Max_input_size,Embedding_size),steps=int(len(y_test)/batch_size))\r\n",
        "print(history)\r\n",
        "result_table[2]=history[1]\r\n",
        "print(\"SG_BI\")"
      ],
      "execution_count": 16,
      "outputs": [
        {
          "output_type": "stream",
          "text": [
            "/usr/local/lib/python3.7/dist-packages/tensorflow/python/keras/engine/training.py:1844: UserWarning: `Model.fit_generator` is deprecated and will be removed in a future version. Please use `Model.fit`, which supports generators.\n",
            "  warnings.warn('`Model.fit_generator` is deprecated and '\n"
          ],
          "name": "stderr"
        },
        {
          "output_type": "stream",
          "text": [
            "Epoch 1/30\n",
            "52/52 [==============================] - 63s 1s/step - loss: 1.3057 - accuracy: 0.3441 - f1: 0.0104 - precision: 0.1665 - recall: 0.0056 - val_loss: 1.1767 - val_accuracy: 0.4225 - val_f1: 0.0355 - val_precision: 0.8006 - val_recall: 0.0182\n",
            "Epoch 2/30\n",
            "52/52 [==============================] - 57s 1s/step - loss: 1.1680 - accuracy: 0.4385 - f1: 0.1292 - precision: 0.6344 - recall: 0.0750 - val_loss: 1.1408 - val_accuracy: 0.4534 - val_f1: 0.2891 - val_precision: 0.5911 - val_recall: 0.1915\n",
            "Epoch 3/30\n",
            "52/52 [==============================] - 57s 1s/step - loss: 1.1308 - accuracy: 0.4733 - f1: 0.2711 - precision: 0.5988 - recall: 0.1763 - val_loss: 1.1368 - val_accuracy: 0.4674 - val_f1: 0.3326 - val_precision: 0.5721 - val_recall: 0.2346\n",
            "Epoch 4/30\n",
            "52/52 [==============================] - 60s 1s/step - loss: 1.1130 - accuracy: 0.4854 - f1: 0.3142 - precision: 0.6098 - recall: 0.2127 - val_loss: 1.1234 - val_accuracy: 0.4771 - val_f1: 0.3453 - val_precision: 0.5812 - val_recall: 0.2458\n",
            "Epoch 5/30\n",
            "52/52 [==============================] - 60s 1s/step - loss: 1.0999 - accuracy: 0.4974 - f1: 0.3354 - precision: 0.6197 - recall: 0.2309 - val_loss: 1.1194 - val_accuracy: 0.4828 - val_f1: 0.3557 - val_precision: 0.5799 - val_recall: 0.2568\n",
            "Epoch 6/30\n",
            "52/52 [==============================] - 60s 1s/step - loss: 1.0878 - accuracy: 0.5051 - f1: 0.3596 - precision: 0.6333 - recall: 0.2516 - val_loss: 1.1182 - val_accuracy: 0.4843 - val_f1: 0.3622 - val_precision: 0.5798 - val_recall: 0.2637\n",
            "Epoch 7/30\n",
            "52/52 [==============================] - 59s 1s/step - loss: 1.0742 - accuracy: 0.5182 - f1: 0.3779 - precision: 0.6370 - recall: 0.2691 - val_loss: 1.1178 - val_accuracy: 0.4865 - val_f1: 0.3774 - val_precision: 0.5762 - val_recall: 0.2809\n",
            "Epoch 8/30\n",
            "52/52 [==============================] - 60s 1s/step - loss: 1.0595 - accuracy: 0.5221 - f1: 0.3984 - precision: 0.6397 - recall: 0.2897 - val_loss: 1.1127 - val_accuracy: 0.4903 - val_f1: 0.3852 - val_precision: 0.5819 - val_recall: 0.2882\n",
            "Epoch 9/30\n",
            "52/52 [==============================] - ETA: 0s - loss: 1.0500 - accuracy: 0.5278 - f1: 0.4068 - precision: 0.6459 - recall: 0.2975Epoch 10/30\n",
            "52/52 [==============================] - 59s 1s/step - loss: 1.0455 - accuracy: 0.5352 - f1: 0.4154 - precision: 0.6512 - recall: 0.3056 - val_loss: 1.1083 - val_accuracy: 0.4935 - val_f1: 0.3996 - val_precision: 0.5804 - val_recall: 0.3049\n",
            "Epoch 11/30\n",
            "52/52 [==============================] - 60s 1s/step - loss: 1.0339 - accuracy: 0.5468 - f1: 0.4308 - precision: 0.6580 - recall: 0.3210 - val_loss: 1.0991 - val_accuracy: 0.5008 - val_f1: 0.3956 - val_precision: 0.5878 - val_recall: 0.2983\n",
            "Epoch 12/30\n",
            "52/52 [==============================] - 61s 1s/step - loss: 1.0237 - accuracy: 0.5456 - f1: 0.4413 - precision: 0.6628 - recall: 0.3312 - val_loss: 1.1018 - val_accuracy: 0.5003 - val_f1: 0.4041 - val_precision: 0.5864 - val_recall: 0.3085\n",
            "Epoch 13/30\n",
            "52/52 [==============================] - 59s 1s/step - loss: 1.0060 - accuracy: 0.5591 - f1: 0.4563 - precision: 0.6675 - recall: 0.3471 - val_loss: 1.1016 - val_accuracy: 0.4965 - val_f1: 0.4062 - val_precision: 0.5978 - val_recall: 0.3078\n",
            "Epoch 14/30\n",
            "52/52 [==============================] - 61s 1s/step - loss: 0.9917 - accuracy: 0.5674 - f1: 0.4710 - precision: 0.6759 - recall: 0.3620 - val_loss: 1.0998 - val_accuracy: 0.4966 - val_f1: 0.4123 - val_precision: 0.6004 - val_recall: 0.3142\n",
            "Epoch 15/30\n",
            "52/52 [==============================] - 59s 1s/step - loss: 0.9772 - accuracy: 0.5787 - f1: 0.4935 - precision: 0.6870 - recall: 0.3857 - val_loss: 1.1071 - val_accuracy: 0.4923 - val_f1: 0.4124 - val_precision: 0.5857 - val_recall: 0.3185\n",
            "Epoch 16/30\n",
            "52/52 [==============================] - 59s 1s/step - loss: 0.9632 - accuracy: 0.5839 - f1: 0.5081 - precision: 0.6892 - recall: 0.4027 - val_loss: 1.1004 - val_accuracy: 0.4988 - val_f1: 0.4206 - val_precision: 0.5945 - val_recall: 0.3255\n",
            "Epoch 17/30\n",
            "52/52 [==============================] - 57s 1s/step - loss: 0.9498 - accuracy: 0.5939 - f1: 0.5225 - precision: 0.6936 - recall: 0.4195 - val_loss: 1.1099 - val_accuracy: 0.5028 - val_f1: 0.4349 - val_precision: 0.5800 - val_recall: 0.3480\n",
            "Epoch 18/30\n",
            "52/52 [==============================] - 58s 1s/step - loss: 0.9463 - accuracy: 0.5974 - f1: 0.5315 - precision: 0.6930 - recall: 0.4313 - val_loss: 1.1166 - val_accuracy: 0.5005 - val_f1: 0.4361 - val_precision: 0.5762 - val_recall: 0.3509\n",
            "Epoch 19/30\n",
            "52/52 [==============================] - 58s 1s/step - loss: 0.9323 - accuracy: 0.6096 - f1: 0.5417 - precision: 0.7052 - recall: 0.4401 - val_loss: 1.1210 - val_accuracy: 0.4988 - val_f1: 0.4461 - val_precision: 0.5793 - val_recall: 0.3629\n",
            "Epoch 20/30\n",
            "52/52 [==============================] - 59s 1s/step - loss: 0.9170 - accuracy: 0.6141 - f1: 0.5563 - precision: 0.7058 - recall: 0.4593 - val_loss: 1.1355 - val_accuracy: 0.5028 - val_f1: 0.4525 - val_precision: 0.5735 - val_recall: 0.3738\n",
            "Epoch 21/30\n",
            "52/52 [==============================] - 60s 1s/step - loss: 0.9035 - accuracy: 0.6200 - f1: 0.5664 - precision: 0.7071 - recall: 0.4727 - val_loss: 1.1415 - val_accuracy: 0.4992 - val_f1: 0.4460 - val_precision: 0.5664 - val_recall: 0.3680\n",
            "Epoch 22/30\n",
            "52/52 [==============================] - 60s 1s/step - loss: 0.8865 - accuracy: 0.6305 - f1: 0.5783 - precision: 0.7162 - recall: 0.4851 - val_loss: 1.1424 - val_accuracy: 0.5063 - val_f1: 0.4544 - val_precision: 0.5746 - val_recall: 0.3758\n",
            "Epoch 23/30\n",
            "52/52 [==============================] - 60s 1s/step - loss: 0.8808 - accuracy: 0.6318 - f1: 0.5844 - precision: 0.7211 - recall: 0.4914 - val_loss: 1.1505 - val_accuracy: 0.5026 - val_f1: 0.4599 - val_precision: 0.5692 - val_recall: 0.3860\n",
            "Epoch 24/30\n",
            "52/52 [==============================] - ETA: 0s - loss: 0.8691 - accuracy: 0.6401 - f1: 0.5967 - precision: 0.7249 - recall: 0.5073Epoch 25/30\n",
            "52/52 [==============================] - 62s 1s/step - loss: 0.8524 - accuracy: 0.6446 - f1: 0.6014 - precision: 0.7286 - recall: 0.5124 - val_loss: 1.1896 - val_accuracy: 0.4938 - val_f1: 0.4523 - val_precision: 0.5575 - val_recall: 0.3806\n",
            "Epoch 26/30\n",
            "52/52 [==============================] - 58s 1s/step - loss: 0.8390 - accuracy: 0.6567 - f1: 0.6134 - precision: 0.7320 - recall: 0.5283 - val_loss: 1.2231 - val_accuracy: 0.5006 - val_f1: 0.4588 - val_precision: 0.5477 - val_recall: 0.3948\n",
            "Epoch 27/30\n",
            "52/52 [==============================] - 59s 1s/step - loss: 0.8239 - accuracy: 0.6640 - f1: 0.6271 - precision: 0.7446 - recall: 0.5419 - val_loss: 1.2518 - val_accuracy: 0.4912 - val_f1: 0.4529 - val_precision: 0.5316 - val_recall: 0.3946\n",
            "Epoch 28/30\n",
            "52/52 [==============================] - 59s 1s/step - loss: 0.8107 - accuracy: 0.6689 - f1: 0.6354 - precision: 0.7451 - recall: 0.5540 - val_loss: 1.2690 - val_accuracy: 0.4951 - val_f1: 0.4518 - val_precision: 0.5380 - val_recall: 0.3895\n",
            "Epoch 29/30\n",
            "52/52 [==============================] - 59s 1s/step - loss: 0.7947 - accuracy: 0.6769 - f1: 0.6423 - precision: 0.7502 - recall: 0.5617 - val_loss: 1.2674 - val_accuracy: 0.4912 - val_f1: 0.4449 - val_precision: 0.5314 - val_recall: 0.3828\n",
            "Epoch 30/30\n",
            "52/52 [==============================] - 59s 1s/step - loss: 0.7976 - accuracy: 0.6748 - f1: 0.6435 - precision: 0.7489 - recall: 0.5643 - val_loss: 1.3193 - val_accuracy: 0.4938 - val_f1: 0.4531 - val_precision: 0.5272 - val_recall: 0.3974\n",
            "16/16 [==============================] - 10s 684ms/step - loss: 1.2798 - accuracy: 0.5002 - f1: 0.4656 - precision: 0.5443 - recall: 0.4069\n",
            "[1.279758334159851, 0.500249981880188, 0.4655604362487793, 0.5442654490470886, 0.40687501430511475]\n",
            "SG_BI\n"
          ],
          "name": "stdout"
        }
      ]
    },
    {
      "cell_type": "code",
      "metadata": {
        "id": "Dg66ju0qwE_R",
        "colab": {
          "base_uri": "https://localhost:8080/"
        },
        "outputId": "6027f330-f9b9-4f75-a3c9-9cdf54728e99"
      },
      "source": [
        "model_cbow_bi = tf.keras.Sequential()\r\n",
        "model_cbow_bi.add(tf.keras.Input(shape=(Max_input_size,Embedding_size)))\r\n",
        "model_cbow_bi.add(tf.keras.layers.Bidirectional(tf.keras.layers.LSTM(64),merge_mode='concat'))\r\n",
        "model_cbow_bi.add(tf.keras.layers.Dropout(0.2))\r\n",
        "model_cbow_bi.add(tf.keras.layers.Dense(64,activation='relu'))\r\n",
        "model_cbow_bi.add(tf.keras.layers.Dropout(0.2))\r\n",
        "model_cbow_bi.add(tf.keras.layers.Dense(4, activation='softmax'))\r\n",
        "model_cbow_bi.compile(loss='categorical_crossentropy',optimizer='adam', \r\n",
        "                           metrics=['accuracy',f1,precision,recall])\r\n",
        "cbow_train_gen=vec_gen(w2v_cbow,vocab_cbow,X_train,y_train,batch_size,Max_input_size,Embedding_size)\r\n",
        "cbow_val_gen=vec_gen(w2v_cbow,vocab_cbow,X_val,y_val,batch_size,Max_input_size,Embedding_size)\r\n",
        "history_cbow_bi = model_cbow_bi.fit_generator(cbow_train_gen,validation_data=cbow_val_gen,validation_steps=int((len(X_val)/batch_size)+1),steps_per_epoch=int((len(X_train)/batch_size)+1),epochs=epochs)\r\n",
        "history = model_cbow_bi.evaluate(x = vec_gen(w2v_cbow,vocab_cbow,X_test,y_test,batch_size,Max_input_size,Embedding_size),steps=int(len(y_test)/batch_size))\r\n",
        "print(history)\r\n",
        "\r\n",
        "result_table[1]=history[1]\r\n",
        "print(\"CBOW_BI\")"
      ],
      "execution_count": 17,
      "outputs": [
        {
          "output_type": "stream",
          "text": [
            "/usr/local/lib/python3.7/dist-packages/tensorflow/python/keras/engine/training.py:1844: UserWarning: `Model.fit_generator` is deprecated and will be removed in a future version. Please use `Model.fit`, which supports generators.\n",
            "  warnings.warn('`Model.fit_generator` is deprecated and '\n"
          ],
          "name": "stderr"
        },
        {
          "output_type": "stream",
          "text": [
            "Epoch 1/30\n",
            "52/52 [==============================] - 64s 1s/step - loss: 1.2835 - accuracy: 0.3700 - f1: 0.0080 - precision: 0.1888 - recall: 0.0041 - val_loss: 1.1747 - val_accuracy: 0.4294 - val_f1: 0.0403 - val_precision: 0.6949 - val_recall: 0.0208\n",
            "Epoch 2/30\n",
            "52/52 [==============================] - 60s 1s/step - loss: 1.1657 - accuracy: 0.4415 - f1: 0.1364 - precision: 0.6259 - recall: 0.0788 - val_loss: 1.1456 - val_accuracy: 0.4569 - val_f1: 0.2616 - val_precision: 0.5919 - val_recall: 0.1680\n",
            "Epoch 3/30\n",
            "52/52 [==============================] - 59s 1s/step - loss: 1.1328 - accuracy: 0.4691 - f1: 0.2659 - precision: 0.6035 - recall: 0.1714 - val_loss: 1.1331 - val_accuracy: 0.4711 - val_f1: 0.3231 - val_precision: 0.5816 - val_recall: 0.2240\n",
            "Epoch 4/30\n",
            "52/52 [==============================] - 58s 1s/step - loss: 1.1090 - accuracy: 0.4884 - f1: 0.3086 - precision: 0.6188 - recall: 0.2064 - val_loss: 1.1247 - val_accuracy: 0.4731 - val_f1: 0.3516 - val_precision: 0.5710 - val_recall: 0.2543\n",
            "Epoch 5/30\n",
            "52/52 [==============================] - 59s 1s/step - loss: 1.0966 - accuracy: 0.4930 - f1: 0.3353 - precision: 0.6201 - recall: 0.2312 - val_loss: 1.1163 - val_accuracy: 0.4768 - val_f1: 0.3619 - val_precision: 0.5852 - val_recall: 0.2625\n",
            "Epoch 6/30\n",
            "52/52 [==============================] - 61s 1s/step - loss: 1.0857 - accuracy: 0.5041 - f1: 0.3576 - precision: 0.6354 - recall: 0.2497 - val_loss: 1.1171 - val_accuracy: 0.4800 - val_f1: 0.3694 - val_precision: 0.5801 - val_recall: 0.2714\n",
            "Epoch 7/30\n",
            "52/52 [==============================] - 62s 1s/step - loss: 1.0739 - accuracy: 0.5086 - f1: 0.3747 - precision: 0.6368 - recall: 0.2661 - val_loss: 1.1141 - val_accuracy: 0.4862 - val_f1: 0.3600 - val_precision: 0.5855 - val_recall: 0.2603\n",
            "Epoch 8/30\n",
            "52/52 [==============================] - ETA: 0s - loss: 1.0643 - accuracy: 0.5171 - f1: 0.3829 - precision: 0.6489 - recall: 0.2723Epoch 9/30\n",
            "52/52 [==============================] - 60s 1s/step - loss: 1.0551 - accuracy: 0.5272 - f1: 0.3916 - precision: 0.6527 - recall: 0.2805 - val_loss: 1.1100 - val_accuracy: 0.4883 - val_f1: 0.3749 - val_precision: 0.5855 - val_recall: 0.2762\n",
            "Epoch 10/30\n",
            "52/52 [==============================] - 59s 1s/step - loss: 1.0479 - accuracy: 0.5301 - f1: 0.3991 - precision: 0.6465 - recall: 0.2896 - val_loss: 1.1028 - val_accuracy: 0.4955 - val_f1: 0.3933 - val_precision: 0.5889 - val_recall: 0.2955\n",
            "Epoch 11/30\n",
            "52/52 [==============================] - 59s 1s/step - loss: 1.0406 - accuracy: 0.5391 - f1: 0.4186 - precision: 0.6591 - recall: 0.3075 - val_loss: 1.0979 - val_accuracy: 0.5023 - val_f1: 0.3967 - val_precision: 0.5989 - val_recall: 0.2969\n",
            "Epoch 12/30\n",
            "52/52 [==============================] - 60s 1s/step - loss: 1.0278 - accuracy: 0.5460 - f1: 0.4290 - precision: 0.6650 - recall: 0.3172 - val_loss: 1.0988 - val_accuracy: 0.4980 - val_f1: 0.4005 - val_precision: 0.6019 - val_recall: 0.3005\n",
            "Epoch 13/30\n",
            "52/52 [==============================] - 59s 1s/step - loss: 1.0172 - accuracy: 0.5516 - f1: 0.4434 - precision: 0.6713 - recall: 0.3316 - val_loss: 1.0969 - val_accuracy: 0.4980 - val_f1: 0.3889 - val_precision: 0.6043 - val_recall: 0.2869\n",
            "Epoch 14/30\n",
            "52/52 [==============================] - 59s 1s/step - loss: 1.0027 - accuracy: 0.5584 - f1: 0.4535 - precision: 0.6789 - recall: 0.3413 - val_loss: 1.0932 - val_accuracy: 0.5023 - val_f1: 0.3905 - val_precision: 0.6106 - val_recall: 0.2872\n",
            "Epoch 15/30\n",
            "52/52 [==============================] - 59s 1s/step - loss: 0.9874 - accuracy: 0.5678 - f1: 0.4721 - precision: 0.6885 - recall: 0.3602 - val_loss: 1.0976 - val_accuracy: 0.4969 - val_f1: 0.3971 - val_precision: 0.6066 - val_recall: 0.2954\n",
            "Epoch 16/30\n",
            "52/52 [==============================] - 58s 1s/step - loss: 0.9741 - accuracy: 0.5763 - f1: 0.4870 - precision: 0.6899 - recall: 0.3771 - val_loss: 1.0974 - val_accuracy: 0.5005 - val_f1: 0.4093 - val_precision: 0.6039 - val_recall: 0.3098\n",
            "Epoch 17/30\n",
            "52/52 [==============================] - 58s 1s/step - loss: 0.9633 - accuracy: 0.5832 - f1: 0.5007 - precision: 0.6911 - recall: 0.3931 - val_loss: 1.1000 - val_accuracy: 0.5005 - val_f1: 0.4155 - val_precision: 0.6015 - val_recall: 0.3175\n",
            "Epoch 18/30\n",
            "52/52 [==============================] - 59s 1s/step - loss: 0.9491 - accuracy: 0.5932 - f1: 0.5164 - precision: 0.6971 - recall: 0.4108 - val_loss: 1.1042 - val_accuracy: 0.4982 - val_f1: 0.4250 - val_precision: 0.5906 - val_recall: 0.3322\n",
            "Epoch 19/30\n",
            "52/52 [==============================] - 59s 1s/step - loss: 0.9339 - accuracy: 0.6060 - f1: 0.5305 - precision: 0.7026 - recall: 0.4266 - val_loss: 1.1076 - val_accuracy: 0.4942 - val_f1: 0.4191 - val_precision: 0.5912 - val_recall: 0.3248\n",
            "Epoch 20/30\n",
            "52/52 [==============================] - 58s 1s/step - loss: 0.9228 - accuracy: 0.6103 - f1: 0.5420 - precision: 0.7081 - recall: 0.4396 - val_loss: 1.1136 - val_accuracy: 0.5031 - val_f1: 0.4418 - val_precision: 0.5868 - val_recall: 0.3545\n",
            "Epoch 21/30\n",
            "52/52 [==============================] - 59s 1s/step - loss: 0.9118 - accuracy: 0.6133 - f1: 0.5512 - precision: 0.7077 - recall: 0.4518 - val_loss: 1.1234 - val_accuracy: 0.5020 - val_f1: 0.4409 - val_precision: 0.5806 - val_recall: 0.3555\n",
            "Epoch 22/30\n",
            "52/52 [==============================] - 58s 1s/step - loss: 0.8985 - accuracy: 0.6193 - f1: 0.5630 - precision: 0.7108 - recall: 0.4665 - val_loss: 1.1304 - val_accuracy: 0.5068 - val_f1: 0.4526 - val_precision: 0.5779 - val_recall: 0.3722\n",
            "Epoch 23/30\n",
            "52/52 [==============================] - 60s 1s/step - loss: 0.8816 - accuracy: 0.6275 - f1: 0.5744 - precision: 0.7140 - recall: 0.4809 - val_loss: 1.1433 - val_accuracy: 0.5137 - val_f1: 0.4615 - val_precision: 0.5811 - val_recall: 0.3829\n",
            "Epoch 24/30\n",
            "52/52 [==============================] - 60s 1s/step - loss: 0.8725 - accuracy: 0.6337 - f1: 0.5847 - precision: 0.7235 - recall: 0.4909 - val_loss: 1.1602 - val_accuracy: 0.5157 - val_f1: 0.4623 - val_precision: 0.5720 - val_recall: 0.3880\n",
            "Epoch 25/30\n",
            "52/52 [==============================] - 59s 1s/step - loss: 0.8667 - accuracy: 0.6367 - f1: 0.5887 - precision: 0.7191 - recall: 0.4987 - val_loss: 1.1860 - val_accuracy: 0.5138 - val_f1: 0.4689 - val_precision: 0.5702 - val_recall: 0.3983\n",
            "Epoch 26/30\n",
            "52/52 [==============================] - 60s 1s/step - loss: 0.8473 - accuracy: 0.6467 - f1: 0.6031 - precision: 0.7283 - recall: 0.5151 - val_loss: 1.1914 - val_accuracy: 0.5131 - val_f1: 0.4705 - val_precision: 0.5688 - val_recall: 0.4012\n",
            "Epoch 27/30\n",
            "52/52 [==============================] - 59s 1s/step - loss: 0.8293 - accuracy: 0.6548 - f1: 0.6108 - precision: 0.7308 - recall: 0.5250 - val_loss: 1.2223 - val_accuracy: 0.5055 - val_f1: 0.4644 - val_precision: 0.5593 - val_recall: 0.3972\n",
            "Epoch 28/30\n",
            "52/52 [==============================] - 59s 1s/step - loss: 0.8074 - accuracy: 0.6646 - f1: 0.6263 - precision: 0.7405 - recall: 0.5430 - val_loss: 1.2321 - val_accuracy: 0.5017 - val_f1: 0.4657 - val_precision: 0.5578 - val_recall: 0.3998\n",
            "Epoch 29/30\n",
            "52/52 [==============================] - 59s 1s/step - loss: 0.7983 - accuracy: 0.6682 - f1: 0.6328 - precision: 0.7500 - recall: 0.5478 - val_loss: 1.2470 - val_accuracy: 0.5018 - val_f1: 0.4655 - val_precision: 0.5573 - val_recall: 0.3998\n",
            "Epoch 30/30\n",
            "52/52 [==============================] - 60s 1s/step - loss: 0.7799 - accuracy: 0.6756 - f1: 0.6425 - precision: 0.7493 - recall: 0.5626 - val_loss: 1.2741 - val_accuracy: 0.4975 - val_f1: 0.4632 - val_precision: 0.5423 - val_recall: 0.4045\n",
            "16/16 [==============================] - 11s 695ms/step - loss: 1.2480 - accuracy: 0.5119 - f1: 0.4756 - precision: 0.5587 - recall: 0.4142\n",
            "[1.2480056285858154, 0.5118749737739563, 0.47560209035873413, 0.5586665272712708, 0.414249986410141]\n",
            "CBOW_BI\n"
          ],
          "name": "stdout"
        }
      ]
    },
    {
      "cell_type": "code",
      "metadata": {
        "id": "hHMK-RBywE7M",
        "colab": {
          "base_uri": "https://localhost:8080/"
        },
        "outputId": "e610f0ec-773f-47ad-ec0f-2410cda6356b"
      },
      "source": [
        "model_glove_bi = tf.keras.Sequential()\r\n",
        "model_glove_bi.add(tf.keras.Input(shape=(Max_input_size,Embedding_size)))\r\n",
        "model_glove_bi.add(tf.keras.layers.Bidirectional(tf.keras.layers.LSTM(64),merge_mode='concat'))\r\n",
        "model_glove_bi.add(tf.keras.layers.Dropout(0.2))\r\n",
        "model_glove_bi.add(tf.keras.layers.Dense(64,activation='relu'))\r\n",
        "model_glove_bi.add(tf.keras.layers.Dropout(0.2))\r\n",
        "model_glove_bi.add(tf.keras.layers.Dense(4, activation='softmax'))\r\n",
        "model_glove_bi.compile(loss='categorical_crossentropy',optimizer='adam', \r\n",
        "                           metrics=['accuracy',f1,precision,recall])\r\n",
        "glove_train_gen=glove_gen(vocab_glove,X_train,y_train,batch_size,Max_input_size,Embedding_size)\r\n",
        "glove_val_gen=glove_gen(vocab_glove,X_val,y_val,batch_size,Max_input_size,Embedding_size)\r\n",
        "history_glove_bi = model_glove_bi.fit_generator(glove_train_gen,validation_data=glove_val_gen,validation_steps=int((len(X_val)/batch_size)+1),steps_per_epoch=int((len(X_train)/batch_size)+1),epochs=epochs)\r\n",
        "history = model_glove_bi.evaluate(x = glove_gen(vocab_glove,X_test,y_test,batch_size,Max_input_size,Embedding_size),steps=int(len(y_test)/batch_size))\r\n",
        "print(history)\r\n",
        "\r\n",
        "result_table[0]=history[1]\r\n",
        "print(\"GLOVE_BI\")"
      ],
      "execution_count": 18,
      "outputs": [
        {
          "output_type": "stream",
          "text": [
            "/usr/local/lib/python3.7/dist-packages/tensorflow/python/keras/engine/training.py:1844: UserWarning: `Model.fit_generator` is deprecated and will be removed in a future version. Please use `Model.fit`, which supports generators.\n",
            "  warnings.warn('`Model.fit_generator` is deprecated and '\n"
          ],
          "name": "stderr"
        },
        {
          "output_type": "stream",
          "text": [
            "Epoch 1/30\n",
            "52/52 [==============================] - 34s 589ms/step - loss: 1.2516 - accuracy: 0.3934 - f1: 0.0854 - precision: 0.3606 - recall: 0.0541 - val_loss: 1.0727 - val_accuracy: 0.5229 - val_f1: 0.4473 - val_precision: 0.6051 - val_recall: 0.3549\n",
            "Epoch 2/30\n",
            "52/52 [==============================] - 29s 567ms/step - loss: 1.0500 - accuracy: 0.5488 - f1: 0.4607 - precision: 0.6358 - recall: 0.3617 - val_loss: 1.0216 - val_accuracy: 0.5540 - val_f1: 0.4934 - val_precision: 0.6351 - val_recall: 0.4035\n",
            "Epoch 3/30\n",
            "52/52 [==============================] - 29s 567ms/step - loss: 1.0081 - accuracy: 0.5724 - f1: 0.5064 - precision: 0.6532 - recall: 0.4139 - val_loss: 1.0136 - val_accuracy: 0.5558 - val_f1: 0.4911 - val_precision: 0.6429 - val_recall: 0.3974\n",
            "Epoch 4/30\n",
            "52/52 [==============================] - 29s 565ms/step - loss: 0.9789 - accuracy: 0.5857 - f1: 0.5264 - precision: 0.6690 - recall: 0.4346 - val_loss: 0.9894 - val_accuracy: 0.5672 - val_f1: 0.5001 - val_precision: 0.6533 - val_recall: 0.4052\n",
            "Epoch 5/30\n",
            "52/52 [==============================] - 29s 565ms/step - loss: 0.9517 - accuracy: 0.5984 - f1: 0.5470 - precision: 0.6840 - recall: 0.4562 - val_loss: 0.9902 - val_accuracy: 0.5645 - val_f1: 0.5121 - val_precision: 0.6368 - val_recall: 0.4283\n",
            "Epoch 6/30\n",
            "52/52 [==============================] - 30s 569ms/step - loss: 0.9338 - accuracy: 0.6074 - f1: 0.5603 - precision: 0.6875 - recall: 0.4733 - val_loss: 1.0005 - val_accuracy: 0.5618 - val_f1: 0.5185 - val_precision: 0.6235 - val_recall: 0.4440\n",
            "Epoch 7/30\n",
            "52/52 [==============================] - 32s 624ms/step - loss: 0.9164 - accuracy: 0.6165 - f1: 0.5691 - precision: 0.6925 - recall: 0.4833 - val_loss: 0.9978 - val_accuracy: 0.5662 - val_f1: 0.5196 - val_precision: 0.6279 - val_recall: 0.4434\n",
            "Epoch 8/30\n",
            "52/52 [==============================] - 29s 564ms/step - loss: 0.8900 - accuracy: 0.6319 - f1: 0.5889 - precision: 0.7077 - recall: 0.5045 - val_loss: 0.9963 - val_accuracy: 0.5675 - val_f1: 0.5267 - val_precision: 0.6308 - val_recall: 0.4523\n",
            "Epoch 9/30\n",
            "52/52 [==============================] - 29s 565ms/step - loss: 0.8761 - accuracy: 0.6384 - f1: 0.5960 - precision: 0.7114 - recall: 0.5131 - val_loss: 1.0115 - val_accuracy: 0.5628 - val_f1: 0.5096 - val_precision: 0.6221 - val_recall: 0.4317\n",
            "Epoch 10/30\n",
            "52/52 [==============================] - 29s 568ms/step - loss: 0.8571 - accuracy: 0.6448 - f1: 0.6031 - precision: 0.7216 - recall: 0.5186 - val_loss: 1.0106 - val_accuracy: 0.5651 - val_f1: 0.5176 - val_precision: 0.6257 - val_recall: 0.4414\n",
            "Epoch 11/30\n",
            "52/52 [==============================] - 29s 565ms/step - loss: 0.8447 - accuracy: 0.6519 - f1: 0.6152 - precision: 0.7271 - recall: 0.5338 - val_loss: 1.0157 - val_accuracy: 0.5592 - val_f1: 0.5117 - val_precision: 0.6271 - val_recall: 0.4323\n",
            "Epoch 12/30\n",
            "52/52 [==============================] - 30s 569ms/step - loss: 0.8312 - accuracy: 0.6578 - f1: 0.6230 - precision: 0.7256 - recall: 0.5465 - val_loss: 1.0165 - val_accuracy: 0.5574 - val_f1: 0.5059 - val_precision: 0.6254 - val_recall: 0.4248\n",
            "Epoch 13/30\n",
            "52/52 [==============================] - 29s 568ms/step - loss: 0.8206 - accuracy: 0.6684 - f1: 0.6323 - precision: 0.7348 - recall: 0.5555 - val_loss: 1.0774 - val_accuracy: 0.5492 - val_f1: 0.5156 - val_precision: 0.5957 - val_recall: 0.4546\n",
            "Epoch 14/30\n",
            "52/52 [==============================] - 29s 562ms/step - loss: 0.7719 - accuracy: 0.6887 - f1: 0.6637 - precision: 0.7506 - recall: 0.5953 - val_loss: 1.1000 - val_accuracy: 0.5483 - val_f1: 0.5218 - val_precision: 0.5895 - val_recall: 0.4682\n",
            "Epoch 15/30\n",
            "52/52 [==============================] - 29s 566ms/step - loss: 0.7446 - accuracy: 0.7028 - f1: 0.6814 - precision: 0.7577 - recall: 0.6193 - val_loss: 1.1237 - val_accuracy: 0.5429 - val_f1: 0.5146 - val_precision: 0.5808 - val_recall: 0.4620\n",
            "Epoch 16/30\n",
            "52/52 [==============================] - 29s 564ms/step - loss: 0.7425 - accuracy: 0.7008 - f1: 0.6832 - precision: 0.7577 - recall: 0.6223 - val_loss: 1.1733 - val_accuracy: 0.5418 - val_f1: 0.5182 - val_precision: 0.5752 - val_recall: 0.4715\n",
            "Epoch 17/30\n",
            "52/52 [==============================] - 29s 566ms/step - loss: 0.7100 - accuracy: 0.7152 - f1: 0.7005 - precision: 0.7713 - recall: 0.6418 - val_loss: 1.2743 - val_accuracy: 0.5312 - val_f1: 0.5168 - val_precision: 0.5625 - val_recall: 0.4780\n",
            "Epoch 18/30\n",
            "52/52 [==============================] - 29s 566ms/step - loss: 0.6789 - accuracy: 0.7333 - f1: 0.7196 - precision: 0.7841 - recall: 0.6651 - val_loss: 1.3395 - val_accuracy: 0.5337 - val_f1: 0.5224 - val_precision: 0.5585 - val_recall: 0.4908\n",
            "Epoch 19/30\n",
            "52/52 [==============================] - 29s 568ms/step - loss: 0.6604 - accuracy: 0.7390 - f1: 0.7268 - precision: 0.7850 - recall: 0.6769 - val_loss: 1.3922 - val_accuracy: 0.5348 - val_f1: 0.5244 - val_precision: 0.5574 - val_recall: 0.4952\n",
            "Epoch 20/30\n",
            "52/52 [==============================] - 29s 562ms/step - loss: 0.6487 - accuracy: 0.7432 - f1: 0.7344 - precision: 0.7877 - recall: 0.6882 - val_loss: 1.3084 - val_accuracy: 0.5363 - val_f1: 0.5244 - val_precision: 0.5641 - val_recall: 0.4900\n",
            "Epoch 21/30\n",
            "52/52 [==============================] - 29s 566ms/step - loss: 0.6471 - accuracy: 0.7472 - f1: 0.7384 - precision: 0.7932 - recall: 0.6911 - val_loss: 1.3952 - val_accuracy: 0.5265 - val_f1: 0.5146 - val_precision: 0.5503 - val_recall: 0.4832\n",
            "Epoch 22/30\n",
            "52/52 [==============================] - 29s 567ms/step - loss: 0.6104 - accuracy: 0.7583 - f1: 0.7503 - precision: 0.8008 - recall: 0.7061 - val_loss: 1.4428 - val_accuracy: 0.5209 - val_f1: 0.5055 - val_precision: 0.5382 - val_recall: 0.4766\n",
            "Epoch 23/30\n",
            "52/52 [==============================] - 29s 568ms/step - loss: 0.6257 - accuracy: 0.7511 - f1: 0.7405 - precision: 0.7951 - recall: 0.6935 - val_loss: 1.4461 - val_accuracy: 0.5366 - val_f1: 0.5252 - val_precision: 0.5517 - val_recall: 0.5012\n",
            "Epoch 24/30\n",
            "52/52 [==============================] - 30s 570ms/step - loss: 0.6155 - accuracy: 0.7565 - f1: 0.7492 - precision: 0.7989 - recall: 0.7056 - val_loss: 1.4889 - val_accuracy: 0.5294 - val_f1: 0.5181 - val_precision: 0.5456 - val_recall: 0.4932\n",
            "Epoch 25/30\n",
            "52/52 [==============================] - 30s 571ms/step - loss: 0.5672 - accuracy: 0.7791 - f1: 0.7723 - precision: 0.8154 - recall: 0.7337 - val_loss: 1.5591 - val_accuracy: 0.5246 - val_f1: 0.5175 - val_precision: 0.5468 - val_recall: 0.4912\n",
            "Epoch 26/30\n",
            "52/52 [==============================] - 29s 568ms/step - loss: 0.5326 - accuracy: 0.7920 - f1: 0.7873 - precision: 0.8288 - recall: 0.7499 - val_loss: 1.5322 - val_accuracy: 0.5226 - val_f1: 0.5142 - val_precision: 0.5439 - val_recall: 0.4877\n",
            "Epoch 27/30\n",
            "52/52 [==============================] - 30s 569ms/step - loss: 0.5166 - accuracy: 0.8034 - f1: 0.7979 - precision: 0.8375 - recall: 0.7623 - val_loss: 1.5266 - val_accuracy: 0.5203 - val_f1: 0.5127 - val_precision: 0.5378 - val_recall: 0.4898\n",
            "Epoch 28/30\n",
            "52/52 [==============================] - 29s 566ms/step - loss: 0.5163 - accuracy: 0.8011 - f1: 0.7971 - precision: 0.8358 - recall: 0.7622 - val_loss: 1.4881 - val_accuracy: 0.5166 - val_f1: 0.5067 - val_precision: 0.5406 - val_recall: 0.4769\n",
            "Epoch 29/30\n",
            "52/52 [==============================] - 29s 567ms/step - loss: 0.4835 - accuracy: 0.8142 - f1: 0.8089 - precision: 0.8451 - recall: 0.7759 - val_loss: 1.5640 - val_accuracy: 0.5100 - val_f1: 0.5042 - val_precision: 0.5335 - val_recall: 0.4780\n",
            "Epoch 30/30\n",
            "52/52 [==============================] - 29s 564ms/step - loss: 0.4779 - accuracy: 0.8142 - f1: 0.8111 - precision: 0.8464 - recall: 0.7788 - val_loss: 1.5762 - val_accuracy: 0.5138 - val_f1: 0.5045 - val_precision: 0.5354 - val_recall: 0.4771\n",
            "16/16 [==============================] - 4s 249ms/step - loss: 1.5544 - accuracy: 0.5239 - f1: 0.5115 - precision: 0.5416 - recall: 0.4846\n",
            "[1.55438232421875, 0.5238749980926514, 0.5115007758140564, 0.5416340827941895, 0.484624981880188]\n",
            "GLOVE_BI\n"
          ],
          "name": "stdout"
        }
      ]
    },
    {
      "cell_type": "code",
      "metadata": {
        "id": "1UrOK83UwE4Z",
        "colab": {
          "base_uri": "https://localhost:8080/"
        },
        "outputId": "d4df78ed-640e-49a9-e67a-49c50a196db0"
      },
      "source": [
        "result_table[0]=history[1]\r\n",
        "print(\"GLOVE_BI\")"
      ],
      "execution_count": 19,
      "outputs": [
        {
          "output_type": "stream",
          "text": [
            "GLOVE_BI\n"
          ],
          "name": "stdout"
        }
      ]
    },
    {
      "cell_type": "code",
      "metadata": {
        "id": "-CGeJPeZwY3d",
        "colab": {
          "base_uri": "https://localhost:8080/"
        },
        "outputId": "57af552c-2ee1-433f-84ee-34c2391ac87a"
      },
      "source": [
        "#print(\"\\tLstm\\t\\t\\tBiLstm\\t\\t\\tRnn\")\r\n",
        "print(\"glove\",result_table[:1])\r\n",
        "print(\"cbow\",result_table[1:2])\r\n",
        "print(\"sg\",result_table[2:3])\r\n",
        "# print(history_sg_bi.history)\r\n",
        "# plt.title(\"Skip-Gram + Bi-LSTM accuracy, loss vs epochs Graph\")\r\n",
        "# plt.plot(history_sg_bi.history['loss'],c='b',label='loss')\r\n",
        "# plt.plot(history_sg_bi.history['accuracy'],c='r',label='accuracy')\r\n",
        "# plt.xlabel('epochs')\r\n",
        "# plt.legend()\r\n",
        "# # plt.yticks()\r\n",
        "# plt.show()\r\n",
        "# plt.title(\"GloVe + Bi-LSTM accuracy, loss vs epochs Graph\")\r\n",
        "# plt.plot(history_glove_bi.history['loss'],c='b',label='loss')\r\n",
        "# plt.plot(history_glove_bi.history['accuracy'],c='r',label='accuracy')\r\n",
        "# plt.xlabel('epochs')\r\n",
        "# plt.legend()\r\n",
        "# # plt.yticks()\r\n",
        "# plt.show()"
      ],
      "execution_count": 20,
      "outputs": [
        {
          "output_type": "stream",
          "text": [
            "glove [0.5238749980926514]\n",
            "cbow [0.5118749737739563]\n",
            "sg [0.500249981880188]\n"
          ],
          "name": "stdout"
        }
      ]
    },
    {
      "cell_type": "code",
      "metadata": {
        "id": "o6YWN3P2wba7"
      },
      "source": [
        ""
      ],
      "execution_count": null,
      "outputs": []
    }
  ]
}