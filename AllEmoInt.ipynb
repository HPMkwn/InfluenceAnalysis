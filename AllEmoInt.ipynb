{
  "nbformat": 4,
  "nbformat_minor": 0,
  "metadata": {
    "colab": {
      "name": "AllEmoInt.ipynb",
      "provenance": [],
      "include_colab_link": true
    },
    "kernelspec": {
      "name": "python3",
      "display_name": "Python 3"
    },
    "accelerator": "GPU"
  },
  "cells": [
    {
      "cell_type": "markdown",
      "metadata": {
        "id": "view-in-github",
        "colab_type": "text"
      },
      "source": [
        "<a href=\"https://colab.research.google.com/github/harrymkwn/InfluenceAnalysis/blob/master/AllEmoInt.ipynb\" target=\"_parent\"><img src=\"https://colab.research.google.com/assets/colab-badge.svg\" alt=\"Open In Colab\"/></a>"
      ]
    },
    {
      "cell_type": "code",
      "metadata": {
        "id": "YkuKKcIUmM27",
        "colab": {
          "base_uri": "https://localhost:8080/"
        },
        "outputId": "8e044f9e-09b6-49cc-f6f3-7e47ae5150d6"
      },
      "source": [
        "import pandas as pd\n",
        "import numpy as np\n",
        "import tensorflow as tf\n",
        "from gensim.models import Word2Vec\n",
        "import matplotlib.pyplot as plt\n",
        "from sklearn.linear_model import LogisticRegression\n",
        "from sklearn.multiclass import OneVsRestClassifier\n",
        "from gensim.models import KeyedVectors\n",
        "from sklearn.model_selection import train_test_split\n",
        "from google.colab import  drive\n",
        "drive.mount('/content/drive')\n",
        "import nltk\n",
        "from nltk.corpus import stopwords\n",
        "nltk.download('stopwords')\n",
        "device_name = tf.test.gpu_device_name()\n",
        "print(device_name)\n",
        "df = pd.read_csv('/content/drive/My Drive/IA/Clean_Tweets_data.csv')\n",
        "def remove_stop(text):\n",
        "  sw = stopwords.words(\"english\")\n",
        "  sw.append('br')\n",
        "  clean = \" \".join([x for x in text.split() if x not in sw])\n",
        "  return clean\n",
        "df['Tweet'] = df['Tweet'].apply(lambda tweet : remove_stop(tweet))"
      ],
      "execution_count": null,
      "outputs": [
        {
          "output_type": "stream",
          "text": [
            "Drive already mounted at /content/drive; to attempt to forcibly remount, call drive.mount(\"/content/drive\", force_remount=True).\n",
            "[nltk_data] Downloading package stopwords to /root/nltk_data...\n",
            "[nltk_data]   Package stopwords is already up-to-date!\n",
            "/device:GPU:0\n"
          ],
          "name": "stdout"
        }
      ]
    },
    {
      "cell_type": "code",
      "metadata": {
        "id": "7yV6_xYSnZHt"
      },
      "source": [
        "category_dict = {\"anger\":[1,0,0,0],\"sadness\":[0,1,0,0],\"fear\":[0,0,1,0],\"joy\":[0,0,0,1]}\n",
        "data_tweet = [x.lower().split() for x in df['Tweet']]\n",
        "data_cat = np.array([category_dict[x] for x in df['Emotion']])"
      ],
      "execution_count": null,
      "outputs": []
    },
    {
      "cell_type": "code",
      "metadata": {
        "id": "4PmA3_Ihp-Ao",
        "colab": {
          "base_uri": "https://localhost:8080/"
        },
        "outputId": "92b33723-3dd4-4a8f-bc2c-92f9c3e9955b"
      },
      "source": [
        "print(data_tweet[:5])\n",
        "print(data_cat[:5])"
      ],
      "execution_count": null,
      "outputs": [
        {
          "output_type": "stream",
          "text": [
            "[['like', 'i', 'cannot', '12', 'hours', 'worth', 'standing', 'calorie', 'burning', '3', 'hours', 'loudly', 'crying', 'faceloudly', 'crying', 'faceloudly', 'crying', 'faceloudly', 'crying', 'face', '1stworldprobs4vs'], ['darkest', 'nights', 'bright', 'solemn', 'faces', 'lights', 'smile', 'believe', 'i'], ['true', 'depression', 'fans', 'get', 'one', 'face', 'tears', 'joyface', 'tears', 'joy'], ['awe', 'yay', 'thank', 'good', 'i', 'worried'], ['on', 'way', 'rejoicing', 'pulpit', 'park', 'city', 'baptist', 'church', 'surrey', 'bc', 'midweek', 'service']]\n",
            "[[1 0 0 0]\n",
            " [0 1 0 0]\n",
            " [0 1 0 0]\n",
            " [0 0 1 0]\n",
            " [0 0 0 1]]\n"
          ],
          "name": "stdout"
        }
      ]
    },
    {
      "cell_type": "code",
      "metadata": {
        "id": "5mIV-pI5C44j"
      },
      "source": [
        "# Parameters\n",
        "Min_count = 0\n",
        "Embedding_size = 100\n",
        "Window_size = 5\n",
        "Negative_sampling = 00"
      ],
      "execution_count": null,
      "outputs": []
    },
    {
      "cell_type": "code",
      "metadata": {
        "id": "uUSBfiE0nTVv",
        "colab": {
          "base_uri": "https://localhost:8080/"
        },
        "outputId": "ec464d9f-fb33-4ff9-80c4-af180914f9dd"
      },
      "source": [
        "w2v_sg = Word2Vec(min_count=Min_count,\n",
        "                     window=Window_size,\n",
        "                     size=Embedding_size,\n",
        "                     negative=Negative_sampling,sg=1)\n",
        "w2v_sg.build_vocab(data_tweet)\n",
        "w2v_sg.train(data_tweet, total_examples=w2v_sg.corpus_count, epochs=5)\n",
        "w2v_cbow = Word2Vec(min_count=Min_count,\n",
        "                     window=Window_size,\n",
        "                     size=Embedding_size,\n",
        "                     negative=Negative_sampling,sg=0)\n",
        "w2v_cbow.build_vocab(data_tweet)\n",
        "w2v_cbow.train(data_tweet, total_examples=w2v_cbow.corpus_count, epochs=5)"
      ],
      "execution_count": null,
      "outputs": [
        {
          "output_type": "execute_result",
          "data": {
            "text/plain": [
              "(350721, 369570)"
            ]
          },
          "metadata": {
            "tags": []
          },
          "execution_count": 5
        }
      ]
    },
    {
      "cell_type": "code",
      "metadata": {
        "id": "gVzquoxb6FQJ"
      },
      "source": [
        "vocab_sg = w2v_sg.wv.vocab\n",
        "vocab_sg = [x for x in vocab_sg]\n",
        "vocab_cbow = w2v_cbow.wv.vocab\n",
        "vocab_cbow = [x for x in vocab_cbow] \n",
        "vocab_glove = {}\n",
        "with open(\"/content/drive/My Drive/InfluenceAnalysis/glove/glove.twitter.27B.100d.txt\", 'r', encoding=\"utf-8\") as f:\n",
        "  for line in f:\n",
        "      values = line.split()\n",
        "      word = values[0]\n",
        "      vector = np.asarray(values[1:], \"float32\")\n",
        "      vocab_glove[word] = vector"
      ],
      "execution_count": null,
      "outputs": []
    },
    {
      "cell_type": "code",
      "metadata": {
        "id": "VJOMq2aw343d"
      },
      "source": [
        "data_tweet_vec_sg = np.array([np.array([w2v_sg.wv.get_vector(i) for i in x if i in vocab_sg]) for x in data_tweet])\n",
        "data_tweet_vec_cbow = np.array([np.array([w2v_cbow.wv.get_vector(i) for i in x if i in vocab_cbow]) for x in data_tweet])\n",
        "data_tweet_vec_glove = np.array([np.array([vocab_glove[i] for i in x if i in vocab_glove.keys()]) for x in data_tweet])\n",
        "Max_input_size_glove = max([len(x) for x in data_tweet_vec_glove])\n",
        "Max_input_size=max([len(x) for x in data_tweet_vec_sg]+[len(x) for x in data_tweet_vec_cbow])"
      ],
      "execution_count": null,
      "outputs": []
    },
    {
      "cell_type": "code",
      "metadata": {
        "id": "PmqO_eUQAien"
      },
      "source": [
        "data_tweet_vec_sg = np.array([np.pad(x.flatten(),(0,Max_input_size*Embedding_size-len(x.flatten()))).reshape(Max_input_size,Embedding_size) for x in data_tweet_vec_sg])\n",
        "data_tweet_vec_cbow = np.array([np.pad(x.flatten(),(0,Max_input_size*Embedding_size-len(x.flatten()))).reshape(Max_input_size,Embedding_size) for x in data_tweet_vec_cbow])\n",
        "data_tweet_vec_glove = np.array([np.pad(x.flatten(),(0,Max_input_size_glove*100-len(x.flatten()))).reshape(Max_input_size_glove,100) for x in data_tweet_vec_glove])\n"
      ],
      "execution_count": null,
      "outputs": []
    },
    {
      "cell_type": "code",
      "metadata": {
        "id": "-Fue2npdFINi"
      },
      "source": [
        "X_train_sg, X_test_sg, y_train_sg, y_test_sg = train_test_split(data_tweet_vec_sg, data_cat, test_size=0.30, random_state=42)\n",
        "X_train_cbow, X_test_cbow, y_train_cbow, y_test_cbow = train_test_split(data_tweet_vec_cbow, data_cat, test_size=0.30, random_state=42)\n",
        "X_train_glove, X_test_glove, y_train_glove, y_test_glove = train_test_split(data_tweet_vec_glove, data_cat, test_size=0.30, random_state=42)"
      ],
      "execution_count": null,
      "outputs": []
    },
    {
      "cell_type": "code",
      "metadata": {
        "id": "FOpd3vUQf2iR"
      },
      "source": [
        "result_table = []"
      ],
      "execution_count": null,
      "outputs": []
    },
    {
      "cell_type": "code",
      "metadata": {
        "id": "1GfgXfAFlD1J",
        "colab": {
          "base_uri": "https://localhost:8080/"
        },
        "outputId": "e1facade-1974-4d41-ea0c-e6534a78d84b"
      },
      "source": [
        "model_sg = tf.keras.Sequential()\n",
        "model_sg.add(tf.keras.Input(shape=(Max_input_size,Embedding_size)))\n",
        "model_sg.add(tf.keras.layers.LSTM(50))\n",
        "model_sg.add(tf.keras.layers.Dense(4, activation='softmax'))\n",
        "model_sg.compile(loss='categorical_crossentropy',optimizer='adam', \n",
        "                           metrics=['accuracy'])\n",
        "history = model_sg.fit(X_train_sg,y_train_sg,epochs=20,validation_split=0.2)\n",
        "history = model_sg.evaluate(X_test_sg,y_test_sg)\n",
        "print(history)\n",
        "result_table+=[history[1]]\n",
        "print(\"SG_LSTM\")"
      ],
      "execution_count": null,
      "outputs": [
        {
          "output_type": "stream",
          "text": [
            "Epoch 1/20\n",
            "125/125 [==============================] - 1s 9ms/step - loss: 1.3729 - accuracy: 0.3265 - val_loss: 1.3845 - val_accuracy: 0.2978\n",
            "Epoch 2/20\n",
            "125/125 [==============================] - 1s 5ms/step - loss: 1.3715 - accuracy: 0.3272 - val_loss: 1.3827 - val_accuracy: 0.2978\n",
            "Epoch 3/20\n",
            "125/125 [==============================] - 1s 5ms/step - loss: 1.3709 - accuracy: 0.3272 - val_loss: 1.3884 - val_accuracy: 0.2978\n",
            "Epoch 4/20\n",
            "125/125 [==============================] - 1s 6ms/step - loss: 1.3707 - accuracy: 0.3272 - val_loss: 1.3849 - val_accuracy: 0.2978\n",
            "Epoch 5/20\n",
            "125/125 [==============================] - 1s 5ms/step - loss: 1.3705 - accuracy: 0.3272 - val_loss: 1.3882 - val_accuracy: 0.2978\n",
            "Epoch 6/20\n",
            "125/125 [==============================] - 1s 5ms/step - loss: 1.3704 - accuracy: 0.3272 - val_loss: 1.3872 - val_accuracy: 0.2978\n",
            "Epoch 7/20\n",
            "125/125 [==============================] - 1s 6ms/step - loss: 1.3706 - accuracy: 0.3272 - val_loss: 1.3843 - val_accuracy: 0.2978\n",
            "Epoch 8/20\n",
            "125/125 [==============================] - 1s 6ms/step - loss: 1.3703 - accuracy: 0.3272 - val_loss: 1.3856 - val_accuracy: 0.2978\n",
            "Epoch 9/20\n",
            "125/125 [==============================] - 1s 6ms/step - loss: 1.3703 - accuracy: 0.3272 - val_loss: 1.3858 - val_accuracy: 0.2978\n",
            "Epoch 10/20\n",
            "125/125 [==============================] - 1s 5ms/step - loss: 1.3704 - accuracy: 0.3272 - val_loss: 1.3844 - val_accuracy: 0.2978\n",
            "Epoch 11/20\n",
            "125/125 [==============================] - 1s 5ms/step - loss: 1.3703 - accuracy: 0.3272 - val_loss: 1.3844 - val_accuracy: 0.2978\n",
            "Epoch 12/20\n",
            "125/125 [==============================] - 1s 5ms/step - loss: 1.3701 - accuracy: 0.3272 - val_loss: 1.3860 - val_accuracy: 0.2978\n",
            "Epoch 13/20\n",
            "125/125 [==============================] - 1s 5ms/step - loss: 1.3704 - accuracy: 0.3272 - val_loss: 1.3854 - val_accuracy: 0.2978\n",
            "Epoch 14/20\n",
            "125/125 [==============================] - 1s 6ms/step - loss: 1.3702 - accuracy: 0.3272 - val_loss: 1.3853 - val_accuracy: 0.2978\n",
            "Epoch 15/20\n",
            "125/125 [==============================] - 1s 5ms/step - loss: 1.3700 - accuracy: 0.3272 - val_loss: 1.3861 - val_accuracy: 0.2978\n",
            "Epoch 16/20\n",
            "125/125 [==============================] - 1s 6ms/step - loss: 1.3701 - accuracy: 0.3272 - val_loss: 1.3830 - val_accuracy: 0.2978\n",
            "Epoch 17/20\n",
            "125/125 [==============================] - 1s 5ms/step - loss: 1.3702 - accuracy: 0.3272 - val_loss: 1.3857 - val_accuracy: 0.2978\n",
            "Epoch 18/20\n",
            "125/125 [==============================] - 1s 6ms/step - loss: 1.3697 - accuracy: 0.3272 - val_loss: 1.3834 - val_accuracy: 0.2978\n",
            "Epoch 19/20\n",
            "125/125 [==============================] - 1s 5ms/step - loss: 1.3702 - accuracy: 0.3272 - val_loss: 1.3843 - val_accuracy: 0.2978\n",
            "Epoch 20/20\n",
            "125/125 [==============================] - 1s 6ms/step - loss: 1.3698 - accuracy: 0.3272 - val_loss: 1.3862 - val_accuracy: 0.2978\n",
            "67/67 [==============================] - 0s 3ms/step - loss: 1.3810 - accuracy: 0.3080\n",
            "[1.3809690475463867, 0.3079812228679657]\n",
            "SG_LSTM\n"
          ],
          "name": "stdout"
        }
      ]
    },
    {
      "cell_type": "code",
      "metadata": {
        "id": "tnRZPDZac1Io",
        "colab": {
          "base_uri": "https://localhost:8080/"
        },
        "outputId": "5bb9ab46-1cc4-4b29-bd48-57f49417545d"
      },
      "source": [
        "model_sg_bi = tf.keras.Sequential()\n",
        "model_sg_bi.add(tf.keras.Input(shape=(Max_input_size,Embedding_size)))\n",
        "model_sg_bi.add(tf.keras.layers.Bidirectional(tf.keras.layers.LSTM(50),merge_mode='concat'))\n",
        "model_sg_bi.add(tf.keras.layers.Dense(4, activation='softmax'))\n",
        "model_sg_bi.compile(loss='categorical_crossentropy',optimizer='adam', \n",
        "                           metrics=['accuracy'])\n",
        "history = model_sg_bi.fit(X_train_sg,y_train_sg,epochs=20,validation_split=0.2)\n",
        "history = model_sg_bi.evaluate(X_test_sg,y_test_sg)\n",
        "print(history)\n",
        "\n",
        "result_table+=[history[1]]\n",
        "print(\"SG_BI\")"
      ],
      "execution_count": null,
      "outputs": [
        {
          "output_type": "stream",
          "text": [
            "Epoch 1/20\n",
            "125/125 [==============================] - 2s 14ms/step - loss: 1.3720 - accuracy: 0.3252 - val_loss: 1.3852 - val_accuracy: 0.2978\n",
            "Epoch 2/20\n",
            "125/125 [==============================] - 1s 9ms/step - loss: 1.3706 - accuracy: 0.3272 - val_loss: 1.3834 - val_accuracy: 0.2978\n",
            "Epoch 3/20\n",
            "125/125 [==============================] - 1s 9ms/step - loss: 1.3700 - accuracy: 0.3272 - val_loss: 1.3856 - val_accuracy: 0.2978\n",
            "Epoch 4/20\n",
            "125/125 [==============================] - 1s 9ms/step - loss: 1.3692 - accuracy: 0.3272 - val_loss: 1.3814 - val_accuracy: 0.2978\n",
            "Epoch 5/20\n",
            "125/125 [==============================] - 1s 9ms/step - loss: 1.3692 - accuracy: 0.3272 - val_loss: 1.3826 - val_accuracy: 0.2978\n",
            "Epoch 6/20\n",
            "125/125 [==============================] - 1s 9ms/step - loss: 1.3692 - accuracy: 0.3272 - val_loss: 1.3816 - val_accuracy: 0.2978\n",
            "Epoch 7/20\n",
            "125/125 [==============================] - 1s 9ms/step - loss: 1.3689 - accuracy: 0.3272 - val_loss: 1.3862 - val_accuracy: 0.2978\n",
            "Epoch 8/20\n",
            "125/125 [==============================] - 1s 9ms/step - loss: 1.3677 - accuracy: 0.3272 - val_loss: 1.3811 - val_accuracy: 0.2978\n",
            "Epoch 9/20\n",
            "125/125 [==============================] - 1s 9ms/step - loss: 1.3651 - accuracy: 0.3297 - val_loss: 1.3776 - val_accuracy: 0.2978\n",
            "Epoch 10/20\n",
            "125/125 [==============================] - 1s 9ms/step - loss: 1.3620 - accuracy: 0.3270 - val_loss: 1.3767 - val_accuracy: 0.2978\n",
            "Epoch 11/20\n",
            "125/125 [==============================] - 1s 9ms/step - loss: 1.3584 - accuracy: 0.3322 - val_loss: 1.3746 - val_accuracy: 0.3129\n",
            "Epoch 12/20\n",
            "125/125 [==============================] - 1s 9ms/step - loss: 1.3537 - accuracy: 0.3383 - val_loss: 1.3703 - val_accuracy: 0.3028\n",
            "Epoch 13/20\n",
            "125/125 [==============================] - 1s 9ms/step - loss: 1.3543 - accuracy: 0.3373 - val_loss: 1.3658 - val_accuracy: 0.3390\n",
            "Epoch 14/20\n",
            "125/125 [==============================] - 1s 9ms/step - loss: 1.3431 - accuracy: 0.3635 - val_loss: 1.3611 - val_accuracy: 0.3330\n",
            "Epoch 15/20\n",
            "125/125 [==============================] - 1s 8ms/step - loss: 1.3317 - accuracy: 0.3574 - val_loss: 1.3567 - val_accuracy: 0.3481\n",
            "Epoch 16/20\n",
            "125/125 [==============================] - 1s 9ms/step - loss: 1.3189 - accuracy: 0.3798 - val_loss: 1.3383 - val_accuracy: 0.3592\n",
            "Epoch 17/20\n",
            "125/125 [==============================] - 1s 9ms/step - loss: 1.3084 - accuracy: 0.3823 - val_loss: 1.3440 - val_accuracy: 0.3451\n",
            "Epoch 18/20\n",
            "125/125 [==============================] - 1s 9ms/step - loss: 1.3101 - accuracy: 0.3808 - val_loss: 1.3342 - val_accuracy: 0.3632\n",
            "Epoch 19/20\n",
            "125/125 [==============================] - 1s 9ms/step - loss: 1.3011 - accuracy: 0.3841 - val_loss: 1.3355 - val_accuracy: 0.3612\n",
            "Epoch 20/20\n",
            "125/125 [==============================] - 1s 9ms/step - loss: 1.2934 - accuracy: 0.3919 - val_loss: 1.3396 - val_accuracy: 0.3571\n",
            "67/67 [==============================] - 0s 4ms/step - loss: 1.3498 - accuracy: 0.3418\n",
            "[1.3498262166976929, 0.3417840301990509]\n",
            "SG_BI\n"
          ],
          "name": "stdout"
        }
      ]
    },
    {
      "cell_type": "code",
      "metadata": {
        "id": "ezKZ8K1VV5Wq",
        "colab": {
          "base_uri": "https://localhost:8080/"
        },
        "outputId": "92198ecd-816f-4930-d1bd-0b2286412cb9"
      },
      "source": [
        "model_sg_rnn = tf.keras.Sequential()\n",
        "model_sg_rnn.add(tf.keras.Input(shape=(Max_input_size,Embedding_size)))\n",
        "model_sg_rnn.add(tf.keras.layers.SimpleRNN(50))\n",
        "model_sg_rnn.add(tf.keras.layers.Dense(4, activation='softmax'))\n",
        "model_sg_rnn.compile(loss='categorical_crossentropy',optimizer='adam', \n",
        "                           metrics=['accuracy'])\n",
        "history = model_sg_rnn.fit(X_train_sg,y_train_sg,epochs=20,validation_split=0.2)\n",
        "history = model_sg_rnn.evaluate(X_test_sg,y_test_sg)\n",
        "print(history)\n",
        "\n",
        "result_table+=[history[1]]\n",
        "print(\"SG_RNN\")"
      ],
      "execution_count": null,
      "outputs": [
        {
          "output_type": "stream",
          "text": [
            "Epoch 1/20\n",
            "125/125 [==============================] - 4s 32ms/step - loss: 1.3756 - accuracy: 0.3214 - val_loss: 1.3857 - val_accuracy: 0.2978\n",
            "Epoch 2/20\n",
            "125/125 [==============================] - 4s 31ms/step - loss: 1.3665 - accuracy: 0.3232 - val_loss: 1.4006 - val_accuracy: 0.2928\n",
            "Epoch 3/20\n",
            "125/125 [==============================] - 4s 31ms/step - loss: 1.3642 - accuracy: 0.3249 - val_loss: 1.3887 - val_accuracy: 0.2877\n",
            "Epoch 4/20\n",
            "125/125 [==============================] - 4s 31ms/step - loss: 1.3628 - accuracy: 0.3297 - val_loss: 1.3823 - val_accuracy: 0.2978\n",
            "Epoch 5/20\n",
            "125/125 [==============================] - 4s 32ms/step - loss: 1.3599 - accuracy: 0.3292 - val_loss: 1.3913 - val_accuracy: 0.2847\n",
            "Epoch 6/20\n",
            "125/125 [==============================] - 4s 32ms/step - loss: 1.3563 - accuracy: 0.3365 - val_loss: 1.3827 - val_accuracy: 0.2827\n",
            "Epoch 7/20\n",
            "125/125 [==============================] - 4s 31ms/step - loss: 1.3437 - accuracy: 0.3494 - val_loss: 1.3851 - val_accuracy: 0.2958\n",
            "Epoch 8/20\n",
            "125/125 [==============================] - 4s 32ms/step - loss: 1.3462 - accuracy: 0.3418 - val_loss: 1.4207 - val_accuracy: 0.3028\n",
            "Epoch 9/20\n",
            "125/125 [==============================] - 4s 34ms/step - loss: 1.3467 - accuracy: 0.3496 - val_loss: 1.3888 - val_accuracy: 0.2877\n",
            "Epoch 10/20\n",
            "125/125 [==============================] - 4s 32ms/step - loss: 1.3341 - accuracy: 0.3589 - val_loss: 1.3934 - val_accuracy: 0.3038\n",
            "Epoch 11/20\n",
            "125/125 [==============================] - 4s 31ms/step - loss: 1.3432 - accuracy: 0.3536 - val_loss: 1.4147 - val_accuracy: 0.2817\n",
            "Epoch 12/20\n",
            "125/125 [==============================] - 4s 31ms/step - loss: 1.3390 - accuracy: 0.3549 - val_loss: 1.3988 - val_accuracy: 0.2757\n",
            "Epoch 13/20\n",
            "125/125 [==============================] - 4s 32ms/step - loss: 1.3248 - accuracy: 0.3682 - val_loss: 1.4317 - val_accuracy: 0.2958\n",
            "Epoch 14/20\n",
            "125/125 [==============================] - 4s 31ms/step - loss: 1.3164 - accuracy: 0.3728 - val_loss: 1.3940 - val_accuracy: 0.3048\n",
            "Epoch 15/20\n",
            "125/125 [==============================] - 4s 34ms/step - loss: 1.3082 - accuracy: 0.3808 - val_loss: 1.4418 - val_accuracy: 0.2626\n",
            "Epoch 16/20\n",
            "125/125 [==============================] - 4s 33ms/step - loss: 1.3179 - accuracy: 0.3786 - val_loss: 1.4206 - val_accuracy: 0.2807\n",
            "Epoch 17/20\n",
            "125/125 [==============================] - 4s 33ms/step - loss: 1.3127 - accuracy: 0.3818 - val_loss: 1.4148 - val_accuracy: 0.3179\n",
            "Epoch 18/20\n",
            "125/125 [==============================] - 4s 32ms/step - loss: 1.2909 - accuracy: 0.4080 - val_loss: 1.4181 - val_accuracy: 0.3028\n",
            "Epoch 19/20\n",
            "125/125 [==============================] - 4s 31ms/step - loss: 1.3294 - accuracy: 0.3599 - val_loss: 1.4063 - val_accuracy: 0.2746\n",
            "Epoch 20/20\n",
            "125/125 [==============================] - 4s 31ms/step - loss: 1.2992 - accuracy: 0.3994 - val_loss: 1.4669 - val_accuracy: 0.2787\n",
            "67/67 [==============================] - 0s 5ms/step - loss: 1.4616 - accuracy: 0.2695\n",
            "[1.4616085290908813, 0.2694835662841797]\n",
            "SG_RNN\n"
          ],
          "name": "stdout"
        }
      ]
    },
    {
      "cell_type": "code",
      "metadata": {
        "id": "cYLoC2d6IMyr",
        "colab": {
          "base_uri": "https://localhost:8080/"
        },
        "outputId": "fe703b2e-0978-4362-9b5c-357459be01de"
      },
      "source": [
        "model_cbow = tf.keras.Sequential()\n",
        "model_cbow.add(tf.keras.Input(shape=(Max_input_size,Embedding_size)))\n",
        "model_cbow.add(tf.keras.layers.LSTM(50))\n",
        "model_cbow.add(tf.keras.layers.Dense(4, activation='softmax'))\n",
        "model_cbow.compile(loss='categorical_crossentropy',optimizer='adam', \n",
        "                           metrics=['accuracy'])\n",
        "history = model_cbow.fit(X_train_cbow,y_train_cbow,epochs=20,validation_split=0.2)\n",
        "history = model_cbow.evaluate(X_test_cbow,y_test_cbow)\n",
        "print(history)\n",
        "\n",
        "result_table+=[history[1]]\n",
        "print(\"CBOW_LSTM\")"
      ],
      "execution_count": null,
      "outputs": [
        {
          "output_type": "stream",
          "text": [
            "Epoch 1/20\n",
            "125/125 [==============================] - 1s 9ms/step - loss: 1.3733 - accuracy: 0.3260 - val_loss: 1.3920 - val_accuracy: 0.2978\n",
            "Epoch 2/20\n",
            "125/125 [==============================] - 1s 6ms/step - loss: 1.3706 - accuracy: 0.3272 - val_loss: 1.3887 - val_accuracy: 0.2978\n",
            "Epoch 3/20\n",
            "125/125 [==============================] - 1s 5ms/step - loss: 1.3706 - accuracy: 0.3272 - val_loss: 1.3857 - val_accuracy: 0.2978\n",
            "Epoch 4/20\n",
            "125/125 [==============================] - 1s 6ms/step - loss: 1.3706 - accuracy: 0.3272 - val_loss: 1.3820 - val_accuracy: 0.2978\n",
            "Epoch 5/20\n",
            "125/125 [==============================] - 1s 5ms/step - loss: 1.3704 - accuracy: 0.3272 - val_loss: 1.3846 - val_accuracy: 0.2978\n",
            "Epoch 6/20\n",
            "125/125 [==============================] - 1s 5ms/step - loss: 1.3706 - accuracy: 0.3272 - val_loss: 1.3845 - val_accuracy: 0.2978\n",
            "Epoch 7/20\n",
            "125/125 [==============================] - 1s 5ms/step - loss: 1.3702 - accuracy: 0.3272 - val_loss: 1.3838 - val_accuracy: 0.2978\n",
            "Epoch 8/20\n",
            "125/125 [==============================] - 1s 6ms/step - loss: 1.3702 - accuracy: 0.3272 - val_loss: 1.3831 - val_accuracy: 0.2978\n",
            "Epoch 9/20\n",
            "125/125 [==============================] - 1s 5ms/step - loss: 1.3704 - accuracy: 0.3272 - val_loss: 1.3859 - val_accuracy: 0.2978\n",
            "Epoch 10/20\n",
            "125/125 [==============================] - 1s 5ms/step - loss: 1.3708 - accuracy: 0.3272 - val_loss: 1.3848 - val_accuracy: 0.2978\n",
            "Epoch 11/20\n",
            "125/125 [==============================] - 1s 5ms/step - loss: 1.3703 - accuracy: 0.3272 - val_loss: 1.3827 - val_accuracy: 0.2978\n",
            "Epoch 12/20\n",
            "125/125 [==============================] - 1s 5ms/step - loss: 1.3702 - accuracy: 0.3272 - val_loss: 1.3863 - val_accuracy: 0.2978\n",
            "Epoch 13/20\n",
            "125/125 [==============================] - 1s 5ms/step - loss: 1.3701 - accuracy: 0.3272 - val_loss: 1.3844 - val_accuracy: 0.2978\n",
            "Epoch 14/20\n",
            "125/125 [==============================] - 1s 6ms/step - loss: 1.3702 - accuracy: 0.3272 - val_loss: 1.3862 - val_accuracy: 0.2978\n",
            "Epoch 15/20\n",
            "125/125 [==============================] - 1s 5ms/step - loss: 1.3702 - accuracy: 0.3272 - val_loss: 1.3862 - val_accuracy: 0.2978\n",
            "Epoch 16/20\n",
            "125/125 [==============================] - 1s 5ms/step - loss: 1.3702 - accuracy: 0.3272 - val_loss: 1.3847 - val_accuracy: 0.2978\n",
            "Epoch 17/20\n",
            "125/125 [==============================] - 1s 5ms/step - loss: 1.3699 - accuracy: 0.3272 - val_loss: 1.3868 - val_accuracy: 0.2978\n",
            "Epoch 18/20\n",
            "125/125 [==============================] - 1s 6ms/step - loss: 1.3706 - accuracy: 0.3272 - val_loss: 1.3858 - val_accuracy: 0.2978\n",
            "Epoch 19/20\n",
            "125/125 [==============================] - 1s 5ms/step - loss: 1.3699 - accuracy: 0.3272 - val_loss: 1.3859 - val_accuracy: 0.2978\n",
            "Epoch 20/20\n",
            "125/125 [==============================] - 1s 5ms/step - loss: 1.3700 - accuracy: 0.3272 - val_loss: 1.3843 - val_accuracy: 0.2978\n",
            "67/67 [==============================] - 0s 3ms/step - loss: 1.3795 - accuracy: 0.3080\n",
            "[1.379526972770691, 0.3079812228679657]\n",
            "CBOW_LSTM\n"
          ],
          "name": "stdout"
        }
      ]
    },
    {
      "cell_type": "code",
      "metadata": {
        "id": "2LbGuXtNdwyB",
        "colab": {
          "base_uri": "https://localhost:8080/"
        },
        "outputId": "aa78ec60-fbae-4212-f137-d21a71bf80ca"
      },
      "source": [
        "model_cbow_bi = tf.keras.Sequential()\n",
        "model_cbow_bi.add(tf.keras.Input(shape=(Max_input_size,Embedding_size)))\n",
        "model_cbow_bi.add(tf.keras.layers.Bidirectional(tf.keras.layers.LSTM(50),merge_mode='concat'))\n",
        "model_cbow_bi.add(tf.keras.layers.Dense(4, activation='softmax'))\n",
        "model_cbow_bi.compile(loss='categorical_crossentropy',optimizer='adam', \n",
        "                           metrics=['accuracy'])\n",
        "history = model_cbow_bi.fit(X_train_cbow,y_train_cbow,epochs=20,validation_split=0.2)\n",
        "history = model_cbow_bi.evaluate(X_test_cbow,y_test_cbow)\n",
        "print(history)\n",
        "\n",
        "result_table+=[history[1]]\n",
        "print(\"CBOW_BI\")"
      ],
      "execution_count": null,
      "outputs": [
        {
          "output_type": "stream",
          "text": [
            "Epoch 1/20\n",
            "125/125 [==============================] - 2s 13ms/step - loss: 1.3720 - accuracy: 0.3247 - val_loss: 1.3852 - val_accuracy: 0.2978\n",
            "Epoch 2/20\n",
            "125/125 [==============================] - 1s 9ms/step - loss: 1.3708 - accuracy: 0.3272 - val_loss: 1.3845 - val_accuracy: 0.2978\n",
            "Epoch 3/20\n",
            "125/125 [==============================] - 1s 9ms/step - loss: 1.3704 - accuracy: 0.3272 - val_loss: 1.3860 - val_accuracy: 0.2978\n",
            "Epoch 4/20\n",
            "125/125 [==============================] - 1s 9ms/step - loss: 1.3696 - accuracy: 0.3272 - val_loss: 1.3843 - val_accuracy: 0.2978\n",
            "Epoch 5/20\n",
            "125/125 [==============================] - 1s 8ms/step - loss: 1.3694 - accuracy: 0.3272 - val_loss: 1.3822 - val_accuracy: 0.2978\n",
            "Epoch 6/20\n",
            "125/125 [==============================] - 1s 9ms/step - loss: 1.3683 - accuracy: 0.3272 - val_loss: 1.3829 - val_accuracy: 0.2978\n",
            "Epoch 7/20\n",
            "125/125 [==============================] - 1s 9ms/step - loss: 1.3680 - accuracy: 0.3272 - val_loss: 1.3822 - val_accuracy: 0.2978\n",
            "Epoch 8/20\n",
            "125/125 [==============================] - 1s 9ms/step - loss: 1.3645 - accuracy: 0.3272 - val_loss: 1.3778 - val_accuracy: 0.2978\n",
            "Epoch 9/20\n",
            "125/125 [==============================] - 1s 8ms/step - loss: 1.3643 - accuracy: 0.3320 - val_loss: 1.3763 - val_accuracy: 0.2978\n",
            "Epoch 10/20\n",
            "125/125 [==============================] - 1s 9ms/step - loss: 1.3606 - accuracy: 0.3280 - val_loss: 1.3707 - val_accuracy: 0.3089\n",
            "Epoch 11/20\n",
            "125/125 [==============================] - 1s 9ms/step - loss: 1.3544 - accuracy: 0.3400 - val_loss: 1.3632 - val_accuracy: 0.3461\n",
            "Epoch 12/20\n",
            "125/125 [==============================] - 1s 9ms/step - loss: 1.3586 - accuracy: 0.3398 - val_loss: 1.3702 - val_accuracy: 0.3129\n",
            "Epoch 13/20\n",
            "125/125 [==============================] - 1s 9ms/step - loss: 1.3499 - accuracy: 0.3473 - val_loss: 1.3678 - val_accuracy: 0.3078\n",
            "Epoch 14/20\n",
            "125/125 [==============================] - 1s 9ms/step - loss: 1.3413 - accuracy: 0.3559 - val_loss: 1.3531 - val_accuracy: 0.3410\n",
            "Epoch 15/20\n",
            "125/125 [==============================] - 1s 9ms/step - loss: 1.3292 - accuracy: 0.3720 - val_loss: 1.3427 - val_accuracy: 0.3581\n",
            "Epoch 16/20\n",
            "125/125 [==============================] - 1s 9ms/step - loss: 1.3173 - accuracy: 0.3798 - val_loss: 1.3409 - val_accuracy: 0.3692\n",
            "Epoch 17/20\n",
            "125/125 [==============================] - 1s 9ms/step - loss: 1.3152 - accuracy: 0.3826 - val_loss: 1.3364 - val_accuracy: 0.3652\n",
            "Epoch 18/20\n",
            "125/125 [==============================] - 1s 9ms/step - loss: 1.3080 - accuracy: 0.3901 - val_loss: 3.7390 - val_accuracy: 0.2978\n",
            "Epoch 19/20\n",
            "125/125 [==============================] - 1s 9ms/step - loss: 1.3707 - accuracy: 0.3405 - val_loss: 1.3700 - val_accuracy: 0.3350\n",
            "Epoch 20/20\n",
            "125/125 [==============================] - 1s 9ms/step - loss: 1.3387 - accuracy: 0.3637 - val_loss: 1.3530 - val_accuracy: 0.3511\n",
            "67/67 [==============================] - 0s 5ms/step - loss: 1.3609 - accuracy: 0.3272\n",
            "[1.360939383506775, 0.3272300362586975]\n",
            "CBOW_BI\n"
          ],
          "name": "stdout"
        }
      ]
    },
    {
      "cell_type": "code",
      "metadata": {
        "id": "q-8bBfhUWfar",
        "colab": {
          "base_uri": "https://localhost:8080/"
        },
        "outputId": "fb9315a9-c01a-4c35-a83b-ff4f4f3cbe52"
      },
      "source": [
        "model_cbow_rnn = tf.keras.Sequential()\n",
        "model_cbow_rnn.add(tf.keras.Input(shape=(Max_input_size,Embedding_size)))\n",
        "model_cbow_rnn.add(tf.keras.layers.SimpleRNN(50))\n",
        "model_cbow_rnn.add(tf.keras.layers.Dense(4, activation='softmax'))\n",
        "model_cbow_rnn.compile(loss='categorical_crossentropy',optimizer='adam', \n",
        "                           metrics=['accuracy'])\n",
        "history = model_cbow_rnn.fit(X_train_cbow,y_train_cbow,epochs=20,validation_split=0.2)\n",
        "history = model_cbow_rnn.evaluate(X_test_cbow,y_test_cbow)\n",
        "print(history)\n",
        "\n",
        "result_table+=[history[1]]\n",
        "print(\"CBOW_RNN\")"
      ],
      "execution_count": null,
      "outputs": [
        {
          "output_type": "stream",
          "text": [
            "Epoch 1/20\n",
            "125/125 [==============================] - 4s 32ms/step - loss: 1.3747 - accuracy: 0.3176 - val_loss: 1.3882 - val_accuracy: 0.2978\n",
            "Epoch 2/20\n",
            "125/125 [==============================] - 4s 32ms/step - loss: 1.3710 - accuracy: 0.3275 - val_loss: 1.3888 - val_accuracy: 0.2978\n",
            "Epoch 3/20\n",
            "125/125 [==============================] - 4s 30ms/step - loss: 1.3706 - accuracy: 0.3239 - val_loss: 1.3924 - val_accuracy: 0.2978\n",
            "Epoch 4/20\n",
            "125/125 [==============================] - 4s 31ms/step - loss: 1.3694 - accuracy: 0.3270 - val_loss: 1.3856 - val_accuracy: 0.3008\n",
            "Epoch 5/20\n",
            "125/125 [==============================] - 4s 32ms/step - loss: 1.3694 - accuracy: 0.3300 - val_loss: 1.3838 - val_accuracy: 0.2847\n",
            "Epoch 6/20\n",
            "125/125 [==============================] - 4s 32ms/step - loss: 1.3707 - accuracy: 0.3295 - val_loss: 1.3831 - val_accuracy: 0.2978\n",
            "Epoch 7/20\n",
            "125/125 [==============================] - 4s 32ms/step - loss: 1.3680 - accuracy: 0.3272 - val_loss: 1.3890 - val_accuracy: 0.2978\n",
            "Epoch 8/20\n",
            "125/125 [==============================] - 4s 31ms/step - loss: 1.3672 - accuracy: 0.3242 - val_loss: 1.3854 - val_accuracy: 0.2978\n",
            "Epoch 9/20\n",
            "125/125 [==============================] - 4s 32ms/step - loss: 1.3683 - accuracy: 0.3275 - val_loss: 1.3897 - val_accuracy: 0.2978\n",
            "Epoch 10/20\n",
            "125/125 [==============================] - 4s 31ms/step - loss: 1.3680 - accuracy: 0.3315 - val_loss: 1.4214 - val_accuracy: 0.2726\n",
            "Epoch 11/20\n",
            "125/125 [==============================] - 4s 34ms/step - loss: 1.3711 - accuracy: 0.3237 - val_loss: 1.3834 - val_accuracy: 0.2978\n",
            "Epoch 12/20\n",
            "125/125 [==============================] - 4s 32ms/step - loss: 1.3670 - accuracy: 0.3267 - val_loss: 1.3842 - val_accuracy: 0.2918\n",
            "Epoch 13/20\n",
            "125/125 [==============================] - 4s 31ms/step - loss: 1.3671 - accuracy: 0.3305 - val_loss: 1.3807 - val_accuracy: 0.2948\n",
            "Epoch 14/20\n",
            "125/125 [==============================] - 4s 31ms/step - loss: 1.3551 - accuracy: 0.3478 - val_loss: 1.4060 - val_accuracy: 0.2535\n",
            "Epoch 15/20\n",
            "125/125 [==============================] - 4s 31ms/step - loss: 1.3594 - accuracy: 0.3403 - val_loss: 1.3951 - val_accuracy: 0.2968\n",
            "Epoch 16/20\n",
            "125/125 [==============================] - 4s 31ms/step - loss: 1.3584 - accuracy: 0.3350 - val_loss: 1.3912 - val_accuracy: 0.2807\n",
            "Epoch 17/20\n",
            "125/125 [==============================] - 4s 31ms/step - loss: 1.3512 - accuracy: 0.3471 - val_loss: 1.3853 - val_accuracy: 0.3149\n",
            "Epoch 18/20\n",
            "125/125 [==============================] - 4s 31ms/step - loss: 1.3523 - accuracy: 0.3421 - val_loss: 1.3961 - val_accuracy: 0.2968\n",
            "Epoch 19/20\n",
            "125/125 [==============================] - 4s 30ms/step - loss: 1.3462 - accuracy: 0.3577 - val_loss: 1.4140 - val_accuracy: 0.2787\n",
            "Epoch 20/20\n",
            "125/125 [==============================] - 4s 31ms/step - loss: 1.3439 - accuracy: 0.3496 - val_loss: 1.4096 - val_accuracy: 0.2746\n",
            "67/67 [==============================] - 0s 5ms/step - loss: 1.3923 - accuracy: 0.3052\n",
            "[1.3923356533050537, 0.30516430735588074]\n",
            "CBOW_RNN\n"
          ],
          "name": "stdout"
        }
      ]
    },
    {
      "cell_type": "code",
      "metadata": {
        "id": "W7bprxQWLfMI",
        "colab": {
          "base_uri": "https://localhost:8080/"
        },
        "outputId": "71c8ecb6-a92d-42cb-d9dc-6589e434d779"
      },
      "source": [
        "model_glove = tf.keras.Sequential()\n",
        "model_glove.add(tf.keras.Input(shape=(Max_input_size_glove,100)))\n",
        "model_glove.add(tf.keras.layers.LSTM(50))\n",
        "model_glove.add(tf.keras.layers.Dense(4, activation='softmax'))\n",
        "model_glove.compile(loss='categorical_crossentropy',optimizer='adam', \n",
        "                           metrics=['accuracy'])\n",
        "history = model_glove.fit(X_train_glove,y_train_glove,epochs=20,validation_split=0.2)\n",
        "history = model_glove.evaluate(X_test_glove,y_test_glove)\n",
        "print(history)\n",
        "\n",
        "result_table+=[history[1]]\n",
        "print(\"GLOVE_LSTM\")"
      ],
      "execution_count": null,
      "outputs": [
        {
          "output_type": "stream",
          "text": [
            "Epoch 1/20\n",
            "125/125 [==============================] - 1s 9ms/step - loss: 1.3458 - accuracy: 0.3413 - val_loss: 1.3344 - val_accuracy: 0.4074\n",
            "Epoch 2/20\n",
            "125/125 [==============================] - 1s 5ms/step - loss: 1.1914 - accuracy: 0.4604 - val_loss: 1.1659 - val_accuracy: 0.4336\n",
            "Epoch 3/20\n",
            "125/125 [==============================] - 1s 6ms/step - loss: 1.0888 - accuracy: 0.4908 - val_loss: 1.1302 - val_accuracy: 0.4477\n",
            "Epoch 4/20\n",
            "125/125 [==============================] - 1s 6ms/step - loss: 1.0188 - accuracy: 0.5293 - val_loss: 1.0865 - val_accuracy: 0.5121\n",
            "Epoch 5/20\n",
            "125/125 [==============================] - 1s 5ms/step - loss: 0.9532 - accuracy: 0.5696 - val_loss: 1.0410 - val_accuracy: 0.5513\n",
            "Epoch 6/20\n",
            "125/125 [==============================] - 1s 5ms/step - loss: 0.8754 - accuracy: 0.6167 - val_loss: 1.0373 - val_accuracy: 0.5905\n",
            "Epoch 7/20\n",
            "125/125 [==============================] - 1s 6ms/step - loss: 0.8234 - accuracy: 0.6547 - val_loss: 0.9845 - val_accuracy: 0.5946\n",
            "Epoch 8/20\n",
            "125/125 [==============================] - 1s 5ms/step - loss: 0.7446 - accuracy: 0.7005 - val_loss: 0.9557 - val_accuracy: 0.6308\n",
            "Epoch 9/20\n",
            "125/125 [==============================] - 1s 5ms/step - loss: 0.6662 - accuracy: 0.7408 - val_loss: 0.9142 - val_accuracy: 0.6549\n",
            "Epoch 10/20\n",
            "125/125 [==============================] - 1s 6ms/step - loss: 0.5877 - accuracy: 0.7845 - val_loss: 0.9048 - val_accuracy: 0.6751\n",
            "Epoch 11/20\n",
            "125/125 [==============================] - 1s 5ms/step - loss: 0.5559 - accuracy: 0.8009 - val_loss: 0.8626 - val_accuracy: 0.6821\n",
            "Epoch 12/20\n",
            "125/125 [==============================] - 1s 6ms/step - loss: 0.4890 - accuracy: 0.8341 - val_loss: 0.8905 - val_accuracy: 0.7012\n",
            "Epoch 13/20\n",
            "125/125 [==============================] - 1s 6ms/step - loss: 0.4476 - accuracy: 0.8502 - val_loss: 0.8241 - val_accuracy: 0.7193\n",
            "Epoch 14/20\n",
            "125/125 [==============================] - 1s 6ms/step - loss: 0.3842 - accuracy: 0.8777 - val_loss: 0.8816 - val_accuracy: 0.7133\n",
            "Epoch 15/20\n",
            "125/125 [==============================] - 1s 5ms/step - loss: 0.3726 - accuracy: 0.8837 - val_loss: 0.8501 - val_accuracy: 0.7153\n",
            "Epoch 16/20\n",
            "125/125 [==============================] - 1s 5ms/step - loss: 0.3557 - accuracy: 0.8882 - val_loss: 0.9553 - val_accuracy: 0.7193\n",
            "Epoch 17/20\n",
            "125/125 [==============================] - 1s 6ms/step - loss: 0.3241 - accuracy: 0.9016 - val_loss: 0.9274 - val_accuracy: 0.7264\n",
            "Epoch 18/20\n",
            "125/125 [==============================] - 1s 5ms/step - loss: 0.3140 - accuracy: 0.9021 - val_loss: 0.8861 - val_accuracy: 0.7274\n",
            "Epoch 19/20\n",
            "125/125 [==============================] - 1s 5ms/step - loss: 0.3284 - accuracy: 0.8973 - val_loss: 0.8620 - val_accuracy: 0.7475\n",
            "Epoch 20/20\n",
            "125/125 [==============================] - 1s 5ms/step - loss: 0.2531 - accuracy: 0.9278 - val_loss: 0.9795 - val_accuracy: 0.7284\n",
            "67/67 [==============================] - 0s 3ms/step - loss: 0.9115 - accuracy: 0.7296\n",
            "[0.9115472435951233, 0.7295774817466736]\n",
            "GLOVE_LSTM\n"
          ],
          "name": "stdout"
        }
      ]
    },
    {
      "cell_type": "code",
      "metadata": {
        "id": "otWVSDLueXTR",
        "colab": {
          "base_uri": "https://localhost:8080/"
        },
        "outputId": "f68593ba-e71f-489e-ef59-69430571cbb6"
      },
      "source": [
        "model_glove_bi = tf.keras.Sequential()\n",
        "model_glove_bi.add(tf.keras.Input(shape=(Max_input_size_glove,100)))\n",
        "model_glove_bi.add(tf.keras.layers.Bidirectional(tf.keras.layers.LSTM(50),merge_mode='concat'))\n",
        "model_glove_bi.add(tf.keras.layers.Dense(4, activation='softmax'))\n",
        "model_glove_bi.compile(loss='categorical_crossentropy',optimizer='adam', \n",
        "                           metrics=['accuracy'])\n",
        "history = model_glove_bi.fit(X_train_glove,y_train_glove,epochs=20,validation_split=0.2)\n",
        "history = model_glove_bi.evaluate(X_test_glove,y_test_glove)\n",
        "print(history)\n",
        "\n",
        "result_table+=[history[1]]\n",
        "print(\"GLOVE_BI\")"
      ],
      "execution_count": null,
      "outputs": [
        {
          "output_type": "stream",
          "text": [
            "Epoch 1/20\n",
            "125/125 [==============================] - 2s 13ms/step - loss: 1.2328 - accuracy: 0.4369 - val_loss: 1.0911 - val_accuracy: 0.5332\n",
            "Epoch 2/20\n",
            "125/125 [==============================] - 1s 9ms/step - loss: 0.9896 - accuracy: 0.5892 - val_loss: 0.9593 - val_accuracy: 0.6076\n",
            "Epoch 3/20\n",
            "125/125 [==============================] - 1s 9ms/step - loss: 0.8354 - accuracy: 0.6700 - val_loss: 0.8531 - val_accuracy: 0.6630\n",
            "Epoch 4/20\n",
            "125/125 [==============================] - 1s 9ms/step - loss: 0.7206 - accuracy: 0.7196 - val_loss: 0.7797 - val_accuracy: 0.6972\n",
            "Epoch 5/20\n",
            "125/125 [==============================] - 1s 9ms/step - loss: 0.6233 - accuracy: 0.7586 - val_loss: 0.7616 - val_accuracy: 0.7173\n",
            "Epoch 6/20\n",
            "125/125 [==============================] - 1s 8ms/step - loss: 0.5366 - accuracy: 0.7931 - val_loss: 0.7404 - val_accuracy: 0.7193\n",
            "Epoch 7/20\n",
            "125/125 [==============================] - 1s 9ms/step - loss: 0.4649 - accuracy: 0.8210 - val_loss: 0.7489 - val_accuracy: 0.7354\n",
            "Epoch 8/20\n",
            "125/125 [==============================] - 1s 8ms/step - loss: 0.3791 - accuracy: 0.8590 - val_loss: 0.7245 - val_accuracy: 0.7445\n",
            "Epoch 9/20\n",
            "125/125 [==============================] - 1s 9ms/step - loss: 0.3186 - accuracy: 0.8880 - val_loss: 0.7069 - val_accuracy: 0.7555\n",
            "Epoch 10/20\n",
            "125/125 [==============================] - 1s 9ms/step - loss: 0.2577 - accuracy: 0.9099 - val_loss: 0.7797 - val_accuracy: 0.7586\n",
            "Epoch 11/20\n",
            "125/125 [==============================] - 1s 9ms/step - loss: 0.2290 - accuracy: 0.9169 - val_loss: 0.7794 - val_accuracy: 0.7465\n",
            "Epoch 12/20\n",
            "125/125 [==============================] - 1s 9ms/step - loss: 0.1849 - accuracy: 0.9383 - val_loss: 0.8223 - val_accuracy: 0.7575\n",
            "Epoch 13/20\n",
            "125/125 [==============================] - 1s 9ms/step - loss: 0.1641 - accuracy: 0.9494 - val_loss: 0.8635 - val_accuracy: 0.7586\n",
            "Epoch 14/20\n",
            "125/125 [==============================] - 1s 9ms/step - loss: 0.1637 - accuracy: 0.9471 - val_loss: 0.8411 - val_accuracy: 0.7545\n",
            "Epoch 15/20\n",
            "125/125 [==============================] - 1s 9ms/step - loss: 0.1247 - accuracy: 0.9605 - val_loss: 0.8806 - val_accuracy: 0.7565\n",
            "Epoch 16/20\n",
            "125/125 [==============================] - 1s 9ms/step - loss: 0.1154 - accuracy: 0.9612 - val_loss: 0.8585 - val_accuracy: 0.7495\n",
            "Epoch 17/20\n",
            "125/125 [==============================] - 1s 9ms/step - loss: 0.1031 - accuracy: 0.9630 - val_loss: 0.9125 - val_accuracy: 0.7646\n",
            "Epoch 18/20\n",
            "125/125 [==============================] - 1s 9ms/step - loss: 0.1032 - accuracy: 0.9638 - val_loss: 0.8905 - val_accuracy: 0.7636\n",
            "Epoch 19/20\n",
            "125/125 [==============================] - 1s 9ms/step - loss: 0.0906 - accuracy: 0.9685 - val_loss: 0.9434 - val_accuracy: 0.7626\n",
            "Epoch 20/20\n",
            "125/125 [==============================] - 1s 9ms/step - loss: 0.0783 - accuracy: 0.9718 - val_loss: 0.9273 - val_accuracy: 0.7676\n",
            "67/67 [==============================] - 0s 4ms/step - loss: 1.0141 - accuracy: 0.7404\n",
            "[1.014143466949463, 0.7403755784034729]\n",
            "GLOVE_BI\n"
          ],
          "name": "stdout"
        }
      ]
    },
    {
      "cell_type": "code",
      "metadata": {
        "id": "ofuAMCROUsMS",
        "colab": {
          "base_uri": "https://localhost:8080/"
        },
        "outputId": "9feed8eb-32cd-4415-b484-0d9d250d51ea"
      },
      "source": [
        "model_glove_rnn = tf.keras.Sequential()\n",
        "model_glove_rnn.add(tf.keras.Input(shape=(Max_input_size_glove,100)))\n",
        "model_glove_rnn.add(tf.keras.layers.SimpleRNN(50))\n",
        "model_glove_rnn.add(tf.keras.layers.Dense(4, activation='softmax'))\n",
        "model_glove_rnn.compile(loss='categorical_crossentropy',optimizer='adam', \n",
        "                           metrics=['accuracy'])\n",
        "history = model_glove_rnn.fit(X_train_glove,y_train_glove,epochs=20,validation_split=0.2)\n",
        "history = model_glove_rnn.evaluate(X_test_glove,y_test_glove)\n",
        "print(history)\n",
        "\n",
        "result_table+=[history[1]]\n",
        "print(\"GLOVE_RNN\")"
      ],
      "execution_count": null,
      "outputs": [
        {
          "output_type": "stream",
          "text": [
            "Epoch 1/20\n",
            "125/125 [==============================] - 4s 32ms/step - loss: 1.3430 - accuracy: 0.3521 - val_loss: 1.3098 - val_accuracy: 0.4044\n",
            "Epoch 2/20\n",
            "125/125 [==============================] - 4s 33ms/step - loss: 1.3003 - accuracy: 0.4168 - val_loss: 1.2913 - val_accuracy: 0.4034\n",
            "Epoch 3/20\n",
            "125/125 [==============================] - 4s 30ms/step - loss: 1.2796 - accuracy: 0.4284 - val_loss: 1.2860 - val_accuracy: 0.4125\n",
            "Epoch 4/20\n",
            "125/125 [==============================] - 4s 30ms/step - loss: 1.3316 - accuracy: 0.3740 - val_loss: 1.3438 - val_accuracy: 0.3571\n",
            "Epoch 5/20\n",
            "125/125 [==============================] - 4s 31ms/step - loss: 1.2996 - accuracy: 0.4022 - val_loss: 1.3032 - val_accuracy: 0.3994\n",
            "Epoch 6/20\n",
            "125/125 [==============================] - 4s 32ms/step - loss: 1.3252 - accuracy: 0.3896 - val_loss: 1.3766 - val_accuracy: 0.2978\n",
            "Epoch 7/20\n",
            "125/125 [==============================] - 4s 30ms/step - loss: 1.3439 - accuracy: 0.3662 - val_loss: 1.3593 - val_accuracy: 0.3159\n",
            "Epoch 8/20\n",
            "125/125 [==============================] - 4s 31ms/step - loss: 1.3508 - accuracy: 0.3489 - val_loss: 1.3147 - val_accuracy: 0.3994\n",
            "Epoch 9/20\n",
            "125/125 [==============================] - 4s 32ms/step - loss: 1.3177 - accuracy: 0.3816 - val_loss: 1.3351 - val_accuracy: 0.3551\n",
            "Epoch 10/20\n",
            "125/125 [==============================] - 4s 31ms/step - loss: 1.3130 - accuracy: 0.3904 - val_loss: 1.3036 - val_accuracy: 0.3883\n",
            "Epoch 11/20\n",
            "125/125 [==============================] - 4s 32ms/step - loss: 1.2803 - accuracy: 0.3997 - val_loss: 1.2886 - val_accuracy: 0.3934\n",
            "Epoch 12/20\n",
            "125/125 [==============================] - 4s 32ms/step - loss: 1.2855 - accuracy: 0.4040 - val_loss: 1.3047 - val_accuracy: 0.3994\n",
            "Epoch 13/20\n",
            "125/125 [==============================] - 4s 31ms/step - loss: 1.2712 - accuracy: 0.4249 - val_loss: 1.3014 - val_accuracy: 0.3944\n",
            "Epoch 14/20\n",
            "125/125 [==============================] - 4s 31ms/step - loss: 1.2492 - accuracy: 0.4420 - val_loss: 1.2704 - val_accuracy: 0.4225\n",
            "Epoch 15/20\n",
            "125/125 [==============================] - 4s 32ms/step - loss: 1.2316 - accuracy: 0.4485 - val_loss: 1.2611 - val_accuracy: 0.4185\n",
            "Epoch 16/20\n",
            "125/125 [==============================] - 4s 32ms/step - loss: 1.2219 - accuracy: 0.4586 - val_loss: 1.2507 - val_accuracy: 0.4276\n",
            "Epoch 17/20\n",
            "125/125 [==============================] - 4s 30ms/step - loss: 1.2931 - accuracy: 0.4110 - val_loss: 1.2996 - val_accuracy: 0.3883\n",
            "Epoch 18/20\n",
            "125/125 [==============================] - 4s 31ms/step - loss: 1.2573 - accuracy: 0.4297 - val_loss: 1.2436 - val_accuracy: 0.4205\n",
            "Epoch 19/20\n",
            "125/125 [==============================] - 4s 33ms/step - loss: 1.2230 - accuracy: 0.4566 - val_loss: 1.2464 - val_accuracy: 0.4245\n",
            "Epoch 20/20\n",
            "125/125 [==============================] - 4s 34ms/step - loss: 1.2048 - accuracy: 0.4666 - val_loss: 1.2386 - val_accuracy: 0.4245\n",
            "67/67 [==============================] - 0s 5ms/step - loss: 1.2679 - accuracy: 0.4146\n",
            "[1.2679166793823242, 0.41455399990081787]\n",
            "GLOVE_RNN\n"
          ],
          "name": "stdout"
        }
      ]
    },
    {
      "cell_type": "code",
      "metadata": {
        "id": "gZ6ak-zKgPsX",
        "colab": {
          "base_uri": "https://localhost:8080/"
        },
        "outputId": "6b5d52c4-8164-4589-eb73-63c19f54bef8"
      },
      "source": [
        "print(\"\\tLstm\\t\\t\\tBiLstm\\t\\t\\tRnn\")\n",
        "print(\"sg\",result_table[:3])\n",
        "print(\"cbow\",result_table[3:6])\n",
        "print(\"glove\",result_table[6:9])"
      ],
      "execution_count": null,
      "outputs": [
        {
          "output_type": "stream",
          "text": [
            "\tLstm\t\t\tBiLstm\t\t\tRnn\n",
            "sg [0.3079812228679657, 0.3417840301990509, 0.2694835662841797]\n",
            "cbow [0.3079812228679657, 0.3272300362586975, 0.30516430735588074]\n",
            "glove [0.7295774817466736, 0.7403755784034729, 0.41455399990081787]\n"
          ],
          "name": "stdout"
        }
      ]
    }
  ]
}