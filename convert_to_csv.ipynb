{
  "nbformat": 4,
  "nbformat_minor": 0,
  "metadata": {
    "colab": {
      "name": "convert_to_csv.ipynb",
      "provenance": [],
      "toc_visible": true,
      "authorship_tag": "ABX9TyNZSmgmTAMpQqX4FwwqqSua",
      "include_colab_link": true
    },
    "kernelspec": {
      "name": "python3",
      "display_name": "Python 3"
    }
  },
  "cells": [
    {
      "cell_type": "markdown",
      "metadata": {
        "id": "view-in-github",
        "colab_type": "text"
      },
      "source": [
        "<a href=\"https://colab.research.google.com/github/harrymkwn/InfluenceAnalysis/blob/master/convert_to_csv.ipynb\" target=\"_parent\"><img src=\"https://colab.research.google.com/assets/colab-badge.svg\" alt=\"Open In Colab\"/></a>"
      ]
    },
    {
      "cell_type": "markdown",
      "metadata": {
        "id": "BEBBqs5pGwG7",
        "colab_type": "text"
      },
      "source": [
        "#Initialization"
      ]
    },
    {
      "cell_type": "code",
      "metadata": {
        "id": "bDK2k6N-GeuO",
        "colab_type": "code",
        "colab": {}
      },
      "source": [
        "import pandas as pd\n",
        "import re"
      ],
      "execution_count": 1,
      "outputs": []
    },
    {
      "cell_type": "code",
      "metadata": {
        "id": "7vjFAQZNI5Cj",
        "colab_type": "code",
        "colab": {
          "base_uri": "https://localhost:8080/",
          "height": 34
        },
        "outputId": "e3cf8034-0e34-4e61-f7d7-b0f80326eb17"
      },
      "source": [
        "from google.colab import  drive\n",
        "\n",
        "drive.mount('/content/drive')"
      ],
      "execution_count": 2,
      "outputs": [
        {
          "output_type": "stream",
          "text": [
            "Mounted at /content/drive\n"
          ],
          "name": "stdout"
        }
      ]
    },
    {
      "cell_type": "markdown",
      "metadata": {
        "id": "x5DFgbu6G6Vr",
        "colab_type": "text"
      },
      "source": [
        "#Import data from Excel File"
      ]
    },
    {
      "cell_type": "code",
      "metadata": {
        "id": "PvWL_2NMG5uk",
        "colab_type": "code",
        "colab": {}
      },
      "source": [
        "def seprate_data(df):\n",
        "  ### Extract data from list of data\n",
        "  tweets = []\n",
        "  labels = []\n",
        "  for i in df:\n",
        "    demo = i\n",
        "    demo = demo.replace('anger','')\n",
        "    demo= re.sub(r\"[0-9]{5}\",'',demo).lstrip()\n",
        "    result = re.findall(r'\\d+\\.\\d+', demo)[0]\n",
        "    demo = demo.replace(result,'')\n",
        "    tweets.append(demo.rstrip())\n",
        "    labels.append(float(result))\n",
        "\n",
        "  return tweets,labels"
      ],
      "execution_count": 3,
      "outputs": []
    },
    {
      "cell_type": "code",
      "metadata": {
        "id": "ifVqpzEEG0UC",
        "colab_type": "code",
        "colab": {}
      },
      "source": [
        "def data_import(typeoffeel):\n",
        "  dataset = pd.read_excel(typeoffeel+'-train.xlsx',header=None)\n",
        "  df = dataset.values.tolist()\n",
        "  temp = []\n",
        "  for i in df:\n",
        "    temp.append(i[0])\n",
        "\n",
        "  df = temp\n",
        "  tweet,label = seprate_data(df)\n",
        "  category = list(((typeoffeel+\" \")*len(label)).split(\" \")[:-1])\n",
        "  return tweet,label,category"
      ],
      "execution_count": 4,
      "outputs": []
    },
    {
      "cell_type": "code",
      "metadata": {
        "id": "h4WPnoTHHNmP",
        "colab_type": "code",
        "colab": {}
      },
      "source": [
        "listofdata = ['anger','fear','joy','sadness']\n",
        "tweets = []\n",
        "category = []\n",
        "labels = []\n",
        "for i in listofdata:\n",
        "  tweet , label, cat = data_import(i)\n",
        "  tweets += tweet\n",
        "  labels += label\n",
        "  category += cat"
      ],
      "execution_count": 6,
      "outputs": []
    },
    {
      "cell_type": "markdown",
      "metadata": {
        "id": "rghFw_09H0OZ",
        "colab_type": "text"
      },
      "source": [
        "#Data Frame"
      ]
    },
    {
      "cell_type": "code",
      "metadata": {
        "id": "vOuxty3zHUT1",
        "colab_type": "code",
        "colab": {}
      },
      "source": [
        "data_dictionary = {'Tweets': tweets,'Labels': labels,'Category': category }"
      ],
      "execution_count": 7,
      "outputs": []
    },
    {
      "cell_type": "code",
      "metadata": {
        "id": "5RbN3NsmHxxv",
        "colab_type": "code",
        "colab": {
          "base_uri": "https://localhost:8080/",
          "height": 204
        },
        "outputId": "10629910-3a45-404c-f2dc-153e3f7d7fb8"
      },
      "source": [
        "df_train  = pd.DataFrame(data_dictionary)\n",
        "df_train.head()"
      ],
      "execution_count": 8,
      "outputs": [
        {
          "output_type": "execute_result",
          "data": {
            "text/html": [
              "<div>\n",
              "<style scoped>\n",
              "    .dataframe tbody tr th:only-of-type {\n",
              "        vertical-align: middle;\n",
              "    }\n",
              "\n",
              "    .dataframe tbody tr th {\n",
              "        vertical-align: top;\n",
              "    }\n",
              "\n",
              "    .dataframe thead th {\n",
              "        text-align: right;\n",
              "    }\n",
              "</style>\n",
              "<table border=\"1\" class=\"dataframe\">\n",
              "  <thead>\n",
              "    <tr style=\"text-align: right;\">\n",
              "      <th></th>\n",
              "      <th>Tweets</th>\n",
              "      <th>Labels</th>\n",
              "      <th>Category</th>\n",
              "    </tr>\n",
              "  </thead>\n",
              "  <tbody>\n",
              "    <tr>\n",
              "      <th>0</th>\n",
              "      <td>How the fu*k! Who the heck! moved my fridge!.....</td>\n",
              "      <td>0.938</td>\n",
              "      <td>anger</td>\n",
              "    </tr>\n",
              "    <tr>\n",
              "      <th>1</th>\n",
              "      <td>So my Indian Uber driver just called someone t...</td>\n",
              "      <td>0.896</td>\n",
              "      <td>anger</td>\n",
              "    </tr>\n",
              "    <tr>\n",
              "      <th>2</th>\n",
              "      <td>@DPD_UK I asked for my parcel to be delivered ...</td>\n",
              "      <td>0.896</td>\n",
              "      <td>anger</td>\n",
              "    </tr>\n",
              "    <tr>\n",
              "      <th>3</th>\n",
              "      <td>so ef whichever butt wipe pulled the fire alar...</td>\n",
              "      <td>0.896</td>\n",
              "      <td>anger</td>\n",
              "    </tr>\n",
              "    <tr>\n",
              "      <th>4</th>\n",
              "      <td>Don't join @BTCare they put the phone down on ...</td>\n",
              "      <td>0.896</td>\n",
              "      <td>anger</td>\n",
              "    </tr>\n",
              "  </tbody>\n",
              "</table>\n",
              "</div>"
            ],
            "text/plain": [
              "                                              Tweets  Labels Category\n",
              "0  How the fu*k! Who the heck! moved my fridge!.....   0.938    anger\n",
              "1  So my Indian Uber driver just called someone t...   0.896    anger\n",
              "2  @DPD_UK I asked for my parcel to be delivered ...   0.896    anger\n",
              "3  so ef whichever butt wipe pulled the fire alar...   0.896    anger\n",
              "4  Don't join @BTCare they put the phone down on ...   0.896    anger"
            ]
          },
          "metadata": {
            "tags": []
          },
          "execution_count": 8
        }
      ]
    },
    {
      "cell_type": "code",
      "metadata": {
        "id": "QA0MY-liHyYz",
        "colab_type": "code",
        "colab": {}
      },
      "source": [
        ""
      ],
      "execution_count": 8,
      "outputs": []
    },
    {
      "cell_type": "markdown",
      "metadata": {
        "id": "HEoSNLXDH_Qy",
        "colab_type": "text"
      },
      "source": [
        "#Data Frame to csv"
      ]
    },
    {
      "cell_type": "code",
      "metadata": {
        "id": "qhqZYU5vICL8",
        "colab_type": "code",
        "colab": {}
      },
      "source": [
        "def convert_main():\n",
        "  df_train.to_csv('/content/drive/My Drive/InfluenceAnalysis/Data/Train/all_train_csv.csv',index=False)"
      ],
      "execution_count": 9,
      "outputs": []
    },
    {
      "cell_type": "code",
      "metadata": {
        "id": "lGN8ZJYOIOIs",
        "colab_type": "code",
        "colab": {}
      },
      "source": [
        "def convert_all():\n",
        "\n",
        "  listofdata = ['anger','fear','joy','sadness']\n",
        "\n",
        "  for i in listofdata:\n",
        "    tweet , label, cat = data_import(i)\n",
        "    data_dictionary = {'Tweets' : tweet , 'Labels' : label}\n",
        "    df_train_category = pd.DataFrame(data_dictionary)\n",
        "    df_train_category.to_csv('/content/drive/My Drive/InfluenceAnalysis/Data/Train/' + i + '_train.csv',index=False)\n",
        "    # print(df_train.head())"
      ],
      "execution_count": 10,
      "outputs": []
    },
    {
      "cell_type": "code",
      "metadata": {
        "id": "MfkvCDQ8JvnQ",
        "colab_type": "code",
        "colab": {}
      },
      "source": [
        "def data_frame_to_csv():\n",
        "  convert_main()\n",
        "  convert_all()"
      ],
      "execution_count": 11,
      "outputs": []
    },
    {
      "cell_type": "code",
      "metadata": {
        "id": "Do3R8obVKSzH",
        "colab_type": "code",
        "colab": {}
      },
      "source": [
        "data_frame_to_csv()"
      ],
      "execution_count": 12,
      "outputs": []
    },
    {
      "cell_type": "code",
      "metadata": {
        "id": "GcLcot-zLxFh",
        "colab_type": "code",
        "colab": {}
      },
      "source": [
        "drive.flush_and_unmount()"
      ],
      "execution_count": null,
      "outputs": []
    },
    {
      "cell_type": "code",
      "metadata": {
        "id": "K840hqdEL0X7",
        "colab_type": "code",
        "colab": {}
      },
      "source": [
        ""
      ],
      "execution_count": null,
      "outputs": []
    }
  ]
}