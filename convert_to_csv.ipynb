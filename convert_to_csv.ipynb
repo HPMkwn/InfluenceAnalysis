{
  "nbformat": 4,
  "nbformat_minor": 0,
  "metadata": {
    "colab": {
      "name": "convert_to_csv.ipynb",
      "provenance": [],
      "toc_visible": true,
      "authorship_tag": "ABX9TyPeLQ3E1MI2d0QVNlnQk7yJ",
      "include_colab_link": true
    },
    "kernelspec": {
      "name": "python3",
      "display_name": "Python 3"
    }
  },
  "cells": [
    {
      "cell_type": "markdown",
      "metadata": {
        "id": "view-in-github",
        "colab_type": "text"
      },
      "source": [
        "<a href=\"https://colab.research.google.com/github/harrymkwn/InfluenceAnalysis/blob/master/convert_to_csv.ipynb\" target=\"_parent\"><img src=\"https://colab.research.google.com/assets/colab-badge.svg\" alt=\"Open In Colab\"/></a>"
      ]
    },
    {
      "cell_type": "markdown",
      "metadata": {
        "id": "BEBBqs5pGwG7"
      },
      "source": [
        "#Initialization"
      ]
    },
    {
      "cell_type": "code",
      "metadata": {
        "id": "bDK2k6N-GeuO"
      },
      "source": [
        "import pandas as pd\n",
        "import re"
      ],
      "execution_count": 20,
      "outputs": []
    },
    {
      "cell_type": "code",
      "metadata": {
        "id": "7vjFAQZNI5Cj",
        "outputId": "19586295-6936-45af-cc7d-4eaf9537e516",
        "colab": {
          "base_uri": "https://localhost:8080/",
          "height": 34
        }
      },
      "source": [
        "from google.colab import  drive\n",
        "\n",
        "drive.mount('/content/drive')"
      ],
      "execution_count": 21,
      "outputs": [
        {
          "output_type": "stream",
          "text": [
            "Drive already mounted at /content/drive; to attempt to forcibly remount, call drive.mount(\"/content/drive\", force_remount=True).\n"
          ],
          "name": "stdout"
        }
      ]
    },
    {
      "cell_type": "markdown",
      "metadata": {
        "id": "x5DFgbu6G6Vr"
      },
      "source": [
        "#Import data from Excel File"
      ]
    },
    {
      "cell_type": "code",
      "metadata": {
        "id": "PvWL_2NMG5uk"
      },
      "source": [
        "def seprate_data(df,typeoffeel):\n",
        "  ### Extract data from list of data\n",
        "  tweets = []\n",
        "  labels = []\n",
        "  for i in df:\n",
        "    demo = i\n",
        "    demo = demo.replace(typeoffeel,'')\n",
        "    demo= re.sub(r\"[0-9]{5}\",'',demo).lstrip()\n",
        "    result = re.findall(r'\\d+\\.\\d+', demo)[0]\n",
        "    demo = demo.replace(result,'')\n",
        "    tweets.append(demo.rstrip())\n",
        "    labels.append(float(result))\n",
        "\n",
        "  return tweets,labels"
      ],
      "execution_count": null,
      "outputs": []
    },
    {
      "cell_type": "code",
      "metadata": {
        "id": "ifVqpzEEG0UC"
      },
      "source": [
        "def data_import(typeoffeel):\n",
        "  dataset = pd.read_excel(typeoffeel+'-train.xlsx',header=None)\n",
        "  df = dataset.values.tolist()\n",
        "  temp = []\n",
        "  for i in df:\n",
        "    temp.append(i[0])\n",
        "\n",
        "  df = temp\n",
        "  tweet,label = seprate_data(df,typeoffeel)\n",
        "  category = list(((typeoffeel+\" \")*len(label)).split(\" \")[:-1])\n",
        "  return tweet,label,category"
      ],
      "execution_count": null,
      "outputs": []
    },
    {
      "cell_type": "code",
      "metadata": {
        "id": "h4WPnoTHHNmP"
      },
      "source": [
        "listofdata = ['anger','fear','joy','sadness']\n",
        "tweets = []\n",
        "category = []\n",
        "labels = []\n",
        "for i in listofdata:\n",
        "  tweet , label, cat = data_import(i)\n",
        "  tweets += tweet\n",
        "  labels += label\n",
        "  category += cat"
      ],
      "execution_count": null,
      "outputs": []
    },
    {
      "cell_type": "markdown",
      "metadata": {
        "id": "rghFw_09H0OZ"
      },
      "source": [
        "#Data Frame"
      ]
    },
    {
      "cell_type": "code",
      "metadata": {
        "id": "vOuxty3zHUT1"
      },
      "source": [
        "data_dictionary = {'Tweets': tweets,'Labels': labels,'Category': category }"
      ],
      "execution_count": null,
      "outputs": []
    },
    {
      "cell_type": "code",
      "metadata": {
        "id": "5RbN3NsmHxxv",
        "outputId": "db9188c3-683b-442e-e3a0-26635c9c4304",
        "colab": {
          "base_uri": "https://localhost:8080/",
          "height": 204
        }
      },
      "source": [
        "df_train  = pd.DataFrame(data_dictionary)\n",
        "df_train.head()"
      ],
      "execution_count": null,
      "outputs": [
        {
          "output_type": "execute_result",
          "data": {
            "text/html": [
              "<div>\n",
              "<style scoped>\n",
              "    .dataframe tbody tr th:only-of-type {\n",
              "        vertical-align: middle;\n",
              "    }\n",
              "\n",
              "    .dataframe tbody tr th {\n",
              "        vertical-align: top;\n",
              "    }\n",
              "\n",
              "    .dataframe thead th {\n",
              "        text-align: right;\n",
              "    }\n",
              "</style>\n",
              "<table border=\"1\" class=\"dataframe\">\n",
              "  <thead>\n",
              "    <tr style=\"text-align: right;\">\n",
              "      <th></th>\n",
              "      <th>Tweets</th>\n",
              "      <th>Labels</th>\n",
              "      <th>Category</th>\n",
              "    </tr>\n",
              "  </thead>\n",
              "  <tbody>\n",
              "    <tr>\n",
              "      <th>0</th>\n",
              "      <td>How the fu*k! Who the heck! moved my fridge!.....</td>\n",
              "      <td>0.938</td>\n",
              "      <td>anger</td>\n",
              "    </tr>\n",
              "    <tr>\n",
              "      <th>1</th>\n",
              "      <td>So my Indian Uber driver just called someone t...</td>\n",
              "      <td>0.896</td>\n",
              "      <td>anger</td>\n",
              "    </tr>\n",
              "    <tr>\n",
              "      <th>2</th>\n",
              "      <td>@DPD_UK I asked for my parcel to be delivered ...</td>\n",
              "      <td>0.896</td>\n",
              "      <td>anger</td>\n",
              "    </tr>\n",
              "    <tr>\n",
              "      <th>3</th>\n",
              "      <td>so ef whichever butt wipe pulled the fire alar...</td>\n",
              "      <td>0.896</td>\n",
              "      <td>anger</td>\n",
              "    </tr>\n",
              "    <tr>\n",
              "      <th>4</th>\n",
              "      <td>Don't join @BTCare they put the phone down on ...</td>\n",
              "      <td>0.896</td>\n",
              "      <td>anger</td>\n",
              "    </tr>\n",
              "  </tbody>\n",
              "</table>\n",
              "</div>"
            ],
            "text/plain": [
              "                                              Tweets  Labels Category\n",
              "0  How the fu*k! Who the heck! moved my fridge!.....   0.938    anger\n",
              "1  So my Indian Uber driver just called someone t...   0.896    anger\n",
              "2  @DPD_UK I asked for my parcel to be delivered ...   0.896    anger\n",
              "3  so ef whichever butt wipe pulled the fire alar...   0.896    anger\n",
              "4  Don't join @BTCare they put the phone down on ...   0.896    anger"
            ]
          },
          "metadata": {
            "tags": []
          },
          "execution_count": 8
        }
      ]
    },
    {
      "cell_type": "code",
      "metadata": {
        "id": "QA0MY-liHyYz"
      },
      "source": [
        ""
      ],
      "execution_count": null,
      "outputs": []
    },
    {
      "cell_type": "markdown",
      "metadata": {
        "id": "HEoSNLXDH_Qy"
      },
      "source": [
        "#Data Frame to csv"
      ]
    },
    {
      "cell_type": "code",
      "metadata": {
        "id": "qhqZYU5vICL8"
      },
      "source": [
        "def convert_main():\n",
        "  df_train.to_csv('/content/drive/My Drive/InfluenceAnalysis/Data/Train/all_train_csv.csv',index=False)"
      ],
      "execution_count": null,
      "outputs": []
    },
    {
      "cell_type": "code",
      "metadata": {
        "id": "lGN8ZJYOIOIs"
      },
      "source": [
        "def convert_all():\n",
        "\n",
        "  listofdata = ['anger','fear','joy','sadness']\n",
        "\n",
        "  for i in listofdata:\n",
        "    tweet , label, cat = data_import(i)\n",
        "    data_dictionary = {'Tweets' : tweet , 'Labels' : label}\n",
        "    df_train_category = pd.DataFrame(data_dictionary)\n",
        "    df_train_category.to_csv('/content/drive/My Drive/InfluenceAnalysis/Data/Train/' + i + '_train.csv',index=False)\n",
        "    # print(df_train.head())"
      ],
      "execution_count": null,
      "outputs": []
    },
    {
      "cell_type": "code",
      "metadata": {
        "id": "MfkvCDQ8JvnQ"
      },
      "source": [
        "def data_frame_to_csv():\n",
        "  convert_main()\n",
        "  convert_all()"
      ],
      "execution_count": null,
      "outputs": []
    },
    {
      "cell_type": "code",
      "metadata": {
        "id": "Do3R8obVKSzH"
      },
      "source": [
        "data_frame_to_csv()"
      ],
      "execution_count": null,
      "outputs": []
    },
    {
      "cell_type": "code",
      "metadata": {
        "id": "GcLcot-zLxFh"
      },
      "source": [
        "drive.flush_and_unmount()"
      ],
      "execution_count": null,
      "outputs": []
    },
    {
      "cell_type": "code",
      "metadata": {
        "id": "K840hqdEL0X7"
      },
      "source": [
        ""
      ],
      "execution_count": null,
      "outputs": []
    },
    {
      "cell_type": "markdown",
      "metadata": {
        "id": "a7Cvl1dF1XzG"
      },
      "source": [
        "#Test Data to Csv"
      ]
    },
    {
      "cell_type": "code",
      "metadata": {
        "id": "TOjodhfd1Z3x"
      },
      "source": [
        "def test_to_csv():\n",
        "  data_test = pd.read_csv('all_test_csv.csv')\n",
        "  data_test.to_csv('/content/drive/My Drive/InfluenceAnalysis/Data/Test/all_test_csv.csv',index=False)\n",
        "  "
      ],
      "execution_count": 26,
      "outputs": []
    },
    {
      "cell_type": "code",
      "metadata": {
        "id": "fCjlbstk1pza"
      },
      "source": [
        "test_to_csv()"
      ],
      "execution_count": 28,
      "outputs": []
    },
    {
      "cell_type": "code",
      "metadata": {
        "id": "JwT_IpDL3lco"
      },
      "source": [
        ""
      ],
      "execution_count": null,
      "outputs": []
    }
  ]
}