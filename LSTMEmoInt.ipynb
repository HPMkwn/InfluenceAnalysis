{
  "nbformat": 4,
  "nbformat_minor": 0,
  "metadata": {
    "colab": {
      "name": "LSTMEmoInt.ipynb",
      "provenance": [],
      "include_colab_link": true
    },
    "kernelspec": {
      "name": "python3",
      "display_name": "Python 3"
    },
    "accelerator": "GPU"
  },
  "cells": [
    {
      "cell_type": "markdown",
      "metadata": {
        "id": "view-in-github",
        "colab_type": "text"
      },
      "source": [
        "<a href=\"https://colab.research.google.com/github/harrymkwn/InfluenceAnalysis/blob/master/LSTMEmoInt.ipynb\" target=\"_parent\"><img src=\"https://colab.research.google.com/assets/colab-badge.svg\" alt=\"Open In Colab\"/></a>"
      ]
    },
    {
      "cell_type": "code",
      "metadata": {
        "id": "YkuKKcIUmM27",
        "outputId": "e66316b7-89f4-48d2-f804-d2b599e5a67d",
        "colab": {
          "base_uri": "https://localhost:8080/"
        }
      },
      "source": [
        "import pandas as pd\n",
        "import numpy as np\n",
        "import tensorflow as tf\n",
        "from gensim.models import Word2Vec\n",
        "import matplotlib.pyplot as plt\n",
        "from sklearn.linear_model import LogisticRegression\n",
        "from sklearn.multiclass import OneVsRestClassifier\n",
        "from gensim.models import KeyedVectors\n",
        "from sklearn.model_selection import train_test_split\n",
        "from google.colab import  drive\n",
        "drive.mount('/content/drive')\n",
        "import nltk\n",
        "from nltk.corpus import stopwords\n",
        "nltk.download('stopwords')\n",
        "device_name = tf.test.gpu_device_name()\n",
        "print(device_name)\n",
        "df = pd.read_csv('/content/drive/My Drive/IA/Clean_Tweets_data.csv')\n",
        "def remove_stop(text):\n",
        "  sw = stopwords.words(\"english\")\n",
        "  sw.append('br')\n",
        "  clean = \" \".join([x for x in text.split() if x not in sw])\n",
        "  return clean\n",
        "df['Tweet'] = df['Tweet'].apply(lambda tweet : remove_stop(tweet))"
      ],
      "execution_count": 1,
      "outputs": [
        {
          "output_type": "stream",
          "text": [
            "Drive already mounted at /content/drive; to attempt to forcibly remount, call drive.mount(\"/content/drive\", force_remount=True).\n",
            "[nltk_data] Downloading package stopwords to /root/nltk_data...\n",
            "[nltk_data]   Package stopwords is already up-to-date!\n",
            "/device:GPU:0\n"
          ],
          "name": "stdout"
        }
      ]
    },
    {
      "cell_type": "code",
      "metadata": {
        "id": "7yV6_xYSnZHt"
      },
      "source": [
        "category_dict = {\"anger\":[1,0,0,0],\"sadness\":[0,1,0,0],\"fear\":[0,0,1,0],\"joy\":[0,0,0,1]}\n",
        "data_tweet = [x.lower().split() for x in df['Tweet']]\n",
        "data_cat = np.array([category_dict[x] for x in df['Emotion']])"
      ],
      "execution_count": 2,
      "outputs": []
    },
    {
      "cell_type": "code",
      "metadata": {
        "id": "4PmA3_Ihp-Ao",
        "outputId": "4ba3f634-5486-4925-ad39-cfe271016e40",
        "colab": {
          "base_uri": "https://localhost:8080/"
        }
      },
      "source": [
        "print(data_tweet[:5])\n",
        "print(data_cat[:5])"
      ],
      "execution_count": 3,
      "outputs": [
        {
          "output_type": "stream",
          "text": [
            "[['like', 'i', 'cannot', '12', 'hours', 'worth', 'standing', 'calorie', 'burning', '3', 'hours', 'loudly', 'crying', 'faceloudly', 'crying', 'faceloudly', 'crying', 'faceloudly', 'crying', 'face', '1stworldprobs4vs'], ['darkest', 'nights', 'bright', 'solemn', 'faces', 'lights', 'smile', 'believe', 'i'], ['true', 'depression', 'fans', 'get', 'one', 'face', 'tears', 'joyface', 'tears', 'joy'], ['awe', 'yay', 'thank', 'good', 'i', 'worried'], ['on', 'way', 'rejoicing', 'pulpit', 'park', 'city', 'baptist', 'church', 'surrey', 'bc', 'midweek', 'service']]\n",
            "[[1 0 0 0]\n",
            " [0 1 0 0]\n",
            " [0 1 0 0]\n",
            " [0 0 1 0]\n",
            " [0 0 0 1]]\n"
          ],
          "name": "stdout"
        }
      ]
    },
    {
      "cell_type": "code",
      "metadata": {
        "id": "5mIV-pI5C44j"
      },
      "source": [
        "# Parameters\n",
        "Min_count = 0\n",
        "Embedding_size = 100\n",
        "Window_size = 5\n",
        "Negative_sampling = 00"
      ],
      "execution_count": 4,
      "outputs": []
    },
    {
      "cell_type": "code",
      "metadata": {
        "id": "uUSBfiE0nTVv",
        "outputId": "a58377ed-bd4c-4309-906f-97a6f690ff8d",
        "colab": {
          "base_uri": "https://localhost:8080/"
        }
      },
      "source": [
        "w2v_sg = Word2Vec(min_count=Min_count,\n",
        "                     window=Window_size,\n",
        "                     size=Embedding_size,\n",
        "                     negative=Negative_sampling,sg=1)\n",
        "w2v_sg.build_vocab(data_tweet)\n",
        "w2v_sg.train(data_tweet, total_examples=w2v_sg.corpus_count, epochs=5)\n",
        "w2v_cbow = Word2Vec(min_count=Min_count,\n",
        "                     window=Window_size,\n",
        "                     size=Embedding_size,\n",
        "                     negative=Negative_sampling,sg=0)\n",
        "w2v_cbow.build_vocab(data_tweet)\n",
        "w2v_cbow.train(data_tweet, total_examples=w2v_cbow.corpus_count, epochs=5)"
      ],
      "execution_count": 5,
      "outputs": [
        {
          "output_type": "execute_result",
          "data": {
            "text/plain": [
              "(350729, 369570)"
            ]
          },
          "metadata": {
            "tags": []
          },
          "execution_count": 5
        }
      ]
    },
    {
      "cell_type": "code",
      "metadata": {
        "id": "gVzquoxb6FQJ"
      },
      "source": [
        "vocab_sg = w2v_sg.wv.vocab\n",
        "vocab_sg = [x for x in vocab_sg]\n",
        "vocab_cbow = w2v_cbow.wv.vocab\n",
        "vocab_cbow = [x for x in vocab_cbow] \n",
        "vocab_glove = {}\n",
        "with open(\"/content/drive/My Drive/InfluenceAnalysis/glove/glove.twitter.27B.100d.txt\", 'r', encoding=\"utf-8\") as f:\n",
        "  for line in f:\n",
        "      values = line.split()\n",
        "      word = values[0]\n",
        "      vector = np.asarray(values[1:], \"float32\")\n",
        "      vocab_glove[word] = vector"
      ],
      "execution_count": 6,
      "outputs": []
    },
    {
      "cell_type": "code",
      "metadata": {
        "id": "VJOMq2aw343d"
      },
      "source": [
        "data_tweet_vec_sg = np.array([np.array([w2v_sg.wv.get_vector(i) for i in x if i in vocab_sg]) for x in data_tweet])\n",
        "data_tweet_vec_cbow = np.array([np.array([w2v_cbow.wv.get_vector(i) for i in x if i in vocab_cbow]) for x in data_tweet])\n",
        "data_tweet_vec_glove = np.array([np.array([vocab_glove[i] for i in x if i in vocab_glove.keys()]) for x in data_tweet])\n",
        "Max_input_size_glove = max([len(x) for x in data_tweet_vec_glove])\n",
        "Max_input_size=max([len(x) for x in data_tweet_vec_sg]+[len(x) for x in data_tweet_vec_cbow])"
      ],
      "execution_count": 7,
      "outputs": []
    },
    {
      "cell_type": "code",
      "metadata": {
        "id": "PmqO_eUQAien"
      },
      "source": [
        "data_tweet_vec_sg = np.array([np.pad(x.flatten(),(0,Max_input_size*Embedding_size-len(x.flatten()))).reshape(Max_input_size,Embedding_size) for x in data_tweet_vec_sg])\n",
        "data_tweet_vec_cbow = np.array([np.pad(x.flatten(),(0,Max_input_size*Embedding_size-len(x.flatten()))).reshape(Max_input_size,Embedding_size) for x in data_tweet_vec_cbow])\n",
        "data_tweet_vec_glove = np.array([np.pad(x.flatten(),(0,Max_input_size_glove*100-len(x.flatten()))).reshape(Max_input_size_glove,100) for x in data_tweet_vec_glove])\n"
      ],
      "execution_count": 8,
      "outputs": []
    },
    {
      "cell_type": "code",
      "metadata": {
        "id": "-Fue2npdFINi"
      },
      "source": [
        "X_train_sg, X_test_sg, y_train_sg, y_test_sg = train_test_split(data_tweet_vec_sg, data_cat, test_size=0.30, random_state=42)\n",
        "X_train_cbow, X_test_cbow, y_train_cbow, y_test_cbow = train_test_split(data_tweet_vec_cbow, data_cat, test_size=0.30, random_state=42)\n",
        "X_train_glove, X_test_glove, y_train_glove, y_test_glove = train_test_split(data_tweet_vec_glove, data_cat, test_size=0.30, random_state=42)"
      ],
      "execution_count": 9,
      "outputs": []
    },
    {
      "cell_type": "code",
      "metadata": {
        "id": "1GfgXfAFlD1J",
        "outputId": "bb89f4b5-2f7f-42be-96d1-01e143bb14c6",
        "colab": {
          "base_uri": "https://localhost:8080/"
        }
      },
      "source": [
        "model_sg = tf.keras.Sequential()\n",
        "model_sg.add(tf.keras.Input(shape=(Max_input_size,Embedding_size)))\n",
        "model_sg.add(tf.keras.layers.LSTM(50))\n",
        "model_sg.add(tf.keras.layers.Dense(4, activation='softmax'))\n",
        "model_sg.compile(loss='categorical_crossentropy',optimizer='adam', \n",
        "                           metrics=['accuracy'])\n",
        "history = model_sg.fit(X_train_sg,y_train_sg,epochs=20,validation_split=0.2)\n",
        "history = model_sg.evaluate(X_test_sg,y_test_sg)\n",
        "print(history)\n",
        "print(\"SG_LSTM\")"
      ],
      "execution_count": 10,
      "outputs": [
        {
          "output_type": "stream",
          "text": [
            "Epoch 1/20\n",
            "125/125 [==============================] - 1s 9ms/step - loss: 1.3723 - accuracy: 0.3262 - val_loss: 1.3946 - val_accuracy: 0.2978\n",
            "Epoch 2/20\n",
            "125/125 [==============================] - 1s 6ms/step - loss: 1.3714 - accuracy: 0.3272 - val_loss: 1.3821 - val_accuracy: 0.2978\n",
            "Epoch 3/20\n",
            "125/125 [==============================] - 1s 6ms/step - loss: 1.3708 - accuracy: 0.3272 - val_loss: 1.3834 - val_accuracy: 0.2978\n",
            "Epoch 4/20\n",
            "125/125 [==============================] - 1s 6ms/step - loss: 1.3706 - accuracy: 0.3272 - val_loss: 1.3845 - val_accuracy: 0.2978\n",
            "Epoch 5/20\n",
            "125/125 [==============================] - 1s 5ms/step - loss: 1.3700 - accuracy: 0.3272 - val_loss: 1.3830 - val_accuracy: 0.2978\n",
            "Epoch 6/20\n",
            "125/125 [==============================] - 1s 5ms/step - loss: 1.3703 - accuracy: 0.3272 - val_loss: 1.3847 - val_accuracy: 0.2978\n",
            "Epoch 7/20\n",
            "125/125 [==============================] - 1s 6ms/step - loss: 1.3702 - accuracy: 0.3272 - val_loss: 1.3852 - val_accuracy: 0.2978\n",
            "Epoch 8/20\n",
            "125/125 [==============================] - 1s 6ms/step - loss: 1.3702 - accuracy: 0.3272 - val_loss: 1.3836 - val_accuracy: 0.2978\n",
            "Epoch 9/20\n",
            "125/125 [==============================] - 1s 5ms/step - loss: 1.3706 - accuracy: 0.3272 - val_loss: 1.3827 - val_accuracy: 0.2978\n",
            "Epoch 10/20\n",
            "125/125 [==============================] - 1s 5ms/step - loss: 1.3703 - accuracy: 0.3272 - val_loss: 1.3865 - val_accuracy: 0.2978\n",
            "Epoch 11/20\n",
            "125/125 [==============================] - 1s 6ms/step - loss: 1.3704 - accuracy: 0.3272 - val_loss: 1.3837 - val_accuracy: 0.2978\n",
            "Epoch 12/20\n",
            "125/125 [==============================] - 1s 6ms/step - loss: 1.3702 - accuracy: 0.3272 - val_loss: 1.3844 - val_accuracy: 0.2978\n",
            "Epoch 13/20\n",
            "125/125 [==============================] - 1s 5ms/step - loss: 1.3702 - accuracy: 0.3272 - val_loss: 1.3829 - val_accuracy: 0.2978\n",
            "Epoch 14/20\n",
            "125/125 [==============================] - 1s 6ms/step - loss: 1.3703 - accuracy: 0.3272 - val_loss: 1.3840 - val_accuracy: 0.2978\n",
            "Epoch 15/20\n",
            "125/125 [==============================] - 1s 6ms/step - loss: 1.3702 - accuracy: 0.3272 - val_loss: 1.3848 - val_accuracy: 0.2978\n",
            "Epoch 16/20\n",
            "125/125 [==============================] - 1s 5ms/step - loss: 1.3701 - accuracy: 0.3272 - val_loss: 1.3840 - val_accuracy: 0.2978\n",
            "Epoch 17/20\n",
            "125/125 [==============================] - 1s 5ms/step - loss: 1.3701 - accuracy: 0.3272 - val_loss: 1.3844 - val_accuracy: 0.2978\n",
            "Epoch 18/20\n",
            "125/125 [==============================] - 1s 5ms/step - loss: 1.3703 - accuracy: 0.3272 - val_loss: 1.3846 - val_accuracy: 0.2978\n",
            "Epoch 19/20\n",
            "125/125 [==============================] - 1s 5ms/step - loss: 1.3703 - accuracy: 0.3272 - val_loss: 1.3840 - val_accuracy: 0.2978\n",
            "Epoch 20/20\n",
            "125/125 [==============================] - 1s 6ms/step - loss: 1.3700 - accuracy: 0.3272 - val_loss: 1.3836 - val_accuracy: 0.2978\n",
            "67/67 [==============================] - 0s 3ms/step - loss: 1.3791 - accuracy: 0.3080\n",
            "[1.3790638446807861, 0.3079812228679657]\n",
            "SG_LSTM\n"
          ],
          "name": "stdout"
        }
      ]
    },
    {
      "cell_type": "code",
      "metadata": {
        "id": "tnRZPDZac1Io",
        "outputId": "787bb0ed-f7c9-4c28-88aa-df8d26a0fa76",
        "colab": {
          "base_uri": "https://localhost:8080/"
        }
      },
      "source": [
        "model_sg_bi = tf.keras.Sequential()\n",
        "model_sg_bi.add(tf.keras.Input(shape=(Max_input_size,Embedding_size)))\n",
        "model_sg_bi.add(tf.keras.layers.Bidirectional(tf.keras.layers.LSTM(50),merge_mode='concat'))\n",
        "model_sg_bi.add(tf.keras.layers.Dense(4, activation='softmax'))\n",
        "model_sg_bi.compile(loss='categorical_crossentropy',optimizer='adam', \n",
        "                           metrics=['accuracy'])\n",
        "history = model_sg_bi.fit(X_train_sg,y_train_sg,epochs=20,validation_split=0.2)\n",
        "history = model_sg_bi.evaluate(X_test_sg,y_test_sg)\n",
        "print(history)\n",
        "print(\"SG_BI\")"
      ],
      "execution_count": 17,
      "outputs": [
        {
          "output_type": "stream",
          "text": [
            "Epoch 1/20\n",
            "125/125 [==============================] - 2s 13ms/step - loss: 1.3734 - accuracy: 0.3194 - val_loss: 1.3848 - val_accuracy: 0.2978\n",
            "Epoch 2/20\n",
            "125/125 [==============================] - 1s 9ms/step - loss: 1.3701 - accuracy: 0.3272 - val_loss: 1.3825 - val_accuracy: 0.2978\n",
            "Epoch 3/20\n",
            "125/125 [==============================] - 1s 9ms/step - loss: 1.3699 - accuracy: 0.3272 - val_loss: 1.3832 - val_accuracy: 0.2978\n",
            "Epoch 4/20\n",
            "125/125 [==============================] - 1s 9ms/step - loss: 1.3697 - accuracy: 0.3272 - val_loss: 1.3843 - val_accuracy: 0.2978\n",
            "Epoch 5/20\n",
            "125/125 [==============================] - 1s 9ms/step - loss: 1.3692 - accuracy: 0.3272 - val_loss: 1.3818 - val_accuracy: 0.2978\n",
            "Epoch 6/20\n",
            "125/125 [==============================] - 1s 8ms/step - loss: 1.3689 - accuracy: 0.3272 - val_loss: 1.3844 - val_accuracy: 0.2978\n",
            "Epoch 7/20\n",
            "125/125 [==============================] - 1s 9ms/step - loss: 1.3671 - accuracy: 0.3272 - val_loss: 1.3809 - val_accuracy: 0.2978\n",
            "Epoch 8/20\n",
            "125/125 [==============================] - 1s 8ms/step - loss: 1.3635 - accuracy: 0.3272 - val_loss: 1.3795 - val_accuracy: 0.2978\n",
            "Epoch 9/20\n",
            "125/125 [==============================] - 1s 9ms/step - loss: 1.3585 - accuracy: 0.3285 - val_loss: 1.3766 - val_accuracy: 0.2978\n",
            "Epoch 10/20\n",
            "125/125 [==============================] - 1s 9ms/step - loss: 1.3542 - accuracy: 0.3315 - val_loss: 1.3723 - val_accuracy: 0.3089\n",
            "Epoch 11/20\n",
            "125/125 [==============================] - 1s 9ms/step - loss: 1.3409 - accuracy: 0.3496 - val_loss: 1.3631 - val_accuracy: 0.3360\n",
            "Epoch 12/20\n",
            "125/125 [==============================] - 1s 9ms/step - loss: 1.3235 - accuracy: 0.3665 - val_loss: 1.3705 - val_accuracy: 0.3330\n",
            "Epoch 13/20\n",
            "125/125 [==============================] - 1s 9ms/step - loss: 1.3317 - accuracy: 0.3524 - val_loss: 1.3669 - val_accuracy: 0.3169\n",
            "Epoch 14/20\n",
            "125/125 [==============================] - 1s 9ms/step - loss: 1.3312 - accuracy: 0.3589 - val_loss: 1.3536 - val_accuracy: 0.3441\n",
            "Epoch 15/20\n",
            "125/125 [==============================] - 1s 9ms/step - loss: 1.3115 - accuracy: 0.3723 - val_loss: 1.3513 - val_accuracy: 0.3310\n",
            "Epoch 16/20\n",
            "125/125 [==============================] - 1s 9ms/step - loss: 1.3062 - accuracy: 0.3778 - val_loss: 1.3504 - val_accuracy: 0.3400\n",
            "Epoch 17/20\n",
            "125/125 [==============================] - 1s 9ms/step - loss: 1.2998 - accuracy: 0.3763 - val_loss: 1.3513 - val_accuracy: 0.3370\n",
            "Epoch 18/20\n",
            "125/125 [==============================] - 1s 9ms/step - loss: 1.2965 - accuracy: 0.3851 - val_loss: 1.3588 - val_accuracy: 0.3340\n",
            "Epoch 19/20\n",
            "125/125 [==============================] - 1s 9ms/step - loss: 1.2939 - accuracy: 0.3881 - val_loss: 1.3474 - val_accuracy: 0.3410\n",
            "Epoch 20/20\n",
            "125/125 [==============================] - 1s 9ms/step - loss: 1.2879 - accuracy: 0.3881 - val_loss: 1.3494 - val_accuracy: 0.3491\n",
            "67/67 [==============================] - 0s 4ms/step - loss: 1.3465 - accuracy: 0.3366\n",
            "[1.346457839012146, 0.33661970496177673]\n",
            "SG_BI\n"
          ],
          "name": "stdout"
        }
      ]
    },
    {
      "cell_type": "code",
      "metadata": {
        "id": "ezKZ8K1VV5Wq",
        "outputId": "1b127852-475f-4933-c433-198c7f21aa6f",
        "colab": {
          "base_uri": "https://localhost:8080/"
        }
      },
      "source": [
        "model_sg_rnn = tf.keras.Sequential()\n",
        "model_sg_rnn.add(tf.keras.Input(shape=(Max_input_size,Embedding_size)))\n",
        "model_sg_rnn.add(tf.keras.layers.SimpleRNN(50))\n",
        "model_sg_rnn.add(tf.keras.layers.Dense(4, activation='softmax'))\n",
        "model_sg_rnn.compile(loss='categorical_crossentropy',optimizer='adam', \n",
        "                           metrics=['accuracy'])\n",
        "history = model_sg_rnn.fit(X_train_sg,y_train_sg,epochs=20,validation_split=0.2)\n",
        "history = model_sg_rnn.evaluate(X_test_sg,y_test_sg)\n",
        "print(history)\n",
        "print(\"SG_RNN\")"
      ],
      "execution_count": 11,
      "outputs": [
        {
          "output_type": "stream",
          "text": [
            "Epoch 1/20\n",
            "125/125 [==============================] - 4s 34ms/step - loss: 1.3758 - accuracy: 0.3219 - val_loss: 1.3807 - val_accuracy: 0.2978\n",
            "Epoch 2/20\n",
            "125/125 [==============================] - 4s 31ms/step - loss: 1.3684 - accuracy: 0.3265 - val_loss: 1.3806 - val_accuracy: 0.2988\n",
            "Epoch 3/20\n",
            "125/125 [==============================] - 4s 31ms/step - loss: 1.3693 - accuracy: 0.3262 - val_loss: 1.3840 - val_accuracy: 0.2948\n",
            "Epoch 4/20\n",
            "125/125 [==============================] - 4s 31ms/step - loss: 1.3679 - accuracy: 0.3242 - val_loss: 1.3851 - val_accuracy: 0.2978\n",
            "Epoch 5/20\n",
            "125/125 [==============================] - 4s 30ms/step - loss: 1.3665 - accuracy: 0.3300 - val_loss: 1.3880 - val_accuracy: 0.2978\n",
            "Epoch 6/20\n",
            "125/125 [==============================] - 4s 32ms/step - loss: 1.3663 - accuracy: 0.3262 - val_loss: 1.4082 - val_accuracy: 0.2777\n",
            "Epoch 7/20\n",
            "125/125 [==============================] - 4s 32ms/step - loss: 1.3691 - accuracy: 0.3285 - val_loss: 1.3840 - val_accuracy: 0.2978\n",
            "Epoch 8/20\n",
            "125/125 [==============================] - 4s 31ms/step - loss: 1.3674 - accuracy: 0.3247 - val_loss: 1.3938 - val_accuracy: 0.2656\n",
            "Epoch 9/20\n",
            "125/125 [==============================] - 4s 31ms/step - loss: 1.3639 - accuracy: 0.3282 - val_loss: 1.3969 - val_accuracy: 0.2978\n",
            "Epoch 10/20\n",
            "125/125 [==============================] - 4s 32ms/step - loss: 1.3669 - accuracy: 0.3272 - val_loss: 1.3795 - val_accuracy: 0.3048\n",
            "Epoch 11/20\n",
            "125/125 [==============================] - 4s 32ms/step - loss: 1.3719 - accuracy: 0.3252 - val_loss: 1.3918 - val_accuracy: 0.2616\n",
            "Epoch 12/20\n",
            "125/125 [==============================] - 4s 33ms/step - loss: 1.3588 - accuracy: 0.3358 - val_loss: 1.3881 - val_accuracy: 0.2777\n",
            "Epoch 13/20\n",
            "125/125 [==============================] - 4s 31ms/step - loss: 1.3607 - accuracy: 0.3398 - val_loss: 1.3775 - val_accuracy: 0.2958\n",
            "Epoch 14/20\n",
            "125/125 [==============================] - 4s 31ms/step - loss: 1.3583 - accuracy: 0.3358 - val_loss: 1.3773 - val_accuracy: 0.3068\n",
            "Epoch 15/20\n",
            "125/125 [==============================] - 4s 33ms/step - loss: 1.3465 - accuracy: 0.3582 - val_loss: 1.3856 - val_accuracy: 0.2938\n",
            "Epoch 16/20\n",
            "125/125 [==============================] - 4s 32ms/step - loss: 1.3538 - accuracy: 0.3358 - val_loss: 1.3950 - val_accuracy: 0.3149\n",
            "Epoch 17/20\n",
            "125/125 [==============================] - 4s 33ms/step - loss: 1.3611 - accuracy: 0.3418 - val_loss: 1.3958 - val_accuracy: 0.3028\n",
            "Epoch 18/20\n",
            "125/125 [==============================] - 4s 31ms/step - loss: 1.3595 - accuracy: 0.3320 - val_loss: 1.3920 - val_accuracy: 0.2877\n",
            "Epoch 19/20\n",
            "125/125 [==============================] - 4s 32ms/step - loss: 1.3539 - accuracy: 0.3489 - val_loss: 1.3807 - val_accuracy: 0.3078\n",
            "Epoch 20/20\n",
            "125/125 [==============================] - 4s 32ms/step - loss: 1.3489 - accuracy: 0.3509 - val_loss: 1.3941 - val_accuracy: 0.3099\n",
            "67/67 [==============================] - 0s 5ms/step - loss: 1.3855 - accuracy: 0.3141\n",
            "[1.3855304718017578, 0.3140845000743866]\n",
            "SG_RNN\n"
          ],
          "name": "stdout"
        }
      ]
    },
    {
      "cell_type": "code",
      "metadata": {
        "id": "cYLoC2d6IMyr",
        "outputId": "48e7bff9-8ab7-4398-92ad-dd0cc20b16f9",
        "colab": {
          "base_uri": "https://localhost:8080/"
        }
      },
      "source": [
        "model_cbow = tf.keras.Sequential()\n",
        "model_cbow.add(tf.keras.Input(shape=(Max_input_size,Embedding_size)))\n",
        "model_cbow.add(tf.keras.layers.LSTM(50))\n",
        "model_cbow.add(tf.keras.layers.Dense(4, activation='softmax'))\n",
        "model_cbow.compile(loss='categorical_crossentropy',optimizer='adam', \n",
        "                           metrics=['accuracy'])\n",
        "history = model_cbow.fit(X_train_cbow,y_train_cbow,epochs=20,validation_split=0.2)\n",
        "history = model_cbow.evaluate(X_test_cbow,y_test_cbow)\n",
        "print(history)\n",
        "print(\"CBOW_LSTM\")"
      ],
      "execution_count": 12,
      "outputs": [
        {
          "output_type": "stream",
          "text": [
            "Epoch 1/20\n",
            "125/125 [==============================] - 1s 8ms/step - loss: 1.3745 - accuracy: 0.3179 - val_loss: 1.3827 - val_accuracy: 0.2978\n",
            "Epoch 2/20\n",
            "125/125 [==============================] - 1s 6ms/step - loss: 1.3701 - accuracy: 0.3272 - val_loss: 1.3829 - val_accuracy: 0.2978\n",
            "Epoch 3/20\n",
            "125/125 [==============================] - 1s 6ms/step - loss: 1.3708 - accuracy: 0.3272 - val_loss: 1.3828 - val_accuracy: 0.2978\n",
            "Epoch 4/20\n",
            "125/125 [==============================] - 1s 6ms/step - loss: 1.3707 - accuracy: 0.3272 - val_loss: 1.3850 - val_accuracy: 0.2978\n",
            "Epoch 5/20\n",
            "125/125 [==============================] - 1s 6ms/step - loss: 1.3698 - accuracy: 0.3272 - val_loss: 1.3821 - val_accuracy: 0.2978\n",
            "Epoch 6/20\n",
            "125/125 [==============================] - 1s 6ms/step - loss: 1.3706 - accuracy: 0.3272 - val_loss: 1.3872 - val_accuracy: 0.2978\n",
            "Epoch 7/20\n",
            "125/125 [==============================] - 1s 6ms/step - loss: 1.3701 - accuracy: 0.3272 - val_loss: 1.3828 - val_accuracy: 0.2978\n",
            "Epoch 8/20\n",
            "125/125 [==============================] - 1s 6ms/step - loss: 1.3704 - accuracy: 0.3272 - val_loss: 1.3847 - val_accuracy: 0.2978\n",
            "Epoch 9/20\n",
            "125/125 [==============================] - 1s 5ms/step - loss: 1.3704 - accuracy: 0.3272 - val_loss: 1.3855 - val_accuracy: 0.2978\n",
            "Epoch 10/20\n",
            "125/125 [==============================] - 1s 5ms/step - loss: 1.3706 - accuracy: 0.3272 - val_loss: 1.3843 - val_accuracy: 0.2978\n",
            "Epoch 11/20\n",
            "125/125 [==============================] - 1s 6ms/step - loss: 1.3704 - accuracy: 0.3272 - val_loss: 1.3851 - val_accuracy: 0.2978\n",
            "Epoch 12/20\n",
            "125/125 [==============================] - 1s 5ms/step - loss: 1.3698 - accuracy: 0.3272 - val_loss: 1.3866 - val_accuracy: 0.2978\n",
            "Epoch 13/20\n",
            "125/125 [==============================] - 1s 5ms/step - loss: 1.3702 - accuracy: 0.3272 - val_loss: 1.3838 - val_accuracy: 0.2978\n",
            "Epoch 14/20\n",
            "125/125 [==============================] - 1s 6ms/step - loss: 1.3702 - accuracy: 0.3272 - val_loss: 1.3848 - val_accuracy: 0.2978\n",
            "Epoch 15/20\n",
            "125/125 [==============================] - 1s 6ms/step - loss: 1.3704 - accuracy: 0.3272 - val_loss: 1.3853 - val_accuracy: 0.2978\n",
            "Epoch 16/20\n",
            "125/125 [==============================] - 1s 6ms/step - loss: 1.3702 - accuracy: 0.3272 - val_loss: 1.3856 - val_accuracy: 0.2978\n",
            "Epoch 17/20\n",
            "125/125 [==============================] - 1s 5ms/step - loss: 1.3702 - accuracy: 0.3272 - val_loss: 1.3845 - val_accuracy: 0.2978\n",
            "Epoch 18/20\n",
            "125/125 [==============================] - 1s 5ms/step - loss: 1.3700 - accuracy: 0.3272 - val_loss: 1.3834 - val_accuracy: 0.2978\n",
            "Epoch 19/20\n",
            "125/125 [==============================] - 1s 5ms/step - loss: 1.3700 - accuracy: 0.3272 - val_loss: 1.3854 - val_accuracy: 0.2978\n",
            "Epoch 20/20\n",
            "125/125 [==============================] - 1s 6ms/step - loss: 1.3702 - accuracy: 0.3272 - val_loss: 1.3840 - val_accuracy: 0.2978\n",
            "67/67 [==============================] - 0s 3ms/step - loss: 1.3795 - accuracy: 0.3080\n",
            "[1.3795326948165894, 0.3079812228679657]\n",
            "CBOW_LSTM\n"
          ],
          "name": "stdout"
        }
      ]
    },
    {
      "cell_type": "code",
      "metadata": {
        "id": "2LbGuXtNdwyB",
        "outputId": "90e2ca92-5ae1-4d2e-ed0c-4d30f1f24555",
        "colab": {
          "base_uri": "https://localhost:8080/"
        }
      },
      "source": [
        "model_cbow_bi = tf.keras.Sequential()\n",
        "model_cbow_bi.add(tf.keras.Input(shape=(Max_input_size,Embedding_size)))\n",
        "model_cbow_bi.add(tf.keras.layers.Bidirectional(tf.keras.layers.LSTM(50),merge_mode='concat'))\n",
        "model_cbow_bi.add(tf.keras.layers.Dense(4, activation='softmax'))\n",
        "model_cbow_bi.compile(loss='categorical_crossentropy',optimizer='adam', \n",
        "                           metrics=['accuracy'])\n",
        "history = model_cbow_bi.fit(X_train_cbow,y_train_cbow,epochs=20,validation_split=0.2)\n",
        "history = model_cbow_bi.evaluate(X_test_cbow,y_test_cbow)\n",
        "print(history)\n",
        "print(\"CBOW_BI\")"
      ],
      "execution_count": 18,
      "outputs": [
        {
          "output_type": "stream",
          "text": [
            "Epoch 1/20\n",
            "125/125 [==============================] - 2s 13ms/step - loss: 1.3726 - accuracy: 0.3234 - val_loss: 1.3839 - val_accuracy: 0.2978\n",
            "Epoch 2/20\n",
            "125/125 [==============================] - 1s 10ms/step - loss: 1.3709 - accuracy: 0.3272 - val_loss: 1.3844 - val_accuracy: 0.2978\n",
            "Epoch 3/20\n",
            "125/125 [==============================] - 1s 9ms/step - loss: 1.3699 - accuracy: 0.3272 - val_loss: 1.3876 - val_accuracy: 0.2978\n",
            "Epoch 4/20\n",
            "125/125 [==============================] - 1s 9ms/step - loss: 1.3702 - accuracy: 0.3272 - val_loss: 1.3848 - val_accuracy: 0.2978\n",
            "Epoch 5/20\n",
            "125/125 [==============================] - 1s 9ms/step - loss: 1.3691 - accuracy: 0.3272 - val_loss: 1.3849 - val_accuracy: 0.2978\n",
            "Epoch 6/20\n",
            "125/125 [==============================] - 1s 9ms/step - loss: 1.3686 - accuracy: 0.3272 - val_loss: 1.3833 - val_accuracy: 0.2978\n",
            "Epoch 7/20\n",
            "125/125 [==============================] - 1s 9ms/step - loss: 1.3677 - accuracy: 0.3272 - val_loss: 1.3846 - val_accuracy: 0.2978\n",
            "Epoch 8/20\n",
            "125/125 [==============================] - 1s 9ms/step - loss: 1.3655 - accuracy: 0.3287 - val_loss: 1.3813 - val_accuracy: 0.2978\n",
            "Epoch 9/20\n",
            "125/125 [==============================] - 1s 9ms/step - loss: 1.3717 - accuracy: 0.3164 - val_loss: 1.3857 - val_accuracy: 0.3068\n",
            "Epoch 10/20\n",
            "125/125 [==============================] - 1s 9ms/step - loss: 1.3638 - accuracy: 0.3277 - val_loss: 1.3772 - val_accuracy: 0.2978\n",
            "Epoch 11/20\n",
            "125/125 [==============================] - 1s 9ms/step - loss: 1.3609 - accuracy: 0.3272 - val_loss: 1.3802 - val_accuracy: 0.2978\n",
            "Epoch 12/20\n",
            "125/125 [==============================] - 1s 9ms/step - loss: 1.3578 - accuracy: 0.3307 - val_loss: 1.3733 - val_accuracy: 0.2978\n",
            "Epoch 13/20\n",
            "125/125 [==============================] - 1s 9ms/step - loss: 1.3537 - accuracy: 0.3277 - val_loss: 1.3735 - val_accuracy: 0.2978\n",
            "Epoch 14/20\n",
            "125/125 [==============================] - 1s 9ms/step - loss: 1.3452 - accuracy: 0.3375 - val_loss: 1.3635 - val_accuracy: 0.3099\n",
            "Epoch 15/20\n",
            "125/125 [==============================] - 1s 9ms/step - loss: 1.3339 - accuracy: 0.3624 - val_loss: 1.3700 - val_accuracy: 0.3199\n",
            "Epoch 16/20\n",
            "125/125 [==============================] - 1s 9ms/step - loss: 1.3485 - accuracy: 0.3476 - val_loss: 1.3636 - val_accuracy: 0.3139\n",
            "Epoch 17/20\n",
            "125/125 [==============================] - 1s 9ms/step - loss: 1.3409 - accuracy: 0.3521 - val_loss: 1.3662 - val_accuracy: 0.3129\n",
            "Epoch 18/20\n",
            "125/125 [==============================] - 1s 9ms/step - loss: 1.3318 - accuracy: 0.3551 - val_loss: 1.3592 - val_accuracy: 0.3209\n",
            "Epoch 19/20\n",
            "125/125 [==============================] - 1s 9ms/step - loss: 1.3168 - accuracy: 0.3781 - val_loss: 1.3492 - val_accuracy: 0.3410\n",
            "Epoch 20/20\n",
            "125/125 [==============================] - 1s 10ms/step - loss: 1.3060 - accuracy: 0.3806 - val_loss: 1.3570 - val_accuracy: 0.3370\n",
            "67/67 [==============================] - 0s 4ms/step - loss: 1.3462 - accuracy: 0.3399\n",
            "[1.3462328910827637, 0.33990609645843506]\n",
            "CBOW_BI\n"
          ],
          "name": "stdout"
        }
      ]
    },
    {
      "cell_type": "code",
      "metadata": {
        "id": "q-8bBfhUWfar",
        "outputId": "580a2fb4-8b08-4bf3-e57e-026281e39bc5",
        "colab": {
          "base_uri": "https://localhost:8080/"
        }
      },
      "source": [
        "model_cbow_rnn = tf.keras.Sequential()\n",
        "model_cbow_rnn.add(tf.keras.Input(shape=(Max_input_size,Embedding_size)))\n",
        "model_cbow_rnn.add(tf.keras.layers.SimpleRNN(50))\n",
        "model_cbow_rnn.add(tf.keras.layers.Dense(4, activation='softmax'))\n",
        "model_cbow_rnn.compile(loss='categorical_crossentropy',optimizer='adam', \n",
        "                           metrics=['accuracy'])\n",
        "history = model_cbow_rnn.fit(X_train_cbow,y_train_cbow,epochs=20,validation_split=0.2)\n",
        "history = model_cbow_rnn.evaluate(X_test_cbow,y_test_cbow)\n",
        "print(history)\n",
        "print(\"CBOW_RNN\")"
      ],
      "execution_count": 13,
      "outputs": [
        {
          "output_type": "stream",
          "text": [
            "Epoch 1/20\n",
            "125/125 [==============================] - 4s 32ms/step - loss: 1.3758 - accuracy: 0.3192 - val_loss: 1.3834 - val_accuracy: 0.2978\n",
            "Epoch 2/20\n",
            "125/125 [==============================] - 4s 33ms/step - loss: 1.3691 - accuracy: 0.3222 - val_loss: 1.3846 - val_accuracy: 0.2978\n",
            "Epoch 3/20\n",
            "125/125 [==============================] - 4s 31ms/step - loss: 1.3679 - accuracy: 0.3272 - val_loss: 1.3858 - val_accuracy: 0.2988\n",
            "Epoch 4/20\n",
            "125/125 [==============================] - 4s 31ms/step - loss: 1.3670 - accuracy: 0.3265 - val_loss: 1.3815 - val_accuracy: 0.2998\n",
            "Epoch 5/20\n",
            "125/125 [==============================] - 4s 30ms/step - loss: 1.3623 - accuracy: 0.3322 - val_loss: 1.4025 - val_accuracy: 0.3038\n",
            "Epoch 6/20\n",
            "125/125 [==============================] - 4s 30ms/step - loss: 1.3642 - accuracy: 0.3300 - val_loss: 1.3824 - val_accuracy: 0.2998\n",
            "Epoch 7/20\n",
            "125/125 [==============================] - 4s 30ms/step - loss: 1.3634 - accuracy: 0.3199 - val_loss: 1.3819 - val_accuracy: 0.3018\n",
            "Epoch 8/20\n",
            "125/125 [==============================] - 4s 30ms/step - loss: 1.3489 - accuracy: 0.3358 - val_loss: 1.3859 - val_accuracy: 0.3068\n",
            "Epoch 9/20\n",
            "125/125 [==============================] - 4s 33ms/step - loss: 1.3635 - accuracy: 0.3244 - val_loss: 1.3764 - val_accuracy: 0.3089\n",
            "Epoch 10/20\n",
            "125/125 [==============================] - 4s 31ms/step - loss: 1.3617 - accuracy: 0.3287 - val_loss: 1.4004 - val_accuracy: 0.2867\n",
            "Epoch 11/20\n",
            "125/125 [==============================] - 4s 31ms/step - loss: 1.3667 - accuracy: 0.3262 - val_loss: 1.3839 - val_accuracy: 0.2978\n",
            "Epoch 12/20\n",
            "125/125 [==============================] - 4s 31ms/step - loss: 1.3576 - accuracy: 0.3325 - val_loss: 1.3771 - val_accuracy: 0.3078\n",
            "Epoch 13/20\n",
            "125/125 [==============================] - 4s 30ms/step - loss: 1.3580 - accuracy: 0.3348 - val_loss: 1.3830 - val_accuracy: 0.3119\n",
            "Epoch 14/20\n",
            "125/125 [==============================] - 4s 31ms/step - loss: 1.3551 - accuracy: 0.3408 - val_loss: 1.3976 - val_accuracy: 0.2827\n",
            "Epoch 15/20\n",
            "125/125 [==============================] - 4s 30ms/step - loss: 1.3541 - accuracy: 0.3355 - val_loss: 1.4013 - val_accuracy: 0.3028\n",
            "Epoch 16/20\n",
            "125/125 [==============================] - 4s 30ms/step - loss: 1.3495 - accuracy: 0.3461 - val_loss: 1.3993 - val_accuracy: 0.2817\n",
            "Epoch 17/20\n",
            "125/125 [==============================] - 4s 31ms/step - loss: 1.3497 - accuracy: 0.3292 - val_loss: 1.4232 - val_accuracy: 0.2575\n",
            "Epoch 18/20\n",
            "125/125 [==============================] - 4s 30ms/step - loss: 1.3534 - accuracy: 0.3468 - val_loss: 1.3811 - val_accuracy: 0.3099\n",
            "Epoch 19/20\n",
            "125/125 [==============================] - 4s 30ms/step - loss: 1.3363 - accuracy: 0.3509 - val_loss: 1.3969 - val_accuracy: 0.3058\n",
            "Epoch 20/20\n",
            "125/125 [==============================] - 4s 33ms/step - loss: 1.3363 - accuracy: 0.3549 - val_loss: 1.3865 - val_accuracy: 0.2797\n",
            "67/67 [==============================] - 0s 5ms/step - loss: 1.4002 - accuracy: 0.2803\n",
            "[1.40023934841156, 0.2802816927433014]\n",
            "CBOW_RNN\n"
          ],
          "name": "stdout"
        }
      ]
    },
    {
      "cell_type": "code",
      "metadata": {
        "id": "W7bprxQWLfMI",
        "outputId": "d6ef38fb-d186-4078-b754-ef8add6438fd",
        "colab": {
          "base_uri": "https://localhost:8080/"
        }
      },
      "source": [
        "model_glove = tf.keras.Sequential()\n",
        "model_glove.add(tf.keras.Input(shape=(Max_input_size_glove,100)))\n",
        "model_glove.add(tf.keras.layers.LSTM(50))\n",
        "model_glove.add(tf.keras.layers.Dense(4, activation='softmax'))\n",
        "model_glove.compile(loss='categorical_crossentropy',optimizer='adam', \n",
        "                           metrics=['accuracy'])\n",
        "history = model_glove.fit(X_train_glove,y_train_glove,epochs=20,validation_split=0.2)\n",
        "history = model_glove.evaluate(X_test_glove,y_test_glove)\n",
        "print(history)\n",
        "print(\"GLOVE_LSTM\")"
      ],
      "execution_count": 14,
      "outputs": [
        {
          "output_type": "stream",
          "text": [
            "Epoch 1/20\n",
            "125/125 [==============================] - 1s 8ms/step - loss: 1.2846 - accuracy: 0.4088 - val_loss: 1.2409 - val_accuracy: 0.4245\n",
            "Epoch 2/20\n",
            "125/125 [==============================] - 1s 5ms/step - loss: 1.1752 - accuracy: 0.4719 - val_loss: 1.2153 - val_accuracy: 0.4256\n",
            "Epoch 3/20\n",
            "125/125 [==============================] - 1s 5ms/step - loss: 1.1139 - accuracy: 0.4873 - val_loss: 1.1992 - val_accuracy: 0.4396\n",
            "Epoch 4/20\n",
            "125/125 [==============================] - 1s 5ms/step - loss: 1.0751 - accuracy: 0.5049 - val_loss: 1.1335 - val_accuracy: 0.4497\n",
            "Epoch 5/20\n",
            "125/125 [==============================] - 1s 5ms/step - loss: 1.0191 - accuracy: 0.5243 - val_loss: 1.0479 - val_accuracy: 0.4960\n",
            "Epoch 6/20\n",
            "125/125 [==============================] - 1s 6ms/step - loss: 0.9626 - accuracy: 0.5588 - val_loss: 1.0152 - val_accuracy: 0.5221\n",
            "Epoch 7/20\n",
            "125/125 [==============================] - 1s 6ms/step - loss: 0.8879 - accuracy: 0.5995 - val_loss: 1.0043 - val_accuracy: 0.5664\n",
            "Epoch 8/20\n",
            "125/125 [==============================] - 1s 5ms/step - loss: 0.9348 - accuracy: 0.5759 - val_loss: 1.0316 - val_accuracy: 0.5322\n",
            "Epoch 9/20\n",
            "125/125 [==============================] - 1s 5ms/step - loss: 0.8265 - accuracy: 0.6328 - val_loss: 0.9837 - val_accuracy: 0.5423\n",
            "Epoch 10/20\n",
            "125/125 [==============================] - 1s 5ms/step - loss: 0.7479 - accuracy: 0.6844 - val_loss: 0.9258 - val_accuracy: 0.6177\n",
            "Epoch 11/20\n",
            "125/125 [==============================] - 1s 5ms/step - loss: 0.6881 - accuracy: 0.7153 - val_loss: 0.8606 - val_accuracy: 0.6700\n",
            "Epoch 12/20\n",
            "125/125 [==============================] - 1s 5ms/step - loss: 0.6200 - accuracy: 0.7523 - val_loss: 0.8959 - val_accuracy: 0.6630\n",
            "Epoch 13/20\n",
            "125/125 [==============================] - 1s 5ms/step - loss: 0.5754 - accuracy: 0.7861 - val_loss: 0.9148 - val_accuracy: 0.6911\n",
            "Epoch 14/20\n",
            "125/125 [==============================] - 1s 6ms/step - loss: 0.5065 - accuracy: 0.8190 - val_loss: 0.8105 - val_accuracy: 0.7052\n",
            "Epoch 15/20\n",
            "125/125 [==============================] - 1s 6ms/step - loss: 0.4453 - accuracy: 0.8467 - val_loss: 0.8181 - val_accuracy: 0.7082\n",
            "Epoch 16/20\n",
            "125/125 [==============================] - 1s 6ms/step - loss: 0.4189 - accuracy: 0.8598 - val_loss: 0.7814 - val_accuracy: 0.7455\n",
            "Epoch 17/20\n",
            "125/125 [==============================] - 1s 6ms/step - loss: 0.3788 - accuracy: 0.8709 - val_loss: 0.7691 - val_accuracy: 0.7555\n",
            "Epoch 18/20\n",
            "125/125 [==============================] - 1s 6ms/step - loss: 0.3356 - accuracy: 0.8898 - val_loss: 0.9379 - val_accuracy: 0.7304\n",
            "Epoch 19/20\n",
            "125/125 [==============================] - 1s 5ms/step - loss: 0.3426 - accuracy: 0.8837 - val_loss: 0.8497 - val_accuracy: 0.7304\n",
            "Epoch 20/20\n",
            "125/125 [==============================] - 1s 5ms/step - loss: 0.2797 - accuracy: 0.9127 - val_loss: 0.8692 - val_accuracy: 0.7515\n",
            "67/67 [==============================] - 0s 3ms/step - loss: 0.9435 - accuracy: 0.7352\n",
            "[0.9434881806373596, 0.7352112531661987]\n",
            "GLOVE_LSTM\n"
          ],
          "name": "stdout"
        }
      ]
    },
    {
      "cell_type": "code",
      "metadata": {
        "id": "otWVSDLueXTR",
        "outputId": "c846c547-c73f-43fe-c2c8-136f87dc91b3",
        "colab": {
          "base_uri": "https://localhost:8080/"
        }
      },
      "source": [
        "model_glove_bi = tf.keras.Sequential()\n",
        "model_glove_bi.add(tf.keras.Input(shape=(Max_input_size_glove,100)))\n",
        "model_glove_bi.add(tf.keras.layers.Bidirectional(tf.keras.layers.LSTM(50),merge_mode='concat'))\n",
        "model_glove_bi.add(tf.keras.layers.Dense(4, activation='softmax'))\n",
        "model_glove_bi.compile(loss='categorical_crossentropy',optimizer='adam', \n",
        "                           metrics=['accuracy'])\n",
        "history = model_glove_bi.fit(X_train_glove,y_train_glove,epochs=20,validation_split=0.2)\n",
        "history = model_glove_bi.evaluate(X_test_glove,y_test_glove)\n",
        "print(history)\n",
        "print(\"GLOVE_BI\")"
      ],
      "execution_count": 19,
      "outputs": [
        {
          "output_type": "stream",
          "text": [
            "Epoch 1/20\n",
            "125/125 [==============================] - 2s 13ms/step - loss: 1.2540 - accuracy: 0.4178 - val_loss: 1.1688 - val_accuracy: 0.4728\n",
            "Epoch 2/20\n",
            "125/125 [==============================] - 1s 9ms/step - loss: 1.0060 - accuracy: 0.5844 - val_loss: 0.9602 - val_accuracy: 0.5996\n",
            "Epoch 3/20\n",
            "125/125 [==============================] - 1s 9ms/step - loss: 0.8488 - accuracy: 0.6637 - val_loss: 0.9001 - val_accuracy: 0.6559\n",
            "Epoch 4/20\n",
            "125/125 [==============================] - 1s 9ms/step - loss: 0.7354 - accuracy: 0.7143 - val_loss: 0.8259 - val_accuracy: 0.6891\n",
            "Epoch 5/20\n",
            "125/125 [==============================] - 1s 9ms/step - loss: 0.6295 - accuracy: 0.7579 - val_loss: 0.8027 - val_accuracy: 0.6952\n",
            "Epoch 6/20\n",
            "125/125 [==============================] - 1s 9ms/step - loss: 0.5462 - accuracy: 0.7979 - val_loss: 0.7528 - val_accuracy: 0.7153\n",
            "Epoch 7/20\n",
            "125/125 [==============================] - 1s 9ms/step - loss: 0.4549 - accuracy: 0.8351 - val_loss: 0.7760 - val_accuracy: 0.7193\n",
            "Epoch 8/20\n",
            "125/125 [==============================] - 1s 9ms/step - loss: 0.3836 - accuracy: 0.8583 - val_loss: 0.7604 - val_accuracy: 0.7354\n",
            "Epoch 9/20\n",
            "125/125 [==============================] - 1s 9ms/step - loss: 0.3403 - accuracy: 0.8792 - val_loss: 0.7257 - val_accuracy: 0.7294\n",
            "Epoch 10/20\n",
            "125/125 [==============================] - 1s 9ms/step - loss: 0.2856 - accuracy: 0.8983 - val_loss: 0.7558 - val_accuracy: 0.7344\n",
            "Epoch 11/20\n",
            "125/125 [==============================] - 1s 8ms/step - loss: 0.2430 - accuracy: 0.9169 - val_loss: 0.7914 - val_accuracy: 0.7223\n",
            "Epoch 12/20\n",
            "125/125 [==============================] - 1s 9ms/step - loss: 0.1941 - accuracy: 0.9341 - val_loss: 0.8002 - val_accuracy: 0.7445\n",
            "Epoch 13/20\n",
            "125/125 [==============================] - 1s 9ms/step - loss: 0.1757 - accuracy: 0.9403 - val_loss: 0.9155 - val_accuracy: 0.7183\n",
            "Epoch 14/20\n",
            "125/125 [==============================] - 1s 9ms/step - loss: 0.1477 - accuracy: 0.9504 - val_loss: 0.8530 - val_accuracy: 0.7394\n",
            "Epoch 15/20\n",
            "125/125 [==============================] - 1s 9ms/step - loss: 0.1380 - accuracy: 0.9532 - val_loss: 0.9193 - val_accuracy: 0.7314\n",
            "Epoch 16/20\n",
            "125/125 [==============================] - 1s 9ms/step - loss: 0.1194 - accuracy: 0.9620 - val_loss: 0.9582 - val_accuracy: 0.7384\n",
            "Epoch 17/20\n",
            "125/125 [==============================] - 1s 9ms/step - loss: 0.1173 - accuracy: 0.9595 - val_loss: 0.9519 - val_accuracy: 0.7435\n",
            "Epoch 18/20\n",
            "125/125 [==============================] - 1s 9ms/step - loss: 0.0989 - accuracy: 0.9658 - val_loss: 0.9694 - val_accuracy: 0.7404\n",
            "Epoch 19/20\n",
            "125/125 [==============================] - 1s 9ms/step - loss: 0.1014 - accuracy: 0.9645 - val_loss: 0.9621 - val_accuracy: 0.7545\n",
            "Epoch 20/20\n",
            "125/125 [==============================] - 1s 9ms/step - loss: 0.0892 - accuracy: 0.9673 - val_loss: 0.9766 - val_accuracy: 0.7465\n",
            "67/67 [==============================] - 0s 4ms/step - loss: 1.0537 - accuracy: 0.7380\n",
            "[1.0537374019622803, 0.7380281686782837]\n",
            "GLOVE_BI\n"
          ],
          "name": "stdout"
        }
      ]
    },
    {
      "cell_type": "code",
      "metadata": {
        "id": "ofuAMCROUsMS",
        "outputId": "463c4648-3b7c-462f-c090-dfffcfe85b63",
        "colab": {
          "base_uri": "https://localhost:8080/"
        }
      },
      "source": [
        "model_glove_rnn = tf.keras.Sequential()\n",
        "model_glove_rnn.add(tf.keras.Input(shape=(Max_input_size_glove,100)))\n",
        "model_glove_rnn.add(tf.keras.layers.SimpleRNN(50))\n",
        "model_glove_rnn.add(tf.keras.layers.Dense(4, activation='softmax'))\n",
        "model_glove_rnn.compile(loss='categorical_crossentropy',optimizer='adam', \n",
        "                           metrics=['accuracy'])\n",
        "history = model_glove_rnn.fit(X_train_glove,y_train_glove,epochs=20,validation_split=0.2)\n",
        "history = model_glove_rnn.evaluate(X_test_glove,y_test_glove)\n",
        "print(history)\n",
        "print(\"GLOVE_RNN\")"
      ],
      "execution_count": 15,
      "outputs": [
        {
          "output_type": "stream",
          "text": [
            "Epoch 1/20\n",
            "125/125 [==============================] - 4s 31ms/step - loss: 1.3767 - accuracy: 0.3149 - val_loss: 1.3898 - val_accuracy: 0.2978\n",
            "Epoch 2/20\n",
            "125/125 [==============================] - 4s 30ms/step - loss: 1.3684 - accuracy: 0.3315 - val_loss: 1.4037 - val_accuracy: 0.2978\n",
            "Epoch 3/20\n",
            "125/125 [==============================] - 4s 32ms/step - loss: 1.3321 - accuracy: 0.3650 - val_loss: 1.2930 - val_accuracy: 0.4044\n",
            "Epoch 4/20\n",
            "125/125 [==============================] - 4s 32ms/step - loss: 1.2577 - accuracy: 0.4259 - val_loss: 1.2820 - val_accuracy: 0.3863\n",
            "Epoch 5/20\n",
            "125/125 [==============================] - 4s 30ms/step - loss: 1.2410 - accuracy: 0.4342 - val_loss: 1.2716 - val_accuracy: 0.4135\n",
            "Epoch 6/20\n",
            "125/125 [==============================] - 4s 31ms/step - loss: 1.2125 - accuracy: 0.4641 - val_loss: 1.2624 - val_accuracy: 0.4054\n",
            "Epoch 7/20\n",
            "125/125 [==============================] - 4s 30ms/step - loss: 1.2079 - accuracy: 0.4526 - val_loss: 1.2718 - val_accuracy: 0.4054\n",
            "Epoch 8/20\n",
            "125/125 [==============================] - 4s 31ms/step - loss: 1.1892 - accuracy: 0.4619 - val_loss: 1.2429 - val_accuracy: 0.4115\n",
            "Epoch 9/20\n",
            "125/125 [==============================] - 4s 31ms/step - loss: 1.1704 - accuracy: 0.4717 - val_loss: 1.3064 - val_accuracy: 0.4044\n",
            "Epoch 10/20\n",
            "125/125 [==============================] - 4s 32ms/step - loss: 1.1714 - accuracy: 0.4750 - val_loss: 1.2731 - val_accuracy: 0.4044\n",
            "Epoch 11/20\n",
            "125/125 [==============================] - 4s 30ms/step - loss: 1.1690 - accuracy: 0.4775 - val_loss: 1.2536 - val_accuracy: 0.4165\n",
            "Epoch 12/20\n",
            "125/125 [==============================] - 4s 30ms/step - loss: 1.1632 - accuracy: 0.4704 - val_loss: 1.2399 - val_accuracy: 0.4125\n",
            "Epoch 13/20\n",
            "125/125 [==============================] - 4s 32ms/step - loss: 1.2517 - accuracy: 0.4317 - val_loss: 1.3170 - val_accuracy: 0.3773\n",
            "Epoch 14/20\n",
            "125/125 [==============================] - 4s 30ms/step - loss: 1.3052 - accuracy: 0.4135 - val_loss: 1.3062 - val_accuracy: 0.3944\n",
            "Epoch 15/20\n",
            "125/125 [==============================] - 4s 30ms/step - loss: 1.2925 - accuracy: 0.4125 - val_loss: 1.3029 - val_accuracy: 0.3954\n",
            "Epoch 16/20\n",
            "125/125 [==============================] - 4s 32ms/step - loss: 1.2859 - accuracy: 0.4208 - val_loss: 1.3083 - val_accuracy: 0.3944\n",
            "Epoch 17/20\n",
            "125/125 [==============================] - 4s 30ms/step - loss: 1.2875 - accuracy: 0.4239 - val_loss: 1.3103 - val_accuracy: 0.3944\n",
            "Epoch 18/20\n",
            "125/125 [==============================] - 4s 30ms/step - loss: 1.2868 - accuracy: 0.4239 - val_loss: 1.3049 - val_accuracy: 0.3944\n",
            "Epoch 19/20\n",
            "125/125 [==============================] - 4s 30ms/step - loss: 1.2841 - accuracy: 0.4256 - val_loss: 1.3112 - val_accuracy: 0.3944\n",
            "Epoch 20/20\n",
            "125/125 [==============================] - 4s 30ms/step - loss: 1.2835 - accuracy: 0.4264 - val_loss: 1.3138 - val_accuracy: 0.3924\n",
            "67/67 [==============================] - 0s 5ms/step - loss: 1.3204 - accuracy: 0.3859\n",
            "[1.3204189538955688, 0.38591548800468445]\n",
            "GLOVE_RNN\n"
          ],
          "name": "stdout"
        }
      ]
    }
  ]
}